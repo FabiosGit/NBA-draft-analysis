{
 "cells": [
  {
   "cell_type": "code",
   "execution_count": 1,
   "metadata": {},
   "outputs": [
    {
     "data": {
      "text/html": [
       "<div>\n",
       "<style scoped>\n",
       "    .dataframe tbody tr th:only-of-type {\n",
       "        vertical-align: middle;\n",
       "    }\n",
       "\n",
       "    .dataframe tbody tr th {\n",
       "        vertical-align: top;\n",
       "    }\n",
       "\n",
       "    .dataframe thead tr th {\n",
       "        text-align: left;\n",
       "    }\n",
       "</style>\n",
       "<table border=\"1\" class=\"dataframe\">\n",
       "  <thead>\n",
       "    <tr>\n",
       "      <th>Career</th>\n",
       "      <th colspan=\"10\" halign=\"left\">Career</th>\n",
       "      <th>...</th>\n",
       "      <th>2021-22</th>\n",
       "      <th colspan=\"9\" halign=\"left\">2022-23</th>\n",
       "    </tr>\n",
       "    <tr>\n",
       "      <th>Player ID</th>\n",
       "      <th>Season</th>\n",
       "      <th>Pk</th>\n",
       "      <th>Tm</th>\n",
       "      <th>Player</th>\n",
       "      <th>College</th>\n",
       "      <th>Yrs</th>\n",
       "      <th>G</th>\n",
       "      <th>MP</th>\n",
       "      <th>PTS</th>\n",
       "      <th>TRB</th>\n",
       "      <th>...</th>\n",
       "      <th>TEAM_ID</th>\n",
       "      <th>AGE</th>\n",
       "      <th>DEF_RATING</th>\n",
       "      <th>GP</th>\n",
       "      <th>MIN</th>\n",
       "      <th>NET_RATING</th>\n",
       "      <th>OFF_RATING</th>\n",
       "      <th>PIE</th>\n",
       "      <th>TEAM_ABBREVIATION</th>\n",
       "      <th>TEAM_ID</th>\n",
       "    </tr>\n",
       "  </thead>\n",
       "  <tbody>\n",
       "    <tr>\n",
       "      <th>947.0</th>\n",
       "      <td>1996</td>\n",
       "      <td>1</td>\n",
       "      <td>PHI</td>\n",
       "      <td>Allen Iverson</td>\n",
       "      <td>Georgetown</td>\n",
       "      <td>14.0</td>\n",
       "      <td>914.0</td>\n",
       "      <td>37584.0</td>\n",
       "      <td>24368.0</td>\n",
       "      <td>3394.0</td>\n",
       "      <td>...</td>\n",
       "      <td>NaN</td>\n",
       "      <td>NaN</td>\n",
       "      <td>NaN</td>\n",
       "      <td>NaN</td>\n",
       "      <td>NaN</td>\n",
       "      <td>NaN</td>\n",
       "      <td>NaN</td>\n",
       "      <td>NaN</td>\n",
       "      <td>0</td>\n",
       "      <td>NaN</td>\n",
       "    </tr>\n",
       "    <tr>\n",
       "      <th>948.0</th>\n",
       "      <td>1996</td>\n",
       "      <td>2</td>\n",
       "      <td>TOR</td>\n",
       "      <td>Marcus Camby</td>\n",
       "      <td>UMass</td>\n",
       "      <td>17.0</td>\n",
       "      <td>973.0</td>\n",
       "      <td>28684.0</td>\n",
       "      <td>9262.0</td>\n",
       "      <td>9513.0</td>\n",
       "      <td>...</td>\n",
       "      <td>NaN</td>\n",
       "      <td>NaN</td>\n",
       "      <td>NaN</td>\n",
       "      <td>NaN</td>\n",
       "      <td>NaN</td>\n",
       "      <td>NaN</td>\n",
       "      <td>NaN</td>\n",
       "      <td>NaN</td>\n",
       "      <td>0</td>\n",
       "      <td>NaN</td>\n",
       "    </tr>\n",
       "    <tr>\n",
       "      <th>949.0</th>\n",
       "      <td>1996</td>\n",
       "      <td>3</td>\n",
       "      <td>VAN</td>\n",
       "      <td>Shareef Abdur-Rahim</td>\n",
       "      <td>California</td>\n",
       "      <td>12.0</td>\n",
       "      <td>830.0</td>\n",
       "      <td>28882.0</td>\n",
       "      <td>15028.0</td>\n",
       "      <td>6239.0</td>\n",
       "      <td>...</td>\n",
       "      <td>NaN</td>\n",
       "      <td>NaN</td>\n",
       "      <td>NaN</td>\n",
       "      <td>NaN</td>\n",
       "      <td>NaN</td>\n",
       "      <td>NaN</td>\n",
       "      <td>NaN</td>\n",
       "      <td>NaN</td>\n",
       "      <td>0</td>\n",
       "      <td>NaN</td>\n",
       "    </tr>\n",
       "    <tr>\n",
       "      <th>950.0</th>\n",
       "      <td>1996</td>\n",
       "      <td>4</td>\n",
       "      <td>MIL</td>\n",
       "      <td>Stephon Marbury</td>\n",
       "      <td>Georgia Tech</td>\n",
       "      <td>13.0</td>\n",
       "      <td>846.0</td>\n",
       "      <td>31891.0</td>\n",
       "      <td>16297.0</td>\n",
       "      <td>2516.0</td>\n",
       "      <td>...</td>\n",
       "      <td>NaN</td>\n",
       "      <td>NaN</td>\n",
       "      <td>NaN</td>\n",
       "      <td>NaN</td>\n",
       "      <td>NaN</td>\n",
       "      <td>NaN</td>\n",
       "      <td>NaN</td>\n",
       "      <td>NaN</td>\n",
       "      <td>0</td>\n",
       "      <td>NaN</td>\n",
       "    </tr>\n",
       "    <tr>\n",
       "      <th>951.0</th>\n",
       "      <td>1996</td>\n",
       "      <td>5</td>\n",
       "      <td>MIN</td>\n",
       "      <td>Ray Allen</td>\n",
       "      <td>UConn</td>\n",
       "      <td>18.0</td>\n",
       "      <td>1300.0</td>\n",
       "      <td>46344.0</td>\n",
       "      <td>24505.0</td>\n",
       "      <td>5272.0</td>\n",
       "      <td>...</td>\n",
       "      <td>NaN</td>\n",
       "      <td>NaN</td>\n",
       "      <td>NaN</td>\n",
       "      <td>NaN</td>\n",
       "      <td>NaN</td>\n",
       "      <td>NaN</td>\n",
       "      <td>NaN</td>\n",
       "      <td>NaN</td>\n",
       "      <td>0</td>\n",
       "      <td>NaN</td>\n",
       "    </tr>\n",
       "  </tbody>\n",
       "</table>\n",
       "<p>5 rows × 265 columns</p>\n",
       "</div>"
      ],
      "text/plain": [
       "Career    Career                                                           \\\n",
       "Player ID Season Pk   Tm               Player       College   Yrs       G   \n",
       "947.0       1996  1  PHI        Allen Iverson    Georgetown  14.0   914.0   \n",
       "948.0       1996  2  TOR         Marcus Camby         UMass  17.0   973.0   \n",
       "949.0       1996  3  VAN  Shareef Abdur-Rahim    California  12.0   830.0   \n",
       "950.0       1996  4  MIL      Stephon Marbury  Georgia Tech  13.0   846.0   \n",
       "951.0       1996  5  MIN            Ray Allen         UConn  18.0  1300.0   \n",
       "\n",
       "Career                               ... 2021-22 2022-23                     \\\n",
       "Player ID       MP      PTS     TRB  ... TEAM_ID     AGE DEF_RATING  GP MIN   \n",
       "947.0      37584.0  24368.0  3394.0  ...     NaN     NaN        NaN NaN NaN   \n",
       "948.0      28684.0   9262.0  9513.0  ...     NaN     NaN        NaN NaN NaN   \n",
       "949.0      28882.0  15028.0  6239.0  ...     NaN     NaN        NaN NaN NaN   \n",
       "950.0      31891.0  16297.0  2516.0  ...     NaN     NaN        NaN NaN NaN   \n",
       "951.0      46344.0  24505.0  5272.0  ...     NaN     NaN        NaN NaN NaN   \n",
       "\n",
       "Career                                                         \n",
       "Player ID NET_RATING OFF_RATING PIE TEAM_ABBREVIATION TEAM_ID  \n",
       "947.0            NaN        NaN NaN                 0     NaN  \n",
       "948.0            NaN        NaN NaN                 0     NaN  \n",
       "949.0            NaN        NaN NaN                 0     NaN  \n",
       "950.0            NaN        NaN NaN                 0     NaN  \n",
       "951.0            NaN        NaN NaN                 0     NaN  \n",
       "\n",
       "[5 rows x 265 columns]"
      ]
     },
     "execution_count": 1,
     "metadata": {},
     "output_type": "execute_result"
    }
   ],
   "source": [
    "import pandas as pd\n",
    "import numpy as np\n",
    "\n",
    "# Read in the data with the first two lines as a multi-index and the 'Player ID' column as the index\n",
    "df = pd.read_csv('./interim/nba_draft_data_combined.csv', header=[0,1], index_col=0)\n",
    "\n",
    "# replace all 0s with NaNs\n",
    "df = df.replace(0, np.nan)\n",
    "\n",
    "df.head()"
   ]
  },
  {
   "cell_type": "code",
   "execution_count": 2,
   "metadata": {},
   "outputs": [],
   "source": [
    "# Get the position of the last career column\n",
    "position_to_insert = len(df['Career'].columns)\n",
    "# Get the list of columns to insert\n",
    "columns_to_insert = [('Career', 'OFF_RATING'), ('Career', 'DEF_RATING'), ('Career', 'NET_RATING'), ('Career', 'PIE')]\n",
    "\n",
    "# Insert multiple columns with NaN values\n",
    "for col in columns_to_insert:\n",
    "    df.insert(loc=position_to_insert, column=col, value=np.nan)"
   ]
  },
  {
   "cell_type": "code",
   "execution_count": 3,
   "metadata": {},
   "outputs": [
    {
     "name": "stderr",
     "output_type": "stream",
     "text": [
      "/var/folders/zb/fj1ym99j70b38snb8v3_0g580000gn/T/ipykernel_13750/1738369481.py:15: PerformanceWarning: DataFrame is highly fragmented.  This is usually the result of calling `frame.insert` many times, which has poor performance.  Consider joining all columns at once using pd.concat(axis=1) instead. To get a de-fragmented frame, use `newframe = frame.copy()`\n",
      "  df.insert(loc=position_to_insert, column=(season, 'DEF_RATING_weighted'), value=np.nan)\n",
      "/var/folders/zb/fj1ym99j70b38snb8v3_0g580000gn/T/ipykernel_13750/1738369481.py:19: PerformanceWarning: DataFrame is highly fragmented.  This is usually the result of calling `frame.insert` many times, which has poor performance.  Consider joining all columns at once using pd.concat(axis=1) instead. To get a de-fragmented frame, use `newframe = frame.copy()`\n",
      "  df.insert(loc=position_to_insert, column=(season, 'NET_RATING_weighted'), value=np.nan)\n",
      "/var/folders/zb/fj1ym99j70b38snb8v3_0g580000gn/T/ipykernel_13750/1738369481.py:23: PerformanceWarning: DataFrame is highly fragmented.  This is usually the result of calling `frame.insert` many times, which has poor performance.  Consider joining all columns at once using pd.concat(axis=1) instead. To get a de-fragmented frame, use `newframe = frame.copy()`\n",
      "  df.insert(loc=position_to_insert, column=(season, 'PIE_weighted'), value=np.nan)\n",
      "/var/folders/zb/fj1ym99j70b38snb8v3_0g580000gn/T/ipykernel_13750/1738369481.py:10: PerformanceWarning: DataFrame is highly fragmented.  This is usually the result of calling `frame.insert` many times, which has poor performance.  Consider joining all columns at once using pd.concat(axis=1) instead. To get a de-fragmented frame, use `newframe = frame.copy()`\n",
      "  df.insert(loc=position_to_insert, column=(season, 'OFF_RATING_weighted'), value=np.nan)\n"
     ]
    }
   ],
   "source": [
    "# create list with all seasons between 1996-97 and 2022-23\n",
    "seasons = []\n",
    "for i in range(1996, 2023):\n",
    "    seasons.append(str(i) + '-' + str(i+1)[2:])\n",
    "\n",
    "# for each season, insert a new column with the product of 'GP' and 'OFF_RATING'\n",
    "for season in seasons:\n",
    "    # find the (season, 'OFF_RATING') column as the position to insert the new column\n",
    "    position_to_insert = df.columns.get_loc((season, 'OFF_RATING'))\n",
    "    df.insert(loc=position_to_insert, column=(season, 'OFF_RATING_weighted'), value=np.nan)\n",
    "    # fill the new column with the product of (season,'GP') and (season,'OFF_RATING')\n",
    "    df[(season, 'OFF_RATING_weighted')] = df[(season, 'GP')] * df[(season, 'OFF_RATING')]\n",
    "    \n",
    "    position_to_insert = df.columns.get_loc((season, 'DEF_RATING'))\n",
    "    df.insert(loc=position_to_insert, column=(season, 'DEF_RATING_weighted'), value=np.nan)\n",
    "    df[(season, 'DEF_RATING_weighted')] = df[(season, 'GP')] * df[(season, 'DEF_RATING')]\n",
    "    \n",
    "    position_to_insert = df.columns.get_loc((season, 'NET_RATING'))\n",
    "    df.insert(loc=position_to_insert, column=(season, 'NET_RATING_weighted'), value=np.nan)\n",
    "    df[(season, 'NET_RATING_weighted')] = df[(season, 'GP')] * df[(season, 'NET_RATING')]\n",
    "    \n",
    "    position_to_insert = df.columns.get_loc((season, 'PIE'))\n",
    "    df.insert(loc=position_to_insert, column=(season, 'PIE_weighted'), value=np.nan)\n",
    "    df[(season, 'PIE_weighted')] = df[(season, 'GP')] * df[(season, 'PIE')]"
   ]
  },
  {
   "cell_type": "code",
   "execution_count": 4,
   "metadata": {},
   "outputs": [],
   "source": [
    "# in the ('Career', rating) column, fill the NaNs with the sum of the weighted columns divided by the ('Career', 'G') column\n",
    "df[('Career', 'OFF_RATING')] = df.filter(regex='OFF_RATING_weighted').sum(axis=1) / df[('Career', 'G')]\n",
    "df[('Career', 'DEF_RATING')] = df.filter(regex='DEF_RATING_weighted').sum(axis=1) / df[('Career', 'G')]\n",
    "df[('Career', 'NET_RATING')] = df.filter(regex='NET_RATING_weighted').sum(axis=1) / df[('Career', 'G')]\n",
    "df[('Career', 'PIE')] = df.filter(regex='PIE_weighted').sum(axis=1) / df[('Career', 'G')]\n",
    "# drop the weighted columns\n",
    "df = df.drop(df.filter(regex='_weighted').columns, axis=1)"
   ]
  },
  {
   "cell_type": "code",
   "execution_count": 5,
   "metadata": {},
   "outputs": [
    {
     "data": {
      "text/html": [
       "<div>\n",
       "<style scoped>\n",
       "    .dataframe tbody tr th:only-of-type {\n",
       "        vertical-align: middle;\n",
       "    }\n",
       "\n",
       "    .dataframe tbody tr th {\n",
       "        vertical-align: top;\n",
       "    }\n",
       "\n",
       "    .dataframe thead th {\n",
       "        text-align: right;\n",
       "    }\n",
       "</style>\n",
       "<table border=\"1\" class=\"dataframe\">\n",
       "  <thead>\n",
       "    <tr style=\"text-align: right;\">\n",
       "      <th>Player ID</th>\n",
       "      <th>Season</th>\n",
       "      <th>Pk</th>\n",
       "      <th>Tm</th>\n",
       "      <th>Player</th>\n",
       "      <th>College</th>\n",
       "      <th>Yrs</th>\n",
       "      <th>G</th>\n",
       "      <th>MP</th>\n",
       "      <th>PTS</th>\n",
       "      <th>TRB</th>\n",
       "      <th>...</th>\n",
       "      <th>TRB.1</th>\n",
       "      <th>AST.1</th>\n",
       "      <th>WS</th>\n",
       "      <th>WS/48</th>\n",
       "      <th>BPM</th>\n",
       "      <th>VORP</th>\n",
       "      <th>PIE</th>\n",
       "      <th>NET_RATING</th>\n",
       "      <th>DEF_RATING</th>\n",
       "      <th>OFF_RATING</th>\n",
       "    </tr>\n",
       "  </thead>\n",
       "  <tbody>\n",
       "    <tr>\n",
       "      <th>947.0</th>\n",
       "      <td>1996</td>\n",
       "      <td>1</td>\n",
       "      <td>PHI</td>\n",
       "      <td>Allen Iverson</td>\n",
       "      <td>Georgetown</td>\n",
       "      <td>14.0</td>\n",
       "      <td>914.0</td>\n",
       "      <td>37584.0</td>\n",
       "      <td>24368.0</td>\n",
       "      <td>3394.0</td>\n",
       "      <td>...</td>\n",
       "      <td>3.7</td>\n",
       "      <td>6.2</td>\n",
       "      <td>99.0</td>\n",
       "      <td>0.126</td>\n",
       "      <td>3.2</td>\n",
       "      <td>49.6</td>\n",
       "      <td>0.136685</td>\n",
       "      <td>0.846389</td>\n",
       "      <td>102.536105</td>\n",
       "      <td>103.373742</td>\n",
       "    </tr>\n",
       "    <tr>\n",
       "      <th>948.0</th>\n",
       "      <td>1996</td>\n",
       "      <td>2</td>\n",
       "      <td>TOR</td>\n",
       "      <td>Marcus Camby</td>\n",
       "      <td>UMass</td>\n",
       "      <td>17.0</td>\n",
       "      <td>973.0</td>\n",
       "      <td>28684.0</td>\n",
       "      <td>9262.0</td>\n",
       "      <td>9513.0</td>\n",
       "      <td>...</td>\n",
       "      <td>9.8</td>\n",
       "      <td>1.9</td>\n",
       "      <td>81.6</td>\n",
       "      <td>0.137</td>\n",
       "      <td>2.3</td>\n",
       "      <td>31.3</td>\n",
       "      <td>0.126784</td>\n",
       "      <td>0.228571</td>\n",
       "      <td>102.740699</td>\n",
       "      <td>102.970298</td>\n",
       "    </tr>\n",
       "    <tr>\n",
       "      <th>949.0</th>\n",
       "      <td>1996</td>\n",
       "      <td>3</td>\n",
       "      <td>VAN</td>\n",
       "      <td>Shareef Abdur-Rahim</td>\n",
       "      <td>California</td>\n",
       "      <td>12.0</td>\n",
       "      <td>830.0</td>\n",
       "      <td>28882.0</td>\n",
       "      <td>15028.0</td>\n",
       "      <td>6239.0</td>\n",
       "      <td>...</td>\n",
       "      <td>7.5</td>\n",
       "      <td>2.5</td>\n",
       "      <td>71.2</td>\n",
       "      <td>0.118</td>\n",
       "      <td>1.0</td>\n",
       "      <td>21.9</td>\n",
       "      <td>0.125880</td>\n",
       "      <td>-5.022892</td>\n",
       "      <td>105.843614</td>\n",
       "      <td>100.801928</td>\n",
       "    </tr>\n",
       "    <tr>\n",
       "      <th>950.0</th>\n",
       "      <td>1996</td>\n",
       "      <td>4</td>\n",
       "      <td>MIL</td>\n",
       "      <td>Stephon Marbury</td>\n",
       "      <td>Georgia Tech</td>\n",
       "      <td>13.0</td>\n",
       "      <td>846.0</td>\n",
       "      <td>31891.0</td>\n",
       "      <td>16297.0</td>\n",
       "      <td>2516.0</td>\n",
       "      <td>...</td>\n",
       "      <td>3.0</td>\n",
       "      <td>7.6</td>\n",
       "      <td>77.5</td>\n",
       "      <td>0.117</td>\n",
       "      <td>1.8</td>\n",
       "      <td>30.7</td>\n",
       "      <td>0.123372</td>\n",
       "      <td>-1.780615</td>\n",
       "      <td>105.290426</td>\n",
       "      <td>103.501064</td>\n",
       "    </tr>\n",
       "    <tr>\n",
       "      <th>951.0</th>\n",
       "      <td>1996</td>\n",
       "      <td>5</td>\n",
       "      <td>MIN</td>\n",
       "      <td>Ray Allen</td>\n",
       "      <td>UConn</td>\n",
       "      <td>18.0</td>\n",
       "      <td>1300.0</td>\n",
       "      <td>46344.0</td>\n",
       "      <td>24505.0</td>\n",
       "      <td>5272.0</td>\n",
       "      <td>...</td>\n",
       "      <td>4.1</td>\n",
       "      <td>3.4</td>\n",
       "      <td>145.1</td>\n",
       "      <td>0.150</td>\n",
       "      <td>2.9</td>\n",
       "      <td>57.6</td>\n",
       "      <td>0.119475</td>\n",
       "      <td>3.884615</td>\n",
       "      <td>104.047000</td>\n",
       "      <td>107.940000</td>\n",
       "    </tr>\n",
       "    <tr>\n",
       "      <th>952.0</th>\n",
       "      <td>1996</td>\n",
       "      <td>6</td>\n",
       "      <td>BOS</td>\n",
       "      <td>Antoine Walker</td>\n",
       "      <td>Kentucky</td>\n",
       "      <td>12.0</td>\n",
       "      <td>893.0</td>\n",
       "      <td>31531.0</td>\n",
       "      <td>15647.0</td>\n",
       "      <td>6891.0</td>\n",
       "      <td>...</td>\n",
       "      <td>7.7</td>\n",
       "      <td>3.5</td>\n",
       "      <td>38.1</td>\n",
       "      <td>0.058</td>\n",
       "      <td>0.3</td>\n",
       "      <td>18.0</td>\n",
       "      <td>0.106725</td>\n",
       "      <td>-2.122172</td>\n",
       "      <td>104.507055</td>\n",
       "      <td>102.397984</td>\n",
       "    </tr>\n",
       "    <tr>\n",
       "      <th>953.0</th>\n",
       "      <td>1996</td>\n",
       "      <td>7</td>\n",
       "      <td>LAC</td>\n",
       "      <td>Lorenzen Wright</td>\n",
       "      <td>Memphis</td>\n",
       "      <td>13.0</td>\n",
       "      <td>778.0</td>\n",
       "      <td>18535.0</td>\n",
       "      <td>6191.0</td>\n",
       "      <td>4943.0</td>\n",
       "      <td>...</td>\n",
       "      <td>6.4</td>\n",
       "      <td>0.8</td>\n",
       "      <td>30.5</td>\n",
       "      <td>0.079</td>\n",
       "      <td>-2.6</td>\n",
       "      <td>-3.0</td>\n",
       "      <td>0.079762</td>\n",
       "      <td>-3.612725</td>\n",
       "      <td>102.883676</td>\n",
       "      <td>99.275450</td>\n",
       "    </tr>\n",
       "    <tr>\n",
       "      <th>954.0</th>\n",
       "      <td>1996</td>\n",
       "      <td>8</td>\n",
       "      <td>NJN</td>\n",
       "      <td>Kerry Kittles</td>\n",
       "      <td>Villanova</td>\n",
       "      <td>8.0</td>\n",
       "      <td>507.0</td>\n",
       "      <td>16929.0</td>\n",
       "      <td>7165.0</td>\n",
       "      <td>1983.0</td>\n",
       "      <td>...</td>\n",
       "      <td>3.9</td>\n",
       "      <td>2.6</td>\n",
       "      <td>44.8</td>\n",
       "      <td>0.127</td>\n",
       "      <td>2.2</td>\n",
       "      <td>18.0</td>\n",
       "      <td>0.106501</td>\n",
       "      <td>1.059763</td>\n",
       "      <td>100.949901</td>\n",
       "      <td>101.997436</td>\n",
       "    </tr>\n",
       "    <tr>\n",
       "      <th>955.0</th>\n",
       "      <td>1996</td>\n",
       "      <td>9</td>\n",
       "      <td>DAL</td>\n",
       "      <td>Samaki Walker</td>\n",
       "      <td>Louisville</td>\n",
       "      <td>10.0</td>\n",
       "      <td>445.0</td>\n",
       "      <td>7612.0</td>\n",
       "      <td>2376.0</td>\n",
       "      <td>2089.0</td>\n",
       "      <td>...</td>\n",
       "      <td>4.7</td>\n",
       "      <td>0.6</td>\n",
       "      <td>14.2</td>\n",
       "      <td>0.089</td>\n",
       "      <td>-2.6</td>\n",
       "      <td>-1.1</td>\n",
       "      <td>0.079793</td>\n",
       "      <td>-4.483371</td>\n",
       "      <td>101.874607</td>\n",
       "      <td>97.406517</td>\n",
       "    </tr>\n",
       "    <tr>\n",
       "      <th>956.0</th>\n",
       "      <td>1996</td>\n",
       "      <td>10</td>\n",
       "      <td>IND</td>\n",
       "      <td>Erick Dampier</td>\n",
       "      <td>Mississippi State</td>\n",
       "      <td>16.0</td>\n",
       "      <td>987.0</td>\n",
       "      <td>24003.0</td>\n",
       "      <td>7309.0</td>\n",
       "      <td>7005.0</td>\n",
       "      <td>...</td>\n",
       "      <td>7.1</td>\n",
       "      <td>0.8</td>\n",
       "      <td>52.7</td>\n",
       "      <td>0.105</td>\n",
       "      <td>-1.3</td>\n",
       "      <td>4.1</td>\n",
       "      <td>0.082994</td>\n",
       "      <td>0.622594</td>\n",
       "      <td>102.671530</td>\n",
       "      <td>103.291084</td>\n",
       "    </tr>\n",
       "    <tr>\n",
       "      <th>957.0</th>\n",
       "      <td>1996</td>\n",
       "      <td>11</td>\n",
       "      <td>GSW</td>\n",
       "      <td>Todd Fuller</td>\n",
       "      <td>NC State</td>\n",
       "      <td>5.0</td>\n",
       "      <td>225.0</td>\n",
       "      <td>2500.0</td>\n",
       "      <td>835.0</td>\n",
       "      <td>674.0</td>\n",
       "      <td>...</td>\n",
       "      <td>3.0</td>\n",
       "      <td>0.2</td>\n",
       "      <td>2.2</td>\n",
       "      <td>0.041</td>\n",
       "      <td>-5.7</td>\n",
       "      <td>-2.3</td>\n",
       "      <td>0.060902</td>\n",
       "      <td>-3.978222</td>\n",
       "      <td>100.532444</td>\n",
       "      <td>96.572444</td>\n",
       "    </tr>\n",
       "    <tr>\n",
       "      <th>958.0</th>\n",
       "      <td>1996</td>\n",
       "      <td>12</td>\n",
       "      <td>CLE</td>\n",
       "      <td>Vitaly Potapenko</td>\n",
       "      <td>Wright State University</td>\n",
       "      <td>11.0</td>\n",
       "      <td>610.0</td>\n",
       "      <td>11608.0</td>\n",
       "      <td>3995.0</td>\n",
       "      <td>2725.0</td>\n",
       "      <td>...</td>\n",
       "      <td>4.5</td>\n",
       "      <td>0.7</td>\n",
       "      <td>15.5</td>\n",
       "      <td>0.064</td>\n",
       "      <td>-4.0</td>\n",
       "      <td>-5.9</td>\n",
       "      <td>0.068572</td>\n",
       "      <td>-1.756066</td>\n",
       "      <td>100.802459</td>\n",
       "      <td>99.049344</td>\n",
       "    </tr>\n",
       "    <tr>\n",
       "      <th>977.0</th>\n",
       "      <td>1996</td>\n",
       "      <td>13</td>\n",
       "      <td>CHH</td>\n",
       "      <td>Kobe Bryant</td>\n",
       "      <td>NaN</td>\n",
       "      <td>20.0</td>\n",
       "      <td>1346.0</td>\n",
       "      <td>48637.0</td>\n",
       "      <td>33643.0</td>\n",
       "      <td>7047.0</td>\n",
       "      <td>...</td>\n",
       "      <td>5.2</td>\n",
       "      <td>4.7</td>\n",
       "      <td>172.7</td>\n",
       "      <td>0.170</td>\n",
       "      <td>4.6</td>\n",
       "      <td>80.1</td>\n",
       "      <td>0.147353</td>\n",
       "      <td>3.856909</td>\n",
       "      <td>104.002377</td>\n",
       "      <td>107.856018</td>\n",
       "    </tr>\n",
       "    <tr>\n",
       "      <th>978.0</th>\n",
       "      <td>1996</td>\n",
       "      <td>14</td>\n",
       "      <td>SAC</td>\n",
       "      <td>Peja Stojaković</td>\n",
       "      <td>NaN</td>\n",
       "      <td>13.0</td>\n",
       "      <td>804.0</td>\n",
       "      <td>26966.0</td>\n",
       "      <td>13647.0</td>\n",
       "      <td>3782.0</td>\n",
       "      <td>...</td>\n",
       "      <td>4.7</td>\n",
       "      <td>1.8</td>\n",
       "      <td>82.6</td>\n",
       "      <td>0.147</td>\n",
       "      <td>1.9</td>\n",
       "      <td>26.2</td>\n",
       "      <td>0.109571</td>\n",
       "      <td>4.868657</td>\n",
       "      <td>102.800622</td>\n",
       "      <td>107.674005</td>\n",
       "    </tr>\n",
       "    <tr>\n",
       "      <th>959.0</th>\n",
       "      <td>1996</td>\n",
       "      <td>15</td>\n",
       "      <td>PHO</td>\n",
       "      <td>Steve Nash</td>\n",
       "      <td>Santa Clara</td>\n",
       "      <td>18.0</td>\n",
       "      <td>1217.0</td>\n",
       "      <td>38069.0</td>\n",
       "      <td>17387.0</td>\n",
       "      <td>3642.0</td>\n",
       "      <td>...</td>\n",
       "      <td>3.0</td>\n",
       "      <td>8.5</td>\n",
       "      <td>129.7</td>\n",
       "      <td>0.164</td>\n",
       "      <td>3.0</td>\n",
       "      <td>48.2</td>\n",
       "      <td>0.133380</td>\n",
       "      <td>5.888496</td>\n",
       "      <td>105.084552</td>\n",
       "      <td>110.968529</td>\n",
       "    </tr>\n",
       "    <tr>\n",
       "      <th>960.0</th>\n",
       "      <td>1996</td>\n",
       "      <td>16</td>\n",
       "      <td>CHH</td>\n",
       "      <td>Tony Delk</td>\n",
       "      <td>Kentucky</td>\n",
       "      <td>10.0</td>\n",
       "      <td>545.0</td>\n",
       "      <td>11702.0</td>\n",
       "      <td>4957.0</td>\n",
       "      <td>1351.0</td>\n",
       "      <td>...</td>\n",
       "      <td>2.5</td>\n",
       "      <td>1.9</td>\n",
       "      <td>19.5</td>\n",
       "      <td>0.080</td>\n",
       "      <td>-0.4</td>\n",
       "      <td>4.8</td>\n",
       "      <td>0.089996</td>\n",
       "      <td>-1.670092</td>\n",
       "      <td>101.503853</td>\n",
       "      <td>99.820183</td>\n",
       "    </tr>\n",
       "    <tr>\n",
       "      <th>979.0</th>\n",
       "      <td>1996</td>\n",
       "      <td>17</td>\n",
       "      <td>POR</td>\n",
       "      <td>Jermaine O'Neal</td>\n",
       "      <td>NaN</td>\n",
       "      <td>18.0</td>\n",
       "      <td>1011.0</td>\n",
       "      <td>27364.0</td>\n",
       "      <td>13309.0</td>\n",
       "      <td>7261.0</td>\n",
       "      <td>...</td>\n",
       "      <td>7.2</td>\n",
       "      <td>1.4</td>\n",
       "      <td>66.0</td>\n",
       "      <td>0.116</td>\n",
       "      <td>0.3</td>\n",
       "      <td>15.6</td>\n",
       "      <td>0.115348</td>\n",
       "      <td>1.216617</td>\n",
       "      <td>100.218200</td>\n",
       "      <td>101.445895</td>\n",
       "    </tr>\n",
       "    <tr>\n",
       "      <th>961.0</th>\n",
       "      <td>1996</td>\n",
       "      <td>18</td>\n",
       "      <td>NYK</td>\n",
       "      <td>John Wallace</td>\n",
       "      <td>Syracuse</td>\n",
       "      <td>7.0</td>\n",
       "      <td>381.0</td>\n",
       "      <td>6143.0</td>\n",
       "      <td>2901.0</td>\n",
       "      <td>1061.0</td>\n",
       "      <td>...</td>\n",
       "      <td>2.8</td>\n",
       "      <td>0.7</td>\n",
       "      <td>6.4</td>\n",
       "      <td>0.050</td>\n",
       "      <td>-2.7</td>\n",
       "      <td>-1.0</td>\n",
       "      <td>0.084559</td>\n",
       "      <td>-5.524409</td>\n",
       "      <td>102.200787</td>\n",
       "      <td>96.650131</td>\n",
       "    </tr>\n",
       "    <tr>\n",
       "      <th>962.0</th>\n",
       "      <td>1996</td>\n",
       "      <td>19</td>\n",
       "      <td>NYK</td>\n",
       "      <td>Walter McCarty</td>\n",
       "      <td>Kentucky</td>\n",
       "      <td>10.0</td>\n",
       "      <td>593.0</td>\n",
       "      <td>10374.0</td>\n",
       "      <td>3056.0</td>\n",
       "      <td>1554.0</td>\n",
       "      <td>...</td>\n",
       "      <td>2.6</td>\n",
       "      <td>1.1</td>\n",
       "      <td>13.7</td>\n",
       "      <td>0.064</td>\n",
       "      <td>-1.7</td>\n",
       "      <td>0.8</td>\n",
       "      <td>0.055843</td>\n",
       "      <td>-1.825295</td>\n",
       "      <td>99.533052</td>\n",
       "      <td>97.688027</td>\n",
       "    </tr>\n",
       "    <tr>\n",
       "      <th>980.0</th>\n",
       "      <td>1996</td>\n",
       "      <td>20</td>\n",
       "      <td>CLE</td>\n",
       "      <td>Zydrunas Ilgauskas</td>\n",
       "      <td>NaN</td>\n",
       "      <td>13.0</td>\n",
       "      <td>843.0</td>\n",
       "      <td>22965.0</td>\n",
       "      <td>10976.0</td>\n",
       "      <td>6191.0</td>\n",
       "      <td>...</td>\n",
       "      <td>7.3</td>\n",
       "      <td>1.1</td>\n",
       "      <td>66.3</td>\n",
       "      <td>0.139</td>\n",
       "      <td>-0.2</td>\n",
       "      <td>10.2</td>\n",
       "      <td>0.110667</td>\n",
       "      <td>2.878055</td>\n",
       "      <td>101.560142</td>\n",
       "      <td>104.454923</td>\n",
       "    </tr>\n",
       "    <tr>\n",
       "      <th>963.0</th>\n",
       "      <td>1996</td>\n",
       "      <td>21</td>\n",
       "      <td>NYK</td>\n",
       "      <td>Dontae' Jones</td>\n",
       "      <td>Mississippi State</td>\n",
       "      <td>1.0</td>\n",
       "      <td>15.0</td>\n",
       "      <td>91.0</td>\n",
       "      <td>44.0</td>\n",
       "      <td>9.0</td>\n",
       "      <td>...</td>\n",
       "      <td>0.6</td>\n",
       "      <td>0.3</td>\n",
       "      <td>-0.3</td>\n",
       "      <td>-0.175</td>\n",
       "      <td>-10.9</td>\n",
       "      <td>-0.2</td>\n",
       "      <td>-0.003000</td>\n",
       "      <td>-2.000000</td>\n",
       "      <td>96.900000</td>\n",
       "      <td>94.900000</td>\n",
       "    </tr>\n",
       "    <tr>\n",
       "      <th>964.0</th>\n",
       "      <td>1996</td>\n",
       "      <td>22</td>\n",
       "      <td>VAN</td>\n",
       "      <td>Roy Rogers</td>\n",
       "      <td>Alabama</td>\n",
       "      <td>3.0</td>\n",
       "      <td>137.0</td>\n",
       "      <td>2309.0</td>\n",
       "      <td>652.0</td>\n",
       "      <td>483.0</td>\n",
       "      <td>...</td>\n",
       "      <td>3.5</td>\n",
       "      <td>0.4</td>\n",
       "      <td>1.7</td>\n",
       "      <td>0.035</td>\n",
       "      <td>-3.7</td>\n",
       "      <td>-1.0</td>\n",
       "      <td>0.057905</td>\n",
       "      <td>-11.096350</td>\n",
       "      <td>108.275182</td>\n",
       "      <td>97.149635</td>\n",
       "    </tr>\n",
       "    <tr>\n",
       "      <th>981.0</th>\n",
       "      <td>1996</td>\n",
       "      <td>23</td>\n",
       "      <td>DEN</td>\n",
       "      <td>Efthimios Rentzias</td>\n",
       "      <td>NaN</td>\n",
       "      <td>1.0</td>\n",
       "      <td>35.0</td>\n",
       "      <td>144.0</td>\n",
       "      <td>52.0</td>\n",
       "      <td>26.0</td>\n",
       "      <td>...</td>\n",
       "      <td>0.7</td>\n",
       "      <td>0.2</td>\n",
       "      <td>0.2</td>\n",
       "      <td>0.058</td>\n",
       "      <td>-3.8</td>\n",
       "      <td>-0.1</td>\n",
       "      <td>0.051000</td>\n",
       "      <td>-5.000000</td>\n",
       "      <td>97.000000</td>\n",
       "      <td>92.000000</td>\n",
       "    </tr>\n",
       "    <tr>\n",
       "      <th>965.0</th>\n",
       "      <td>1996</td>\n",
       "      <td>24</td>\n",
       "      <td>LAL</td>\n",
       "      <td>Derek Fisher</td>\n",
       "      <td>Little Rock</td>\n",
       "      <td>18.0</td>\n",
       "      <td>1287.0</td>\n",
       "      <td>32719.0</td>\n",
       "      <td>10713.0</td>\n",
       "      <td>2658.0</td>\n",
       "      <td>...</td>\n",
       "      <td>2.1</td>\n",
       "      <td>3.0</td>\n",
       "      <td>62.3</td>\n",
       "      <td>0.091</td>\n",
       "      <td>-0.9</td>\n",
       "      <td>8.9</td>\n",
       "      <td>0.075629</td>\n",
       "      <td>6.276146</td>\n",
       "      <td>100.307148</td>\n",
       "      <td>106.602409</td>\n",
       "    </tr>\n",
       "    <tr>\n",
       "      <th>982.0</th>\n",
       "      <td>1996</td>\n",
       "      <td>25</td>\n",
       "      <td>UTA</td>\n",
       "      <td>Martin Müürsepp</td>\n",
       "      <td>NaN</td>\n",
       "      <td>2.0</td>\n",
       "      <td>83.0</td>\n",
       "      <td>951.0</td>\n",
       "      <td>389.0</td>\n",
       "      <td>181.0</td>\n",
       "      <td>...</td>\n",
       "      <td>2.2</td>\n",
       "      <td>0.6</td>\n",
       "      <td>2.0</td>\n",
       "      <td>0.100</td>\n",
       "      <td>-1.6</td>\n",
       "      <td>0.1</td>\n",
       "      <td>0.070458</td>\n",
       "      <td>-7.719277</td>\n",
       "      <td>102.819277</td>\n",
       "      <td>95.149398</td>\n",
       "    </tr>\n",
       "    <tr>\n",
       "      <th>966.0</th>\n",
       "      <td>1996</td>\n",
       "      <td>26</td>\n",
       "      <td>DET</td>\n",
       "      <td>Jerome Williams</td>\n",
       "      <td>Georgetown</td>\n",
       "      <td>9.0</td>\n",
       "      <td>587.0</td>\n",
       "      <td>12755.0</td>\n",
       "      <td>3865.0</td>\n",
       "      <td>3743.0</td>\n",
       "      <td>...</td>\n",
       "      <td>6.4</td>\n",
       "      <td>0.8</td>\n",
       "      <td>37.9</td>\n",
       "      <td>0.143</td>\n",
       "      <td>0.3</td>\n",
       "      <td>7.4</td>\n",
       "      <td>0.111641</td>\n",
       "      <td>0.470528</td>\n",
       "      <td>99.759284</td>\n",
       "      <td>100.215843</td>\n",
       "    </tr>\n",
       "    <tr>\n",
       "      <th>967.0</th>\n",
       "      <td>1996</td>\n",
       "      <td>27</td>\n",
       "      <td>ORL</td>\n",
       "      <td>Brian Evans</td>\n",
       "      <td>Indiana</td>\n",
       "      <td>3.0</td>\n",
       "      <td>102.0</td>\n",
       "      <td>1097.0</td>\n",
       "      <td>375.0</td>\n",
       "      <td>164.0</td>\n",
       "      <td>...</td>\n",
       "      <td>1.6</td>\n",
       "      <td>0.8</td>\n",
       "      <td>1.7</td>\n",
       "      <td>0.076</td>\n",
       "      <td>-0.8</td>\n",
       "      <td>0.3</td>\n",
       "      <td>0.075235</td>\n",
       "      <td>-2.598039</td>\n",
       "      <td>99.178431</td>\n",
       "      <td>96.582353</td>\n",
       "    </tr>\n",
       "    <tr>\n",
       "      <th>968.0</th>\n",
       "      <td>1996</td>\n",
       "      <td>28</td>\n",
       "      <td>ATL</td>\n",
       "      <td>Priest Lauderdale</td>\n",
       "      <td>Central State University</td>\n",
       "      <td>2.0</td>\n",
       "      <td>74.0</td>\n",
       "      <td>525.0</td>\n",
       "      <td>255.0</td>\n",
       "      <td>143.0</td>\n",
       "      <td>...</td>\n",
       "      <td>1.9</td>\n",
       "      <td>0.4</td>\n",
       "      <td>-0.8</td>\n",
       "      <td>-0.074</td>\n",
       "      <td>-7.9</td>\n",
       "      <td>-0.8</td>\n",
       "      <td>0.055635</td>\n",
       "      <td>-3.759459</td>\n",
       "      <td>100.677027</td>\n",
       "      <td>96.917568</td>\n",
       "    </tr>\n",
       "    <tr>\n",
       "      <th>969.0</th>\n",
       "      <td>1996</td>\n",
       "      <td>29</td>\n",
       "      <td>CHI</td>\n",
       "      <td>Travis Knight</td>\n",
       "      <td>UConn</td>\n",
       "      <td>7.0</td>\n",
       "      <td>371.0</td>\n",
       "      <td>4566.0</td>\n",
       "      <td>1276.0</td>\n",
       "      <td>1160.0</td>\n",
       "      <td>...</td>\n",
       "      <td>3.1</td>\n",
       "      <td>0.6</td>\n",
       "      <td>7.9</td>\n",
       "      <td>0.083</td>\n",
       "      <td>-3.0</td>\n",
       "      <td>-1.1</td>\n",
       "      <td>0.046695</td>\n",
       "      <td>-0.921024</td>\n",
       "      <td>97.590296</td>\n",
       "      <td>96.670081</td>\n",
       "    </tr>\n",
       "    <tr>\n",
       "      <th>970.0</th>\n",
       "      <td>1996</td>\n",
       "      <td>30</td>\n",
       "      <td>HOU</td>\n",
       "      <td>Othella Harrington</td>\n",
       "      <td>Georgetown</td>\n",
       "      <td>12.0</td>\n",
       "      <td>709.0</td>\n",
       "      <td>13924.0</td>\n",
       "      <td>5212.0</td>\n",
       "      <td>3130.0</td>\n",
       "      <td>...</td>\n",
       "      <td>4.4</td>\n",
       "      <td>0.6</td>\n",
       "      <td>23.1</td>\n",
       "      <td>0.080</td>\n",
       "      <td>-3.4</td>\n",
       "      <td>-4.9</td>\n",
       "      <td>0.074904</td>\n",
       "      <td>-0.049788</td>\n",
       "      <td>100.122426</td>\n",
       "      <td>100.070240</td>\n",
       "    </tr>\n",
       "    <tr>\n",
       "      <th>971.0</th>\n",
       "      <td>1996</td>\n",
       "      <td>31</td>\n",
       "      <td>PHI</td>\n",
       "      <td>Mark Hendrickson</td>\n",
       "      <td>Washington State</td>\n",
       "      <td>4.0</td>\n",
       "      <td>114.0</td>\n",
       "      <td>1508.0</td>\n",
       "      <td>381.0</td>\n",
       "      <td>316.0</td>\n",
       "      <td>...</td>\n",
       "      <td>2.8</td>\n",
       "      <td>0.6</td>\n",
       "      <td>2.1</td>\n",
       "      <td>0.067</td>\n",
       "      <td>-3.8</td>\n",
       "      <td>-0.7</td>\n",
       "      <td>0.076675</td>\n",
       "      <td>-6.642982</td>\n",
       "      <td>102.961404</td>\n",
       "      <td>96.360526</td>\n",
       "    </tr>\n",
       "    <tr>\n",
       "      <th>NaN</th>\n",
       "      <td>1996</td>\n",
       "      <td>32</td>\n",
       "      <td>PHI</td>\n",
       "      <td>Ryan Minor</td>\n",
       "      <td>Oklahoma</td>\n",
       "      <td>NaN</td>\n",
       "      <td>NaN</td>\n",
       "      <td>NaN</td>\n",
       "      <td>NaN</td>\n",
       "      <td>NaN</td>\n",
       "      <td>...</td>\n",
       "      <td>NaN</td>\n",
       "      <td>NaN</td>\n",
       "      <td>NaN</td>\n",
       "      <td>NaN</td>\n",
       "      <td>NaN</td>\n",
       "      <td>NaN</td>\n",
       "      <td>NaN</td>\n",
       "      <td>NaN</td>\n",
       "      <td>NaN</td>\n",
       "      <td>NaN</td>\n",
       "    </tr>\n",
       "    <tr>\n",
       "      <th>983.0</th>\n",
       "      <td>1996</td>\n",
       "      <td>33</td>\n",
       "      <td>MIL</td>\n",
       "      <td>Moochie Norris</td>\n",
       "      <td>University of West Florida</td>\n",
       "      <td>9.0</td>\n",
       "      <td>445.0</td>\n",
       "      <td>7640.0</td>\n",
       "      <td>2272.0</td>\n",
       "      <td>868.0</td>\n",
       "      <td>...</td>\n",
       "      <td>2.0</td>\n",
       "      <td>2.8</td>\n",
       "      <td>10.0</td>\n",
       "      <td>0.063</td>\n",
       "      <td>-1.4</td>\n",
       "      <td>1.2</td>\n",
       "      <td>0.090829</td>\n",
       "      <td>-1.978202</td>\n",
       "      <td>101.042472</td>\n",
       "      <td>99.091236</td>\n",
       "    </tr>\n",
       "    <tr>\n",
       "      <th>NaN</th>\n",
       "      <td>1996</td>\n",
       "      <td>34</td>\n",
       "      <td>DAL</td>\n",
       "      <td>Shawn Harvey</td>\n",
       "      <td>West Virginia State University</td>\n",
       "      <td>NaN</td>\n",
       "      <td>NaN</td>\n",
       "      <td>NaN</td>\n",
       "      <td>NaN</td>\n",
       "      <td>NaN</td>\n",
       "      <td>...</td>\n",
       "      <td>NaN</td>\n",
       "      <td>NaN</td>\n",
       "      <td>NaN</td>\n",
       "      <td>NaN</td>\n",
       "      <td>NaN</td>\n",
       "      <td>NaN</td>\n",
       "      <td>NaN</td>\n",
       "      <td>NaN</td>\n",
       "      <td>NaN</td>\n",
       "      <td>NaN</td>\n",
       "    </tr>\n",
       "    <tr>\n",
       "      <th>NaN</th>\n",
       "      <td>1996</td>\n",
       "      <td>35</td>\n",
       "      <td>SEA</td>\n",
       "      <td>Joseph Blair</td>\n",
       "      <td>Arizona</td>\n",
       "      <td>NaN</td>\n",
       "      <td>NaN</td>\n",
       "      <td>NaN</td>\n",
       "      <td>NaN</td>\n",
       "      <td>NaN</td>\n",
       "      <td>...</td>\n",
       "      <td>NaN</td>\n",
       "      <td>NaN</td>\n",
       "      <td>NaN</td>\n",
       "      <td>NaN</td>\n",
       "      <td>NaN</td>\n",
       "      <td>NaN</td>\n",
       "      <td>NaN</td>\n",
       "      <td>NaN</td>\n",
       "      <td>NaN</td>\n",
       "      <td>NaN</td>\n",
       "    </tr>\n",
       "    <tr>\n",
       "      <th>NaN</th>\n",
       "      <td>1996</td>\n",
       "      <td>36</td>\n",
       "      <td>LAC</td>\n",
       "      <td>Doron Sheffer</td>\n",
       "      <td>UConn</td>\n",
       "      <td>NaN</td>\n",
       "      <td>NaN</td>\n",
       "      <td>NaN</td>\n",
       "      <td>NaN</td>\n",
       "      <td>NaN</td>\n",
       "      <td>...</td>\n",
       "      <td>NaN</td>\n",
       "      <td>NaN</td>\n",
       "      <td>NaN</td>\n",
       "      <td>NaN</td>\n",
       "      <td>NaN</td>\n",
       "      <td>NaN</td>\n",
       "      <td>NaN</td>\n",
       "      <td>NaN</td>\n",
       "      <td>NaN</td>\n",
       "      <td>NaN</td>\n",
       "    </tr>\n",
       "    <tr>\n",
       "      <th>976.0</th>\n",
       "      <td>1996</td>\n",
       "      <td>37</td>\n",
       "      <td>DEN</td>\n",
       "      <td>Jeff McInnis</td>\n",
       "      <td>UNC</td>\n",
       "      <td>11.0</td>\n",
       "      <td>576.0</td>\n",
       "      <td>15927.0</td>\n",
       "      <td>5396.0</td>\n",
       "      <td>1170.0</td>\n",
       "      <td>...</td>\n",
       "      <td>2.0</td>\n",
       "      <td>4.4</td>\n",
       "      <td>23.1</td>\n",
       "      <td>0.070</td>\n",
       "      <td>-2.1</td>\n",
       "      <td>-0.3</td>\n",
       "      <td>0.080986</td>\n",
       "      <td>-5.149306</td>\n",
       "      <td>105.446354</td>\n",
       "      <td>100.288194</td>\n",
       "    </tr>\n",
       "    <tr>\n",
       "      <th>984.0</th>\n",
       "      <td>1996</td>\n",
       "      <td>38</td>\n",
       "      <td>BOS</td>\n",
       "      <td>Steve Hamer</td>\n",
       "      <td>Tennessee</td>\n",
       "      <td>1.0</td>\n",
       "      <td>35.0</td>\n",
       "      <td>268.0</td>\n",
       "      <td>76.0</td>\n",
       "      <td>60.0</td>\n",
       "      <td>...</td>\n",
       "      <td>1.7</td>\n",
       "      <td>0.2</td>\n",
       "      <td>0.2</td>\n",
       "      <td>0.031</td>\n",
       "      <td>-6.5</td>\n",
       "      <td>-0.3</td>\n",
       "      <td>0.047000</td>\n",
       "      <td>2.000000</td>\n",
       "      <td>102.800000</td>\n",
       "      <td>104.700000</td>\n",
       "    </tr>\n",
       "    <tr>\n",
       "      <th>NaN</th>\n",
       "      <td>1996</td>\n",
       "      <td>39</td>\n",
       "      <td>PHO</td>\n",
       "      <td>Russ Millard</td>\n",
       "      <td>Iowa</td>\n",
       "      <td>NaN</td>\n",
       "      <td>NaN</td>\n",
       "      <td>NaN</td>\n",
       "      <td>NaN</td>\n",
       "      <td>NaN</td>\n",
       "      <td>...</td>\n",
       "      <td>NaN</td>\n",
       "      <td>NaN</td>\n",
       "      <td>NaN</td>\n",
       "      <td>NaN</td>\n",
       "      <td>NaN</td>\n",
       "      <td>NaN</td>\n",
       "      <td>NaN</td>\n",
       "      <td>NaN</td>\n",
       "      <td>NaN</td>\n",
       "      <td>NaN</td>\n",
       "    </tr>\n",
       "    <tr>\n",
       "      <th>NaN</th>\n",
       "      <td>1996</td>\n",
       "      <td>40</td>\n",
       "      <td>GSW</td>\n",
       "      <td>Marcus Mann</td>\n",
       "      <td>Mississippi Valley State University</td>\n",
       "      <td>NaN</td>\n",
       "      <td>NaN</td>\n",
       "      <td>NaN</td>\n",
       "      <td>NaN</td>\n",
       "      <td>NaN</td>\n",
       "      <td>...</td>\n",
       "      <td>NaN</td>\n",
       "      <td>NaN</td>\n",
       "      <td>NaN</td>\n",
       "      <td>NaN</td>\n",
       "      <td>NaN</td>\n",
       "      <td>NaN</td>\n",
       "      <td>NaN</td>\n",
       "      <td>NaN</td>\n",
       "      <td>NaN</td>\n",
       "      <td>NaN</td>\n",
       "    </tr>\n",
       "    <tr>\n",
       "      <th>987.0</th>\n",
       "      <td>1996</td>\n",
       "      <td>41</td>\n",
       "      <td>SAC</td>\n",
       "      <td>Jason Sasser</td>\n",
       "      <td>Texas Tech</td>\n",
       "      <td>2.0</td>\n",
       "      <td>14.0</td>\n",
       "      <td>108.0</td>\n",
       "      <td>30.0</td>\n",
       "      <td>15.0</td>\n",
       "      <td>...</td>\n",
       "      <td>1.1</td>\n",
       "      <td>0.3</td>\n",
       "      <td>NaN</td>\n",
       "      <td>-0.014</td>\n",
       "      <td>-5.7</td>\n",
       "      <td>-0.1</td>\n",
       "      <td>0.045143</td>\n",
       "      <td>-17.928571</td>\n",
       "      <td>100.300000</td>\n",
       "      <td>82.385714</td>\n",
       "    </tr>\n",
       "    <tr>\n",
       "      <th>988.0</th>\n",
       "      <td>1996</td>\n",
       "      <td>42</td>\n",
       "      <td>HOU</td>\n",
       "      <td>Randy Livingston</td>\n",
       "      <td>LSU</td>\n",
       "      <td>11.0</td>\n",
       "      <td>203.0</td>\n",
       "      <td>2684.0</td>\n",
       "      <td>773.0</td>\n",
       "      <td>282.0</td>\n",
       "      <td>...</td>\n",
       "      <td>1.4</td>\n",
       "      <td>2.0</td>\n",
       "      <td>2.3</td>\n",
       "      <td>0.041</td>\n",
       "      <td>-2.5</td>\n",
       "      <td>-0.3</td>\n",
       "      <td>0.063813</td>\n",
       "      <td>-1.318719</td>\n",
       "      <td>98.910837</td>\n",
       "      <td>97.590640</td>\n",
       "    </tr>\n",
       "    <tr>\n",
       "      <th>989.0</th>\n",
       "      <td>1996</td>\n",
       "      <td>43</td>\n",
       "      <td>PHO</td>\n",
       "      <td>Ben Davis</td>\n",
       "      <td>Arizona</td>\n",
       "      <td>4.0</td>\n",
       "      <td>40.0</td>\n",
       "      <td>154.0</td>\n",
       "      <td>54.0</td>\n",
       "      <td>53.0</td>\n",
       "      <td>...</td>\n",
       "      <td>1.3</td>\n",
       "      <td>0.1</td>\n",
       "      <td>0.1</td>\n",
       "      <td>0.040</td>\n",
       "      <td>-5.5</td>\n",
       "      <td>-0.1</td>\n",
       "      <td>0.035650</td>\n",
       "      <td>-4.352500</td>\n",
       "      <td>103.967500</td>\n",
       "      <td>99.552500</td>\n",
       "    </tr>\n",
       "    <tr>\n",
       "      <th>990.0</th>\n",
       "      <td>1996</td>\n",
       "      <td>44</td>\n",
       "      <td>CHH</td>\n",
       "      <td>Malik Rose</td>\n",
       "      <td>Drexel</td>\n",
       "      <td>13.0</td>\n",
       "      <td>813.0</td>\n",
       "      <td>13404.0</td>\n",
       "      <td>5003.0</td>\n",
       "      <td>3371.0</td>\n",
       "      <td>...</td>\n",
       "      <td>4.1</td>\n",
       "      <td>0.8</td>\n",
       "      <td>26.5</td>\n",
       "      <td>0.095</td>\n",
       "      <td>-2.1</td>\n",
       "      <td>-0.4</td>\n",
       "      <td>0.079721</td>\n",
       "      <td>0.809840</td>\n",
       "      <td>99.569619</td>\n",
       "      <td>100.378106</td>\n",
       "    </tr>\n",
       "    <tr>\n",
       "      <th>NaN</th>\n",
       "      <td>1996</td>\n",
       "      <td>45</td>\n",
       "      <td>SEA</td>\n",
       "      <td>Joe Vogel</td>\n",
       "      <td>Colorado State</td>\n",
       "      <td>NaN</td>\n",
       "      <td>NaN</td>\n",
       "      <td>NaN</td>\n",
       "      <td>NaN</td>\n",
       "      <td>NaN</td>\n",
       "      <td>...</td>\n",
       "      <td>NaN</td>\n",
       "      <td>NaN</td>\n",
       "      <td>NaN</td>\n",
       "      <td>NaN</td>\n",
       "      <td>NaN</td>\n",
       "      <td>NaN</td>\n",
       "      <td>NaN</td>\n",
       "      <td>NaN</td>\n",
       "      <td>NaN</td>\n",
       "      <td>NaN</td>\n",
       "    </tr>\n",
       "    <tr>\n",
       "      <th>992.0</th>\n",
       "      <td>1996</td>\n",
       "      <td>46</td>\n",
       "      <td>POR</td>\n",
       "      <td>Marcus Brown</td>\n",
       "      <td>Murray State</td>\n",
       "      <td>2.0</td>\n",
       "      <td>27.0</td>\n",
       "      <td>229.0</td>\n",
       "      <td>92.0</td>\n",
       "      <td>22.0</td>\n",
       "      <td>...</td>\n",
       "      <td>0.8</td>\n",
       "      <td>0.9</td>\n",
       "      <td>0.3</td>\n",
       "      <td>0.066</td>\n",
       "      <td>-2.6</td>\n",
       "      <td>NaN</td>\n",
       "      <td>0.047222</td>\n",
       "      <td>-4.388889</td>\n",
       "      <td>105.500000</td>\n",
       "      <td>101.033333</td>\n",
       "    </tr>\n",
       "    <tr>\n",
       "      <th>NaN</th>\n",
       "      <td>1996</td>\n",
       "      <td>47</td>\n",
       "      <td>SEA</td>\n",
       "      <td>Ron Riley</td>\n",
       "      <td>Arizona State</td>\n",
       "      <td>NaN</td>\n",
       "      <td>NaN</td>\n",
       "      <td>NaN</td>\n",
       "      <td>NaN</td>\n",
       "      <td>NaN</td>\n",
       "      <td>...</td>\n",
       "      <td>NaN</td>\n",
       "      <td>NaN</td>\n",
       "      <td>NaN</td>\n",
       "      <td>NaN</td>\n",
       "      <td>NaN</td>\n",
       "      <td>NaN</td>\n",
       "      <td>NaN</td>\n",
       "      <td>NaN</td>\n",
       "      <td>NaN</td>\n",
       "      <td>NaN</td>\n",
       "    </tr>\n",
       "    <tr>\n",
       "      <th>994.0</th>\n",
       "      <td>1996</td>\n",
       "      <td>48</td>\n",
       "      <td>PHI</td>\n",
       "      <td>Jamie Feick</td>\n",
       "      <td>Michigan State</td>\n",
       "      <td>5.0</td>\n",
       "      <td>201.0</td>\n",
       "      <td>4316.0</td>\n",
       "      <td>911.0</td>\n",
       "      <td>1437.0</td>\n",
       "      <td>...</td>\n",
       "      <td>7.1</td>\n",
       "      <td>0.7</td>\n",
       "      <td>8.2</td>\n",
       "      <td>0.091</td>\n",
       "      <td>-2.7</td>\n",
       "      <td>-0.7</td>\n",
       "      <td>0.081841</td>\n",
       "      <td>-2.565174</td>\n",
       "      <td>104.686567</td>\n",
       "      <td>102.121393</td>\n",
       "    </tr>\n",
       "    <tr>\n",
       "      <th>1043.0</th>\n",
       "      <td>1996</td>\n",
       "      <td>49</td>\n",
       "      <td>ORL</td>\n",
       "      <td>Amal McCaskill</td>\n",
       "      <td>Marquette</td>\n",
       "      <td>4.0</td>\n",
       "      <td>114.0</td>\n",
       "      <td>968.0</td>\n",
       "      <td>204.0</td>\n",
       "      <td>213.0</td>\n",
       "      <td>...</td>\n",
       "      <td>1.9</td>\n",
       "      <td>0.3</td>\n",
       "      <td>0.5</td>\n",
       "      <td>0.024</td>\n",
       "      <td>-4.7</td>\n",
       "      <td>-0.7</td>\n",
       "      <td>0.040526</td>\n",
       "      <td>-10.118421</td>\n",
       "      <td>99.811404</td>\n",
       "      <td>89.692982</td>\n",
       "    </tr>\n",
       "    <tr>\n",
       "      <th>NaN</th>\n",
       "      <td>1996</td>\n",
       "      <td>50</td>\n",
       "      <td>HOU</td>\n",
       "      <td>Terrell Bell</td>\n",
       "      <td>Georgia</td>\n",
       "      <td>NaN</td>\n",
       "      <td>NaN</td>\n",
       "      <td>NaN</td>\n",
       "      <td>NaN</td>\n",
       "      <td>NaN</td>\n",
       "      <td>...</td>\n",
       "      <td>NaN</td>\n",
       "      <td>NaN</td>\n",
       "      <td>NaN</td>\n",
       "      <td>NaN</td>\n",
       "      <td>NaN</td>\n",
       "      <td>NaN</td>\n",
       "      <td>NaN</td>\n",
       "      <td>NaN</td>\n",
       "      <td>NaN</td>\n",
       "      <td>NaN</td>\n",
       "    </tr>\n",
       "    <tr>\n",
       "      <th>997.0</th>\n",
       "      <td>1996</td>\n",
       "      <td>51</td>\n",
       "      <td>VAN</td>\n",
       "      <td>Chris Robinson</td>\n",
       "      <td>Western Kentucky</td>\n",
       "      <td>2.0</td>\n",
       "      <td>76.0</td>\n",
       "      <td>1095.0</td>\n",
       "      <td>350.0</td>\n",
       "      <td>117.0</td>\n",
       "      <td>...</td>\n",
       "      <td>1.5</td>\n",
       "      <td>1.4</td>\n",
       "      <td>-0.1</td>\n",
       "      <td>-0.003</td>\n",
       "      <td>-4.0</td>\n",
       "      <td>-0.6</td>\n",
       "      <td>0.046382</td>\n",
       "      <td>-9.403947</td>\n",
       "      <td>107.571053</td>\n",
       "      <td>98.167105</td>\n",
       "    </tr>\n",
       "    <tr>\n",
       "      <th>998.0</th>\n",
       "      <td>1996</td>\n",
       "      <td>52</td>\n",
       "      <td>IND</td>\n",
       "      <td>Mark Pope</td>\n",
       "      <td>Kentucky</td>\n",
       "      <td>6.0</td>\n",
       "      <td>153.0</td>\n",
       "      <td>1634.0</td>\n",
       "      <td>285.0</td>\n",
       "      <td>261.0</td>\n",
       "      <td>...</td>\n",
       "      <td>1.7</td>\n",
       "      <td>0.4</td>\n",
       "      <td>1.3</td>\n",
       "      <td>0.038</td>\n",
       "      <td>-4.3</td>\n",
       "      <td>-0.9</td>\n",
       "      <td>0.011137</td>\n",
       "      <td>-1.559477</td>\n",
       "      <td>99.324183</td>\n",
       "      <td>97.814379</td>\n",
       "    </tr>\n",
       "    <tr>\n",
       "      <th>999.0</th>\n",
       "      <td>1996</td>\n",
       "      <td>53</td>\n",
       "      <td>MIL</td>\n",
       "      <td>Jeff Nordgaard</td>\n",
       "      <td>Green Bay</td>\n",
       "      <td>1.0</td>\n",
       "      <td>13.0</td>\n",
       "      <td>48.0</td>\n",
       "      <td>18.0</td>\n",
       "      <td>14.0</td>\n",
       "      <td>...</td>\n",
       "      <td>1.1</td>\n",
       "      <td>0.2</td>\n",
       "      <td>NaN</td>\n",
       "      <td>0.043</td>\n",
       "      <td>-3.7</td>\n",
       "      <td>NaN</td>\n",
       "      <td>0.065000</td>\n",
       "      <td>-1.300000</td>\n",
       "      <td>107.500000</td>\n",
       "      <td>106.300000</td>\n",
       "    </tr>\n",
       "    <tr>\n",
       "      <th>1000.0</th>\n",
       "      <td>1996</td>\n",
       "      <td>54</td>\n",
       "      <td>UTA</td>\n",
       "      <td>Shandon Anderson</td>\n",
       "      <td>Georgia</td>\n",
       "      <td>10.0</td>\n",
       "      <td>719.0</td>\n",
       "      <td>15946.0</td>\n",
       "      <td>5327.0</td>\n",
       "      <td>2252.0</td>\n",
       "      <td>...</td>\n",
       "      <td>3.1</td>\n",
       "      <td>1.4</td>\n",
       "      <td>23.6</td>\n",
       "      <td>0.071</td>\n",
       "      <td>-1.3</td>\n",
       "      <td>3.0</td>\n",
       "      <td>0.076740</td>\n",
       "      <td>0.216690</td>\n",
       "      <td>101.930598</td>\n",
       "      <td>102.149652</td>\n",
       "    </tr>\n",
       "    <tr>\n",
       "      <th>NaN</th>\n",
       "      <td>1996</td>\n",
       "      <td>55</td>\n",
       "      <td>WSB</td>\n",
       "      <td>Ronnie Henderson</td>\n",
       "      <td>LSU</td>\n",
       "      <td>NaN</td>\n",
       "      <td>NaN</td>\n",
       "      <td>NaN</td>\n",
       "      <td>NaN</td>\n",
       "      <td>NaN</td>\n",
       "      <td>...</td>\n",
       "      <td>NaN</td>\n",
       "      <td>NaN</td>\n",
       "      <td>NaN</td>\n",
       "      <td>NaN</td>\n",
       "      <td>NaN</td>\n",
       "      <td>NaN</td>\n",
       "      <td>NaN</td>\n",
       "      <td>NaN</td>\n",
       "      <td>NaN</td>\n",
       "      <td>NaN</td>\n",
       "    </tr>\n",
       "    <tr>\n",
       "      <th>1002.0</th>\n",
       "      <td>1996</td>\n",
       "      <td>56</td>\n",
       "      <td>CLE</td>\n",
       "      <td>Reggie Geary</td>\n",
       "      <td>Arizona</td>\n",
       "      <td>2.0</td>\n",
       "      <td>101.0</td>\n",
       "      <td>931.0</td>\n",
       "      <td>209.0</td>\n",
       "      <td>82.0</td>\n",
       "      <td>...</td>\n",
       "      <td>0.8</td>\n",
       "      <td>1.1</td>\n",
       "      <td>0.6</td>\n",
       "      <td>0.032</td>\n",
       "      <td>-2.5</td>\n",
       "      <td>-0.1</td>\n",
       "      <td>0.037040</td>\n",
       "      <td>5.096040</td>\n",
       "      <td>91.571287</td>\n",
       "      <td>96.667327</td>\n",
       "    </tr>\n",
       "    <tr>\n",
       "      <th>1003.0</th>\n",
       "      <td>1996</td>\n",
       "      <td>57</td>\n",
       "      <td>SEA</td>\n",
       "      <td>Drew Barry</td>\n",
       "      <td>Georgia Tech</td>\n",
       "      <td>3.0</td>\n",
       "      <td>60.0</td>\n",
       "      <td>598.0</td>\n",
       "      <td>134.0</td>\n",
       "      <td>67.0</td>\n",
       "      <td>...</td>\n",
       "      <td>1.1</td>\n",
       "      <td>1.9</td>\n",
       "      <td>0.6</td>\n",
       "      <td>0.051</td>\n",
       "      <td>-3.5</td>\n",
       "      <td>-0.2</td>\n",
       "      <td>0.071683</td>\n",
       "      <td>4.743333</td>\n",
       "      <td>98.573333</td>\n",
       "      <td>103.316667</td>\n",
       "    </tr>\n",
       "    <tr>\n",
       "      <th>NaN</th>\n",
       "      <td>1996</td>\n",
       "      <td>58</td>\n",
       "      <td>DAL</td>\n",
       "      <td>Darnell Robinson</td>\n",
       "      <td>Arkansas</td>\n",
       "      <td>NaN</td>\n",
       "      <td>NaN</td>\n",
       "      <td>NaN</td>\n",
       "      <td>NaN</td>\n",
       "      <td>NaN</td>\n",
       "      <td>...</td>\n",
       "      <td>NaN</td>\n",
       "      <td>NaN</td>\n",
       "      <td>NaN</td>\n",
       "      <td>NaN</td>\n",
       "      <td>NaN</td>\n",
       "      <td>NaN</td>\n",
       "      <td>NaN</td>\n",
       "      <td>NaN</td>\n",
       "      <td>NaN</td>\n",
       "      <td>NaN</td>\n",
       "    </tr>\n",
       "    <tr>\n",
       "      <th>1495.0</th>\n",
       "      <td>1997</td>\n",
       "      <td>1</td>\n",
       "      <td>SAS</td>\n",
       "      <td>Tim Duncan</td>\n",
       "      <td>Wake Forest</td>\n",
       "      <td>19.0</td>\n",
       "      <td>1392.0</td>\n",
       "      <td>47368.0</td>\n",
       "      <td>26496.0</td>\n",
       "      <td>15091.0</td>\n",
       "      <td>...</td>\n",
       "      <td>10.8</td>\n",
       "      <td>3.0</td>\n",
       "      <td>206.4</td>\n",
       "      <td>0.209</td>\n",
       "      <td>5.6</td>\n",
       "      <td>91.1</td>\n",
       "      <td>0.176455</td>\n",
       "      <td>9.739871</td>\n",
       "      <td>97.282328</td>\n",
       "      <td>107.021408</td>\n",
       "    </tr>\n",
       "    <tr>\n",
       "      <th>1496.0</th>\n",
       "      <td>1997</td>\n",
       "      <td>2</td>\n",
       "      <td>PHI</td>\n",
       "      <td>Keith Van Horn</td>\n",
       "      <td>Utah</td>\n",
       "      <td>9.0</td>\n",
       "      <td>575.0</td>\n",
       "      <td>18150.0</td>\n",
       "      <td>9206.0</td>\n",
       "      <td>3909.0</td>\n",
       "      <td>...</td>\n",
       "      <td>6.8</td>\n",
       "      <td>1.6</td>\n",
       "      <td>41.7</td>\n",
       "      <td>0.110</td>\n",
       "      <td>0.1</td>\n",
       "      <td>9.6</td>\n",
       "      <td>0.109518</td>\n",
       "      <td>1.198087</td>\n",
       "      <td>102.581043</td>\n",
       "      <td>103.786087</td>\n",
       "    </tr>\n",
       "  </tbody>\n",
       "</table>\n",
       "<p>60 rows × 26 columns</p>\n",
       "</div>"
      ],
      "text/plain": [
       "Player ID  Season  Pk   Tm               Player  \\\n",
       "947.0        1996   1  PHI        Allen Iverson   \n",
       "948.0        1996   2  TOR         Marcus Camby   \n",
       "949.0        1996   3  VAN  Shareef Abdur-Rahim   \n",
       "950.0        1996   4  MIL      Stephon Marbury   \n",
       "951.0        1996   5  MIN            Ray Allen   \n",
       "952.0        1996   6  BOS       Antoine Walker   \n",
       "953.0        1996   7  LAC      Lorenzen Wright   \n",
       "954.0        1996   8  NJN        Kerry Kittles   \n",
       "955.0        1996   9  DAL        Samaki Walker   \n",
       "956.0        1996  10  IND        Erick Dampier   \n",
       "957.0        1996  11  GSW          Todd Fuller   \n",
       "958.0        1996  12  CLE     Vitaly Potapenko   \n",
       "977.0        1996  13  CHH          Kobe Bryant   \n",
       "978.0        1996  14  SAC      Peja Stojaković   \n",
       "959.0        1996  15  PHO           Steve Nash   \n",
       "960.0        1996  16  CHH            Tony Delk   \n",
       "979.0        1996  17  POR      Jermaine O'Neal   \n",
       "961.0        1996  18  NYK         John Wallace   \n",
       "962.0        1996  19  NYK       Walter McCarty   \n",
       "980.0        1996  20  CLE   Zydrunas Ilgauskas   \n",
       "963.0        1996  21  NYK        Dontae' Jones   \n",
       "964.0        1996  22  VAN           Roy Rogers   \n",
       "981.0        1996  23  DEN   Efthimios Rentzias   \n",
       "965.0        1996  24  LAL         Derek Fisher   \n",
       "982.0        1996  25  UTA      Martin Müürsepp   \n",
       "966.0        1996  26  DET      Jerome Williams   \n",
       "967.0        1996  27  ORL          Brian Evans   \n",
       "968.0        1996  28  ATL    Priest Lauderdale   \n",
       "969.0        1996  29  CHI        Travis Knight   \n",
       "970.0        1996  30  HOU   Othella Harrington   \n",
       "971.0        1996  31  PHI     Mark Hendrickson   \n",
       "NaN          1996  32  PHI           Ryan Minor   \n",
       "983.0        1996  33  MIL       Moochie Norris   \n",
       "NaN          1996  34  DAL         Shawn Harvey   \n",
       "NaN          1996  35  SEA         Joseph Blair   \n",
       "NaN          1996  36  LAC        Doron Sheffer   \n",
       "976.0        1996  37  DEN         Jeff McInnis   \n",
       "984.0        1996  38  BOS          Steve Hamer   \n",
       "NaN          1996  39  PHO         Russ Millard   \n",
       "NaN          1996  40  GSW          Marcus Mann   \n",
       "987.0        1996  41  SAC         Jason Sasser   \n",
       "988.0        1996  42  HOU     Randy Livingston   \n",
       "989.0        1996  43  PHO            Ben Davis   \n",
       "990.0        1996  44  CHH           Malik Rose   \n",
       "NaN          1996  45  SEA            Joe Vogel   \n",
       "992.0        1996  46  POR         Marcus Brown   \n",
       "NaN          1996  47  SEA            Ron Riley   \n",
       "994.0        1996  48  PHI          Jamie Feick   \n",
       "1043.0       1996  49  ORL       Amal McCaskill   \n",
       "NaN          1996  50  HOU         Terrell Bell   \n",
       "997.0        1996  51  VAN       Chris Robinson   \n",
       "998.0        1996  52  IND            Mark Pope   \n",
       "999.0        1996  53  MIL       Jeff Nordgaard   \n",
       "1000.0       1996  54  UTA     Shandon Anderson   \n",
       "NaN          1996  55  WSB     Ronnie Henderson   \n",
       "1002.0       1996  56  CLE         Reggie Geary   \n",
       "1003.0       1996  57  SEA           Drew Barry   \n",
       "NaN          1996  58  DAL     Darnell Robinson   \n",
       "1495.0       1997   1  SAS           Tim Duncan   \n",
       "1496.0       1997   2  PHI       Keith Van Horn   \n",
       "\n",
       "Player ID                              College   Yrs       G       MP  \\\n",
       "947.0                               Georgetown  14.0   914.0  37584.0   \n",
       "948.0                                    UMass  17.0   973.0  28684.0   \n",
       "949.0                               California  12.0   830.0  28882.0   \n",
       "950.0                             Georgia Tech  13.0   846.0  31891.0   \n",
       "951.0                                    UConn  18.0  1300.0  46344.0   \n",
       "952.0                                 Kentucky  12.0   893.0  31531.0   \n",
       "953.0                                  Memphis  13.0   778.0  18535.0   \n",
       "954.0                                Villanova   8.0   507.0  16929.0   \n",
       "955.0                               Louisville  10.0   445.0   7612.0   \n",
       "956.0                        Mississippi State  16.0   987.0  24003.0   \n",
       "957.0                                 NC State   5.0   225.0   2500.0   \n",
       "958.0                  Wright State University  11.0   610.0  11608.0   \n",
       "977.0                                      NaN  20.0  1346.0  48637.0   \n",
       "978.0                                      NaN  13.0   804.0  26966.0   \n",
       "959.0                              Santa Clara  18.0  1217.0  38069.0   \n",
       "960.0                                 Kentucky  10.0   545.0  11702.0   \n",
       "979.0                                      NaN  18.0  1011.0  27364.0   \n",
       "961.0                                 Syracuse   7.0   381.0   6143.0   \n",
       "962.0                                 Kentucky  10.0   593.0  10374.0   \n",
       "980.0                                      NaN  13.0   843.0  22965.0   \n",
       "963.0                        Mississippi State   1.0    15.0     91.0   \n",
       "964.0                                  Alabama   3.0   137.0   2309.0   \n",
       "981.0                                      NaN   1.0    35.0    144.0   \n",
       "965.0                              Little Rock  18.0  1287.0  32719.0   \n",
       "982.0                                      NaN   2.0    83.0    951.0   \n",
       "966.0                               Georgetown   9.0   587.0  12755.0   \n",
       "967.0                                  Indiana   3.0   102.0   1097.0   \n",
       "968.0                 Central State University   2.0    74.0    525.0   \n",
       "969.0                                    UConn   7.0   371.0   4566.0   \n",
       "970.0                               Georgetown  12.0   709.0  13924.0   \n",
       "971.0                         Washington State   4.0   114.0   1508.0   \n",
       "NaN                                   Oklahoma   NaN     NaN      NaN   \n",
       "983.0               University of West Florida   9.0   445.0   7640.0   \n",
       "NaN             West Virginia State University   NaN     NaN      NaN   \n",
       "NaN                                    Arizona   NaN     NaN      NaN   \n",
       "NaN                                      UConn   NaN     NaN      NaN   \n",
       "976.0                                      UNC  11.0   576.0  15927.0   \n",
       "984.0                                Tennessee   1.0    35.0    268.0   \n",
       "NaN                                       Iowa   NaN     NaN      NaN   \n",
       "NaN        Mississippi Valley State University   NaN     NaN      NaN   \n",
       "987.0                               Texas Tech   2.0    14.0    108.0   \n",
       "988.0                                      LSU  11.0   203.0   2684.0   \n",
       "989.0                                  Arizona   4.0    40.0    154.0   \n",
       "990.0                                   Drexel  13.0   813.0  13404.0   \n",
       "NaN                             Colorado State   NaN     NaN      NaN   \n",
       "992.0                             Murray State   2.0    27.0    229.0   \n",
       "NaN                              Arizona State   NaN     NaN      NaN   \n",
       "994.0                           Michigan State   5.0   201.0   4316.0   \n",
       "1043.0                               Marquette   4.0   114.0    968.0   \n",
       "NaN                                    Georgia   NaN     NaN      NaN   \n",
       "997.0                         Western Kentucky   2.0    76.0   1095.0   \n",
       "998.0                                 Kentucky   6.0   153.0   1634.0   \n",
       "999.0                                Green Bay   1.0    13.0     48.0   \n",
       "1000.0                                 Georgia  10.0   719.0  15946.0   \n",
       "NaN                                        LSU   NaN     NaN      NaN   \n",
       "1002.0                                 Arizona   2.0   101.0    931.0   \n",
       "1003.0                            Georgia Tech   3.0    60.0    598.0   \n",
       "NaN                                   Arkansas   NaN     NaN      NaN   \n",
       "1495.0                             Wake Forest  19.0  1392.0  47368.0   \n",
       "1496.0                                    Utah   9.0   575.0  18150.0   \n",
       "\n",
       "Player ID      PTS      TRB  ...  TRB.1  AST.1     WS  WS/48   BPM  VORP  \\\n",
       "947.0      24368.0   3394.0  ...    3.7    6.2   99.0  0.126   3.2  49.6   \n",
       "948.0       9262.0   9513.0  ...    9.8    1.9   81.6  0.137   2.3  31.3   \n",
       "949.0      15028.0   6239.0  ...    7.5    2.5   71.2  0.118   1.0  21.9   \n",
       "950.0      16297.0   2516.0  ...    3.0    7.6   77.5  0.117   1.8  30.7   \n",
       "951.0      24505.0   5272.0  ...    4.1    3.4  145.1  0.150   2.9  57.6   \n",
       "952.0      15647.0   6891.0  ...    7.7    3.5   38.1  0.058   0.3  18.0   \n",
       "953.0       6191.0   4943.0  ...    6.4    0.8   30.5  0.079  -2.6  -3.0   \n",
       "954.0       7165.0   1983.0  ...    3.9    2.6   44.8  0.127   2.2  18.0   \n",
       "955.0       2376.0   2089.0  ...    4.7    0.6   14.2  0.089  -2.6  -1.1   \n",
       "956.0       7309.0   7005.0  ...    7.1    0.8   52.7  0.105  -1.3   4.1   \n",
       "957.0        835.0    674.0  ...    3.0    0.2    2.2  0.041  -5.7  -2.3   \n",
       "958.0       3995.0   2725.0  ...    4.5    0.7   15.5  0.064  -4.0  -5.9   \n",
       "977.0      33643.0   7047.0  ...    5.2    4.7  172.7  0.170   4.6  80.1   \n",
       "978.0      13647.0   3782.0  ...    4.7    1.8   82.6  0.147   1.9  26.2   \n",
       "959.0      17387.0   3642.0  ...    3.0    8.5  129.7  0.164   3.0  48.2   \n",
       "960.0       4957.0   1351.0  ...    2.5    1.9   19.5  0.080  -0.4   4.8   \n",
       "979.0      13309.0   7261.0  ...    7.2    1.4   66.0  0.116   0.3  15.6   \n",
       "961.0       2901.0   1061.0  ...    2.8    0.7    6.4  0.050  -2.7  -1.0   \n",
       "962.0       3056.0   1554.0  ...    2.6    1.1   13.7  0.064  -1.7   0.8   \n",
       "980.0      10976.0   6191.0  ...    7.3    1.1   66.3  0.139  -0.2  10.2   \n",
       "963.0         44.0      9.0  ...    0.6    0.3   -0.3 -0.175 -10.9  -0.2   \n",
       "964.0        652.0    483.0  ...    3.5    0.4    1.7  0.035  -3.7  -1.0   \n",
       "981.0         52.0     26.0  ...    0.7    0.2    0.2  0.058  -3.8  -0.1   \n",
       "965.0      10713.0   2658.0  ...    2.1    3.0   62.3  0.091  -0.9   8.9   \n",
       "982.0        389.0    181.0  ...    2.2    0.6    2.0  0.100  -1.6   0.1   \n",
       "966.0       3865.0   3743.0  ...    6.4    0.8   37.9  0.143   0.3   7.4   \n",
       "967.0        375.0    164.0  ...    1.6    0.8    1.7  0.076  -0.8   0.3   \n",
       "968.0        255.0    143.0  ...    1.9    0.4   -0.8 -0.074  -7.9  -0.8   \n",
       "969.0       1276.0   1160.0  ...    3.1    0.6    7.9  0.083  -3.0  -1.1   \n",
       "970.0       5212.0   3130.0  ...    4.4    0.6   23.1  0.080  -3.4  -4.9   \n",
       "971.0        381.0    316.0  ...    2.8    0.6    2.1  0.067  -3.8  -0.7   \n",
       "NaN            NaN      NaN  ...    NaN    NaN    NaN    NaN   NaN   NaN   \n",
       "983.0       2272.0    868.0  ...    2.0    2.8   10.0  0.063  -1.4   1.2   \n",
       "NaN            NaN      NaN  ...    NaN    NaN    NaN    NaN   NaN   NaN   \n",
       "NaN            NaN      NaN  ...    NaN    NaN    NaN    NaN   NaN   NaN   \n",
       "NaN            NaN      NaN  ...    NaN    NaN    NaN    NaN   NaN   NaN   \n",
       "976.0       5396.0   1170.0  ...    2.0    4.4   23.1  0.070  -2.1  -0.3   \n",
       "984.0         76.0     60.0  ...    1.7    0.2    0.2  0.031  -6.5  -0.3   \n",
       "NaN            NaN      NaN  ...    NaN    NaN    NaN    NaN   NaN   NaN   \n",
       "NaN            NaN      NaN  ...    NaN    NaN    NaN    NaN   NaN   NaN   \n",
       "987.0         30.0     15.0  ...    1.1    0.3    NaN -0.014  -5.7  -0.1   \n",
       "988.0        773.0    282.0  ...    1.4    2.0    2.3  0.041  -2.5  -0.3   \n",
       "989.0         54.0     53.0  ...    1.3    0.1    0.1  0.040  -5.5  -0.1   \n",
       "990.0       5003.0   3371.0  ...    4.1    0.8   26.5  0.095  -2.1  -0.4   \n",
       "NaN            NaN      NaN  ...    NaN    NaN    NaN    NaN   NaN   NaN   \n",
       "992.0         92.0     22.0  ...    0.8    0.9    0.3  0.066  -2.6   NaN   \n",
       "NaN            NaN      NaN  ...    NaN    NaN    NaN    NaN   NaN   NaN   \n",
       "994.0        911.0   1437.0  ...    7.1    0.7    8.2  0.091  -2.7  -0.7   \n",
       "1043.0       204.0    213.0  ...    1.9    0.3    0.5  0.024  -4.7  -0.7   \n",
       "NaN            NaN      NaN  ...    NaN    NaN    NaN    NaN   NaN   NaN   \n",
       "997.0        350.0    117.0  ...    1.5    1.4   -0.1 -0.003  -4.0  -0.6   \n",
       "998.0        285.0    261.0  ...    1.7    0.4    1.3  0.038  -4.3  -0.9   \n",
       "999.0         18.0     14.0  ...    1.1    0.2    NaN  0.043  -3.7   NaN   \n",
       "1000.0      5327.0   2252.0  ...    3.1    1.4   23.6  0.071  -1.3   3.0   \n",
       "NaN            NaN      NaN  ...    NaN    NaN    NaN    NaN   NaN   NaN   \n",
       "1002.0       209.0     82.0  ...    0.8    1.1    0.6  0.032  -2.5  -0.1   \n",
       "1003.0       134.0     67.0  ...    1.1    1.9    0.6  0.051  -3.5  -0.2   \n",
       "NaN            NaN      NaN  ...    NaN    NaN    NaN    NaN   NaN   NaN   \n",
       "1495.0     26496.0  15091.0  ...   10.8    3.0  206.4  0.209   5.6  91.1   \n",
       "1496.0      9206.0   3909.0  ...    6.8    1.6   41.7  0.110   0.1   9.6   \n",
       "\n",
       "Player ID       PIE  NET_RATING  DEF_RATING  OFF_RATING  \n",
       "947.0      0.136685    0.846389  102.536105  103.373742  \n",
       "948.0      0.126784    0.228571  102.740699  102.970298  \n",
       "949.0      0.125880   -5.022892  105.843614  100.801928  \n",
       "950.0      0.123372   -1.780615  105.290426  103.501064  \n",
       "951.0      0.119475    3.884615  104.047000  107.940000  \n",
       "952.0      0.106725   -2.122172  104.507055  102.397984  \n",
       "953.0      0.079762   -3.612725  102.883676   99.275450  \n",
       "954.0      0.106501    1.059763  100.949901  101.997436  \n",
       "955.0      0.079793   -4.483371  101.874607   97.406517  \n",
       "956.0      0.082994    0.622594  102.671530  103.291084  \n",
       "957.0      0.060902   -3.978222  100.532444   96.572444  \n",
       "958.0      0.068572   -1.756066  100.802459   99.049344  \n",
       "977.0      0.147353    3.856909  104.002377  107.856018  \n",
       "978.0      0.109571    4.868657  102.800622  107.674005  \n",
       "959.0      0.133380    5.888496  105.084552  110.968529  \n",
       "960.0      0.089996   -1.670092  101.503853   99.820183  \n",
       "979.0      0.115348    1.216617  100.218200  101.445895  \n",
       "961.0      0.084559   -5.524409  102.200787   96.650131  \n",
       "962.0      0.055843   -1.825295   99.533052   97.688027  \n",
       "980.0      0.110667    2.878055  101.560142  104.454923  \n",
       "963.0     -0.003000   -2.000000   96.900000   94.900000  \n",
       "964.0      0.057905  -11.096350  108.275182   97.149635  \n",
       "981.0      0.051000   -5.000000   97.000000   92.000000  \n",
       "965.0      0.075629    6.276146  100.307148  106.602409  \n",
       "982.0      0.070458   -7.719277  102.819277   95.149398  \n",
       "966.0      0.111641    0.470528   99.759284  100.215843  \n",
       "967.0      0.075235   -2.598039   99.178431   96.582353  \n",
       "968.0      0.055635   -3.759459  100.677027   96.917568  \n",
       "969.0      0.046695   -0.921024   97.590296   96.670081  \n",
       "970.0      0.074904   -0.049788  100.122426  100.070240  \n",
       "971.0      0.076675   -6.642982  102.961404   96.360526  \n",
       "NaN             NaN         NaN         NaN         NaN  \n",
       "983.0      0.090829   -1.978202  101.042472   99.091236  \n",
       "NaN             NaN         NaN         NaN         NaN  \n",
       "NaN             NaN         NaN         NaN         NaN  \n",
       "NaN             NaN         NaN         NaN         NaN  \n",
       "976.0      0.080986   -5.149306  105.446354  100.288194  \n",
       "984.0      0.047000    2.000000  102.800000  104.700000  \n",
       "NaN             NaN         NaN         NaN         NaN  \n",
       "NaN             NaN         NaN         NaN         NaN  \n",
       "987.0      0.045143  -17.928571  100.300000   82.385714  \n",
       "988.0      0.063813   -1.318719   98.910837   97.590640  \n",
       "989.0      0.035650   -4.352500  103.967500   99.552500  \n",
       "990.0      0.079721    0.809840   99.569619  100.378106  \n",
       "NaN             NaN         NaN         NaN         NaN  \n",
       "992.0      0.047222   -4.388889  105.500000  101.033333  \n",
       "NaN             NaN         NaN         NaN         NaN  \n",
       "994.0      0.081841   -2.565174  104.686567  102.121393  \n",
       "1043.0     0.040526  -10.118421   99.811404   89.692982  \n",
       "NaN             NaN         NaN         NaN         NaN  \n",
       "997.0      0.046382   -9.403947  107.571053   98.167105  \n",
       "998.0      0.011137   -1.559477   99.324183   97.814379  \n",
       "999.0      0.065000   -1.300000  107.500000  106.300000  \n",
       "1000.0     0.076740    0.216690  101.930598  102.149652  \n",
       "NaN             NaN         NaN         NaN         NaN  \n",
       "1002.0     0.037040    5.096040   91.571287   96.667327  \n",
       "1003.0     0.071683    4.743333   98.573333  103.316667  \n",
       "NaN             NaN         NaN         NaN         NaN  \n",
       "1495.0     0.176455    9.739871   97.282328  107.021408  \n",
       "1496.0     0.109518    1.198087  102.581043  103.786087  \n",
       "\n",
       "[60 rows x 26 columns]"
      ]
     },
     "execution_count": 5,
     "metadata": {},
     "output_type": "execute_result"
    }
   ],
   "source": [
    "# copy the 'Career' columns to a new dataframe\n",
    "df_career = df['Career'].copy()\n",
    "\n",
    "# export the dataframe to a csv file\n",
    "df_career.to_csv('./interim/player_career_avg.csv')\n",
    "\n",
    "df_career.head(60)\n"
   ]
  },
  {
   "cell_type": "markdown",
   "metadata": {},
   "source": [
    "**Select a penalty for unbounded stats**\n",
    "\n",
    "Drafted players who never played a game in the NBA are perceived as bad draft picks but never accumulated any stats. Since excluding them from the analysis would worsen the relative performance of other players selected at that respective draft position, the empty stats should be replaced by a \"bad stat\". For total points, assists and rebounds, 0 is the absolute minimum and therefore suitable as a replacement stat. However, all other stats are unbounded and don't have a definite minimum value. Using the minimum value in our data would be greatly affected by outliers which is why we opted for a quantile that can be dynamically chosen. We recommend using a quantile between 1% and 5%."
   ]
  },
  {
   "cell_type": "code",
   "execution_count": 6,
   "metadata": {},
   "outputs": [
    {
     "data": {
      "text/html": [
       "<div>\n",
       "<style scoped>\n",
       "    .dataframe tbody tr th:only-of-type {\n",
       "        vertical-align: middle;\n",
       "    }\n",
       "\n",
       "    .dataframe tbody tr th {\n",
       "        vertical-align: top;\n",
       "    }\n",
       "\n",
       "    .dataframe thead th {\n",
       "        text-align: right;\n",
       "    }\n",
       "</style>\n",
       "<table border=\"1\" class=\"dataframe\">\n",
       "  <thead>\n",
       "    <tr style=\"text-align: right;\">\n",
       "      <th>Player ID</th>\n",
       "      <th>Season</th>\n",
       "      <th>Pk</th>\n",
       "      <th>Tm</th>\n",
       "      <th>Player</th>\n",
       "      <th>College</th>\n",
       "      <th>Yrs</th>\n",
       "      <th>G</th>\n",
       "      <th>MP</th>\n",
       "      <th>PTS</th>\n",
       "      <th>TRB</th>\n",
       "      <th>...</th>\n",
       "      <th>TRB.1</th>\n",
       "      <th>AST.1</th>\n",
       "      <th>WS</th>\n",
       "      <th>WS/48</th>\n",
       "      <th>BPM</th>\n",
       "      <th>VORP</th>\n",
       "      <th>PIE</th>\n",
       "      <th>NET_RATING</th>\n",
       "      <th>DEF_RATING</th>\n",
       "      <th>OFF_RATING</th>\n",
       "    </tr>\n",
       "  </thead>\n",
       "  <tbody>\n",
       "    <tr>\n",
       "      <th>947.0</th>\n",
       "      <td>1996</td>\n",
       "      <td>1</td>\n",
       "      <td>PHI</td>\n",
       "      <td>Allen Iverson</td>\n",
       "      <td>Georgetown</td>\n",
       "      <td>14.0</td>\n",
       "      <td>914.0</td>\n",
       "      <td>37584.0</td>\n",
       "      <td>24368.0</td>\n",
       "      <td>3394.0</td>\n",
       "      <td>...</td>\n",
       "      <td>3.7</td>\n",
       "      <td>6.2</td>\n",
       "      <td>99.000</td>\n",
       "      <td>0.12600</td>\n",
       "      <td>3.20</td>\n",
       "      <td>49.6</td>\n",
       "      <td>0.136685</td>\n",
       "      <td>0.846389</td>\n",
       "      <td>102.536105</td>\n",
       "      <td>103.373742</td>\n",
       "    </tr>\n",
       "    <tr>\n",
       "      <th>948.0</th>\n",
       "      <td>1996</td>\n",
       "      <td>2</td>\n",
       "      <td>TOR</td>\n",
       "      <td>Marcus Camby</td>\n",
       "      <td>UMass</td>\n",
       "      <td>17.0</td>\n",
       "      <td>973.0</td>\n",
       "      <td>28684.0</td>\n",
       "      <td>9262.0</td>\n",
       "      <td>9513.0</td>\n",
       "      <td>...</td>\n",
       "      <td>9.8</td>\n",
       "      <td>1.9</td>\n",
       "      <td>81.600</td>\n",
       "      <td>0.13700</td>\n",
       "      <td>2.30</td>\n",
       "      <td>31.3</td>\n",
       "      <td>0.126784</td>\n",
       "      <td>0.228571</td>\n",
       "      <td>102.740699</td>\n",
       "      <td>102.970298</td>\n",
       "    </tr>\n",
       "    <tr>\n",
       "      <th>949.0</th>\n",
       "      <td>1996</td>\n",
       "      <td>3</td>\n",
       "      <td>VAN</td>\n",
       "      <td>Shareef Abdur-Rahim</td>\n",
       "      <td>California</td>\n",
       "      <td>12.0</td>\n",
       "      <td>830.0</td>\n",
       "      <td>28882.0</td>\n",
       "      <td>15028.0</td>\n",
       "      <td>6239.0</td>\n",
       "      <td>...</td>\n",
       "      <td>7.5</td>\n",
       "      <td>2.5</td>\n",
       "      <td>71.200</td>\n",
       "      <td>0.11800</td>\n",
       "      <td>1.00</td>\n",
       "      <td>21.9</td>\n",
       "      <td>0.125880</td>\n",
       "      <td>-5.022892</td>\n",
       "      <td>105.843614</td>\n",
       "      <td>100.801928</td>\n",
       "    </tr>\n",
       "    <tr>\n",
       "      <th>950.0</th>\n",
       "      <td>1996</td>\n",
       "      <td>4</td>\n",
       "      <td>MIL</td>\n",
       "      <td>Stephon Marbury</td>\n",
       "      <td>Georgia Tech</td>\n",
       "      <td>13.0</td>\n",
       "      <td>846.0</td>\n",
       "      <td>31891.0</td>\n",
       "      <td>16297.0</td>\n",
       "      <td>2516.0</td>\n",
       "      <td>...</td>\n",
       "      <td>3.0</td>\n",
       "      <td>7.6</td>\n",
       "      <td>77.500</td>\n",
       "      <td>0.11700</td>\n",
       "      <td>1.80</td>\n",
       "      <td>30.7</td>\n",
       "      <td>0.123372</td>\n",
       "      <td>-1.780615</td>\n",
       "      <td>105.290426</td>\n",
       "      <td>103.501064</td>\n",
       "    </tr>\n",
       "    <tr>\n",
       "      <th>951.0</th>\n",
       "      <td>1996</td>\n",
       "      <td>5</td>\n",
       "      <td>MIN</td>\n",
       "      <td>Ray Allen</td>\n",
       "      <td>UConn</td>\n",
       "      <td>18.0</td>\n",
       "      <td>1300.0</td>\n",
       "      <td>46344.0</td>\n",
       "      <td>24505.0</td>\n",
       "      <td>5272.0</td>\n",
       "      <td>...</td>\n",
       "      <td>4.1</td>\n",
       "      <td>3.4</td>\n",
       "      <td>145.100</td>\n",
       "      <td>0.15000</td>\n",
       "      <td>2.90</td>\n",
       "      <td>57.6</td>\n",
       "      <td>0.119475</td>\n",
       "      <td>3.884615</td>\n",
       "      <td>104.047000</td>\n",
       "      <td>107.940000</td>\n",
       "    </tr>\n",
       "    <tr>\n",
       "      <th>952.0</th>\n",
       "      <td>1996</td>\n",
       "      <td>6</td>\n",
       "      <td>BOS</td>\n",
       "      <td>Antoine Walker</td>\n",
       "      <td>Kentucky</td>\n",
       "      <td>12.0</td>\n",
       "      <td>893.0</td>\n",
       "      <td>31531.0</td>\n",
       "      <td>15647.0</td>\n",
       "      <td>6891.0</td>\n",
       "      <td>...</td>\n",
       "      <td>7.7</td>\n",
       "      <td>3.5</td>\n",
       "      <td>38.100</td>\n",
       "      <td>0.05800</td>\n",
       "      <td>0.30</td>\n",
       "      <td>18.0</td>\n",
       "      <td>0.106725</td>\n",
       "      <td>-2.122172</td>\n",
       "      <td>104.507055</td>\n",
       "      <td>102.397984</td>\n",
       "    </tr>\n",
       "    <tr>\n",
       "      <th>953.0</th>\n",
       "      <td>1996</td>\n",
       "      <td>7</td>\n",
       "      <td>LAC</td>\n",
       "      <td>Lorenzen Wright</td>\n",
       "      <td>Memphis</td>\n",
       "      <td>13.0</td>\n",
       "      <td>778.0</td>\n",
       "      <td>18535.0</td>\n",
       "      <td>6191.0</td>\n",
       "      <td>4943.0</td>\n",
       "      <td>...</td>\n",
       "      <td>6.4</td>\n",
       "      <td>0.8</td>\n",
       "      <td>30.500</td>\n",
       "      <td>0.07900</td>\n",
       "      <td>-2.60</td>\n",
       "      <td>-3.0</td>\n",
       "      <td>0.079762</td>\n",
       "      <td>-3.612725</td>\n",
       "      <td>102.883676</td>\n",
       "      <td>99.275450</td>\n",
       "    </tr>\n",
       "    <tr>\n",
       "      <th>954.0</th>\n",
       "      <td>1996</td>\n",
       "      <td>8</td>\n",
       "      <td>NJN</td>\n",
       "      <td>Kerry Kittles</td>\n",
       "      <td>Villanova</td>\n",
       "      <td>8.0</td>\n",
       "      <td>507.0</td>\n",
       "      <td>16929.0</td>\n",
       "      <td>7165.0</td>\n",
       "      <td>1983.0</td>\n",
       "      <td>...</td>\n",
       "      <td>3.9</td>\n",
       "      <td>2.6</td>\n",
       "      <td>44.800</td>\n",
       "      <td>0.12700</td>\n",
       "      <td>2.20</td>\n",
       "      <td>18.0</td>\n",
       "      <td>0.106501</td>\n",
       "      <td>1.059763</td>\n",
       "      <td>100.949901</td>\n",
       "      <td>101.997436</td>\n",
       "    </tr>\n",
       "    <tr>\n",
       "      <th>955.0</th>\n",
       "      <td>1996</td>\n",
       "      <td>9</td>\n",
       "      <td>DAL</td>\n",
       "      <td>Samaki Walker</td>\n",
       "      <td>Louisville</td>\n",
       "      <td>10.0</td>\n",
       "      <td>445.0</td>\n",
       "      <td>7612.0</td>\n",
       "      <td>2376.0</td>\n",
       "      <td>2089.0</td>\n",
       "      <td>...</td>\n",
       "      <td>4.7</td>\n",
       "      <td>0.6</td>\n",
       "      <td>14.200</td>\n",
       "      <td>0.08900</td>\n",
       "      <td>-2.60</td>\n",
       "      <td>-1.1</td>\n",
       "      <td>0.079793</td>\n",
       "      <td>-4.483371</td>\n",
       "      <td>101.874607</td>\n",
       "      <td>97.406517</td>\n",
       "    </tr>\n",
       "    <tr>\n",
       "      <th>956.0</th>\n",
       "      <td>1996</td>\n",
       "      <td>10</td>\n",
       "      <td>IND</td>\n",
       "      <td>Erick Dampier</td>\n",
       "      <td>Mississippi State</td>\n",
       "      <td>16.0</td>\n",
       "      <td>987.0</td>\n",
       "      <td>24003.0</td>\n",
       "      <td>7309.0</td>\n",
       "      <td>7005.0</td>\n",
       "      <td>...</td>\n",
       "      <td>7.1</td>\n",
       "      <td>0.8</td>\n",
       "      <td>52.700</td>\n",
       "      <td>0.10500</td>\n",
       "      <td>-1.30</td>\n",
       "      <td>4.1</td>\n",
       "      <td>0.082994</td>\n",
       "      <td>0.622594</td>\n",
       "      <td>102.671530</td>\n",
       "      <td>103.291084</td>\n",
       "    </tr>\n",
       "    <tr>\n",
       "      <th>957.0</th>\n",
       "      <td>1996</td>\n",
       "      <td>11</td>\n",
       "      <td>GSW</td>\n",
       "      <td>Todd Fuller</td>\n",
       "      <td>NC State</td>\n",
       "      <td>5.0</td>\n",
       "      <td>225.0</td>\n",
       "      <td>2500.0</td>\n",
       "      <td>835.0</td>\n",
       "      <td>674.0</td>\n",
       "      <td>...</td>\n",
       "      <td>3.0</td>\n",
       "      <td>0.2</td>\n",
       "      <td>2.200</td>\n",
       "      <td>0.04100</td>\n",
       "      <td>-5.70</td>\n",
       "      <td>-2.3</td>\n",
       "      <td>0.060902</td>\n",
       "      <td>-3.978222</td>\n",
       "      <td>100.532444</td>\n",
       "      <td>96.572444</td>\n",
       "    </tr>\n",
       "    <tr>\n",
       "      <th>958.0</th>\n",
       "      <td>1996</td>\n",
       "      <td>12</td>\n",
       "      <td>CLE</td>\n",
       "      <td>Vitaly Potapenko</td>\n",
       "      <td>Wright State University</td>\n",
       "      <td>11.0</td>\n",
       "      <td>610.0</td>\n",
       "      <td>11608.0</td>\n",
       "      <td>3995.0</td>\n",
       "      <td>2725.0</td>\n",
       "      <td>...</td>\n",
       "      <td>4.5</td>\n",
       "      <td>0.7</td>\n",
       "      <td>15.500</td>\n",
       "      <td>0.06400</td>\n",
       "      <td>-4.00</td>\n",
       "      <td>-5.9</td>\n",
       "      <td>0.068572</td>\n",
       "      <td>-1.756066</td>\n",
       "      <td>100.802459</td>\n",
       "      <td>99.049344</td>\n",
       "    </tr>\n",
       "    <tr>\n",
       "      <th>977.0</th>\n",
       "      <td>1996</td>\n",
       "      <td>13</td>\n",
       "      <td>CHH</td>\n",
       "      <td>Kobe Bryant</td>\n",
       "      <td>NaN</td>\n",
       "      <td>20.0</td>\n",
       "      <td>1346.0</td>\n",
       "      <td>48637.0</td>\n",
       "      <td>33643.0</td>\n",
       "      <td>7047.0</td>\n",
       "      <td>...</td>\n",
       "      <td>5.2</td>\n",
       "      <td>4.7</td>\n",
       "      <td>172.700</td>\n",
       "      <td>0.17000</td>\n",
       "      <td>4.60</td>\n",
       "      <td>80.1</td>\n",
       "      <td>0.147353</td>\n",
       "      <td>3.856909</td>\n",
       "      <td>104.002377</td>\n",
       "      <td>107.856018</td>\n",
       "    </tr>\n",
       "    <tr>\n",
       "      <th>978.0</th>\n",
       "      <td>1996</td>\n",
       "      <td>14</td>\n",
       "      <td>SAC</td>\n",
       "      <td>Peja Stojaković</td>\n",
       "      <td>NaN</td>\n",
       "      <td>13.0</td>\n",
       "      <td>804.0</td>\n",
       "      <td>26966.0</td>\n",
       "      <td>13647.0</td>\n",
       "      <td>3782.0</td>\n",
       "      <td>...</td>\n",
       "      <td>4.7</td>\n",
       "      <td>1.8</td>\n",
       "      <td>82.600</td>\n",
       "      <td>0.14700</td>\n",
       "      <td>1.90</td>\n",
       "      <td>26.2</td>\n",
       "      <td>0.109571</td>\n",
       "      <td>4.868657</td>\n",
       "      <td>102.800622</td>\n",
       "      <td>107.674005</td>\n",
       "    </tr>\n",
       "    <tr>\n",
       "      <th>959.0</th>\n",
       "      <td>1996</td>\n",
       "      <td>15</td>\n",
       "      <td>PHO</td>\n",
       "      <td>Steve Nash</td>\n",
       "      <td>Santa Clara</td>\n",
       "      <td>18.0</td>\n",
       "      <td>1217.0</td>\n",
       "      <td>38069.0</td>\n",
       "      <td>17387.0</td>\n",
       "      <td>3642.0</td>\n",
       "      <td>...</td>\n",
       "      <td>3.0</td>\n",
       "      <td>8.5</td>\n",
       "      <td>129.700</td>\n",
       "      <td>0.16400</td>\n",
       "      <td>3.00</td>\n",
       "      <td>48.2</td>\n",
       "      <td>0.133380</td>\n",
       "      <td>5.888496</td>\n",
       "      <td>105.084552</td>\n",
       "      <td>110.968529</td>\n",
       "    </tr>\n",
       "    <tr>\n",
       "      <th>960.0</th>\n",
       "      <td>1996</td>\n",
       "      <td>16</td>\n",
       "      <td>CHH</td>\n",
       "      <td>Tony Delk</td>\n",
       "      <td>Kentucky</td>\n",
       "      <td>10.0</td>\n",
       "      <td>545.0</td>\n",
       "      <td>11702.0</td>\n",
       "      <td>4957.0</td>\n",
       "      <td>1351.0</td>\n",
       "      <td>...</td>\n",
       "      <td>2.5</td>\n",
       "      <td>1.9</td>\n",
       "      <td>19.500</td>\n",
       "      <td>0.08000</td>\n",
       "      <td>-0.40</td>\n",
       "      <td>4.8</td>\n",
       "      <td>0.089996</td>\n",
       "      <td>-1.670092</td>\n",
       "      <td>101.503853</td>\n",
       "      <td>99.820183</td>\n",
       "    </tr>\n",
       "    <tr>\n",
       "      <th>979.0</th>\n",
       "      <td>1996</td>\n",
       "      <td>17</td>\n",
       "      <td>POR</td>\n",
       "      <td>Jermaine O'Neal</td>\n",
       "      <td>NaN</td>\n",
       "      <td>18.0</td>\n",
       "      <td>1011.0</td>\n",
       "      <td>27364.0</td>\n",
       "      <td>13309.0</td>\n",
       "      <td>7261.0</td>\n",
       "      <td>...</td>\n",
       "      <td>7.2</td>\n",
       "      <td>1.4</td>\n",
       "      <td>66.000</td>\n",
       "      <td>0.11600</td>\n",
       "      <td>0.30</td>\n",
       "      <td>15.6</td>\n",
       "      <td>0.115348</td>\n",
       "      <td>1.216617</td>\n",
       "      <td>100.218200</td>\n",
       "      <td>101.445895</td>\n",
       "    </tr>\n",
       "    <tr>\n",
       "      <th>961.0</th>\n",
       "      <td>1996</td>\n",
       "      <td>18</td>\n",
       "      <td>NYK</td>\n",
       "      <td>John Wallace</td>\n",
       "      <td>Syracuse</td>\n",
       "      <td>7.0</td>\n",
       "      <td>381.0</td>\n",
       "      <td>6143.0</td>\n",
       "      <td>2901.0</td>\n",
       "      <td>1061.0</td>\n",
       "      <td>...</td>\n",
       "      <td>2.8</td>\n",
       "      <td>0.7</td>\n",
       "      <td>6.400</td>\n",
       "      <td>0.05000</td>\n",
       "      <td>-2.70</td>\n",
       "      <td>-1.0</td>\n",
       "      <td>0.084559</td>\n",
       "      <td>-5.524409</td>\n",
       "      <td>102.200787</td>\n",
       "      <td>96.650131</td>\n",
       "    </tr>\n",
       "    <tr>\n",
       "      <th>962.0</th>\n",
       "      <td>1996</td>\n",
       "      <td>19</td>\n",
       "      <td>NYK</td>\n",
       "      <td>Walter McCarty</td>\n",
       "      <td>Kentucky</td>\n",
       "      <td>10.0</td>\n",
       "      <td>593.0</td>\n",
       "      <td>10374.0</td>\n",
       "      <td>3056.0</td>\n",
       "      <td>1554.0</td>\n",
       "      <td>...</td>\n",
       "      <td>2.6</td>\n",
       "      <td>1.1</td>\n",
       "      <td>13.700</td>\n",
       "      <td>0.06400</td>\n",
       "      <td>-1.70</td>\n",
       "      <td>0.8</td>\n",
       "      <td>0.055843</td>\n",
       "      <td>-1.825295</td>\n",
       "      <td>99.533052</td>\n",
       "      <td>97.688027</td>\n",
       "    </tr>\n",
       "    <tr>\n",
       "      <th>980.0</th>\n",
       "      <td>1996</td>\n",
       "      <td>20</td>\n",
       "      <td>CLE</td>\n",
       "      <td>Zydrunas Ilgauskas</td>\n",
       "      <td>NaN</td>\n",
       "      <td>13.0</td>\n",
       "      <td>843.0</td>\n",
       "      <td>22965.0</td>\n",
       "      <td>10976.0</td>\n",
       "      <td>6191.0</td>\n",
       "      <td>...</td>\n",
       "      <td>7.3</td>\n",
       "      <td>1.1</td>\n",
       "      <td>66.300</td>\n",
       "      <td>0.13900</td>\n",
       "      <td>-0.20</td>\n",
       "      <td>10.2</td>\n",
       "      <td>0.110667</td>\n",
       "      <td>2.878055</td>\n",
       "      <td>101.560142</td>\n",
       "      <td>104.454923</td>\n",
       "    </tr>\n",
       "    <tr>\n",
       "      <th>963.0</th>\n",
       "      <td>1996</td>\n",
       "      <td>21</td>\n",
       "      <td>NYK</td>\n",
       "      <td>Dontae' Jones</td>\n",
       "      <td>Mississippi State</td>\n",
       "      <td>1.0</td>\n",
       "      <td>15.0</td>\n",
       "      <td>91.0</td>\n",
       "      <td>44.0</td>\n",
       "      <td>9.0</td>\n",
       "      <td>...</td>\n",
       "      <td>0.6</td>\n",
       "      <td>0.3</td>\n",
       "      <td>-0.300</td>\n",
       "      <td>-0.17500</td>\n",
       "      <td>-10.90</td>\n",
       "      <td>-0.2</td>\n",
       "      <td>-0.003000</td>\n",
       "      <td>-2.000000</td>\n",
       "      <td>96.900000</td>\n",
       "      <td>94.900000</td>\n",
       "    </tr>\n",
       "    <tr>\n",
       "      <th>964.0</th>\n",
       "      <td>1996</td>\n",
       "      <td>22</td>\n",
       "      <td>VAN</td>\n",
       "      <td>Roy Rogers</td>\n",
       "      <td>Alabama</td>\n",
       "      <td>3.0</td>\n",
       "      <td>137.0</td>\n",
       "      <td>2309.0</td>\n",
       "      <td>652.0</td>\n",
       "      <td>483.0</td>\n",
       "      <td>...</td>\n",
       "      <td>3.5</td>\n",
       "      <td>0.4</td>\n",
       "      <td>1.700</td>\n",
       "      <td>0.03500</td>\n",
       "      <td>-3.70</td>\n",
       "      <td>-1.0</td>\n",
       "      <td>0.057905</td>\n",
       "      <td>-11.096350</td>\n",
       "      <td>108.275182</td>\n",
       "      <td>97.149635</td>\n",
       "    </tr>\n",
       "    <tr>\n",
       "      <th>981.0</th>\n",
       "      <td>1996</td>\n",
       "      <td>23</td>\n",
       "      <td>DEN</td>\n",
       "      <td>Efthimios Rentzias</td>\n",
       "      <td>NaN</td>\n",
       "      <td>1.0</td>\n",
       "      <td>35.0</td>\n",
       "      <td>144.0</td>\n",
       "      <td>52.0</td>\n",
       "      <td>26.0</td>\n",
       "      <td>...</td>\n",
       "      <td>0.7</td>\n",
       "      <td>0.2</td>\n",
       "      <td>0.200</td>\n",
       "      <td>0.05800</td>\n",
       "      <td>-3.80</td>\n",
       "      <td>-0.1</td>\n",
       "      <td>0.051000</td>\n",
       "      <td>-5.000000</td>\n",
       "      <td>97.000000</td>\n",
       "      <td>92.000000</td>\n",
       "    </tr>\n",
       "    <tr>\n",
       "      <th>965.0</th>\n",
       "      <td>1996</td>\n",
       "      <td>24</td>\n",
       "      <td>LAL</td>\n",
       "      <td>Derek Fisher</td>\n",
       "      <td>Little Rock</td>\n",
       "      <td>18.0</td>\n",
       "      <td>1287.0</td>\n",
       "      <td>32719.0</td>\n",
       "      <td>10713.0</td>\n",
       "      <td>2658.0</td>\n",
       "      <td>...</td>\n",
       "      <td>2.1</td>\n",
       "      <td>3.0</td>\n",
       "      <td>62.300</td>\n",
       "      <td>0.09100</td>\n",
       "      <td>-0.90</td>\n",
       "      <td>8.9</td>\n",
       "      <td>0.075629</td>\n",
       "      <td>6.276146</td>\n",
       "      <td>100.307148</td>\n",
       "      <td>106.602409</td>\n",
       "    </tr>\n",
       "    <tr>\n",
       "      <th>982.0</th>\n",
       "      <td>1996</td>\n",
       "      <td>25</td>\n",
       "      <td>UTA</td>\n",
       "      <td>Martin Müürsepp</td>\n",
       "      <td>NaN</td>\n",
       "      <td>2.0</td>\n",
       "      <td>83.0</td>\n",
       "      <td>951.0</td>\n",
       "      <td>389.0</td>\n",
       "      <td>181.0</td>\n",
       "      <td>...</td>\n",
       "      <td>2.2</td>\n",
       "      <td>0.6</td>\n",
       "      <td>2.000</td>\n",
       "      <td>0.10000</td>\n",
       "      <td>-1.60</td>\n",
       "      <td>0.1</td>\n",
       "      <td>0.070458</td>\n",
       "      <td>-7.719277</td>\n",
       "      <td>102.819277</td>\n",
       "      <td>95.149398</td>\n",
       "    </tr>\n",
       "    <tr>\n",
       "      <th>966.0</th>\n",
       "      <td>1996</td>\n",
       "      <td>26</td>\n",
       "      <td>DET</td>\n",
       "      <td>Jerome Williams</td>\n",
       "      <td>Georgetown</td>\n",
       "      <td>9.0</td>\n",
       "      <td>587.0</td>\n",
       "      <td>12755.0</td>\n",
       "      <td>3865.0</td>\n",
       "      <td>3743.0</td>\n",
       "      <td>...</td>\n",
       "      <td>6.4</td>\n",
       "      <td>0.8</td>\n",
       "      <td>37.900</td>\n",
       "      <td>0.14300</td>\n",
       "      <td>0.30</td>\n",
       "      <td>7.4</td>\n",
       "      <td>0.111641</td>\n",
       "      <td>0.470528</td>\n",
       "      <td>99.759284</td>\n",
       "      <td>100.215843</td>\n",
       "    </tr>\n",
       "    <tr>\n",
       "      <th>967.0</th>\n",
       "      <td>1996</td>\n",
       "      <td>27</td>\n",
       "      <td>ORL</td>\n",
       "      <td>Brian Evans</td>\n",
       "      <td>Indiana</td>\n",
       "      <td>3.0</td>\n",
       "      <td>102.0</td>\n",
       "      <td>1097.0</td>\n",
       "      <td>375.0</td>\n",
       "      <td>164.0</td>\n",
       "      <td>...</td>\n",
       "      <td>1.6</td>\n",
       "      <td>0.8</td>\n",
       "      <td>1.700</td>\n",
       "      <td>0.07600</td>\n",
       "      <td>-0.80</td>\n",
       "      <td>0.3</td>\n",
       "      <td>0.075235</td>\n",
       "      <td>-2.598039</td>\n",
       "      <td>99.178431</td>\n",
       "      <td>96.582353</td>\n",
       "    </tr>\n",
       "    <tr>\n",
       "      <th>968.0</th>\n",
       "      <td>1996</td>\n",
       "      <td>28</td>\n",
       "      <td>ATL</td>\n",
       "      <td>Priest Lauderdale</td>\n",
       "      <td>Central State University</td>\n",
       "      <td>2.0</td>\n",
       "      <td>74.0</td>\n",
       "      <td>525.0</td>\n",
       "      <td>255.0</td>\n",
       "      <td>143.0</td>\n",
       "      <td>...</td>\n",
       "      <td>1.9</td>\n",
       "      <td>0.4</td>\n",
       "      <td>-0.800</td>\n",
       "      <td>-0.07400</td>\n",
       "      <td>-7.90</td>\n",
       "      <td>-0.8</td>\n",
       "      <td>0.055635</td>\n",
       "      <td>-3.759459</td>\n",
       "      <td>100.677027</td>\n",
       "      <td>96.917568</td>\n",
       "    </tr>\n",
       "    <tr>\n",
       "      <th>969.0</th>\n",
       "      <td>1996</td>\n",
       "      <td>29</td>\n",
       "      <td>CHI</td>\n",
       "      <td>Travis Knight</td>\n",
       "      <td>UConn</td>\n",
       "      <td>7.0</td>\n",
       "      <td>371.0</td>\n",
       "      <td>4566.0</td>\n",
       "      <td>1276.0</td>\n",
       "      <td>1160.0</td>\n",
       "      <td>...</td>\n",
       "      <td>3.1</td>\n",
       "      <td>0.6</td>\n",
       "      <td>7.900</td>\n",
       "      <td>0.08300</td>\n",
       "      <td>-3.00</td>\n",
       "      <td>-1.1</td>\n",
       "      <td>0.046695</td>\n",
       "      <td>-0.921024</td>\n",
       "      <td>97.590296</td>\n",
       "      <td>96.670081</td>\n",
       "    </tr>\n",
       "    <tr>\n",
       "      <th>970.0</th>\n",
       "      <td>1996</td>\n",
       "      <td>30</td>\n",
       "      <td>HOU</td>\n",
       "      <td>Othella Harrington</td>\n",
       "      <td>Georgetown</td>\n",
       "      <td>12.0</td>\n",
       "      <td>709.0</td>\n",
       "      <td>13924.0</td>\n",
       "      <td>5212.0</td>\n",
       "      <td>3130.0</td>\n",
       "      <td>...</td>\n",
       "      <td>4.4</td>\n",
       "      <td>0.6</td>\n",
       "      <td>23.100</td>\n",
       "      <td>0.08000</td>\n",
       "      <td>-3.40</td>\n",
       "      <td>-4.9</td>\n",
       "      <td>0.074904</td>\n",
       "      <td>-0.049788</td>\n",
       "      <td>100.122426</td>\n",
       "      <td>100.070240</td>\n",
       "    </tr>\n",
       "    <tr>\n",
       "      <th>971.0</th>\n",
       "      <td>1996</td>\n",
       "      <td>31</td>\n",
       "      <td>PHI</td>\n",
       "      <td>Mark Hendrickson</td>\n",
       "      <td>Washington State</td>\n",
       "      <td>4.0</td>\n",
       "      <td>114.0</td>\n",
       "      <td>1508.0</td>\n",
       "      <td>381.0</td>\n",
       "      <td>316.0</td>\n",
       "      <td>...</td>\n",
       "      <td>2.8</td>\n",
       "      <td>0.6</td>\n",
       "      <td>2.100</td>\n",
       "      <td>0.06700</td>\n",
       "      <td>-3.80</td>\n",
       "      <td>-0.7</td>\n",
       "      <td>0.076675</td>\n",
       "      <td>-6.642982</td>\n",
       "      <td>102.961404</td>\n",
       "      <td>96.360526</td>\n",
       "    </tr>\n",
       "    <tr>\n",
       "      <th>NaN</th>\n",
       "      <td>1996</td>\n",
       "      <td>32</td>\n",
       "      <td>PHI</td>\n",
       "      <td>Ryan Minor</td>\n",
       "      <td>Oklahoma</td>\n",
       "      <td>NaN</td>\n",
       "      <td>NaN</td>\n",
       "      <td>NaN</td>\n",
       "      <td>0.0</td>\n",
       "      <td>0.0</td>\n",
       "      <td>...</td>\n",
       "      <td>NaN</td>\n",
       "      <td>NaN</td>\n",
       "      <td>-0.674</td>\n",
       "      <td>-0.13038</td>\n",
       "      <td>-11.86</td>\n",
       "      <td>-3.1</td>\n",
       "      <td>-0.011780</td>\n",
       "      <td>-27.112273</td>\n",
       "      <td>117.072699</td>\n",
       "      <td>79.536857</td>\n",
       "    </tr>\n",
       "    <tr>\n",
       "      <th>983.0</th>\n",
       "      <td>1996</td>\n",
       "      <td>33</td>\n",
       "      <td>MIL</td>\n",
       "      <td>Moochie Norris</td>\n",
       "      <td>University of West Florida</td>\n",
       "      <td>9.0</td>\n",
       "      <td>445.0</td>\n",
       "      <td>7640.0</td>\n",
       "      <td>2272.0</td>\n",
       "      <td>868.0</td>\n",
       "      <td>...</td>\n",
       "      <td>2.0</td>\n",
       "      <td>2.8</td>\n",
       "      <td>10.000</td>\n",
       "      <td>0.06300</td>\n",
       "      <td>-1.40</td>\n",
       "      <td>1.2</td>\n",
       "      <td>0.090829</td>\n",
       "      <td>-1.978202</td>\n",
       "      <td>101.042472</td>\n",
       "      <td>99.091236</td>\n",
       "    </tr>\n",
       "    <tr>\n",
       "      <th>NaN</th>\n",
       "      <td>1996</td>\n",
       "      <td>34</td>\n",
       "      <td>DAL</td>\n",
       "      <td>Shawn Harvey</td>\n",
       "      <td>West Virginia State University</td>\n",
       "      <td>NaN</td>\n",
       "      <td>NaN</td>\n",
       "      <td>NaN</td>\n",
       "      <td>0.0</td>\n",
       "      <td>0.0</td>\n",
       "      <td>...</td>\n",
       "      <td>NaN</td>\n",
       "      <td>NaN</td>\n",
       "      <td>-0.674</td>\n",
       "      <td>-0.13038</td>\n",
       "      <td>-11.86</td>\n",
       "      <td>-3.1</td>\n",
       "      <td>-0.011780</td>\n",
       "      <td>-27.112273</td>\n",
       "      <td>117.072699</td>\n",
       "      <td>79.536857</td>\n",
       "    </tr>\n",
       "    <tr>\n",
       "      <th>NaN</th>\n",
       "      <td>1996</td>\n",
       "      <td>35</td>\n",
       "      <td>SEA</td>\n",
       "      <td>Joseph Blair</td>\n",
       "      <td>Arizona</td>\n",
       "      <td>NaN</td>\n",
       "      <td>NaN</td>\n",
       "      <td>NaN</td>\n",
       "      <td>0.0</td>\n",
       "      <td>0.0</td>\n",
       "      <td>...</td>\n",
       "      <td>NaN</td>\n",
       "      <td>NaN</td>\n",
       "      <td>-0.674</td>\n",
       "      <td>-0.13038</td>\n",
       "      <td>-11.86</td>\n",
       "      <td>-3.1</td>\n",
       "      <td>-0.011780</td>\n",
       "      <td>-27.112273</td>\n",
       "      <td>117.072699</td>\n",
       "      <td>79.536857</td>\n",
       "    </tr>\n",
       "    <tr>\n",
       "      <th>NaN</th>\n",
       "      <td>1996</td>\n",
       "      <td>36</td>\n",
       "      <td>LAC</td>\n",
       "      <td>Doron Sheffer</td>\n",
       "      <td>UConn</td>\n",
       "      <td>NaN</td>\n",
       "      <td>NaN</td>\n",
       "      <td>NaN</td>\n",
       "      <td>0.0</td>\n",
       "      <td>0.0</td>\n",
       "      <td>...</td>\n",
       "      <td>NaN</td>\n",
       "      <td>NaN</td>\n",
       "      <td>-0.674</td>\n",
       "      <td>-0.13038</td>\n",
       "      <td>-11.86</td>\n",
       "      <td>-3.1</td>\n",
       "      <td>-0.011780</td>\n",
       "      <td>-27.112273</td>\n",
       "      <td>117.072699</td>\n",
       "      <td>79.536857</td>\n",
       "    </tr>\n",
       "    <tr>\n",
       "      <th>976.0</th>\n",
       "      <td>1996</td>\n",
       "      <td>37</td>\n",
       "      <td>DEN</td>\n",
       "      <td>Jeff McInnis</td>\n",
       "      <td>UNC</td>\n",
       "      <td>11.0</td>\n",
       "      <td>576.0</td>\n",
       "      <td>15927.0</td>\n",
       "      <td>5396.0</td>\n",
       "      <td>1170.0</td>\n",
       "      <td>...</td>\n",
       "      <td>2.0</td>\n",
       "      <td>4.4</td>\n",
       "      <td>23.100</td>\n",
       "      <td>0.07000</td>\n",
       "      <td>-2.10</td>\n",
       "      <td>-0.3</td>\n",
       "      <td>0.080986</td>\n",
       "      <td>-5.149306</td>\n",
       "      <td>105.446354</td>\n",
       "      <td>100.288194</td>\n",
       "    </tr>\n",
       "    <tr>\n",
       "      <th>984.0</th>\n",
       "      <td>1996</td>\n",
       "      <td>38</td>\n",
       "      <td>BOS</td>\n",
       "      <td>Steve Hamer</td>\n",
       "      <td>Tennessee</td>\n",
       "      <td>1.0</td>\n",
       "      <td>35.0</td>\n",
       "      <td>268.0</td>\n",
       "      <td>76.0</td>\n",
       "      <td>60.0</td>\n",
       "      <td>...</td>\n",
       "      <td>1.7</td>\n",
       "      <td>0.2</td>\n",
       "      <td>0.200</td>\n",
       "      <td>0.03100</td>\n",
       "      <td>-6.50</td>\n",
       "      <td>-0.3</td>\n",
       "      <td>0.047000</td>\n",
       "      <td>2.000000</td>\n",
       "      <td>102.800000</td>\n",
       "      <td>104.700000</td>\n",
       "    </tr>\n",
       "    <tr>\n",
       "      <th>NaN</th>\n",
       "      <td>1996</td>\n",
       "      <td>39</td>\n",
       "      <td>PHO</td>\n",
       "      <td>Russ Millard</td>\n",
       "      <td>Iowa</td>\n",
       "      <td>NaN</td>\n",
       "      <td>NaN</td>\n",
       "      <td>NaN</td>\n",
       "      <td>0.0</td>\n",
       "      <td>0.0</td>\n",
       "      <td>...</td>\n",
       "      <td>NaN</td>\n",
       "      <td>NaN</td>\n",
       "      <td>-0.674</td>\n",
       "      <td>-0.13038</td>\n",
       "      <td>-11.86</td>\n",
       "      <td>-3.1</td>\n",
       "      <td>-0.011780</td>\n",
       "      <td>-27.112273</td>\n",
       "      <td>117.072699</td>\n",
       "      <td>79.536857</td>\n",
       "    </tr>\n",
       "    <tr>\n",
       "      <th>NaN</th>\n",
       "      <td>1996</td>\n",
       "      <td>40</td>\n",
       "      <td>GSW</td>\n",
       "      <td>Marcus Mann</td>\n",
       "      <td>Mississippi Valley State University</td>\n",
       "      <td>NaN</td>\n",
       "      <td>NaN</td>\n",
       "      <td>NaN</td>\n",
       "      <td>0.0</td>\n",
       "      <td>0.0</td>\n",
       "      <td>...</td>\n",
       "      <td>NaN</td>\n",
       "      <td>NaN</td>\n",
       "      <td>-0.674</td>\n",
       "      <td>-0.13038</td>\n",
       "      <td>-11.86</td>\n",
       "      <td>-3.1</td>\n",
       "      <td>-0.011780</td>\n",
       "      <td>-27.112273</td>\n",
       "      <td>117.072699</td>\n",
       "      <td>79.536857</td>\n",
       "    </tr>\n",
       "    <tr>\n",
       "      <th>987.0</th>\n",
       "      <td>1996</td>\n",
       "      <td>41</td>\n",
       "      <td>SAC</td>\n",
       "      <td>Jason Sasser</td>\n",
       "      <td>Texas Tech</td>\n",
       "      <td>2.0</td>\n",
       "      <td>14.0</td>\n",
       "      <td>108.0</td>\n",
       "      <td>30.0</td>\n",
       "      <td>15.0</td>\n",
       "      <td>...</td>\n",
       "      <td>1.1</td>\n",
       "      <td>0.3</td>\n",
       "      <td>-0.674</td>\n",
       "      <td>-0.01400</td>\n",
       "      <td>-5.70</td>\n",
       "      <td>-0.1</td>\n",
       "      <td>0.045143</td>\n",
       "      <td>-17.928571</td>\n",
       "      <td>100.300000</td>\n",
       "      <td>82.385714</td>\n",
       "    </tr>\n",
       "    <tr>\n",
       "      <th>988.0</th>\n",
       "      <td>1996</td>\n",
       "      <td>42</td>\n",
       "      <td>HOU</td>\n",
       "      <td>Randy Livingston</td>\n",
       "      <td>LSU</td>\n",
       "      <td>11.0</td>\n",
       "      <td>203.0</td>\n",
       "      <td>2684.0</td>\n",
       "      <td>773.0</td>\n",
       "      <td>282.0</td>\n",
       "      <td>...</td>\n",
       "      <td>1.4</td>\n",
       "      <td>2.0</td>\n",
       "      <td>2.300</td>\n",
       "      <td>0.04100</td>\n",
       "      <td>-2.50</td>\n",
       "      <td>-0.3</td>\n",
       "      <td>0.063813</td>\n",
       "      <td>-1.318719</td>\n",
       "      <td>98.910837</td>\n",
       "      <td>97.590640</td>\n",
       "    </tr>\n",
       "    <tr>\n",
       "      <th>989.0</th>\n",
       "      <td>1996</td>\n",
       "      <td>43</td>\n",
       "      <td>PHO</td>\n",
       "      <td>Ben Davis</td>\n",
       "      <td>Arizona</td>\n",
       "      <td>4.0</td>\n",
       "      <td>40.0</td>\n",
       "      <td>154.0</td>\n",
       "      <td>54.0</td>\n",
       "      <td>53.0</td>\n",
       "      <td>...</td>\n",
       "      <td>1.3</td>\n",
       "      <td>0.1</td>\n",
       "      <td>0.100</td>\n",
       "      <td>0.04000</td>\n",
       "      <td>-5.50</td>\n",
       "      <td>-0.1</td>\n",
       "      <td>0.035650</td>\n",
       "      <td>-4.352500</td>\n",
       "      <td>103.967500</td>\n",
       "      <td>99.552500</td>\n",
       "    </tr>\n",
       "    <tr>\n",
       "      <th>990.0</th>\n",
       "      <td>1996</td>\n",
       "      <td>44</td>\n",
       "      <td>CHH</td>\n",
       "      <td>Malik Rose</td>\n",
       "      <td>Drexel</td>\n",
       "      <td>13.0</td>\n",
       "      <td>813.0</td>\n",
       "      <td>13404.0</td>\n",
       "      <td>5003.0</td>\n",
       "      <td>3371.0</td>\n",
       "      <td>...</td>\n",
       "      <td>4.1</td>\n",
       "      <td>0.8</td>\n",
       "      <td>26.500</td>\n",
       "      <td>0.09500</td>\n",
       "      <td>-2.10</td>\n",
       "      <td>-0.4</td>\n",
       "      <td>0.079721</td>\n",
       "      <td>0.809840</td>\n",
       "      <td>99.569619</td>\n",
       "      <td>100.378106</td>\n",
       "    </tr>\n",
       "    <tr>\n",
       "      <th>NaN</th>\n",
       "      <td>1996</td>\n",
       "      <td>45</td>\n",
       "      <td>SEA</td>\n",
       "      <td>Joe Vogel</td>\n",
       "      <td>Colorado State</td>\n",
       "      <td>NaN</td>\n",
       "      <td>NaN</td>\n",
       "      <td>NaN</td>\n",
       "      <td>0.0</td>\n",
       "      <td>0.0</td>\n",
       "      <td>...</td>\n",
       "      <td>NaN</td>\n",
       "      <td>NaN</td>\n",
       "      <td>-0.674</td>\n",
       "      <td>-0.13038</td>\n",
       "      <td>-11.86</td>\n",
       "      <td>-3.1</td>\n",
       "      <td>-0.011780</td>\n",
       "      <td>-27.112273</td>\n",
       "      <td>117.072699</td>\n",
       "      <td>79.536857</td>\n",
       "    </tr>\n",
       "    <tr>\n",
       "      <th>992.0</th>\n",
       "      <td>1996</td>\n",
       "      <td>46</td>\n",
       "      <td>POR</td>\n",
       "      <td>Marcus Brown</td>\n",
       "      <td>Murray State</td>\n",
       "      <td>2.0</td>\n",
       "      <td>27.0</td>\n",
       "      <td>229.0</td>\n",
       "      <td>92.0</td>\n",
       "      <td>22.0</td>\n",
       "      <td>...</td>\n",
       "      <td>0.8</td>\n",
       "      <td>0.9</td>\n",
       "      <td>0.300</td>\n",
       "      <td>0.06600</td>\n",
       "      <td>-2.60</td>\n",
       "      <td>-3.1</td>\n",
       "      <td>0.047222</td>\n",
       "      <td>-4.388889</td>\n",
       "      <td>105.500000</td>\n",
       "      <td>101.033333</td>\n",
       "    </tr>\n",
       "    <tr>\n",
       "      <th>NaN</th>\n",
       "      <td>1996</td>\n",
       "      <td>47</td>\n",
       "      <td>SEA</td>\n",
       "      <td>Ron Riley</td>\n",
       "      <td>Arizona State</td>\n",
       "      <td>NaN</td>\n",
       "      <td>NaN</td>\n",
       "      <td>NaN</td>\n",
       "      <td>0.0</td>\n",
       "      <td>0.0</td>\n",
       "      <td>...</td>\n",
       "      <td>NaN</td>\n",
       "      <td>NaN</td>\n",
       "      <td>-0.674</td>\n",
       "      <td>-0.13038</td>\n",
       "      <td>-11.86</td>\n",
       "      <td>-3.1</td>\n",
       "      <td>-0.011780</td>\n",
       "      <td>-27.112273</td>\n",
       "      <td>117.072699</td>\n",
       "      <td>79.536857</td>\n",
       "    </tr>\n",
       "    <tr>\n",
       "      <th>994.0</th>\n",
       "      <td>1996</td>\n",
       "      <td>48</td>\n",
       "      <td>PHI</td>\n",
       "      <td>Jamie Feick</td>\n",
       "      <td>Michigan State</td>\n",
       "      <td>5.0</td>\n",
       "      <td>201.0</td>\n",
       "      <td>4316.0</td>\n",
       "      <td>911.0</td>\n",
       "      <td>1437.0</td>\n",
       "      <td>...</td>\n",
       "      <td>7.1</td>\n",
       "      <td>0.7</td>\n",
       "      <td>8.200</td>\n",
       "      <td>0.09100</td>\n",
       "      <td>-2.70</td>\n",
       "      <td>-0.7</td>\n",
       "      <td>0.081841</td>\n",
       "      <td>-2.565174</td>\n",
       "      <td>104.686567</td>\n",
       "      <td>102.121393</td>\n",
       "    </tr>\n",
       "    <tr>\n",
       "      <th>1043.0</th>\n",
       "      <td>1996</td>\n",
       "      <td>49</td>\n",
       "      <td>ORL</td>\n",
       "      <td>Amal McCaskill</td>\n",
       "      <td>Marquette</td>\n",
       "      <td>4.0</td>\n",
       "      <td>114.0</td>\n",
       "      <td>968.0</td>\n",
       "      <td>204.0</td>\n",
       "      <td>213.0</td>\n",
       "      <td>...</td>\n",
       "      <td>1.9</td>\n",
       "      <td>0.3</td>\n",
       "      <td>0.500</td>\n",
       "      <td>0.02400</td>\n",
       "      <td>-4.70</td>\n",
       "      <td>-0.7</td>\n",
       "      <td>0.040526</td>\n",
       "      <td>-10.118421</td>\n",
       "      <td>99.811404</td>\n",
       "      <td>89.692982</td>\n",
       "    </tr>\n",
       "    <tr>\n",
       "      <th>NaN</th>\n",
       "      <td>1996</td>\n",
       "      <td>50</td>\n",
       "      <td>HOU</td>\n",
       "      <td>Terrell Bell</td>\n",
       "      <td>Georgia</td>\n",
       "      <td>NaN</td>\n",
       "      <td>NaN</td>\n",
       "      <td>NaN</td>\n",
       "      <td>0.0</td>\n",
       "      <td>0.0</td>\n",
       "      <td>...</td>\n",
       "      <td>NaN</td>\n",
       "      <td>NaN</td>\n",
       "      <td>-0.674</td>\n",
       "      <td>-0.13038</td>\n",
       "      <td>-11.86</td>\n",
       "      <td>-3.1</td>\n",
       "      <td>-0.011780</td>\n",
       "      <td>-27.112273</td>\n",
       "      <td>117.072699</td>\n",
       "      <td>79.536857</td>\n",
       "    </tr>\n",
       "    <tr>\n",
       "      <th>997.0</th>\n",
       "      <td>1996</td>\n",
       "      <td>51</td>\n",
       "      <td>VAN</td>\n",
       "      <td>Chris Robinson</td>\n",
       "      <td>Western Kentucky</td>\n",
       "      <td>2.0</td>\n",
       "      <td>76.0</td>\n",
       "      <td>1095.0</td>\n",
       "      <td>350.0</td>\n",
       "      <td>117.0</td>\n",
       "      <td>...</td>\n",
       "      <td>1.5</td>\n",
       "      <td>1.4</td>\n",
       "      <td>-0.100</td>\n",
       "      <td>-0.00300</td>\n",
       "      <td>-4.00</td>\n",
       "      <td>-0.6</td>\n",
       "      <td>0.046382</td>\n",
       "      <td>-9.403947</td>\n",
       "      <td>107.571053</td>\n",
       "      <td>98.167105</td>\n",
       "    </tr>\n",
       "    <tr>\n",
       "      <th>998.0</th>\n",
       "      <td>1996</td>\n",
       "      <td>52</td>\n",
       "      <td>IND</td>\n",
       "      <td>Mark Pope</td>\n",
       "      <td>Kentucky</td>\n",
       "      <td>6.0</td>\n",
       "      <td>153.0</td>\n",
       "      <td>1634.0</td>\n",
       "      <td>285.0</td>\n",
       "      <td>261.0</td>\n",
       "      <td>...</td>\n",
       "      <td>1.7</td>\n",
       "      <td>0.4</td>\n",
       "      <td>1.300</td>\n",
       "      <td>0.03800</td>\n",
       "      <td>-4.30</td>\n",
       "      <td>-0.9</td>\n",
       "      <td>0.011137</td>\n",
       "      <td>-1.559477</td>\n",
       "      <td>99.324183</td>\n",
       "      <td>97.814379</td>\n",
       "    </tr>\n",
       "    <tr>\n",
       "      <th>999.0</th>\n",
       "      <td>1996</td>\n",
       "      <td>53</td>\n",
       "      <td>MIL</td>\n",
       "      <td>Jeff Nordgaard</td>\n",
       "      <td>Green Bay</td>\n",
       "      <td>1.0</td>\n",
       "      <td>13.0</td>\n",
       "      <td>48.0</td>\n",
       "      <td>18.0</td>\n",
       "      <td>14.0</td>\n",
       "      <td>...</td>\n",
       "      <td>1.1</td>\n",
       "      <td>0.2</td>\n",
       "      <td>-0.674</td>\n",
       "      <td>0.04300</td>\n",
       "      <td>-3.70</td>\n",
       "      <td>-3.1</td>\n",
       "      <td>0.065000</td>\n",
       "      <td>-1.300000</td>\n",
       "      <td>107.500000</td>\n",
       "      <td>106.300000</td>\n",
       "    </tr>\n",
       "    <tr>\n",
       "      <th>1000.0</th>\n",
       "      <td>1996</td>\n",
       "      <td>54</td>\n",
       "      <td>UTA</td>\n",
       "      <td>Shandon Anderson</td>\n",
       "      <td>Georgia</td>\n",
       "      <td>10.0</td>\n",
       "      <td>719.0</td>\n",
       "      <td>15946.0</td>\n",
       "      <td>5327.0</td>\n",
       "      <td>2252.0</td>\n",
       "      <td>...</td>\n",
       "      <td>3.1</td>\n",
       "      <td>1.4</td>\n",
       "      <td>23.600</td>\n",
       "      <td>0.07100</td>\n",
       "      <td>-1.30</td>\n",
       "      <td>3.0</td>\n",
       "      <td>0.076740</td>\n",
       "      <td>0.216690</td>\n",
       "      <td>101.930598</td>\n",
       "      <td>102.149652</td>\n",
       "    </tr>\n",
       "    <tr>\n",
       "      <th>NaN</th>\n",
       "      <td>1996</td>\n",
       "      <td>55</td>\n",
       "      <td>WSB</td>\n",
       "      <td>Ronnie Henderson</td>\n",
       "      <td>LSU</td>\n",
       "      <td>NaN</td>\n",
       "      <td>NaN</td>\n",
       "      <td>NaN</td>\n",
       "      <td>0.0</td>\n",
       "      <td>0.0</td>\n",
       "      <td>...</td>\n",
       "      <td>NaN</td>\n",
       "      <td>NaN</td>\n",
       "      <td>-0.674</td>\n",
       "      <td>-0.13038</td>\n",
       "      <td>-11.86</td>\n",
       "      <td>-3.1</td>\n",
       "      <td>-0.011780</td>\n",
       "      <td>-27.112273</td>\n",
       "      <td>117.072699</td>\n",
       "      <td>79.536857</td>\n",
       "    </tr>\n",
       "    <tr>\n",
       "      <th>1002.0</th>\n",
       "      <td>1996</td>\n",
       "      <td>56</td>\n",
       "      <td>CLE</td>\n",
       "      <td>Reggie Geary</td>\n",
       "      <td>Arizona</td>\n",
       "      <td>2.0</td>\n",
       "      <td>101.0</td>\n",
       "      <td>931.0</td>\n",
       "      <td>209.0</td>\n",
       "      <td>82.0</td>\n",
       "      <td>...</td>\n",
       "      <td>0.8</td>\n",
       "      <td>1.1</td>\n",
       "      <td>0.600</td>\n",
       "      <td>0.03200</td>\n",
       "      <td>-2.50</td>\n",
       "      <td>-0.1</td>\n",
       "      <td>0.037040</td>\n",
       "      <td>5.096040</td>\n",
       "      <td>91.571287</td>\n",
       "      <td>96.667327</td>\n",
       "    </tr>\n",
       "    <tr>\n",
       "      <th>1003.0</th>\n",
       "      <td>1996</td>\n",
       "      <td>57</td>\n",
       "      <td>SEA</td>\n",
       "      <td>Drew Barry</td>\n",
       "      <td>Georgia Tech</td>\n",
       "      <td>3.0</td>\n",
       "      <td>60.0</td>\n",
       "      <td>598.0</td>\n",
       "      <td>134.0</td>\n",
       "      <td>67.0</td>\n",
       "      <td>...</td>\n",
       "      <td>1.1</td>\n",
       "      <td>1.9</td>\n",
       "      <td>0.600</td>\n",
       "      <td>0.05100</td>\n",
       "      <td>-3.50</td>\n",
       "      <td>-0.2</td>\n",
       "      <td>0.071683</td>\n",
       "      <td>4.743333</td>\n",
       "      <td>98.573333</td>\n",
       "      <td>103.316667</td>\n",
       "    </tr>\n",
       "    <tr>\n",
       "      <th>NaN</th>\n",
       "      <td>1996</td>\n",
       "      <td>58</td>\n",
       "      <td>DAL</td>\n",
       "      <td>Darnell Robinson</td>\n",
       "      <td>Arkansas</td>\n",
       "      <td>NaN</td>\n",
       "      <td>NaN</td>\n",
       "      <td>NaN</td>\n",
       "      <td>0.0</td>\n",
       "      <td>0.0</td>\n",
       "      <td>...</td>\n",
       "      <td>NaN</td>\n",
       "      <td>NaN</td>\n",
       "      <td>-0.674</td>\n",
       "      <td>-0.13038</td>\n",
       "      <td>-11.86</td>\n",
       "      <td>-3.1</td>\n",
       "      <td>-0.011780</td>\n",
       "      <td>-27.112273</td>\n",
       "      <td>117.072699</td>\n",
       "      <td>79.536857</td>\n",
       "    </tr>\n",
       "    <tr>\n",
       "      <th>1495.0</th>\n",
       "      <td>1997</td>\n",
       "      <td>1</td>\n",
       "      <td>SAS</td>\n",
       "      <td>Tim Duncan</td>\n",
       "      <td>Wake Forest</td>\n",
       "      <td>19.0</td>\n",
       "      <td>1392.0</td>\n",
       "      <td>47368.0</td>\n",
       "      <td>26496.0</td>\n",
       "      <td>15091.0</td>\n",
       "      <td>...</td>\n",
       "      <td>10.8</td>\n",
       "      <td>3.0</td>\n",
       "      <td>206.400</td>\n",
       "      <td>0.20900</td>\n",
       "      <td>5.60</td>\n",
       "      <td>91.1</td>\n",
       "      <td>0.176455</td>\n",
       "      <td>9.739871</td>\n",
       "      <td>97.282328</td>\n",
       "      <td>107.021408</td>\n",
       "    </tr>\n",
       "    <tr>\n",
       "      <th>1496.0</th>\n",
       "      <td>1997</td>\n",
       "      <td>2</td>\n",
       "      <td>PHI</td>\n",
       "      <td>Keith Van Horn</td>\n",
       "      <td>Utah</td>\n",
       "      <td>9.0</td>\n",
       "      <td>575.0</td>\n",
       "      <td>18150.0</td>\n",
       "      <td>9206.0</td>\n",
       "      <td>3909.0</td>\n",
       "      <td>...</td>\n",
       "      <td>6.8</td>\n",
       "      <td>1.6</td>\n",
       "      <td>41.700</td>\n",
       "      <td>0.11000</td>\n",
       "      <td>0.10</td>\n",
       "      <td>9.6</td>\n",
       "      <td>0.109518</td>\n",
       "      <td>1.198087</td>\n",
       "      <td>102.581043</td>\n",
       "      <td>103.786087</td>\n",
       "    </tr>\n",
       "  </tbody>\n",
       "</table>\n",
       "<p>60 rows × 26 columns</p>\n",
       "</div>"
      ],
      "text/plain": [
       "Player ID  Season  Pk   Tm               Player  \\\n",
       "947.0        1996   1  PHI        Allen Iverson   \n",
       "948.0        1996   2  TOR         Marcus Camby   \n",
       "949.0        1996   3  VAN  Shareef Abdur-Rahim   \n",
       "950.0        1996   4  MIL      Stephon Marbury   \n",
       "951.0        1996   5  MIN            Ray Allen   \n",
       "952.0        1996   6  BOS       Antoine Walker   \n",
       "953.0        1996   7  LAC      Lorenzen Wright   \n",
       "954.0        1996   8  NJN        Kerry Kittles   \n",
       "955.0        1996   9  DAL        Samaki Walker   \n",
       "956.0        1996  10  IND        Erick Dampier   \n",
       "957.0        1996  11  GSW          Todd Fuller   \n",
       "958.0        1996  12  CLE     Vitaly Potapenko   \n",
       "977.0        1996  13  CHH          Kobe Bryant   \n",
       "978.0        1996  14  SAC      Peja Stojaković   \n",
       "959.0        1996  15  PHO           Steve Nash   \n",
       "960.0        1996  16  CHH            Tony Delk   \n",
       "979.0        1996  17  POR      Jermaine O'Neal   \n",
       "961.0        1996  18  NYK         John Wallace   \n",
       "962.0        1996  19  NYK       Walter McCarty   \n",
       "980.0        1996  20  CLE   Zydrunas Ilgauskas   \n",
       "963.0        1996  21  NYK        Dontae' Jones   \n",
       "964.0        1996  22  VAN           Roy Rogers   \n",
       "981.0        1996  23  DEN   Efthimios Rentzias   \n",
       "965.0        1996  24  LAL         Derek Fisher   \n",
       "982.0        1996  25  UTA      Martin Müürsepp   \n",
       "966.0        1996  26  DET      Jerome Williams   \n",
       "967.0        1996  27  ORL          Brian Evans   \n",
       "968.0        1996  28  ATL    Priest Lauderdale   \n",
       "969.0        1996  29  CHI        Travis Knight   \n",
       "970.0        1996  30  HOU   Othella Harrington   \n",
       "971.0        1996  31  PHI     Mark Hendrickson   \n",
       "NaN          1996  32  PHI           Ryan Minor   \n",
       "983.0        1996  33  MIL       Moochie Norris   \n",
       "NaN          1996  34  DAL         Shawn Harvey   \n",
       "NaN          1996  35  SEA         Joseph Blair   \n",
       "NaN          1996  36  LAC        Doron Sheffer   \n",
       "976.0        1996  37  DEN         Jeff McInnis   \n",
       "984.0        1996  38  BOS          Steve Hamer   \n",
       "NaN          1996  39  PHO         Russ Millard   \n",
       "NaN          1996  40  GSW          Marcus Mann   \n",
       "987.0        1996  41  SAC         Jason Sasser   \n",
       "988.0        1996  42  HOU     Randy Livingston   \n",
       "989.0        1996  43  PHO            Ben Davis   \n",
       "990.0        1996  44  CHH           Malik Rose   \n",
       "NaN          1996  45  SEA            Joe Vogel   \n",
       "992.0        1996  46  POR         Marcus Brown   \n",
       "NaN          1996  47  SEA            Ron Riley   \n",
       "994.0        1996  48  PHI          Jamie Feick   \n",
       "1043.0       1996  49  ORL       Amal McCaskill   \n",
       "NaN          1996  50  HOU         Terrell Bell   \n",
       "997.0        1996  51  VAN       Chris Robinson   \n",
       "998.0        1996  52  IND            Mark Pope   \n",
       "999.0        1996  53  MIL       Jeff Nordgaard   \n",
       "1000.0       1996  54  UTA     Shandon Anderson   \n",
       "NaN          1996  55  WSB     Ronnie Henderson   \n",
       "1002.0       1996  56  CLE         Reggie Geary   \n",
       "1003.0       1996  57  SEA           Drew Barry   \n",
       "NaN          1996  58  DAL     Darnell Robinson   \n",
       "1495.0       1997   1  SAS           Tim Duncan   \n",
       "1496.0       1997   2  PHI       Keith Van Horn   \n",
       "\n",
       "Player ID                              College   Yrs       G       MP  \\\n",
       "947.0                               Georgetown  14.0   914.0  37584.0   \n",
       "948.0                                    UMass  17.0   973.0  28684.0   \n",
       "949.0                               California  12.0   830.0  28882.0   \n",
       "950.0                             Georgia Tech  13.0   846.0  31891.0   \n",
       "951.0                                    UConn  18.0  1300.0  46344.0   \n",
       "952.0                                 Kentucky  12.0   893.0  31531.0   \n",
       "953.0                                  Memphis  13.0   778.0  18535.0   \n",
       "954.0                                Villanova   8.0   507.0  16929.0   \n",
       "955.0                               Louisville  10.0   445.0   7612.0   \n",
       "956.0                        Mississippi State  16.0   987.0  24003.0   \n",
       "957.0                                 NC State   5.0   225.0   2500.0   \n",
       "958.0                  Wright State University  11.0   610.0  11608.0   \n",
       "977.0                                      NaN  20.0  1346.0  48637.0   \n",
       "978.0                                      NaN  13.0   804.0  26966.0   \n",
       "959.0                              Santa Clara  18.0  1217.0  38069.0   \n",
       "960.0                                 Kentucky  10.0   545.0  11702.0   \n",
       "979.0                                      NaN  18.0  1011.0  27364.0   \n",
       "961.0                                 Syracuse   7.0   381.0   6143.0   \n",
       "962.0                                 Kentucky  10.0   593.0  10374.0   \n",
       "980.0                                      NaN  13.0   843.0  22965.0   \n",
       "963.0                        Mississippi State   1.0    15.0     91.0   \n",
       "964.0                                  Alabama   3.0   137.0   2309.0   \n",
       "981.0                                      NaN   1.0    35.0    144.0   \n",
       "965.0                              Little Rock  18.0  1287.0  32719.0   \n",
       "982.0                                      NaN   2.0    83.0    951.0   \n",
       "966.0                               Georgetown   9.0   587.0  12755.0   \n",
       "967.0                                  Indiana   3.0   102.0   1097.0   \n",
       "968.0                 Central State University   2.0    74.0    525.0   \n",
       "969.0                                    UConn   7.0   371.0   4566.0   \n",
       "970.0                               Georgetown  12.0   709.0  13924.0   \n",
       "971.0                         Washington State   4.0   114.0   1508.0   \n",
       "NaN                                   Oklahoma   NaN     NaN      NaN   \n",
       "983.0               University of West Florida   9.0   445.0   7640.0   \n",
       "NaN             West Virginia State University   NaN     NaN      NaN   \n",
       "NaN                                    Arizona   NaN     NaN      NaN   \n",
       "NaN                                      UConn   NaN     NaN      NaN   \n",
       "976.0                                      UNC  11.0   576.0  15927.0   \n",
       "984.0                                Tennessee   1.0    35.0    268.0   \n",
       "NaN                                       Iowa   NaN     NaN      NaN   \n",
       "NaN        Mississippi Valley State University   NaN     NaN      NaN   \n",
       "987.0                               Texas Tech   2.0    14.0    108.0   \n",
       "988.0                                      LSU  11.0   203.0   2684.0   \n",
       "989.0                                  Arizona   4.0    40.0    154.0   \n",
       "990.0                                   Drexel  13.0   813.0  13404.0   \n",
       "NaN                             Colorado State   NaN     NaN      NaN   \n",
       "992.0                             Murray State   2.0    27.0    229.0   \n",
       "NaN                              Arizona State   NaN     NaN      NaN   \n",
       "994.0                           Michigan State   5.0   201.0   4316.0   \n",
       "1043.0                               Marquette   4.0   114.0    968.0   \n",
       "NaN                                    Georgia   NaN     NaN      NaN   \n",
       "997.0                         Western Kentucky   2.0    76.0   1095.0   \n",
       "998.0                                 Kentucky   6.0   153.0   1634.0   \n",
       "999.0                                Green Bay   1.0    13.0     48.0   \n",
       "1000.0                                 Georgia  10.0   719.0  15946.0   \n",
       "NaN                                        LSU   NaN     NaN      NaN   \n",
       "1002.0                                 Arizona   2.0   101.0    931.0   \n",
       "1003.0                            Georgia Tech   3.0    60.0    598.0   \n",
       "NaN                                   Arkansas   NaN     NaN      NaN   \n",
       "1495.0                             Wake Forest  19.0  1392.0  47368.0   \n",
       "1496.0                                    Utah   9.0   575.0  18150.0   \n",
       "\n",
       "Player ID      PTS      TRB  ...  TRB.1  AST.1       WS    WS/48    BPM  VORP  \\\n",
       "947.0      24368.0   3394.0  ...    3.7    6.2   99.000  0.12600   3.20  49.6   \n",
       "948.0       9262.0   9513.0  ...    9.8    1.9   81.600  0.13700   2.30  31.3   \n",
       "949.0      15028.0   6239.0  ...    7.5    2.5   71.200  0.11800   1.00  21.9   \n",
       "950.0      16297.0   2516.0  ...    3.0    7.6   77.500  0.11700   1.80  30.7   \n",
       "951.0      24505.0   5272.0  ...    4.1    3.4  145.100  0.15000   2.90  57.6   \n",
       "952.0      15647.0   6891.0  ...    7.7    3.5   38.100  0.05800   0.30  18.0   \n",
       "953.0       6191.0   4943.0  ...    6.4    0.8   30.500  0.07900  -2.60  -3.0   \n",
       "954.0       7165.0   1983.0  ...    3.9    2.6   44.800  0.12700   2.20  18.0   \n",
       "955.0       2376.0   2089.0  ...    4.7    0.6   14.200  0.08900  -2.60  -1.1   \n",
       "956.0       7309.0   7005.0  ...    7.1    0.8   52.700  0.10500  -1.30   4.1   \n",
       "957.0        835.0    674.0  ...    3.0    0.2    2.200  0.04100  -5.70  -2.3   \n",
       "958.0       3995.0   2725.0  ...    4.5    0.7   15.500  0.06400  -4.00  -5.9   \n",
       "977.0      33643.0   7047.0  ...    5.2    4.7  172.700  0.17000   4.60  80.1   \n",
       "978.0      13647.0   3782.0  ...    4.7    1.8   82.600  0.14700   1.90  26.2   \n",
       "959.0      17387.0   3642.0  ...    3.0    8.5  129.700  0.16400   3.00  48.2   \n",
       "960.0       4957.0   1351.0  ...    2.5    1.9   19.500  0.08000  -0.40   4.8   \n",
       "979.0      13309.0   7261.0  ...    7.2    1.4   66.000  0.11600   0.30  15.6   \n",
       "961.0       2901.0   1061.0  ...    2.8    0.7    6.400  0.05000  -2.70  -1.0   \n",
       "962.0       3056.0   1554.0  ...    2.6    1.1   13.700  0.06400  -1.70   0.8   \n",
       "980.0      10976.0   6191.0  ...    7.3    1.1   66.300  0.13900  -0.20  10.2   \n",
       "963.0         44.0      9.0  ...    0.6    0.3   -0.300 -0.17500 -10.90  -0.2   \n",
       "964.0        652.0    483.0  ...    3.5    0.4    1.700  0.03500  -3.70  -1.0   \n",
       "981.0         52.0     26.0  ...    0.7    0.2    0.200  0.05800  -3.80  -0.1   \n",
       "965.0      10713.0   2658.0  ...    2.1    3.0   62.300  0.09100  -0.90   8.9   \n",
       "982.0        389.0    181.0  ...    2.2    0.6    2.000  0.10000  -1.60   0.1   \n",
       "966.0       3865.0   3743.0  ...    6.4    0.8   37.900  0.14300   0.30   7.4   \n",
       "967.0        375.0    164.0  ...    1.6    0.8    1.700  0.07600  -0.80   0.3   \n",
       "968.0        255.0    143.0  ...    1.9    0.4   -0.800 -0.07400  -7.90  -0.8   \n",
       "969.0       1276.0   1160.0  ...    3.1    0.6    7.900  0.08300  -3.00  -1.1   \n",
       "970.0       5212.0   3130.0  ...    4.4    0.6   23.100  0.08000  -3.40  -4.9   \n",
       "971.0        381.0    316.0  ...    2.8    0.6    2.100  0.06700  -3.80  -0.7   \n",
       "NaN            0.0      0.0  ...    NaN    NaN   -0.674 -0.13038 -11.86  -3.1   \n",
       "983.0       2272.0    868.0  ...    2.0    2.8   10.000  0.06300  -1.40   1.2   \n",
       "NaN            0.0      0.0  ...    NaN    NaN   -0.674 -0.13038 -11.86  -3.1   \n",
       "NaN            0.0      0.0  ...    NaN    NaN   -0.674 -0.13038 -11.86  -3.1   \n",
       "NaN            0.0      0.0  ...    NaN    NaN   -0.674 -0.13038 -11.86  -3.1   \n",
       "976.0       5396.0   1170.0  ...    2.0    4.4   23.100  0.07000  -2.10  -0.3   \n",
       "984.0         76.0     60.0  ...    1.7    0.2    0.200  0.03100  -6.50  -0.3   \n",
       "NaN            0.0      0.0  ...    NaN    NaN   -0.674 -0.13038 -11.86  -3.1   \n",
       "NaN            0.0      0.0  ...    NaN    NaN   -0.674 -0.13038 -11.86  -3.1   \n",
       "987.0         30.0     15.0  ...    1.1    0.3   -0.674 -0.01400  -5.70  -0.1   \n",
       "988.0        773.0    282.0  ...    1.4    2.0    2.300  0.04100  -2.50  -0.3   \n",
       "989.0         54.0     53.0  ...    1.3    0.1    0.100  0.04000  -5.50  -0.1   \n",
       "990.0       5003.0   3371.0  ...    4.1    0.8   26.500  0.09500  -2.10  -0.4   \n",
       "NaN            0.0      0.0  ...    NaN    NaN   -0.674 -0.13038 -11.86  -3.1   \n",
       "992.0         92.0     22.0  ...    0.8    0.9    0.300  0.06600  -2.60  -3.1   \n",
       "NaN            0.0      0.0  ...    NaN    NaN   -0.674 -0.13038 -11.86  -3.1   \n",
       "994.0        911.0   1437.0  ...    7.1    0.7    8.200  0.09100  -2.70  -0.7   \n",
       "1043.0       204.0    213.0  ...    1.9    0.3    0.500  0.02400  -4.70  -0.7   \n",
       "NaN            0.0      0.0  ...    NaN    NaN   -0.674 -0.13038 -11.86  -3.1   \n",
       "997.0        350.0    117.0  ...    1.5    1.4   -0.100 -0.00300  -4.00  -0.6   \n",
       "998.0        285.0    261.0  ...    1.7    0.4    1.300  0.03800  -4.30  -0.9   \n",
       "999.0         18.0     14.0  ...    1.1    0.2   -0.674  0.04300  -3.70  -3.1   \n",
       "1000.0      5327.0   2252.0  ...    3.1    1.4   23.600  0.07100  -1.30   3.0   \n",
       "NaN            0.0      0.0  ...    NaN    NaN   -0.674 -0.13038 -11.86  -3.1   \n",
       "1002.0       209.0     82.0  ...    0.8    1.1    0.600  0.03200  -2.50  -0.1   \n",
       "1003.0       134.0     67.0  ...    1.1    1.9    0.600  0.05100  -3.50  -0.2   \n",
       "NaN            0.0      0.0  ...    NaN    NaN   -0.674 -0.13038 -11.86  -3.1   \n",
       "1495.0     26496.0  15091.0  ...   10.8    3.0  206.400  0.20900   5.60  91.1   \n",
       "1496.0      9206.0   3909.0  ...    6.8    1.6   41.700  0.11000   0.10   9.6   \n",
       "\n",
       "Player ID       PIE  NET_RATING  DEF_RATING  OFF_RATING  \n",
       "947.0      0.136685    0.846389  102.536105  103.373742  \n",
       "948.0      0.126784    0.228571  102.740699  102.970298  \n",
       "949.0      0.125880   -5.022892  105.843614  100.801928  \n",
       "950.0      0.123372   -1.780615  105.290426  103.501064  \n",
       "951.0      0.119475    3.884615  104.047000  107.940000  \n",
       "952.0      0.106725   -2.122172  104.507055  102.397984  \n",
       "953.0      0.079762   -3.612725  102.883676   99.275450  \n",
       "954.0      0.106501    1.059763  100.949901  101.997436  \n",
       "955.0      0.079793   -4.483371  101.874607   97.406517  \n",
       "956.0      0.082994    0.622594  102.671530  103.291084  \n",
       "957.0      0.060902   -3.978222  100.532444   96.572444  \n",
       "958.0      0.068572   -1.756066  100.802459   99.049344  \n",
       "977.0      0.147353    3.856909  104.002377  107.856018  \n",
       "978.0      0.109571    4.868657  102.800622  107.674005  \n",
       "959.0      0.133380    5.888496  105.084552  110.968529  \n",
       "960.0      0.089996   -1.670092  101.503853   99.820183  \n",
       "979.0      0.115348    1.216617  100.218200  101.445895  \n",
       "961.0      0.084559   -5.524409  102.200787   96.650131  \n",
       "962.0      0.055843   -1.825295   99.533052   97.688027  \n",
       "980.0      0.110667    2.878055  101.560142  104.454923  \n",
       "963.0     -0.003000   -2.000000   96.900000   94.900000  \n",
       "964.0      0.057905  -11.096350  108.275182   97.149635  \n",
       "981.0      0.051000   -5.000000   97.000000   92.000000  \n",
       "965.0      0.075629    6.276146  100.307148  106.602409  \n",
       "982.0      0.070458   -7.719277  102.819277   95.149398  \n",
       "966.0      0.111641    0.470528   99.759284  100.215843  \n",
       "967.0      0.075235   -2.598039   99.178431   96.582353  \n",
       "968.0      0.055635   -3.759459  100.677027   96.917568  \n",
       "969.0      0.046695   -0.921024   97.590296   96.670081  \n",
       "970.0      0.074904   -0.049788  100.122426  100.070240  \n",
       "971.0      0.076675   -6.642982  102.961404   96.360526  \n",
       "NaN       -0.011780  -27.112273  117.072699   79.536857  \n",
       "983.0      0.090829   -1.978202  101.042472   99.091236  \n",
       "NaN       -0.011780  -27.112273  117.072699   79.536857  \n",
       "NaN       -0.011780  -27.112273  117.072699   79.536857  \n",
       "NaN       -0.011780  -27.112273  117.072699   79.536857  \n",
       "976.0      0.080986   -5.149306  105.446354  100.288194  \n",
       "984.0      0.047000    2.000000  102.800000  104.700000  \n",
       "NaN       -0.011780  -27.112273  117.072699   79.536857  \n",
       "NaN       -0.011780  -27.112273  117.072699   79.536857  \n",
       "987.0      0.045143  -17.928571  100.300000   82.385714  \n",
       "988.0      0.063813   -1.318719   98.910837   97.590640  \n",
       "989.0      0.035650   -4.352500  103.967500   99.552500  \n",
       "990.0      0.079721    0.809840   99.569619  100.378106  \n",
       "NaN       -0.011780  -27.112273  117.072699   79.536857  \n",
       "992.0      0.047222   -4.388889  105.500000  101.033333  \n",
       "NaN       -0.011780  -27.112273  117.072699   79.536857  \n",
       "994.0      0.081841   -2.565174  104.686567  102.121393  \n",
       "1043.0     0.040526  -10.118421   99.811404   89.692982  \n",
       "NaN       -0.011780  -27.112273  117.072699   79.536857  \n",
       "997.0      0.046382   -9.403947  107.571053   98.167105  \n",
       "998.0      0.011137   -1.559477   99.324183   97.814379  \n",
       "999.0      0.065000   -1.300000  107.500000  106.300000  \n",
       "1000.0     0.076740    0.216690  101.930598  102.149652  \n",
       "NaN       -0.011780  -27.112273  117.072699   79.536857  \n",
       "1002.0     0.037040    5.096040   91.571287   96.667327  \n",
       "1003.0     0.071683    4.743333   98.573333  103.316667  \n",
       "NaN       -0.011780  -27.112273  117.072699   79.536857  \n",
       "1495.0     0.176455    9.739871   97.282328  107.021408  \n",
       "1496.0     0.109518    1.198087  102.581043  103.786087  \n",
       "\n",
       "[60 rows x 26 columns]"
      ]
     },
     "execution_count": 6,
     "metadata": {},
     "output_type": "execute_result"
    }
   ],
   "source": [
    "# TODO: Allow filtering by season range\n",
    "\n",
    "penalty_quantile = 0.02 # TODO: Replace with widget sometime\n",
    "\n",
    "relevant_stats = ['PTS', 'TRB', 'AST', 'WS', 'WS/48', 'BPM', 'VORP', 'PIE', 'OFF_RATING', 'DEF_RATING', 'NET_RATING']\n",
    "na_fill_values = {'PTS': 0, 'TRB': 0, 'AST': 0, 'WS': df_career['WS'].quantile(penalty_quantile), 'WS/48': df_career['WS/48'].quantile(penalty_quantile), 'BPM': df_career['BPM'].quantile(penalty_quantile), 'VORP': df_career['VORP'].quantile(penalty_quantile), 'PIE': df_career['PIE'].quantile(penalty_quantile), 'OFF_RATING': df_career['OFF_RATING'].quantile(penalty_quantile), 'DEF_RATING': df_career['DEF_RATING'].quantile(1-penalty_quantile), 'NET_RATING': df_career['NET_RATING'].quantile(penalty_quantile)}\n",
    "\n",
    "# fill the NaNs with the respective entry in the na_fill_values dict for each column\n",
    "df_career_na_filled = df_career.fillna(value=na_fill_values)\n",
    "\n",
    "df_career_na_filled.head(60)"
   ]
  },
  {
   "cell_type": "code",
   "execution_count": 53,
   "metadata": {},
   "outputs": [
    {
     "data": {
      "text/html": [
       "<div>\n",
       "<style scoped>\n",
       "    .dataframe tbody tr th:only-of-type {\n",
       "        vertical-align: middle;\n",
       "    }\n",
       "\n",
       "    .dataframe tbody tr th {\n",
       "        vertical-align: top;\n",
       "    }\n",
       "\n",
       "    .dataframe thead th {\n",
       "        text-align: right;\n",
       "    }\n",
       "</style>\n",
       "<table border=\"1\" class=\"dataframe\">\n",
       "  <thead>\n",
       "    <tr style=\"text-align: right;\">\n",
       "      <th>Player ID</th>\n",
       "      <th>Pk</th>\n",
       "      <th>PTS</th>\n",
       "      <th>TRB</th>\n",
       "      <th>AST</th>\n",
       "      <th>WS</th>\n",
       "      <th>WS/48</th>\n",
       "      <th>BPM</th>\n",
       "      <th>VORP</th>\n",
       "      <th>PIE</th>\n",
       "      <th>OFF_RATING</th>\n",
       "      <th>DEF_RATING</th>\n",
       "      <th>NET_RATING</th>\n",
       "    </tr>\n",
       "  </thead>\n",
       "  <tbody>\n",
       "    <tr>\n",
       "      <th>0</th>\n",
       "      <td>1</td>\n",
       "      <td>10584.814815</td>\n",
       "      <td>4343.777778</td>\n",
       "      <td>2085.592593</td>\n",
       "      <td>58.014815</td>\n",
       "      <td>0.120926</td>\n",
       "      <td>1.429630</td>\n",
       "      <td>23.292593</td>\n",
       "      <td>0.124651</td>\n",
       "      <td>107.487503</td>\n",
       "      <td>106.777783</td>\n",
       "      <td>0.704352</td>\n",
       "    </tr>\n",
       "    <tr>\n",
       "      <th>1</th>\n",
       "      <td>2</td>\n",
       "      <td>7187.888889</td>\n",
       "      <td>3181.740741</td>\n",
       "      <td>1377.740741</td>\n",
       "      <td>35.960222</td>\n",
       "      <td>0.083764</td>\n",
       "      <td>-0.691111</td>\n",
       "      <td>10.307407</td>\n",
       "      <td>0.100532</td>\n",
       "      <td>103.784086</td>\n",
       "      <td>107.382250</td>\n",
       "      <td>-3.207812</td>\n",
       "    </tr>\n",
       "    <tr>\n",
       "      <th>2</th>\n",
       "      <td>3</td>\n",
       "      <td>10229.111111</td>\n",
       "      <td>3584.666667</td>\n",
       "      <td>2222.814815</td>\n",
       "      <td>52.744444</td>\n",
       "      <td>0.116148</td>\n",
       "      <td>1.274074</td>\n",
       "      <td>19.259259</td>\n",
       "      <td>0.117689</td>\n",
       "      <td>107.041839</td>\n",
       "      <td>107.019079</td>\n",
       "      <td>0.020454</td>\n",
       "    </tr>\n",
       "    <tr>\n",
       "      <th>3</th>\n",
       "      <td>4</td>\n",
       "      <td>8261.629630</td>\n",
       "      <td>3193.777778</td>\n",
       "      <td>2149.666667</td>\n",
       "      <td>42.859259</td>\n",
       "      <td>0.094815</td>\n",
       "      <td>-0.620741</td>\n",
       "      <td>13.607407</td>\n",
       "      <td>0.101631</td>\n",
       "      <td>106.379093</td>\n",
       "      <td>107.328083</td>\n",
       "      <td>-0.949534</td>\n",
       "    </tr>\n",
       "    <tr>\n",
       "      <th>4</th>\n",
       "      <td>5</td>\n",
       "      <td>8369.962963</td>\n",
       "      <td>2950.629630</td>\n",
       "      <td>1954.444444</td>\n",
       "      <td>39.886148</td>\n",
       "      <td>0.083815</td>\n",
       "      <td>-0.514815</td>\n",
       "      <td>13.133333</td>\n",
       "      <td>0.097731</td>\n",
       "      <td>105.009115</td>\n",
       "      <td>106.955090</td>\n",
       "      <td>-1.945165</td>\n",
       "    </tr>\n",
       "    <tr>\n",
       "      <th>5</th>\n",
       "      <td>6</td>\n",
       "      <td>4981.259259</td>\n",
       "      <td>1965.925926</td>\n",
       "      <td>977.444444</td>\n",
       "      <td>23.578741</td>\n",
       "      <td>0.080430</td>\n",
       "      <td>-0.666667</td>\n",
       "      <td>6.881481</td>\n",
       "      <td>0.090968</td>\n",
       "      <td>104.194691</td>\n",
       "      <td>106.552246</td>\n",
       "      <td>-2.353500</td>\n",
       "    </tr>\n",
       "    <tr>\n",
       "      <th>6</th>\n",
       "      <td>7</td>\n",
       "      <td>7493.222222</td>\n",
       "      <td>2754.370370</td>\n",
       "      <td>1558.444444</td>\n",
       "      <td>32.992593</td>\n",
       "      <td>0.084407</td>\n",
       "      <td>-1.209630</td>\n",
       "      <td>7.862963</td>\n",
       "      <td>0.095110</td>\n",
       "      <td>105.717086</td>\n",
       "      <td>107.377567</td>\n",
       "      <td>-1.664906</td>\n",
       "    </tr>\n",
       "    <tr>\n",
       "      <th>7</th>\n",
       "      <td>8</td>\n",
       "      <td>5479.666667</td>\n",
       "      <td>2033.259259</td>\n",
       "      <td>1219.111111</td>\n",
       "      <td>22.874074</td>\n",
       "      <td>0.076296</td>\n",
       "      <td>-1.665185</td>\n",
       "      <td>4.966667</td>\n",
       "      <td>0.085489</td>\n",
       "      <td>104.309812</td>\n",
       "      <td>106.343669</td>\n",
       "      <td>-2.033688</td>\n",
       "    </tr>\n",
       "    <tr>\n",
       "      <th>8</th>\n",
       "      <td>9</td>\n",
       "      <td>7624.037037</td>\n",
       "      <td>3266.888889</td>\n",
       "      <td>1507.222222</td>\n",
       "      <td>42.896296</td>\n",
       "      <td>0.095296</td>\n",
       "      <td>-0.533333</td>\n",
       "      <td>14.081481</td>\n",
       "      <td>0.100264</td>\n",
       "      <td>105.066280</td>\n",
       "      <td>106.602401</td>\n",
       "      <td>-1.530061</td>\n",
       "    </tr>\n",
       "    <tr>\n",
       "      <th>9</th>\n",
       "      <td>10</td>\n",
       "      <td>6987.000000</td>\n",
       "      <td>2425.444444</td>\n",
       "      <td>1464.074074</td>\n",
       "      <td>32.655556</td>\n",
       "      <td>0.080259</td>\n",
       "      <td>-1.177778</td>\n",
       "      <td>9.422222</td>\n",
       "      <td>0.087978</td>\n",
       "      <td>105.069798</td>\n",
       "      <td>106.502830</td>\n",
       "      <td>-1.429809</td>\n",
       "    </tr>\n",
       "    <tr>\n",
       "      <th>10</th>\n",
       "      <td>11</td>\n",
       "      <td>3633.481481</td>\n",
       "      <td>1392.222222</td>\n",
       "      <td>670.037037</td>\n",
       "      <td>16.197259</td>\n",
       "      <td>0.069875</td>\n",
       "      <td>-1.672593</td>\n",
       "      <td>3.240741</td>\n",
       "      <td>0.082584</td>\n",
       "      <td>103.043283</td>\n",
       "      <td>105.507982</td>\n",
       "      <td>-2.083479</td>\n",
       "    </tr>\n",
       "    <tr>\n",
       "      <th>11</th>\n",
       "      <td>12</td>\n",
       "      <td>3794.777778</td>\n",
       "      <td>1969.777778</td>\n",
       "      <td>627.851852</td>\n",
       "      <td>18.211111</td>\n",
       "      <td>0.069074</td>\n",
       "      <td>-1.996296</td>\n",
       "      <td>2.511111</td>\n",
       "      <td>0.073805</td>\n",
       "      <td>99.827137</td>\n",
       "      <td>101.806416</td>\n",
       "      <td>-1.984257</td>\n",
       "    </tr>\n",
       "    <tr>\n",
       "      <th>12</th>\n",
       "      <td>13</td>\n",
       "      <td>5725.296296</td>\n",
       "      <td>1856.111111</td>\n",
       "      <td>1107.481481</td>\n",
       "      <td>26.181481</td>\n",
       "      <td>0.080407</td>\n",
       "      <td>-1.062963</td>\n",
       "      <td>7.351852</td>\n",
       "      <td>0.092122</td>\n",
       "      <td>104.272263</td>\n",
       "      <td>105.990909</td>\n",
       "      <td>-1.719014</td>\n",
       "    </tr>\n",
       "    <tr>\n",
       "      <th>13</th>\n",
       "      <td>14</td>\n",
       "      <td>3807.111111</td>\n",
       "      <td>1603.777778</td>\n",
       "      <td>662.407407</td>\n",
       "      <td>17.870370</td>\n",
       "      <td>0.074889</td>\n",
       "      <td>-1.902222</td>\n",
       "      <td>3.203704</td>\n",
       "      <td>0.084155</td>\n",
       "      <td>103.919806</td>\n",
       "      <td>106.410504</td>\n",
       "      <td>-2.489708</td>\n",
       "    </tr>\n",
       "    <tr>\n",
       "      <th>14</th>\n",
       "      <td>15</td>\n",
       "      <td>4402.962963</td>\n",
       "      <td>1859.000000</td>\n",
       "      <td>947.074074</td>\n",
       "      <td>24.115778</td>\n",
       "      <td>0.072467</td>\n",
       "      <td>-1.809630</td>\n",
       "      <td>6.477778</td>\n",
       "      <td>0.081104</td>\n",
       "      <td>102.487564</td>\n",
       "      <td>106.873696</td>\n",
       "      <td>-3.996859</td>\n",
       "    </tr>\n",
       "    <tr>\n",
       "      <th>15</th>\n",
       "      <td>16</td>\n",
       "      <td>3586.481481</td>\n",
       "      <td>1522.444444</td>\n",
       "      <td>805.962963</td>\n",
       "      <td>15.913037</td>\n",
       "      <td>0.048852</td>\n",
       "      <td>-2.744444</td>\n",
       "      <td>3.985185</td>\n",
       "      <td>0.068568</td>\n",
       "      <td>101.937466</td>\n",
       "      <td>105.705476</td>\n",
       "      <td>-3.768500</td>\n",
       "    </tr>\n",
       "    <tr>\n",
       "      <th>16</th>\n",
       "      <td>17</td>\n",
       "      <td>3934.740741</td>\n",
       "      <td>1710.481481</td>\n",
       "      <td>809.740741</td>\n",
       "      <td>16.285185</td>\n",
       "      <td>0.062370</td>\n",
       "      <td>-1.962963</td>\n",
       "      <td>3.344444</td>\n",
       "      <td>0.074311</td>\n",
       "      <td>98.695348</td>\n",
       "      <td>101.686661</td>\n",
       "      <td>-2.993835</td>\n",
       "    </tr>\n",
       "    <tr>\n",
       "      <th>17</th>\n",
       "      <td>18</td>\n",
       "      <td>3717.703704</td>\n",
       "      <td>1487.666667</td>\n",
       "      <td>738.814815</td>\n",
       "      <td>17.549111</td>\n",
       "      <td>0.072222</td>\n",
       "      <td>-2.634074</td>\n",
       "      <td>3.718519</td>\n",
       "      <td>0.082794</td>\n",
       "      <td>102.464423</td>\n",
       "      <td>104.794579</td>\n",
       "      <td>-2.334782</td>\n",
       "    </tr>\n",
       "    <tr>\n",
       "      <th>18</th>\n",
       "      <td>19</td>\n",
       "      <td>4102.444444</td>\n",
       "      <td>1778.629630</td>\n",
       "      <td>693.851852</td>\n",
       "      <td>17.912074</td>\n",
       "      <td>0.062430</td>\n",
       "      <td>-2.133333</td>\n",
       "      <td>2.622222</td>\n",
       "      <td>0.076503</td>\n",
       "      <td>102.784516</td>\n",
       "      <td>105.406704</td>\n",
       "      <td>-2.620875</td>\n",
       "    </tr>\n",
       "    <tr>\n",
       "      <th>19</th>\n",
       "      <td>20</td>\n",
       "      <td>2893.518519</td>\n",
       "      <td>1230.296296</td>\n",
       "      <td>648.629630</td>\n",
       "      <td>13.171333</td>\n",
       "      <td>0.063963</td>\n",
       "      <td>-2.122222</td>\n",
       "      <td>1.307407</td>\n",
       "      <td>0.073278</td>\n",
       "      <td>102.648644</td>\n",
       "      <td>105.305890</td>\n",
       "      <td>-2.657361</td>\n",
       "    </tr>\n",
       "    <tr>\n",
       "      <th>20</th>\n",
       "      <td>21</td>\n",
       "      <td>3396.000000</td>\n",
       "      <td>1453.555556</td>\n",
       "      <td>995.185185</td>\n",
       "      <td>18.059259</td>\n",
       "      <td>0.048185</td>\n",
       "      <td>-2.603704</td>\n",
       "      <td>4.259259</td>\n",
       "      <td>0.066192</td>\n",
       "      <td>100.549551</td>\n",
       "      <td>104.991703</td>\n",
       "      <td>-4.441105</td>\n",
       "    </tr>\n",
       "    <tr>\n",
       "      <th>21</th>\n",
       "      <td>22</td>\n",
       "      <td>2479.185185</td>\n",
       "      <td>1379.888889</td>\n",
       "      <td>511.629630</td>\n",
       "      <td>13.827852</td>\n",
       "      <td>0.073741</td>\n",
       "      <td>-1.996296</td>\n",
       "      <td>2.207407</td>\n",
       "      <td>0.075395</td>\n",
       "      <td>101.425766</td>\n",
       "      <td>105.390968</td>\n",
       "      <td>-3.963946</td>\n",
       "    </tr>\n",
       "    <tr>\n",
       "      <th>22</th>\n",
       "      <td>23</td>\n",
       "      <td>3306.370370</td>\n",
       "      <td>1454.925926</td>\n",
       "      <td>610.000000</td>\n",
       "      <td>14.596296</td>\n",
       "      <td>0.065667</td>\n",
       "      <td>-2.011111</td>\n",
       "      <td>2.151852</td>\n",
       "      <td>0.076098</td>\n",
       "      <td>102.765843</td>\n",
       "      <td>105.880742</td>\n",
       "      <td>-3.116649</td>\n",
       "    </tr>\n",
       "    <tr>\n",
       "      <th>23</th>\n",
       "      <td>24</td>\n",
       "      <td>3750.629630</td>\n",
       "      <td>1283.592593</td>\n",
       "      <td>1012.518519</td>\n",
       "      <td>19.215778</td>\n",
       "      <td>0.061037</td>\n",
       "      <td>-1.922222</td>\n",
       "      <td>5.092593</td>\n",
       "      <td>0.076729</td>\n",
       "      <td>102.826731</td>\n",
       "      <td>105.752700</td>\n",
       "      <td>-2.927112</td>\n",
       "    </tr>\n",
       "    <tr>\n",
       "      <th>24</th>\n",
       "      <td>25</td>\n",
       "      <td>2836.629630</td>\n",
       "      <td>1350.296296</td>\n",
       "      <td>507.814815</td>\n",
       "      <td>14.176000</td>\n",
       "      <td>0.062852</td>\n",
       "      <td>-2.170370</td>\n",
       "      <td>3.037037</td>\n",
       "      <td>0.075513</td>\n",
       "      <td>102.068411</td>\n",
       "      <td>104.365466</td>\n",
       "      <td>-2.294458</td>\n",
       "    </tr>\n",
       "    <tr>\n",
       "      <th>25</th>\n",
       "      <td>26</td>\n",
       "      <td>2950.185185</td>\n",
       "      <td>1325.703704</td>\n",
       "      <td>561.000000</td>\n",
       "      <td>16.352815</td>\n",
       "      <td>0.069171</td>\n",
       "      <td>-2.042963</td>\n",
       "      <td>2.255556</td>\n",
       "      <td>0.069610</td>\n",
       "      <td>98.534203</td>\n",
       "      <td>102.490745</td>\n",
       "      <td>-3.563679</td>\n",
       "    </tr>\n",
       "    <tr>\n",
       "      <th>26</th>\n",
       "      <td>27</td>\n",
       "      <td>3109.777778</td>\n",
       "      <td>1560.185185</td>\n",
       "      <td>690.925926</td>\n",
       "      <td>16.125926</td>\n",
       "      <td>0.084111</td>\n",
       "      <td>-2.234074</td>\n",
       "      <td>3.029630</td>\n",
       "      <td>0.087543</td>\n",
       "      <td>102.209626</td>\n",
       "      <td>104.740107</td>\n",
       "      <td>-2.530503</td>\n",
       "    </tr>\n",
       "    <tr>\n",
       "      <th>27</th>\n",
       "      <td>28</td>\n",
       "      <td>2576.592593</td>\n",
       "      <td>772.037037</td>\n",
       "      <td>717.518519</td>\n",
       "      <td>11.741704</td>\n",
       "      <td>0.045245</td>\n",
       "      <td>-2.965185</td>\n",
       "      <td>1.381481</td>\n",
       "      <td>0.069685</td>\n",
       "      <td>99.746208</td>\n",
       "      <td>104.281974</td>\n",
       "      <td>-4.148843</td>\n",
       "    </tr>\n",
       "    <tr>\n",
       "      <th>28</th>\n",
       "      <td>29</td>\n",
       "      <td>1810.791667</td>\n",
       "      <td>857.458333</td>\n",
       "      <td>416.250000</td>\n",
       "      <td>8.292750</td>\n",
       "      <td>0.063417</td>\n",
       "      <td>-2.795833</td>\n",
       "      <td>0.637500</td>\n",
       "      <td>0.073254</td>\n",
       "      <td>102.828327</td>\n",
       "      <td>104.681942</td>\n",
       "      <td>-1.856485</td>\n",
       "    </tr>\n",
       "    <tr>\n",
       "      <th>29</th>\n",
       "      <td>30</td>\n",
       "      <td>2338.851852</td>\n",
       "      <td>1286.629630</td>\n",
       "      <td>530.555556</td>\n",
       "      <td>15.036222</td>\n",
       "      <td>0.049773</td>\n",
       "      <td>-3.162222</td>\n",
       "      <td>2.918519</td>\n",
       "      <td>0.116935</td>\n",
       "      <td>186.028058</td>\n",
       "      <td>196.449924</td>\n",
       "      <td>-9.271605</td>\n",
       "    </tr>\n",
       "    <tr>\n",
       "      <th>30</th>\n",
       "      <td>31</td>\n",
       "      <td>2257.259259</td>\n",
       "      <td>740.259259</td>\n",
       "      <td>359.962963</td>\n",
       "      <td>9.552000</td>\n",
       "      <td>0.040416</td>\n",
       "      <td>-3.685926</td>\n",
       "      <td>1.103704</td>\n",
       "      <td>0.065323</td>\n",
       "      <td>99.652600</td>\n",
       "      <td>106.626926</td>\n",
       "      <td>-6.204613</td>\n",
       "    </tr>\n",
       "    <tr>\n",
       "      <th>31</th>\n",
       "      <td>32</td>\n",
       "      <td>1497.481481</td>\n",
       "      <td>697.703704</td>\n",
       "      <td>285.296296</td>\n",
       "      <td>8.914000</td>\n",
       "      <td>0.039467</td>\n",
       "      <td>-3.576296</td>\n",
       "      <td>1.455556</td>\n",
       "      <td>0.056185</td>\n",
       "      <td>97.745635</td>\n",
       "      <td>103.744165</td>\n",
       "      <td>-5.610573</td>\n",
       "    </tr>\n",
       "    <tr>\n",
       "      <th>32</th>\n",
       "      <td>33</td>\n",
       "      <td>1491.925926</td>\n",
       "      <td>821.185185</td>\n",
       "      <td>249.000000</td>\n",
       "      <td>8.414963</td>\n",
       "      <td>0.053060</td>\n",
       "      <td>-3.011111</td>\n",
       "      <td>0.237037</td>\n",
       "      <td>0.073876</td>\n",
       "      <td>101.103269</td>\n",
       "      <td>103.326239</td>\n",
       "      <td>-2.222114</td>\n",
       "    </tr>\n",
       "    <tr>\n",
       "      <th>33</th>\n",
       "      <td>34</td>\n",
       "      <td>1485.444444</td>\n",
       "      <td>554.888889</td>\n",
       "      <td>399.518519</td>\n",
       "      <td>6.133481</td>\n",
       "      <td>0.024907</td>\n",
       "      <td>-3.853333</td>\n",
       "      <td>0.200000</td>\n",
       "      <td>0.065515</td>\n",
       "      <td>97.414516</td>\n",
       "      <td>105.813172</td>\n",
       "      <td>-6.864920</td>\n",
       "    </tr>\n",
       "    <tr>\n",
       "      <th>34</th>\n",
       "      <td>35</td>\n",
       "      <td>1937.444444</td>\n",
       "      <td>1443.000000</td>\n",
       "      <td>421.074074</td>\n",
       "      <td>13.500148</td>\n",
       "      <td>0.031425</td>\n",
       "      <td>-4.142222</td>\n",
       "      <td>2.603704</td>\n",
       "      <td>0.055900</td>\n",
       "      <td>97.049543</td>\n",
       "      <td>106.125334</td>\n",
       "      <td>-7.529832</td>\n",
       "    </tr>\n",
       "    <tr>\n",
       "      <th>35</th>\n",
       "      <td>36</td>\n",
       "      <td>1117.407407</td>\n",
       "      <td>655.740741</td>\n",
       "      <td>187.666667</td>\n",
       "      <td>6.184519</td>\n",
       "      <td>0.024804</td>\n",
       "      <td>-4.396296</td>\n",
       "      <td>-0.011111</td>\n",
       "      <td>0.056551</td>\n",
       "      <td>96.574771</td>\n",
       "      <td>105.853867</td>\n",
       "      <td>-7.348368</td>\n",
       "    </tr>\n",
       "    <tr>\n",
       "      <th>36</th>\n",
       "      <td>37</td>\n",
       "      <td>1375.555556</td>\n",
       "      <td>647.703704</td>\n",
       "      <td>300.703704</td>\n",
       "      <td>7.010296</td>\n",
       "      <td>0.019171</td>\n",
       "      <td>-5.060000</td>\n",
       "      <td>0.159259</td>\n",
       "      <td>0.045529</td>\n",
       "      <td>95.221164</td>\n",
       "      <td>101.446050</td>\n",
       "      <td>-5.842326</td>\n",
       "    </tr>\n",
       "    <tr>\n",
       "      <th>37</th>\n",
       "      <td>38</td>\n",
       "      <td>1683.370370</td>\n",
       "      <td>725.851852</td>\n",
       "      <td>533.111111</td>\n",
       "      <td>9.361185</td>\n",
       "      <td>0.050074</td>\n",
       "      <td>-2.800000</td>\n",
       "      <td>1.137037</td>\n",
       "      <td>0.067833</td>\n",
       "      <td>101.363665</td>\n",
       "      <td>103.338017</td>\n",
       "      <td>-1.964844</td>\n",
       "    </tr>\n",
       "    <tr>\n",
       "      <th>38</th>\n",
       "      <td>39</td>\n",
       "      <td>1356.370370</td>\n",
       "      <td>502.555556</td>\n",
       "      <td>316.777778</td>\n",
       "      <td>5.898519</td>\n",
       "      <td>-0.025779</td>\n",
       "      <td>-7.305185</td>\n",
       "      <td>0.155556</td>\n",
       "      <td>0.022626</td>\n",
       "      <td>94.782520</td>\n",
       "      <td>109.023328</td>\n",
       "      <td>-11.157027</td>\n",
       "    </tr>\n",
       "    <tr>\n",
       "      <th>39</th>\n",
       "      <td>40</td>\n",
       "      <td>2171.074074</td>\n",
       "      <td>699.074074</td>\n",
       "      <td>634.333333</td>\n",
       "      <td>7.310296</td>\n",
       "      <td>0.013861</td>\n",
       "      <td>-4.819259</td>\n",
       "      <td>0.448148</td>\n",
       "      <td>0.059839</td>\n",
       "      <td>97.055006</td>\n",
       "      <td>106.817234</td>\n",
       "      <td>-8.989962</td>\n",
       "    </tr>\n",
       "    <tr>\n",
       "      <th>40</th>\n",
       "      <td>41</td>\n",
       "      <td>1729.185185</td>\n",
       "      <td>691.296296</td>\n",
       "      <td>386.555556</td>\n",
       "      <td>8.863259</td>\n",
       "      <td>0.025425</td>\n",
       "      <td>-4.382963</td>\n",
       "      <td>1.837037</td>\n",
       "      <td>0.054472</td>\n",
       "      <td>97.180015</td>\n",
       "      <td>106.782458</td>\n",
       "      <td>-8.057707</td>\n",
       "    </tr>\n",
       "    <tr>\n",
       "      <th>41</th>\n",
       "      <td>42</td>\n",
       "      <td>1370.555556</td>\n",
       "      <td>671.777778</td>\n",
       "      <td>315.444444</td>\n",
       "      <td>7.121556</td>\n",
       "      <td>0.032610</td>\n",
       "      <td>-4.605185</td>\n",
       "      <td>0.170370</td>\n",
       "      <td>0.056401</td>\n",
       "      <td>97.146154</td>\n",
       "      <td>107.522312</td>\n",
       "      <td>-8.832859</td>\n",
       "    </tr>\n",
       "    <tr>\n",
       "      <th>42</th>\n",
       "      <td>43</td>\n",
       "      <td>2198.888889</td>\n",
       "      <td>783.888889</td>\n",
       "      <td>360.629630</td>\n",
       "      <td>9.196444</td>\n",
       "      <td>-0.030019</td>\n",
       "      <td>-6.160741</td>\n",
       "      <td>1.251852</td>\n",
       "      <td>0.042485</td>\n",
       "      <td>94.419413</td>\n",
       "      <td>108.333178</td>\n",
       "      <td>-12.367150</td>\n",
       "    </tr>\n",
       "    <tr>\n",
       "      <th>43</th>\n",
       "      <td>44</td>\n",
       "      <td>730.962963</td>\n",
       "      <td>380.148148</td>\n",
       "      <td>125.555556</td>\n",
       "      <td>3.156000</td>\n",
       "      <td>-0.015919</td>\n",
       "      <td>-6.525926</td>\n",
       "      <td>-1.133333</td>\n",
       "      <td>0.037995</td>\n",
       "      <td>92.459304</td>\n",
       "      <td>107.462601</td>\n",
       "      <td>-11.144582</td>\n",
       "    </tr>\n",
       "    <tr>\n",
       "      <th>44</th>\n",
       "      <td>45</td>\n",
       "      <td>1932.222222</td>\n",
       "      <td>601.888889</td>\n",
       "      <td>442.037037</td>\n",
       "      <td>8.789185</td>\n",
       "      <td>0.025050</td>\n",
       "      <td>-4.389630</td>\n",
       "      <td>0.611111</td>\n",
       "      <td>0.056589</td>\n",
       "      <td>95.314768</td>\n",
       "      <td>107.647313</td>\n",
       "      <td>-9.624184</td>\n",
       "    </tr>\n",
       "    <tr>\n",
       "      <th>45</th>\n",
       "      <td>46</td>\n",
       "      <td>1520.148148</td>\n",
       "      <td>561.481481</td>\n",
       "      <td>302.111111</td>\n",
       "      <td>6.190148</td>\n",
       "      <td>0.004397</td>\n",
       "      <td>-5.313333</td>\n",
       "      <td>0.574074</td>\n",
       "      <td>0.029928</td>\n",
       "      <td>91.999047</td>\n",
       "      <td>103.454261</td>\n",
       "      <td>-9.146399</td>\n",
       "    </tr>\n",
       "    <tr>\n",
       "      <th>46</th>\n",
       "      <td>47</td>\n",
       "      <td>1320.481481</td>\n",
       "      <td>548.370370</td>\n",
       "      <td>322.666667</td>\n",
       "      <td>6.364222</td>\n",
       "      <td>0.023050</td>\n",
       "      <td>-4.356296</td>\n",
       "      <td>0.077778</td>\n",
       "      <td>0.044167</td>\n",
       "      <td>95.073058</td>\n",
       "      <td>109.856645</td>\n",
       "      <td>-12.073036</td>\n",
       "    </tr>\n",
       "    <tr>\n",
       "      <th>47</th>\n",
       "      <td>48</td>\n",
       "      <td>913.666667</td>\n",
       "      <td>472.370370</td>\n",
       "      <td>243.407407</td>\n",
       "      <td>5.149407</td>\n",
       "      <td>0.003744</td>\n",
       "      <td>-5.222222</td>\n",
       "      <td>0.307407</td>\n",
       "      <td>0.044540</td>\n",
       "      <td>98.750651</td>\n",
       "      <td>105.109790</td>\n",
       "      <td>-4.432218</td>\n",
       "    </tr>\n",
       "    <tr>\n",
       "      <th>48</th>\n",
       "      <td>49</td>\n",
       "      <td>805.222222</td>\n",
       "      <td>435.333333</td>\n",
       "      <td>136.111111</td>\n",
       "      <td>3.656815</td>\n",
       "      <td>-0.007691</td>\n",
       "      <td>-6.285926</td>\n",
       "      <td>-0.662963</td>\n",
       "      <td>0.039632</td>\n",
       "      <td>92.350358</td>\n",
       "      <td>106.959303</td>\n",
       "      <td>-11.906841</td>\n",
       "    </tr>\n",
       "    <tr>\n",
       "      <th>49</th>\n",
       "      <td>50</td>\n",
       "      <td>666.962963</td>\n",
       "      <td>353.074074</td>\n",
       "      <td>101.222222</td>\n",
       "      <td>2.962593</td>\n",
       "      <td>-0.033086</td>\n",
       "      <td>-7.833333</td>\n",
       "      <td>-1.725926</td>\n",
       "      <td>0.027047</td>\n",
       "      <td>89.272815</td>\n",
       "      <td>111.267360</td>\n",
       "      <td>-16.585055</td>\n",
       "    </tr>\n",
       "    <tr>\n",
       "      <th>50</th>\n",
       "      <td>51</td>\n",
       "      <td>703.296296</td>\n",
       "      <td>217.777778</td>\n",
       "      <td>150.333333</td>\n",
       "      <td>3.540370</td>\n",
       "      <td>-0.068146</td>\n",
       "      <td>-8.836296</td>\n",
       "      <td>-0.670370</td>\n",
       "      <td>0.019296</td>\n",
       "      <td>86.867361</td>\n",
       "      <td>106.513357</td>\n",
       "      <td>-15.015936</td>\n",
       "    </tr>\n",
       "    <tr>\n",
       "      <th>51</th>\n",
       "      <td>52</td>\n",
       "      <td>310.296296</td>\n",
       "      <td>134.962963</td>\n",
       "      <td>68.074074</td>\n",
       "      <td>0.869852</td>\n",
       "      <td>-0.020904</td>\n",
       "      <td>-6.534815</td>\n",
       "      <td>-1.800000</td>\n",
       "      <td>0.033314</td>\n",
       "      <td>89.771409</td>\n",
       "      <td>105.168989</td>\n",
       "      <td>-11.924957</td>\n",
       "    </tr>\n",
       "    <tr>\n",
       "      <th>52</th>\n",
       "      <td>53</td>\n",
       "      <td>540.962963</td>\n",
       "      <td>260.555556</td>\n",
       "      <td>101.259259</td>\n",
       "      <td>2.193037</td>\n",
       "      <td>-0.017580</td>\n",
       "      <td>-6.341481</td>\n",
       "      <td>-1.155556</td>\n",
       "      <td>0.037797</td>\n",
       "      <td>92.885506</td>\n",
       "      <td>107.636364</td>\n",
       "      <td>-12.044489</td>\n",
       "    </tr>\n",
       "    <tr>\n",
       "      <th>53</th>\n",
       "      <td>54</td>\n",
       "      <td>356.925926</td>\n",
       "      <td>141.185185</td>\n",
       "      <td>81.592593</td>\n",
       "      <td>1.017185</td>\n",
       "      <td>-0.050331</td>\n",
       "      <td>-7.836296</td>\n",
       "      <td>-2.029630</td>\n",
       "      <td>0.027111</td>\n",
       "      <td>89.600670</td>\n",
       "      <td>109.794227</td>\n",
       "      <td>-15.166501</td>\n",
       "    </tr>\n",
       "    <tr>\n",
       "      <th>54</th>\n",
       "      <td>55</td>\n",
       "      <td>861.888889</td>\n",
       "      <td>336.481481</td>\n",
       "      <td>171.000000</td>\n",
       "      <td>3.416222</td>\n",
       "      <td>-0.047682</td>\n",
       "      <td>-8.196296</td>\n",
       "      <td>-1.351852</td>\n",
       "      <td>0.028889</td>\n",
       "      <td>91.401721</td>\n",
       "      <td>109.437193</td>\n",
       "      <td>-14.563813</td>\n",
       "    </tr>\n",
       "    <tr>\n",
       "      <th>55</th>\n",
       "      <td>56</td>\n",
       "      <td>855.148148</td>\n",
       "      <td>447.629630</td>\n",
       "      <td>198.111111</td>\n",
       "      <td>4.509778</td>\n",
       "      <td>-0.014340</td>\n",
       "      <td>-6.103704</td>\n",
       "      <td>-0.966667</td>\n",
       "      <td>0.041266</td>\n",
       "      <td>91.335063</td>\n",
       "      <td>108.299560</td>\n",
       "      <td>-13.101030</td>\n",
       "    </tr>\n",
       "    <tr>\n",
       "      <th>56</th>\n",
       "      <td>57</td>\n",
       "      <td>840.037037</td>\n",
       "      <td>390.814815</td>\n",
       "      <td>189.925926</td>\n",
       "      <td>5.849704</td>\n",
       "      <td>-0.048818</td>\n",
       "      <td>-8.435556</td>\n",
       "      <td>-0.007407</td>\n",
       "      <td>0.021425</td>\n",
       "      <td>87.484040</td>\n",
       "      <td>111.746107</td>\n",
       "      <td>-18.081863</td>\n",
       "    </tr>\n",
       "    <tr>\n",
       "      <th>57</th>\n",
       "      <td>58</td>\n",
       "      <td>140.703704</td>\n",
       "      <td>79.666667</td>\n",
       "      <td>21.481481</td>\n",
       "      <td>0.361630</td>\n",
       "      <td>-0.029627</td>\n",
       "      <td>-7.514074</td>\n",
       "      <td>-1.966667</td>\n",
       "      <td>0.027638</td>\n",
       "      <td>89.635505</td>\n",
       "      <td>109.860568</td>\n",
       "      <td>-15.201623</td>\n",
       "    </tr>\n",
       "    <tr>\n",
       "      <th>58</th>\n",
       "      <td>59</td>\n",
       "      <td>20.277778</td>\n",
       "      <td>11.333333</td>\n",
       "      <td>4.222222</td>\n",
       "      <td>-0.438222</td>\n",
       "      <td>-0.083454</td>\n",
       "      <td>-9.825556</td>\n",
       "      <td>-2.111111</td>\n",
       "      <td>0.012379</td>\n",
       "      <td>89.063635</td>\n",
       "      <td>116.983316</td>\n",
       "      <td>-21.560833</td>\n",
       "    </tr>\n",
       "    <tr>\n",
       "      <th>59</th>\n",
       "      <td>60</td>\n",
       "      <td>699.235294</td>\n",
       "      <td>155.000000</td>\n",
       "      <td>177.294118</td>\n",
       "      <td>2.698941</td>\n",
       "      <td>-0.038804</td>\n",
       "      <td>-7.436471</td>\n",
       "      <td>-0.576471</td>\n",
       "      <td>0.029947</td>\n",
       "      <td>92.113758</td>\n",
       "      <td>109.508956</td>\n",
       "      <td>-13.109522</td>\n",
       "    </tr>\n",
       "  </tbody>\n",
       "</table>\n",
       "</div>"
      ],
      "text/plain": [
       "Player ID  Pk           PTS          TRB          AST         WS     WS/48  \\\n",
       "0           1  10584.814815  4343.777778  2085.592593  58.014815  0.120926   \n",
       "1           2   7187.888889  3181.740741  1377.740741  35.960222  0.083764   \n",
       "2           3  10229.111111  3584.666667  2222.814815  52.744444  0.116148   \n",
       "3           4   8261.629630  3193.777778  2149.666667  42.859259  0.094815   \n",
       "4           5   8369.962963  2950.629630  1954.444444  39.886148  0.083815   \n",
       "5           6   4981.259259  1965.925926   977.444444  23.578741  0.080430   \n",
       "6           7   7493.222222  2754.370370  1558.444444  32.992593  0.084407   \n",
       "7           8   5479.666667  2033.259259  1219.111111  22.874074  0.076296   \n",
       "8           9   7624.037037  3266.888889  1507.222222  42.896296  0.095296   \n",
       "9          10   6987.000000  2425.444444  1464.074074  32.655556  0.080259   \n",
       "10         11   3633.481481  1392.222222   670.037037  16.197259  0.069875   \n",
       "11         12   3794.777778  1969.777778   627.851852  18.211111  0.069074   \n",
       "12         13   5725.296296  1856.111111  1107.481481  26.181481  0.080407   \n",
       "13         14   3807.111111  1603.777778   662.407407  17.870370  0.074889   \n",
       "14         15   4402.962963  1859.000000   947.074074  24.115778  0.072467   \n",
       "15         16   3586.481481  1522.444444   805.962963  15.913037  0.048852   \n",
       "16         17   3934.740741  1710.481481   809.740741  16.285185  0.062370   \n",
       "17         18   3717.703704  1487.666667   738.814815  17.549111  0.072222   \n",
       "18         19   4102.444444  1778.629630   693.851852  17.912074  0.062430   \n",
       "19         20   2893.518519  1230.296296   648.629630  13.171333  0.063963   \n",
       "20         21   3396.000000  1453.555556   995.185185  18.059259  0.048185   \n",
       "21         22   2479.185185  1379.888889   511.629630  13.827852  0.073741   \n",
       "22         23   3306.370370  1454.925926   610.000000  14.596296  0.065667   \n",
       "23         24   3750.629630  1283.592593  1012.518519  19.215778  0.061037   \n",
       "24         25   2836.629630  1350.296296   507.814815  14.176000  0.062852   \n",
       "25         26   2950.185185  1325.703704   561.000000  16.352815  0.069171   \n",
       "26         27   3109.777778  1560.185185   690.925926  16.125926  0.084111   \n",
       "27         28   2576.592593   772.037037   717.518519  11.741704  0.045245   \n",
       "28         29   1810.791667   857.458333   416.250000   8.292750  0.063417   \n",
       "29         30   2338.851852  1286.629630   530.555556  15.036222  0.049773   \n",
       "30         31   2257.259259   740.259259   359.962963   9.552000  0.040416   \n",
       "31         32   1497.481481   697.703704   285.296296   8.914000  0.039467   \n",
       "32         33   1491.925926   821.185185   249.000000   8.414963  0.053060   \n",
       "33         34   1485.444444   554.888889   399.518519   6.133481  0.024907   \n",
       "34         35   1937.444444  1443.000000   421.074074  13.500148  0.031425   \n",
       "35         36   1117.407407   655.740741   187.666667   6.184519  0.024804   \n",
       "36         37   1375.555556   647.703704   300.703704   7.010296  0.019171   \n",
       "37         38   1683.370370   725.851852   533.111111   9.361185  0.050074   \n",
       "38         39   1356.370370   502.555556   316.777778   5.898519 -0.025779   \n",
       "39         40   2171.074074   699.074074   634.333333   7.310296  0.013861   \n",
       "40         41   1729.185185   691.296296   386.555556   8.863259  0.025425   \n",
       "41         42   1370.555556   671.777778   315.444444   7.121556  0.032610   \n",
       "42         43   2198.888889   783.888889   360.629630   9.196444 -0.030019   \n",
       "43         44    730.962963   380.148148   125.555556   3.156000 -0.015919   \n",
       "44         45   1932.222222   601.888889   442.037037   8.789185  0.025050   \n",
       "45         46   1520.148148   561.481481   302.111111   6.190148  0.004397   \n",
       "46         47   1320.481481   548.370370   322.666667   6.364222  0.023050   \n",
       "47         48    913.666667   472.370370   243.407407   5.149407  0.003744   \n",
       "48         49    805.222222   435.333333   136.111111   3.656815 -0.007691   \n",
       "49         50    666.962963   353.074074   101.222222   2.962593 -0.033086   \n",
       "50         51    703.296296   217.777778   150.333333   3.540370 -0.068146   \n",
       "51         52    310.296296   134.962963    68.074074   0.869852 -0.020904   \n",
       "52         53    540.962963   260.555556   101.259259   2.193037 -0.017580   \n",
       "53         54    356.925926   141.185185    81.592593   1.017185 -0.050331   \n",
       "54         55    861.888889   336.481481   171.000000   3.416222 -0.047682   \n",
       "55         56    855.148148   447.629630   198.111111   4.509778 -0.014340   \n",
       "56         57    840.037037   390.814815   189.925926   5.849704 -0.048818   \n",
       "57         58    140.703704    79.666667    21.481481   0.361630 -0.029627   \n",
       "58         59     20.277778    11.333333     4.222222  -0.438222 -0.083454   \n",
       "59         60    699.235294   155.000000   177.294118   2.698941 -0.038804   \n",
       "\n",
       "Player ID       BPM       VORP       PIE  OFF_RATING  DEF_RATING  NET_RATING  \n",
       "0          1.429630  23.292593  0.124651  107.487503  106.777783    0.704352  \n",
       "1         -0.691111  10.307407  0.100532  103.784086  107.382250   -3.207812  \n",
       "2          1.274074  19.259259  0.117689  107.041839  107.019079    0.020454  \n",
       "3         -0.620741  13.607407  0.101631  106.379093  107.328083   -0.949534  \n",
       "4         -0.514815  13.133333  0.097731  105.009115  106.955090   -1.945165  \n",
       "5         -0.666667   6.881481  0.090968  104.194691  106.552246   -2.353500  \n",
       "6         -1.209630   7.862963  0.095110  105.717086  107.377567   -1.664906  \n",
       "7         -1.665185   4.966667  0.085489  104.309812  106.343669   -2.033688  \n",
       "8         -0.533333  14.081481  0.100264  105.066280  106.602401   -1.530061  \n",
       "9         -1.177778   9.422222  0.087978  105.069798  106.502830   -1.429809  \n",
       "10        -1.672593   3.240741  0.082584  103.043283  105.507982   -2.083479  \n",
       "11        -1.996296   2.511111  0.073805   99.827137  101.806416   -1.984257  \n",
       "12        -1.062963   7.351852  0.092122  104.272263  105.990909   -1.719014  \n",
       "13        -1.902222   3.203704  0.084155  103.919806  106.410504   -2.489708  \n",
       "14        -1.809630   6.477778  0.081104  102.487564  106.873696   -3.996859  \n",
       "15        -2.744444   3.985185  0.068568  101.937466  105.705476   -3.768500  \n",
       "16        -1.962963   3.344444  0.074311   98.695348  101.686661   -2.993835  \n",
       "17        -2.634074   3.718519  0.082794  102.464423  104.794579   -2.334782  \n",
       "18        -2.133333   2.622222  0.076503  102.784516  105.406704   -2.620875  \n",
       "19        -2.122222   1.307407  0.073278  102.648644  105.305890   -2.657361  \n",
       "20        -2.603704   4.259259  0.066192  100.549551  104.991703   -4.441105  \n",
       "21        -1.996296   2.207407  0.075395  101.425766  105.390968   -3.963946  \n",
       "22        -2.011111   2.151852  0.076098  102.765843  105.880742   -3.116649  \n",
       "23        -1.922222   5.092593  0.076729  102.826731  105.752700   -2.927112  \n",
       "24        -2.170370   3.037037  0.075513  102.068411  104.365466   -2.294458  \n",
       "25        -2.042963   2.255556  0.069610   98.534203  102.490745   -3.563679  \n",
       "26        -2.234074   3.029630  0.087543  102.209626  104.740107   -2.530503  \n",
       "27        -2.965185   1.381481  0.069685   99.746208  104.281974   -4.148843  \n",
       "28        -2.795833   0.637500  0.073254  102.828327  104.681942   -1.856485  \n",
       "29        -3.162222   2.918519  0.116935  186.028058  196.449924   -9.271605  \n",
       "30        -3.685926   1.103704  0.065323   99.652600  106.626926   -6.204613  \n",
       "31        -3.576296   1.455556  0.056185   97.745635  103.744165   -5.610573  \n",
       "32        -3.011111   0.237037  0.073876  101.103269  103.326239   -2.222114  \n",
       "33        -3.853333   0.200000  0.065515   97.414516  105.813172   -6.864920  \n",
       "34        -4.142222   2.603704  0.055900   97.049543  106.125334   -7.529832  \n",
       "35        -4.396296  -0.011111  0.056551   96.574771  105.853867   -7.348368  \n",
       "36        -5.060000   0.159259  0.045529   95.221164  101.446050   -5.842326  \n",
       "37        -2.800000   1.137037  0.067833  101.363665  103.338017   -1.964844  \n",
       "38        -7.305185   0.155556  0.022626   94.782520  109.023328  -11.157027  \n",
       "39        -4.819259   0.448148  0.059839   97.055006  106.817234   -8.989962  \n",
       "40        -4.382963   1.837037  0.054472   97.180015  106.782458   -8.057707  \n",
       "41        -4.605185   0.170370  0.056401   97.146154  107.522312   -8.832859  \n",
       "42        -6.160741   1.251852  0.042485   94.419413  108.333178  -12.367150  \n",
       "43        -6.525926  -1.133333  0.037995   92.459304  107.462601  -11.144582  \n",
       "44        -4.389630   0.611111  0.056589   95.314768  107.647313   -9.624184  \n",
       "45        -5.313333   0.574074  0.029928   91.999047  103.454261   -9.146399  \n",
       "46        -4.356296   0.077778  0.044167   95.073058  109.856645  -12.073036  \n",
       "47        -5.222222   0.307407  0.044540   98.750651  105.109790   -4.432218  \n",
       "48        -6.285926  -0.662963  0.039632   92.350358  106.959303  -11.906841  \n",
       "49        -7.833333  -1.725926  0.027047   89.272815  111.267360  -16.585055  \n",
       "50        -8.836296  -0.670370  0.019296   86.867361  106.513357  -15.015936  \n",
       "51        -6.534815  -1.800000  0.033314   89.771409  105.168989  -11.924957  \n",
       "52        -6.341481  -1.155556  0.037797   92.885506  107.636364  -12.044489  \n",
       "53        -7.836296  -2.029630  0.027111   89.600670  109.794227  -15.166501  \n",
       "54        -8.196296  -1.351852  0.028889   91.401721  109.437193  -14.563813  \n",
       "55        -6.103704  -0.966667  0.041266   91.335063  108.299560  -13.101030  \n",
       "56        -8.435556  -0.007407  0.021425   87.484040  111.746107  -18.081863  \n",
       "57        -7.514074  -1.966667  0.027638   89.635505  109.860568  -15.201623  \n",
       "58        -9.825556  -2.111111  0.012379   89.063635  116.983316  -21.560833  \n",
       "59        -7.436471  -0.576471  0.029947   92.113758  109.508956  -13.109522  "
      ]
     },
     "execution_count": 53,
     "metadata": {},
     "output_type": "execute_result"
    }
   ],
   "source": [
    "# TODO: Maybe add toggle button that allows comparing only to players of same position\n",
    "\n",
    "# group the df_career dataframe by 'Pk' and calculate the average for each relevant stat\n",
    "df_avg = df_career_na_filled.groupby('Pk')[relevant_stats].mean(numeric_only=True)\n",
    "df_avg = df_avg.reset_index()\n",
    "\n",
    "df_avg"
   ]
  },
  {
   "cell_type": "code",
   "execution_count": 8,
   "metadata": {},
   "outputs": [
    {
     "data": {
      "text/html": [
       "<div>\n",
       "<style scoped>\n",
       "    .dataframe tbody tr th:only-of-type {\n",
       "        vertical-align: middle;\n",
       "    }\n",
       "\n",
       "    .dataframe tbody tr th {\n",
       "        vertical-align: top;\n",
       "    }\n",
       "\n",
       "    .dataframe thead th {\n",
       "        text-align: right;\n",
       "    }\n",
       "</style>\n",
       "<table border=\"1\" class=\"dataframe\">\n",
       "  <thead>\n",
       "    <tr style=\"text-align: right;\">\n",
       "      <th>Player ID</th>\n",
       "      <th>Season</th>\n",
       "      <th>Pk</th>\n",
       "      <th>Tm</th>\n",
       "      <th>Player</th>\n",
       "      <th>College</th>\n",
       "      <th>Yrs</th>\n",
       "      <th>G</th>\n",
       "      <th>MP</th>\n",
       "      <th>PTS</th>\n",
       "      <th>TRB</th>\n",
       "      <th>...</th>\n",
       "      <th>TRB_diff</th>\n",
       "      <th>AST_diff</th>\n",
       "      <th>WS_diff</th>\n",
       "      <th>WS/48_diff</th>\n",
       "      <th>BPM_diff</th>\n",
       "      <th>VORP_diff</th>\n",
       "      <th>PIE_diff</th>\n",
       "      <th>OFF_RATING_diff</th>\n",
       "      <th>DEF_RATING_diff</th>\n",
       "      <th>NET_RATING_diff</th>\n",
       "    </tr>\n",
       "  </thead>\n",
       "  <tbody>\n",
       "    <tr>\n",
       "      <th>947.0</th>\n",
       "      <td>1996</td>\n",
       "      <td>1</td>\n",
       "      <td>PHI</td>\n",
       "      <td>Allen Iverson</td>\n",
       "      <td>Georgetown</td>\n",
       "      <td>14.0</td>\n",
       "      <td>914.0</td>\n",
       "      <td>37584.0</td>\n",
       "      <td>24368.0</td>\n",
       "      <td>3394.0</td>\n",
       "      <td>...</td>\n",
       "      <td>-949.777778</td>\n",
       "      <td>3538.407407</td>\n",
       "      <td>40.985185</td>\n",
       "      <td>0.005074</td>\n",
       "      <td>1.770370</td>\n",
       "      <td>26.307407</td>\n",
       "      <td>0.012034</td>\n",
       "      <td>-4.113761</td>\n",
       "      <td>-4.241678</td>\n",
       "      <td>0.142038</td>\n",
       "    </tr>\n",
       "    <tr>\n",
       "      <th>948.0</th>\n",
       "      <td>1996</td>\n",
       "      <td>2</td>\n",
       "      <td>TOR</td>\n",
       "      <td>Marcus Camby</td>\n",
       "      <td>UMass</td>\n",
       "      <td>17.0</td>\n",
       "      <td>973.0</td>\n",
       "      <td>28684.0</td>\n",
       "      <td>9262.0</td>\n",
       "      <td>9513.0</td>\n",
       "      <td>...</td>\n",
       "      <td>6331.259259</td>\n",
       "      <td>459.259259</td>\n",
       "      <td>45.639778</td>\n",
       "      <td>0.053236</td>\n",
       "      <td>2.991111</td>\n",
       "      <td>20.992593</td>\n",
       "      <td>0.026252</td>\n",
       "      <td>-0.813788</td>\n",
       "      <td>-4.641551</td>\n",
       "      <td>3.436384</td>\n",
       "    </tr>\n",
       "    <tr>\n",
       "      <th>949.0</th>\n",
       "      <td>1996</td>\n",
       "      <td>3</td>\n",
       "      <td>VAN</td>\n",
       "      <td>Shareef Abdur-Rahim</td>\n",
       "      <td>California</td>\n",
       "      <td>12.0</td>\n",
       "      <td>830.0</td>\n",
       "      <td>28882.0</td>\n",
       "      <td>15028.0</td>\n",
       "      <td>6239.0</td>\n",
       "      <td>...</td>\n",
       "      <td>2654.333333</td>\n",
       "      <td>-113.814815</td>\n",
       "      <td>18.455556</td>\n",
       "      <td>0.001852</td>\n",
       "      <td>-0.274074</td>\n",
       "      <td>2.640741</td>\n",
       "      <td>0.008191</td>\n",
       "      <td>-6.239912</td>\n",
       "      <td>-1.175465</td>\n",
       "      <td>-5.043345</td>\n",
       "    </tr>\n",
       "    <tr>\n",
       "      <th>950.0</th>\n",
       "      <td>1996</td>\n",
       "      <td>4</td>\n",
       "      <td>MIL</td>\n",
       "      <td>Stephon Marbury</td>\n",
       "      <td>Georgia Tech</td>\n",
       "      <td>13.0</td>\n",
       "      <td>846.0</td>\n",
       "      <td>31891.0</td>\n",
       "      <td>16297.0</td>\n",
       "      <td>2516.0</td>\n",
       "      <td>...</td>\n",
       "      <td>-677.777778</td>\n",
       "      <td>4321.333333</td>\n",
       "      <td>34.640741</td>\n",
       "      <td>0.022185</td>\n",
       "      <td>2.420741</td>\n",
       "      <td>17.092593</td>\n",
       "      <td>0.021741</td>\n",
       "      <td>-2.878029</td>\n",
       "      <td>-2.037657</td>\n",
       "      <td>-0.831081</td>\n",
       "    </tr>\n",
       "    <tr>\n",
       "      <th>951.0</th>\n",
       "      <td>1996</td>\n",
       "      <td>5</td>\n",
       "      <td>MIN</td>\n",
       "      <td>Ray Allen</td>\n",
       "      <td>UConn</td>\n",
       "      <td>18.0</td>\n",
       "      <td>1300.0</td>\n",
       "      <td>46344.0</td>\n",
       "      <td>24505.0</td>\n",
       "      <td>5272.0</td>\n",
       "      <td>...</td>\n",
       "      <td>2321.370370</td>\n",
       "      <td>2406.555556</td>\n",
       "      <td>105.213852</td>\n",
       "      <td>0.066185</td>\n",
       "      <td>3.414815</td>\n",
       "      <td>44.466667</td>\n",
       "      <td>0.021744</td>\n",
       "      <td>2.930885</td>\n",
       "      <td>-2.908090</td>\n",
       "      <td>5.829780</td>\n",
       "    </tr>\n",
       "    <tr>\n",
       "      <th>952.0</th>\n",
       "      <td>1996</td>\n",
       "      <td>6</td>\n",
       "      <td>BOS</td>\n",
       "      <td>Antoine Walker</td>\n",
       "      <td>Kentucky</td>\n",
       "      <td>12.0</td>\n",
       "      <td>893.0</td>\n",
       "      <td>31531.0</td>\n",
       "      <td>15647.0</td>\n",
       "      <td>6891.0</td>\n",
       "      <td>...</td>\n",
       "      <td>4925.074074</td>\n",
       "      <td>2192.555556</td>\n",
       "      <td>14.521259</td>\n",
       "      <td>-0.022430</td>\n",
       "      <td>0.966667</td>\n",
       "      <td>11.118519</td>\n",
       "      <td>0.015756</td>\n",
       "      <td>-1.796706</td>\n",
       "      <td>-2.045191</td>\n",
       "      <td>0.231327</td>\n",
       "    </tr>\n",
       "    <tr>\n",
       "      <th>953.0</th>\n",
       "      <td>1996</td>\n",
       "      <td>7</td>\n",
       "      <td>LAC</td>\n",
       "      <td>Lorenzen Wright</td>\n",
       "      <td>Memphis</td>\n",
       "      <td>13.0</td>\n",
       "      <td>778.0</td>\n",
       "      <td>18535.0</td>\n",
       "      <td>6191.0</td>\n",
       "      <td>4943.0</td>\n",
       "      <td>...</td>\n",
       "      <td>2188.629630</td>\n",
       "      <td>-936.444444</td>\n",
       "      <td>-2.492593</td>\n",
       "      <td>-0.005407</td>\n",
       "      <td>-1.390370</td>\n",
       "      <td>-10.862963</td>\n",
       "      <td>-0.015348</td>\n",
       "      <td>-6.441636</td>\n",
       "      <td>-4.493891</td>\n",
       "      <td>-1.947819</td>\n",
       "    </tr>\n",
       "    <tr>\n",
       "      <th>954.0</th>\n",
       "      <td>1996</td>\n",
       "      <td>8</td>\n",
       "      <td>NJN</td>\n",
       "      <td>Kerry Kittles</td>\n",
       "      <td>Villanova</td>\n",
       "      <td>8.0</td>\n",
       "      <td>507.0</td>\n",
       "      <td>16929.0</td>\n",
       "      <td>7165.0</td>\n",
       "      <td>1983.0</td>\n",
       "      <td>...</td>\n",
       "      <td>-50.259259</td>\n",
       "      <td>75.888889</td>\n",
       "      <td>21.925926</td>\n",
       "      <td>0.050704</td>\n",
       "      <td>3.865185</td>\n",
       "      <td>13.033333</td>\n",
       "      <td>0.021012</td>\n",
       "      <td>-2.312377</td>\n",
       "      <td>-5.393768</td>\n",
       "      <td>3.093452</td>\n",
       "    </tr>\n",
       "    <tr>\n",
       "      <th>955.0</th>\n",
       "      <td>1996</td>\n",
       "      <td>9</td>\n",
       "      <td>DAL</td>\n",
       "      <td>Samaki Walker</td>\n",
       "      <td>Louisville</td>\n",
       "      <td>10.0</td>\n",
       "      <td>445.0</td>\n",
       "      <td>7612.0</td>\n",
       "      <td>2376.0</td>\n",
       "      <td>2089.0</td>\n",
       "      <td>...</td>\n",
       "      <td>-1177.888889</td>\n",
       "      <td>-1255.222222</td>\n",
       "      <td>-28.696296</td>\n",
       "      <td>-0.006296</td>\n",
       "      <td>-2.066667</td>\n",
       "      <td>-15.181481</td>\n",
       "      <td>-0.020471</td>\n",
       "      <td>-7.659763</td>\n",
       "      <td>-4.727795</td>\n",
       "      <td>-2.953310</td>\n",
       "    </tr>\n",
       "    <tr>\n",
       "      <th>956.0</th>\n",
       "      <td>1996</td>\n",
       "      <td>10</td>\n",
       "      <td>IND</td>\n",
       "      <td>Erick Dampier</td>\n",
       "      <td>Mississippi State</td>\n",
       "      <td>16.0</td>\n",
       "      <td>987.0</td>\n",
       "      <td>24003.0</td>\n",
       "      <td>7309.0</td>\n",
       "      <td>7005.0</td>\n",
       "      <td>...</td>\n",
       "      <td>4579.555556</td>\n",
       "      <td>-647.074074</td>\n",
       "      <td>20.044444</td>\n",
       "      <td>0.024741</td>\n",
       "      <td>-0.122222</td>\n",
       "      <td>-5.322222</td>\n",
       "      <td>-0.004984</td>\n",
       "      <td>-1.778714</td>\n",
       "      <td>-3.831300</td>\n",
       "      <td>2.052403</td>\n",
       "    </tr>\n",
       "    <tr>\n",
       "      <th>957.0</th>\n",
       "      <td>1996</td>\n",
       "      <td>11</td>\n",
       "      <td>GSW</td>\n",
       "      <td>Todd Fuller</td>\n",
       "      <td>NC State</td>\n",
       "      <td>5.0</td>\n",
       "      <td>225.0</td>\n",
       "      <td>2500.0</td>\n",
       "      <td>835.0</td>\n",
       "      <td>674.0</td>\n",
       "      <td>...</td>\n",
       "      <td>-718.222222</td>\n",
       "      <td>-624.037037</td>\n",
       "      <td>-13.997259</td>\n",
       "      <td>-0.028875</td>\n",
       "      <td>-4.027407</td>\n",
       "      <td>-5.540741</td>\n",
       "      <td>-0.021682</td>\n",
       "      <td>-6.470839</td>\n",
       "      <td>-4.975537</td>\n",
       "      <td>-1.894743</td>\n",
       "    </tr>\n",
       "    <tr>\n",
       "      <th>958.0</th>\n",
       "      <td>1996</td>\n",
       "      <td>12</td>\n",
       "      <td>CLE</td>\n",
       "      <td>Vitaly Potapenko</td>\n",
       "      <td>Wright State University</td>\n",
       "      <td>11.0</td>\n",
       "      <td>610.0</td>\n",
       "      <td>11608.0</td>\n",
       "      <td>3995.0</td>\n",
       "      <td>2725.0</td>\n",
       "      <td>...</td>\n",
       "      <td>755.222222</td>\n",
       "      <td>-209.851852</td>\n",
       "      <td>-2.711111</td>\n",
       "      <td>-0.005074</td>\n",
       "      <td>-2.003704</td>\n",
       "      <td>-8.411111</td>\n",
       "      <td>-0.005233</td>\n",
       "      <td>-0.777793</td>\n",
       "      <td>-1.003957</td>\n",
       "      <td>0.228191</td>\n",
       "    </tr>\n",
       "    <tr>\n",
       "      <th>977.0</th>\n",
       "      <td>1996</td>\n",
       "      <td>13</td>\n",
       "      <td>CHH</td>\n",
       "      <td>Kobe Bryant</td>\n",
       "      <td>NaN</td>\n",
       "      <td>20.0</td>\n",
       "      <td>1346.0</td>\n",
       "      <td>48637.0</td>\n",
       "      <td>33643.0</td>\n",
       "      <td>7047.0</td>\n",
       "      <td>...</td>\n",
       "      <td>5190.888889</td>\n",
       "      <td>5198.518519</td>\n",
       "      <td>146.518519</td>\n",
       "      <td>0.089593</td>\n",
       "      <td>5.662963</td>\n",
       "      <td>72.748148</td>\n",
       "      <td>0.055231</td>\n",
       "      <td>3.583755</td>\n",
       "      <td>-1.988531</td>\n",
       "      <td>5.575923</td>\n",
       "    </tr>\n",
       "    <tr>\n",
       "      <th>978.0</th>\n",
       "      <td>1996</td>\n",
       "      <td>14</td>\n",
       "      <td>SAC</td>\n",
       "      <td>Peja Stojaković</td>\n",
       "      <td>NaN</td>\n",
       "      <td>13.0</td>\n",
       "      <td>804.0</td>\n",
       "      <td>26966.0</td>\n",
       "      <td>13647.0</td>\n",
       "      <td>3782.0</td>\n",
       "      <td>...</td>\n",
       "      <td>2178.222222</td>\n",
       "      <td>745.592593</td>\n",
       "      <td>64.729630</td>\n",
       "      <td>0.072111</td>\n",
       "      <td>3.802222</td>\n",
       "      <td>22.996296</td>\n",
       "      <td>0.025416</td>\n",
       "      <td>3.754199</td>\n",
       "      <td>-3.609882</td>\n",
       "      <td>7.358364</td>\n",
       "    </tr>\n",
       "    <tr>\n",
       "      <th>959.0</th>\n",
       "      <td>1996</td>\n",
       "      <td>15</td>\n",
       "      <td>PHO</td>\n",
       "      <td>Steve Nash</td>\n",
       "      <td>Santa Clara</td>\n",
       "      <td>18.0</td>\n",
       "      <td>1217.0</td>\n",
       "      <td>38069.0</td>\n",
       "      <td>17387.0</td>\n",
       "      <td>3642.0</td>\n",
       "      <td>...</td>\n",
       "      <td>1783.000000</td>\n",
       "      <td>9387.925926</td>\n",
       "      <td>105.584222</td>\n",
       "      <td>0.091533</td>\n",
       "      <td>4.809630</td>\n",
       "      <td>41.722222</td>\n",
       "      <td>0.052276</td>\n",
       "      <td>8.480965</td>\n",
       "      <td>-1.789144</td>\n",
       "      <td>9.885356</td>\n",
       "    </tr>\n",
       "    <tr>\n",
       "      <th>960.0</th>\n",
       "      <td>1996</td>\n",
       "      <td>16</td>\n",
       "      <td>CHH</td>\n",
       "      <td>Tony Delk</td>\n",
       "      <td>Kentucky</td>\n",
       "      <td>10.0</td>\n",
       "      <td>545.0</td>\n",
       "      <td>11702.0</td>\n",
       "      <td>4957.0</td>\n",
       "      <td>1351.0</td>\n",
       "      <td>...</td>\n",
       "      <td>-171.444444</td>\n",
       "      <td>218.037037</td>\n",
       "      <td>3.586963</td>\n",
       "      <td>0.031148</td>\n",
       "      <td>2.344444</td>\n",
       "      <td>0.814815</td>\n",
       "      <td>0.021428</td>\n",
       "      <td>-2.117282</td>\n",
       "      <td>-4.201623</td>\n",
       "      <td>2.098408</td>\n",
       "    </tr>\n",
       "    <tr>\n",
       "      <th>979.0</th>\n",
       "      <td>1996</td>\n",
       "      <td>17</td>\n",
       "      <td>POR</td>\n",
       "      <td>Jermaine O'Neal</td>\n",
       "      <td>NaN</td>\n",
       "      <td>18.0</td>\n",
       "      <td>1011.0</td>\n",
       "      <td>27364.0</td>\n",
       "      <td>13309.0</td>\n",
       "      <td>7261.0</td>\n",
       "      <td>...</td>\n",
       "      <td>5550.518519</td>\n",
       "      <td>559.259259</td>\n",
       "      <td>49.714815</td>\n",
       "      <td>0.053630</td>\n",
       "      <td>2.262963</td>\n",
       "      <td>12.255556</td>\n",
       "      <td>0.041037</td>\n",
       "      <td>2.750548</td>\n",
       "      <td>-1.468461</td>\n",
       "      <td>4.210452</td>\n",
       "    </tr>\n",
       "    <tr>\n",
       "      <th>961.0</th>\n",
       "      <td>1996</td>\n",
       "      <td>18</td>\n",
       "      <td>NYK</td>\n",
       "      <td>John Wallace</td>\n",
       "      <td>Syracuse</td>\n",
       "      <td>7.0</td>\n",
       "      <td>381.0</td>\n",
       "      <td>6143.0</td>\n",
       "      <td>2901.0</td>\n",
       "      <td>1061.0</td>\n",
       "      <td>...</td>\n",
       "      <td>-426.666667</td>\n",
       "      <td>-457.814815</td>\n",
       "      <td>-11.149111</td>\n",
       "      <td>-0.022222</td>\n",
       "      <td>-0.065926</td>\n",
       "      <td>-4.718519</td>\n",
       "      <td>0.001765</td>\n",
       "      <td>-5.814292</td>\n",
       "      <td>-2.593791</td>\n",
       "      <td>-3.189627</td>\n",
       "    </tr>\n",
       "    <tr>\n",
       "      <th>962.0</th>\n",
       "      <td>1996</td>\n",
       "      <td>19</td>\n",
       "      <td>NYK</td>\n",
       "      <td>Walter McCarty</td>\n",
       "      <td>Kentucky</td>\n",
       "      <td>10.0</td>\n",
       "      <td>593.0</td>\n",
       "      <td>10374.0</td>\n",
       "      <td>3056.0</td>\n",
       "      <td>1554.0</td>\n",
       "      <td>...</td>\n",
       "      <td>-224.629630</td>\n",
       "      <td>-23.851852</td>\n",
       "      <td>-4.212074</td>\n",
       "      <td>0.001570</td>\n",
       "      <td>0.433333</td>\n",
       "      <td>-1.822222</td>\n",
       "      <td>-0.020660</td>\n",
       "      <td>-5.096489</td>\n",
       "      <td>-5.873651</td>\n",
       "      <td>0.795579</td>\n",
       "    </tr>\n",
       "    <tr>\n",
       "      <th>980.0</th>\n",
       "      <td>1996</td>\n",
       "      <td>20</td>\n",
       "      <td>CLE</td>\n",
       "      <td>Zydrunas Ilgauskas</td>\n",
       "      <td>NaN</td>\n",
       "      <td>13.0</td>\n",
       "      <td>843.0</td>\n",
       "      <td>22965.0</td>\n",
       "      <td>10976.0</td>\n",
       "      <td>6191.0</td>\n",
       "      <td>...</td>\n",
       "      <td>4960.703704</td>\n",
       "      <td>306.370370</td>\n",
       "      <td>53.128667</td>\n",
       "      <td>0.075037</td>\n",
       "      <td>1.922222</td>\n",
       "      <td>8.892593</td>\n",
       "      <td>0.037389</td>\n",
       "      <td>1.806279</td>\n",
       "      <td>-3.745748</td>\n",
       "      <td>5.535416</td>\n",
       "    </tr>\n",
       "    <tr>\n",
       "      <th>963.0</th>\n",
       "      <td>1996</td>\n",
       "      <td>21</td>\n",
       "      <td>NYK</td>\n",
       "      <td>Dontae' Jones</td>\n",
       "      <td>Mississippi State</td>\n",
       "      <td>1.0</td>\n",
       "      <td>15.0</td>\n",
       "      <td>91.0</td>\n",
       "      <td>44.0</td>\n",
       "      <td>9.0</td>\n",
       "      <td>...</td>\n",
       "      <td>-1444.555556</td>\n",
       "      <td>-990.185185</td>\n",
       "      <td>-18.359259</td>\n",
       "      <td>-0.223185</td>\n",
       "      <td>-8.296296</td>\n",
       "      <td>-4.459259</td>\n",
       "      <td>-0.069192</td>\n",
       "      <td>-5.649551</td>\n",
       "      <td>-8.091703</td>\n",
       "      <td>2.441105</td>\n",
       "    </tr>\n",
       "    <tr>\n",
       "      <th>964.0</th>\n",
       "      <td>1996</td>\n",
       "      <td>22</td>\n",
       "      <td>VAN</td>\n",
       "      <td>Roy Rogers</td>\n",
       "      <td>Alabama</td>\n",
       "      <td>3.0</td>\n",
       "      <td>137.0</td>\n",
       "      <td>2309.0</td>\n",
       "      <td>652.0</td>\n",
       "      <td>483.0</td>\n",
       "      <td>...</td>\n",
       "      <td>-896.888889</td>\n",
       "      <td>-454.629630</td>\n",
       "      <td>-12.127852</td>\n",
       "      <td>-0.038741</td>\n",
       "      <td>-1.703704</td>\n",
       "      <td>-3.207407</td>\n",
       "      <td>-0.017490</td>\n",
       "      <td>-4.276131</td>\n",
       "      <td>2.884215</td>\n",
       "      <td>-7.132405</td>\n",
       "    </tr>\n",
       "    <tr>\n",
       "      <th>981.0</th>\n",
       "      <td>1996</td>\n",
       "      <td>23</td>\n",
       "      <td>DEN</td>\n",
       "      <td>Efthimios Rentzias</td>\n",
       "      <td>NaN</td>\n",
       "      <td>1.0</td>\n",
       "      <td>35.0</td>\n",
       "      <td>144.0</td>\n",
       "      <td>52.0</td>\n",
       "      <td>26.0</td>\n",
       "      <td>...</td>\n",
       "      <td>-1428.925926</td>\n",
       "      <td>-603.000000</td>\n",
       "      <td>-14.396296</td>\n",
       "      <td>-0.007667</td>\n",
       "      <td>-1.788889</td>\n",
       "      <td>-2.251852</td>\n",
       "      <td>-0.025098</td>\n",
       "      <td>-10.765843</td>\n",
       "      <td>-8.880742</td>\n",
       "      <td>-1.883351</td>\n",
       "    </tr>\n",
       "    <tr>\n",
       "      <th>965.0</th>\n",
       "      <td>1996</td>\n",
       "      <td>24</td>\n",
       "      <td>LAL</td>\n",
       "      <td>Derek Fisher</td>\n",
       "      <td>Little Rock</td>\n",
       "      <td>18.0</td>\n",
       "      <td>1287.0</td>\n",
       "      <td>32719.0</td>\n",
       "      <td>10713.0</td>\n",
       "      <td>2658.0</td>\n",
       "      <td>...</td>\n",
       "      <td>1374.407407</td>\n",
       "      <td>2791.481481</td>\n",
       "      <td>43.084222</td>\n",
       "      <td>0.029963</td>\n",
       "      <td>1.022222</td>\n",
       "      <td>3.807407</td>\n",
       "      <td>-0.001100</td>\n",
       "      <td>3.775677</td>\n",
       "      <td>-5.445551</td>\n",
       "      <td>9.203258</td>\n",
       "    </tr>\n",
       "    <tr>\n",
       "      <th>982.0</th>\n",
       "      <td>1996</td>\n",
       "      <td>25</td>\n",
       "      <td>UTA</td>\n",
       "      <td>Martin Müürsepp</td>\n",
       "      <td>NaN</td>\n",
       "      <td>2.0</td>\n",
       "      <td>83.0</td>\n",
       "      <td>951.0</td>\n",
       "      <td>389.0</td>\n",
       "      <td>181.0</td>\n",
       "      <td>...</td>\n",
       "      <td>-1169.296296</td>\n",
       "      <td>-457.814815</td>\n",
       "      <td>-12.176000</td>\n",
       "      <td>0.037148</td>\n",
       "      <td>0.570370</td>\n",
       "      <td>-2.937037</td>\n",
       "      <td>-0.005055</td>\n",
       "      <td>-6.919013</td>\n",
       "      <td>-1.546189</td>\n",
       "      <td>-5.424819</td>\n",
       "    </tr>\n",
       "    <tr>\n",
       "      <th>966.0</th>\n",
       "      <td>1996</td>\n",
       "      <td>26</td>\n",
       "      <td>DET</td>\n",
       "      <td>Jerome Williams</td>\n",
       "      <td>Georgetown</td>\n",
       "      <td>9.0</td>\n",
       "      <td>587.0</td>\n",
       "      <td>12755.0</td>\n",
       "      <td>3865.0</td>\n",
       "      <td>3743.0</td>\n",
       "      <td>...</td>\n",
       "      <td>2417.296296</td>\n",
       "      <td>-87.000000</td>\n",
       "      <td>21.547185</td>\n",
       "      <td>0.073829</td>\n",
       "      <td>2.342963</td>\n",
       "      <td>5.144444</td>\n",
       "      <td>0.042031</td>\n",
       "      <td>1.681640</td>\n",
       "      <td>-2.731460</td>\n",
       "      <td>4.034207</td>\n",
       "    </tr>\n",
       "    <tr>\n",
       "      <th>967.0</th>\n",
       "      <td>1996</td>\n",
       "      <td>27</td>\n",
       "      <td>ORL</td>\n",
       "      <td>Brian Evans</td>\n",
       "      <td>Indiana</td>\n",
       "      <td>3.0</td>\n",
       "      <td>102.0</td>\n",
       "      <td>1097.0</td>\n",
       "      <td>375.0</td>\n",
       "      <td>164.0</td>\n",
       "      <td>...</td>\n",
       "      <td>-1396.185185</td>\n",
       "      <td>-613.925926</td>\n",
       "      <td>-14.425926</td>\n",
       "      <td>-0.008111</td>\n",
       "      <td>1.434074</td>\n",
       "      <td>-2.729630</td>\n",
       "      <td>-0.012307</td>\n",
       "      <td>-5.627273</td>\n",
       "      <td>-5.561676</td>\n",
       "      <td>-0.067537</td>\n",
       "    </tr>\n",
       "    <tr>\n",
       "      <th>968.0</th>\n",
       "      <td>1996</td>\n",
       "      <td>28</td>\n",
       "      <td>ATL</td>\n",
       "      <td>Priest Lauderdale</td>\n",
       "      <td>Central State University</td>\n",
       "      <td>2.0</td>\n",
       "      <td>74.0</td>\n",
       "      <td>525.0</td>\n",
       "      <td>255.0</td>\n",
       "      <td>143.0</td>\n",
       "      <td>...</td>\n",
       "      <td>-629.037037</td>\n",
       "      <td>-684.518519</td>\n",
       "      <td>-12.541704</td>\n",
       "      <td>-0.119245</td>\n",
       "      <td>-4.934815</td>\n",
       "      <td>-2.181481</td>\n",
       "      <td>-0.014049</td>\n",
       "      <td>-2.828640</td>\n",
       "      <td>-3.604947</td>\n",
       "      <td>0.389384</td>\n",
       "    </tr>\n",
       "    <tr>\n",
       "      <th>969.0</th>\n",
       "      <td>1996</td>\n",
       "      <td>29</td>\n",
       "      <td>CHI</td>\n",
       "      <td>Travis Knight</td>\n",
       "      <td>UConn</td>\n",
       "      <td>7.0</td>\n",
       "      <td>371.0</td>\n",
       "      <td>4566.0</td>\n",
       "      <td>1276.0</td>\n",
       "      <td>1160.0</td>\n",
       "      <td>...</td>\n",
       "      <td>302.541667</td>\n",
       "      <td>-192.250000</td>\n",
       "      <td>-0.392750</td>\n",
       "      <td>0.019583</td>\n",
       "      <td>-0.204167</td>\n",
       "      <td>-1.737500</td>\n",
       "      <td>-0.026559</td>\n",
       "      <td>-6.158246</td>\n",
       "      <td>-7.091646</td>\n",
       "      <td>0.935461</td>\n",
       "    </tr>\n",
       "    <tr>\n",
       "      <th>970.0</th>\n",
       "      <td>1996</td>\n",
       "      <td>30</td>\n",
       "      <td>HOU</td>\n",
       "      <td>Othella Harrington</td>\n",
       "      <td>Georgetown</td>\n",
       "      <td>12.0</td>\n",
       "      <td>709.0</td>\n",
       "      <td>13924.0</td>\n",
       "      <td>5212.0</td>\n",
       "      <td>3130.0</td>\n",
       "      <td>...</td>\n",
       "      <td>1843.370370</td>\n",
       "      <td>-87.555556</td>\n",
       "      <td>8.063778</td>\n",
       "      <td>0.030227</td>\n",
       "      <td>-0.237778</td>\n",
       "      <td>-7.818519</td>\n",
       "      <td>-0.042031</td>\n",
       "      <td>-85.957818</td>\n",
       "      <td>-96.327498</td>\n",
       "      <td>9.221817</td>\n",
       "    </tr>\n",
       "    <tr>\n",
       "      <th>971.0</th>\n",
       "      <td>1996</td>\n",
       "      <td>31</td>\n",
       "      <td>PHI</td>\n",
       "      <td>Mark Hendrickson</td>\n",
       "      <td>Washington State</td>\n",
       "      <td>4.0</td>\n",
       "      <td>114.0</td>\n",
       "      <td>1508.0</td>\n",
       "      <td>381.0</td>\n",
       "      <td>316.0</td>\n",
       "      <td>...</td>\n",
       "      <td>-424.259259</td>\n",
       "      <td>-296.962963</td>\n",
       "      <td>-7.452000</td>\n",
       "      <td>0.026584</td>\n",
       "      <td>-0.114074</td>\n",
       "      <td>-1.803704</td>\n",
       "      <td>0.011353</td>\n",
       "      <td>-3.292074</td>\n",
       "      <td>-3.665523</td>\n",
       "      <td>-0.438370</td>\n",
       "    </tr>\n",
       "    <tr>\n",
       "      <th>NaN</th>\n",
       "      <td>1996</td>\n",
       "      <td>32</td>\n",
       "      <td>PHI</td>\n",
       "      <td>Ryan Minor</td>\n",
       "      <td>Oklahoma</td>\n",
       "      <td>NaN</td>\n",
       "      <td>NaN</td>\n",
       "      <td>NaN</td>\n",
       "      <td>0.0</td>\n",
       "      <td>0.0</td>\n",
       "      <td>...</td>\n",
       "      <td>-697.703704</td>\n",
       "      <td>-285.296296</td>\n",
       "      <td>-9.588000</td>\n",
       "      <td>-0.169847</td>\n",
       "      <td>-8.283704</td>\n",
       "      <td>-4.555556</td>\n",
       "      <td>-0.067965</td>\n",
       "      <td>-18.208778</td>\n",
       "      <td>13.328534</td>\n",
       "      <td>-21.501700</td>\n",
       "    </tr>\n",
       "    <tr>\n",
       "      <th>983.0</th>\n",
       "      <td>1996</td>\n",
       "      <td>33</td>\n",
       "      <td>MIL</td>\n",
       "      <td>Moochie Norris</td>\n",
       "      <td>University of West Florida</td>\n",
       "      <td>9.0</td>\n",
       "      <td>445.0</td>\n",
       "      <td>7640.0</td>\n",
       "      <td>2272.0</td>\n",
       "      <td>868.0</td>\n",
       "      <td>...</td>\n",
       "      <td>46.814815</td>\n",
       "      <td>984.000000</td>\n",
       "      <td>1.585037</td>\n",
       "      <td>0.009940</td>\n",
       "      <td>1.611111</td>\n",
       "      <td>0.962963</td>\n",
       "      <td>0.016954</td>\n",
       "      <td>-2.012033</td>\n",
       "      <td>-2.283767</td>\n",
       "      <td>0.243912</td>\n",
       "    </tr>\n",
       "    <tr>\n",
       "      <th>NaN</th>\n",
       "      <td>1996</td>\n",
       "      <td>34</td>\n",
       "      <td>DAL</td>\n",
       "      <td>Shawn Harvey</td>\n",
       "      <td>West Virginia State University</td>\n",
       "      <td>NaN</td>\n",
       "      <td>NaN</td>\n",
       "      <td>NaN</td>\n",
       "      <td>0.0</td>\n",
       "      <td>0.0</td>\n",
       "      <td>...</td>\n",
       "      <td>-554.888889</td>\n",
       "      <td>-399.518519</td>\n",
       "      <td>-6.807481</td>\n",
       "      <td>-0.155287</td>\n",
       "      <td>-8.006667</td>\n",
       "      <td>-3.300000</td>\n",
       "      <td>-0.077295</td>\n",
       "      <td>-17.877659</td>\n",
       "      <td>11.259527</td>\n",
       "      <td>-20.247353</td>\n",
       "    </tr>\n",
       "    <tr>\n",
       "      <th>NaN</th>\n",
       "      <td>1996</td>\n",
       "      <td>35</td>\n",
       "      <td>SEA</td>\n",
       "      <td>Joseph Blair</td>\n",
       "      <td>Arizona</td>\n",
       "      <td>NaN</td>\n",
       "      <td>NaN</td>\n",
       "      <td>NaN</td>\n",
       "      <td>0.0</td>\n",
       "      <td>0.0</td>\n",
       "      <td>...</td>\n",
       "      <td>-1443.000000</td>\n",
       "      <td>-421.074074</td>\n",
       "      <td>-14.174148</td>\n",
       "      <td>-0.161805</td>\n",
       "      <td>-7.717778</td>\n",
       "      <td>-5.703704</td>\n",
       "      <td>-0.067680</td>\n",
       "      <td>-17.512685</td>\n",
       "      <td>10.947365</td>\n",
       "      <td>-19.582441</td>\n",
       "    </tr>\n",
       "    <tr>\n",
       "      <th>NaN</th>\n",
       "      <td>1996</td>\n",
       "      <td>36</td>\n",
       "      <td>LAC</td>\n",
       "      <td>Doron Sheffer</td>\n",
       "      <td>UConn</td>\n",
       "      <td>NaN</td>\n",
       "      <td>NaN</td>\n",
       "      <td>NaN</td>\n",
       "      <td>0.0</td>\n",
       "      <td>0.0</td>\n",
       "      <td>...</td>\n",
       "      <td>-655.740741</td>\n",
       "      <td>-187.666667</td>\n",
       "      <td>-6.858519</td>\n",
       "      <td>-0.155184</td>\n",
       "      <td>-7.463704</td>\n",
       "      <td>-3.088889</td>\n",
       "      <td>-0.068331</td>\n",
       "      <td>-17.037914</td>\n",
       "      <td>11.218832</td>\n",
       "      <td>-19.763905</td>\n",
       "    </tr>\n",
       "    <tr>\n",
       "      <th>976.0</th>\n",
       "      <td>1996</td>\n",
       "      <td>37</td>\n",
       "      <td>DEN</td>\n",
       "      <td>Jeff McInnis</td>\n",
       "      <td>UNC</td>\n",
       "      <td>11.0</td>\n",
       "      <td>576.0</td>\n",
       "      <td>15927.0</td>\n",
       "      <td>5396.0</td>\n",
       "      <td>1170.0</td>\n",
       "      <td>...</td>\n",
       "      <td>522.296296</td>\n",
       "      <td>2213.296296</td>\n",
       "      <td>16.089704</td>\n",
       "      <td>0.050829</td>\n",
       "      <td>2.960000</td>\n",
       "      <td>-0.459259</td>\n",
       "      <td>0.035457</td>\n",
       "      <td>5.067031</td>\n",
       "      <td>4.000304</td>\n",
       "      <td>0.693020</td>\n",
       "    </tr>\n",
       "    <tr>\n",
       "      <th>984.0</th>\n",
       "      <td>1996</td>\n",
       "      <td>38</td>\n",
       "      <td>BOS</td>\n",
       "      <td>Steve Hamer</td>\n",
       "      <td>Tennessee</td>\n",
       "      <td>1.0</td>\n",
       "      <td>35.0</td>\n",
       "      <td>268.0</td>\n",
       "      <td>76.0</td>\n",
       "      <td>60.0</td>\n",
       "      <td>...</td>\n",
       "      <td>-665.851852</td>\n",
       "      <td>-526.111111</td>\n",
       "      <td>-9.161185</td>\n",
       "      <td>-0.019074</td>\n",
       "      <td>-3.700000</td>\n",
       "      <td>-1.437037</td>\n",
       "      <td>-0.020833</td>\n",
       "      <td>3.336335</td>\n",
       "      <td>-0.538017</td>\n",
       "      <td>3.964844</td>\n",
       "    </tr>\n",
       "    <tr>\n",
       "      <th>NaN</th>\n",
       "      <td>1996</td>\n",
       "      <td>39</td>\n",
       "      <td>PHO</td>\n",
       "      <td>Russ Millard</td>\n",
       "      <td>Iowa</td>\n",
       "      <td>NaN</td>\n",
       "      <td>NaN</td>\n",
       "      <td>NaN</td>\n",
       "      <td>0.0</td>\n",
       "      <td>0.0</td>\n",
       "      <td>...</td>\n",
       "      <td>-502.555556</td>\n",
       "      <td>-316.777778</td>\n",
       "      <td>-6.572519</td>\n",
       "      <td>-0.104601</td>\n",
       "      <td>-4.554815</td>\n",
       "      <td>-3.255556</td>\n",
       "      <td>-0.034406</td>\n",
       "      <td>-15.245663</td>\n",
       "      <td>8.049371</td>\n",
       "      <td>-15.955246</td>\n",
       "    </tr>\n",
       "    <tr>\n",
       "      <th>NaN</th>\n",
       "      <td>1996</td>\n",
       "      <td>40</td>\n",
       "      <td>GSW</td>\n",
       "      <td>Marcus Mann</td>\n",
       "      <td>Mississippi Valley State University</td>\n",
       "      <td>NaN</td>\n",
       "      <td>NaN</td>\n",
       "      <td>NaN</td>\n",
       "      <td>0.0</td>\n",
       "      <td>0.0</td>\n",
       "      <td>...</td>\n",
       "      <td>-699.074074</td>\n",
       "      <td>-634.333333</td>\n",
       "      <td>-7.984296</td>\n",
       "      <td>-0.144241</td>\n",
       "      <td>-7.040741</td>\n",
       "      <td>-3.548148</td>\n",
       "      <td>-0.071619</td>\n",
       "      <td>-17.518148</td>\n",
       "      <td>10.255466</td>\n",
       "      <td>-18.122311</td>\n",
       "    </tr>\n",
       "    <tr>\n",
       "      <th>987.0</th>\n",
       "      <td>1996</td>\n",
       "      <td>41</td>\n",
       "      <td>SAC</td>\n",
       "      <td>Jason Sasser</td>\n",
       "      <td>Texas Tech</td>\n",
       "      <td>2.0</td>\n",
       "      <td>14.0</td>\n",
       "      <td>108.0</td>\n",
       "      <td>30.0</td>\n",
       "      <td>15.0</td>\n",
       "      <td>...</td>\n",
       "      <td>-676.296296</td>\n",
       "      <td>-382.555556</td>\n",
       "      <td>-9.537259</td>\n",
       "      <td>-0.039425</td>\n",
       "      <td>-1.317037</td>\n",
       "      <td>-1.937037</td>\n",
       "      <td>-0.009329</td>\n",
       "      <td>-14.794300</td>\n",
       "      <td>-6.482458</td>\n",
       "      <td>-9.870865</td>\n",
       "    </tr>\n",
       "    <tr>\n",
       "      <th>988.0</th>\n",
       "      <td>1996</td>\n",
       "      <td>42</td>\n",
       "      <td>HOU</td>\n",
       "      <td>Randy Livingston</td>\n",
       "      <td>LSU</td>\n",
       "      <td>11.0</td>\n",
       "      <td>203.0</td>\n",
       "      <td>2684.0</td>\n",
       "      <td>773.0</td>\n",
       "      <td>282.0</td>\n",
       "      <td>...</td>\n",
       "      <td>-389.777778</td>\n",
       "      <td>99.555556</td>\n",
       "      <td>-4.821556</td>\n",
       "      <td>0.008390</td>\n",
       "      <td>2.105185</td>\n",
       "      <td>-0.470370</td>\n",
       "      <td>0.007412</td>\n",
       "      <td>0.444486</td>\n",
       "      <td>-8.611474</td>\n",
       "      <td>7.514139</td>\n",
       "    </tr>\n",
       "    <tr>\n",
       "      <th>989.0</th>\n",
       "      <td>1996</td>\n",
       "      <td>43</td>\n",
       "      <td>PHO</td>\n",
       "      <td>Ben Davis</td>\n",
       "      <td>Arizona</td>\n",
       "      <td>4.0</td>\n",
       "      <td>40.0</td>\n",
       "      <td>154.0</td>\n",
       "      <td>54.0</td>\n",
       "      <td>53.0</td>\n",
       "      <td>...</td>\n",
       "      <td>-730.888889</td>\n",
       "      <td>-355.629630</td>\n",
       "      <td>-9.096444</td>\n",
       "      <td>0.070019</td>\n",
       "      <td>0.660741</td>\n",
       "      <td>-1.351852</td>\n",
       "      <td>-0.006835</td>\n",
       "      <td>5.133087</td>\n",
       "      <td>-4.365678</td>\n",
       "      <td>8.014650</td>\n",
       "    </tr>\n",
       "    <tr>\n",
       "      <th>990.0</th>\n",
       "      <td>1996</td>\n",
       "      <td>44</td>\n",
       "      <td>CHH</td>\n",
       "      <td>Malik Rose</td>\n",
       "      <td>Drexel</td>\n",
       "      <td>13.0</td>\n",
       "      <td>813.0</td>\n",
       "      <td>13404.0</td>\n",
       "      <td>5003.0</td>\n",
       "      <td>3371.0</td>\n",
       "      <td>...</td>\n",
       "      <td>2990.851852</td>\n",
       "      <td>558.444444</td>\n",
       "      <td>23.344000</td>\n",
       "      <td>0.110919</td>\n",
       "      <td>4.425926</td>\n",
       "      <td>0.733333</td>\n",
       "      <td>0.041725</td>\n",
       "      <td>7.918802</td>\n",
       "      <td>-7.892983</td>\n",
       "      <td>11.954422</td>\n",
       "    </tr>\n",
       "    <tr>\n",
       "      <th>NaN</th>\n",
       "      <td>1996</td>\n",
       "      <td>45</td>\n",
       "      <td>SEA</td>\n",
       "      <td>Joe Vogel</td>\n",
       "      <td>Colorado State</td>\n",
       "      <td>NaN</td>\n",
       "      <td>NaN</td>\n",
       "      <td>NaN</td>\n",
       "      <td>0.0</td>\n",
       "      <td>0.0</td>\n",
       "      <td>...</td>\n",
       "      <td>-601.888889</td>\n",
       "      <td>-442.037037</td>\n",
       "      <td>-9.463185</td>\n",
       "      <td>-0.155430</td>\n",
       "      <td>-7.470370</td>\n",
       "      <td>-3.711111</td>\n",
       "      <td>-0.068369</td>\n",
       "      <td>-15.777910</td>\n",
       "      <td>9.425386</td>\n",
       "      <td>-17.488088</td>\n",
       "    </tr>\n",
       "    <tr>\n",
       "      <th>992.0</th>\n",
       "      <td>1996</td>\n",
       "      <td>46</td>\n",
       "      <td>POR</td>\n",
       "      <td>Marcus Brown</td>\n",
       "      <td>Murray State</td>\n",
       "      <td>2.0</td>\n",
       "      <td>27.0</td>\n",
       "      <td>229.0</td>\n",
       "      <td>92.0</td>\n",
       "      <td>22.0</td>\n",
       "      <td>...</td>\n",
       "      <td>-539.481481</td>\n",
       "      <td>-279.111111</td>\n",
       "      <td>-5.890148</td>\n",
       "      <td>0.061603</td>\n",
       "      <td>2.713333</td>\n",
       "      <td>-3.674074</td>\n",
       "      <td>0.017294</td>\n",
       "      <td>9.034287</td>\n",
       "      <td>2.045739</td>\n",
       "      <td>4.757510</td>\n",
       "    </tr>\n",
       "    <tr>\n",
       "      <th>NaN</th>\n",
       "      <td>1996</td>\n",
       "      <td>47</td>\n",
       "      <td>SEA</td>\n",
       "      <td>Ron Riley</td>\n",
       "      <td>Arizona State</td>\n",
       "      <td>NaN</td>\n",
       "      <td>NaN</td>\n",
       "      <td>NaN</td>\n",
       "      <td>0.0</td>\n",
       "      <td>0.0</td>\n",
       "      <td>...</td>\n",
       "      <td>-548.370370</td>\n",
       "      <td>-322.666667</td>\n",
       "      <td>-7.038222</td>\n",
       "      <td>-0.153430</td>\n",
       "      <td>-7.503704</td>\n",
       "      <td>-3.177778</td>\n",
       "      <td>-0.055947</td>\n",
       "      <td>-15.536201</td>\n",
       "      <td>7.216054</td>\n",
       "      <td>-15.039237</td>\n",
       "    </tr>\n",
       "    <tr>\n",
       "      <th>994.0</th>\n",
       "      <td>1996</td>\n",
       "      <td>48</td>\n",
       "      <td>PHI</td>\n",
       "      <td>Jamie Feick</td>\n",
       "      <td>Michigan State</td>\n",
       "      <td>5.0</td>\n",
       "      <td>201.0</td>\n",
       "      <td>4316.0</td>\n",
       "      <td>911.0</td>\n",
       "      <td>1437.0</td>\n",
       "      <td>...</td>\n",
       "      <td>964.629630</td>\n",
       "      <td>-104.407407</td>\n",
       "      <td>3.050593</td>\n",
       "      <td>0.087256</td>\n",
       "      <td>2.522222</td>\n",
       "      <td>-1.007407</td>\n",
       "      <td>0.037301</td>\n",
       "      <td>3.370742</td>\n",
       "      <td>-0.423223</td>\n",
       "      <td>1.867043</td>\n",
       "    </tr>\n",
       "    <tr>\n",
       "      <th>1043.0</th>\n",
       "      <td>1996</td>\n",
       "      <td>49</td>\n",
       "      <td>ORL</td>\n",
       "      <td>Amal McCaskill</td>\n",
       "      <td>Marquette</td>\n",
       "      <td>4.0</td>\n",
       "      <td>114.0</td>\n",
       "      <td>968.0</td>\n",
       "      <td>204.0</td>\n",
       "      <td>213.0</td>\n",
       "      <td>...</td>\n",
       "      <td>-222.333333</td>\n",
       "      <td>-100.111111</td>\n",
       "      <td>-3.156815</td>\n",
       "      <td>0.031691</td>\n",
       "      <td>1.585926</td>\n",
       "      <td>-0.037037</td>\n",
       "      <td>0.000894</td>\n",
       "      <td>-2.657376</td>\n",
       "      <td>-7.147899</td>\n",
       "      <td>1.788420</td>\n",
       "    </tr>\n",
       "    <tr>\n",
       "      <th>NaN</th>\n",
       "      <td>1996</td>\n",
       "      <td>50</td>\n",
       "      <td>HOU</td>\n",
       "      <td>Terrell Bell</td>\n",
       "      <td>Georgia</td>\n",
       "      <td>NaN</td>\n",
       "      <td>NaN</td>\n",
       "      <td>NaN</td>\n",
       "      <td>0.0</td>\n",
       "      <td>0.0</td>\n",
       "      <td>...</td>\n",
       "      <td>-353.074074</td>\n",
       "      <td>-101.222222</td>\n",
       "      <td>-3.636593</td>\n",
       "      <td>-0.097294</td>\n",
       "      <td>-4.026667</td>\n",
       "      <td>-1.374074</td>\n",
       "      <td>-0.038827</td>\n",
       "      <td>-9.735958</td>\n",
       "      <td>5.805339</td>\n",
       "      <td>-10.527218</td>\n",
       "    </tr>\n",
       "    <tr>\n",
       "      <th>997.0</th>\n",
       "      <td>1996</td>\n",
       "      <td>51</td>\n",
       "      <td>VAN</td>\n",
       "      <td>Chris Robinson</td>\n",
       "      <td>Western Kentucky</td>\n",
       "      <td>2.0</td>\n",
       "      <td>76.0</td>\n",
       "      <td>1095.0</td>\n",
       "      <td>350.0</td>\n",
       "      <td>117.0</td>\n",
       "      <td>...</td>\n",
       "      <td>-100.777778</td>\n",
       "      <td>-46.333333</td>\n",
       "      <td>-3.640370</td>\n",
       "      <td>0.065146</td>\n",
       "      <td>4.836296</td>\n",
       "      <td>0.070370</td>\n",
       "      <td>0.027086</td>\n",
       "      <td>11.299745</td>\n",
       "      <td>1.057695</td>\n",
       "      <td>5.611988</td>\n",
       "    </tr>\n",
       "    <tr>\n",
       "      <th>998.0</th>\n",
       "      <td>1996</td>\n",
       "      <td>52</td>\n",
       "      <td>IND</td>\n",
       "      <td>Mark Pope</td>\n",
       "      <td>Kentucky</td>\n",
       "      <td>6.0</td>\n",
       "      <td>153.0</td>\n",
       "      <td>1634.0</td>\n",
       "      <td>285.0</td>\n",
       "      <td>261.0</td>\n",
       "      <td>...</td>\n",
       "      <td>126.037037</td>\n",
       "      <td>-5.074074</td>\n",
       "      <td>0.430148</td>\n",
       "      <td>0.058904</td>\n",
       "      <td>2.234815</td>\n",
       "      <td>0.900000</td>\n",
       "      <td>-0.022177</td>\n",
       "      <td>8.042970</td>\n",
       "      <td>-5.844805</td>\n",
       "      <td>10.365480</td>\n",
       "    </tr>\n",
       "    <tr>\n",
       "      <th>999.0</th>\n",
       "      <td>1996</td>\n",
       "      <td>53</td>\n",
       "      <td>MIL</td>\n",
       "      <td>Jeff Nordgaard</td>\n",
       "      <td>Green Bay</td>\n",
       "      <td>1.0</td>\n",
       "      <td>13.0</td>\n",
       "      <td>48.0</td>\n",
       "      <td>18.0</td>\n",
       "      <td>14.0</td>\n",
       "      <td>...</td>\n",
       "      <td>-246.555556</td>\n",
       "      <td>-98.259259</td>\n",
       "      <td>-2.867037</td>\n",
       "      <td>0.060580</td>\n",
       "      <td>2.641481</td>\n",
       "      <td>-1.944444</td>\n",
       "      <td>0.027203</td>\n",
       "      <td>13.414494</td>\n",
       "      <td>-0.136364</td>\n",
       "      <td>10.744489</td>\n",
       "    </tr>\n",
       "    <tr>\n",
       "      <th>1000.0</th>\n",
       "      <td>1996</td>\n",
       "      <td>54</td>\n",
       "      <td>UTA</td>\n",
       "      <td>Shandon Anderson</td>\n",
       "      <td>Georgia</td>\n",
       "      <td>10.0</td>\n",
       "      <td>719.0</td>\n",
       "      <td>15946.0</td>\n",
       "      <td>5327.0</td>\n",
       "      <td>2252.0</td>\n",
       "      <td>...</td>\n",
       "      <td>2110.814815</td>\n",
       "      <td>925.407407</td>\n",
       "      <td>22.582815</td>\n",
       "      <td>0.121331</td>\n",
       "      <td>6.536296</td>\n",
       "      <td>5.029630</td>\n",
       "      <td>0.049628</td>\n",
       "      <td>12.548982</td>\n",
       "      <td>-7.863629</td>\n",
       "      <td>15.383191</td>\n",
       "    </tr>\n",
       "    <tr>\n",
       "      <th>NaN</th>\n",
       "      <td>1996</td>\n",
       "      <td>55</td>\n",
       "      <td>WSB</td>\n",
       "      <td>Ronnie Henderson</td>\n",
       "      <td>LSU</td>\n",
       "      <td>NaN</td>\n",
       "      <td>NaN</td>\n",
       "      <td>NaN</td>\n",
       "      <td>0.0</td>\n",
       "      <td>0.0</td>\n",
       "      <td>...</td>\n",
       "      <td>-336.481481</td>\n",
       "      <td>-171.000000</td>\n",
       "      <td>-4.090222</td>\n",
       "      <td>-0.082698</td>\n",
       "      <td>-3.663704</td>\n",
       "      <td>-1.748148</td>\n",
       "      <td>-0.040669</td>\n",
       "      <td>-11.864864</td>\n",
       "      <td>7.635506</td>\n",
       "      <td>-12.548460</td>\n",
       "    </tr>\n",
       "    <tr>\n",
       "      <th>1002.0</th>\n",
       "      <td>1996</td>\n",
       "      <td>56</td>\n",
       "      <td>CLE</td>\n",
       "      <td>Reggie Geary</td>\n",
       "      <td>Arizona</td>\n",
       "      <td>2.0</td>\n",
       "      <td>101.0</td>\n",
       "      <td>931.0</td>\n",
       "      <td>209.0</td>\n",
       "      <td>82.0</td>\n",
       "      <td>...</td>\n",
       "      <td>-365.629630</td>\n",
       "      <td>-88.111111</td>\n",
       "      <td>-3.909778</td>\n",
       "      <td>0.046340</td>\n",
       "      <td>3.603704</td>\n",
       "      <td>0.866667</td>\n",
       "      <td>-0.004227</td>\n",
       "      <td>5.332264</td>\n",
       "      <td>-16.728273</td>\n",
       "      <td>18.197070</td>\n",
       "    </tr>\n",
       "    <tr>\n",
       "      <th>1003.0</th>\n",
       "      <td>1996</td>\n",
       "      <td>57</td>\n",
       "      <td>SEA</td>\n",
       "      <td>Drew Barry</td>\n",
       "      <td>Georgia Tech</td>\n",
       "      <td>3.0</td>\n",
       "      <td>60.0</td>\n",
       "      <td>598.0</td>\n",
       "      <td>134.0</td>\n",
       "      <td>67.0</td>\n",
       "      <td>...</td>\n",
       "      <td>-323.814815</td>\n",
       "      <td>-78.925926</td>\n",
       "      <td>-5.249704</td>\n",
       "      <td>0.099818</td>\n",
       "      <td>4.935556</td>\n",
       "      <td>-0.192593</td>\n",
       "      <td>0.050258</td>\n",
       "      <td>15.832626</td>\n",
       "      <td>-13.172774</td>\n",
       "      <td>22.825196</td>\n",
       "    </tr>\n",
       "    <tr>\n",
       "      <th>NaN</th>\n",
       "      <td>1996</td>\n",
       "      <td>58</td>\n",
       "      <td>DAL</td>\n",
       "      <td>Darnell Robinson</td>\n",
       "      <td>Arkansas</td>\n",
       "      <td>NaN</td>\n",
       "      <td>NaN</td>\n",
       "      <td>NaN</td>\n",
       "      <td>0.0</td>\n",
       "      <td>0.0</td>\n",
       "      <td>...</td>\n",
       "      <td>-79.666667</td>\n",
       "      <td>-21.481481</td>\n",
       "      <td>-1.035630</td>\n",
       "      <td>-0.100753</td>\n",
       "      <td>-4.345926</td>\n",
       "      <td>-1.133333</td>\n",
       "      <td>-0.039418</td>\n",
       "      <td>-10.098648</td>\n",
       "      <td>7.212131</td>\n",
       "      <td>-11.910650</td>\n",
       "    </tr>\n",
       "    <tr>\n",
       "      <th>1495.0</th>\n",
       "      <td>1997</td>\n",
       "      <td>1</td>\n",
       "      <td>SAS</td>\n",
       "      <td>Tim Duncan</td>\n",
       "      <td>Wake Forest</td>\n",
       "      <td>19.0</td>\n",
       "      <td>1392.0</td>\n",
       "      <td>47368.0</td>\n",
       "      <td>26496.0</td>\n",
       "      <td>15091.0</td>\n",
       "      <td>...</td>\n",
       "      <td>10747.222222</td>\n",
       "      <td>2139.407407</td>\n",
       "      <td>148.385185</td>\n",
       "      <td>0.088074</td>\n",
       "      <td>4.170370</td>\n",
       "      <td>67.807407</td>\n",
       "      <td>0.051803</td>\n",
       "      <td>-0.466095</td>\n",
       "      <td>-9.495456</td>\n",
       "      <td>9.035519</td>\n",
       "    </tr>\n",
       "    <tr>\n",
       "      <th>1496.0</th>\n",
       "      <td>1997</td>\n",
       "      <td>2</td>\n",
       "      <td>PHI</td>\n",
       "      <td>Keith Van Horn</td>\n",
       "      <td>Utah</td>\n",
       "      <td>9.0</td>\n",
       "      <td>575.0</td>\n",
       "      <td>18150.0</td>\n",
       "      <td>9206.0</td>\n",
       "      <td>3909.0</td>\n",
       "      <td>...</td>\n",
       "      <td>727.259259</td>\n",
       "      <td>-477.740741</td>\n",
       "      <td>5.739778</td>\n",
       "      <td>0.026236</td>\n",
       "      <td>0.791111</td>\n",
       "      <td>-0.707407</td>\n",
       "      <td>0.008986</td>\n",
       "      <td>0.002001</td>\n",
       "      <td>-4.801207</td>\n",
       "      <td>4.405899</td>\n",
       "    </tr>\n",
       "  </tbody>\n",
       "</table>\n",
       "<p>60 rows × 37 columns</p>\n",
       "</div>"
      ],
      "text/plain": [
       "Player ID  Season  Pk   Tm               Player  \\\n",
       "947.0        1996   1  PHI        Allen Iverson   \n",
       "948.0        1996   2  TOR         Marcus Camby   \n",
       "949.0        1996   3  VAN  Shareef Abdur-Rahim   \n",
       "950.0        1996   4  MIL      Stephon Marbury   \n",
       "951.0        1996   5  MIN            Ray Allen   \n",
       "952.0        1996   6  BOS       Antoine Walker   \n",
       "953.0        1996   7  LAC      Lorenzen Wright   \n",
       "954.0        1996   8  NJN        Kerry Kittles   \n",
       "955.0        1996   9  DAL        Samaki Walker   \n",
       "956.0        1996  10  IND        Erick Dampier   \n",
       "957.0        1996  11  GSW          Todd Fuller   \n",
       "958.0        1996  12  CLE     Vitaly Potapenko   \n",
       "977.0        1996  13  CHH          Kobe Bryant   \n",
       "978.0        1996  14  SAC      Peja Stojaković   \n",
       "959.0        1996  15  PHO           Steve Nash   \n",
       "960.0        1996  16  CHH            Tony Delk   \n",
       "979.0        1996  17  POR      Jermaine O'Neal   \n",
       "961.0        1996  18  NYK         John Wallace   \n",
       "962.0        1996  19  NYK       Walter McCarty   \n",
       "980.0        1996  20  CLE   Zydrunas Ilgauskas   \n",
       "963.0        1996  21  NYK        Dontae' Jones   \n",
       "964.0        1996  22  VAN           Roy Rogers   \n",
       "981.0        1996  23  DEN   Efthimios Rentzias   \n",
       "965.0        1996  24  LAL         Derek Fisher   \n",
       "982.0        1996  25  UTA      Martin Müürsepp   \n",
       "966.0        1996  26  DET      Jerome Williams   \n",
       "967.0        1996  27  ORL          Brian Evans   \n",
       "968.0        1996  28  ATL    Priest Lauderdale   \n",
       "969.0        1996  29  CHI        Travis Knight   \n",
       "970.0        1996  30  HOU   Othella Harrington   \n",
       "971.0        1996  31  PHI     Mark Hendrickson   \n",
       "NaN          1996  32  PHI           Ryan Minor   \n",
       "983.0        1996  33  MIL       Moochie Norris   \n",
       "NaN          1996  34  DAL         Shawn Harvey   \n",
       "NaN          1996  35  SEA         Joseph Blair   \n",
       "NaN          1996  36  LAC        Doron Sheffer   \n",
       "976.0        1996  37  DEN         Jeff McInnis   \n",
       "984.0        1996  38  BOS          Steve Hamer   \n",
       "NaN          1996  39  PHO         Russ Millard   \n",
       "NaN          1996  40  GSW          Marcus Mann   \n",
       "987.0        1996  41  SAC         Jason Sasser   \n",
       "988.0        1996  42  HOU     Randy Livingston   \n",
       "989.0        1996  43  PHO            Ben Davis   \n",
       "990.0        1996  44  CHH           Malik Rose   \n",
       "NaN          1996  45  SEA            Joe Vogel   \n",
       "992.0        1996  46  POR         Marcus Brown   \n",
       "NaN          1996  47  SEA            Ron Riley   \n",
       "994.0        1996  48  PHI          Jamie Feick   \n",
       "1043.0       1996  49  ORL       Amal McCaskill   \n",
       "NaN          1996  50  HOU         Terrell Bell   \n",
       "997.0        1996  51  VAN       Chris Robinson   \n",
       "998.0        1996  52  IND            Mark Pope   \n",
       "999.0        1996  53  MIL       Jeff Nordgaard   \n",
       "1000.0       1996  54  UTA     Shandon Anderson   \n",
       "NaN          1996  55  WSB     Ronnie Henderson   \n",
       "1002.0       1996  56  CLE         Reggie Geary   \n",
       "1003.0       1996  57  SEA           Drew Barry   \n",
       "NaN          1996  58  DAL     Darnell Robinson   \n",
       "1495.0       1997   1  SAS           Tim Duncan   \n",
       "1496.0       1997   2  PHI       Keith Van Horn   \n",
       "\n",
       "Player ID                              College   Yrs       G       MP  \\\n",
       "947.0                               Georgetown  14.0   914.0  37584.0   \n",
       "948.0                                    UMass  17.0   973.0  28684.0   \n",
       "949.0                               California  12.0   830.0  28882.0   \n",
       "950.0                             Georgia Tech  13.0   846.0  31891.0   \n",
       "951.0                                    UConn  18.0  1300.0  46344.0   \n",
       "952.0                                 Kentucky  12.0   893.0  31531.0   \n",
       "953.0                                  Memphis  13.0   778.0  18535.0   \n",
       "954.0                                Villanova   8.0   507.0  16929.0   \n",
       "955.0                               Louisville  10.0   445.0   7612.0   \n",
       "956.0                        Mississippi State  16.0   987.0  24003.0   \n",
       "957.0                                 NC State   5.0   225.0   2500.0   \n",
       "958.0                  Wright State University  11.0   610.0  11608.0   \n",
       "977.0                                      NaN  20.0  1346.0  48637.0   \n",
       "978.0                                      NaN  13.0   804.0  26966.0   \n",
       "959.0                              Santa Clara  18.0  1217.0  38069.0   \n",
       "960.0                                 Kentucky  10.0   545.0  11702.0   \n",
       "979.0                                      NaN  18.0  1011.0  27364.0   \n",
       "961.0                                 Syracuse   7.0   381.0   6143.0   \n",
       "962.0                                 Kentucky  10.0   593.0  10374.0   \n",
       "980.0                                      NaN  13.0   843.0  22965.0   \n",
       "963.0                        Mississippi State   1.0    15.0     91.0   \n",
       "964.0                                  Alabama   3.0   137.0   2309.0   \n",
       "981.0                                      NaN   1.0    35.0    144.0   \n",
       "965.0                              Little Rock  18.0  1287.0  32719.0   \n",
       "982.0                                      NaN   2.0    83.0    951.0   \n",
       "966.0                               Georgetown   9.0   587.0  12755.0   \n",
       "967.0                                  Indiana   3.0   102.0   1097.0   \n",
       "968.0                 Central State University   2.0    74.0    525.0   \n",
       "969.0                                    UConn   7.0   371.0   4566.0   \n",
       "970.0                               Georgetown  12.0   709.0  13924.0   \n",
       "971.0                         Washington State   4.0   114.0   1508.0   \n",
       "NaN                                   Oklahoma   NaN     NaN      NaN   \n",
       "983.0               University of West Florida   9.0   445.0   7640.0   \n",
       "NaN             West Virginia State University   NaN     NaN      NaN   \n",
       "NaN                                    Arizona   NaN     NaN      NaN   \n",
       "NaN                                      UConn   NaN     NaN      NaN   \n",
       "976.0                                      UNC  11.0   576.0  15927.0   \n",
       "984.0                                Tennessee   1.0    35.0    268.0   \n",
       "NaN                                       Iowa   NaN     NaN      NaN   \n",
       "NaN        Mississippi Valley State University   NaN     NaN      NaN   \n",
       "987.0                               Texas Tech   2.0    14.0    108.0   \n",
       "988.0                                      LSU  11.0   203.0   2684.0   \n",
       "989.0                                  Arizona   4.0    40.0    154.0   \n",
       "990.0                                   Drexel  13.0   813.0  13404.0   \n",
       "NaN                             Colorado State   NaN     NaN      NaN   \n",
       "992.0                             Murray State   2.0    27.0    229.0   \n",
       "NaN                              Arizona State   NaN     NaN      NaN   \n",
       "994.0                           Michigan State   5.0   201.0   4316.0   \n",
       "1043.0                               Marquette   4.0   114.0    968.0   \n",
       "NaN                                    Georgia   NaN     NaN      NaN   \n",
       "997.0                         Western Kentucky   2.0    76.0   1095.0   \n",
       "998.0                                 Kentucky   6.0   153.0   1634.0   \n",
       "999.0                                Green Bay   1.0    13.0     48.0   \n",
       "1000.0                                 Georgia  10.0   719.0  15946.0   \n",
       "NaN                                        LSU   NaN     NaN      NaN   \n",
       "1002.0                                 Arizona   2.0   101.0    931.0   \n",
       "1003.0                            Georgia Tech   3.0    60.0    598.0   \n",
       "NaN                                   Arkansas   NaN     NaN      NaN   \n",
       "1495.0                             Wake Forest  19.0  1392.0  47368.0   \n",
       "1496.0                                    Utah   9.0   575.0  18150.0   \n",
       "\n",
       "Player ID      PTS      TRB  ...      TRB_diff     AST_diff     WS_diff  \\\n",
       "947.0      24368.0   3394.0  ...   -949.777778  3538.407407   40.985185   \n",
       "948.0       9262.0   9513.0  ...   6331.259259   459.259259   45.639778   \n",
       "949.0      15028.0   6239.0  ...   2654.333333  -113.814815   18.455556   \n",
       "950.0      16297.0   2516.0  ...   -677.777778  4321.333333   34.640741   \n",
       "951.0      24505.0   5272.0  ...   2321.370370  2406.555556  105.213852   \n",
       "952.0      15647.0   6891.0  ...   4925.074074  2192.555556   14.521259   \n",
       "953.0       6191.0   4943.0  ...   2188.629630  -936.444444   -2.492593   \n",
       "954.0       7165.0   1983.0  ...    -50.259259    75.888889   21.925926   \n",
       "955.0       2376.0   2089.0  ...  -1177.888889 -1255.222222  -28.696296   \n",
       "956.0       7309.0   7005.0  ...   4579.555556  -647.074074   20.044444   \n",
       "957.0        835.0    674.0  ...   -718.222222  -624.037037  -13.997259   \n",
       "958.0       3995.0   2725.0  ...    755.222222  -209.851852   -2.711111   \n",
       "977.0      33643.0   7047.0  ...   5190.888889  5198.518519  146.518519   \n",
       "978.0      13647.0   3782.0  ...   2178.222222   745.592593   64.729630   \n",
       "959.0      17387.0   3642.0  ...   1783.000000  9387.925926  105.584222   \n",
       "960.0       4957.0   1351.0  ...   -171.444444   218.037037    3.586963   \n",
       "979.0      13309.0   7261.0  ...   5550.518519   559.259259   49.714815   \n",
       "961.0       2901.0   1061.0  ...   -426.666667  -457.814815  -11.149111   \n",
       "962.0       3056.0   1554.0  ...   -224.629630   -23.851852   -4.212074   \n",
       "980.0      10976.0   6191.0  ...   4960.703704   306.370370   53.128667   \n",
       "963.0         44.0      9.0  ...  -1444.555556  -990.185185  -18.359259   \n",
       "964.0        652.0    483.0  ...   -896.888889  -454.629630  -12.127852   \n",
       "981.0         52.0     26.0  ...  -1428.925926  -603.000000  -14.396296   \n",
       "965.0      10713.0   2658.0  ...   1374.407407  2791.481481   43.084222   \n",
       "982.0        389.0    181.0  ...  -1169.296296  -457.814815  -12.176000   \n",
       "966.0       3865.0   3743.0  ...   2417.296296   -87.000000   21.547185   \n",
       "967.0        375.0    164.0  ...  -1396.185185  -613.925926  -14.425926   \n",
       "968.0        255.0    143.0  ...   -629.037037  -684.518519  -12.541704   \n",
       "969.0       1276.0   1160.0  ...    302.541667  -192.250000   -0.392750   \n",
       "970.0       5212.0   3130.0  ...   1843.370370   -87.555556    8.063778   \n",
       "971.0        381.0    316.0  ...   -424.259259  -296.962963   -7.452000   \n",
       "NaN            0.0      0.0  ...   -697.703704  -285.296296   -9.588000   \n",
       "983.0       2272.0    868.0  ...     46.814815   984.000000    1.585037   \n",
       "NaN            0.0      0.0  ...   -554.888889  -399.518519   -6.807481   \n",
       "NaN            0.0      0.0  ...  -1443.000000  -421.074074  -14.174148   \n",
       "NaN            0.0      0.0  ...   -655.740741  -187.666667   -6.858519   \n",
       "976.0       5396.0   1170.0  ...    522.296296  2213.296296   16.089704   \n",
       "984.0         76.0     60.0  ...   -665.851852  -526.111111   -9.161185   \n",
       "NaN            0.0      0.0  ...   -502.555556  -316.777778   -6.572519   \n",
       "NaN            0.0      0.0  ...   -699.074074  -634.333333   -7.984296   \n",
       "987.0         30.0     15.0  ...   -676.296296  -382.555556   -9.537259   \n",
       "988.0        773.0    282.0  ...   -389.777778    99.555556   -4.821556   \n",
       "989.0         54.0     53.0  ...   -730.888889  -355.629630   -9.096444   \n",
       "990.0       5003.0   3371.0  ...   2990.851852   558.444444   23.344000   \n",
       "NaN            0.0      0.0  ...   -601.888889  -442.037037   -9.463185   \n",
       "992.0         92.0     22.0  ...   -539.481481  -279.111111   -5.890148   \n",
       "NaN            0.0      0.0  ...   -548.370370  -322.666667   -7.038222   \n",
       "994.0        911.0   1437.0  ...    964.629630  -104.407407    3.050593   \n",
       "1043.0       204.0    213.0  ...   -222.333333  -100.111111   -3.156815   \n",
       "NaN            0.0      0.0  ...   -353.074074  -101.222222   -3.636593   \n",
       "997.0        350.0    117.0  ...   -100.777778   -46.333333   -3.640370   \n",
       "998.0        285.0    261.0  ...    126.037037    -5.074074    0.430148   \n",
       "999.0         18.0     14.0  ...   -246.555556   -98.259259   -2.867037   \n",
       "1000.0      5327.0   2252.0  ...   2110.814815   925.407407   22.582815   \n",
       "NaN            0.0      0.0  ...   -336.481481  -171.000000   -4.090222   \n",
       "1002.0       209.0     82.0  ...   -365.629630   -88.111111   -3.909778   \n",
       "1003.0       134.0     67.0  ...   -323.814815   -78.925926   -5.249704   \n",
       "NaN            0.0      0.0  ...    -79.666667   -21.481481   -1.035630   \n",
       "1495.0     26496.0  15091.0  ...  10747.222222  2139.407407  148.385185   \n",
       "1496.0      9206.0   3909.0  ...    727.259259  -477.740741    5.739778   \n",
       "\n",
       "Player ID  WS/48_diff  BPM_diff  VORP_diff  PIE_diff  OFF_RATING_diff  \\\n",
       "947.0        0.005074  1.770370  26.307407  0.012034        -4.113761   \n",
       "948.0        0.053236  2.991111  20.992593  0.026252        -0.813788   \n",
       "949.0        0.001852 -0.274074   2.640741  0.008191        -6.239912   \n",
       "950.0        0.022185  2.420741  17.092593  0.021741        -2.878029   \n",
       "951.0        0.066185  3.414815  44.466667  0.021744         2.930885   \n",
       "952.0       -0.022430  0.966667  11.118519  0.015756        -1.796706   \n",
       "953.0       -0.005407 -1.390370 -10.862963 -0.015348        -6.441636   \n",
       "954.0        0.050704  3.865185  13.033333  0.021012        -2.312377   \n",
       "955.0       -0.006296 -2.066667 -15.181481 -0.020471        -7.659763   \n",
       "956.0        0.024741 -0.122222  -5.322222 -0.004984        -1.778714   \n",
       "957.0       -0.028875 -4.027407  -5.540741 -0.021682        -6.470839   \n",
       "958.0       -0.005074 -2.003704  -8.411111 -0.005233        -0.777793   \n",
       "977.0        0.089593  5.662963  72.748148  0.055231         3.583755   \n",
       "978.0        0.072111  3.802222  22.996296  0.025416         3.754199   \n",
       "959.0        0.091533  4.809630  41.722222  0.052276         8.480965   \n",
       "960.0        0.031148  2.344444   0.814815  0.021428        -2.117282   \n",
       "979.0        0.053630  2.262963  12.255556  0.041037         2.750548   \n",
       "961.0       -0.022222 -0.065926  -4.718519  0.001765        -5.814292   \n",
       "962.0        0.001570  0.433333  -1.822222 -0.020660        -5.096489   \n",
       "980.0        0.075037  1.922222   8.892593  0.037389         1.806279   \n",
       "963.0       -0.223185 -8.296296  -4.459259 -0.069192        -5.649551   \n",
       "964.0       -0.038741 -1.703704  -3.207407 -0.017490        -4.276131   \n",
       "981.0       -0.007667 -1.788889  -2.251852 -0.025098       -10.765843   \n",
       "965.0        0.029963  1.022222   3.807407 -0.001100         3.775677   \n",
       "982.0        0.037148  0.570370  -2.937037 -0.005055        -6.919013   \n",
       "966.0        0.073829  2.342963   5.144444  0.042031         1.681640   \n",
       "967.0       -0.008111  1.434074  -2.729630 -0.012307        -5.627273   \n",
       "968.0       -0.119245 -4.934815  -2.181481 -0.014049        -2.828640   \n",
       "969.0        0.019583 -0.204167  -1.737500 -0.026559        -6.158246   \n",
       "970.0        0.030227 -0.237778  -7.818519 -0.042031       -85.957818   \n",
       "971.0        0.026584 -0.114074  -1.803704  0.011353        -3.292074   \n",
       "NaN         -0.169847 -8.283704  -4.555556 -0.067965       -18.208778   \n",
       "983.0        0.009940  1.611111   0.962963  0.016954        -2.012033   \n",
       "NaN         -0.155287 -8.006667  -3.300000 -0.077295       -17.877659   \n",
       "NaN         -0.161805 -7.717778  -5.703704 -0.067680       -17.512685   \n",
       "NaN         -0.155184 -7.463704  -3.088889 -0.068331       -17.037914   \n",
       "976.0        0.050829  2.960000  -0.459259  0.035457         5.067031   \n",
       "984.0       -0.019074 -3.700000  -1.437037 -0.020833         3.336335   \n",
       "NaN         -0.104601 -4.554815  -3.255556 -0.034406       -15.245663   \n",
       "NaN         -0.144241 -7.040741  -3.548148 -0.071619       -17.518148   \n",
       "987.0       -0.039425 -1.317037  -1.937037 -0.009329       -14.794300   \n",
       "988.0        0.008390  2.105185  -0.470370  0.007412         0.444486   \n",
       "989.0        0.070019  0.660741  -1.351852 -0.006835         5.133087   \n",
       "990.0        0.110919  4.425926   0.733333  0.041725         7.918802   \n",
       "NaN         -0.155430 -7.470370  -3.711111 -0.068369       -15.777910   \n",
       "992.0        0.061603  2.713333  -3.674074  0.017294         9.034287   \n",
       "NaN         -0.153430 -7.503704  -3.177778 -0.055947       -15.536201   \n",
       "994.0        0.087256  2.522222  -1.007407  0.037301         3.370742   \n",
       "1043.0       0.031691  1.585926  -0.037037  0.000894        -2.657376   \n",
       "NaN         -0.097294 -4.026667  -1.374074 -0.038827        -9.735958   \n",
       "997.0        0.065146  4.836296   0.070370  0.027086        11.299745   \n",
       "998.0        0.058904  2.234815   0.900000 -0.022177         8.042970   \n",
       "999.0        0.060580  2.641481  -1.944444  0.027203        13.414494   \n",
       "1000.0       0.121331  6.536296   5.029630  0.049628        12.548982   \n",
       "NaN         -0.082698 -3.663704  -1.748148 -0.040669       -11.864864   \n",
       "1002.0       0.046340  3.603704   0.866667 -0.004227         5.332264   \n",
       "1003.0       0.099818  4.935556  -0.192593  0.050258        15.832626   \n",
       "NaN         -0.100753 -4.345926  -1.133333 -0.039418       -10.098648   \n",
       "1495.0       0.088074  4.170370  67.807407  0.051803        -0.466095   \n",
       "1496.0       0.026236  0.791111  -0.707407  0.008986         0.002001   \n",
       "\n",
       "Player ID  DEF_RATING_diff  NET_RATING_diff  \n",
       "947.0            -4.241678         0.142038  \n",
       "948.0            -4.641551         3.436384  \n",
       "949.0            -1.175465        -5.043345  \n",
       "950.0            -2.037657        -0.831081  \n",
       "951.0            -2.908090         5.829780  \n",
       "952.0            -2.045191         0.231327  \n",
       "953.0            -4.493891        -1.947819  \n",
       "954.0            -5.393768         3.093452  \n",
       "955.0            -4.727795        -2.953310  \n",
       "956.0            -3.831300         2.052403  \n",
       "957.0            -4.975537        -1.894743  \n",
       "958.0            -1.003957         0.228191  \n",
       "977.0            -1.988531         5.575923  \n",
       "978.0            -3.609882         7.358364  \n",
       "959.0            -1.789144         9.885356  \n",
       "960.0            -4.201623         2.098408  \n",
       "979.0            -1.468461         4.210452  \n",
       "961.0            -2.593791        -3.189627  \n",
       "962.0            -5.873651         0.795579  \n",
       "980.0            -3.745748         5.535416  \n",
       "963.0            -8.091703         2.441105  \n",
       "964.0             2.884215        -7.132405  \n",
       "981.0            -8.880742        -1.883351  \n",
       "965.0            -5.445551         9.203258  \n",
       "982.0            -1.546189        -5.424819  \n",
       "966.0            -2.731460         4.034207  \n",
       "967.0            -5.561676        -0.067537  \n",
       "968.0            -3.604947         0.389384  \n",
       "969.0            -7.091646         0.935461  \n",
       "970.0           -96.327498         9.221817  \n",
       "971.0            -3.665523        -0.438370  \n",
       "NaN              13.328534       -21.501700  \n",
       "983.0            -2.283767         0.243912  \n",
       "NaN              11.259527       -20.247353  \n",
       "NaN              10.947365       -19.582441  \n",
       "NaN              11.218832       -19.763905  \n",
       "976.0             4.000304         0.693020  \n",
       "984.0            -0.538017         3.964844  \n",
       "NaN               8.049371       -15.955246  \n",
       "NaN              10.255466       -18.122311  \n",
       "987.0            -6.482458        -9.870865  \n",
       "988.0            -8.611474         7.514139  \n",
       "989.0            -4.365678         8.014650  \n",
       "990.0            -7.892983        11.954422  \n",
       "NaN               9.425386       -17.488088  \n",
       "992.0             2.045739         4.757510  \n",
       "NaN               7.216054       -15.039237  \n",
       "994.0            -0.423223         1.867043  \n",
       "1043.0           -7.147899         1.788420  \n",
       "NaN               5.805339       -10.527218  \n",
       "997.0             1.057695         5.611988  \n",
       "998.0            -5.844805        10.365480  \n",
       "999.0            -0.136364        10.744489  \n",
       "1000.0           -7.863629        15.383191  \n",
       "NaN               7.635506       -12.548460  \n",
       "1002.0          -16.728273        18.197070  \n",
       "1003.0          -13.172774        22.825196  \n",
       "NaN               7.212131       -11.910650  \n",
       "1495.0           -9.495456         9.035519  \n",
       "1496.0           -4.801207         4.405899  \n",
       "\n",
       "[60 rows x 37 columns]"
      ]
     },
     "execution_count": 8,
     "metadata": {},
     "output_type": "execute_result"
    }
   ],
   "source": [
    "# for each relevant stat, create a new column in the df_career_na_filled dataframe with the difference between the player's stat and the average for that stat for their draft position\n",
    "for stat in relevant_stats:\n",
    "    df_career_na_filled[stat + '_diff'] = df_career_na_filled[stat] - df_career_na_filled['Pk'].map(df_avg[stat])\n",
    "\n",
    "df_career_na_filled.head(60)"
   ]
  },
  {
   "cell_type": "markdown",
   "metadata": {},
   "source": [
    "**Calculate ranks for all players above a minimum amount of games played**\n",
    "\n",
    "This section calculates the ranking of the performance above/below the average player at that draft position for each stat. Some of the stats that are normalized per 48 minutes can be affected by players that only played very little but performed well in this limited time (e.g., a player only ever played two minutes at the end of a blowout but scored four points). To avoid such players being ranked very highly, a minimum amount of games can be set here and all players that do not meet this requirement are excluded from the ranking."
   ]
  },
  {
   "cell_type": "code",
   "execution_count": 9,
   "metadata": {},
   "outputs": [],
   "source": [
    "min_games = 82 # TODO: Replace with widget sometime\n",
    "\n",
    "# create a new column for each relevant stat with the rank of the player's stat for their draft position, only using player with min_games\n",
    "for stat in relevant_stats:\n",
    "    if stat == 'DEF_RATING': # lower DEF_RATING is better\n",
    "        df_career_na_filled[stat + '_rank'] = df_career_na_filled[df_career_na_filled['G'] >= min_games][stat + '_diff'].rank(ascending=True, method='min')\n",
    "    else:\n",
    "        df_career_na_filled[stat + '_rank'] = df_career_na_filled[df_career_na_filled['G'] >= min_games][stat + '_diff'].rank(ascending=False, method='min')"
   ]
  },
  {
   "cell_type": "markdown",
   "metadata": {},
   "source": [
    "**Show Performance of Selected Player**"
   ]
  },
  {
   "cell_type": "code",
   "execution_count": 14,
   "metadata": {},
   "outputs": [
    {
     "data": {
      "application/vnd.jupyter.widget-view+json": {
       "model_id": "a981dd62332f49c895c7825cf53ed1a2",
       "version_major": 2,
       "version_minor": 0
      },
      "text/plain": [
       "Combobox(value='', description='Player:', ensure_option=True, options=('Allen Iverson', 'Marcus Camby', 'Share…"
      ]
     },
     "metadata": {},
     "output_type": "display_data"
    },
    {
     "data": {
      "application/vnd.jupyter.widget-view+json": {
       "model_id": "a20bb4eadf0f46de8ee7d26161ad81a1",
       "version_major": 2,
       "version_minor": 0
      },
      "text/plain": [
       "Output()"
      ]
     },
     "metadata": {},
     "output_type": "display_data"
    }
   ],
   "source": [
    "import ipywidgets as widgets\n",
    "from IPython.display import display, HTML\n",
    "from tabulate import tabulate\n",
    "\n",
    "# create a combobox widget with all 'Player' values\n",
    "player_widget = widgets.Combobox(\n",
    "    placeholder='Choose a Player',\n",
    "    options=df_career_na_filled['Player'].unique().tolist(),\n",
    "    description='Player:',\n",
    "    ensure_option=True,\n",
    "    disabled=False\n",
    ")\n",
    "\n",
    "# Define the output area to display additional information\n",
    "output_player_ranks = widgets.Output()\n",
    "\n",
    "# Function to update the output area based on the selected player\n",
    "def on_value_change_player_ranks(change):\n",
    "    output_player_ranks.clear_output()\n",
    "    selected_player = change['new']\n",
    "    with output_player_ranks:\n",
    "        player_data = df_career_na_filled[df_career_na_filled['Player'] == selected_player]\n",
    "        display(HTML(f\"<h3>Player: {player_data['Player'].values[0]}</h3>\"))\n",
    "        display(HTML(f\"<p>Year: {player_data['Season'].values[0]} Pick: {player_data['Pk'].values[0]} - Drafted by: {player_data['Tm'].values[0]}</p>\"))\n",
    "        display(HTML(f\"<p>Played {int(player_data['G'].values[0])} games in {int(player_data['Yrs'].values[0])} years</p>\"))\n",
    "        stats_table = [relevant_stats]\n",
    "        row = []\n",
    "        for stat in relevant_stats:\n",
    "            rank = int(player_data[f'{stat}_rank'].values[0])\n",
    "            actual_stat = round(player_data[stat].values[0], 1)\n",
    "            diff_stat = round(player_data[f'{stat}_diff'].values[0], 1)\n",
    "            if diff_stat > 0:\n",
    "                diff_stat = \"+\" + str(diff_stat)\n",
    "            row += f\"{rank}. - {actual_stat} ({diff_stat})\",\n",
    "        stats_table.append(row)\n",
    "        display(HTML(tabulate(stats_table, tablefmt=\"html\")))\n",
    "\n",
    "# Observe changes in the value of the combobox and call the function\n",
    "player_widget.observe(on_value_change_player_ranks, names='value')\n",
    "\n",
    "# Display the widgets\n",
    "display(player_widget)\n",
    "display(output_player_ranks)"
   ]
  },
  {
   "cell_type": "code",
   "execution_count": 11,
   "metadata": {},
   "outputs": [
    {
     "data": {
      "application/vnd.jupyter.widget-view+json": {
       "model_id": "9c83a5be40054b9a9d416637a4304f45",
       "version_major": 2,
       "version_minor": 0
      },
      "text/plain": [
       "Combobox(value='Delon Wright', description='Player:', ensure_option=True, options=('Allen Iverson', 'Marcus Ca…"
      ]
     },
     "metadata": {},
     "output_type": "display_data"
    },
    {
     "data": {
      "application/vnd.jupyter.widget-view+json": {
       "model_id": "5ae5f1e5c5f2455ca1e7efeec6e5d20e",
       "version_major": 2,
       "version_minor": 0
      },
      "text/plain": [
       "Dropdown(description='Select Stat:', index=9, options=('PTS', 'TRB', 'AST', 'WS', 'WS/48', 'BPM', 'VORP', 'PIE…"
      ]
     },
     "metadata": {},
     "output_type": "display_data"
    },
    {
     "data": {
      "application/vnd.plotly.v1+json": {
       "config": {
        "plotlyServerURL": "https://plot.ly"
       },
       "data": [
        {
         "customdata": [
          [
           "Allen Iverson",
           102.53610503282276,
           189
          ],
          [
           "Marcus Camby",
           102.74069886947585,
           164
          ],
          [
           "Shareef Abdur-Rahim",
           105.84361445783132,
           437
          ],
          [
           "Stephon Marbury",
           105.2904255319149,
           349
          ],
          [
           "Ray Allen",
           104.04699999999998,
           287
          ],
          [
           "Antoine Walker",
           104.50705487122059,
           347
          ],
          [
           "Lorenzen Wright",
           102.88367609254499,
           175
          ],
          [
           "Kerry Kittles",
           100.94990138067061,
           131
          ],
          [
           "Samaki Walker",
           101.87460674157303,
           160
          ],
          [
           "Erick Dampier",
           102.67152988855115,
           217
          ],
          [
           "Todd Fuller",
           100.53244444444444,
           146
          ],
          [
           "Vitaly Potapenko",
           100.80245901639344,
           452
          ],
          [
           "Kobe Bryant",
           104.00237741456168,
           352
          ],
          [
           "Peja Stojaković",
           102.80062189054726,
           236
          ],
          [
           "Steve Nash",
           105.08455217748563,
           368
          ],
          [
           "Tony Delk",
           101.50385321100917,
           191
          ],
          [
           "Jermaine O'Neal",
           100.21819980217607,
           399
          ],
          [
           "John Wallace",
           102.2007874015748,
           309
          ],
          [
           "Walter McCarty",
           99.53305227655986,
           103
          ],
          [
           "Zydrunas Ilgauskas",
           101.56014234875447,
           221
          ],
          [
           "Roy Rogers",
           108.27518248175181,
           778
          ],
          [
           "Derek Fisher",
           100.3071484071484,
           126
          ],
          [
           "Martin Müürsepp",
           102.81927710843374,
           389
          ],
          [
           "Jerome Williams",
           99.75928449744464,
           299
          ],
          [
           "Brian Evans",
           99.17843137254901,
           119
          ],
          [
           "Travis Knight",
           97.59029649595688,
           69
          ],
          [
           "Othella Harrington",
           100.12242595204513,
           5
          ],
          [
           "Mark Hendrickson",
           102.96140350877192,
           229
          ],
          [
           "Moochie Norris",
           101.04247191011237,
           332
          ],
          [
           "Jeff McInnis",
           105.44635416666668,
           843
          ],
          [
           "Randy Livingston",
           98.91083743842364,
           38
          ],
          [
           "Malik Rose",
           99.56961869618696,
           51
          ],
          [
           "Jamie Feick",
           104.68656716417911,
           501
          ],
          [
           "Amal McCaskill",
           99.81140350877193,
           66
          ],
          [
           "Mark Pope",
           99.32418300653593,
           105
          ],
          [
           "Shandon Anderson",
           101.9305980528512,
           53
          ],
          [
           "Reggie Geary",
           91.57128712871288,
           21
          ],
          [
           "Tim Duncan",
           97.28232758620689,
           34
          ],
          [
           "Keith Van Horn",
           102.58104347826087,
           157
          ],
          [
           "Chauncey Billups",
           102.98724832214765,
           198
          ],
          [
           "Antonio Daniels",
           103.91238532110093,
           248
          ],
          [
           "Tony Battie",
           100.28924731182795,
           79
          ],
          [
           "Ron Mercer",
           101.15601851851851,
           129
          ],
          [
           "Tim Thomas",
           104.15521844660194,
           259
          ],
          [
           "Adonal Foyle",
           101.79345156889497,
           169
          ],
          [
           "Tracy McGrady",
           102.90095948827293,
           226
          ],
          [
           "Danny Fortson",
           106.11772727272728,
           506
          ],
          [
           "Tariq Abdul-Wahad",
           101.80974576271187,
           227
          ],
          [
           "Austin Croshere",
           99.48376327769348,
           331
          ],
          [
           "Derek Anderson",
           100.3710569105691,
           114
          ],
          [
           "Maurice Taylor",
           103.72209737827717,
           302
          ],
          [
           "Kelvin Cato",
           98.70184842883549,
           46
          ],
          [
           "Brevin Knight",
           100.93360768175584,
           158
          ],
          [
           "Chris Anstey",
           99.14193548387097,
           112
          ],
          [
           "Scot Pollard",
           96.80177865612647,
           39
          ],
          [
           "Anthony Parker",
           104.90485829959515,
           535
          ],
          [
           "Bobby Jackson",
           100.40410596026491,
           124
          ],
          [
           "John Thomas",
           98.31153846153848,
           97
          ],
          [
           "Charles Smith",
           13.487323943661972,
           13
          ],
          [
           "Jacque Vaughn",
           100.24368556701032,
           174
          ],
          [
           "Marc Jackson",
           103.18372093023257,
           526
          ],
          [
           "Anthony Johnson",
           100.48776796973517,
           84
          ],
          [
           "Stephen Jackson",
           103.09568764568765,
           137
          ],
          [
           "Cedric Henderson",
           99.49692307692307,
           47
          ],
          [
           "Eric Washington",
           108.49807692307692,
           407
          ],
          [
           "Alvin Williams",
           101.86869565217393,
           258
          ],
          [
           "Predrag Drobnjak",
           104.15071942446043,
           292
          ],
          [
           "Chris Crawford",
           102.68174603174604,
           216
          ],
          [
           "Mark Blount",
           103.17669421487604,
           88
          ],
          [
           "Michael Olowokandi",
           102.5998,
           193
          ],
          [
           "Mike Bibby",
           104.7939060939061,
           310
          ],
          [
           "Raef LaFrentz",
           104.39129662522203,
           305
          ],
          [
           "Antawn Jamison",
           106.76426592797785,
           489
          ],
          [
           "Vince Carter",
           102.97397793640492,
           204
          ],
          [
           "Robert Traylor",
           100.33767123287672,
           90
          ],
          [
           "Jason Williams",
           103.77994923857868,
           239
          ],
          [
           "Larry Hughes",
           103.9484181568088,
           322
          ],
          [
           "Dirk Nowitzki",
           103.250197109067,
           254
          ],
          [
           "Paul Pierce",
           101.52613551749815,
           145
          ],
          [
           "Bonzi Wells",
           100.65448392554993,
           155
          ],
          [
           "Michael Doleac",
           100.28739352640545,
           391
          ],
          [
           "Keon Clark",
           99.35665722379603,
           81
          ],
          [
           "Michael Dickerson",
           104.19433962264151,
           337
          ],
          [
           "Matt Harpring",
           102.34481203007518,
           171
          ],
          [
           "Bryce Drew",
           99.65637860082305,
           98
          ],
          [
           "Rasho Nesterović",
           99.69852034525277,
           353
          ],
          [
           "Pat Garrity",
           102.43695652173912,
           276
          ],
          [
           "Roshown McLeod",
           100.29026548672566,
           144
          ],
          [
           "Ricky Davis",
           105.37241847826088,
           577
          ],
          [
           "Brian Skinner",
           104.46282894736842,
           459
          ],
          [
           "Tyronn Lue",
           105.92509025270758,
           551
          ],
          [
           "Felipe López",
           103.42690763052208,
           330
          ],
          [
           "Al Harrington",
           104.2151885830785,
           527
          ],
          [
           "Vladimir Stepania",
           96.2385185185185,
           41
          ],
          [
           "Corey Benjamin",
           101.34117647058824,
           279
          ],
          [
           "Nazr Mohammed",
           101.28099502487562,
           251
          ],
          [
           "Ansu Sesay",
           97.96377952755907,
           2
          ],
          [
           "Ruben Patterson",
           103.57796610169493,
           272
          ],
          [
           "Rashard Lewis",
           104.5494756911344,
           609
          ],
          [
           "Jelani McCoy",
           102.76846153846154,
           490
          ],
          [
           "Shammond Williams",
           102.60276923076924,
           261
          ],
          [
           "Bruno Šundov",
           100.53333333333335,
           115
          ],
          [
           "Jerome James",
           100.28491620111731,
           116
          ],
          [
           "Rafer Alston",
           101.62876304023844,
           61
          ],
          [
           "Cuttino Mobley",
           103.40883534136546,
           253
          ],
          [
           "Jahidi White",
           104.1119760479042,
           190
          ],
          [
           "Sean Marks",
           103.51739130434783,
           206
          ],
          [
           "Derrick Dial",
           93.84024390243901,
           30
          ],
          [
           "Greg Buckner",
           102.10438596491228,
           122
          ],
          [
           "Tremaine Fowlkes",
           95.152427184466,
           22
          ],
          [
           "Ryan Bowen",
           97.33214990138067,
           28
          ],
          [
           "Maceo Baston",
           100.95238095238095,
           37
          ],
          [
           "Elton Brand",
           103.82013232514177,
           278
          ],
          [
           "Steve Francis",
           103.36371527777777,
           200
          ],
          [
           "Baron Davis",
           103.42095808383233,
           238
          ],
          [
           "Lamar Odom",
           102.25078043704474,
           140
          ],
          [
           "Jonathan Bender",
           99.74656488549618,
           65
          ],
          [
           "Wally Szczerbiak",
           102.70138248847925,
           214
          ],
          [
           "Richard Hamilton",
           102.30434310532031,
           141
          ],
          [
           "Andre Miller",
           104.21579754601227,
           342
          ],
          [
           "Shawn Marion",
           103.14952708512469,
           245
          ],
          [
           "Jason Terry",
           103.59950354609929,
           288
          ],
          [
           "Trajan Langdon",
           97.4781512605042,
           48
          ],
          [
           "Corey Maggette",
           105.23385731559854,
           472
          ],
          [
           "William Avery",
           101.19718309859155,
           138
          ],
          [
           "Metta World Peace",
           101.15842583249243,
           170
          ],
          [
           "Cal Bowdler",
           101.45774647887323,
           519
          ],
          [
           "James Posey",
           102.42523148148149,
           326
          ],
          [
           "Quincy Lewis",
           97.0754716981132,
           44
          ],
          [
           "Dion Glover",
           102.25340136054422,
           271
          ],
          [
           "Jeff Foster",
           98.99149214659685,
           99
          ],
          [
           "Kenny Thomas",
           103.64066455696202,
           370
          ],
          [
           "Devean George",
           101.02444444444446,
           154
          ],
          [
           "Andrei Kirilenko",
           102.88268506900879,
           289
          ],
          [
           "Vonteego Cummings",
           104.29447236180904,
           691
          ],
          [
           "Jumaine Jones",
           102.80169851380042,
           359
          ],
          [
           "Scott Padgett",
           97.20089285714286,
           70
          ],
          [
           "Michael Ruffin",
           102.74420289855074,
           453
          ],
          [
           "Evan Eschmeyer",
           98.84575163398692,
           73
          ],
          [
           "Calvin Booth",
           101.64945355191259,
           178
          ],
          [
           "Wang Zhizhi",
           102.22919708029197,
           235
          ],
          [
           "Obinna Ekezie",
           103.3783216783217,
           703
          ],
          [
           "Laron Profit",
           101.82666666666667,
           392
          ],
          [
           "Gordan Giriček",
           103.16432291666668,
           231
          ],
          [
           "Francisco Elson",
           100.80317796610169,
           101
          ],
          [
           "Lee Nailon",
           102.78039215686276,
           120
          ],
          [
           "Todd MacCulloch",
           97.7085201793722,
           27
          ],
          [
           "Rodney Buford",
           103.47695652173911,
           194
          ],
          [
           "Manu Ginóbili",
           98.15279091769158,
           23
          ],
          [
           "Kenyon Martin",
           101.26763540290622,
           123
          ],
          [
           "Stromile Swift",
           102.67861060329066,
           161
          ],
          [
           "Darius Miles",
           102.11569506726457,
           151
          ],
          [
           "Marcus Fizer",
           104.8439446366782,
           314
          ],
          [
           "Mike Miller",
           104.91375968992249,
           348
          ],
          [
           "DerMarr Johnson",
           101.13575581395348,
           128
          ],
          [
           "Chris Mihm",
           103.97270642201835,
           250
          ],
          [
           "Jamal Crawford",
           106.82825923134891,
           585
          ],
          [
           "Joel Przybilla",
           104.17635135135134,
           318
          ],
          [
           "Keyon Dooling",
           101.82005494505495,
           162
          ],
          [
           "Jérôme Moïso",
           91.9496551724138,
           24
          ],
          [
           "Etan Thomas",
           104.71491442542788,
           779
          ],
          [
           "Courtney Alexander",
           103.48823529411764,
           313
          ],
          [
           "Mateen Cleaves",
           100.01017964071856,
           83
          ],
          [
           "Jason Collier",
           107.0543046357616,
           566
          ],
          [
           "Hedo Türkoğlu",
           101.76690070210633,
           207
          ],
          [
           "Desmond Mason",
           105.00590979782271,
           803
          ],
          [
           "Quentin Richardson",
           104.78263090676884,
           543
          ],
          [
           "Jamaal Magloire",
           100.73029411764706,
           163
          ],
          [
           "Speedy Claxton",
           100.91467065868264,
           184
          ],
          [
           "Morris Peterson",
           104.54978902953586,
           499
          ],
          [
           "Donnell Harvey",
           99.09170731707317,
           85
          ],
          [
           "DeShawn Stevenson",
           105.475,
           503
          ],
          [
           "Dalibor Bagarić",
           100.09473684210526,
           111
          ],
          [
           "Jake Tsakalidis",
           98.44825396825397,
           102
          ],
          [
           "Primož Brezec",
           103.53128654970759,
           431
          ],
          [
           "Mark Madsen",
           99.04591611479027,
           113
          ],
          [
           "Marko Jarić",
           103.05413870246085,
           8
          ],
          [
           "Dan Langhi",
           99.8,
           74
          ],
          [
           "Jake Voskuhl",
           101.41355555555555,
           365
          ],
          [
           "Eddie House",
           101.47252440725245,
           548
          ],
          [
           "Eduardo Nájera",
           101.72697899838448,
           385
          ],
          [
           "Hanno Möttölä",
           103.1632258064516,
           230
          ],
          [
           "Olumide Oyedeji",
           94.78387096774193,
           25
          ],
          [
           "Michael Redd",
           106.6462639109698,
           381
          ],
          [
           "Brian Cardinal",
           101.19714912280702,
           87
          ],
          [
           "Jabari Smith",
           99.6648148148148,
           50
          ],
          [
           "Jason Hart",
           98.9557184750733,
           49
          ],
          [
           "Kwame Brown",
           103.58945634266885,
           263
          ],
          [
           "Tyson Chandler",
           103.62974137931035,
           220
          ],
          [
           "Pau Gasol",
           104.25668841761826,
           295
          ],
          [
           "Eddy Curry",
           106.89240986717269,
           500
          ],
          [
           "Jason Richardson",
           106.35040840140023,
           485
          ],
          [
           "Shane Battier",
           101.1575230296827,
           130
          ],
          [
           "Eddie Griffin",
           102.8953795379538,
           177
          ],
          [
           "DeSagana Diop",
           100.78003327787022,
           118
          ],
          [
           "Rodney White",
           98.0623853211009,
           40
          ],
          [
           "Joe Johnson",
           105.11675802662488,
           405
          ],
          [
           "Kedrick Brown",
           98.49230769230768,
           72
          ],
          [
           "Vladimir Radmanović",
           103.89131614654002,
           717
          ],
          [
           "Richard Jefferson",
           102.46629974597798,
           242
          ],
          [
           "Troy Murphy",
           106.04115226337449,
           509
          ],
          [
           "Steven Hunter",
           103.49475000000001,
           252
          ],
          [
           "Michael Bradley",
           103.37167630057805,
           686
          ],
          [
           "Jason Collins",
           97.68775510204081,
           68
          ],
          [
           "Zach Randolph",
           105.45232974910394,
           552
          ],
          [
           "Brendan Haywood",
           102.90343137254904,
           321
          ],
          [
           "Jeryl Sasser",
           102.6390243902439,
           296
          ],
          [
           "Brandon Armstrong",
           100.31481481481481,
           117
          ],
          [
           "Raül López",
           98.07610619469027,
           58
          ],
          [
           "Gerald Wallace",
           102.43028846153847,
           360
          ],
          [
           "Samuel Dalembert",
           103.67144469525961,
           635
          ],
          [
           "Jamaal Tinsley",
           101.96709323583181,
           294
          ],
          [
           "Tony Parker",
           100.08947368421052,
           192
          ],
          [
           "Trenton Hassell",
           104.95729813664596,
           11
          ],
          [
           "Gilbert Arenas",
           105.9054347826087,
           475
          ],
          [
           "Will Solomon",
           103.31130434782608,
           542
          ],
          [
           "Terence Morris",
           105.10431654676259,
           477
          ],
          [
           "Brian Scalabrine",
           98.74365384615385,
           62
          ],
          [
           "Mehmet Okur",
           103.81025236593062,
           582
          ],
          [
           "Earl Watson",
           102.06788154897495,
           159
          ],
          [
           "Bobby Simmons",
           104.61330472103005,
           286
          ],
          [
           "Loren Woods",
           101.44883720930233,
           351
          ],
          [
           "Jarron Collins",
           99.25221402214022,
           42
          ],
          [
           "Yao Ming",
           99.63765432098766,
           67
          ],
          [
           "Mike Dunleavy",
           103.15689655172413,
           213
          ],
          [
           "Drew Gooden",
           106.09721518987342,
           428
          ],
          [
           "Nikoloz Tskitishvili",
           98.6110465116279,
           43
          ],
          [
           "Dajuan Wagner",
           104.90291262135922,
           383
          ],
          [
           "Nenê",
           101.0880829015544,
           86
          ],
          [
           "Chris Wilcox",
           105.08503184713375,
           426
          ],
          [
           "Amar'e Stoudemire",
           106.2209219858156,
           507
          ],
          [
           "Caron Butler",
           105.69171396140749,
           466
          ],
          [
           "Jared Jeffries",
           103.3422893481717,
           339
          ],
          [
           "Melvin Ely",
           101.29626666666668,
           494
          ],
          [
           "Marcus Haislip",
           99.44831460674158,
           82
          ],
          [
           "Fred Jones",
           102.92255813953487,
           244
          ],
          [
           "Boštjan Nachbar",
           101.56782334384857,
           132
          ],
          [
           "Jiří Welsch",
           102.95465587044534,
           297
          ],
          [
           "Juan Dixon",
           104.71743119266054,
           788
          ],
          [
           "Curtis Borchardt",
           104.05301204819277,
           473
          ],
          [
           "Ryan Humphrey",
           93.96588235294118,
           29
          ],
          [
           "Kareem Rush",
           104.11965317919073,
           435
          ],
          [
           "Qyntel Woods",
           103.73113772455089,
           425
          ],
          [
           "Casey Jacobsen",
           98.71045296167247,
           78
          ],
          [
           "Tayshaun Prince",
           102.63952802359881,
           257
          ],
          [
           "Nenad Krstić",
           102.61957040572794,
           266
          ],
          [
           "Frank Williams",
           97.64418604651162,
           76
          ],
          [
           "John Salmons",
           103.98156424581006,
           660
          ],
          [
           "Dan Dickau",
           104.29533333333333,
           547
          ],
          [
           "Roger Mason",
           103.88011583011581,
           298
          ],
          [
           "Dan Gadzuric",
           104.11954459203037,
           380
          ],
          [
           "Carlos Boozer",
           104.97073170731707,
           441
          ],
          [
           "David Andersen",
           103.32815533980582,
           697
          ],
          [
           "Juan Carlos Navarro",
           110.69999999999999,
           838
          ],
          [
           "Ronald Murray",
           104.60184804928133,
           284
          ],
          [
           "Lonny Baxter",
           98.52469135802468,
           36
          ],
          [
           "Matt Barnes",
           104.49655543595264,
           629
          ],
          [
           "Darius Songaila",
           104.20424242424244,
           71
          ],
          [
           "Rasual Butler",
           102.08776266996291,
           121
          ],
          [
           "Luis Scola",
           103.6593539703903,
           165
          ],
          [
           "LeBron James",
           104.40042223786067,
           325
          ],
          [
           "Darko Miličić",
           103.12628205128206,
           188
          ],
          [
           "Carmelo Anthony",
           107.36222222222221,
           575
          ],
          [
           "Chris Bosh",
           104.02676371780514,
           255
          ],
          [
           "Dwyane Wade",
           103.86461100569261,
           269
          ],
          [
           "Chris Kaman",
           104.41428571428571,
           340
          ],
          [
           "Kirk Hinrich",
           101.58282138794083,
           107
          ],
          [
           "T.J. Ford",
           103.41981351981352,
           282
          ],
          [
           "Mike Sweetney",
           100.50815450643776,
           92
          ],
          [
           "Jarvis Hayes",
           104.92974238875878,
           387
          ],
          [
           "Mickaël Piétrus",
           102.43195691202871,
           270
          ],
          [
           "Nick Collison",
           102.49923076923078,
           605
          ],
          [
           "Marcus Banks",
           102.11724137931036,
           212
          ],
          [
           "Luke Ridnour",
           106.64819277108434,
           570
          ],
          [
           "Žarko Čabarkapa",
           104.17733333333332,
           753
          ],
          [
           "David West",
           102.10570599613155,
           301
          ],
          [
           "Sasha Pavlović",
           101.51287477954145,
           208
          ],
          [
           "Dahntay Jones",
           103.59102564102565,
           378
          ],
          [
           "Boris Diaw",
           102.61109022556393,
           324
          ],
          [
           "Zoran Planinić",
           96.02837837837838,
           35
          ],
          [
           "Travis Outlaw",
           106.55241157556272,
           604
          ],
          [
           "Brian Cook",
           103.11591448931117,
           303
          ],
          [
           "Carlos Delfino",
           103.17948717948718,
           436
          ],
          [
           "Kendrick Perkins",
           100.96803069053709,
           219
          ],
          [
           "Leandro Barbosa",
           105.01517647058824,
           607
          ],
          [
           "Josh Howard",
           103.37435897435898,
           418
          ],
          [
           "Jason Kapono",
           103.41512770137525,
           260
          ],
          [
           "Luke Walton",
           102.26914893617021,
           397
          ],
          [
           "Steve Blake",
           104.35367816091954,
           628
          ],
          [
           "Willie Green",
           102.98549931600546,
           218
          ],
          [
           "Zaza Pachulia",
           103.8827868852459,
           233
          ],
          [
           "Keith Bogans",
           103.71639344262294,
           167
          ],
          [
           "Matt Bonner",
           102.1760101010101,
           125
          ],
          [
           "Mo Williams",
           105.59339853300733,
           186
          ],
          [
           "James Jones",
           102.55049365303245,
           182
          ],
          [
           "Kyle Korver",
           102.04918831168831,
           179
          ],
          [
           "Dwight Howard",
           104.50466988727858,
           333
          ],
          [
           "Emeka Okafor",
           104.45357142857144,
           280
          ],
          [
           "Ben Gordon",
           105.46841397849462,
           388
          ],
          [
           "Shaun Livingston",
           103.26506602641057,
           196
          ],
          [
           "Devin Harris",
           104.42913705583756,
           312
          ],
          [
           "Josh Childress",
           108.42813299232735,
           696
          ],
          [
           "Luol Deng",
           102.5,
           152
          ],
          [
           "Rafael Araújo",
           103.23021582733813,
           267
          ],
          [
           "Andre Iguodala",
           102.64240454914703,
           205
          ],
          [
           "Andris Biedriņš",
           105.93003875968992,
           580
          ],
          [
           "Robert Swift",
           110.16907216494845,
           971
          ],
          [
           "Sebastian Telfair",
           105.98794326241135,
           546
          ],
          [
           "Kris Humphries",
           104.478625,
           361
          ],
          [
           "Al Jefferson",
           106.6592349726776,
           520
          ],
          [
           "Kirk Snyder",
           105.04739336492891,
           481
          ],
          [
           "Josh Smith",
           104.65525727069351,
           784
          ],
          [
           "J.R. Smith",
           106.0401228249744,
           640
          ],
          [
           "Dorell Wright",
           104.64754098360656,
           471
          ],
          [
           "Jameer Nelson",
           105.16697038724372,
           529
          ],
          [
           "Viktor Khryapa",
           106.37692307692308,
           625
          ],
          [
           "Delonte West",
           101.86111111111111,
           209
          ],
          [
           "Tony Allen",
           99.44987804878048,
           150
          ],
          [
           "Kevin Martin",
           107.0343137254902,
           876
          ],
          [
           "Sasha Vujačić",
           104.39655765920827,
           511
          ],
          [
           "Beno Udrih",
           103.60758122743681,
           479
          ],
          [
           "David Harrison",
           98.69047619047619,
           100
          ],
          [
           "Anderson Varejão",
           101.39683544303799,
           7
          ],
          [
           "Jackson Vroman",
           99.82988505747126,
           75
          ],
          [
           "Royal Ivey",
           104.40060975609754,
           782
          ],
          [
           "Chris Duhon",
           102.20643564356435,
           442
          ],
          [
           "Justin Reed",
           101.95294117647059,
           153
          ],
          [
           "Trevor Ariza",
           104.88327370304114,
           246
          ],
          [
           "Bernard Robinson",
           101.425,
           89
          ],
          [
           "Andrew Bogut",
           101.47450424929178,
           133
          ],
          [
           "Marvin Williams",
           106.11044776119402,
           424
          ],
          [
           "Deron Williams",
           106.34650887573964,
           480
          ],
          [
           "Chris Paul",
           105.0661449752883,
           335
          ],
          [
           "Raymond Felton",
           105.02914521112255,
           363
          ],
          [
           "Martell Webster",
           106.36672413793104,
           523
          ],
          [
           "Charlie Villanueva",
           109.27088414634146,
           698
          ],
          [
           "Channing Frye",
           106.48426966292135,
           559
          ],
          [
           "Ike Diogu",
           104.63733333333334,
           355
          ],
          [
           "Andrew Bynum",
           102.47966507177034,
           199
          ],
          [
           "Sean May",
           103.73697478991596,
           336
          ],
          [
           "Rashad McCants",
           105.06184738955824,
           410
          ],
          [
           "Antoine Wright",
           104.91750841750842,
           358
          ],
          [
           "Joey Graham",
           105.31087533156497,
           505
          ],
          [
           "Danny Granger",
           103.65972696245734,
           708
          ],
          [
           "Gerald Green",
           104.02902735562311,
           470
          ],
          [
           "Hakim Warrick",
           107.65342205323194,
           730
          ],
          [
           "Nate Robinson",
           104.58640776699029,
           504
          ],
          [
           "Jarrett Jack",
           107.21176470588236,
           692
          ],
          [
           "Francisco García",
           105.16502732240438,
           476
          ],
          [
           "Luther Head",
           102.00747126436781,
           222
          ],
          [
           "Johan Petro",
           105.95517970401691,
           670
          ],
          [
           "Jason Maxiell",
           105.65631067961165,
           794
          ],
          [
           "Linas Kleiza",
           103.52151589242054,
           430
          ],
          [
           "Ian Mahinmi",
           101.08009708737865,
           262
          ],
          [
           "David Lee",
           105.95645355850421,
           12
          ],
          [
           "Salim Stoudamire",
           106.6668789808917,
           550
          ],
          [
           "Daniel Ewing",
           97.93858267716534,
           106
          ],
          [
           "Brandon Bass",
           104.43073878627969,
           631
          ],
          [
           "C.J. Miles",
           104.0964664310954,
           377
          ],
          [
           "Ersan İlyasova",
           104.42218181818183,
           403
          ],
          [
           "Ronny Turiaf",
           103.99323467230444,
           761
          ],
          [
           "Travis Diener",
           107.17039106145252,
           834
          ],
          [
           "Von Wafer",
           98.38799999999999,
           32
          ],
          [
           "Monta Ellis",
           106.48367346938775,
           512
          ],
          [
           "Roko Ukić",
           102.66588235294118,
           195
          ],
          [
           "Lou Williams",
           106.17524487978629,
           398
          ],
          [
           "Mickaël Gelabale",
           104.1696551724138,
           458
          ],
          [
           "Andray Blatche",
           106.58439716312056,
           508
          ],
          [
           "Ryan Gomes",
           108.12258726899384,
           264
          ],
          [
           "Orien Greene",
           96.46412213740459,
           31
          ],
          [
           "Lawrence Roberts",
           101.56551724137933,
           52
          ],
          [
           "Amir Johnson",
           103.05908045977012,
           136
          ],
          [
           "Marcin Gortat",
           104.06947890818859,
           57
          ],
          [
           "Andrea Bargnani",
           109.23854545454545,
           747
          ],
          [
           "LaMarcus Aldridge",
           105.59256505576208,
           367
          ],
          [
           "Adam Morrison",
           106.19316770186335,
           464
          ],
          [
           "Tyrus Thomas",
           102.36144278606965,
           147
          ],
          [
           "Shelden Williams",
           104.82049861495847,
           341
          ],
          [
           "Brandon Roy",
           106.46472392638037,
           534
          ],
          [
           "Randy Foye",
           107.08045212765957,
           514
          ],
          [
           "Rudy Gay",
           106.53482142857145,
           568
          ],
          [
           "Patrick O'Bryant",
           104.68111111111111,
           364
          ],
          [
           "J.J. Redick",
           104.77063829787234,
           474
          ],
          [
           "Hilton Armstrong",
           100.77705479452055,
           451
          ],
          [
           "Thabo Sefolosha",
           100.73774453394707,
           134
          ],
          [
           "Ronnie Brewer",
           102.53227091633465,
           211
          ],
          [
           "Rodney Carney",
           105.1494983277592,
           491
          ],
          [
           "Shawne Williams",
           105.34968152866243,
           823
          ],
          [
           "Oleksiy Pecherov",
           108.3009009009009,
           809
          ],
          [
           "Quincy Douby",
           105.20769230769231,
           522
          ],
          [
           "Renaldo Balkman",
           102.31493212669683,
           275
          ],
          [
           "Rajon Rondo",
           103.68025078369907,
           417
          ],
          [
           "Marcus Williams",
           105.86256157635468,
           581
          ],
          [
           "Josh Boone",
           105.09414062500001,
           467
          ],
          [
           "Kyle Lowry",
           105.54925788497216,
           521
          ],
          [
           "Shannon Brown",
           103.90220588235293,
           496
          ],
          [
           "Jordan Farmar",
           103.67261904761905,
           636
          ],
          [
           "Sergio Rodríguez",
           105.69461756373937,
           621
          ],
          [
           "Maurice Ager",
           100.39756097560976,
           210
          ],
          [
           "Mardy Collins",
           105.65238095238095,
           624
          ],
          [
           "Joel Freeland",
           100.5364238410596,
           6
          ],
          [
           "Steve Novak",
           105.69314775160599,
           704
          ],
          [
           "Solomon Jones",
           106.83807829181495,
           811
          ],
          [
           "Paul Davis",
           99.10853658536585,
           77
          ],
          [
           "P.J. Tucker",
           107.45563380281692,
           647
          ],
          [
           "Craig Smith",
           105.7305210918114,
           532
          ],
          [
           "Bobby Jones",
           97.79890109890111,
           232
          ],
          [
           "Daniel Gibson",
           103.01057934508816,
           173
          ],
          [
           "Alexander Johnson",
           110.11176470588235,
           748
          ],
          [
           "Paul Millsap",
           104.19050691244239,
           110
          ],
          [
           "Leon Powe",
           99.45774058577406,
           59
          ],
          [
           "Ryan Hollins",
           103.78590733590735,
           60
          ],
          [
           "Greg Oden",
           106.30666666666667,
           495
          ],
          [
           "Kevin Durant",
           105.75324543610549,
           384
          ],
          [
           "Al Horford",
           104.56604146100692,
           317
          ],
          [
           "Mike Conley",
           105.31317073170732,
           350
          ],
          [
           "Jeff Green",
           107.86178861788618,
           616
          ],
          [
           "Yi Jianlian",
           107.45441176470588,
           615
          ],
          [
           "Corey Brewer",
           105.61452991452992,
           369
          ],
          [
           "Brandan Wright",
           103.7390186915888,
           306
          ],
          [
           "Joakim Noah",
           102.20119047619048,
           183
          ],
          [
           "Spencer Hawes",
           106.53684210526315,
           549
          ],
          [
           "Acie Law",
           104.91436170212765,
           487
          ],
          [
           "Thaddeus Young",
           105.86347673397718,
           844
          ],
          [
           "Julian Wright",
           103.38787878787878,
           307
          ],
          [
           "Al Thornton",
           108.45574324324325,
           713
          ],
          [
           "Rodney Stuckey",
           105.6774193548387,
           433
          ],
          [
           "Nick Young",
           107.00791666666666,
           644
          ],
          [
           "Sean Williams",
           103.35766423357664,
           683
          ],
          [
           "Marco Belinelli",
           106.23837209302326,
           657
          ],
          [
           "Javaris Crittenton",
           107.45044247787611,
           712
          ],
          [
           "Jason Smith",
           104.62386363636364,
           478
          ],
          [
           "Daequan Cook",
           103.6844512195122,
           419
          ],
          [
           "Jared Dudley",
           104.28418141592921,
           445
          ],
          [
           "Wilson Chandler",
           108.04363905325444,
           722
          ],
          [
           "Rudy Fernández",
           103.21325301204818,
           311
          ],
          [
           "Aaron Brooks",
           106.00356589147287,
           812
          ],
          [
           "Arron Afflalo",
           106.17099737532808,
           656
          ],
          [
           "Tiago Splitter",
           98.56676056338027,
           108
          ],
          [
           "Carl Landry",
           106.09337231968811,
           492
          ],
          [
           "Glen Davis",
           101.19280155642025,
           149
          ],
          [
           "Josh McRoberts",
           103.78706697459585,
           739
          ],
          [
           "Kyrylo Fesenko",
           95.14666666666668,
           45
          ],
          [
           "Dominic McGuire",
           106.93713450292398,
           285
          ],
          [
           "Marc Gasol",
           103.98125701459034,
           443
          ],
          [
           "Aaron Gray",
           104.60031446540881,
           327
          ],
          [
           "Ramon Sessions",
           106.81548480463097,
           394
          ],
          [
           "Derrick Rose",
           106.41559370529329,
           510
          ],
          [
           "Michael Beasley",
           107.13201970443352,
           517
          ],
          [
           "O.J. Mayo",
           105.71261425959781,
           420
          ],
          [
           "Russell Westbrook",
           106.48921389396708,
           463
          ],
          [
           "Kevin Love",
           107.94645308924487,
           626
          ],
          [
           "Danilo Gallinari",
           107.87197802197802,
           645
          ],
          [
           "Eric Gordon",
           108.9776283618582,
           672
          ],
          [
           "D.J. Augustin",
           106.52745901639344,
           538
          ],
          [
           "Brook Lopez",
           106.83646934460889,
           574
          ],
          [
           "Jerryd Bayless",
           106.10085324232082,
           600
          ],
          [
           "Jason Thompson",
           107.60187074829932,
           922
          ],
          [
           "Brandon Rush",
           107.50187110187109,
           663
          ],
          [
           "Anthony Randolph",
           106.39999999999999,
           544
          ],
          [
           "Robin Lopez",
           106.81249999999999,
           540
          ],
          [
           "Marreese Speights",
           103.72780141843973,
           354
          ],
          [
           "Roy Hibbert",
           103.35256797583081,
           682
          ],
          [
           "JaVale McGee",
           107.26060254924681,
           749
          ],
          [
           "J.J. Hickson",
           107.59794007490638,
           724
          ],
          [
           "Alexis Ajinça",
           102.37815699658702,
           281
          ],
          [
           "Ryan Anderson",
           105.72249614791987,
           606
          ],
          [
           "Courtney Lee",
           105.86683107274969,
           584
          ],
          [
           "Kosta Koufos",
           103.46049562682217,
           319
          ],
          [
           "Serge Ibaka",
           104.57758433079437,
           438
          ],
          [
           "Nicolas Batum",
           107.2752265861027,
           780
          ],
          [
           "George Hill",
           102.40513661202185,
           536
          ],
          [
           "Darrell Arthur",
           103.01888667992047,
           375
          ],
          [
           "Donté Greene",
           105.68853754940713,
           654
          ],
          [
           "D.J. White",
           104.77173913043477,
           554
          ],
          [
           "Nikola Peković",
           106.01365313653136,
           484
          ],
          [
           "Joey Dorsey",
           101.83461538461539,
           393
          ],
          [
           "Mario Chalmers",
           102.2735294117647,
           241
          ],
          [
           "DeAndre Jordan",
           107.64671246319924,
           664
          ],
          [
           "Ömer Aşık",
           99.9887473460722,
           104
          ],
          [
           "Luc Mbah a Moute",
           101.72191582002903,
           572
          ],
          [
           "Sonny Weems",
           109.62786885245903,
           601
          ],
          [
           "Chris Douglas-Roberts",
           103.67837837837837,
           265
          ],
          [
           "Goran Dragić",
           106.61268498942918,
           450
          ],
          [
           "Henry Walker",
           102.51270718232044,
           63
          ],
          [
           "Darnell Jackson",
           105.16594202898551,
           545
          ],
          [
           "Blake Griffin",
           106.63333333333334,
           528
          ],
          [
           "Hasheem Thabeet",
           103.08973214285716,
           185
          ],
          [
           "James Harden",
           106.89909999999999,
           533
          ],
          [
           "Tyreke Evans",
           107.42558922558922,
           555
          ],
          [
           "Ricky Rubio",
           105.78954154727795,
           440
          ],
          [
           "Jonny Flynn",
           112.34601226993865,
           921
          ],
          [
           "Stephen Curry",
           105.03684807256236,
           329
          ],
          [
           "Jordan Hill",
           106.81931540342299,
           583
          ],
          [
           "DeMar DeRozan",
           109.09786614936955,
           755
          ],
          [
           "Brandon Jennings",
           105.41765765765766,
           446
          ],
          [
           "Terrence Williams",
           106.04313725490196,
           592
          ],
          [
           "Gerald Henderson",
           104.81794392523364,
           786
          ],
          [
           "Tyler Hansbrough",
           102.31658878504673,
           228
          ],
          [
           "Earl Clark",
           104.76015325670497,
           382
          ],
          [
           "Austin Daye",
           105.64232081911261,
           427
          ],
          [
           "James Johnson",
           106.12313725490196,
           579
          ],
          [
           "Jrue Holiday",
           105.93741721854303,
           856
          ],
          [
           "Ty Lawson",
           106.53393829401088,
           688
          ],
          [
           "Jeff Teague",
           105.52530266343825,
           556
          ],
          [
           "Eric Maynor",
           102.19588014981275,
           268
          ],
          [
           "Darren Collison",
           106.74599156118144,
           689
          ],
          [
           "Omri Casspi",
           105.41904761904763,
           497
          ],
          [
           "Byron Mullens",
           111.39999999999999,
           915
          ],
          [
           "Rodrigue Beaubois",
           100.5324175824176,
           215
          ],
          [
           "Taj Gibson",
           103.5957671957672,
           632
          ],
          [
           "DeMarre Carroll",
           104.67335640138408,
           539
          ],
          [
           "Wayne Ellington",
           106.34779220779221,
           714
          ],
          [
           "Toney Douglas",
           105.5992385786802,
           618
          ],
          [
           "Jeff Ayres",
           104.35822784810127,
           334
          ],
          [
           "Dante Cunningham",
           105.48923076923077,
           723
          ],
          [
           "DaJuan Summers",
           104.19397590361446,
           362
          ],
          [
           "Sam Young",
           102.43895582329317,
           249
          ],
          [
           "DeJuan Blair",
           103.75,
           735
          ],
          [
           "Jon Brockman",
           100.91933333333334,
           320
          ],
          [
           "Jonas Jerebko",
           104.591968503937,
           181
          ],
          [
           "Derrick Brown",
           103.11520467836257,
           225
          ],
          [
           "Jodie Meeks",
           105.61576994434138,
           439
          ],
          [
           "Patrick Beverley",
           106.40826306913996,
           444
          ],
          [
           "Marcus Thornton",
           106.99668737060041,
           412
          ],
          [
           "Chase Budinger",
           104.83366093366092,
           304
          ],
          [
           "Nick Calathes",
           95.43798449612403,
           26
          ],
          [
           "Danny Green",
           101.73072289156626,
           374
          ],
          [
           "A.J. Price",
           99.08773946360152,
           94
          ],
          [
           "Nando De Colo",
           102.8327731092437,
           156
          ],
          [
           "Patty Mills",
           104.48616279069766,
           148
          ],
          [
           "John Wall",
           105.87851622874805,
           461
          ],
          [
           "Evan Turner",
           104.46099290780141,
           283
          ],
          [
           "Derrick Favors",
           104.67126582278482,
           328
          ],
          [
           "Wesley Johnson",
           106.47093596059113,
           462
          ],
          [
           "DeMarcus Cousins",
           107.51926605504586,
           597
          ],
          [
           "Ekpe Udoh",
           102.10364583333335,
           180
          ],
          [
           "Greg Monroe",
           107.52275541795667,
           561
          ],
          [
           "Al-Farouq Aminu",
           105.14486638537271,
           432
          ],
          [
           "Gordon Hayward",
           106.75127551020408,
           562
          ],
          [
           "Paul George",
           103.49419924337957,
           274
          ],
          [
           "Cole Aldrich",
           103.78377581120944,
           373
          ],
          [
           "Xavier Henry",
           103.49027027027027,
           684
          ],
          [
           "Ed Davis",
           104.67562326869805,
           416
          ],
          [
           "Patrick Patterson",
           104.92990264255911,
           395
          ],
          [
           "Larry Sanders",
           99.12016806722689,
           55
          ],
          [
           "Luke Babbitt",
           106.24251968503937,
           593
          ],
          [
           "Kevin Séraphin",
           103.37068557919622,
           685
          ],
          [
           "Eric Bledsoe",
           105.11203703703703,
           573
          ],
          [
           "Avery Bradley",
           104.99499999999999,
           502
          ],
          [
           "James Anderson",
           105.05708502024291,
           518
          ],
          [
           "Elliot Williams",
           104.77706422018348,
           483
          ],
          [
           "Trevor Booker",
           104.8156015037594,
           449
          ],
          [
           "Quincy Pondexter",
           102.41267605633803,
           537
          ],
          [
           "Jordan Crawford",
           106.39750889679715,
           680
          ],
          [
           "Greivis Vásquez",
           104.44314214463841,
           564
          ],
          [
           "Hassan Whiteside",
           107.12172211350293,
           832
          ],
          [
           "Nemanja Bjelica",
           107.96481069042315,
           693
          ],
          [
           "Landry Fields",
           105.04,
           203
          ],
          [
           "Lance Stephenson",
           104.6947653429603,
           343
          ],
          [
           "Jeremy Evans",
           102.17,
           64
          ],
          [
           "Kyrie Irving",
           108.89090909090908,
           720
          ],
          [
           "Derrick Williams",
           106.18971962616821,
           434
          ],
          [
           "Enes Freedom",
           107.83903743315508,
           611
          ],
          [
           "Tristan Thompson",
           109.5286301369863,
           725
          ],
          [
           "Jonas Valančiūnas",
           108.07209302325582,
           633
          ],
          [
           "Jan Veselý",
           102.03148148148148,
           172
          ],
          [
           "Bismack Biyombo",
           107.25331664580723,
           531
          ],
          [
           "Brandon Knight",
           108.20997782705099,
           694
          ],
          [
           "Kemba Walker",
           107.50426666666667,
           614
          ],
          [
           "Jimmer Fredette",
           107.7908713692946,
           642
          ],
          [
           "Klay Thompson",
           104.53575418994413,
           456
          ],
          [
           "Alec Burks",
           107.50976331360945,
           919
          ],
          [
           "Markieff Morris",
           106.55586666666666,
           598
          ],
          [
           "Marcus Morris",
           107.78914431673051,
           651
          ],
          [
           "Kawhi Leonard",
           102.61257961783438,
           187
          ],
          [
           "Nikola Vučević",
           108.29246658566221,
           763
          ],
          [
           "Iman Shumpert",
           104.52516268980479,
           776
          ],
          [
           "Chris Singleton",
           101.16824324324325,
           234
          ],
          [
           "Tobias Harris",
           107.68476420798066,
           732
          ],
          [
           "Donatas Motiejūnas",
           103.85458167330677,
           401
          ],
          [
           "Nolan Smith",
           102.16666666666667,
           291
          ],
          [
           "Kenneth Faried",
           108.4571129707113,
           790
          ],
          [
           "Nikola Mirotić",
           103.79561128526646,
           345
          ],
          [
           "Reggie Jackson",
           105.62762645914398,
           530
          ],
          [
           "MarShon Brooks",
           104.535,
           565
          ],
          [
           "Jordan Hamilton",
           105.35629139072849,
           777
          ],
          [
           "Norris Cole",
           104.22388888888891,
           541
          ],
          [
           "Cory Joseph",
           106.3246835443038,
           677
          ],
          [
           "Jimmy Butler",
           104.73342175066313,
           10
          ],
          [
           "Bojan Bogdanović",
           109.25271903323264,
           765
          ],
          [
           "Kyle Singler",
           105.23539325842698,
           699
          ],
          [
           "Shelvin Mack",
           103.09254385964911,
           300
          ],
          [
           "Chandler Parsons",
           105.64704545454545,
           736
          ],
          [
           "Jeremy Tyler",
           103.95673076923077,
           142
          ],
          [
           "Jon Leuer",
           103.0785145888594,
           223
          ],
          [
           "Darius Morris",
           100.69469696969698,
           93
          ],
          [
           "Dāvis Bertāns",
           107.23148148148148,
           515
          ],
          [
           "Charles Jenkins",
           100.82000000000001,
           80
          ],
          [
           "Lavoy Allen",
           100.9680412371134,
           33
          ],
          [
           "DeAndre Liggins",
           106.15875706214689,
           396
          ],
          [
           "E'Twaun Moore",
           104.81371237458195,
           166
          ],
          [
           "Isaiah Thomas",
           108.11527272727271,
           404
          ],
          [
           "Anthony Davis",
           106.91378787878789,
           558
          ],
          [
           "Michael Kidd-Gilchrist",
           104.34417040358744,
           273
          ],
          [
           "Bradley Beal",
           108.50805755395685,
           659
          ],
          [
           "Dion Waiters",
           106.1073985680191,
           429
          ],
          [
           "Thomas Robinson",
           107.5996805111821,
           602
          ],
          [
           "Damian Lillard",
           109.28309492847852,
           770
          ],
          [
           "Harrison Barnes",
           107.93256936067552,
           594
          ],
          [
           "Terrence Ross",
           108.12523874488404,
           690
          ],
          [
           "Andre Drummond",
           108.00675159235668,
           653
          ],
          [
           "Austin Rivers",
           108.45388967468176,
           705
          ],
          [
           "Meyers Leonard",
           107.10701754385966,
           671
          ],
          [
           "Jeremy Lamb",
           106.21780104712042,
           868
          ],
          [
           "Kendall Marshall",
           107.57249999999999,
           669
          ],
          [
           "John Henson",
           104.95483146067416,
           400
          ],
          [
           "Maurice Harkless",
           107.66618357487923,
           608
          ],
          [
           "Tyler Zeller",
           103.88743961352655,
           726
          ],
          [
           "Terrence Jones",
           107.11324786324786,
           737
          ],
          [
           "Andrew Nicholson",
           103.44701754385964,
           357
          ],
          [
           "Evan Fournier",
           108.22217261904763,
           781
          ],
          [
           "Jared Sullinger",
           102.19293680297399,
           293
          ],
          [
           "John Jenkins",
           104.14210526315792,
           371
          ],
          [
           "Jared Cunningham",
           100.57976190476191,
           139
          ],
          [
           "Tony Wroten",
           106.71034482758623,
           740
          ],
          [
           "Miles Plumlee",
           105.12485549132947,
           766
          ],
          [
           "Perry Jones",
           102.93006993006993,
           409
          ],
          [
           "Marquis Teague",
           99.44065934065935,
           135
          ],
          [
           "Festus Ezeli",
           99.58470588235295,
           4
          ],
          [
           "Jeff Taylor",
           104.5439393939394,
           346
          ],
          [
           "Tomáš Satoranský",
           108.19536082474228,
           869
          ],
          [
           "Bernard James",
           101.75217391304349,
           386
          ],
          [
           "Jae Crowder",
           104.81752988047808,
           454
          ],
          [
           "Draymond Green",
           102.62269129287598,
           243
          ],
          [
           "Orlando Johnson",
           98.03009708737865,
           54
          ],
          [
           "Quincy Acy",
           104.5593471810089,
           792
          ],
          [
           "Khris Middleton",
           106.05380116959064,
           277
          ],
          [
           "Will Barton",
           107.72709867452136,
           617
          ],
          [
           "Doron Lamb",
           102.103,
           127
          ],
          [
           "Mike Scott",
           103.74144144144145,
           168
          ],
          [
           "Justin Hamilton",
           110.48053097345132,
           775
          ],
          [
           "Darius Miller",
           105.94760147601475,
           754
          ],
          [
           "Kyle O'Quinn",
           105.66546610169493,
           423
          ],
          [
           "Robbie Hummel",
           106.30816326530613,
           240
          ],
          [
           "Robert Sacre",
           105.46349206349205,
           197
          ],
          [
           "Anthony Bennett",
           111.01125827814568,
           854
          ],
          [
           "Victor Oladipo",
           105.64503968253969,
           372
          ],
          [
           "Otto Porter Jr.",
           105.49414062500001,
           390
          ],
          [
           "Cody Zeller",
           106.25795677799607,
           448
          ],
          [
           "Alex Len",
           108.29093959731544,
           649
          ],
          [
           "Nerlens Noel",
           105.23083511777301,
           414
          ],
          [
           "Ben McLemore",
           108.70935251798561,
           648
          ],
          [
           "Kentavious Caldwell-Pope",
           107.90764163372859,
           668
          ],
          [
           "Trey Burke",
           108.20823293172691,
           674
          ],
          [
           "CJ McCollum",
           108.43353383458647,
           702
          ],
          [
           "Michael Carter-Williams",
           106.04050632911392,
           591
          ],
          [
           "Steven Adams",
           105.98583569405099,
           852
          ],
          [
           "Kelly Olynyk",
           106.48731563421828,
           587
          ],
          [
           "Shabazz Muhammad",
           110.2431654676259,
           835
          ],
          [
           "Giannis Antetokounmpo",
           105.51835883171073,
           408
          ],
          [
           "Lucas Nogueira",
           101.21205673758867,
           176
          ],
          [
           "Dennis Schröder",
           3.65764192139738,
           3
          ],
          [
           "Shane Larkin",
           104.22265625,
           488
          ],
          [
           "Sergey Karasev",
           103.30947368421054,
           344
          ],
          [
           "Tony Snell",
           106.161231281198,
           612
          ],
          [
           "Gorgui Dieng",
           108.57563694267516,
           820
          ],
          [
           "Mason Plumlee",
           109.68905405405407,
           859
          ],
          [
           "Solomon Hill",
           106.11718750000001,
           569
          ],
          [
           "Tim Hardaway Jr.",
           109.07001522070016,
           802
          ],
          [
           "Reggie Bullock",
           107.1232421875,
           772
          ],
          [
           "Andre Roberson",
           101.50749185667752,
           455
          ],
          [
           "Rudy Gobert",
           102.53744493392071,
           338
          ],
          [
           "Archie Goodwin",
           107.67090909090909,
           785
          ],
          [
           "Allen Crabbe",
           107.12860892388451,
           588
          ],
          [
           "Álex Abrines",
           105.81436781609196,
           715
          ],
          [
           "Isaiah Canaan",
           107.27446808510638,
           658
          ],
          [
           "Ray McCallum",
           107.39090909090909,
           665
          ],
          [
           "Nate Wolters",
           101.4904761904762,
           366
          ],
          [
           "Jeff Withey",
           102.8480582524272,
           91
          ],
          [
           "Mike Muscala",
           105.0678787878788,
           323
          ],
          [
           "Raul Neto",
           103.77816091954024,
           95
          ],
          [
           "Ryan Kelly",
           104.14294478527607,
           457
          ],
          [
           "James Ennis III",
           107.2701265822785,
           202
          ],
          [
           "Lorenzo Brown",
           101.72135922330096,
           247
          ],
          [
           "Joffrey Lauvergne",
           108.06682692307693,
           406
          ],
          [
           "Andrew Wiggins",
           109.80535433070868,
           787
          ],
          [
           "Jabari Parker",
           109.6606451612903,
           733
          ],
          [
           "Joel Embiid",
           104.56598984771574,
           316
          ],
          [
           "Aaron Gordon",
           108.55721476510065,
           639
          ],
          [
           "Dante Exum",
           101.2591836734694,
           109
          ],
          [
           "Marcus Smart",
           105.10292598967297,
           402
          ],
          [
           "Julius Randle",
           111.56823529411766,
           853
          ],
          [
           "Nik Stauskas",
           108.0475218658892,
           687
          ],
          [
           "Noah Vonleh",
           107.24806629834254,
           603
          ],
          [
           "Elfrid Payton",
           109.20519999999999,
           768
          ],
          [
           "Doug McDermott",
           108.46277495769881,
           783
          ],
          [
           "Dario Šarić",
           0,
           1
          ],
          [
           "Zach LaVine",
           112.06936936936938,
           928
          ],
          [
           "T.J. Warren",
           109.85213903743316,
           806
          ],
          [
           "Adreian Payne",
           110.48130841121495,
           822
          ],
          [
           "Jusuf Nurkić",
           107.07775377969763,
           650
          ],
          [
           "James Young",
           105.38315789473684,
           825
          ],
          [
           "Tyler Ennis",
           103.45698924731182,
           411
          ],
          [
           "Gary Harris",
           109.67713178294575,
           858
          ],
          [
           "Bruno Caboclo",
           104.49238095238096,
           465
          ],
          [
           "Rodney Hood",
           107.38973214285716,
           662
          ],
          [
           "Shabazz Napier",
           104.67739130434782,
           447
          ],
          [
           "Clint Capela",
           108.14664179104477,
           831
          ],
          [
           "P.J. Hairston",
           107.30540540540542,
           884
          ],
          [
           "Bogdan Bogdanović",
           111.61918918918919,
           949
          ],
          [
           "Kyle Anderson",
           104.23675958188154,
           9
          ],
          [
           "K.J. McDaniels",
           100.87635135135136,
           290
          ],
          [
           "Joe Harris",
           110.97008196721313,
           961
          ],
          [
           "Johnny O'Bryant",
           106.34625850340134,
           586
          ],
          [
           "Spencer Dinwiddie",
           109.00407725321888,
           917
          ],
          [
           "Jerami Grant",
           108.25647249190939,
           469
          ],
          [
           "Glenn Robinson III",
           106.93815789473683,
           557
          ],
          [
           "Nikola Jokić",
           108.65268456375838,
           695
          ],
          [
           "Markel Brown",
           110.73451327433628,
           799
          ],
          [
           "Dwight Powell",
           107.79659284497446,
           563
          ],
          [
           "Jordan Clarkson",
           110.8052950075643,
           960
          ],
          [
           "Thanasis Antetokounmpo",
           111.33475609756098,
           885
          ],
          [
           "Jordan McRae",
           109.08130081300814,
           468
          ],
          [
           "Karl-Anthony Towns",
           111.31956947162426,
           875
          ],
          [
           "D'Angelo Russell",
           111.69535353535353,
           861
          ],
          [
           "Jahlil Okafor",
           111.1748987854251,
           851
          ],
          [
           "Kristaps Porziņģis",
           109.55199004975123,
           728
          ],
          [
           "Mario Hezonja",
           109.03,
           716
          ],
          [
           "Willie Cauley-Stein",
           107.61042654028435,
           630
          ],
          [
           "Emmanuel Mudiay",
           110.90364238410596,
           814
          ],
          [
           "Stanley Johnson",
           106.90022271714922,
           595
          ],
          [
           "Frank Kaminsky",
           107.54963680387411,
           620
          ],
          [
           "Justise Winslow",
           104.04476744186047,
           315
          ],
          [
           "Myles Turner",
           107.10953346855985,
           673
          ],
          [
           "Trey Lyles",
           108.70382409177819,
           950
          ],
          [
           "Devin Booker",
           111.45283018867924,
           909
          ],
          [
           "Cameron Payne",
           107.60489296636086,
           637
          ],
          [
           "Kelly Oubre Jr.",
           109.56944971537003,
           767
          ],
          [
           "Terry Rozier",
           108.14574074074073,
           746
          ],
          [
           "Rashad Vaughn",
           107.01079136690647,
           902
          ],
          [
           "Sam Dekker",
           107.13482587064678,
           738
          ],
          [
           "Jerian Grant",
           106.3663082437276,
           623
          ],
          [
           "Delon Wright",
           106.93904555314533,
           676
          ],
          [
           "Justin Anderson",
           106.25991735537191,
           641
          ],
          [
           "Bobby Portis",
           109.47437858508606,
           847
          ],
          [
           "Rondae Hollis-Jefferson",
           106.69999999999999,
           610
          ],
          [
           "Tyus Jones",
           108.10018691588785,
           742
          ],
          [
           "Jarell Martin",
           104.42826086956521,
           553
          ],
          [
           "Larry Nance Jr.",
           108.61908893709328,
           837
          ],
          [
           "Kevon Looney",
           107.51804008908685,
           14
          ],
          [
           "Cedi Osman",
           112.27648514851485,
           916
          ],
          [
           "Montrezl Harrell",
           107.52388349514563,
           830
          ],
          [
           "Willy Hernangómez",
           109.70872093023254,
           819
          ],
          [
           "Richaun Holmes",
           110.11985645933014,
           975
          ],
          [
           "Darrun Hilliard",
           102.0186813186813,
           415
          ],
          [
           "Josh Richardson",
           107.33439363817098,
           590
          ],
          [
           "Pat Connaughton",
           105.85753138075314,
           460
          ],
          [
           "Joe Young",
           105.08503937007873,
           256
          ],
          [
           "Andrew Harrison",
           105.74275862068964,
           376
          ],
          [
           "Norman Powell",
           108.77754677754677,
           901
          ],
          [
           "Ben Simmons",
           107.02555205047318,
           571
          ],
          [
           "Brandon Ingram",
           111.0544794188862,
           824
          ],
          [
           "Jaylen Brown",
           106.56255319148939,
           498
          ],
          [
           "Dragan Bender",
           109.85508021390375,
           758
          ],
          [
           "Kris Dunn",
           110.22097378277154,
           798
          ],
          [
           "Buddy Hield",
           112.01642335766425,
           910
          ],
          [
           "Jamal Murray",
           109.40926829268294,
           711
          ],
          [
           "Marquese Chriss",
           112.45308219178084,
           930
          ],
          [
           "Jakob Poeltl",
           108.10225409836066,
           661
          ],
          [
           "Thon Maker",
           108.10874524714828,
           675
          ],
          [
           "Domantas Sabonis",
           108.06902834008095,
           762
          ],
          [
           "Taurean Prince",
           109.8620283018868,
           967
          ],
          [
           "Denzel Valentine",
           106.5953125,
           567
          ],
          [
           "Juancho Hernangómez",
           111.21769911504424,
           864
          ],
          [
           "Henry Ellenson",
           97.05421686746988,
           56
          ],
          [
           "Malik Beasley",
           109.5208633093525,
           850
          ],
          [
           "Caris LeVert",
           109.81301020408162,
           874
          ],
          [
           "DeAndre' Bembry",
           108.46925675675678,
           808
          ],
          [
           "Ante Žižić",
           112.0566371681416,
           933
          ],
          [
           "Timothé Luwawu-Cabarrot",
           108.17134146341462,
           745
          ],
          [
           "Furkan Korkmaz",
           106.8184300341297,
           863
          ],
          [
           "Pascal Siakam",
           107.08980891719746,
           743
          ],
          [
           "Skal Labissière",
           109.7141891891892,
           907
          ],
          [
           "Dejounte Murray",
           108.44873096446699,
           829
          ],
          [
           "Damian Jones",
           112.13125,
           19
          ],
          [
           "Deyonta Davis",
           106.76822429906541,
           560
          ],
          [
           "Ivica Zubac",
           107.98256880733945,
           855
          ],
          [
           "Cheick Diallo",
           109.96120218579236,
           946
          ],
          [
           "Tyler Ulis",
           108.34736842105264,
           759
          ],
          [
           "Malcolm Brogdon",
           107.8225,
           707
          ],
          [
           "Patrick McCaw",
           107.99849246231155,
           878
          ],
          [
           "Isaiah Whitehead",
           105.56179775280899,
           356
          ],
          [
           "Jake Layman",
           106.25308641975309,
           237
          ],
          [
           "Paul Zipser",
           106.5326530612245,
           655
          ],
          [
           "Georges Niang",
           107.25274151436032,
           201
          ],
          [
           "Abdel Nader",
           104.82673267326732,
           143
          ],
          [
           "Tyrone Wallace",
           105.79464285714286,
           224
          ],
          [
           "Markelle Fultz",
           109.82565445026177,
           789
          ],
          [
           "Lonzo Ball",
           108.76865079365078,
           652
          ],
          [
           "Jayson Tatum",
           105.71913439635534,
           422
          ],
          [
           "Josh Jackson",
           110.46701030927834,
           793
          ],
          [
           "De'Aaron Fox",
           114.14430379746835,
           956
          ],
          [
           "Jonathan Isaac",
           105.94965986394558,
           486
          ],
          [
           "Lauri Markkanen",
           110.70402298850574,
           804
          ],
          [
           "Frank Ntilikina",
           106.16329113924053,
           524
          ],
          [
           "Dennis Smith Jr.",
           109.08703703703702,
           752
          ],
          [
           "Zach Collins",
           109.9722448979592,
           807
          ],
          [
           "Malik Monk",
           111.91735751295336,
           941
          ],
          [
           "Luke Kennard",
           108.35028089887639,
           944
          ],
          [
           "Donovan Mitchell",
           107.2046004842615,
           638
          ],
          [
           "Bam Adebayo",
           106.77416267942586,
           576
          ],
          [
           "Justin Jackson",
           109.11978417266187,
           729
          ],
          [
           "D.J. Wilson",
           106.9472602739726,
           900
          ],
          [
           "T.J. Leaf",
           105.38493150684931,
           599
          ],
          [
           "John Collins",
           111.89945054945055,
           942
          ],
          [
           "Harry Giles",
           111.65352112676055,
           938
          ],
          [
           "Terrance Ferguson",
           108.73774509803921,
           828
          ],
          [
           "Jarrett Allen",
           109.87701711491444,
           872
          ],
          [
           "OG Anunoby",
           106.7695652173913,
           613
          ],
          [
           "Kyle Kuzma",
           109.09137931034485,
           865
          ],
          [
           "Tony Bradley",
           107.06927374301677,
           773
          ],
          [
           "Derrick White",
           106.59710144927536,
           700
          ],
          [
           "Josh Hart",
           110.41209677419356,
           17
          ],
          [
           "Frank Jackson",
           110.99953271028038,
           866
          ],
          [
           "Davon Reed",
           108.48770491803279,
           879
          ],
          [
           "Wes Iwundu",
           105.41194690265486,
           718
          ],
          [
           "Frank Mason III",
           108.10582524271847,
           734
          ],
          [
           "Ivan Rabb",
           110.09294117647059,
           841
          ],
          [
           "Semi Ojeleye",
           105.50598591549294,
           845
          ],
          [
           "Jordan Bell",
           108.92422360248447,
           914
          ],
          [
           "Dwayne Bacon",
           110.11207729468599,
           800
          ],
          [
           "Tyler Dorsey",
           107.79719626168226,
           627
          ],
          [
           "Thomas Bryant",
           113.82751091703057,
           935
          ],
          [
           "Isaiah Hartenstein",
           106.63805668016194,
           379
          ],
          [
           "Damyean Dotson",
           107.87699530516433,
           578
          ],
          [
           "Dillon Brooks",
           108.15246376811594,
           589
          ],
          [
           "Sterling Brown",
           105.37350746268658,
           701
          ],
          [
           "Sindarius Thornwell",
           102.50750000000001,
           308
          ],
          [
           "Vlatko Čančar",
           111.99076923076923,
           894
          ],
          [
           "Monte Morris",
           110.06023391812865,
           817
          ],
          [
           "Edmond Sumner",
           110.16211180124223,
           891
          ],
          [
           "Deandre Ayton",
           111.03465346534654,
           857
          ],
          [
           "Marvin Bagley III",
           114.65528846153846,
           957
          ],
          [
           "Luka Dončić",
           112.18878787878789,
           896
          ],
          [
           "Jaren Jackson Jr.",
           107.16067415730336,
           525
          ],
          [
           "Trae Young",
           114.6798866855524,
           963
          ],
          [
           "Mo Bamba",
           109.848,
           801
          ],
          [
           "Wendell Carter Jr.",
           109.88576923076923,
           756
          ],
          [
           "Collin Sexton",
           116.03984962406014,
           983
          ],
          [
           "Kevin Knox",
           111.9829090909091,
           904
          ],
          [
           "Mikal Bridges",
           110.09362244897959,
           821
          ],
          [
           "Shai Gilgeous-Alexander",
           111.84405144694534,
           937
          ],
          [
           "Miles Bridges",
           111.98831615120274,
           987
          ],
          [
           "Jerome Robinson",
           108.5867256637168,
           764
          ],
          [
           "Michael Porter Jr.",
           111.31871657754012,
           888
          ],
          [
           "Troy Brown Jr.",
           111.64343434343436,
           880
          ],
          [
           "Donte DiVincenzo",
           106.46373626373627,
           881
          ],
          [
           "Lonnie Walker IV",
           112.95795454545456,
           968
          ],
          [
           "Kevin Huerter",
           113.18624641833811,
           964
          ],
          [
           "Josh Okogie",
           109.38132911392405,
           846
          ],
          [
           "Grayson Allen",
           109.9378787878788,
           889
          ],
          [
           "Chandler Hutchison",
           107.55339805825243,
           721
          ],
          [
           "Aaron Holiday",
           107.4409090909091,
           667
          ],
          [
           "Anfernee Simons",
           114.68974358974359,
           979
          ],
          [
           "Moritz Wagner",
           110.76482213438736,
           940
          ],
          [
           "Landry Shamet",
           108.05894039735101,
           913
          ],
          [
           "Robert Williams",
           106.69186602870815,
           706
          ],
          [
           "Omari Spellman",
           111.20105263157895,
           18
          ],
          [
           "Elie Okobo",
           110.03055555555555,
           805
          ],
          [
           "Jevon Carter",
           107.58256578947368,
           836
          ],
          [
           "Jalen Brunson",
           110.36347826086954,
           954
          ],
          [
           "Devonte' Graham",
           111.24728434504793,
           908
          ],
          [
           "Mitchell Robinson",
           110.17301038062284,
           862
          ],
          [
           "Gary Trent Jr.",
           113.30185185185184,
           994
          ],
          [
           "Isaac Bonga",
           102.95874125874126,
           96
          ],
          [
           "Rodions Kurucs",
           105.5145038167939,
           421
          ],
          [
           "Jarred Vanderbilt",
           110.88032786885248,
           848
          ],
          [
           "Bruce Brown",
           110.72320916905444,
           795
          ],
          [
           "Hamidou Diallo",
           108.80798479087453,
           634
          ],
          [
           "De'Anthony Melton",
           108.71346153846153,
           899
          ],
          [
           "Svi Mykhailiuk",
           109.32777777777777,
           493
          ],
          [
           "Keita Bates-Diop",
           111.60260869565218,
           943
          ],
          [
           "Chimezie Metu",
           109.22105263157896,
           731
          ],
          [
           "Shake Milton",
           109.4968503937008,
           513
          ],
          [
           "Zion Williamson",
           109.85,
           791
          ],
          [
           "Ja Morant",
           109.92701612903227,
           760
          ],
          [
           "RJ Barrett",
           112.35018450184502,
           903
          ],
          [
           "De'Andre Hunter",
           113.43543689320389,
           929
          ],
          [
           "Darius Garland",
           110.2192,
           797
          ],
          [
           "Jarrett Culver",
           109.0340277777778,
           751
          ],
          [
           "Coby White",
           110.88736059479552,
           810
          ],
          [
           "Jaxson Hayes",
           108.33360995850622,
           709
          ],
          [
           "Rui Hachimura",
           113.25285714285714,
           947
          ],
          [
           "Cam Reddish",
           114.46242774566474,
           965
          ],
          [
           "Cameron Johnson",
           106.80933333333333,
           643
          ],
          [
           "P.J. Washington",
           111.69576923076923,
           984
          ],
          [
           "Tyler Herro",
           109.88471074380165,
           839
          ],
          [
           "Romeo Langford",
           107.32836879432624,
           619
          ],
          [
           "Sekou Doumbouya",
           111.32708333333333,
           870
          ],
          [
           "Chuma Okeke",
           110.72887323943662,
           893
          ],
          [
           "Nickeil Alexander-Walker",
           111.77511520737328,
           985
          ],
          [
           "Goga Bitadze",
           108.78877005347593,
           842
          ],
          [
           "Matisse Thybulle",
           106.95318352059925,
           678
          ],
          [
           "Brandon Clarke",
           107.72447257383965,
           771
          ],
          [
           "Grant Williams",
           107.48055555555555,
           719
          ],
          [
           "Darius Bazley",
           109.59035087719298,
           826
          ],
          [
           "Ty Jerome",
           109.4687898089172,
           827
          ],
          [
           "Nassir Little",
           115.8,
           991
          ],
          [
           "Dylan Windler",
           104.69166666666668,
           727
          ],
          [
           "Jordan Poole",
           108.67481203007519,
           867
          ],
          [
           "Keldon Johnson",
           114.24419642857143,
           982
          ],
          [
           "Kevin Porter Jr.",
           116.5142857142857,
           20
          ],
          [
           "Nic Claxton",
           109.01235294117646,
           744
          ],
          [
           "KZ Okpala",
           107.26632653061225,
           813
          ],
          [
           "Bruno Fernando",
           109.04873417721517,
           796
          ],
          [
           "Cody Martin",
           110.30842696629212,
           871
          ],
          [
           "Daniel Gafford",
           111.65384615384616,
           970
          ],
          [
           "Eric Paschall",
           112.1987341772152,
           905
          ],
          [
           "Admiral Schofield",
           112.3648148148148,
           886
          ],
          [
           "Jaylen Nowell",
           110.34565217391304,
           710
          ],
          [
           "Bol Bol",
           113.369918699187,
           925
          ],
          [
           "Isaiah Roby",
           113.07549668874171,
           906
          ],
          [
           "Talen Horton-Tucker",
           108.97295918367347,
           911
          ],
          [
           "Terance Mann",
           109.0425925925926,
           840
          ],
          [
           "Jalen McDaniels",
           112.15454545454544,
           952
          ],
          [
           "Anthony Edwards",
           112.67488789237669,
           924
          ],
          [
           "James Wiseman",
           116.65357142857142,
           980
          ],
          [
           "LaMelo Ball",
           113.34629629629629,
           936
          ],
          [
           "Patrick Williams",
           113.33529411764705,
           927
          ],
          [
           "Isaac Okoro",
           110.49952380952382,
           816
          ],
          [
           "Onyeka Okongwu",
           111.56629213483146,
           892
          ],
          [
           "Killian Hayes",
           114.68571428571428,
           958
          ],
          [
           "Obi Toppin",
           106.9044776119403,
           596
          ],
          [
           "Deni Avdija",
           111.48301886792453,
           887
          ],
          [
           "Jalen Smith",
           112.35342465753423,
           923
          ],
          [
           "Devin Vassell",
           111.63976608187136,
           931
          ],
          [
           "Tyrese Haliburton",
           116.63821989528796,
           998
          ],
          [
           "Kira Lewis Jr.",
           107.31456310679611,
           646
          ],
          [
           "Aaron Nesmith",
           111.653216374269,
           898
          ],
          [
           "Cole Anthony",
           113.00930232558139,
           932
          ],
          [
           "Isaiah Stewart",
           111.67883597883598,
           926
          ],
          [
           "Aleksej Pokusevski",
           111.89142857142856,
           988
          ],
          [
           "Josh Green",
           107.26445783132532,
           750
          ],
          [
           "Saddiq Bey",
           114.1528384279476,
           977
          ],
          [
           "Precious Achiuwa",
           110.0968253968254,
           882
          ],
          [
           "Tyrese Maxey",
           110.05867346938776,
           895
          ],
          [
           "Zeke Nnaji",
           109.87941176470589,
           873
          ],
          [
           "R.J. Hampton",
           115.17469135802469,
           981
          ],
          [
           "Immanuel Quickley",
           105.91255605381166,
           666
          ],
          [
           "Payton Pritchard",
           108.23135135135135,
           920
          ],
          [
           "Jaden McDaniels",
           111.28632075471697,
           953
          ],
          [
           "Malachi Flynn",
           111.60555555555555,
           951
          ],
          [
           "Desmond Bane",
           108.32475247524752,
           15
          ],
          [
           "Théo Maledon",
           113.790625,
           966
          ],
          [
           "Xavier Tillman Sr.",
           107.77283236994221,
           679
          ],
          [
           "Saben Lee",
           109.89727272727274,
           945
          ],
          [
           "Tre Jones",
           113.62931034482759,
           948
          ],
          [
           "Nick Richards",
           112.16842105263157,
           877
          ],
          [
           "Jordan Nwora",
           113.34025974025975,
           918
          ],
          [
           "CJ Elleby",
           113.72954545454546,
           989
          ],
          [
           "Isaiah Joe",
           108.62248520710058,
           681
          ],
          [
           "Kenyon Martin Jr.",
           117.0631067961165,
           995
          ],
          [
           "Paul Reed",
           109.21428571428571,
           482
          ],
          [
           "Jalen Green",
           118.54755244755245,
           990
          ],
          [
           "Evan Mobley",
           107.97432432432433,
           622
          ],
          [
           "Scottie Barnes",
           110.03178807947019,
           769
          ],
          [
           "Jalen Suggs",
           109.47920792079208,
           757
          ],
          [
           "Josh Giddey",
           112.08923076923077,
           912
          ],
          [
           "Jonathan Kuminga",
           110.18978102189782,
           774
          ],
          [
           "Franz Wagner",
           110.44779874213835,
           849
          ],
          [
           "Davion Mitchell",
           111.55806451612904,
           890
          ],
          [
           "Ziaire Williams",
           110.07070707070707,
           818
          ],
          [
           "Chris Duarte",
           112.38712871287127,
           939
          ],
          [
           "Moses Moody",
           110.21478260869566,
           833
          ],
          [
           "Corey Kispert",
           114.22317880794702,
           959
          ],
          [
           "Alperen Şengün",
           118.4877551020408,
           997
          ],
          [
           "Trey Murphy III",
           110.60141843971631,
           978
          ],
          [
           "Tre Mann",
           109.99527559055119,
           897
          ],
          [
           "Jalen Johnson",
           109.60434782608696,
           860
          ],
          [
           "Isaiah Jackson",
           115.52727272727273,
           986
          ],
          [
           "Usman Garuba",
           114.53030303030303,
           974
          ],
          [
           "Josh Christopher",
           117.58405797101449,
           993
          ],
          [
           "Quentin Grimes",
           110.58290598290598,
           934
          ],
          [
           "Bones Hyland",
           114.52239999999999,
           996
          ],
          [
           "Cam Thomas",
           113.15967741935485,
           972
          ],
          [
           "Santi Aldama",
           108.55596330275228,
           16
          ],
          [
           "Jeremiah Robinson-Earl",
           112.2554347826087,
           973
          ],
          [
           "Herbert Jones",
           110.93333333333334,
           883
          ],
          [
           "Miles McBride",
           104.53076923076924,
           413
          ],
          [
           "JT Thor",
           109.13235294117646,
           962
          ],
          [
           "Ayo Dosunmu",
           112.06178343949043,
           976
          ],
          [
           "Kessler Edwards",
           115.62857142857142,
           969
          ],
          [
           "Dalano Banton",
           106.99263157894737,
           815
          ],
          [
           "Sandro Mamukelashvili",
           116.83928571428571,
           955
          ],
          [
           "Aaron Wiggins",
           111.78333333333333,
           741
          ],
          [
           "Jericho Sims",
           109.60967741935485,
           516
          ],
          [
           "Tari Eason",
           113.40000000000002,
           992
          ]
         ],
         "hovertemplate": "<b>%{hovertext}</b><br><br>Pk=%{x}<br>DEF_RATING_diff=%{y}<br>DEF_RATING=%{customdata[1]}<br>DEF_RATING_rank=%{customdata[2]}<extra></extra>",
         "hovertext": [
          "Allen Iverson",
          "Marcus Camby",
          "Shareef Abdur-Rahim",
          "Stephon Marbury",
          "Ray Allen",
          "Antoine Walker",
          "Lorenzen Wright",
          "Kerry Kittles",
          "Samaki Walker",
          "Erick Dampier",
          "Todd Fuller",
          "Vitaly Potapenko",
          "Kobe Bryant",
          "Peja Stojaković",
          "Steve Nash",
          "Tony Delk",
          "Jermaine O'Neal",
          "John Wallace",
          "Walter McCarty",
          "Zydrunas Ilgauskas",
          "Roy Rogers",
          "Derek Fisher",
          "Martin Müürsepp",
          "Jerome Williams",
          "Brian Evans",
          "Travis Knight",
          "Othella Harrington",
          "Mark Hendrickson",
          "Moochie Norris",
          "Jeff McInnis",
          "Randy Livingston",
          "Malik Rose",
          "Jamie Feick",
          "Amal McCaskill",
          "Mark Pope",
          "Shandon Anderson",
          "Reggie Geary",
          "Tim Duncan",
          "Keith Van Horn",
          "Chauncey Billups",
          "Antonio Daniels",
          "Tony Battie",
          "Ron Mercer",
          "Tim Thomas",
          "Adonal Foyle",
          "Tracy McGrady",
          "Danny Fortson",
          "Tariq Abdul-Wahad",
          "Austin Croshere",
          "Derek Anderson",
          "Maurice Taylor",
          "Kelvin Cato",
          "Brevin Knight",
          "Chris Anstey",
          "Scot Pollard",
          "Anthony Parker",
          "Bobby Jackson",
          "John Thomas",
          "Charles Smith",
          "Jacque Vaughn",
          "Marc Jackson",
          "Anthony Johnson",
          "Stephen Jackson",
          "Cedric Henderson",
          "Eric Washington",
          "Alvin Williams",
          "Predrag Drobnjak",
          "Chris Crawford",
          "Mark Blount",
          "Michael Olowokandi",
          "Mike Bibby",
          "Raef LaFrentz",
          "Antawn Jamison",
          "Vince Carter",
          "Robert Traylor",
          "Jason Williams",
          "Larry Hughes",
          "Dirk Nowitzki",
          "Paul Pierce",
          "Bonzi Wells",
          "Michael Doleac",
          "Keon Clark",
          "Michael Dickerson",
          "Matt Harpring",
          "Bryce Drew",
          "Rasho Nesterović",
          "Pat Garrity",
          "Roshown McLeod",
          "Ricky Davis",
          "Brian Skinner",
          "Tyronn Lue",
          "Felipe López",
          "Al Harrington",
          "Vladimir Stepania",
          "Corey Benjamin",
          "Nazr Mohammed",
          "Ansu Sesay",
          "Ruben Patterson",
          "Rashard Lewis",
          "Jelani McCoy",
          "Shammond Williams",
          "Bruno Šundov",
          "Jerome James",
          "Rafer Alston",
          "Cuttino Mobley",
          "Jahidi White",
          "Sean Marks",
          "Derrick Dial",
          "Greg Buckner",
          "Tremaine Fowlkes",
          "Ryan Bowen",
          "Maceo Baston",
          "Elton Brand",
          "Steve Francis",
          "Baron Davis",
          "Lamar Odom",
          "Jonathan Bender",
          "Wally Szczerbiak",
          "Richard Hamilton",
          "Andre Miller",
          "Shawn Marion",
          "Jason Terry",
          "Trajan Langdon",
          "Corey Maggette",
          "William Avery",
          "Metta World Peace",
          "Cal Bowdler",
          "James Posey",
          "Quincy Lewis",
          "Dion Glover",
          "Jeff Foster",
          "Kenny Thomas",
          "Devean George",
          "Andrei Kirilenko",
          "Vonteego Cummings",
          "Jumaine Jones",
          "Scott Padgett",
          "Michael Ruffin",
          "Evan Eschmeyer",
          "Calvin Booth",
          "Wang Zhizhi",
          "Obinna Ekezie",
          "Laron Profit",
          "Gordan Giriček",
          "Francisco Elson",
          "Lee Nailon",
          "Todd MacCulloch",
          "Rodney Buford",
          "Manu Ginóbili",
          "Kenyon Martin",
          "Stromile Swift",
          "Darius Miles",
          "Marcus Fizer",
          "Mike Miller",
          "DerMarr Johnson",
          "Chris Mihm",
          "Jamal Crawford",
          "Joel Przybilla",
          "Keyon Dooling",
          "Jérôme Moïso",
          "Etan Thomas",
          "Courtney Alexander",
          "Mateen Cleaves",
          "Jason Collier",
          "Hedo Türkoğlu",
          "Desmond Mason",
          "Quentin Richardson",
          "Jamaal Magloire",
          "Speedy Claxton",
          "Morris Peterson",
          "Donnell Harvey",
          "DeShawn Stevenson",
          "Dalibor Bagarić",
          "Jake Tsakalidis",
          "Primož Brezec",
          "Mark Madsen",
          "Marko Jarić",
          "Dan Langhi",
          "Jake Voskuhl",
          "Eddie House",
          "Eduardo Nájera",
          "Hanno Möttölä",
          "Olumide Oyedeji",
          "Michael Redd",
          "Brian Cardinal",
          "Jabari Smith",
          "Jason Hart",
          "Kwame Brown",
          "Tyson Chandler",
          "Pau Gasol",
          "Eddy Curry",
          "Jason Richardson",
          "Shane Battier",
          "Eddie Griffin",
          "DeSagana Diop",
          "Rodney White",
          "Joe Johnson",
          "Kedrick Brown",
          "Vladimir Radmanović",
          "Richard Jefferson",
          "Troy Murphy",
          "Steven Hunter",
          "Michael Bradley",
          "Jason Collins",
          "Zach Randolph",
          "Brendan Haywood",
          "Jeryl Sasser",
          "Brandon Armstrong",
          "Raül López",
          "Gerald Wallace",
          "Samuel Dalembert",
          "Jamaal Tinsley",
          "Tony Parker",
          "Trenton Hassell",
          "Gilbert Arenas",
          "Will Solomon",
          "Terence Morris",
          "Brian Scalabrine",
          "Mehmet Okur",
          "Earl Watson",
          "Bobby Simmons",
          "Loren Woods",
          "Jarron Collins",
          "Yao Ming",
          "Mike Dunleavy",
          "Drew Gooden",
          "Nikoloz Tskitishvili",
          "Dajuan Wagner",
          "Nenê",
          "Chris Wilcox",
          "Amar'e Stoudemire",
          "Caron Butler",
          "Jared Jeffries",
          "Melvin Ely",
          "Marcus Haislip",
          "Fred Jones",
          "Boštjan Nachbar",
          "Jiří Welsch",
          "Juan Dixon",
          "Curtis Borchardt",
          "Ryan Humphrey",
          "Kareem Rush",
          "Qyntel Woods",
          "Casey Jacobsen",
          "Tayshaun Prince",
          "Nenad Krstić",
          "Frank Williams",
          "John Salmons",
          "Dan Dickau",
          "Roger Mason",
          "Dan Gadzuric",
          "Carlos Boozer",
          "David Andersen",
          "Juan Carlos Navarro",
          "Ronald Murray",
          "Lonny Baxter",
          "Matt Barnes",
          "Darius Songaila",
          "Rasual Butler",
          "Luis Scola",
          "LeBron James",
          "Darko Miličić",
          "Carmelo Anthony",
          "Chris Bosh",
          "Dwyane Wade",
          "Chris Kaman",
          "Kirk Hinrich",
          "T.J. Ford",
          "Mike Sweetney",
          "Jarvis Hayes",
          "Mickaël Piétrus",
          "Nick Collison",
          "Marcus Banks",
          "Luke Ridnour",
          "Žarko Čabarkapa",
          "David West",
          "Sasha Pavlović",
          "Dahntay Jones",
          "Boris Diaw",
          "Zoran Planinić",
          "Travis Outlaw",
          "Brian Cook",
          "Carlos Delfino",
          "Kendrick Perkins",
          "Leandro Barbosa",
          "Josh Howard",
          "Jason Kapono",
          "Luke Walton",
          "Steve Blake",
          "Willie Green",
          "Zaza Pachulia",
          "Keith Bogans",
          "Matt Bonner",
          "Mo Williams",
          "James Jones",
          "Kyle Korver",
          "Dwight Howard",
          "Emeka Okafor",
          "Ben Gordon",
          "Shaun Livingston",
          "Devin Harris",
          "Josh Childress",
          "Luol Deng",
          "Rafael Araújo",
          "Andre Iguodala",
          "Andris Biedriņš",
          "Robert Swift",
          "Sebastian Telfair",
          "Kris Humphries",
          "Al Jefferson",
          "Kirk Snyder",
          "Josh Smith",
          "J.R. Smith",
          "Dorell Wright",
          "Jameer Nelson",
          "Viktor Khryapa",
          "Delonte West",
          "Tony Allen",
          "Kevin Martin",
          "Sasha Vujačić",
          "Beno Udrih",
          "David Harrison",
          "Anderson Varejão",
          "Jackson Vroman",
          "Royal Ivey",
          "Chris Duhon",
          "Justin Reed",
          "Trevor Ariza",
          "Bernard Robinson",
          "Andrew Bogut",
          "Marvin Williams",
          "Deron Williams",
          "Chris Paul",
          "Raymond Felton",
          "Martell Webster",
          "Charlie Villanueva",
          "Channing Frye",
          "Ike Diogu",
          "Andrew Bynum",
          "Sean May",
          "Rashad McCants",
          "Antoine Wright",
          "Joey Graham",
          "Danny Granger",
          "Gerald Green",
          "Hakim Warrick",
          "Nate Robinson",
          "Jarrett Jack",
          "Francisco García",
          "Luther Head",
          "Johan Petro",
          "Jason Maxiell",
          "Linas Kleiza",
          "Ian Mahinmi",
          "David Lee",
          "Salim Stoudamire",
          "Daniel Ewing",
          "Brandon Bass",
          "C.J. Miles",
          "Ersan İlyasova",
          "Ronny Turiaf",
          "Travis Diener",
          "Von Wafer",
          "Monta Ellis",
          "Roko Ukić",
          "Lou Williams",
          "Mickaël Gelabale",
          "Andray Blatche",
          "Ryan Gomes",
          "Orien Greene",
          "Lawrence Roberts",
          "Amir Johnson",
          "Marcin Gortat",
          "Andrea Bargnani",
          "LaMarcus Aldridge",
          "Adam Morrison",
          "Tyrus Thomas",
          "Shelden Williams",
          "Brandon Roy",
          "Randy Foye",
          "Rudy Gay",
          "Patrick O'Bryant",
          "J.J. Redick",
          "Hilton Armstrong",
          "Thabo Sefolosha",
          "Ronnie Brewer",
          "Rodney Carney",
          "Shawne Williams",
          "Oleksiy Pecherov",
          "Quincy Douby",
          "Renaldo Balkman",
          "Rajon Rondo",
          "Marcus Williams",
          "Josh Boone",
          "Kyle Lowry",
          "Shannon Brown",
          "Jordan Farmar",
          "Sergio Rodríguez",
          "Maurice Ager",
          "Mardy Collins",
          "Joel Freeland",
          "Steve Novak",
          "Solomon Jones",
          "Paul Davis",
          "P.J. Tucker",
          "Craig Smith",
          "Bobby Jones",
          "Daniel Gibson",
          "Alexander Johnson",
          "Paul Millsap",
          "Leon Powe",
          "Ryan Hollins",
          "Greg Oden",
          "Kevin Durant",
          "Al Horford",
          "Mike Conley",
          "Jeff Green",
          "Yi Jianlian",
          "Corey Brewer",
          "Brandan Wright",
          "Joakim Noah",
          "Spencer Hawes",
          "Acie Law",
          "Thaddeus Young",
          "Julian Wright",
          "Al Thornton",
          "Rodney Stuckey",
          "Nick Young",
          "Sean Williams",
          "Marco Belinelli",
          "Javaris Crittenton",
          "Jason Smith",
          "Daequan Cook",
          "Jared Dudley",
          "Wilson Chandler",
          "Rudy Fernández",
          "Aaron Brooks",
          "Arron Afflalo",
          "Tiago Splitter",
          "Carl Landry",
          "Glen Davis",
          "Josh McRoberts",
          "Kyrylo Fesenko",
          "Dominic McGuire",
          "Marc Gasol",
          "Aaron Gray",
          "Ramon Sessions",
          "Derrick Rose",
          "Michael Beasley",
          "O.J. Mayo",
          "Russell Westbrook",
          "Kevin Love",
          "Danilo Gallinari",
          "Eric Gordon",
          "D.J. Augustin",
          "Brook Lopez",
          "Jerryd Bayless",
          "Jason Thompson",
          "Brandon Rush",
          "Anthony Randolph",
          "Robin Lopez",
          "Marreese Speights",
          "Roy Hibbert",
          "JaVale McGee",
          "J.J. Hickson",
          "Alexis Ajinça",
          "Ryan Anderson",
          "Courtney Lee",
          "Kosta Koufos",
          "Serge Ibaka",
          "Nicolas Batum",
          "George Hill",
          "Darrell Arthur",
          "Donté Greene",
          "D.J. White",
          "Nikola Peković",
          "Joey Dorsey",
          "Mario Chalmers",
          "DeAndre Jordan",
          "Ömer Aşık",
          "Luc Mbah a Moute",
          "Sonny Weems",
          "Chris Douglas-Roberts",
          "Goran Dragić",
          "Henry Walker",
          "Darnell Jackson",
          "Blake Griffin",
          "Hasheem Thabeet",
          "James Harden",
          "Tyreke Evans",
          "Ricky Rubio",
          "Jonny Flynn",
          "Stephen Curry",
          "Jordan Hill",
          "DeMar DeRozan",
          "Brandon Jennings",
          "Terrence Williams",
          "Gerald Henderson",
          "Tyler Hansbrough",
          "Earl Clark",
          "Austin Daye",
          "James Johnson",
          "Jrue Holiday",
          "Ty Lawson",
          "Jeff Teague",
          "Eric Maynor",
          "Darren Collison",
          "Omri Casspi",
          "Byron Mullens",
          "Rodrigue Beaubois",
          "Taj Gibson",
          "DeMarre Carroll",
          "Wayne Ellington",
          "Toney Douglas",
          "Jeff Ayres",
          "Dante Cunningham",
          "DaJuan Summers",
          "Sam Young",
          "DeJuan Blair",
          "Jon Brockman",
          "Jonas Jerebko",
          "Derrick Brown",
          "Jodie Meeks",
          "Patrick Beverley",
          "Marcus Thornton",
          "Chase Budinger",
          "Nick Calathes",
          "Danny Green",
          "A.J. Price",
          "Nando De Colo",
          "Patty Mills",
          "John Wall",
          "Evan Turner",
          "Derrick Favors",
          "Wesley Johnson",
          "DeMarcus Cousins",
          "Ekpe Udoh",
          "Greg Monroe",
          "Al-Farouq Aminu",
          "Gordon Hayward",
          "Paul George",
          "Cole Aldrich",
          "Xavier Henry",
          "Ed Davis",
          "Patrick Patterson",
          "Larry Sanders",
          "Luke Babbitt",
          "Kevin Séraphin",
          "Eric Bledsoe",
          "Avery Bradley",
          "James Anderson",
          "Elliot Williams",
          "Trevor Booker",
          "Quincy Pondexter",
          "Jordan Crawford",
          "Greivis Vásquez",
          "Hassan Whiteside",
          "Nemanja Bjelica",
          "Landry Fields",
          "Lance Stephenson",
          "Jeremy Evans",
          "Kyrie Irving",
          "Derrick Williams",
          "Enes Freedom",
          "Tristan Thompson",
          "Jonas Valančiūnas",
          "Jan Veselý",
          "Bismack Biyombo",
          "Brandon Knight",
          "Kemba Walker",
          "Jimmer Fredette",
          "Klay Thompson",
          "Alec Burks",
          "Markieff Morris",
          "Marcus Morris",
          "Kawhi Leonard",
          "Nikola Vučević",
          "Iman Shumpert",
          "Chris Singleton",
          "Tobias Harris",
          "Donatas Motiejūnas",
          "Nolan Smith",
          "Kenneth Faried",
          "Nikola Mirotić",
          "Reggie Jackson",
          "MarShon Brooks",
          "Jordan Hamilton",
          "Norris Cole",
          "Cory Joseph",
          "Jimmy Butler",
          "Bojan Bogdanović",
          "Kyle Singler",
          "Shelvin Mack",
          "Chandler Parsons",
          "Jeremy Tyler",
          "Jon Leuer",
          "Darius Morris",
          "Dāvis Bertāns",
          "Charles Jenkins",
          "Lavoy Allen",
          "DeAndre Liggins",
          "E'Twaun Moore",
          "Isaiah Thomas",
          "Anthony Davis",
          "Michael Kidd-Gilchrist",
          "Bradley Beal",
          "Dion Waiters",
          "Thomas Robinson",
          "Damian Lillard",
          "Harrison Barnes",
          "Terrence Ross",
          "Andre Drummond",
          "Austin Rivers",
          "Meyers Leonard",
          "Jeremy Lamb",
          "Kendall Marshall",
          "John Henson",
          "Maurice Harkless",
          "Tyler Zeller",
          "Terrence Jones",
          "Andrew Nicholson",
          "Evan Fournier",
          "Jared Sullinger",
          "John Jenkins",
          "Jared Cunningham",
          "Tony Wroten",
          "Miles Plumlee",
          "Perry Jones",
          "Marquis Teague",
          "Festus Ezeli",
          "Jeff Taylor",
          "Tomáš Satoranský",
          "Bernard James",
          "Jae Crowder",
          "Draymond Green",
          "Orlando Johnson",
          "Quincy Acy",
          "Khris Middleton",
          "Will Barton",
          "Doron Lamb",
          "Mike Scott",
          "Justin Hamilton",
          "Darius Miller",
          "Kyle O'Quinn",
          "Robbie Hummel",
          "Robert Sacre",
          "Anthony Bennett",
          "Victor Oladipo",
          "Otto Porter Jr.",
          "Cody Zeller",
          "Alex Len",
          "Nerlens Noel",
          "Ben McLemore",
          "Kentavious Caldwell-Pope",
          "Trey Burke",
          "CJ McCollum",
          "Michael Carter-Williams",
          "Steven Adams",
          "Kelly Olynyk",
          "Shabazz Muhammad",
          "Giannis Antetokounmpo",
          "Lucas Nogueira",
          "Dennis Schröder",
          "Shane Larkin",
          "Sergey Karasev",
          "Tony Snell",
          "Gorgui Dieng",
          "Mason Plumlee",
          "Solomon Hill",
          "Tim Hardaway Jr.",
          "Reggie Bullock",
          "Andre Roberson",
          "Rudy Gobert",
          "Archie Goodwin",
          "Allen Crabbe",
          "Álex Abrines",
          "Isaiah Canaan",
          "Ray McCallum",
          "Nate Wolters",
          "Jeff Withey",
          "Mike Muscala",
          "Raul Neto",
          "Ryan Kelly",
          "James Ennis III",
          "Lorenzo Brown",
          "Joffrey Lauvergne",
          "Andrew Wiggins",
          "Jabari Parker",
          "Joel Embiid",
          "Aaron Gordon",
          "Dante Exum",
          "Marcus Smart",
          "Julius Randle",
          "Nik Stauskas",
          "Noah Vonleh",
          "Elfrid Payton",
          "Doug McDermott",
          "Dario Šarić",
          "Zach LaVine",
          "T.J. Warren",
          "Adreian Payne",
          "Jusuf Nurkić",
          "James Young",
          "Tyler Ennis",
          "Gary Harris",
          "Bruno Caboclo",
          "Rodney Hood",
          "Shabazz Napier",
          "Clint Capela",
          "P.J. Hairston",
          "Bogdan Bogdanović",
          "Kyle Anderson",
          "K.J. McDaniels",
          "Joe Harris",
          "Johnny O'Bryant",
          "Spencer Dinwiddie",
          "Jerami Grant",
          "Glenn Robinson III",
          "Nikola Jokić",
          "Markel Brown",
          "Dwight Powell",
          "Jordan Clarkson",
          "Thanasis Antetokounmpo",
          "Jordan McRae",
          "Karl-Anthony Towns",
          "D'Angelo Russell",
          "Jahlil Okafor",
          "Kristaps Porziņģis",
          "Mario Hezonja",
          "Willie Cauley-Stein",
          "Emmanuel Mudiay",
          "Stanley Johnson",
          "Frank Kaminsky",
          "Justise Winslow",
          "Myles Turner",
          "Trey Lyles",
          "Devin Booker",
          "Cameron Payne",
          "Kelly Oubre Jr.",
          "Terry Rozier",
          "Rashad Vaughn",
          "Sam Dekker",
          "Jerian Grant",
          "Delon Wright",
          "Justin Anderson",
          "Bobby Portis",
          "Rondae Hollis-Jefferson",
          "Tyus Jones",
          "Jarell Martin",
          "Larry Nance Jr.",
          "Kevon Looney",
          "Cedi Osman",
          "Montrezl Harrell",
          "Willy Hernangómez",
          "Richaun Holmes",
          "Darrun Hilliard",
          "Josh Richardson",
          "Pat Connaughton",
          "Joe Young",
          "Andrew Harrison",
          "Norman Powell",
          "Ben Simmons",
          "Brandon Ingram",
          "Jaylen Brown",
          "Dragan Bender",
          "Kris Dunn",
          "Buddy Hield",
          "Jamal Murray",
          "Marquese Chriss",
          "Jakob Poeltl",
          "Thon Maker",
          "Domantas Sabonis",
          "Taurean Prince",
          "Denzel Valentine",
          "Juancho Hernangómez",
          "Henry Ellenson",
          "Malik Beasley",
          "Caris LeVert",
          "DeAndre' Bembry",
          "Ante Žižić",
          "Timothé Luwawu-Cabarrot",
          "Furkan Korkmaz",
          "Pascal Siakam",
          "Skal Labissière",
          "Dejounte Murray",
          "Damian Jones",
          "Deyonta Davis",
          "Ivica Zubac",
          "Cheick Diallo",
          "Tyler Ulis",
          "Malcolm Brogdon",
          "Patrick McCaw",
          "Isaiah Whitehead",
          "Jake Layman",
          "Paul Zipser",
          "Georges Niang",
          "Abdel Nader",
          "Tyrone Wallace",
          "Markelle Fultz",
          "Lonzo Ball",
          "Jayson Tatum",
          "Josh Jackson",
          "De'Aaron Fox",
          "Jonathan Isaac",
          "Lauri Markkanen",
          "Frank Ntilikina",
          "Dennis Smith Jr.",
          "Zach Collins",
          "Malik Monk",
          "Luke Kennard",
          "Donovan Mitchell",
          "Bam Adebayo",
          "Justin Jackson",
          "D.J. Wilson",
          "T.J. Leaf",
          "John Collins",
          "Harry Giles",
          "Terrance Ferguson",
          "Jarrett Allen",
          "OG Anunoby",
          "Kyle Kuzma",
          "Tony Bradley",
          "Derrick White",
          "Josh Hart",
          "Frank Jackson",
          "Davon Reed",
          "Wes Iwundu",
          "Frank Mason III",
          "Ivan Rabb",
          "Semi Ojeleye",
          "Jordan Bell",
          "Dwayne Bacon",
          "Tyler Dorsey",
          "Thomas Bryant",
          "Isaiah Hartenstein",
          "Damyean Dotson",
          "Dillon Brooks",
          "Sterling Brown",
          "Sindarius Thornwell",
          "Vlatko Čančar",
          "Monte Morris",
          "Edmond Sumner",
          "Deandre Ayton",
          "Marvin Bagley III",
          "Luka Dončić",
          "Jaren Jackson Jr.",
          "Trae Young",
          "Mo Bamba",
          "Wendell Carter Jr.",
          "Collin Sexton",
          "Kevin Knox",
          "Mikal Bridges",
          "Shai Gilgeous-Alexander",
          "Miles Bridges",
          "Jerome Robinson",
          "Michael Porter Jr.",
          "Troy Brown Jr.",
          "Donte DiVincenzo",
          "Lonnie Walker IV",
          "Kevin Huerter",
          "Josh Okogie",
          "Grayson Allen",
          "Chandler Hutchison",
          "Aaron Holiday",
          "Anfernee Simons",
          "Moritz Wagner",
          "Landry Shamet",
          "Robert Williams",
          "Omari Spellman",
          "Elie Okobo",
          "Jevon Carter",
          "Jalen Brunson",
          "Devonte' Graham",
          "Mitchell Robinson",
          "Gary Trent Jr.",
          "Isaac Bonga",
          "Rodions Kurucs",
          "Jarred Vanderbilt",
          "Bruce Brown",
          "Hamidou Diallo",
          "De'Anthony Melton",
          "Svi Mykhailiuk",
          "Keita Bates-Diop",
          "Chimezie Metu",
          "Shake Milton",
          "Zion Williamson",
          "Ja Morant",
          "RJ Barrett",
          "De'Andre Hunter",
          "Darius Garland",
          "Jarrett Culver",
          "Coby White",
          "Jaxson Hayes",
          "Rui Hachimura",
          "Cam Reddish",
          "Cameron Johnson",
          "P.J. Washington",
          "Tyler Herro",
          "Romeo Langford",
          "Sekou Doumbouya",
          "Chuma Okeke",
          "Nickeil Alexander-Walker",
          "Goga Bitadze",
          "Matisse Thybulle",
          "Brandon Clarke",
          "Grant Williams",
          "Darius Bazley",
          "Ty Jerome",
          "Nassir Little",
          "Dylan Windler",
          "Jordan Poole",
          "Keldon Johnson",
          "Kevin Porter Jr.",
          "Nic Claxton",
          "KZ Okpala",
          "Bruno Fernando",
          "Cody Martin",
          "Daniel Gafford",
          "Eric Paschall",
          "Admiral Schofield",
          "Jaylen Nowell",
          "Bol Bol",
          "Isaiah Roby",
          "Talen Horton-Tucker",
          "Terance Mann",
          "Jalen McDaniels",
          "Anthony Edwards",
          "James Wiseman",
          "LaMelo Ball",
          "Patrick Williams",
          "Isaac Okoro",
          "Onyeka Okongwu",
          "Killian Hayes",
          "Obi Toppin",
          "Deni Avdija",
          "Jalen Smith",
          "Devin Vassell",
          "Tyrese Haliburton",
          "Kira Lewis Jr.",
          "Aaron Nesmith",
          "Cole Anthony",
          "Isaiah Stewart",
          "Aleksej Pokusevski",
          "Josh Green",
          "Saddiq Bey",
          "Precious Achiuwa",
          "Tyrese Maxey",
          "Zeke Nnaji",
          "R.J. Hampton",
          "Immanuel Quickley",
          "Payton Pritchard",
          "Jaden McDaniels",
          "Malachi Flynn",
          "Desmond Bane",
          "Théo Maledon",
          "Xavier Tillman Sr.",
          "Saben Lee",
          "Tre Jones",
          "Nick Richards",
          "Jordan Nwora",
          "CJ Elleby",
          "Isaiah Joe",
          "Kenyon Martin Jr.",
          "Paul Reed",
          "Jalen Green",
          "Evan Mobley",
          "Scottie Barnes",
          "Jalen Suggs",
          "Josh Giddey",
          "Jonathan Kuminga",
          "Franz Wagner",
          "Davion Mitchell",
          "Ziaire Williams",
          "Chris Duarte",
          "Moses Moody",
          "Corey Kispert",
          "Alperen Şengün",
          "Trey Murphy III",
          "Tre Mann",
          "Jalen Johnson",
          "Isaiah Jackson",
          "Usman Garuba",
          "Josh Christopher",
          "Quentin Grimes",
          "Bones Hyland",
          "Cam Thomas",
          "Santi Aldama",
          "Jeremiah Robinson-Earl",
          "Herbert Jones",
          "Miles McBride",
          "JT Thor",
          "Ayo Dosunmu",
          "Kessler Edwards",
          "Dalano Banton",
          "Sandro Mamukelashvili",
          "Aaron Wiggins",
          "Jericho Sims",
          "Tari Eason"
         ],
         "legendgroup": "",
         "marker": {
          "color": "#636efa",
          "size": 12,
          "symbol": "circle"
         },
         "mode": "markers",
         "name": "",
         "orientation": "v",
         "showlegend": false,
         "type": "scatter",
         "x": [
          1,
          2,
          3,
          4,
          5,
          6,
          7,
          8,
          9,
          10,
          11,
          12,
          13,
          14,
          15,
          16,
          17,
          18,
          19,
          20,
          22,
          24,
          25,
          26,
          27,
          29,
          30,
          31,
          33,
          37,
          42,
          44,
          48,
          49,
          52,
          54,
          56,
          1,
          2,
          3,
          4,
          5,
          6,
          7,
          8,
          9,
          10,
          11,
          12,
          13,
          14,
          15,
          16,
          18,
          19,
          21,
          23,
          25,
          26,
          27,
          38,
          40,
          43,
          45,
          47,
          48,
          49,
          51,
          55,
          1,
          2,
          3,
          4,
          5,
          6,
          7,
          8,
          9,
          10,
          11,
          12,
          13,
          14,
          15,
          16,
          17,
          19,
          20,
          21,
          22,
          23,
          24,
          25,
          27,
          28,
          29,
          30,
          31,
          32,
          33,
          34,
          35,
          36,
          39,
          41,
          43,
          44,
          52,
          53,
          54,
          55,
          58,
          1,
          2,
          3,
          4,
          5,
          6,
          7,
          8,
          9,
          10,
          11,
          13,
          14,
          16,
          17,
          18,
          19,
          20,
          21,
          22,
          23,
          24,
          26,
          27,
          28,
          32,
          34,
          35,
          36,
          37,
          38,
          40,
          41,
          43,
          47,
          53,
          57,
          1,
          2,
          3,
          4,
          5,
          6,
          7,
          8,
          9,
          10,
          11,
          12,
          13,
          14,
          15,
          16,
          17,
          18,
          19,
          20,
          21,
          22,
          23,
          24,
          25,
          27,
          29,
          30,
          31,
          33,
          37,
          38,
          40,
          42,
          43,
          44,
          45,
          49,
          1,
          2,
          3,
          4,
          5,
          6,
          7,
          8,
          9,
          10,
          11,
          12,
          13,
          14,
          15,
          17,
          18,
          19,
          20,
          22,
          23,
          24,
          25,
          26,
          27,
          28,
          30,
          31,
          33,
          34,
          35,
          38,
          40,
          42,
          46,
          53,
          1,
          3,
          4,
          5,
          6,
          7,
          8,
          9,
          10,
          11,
          12,
          13,
          14,
          15,
          16,
          17,
          18,
          19,
          20,
          21,
          22,
          23,
          24,
          25,
          26,
          28,
          31,
          34,
          35,
          37,
          40,
          42,
          44,
          46,
          50,
          53,
          56,
          1,
          2,
          3,
          4,
          5,
          6,
          7,
          8,
          9,
          10,
          11,
          12,
          13,
          14,
          17,
          18,
          19,
          20,
          21,
          22,
          23,
          24,
          25,
          27,
          28,
          29,
          31,
          32,
          38,
          41,
          42,
          43,
          45,
          47,
          49,
          51,
          1,
          2,
          3,
          4,
          5,
          6,
          7,
          8,
          9,
          11,
          12,
          13,
          14,
          15,
          16,
          17,
          18,
          19,
          20,
          22,
          24,
          25,
          26,
          27,
          28,
          29,
          30,
          31,
          37,
          38,
          40,
          43,
          45,
          1,
          2,
          3,
          4,
          5,
          6,
          7,
          8,
          9,
          10,
          13,
          14,
          15,
          16,
          17,
          18,
          19,
          21,
          22,
          23,
          24,
          25,
          26,
          27,
          28,
          30,
          31,
          32,
          33,
          34,
          36,
          37,
          38,
          39,
          40,
          41,
          45,
          48,
          49,
          50,
          53,
          55,
          56,
          57,
          1,
          2,
          3,
          4,
          5,
          6,
          7,
          8,
          9,
          11,
          12,
          13,
          14,
          16,
          17,
          18,
          19,
          20,
          21,
          22,
          23,
          24,
          25,
          26,
          27,
          28,
          29,
          30,
          32,
          33,
          34,
          35,
          36,
          37,
          42,
          45,
          47,
          49,
          50,
          1,
          2,
          3,
          4,
          5,
          6,
          7,
          8,
          9,
          10,
          11,
          12,
          13,
          14,
          15,
          16,
          17,
          18,
          19,
          20,
          21,
          22,
          23,
          24,
          26,
          27,
          28,
          31,
          35,
          37,
          38,
          47,
          48,
          49,
          56,
          1,
          2,
          3,
          4,
          5,
          6,
          7,
          9,
          10,
          11,
          12,
          13,
          14,
          15,
          16,
          17,
          18,
          19,
          20,
          21,
          22,
          23,
          24,
          25,
          26,
          27,
          28,
          29,
          31,
          33,
          34,
          35,
          36,
          37,
          39,
          40,
          45,
          47,
          52,
          1,
          2,
          3,
          4,
          5,
          6,
          7,
          8,
          9,
          10,
          11,
          12,
          13,
          14,
          15,
          16,
          17,
          18,
          19,
          20,
          21,
          23,
          24,
          25,
          26,
          27,
          28,
          29,
          31,
          33,
          35,
          36,
          37,
          38,
          39,
          40,
          41,
          42,
          43,
          44,
          45,
          46,
          52,
          53,
          55,
          1,
          2,
          3,
          4,
          5,
          6,
          7,
          8,
          9,
          10,
          11,
          12,
          13,
          14,
          15,
          16,
          17,
          18,
          19,
          20,
          22,
          23,
          26,
          27,
          28,
          33,
          35,
          39,
          40,
          55,
          1,
          2,
          3,
          4,
          5,
          6,
          7,
          8,
          9,
          10,
          11,
          12,
          13,
          14,
          15,
          16,
          17,
          18,
          19,
          20,
          21,
          22,
          23,
          24,
          25,
          26,
          28,
          29,
          30,
          31,
          33,
          34,
          38,
          39,
          40,
          41,
          42,
          44,
          50,
          53,
          55,
          60,
          1,
          2,
          3,
          4,
          5,
          6,
          7,
          8,
          9,
          10,
          11,
          12,
          13,
          14,
          15,
          17,
          18,
          19,
          20,
          21,
          23,
          24,
          25,
          26,
          28,
          29,
          30,
          31,
          32,
          33,
          34,
          35,
          36,
          37,
          39,
          40,
          42,
          43,
          45,
          46,
          49,
          58,
          60,
          1,
          2,
          3,
          4,
          5,
          6,
          7,
          8,
          9,
          10,
          11,
          12,
          13,
          14,
          15,
          16,
          17,
          18,
          19,
          20,
          21,
          22,
          23,
          24,
          25,
          26,
          27,
          29,
          31,
          32,
          34,
          36,
          38,
          39,
          44,
          47,
          48,
          50,
          52,
          55,
          1,
          2,
          3,
          4,
          5,
          6,
          7,
          8,
          9,
          10,
          11,
          12,
          13,
          14,
          15,
          16,
          17,
          18,
          19,
          20,
          23,
          24,
          25,
          26,
          27,
          30,
          32,
          33,
          36,
          38,
          39,
          40,
          41,
          44,
          45,
          46,
          51,
          58,
          1,
          2,
          3,
          4,
          5,
          6,
          7,
          8,
          9,
          10,
          11,
          12,
          13,
          14,
          15,
          16,
          17,
          18,
          19,
          20,
          21,
          22,
          23,
          24,
          25,
          27,
          30,
          31,
          32,
          35,
          37,
          38,
          40,
          41,
          43,
          44,
          46,
          1,
          2,
          3,
          4,
          5,
          6,
          7,
          8,
          9,
          10,
          11,
          12,
          14,
          15,
          18,
          19,
          20,
          21,
          23,
          24,
          26,
          27,
          28,
          29,
          30,
          31,
          32,
          33,
          34,
          36,
          38,
          42,
          47,
          48,
          50,
          58,
          60,
          1,
          2,
          3,
          4,
          5,
          6,
          7,
          8,
          9,
          10,
          11,
          12,
          13,
          14,
          15,
          17,
          18,
          19,
          20,
          21,
          22,
          23,
          27,
          28,
          29,
          30,
          31,
          32,
          33,
          34,
          35,
          37,
          38,
          40,
          41,
          42,
          43,
          44,
          45,
          46,
          48,
          49,
          51,
          52,
          1,
          2,
          3,
          4,
          5,
          6,
          7,
          8,
          9,
          10,
          11,
          12,
          13,
          14,
          15,
          17,
          18,
          19,
          20,
          21,
          22,
          23,
          24,
          25,
          26,
          27,
          30,
          31,
          32,
          33,
          34,
          36,
          37,
          39,
          40,
          41,
          42,
          45,
          46,
          47,
          48,
          49,
          54,
          1,
          2,
          3,
          4,
          5,
          6,
          7,
          8,
          9,
          10,
          11,
          12,
          13,
          14,
          15,
          16,
          17,
          18,
          20,
          21,
          22,
          23,
          24,
          25,
          26,
          28,
          29,
          30,
          31,
          32,
          34,
          36,
          38,
          41,
          42,
          43,
          44,
          45,
          46,
          48,
          52,
          1,
          2,
          3,
          4,
          5,
          6,
          7,
          8,
          9,
          10,
          11,
          12,
          13,
          14,
          15,
          16,
          17,
          18,
          19,
          20,
          21,
          22,
          24,
          25,
          26,
          28,
          29,
          30,
          34,
          35,
          38,
          41,
          42,
          45,
          46,
          49,
          52,
          58,
          2,
          3,
          4,
          5,
          6,
          7,
          8,
          9,
          10,
          13,
          14,
          15,
          16,
          17,
          18,
          20,
          22,
          23,
          24,
          25,
          26,
          27,
          30,
          32,
          35,
          36,
          37,
          38,
          44,
          46,
          54,
          55,
          58,
          17
         ],
         "xaxis": "x",
         "y": [
          -4.241678210774381,
          -4.641551438202882,
          -1.1754646785279732,
          -2.037656997635125,
          -2.908090323521378,
          -2.045190728709443,
          -4.493890862657935,
          -5.3937675197921635,
          -4.727794694748326,
          -3.8312996919693063,
          -4.975537332355103,
          -1.003957011234803,
          -1.9885311558486762,
          -3.60988181449909,
          -1.7891439885608378,
          -4.201622628003321,
          -1.4684607660321092,
          -2.5937914259975514,
          -5.873651230841773,
          -3.745748111037557,
          2.884214960459886,
          -5.445551421474065,
          -1.546188781392999,
          -2.731460413949705,
          -5.561675738060927,
          -7.091645939446096,
          -96.32749806543224,
          -3.6655226853047083,
          -2.2837669246482903,
          4.000303766323924,
          -8.61147427070506,
          -7.892982562182041,
          -0.42322268095125537,
          -7.147899378689019,
          -5.844805497374054,
          -7.8636293639559085,
          -16.728273122282786,
          -9.495455657390252,
          -4.801206829417865,
          -4.031830814211645,
          -3.415697208449103,
          -6.665843011693411,
          -5.396227081411524,
          -3.2223485086009873,
          -4.550217331567808,
          -3.7014419480484264,
          -0.38510230779317567,
          -3.6982360140876693,
          -2.322652749934761,
          -5.61985165984126,
          -2.688406326769183,
          -8.171847737210982,
          -4.771868157256648,
          -5.652643343701385,
          -8.604924851275157,
          -0.08684516298910694,
          -5.476636043853105,
          -6.053927428288262,
          -89.00342096773237,
          -4.496421543599624,
          -0.15429620943228883,
          -6.329465558168863,
          -5.237490314205857,
          -8.150390229886142,
          -1.3585677197012416,
          -3.2410941929564387,
          -2.8085834630005166,
          -3.831611418011562,
          -6.260498883195467,
          -4.17798324359714,
          -2.588344213772629,
          -2.6277825111372692,
          -0.563816601572185,
          -3.9811123871164398,
          -6.2145743670533165,
          -3.5976177166242422,
          -2.3952507436539747,
          -3.3522043272543556,
          -4.9766940630223075,
          -4.853497851249614,
          -1.5190225012227927,
          -6.63425134661432,
          -2.2161640824048447,
          -4.528884135971296,
          -6.049097238189447,
          -1.9881402229554084,
          -2.9697469856625105,
          -5.015624973066366,
          0.38071501567662835,
          -0.9281385739235049,
          0.044348248589557215,
          -2.3257921981003875,
          -0.15027730674823658,
          -8.501588592091437,
          -2.94079717226856,
          -3.400947410527351,
          -98.4861444899183,
          -3.048960092381705,
          0.8053102002864421,
          -0.5577772962991219,
          -3.210403104425609,
          -5.5920010821262025,
          -5.568950690590327,
          -7.394564949329805,
          -3.3736222953667863,
          -4.221201911989311,
          -3.9452099540211805,
          -11.328744601470973,
          -5.531977787793139,
          -14.641800232341097,
          -12.10504319669083,
          -8.908187474081629,
          -2.9576509184553714,
          -4.01853502990096,
          -3.598121052526963,
          -5.077302092505292,
          -7.208525438025177,
          -3.850863111450778,
          -5.073223849882609,
          -2.1278713544505052,
          -3.4528743511966695,
          -2.9033260344211698,
          -8.029830516295334,
          -0.7570512548118131,
          -5.2133206064548006,
          -4.547050006520067,
          -0.22891408933494972,
          -2.369347346090862,
          -8.331231809288425,
          -3.0524890992478078,
          -6.0002113159874,
          -1.7503029643299044,
          -4.856297559673564,
          -2.8700147596136816,
          1.8037274504146978,
          -1.9384085968095235,
          -7.081080785713937,
          -0.9999625922972228,
          -6.967420701207928,
          -4.475880863546962,
          -3.6246698114156715,
          1.9322712779789413,
          -1.5113504729981884,
          -3.6529106112373597,
          -5.979279670630561,
          -5.552785803030744,
          -12.148124463405964,
          -4.159407230966309,
          -13.59331644291376,
          -5.5101478406909195,
          -4.703639704388067,
          -4.903384069094727,
          -2.4841378928718285,
          -2.041330633598875,
          -5.416489785976552,
          -3.404860533184575,
          0.48459033088613523,
          -2.426050084970015,
          -4.682774635465506,
          -13.55832660438574,
          2.908498397799633,
          -2.502673276292711,
          -6.4003240643277906,
          0.1806084697151249,
          -3.9385751369061666,
          3.3192492296145275,
          -0.011947920803507373,
          -4.676409389754568,
          -4.391219801109386,
          -0.44191443304839595,
          -6.299260204218754,
          -0.4057420041180251,
          -5.657962986517205,
          -5.917211921572772,
          -1.2088205609023532,
          -5.6360263206127,
          -93.39578531501652,
          -6.826926194076634,
          -1.9126832792051118,
          0.02647400690969448,
          -1.6110381412803747,
          -3.6540077214524302,
          -12.738440741386768,
          -1.686914048923711,
          -6.265452135561986,
          -7.982498491994406,
          -8.003584412387653,
          -3.1883269009282884,
          -3.7525089283683855,
          -2.762390718741031,
          -0.4356726623773426,
          -0.6046819221211308,
          -5.394722570247339,
          -4.482187417249122,
          -5.563635622592557,
          -8.540016115220453,
          -1.386071553895576,
          -7.015674084491863,
          2.0849001189117757,
          -3.524608824432377,
          -0.36935144167186706,
          -3.378946166046461,
          1.6850157323698625,
          -7.106823725531541,
          0.045626241702308334,
          -2.4024590872429883,
          -2.751943131048023,
          -5.56592718930321,
          -7.6765936339322,
          -1.93517742828827,
          1.1806997838652649,
          -2.7730138747781297,
          -4.19249995864628,
          -91.49262588083141,
          -0.7214914114679374,
          -0.014934486934578217,
          -0.7088557884322597,
          -7.381680569305701,
          0.47223522626576653,
          -4.749351978929084,
          -2.9090069880986533,
          -2.005423304648687,
          -8.384149730565198,
          -7.1401289226094775,
          -3.862182584635164,
          -1.2308673396766068,
          -8.344043811893457,
          -1.6493329785708113,
          -6.289484053648522,
          -1.258637053329025,
          -0.3814794505057648,
          -0.811115619112968,
          -2.1656924286278354,
          -0.510149360961563,
          -6.542593963668779,
          -3.487945565511481,
          -5.305872822197898,
          -2.750819968567157,
          3.0307706244523587,
          -0.7415667793795819,
          -11.440821154460451,
          -1.18623728060129,
          -1.260565738033364,
          -6.6805145596194535,
          -3.2412139805192055,
          -3.133129422894527,
          -6.721279843315116,
          1.4908193344157183,
          0.01335969047653407,
          -2.746810363960819,
          -1.693627743164484,
          -1.1546027081424768,
          1.882104939463062,
          3.882766472095952,
          -2.920463659847371,
          -8.937909900344323,
          1.0422949220016307,
          -7.063118074014881,
          -5.548601082742508,
          -4.640206280605369,
          -2.377361005736475,
          -4.25596825639667,
          0.34314308586291986,
          -3.301318811744892,
          -3.090479317828752,
          -2.137959885644321,
          -5.7947455672620976,
          -2.9238553806492575,
          -6.094246929883596,
          -1.5730871917616724,
          -3.0760248647708295,
          0.6928147416025325,
          -3.8736671910999974,
          0.23768906603798712,
          2.49067276512514,
          -2.688872831440804,
          -3.893828727860182,
          -1.7148648187663724,
          -2.3806132370203272,
          -9.36258914291355,
          0.6716695714446956,
          -2.6367853393113023,
          -1.1859787103395547,
          -3.7720764200728496,
          0.7332028277314464,
          -1.3075834610439898,
          -3.2117984927013765,
          -1.475016554677751,
          1.0156610212546866,
          -3.7969583207267874,
          -3.6395248238827946,
          -4.61678451727056,
          -5.471303205799103,
          -4.263246109770833,
          -4.408809234428503,
          -4.464169138069295,
          -2.273113356318561,
          -2.928678879107295,
          -1.550665157864671,
          -4.063016503139465,
          -2.5259532676838035,
          1.875887392397317,
          -4.877566955202923,
          -3.1134530731246457,
          -3.959996887174327,
          0.42205698289038196,
          8.3626561373202,
          -0.0029653079990055176,
          -1.9318787050463584,
          -0.21446119336887648,
          -0.6580824740835851,
          2.9685967024853284,
          1.2455439974020521,
          -0.7591625237950694,
          -0.1389200725483022,
          0.9859555556311506,
          -3.891588717511354,
          -4.915587841046261,
          4.543568814095849,
          -0.34354945140167104,
          -0.6743924154199874,
          -5.991466244926784,
          -95.05308857443939,
          -6.7970411366053725,
          2.954559355754782,
          -1.1315814961005088,
          -4.864292351433448,
          -3.4499042568523635,
          -6.2223133068092125,
          -5.303278994305359,
          -1.2718025464847074,
          -0.6725702606196506,
          -2.261937554261735,
          -1.9259451123988072,
          -0.185521461998988,
          1.8933171911385358,
          0.14060076245857545,
          -1.9650681029880133,
          -4.0231645087501136,
          -2.2539337804943926,
          -1.348656315488114,
          -1.9561877485380563,
          -0.39460050744752095,
          1.9730663942491589,
          -0.7655514719492373,
          2.246718545830305,
          -0.4052956955939635,
          1.8207971845904325,
          -0.7157146817136351,
          -3.74522856425466,
          1.5897138141901763,
          3.1655657682173057,
          -1.2185912181894025,
          -3.201876555478151,
          -90.49347045897316,
          0.0399527868150642,
          -5.805582813682619,
          1.1044999515190312,
          -1.716705904099456,
          -1.4316850735258129,
          2.547184271961683,
          3.8323739217876636,
          -10.635327989568253,
          -0.3335600585162837,
          -4.1165752837910645,
          -1.4720684270229185,
          -0.9401346727165674,
          -0.37490572434039393,
          -3.1447732292634782,
          -11.172241615300834,
          -7.871675856692178,
          -5.240479791225553,
          -7.67662845241675,
          2.460762210948303,
          -1.7896852519166515,
          -0.82591143449595,
          -4.9666397434803855,
          -2.134591708562894,
          -0.08752167354965934,
          -0.2971148275433535,
          0.1911525281086739,
          -1.9212903252102507,
          -0.7373434789272011,
          -1.029361233107693,
          -5.253164036463289,
          -3.878232788711699,
          -0.555977511253289,
          3.663020960454247,
          3.5063220733285476,
          -0.19901119970931802,
          -2.990958333095193,
          -1.311452678885189,
          0.4715940550627522,
          -0.7866013791180109,
          -0.20344194365030432,
          -0.46326000747380647,
          1.1818741362247067,
          0.95451045312943,
          -3.884412667247034,
          0.9704385169779783,
          -95.91350017641777,
          1.9489822607580294,
          3.5118394570542932,
          -6.704635749828995,
          1.3302993873573712,
          -0.12334579989624217,
          -3.647149301441644,
          -4.51173236404054,
          2.464451399073141,
          -5.666137730335777,
          -7.501562301686889,
          -7.481453162349965,
          -0.47111657693046993,
          -1.629004871573244,
          -2.453037675352377,
          -2.0149117978427142,
          0.9066982943648156,
          0.9021661647758492,
          -1.763037040672998,
          -2.604650208873977,
          -4.401210960130882,
          0.03401252474269256,
          -0.5936200746718896,
          4.057060706348935,
          -2.6030297825315785,
          2.0452395381968955,
          -1.1962768112077669,
          1.3024408276541664,
          1.6710036653684597,
          1.443793265450907,
          2.043738970474479,
          -0.6820268234283873,
          -1.3072522430720568,
          -1.1067861053627155,
          2.1628970491364186,
          -2.5394468165742836,
          3.51282098007853,
          1.430890264718144,
          -5.715213079476527,
          -0.5335538743885166,
          -4.9325328590392985,
          2.3410165742530893,
          -8.191350472998181,
          -2.9195101398541823,
          -1.1285328305400242,
          -2.3589884220521355,
          -1.4840754463646988,
          -0.36218953830385203,
          -0.25023060324521396,
          -1.3064648767614813,
          -0.8388686355829549,
          0.9913627657235082,
          1.3197324220479913,
          1.6000614066552714,
          -0.07494241992792183,
          0.33363976408843143,
          0.5928714655212843,
          5.795454720671074,
          1.5109625314607342,
          -0.010503705046360778,
          -0.0611961660464857,
          -1.977674420572768,
          1.6659074076226261,
          2.4660237216744605,
          2.1912365675047454,
          -2.9277334632050014,
          0.730792685335615,
          0.4758635514577634,
          -2.420246377295854,
          -1.1751154978281022,
          2.909760696275967,
          -0.08560829937249537,
          -1.7212204306894705,
          1.406563906550332,
          0.08979669503179366,
          -0.6132730575452712,
          -1.4916234501452692,
          -3.5396429234301507,
          1.521378047739688,
          -5.865119545635437,
          0.2758654196862693,
          0.6045408628907865,
          -3.138855149525668,
          -1.034628317380026,
          -7.343937460457724,
          -0.003046474924474296,
          -0.14444991026380194,
          -4.292518164821573,
          -0.11997913635930502,
          0.09750669603918993,
          -1.165548776243412,
          5.7937666700086226,
          -2.3407188826405587,
          0.4756465029602168,
          2.495464713048193,
          -1.0851719228627985,
          0.5351554781024248,
          3.01152789760539,
          -3.674319785363622,
          -1.650350448341385,
          -1.2313753469338593,
          0.41766141588946937,
          4.25075665033485,
          1.739359466438529,
          0.1185991560366233,
          -3.1100103099792733,
          1.7542880985971863,
          -0.4616943850703876,
          5.647300171377523,
          -3.8330483074091433,
          1.1050222843728505,
          -0.06675070922585746,
          2.0658185649354124,
          0.9172961432772269,
          -2.2686983459753662,
          2.1629919344701136,
          -1.9313585118450902,
          -3.414911068414469,
          2.303949599657244,
          -2.418683806331515,
          -4.431359485631248,
          -3.7020288495414633,
          -1.166687692390866,
          -1.114048639988738,
          -1.336490589293092,
          -2.6289403247080827,
          -12.209328810685179,
          -1.7235376223847538,
          -6.081249040308464,
          -4.8035906434617175,
          -4.951030307373841,
          -0.8992670148490873,
          -2.9212573998773195,
          -2.347813313574477,
          -0.8571465689588962,
          0.5641757315245002,
          -4.448599766596686,
          0.14518846275375097,
          -1.1988025150900654,
          0.14887407388272322,
          -3.008630337140886,
          -1.7242059655901016,
          1.6838542426420275,
          -1.3152853017123078,
          -1.4806010624872386,
          -7.7535280988195865,
          0.5370438460268758,
          1.6840250109880373,
          0.3174582094646752,
          -0.41170350740163997,
          -0.24880543954911616,
          -0.6139033011084507,
          -1.0651405003586234,
          -0.07806885505631556,
          1.657401786187208,
          0.16116850178161712,
          3.7954832787422674,
          1.8394762749636016,
          -3.983327989568238,
          -2.1224681849437417,
          -7.267193098071502,
          2.1131258473119345,
          -1.1925306815105188,
          0.8199582967957895,
          2.2005476074362633,
          1.1170026997344564,
          -4.520764118448554,
          -0.12425030939569126,
          1.8663089265882178,
          0.9018652303453081,
          1.2880417887741515,
          -0.9722275868554107,
          5.703347285981209,
          0.564958096256305,
          1.3786406116841619,
          -4.261116548212087,
          2.586990746649718,
          2.838502121596605,
          -3.626335584329098,
          2.278060700579033,
          -1.4513087864852565,
          -2.8250367959175833,
          3.0661454494193663,
          -2.085130718851559,
          -0.12507336947848557,
          0.16953411017325948,
          2.8655464793341423,
          -0.058084753967889924,
          1.6427411089008217,
          -91.71650226681425,
          2.6257928391560057,
          1.9091544236663225,
          -2.7206284755457375,
          2.3090283148805923,
          -5.066597220337471,
          -3.738718939044631,
          -6.087760667035269,
          -0.2908302276472199,
          -6.642601258368998,
          -10.299319261143921,
          -1.477606690558531,
          -4.62348072348955,
          -1.3936835117070387,
          0.13600463519074424,
          -3.0380799040912905,
          1.4889784175975507,
          -1.2206839615309377,
          0.6445901876607394,
          2.730849328548487,
          0.5550024054725924,
          1.78156984442127,
          1.4043501560353207,
          1.9510600941613063,
          1.5990357670601156,
          4.411385019492172,
          1.5815914295896363,
          -1.4556722443721952,
          0.7924874088327556,
          2.20077904531837,
          2.318669035675512,
          -1.959685963541986,
          2.9162821592556014,
          -2.7987666596102656,
          -1.7386367409601036,
          -5.172937923860559,
          2.344878937759489,
          2.6341105799351254,
          -1.3519037127868643,
          -5.241283094743622,
          -96.86521813512442,
          -2.0829868001372347,
          4.451195333894319,
          -1.5740649217171665,
          -0.9956424547167728,
          -3.5026431225835637,
          -7.82376980432899,
          3.113296780666147,
          -2.9695268199776024,
          0.9098651466173209,
          -5.419311709128706,
          -4.591736518452052,
          2.8332176666421134,
          2.4933409620637406,
          -1.2938367857660182,
          -3.552405161156443,
          -4.0454641754876945,
          4.233475034548533,
          -1.737210625139042,
          -1.5249385113592808,
          -1.0701257515539595,
          1.3358492737940821,
          -1.3214104821570203,
          1.3317855627826845,
          1.563972733265814,
          1.6058314954055533,
          1.9307042540660149,
          0.5325245523143849,
          4.179419666422746,
          0.4964070638079221,
          3.832661762579548,
          -1.3553373343357435,
          -4.493419101423825,
          -98.0290186468108,
          -0.5719225775723515,
          -2.0972298231910855,
          0.8553408214059743,
          3.5839334800909057,
          4.298086532762142,
          0.23644549588199482,
          3.3173153920776883,
          2.75777629767326,
          -0.9832530547168261,
          -2.2026621766892305,
          2.9889666555061183,
          0.5016827298078823,
          2.070202325243997,
          1.4612957499115282,
          1.5370421992014514,
          -1.8475409491886552,
          -6.1752697371410505,
          -2.3947224704902084,
          -6.078483723237923,
          -0.9668450598542933,
          -3.997233915978825,
          -3.4476292806090214,
          -1.3703661749945724,
          3.0275710871115393,
          2.278394853611573,
          -2.453089288643554,
          1.2291322355506225,
          -5.695906650051967,
          -1.4493196102570636,
          4.190668338914733,
          1.703852965426421,
          0.645664862021178,
          2.7023704194795357,
          2.954793180899273,
          -101.80641602762825,
          6.0784607989590285,
          3.4416353323868094,
          3.6076122451684824,
          1.3722779406851373,
          3.6964973265286574,
          -1.337589580260527,
          4.27042827554412,
          -0.8135095074110694,
          1.5089901387391365,
          -1.0753085242746465,
          3.7811759012180346,
          4.814660494011079,
          6.879082078579245,
          -92.21316443559583,
          -2.867814139496602,
          7.643843132452474,
          0.49239161169370504,
          5.666060113554025,
          -0.7668554976588524,
          0.12092436683279573,
          1.8702269270261382,
          3.271912015967274,
          0.14927953816524564,
          7.351034493613284,
          4.8213986478033775,
          -0.7792676134544365,
          4.541786228027121,
          4.313103227674802,
          4.155819649065805,
          2.2239075202011946,
          2.07490967647864,
          1.058180940354319,
          3.5260754289030416,
          0.5565538166864457,
          0.9472353675527501,
          -2.458062138659983,
          1.6015516917603065,
          6.897408064149943,
          5.461921618268889,
          1.1943892613145124,
          2.6957535493235554,
          2.4402649017282414,
          5.324130798698292,
          2.3402470430744273,
          0.9596047363259714,
          1.6331550933533094,
          1.2682138927876565,
          4.083411063794131,
          0.8192579958819692,
          2.347487087265378,
          0.06279497973847015,
          3.87898182648334,
          -88.93188392839052,
          5.64955895443822,
          3.7797180042976635,
          3.5833865147729966,
          8.673806058987381,
          -1.3193358209835537,
          0.5171601102669428,
          -0.924926255979102,
          -3.248138589814772,
          -1.7198426376793634,
          5.323286263595762,
          0.24776880687603864,
          3.6722291112074714,
          -0.4565259448699095,
          2.5269976843537165,
          3.265883459250176,
          5.46417775773422,
          2.0317013374800155,
          6.109413291318063,
          1.4998526620393022,
          1.6059156666278227,
          2.5610465632814083,
          8.05561227425855,
          0.18480879495365343,
          4.344002948997769,
          -7.740361960102476,
          4.114159801950876,
          4.5071197442895965,
          3.477553294172523,
          6.175895164023586,
          2.418641634792152,
          4.32768512273536,
          2.349701806587518,
          5.432215546332401,
          3.7667885290640157,
          -84.31867401747738,
          0.1412981049887776,
          4.238403316491485,
          6.6349633510317005,
          2.5341960858577863,
          1.9686331082923658,
          4.66047532264669,
          -1.9605139563197156,
          -3.6035582230250753,
          1.4228632160941288,
          -4.014618983896995,
          -5.033835753195262,
          -3.714313381836888,
          3.047871206664624,
          1.3864004859720467,
          -1.2999447400039514,
          3.1389277797283057,
          7.189213473946992,
          -0.602585735984448,
          3.3264560333028186,
          -0.18037776122224614,
          2.484635600715663,
          3.469415317438745,
          6.4093757361538195,
          6.543864871248147,
          1.2136919138511502,
          0.36365897437950423,
          2.2460880066153948,
          5.26059970576442,
          0.5903526792769611,
          6.492747042048919,
          6.347630666968527,
          3.746041635454958,
          4.486049593622511,
          0.8888232132732838,
          4.3512721997349075,
          2.7873001001599675,
          1.9151590138723833,
          -86.03782724328381,
          4.372606516203746,
          4.743539427184828,
          2.0857080678942026,
          2.2926529075236175,
          3.967606761011041,
          4.059935515150187,
          5.586206462819618,
          3.294843766781952,
          1.014738624950013,
          6.305199207901865,
          -1.6951212797315662,
          0.4143940467953229,
          0.5051504613067266,
          1.9192469487355623,
          -2.6022898451303575,
          5.031466343308281,
          3.546876468371039,
          4.993123297332247,
          4.256870221749395,
          7.27303815385973,
          5.169708742428597,
          -0.16740837224666905,
          7.724796362031043,
          3.295754400069967,
          2.5082022755663047,
          9.696180723597365,
          5.3805076545877455,
          3.5907928684591326,
          6.336069670145804,
          10.181900123574493,
          2.595817093306451,
          4.908212872493763,
          4.769738177387893,
          4.777075695528083,
          8.163375717882204,
          7.779542910936485,
          4.075438654132029,
          4.946175325294547,
          2.1624305369604997,
          1.5601670867910826,
          8.937043761121117,
          6.399356244560622,
          5.5681954859566645,
          1.9517589180982071,
          -85.24887138589843,
          3.40362936147892,
          3.8384002986257144,
          7.037239426108883,
          5.434112009853081,
          4.319143488915202,
          11.85580145150908,
          -6.0645867308269885,
          -1.302729711110132,
          4.097870232120229,
          3.2008974599257414,
          1.1606714840653183,
          5.259201024510517,
          -0.5288668650003956,
          6.4928188505218145,
          2.2617497441180063,
          -0.2973770231063071,
          3.0722167564028524,
          2.5447658213535362,
          5.331105365485726,
          6.1073543636538545,
          3.2641096764786397,
          2.4817821778477622,
          3.5097936395926013,
          1.989941058043442,
          6.65045570653578,
          7.9595981651442855,
          1.3013515565337883,
          9.889353203140985,
          3.8938021733912933,
          0.9178650892798856,
          4.453387167286863,
          5.02339740042413,
          10.088454639165093,
          3.9941912259035774,
          1.647293060807229,
          2.7327691112553936,
          2.0895880342636275,
          3.7096088730749557,
          3.7160899802947256,
          11.43453411017326,
          2.200921755272333,
          4.39283838721839,
          9.562253993168454,
          -79.93563830319167,
          2.385426747099828,
          3.522161039764285,
          3.235561842020317,
          4.454560074584478,
          8.315829014181304,
          5.416276540482954,
          4.842503105686106,
          2.0124742140195337,
          5.907317440817991,
          5.428183381932499,
          5.518698669722454,
          3.932802747462233,
          6.985556950635456,
          5.897104648779546,
          9.271321120892694,
          6.327217159936993,
          6.007211588097022,
          3.544433486002461,
          5.014046534901425,
          7.3081473305113605,
          0.5608087114775202,
          4.88061743160317,
          5.850595077013779,
          6.131784305071818,
          14.831803867659715,
          1.3236545363857601,
          5.242712669222641,
          6.135606159534916,
          5.973360139823484,
          10.20476800322038,
          2.4698790037529648,
          8.74613492054597,
          4.79093493703337,
          5.066970006803501,
          4.488444243413966,
          9.42199152940222,
          1.5470901639849188,
          5.740606439957006,
          7.00434711186017,
          6.923613120152581,
          -88.12517154222985,
          7.977452664805156,
          1.6474979544826596,
          6.559255587607879,
          6.846852708095341,
          4.6461093435028715,
          5.692946433450544,
          10.275284940594446,
          1.6631823196396311,
          11.894118292206514,
          -0.6462827121768697,
          11.165302139873717,
          0.9552451879650334,
          2.7037055499201585,
          2.524117597270717,
          5.536985169300735,
          2.8122140666948923,
          4.104129841675572,
          4.955663079807678,
          3.5678774901866177,
          6.396220142460919,
          3.8042789036493048,
          7.349482641900551,
          12.7822792630283,
          8.91475787150813,
          5.200696762978836,
          4.29845736629494,
          10.136305205980804,
          8.649561026185012,
          11.83135814239202,
          6.217440093079247,
          12.031655088605646,
          8.419570308744909,
          -87.8939607147251,
          8.51126929176074,
          4.807998917873789,
          -1.3230976609384015,
          7.686302540833708,
          8.72376629982557,
          8.165970170202414,
          3.5383710649963547,
          7.0450582974786045,
          2.346140235261828,
          -0.2508910071077253,
          11.713339431791837
         ],
         "yaxis": "y"
        },
        {
         "customdata": [
          [
           "Delon Wright",
           106.93904555314533,
           676
          ]
         ],
         "hovertemplate": "<b>%{hovertext}</b><br><br>Pk=%{x}<br>DEF_RATING_diff=%{y}<br>DEF_RATING=%{customdata[1]}<br>DEF_RATING_rank=%{customdata[2]}<extra></extra>",
         "hovertext": [
          "Delon Wright"
         ],
         "legendgroup": "",
         "marker": {
          "color": "red",
          "size": 12,
          "symbol": "circle"
         },
         "mode": "markers",
         "name": "",
         "orientation": "v",
         "showlegend": false,
         "type": "scatter",
         "x": [
          20
         ],
         "xaxis": "x",
         "y": [
          1.6331550933533094
         ],
         "yaxis": "y"
        }
       ],
       "layout": {
        "legend": {
         "tracegroupgap": 0
        },
        "margin": {
         "t": 60
        },
        "template": {
         "data": {
          "bar": [
           {
            "error_x": {
             "color": "#2a3f5f"
            },
            "error_y": {
             "color": "#2a3f5f"
            },
            "marker": {
             "line": {
              "color": "#E5ECF6",
              "width": 0.5
             },
             "pattern": {
              "fillmode": "overlay",
              "size": 10,
              "solidity": 0.2
             }
            },
            "type": "bar"
           }
          ],
          "barpolar": [
           {
            "marker": {
             "line": {
              "color": "#E5ECF6",
              "width": 0.5
             },
             "pattern": {
              "fillmode": "overlay",
              "size": 10,
              "solidity": 0.2
             }
            },
            "type": "barpolar"
           }
          ],
          "carpet": [
           {
            "aaxis": {
             "endlinecolor": "#2a3f5f",
             "gridcolor": "white",
             "linecolor": "white",
             "minorgridcolor": "white",
             "startlinecolor": "#2a3f5f"
            },
            "baxis": {
             "endlinecolor": "#2a3f5f",
             "gridcolor": "white",
             "linecolor": "white",
             "minorgridcolor": "white",
             "startlinecolor": "#2a3f5f"
            },
            "type": "carpet"
           }
          ],
          "choropleth": [
           {
            "colorbar": {
             "outlinewidth": 0,
             "ticks": ""
            },
            "type": "choropleth"
           }
          ],
          "contour": [
           {
            "colorbar": {
             "outlinewidth": 0,
             "ticks": ""
            },
            "colorscale": [
             [
              0,
              "#0d0887"
             ],
             [
              0.1111111111111111,
              "#46039f"
             ],
             [
              0.2222222222222222,
              "#7201a8"
             ],
             [
              0.3333333333333333,
              "#9c179e"
             ],
             [
              0.4444444444444444,
              "#bd3786"
             ],
             [
              0.5555555555555556,
              "#d8576b"
             ],
             [
              0.6666666666666666,
              "#ed7953"
             ],
             [
              0.7777777777777778,
              "#fb9f3a"
             ],
             [
              0.8888888888888888,
              "#fdca26"
             ],
             [
              1,
              "#f0f921"
             ]
            ],
            "type": "contour"
           }
          ],
          "contourcarpet": [
           {
            "colorbar": {
             "outlinewidth": 0,
             "ticks": ""
            },
            "type": "contourcarpet"
           }
          ],
          "heatmap": [
           {
            "colorbar": {
             "outlinewidth": 0,
             "ticks": ""
            },
            "colorscale": [
             [
              0,
              "#0d0887"
             ],
             [
              0.1111111111111111,
              "#46039f"
             ],
             [
              0.2222222222222222,
              "#7201a8"
             ],
             [
              0.3333333333333333,
              "#9c179e"
             ],
             [
              0.4444444444444444,
              "#bd3786"
             ],
             [
              0.5555555555555556,
              "#d8576b"
             ],
             [
              0.6666666666666666,
              "#ed7953"
             ],
             [
              0.7777777777777778,
              "#fb9f3a"
             ],
             [
              0.8888888888888888,
              "#fdca26"
             ],
             [
              1,
              "#f0f921"
             ]
            ],
            "type": "heatmap"
           }
          ],
          "heatmapgl": [
           {
            "colorbar": {
             "outlinewidth": 0,
             "ticks": ""
            },
            "colorscale": [
             [
              0,
              "#0d0887"
             ],
             [
              0.1111111111111111,
              "#46039f"
             ],
             [
              0.2222222222222222,
              "#7201a8"
             ],
             [
              0.3333333333333333,
              "#9c179e"
             ],
             [
              0.4444444444444444,
              "#bd3786"
             ],
             [
              0.5555555555555556,
              "#d8576b"
             ],
             [
              0.6666666666666666,
              "#ed7953"
             ],
             [
              0.7777777777777778,
              "#fb9f3a"
             ],
             [
              0.8888888888888888,
              "#fdca26"
             ],
             [
              1,
              "#f0f921"
             ]
            ],
            "type": "heatmapgl"
           }
          ],
          "histogram": [
           {
            "marker": {
             "pattern": {
              "fillmode": "overlay",
              "size": 10,
              "solidity": 0.2
             }
            },
            "type": "histogram"
           }
          ],
          "histogram2d": [
           {
            "colorbar": {
             "outlinewidth": 0,
             "ticks": ""
            },
            "colorscale": [
             [
              0,
              "#0d0887"
             ],
             [
              0.1111111111111111,
              "#46039f"
             ],
             [
              0.2222222222222222,
              "#7201a8"
             ],
             [
              0.3333333333333333,
              "#9c179e"
             ],
             [
              0.4444444444444444,
              "#bd3786"
             ],
             [
              0.5555555555555556,
              "#d8576b"
             ],
             [
              0.6666666666666666,
              "#ed7953"
             ],
             [
              0.7777777777777778,
              "#fb9f3a"
             ],
             [
              0.8888888888888888,
              "#fdca26"
             ],
             [
              1,
              "#f0f921"
             ]
            ],
            "type": "histogram2d"
           }
          ],
          "histogram2dcontour": [
           {
            "colorbar": {
             "outlinewidth": 0,
             "ticks": ""
            },
            "colorscale": [
             [
              0,
              "#0d0887"
             ],
             [
              0.1111111111111111,
              "#46039f"
             ],
             [
              0.2222222222222222,
              "#7201a8"
             ],
             [
              0.3333333333333333,
              "#9c179e"
             ],
             [
              0.4444444444444444,
              "#bd3786"
             ],
             [
              0.5555555555555556,
              "#d8576b"
             ],
             [
              0.6666666666666666,
              "#ed7953"
             ],
             [
              0.7777777777777778,
              "#fb9f3a"
             ],
             [
              0.8888888888888888,
              "#fdca26"
             ],
             [
              1,
              "#f0f921"
             ]
            ],
            "type": "histogram2dcontour"
           }
          ],
          "mesh3d": [
           {
            "colorbar": {
             "outlinewidth": 0,
             "ticks": ""
            },
            "type": "mesh3d"
           }
          ],
          "parcoords": [
           {
            "line": {
             "colorbar": {
              "outlinewidth": 0,
              "ticks": ""
             }
            },
            "type": "parcoords"
           }
          ],
          "pie": [
           {
            "automargin": true,
            "type": "pie"
           }
          ],
          "scatter": [
           {
            "fillpattern": {
             "fillmode": "overlay",
             "size": 10,
             "solidity": 0.2
            },
            "type": "scatter"
           }
          ],
          "scatter3d": [
           {
            "line": {
             "colorbar": {
              "outlinewidth": 0,
              "ticks": ""
             }
            },
            "marker": {
             "colorbar": {
              "outlinewidth": 0,
              "ticks": ""
             }
            },
            "type": "scatter3d"
           }
          ],
          "scattercarpet": [
           {
            "marker": {
             "colorbar": {
              "outlinewidth": 0,
              "ticks": ""
             }
            },
            "type": "scattercarpet"
           }
          ],
          "scattergeo": [
           {
            "marker": {
             "colorbar": {
              "outlinewidth": 0,
              "ticks": ""
             }
            },
            "type": "scattergeo"
           }
          ],
          "scattergl": [
           {
            "marker": {
             "colorbar": {
              "outlinewidth": 0,
              "ticks": ""
             }
            },
            "type": "scattergl"
           }
          ],
          "scattermapbox": [
           {
            "marker": {
             "colorbar": {
              "outlinewidth": 0,
              "ticks": ""
             }
            },
            "type": "scattermapbox"
           }
          ],
          "scatterpolar": [
           {
            "marker": {
             "colorbar": {
              "outlinewidth": 0,
              "ticks": ""
             }
            },
            "type": "scatterpolar"
           }
          ],
          "scatterpolargl": [
           {
            "marker": {
             "colorbar": {
              "outlinewidth": 0,
              "ticks": ""
             }
            },
            "type": "scatterpolargl"
           }
          ],
          "scatterternary": [
           {
            "marker": {
             "colorbar": {
              "outlinewidth": 0,
              "ticks": ""
             }
            },
            "type": "scatterternary"
           }
          ],
          "surface": [
           {
            "colorbar": {
             "outlinewidth": 0,
             "ticks": ""
            },
            "colorscale": [
             [
              0,
              "#0d0887"
             ],
             [
              0.1111111111111111,
              "#46039f"
             ],
             [
              0.2222222222222222,
              "#7201a8"
             ],
             [
              0.3333333333333333,
              "#9c179e"
             ],
             [
              0.4444444444444444,
              "#bd3786"
             ],
             [
              0.5555555555555556,
              "#d8576b"
             ],
             [
              0.6666666666666666,
              "#ed7953"
             ],
             [
              0.7777777777777778,
              "#fb9f3a"
             ],
             [
              0.8888888888888888,
              "#fdca26"
             ],
             [
              1,
              "#f0f921"
             ]
            ],
            "type": "surface"
           }
          ],
          "table": [
           {
            "cells": {
             "fill": {
              "color": "#EBF0F8"
             },
             "line": {
              "color": "white"
             }
            },
            "header": {
             "fill": {
              "color": "#C8D4E3"
             },
             "line": {
              "color": "white"
             }
            },
            "type": "table"
           }
          ]
         },
         "layout": {
          "annotationdefaults": {
           "arrowcolor": "#2a3f5f",
           "arrowhead": 0,
           "arrowwidth": 1
          },
          "autotypenumbers": "strict",
          "coloraxis": {
           "colorbar": {
            "outlinewidth": 0,
            "ticks": ""
           }
          },
          "colorscale": {
           "diverging": [
            [
             0,
             "#8e0152"
            ],
            [
             0.1,
             "#c51b7d"
            ],
            [
             0.2,
             "#de77ae"
            ],
            [
             0.3,
             "#f1b6da"
            ],
            [
             0.4,
             "#fde0ef"
            ],
            [
             0.5,
             "#f7f7f7"
            ],
            [
             0.6,
             "#e6f5d0"
            ],
            [
             0.7,
             "#b8e186"
            ],
            [
             0.8,
             "#7fbc41"
            ],
            [
             0.9,
             "#4d9221"
            ],
            [
             1,
             "#276419"
            ]
           ],
           "sequential": [
            [
             0,
             "#0d0887"
            ],
            [
             0.1111111111111111,
             "#46039f"
            ],
            [
             0.2222222222222222,
             "#7201a8"
            ],
            [
             0.3333333333333333,
             "#9c179e"
            ],
            [
             0.4444444444444444,
             "#bd3786"
            ],
            [
             0.5555555555555556,
             "#d8576b"
            ],
            [
             0.6666666666666666,
             "#ed7953"
            ],
            [
             0.7777777777777778,
             "#fb9f3a"
            ],
            [
             0.8888888888888888,
             "#fdca26"
            ],
            [
             1,
             "#f0f921"
            ]
           ],
           "sequentialminus": [
            [
             0,
             "#0d0887"
            ],
            [
             0.1111111111111111,
             "#46039f"
            ],
            [
             0.2222222222222222,
             "#7201a8"
            ],
            [
             0.3333333333333333,
             "#9c179e"
            ],
            [
             0.4444444444444444,
             "#bd3786"
            ],
            [
             0.5555555555555556,
             "#d8576b"
            ],
            [
             0.6666666666666666,
             "#ed7953"
            ],
            [
             0.7777777777777778,
             "#fb9f3a"
            ],
            [
             0.8888888888888888,
             "#fdca26"
            ],
            [
             1,
             "#f0f921"
            ]
           ]
          },
          "colorway": [
           "#636efa",
           "#EF553B",
           "#00cc96",
           "#ab63fa",
           "#FFA15A",
           "#19d3f3",
           "#FF6692",
           "#B6E880",
           "#FF97FF",
           "#FECB52"
          ],
          "font": {
           "color": "#2a3f5f"
          },
          "geo": {
           "bgcolor": "white",
           "lakecolor": "white",
           "landcolor": "#E5ECF6",
           "showlakes": true,
           "showland": true,
           "subunitcolor": "white"
          },
          "hoverlabel": {
           "align": "left"
          },
          "hovermode": "closest",
          "mapbox": {
           "style": "light"
          },
          "paper_bgcolor": "white",
          "plot_bgcolor": "#E5ECF6",
          "polar": {
           "angularaxis": {
            "gridcolor": "white",
            "linecolor": "white",
            "ticks": ""
           },
           "bgcolor": "#E5ECF6",
           "radialaxis": {
            "gridcolor": "white",
            "linecolor": "white",
            "ticks": ""
           }
          },
          "scene": {
           "xaxis": {
            "backgroundcolor": "#E5ECF6",
            "gridcolor": "white",
            "gridwidth": 2,
            "linecolor": "white",
            "showbackground": true,
            "ticks": "",
            "zerolinecolor": "white"
           },
           "yaxis": {
            "backgroundcolor": "#E5ECF6",
            "gridcolor": "white",
            "gridwidth": 2,
            "linecolor": "white",
            "showbackground": true,
            "ticks": "",
            "zerolinecolor": "white"
           },
           "zaxis": {
            "backgroundcolor": "#E5ECF6",
            "gridcolor": "white",
            "gridwidth": 2,
            "linecolor": "white",
            "showbackground": true,
            "ticks": "",
            "zerolinecolor": "white"
           }
          },
          "shapedefaults": {
           "line": {
            "color": "#2a3f5f"
           }
          },
          "ternary": {
           "aaxis": {
            "gridcolor": "white",
            "linecolor": "white",
            "ticks": ""
           },
           "baxis": {
            "gridcolor": "white",
            "linecolor": "white",
            "ticks": ""
           },
           "bgcolor": "#E5ECF6",
           "caxis": {
            "gridcolor": "white",
            "linecolor": "white",
            "ticks": ""
           }
          },
          "title": {
           "x": 0.05
          },
          "xaxis": {
           "automargin": true,
           "gridcolor": "white",
           "linecolor": "white",
           "ticks": "",
           "title": {
            "standoff": 15
           },
           "zerolinecolor": "white",
           "zerolinewidth": 2
          },
          "yaxis": {
           "automargin": true,
           "gridcolor": "white",
           "linecolor": "white",
           "ticks": "",
           "title": {
            "standoff": 15
           },
           "zerolinecolor": "white",
           "zerolinewidth": 2
          }
         }
        },
        "title": {
         "text": "DEF_RATING Difference vs Draft Pick for Players with at least 82 Games Played"
        },
        "xaxis": {
         "anchor": "y",
         "domain": [
          0,
          1
         ],
         "title": {
          "text": "Draft Pick"
         }
        },
        "yaxis": {
         "anchor": "x",
         "domain": [
          0,
          1
         ],
         "title": {
          "text": "DEF_RATING Difference"
         }
        }
       }
      }
     },
     "metadata": {},
     "output_type": "display_data"
    }
   ],
   "source": [
    "import plotly.express as px\n",
    "from IPython.display import clear_output\n",
    "\n",
    "# Filter players based on the minimum games played\n",
    "filtered_df = df_career_na_filled[df_career_na_filled['G'] >= min_games]\n",
    "\n",
    "# create a combobox widget with all 'Player' values\n",
    "player_widget_diff_scatter = widgets.Combobox(\n",
    "    placeholder='Choose a Player',\n",
    "    options=df_career_na_filled['Player'].unique().tolist(),\n",
    "    description='Player:',\n",
    "    ensure_option=True,\n",
    "    disabled=False\n",
    ")\n",
    "\n",
    "# create a dropdown widget with all relevant stats\n",
    "stat_dropdown_diff_scatter = widgets.Dropdown(\n",
    "    options=relevant_stats,\n",
    "    description='Select Stat:',\n",
    "    disabled=False,\n",
    ")\n",
    "\n",
    "# Define the output area to display the scatter plot\n",
    "output_diff_scatter = widgets.Output()\n",
    "\n",
    "# Function to update the output area based on the selected stat\n",
    "def on_value_change_diff_scatter(change):\n",
    "    clear_output()\n",
    "    output_diff_scatter.clear_output()\n",
    "    selected_stat = stat_dropdown_diff_scatter.value\n",
    "    selected_player = player_widget_diff_scatter.value\n",
    "\n",
    "    display(player_widget_diff_scatter)\n",
    "    display(stat_dropdown_diff_scatter)\n",
    "    with output_diff_scatter:\n",
    "        fig = px.scatter(filtered_df, x='Pk', y=f'{selected_stat}_diff', hover_name='Player',\n",
    "                         hover_data={'Pk': True, f'{selected_stat}_diff': True, 'Player': False, selected_stat: True, f'{selected_stat}_rank': True})\n",
    "        if selected_player in filtered_df['Player'].values:\n",
    "            highlighted_player = filtered_df[filtered_df['Player'] == selected_player]\n",
    "            fig.add_trace(px.scatter(highlighted_player, x='Pk', y=f'{selected_stat}_diff', hover_name='Player',\n",
    "                                     hover_data={'Pk': True, f'{selected_stat}_diff': True, 'Player': False, selected_stat: True, f'{selected_stat}_rank': True},\n",
    "                                     color_discrete_sequence=['red']).data[0])\n",
    "        fig.update_traces(marker=dict(size=12), showlegend=False)\n",
    "        fig.update_layout(title=f'{selected_stat} Difference vs Draft Pick for Players with at least {min_games} Games Played',\n",
    "                          xaxis_title='Draft Pick', yaxis_title=f'{selected_stat} Difference')\n",
    "        fig.show()\n",
    "    \n",
    "# Observe changes in the value of the dropdown and call the function\n",
    "stat_dropdown_diff_scatter.observe(on_value_change_diff_scatter, names='value')\n",
    "player_widget_diff_scatter.observe(on_value_change_diff_scatter, names='value')\n",
    "\n",
    "# Display the dropdown and the output area\n",
    "display(player_widget_diff_scatter)\n",
    "display(stat_dropdown_diff_scatter)\n",
    "display(output_diff_scatter)"
   ]
  },
  {
   "cell_type": "code",
   "execution_count": 52,
   "metadata": {},
   "outputs": [
    {
     "data": {
      "application/vnd.jupyter.widget-view+json": {
       "model_id": "551318134a964784b8f42230266d0d7a",
       "version_major": 2,
       "version_minor": 0
      },
      "text/plain": [
       "Combobox(value='', description='Player:', ensure_option=True, options=('Allen Iverson', 'Marcus Camby', 'Share…"
      ]
     },
     "metadata": {},
     "output_type": "display_data"
    },
    {
     "data": {
      "application/vnd.jupyter.widget-view+json": {
       "model_id": "b57fe58e0d2f4d6f8f98bcf9bd528ff1",
       "version_major": 2,
       "version_minor": 0
      },
      "text/plain": [
       "Dropdown(description='Select Stat:', index=6, options=('PTS', 'TRB', 'AST', 'WS', 'WS/48', 'BPM', 'VORP', 'PIE…"
      ]
     },
     "metadata": {},
     "output_type": "display_data"
    },
    {
     "data": {
      "application/vnd.plotly.v1+json": {
       "config": {
        "plotlyServerURL": "https://plot.ly"
       },
       "data": [
        {
         "customdata": [
          [
           "Allen Iverson",
           26.30740740740741,
           34
          ],
          [
           "Marcus Camby",
           20.992592592592594,
           54
          ],
          [
           "Shareef Abdur-Rahim",
           2.640740740740739,
           280
          ],
          [
           "Stephon Marbury",
           17.092592592592595,
           69
          ],
          [
           "Ray Allen",
           44.46666666666667,
           14
          ],
          [
           "Antoine Walker",
           11.118518518518517,
           112
          ],
          [
           "Lorenzen Wright",
           -10.862962962962962,
           937
          ],
          [
           "Kerry Kittles",
           13.033333333333333,
           95
          ],
          [
           "Samaki Walker",
           -15.18148148148148,
           977
          ],
          [
           "Erick Dampier",
           -5.322222222222223,
           821
          ],
          [
           "Todd Fuller",
           -5.540740740740741,
           828
          ],
          [
           "Vitaly Potapenko",
           -8.411111111111111,
           892
          ],
          [
           "Kobe Bryant",
           72.74814814814815,
           3
          ],
          [
           "Peja Stojaković",
           22.996296296296297,
           43
          ],
          [
           "Steve Nash",
           41.72222222222223,
           17
          ],
          [
           "Tony Delk",
           0.8148148148148144,
           373
          ],
          [
           "Jermaine O'Neal",
           12.255555555555555,
           100
          ],
          [
           "John Wallace",
           -4.718518518518518,
           795
          ],
          [
           "Walter McCarty",
           -1.8222222222222222,
           584
          ],
          [
           "Zydrunas Ilgauskas",
           8.892592592592592,
           146
          ],
          [
           "Roy Rogers",
           -3.2074074074074073,
           696
          ],
          [
           "Derek Fisher",
           3.807407407407408,
           241
          ],
          [
           "Martin Müürsepp",
           -2.937037037037037,
           676
          ],
          [
           "Jerome Williams",
           5.144444444444445,
           201
          ],
          [
           "Brian Evans",
           -2.72962962962963,
           665
          ],
          [
           "Travis Knight",
           -1.7375000000000003,
           576
          ],
          [
           "Othella Harrington",
           -7.818518518518519,
           883
          ],
          [
           "Mark Hendrickson",
           -1.8037037037037036,
           580
          ],
          [
           "Moochie Norris",
           0.9629629629629629,
           360
          ],
          [
           "Jeff McInnis",
           -0.45925925925925926,
           456
          ],
          [
           "Randy Livingston",
           -0.4703703703703703,
           459
          ],
          [
           "Malik Rose",
           0.7333333333333333,
           376
          ],
          [
           "Jamie Feick",
           -1.0074074074074073,
           518
          ],
          [
           "Amal McCaskill",
           -0.03703703703703709,
           421
          ],
          [
           "Mark Pope",
           0.9,
           365
          ],
          [
           "Shandon Anderson",
           5.02962962962963,
           208
          ],
          [
           "Reggie Geary",
           0.8666666666666667,
           369
          ],
          [
           "Tim Duncan",
           67.8074074074074,
           6
          ],
          [
           "Keith Van Horn",
           -0.707407407407409,
           488
          ],
          [
           "Chauncey Billups",
           24.24074074074074,
           36
          ],
          [
           "Antonio Daniels",
           -3.507407407407406,
           718
          ],
          [
           "Tony Battie",
           -12.333333333333332,
           949
          ],
          [
           "Ron Mercer",
           -9.381481481481483,
           910
          ],
          [
           "Tim Thomas",
           -1.462962962962962,
           552
          ],
          [
           "Adonal Foyle",
           -3.8666666666666667,
           749
          ],
          [
           "Tracy McGrady",
           41.61851851851852,
           19
          ],
          [
           "Danny Fortson",
           -12.022222222222222,
           946
          ],
          [
           "Tariq Abdul-Wahad",
           -4.440740740740741,
           784
          ],
          [
           "Austin Croshere",
           3.0888888888888886,
           265
          ],
          [
           "Derek Anderson",
           6.148148148148148,
           180
          ],
          [
           "Maurice Taylor",
           -8.503703703703703,
           897
          ],
          [
           "Kelvin Cato",
           -2.0777777777777775,
           615
          ],
          [
           "Brevin Knight",
           6.514814814814814,
           174
          ],
          [
           "Chris Anstey",
           -4.218518518518518,
           766
          ],
          [
           "Scot Pollard",
           0.2777777777777777,
           399
          ],
          [
           "Anthony Parker",
           1.8407407407407401,
           317
          ],
          [
           "Bobby Jackson",
           7.848148148148148,
           152
          ],
          [
           "John Thomas",
           -4.437037037037037,
           782
          ],
          [
           "Charles Smith",
           -1.8555555555555556,
           588
          ],
          [
           "Jacque Vaughn",
           -7.52962962962963,
           877
          ],
          [
           "Marc Jackson",
           -2.537037037037037,
           654
          ],
          [
           "Anthony Johnson",
           1.5518518518518518,
           331
          ],
          [
           "Stephen Jackson",
           9.948148148148148,
           127
          ],
          [
           "Cedric Henderson",
           -1.9111111111111112,
           598
          ],
          [
           "Eric Washington",
           -0.9777777777777776,
           516
          ],
          [
           "Alvin Williams",
           4.5925925925925934,
           218
          ],
          [
           "Predrag Drobnjak",
           -0.6370370370370372,
           476
          ],
          [
           "Chris Crawford",
           0.07037037037037042,
           413
          ],
          [
           "Mark Blount",
           -1.1481481481481481,
           528
          ],
          [
           "Michael Olowokandi",
           -31.79259259259259,
           998
          ],
          [
           "Mike Bibby",
           13.492592592592592,
           91
          ],
          [
           "Raef LaFrentz",
           -9.459259259259259,
           912
          ],
          [
           "Antawn Jamison",
           10.892592592592594,
           117
          ],
          [
           "Vince Carter",
           44.766666666666666,
           13
          ],
          [
           "Robert Traylor",
           -6.181481481481482,
           848
          ],
          [
           "Jason Williams",
           5.037037037037038,
           207
          ],
          [
           "Larry Hughes",
           5.7333333333333325,
           189
          ],
          [
           "Dirk Nowitzki",
           70.71851851851852,
           4
          ],
          [
           "Paul Pierce",
           56.077777777777776,
           9
          ],
          [
           "Bonzi Wells",
           5.05925925925926,
           204
          ],
          [
           "Michael Doleac",
           -6.211111111111111,
           849
          ],
          [
           "Keon Clark",
           -4.7518518518518515,
           799
          ],
          [
           "Michael Dickerson",
           -1.9037037037037037,
           595
          ],
          [
           "Matt Harpring",
           -0.2777777777777777,
           445
          ],
          [
           "Bryce Drew",
           -5.0851851851851855,
           814
          ],
          [
           "Rasho Nesterović",
           1.6555555555555554,
           323
          ],
          [
           "Pat Garrity",
           -2.1222222222222222,
           620
          ],
          [
           "Roshown McLeod",
           -2.6074074074074076,
           660
          ],
          [
           "Ricky Davis",
           2.0407407407407403,
           307
          ],
          [
           "Brian Skinner",
           -3.7074074074074073,
           736
          ],
          [
           "Tyronn Lue",
           -1.5518518518518514,
           558
          ],
          [
           "Felipe López",
           -5.592592592592593,
           830
          ],
          [
           "Al Harrington",
           0.662962962962963,
           381
          ],
          [
           "Vladimir Stepania",
           -4.229629629629629,
           769
          ],
          [
           "Corey Benjamin",
           -2.981481481481482,
           679
          ],
          [
           "Nazr Mohammed",
           -2.8375000000000004,
           671
          ],
          [
           "Ansu Sesay",
           -3.3185185185185184,
           706
          ],
          [
           "Ruben Patterson",
           9.696296296296296,
           131
          ],
          [
           "Rashard Lewis",
           31.644444444444446,
           27
          ],
          [
           "Jelani McCoy",
           -1.137037037037037,
           526
          ],
          [
           "Shammond Williams",
           1.5,
           336
          ],
          [
           "Bruno Šundov",
           -3.5037037037037035,
           717
          ],
          [
           "Jerome James",
           -3.488888888888889,
           716
          ],
          [
           "Rafer Alston",
           9.444444444444445,
           135
          ],
          [
           "Cuttino Mobley",
           11.062962962962963,
           113
          ],
          [
           "Jahidi White",
           -3.051851851851852,
           686
          ],
          [
           "Sean Marks",
           -0.5666666666666667,
           468
          ],
          [
           "Derrick Dial",
           -1.3,
           535
          ],
          [
           "Greg Buckner",
           4.155555555555556,
           231
          ],
          [
           "Tremaine Fowlkes",
           -1.0703703703703704,
           524
          ],
          [
           "Ryan Bowen",
           3.351851851851852,
           257
          ],
          [
           "Maceo Baston",
           2.166666666666667,
           303
          ],
          [
           "Elton Brand",
           14.007407407407406,
           87
          ],
          [
           "Steve Francis",
           12.39259259259259,
           99
          ],
          [
           "Baron Davis",
           13.840740740740742,
           90
          ],
          [
           "Lamar Odom",
           17.79259259259259,
           63
          ],
          [
           "Jonathan Bender",
           -13.733333333333333,
           957
          ],
          [
           "Wally Szczerbiak",
           6.7185185185185174,
           168
          ],
          [
           "Richard Hamilton",
           5.337037037037037,
           197
          ],
          [
           "Andre Miller",
           28.43333333333333,
           31
          ],
          [
           "Shawn Marion",
           33.51851851851852,
           26
          ],
          [
           "Jason Terry",
           27.977777777777774,
           32
          ],
          [
           "Trajan Langdon",
           -2.840740740740741,
           672
          ],
          [
           "Corey Maggette",
           5.948148148148149,
           183
          ],
          [
           "William Avery",
           -4.303703703703704,
           772
          ],
          [
           "Metta World Peace",
           21.414814814814815,
           49
          ],
          [
           "Cal Bowdler",
           -3.7444444444444445,
           741
          ],
          [
           "James Posey",
           9.981481481481481,
           126
          ],
          [
           "Quincy Lewis",
           -4.022222222222222,
           756
          ],
          [
           "Dion Glover",
           -1.0074074074074073,
           518
          ],
          [
           "Jeff Foster",
           2.0407407407407403,
           307
          ],
          [
           "Kenny Thomas",
           0.8925925925925928,
           366
          ],
          [
           "Devean George",
           -0.7518518518518515,
           492
          ],
          [
           "Andrei Kirilenko",
           36.60740740740741,
           24
          ],
          [
           "Vonteego Cummings",
           -2.5555555555555554,
           656
          ],
          [
           "Jumaine Jones",
           -0.9296296296296296,
           512
          ],
          [
           "Scott Padgett",
           0.9185185185185183,
           364
          ],
          [
           "Michael Ruffin",
           -3.4555555555555557,
           714
          ],
          [
           "Evan Eschmeyer",
           -0.7,
           486
          ],
          [
           "Calvin Booth",
           -2.303703703703704,
           636
          ],
          [
           "Wang Zhizhi",
           0.1111111111111111,
           411
          ],
          [
           "Obinna Ekezie",
           -1.4592592592592593,
           551
          ],
          [
           "Laron Profit",
           -4.237037037037037,
           770
          ],
          [
           "Gordan Giriček",
           -1.5481481481481483,
           557
          ],
          [
           "Francisco Elson",
           -3.137037037037037,
           693
          ],
          [
           "Lee Nailon",
           -4.351851851851852,
           779
          ],
          [
           "Todd MacCulloch",
           1.9222222222222223,
           312
          ],
          [
           "Rodney Buford",
           -0.7444444444444442,
           491
          ],
          [
           "Manu Ginóbili",
           47.60740740740741,
           12
          ],
          [
           "Kenyon Martin",
           -11.192592592592591,
           939
          ],
          [
           "Stromile Swift",
           -9.207407407407409,
           905
          ],
          [
           "Darius Miles",
           -16.25925925925926,
           984
          ],
          [
           "Marcus Fizer",
           -16.207407407407405,
           983
          ],
          [
           "Mike Miller",
           6.666666666666668,
           170
          ],
          [
           "DerMarr Johnson",
           -6.2814814814814826,
           850
          ],
          [
           "Chris Mihm",
           -12.162962962962961,
           947
          ],
          [
           "Jamal Crawford",
           13.433333333333332,
           92
          ],
          [
           "Joel Przybilla",
           -13.28148148148148,
           955
          ],
          [
           "Keyon Dooling",
           -9.622222222222222,
           917
          ],
          [
           "Jérôme Moïso",
           -3.5407407407407407,
           722
          ],
          [
           "Etan Thomas",
           -2.7111111111111112,
           663
          ],
          [
           "Courtney Alexander",
           -9.051851851851852,
           903
          ],
          [
           "Mateen Cleaves",
           -4.9037037037037035,
           808
          ],
          [
           "Jason Collier",
           -8.377777777777778,
           891
          ],
          [
           "Hedo Türkoğlu",
           15.614814814814816,
           77
          ],
          [
           "Desmond Mason",
           -5.444444444444445,
           825
          ],
          [
           "Quentin Richardson",
           4.781481481481482,
           214
          ],
          [
           "Jamaal Magloire",
           -5.722222222222222,
           835
          ],
          [
           "Speedy Claxton",
           2.2925925925925927,
           297
          ],
          [
           "Morris Peterson",
           3.34074074074074,
           259
          ],
          [
           "Donnell Harvey",
           -2.7074074074074073,
           662
          ],
          [
           "DeShawn Stevenson",
           -5.651851851851852,
           832
          ],
          [
           "Dalibor Bagarić",
           -6.592592592592593,
           863
          ],
          [
           "Jake Tsakalidis",
           -4.437037037037037,
           782
          ],
          [
           "Primož Brezec",
           -4.729629629629629,
           796
          ],
          [
           "Mark Madsen",
           -3.5375,
           721
          ],
          [
           "Marko Jarić",
           0.8814814814814813,
           367
          ],
          [
           "Dan Langhi",
           -1.9037037037037037,
           595
          ],
          [
           "Jake Voskuhl",
           -3.237037037037037,
           701
          ],
          [
           "Eddie House",
           5.940740740740741,
           184
          ],
          [
           "Eduardo Nájera",
           1.862962962962963,
           314
          ],
          [
           "Hanno Möttölä",
           -2.748148148148148,
           666
          ],
          [
           "Olumide Oyedeji",
           -0.4703703703703703,
           459
          ],
          [
           "Michael Redd",
           20.148148148148145,
           58
          ],
          [
           "Brian Cardinal",
           4.333333333333334,
           226
          ],
          [
           "Jabari Smith",
           -1.2111111111111112,
           530
          ],
          [
           "Jason Hart",
           1.662962962962963,
           320
          ],
          [
           "Kwame Brown",
           -24.59259259259259,
           996
          ],
          [
           "Tyson Chandler",
           6.59259259259259,
           173
          ],
          [
           "Pau Gasol",
           38.24074074074074,
           21
          ],
          [
           "Eddy Curry",
           -14.907407407407407,
           974
          ],
          [
           "Jason Richardson",
           10.666666666666668,
           120
          ],
          [
           "Shane Battier",
           21.318518518518516,
           51
          ],
          [
           "Eddie Griffin",
           -5.062962962962962,
           813
          ],
          [
           "DeSagana Diop",
           -4.766666666666667,
           801
          ],
          [
           "Rodney White",
           -14.18148148148148,
           962
          ],
          [
           "Joe Johnson",
           17.077777777777776,
           70
          ],
          [
           "Kedrick Brown",
           -2.840740740740741,
           672
          ],
          [
           "Vladimir Radmanović",
           5.088888888888889,
           203
          ],
          [
           "Richard Jefferson",
           12.048148148148147,
           102
          ],
          [
           "Troy Murphy",
           7.3962962962962955,
           158
          ],
          [
           "Steven Hunter",
           -6.977777777777778,
           870
          ],
          [
           "Michael Bradley",
           -4.344444444444445,
           777
          ],
          [
           "Jason Collins",
           -10.218518518518518,
           926
          ],
          [
           "Zach Randolph",
           16.177777777777777,
           73
          ],
          [
           "Brendan Haywood",
           1.5925925925925926,
           327
          ],
          [
           "Jeryl Sasser",
           -2.3074074074074074,
           637
          ],
          [
           "Brandon Armstrong",
           -3.1518518518518515,
           694
          ],
          [
           "Raül López",
           -5.292592592592593,
           820
          ],
          [
           "Gerald Wallace",
           20.462962962962962,
           57
          ],
          [
           "Samuel Dalembert",
           2.344444444444444,
           295
          ],
          [
           "Jamaal Tinsley",
           4.0703703703703695,
           233
          ],
          [
           "Tony Parker",
           28.71851851851852,
           30
          ],
          [
           "Trenton Hassell",
           -6.618518518518519,
           865
          ],
          [
           "Gilbert Arenas",
           21.196296296296296,
           52
          ],
          [
           "Will Solomon",
           -0.737037037037037,
           490
          ],
          [
           "Terence Morris",
           -0.6,
           469
          ],
          [
           "Brian Scalabrine",
           -3.803703703703704,
           743
          ],
          [
           "Mehmet Okur",
           13.362962962962962,
           93
          ],
          [
           "Earl Watson",
           2.3518518518518516,
           294
          ],
          [
           "Bobby Simmons",
           3.4296296296296296,
           254
          ],
          [
           "Loren Woods",
           -0.874074074074074,
           508
          ],
          [
           "Jarron Collins",
           -1.3444444444444443,
           540
          ],
          [
           "Yao Ming",
           -2.5925925925925917,
           658
          ],
          [
           "Mike Dunleavy",
           -3.5592592592592602,
           724
          ],
          [
           "Drew Gooden",
           -9.307407407407407,
           907
          ],
          [
           "Nikoloz Tskitishvili",
           -15.133333333333333,
           976
          ],
          [
           "Dajuan Wagner",
           -8.481481481481483,
           895
          ],
          [
           "Nenê",
           10.937037037037038,
           115
          ],
          [
           "Chris Wilcox",
           -3.7666666666666666,
           742
          ],
          [
           "Amar'e Stoudemire",
           7.818518518518518,
           153
          ],
          [
           "Caron Butler",
           3.177777777777777,
           262
          ],
          [
           "Jared Jeffries",
           -4.7407407407407405,
           798
          ],
          [
           "Melvin Ely",
           -5.611111111111111,
           831
          ],
          [
           "Marcus Haislip",
           -7.951851851851852,
           885
          ],
          [
           "Fred Jones",
           -0.6037037037037036,
           471
          ],
          [
           "Boštjan Nachbar",
           -5.877777777777778,
           841
          ],
          [
           "Jiří Welsch",
           -3.8851851851851853,
           750
          ],
          [
           "Juan Dixon",
           -3.6444444444444444,
           730
          ],
          [
           "Curtis Borchardt",
           -4.218518518518518,
           766
          ],
          [
           "Ryan Humphrey",
           -3.822222222222222,
           745
          ],
          [
           "Kareem Rush",
           -3.1074074074074076,
           691
          ],
          [
           "Qyntel Woods",
           -4.65925925925926,
           793
          ],
          [
           "Casey Jacobsen",
           -2.507407407407407,
           652
          ],
          [
           "Tayshaun Prince",
           15.848148148148148,
           74
          ],
          [
           "Nenad Krstić",
           -6.592592592592593,
           863
          ],
          [
           "Frank Williams",
           -3.337037037037037,
           707
          ],
          [
           "John Salmons",
           4.444444444444445,
           222
          ],
          [
           "Dan Dickau",
           -0.7814814814814816,
           493
          ],
          [
           "Roger Mason",
           0.2962962962962963,
           396
          ],
          [
           "Dan Gadzuric",
           -0.8999999999999999,
           510
          ],
          [
           "Carlos Boozer",
           20.496296296296297,
           56
          ],
          [
           "David Andersen",
           -0.45925925925925926,
           456
          ],
          [
           "Juan Carlos Navarro",
           -0.6481481481481481,
           477
          ],
          [
           "Ronald Murray",
           -0.6703703703703703,
           481
          ],
          [
           "Lonny Baxter",
           -0.06666666666666665,
           430
          ],
          [
           "Matt Barnes",
           10.125925925925925,
           124
          ],
          [
           "Darius Songaila",
           1.5259259259259261,
           335
          ],
          [
           "Rasual Butler",
           3.7555555555555555,
           242
          ],
          [
           "Luis Scola",
           7.366666666666667,
           160
          ],
          [
           "LeBron James",
           123.3074074074074,
           1
          ],
          [
           "Darko Miličić",
           -11.207407407407409,
           940
          ],
          [
           "Carmelo Anthony",
           17.440740740740743,
           65
          ],
          [
           "Chris Bosh",
           17.492592592592594,
           64
          ],
          [
           "Dwyane Wade",
           49.666666666666664,
           11
          ],
          [
           "Chris Kaman",
           -6.481481481481482,
           861
          ],
          [
           "Kirk Hinrich",
           5.4370370370370384,
           194
          ],
          [
           "T.J. Ford",
           -0.36666666666666714,
           452
          ],
          [
           "Mike Sweetney",
           -14.68148148148148,
           970
          ],
          [
           "Jarvis Hayes",
           -10.722222222222223,
           934
          ],
          [
           "Mickaël Piétrus",
           -0.040740740740740744,
           422
          ],
          [
           "Nick Collison",
           0.588888888888889,
           386
          ],
          [
           "Marcus Banks",
           -7.451851851851852,
           875
          ],
          [
           "Luke Ridnour",
           4.296296296296296,
           227
          ],
          [
           "Žarko Čabarkapa",
           -4.044444444444444,
           757
          ],
          [
           "David West",
           23.881481481481483,
           39
          ],
          [
           "Sasha Pavlović",
           -5.722222222222222,
           835
          ],
          [
           "Dahntay Jones",
           -5.4074074074074066,
           824
          ],
          [
           "Boris Diaw",
           11.24074074074074,
           110
          ],
          [
           "Zoran Planinić",
           -2.8074074074074074,
           670
          ],
          [
           "Travis Outlaw",
           -0.05185185185185137,
           425
          ],
          [
           "Brian Cook",
           -4.592592592592593,
           791
          ],
          [
           "Carlos Delfino",
           4.162962962962963,
           230
          ],
          [
           "Kendrick Perkins",
           -2.4296296296296296,
           645
          ],
          [
           "Leandro Barbosa",
           7.218518518518518,
           163
          ],
          [
           "Josh Howard",
           9.3625,
           137
          ],
          [
           "Jason Kapono",
           -2.4037037037037035,
           643
          ],
          [
           "Luke Walton",
           1.0444444444444445,
           356
          ],
          [
           "Steve Blake",
           3.0629629629629633,
           266
          ],
          [
           "Willie Green",
           -4.537037037037037,
           788
          ],
          [
           "Zaza Pachulia",
           2.7296296296296294,
           278
          ],
          [
           "Keith Bogans",
           0.6481481481481481,
           383
          ],
          [
           "Matt Bonner",
           9.488888888888889,
           134
          ],
          [
           "Mo Williams",
           9.922222222222222,
           128
          ],
          [
           "James Jones",
           6.062962962962963,
           181
          ],
          [
           "Kyle Korver",
           21.37037037037037,
           50
          ],
          [
           "Dwight Howard",
           15.707407407407409,
           76
          ],
          [
           "Emeka Okafor",
           -3.507407407407409,
           719
          ],
          [
           "Ben Gordon",
           -10.55925925925926,
           932
          ],
          [
           "Shaun Livingston",
           -9.307407407407407,
           907
          ],
          [
           "Devin Harris",
           2.366666666666667,
           290
          ],
          [
           "Josh Childress",
           0.5185185185185182,
           388
          ],
          [
           "Luol Deng",
           15.037037037037036,
           80
          ],
          [
           "Rafael Araújo",
           -7.066666666666666,
           871
          ],
          [
           "Andre Iguodala",
           27.218518518518515,
           33
          ],
          [
           "Andris Biedriņš",
           1.3592592592592587,
           340
          ],
          [
           "Robert Swift",
           -3.2111111111111112,
           698
          ],
          [
           "Sebastian Telfair",
           -11.551851851851852,
           943
          ],
          [
           "Kris Humphries",
           -2.003703703703704,
           608
          ],
          [
           "Al Jefferson",
           14.822222222222223,
           81
          ],
          [
           "Kirk Snyder",
           -3.2851851851851857,
           704
          ],
          [
           "Josh Smith",
           23.855555555555554,
           40
          ],
          [
           "J.R. Smith",
           10.981481481481481,
           114
          ],
          [
           "Dorell Wright",
           6.477777777777778,
           176
          ],
          [
           "Jameer Nelson",
           10.292592592592593,
           122
          ],
          [
           "Viktor Khryapa",
           -3.107407407407407,
           689
          ],
          [
           "Delonte West",
           3.6074074074074067,
           248
          ],
          [
           "Tony Allen",
           7.362962962962963,
           161
          ],
          [
           "Kevin Martin",
           13.844444444444445,
           89
          ],
          [
           "Sasha Vujačić",
           -0.7296296296296299,
           489
          ],
          [
           "Beno Udrih",
           3.518518518518519,
           252
          ],
          [
           "David Harrison",
           -2.3375,
           639
          ],
          [
           "Anderson Varejão",
           5.881481481481482,
           186
          ],
          [
           "Jackson Vroman",
           -2.0037037037037035,
           606
          ],
          [
           "Royal Ivey",
           -2.8592592592592596,
           674
          ],
          [
           "Chris Duhon",
           2.0629629629629633,
           305
          ],
          [
           "Justin Reed",
           -1.848148148148148,
           586
          ],
          [
           "Trevor Ariza",
           20.548148148148147,
           55
          ],
          [
           "Bernard Robinson",
           -3.7111111111111112,
           738
          ],
          [
           "Andrew Bogut",
           -7.292592592592591,
           874
          ],
          [
           "Marvin Williams",
           1.992592592592592,
           310
          ],
          [
           "Deron Williams",
           9.040740740740741,
           143
          ],
          [
           "Chris Paul",
           82.49259259259259,
           2
          ],
          [
           "Raymond Felton",
           -3.033333333333333,
           684
          ],
          [
           "Martell Webster",
           -2.5814814814814824,
           657
          ],
          [
           "Charlie Villanueva",
           -3.162962962962962,
           695
          ],
          [
           "Channing Frye",
           3.033333333333333,
           267
          ],
          [
           "Ike Diogu",
           -14.78148148148148,
           972
          ],
          [
           "Andrew Bynum",
           -0.32222222222222285,
           450
          ],
          [
           "Sean May",
           -7.151851851851852,
           872
          ],
          [
           "Rashad McCants",
           -2.803703703703704,
           668
          ],
          [
           "Antoine Wright",
           -8.877777777777778,
           901
          ],
          [
           "Joey Graham",
           -6.385185185185185,
           856
          ],
          [
           "Danny Granger",
           14.355555555555554,
           84
          ],
          [
           "Gerald Green",
           -1.3185185185185189,
           538
          ],
          [
           "Hakim Warrick",
           -2.2222222222222223,
           631
          ],
          [
           "Nate Robinson",
           4.34074074074074,
           225
          ],
          [
           "Jarrett Jack",
           4.292592592592593,
           228
          ],
          [
           "Francisco García",
           3.5481481481481487,
           250
          ],
          [
           "Luther Head",
           -0.8925925925925924,
           509
          ],
          [
           "Johan Petro",
           -7.637037037037037,
           878
          ],
          [
           "Jason Maxiell",
           -3.6555555555555554,
           735
          ],
          [
           "Linas Kleiza",
           -3.7296296296296294,
           739
          ],
          [
           "Ian Mahinmi",
           -1.2814814814814814,
           534
          ],
          [
           "David Lee",
           16.28148148148148,
           72
          ],
          [
           "Salim Stoudamire",
           -1.7037037037037037,
           570
          ],
          [
           "Daniel Ewing",
           -1.8555555555555556,
           588
          ],
          [
           "Brandon Bass",
           4.862962962962962,
           212
          ],
          [
           "C.J. Miles",
           6.7,
           169
          ],
          [
           "Ersan İlyasova",
           9.011111111111111,
           145
          ],
          [
           "Ronny Turiaf",
           4.540740740740741,
           219
          ],
          [
           "Travis Diener",
           -0.03703703703703698,
           419
          ],
          [
           "Von Wafer",
           -0.05555555555555547,
           426
          ],
          [
           "Monta Ellis",
           11.951851851851853,
           103
          ],
          [
           "Roko Ukić",
           -2.4370370370370367,
           646
          ],
          [
           "Lou Williams",
           22.58888888888889,
           46
          ],
          [
           "Mickaël Gelabale",
           -3.4074074074074074,
           711
          ],
          [
           "Andray Blatche",
           4.462962962962963,
           221
          ],
          [
           "Ryan Gomes",
           3.1259259259259258,
           263
          ],
          [
           "Orien Greene",
           0.15555555555555567,
           406
          ],
          [
           "Lawrence Roberts",
           -1.7481481481481482,
           577
          ],
          [
           "Amir Johnson",
           11.566666666666666,
           107
          ],
          [
           "Marcin Gortat",
           12.707407407407407,
           97
          ],
          [
           "Andrea Bargnani",
           -21.79259259259259,
           992
          ],
          [
           "LaMarcus Aldridge",
           23.092592592592588,
           42
          ],
          [
           "Adam Morrison",
           -21.659259259259258,
           991
          ],
          [
           "Tyrus Thomas",
           -11.907407407407407,
           945
          ],
          [
           "Shelden Williams",
           -14.633333333333333,
           968
          ],
          [
           "Brandon Roy",
           9.418518518518518,
           136
          ],
          [
           "Randy Foye",
           -4.062962962962962,
           758
          ],
          [
           "Rudy Gay",
           17.43333333333333,
           66
          ],
          [
           "Patrick O'Bryant",
           -14.381481481481481,
           964
          ],
          [
           "J.J. Redick",
           12.75925925925926,
           96
          ],
          [
           "Hilton Armstrong",
           -4.311111111111111,
           774
          ],
          [
           "Thabo Sefolosha",
           5.048148148148148,
           206
          ],
          [
           "Ronnie Brewer",
           7.3962962962962955,
           158
          ],
          [
           "Rodney Carney",
           -3.4851851851851854,
           715
          ],
          [
           "Shawne Williams",
           -3.6444444444444444,
           730
          ],
          [
           "Oleksiy Pecherov",
           -4.4185185185185185,
           780
          ],
          [
           "Quincy Douby",
           -3.2222222222222223,
           700
          ],
          [
           "Renaldo Balkman",
           0.29259259259259274,
           397
          ],
          [
           "Rajon Rondo",
           18.94074074074074,
           61
          ],
          [
           "Marcus Williams",
           -3.2074074074074073,
           696
          ],
          [
           "Josh Boone",
           -5.2518518518518515,
           818
          ],
          [
           "Kyle Lowry",
           37.7074074074074,
           22
          ],
          [
           "Shannon Brown",
           -2.037037037037037,
           611
          ],
          [
           "Jordan Farmar",
           1.4444444444444446,
           337
          ],
          [
           "Sergio Rodríguez",
           -2.9296296296296296,
           675
          ],
          [
           "Maurice Ager",
           -2.2814814814814817,
           634
          ],
          [
           "Mardy Collins",
           -2.3375,
           639
          ],
          [
           "Joel Freeland",
           -3.5185185185185186,
           720
          ],
          [
           "Steve Novak",
           2.5444444444444443,
           282
          ],
          [
           "Solomon Jones",
           -1.837037037037037,
           585
          ],
          [
           "Paul Davis",
           -0.6,
           469
          ],
          [
           "P.J. Tucker",
           4.0962962962962965,
           232
          ],
          [
           "Craig Smith",
           1.411111111111111,
           339
          ],
          [
           "Bobby Jones",
           -0.6592592592592592,
           480
          ],
          [
           "Daniel Gibson",
           2.2296296296296294,
           301
          ],
          [
           "Alexander Johnson",
           -1.511111111111111,
           556
          ],
          [
           "Paul Millsap",
           29.82222222222222,
           29
          ],
          [
           "Leon Powe",
           0.9629629629629628,
           361
          ],
          [
           "Ryan Hollins",
           -1.474074074074074,
           553
          ],
          [
           "Greg Oden",
           -22.49259259259259,
           995
          ],
          [
           "Kevin Durant",
           69.99259259259259,
           5
          ],
          [
           "Al Horford",
           21.14074074074074,
           53
          ],
          [
           "Mike Conley",
           22.592592592592595,
           45
          ],
          [
           "Jeff Green",
           -8.733333333333333,
           899
          ],
          [
           "Yi Jianlian",
           -10.381481481481483,
           930
          ],
          [
           "Corey Brewer",
           -5.862962962962962,
           840
          ],
          [
           "Brandan Wright",
           2.533333333333333,
           284
          ],
          [
           "Joakim Noah",
           6.818518518518518,
           166
          ],
          [
           "Spencer Hawes",
           -6.022222222222222,
           844
          ],
          [
           "Acie Law",
           -4.340740740740741,
           776
          ],
          [
           "Thaddeus Young",
           17.888888888888886,
           62
          ],
          [
           "Julian Wright",
           -6.151851851851852,
           847
          ],
          [
           "Al Thornton",
           -6.4037037037037035,
           858
          ],
          [
           "Rodney Stuckey",
           -1.5777777777777775,
           561
          ],
          [
           "Nick Young",
           -4.785185185185186,
           804
          ],
          [
           "Sean Williams",
           -3.9444444444444446,
           751
          ],
          [
           "Marco Belinelli",
           -0.41851851851851896,
           454
          ],
          [
           "Javaris Crittenton",
           -3.6222222222222222,
           728
          ],
          [
           "Jason Smith",
           -3.7074074074074073,
           736
          ],
          [
           "Daequan Cook",
           -5.359259259259259,
           822
          ],
          [
           "Jared Dudley",
           8.792592592592593,
           147
          ],
          [
           "Wilson Chandler",
           1.3481481481481485,
           341
          ],
          [
           "Rudy Fernández",
           0.5074074074074071,
           390
          ],
          [
           "Aaron Brooks",
           0.44444444444444464,
           392
          ],
          [
           "Arron Afflalo",
           -0.6296296296296298,
           475
          ],
          [
           "Tiago Splitter",
           4.018518518518519,
           236
          ],
          [
           "Carl Landry",
           3.8962962962962964,
           239
          ],
          [
           "Glen Davis",
           -4.303703703703704,
           772
          ],
          [
           "Josh McRoberts",
           4.540740740740741,
           219
          ],
          [
           "Kyrylo Fesenko",
           -2.2370370370370374,
           632
          ],
          [
           "Dominic McGuire",
           -0.17777777777777767,
           441
          ],
          [
           "Marc Gasol",
           36.19259259259259,
           25
          ],
          [
           "Aaron Gray",
           -0.8370370370370371,
           503
          ],
          [
           "Ramon Sessions",
           6.166666666666667,
           179
          ],
          [
           "Derrick Rose",
           -4.99259259259259,
           811
          ],
          [
           "Michael Beasley",
           -9.407407407407408,
           911
          ],
          [
           "O.J. Mayo",
           -14.55925925925926,
           966
          ],
          [
           "Russell Westbrook",
           43.29259259259259,
           15
          ],
          [
           "Kevin Love",
           21.666666666666664,
           48
          ],
          [
           "Danilo Gallinari",
           13.918518518518518,
           88
          ],
          [
           "Eric Gordon",
           0.9370370370370384,
           363
          ],
          [
           "D.J. Augustin",
           -6.481481481481481,
           860
          ],
          [
           "Brook Lopez",
           14.777777777777777,
           82
          ],
          [
           "Jerryd Bayless",
           -2.140740740740741,
           623
          ],
          [
           "Jason Thompson",
           -4.911111111111111,
           809
          ],
          [
           "Brandon Rush",
           -5.7518518518518515,
           838
          ],
          [
           "Anthony Randolph",
           -2.803703703703704,
           668
          ],
          [
           "Robin Lopez",
           -1.8777777777777782,
           593
          ],
          [
           "Marreese Speights",
           -4.5851851851851855,
           790
          ],
          [
           "Roy Hibbert",
           0.15555555555555545,
           407
          ],
          [
           "JaVale McGee",
           3.581481481481481,
           249
          ],
          [
           "J.J. Hickson",
           -2.1222222222222222,
           620
          ],
          [
           "Alexis Ajinça",
           -2.1074074074074076,
           617
          ],
          [
           "Ryan Anderson",
           8.540740740740741,
           149
          ],
          [
           "Courtney Lee",
           5.692592592592593,
           191
          ],
          [
           "Kosta Koufos",
           -0.15185185185185146,
           440
          ],
          [
           "Serge Ibaka",
           10.607407407407408,
           121
          ],
          [
           "Nicolas Batum",
           24.062962962962963,
           37
          ],
          [
           "George Hill",
           17.144444444444442,
           68
          ],
          [
           "Darrell Arthur",
           -3.4296296296296296,
           712
          ],
          [
           "Donté Greene",
           -2.2814814814814817,
           634
          ],
          [
           "D.J. White",
           -3.7375000000000003,
           740
          ],
          [
           "Nikola Peković",
           1.0962962962962965,
           353
          ],
          [
           "Joey Dorsey",
           -0.537037037037037,
           466
          ],
          [
           "Mario Chalmers",
           5.7,
           190
          ],
          [
           "DeAndre Jordan",
           19.396296296296295,
           60
          ],
          [
           "Ömer Aşık",
           0.1111111111111111,
           411
          ],
          [
           "Luc Mbah a Moute",
           1.8407407407407408,
           316
          ],
          [
           "Sonny Weems",
           -1.9555555555555555,
           603
          ],
          [
           "Chris Douglas-Roberts",
           -0.6481481481481481,
           477
          ],
          [
           "Goran Dragić",
           15.28888888888889,
           78
          ],
          [
           "Henry Walker",
           0.12222222222222234,
           410
          ],
          [
           "Darnell Jackson",
           1,
           357
          ],
          [
           "Blake Griffin",
           9.507407407407406,
           133
          ],
          [
           "Hasheem Thabeet",
           -10.707407407407409,
           933
          ],
          [
           "James Harden",
           56.74074074074074,
           8
          ],
          [
           "Tyreke Evans",
           -0.5074074074074062,
           464
          ],
          [
           "Ricky Rubio",
           0.16666666666666785,
           405
          ],
          [
           "Jonny Flynn",
           -8.781481481481482,
           900
          ],
          [
           "Stephen Curry",
           57.737037037037034,
           7
          ],
          [
           "Jordan Hill",
           -8.066666666666666,
           888
          ],
          [
           "DeMar DeRozan",
           11.21851851851852,
           111
          ],
          [
           "Brandon Jennings",
           2.377777777777778,
           289
          ],
          [
           "Terrence Williams",
           -3.840740740740741,
           746
          ],
          [
           "Gerald Henderson",
           -1.911111111111111,
           597
          ],
          [
           "Tyler Hansbrough",
           -10.451851851851853,
           931
          ],
          [
           "Earl Clark",
           -4.003703703703704,
           752
          ],
          [
           "Austin Daye",
           -9.577777777777778,
           915
          ],
          [
           "James Johnson",
           5.4148148148148145,
           195
          ],
          [
           "Jrue Holiday",
           24.055555555555554,
           38
          ],
          [
           "Ty Lawson",
           9.881481481481481,
           129
          ],
          [
           "Jeff Teague",
           11.677777777777779,
           104
          ],
          [
           "Eric Maynor",
           -2.1074074074074076,
           617
          ],
          [
           "Darren Collison",
           9.14074074074074,
           141
          ],
          [
           "Omri Casspi",
           1.3481481481481485,
           341
          ],
          [
           "Byron Mullens",
           -6.892592592592592,
           868
          ],
          [
           "Rodrigue Beaubois",
           -1.6370370370370373,
           564
          ],
          [
           "Taj Gibson",
           4.7444444444444445,
           215
          ],
          [
           "DeMarre Carroll",
           3.6703703703703705,
           244
          ],
          [
           "Wayne Ellington",
           0.7185185185185186,
           379
          ],
          [
           "Toney Douglas",
           1.5625,
           330
          ],
          [
           "Jeff Ayres",
           -1.3037037037037036,
           537
          ],
          [
           "Dante Cunningham",
           0.862962962962963,
           370
          ],
          [
           "DaJuan Summers",
           -3.4037037037037035,
           709
          ],
          [
           "Sam Young",
           -0.0888888888888889,
           432
          ],
          [
           "DeJuan Blair",
           1.2407407407407407,
           348
          ],
          [
           "Jon Brockman",
           -1.9370370370370371,
           600
          ],
          [
           "Jonas Jerebko",
           2.7444444444444445,
           277
          ],
          [
           "Derrick Brown",
           -0.04814814814814811,
           423
          ],
          [
           "Jodie Meeks",
           2.362962962962963,
           291
          ],
          [
           "Patrick Beverley",
           11.529629629629628,
           108
          ],
          [
           "Marcus Thornton",
           4.948148148148149,
           210
          ],
          [
           "Chase Budinger",
           4.033333333333333,
           234
          ],
          [
           "Nick Calathes",
           0.18888888888888888,
           403
          ],
          [
           "Danny Green",
           19.625925925925927,
           59
          ],
          [
           "A.J. Price",
           2.5,
           285
          ],
          [
           "Nando De Colo",
           1.6555555555555557,
           322
          ],
          [
           "Patty Mills",
           10.251851851851852,
           123
          ],
          [
           "John Wall",
           0.8074074074074105,
           374
          ],
          [
           "Evan Turner",
           -9.807407407407409,
           921
          ],
          [
           "Derrick Favors",
           -5.2592592592592595,
           819
          ],
          [
           "Wesley Johnson",
           -12.407407407407407,
           951
          ],
          [
           "DeMarcus Cousins",
           8.466666666666669,
           150
          ],
          [
           "Ekpe Udoh",
           -6.081481481481482,
           845
          ],
          [
           "Greg Monroe",
           7.4370370370370384,
           157
          ],
          [
           "Al-Farouq Aminu",
           1.5333333333333332,
           334
          ],
          [
           "Gordon Hayward",
           9.01851851851852,
           144
          ],
          [
           "Paul George",
           30.877777777777773,
           28
          ],
          [
           "Cole Aldrich",
           -1.4407407407407409,
           548
          ],
          [
           "Xavier Henry",
           -4.211111111111111,
           765
          ],
          [
           "Ed Davis",
           -1.151851851851852,
           529
          ],
          [
           "Patrick Patterson",
           4.196296296296296,
           229
          ],
          [
           "Larry Sanders",
           -5.377777777777778,
           823
          ],
          [
           "Luke Babbitt",
           -4.0851851851851855,
           760
          ],
          [
           "Kevin Séraphin",
           -6.944444444444445,
           869
          ],
          [
           "Eric Bledsoe",
           15.081481481481482,
           79
          ],
          [
           "Avery Bradley",
           -4.4222222222222225,
           781
          ],
          [
           "James Anderson",
           -2.1074074074074076,
           617
          ],
          [
           "Elliot Williams",
           -3.3074074074074074,
           705
          ],
          [
           "Trevor Booker",
           2.0481481481481487,
           306
          ],
          [
           "Quincy Pondexter",
           -1.9555555555555555,
           603
          ],
          [
           "Jordan Crawford",
           -1.7296296296296296,
           572
          ],
          [
           "Greivis Vásquez",
           0.4185185185185185,
           394
          ],
          [
           "Hassan Whiteside",
           14.262962962962963,
           86
          ],
          [
           "Nemanja Bjelica",
           2.7962962962962967,
           274
          ],
          [
           "Landry Fields",
           2.4444444444444446,
           288
          ],
          [
           "Lance Stephenson",
           1.8518518518518516,
           315
          ],
          [
           "Jeremy Evans",
           3.2518518518518515,
           260
          ],
          [
           "Kyrie Irving",
           14.30740740740741,
           85
          ],
          [
           "Derrick Williams",
           -9.507407407407408,
           913
          ],
          [
           "Enes Freedom",
           -11.65925925925926,
           944
          ],
          [
           "Tristan Thompson",
           -12.207407407407405,
           948
          ],
          [
           "Jonas Valančiūnas",
           1.9666666666666668,
           311
          ],
          [
           "Jan Veselý",
           -7.2814814814814826,
           873
          ],
          [
           "Bismack Biyombo",
           -9.762962962962963,
           920
          ],
          [
           "Brandon Knight",
           -3.566666666666667,
           725
          ],
          [
           "Kemba Walker",
           15.71851851851852,
           75
          ],
          [
           "Jimmer Fredette",
           -9.822222222222223,
           922
          ],
          [
           "Klay Thompson",
           12.65925925925926,
           98
          ],
          [
           "Alec Burks",
           3.688888888888889,
           243
          ],
          [
           "Markieff Morris",
           -4.651851851851852,
           792
          ],
          [
           "Marcus Morris",
           3.896296296296296,
           240
          ],
          [
           "Kawhi Leonard",
           37.42222222222222,
           23
          ],
          [
           "Nikola Vučević",
           23.514814814814816,
           41
          ],
          [
           "Iman Shumpert",
           -2.4444444444444446,
           648
          ],
          [
           "Chris Singleton",
           -4.518518518518519,
           786
          ],
          [
           "Tobias Harris",
           17.277777777777775,
           67
          ],
          [
           "Donatas Motiejūnas",
           -1.8074074074074074,
           581
          ],
          [
           "Nolan Smith",
           -5.059259259259259,
           812
          ],
          [
           "Kenneth Faried",
           5.292592592592593,
           199
          ],
          [
           "Nikola Mirotić",
           4.948148148148148,
           211
          ],
          [
           "Reggie Jackson",
           3.207407407407408,
           261
          ],
          [
           "MarShon Brooks",
           -2.6370370370370373,
           661
          ],
          [
           "Jordan Hamilton",
           -1.2555555555555555,
           533
          ],
          [
           "Norris Cole",
           -5.481481481481481,
           827
          ],
          [
           "Cory Joseph",
           3.3625,
           256
          ],
          [
           "Jimmy Butler",
           41.181481481481484,
           20
          ],
          [
           "Bojan Bogdanović",
           5.0962962962962965,
           202
          ],
          [
           "Kyle Singler",
           -1.137037037037037,
           526
          ],
          [
           "Shelvin Mack",
           -0.09999999999999998,
           435
          ],
          [
           "Chandler Parsons",
           9.062962962962962,
           142
          ],
          [
           "Jeremy Tyler",
           -1.4555555555555555,
           550
          ],
          [
           "Jon Leuer",
           1.5518518518518518,
           331
          ],
          [
           "Darius Morris",
           -3.0370370370370368,
           685
          ],
          [
           "Dāvis Bertāns",
           4.42962962962963,
           223
          ],
          [
           "Charles Jenkins",
           0.33333333333333326,
           395
          ],
          [
           "Lavoy Allen",
           1.625925925925926,
           326
          ],
          [
           "DeAndre Liggins",
           1.0555555555555556,
           355
          ],
          [
           "E'Twaun Moore",
           1.5518518518518518,
           331
          ],
          [
           "Isaiah Thomas",
           16.676470588235297,
           71
          ],
          [
           "Anthony Davis",
           22.80740740740741,
           44
          ],
          [
           "Michael Kidd-Gilchrist",
           -9.707407407407409,
           918
          ],
          [
           "Bradley Beal",
           3.340740740740742,
           258
          ],
          [
           "Dion Waiters",
           -14.007407407407406,
           960
          ],
          [
           "Thomas Robinson",
           -14.733333333333333,
           971
          ],
          [
           "Damian Lillard",
           41.71851851851852,
           18
          ],
          [
           "Harrison Barnes",
           -0.06296296296296244,
           428
          ],
          [
           "Terrence Ross",
           -0.4666666666666668,
           458
          ],
          [
           "Andre Drummond",
           3.9185185185185194,
           238
          ],
          [
           "Austin Rivers",
           -13.922222222222222,
           958
          ],
          [
           "Meyers Leonard",
           -2.240740740740741,
           633
          ],
          [
           "Jeremy Lamb",
           5.388888888888889,
           196
          ],
          [
           "Kendall Marshall",
           -8.451851851851853,
           893
          ],
          [
           "John Henson",
           0.1962962962962962,
           401
          ],
          [
           "Maurice Harkless",
           -2.377777777777778,
           642
          ],
          [
           "Tyler Zeller",
           -6.444444444444445,
           859
          ],
          [
           "Terrence Jones",
           -0.11851851851851869,
           437
          ],
          [
           "Andrew Nicholson",
           -4.222222222222222,
           768
          ],
          [
           "Evan Fournier",
           3.392592592592593,
           255
          ],
          [
           "Jared Sullinger",
           -1.5592592592592593,
           559
          ],
          [
           "John Jenkins",
           -2.0518518518518514,
           613
          ],
          [
           "Jared Cunningham",
           -5.692592592592592,
           834
          ],
          [
           "Tony Wroten",
           -4.137037037037038,
           761
          ],
          [
           "Miles Plumlee",
           -2.0555555555555554,
           614
          ],
          [
           "Perry Jones",
           -1.9814814814814814,
           605
          ],
          [
           "Marquis Teague",
           -1.6375000000000002,
           565
          ],
          [
           "Festus Ezeli",
           -6.018518518518519,
           843
          ],
          [
           "Jeff Taylor",
           -2.6037037037037036,
           659
          ],
          [
           "Tomáš Satoranský",
           0.9444444444444444,
           362
          ],
          [
           "Bernard James",
           -3.337037037037037,
           707
          ],
          [
           "Jae Crowder",
           10.9,
           116
          ],
          [
           "Draymond Green",
           22.096296296296295,
           47
          ],
          [
           "Orlando Johnson",
           -0.0888888888888889,
           432
          ],
          [
           "Quincy Acy",
           -0.25925925925925924,
           444
          ],
          [
           "Khris Middleton",
           14.744444444444445,
           83
          ],
          [
           "Will Barton",
           6.451851851851853,
           177
          ],
          [
           "Doron Lamb",
           -1.3703703703703702,
           544
          ],
          [
           "Mike Scott",
           -0.6518518518518518,
           479
          ],
          [
           "Justin Hamilton",
           -0.11111111111111116,
           436
          ],
          [
           "Darius Miller",
           -0.974074074074074,
           515
          ],
          [
           "Kyle O'Quinn",
           5.662962962962963,
           192
          ],
          [
           "Robbie Hummel",
           1.5666666666666669,
           328
          ],
          [
           "Robert Sacre",
           -0.8235294117647058,
           500
          ],
          [
           "Anthony Bennett",
           -24.59259259259259,
           996
          ],
          [
           "Victor Oladipo",
           0.6925925925925913,
           380
          ],
          [
           "Otto Porter Jr.",
           -6.65925925925926,
           866
          ],
          [
           "Cody Zeller",
           -9.607407407407406,
           916
          ],
          [
           "Alex Len",
           -12.933333333333334,
           953
          ],
          [
           "Nerlens Noel",
           0.5185185185185182,
           388
          ],
          [
           "Ben McLemore",
           -11.262962962962963,
           941
          ],
          [
           "Kentavious Caldwell-Pope",
           1.6333333333333329,
           325
          ],
          [
           "Trey Burke",
           -12.381481481481481,
           950
          ],
          [
           "CJ McCollum",
           8.077777777777778,
           151
          ],
          [
           "Michael Carter-Williams",
           -1.4407407407407409,
           548
          ],
          [
           "Steven Adams",
           9.588888888888889,
           132
          ],
          [
           "Kelly Olynyk",
           3.648148148148148,
           246
          ],
          [
           "Shabazz Muhammad",
           -6.303703703703704,
           851
          ],
          [
           "Giannis Antetokounmpo",
           42.12222222222222,
           16
          ],
          [
           "Lucas Nogueira",
           -2.0851851851851855,
           616
          ],
          [
           "Dennis Schröder",
           -0.34444444444444455,
           451
          ],
          [
           "Shane Larkin",
           -4.318518518518519,
           775
          ],
          [
           "Sergey Karasev",
           -3.022222222222222,
           683
          ],
          [
           "Tony Snell",
           -1.4074074074074074,
           546
          ],
          [
           "Gorgui Dieng",
           2.84074074074074,
           271
          ],
          [
           "Mason Plumlee",
           12.192592592592593,
           101
          ],
          [
           "Solomon Hill",
           -2.4518518518518513,
           649
          ],
          [
           "Tim Hardaway Jr.",
           -0.09259259259259256,
           434
          ],
          [
           "Reggie Bullock",
           -0.4370370370370371,
           455
          ],
          [
           "Andre Roberson",
           0.04444444444444429,
           416
          ],
          [
           "Rudy Gobert",
           26.17037037037037,
           35
          ],
          [
           "Archie Goodwin",
           -1.2375,
           532
          ],
          [
           "Allen Crabbe",
           -0.2037037037037036,
           442
          ],
          [
           "Álex Abrines",
           -1.3555555555555554,
           541
          ],
          [
           "Isaiah Canaan",
           -0.7,
           486
          ],
          [
           "Ray McCallum",
           -0.3888888888888889,
           453
          ],
          [
           "Nate Wolters",
           -1.337037037037037,
           539
          ],
          [
           "Jeff Withey",
           1.1444444444444446,
           352
          ],
          [
           "Mike Muscala",
           5.333333333333334,
           198
          ],
          [
           "Raul Neto",
           0.7222222222222223,
           378
          ],
          [
           "Ryan Kelly",
           -0.8074074074074074,
           495
          ],
          [
           "James Ennis III",
           2.625925925925926,
           281
          ],
          [
           "Lorenzo Brown",
           1.3,
           343
          ],
          [
           "Joffrey Lauvergne",
           1.2518518518518518,
           347
          ],
          [
           "Andrew Wiggins",
           -20.29259259259259,
           990
          ],
          [
           "Jabari Parker",
           -7.807407407407409,
           882
          ],
          [
           "Joel Embiid",
           7.540740740740741,
           156
          ],
          [
           "Aaron Gordon",
           -4.2074074074074055,
           764
          ],
          [
           "Dante Exum",
           -14.633333333333333,
           968
          ],
          [
           "Marcus Smart",
           0.818518518518518,
           372
          ],
          [
           "Julius Randle",
           5.737037037037037,
           188
          ],
          [
           "Nik Stauskas",
           -6.666666666666667,
           867
          ],
          [
           "Noah Vonleh",
           -14.78148148148148,
           972
          ],
          [
           "Elfrid Payton",
           -5.722222222222222,
           835
          ],
          [
           "Doug McDermott",
           -6.340740740740741,
           852
          ],
          [
           "Dario Šarić",
           0.28888888888888875,
           398
          ],
          [
           "Zach LaVine",
           4.848148148148147,
           213
          ],
          [
           "T.J. Warren",
           0.9962962962962965,
           358
          ],
          [
           "Adreian Payne",
           -7.877777777777778,
           884
          ],
          [
           "Jusuf Nurkić",
           2.8148148148148144,
           273
          ],
          [
           "James Young",
           -3.6444444444444444,
           730
          ],
          [
           "Tyler Ennis",
           -4.518518518518519,
           786
          ],
          [
           "Gary Harris",
           -0.12222222222222223,
           438
          ],
          [
           "Bruno Caboclo",
           -1.5074074074074073,
           554
          ],
          [
           "Rodney Hood",
           0.04814814814814872,
           415
          ],
          [
           "Shabazz Napier",
           -3.0925925925925926,
           688
          ],
          [
           "Clint Capela",
           11.662962962962961,
           105
          ],
          [
           "P.J. Hairston",
           -3.2555555555555555,
           703
          ],
          [
           "Bogdan Bogdanović",
           3.4703703703703703,
           253
          ],
          [
           "Kyle Anderson",
           9.281481481481482,
           139
          ],
          [
           "K.J. McDaniels",
           -1.8555555555555556,
           588
          ],
          [
           "Joe Harris",
           3.9629629629629632,
           237
          ],
          [
           "Johnny O'Bryant",
           -1.788888888888889,
           579
          ],
          [
           "Spencer Dinwiddie",
           6.662962962962963,
           171
          ],
          [
           "Jerami Grant",
           6.644444444444444,
           172
          ],
          [
           "Glenn Robinson III",
           -0.04814814814814811,
           423
          ],
          [
           "Nikola Jokić",
           50.96296296296296,
           10
          ],
          [
           "Markel Brown",
           0.7333333333333333,
           376
          ],
          [
           "Dwight Powell",
           7.68888888888889,
           155
          ],
          [
           "Jordan Clarkson",
           5.925925925925926,
           185
          ],
          [
           "Thanasis Antetokounmpo",
           -0.02962962962962956,
           418
          ],
          [
           "Jordan McRae",
           -1.1333333333333333,
           525
          ],
          [
           "Karl-Anthony Towns",
           6.207407407407409,
           178
          ],
          [
           "D'Angelo Russell",
           -0.3074074074074087,
           449
          ],
          [
           "Jahlil Okafor",
           -22.35925925925926,
           994
          ],
          [
           "Kristaps Porziņģis",
           -0.6074074074074058,
           472
          ],
          [
           "Mario Hezonja",
           -14.333333333333332,
           963
          ],
          [
           "Willie Cauley-Stein",
           -2.481481481481482,
           650
          ],
          [
           "Emmanuel Mudiay",
           -10.062962962962963,
           923
          ],
          [
           "Stanley Johnson",
           -6.566666666666666,
           862
          ],
          [
           "Frank Kaminsky",
           -10.38148148148148,
           929
          ],
          [
           "Justise Winslow",
           -9.722222222222223,
           919
          ],
          [
           "Myles Turner",
           6.859259259259259,
           165
          ],
          [
           "Trey Lyles",
           -0.21111111111111125,
           443
          ],
          [
           "Devin Booker",
           5.748148148148148,
           187
          ],
          [
           "Cameron Payne",
           -1.0037037037037035,
           517
          ],
          [
           "Kelly Oubre Jr.",
           -5.5777777777777775,
           829
          ],
          [
           "Terry Rozier",
           5.014814814814814,
           209
          ],
          [
           "Rashad Vaughn",
           -4.544444444444444,
           789
          ],
          [
           "Sam Dekker",
           -3.218518518518519,
           699
          ],
          [
           "Jerian Grant",
           -2.1222222222222222,
           620
          ],
          [
           "Delon Wright",
           9.292592592592593,
           138
          ],
          [
           "Justin Anderson",
           -3.8592592592592596,
           748
          ],
          [
           "Bobby Portis",
           2.492592592592593,
           286
          ],
          [
           "Rondae Hollis-Jefferson",
           0.14814814814814836,
           409
          ],
          [
           "Tyus Jones",
           1.7074074074074073,
           319
          ],
          [
           "Jarell Martin",
           -4.737037037037037,
           797
          ],
          [
           "Larry Nance Jr.",
           5.5703703703703695,
           193
          ],
          [
           "Kevon Looney",
           1.8814814814814813,
           313
          ],
          [
           "Cedi Osman",
           -1.4037037037037037,
           545
          ],
          [
           "Montrezl Harrell",
           10.744444444444444,
           119
          ],
          [
           "Willy Hernangómez",
           0.1962962962962962,
           401
          ],
          [
           "Richaun Holmes",
           4.640740740740741,
           217
          ],
          [
           "Darrun Hilliard",
           -1.737037037037037,
           573
          ],
          [
           "Josh Richardson",
           5.051851851851852,
           205
          ],
          [
           "Pat Connaughton",
           2.362962962962963,
           291
          ],
          [
           "Joe Young",
           -1.8518518518518516,
           587
          ],
          [
           "Andrew Harrison",
           0.5333333333333333,
           387
          ],
          [
           "Norman Powell",
           4.725925925925926,
           216
          ],
          [
           "Ben Simmons",
           -9.092592592592592,
           904
          ],
          [
           "Brandon Ingram",
           -3.6074074074074085,
           726
          ],
          [
           "Jaylen Brown",
           -11.15925925925926,
           938
          ],
          [
           "Dragan Bender",
           -15.507407407407406,
           980
          ],
          [
           "Kris Dunn",
           -12.733333333333333,
           952
          ],
          [
           "Buddy Hield",
           2.818518518518517,
           272
          ],
          [
           "Jamal Murray",
           -0.06296296296296244,
           428
          ],
          [
           "Marquese Chriss",
           -5.466666666666667,
           826
          ],
          [
           "Jakob Poeltl",
           -5.78148148148148,
           839
          ],
          [
           "Thon Maker",
           -9.522222222222222,
           914
          ],
          [
           "Domantas Sabonis",
           13.359259259259261,
           94
          ],
          [
           "Taurean Prince",
           -2.411111111111111,
           644
          ],
          [
           "Denzel Valentine",
           -3.0037037037037035,
           681
          ],
          [
           "Juancho Hernangómez",
           -6.377777777777778,
           854
          ],
          [
           "Henry Ellenson",
           -4.018518518518519,
           755
          ],
          [
           "Malik Beasley",
           -0.6222222222222222,
           474
          ],
          [
           "Caris LeVert",
           2.9925925925925925,
           269
          ],
          [
           "DeAndre' Bembry",
           -4.65925925925926,
           793
          ],
          [
           "Ante Žižić",
           -2.3518518518518516,
           641
          ],
          [
           "Timothé Luwawu-Cabarrot",
           -7.792592592592593,
           881
          ],
          [
           "Furkan Korkmaz",
           -2.1555555555555554,
           625
          ],
          [
           "Pascal Siakam",
           11.57037037037037,
           106
          ],
          [
           "Skal Labissière",
           -1.5814814814814815,
           562
          ],
          [
           "Dejounte Murray",
           9.262500000000001,
           140
          ],
          [
           "Damian Jones",
           -2.0185185185185186,
           610
          ],
          [
           "Deyonta Davis",
           -4.203703703703704,
           762
          ],
          [
           "Ivica Zubac",
           3.644444444444444,
           247
          ],
          [
           "Cheick Diallo",
           0.06296296296296297,
           414
          ],
          [
           "Tyler Ulis",
           -1.3,
           535
          ],
          [
           "Malcolm Brogdon",
           10.011111111111111,
           125
          ],
          [
           "Patrick McCaw",
           -1.737037037037037,
           573
          ],
          [
           "Isaiah Whitehead",
           -1.5703703703703702,
           560
          ],
          [
           "Jake Layman",
           -0.2777777777777777,
           445
          ],
          [
           "Paul Zipser",
           -1.7074074074074073,
           571
          ],
          [
           "Georges Niang",
           3.025925925925926,
           268
          ],
          [
           "Abdel Nader",
           1.5666666666666669,
           328
          ],
          [
           "Tyrone Wallace",
           -0.8235294117647058,
           500
          ],
          [
           "Markelle Fultz",
           -22.09259259259259,
           993
          ],
          [
           "Lonzo Ball",
           -4.007407407407409,
           754
          ],
          [
           "Jayson Tatum",
           0.6407407407407391,
           384
          ],
          [
           "Josh Jackson",
           -16.707407407407405,
           986
          ],
          [
           "De'Aaron Fox",
           -4.933333333333334,
           810
          ],
          [
           "Jonathan Isaac",
           -4.781481481481482,
           802
          ],
          [
           "Lauri Markkanen",
           -0.5629629629629624,
           467
          ],
          [
           "Frank Ntilikina",
           -8.166666666666668,
           889
          ],
          [
           "Dennis Smith Jr.",
           -14.58148148148148,
           967
          ],
          [
           "Zach Collins",
           -9.022222222222222,
           902
          ],
          [
           "Malik Monk",
           -2.140740740740741,
           623
          ],
          [
           "Luke Kennard",
           1.2888888888888888,
           345
          ],
          [
           "Donovan Mitchell",
           10.848148148148148,
           118
          ],
          [
           "Bam Adebayo",
           11.296296296296296,
           109
          ],
          [
           "Justin Jackson",
           -7.477777777777778,
           876
          ],
          [
           "D.J. Wilson",
           -3.6444444444444444,
           730
          ],
          [
           "T.J. Leaf",
           -3.6185185185185187,
           727
          ],
          [
           "John Collins",
           5.177777777777777,
           200
          ],
          [
           "Harry Giles",
           -1.5074074074074073,
           554
          ],
          [
           "Terrance Ferguson",
           -6.359259259259259,
           853
          ],
          [
           "Jarrett Allen",
           8.792592592592593,
           147
          ],
          [
           "OG Anunoby",
           3.6481481481481484,
           245
          ],
          [
           "Kyle Kuzma",
           -0.12962962962962976,
           439
          ],
          [
           "Tony Bradley",
           -0.28148148148148144,
           447
          ],
          [
           "Derrick White",
           7.2625,
           162
          ],
          [
           "Josh Hart",
           2.2814814814814817,
           298
          ],
          [
           "Frank Jackson",
           -3.0037037037037035,
           681
          ],
          [
           "Davon Reed",
           -1.7555555555555555,
           578
          ],
          [
           "Wes Iwundu",
           -2.037037037037037,
           611
          ],
          [
           "Frank Mason III",
           -0.5,
           462
          ],
          [
           "Ivan Rabb",
           -2.5037037037037035,
           651
          ],
          [
           "Semi Ojeleye",
           -1.6592592592592592,
           567
          ],
          [
           "Jordan Bell",
           -0.03703703703703698,
           419
          ],
          [
           "Dwayne Bacon",
           -3.5481481481481483,
           723
          ],
          [
           "Tyler Dorsey",
           -2.337037037037037,
           638
          ],
          [
           "Thomas Bryant",
           3.5296296296296297,
           251
          ],
          [
           "Isaiah Hartenstein",
           1.6481481481481481,
           324
          ],
          [
           "Damyean Dotson",
           0.23333333333333328,
           400
          ],
          [
           "Dillon Brooks",
           -5.21111111111111,
           817
          ],
          [
           "Sterling Brown",
           -0.6740740740740739,
           482
          ],
          [
           "Sindarius Thornwell",
           -0.8074074074074074,
           495
          ],
          [
           "Vlatko Čančar",
           -2.437037037037037,
           647
          ],
          [
           "Monte Morris",
           5.97037037037037,
           182
          ],
          [
           "Edmond Sumner",
           1.2000000000000002,
           349
          ],
          [
           "Deandre Ayton",
           -16.09259259259259,
           982
          ],
          [
           "Marvin Bagley III",
           -10.207407407407409,
           925
          ],
          [
           "Luka Dončić",
           7.140740740740739,
           164
          ],
          [
           "Jaren Jackson Jr.",
           -8.607407407407406,
           898
          ],
          [
           "Trae Young",
           2.166666666666668,
           302
          ],
          [
           "Mo Bamba",
           -4.081481481481482,
           759
          ],
          [
           "Wendell Carter Jr.",
           -4.762962962962963,
           800
          ],
          [
           "Collin Sexton",
           -5.666666666666667,
           833
          ],
          [
           "Kevin Knox",
           -17.18148148148148,
           987
          ],
          [
           "Mikal Bridges",
           0.8777777777777782,
           368
          ],
          [
           "Shai Gilgeous-Alexander",
           9.85925925925926,
           130
          ],
          [
           "Miles Bridges",
           1.2888888888888888,
           345
          ],
          [
           "Jerome Robinson",
           -8.451851851851853,
           893
          ],
          [
           "Michael Porter Jr.",
           0.9962962962962965,
           358
          ],
          [
           "Troy Brown Jr.",
           -5.977777777777778,
           842
          ],
          [
           "Donte DiVincenzo",
           0.15555555555555545,
           407
          ],
          [
           "Lonnie Walker IV",
           -4.818518518518519,
           807
          ],
          [
           "Kevin Huerter",
           0.47777777777777786,
           391
          ],
          [
           "Josh Okogie",
           -1.8074074074074074,
           581
          ],
          [
           "Grayson Allen",
           -1.8592592592592596,
           592
          ],
          [
           "Chandler Hutchison",
           -3.107407407407407,
           689
          ],
          [
           "Aaron Holiday",
           -2.5518518518518514,
           655
          ],
          [
           "Anfernee Simons",
           -4.792592592592593,
           805
          ],
          [
           "Moritz Wagner",
           -1.9370370370370371,
           600
          ],
          [
           "Landry Shamet",
           -1.8555555555555556,
           588
          ],
          [
           "Robert Williams",
           4.37037037037037,
           224
          ],
          [
           "Omari Spellman",
           -2.7185185185185183,
           664
          ],
          [
           "Elie Okobo",
           -2.0037037037037035,
           606
          ],
          [
           "Jevon Carter",
           -0.05555555555555558,
           427
          ],
          [
           "Jalen Brunson",
           6.762962962962963,
           167
          ],
          [
           "Devonte' Graham",
           3.0999999999999996,
           264
          ],
          [
           "Mitchell Robinson",
           7.711111111111111,
           154
          ],
          [
           "Gary Trent Jr.",
           2.5407407407407407,
           283
          ],
          [
           "Isaac Bonga",
           -0.8555555555555554,
           506
          ],
          [
           "Rodions Kurucs",
           -0.8481481481481481,
           505
          ],
          [
           "Jarred Vanderbilt",
           1.1629629629629632,
           350
          ],
          [
           "Bruce Brown",
           2.3296296296296295,
           296
          ],
          [
           "Hamidou Diallo",
           -0.8111111111111111,
           498
          ],
          [
           "De'Anthony Melton",
           4.025925925925925,
           235
          ],
          [
           "Svi Mykhailiuk",
           -0.4777777777777777,
           461
          ],
          [
           "Keita Bates-Diop",
           -0.007407407407407307,
           417
          ],
          [
           "Chimezie Metu",
           0.8629629629629629,
           371
          ],
          [
           "Shake Milton",
           2.22962962962963,
           300
          ],
          [
           "Zion Williamson",
           -16.69259259259259,
           985
          ],
          [
           "Ja Morant",
           -0.6074074074074094,
           473
          ],
          [
           "RJ Barrett",
           -20.159259259259258,
           989
          ],
          [
           "De'Andre Hunter",
           -15.907407407407405,
           981
          ],
          [
           "Darius Garland",
           -9.333333333333332,
           909
          ],
          [
           "Jarrett Culver",
           -8.481481481481483,
           895
          ],
          [
           "Coby White",
           -7.962962962962962,
           886
          ],
          [
           "Jaxson Hayes",
           -2.966666666666667,
           677
          ],
          [
           "Rui Hachimura",
           -14.981481481481481,
           975
          ],
          [
           "Cam Reddish",
           -10.722222222222223,
           934
          ],
          [
           "Cameron Johnson",
           1.6592592592592594,
           321
          ],
          [
           "P.J. Washington",
           -0.5111111111111111,
           465
          ],
          [
           "Tyler Herro",
           -3.851851851851852,
           747
          ],
          [
           "Romeo Langford",
           -4.003703703703704,
           752
          ],
          [
           "Sekou Doumbouya",
           -8.277777777777779,
           890
          ],
          [
           "Chuma Okeke",
           -2.9851851851851854,
           680
          ],
          [
           "Nickeil Alexander-Walker",
           -3.6444444444444444,
           730
          ],
          [
           "Goga Bitadze",
           -3.1185185185185187,
           692
          ],
          [
           "Matisse Thybulle",
           2.4925925925925925,
           287
          ],
          [
           "Brandon Clarke",
           1.8407407407407401,
           317
          ],
          [
           "Grant Williams",
           -1.6074074074074072,
           563
          ],
          [
           "Darius Bazley",
           -2.7518518518518515,
           667
          ],
          [
           "Ty Jerome",
           -4.792592592592593,
           805
          ],
          [
           "Nassir Little",
           -3.437037037037037,
           713
          ],
          [
           "Dylan Windler",
           -2.1555555555555554,
           625
          ],
          [
           "Jordan Poole",
           -0.6814814814814816,
           485
          ],
          [
           "Keldon Johnson",
           0.7624999999999998,
           375
          ],
          [
           "Kevin Porter Jr.",
           -2.2185185185185183,
           629
          ],
          [
           "Nic Claxton",
           2.7962962962962963,
           275
          ],
          [
           "KZ Okpala",
           -2.1555555555555554,
           625
          ],
          [
           "Bruno Fernando",
           -0.7999999999999999,
           494
          ],
          [
           "Cody Martin",
           0.611111111111111,
           385
          ],
          [
           "Daniel Gafford",
           2.362962962962963,
           291
          ],
          [
           "Eric Paschall",
           -1.937037037037037,
           599
          ],
          [
           "Admiral Schofield",
           -0.9703703703703703,
           514
          ],
          [
           "Jaylen Nowell",
           -0.9518518518518517,
           513
          ],
          [
           "Bol Bol",
           1.4333333333333333,
           338
          ],
          [
           "Isaiah Roby",
           -0.8111111111111111,
           498
          ],
          [
           "Talen Horton-Tucker",
           -0.6740740740740739,
           482
          ],
          [
           "Terance Mann",
           1.9925925925925925,
           309
          ],
          [
           "Jalen McDaniels",
           1.3,
           343
          ],
          [
           "Anthony Edwards",
           -19.19259259259259,
           988
          ],
          [
           "James Wiseman",
           -11.307407407407409,
           942
          ],
          [
           "LaMelo Ball",
           -13.05925925925926,
           954
          ],
          [
           "Patrick Williams",
           -13.307407407407405,
           956
          ],
          [
           "Isaac Okoro",
           -13.933333333333334,
           959
          ],
          [
           "Onyeka Okongwu",
           -4.781481481481482,
           802
          ],
          [
           "Killian Hayes",
           -10.362962962962962,
           928
          ],
          [
           "Obi Toppin",
           -3.066666666666667,
           687
          ],
          [
           "Deni Avdija",
           -14.481481481481481,
           965
          ],
          [
           "Jalen Smith",
           -9.222222222222223,
           906
          ],
          [
           "Devin Vassell",
           -1.6407407407407408,
           566
          ],
          [
           "Tyrese Haliburton",
           6.488888888888889,
           175
          ],
          [
           "Kira Lewis Jr.",
           -7.751851851851852,
           880
          ],
          [
           "Aaron Nesmith",
           -4.203703703703704,
           762
          ],
          [
           "Cole Anthony",
           -5.177777777777778,
           816
          ],
          [
           "Isaiah Stewart",
           -4.285185185185186,
           771
          ],
          [
           "Aleksej Pokusevski",
           -4.344444444444445,
           777
          ],
          [
           "Josh Green",
           -3.818518518518519,
           744
          ],
          [
           "Saddiq Bey",
           0.1777777777777776,
           404
          ],
          [
           "Precious Achiuwa",
           -2.007407407407407,
           609
          ],
          [
           "Tyrese Maxey",
           -1.0592592592592593,
           523
          ],
          [
           "Zeke Nnaji",
           -2.507407407407407,
           652
          ],
          [
           "R.J. Hampton",
           -6.392592592592592,
           857
          ],
          [
           "Immanuel Quickley",
           1.0629629629629624,
           354
          ],
          [
           "Payton Pritchard",
           -1.0555555555555556,
           522
          ],
          [
           "Jaden McDaniels",
           -1.8814814814814815,
           594
          ],
          [
           "Malachi Flynn",
           -1.0375,
           521
          ],
          [
           "Desmond Bane",
           2.7814814814814817,
           276
          ],
          [
           "Théo Maledon",
           -2.2,
           628
          ],
          [
           "Xavier Tillman Sr.",
           -0.5037037037037035,
           463
          ],
          [
           "Saben Lee",
           -0.837037037037037,
           502
          ],
          [
           "Tre Jones",
           -1.0370370370370368,
           520
          ],
          [
           "Nick Richards",
           -0.0703703703703703,
           431
          ],
          [
           "Jordan Nwora",
           -1.2111111111111112,
           530
          ],
          [
           "CJ Elleby",
           -1.674074074074074,
           568
          ],
          [
           "Isaiah Joe",
           1.162962962962963,
           351
          ],
          [
           "Kenyon Martin Jr.",
           2.9000000000000004,
           270
          ],
          [
           "Paul Reed",
           2.666666666666667,
           279
          ],
          [
           "Jalen Green",
           -10.807407407407409,
           936
          ],
          [
           "Evan Mobley",
           -15.25925925925926,
           978
          ],
          [
           "Scottie Barnes",
           -10.107407407407406,
           924
          ],
          [
           "Jalen Suggs",
           -14.033333333333333,
           961
          ],
          [
           "Josh Giddey",
           -4.481481481481483,
           785
          ],
          [
           "Jonathan Kuminga",
           -7.662962962962962,
           879
          ],
          [
           "Franz Wagner",
           -2.966666666666667,
           677
          ],
          [
           "Davion Mitchell",
           -15.28148148148148,
           979
          ],
          [
           "Ziaire Williams",
           -10.222222222222223,
           927
          ],
          [
           "Chris Duarte",
           -8.051851851851852,
           887
          ],
          [
           "Moses Moody",
           -3.403703703703704,
           710
          ],
          [
           "Corey Kispert",
           -6.377777777777778,
           854
          ],
          [
           "Alperen Şengün",
           -1.6851851851851856,
           569
          ],
          [
           "Trey Murphy III",
           -0.8444444444444446,
           504
          ],
          [
           "Tre Mann",
           -5.118518518518519,
           815
          ],
          [
           "Jalen Johnson",
           -0.8074074074074074,
           495
          ],
          [
           "Isaiah Jackson",
           -1.8074074074074074,
           581
          ],
          [
           "Usman Garuba",
           -1.9518518518518515,
           602
          ],
          [
           "Josh Christopher",
           -6.092592592592593,
           846
          ],
          [
           "Quentin Grimes",
           -1.7370370370370372,
           575
          ],
          [
           "Bones Hyland",
           -1.3555555555555556,
           543
          ],
          [
           "Cam Thomas",
           -3.6296296296296298,
           729
          ],
          [
           "Santi Aldama",
           -2.2185185185185183,
           629
          ],
          [
           "Jeremiah Robinson-Earl",
           -1.3555555555555554,
           541
          ],
          [
           "Herbert Jones",
           -0.9037037037037037,
           511
          ],
          [
           "Miles McBride",
           -0.28888888888888886,
           448
          ],
          [
           "JT Thor",
           -0.8592592592592592,
           507
          ],
          [
           "Ayo Dosunmu",
           -1.4370370370370371,
           547
          ],
          [
           "Kessler Edwards",
           0.43333333333333335,
           393
          ],
          [
           "Dalano Banton",
           -0.6740740740740739,
           482
          ],
          [
           "Sandro Mamukelashvili",
           2.1296296296296298,
           304
          ],
          [
           "Aaron Wiggins",
           0.6518518518518519,
           382
          ],
          [
           "Jericho Sims",
           2.2666666666666666,
           299
          ],
          [
           "Tari Eason",
           -3.2444444444444445,
           702
          ]
         ],
         "hovertemplate": "<b>%{hovertext}</b><br><br>Pk=%{x}<br>VORP=%{y}<br>VORP_diff=%{customdata[1]}<br>VORP_rank=%{customdata[2]}<extra></extra>",
         "hovertext": [
          "Allen Iverson",
          "Marcus Camby",
          "Shareef Abdur-Rahim",
          "Stephon Marbury",
          "Ray Allen",
          "Antoine Walker",
          "Lorenzen Wright",
          "Kerry Kittles",
          "Samaki Walker",
          "Erick Dampier",
          "Todd Fuller",
          "Vitaly Potapenko",
          "Kobe Bryant",
          "Peja Stojaković",
          "Steve Nash",
          "Tony Delk",
          "Jermaine O'Neal",
          "John Wallace",
          "Walter McCarty",
          "Zydrunas Ilgauskas",
          "Roy Rogers",
          "Derek Fisher",
          "Martin Müürsepp",
          "Jerome Williams",
          "Brian Evans",
          "Travis Knight",
          "Othella Harrington",
          "Mark Hendrickson",
          "Moochie Norris",
          "Jeff McInnis",
          "Randy Livingston",
          "Malik Rose",
          "Jamie Feick",
          "Amal McCaskill",
          "Mark Pope",
          "Shandon Anderson",
          "Reggie Geary",
          "Tim Duncan",
          "Keith Van Horn",
          "Chauncey Billups",
          "Antonio Daniels",
          "Tony Battie",
          "Ron Mercer",
          "Tim Thomas",
          "Adonal Foyle",
          "Tracy McGrady",
          "Danny Fortson",
          "Tariq Abdul-Wahad",
          "Austin Croshere",
          "Derek Anderson",
          "Maurice Taylor",
          "Kelvin Cato",
          "Brevin Knight",
          "Chris Anstey",
          "Scot Pollard",
          "Anthony Parker",
          "Bobby Jackson",
          "John Thomas",
          "Charles Smith",
          "Jacque Vaughn",
          "Marc Jackson",
          "Anthony Johnson",
          "Stephen Jackson",
          "Cedric Henderson",
          "Eric Washington",
          "Alvin Williams",
          "Predrag Drobnjak",
          "Chris Crawford",
          "Mark Blount",
          "Michael Olowokandi",
          "Mike Bibby",
          "Raef LaFrentz",
          "Antawn Jamison",
          "Vince Carter",
          "Robert Traylor",
          "Jason Williams",
          "Larry Hughes",
          "Dirk Nowitzki",
          "Paul Pierce",
          "Bonzi Wells",
          "Michael Doleac",
          "Keon Clark",
          "Michael Dickerson",
          "Matt Harpring",
          "Bryce Drew",
          "Rasho Nesterović",
          "Pat Garrity",
          "Roshown McLeod",
          "Ricky Davis",
          "Brian Skinner",
          "Tyronn Lue",
          "Felipe López",
          "Al Harrington",
          "Vladimir Stepania",
          "Corey Benjamin",
          "Nazr Mohammed",
          "Ansu Sesay",
          "Ruben Patterson",
          "Rashard Lewis",
          "Jelani McCoy",
          "Shammond Williams",
          "Bruno Šundov",
          "Jerome James",
          "Rafer Alston",
          "Cuttino Mobley",
          "Jahidi White",
          "Sean Marks",
          "Derrick Dial",
          "Greg Buckner",
          "Tremaine Fowlkes",
          "Ryan Bowen",
          "Maceo Baston",
          "Elton Brand",
          "Steve Francis",
          "Baron Davis",
          "Lamar Odom",
          "Jonathan Bender",
          "Wally Szczerbiak",
          "Richard Hamilton",
          "Andre Miller",
          "Shawn Marion",
          "Jason Terry",
          "Trajan Langdon",
          "Corey Maggette",
          "William Avery",
          "Metta World Peace",
          "Cal Bowdler",
          "James Posey",
          "Quincy Lewis",
          "Dion Glover",
          "Jeff Foster",
          "Kenny Thomas",
          "Devean George",
          "Andrei Kirilenko",
          "Vonteego Cummings",
          "Jumaine Jones",
          "Scott Padgett",
          "Michael Ruffin",
          "Evan Eschmeyer",
          "Calvin Booth",
          "Wang Zhizhi",
          "Obinna Ekezie",
          "Laron Profit",
          "Gordan Giriček",
          "Francisco Elson",
          "Lee Nailon",
          "Todd MacCulloch",
          "Rodney Buford",
          "Manu Ginóbili",
          "Kenyon Martin",
          "Stromile Swift",
          "Darius Miles",
          "Marcus Fizer",
          "Mike Miller",
          "DerMarr Johnson",
          "Chris Mihm",
          "Jamal Crawford",
          "Joel Przybilla",
          "Keyon Dooling",
          "Jérôme Moïso",
          "Etan Thomas",
          "Courtney Alexander",
          "Mateen Cleaves",
          "Jason Collier",
          "Hedo Türkoğlu",
          "Desmond Mason",
          "Quentin Richardson",
          "Jamaal Magloire",
          "Speedy Claxton",
          "Morris Peterson",
          "Donnell Harvey",
          "DeShawn Stevenson",
          "Dalibor Bagarić",
          "Jake Tsakalidis",
          "Primož Brezec",
          "Mark Madsen",
          "Marko Jarić",
          "Dan Langhi",
          "Jake Voskuhl",
          "Eddie House",
          "Eduardo Nájera",
          "Hanno Möttölä",
          "Olumide Oyedeji",
          "Michael Redd",
          "Brian Cardinal",
          "Jabari Smith",
          "Jason Hart",
          "Kwame Brown",
          "Tyson Chandler",
          "Pau Gasol",
          "Eddy Curry",
          "Jason Richardson",
          "Shane Battier",
          "Eddie Griffin",
          "DeSagana Diop",
          "Rodney White",
          "Joe Johnson",
          "Kedrick Brown",
          "Vladimir Radmanović",
          "Richard Jefferson",
          "Troy Murphy",
          "Steven Hunter",
          "Michael Bradley",
          "Jason Collins",
          "Zach Randolph",
          "Brendan Haywood",
          "Jeryl Sasser",
          "Brandon Armstrong",
          "Raül López",
          "Gerald Wallace",
          "Samuel Dalembert",
          "Jamaal Tinsley",
          "Tony Parker",
          "Trenton Hassell",
          "Gilbert Arenas",
          "Will Solomon",
          "Terence Morris",
          "Brian Scalabrine",
          "Mehmet Okur",
          "Earl Watson",
          "Bobby Simmons",
          "Loren Woods",
          "Jarron Collins",
          "Yao Ming",
          "Mike Dunleavy",
          "Drew Gooden",
          "Nikoloz Tskitishvili",
          "Dajuan Wagner",
          "Nenê",
          "Chris Wilcox",
          "Amar'e Stoudemire",
          "Caron Butler",
          "Jared Jeffries",
          "Melvin Ely",
          "Marcus Haislip",
          "Fred Jones",
          "Boštjan Nachbar",
          "Jiří Welsch",
          "Juan Dixon",
          "Curtis Borchardt",
          "Ryan Humphrey",
          "Kareem Rush",
          "Qyntel Woods",
          "Casey Jacobsen",
          "Tayshaun Prince",
          "Nenad Krstić",
          "Frank Williams",
          "John Salmons",
          "Dan Dickau",
          "Roger Mason",
          "Dan Gadzuric",
          "Carlos Boozer",
          "David Andersen",
          "Juan Carlos Navarro",
          "Ronald Murray",
          "Lonny Baxter",
          "Matt Barnes",
          "Darius Songaila",
          "Rasual Butler",
          "Luis Scola",
          "LeBron James",
          "Darko Miličić",
          "Carmelo Anthony",
          "Chris Bosh",
          "Dwyane Wade",
          "Chris Kaman",
          "Kirk Hinrich",
          "T.J. Ford",
          "Mike Sweetney",
          "Jarvis Hayes",
          "Mickaël Piétrus",
          "Nick Collison",
          "Marcus Banks",
          "Luke Ridnour",
          "Žarko Čabarkapa",
          "David West",
          "Sasha Pavlović",
          "Dahntay Jones",
          "Boris Diaw",
          "Zoran Planinić",
          "Travis Outlaw",
          "Brian Cook",
          "Carlos Delfino",
          "Kendrick Perkins",
          "Leandro Barbosa",
          "Josh Howard",
          "Jason Kapono",
          "Luke Walton",
          "Steve Blake",
          "Willie Green",
          "Zaza Pachulia",
          "Keith Bogans",
          "Matt Bonner",
          "Mo Williams",
          "James Jones",
          "Kyle Korver",
          "Dwight Howard",
          "Emeka Okafor",
          "Ben Gordon",
          "Shaun Livingston",
          "Devin Harris",
          "Josh Childress",
          "Luol Deng",
          "Rafael Araújo",
          "Andre Iguodala",
          "Andris Biedriņš",
          "Robert Swift",
          "Sebastian Telfair",
          "Kris Humphries",
          "Al Jefferson",
          "Kirk Snyder",
          "Josh Smith",
          "J.R. Smith",
          "Dorell Wright",
          "Jameer Nelson",
          "Viktor Khryapa",
          "Delonte West",
          "Tony Allen",
          "Kevin Martin",
          "Sasha Vujačić",
          "Beno Udrih",
          "David Harrison",
          "Anderson Varejão",
          "Jackson Vroman",
          "Royal Ivey",
          "Chris Duhon",
          "Justin Reed",
          "Trevor Ariza",
          "Bernard Robinson",
          "Andrew Bogut",
          "Marvin Williams",
          "Deron Williams",
          "Chris Paul",
          "Raymond Felton",
          "Martell Webster",
          "Charlie Villanueva",
          "Channing Frye",
          "Ike Diogu",
          "Andrew Bynum",
          "Sean May",
          "Rashad McCants",
          "Antoine Wright",
          "Joey Graham",
          "Danny Granger",
          "Gerald Green",
          "Hakim Warrick",
          "Nate Robinson",
          "Jarrett Jack",
          "Francisco García",
          "Luther Head",
          "Johan Petro",
          "Jason Maxiell",
          "Linas Kleiza",
          "Ian Mahinmi",
          "David Lee",
          "Salim Stoudamire",
          "Daniel Ewing",
          "Brandon Bass",
          "C.J. Miles",
          "Ersan İlyasova",
          "Ronny Turiaf",
          "Travis Diener",
          "Von Wafer",
          "Monta Ellis",
          "Roko Ukić",
          "Lou Williams",
          "Mickaël Gelabale",
          "Andray Blatche",
          "Ryan Gomes",
          "Orien Greene",
          "Lawrence Roberts",
          "Amir Johnson",
          "Marcin Gortat",
          "Andrea Bargnani",
          "LaMarcus Aldridge",
          "Adam Morrison",
          "Tyrus Thomas",
          "Shelden Williams",
          "Brandon Roy",
          "Randy Foye",
          "Rudy Gay",
          "Patrick O'Bryant",
          "J.J. Redick",
          "Hilton Armstrong",
          "Thabo Sefolosha",
          "Ronnie Brewer",
          "Rodney Carney",
          "Shawne Williams",
          "Oleksiy Pecherov",
          "Quincy Douby",
          "Renaldo Balkman",
          "Rajon Rondo",
          "Marcus Williams",
          "Josh Boone",
          "Kyle Lowry",
          "Shannon Brown",
          "Jordan Farmar",
          "Sergio Rodríguez",
          "Maurice Ager",
          "Mardy Collins",
          "Joel Freeland",
          "Steve Novak",
          "Solomon Jones",
          "Paul Davis",
          "P.J. Tucker",
          "Craig Smith",
          "Bobby Jones",
          "Daniel Gibson",
          "Alexander Johnson",
          "Paul Millsap",
          "Leon Powe",
          "Ryan Hollins",
          "Greg Oden",
          "Kevin Durant",
          "Al Horford",
          "Mike Conley",
          "Jeff Green",
          "Yi Jianlian",
          "Corey Brewer",
          "Brandan Wright",
          "Joakim Noah",
          "Spencer Hawes",
          "Acie Law",
          "Thaddeus Young",
          "Julian Wright",
          "Al Thornton",
          "Rodney Stuckey",
          "Nick Young",
          "Sean Williams",
          "Marco Belinelli",
          "Javaris Crittenton",
          "Jason Smith",
          "Daequan Cook",
          "Jared Dudley",
          "Wilson Chandler",
          "Rudy Fernández",
          "Aaron Brooks",
          "Arron Afflalo",
          "Tiago Splitter",
          "Carl Landry",
          "Glen Davis",
          "Josh McRoberts",
          "Kyrylo Fesenko",
          "Dominic McGuire",
          "Marc Gasol",
          "Aaron Gray",
          "Ramon Sessions",
          "Derrick Rose",
          "Michael Beasley",
          "O.J. Mayo",
          "Russell Westbrook",
          "Kevin Love",
          "Danilo Gallinari",
          "Eric Gordon",
          "D.J. Augustin",
          "Brook Lopez",
          "Jerryd Bayless",
          "Jason Thompson",
          "Brandon Rush",
          "Anthony Randolph",
          "Robin Lopez",
          "Marreese Speights",
          "Roy Hibbert",
          "JaVale McGee",
          "J.J. Hickson",
          "Alexis Ajinça",
          "Ryan Anderson",
          "Courtney Lee",
          "Kosta Koufos",
          "Serge Ibaka",
          "Nicolas Batum",
          "George Hill",
          "Darrell Arthur",
          "Donté Greene",
          "D.J. White",
          "Nikola Peković",
          "Joey Dorsey",
          "Mario Chalmers",
          "DeAndre Jordan",
          "Ömer Aşık",
          "Luc Mbah a Moute",
          "Sonny Weems",
          "Chris Douglas-Roberts",
          "Goran Dragić",
          "Henry Walker",
          "Darnell Jackson",
          "Blake Griffin",
          "Hasheem Thabeet",
          "James Harden",
          "Tyreke Evans",
          "Ricky Rubio",
          "Jonny Flynn",
          "Stephen Curry",
          "Jordan Hill",
          "DeMar DeRozan",
          "Brandon Jennings",
          "Terrence Williams",
          "Gerald Henderson",
          "Tyler Hansbrough",
          "Earl Clark",
          "Austin Daye",
          "James Johnson",
          "Jrue Holiday",
          "Ty Lawson",
          "Jeff Teague",
          "Eric Maynor",
          "Darren Collison",
          "Omri Casspi",
          "Byron Mullens",
          "Rodrigue Beaubois",
          "Taj Gibson",
          "DeMarre Carroll",
          "Wayne Ellington",
          "Toney Douglas",
          "Jeff Ayres",
          "Dante Cunningham",
          "DaJuan Summers",
          "Sam Young",
          "DeJuan Blair",
          "Jon Brockman",
          "Jonas Jerebko",
          "Derrick Brown",
          "Jodie Meeks",
          "Patrick Beverley",
          "Marcus Thornton",
          "Chase Budinger",
          "Nick Calathes",
          "Danny Green",
          "A.J. Price",
          "Nando De Colo",
          "Patty Mills",
          "John Wall",
          "Evan Turner",
          "Derrick Favors",
          "Wesley Johnson",
          "DeMarcus Cousins",
          "Ekpe Udoh",
          "Greg Monroe",
          "Al-Farouq Aminu",
          "Gordon Hayward",
          "Paul George",
          "Cole Aldrich",
          "Xavier Henry",
          "Ed Davis",
          "Patrick Patterson",
          "Larry Sanders",
          "Luke Babbitt",
          "Kevin Séraphin",
          "Eric Bledsoe",
          "Avery Bradley",
          "James Anderson",
          "Elliot Williams",
          "Trevor Booker",
          "Quincy Pondexter",
          "Jordan Crawford",
          "Greivis Vásquez",
          "Hassan Whiteside",
          "Nemanja Bjelica",
          "Landry Fields",
          "Lance Stephenson",
          "Jeremy Evans",
          "Kyrie Irving",
          "Derrick Williams",
          "Enes Freedom",
          "Tristan Thompson",
          "Jonas Valančiūnas",
          "Jan Veselý",
          "Bismack Biyombo",
          "Brandon Knight",
          "Kemba Walker",
          "Jimmer Fredette",
          "Klay Thompson",
          "Alec Burks",
          "Markieff Morris",
          "Marcus Morris",
          "Kawhi Leonard",
          "Nikola Vučević",
          "Iman Shumpert",
          "Chris Singleton",
          "Tobias Harris",
          "Donatas Motiejūnas",
          "Nolan Smith",
          "Kenneth Faried",
          "Nikola Mirotić",
          "Reggie Jackson",
          "MarShon Brooks",
          "Jordan Hamilton",
          "Norris Cole",
          "Cory Joseph",
          "Jimmy Butler",
          "Bojan Bogdanović",
          "Kyle Singler",
          "Shelvin Mack",
          "Chandler Parsons",
          "Jeremy Tyler",
          "Jon Leuer",
          "Darius Morris",
          "Dāvis Bertāns",
          "Charles Jenkins",
          "Lavoy Allen",
          "DeAndre Liggins",
          "E'Twaun Moore",
          "Isaiah Thomas",
          "Anthony Davis",
          "Michael Kidd-Gilchrist",
          "Bradley Beal",
          "Dion Waiters",
          "Thomas Robinson",
          "Damian Lillard",
          "Harrison Barnes",
          "Terrence Ross",
          "Andre Drummond",
          "Austin Rivers",
          "Meyers Leonard",
          "Jeremy Lamb",
          "Kendall Marshall",
          "John Henson",
          "Maurice Harkless",
          "Tyler Zeller",
          "Terrence Jones",
          "Andrew Nicholson",
          "Evan Fournier",
          "Jared Sullinger",
          "John Jenkins",
          "Jared Cunningham",
          "Tony Wroten",
          "Miles Plumlee",
          "Perry Jones",
          "Marquis Teague",
          "Festus Ezeli",
          "Jeff Taylor",
          "Tomáš Satoranský",
          "Bernard James",
          "Jae Crowder",
          "Draymond Green",
          "Orlando Johnson",
          "Quincy Acy",
          "Khris Middleton",
          "Will Barton",
          "Doron Lamb",
          "Mike Scott",
          "Justin Hamilton",
          "Darius Miller",
          "Kyle O'Quinn",
          "Robbie Hummel",
          "Robert Sacre",
          "Anthony Bennett",
          "Victor Oladipo",
          "Otto Porter Jr.",
          "Cody Zeller",
          "Alex Len",
          "Nerlens Noel",
          "Ben McLemore",
          "Kentavious Caldwell-Pope",
          "Trey Burke",
          "CJ McCollum",
          "Michael Carter-Williams",
          "Steven Adams",
          "Kelly Olynyk",
          "Shabazz Muhammad",
          "Giannis Antetokounmpo",
          "Lucas Nogueira",
          "Dennis Schröder",
          "Shane Larkin",
          "Sergey Karasev",
          "Tony Snell",
          "Gorgui Dieng",
          "Mason Plumlee",
          "Solomon Hill",
          "Tim Hardaway Jr.",
          "Reggie Bullock",
          "Andre Roberson",
          "Rudy Gobert",
          "Archie Goodwin",
          "Allen Crabbe",
          "Álex Abrines",
          "Isaiah Canaan",
          "Ray McCallum",
          "Nate Wolters",
          "Jeff Withey",
          "Mike Muscala",
          "Raul Neto",
          "Ryan Kelly",
          "James Ennis III",
          "Lorenzo Brown",
          "Joffrey Lauvergne",
          "Andrew Wiggins",
          "Jabari Parker",
          "Joel Embiid",
          "Aaron Gordon",
          "Dante Exum",
          "Marcus Smart",
          "Julius Randle",
          "Nik Stauskas",
          "Noah Vonleh",
          "Elfrid Payton",
          "Doug McDermott",
          "Dario Šarić",
          "Zach LaVine",
          "T.J. Warren",
          "Adreian Payne",
          "Jusuf Nurkić",
          "James Young",
          "Tyler Ennis",
          "Gary Harris",
          "Bruno Caboclo",
          "Rodney Hood",
          "Shabazz Napier",
          "Clint Capela",
          "P.J. Hairston",
          "Bogdan Bogdanović",
          "Kyle Anderson",
          "K.J. McDaniels",
          "Joe Harris",
          "Johnny O'Bryant",
          "Spencer Dinwiddie",
          "Jerami Grant",
          "Glenn Robinson III",
          "Nikola Jokić",
          "Markel Brown",
          "Dwight Powell",
          "Jordan Clarkson",
          "Thanasis Antetokounmpo",
          "Jordan McRae",
          "Karl-Anthony Towns",
          "D'Angelo Russell",
          "Jahlil Okafor",
          "Kristaps Porziņģis",
          "Mario Hezonja",
          "Willie Cauley-Stein",
          "Emmanuel Mudiay",
          "Stanley Johnson",
          "Frank Kaminsky",
          "Justise Winslow",
          "Myles Turner",
          "Trey Lyles",
          "Devin Booker",
          "Cameron Payne",
          "Kelly Oubre Jr.",
          "Terry Rozier",
          "Rashad Vaughn",
          "Sam Dekker",
          "Jerian Grant",
          "Delon Wright",
          "Justin Anderson",
          "Bobby Portis",
          "Rondae Hollis-Jefferson",
          "Tyus Jones",
          "Jarell Martin",
          "Larry Nance Jr.",
          "Kevon Looney",
          "Cedi Osman",
          "Montrezl Harrell",
          "Willy Hernangómez",
          "Richaun Holmes",
          "Darrun Hilliard",
          "Josh Richardson",
          "Pat Connaughton",
          "Joe Young",
          "Andrew Harrison",
          "Norman Powell",
          "Ben Simmons",
          "Brandon Ingram",
          "Jaylen Brown",
          "Dragan Bender",
          "Kris Dunn",
          "Buddy Hield",
          "Jamal Murray",
          "Marquese Chriss",
          "Jakob Poeltl",
          "Thon Maker",
          "Domantas Sabonis",
          "Taurean Prince",
          "Denzel Valentine",
          "Juancho Hernangómez",
          "Henry Ellenson",
          "Malik Beasley",
          "Caris LeVert",
          "DeAndre' Bembry",
          "Ante Žižić",
          "Timothé Luwawu-Cabarrot",
          "Furkan Korkmaz",
          "Pascal Siakam",
          "Skal Labissière",
          "Dejounte Murray",
          "Damian Jones",
          "Deyonta Davis",
          "Ivica Zubac",
          "Cheick Diallo",
          "Tyler Ulis",
          "Malcolm Brogdon",
          "Patrick McCaw",
          "Isaiah Whitehead",
          "Jake Layman",
          "Paul Zipser",
          "Georges Niang",
          "Abdel Nader",
          "Tyrone Wallace",
          "Markelle Fultz",
          "Lonzo Ball",
          "Jayson Tatum",
          "Josh Jackson",
          "De'Aaron Fox",
          "Jonathan Isaac",
          "Lauri Markkanen",
          "Frank Ntilikina",
          "Dennis Smith Jr.",
          "Zach Collins",
          "Malik Monk",
          "Luke Kennard",
          "Donovan Mitchell",
          "Bam Adebayo",
          "Justin Jackson",
          "D.J. Wilson",
          "T.J. Leaf",
          "John Collins",
          "Harry Giles",
          "Terrance Ferguson",
          "Jarrett Allen",
          "OG Anunoby",
          "Kyle Kuzma",
          "Tony Bradley",
          "Derrick White",
          "Josh Hart",
          "Frank Jackson",
          "Davon Reed",
          "Wes Iwundu",
          "Frank Mason III",
          "Ivan Rabb",
          "Semi Ojeleye",
          "Jordan Bell",
          "Dwayne Bacon",
          "Tyler Dorsey",
          "Thomas Bryant",
          "Isaiah Hartenstein",
          "Damyean Dotson",
          "Dillon Brooks",
          "Sterling Brown",
          "Sindarius Thornwell",
          "Vlatko Čančar",
          "Monte Morris",
          "Edmond Sumner",
          "Deandre Ayton",
          "Marvin Bagley III",
          "Luka Dončić",
          "Jaren Jackson Jr.",
          "Trae Young",
          "Mo Bamba",
          "Wendell Carter Jr.",
          "Collin Sexton",
          "Kevin Knox",
          "Mikal Bridges",
          "Shai Gilgeous-Alexander",
          "Miles Bridges",
          "Jerome Robinson",
          "Michael Porter Jr.",
          "Troy Brown Jr.",
          "Donte DiVincenzo",
          "Lonnie Walker IV",
          "Kevin Huerter",
          "Josh Okogie",
          "Grayson Allen",
          "Chandler Hutchison",
          "Aaron Holiday",
          "Anfernee Simons",
          "Moritz Wagner",
          "Landry Shamet",
          "Robert Williams",
          "Omari Spellman",
          "Elie Okobo",
          "Jevon Carter",
          "Jalen Brunson",
          "Devonte' Graham",
          "Mitchell Robinson",
          "Gary Trent Jr.",
          "Isaac Bonga",
          "Rodions Kurucs",
          "Jarred Vanderbilt",
          "Bruce Brown",
          "Hamidou Diallo",
          "De'Anthony Melton",
          "Svi Mykhailiuk",
          "Keita Bates-Diop",
          "Chimezie Metu",
          "Shake Milton",
          "Zion Williamson",
          "Ja Morant",
          "RJ Barrett",
          "De'Andre Hunter",
          "Darius Garland",
          "Jarrett Culver",
          "Coby White",
          "Jaxson Hayes",
          "Rui Hachimura",
          "Cam Reddish",
          "Cameron Johnson",
          "P.J. Washington",
          "Tyler Herro",
          "Romeo Langford",
          "Sekou Doumbouya",
          "Chuma Okeke",
          "Nickeil Alexander-Walker",
          "Goga Bitadze",
          "Matisse Thybulle",
          "Brandon Clarke",
          "Grant Williams",
          "Darius Bazley",
          "Ty Jerome",
          "Nassir Little",
          "Dylan Windler",
          "Jordan Poole",
          "Keldon Johnson",
          "Kevin Porter Jr.",
          "Nic Claxton",
          "KZ Okpala",
          "Bruno Fernando",
          "Cody Martin",
          "Daniel Gafford",
          "Eric Paschall",
          "Admiral Schofield",
          "Jaylen Nowell",
          "Bol Bol",
          "Isaiah Roby",
          "Talen Horton-Tucker",
          "Terance Mann",
          "Jalen McDaniels",
          "Anthony Edwards",
          "James Wiseman",
          "LaMelo Ball",
          "Patrick Williams",
          "Isaac Okoro",
          "Onyeka Okongwu",
          "Killian Hayes",
          "Obi Toppin",
          "Deni Avdija",
          "Jalen Smith",
          "Devin Vassell",
          "Tyrese Haliburton",
          "Kira Lewis Jr.",
          "Aaron Nesmith",
          "Cole Anthony",
          "Isaiah Stewart",
          "Aleksej Pokusevski",
          "Josh Green",
          "Saddiq Bey",
          "Precious Achiuwa",
          "Tyrese Maxey",
          "Zeke Nnaji",
          "R.J. Hampton",
          "Immanuel Quickley",
          "Payton Pritchard",
          "Jaden McDaniels",
          "Malachi Flynn",
          "Desmond Bane",
          "Théo Maledon",
          "Xavier Tillman Sr.",
          "Saben Lee",
          "Tre Jones",
          "Nick Richards",
          "Jordan Nwora",
          "CJ Elleby",
          "Isaiah Joe",
          "Kenyon Martin Jr.",
          "Paul Reed",
          "Jalen Green",
          "Evan Mobley",
          "Scottie Barnes",
          "Jalen Suggs",
          "Josh Giddey",
          "Jonathan Kuminga",
          "Franz Wagner",
          "Davion Mitchell",
          "Ziaire Williams",
          "Chris Duarte",
          "Moses Moody",
          "Corey Kispert",
          "Alperen Şengün",
          "Trey Murphy III",
          "Tre Mann",
          "Jalen Johnson",
          "Isaiah Jackson",
          "Usman Garuba",
          "Josh Christopher",
          "Quentin Grimes",
          "Bones Hyland",
          "Cam Thomas",
          "Santi Aldama",
          "Jeremiah Robinson-Earl",
          "Herbert Jones",
          "Miles McBride",
          "JT Thor",
          "Ayo Dosunmu",
          "Kessler Edwards",
          "Dalano Banton",
          "Sandro Mamukelashvili",
          "Aaron Wiggins",
          "Jericho Sims",
          "Tari Eason"
         ],
         "legendgroup": "",
         "marker": {
          "color": "#636efa",
          "size": 12,
          "symbol": "circle"
         },
         "mode": "markers",
         "name": "",
         "orientation": "v",
         "showlegend": false,
         "type": "scatter",
         "x": [
          1,
          2,
          3,
          4,
          5,
          6,
          7,
          8,
          9,
          10,
          11,
          12,
          13,
          14,
          15,
          16,
          17,
          18,
          19,
          20,
          22,
          24,
          25,
          26,
          27,
          29,
          30,
          31,
          33,
          37,
          42,
          44,
          48,
          49,
          52,
          54,
          56,
          1,
          2,
          3,
          4,
          5,
          6,
          7,
          8,
          9,
          10,
          11,
          12,
          13,
          14,
          15,
          16,
          18,
          19,
          21,
          23,
          25,
          26,
          27,
          38,
          40,
          43,
          45,
          47,
          48,
          49,
          51,
          55,
          1,
          2,
          3,
          4,
          5,
          6,
          7,
          8,
          9,
          10,
          11,
          12,
          13,
          14,
          15,
          16,
          17,
          19,
          20,
          21,
          22,
          23,
          24,
          25,
          27,
          28,
          29,
          30,
          31,
          32,
          33,
          34,
          35,
          36,
          39,
          41,
          43,
          44,
          52,
          53,
          54,
          55,
          58,
          1,
          2,
          3,
          4,
          5,
          6,
          7,
          8,
          9,
          10,
          11,
          13,
          14,
          16,
          17,
          18,
          19,
          20,
          21,
          22,
          23,
          24,
          26,
          27,
          28,
          32,
          34,
          35,
          36,
          37,
          38,
          40,
          41,
          43,
          47,
          53,
          57,
          1,
          2,
          3,
          4,
          5,
          6,
          7,
          8,
          9,
          10,
          11,
          12,
          13,
          14,
          15,
          16,
          17,
          18,
          19,
          20,
          21,
          22,
          23,
          24,
          25,
          27,
          29,
          30,
          31,
          33,
          37,
          38,
          40,
          42,
          43,
          44,
          45,
          49,
          1,
          2,
          3,
          4,
          5,
          6,
          7,
          8,
          9,
          10,
          11,
          12,
          13,
          14,
          15,
          17,
          18,
          19,
          20,
          22,
          23,
          24,
          25,
          26,
          27,
          28,
          30,
          31,
          33,
          34,
          35,
          38,
          40,
          42,
          46,
          53,
          1,
          3,
          4,
          5,
          6,
          7,
          8,
          9,
          10,
          11,
          12,
          13,
          14,
          15,
          16,
          17,
          18,
          19,
          20,
          21,
          22,
          23,
          24,
          25,
          26,
          28,
          31,
          34,
          35,
          37,
          40,
          42,
          44,
          46,
          50,
          53,
          56,
          1,
          2,
          3,
          4,
          5,
          6,
          7,
          8,
          9,
          10,
          11,
          12,
          13,
          14,
          17,
          18,
          19,
          20,
          21,
          22,
          23,
          24,
          25,
          27,
          28,
          29,
          31,
          32,
          38,
          41,
          42,
          43,
          45,
          47,
          49,
          51,
          1,
          2,
          3,
          4,
          5,
          6,
          7,
          8,
          9,
          11,
          12,
          13,
          14,
          15,
          16,
          17,
          18,
          19,
          20,
          22,
          24,
          25,
          26,
          27,
          28,
          29,
          30,
          31,
          37,
          38,
          40,
          43,
          45,
          1,
          2,
          3,
          4,
          5,
          6,
          7,
          8,
          9,
          10,
          13,
          14,
          15,
          16,
          17,
          18,
          19,
          21,
          22,
          23,
          24,
          25,
          26,
          27,
          28,
          30,
          31,
          32,
          33,
          34,
          36,
          37,
          38,
          39,
          40,
          41,
          45,
          48,
          49,
          50,
          53,
          55,
          56,
          57,
          1,
          2,
          3,
          4,
          5,
          6,
          7,
          8,
          9,
          11,
          12,
          13,
          14,
          16,
          17,
          18,
          19,
          20,
          21,
          22,
          23,
          24,
          25,
          26,
          27,
          28,
          29,
          30,
          32,
          33,
          34,
          35,
          36,
          37,
          42,
          45,
          47,
          49,
          50,
          1,
          2,
          3,
          4,
          5,
          6,
          7,
          8,
          9,
          10,
          11,
          12,
          13,
          14,
          15,
          16,
          17,
          18,
          19,
          20,
          21,
          22,
          23,
          24,
          26,
          27,
          28,
          31,
          35,
          37,
          38,
          47,
          48,
          49,
          56,
          1,
          2,
          3,
          4,
          5,
          6,
          7,
          9,
          10,
          11,
          12,
          13,
          14,
          15,
          16,
          17,
          18,
          19,
          20,
          21,
          22,
          23,
          24,
          25,
          26,
          27,
          28,
          29,
          31,
          33,
          34,
          35,
          36,
          37,
          39,
          40,
          45,
          47,
          52,
          1,
          2,
          3,
          4,
          5,
          6,
          7,
          8,
          9,
          10,
          11,
          12,
          13,
          14,
          15,
          16,
          17,
          18,
          19,
          20,
          21,
          23,
          24,
          25,
          26,
          27,
          28,
          29,
          31,
          33,
          35,
          36,
          37,
          38,
          39,
          40,
          41,
          42,
          43,
          44,
          45,
          46,
          52,
          53,
          55,
          1,
          2,
          3,
          4,
          5,
          6,
          7,
          8,
          9,
          10,
          11,
          12,
          13,
          14,
          15,
          16,
          17,
          18,
          19,
          20,
          22,
          23,
          26,
          27,
          28,
          33,
          35,
          39,
          40,
          55,
          1,
          2,
          3,
          4,
          5,
          6,
          7,
          8,
          9,
          10,
          11,
          12,
          13,
          14,
          15,
          16,
          17,
          18,
          19,
          20,
          21,
          22,
          23,
          24,
          25,
          26,
          28,
          29,
          30,
          31,
          33,
          34,
          38,
          39,
          40,
          41,
          42,
          44,
          50,
          53,
          55,
          60,
          1,
          2,
          3,
          4,
          5,
          6,
          7,
          8,
          9,
          10,
          11,
          12,
          13,
          14,
          15,
          17,
          18,
          19,
          20,
          21,
          23,
          24,
          25,
          26,
          28,
          29,
          30,
          31,
          32,
          33,
          34,
          35,
          36,
          37,
          39,
          40,
          42,
          43,
          45,
          46,
          49,
          58,
          60,
          1,
          2,
          3,
          4,
          5,
          6,
          7,
          8,
          9,
          10,
          11,
          12,
          13,
          14,
          15,
          16,
          17,
          18,
          19,
          20,
          21,
          22,
          23,
          24,
          25,
          26,
          27,
          29,
          31,
          32,
          34,
          36,
          38,
          39,
          44,
          47,
          48,
          50,
          52,
          55,
          1,
          2,
          3,
          4,
          5,
          6,
          7,
          8,
          9,
          10,
          11,
          12,
          13,
          14,
          15,
          16,
          17,
          18,
          19,
          20,
          23,
          24,
          25,
          26,
          27,
          30,
          32,
          33,
          36,
          38,
          39,
          40,
          41,
          44,
          45,
          46,
          51,
          58,
          1,
          2,
          3,
          4,
          5,
          6,
          7,
          8,
          9,
          10,
          11,
          12,
          13,
          14,
          15,
          16,
          17,
          18,
          19,
          20,
          21,
          22,
          23,
          24,
          25,
          27,
          30,
          31,
          32,
          35,
          37,
          38,
          40,
          41,
          43,
          44,
          46,
          1,
          2,
          3,
          4,
          5,
          6,
          7,
          8,
          9,
          10,
          11,
          12,
          14,
          15,
          18,
          19,
          20,
          21,
          23,
          24,
          26,
          27,
          28,
          29,
          30,
          31,
          32,
          33,
          34,
          36,
          38,
          42,
          47,
          48,
          50,
          58,
          60,
          1,
          2,
          3,
          4,
          5,
          6,
          7,
          8,
          9,
          10,
          11,
          12,
          13,
          14,
          15,
          17,
          18,
          19,
          20,
          21,
          22,
          23,
          27,
          28,
          29,
          30,
          31,
          32,
          33,
          34,
          35,
          37,
          38,
          40,
          41,
          42,
          43,
          44,
          45,
          46,
          48,
          49,
          51,
          52,
          1,
          2,
          3,
          4,
          5,
          6,
          7,
          8,
          9,
          10,
          11,
          12,
          13,
          14,
          15,
          17,
          18,
          19,
          20,
          21,
          22,
          23,
          24,
          25,
          26,
          27,
          30,
          31,
          32,
          33,
          34,
          36,
          37,
          39,
          40,
          41,
          42,
          45,
          46,
          47,
          48,
          49,
          54,
          1,
          2,
          3,
          4,
          5,
          6,
          7,
          8,
          9,
          10,
          11,
          12,
          13,
          14,
          15,
          16,
          17,
          18,
          20,
          21,
          22,
          23,
          24,
          25,
          26,
          28,
          29,
          30,
          31,
          32,
          34,
          36,
          38,
          41,
          42,
          43,
          44,
          45,
          46,
          48,
          52,
          1,
          2,
          3,
          4,
          5,
          6,
          7,
          8,
          9,
          10,
          11,
          12,
          13,
          14,
          15,
          16,
          17,
          18,
          19,
          20,
          21,
          22,
          24,
          25,
          26,
          28,
          29,
          30,
          34,
          35,
          38,
          41,
          42,
          45,
          46,
          49,
          52,
          58,
          2,
          3,
          4,
          5,
          6,
          7,
          8,
          9,
          10,
          13,
          14,
          15,
          16,
          17,
          18,
          20,
          22,
          23,
          24,
          25,
          26,
          27,
          30,
          32,
          35,
          36,
          37,
          38,
          44,
          46,
          54,
          55,
          58,
          17
         ],
         "xaxis": "x",
         "y": [
          49.6,
          31.3,
          21.9,
          30.7,
          57.6,
          18,
          -3,
          18,
          -1.1,
          4.1,
          -2.3,
          -5.9,
          80.1,
          26.2,
          48.2,
          4.8,
          15.6,
          -1,
          0.8,
          10.2,
          -1,
          8.9,
          0.1,
          7.4,
          0.3,
          -1.1,
          -4.9,
          -0.7,
          1.2,
          -0.3,
          -0.3,
          -0.4,
          -0.7,
          -0.7,
          -0.9,
          3,
          -0.1,
          91.1,
          9.6,
          43.5,
          10.1,
          0.8,
          -2.5,
          6.4,
          1.1,
          55.7,
          -2.6,
          -1.2,
          5.6,
          13.5,
          -5.3,
          4.4,
          10.5,
          -0.5,
          2.9,
          6.1,
          10,
          -1.4,
          0.4,
          -4.5,
          -1.4,
          2,
          11.2,
          -1.3,
          -0.9,
          4.9,
          -1.3,
          -0.6,
          -2.5,
          -8.5,
          23.8,
          9.8,
          24.5,
          57.9,
          0.7,
          12.9,
          10.7,
          84.8,
          65.5,
          8.3,
          -3.7,
          2.6,
          1.3,
          6.2,
          -1.1,
          5,
          0.5,
          -1.3,
          6.3,
          -1.5,
          0.6,
          -0.5,
          3.7,
          -1.2,
          -1.6,
          -2.2,
          -0.4,
          10.8,
          33.1,
          -0.9,
          1.7,
          -0.9,
          -3.5,
          9.6,
          12.9,
          -1.8,
          -1.7,
          -3.1,
          3,
          -3.1,
          2,
          0.2,
          37.3,
          22.7,
          33.1,
          31.4,
          -0.6,
          13.6,
          13.2,
          33.4,
          47.6,
          37.4,
          0.4,
          13.3,
          -1.1,
          25.4,
          -0.4,
          13.7,
          -1.4,
          0.3,
          6.3,
          3.1,
          1.4,
          41.7,
          -0.3,
          2.1,
          2.3,
          -2,
          -0.5,
          0.3,
          0.1,
          -1.3,
          -3.1,
          -1.1,
          -1.3,
          -3.1,
          2,
          -1.9,
          47.6,
          12.1,
          1.1,
          3,
          -2.6,
          19.8,
          0.6,
          -4.3,
          18.4,
          0.8,
          -0.2,
          -0.3,
          -0.2,
          -1.7,
          -1.7,
          -1.9,
          19.6,
          -2.1,
          8.5,
          -3.1,
          3.6,
          7.6,
          -0.5,
          -3.5,
          -1.5,
          -1.4,
          -1.7,
          -2.9,
          3.8,
          -0.8,
          -3,
          6.1,
          3,
          -2.3,
          -0.3,
          21.4,
          3.2,
          -0.6,
          1,
          -1.3,
          16.9,
          57.5,
          -1.3,
          23.8,
          28.2,
          2.8,
          0.2,
          -0.1,
          26.5,
          0.4,
          7.6,
          19.4,
          10.6,
          -0.5,
          -1,
          -6.5,
          18.8,
          2.9,
          -0.1,
          -1,
          -0.2,
          23.5,
          4.6,
          7.1,
          30.1,
          -3.7,
          22.3,
          -0.5,
          -0.4,
          -1.2,
          14.5,
          2.8,
          3.6,
          -0.3,
          -2.5,
          20.7,
          15.7,
          4.3,
          -2,
          -1.6,
          18.8,
          1.2,
          21.9,
          12.6,
          -1.5,
          -3.1,
          -0.6,
          2.6,
          0.6,
          0.1,
          -0.3,
          -0.5,
          -1.2,
          -1.8,
          -0.4,
          -0.3,
          18,
          -1.5,
          -0.3,
          6.7,
          0.6,
          1.4,
          -0.7,
          23.1,
          -0.3,
          -0.2,
          -0.5,
          -1.2,
          10.7,
          -0.2,
          2.6,
          6.4,
          146.6,
          -0.9,
          36.7,
          31.1,
          62.8,
          0.4,
          13.3,
          4.6,
          -0.6,
          -1.3,
          3.2,
          3.1,
          -0.1,
          7.5,
          -0.7,
          27.6,
          -3.1,
          -4.1,
          15.5,
          -0.6,
          2.1,
          0.5,
          7.2,
          0.6,
          8.6,
          10,
          -1.3,
          2.5,
          4.2,
          -2.7,
          2.9,
          1.9,
          10.1,
          10,
          5.4,
          20.7,
          39,
          6.8,
          8.7,
          4.3,
          15.5,
          7.4,
          22.9,
          -2.1,
          41.3,
          4.6,
          -0.7,
          -4.2,
          1.2,
          21.3,
          0.7,
          27.2,
          14.7,
          9.1,
          11.6,
          -0.9,
          8.7,
          10.4,
          16.1,
          2.3,
          4.9,
          -1.7,
          8.8,
          -0.9,
          -2.7,
          3.2,
          -1.4,
          21.8,
          -3.1,
          16,
          12.3,
          28.3,
          96.1,
          10.1,
          4.3,
          4.7,
          8,
          -0.7,
          9.1,
          0.2,
          0.4,
          -2.4,
          -2.4,
          17.7,
          2.4,
          0.4,
          8.6,
          6.5,
          5.7,
          4.2,
          -4.6,
          -1.4,
          -0.7,
          0.1,
          19.2,
          -0.6,
          -0.4,
          5.1,
          6.9,
          9,
          4.7,
          1.1,
          0.1,
          12.4,
          -0.6,
          23.2,
          -3.1,
          3.8,
          1.4,
          -1,
          -3.1,
          10.6,
          12.7,
          1.5,
          33.4,
          -2.4,
          1.7,
          -1.5,
          16.3,
          3.8,
          22.4,
          -0.3,
          16,
          -1.8,
          12.4,
          10.6,
          0.5,
          -0.3,
          -0.7,
          -0.6,
          1.6,
          23.2,
          -1,
          -3.1,
          42.8,
          1,
          3.7,
          0.1,
          -0.9,
          -1.7,
          -0.6,
          4,
          -1.6,
          -0.4,
          6.7,
          1.4,
          -0.5,
          2.4,
          -0.9,
          29.9,
          0.3,
          -3.2,
          0.8,
          80.3,
          40.4,
          36.2,
          4.4,
          -3.5,
          2,
          7.5,
          20.9,
          3.4,
          -1.1,
          20.4,
          1.2,
          -3.2,
          4.9,
          -0.8,
          -0.6,
          3.3,
          -1,
          -2.4,
          -1.1,
          11,
          3.5,
          5.6,
          2.7,
          2.4,
          5.4,
          5,
          -1.7,
          4.7,
          -1.1,
          -0.1,
          36.5,
          -1.5,
          5.2,
          18.3,
          0.9,
          4.7,
          56.9,
          34.8,
          20.8,
          8.8,
          7.6,
          24.2,
          1.1,
          -2.4,
          1.6,
          0.4,
          4.6,
          -0.6,
          3.5,
          7.3,
          0.5,
          -0.8,
          12.8,
          7.9,
          2,
          15.7,
          27.1,
          19.4,
          -0.4,
          -0.9,
          -3.1,
          2.2,
          -0.3,
          5.9,
          22,
          0.1,
          2,
          -1.8,
          -0.2,
          15.9,
          0.2,
          -0.8,
          32.8,
          -0.4,
          76,
          13.1,
          13.3,
          -1.9,
          65.6,
          -3.1,
          25.3,
          11.8,
          -0.6,
          0.6,
          -3.1,
          -0.8,
          -3.1,
          9.4,
          27.4,
          13.6,
          14.3,
          -0.8,
          13.4,
          3.5,
          -1.8,
          1.4,
          7,
          6.7,
          2.1,
          2.2,
          -0.2,
          1.1,
          -0.8,
          -0.1,
          1.4,
          -0.8,
          2.9,
          0.4,
          4.2,
          11.7,
          6.2,
          2.9,
          0.8,
          20.2,
          0.7,
          0.5,
          8.9,
          24.1,
          0.5,
          14,
          1.2,
          21.6,
          0.8,
          15.3,
          6.5,
          23.1,
          40.3,
          1.8,
          -1.7,
          6.2,
          7.4,
          1.1,
          -0.1,
          -3.6,
          18.8,
          -1.8,
          -0.8,
          -1.1,
          4.2,
          0.3,
          1.3,
          1.8,
          14.5,
          5.4,
          2.6,
          2.3,
          1.9,
          37.6,
          0.8,
          7.6,
          1.4,
          15.1,
          -0.4,
          -1.9,
          1.4,
          29.8,
          -0.4,
          15.9,
          6.2,
          2.7,
          7.1,
          43.9,
          27.5,
          0.9,
          -0.8,
          19.9,
          -0.5,
          -0.8,
          7.5,
          7.1,
          8.3,
          0.4,
          1,
          -4.1,
          4,
          44.1,
          6.2,
          -0.9,
          0.1,
          10.2,
          -1.3,
          2,
          -1.2,
          4.6,
          -0.8,
          -0.1,
          -0.1,
          0.2,
          16.1,
          46.1,
          0.6,
          22.6,
          -0.4,
          -1.6,
          48.6,
          7.8,
          4.5,
          18,
          -4.5,
          1,
          7.9,
          -1.1,
          3.4,
          4.1,
          -3.1,
          3.6,
          -1.6,
          4.7,
          2.7,
          0.1,
          -0.6,
          -1.1,
          0.2,
          -0.6,
          -1,
          -3.1,
          -1.5,
          2.4,
          -3.1,
          11.1,
          24.7,
          -0.1,
          -0.1,
          14.9,
          6.9,
          -1.2,
          0.6,
          0.5,
          -0.4,
          5,
          -0.4,
          -1.4,
          -1.3,
          11,
          12.6,
          4,
          0.2,
          7.4,
          -3.4,
          6.6,
          1.7,
          17.5,
          1.8,
          12.1,
          11,
          -3.1,
          48.6,
          1.9,
          3,
          -0.6,
          -0.4,
          -0.1,
          7.1,
          14.4,
          -0.3,
          5,
          2.6,
          2.3,
          29.2,
          -0.6,
          0.9,
          0.1,
          -0.5,
          -0.4,
          -0.2,
          1.3,
          4.2,
          0.8,
          -0.5,
          0.9,
          -0.5,
          -0.1,
          3,
          2.5,
          26.8,
          9.4,
          -1.5,
          7.7,
          13.6,
          -1.7,
          -0.7,
          3.7,
          -3.1,
          2.8,
          12.2,
          4.2,
          -1.4,
          6.8,
          -0.3,
          -0.8,
          2.5,
          -0.2,
          2.2,
          2,
          14.7,
          -1,
          6.5,
          12.2,
          -0.4,
          4.2,
          -1.8,
          7.8,
          6.8,
          0.4,
          52.8,
          -0.4,
          8.3,
          6.5,
          -0.7,
          -3.1,
          29.5,
          10,
          -3.1,
          13,
          -1.2,
          4.4,
          -2.2,
          -1.6,
          3.7,
          -0.3,
          10.1,
          2.3,
          13.1,
          2.2,
          0.9,
          9,
          -1.2,
          0.5,
          0.5,
          10.6,
          0.4,
          4.7,
          2.3,
          6.8,
          -1.7,
          8.6,
          4.8,
          -0.3,
          12.2,
          2.8,
          4.8,
          -0.6,
          5.5,
          4.2,
          -0.6,
          -0.6,
          5.3,
          14.2,
          6.7,
          8.1,
          -1.9,
          0.4,
          9.7,
          7.8,
          -0.5,
          8.3,
          -0.1,
          16.6,
          0.1,
          0.2,
          0.1,
          -0.3,
          2,
          4.3,
          -0.4,
          -0.2,
          -2.7,
          0.1,
          14.6,
          -0.2,
          9.9,
          0.9,
          -3.1,
          5.1,
          0.3,
          -1.1,
          10,
          -0.6,
          -1.4,
          -0.2,
          -1.4,
          1.3,
          -0.4,
          -1.4,
          1.2,
          6.3,
          19.9,
          -3.1,
          8.2,
          2.1,
          7.3,
          -3.2,
          -0.5,
          0.4,
          1.1,
          3.8,
          18.2,
          14.5,
          -1,
          -0.3,
          0.1,
          7.8,
          -0.2,
          -2.1,
          11,
          5.8,
          2.9,
          1.1,
          7.9,
          5.2,
          -1.9,
          -0.3,
          -1.8,
          -0.3,
          0.1,
          -1.5,
          1.1,
          -3.1,
          -0.5,
          3.7,
          2.9,
          -0.9,
          -4.6,
          -0.1,
          -0.5,
          -3.1,
          5.3,
          -0.6,
          7.2,
          0.1,
          26.4,
          5,
          15.3,
          2.8,
          3.1,
          -0.7,
          -3.1,
          10.3,
          13.1,
          3.8,
          -1.1,
          4.2,
          0.5,
          3.5,
          -1.1,
          3.1,
          -0.5,
          2.4,
          -0.9,
          -0.4,
          0.3,
          1.1,
          0.4,
          7.4,
          0.2,
          -0.9,
          1.4,
          7,
          3.3,
          7.7,
          2.7,
          -0.7,
          -0.4,
          3,
          2.5,
          -0.2,
          4.6,
          -0.4,
          0.3,
          0.2,
          0.2,
          6.6,
          9.7,
          -0.9,
          -2.3,
          3.8,
          -1.6,
          -0.1,
          2,
          -0.9,
          -1.3,
          4.9,
          2,
          3.5,
          -0.8,
          -1.8,
          1,
          -0.3,
          0.6,
          3.8,
          6.1,
          0.6,
          -0.6,
          0.3,
          -0.4,
          0.1,
          0.7,
          1.4,
          0.7,
          3.9,
          -0.7,
          -0.6,
          0.6,
          3.5,
          -0.1,
          -0.8,
          0.3,
          0.3,
          -0.2,
          -0.1,
          2.3,
          -0.5,
          4.1,
          -1,
          6.2,
          0.3,
          -0.8,
          2.1,
          -2.5,
          1.9,
          -0.4,
          0.2,
          1.6,
          9,
          -0.4,
          -1,
          1.3,
          -0.3,
          -1,
          -0.1,
          2.8,
          -0.7,
          3.2,
          -0.3,
          -1.3,
          4.1,
          1.2,
          -0.5,
          -0.4,
          5.7,
          -2,
          2.1,
          0.3,
          0.8,
          0.1,
          -0.6,
          -1.1,
          0.5,
          1.1,
          0.7,
          -0.5,
          4,
          3.5,
          -0.9,
          2.4,
          0.2,
          2,
          -1.2,
          -0.8,
          -0.7,
          -0.2,
          0.1,
          2.3,
          2.5,
          -1.4,
          0.5,
          0.4,
          0.2,
          -1,
          1.3,
          0.9,
          -0.6,
          0.7,
          0.1,
          1.7,
          -0.3,
          -0.7,
          -0.3,
          -0.7,
          -0.1,
          0.1,
          -0.7,
          0.3,
          0.1
         ],
         "yaxis": "y"
        },
        {
         "hovertemplate": "<b>%{hovertext}</b><br><br>Pk=%{x}<br>VORP=%{y}<extra></extra>",
         "hovertext": [
          1,
          2,
          3,
          4,
          5,
          6,
          7,
          8,
          9,
          10,
          11,
          12,
          13,
          14,
          15,
          16,
          17,
          18,
          19,
          20,
          21,
          22,
          23,
          24,
          25,
          26,
          27,
          28,
          29,
          30,
          31,
          32,
          33,
          34,
          35,
          36,
          37,
          38,
          39,
          40,
          41,
          42,
          43,
          44,
          45,
          46,
          47,
          48,
          49,
          50,
          51,
          52,
          53,
          54,
          55,
          56,
          57,
          58,
          59,
          60
         ],
         "legendgroup": "",
         "marker": {
          "color": "yellow",
          "size": 12,
          "symbol": "circle"
         },
         "mode": "markers",
         "name": "",
         "orientation": "v",
         "showlegend": false,
         "type": "scatter",
         "x": [
          1,
          2,
          3,
          4,
          5,
          6,
          7,
          8,
          9,
          10,
          11,
          12,
          13,
          14,
          15,
          16,
          17,
          18,
          19,
          20,
          21,
          22,
          23,
          24,
          25,
          26,
          27,
          28,
          29,
          30,
          31,
          32,
          33,
          34,
          35,
          36,
          37,
          38,
          39,
          40,
          41,
          42,
          43,
          44,
          45,
          46,
          47,
          48,
          49,
          50,
          51,
          52,
          53,
          54,
          55,
          56,
          57,
          58,
          59,
          60
         ],
         "xaxis": "x",
         "y": [
          23.29259259259259,
          10.307407407407409,
          19.25925925925926,
          13.607407407407406,
          13.133333333333333,
          6.881481481481482,
          7.862962962962962,
          4.966666666666667,
          14.08148148148148,
          9.422222222222222,
          3.240740740740741,
          2.511111111111111,
          7.351851851851852,
          3.2037037037037037,
          6.477777777777778,
          3.9851851851851854,
          3.3444444444444446,
          3.718518518518519,
          2.6222222222222222,
          1.3074074074074074,
          4.2592592592592595,
          2.2074074074074073,
          2.1518518518518515,
          5.092592592592593,
          3.037037037037037,
          2.2555555555555555,
          3.0296296296296297,
          1.3814814814814815,
          0.6375000000000001,
          2.9185185185185185,
          1.1037037037037036,
          1.4555555555555555,
          0.23703703703703702,
          0.19999999999999998,
          2.6037037037037036,
          -0.011111111111111105,
          0.15925925925925924,
          1.137037037037037,
          0.15555555555555547,
          0.44814814814814813,
          1.8370370370370368,
          0.1703703703703703,
          1.2518518518518518,
          -1.1333333333333333,
          0.6111111111111112,
          0.574074074074074,
          0.07777777777777767,
          0.3074074074074073,
          -0.6629629629629629,
          -1.725925925925926,
          -0.6703703703703704,
          -1.8,
          -1.1555555555555557,
          -2.0296296296296297,
          -1.3518518518518519,
          -0.9666666666666667,
          -0.007407407407407426,
          -1.9666666666666668,
          -2.111111111111111,
          -0.5764705882352941
         ],
         "yaxis": "y"
        }
       ],
       "layout": {
        "legend": {
         "tracegroupgap": 0
        },
        "margin": {
         "t": 60
        },
        "template": {
         "data": {
          "bar": [
           {
            "error_x": {
             "color": "#2a3f5f"
            },
            "error_y": {
             "color": "#2a3f5f"
            },
            "marker": {
             "line": {
              "color": "#E5ECF6",
              "width": 0.5
             },
             "pattern": {
              "fillmode": "overlay",
              "size": 10,
              "solidity": 0.2
             }
            },
            "type": "bar"
           }
          ],
          "barpolar": [
           {
            "marker": {
             "line": {
              "color": "#E5ECF6",
              "width": 0.5
             },
             "pattern": {
              "fillmode": "overlay",
              "size": 10,
              "solidity": 0.2
             }
            },
            "type": "barpolar"
           }
          ],
          "carpet": [
           {
            "aaxis": {
             "endlinecolor": "#2a3f5f",
             "gridcolor": "white",
             "linecolor": "white",
             "minorgridcolor": "white",
             "startlinecolor": "#2a3f5f"
            },
            "baxis": {
             "endlinecolor": "#2a3f5f",
             "gridcolor": "white",
             "linecolor": "white",
             "minorgridcolor": "white",
             "startlinecolor": "#2a3f5f"
            },
            "type": "carpet"
           }
          ],
          "choropleth": [
           {
            "colorbar": {
             "outlinewidth": 0,
             "ticks": ""
            },
            "type": "choropleth"
           }
          ],
          "contour": [
           {
            "colorbar": {
             "outlinewidth": 0,
             "ticks": ""
            },
            "colorscale": [
             [
              0,
              "#0d0887"
             ],
             [
              0.1111111111111111,
              "#46039f"
             ],
             [
              0.2222222222222222,
              "#7201a8"
             ],
             [
              0.3333333333333333,
              "#9c179e"
             ],
             [
              0.4444444444444444,
              "#bd3786"
             ],
             [
              0.5555555555555556,
              "#d8576b"
             ],
             [
              0.6666666666666666,
              "#ed7953"
             ],
             [
              0.7777777777777778,
              "#fb9f3a"
             ],
             [
              0.8888888888888888,
              "#fdca26"
             ],
             [
              1,
              "#f0f921"
             ]
            ],
            "type": "contour"
           }
          ],
          "contourcarpet": [
           {
            "colorbar": {
             "outlinewidth": 0,
             "ticks": ""
            },
            "type": "contourcarpet"
           }
          ],
          "heatmap": [
           {
            "colorbar": {
             "outlinewidth": 0,
             "ticks": ""
            },
            "colorscale": [
             [
              0,
              "#0d0887"
             ],
             [
              0.1111111111111111,
              "#46039f"
             ],
             [
              0.2222222222222222,
              "#7201a8"
             ],
             [
              0.3333333333333333,
              "#9c179e"
             ],
             [
              0.4444444444444444,
              "#bd3786"
             ],
             [
              0.5555555555555556,
              "#d8576b"
             ],
             [
              0.6666666666666666,
              "#ed7953"
             ],
             [
              0.7777777777777778,
              "#fb9f3a"
             ],
             [
              0.8888888888888888,
              "#fdca26"
             ],
             [
              1,
              "#f0f921"
             ]
            ],
            "type": "heatmap"
           }
          ],
          "heatmapgl": [
           {
            "colorbar": {
             "outlinewidth": 0,
             "ticks": ""
            },
            "colorscale": [
             [
              0,
              "#0d0887"
             ],
             [
              0.1111111111111111,
              "#46039f"
             ],
             [
              0.2222222222222222,
              "#7201a8"
             ],
             [
              0.3333333333333333,
              "#9c179e"
             ],
             [
              0.4444444444444444,
              "#bd3786"
             ],
             [
              0.5555555555555556,
              "#d8576b"
             ],
             [
              0.6666666666666666,
              "#ed7953"
             ],
             [
              0.7777777777777778,
              "#fb9f3a"
             ],
             [
              0.8888888888888888,
              "#fdca26"
             ],
             [
              1,
              "#f0f921"
             ]
            ],
            "type": "heatmapgl"
           }
          ],
          "histogram": [
           {
            "marker": {
             "pattern": {
              "fillmode": "overlay",
              "size": 10,
              "solidity": 0.2
             }
            },
            "type": "histogram"
           }
          ],
          "histogram2d": [
           {
            "colorbar": {
             "outlinewidth": 0,
             "ticks": ""
            },
            "colorscale": [
             [
              0,
              "#0d0887"
             ],
             [
              0.1111111111111111,
              "#46039f"
             ],
             [
              0.2222222222222222,
              "#7201a8"
             ],
             [
              0.3333333333333333,
              "#9c179e"
             ],
             [
              0.4444444444444444,
              "#bd3786"
             ],
             [
              0.5555555555555556,
              "#d8576b"
             ],
             [
              0.6666666666666666,
              "#ed7953"
             ],
             [
              0.7777777777777778,
              "#fb9f3a"
             ],
             [
              0.8888888888888888,
              "#fdca26"
             ],
             [
              1,
              "#f0f921"
             ]
            ],
            "type": "histogram2d"
           }
          ],
          "histogram2dcontour": [
           {
            "colorbar": {
             "outlinewidth": 0,
             "ticks": ""
            },
            "colorscale": [
             [
              0,
              "#0d0887"
             ],
             [
              0.1111111111111111,
              "#46039f"
             ],
             [
              0.2222222222222222,
              "#7201a8"
             ],
             [
              0.3333333333333333,
              "#9c179e"
             ],
             [
              0.4444444444444444,
              "#bd3786"
             ],
             [
              0.5555555555555556,
              "#d8576b"
             ],
             [
              0.6666666666666666,
              "#ed7953"
             ],
             [
              0.7777777777777778,
              "#fb9f3a"
             ],
             [
              0.8888888888888888,
              "#fdca26"
             ],
             [
              1,
              "#f0f921"
             ]
            ],
            "type": "histogram2dcontour"
           }
          ],
          "mesh3d": [
           {
            "colorbar": {
             "outlinewidth": 0,
             "ticks": ""
            },
            "type": "mesh3d"
           }
          ],
          "parcoords": [
           {
            "line": {
             "colorbar": {
              "outlinewidth": 0,
              "ticks": ""
             }
            },
            "type": "parcoords"
           }
          ],
          "pie": [
           {
            "automargin": true,
            "type": "pie"
           }
          ],
          "scatter": [
           {
            "fillpattern": {
             "fillmode": "overlay",
             "size": 10,
             "solidity": 0.2
            },
            "type": "scatter"
           }
          ],
          "scatter3d": [
           {
            "line": {
             "colorbar": {
              "outlinewidth": 0,
              "ticks": ""
             }
            },
            "marker": {
             "colorbar": {
              "outlinewidth": 0,
              "ticks": ""
             }
            },
            "type": "scatter3d"
           }
          ],
          "scattercarpet": [
           {
            "marker": {
             "colorbar": {
              "outlinewidth": 0,
              "ticks": ""
             }
            },
            "type": "scattercarpet"
           }
          ],
          "scattergeo": [
           {
            "marker": {
             "colorbar": {
              "outlinewidth": 0,
              "ticks": ""
             }
            },
            "type": "scattergeo"
           }
          ],
          "scattergl": [
           {
            "marker": {
             "colorbar": {
              "outlinewidth": 0,
              "ticks": ""
             }
            },
            "type": "scattergl"
           }
          ],
          "scattermapbox": [
           {
            "marker": {
             "colorbar": {
              "outlinewidth": 0,
              "ticks": ""
             }
            },
            "type": "scattermapbox"
           }
          ],
          "scatterpolar": [
           {
            "marker": {
             "colorbar": {
              "outlinewidth": 0,
              "ticks": ""
             }
            },
            "type": "scatterpolar"
           }
          ],
          "scatterpolargl": [
           {
            "marker": {
             "colorbar": {
              "outlinewidth": 0,
              "ticks": ""
             }
            },
            "type": "scatterpolargl"
           }
          ],
          "scatterternary": [
           {
            "marker": {
             "colorbar": {
              "outlinewidth": 0,
              "ticks": ""
             }
            },
            "type": "scatterternary"
           }
          ],
          "surface": [
           {
            "colorbar": {
             "outlinewidth": 0,
             "ticks": ""
            },
            "colorscale": [
             [
              0,
              "#0d0887"
             ],
             [
              0.1111111111111111,
              "#46039f"
             ],
             [
              0.2222222222222222,
              "#7201a8"
             ],
             [
              0.3333333333333333,
              "#9c179e"
             ],
             [
              0.4444444444444444,
              "#bd3786"
             ],
             [
              0.5555555555555556,
              "#d8576b"
             ],
             [
              0.6666666666666666,
              "#ed7953"
             ],
             [
              0.7777777777777778,
              "#fb9f3a"
             ],
             [
              0.8888888888888888,
              "#fdca26"
             ],
             [
              1,
              "#f0f921"
             ]
            ],
            "type": "surface"
           }
          ],
          "table": [
           {
            "cells": {
             "fill": {
              "color": "#EBF0F8"
             },
             "line": {
              "color": "white"
             }
            },
            "header": {
             "fill": {
              "color": "#C8D4E3"
             },
             "line": {
              "color": "white"
             }
            },
            "type": "table"
           }
          ]
         },
         "layout": {
          "annotationdefaults": {
           "arrowcolor": "#2a3f5f",
           "arrowhead": 0,
           "arrowwidth": 1
          },
          "autotypenumbers": "strict",
          "coloraxis": {
           "colorbar": {
            "outlinewidth": 0,
            "ticks": ""
           }
          },
          "colorscale": {
           "diverging": [
            [
             0,
             "#8e0152"
            ],
            [
             0.1,
             "#c51b7d"
            ],
            [
             0.2,
             "#de77ae"
            ],
            [
             0.3,
             "#f1b6da"
            ],
            [
             0.4,
             "#fde0ef"
            ],
            [
             0.5,
             "#f7f7f7"
            ],
            [
             0.6,
             "#e6f5d0"
            ],
            [
             0.7,
             "#b8e186"
            ],
            [
             0.8,
             "#7fbc41"
            ],
            [
             0.9,
             "#4d9221"
            ],
            [
             1,
             "#276419"
            ]
           ],
           "sequential": [
            [
             0,
             "#0d0887"
            ],
            [
             0.1111111111111111,
             "#46039f"
            ],
            [
             0.2222222222222222,
             "#7201a8"
            ],
            [
             0.3333333333333333,
             "#9c179e"
            ],
            [
             0.4444444444444444,
             "#bd3786"
            ],
            [
             0.5555555555555556,
             "#d8576b"
            ],
            [
             0.6666666666666666,
             "#ed7953"
            ],
            [
             0.7777777777777778,
             "#fb9f3a"
            ],
            [
             0.8888888888888888,
             "#fdca26"
            ],
            [
             1,
             "#f0f921"
            ]
           ],
           "sequentialminus": [
            [
             0,
             "#0d0887"
            ],
            [
             0.1111111111111111,
             "#46039f"
            ],
            [
             0.2222222222222222,
             "#7201a8"
            ],
            [
             0.3333333333333333,
             "#9c179e"
            ],
            [
             0.4444444444444444,
             "#bd3786"
            ],
            [
             0.5555555555555556,
             "#d8576b"
            ],
            [
             0.6666666666666666,
             "#ed7953"
            ],
            [
             0.7777777777777778,
             "#fb9f3a"
            ],
            [
             0.8888888888888888,
             "#fdca26"
            ],
            [
             1,
             "#f0f921"
            ]
           ]
          },
          "colorway": [
           "#636efa",
           "#EF553B",
           "#00cc96",
           "#ab63fa",
           "#FFA15A",
           "#19d3f3",
           "#FF6692",
           "#B6E880",
           "#FF97FF",
           "#FECB52"
          ],
          "font": {
           "color": "#2a3f5f"
          },
          "geo": {
           "bgcolor": "white",
           "lakecolor": "white",
           "landcolor": "#E5ECF6",
           "showlakes": true,
           "showland": true,
           "subunitcolor": "white"
          },
          "hoverlabel": {
           "align": "left"
          },
          "hovermode": "closest",
          "mapbox": {
           "style": "light"
          },
          "paper_bgcolor": "white",
          "plot_bgcolor": "#E5ECF6",
          "polar": {
           "angularaxis": {
            "gridcolor": "white",
            "linecolor": "white",
            "ticks": ""
           },
           "bgcolor": "#E5ECF6",
           "radialaxis": {
            "gridcolor": "white",
            "linecolor": "white",
            "ticks": ""
           }
          },
          "scene": {
           "xaxis": {
            "backgroundcolor": "#E5ECF6",
            "gridcolor": "white",
            "gridwidth": 2,
            "linecolor": "white",
            "showbackground": true,
            "ticks": "",
            "zerolinecolor": "white"
           },
           "yaxis": {
            "backgroundcolor": "#E5ECF6",
            "gridcolor": "white",
            "gridwidth": 2,
            "linecolor": "white",
            "showbackground": true,
            "ticks": "",
            "zerolinecolor": "white"
           },
           "zaxis": {
            "backgroundcolor": "#E5ECF6",
            "gridcolor": "white",
            "gridwidth": 2,
            "linecolor": "white",
            "showbackground": true,
            "ticks": "",
            "zerolinecolor": "white"
           }
          },
          "shapedefaults": {
           "line": {
            "color": "#2a3f5f"
           }
          },
          "ternary": {
           "aaxis": {
            "gridcolor": "white",
            "linecolor": "white",
            "ticks": ""
           },
           "baxis": {
            "gridcolor": "white",
            "linecolor": "white",
            "ticks": ""
           },
           "bgcolor": "#E5ECF6",
           "caxis": {
            "gridcolor": "white",
            "linecolor": "white",
            "ticks": ""
           }
          },
          "title": {
           "x": 0.05
          },
          "xaxis": {
           "automargin": true,
           "gridcolor": "white",
           "linecolor": "white",
           "ticks": "",
           "title": {
            "standoff": 15
           },
           "zerolinecolor": "white",
           "zerolinewidth": 2
          },
          "yaxis": {
           "automargin": true,
           "gridcolor": "white",
           "linecolor": "white",
           "ticks": "",
           "title": {
            "standoff": 15
           },
           "zerolinecolor": "white",
           "zerolinewidth": 2
          }
         }
        },
        "title": {
         "text": "VORP vs Draft Pick for Players with at least 82 Games Played"
        },
        "xaxis": {
         "anchor": "y",
         "domain": [
          0,
          1
         ],
         "title": {
          "text": "Draft Pick"
         }
        },
        "yaxis": {
         "anchor": "x",
         "domain": [
          0,
          1
         ],
         "title": {
          "text": "VORP"
         }
        }
       }
      }
     },
     "metadata": {},
     "output_type": "display_data"
    }
   ],
   "source": [
    "# create a combobox widget with all 'Player' values\n",
    "player_widget_total_scatter = widgets.Combobox(\n",
    "    placeholder='Choose a Player',\n",
    "    options=df_career_na_filled['Player'].unique().tolist(),\n",
    "    description='Player:',\n",
    "    ensure_option=True,\n",
    "    disabled=False\n",
    ")\n",
    "\n",
    "# create a dropdown widget with all relevant stats\n",
    "stat_dropdown_total_scatter = widgets.Dropdown(\n",
    "    options=relevant_stats,\n",
    "    description='Select Stat:',\n",
    "    disabled=False,\n",
    ")\n",
    "\n",
    "# Define the output area to display the scatter plot\n",
    "output_total_scatter = widgets.Output()\n",
    "\n",
    "# Function to update the output area based on the selected stat\n",
    "def on_value_change_total_scatter(change):\n",
    "    clear_output()\n",
    "    output_total_scatter.clear_output()\n",
    "    selected_stat = stat_dropdown_total_scatter.value\n",
    "    selected_player = player_widget_total_scatter.value\n",
    "\n",
    "    display(player_widget_total_scatter)\n",
    "    display(stat_dropdown_total_scatter)\n",
    "    with output_total_scatter:\n",
    "        fig = px.scatter(filtered_df, x='Pk', y=selected_stat, hover_name='Player',\n",
    "                         hover_data={'Pk': True, selected_stat: True, 'Player': False, f'{selected_stat}_diff': True, f'{selected_stat}_rank': True})\n",
    "        \n",
    "        # add a yellow dot for each average in the df_avg dataframe\n",
    "        fig.add_trace(px.scatter(df_avg, x='Pk', y=selected_stat, hover_name='Pk',\n",
    "                                 hover_data={'Pk': True, selected_stat: True}, \n",
    "                                 color_discrete_sequence=['yellow']).data[0])\n",
    "        \n",
    "        if selected_player in filtered_df['Player'].values:\n",
    "            highlighted_player = filtered_df[filtered_df['Player'] == selected_player]\n",
    "            fig.add_trace(px.scatter(highlighted_player, x='Pk', y=selected_stat, hover_name='Player',\n",
    "                                    hover_data={'Pk': True, selected_stat: True, 'Player': False, f'{selected_stat}_diff': True, f'{selected_stat}_rank': True},\n",
    "                                    color_discrete_sequence=['red']).data[0])\n",
    "        fig.update_traces(marker=dict(size=12), showlegend=False)\n",
    "        fig.update_layout(title=f'{selected_stat} vs Draft Pick for Players with at least {min_games} Games Played',\n",
    "                          xaxis_title='Draft Pick', yaxis_title=selected_stat)\n",
    "        fig.show()\n",
    "    \n",
    "# Observe changes in the value of the dropdown and call the function\n",
    "stat_dropdown_total_scatter.observe(on_value_change_total_scatter, names='value')\n",
    "player_widget_total_scatter.observe(on_value_change_total_scatter, names='value')\n",
    "\n",
    "# Display the dropdown and the output area\n",
    "display(player_widget_total_scatter)\n",
    "display(stat_dropdown_total_scatter)\n",
    "display(output_total_scatter)"
   ]
  },
  {
   "cell_type": "code",
   "execution_count": null,
   "metadata": {},
   "outputs": [],
   "source": []
  }
 ],
 "metadata": {
  "kernelspec": {
   "display_name": ".nbavenv",
   "language": "python",
   "name": "python3"
  },
  "language_info": {
   "codemirror_mode": {
    "name": "ipython",
    "version": 3
   },
   "file_extension": ".py",
   "mimetype": "text/x-python",
   "name": "python",
   "nbconvert_exporter": "python",
   "pygments_lexer": "ipython3",
   "version": "3.8.0"
  },
  "orig_nbformat": 4
 },
 "nbformat": 4,
 "nbformat_minor": 2
}
