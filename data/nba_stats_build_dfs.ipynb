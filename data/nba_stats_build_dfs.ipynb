{
 "cells": [
  {
   "cell_type": "markdown",
   "metadata": {},
   "source": [
    "# NBA Draft Analysis - Which NBA team selects the best players relative to the average player at their respective draft position?\n",
    "\n",
    "## index\n",
    "1. [introduction](#introduction)\n",
    "2. [data](#data)\n",
    "3. [results](#results)\n",
    "4. [conclusions](#conclusions)"
   ]
  },
  {
   "cell_type": "markdown",
   "metadata": {},
   "source": [
    "## introduction\n",
    "The NBA Draft is an annual event in the National Basketball Association (NBA) where teams select eligible players to join their rosters. It typically consists of two rounds, with teams choosing players based on a predetermined order, primarily determined by the previous season's standings. The draft serves as a way for teams to acquire new talent, including young prospects from college or international leagues, and provides an opportunity for emerging basketball stars to realize their dreams of playing in the NBA.\n",
    "\n",
    "For example, in 2003, the famous basketball player LeBron James was the first overall pick by the Cleveland Cavaliers. His selection was the culmination of immense hype and anticipation, as he was considered a generational talent straight out of high school. The NBA Draft is a pivotal moment for the league's future, as it shapes the composition of teams and can have a significant impact on the sport's landscape.\n",
    "\n",
    "A team’s choice during the draft can make or break its season, making it crucial to have effective tools for selecting the best players from the available pool. With this analysis, we aim to understand which team selects the best players relative to the average player at their respective draft position. To do so, we will get the historical data of the drafts for the NBA seasons from 1996 until 2023. This project focuses on NBA player and team statistics analysis and visualization, offering interactive tools to explore and compare player and team data, and ultimately aiding in the assessment of draft choices, individual player achievements, and team success over different seasons."
   ]
  },
  {
   "cell_type": "markdown",
   "metadata": {},
   "source": [
    "## data\n",
    "The raw data is taken using the [NBA API](https://github.com/swar/nba_api/blob/master/docs/nba_api/stats/examples.md) and it comprehends the statistics of all the official NBA players from year 1996 until 2023. The statistics include the player ID, his name, how many years he played, points scored and many more. The raw data contains 265 variables, but we will use only 22 and filter four of them, adding up to 22 variables. For brevity's sake, in the data there are many abbreviations. A [reference table](abbreviation_reference_table.md) comes in handy.\n",
    "\n",
    "The raw data:"
   ]
  },
  {
   "cell_type": "markdown",
   "metadata": {},
   "source": [
    "As mentioned before, there only 22 variables needed."
   ]
  },
  {
   "cell_type": "code",
   "execution_count": 115,
   "metadata": {},
   "outputs": [],
   "source": [
    "# Import libraries\n",
    "import pandas as pd\n",
    "import numpy as np\n",
    "import ipywidgets as widgets\n",
    "import plotly.express as px\n",
    "from IPython.display import display, HTML, clear_output\n",
    "from tabulate import tabulate"
   ]
  },
  {
   "cell_type": "code",
   "execution_count": 101,
   "metadata": {},
   "outputs": [],
   "source": [
    "# load in the data\n",
    "df = pd.read_csv('./interim/player_career_avg.csv', index_col=0)"
   ]
  },
  {
   "cell_type": "code",
   "execution_count": 102,
   "metadata": {},
   "outputs": [
    {
     "data": {
      "application/vnd.jupyter.widget-view+json": {
       "model_id": "ef6c5c56e71d4e2d882da8e2b91abd27",
       "version_major": 2,
       "version_minor": 0
      },
      "text/plain": [
       "SelectionRangeSlider(continuous_update=False, description='Select Seasons to Analyze', index=(0, 26), options=…"
      ]
     },
     "metadata": {},
     "output_type": "display_data"
    }
   ],
   "source": [
    "# copy the dataframe\n",
    "df_seasons_filtered = df.copy()\n",
    "\n",
    "# create list with all seasons between 1996 and 2023\n",
    "seasons = range(1996, 2023)\n",
    "\n",
    "# create a slider widget to select the seasons\n",
    "season_slider = widgets.SelectionRangeSlider(\n",
    "    options=seasons,\n",
    "    index=(0, len(seasons)-1),\n",
    "    description='Select Seasons to Analyze',\n",
    "    disabled=False,\n",
    "    continuous_update=False,\n",
    "    orientation='horizontal',\n",
    "    readout=True\n",
    ")\n",
    "\n",
    "# get the subset of the dataframe that matches the selected seasons\n",
    "def get_seasons(season_slider):\n",
    "    # declare global variable\n",
    "    global df_seasons_filtered\n",
    "    # get values from slider\n",
    "    start_season = int(season_slider['new'][0])\n",
    "    end_season = int(season_slider['new'][1])\n",
    "    df_seasons_filtered = df[(df['Season'] >= start_season) & (df['Season'] <= end_season)]\n",
    "\n",
    "# observe the slider widget to get the selected seasons\n",
    "season_slider.observe(get_seasons, names='value')\n",
    "\n",
    "# display the slider widget\n",
    "display(season_slider)"
   ]
  },
  {
   "cell_type": "markdown",
   "metadata": {},
   "source": [
    "**Select a penalty for unbounded stats**\n",
    "\n",
    "Drafted players who never played a game in the NBA are perceived as bad draft picks but never accumulated any stats. Since excluding them from the analysis would worsen the relative performance of other players selected at that respective draft position, the empty stats should be replaced by a \"bad stat\", as never playing a game in the NBA objectively makes that player a bad selection. For total points, assists and rebounds, 0 is the absolute minimum and therefore suitable as a replacement stat. However, all other stats are unbounded and don't have a definite minimum value. Using the minimum value in our data would be greatly affected by outliers which is why we opted for a percentile that can be dynamically chosen. We recommend using a percentile between 1% and 5%."
   ]
  },
  {
   "cell_type": "code",
   "execution_count": 103,
   "metadata": {},
   "outputs": [
    {
     "data": {
      "application/vnd.jupyter.widget-view+json": {
       "model_id": "d21199446d89444ea1a430c89e33bd28",
       "version_major": 2,
       "version_minor": 0
      },
      "text/plain": [
       "FloatSlider(value=0.02, continuous_update=False, description='Penalty Percentile:', max=1.0, step=0.01)"
      ]
     },
     "metadata": {},
     "output_type": "display_data"
    }
   ],
   "source": [
    "# set standard penalty percentile\n",
    "penalty_percentile = 0.02\n",
    "\n",
    "# create a float slider widget to select the penalty percentile\n",
    "penalty_percentile_slider = widgets.FloatSlider(\n",
    "    value=0.02,\n",
    "    min=0,\n",
    "    max=1.0,\n",
    "    step=0.01,\n",
    "    description='Penalty Percentile:',\n",
    "    disabled=False,\n",
    "    continuous_update=False,\n",
    "    orientation='horizontal',\n",
    "    readout=True,\n",
    "    readout_format='.2f',\n",
    ")\n",
    "\n",
    "# set the penalty percentile\n",
    "def set_penalty_percentile(penalty_percentile_slider):\n",
    "    # declare global variable\n",
    "    global penalty_percentile\n",
    "    # get value from slider\n",
    "    penalty_percentile = penalty_percentile_slider['new']\n",
    "\n",
    "# observe the slider widget to get the penalty percentile\n",
    "penalty_percentile_slider.observe(set_penalty_percentile, names='value')\n",
    "\n",
    "# display the slider widget\n",
    "display(penalty_percentile_slider)"
   ]
  },
  {
   "cell_type": "markdown",
   "metadata": {},
   "source": [
    "**Re-run all cells from here after changing the penalty percentile and/or the season range**"
   ]
  },
  {
   "cell_type": "code",
   "execution_count": 142,
   "metadata": {},
   "outputs": [
    {
     "name": "stdout",
     "output_type": "stream",
     "text": [
      "Your selected penalty percentile for unbounded stats is 0.03\n",
      "Your selected seasons are 2005 to 2022\n"
     ]
    }
   ],
   "source": [
    "# get min and max seasons from df_seasons_filtered\n",
    "start_season = df_seasons_filtered['Season'].min()\n",
    "end_season = df_seasons_filtered['Season'].max()\n",
    "\n",
    "print(\"Your selected penalty percentile for unbounded stats is\", penalty_percentile)\n",
    "print(\"Your selected seasons are\", start_season , \"to\", end_season)\n",
    "\n",
    "relevant_stats = ['PTS', 'TRB', 'AST', 'WS', 'WS/48', 'BPM', 'VORP', 'PIE', 'OFF_RATING', 'DEF_RATING', 'NET_RATING']\n",
    "na_fill_values = {'PTS': 0, 'TRB': 0, 'AST': 0, 'WS': df_seasons_filtered['WS'].quantile(penalty_percentile), 'WS/48': df_seasons_filtered['WS/48'].quantile(penalty_percentile), 'BPM': df_seasons_filtered['BPM'].quantile(penalty_percentile), 'VORP': df_seasons_filtered['VORP'].quantile(penalty_percentile), 'PIE': df_seasons_filtered['PIE'].quantile(penalty_percentile), 'OFF_RATING': df_seasons_filtered['OFF_RATING'].quantile(penalty_percentile), 'DEF_RATING': df_seasons_filtered['DEF_RATING'].quantile(1-penalty_percentile), 'NET_RATING': df_seasons_filtered['NET_RATING'].quantile(penalty_percentile)}\n",
    "\n",
    "# fill the NaNs with the respective entry in the na_fill_values dict for each column\n",
    "df_career_na_filled = df_seasons_filtered.fillna(value=na_fill_values)"
   ]
  },
  {
   "cell_type": "code",
   "execution_count": 143,
   "metadata": {},
   "outputs": [
    {
     "data": {
      "text/html": [
       "<div>\n",
       "<style scoped>\n",
       "    .dataframe tbody tr th:only-of-type {\n",
       "        vertical-align: middle;\n",
       "    }\n",
       "\n",
       "    .dataframe tbody tr th {\n",
       "        vertical-align: top;\n",
       "    }\n",
       "\n",
       "    .dataframe thead th {\n",
       "        text-align: right;\n",
       "    }\n",
       "</style>\n",
       "<table border=\"1\" class=\"dataframe\">\n",
       "  <thead>\n",
       "    <tr style=\"text-align: right;\">\n",
       "      <th></th>\n",
       "      <th>Pk</th>\n",
       "      <th>PTS</th>\n",
       "      <th>TRB</th>\n",
       "      <th>AST</th>\n",
       "      <th>WS</th>\n",
       "      <th>WS/48</th>\n",
       "      <th>BPM</th>\n",
       "      <th>VORP</th>\n",
       "      <th>PIE</th>\n",
       "      <th>OFF_RATING</th>\n",
       "      <th>DEF_RATING</th>\n",
       "      <th>NET_RATING</th>\n",
       "    </tr>\n",
       "  </thead>\n",
       "  <tbody>\n",
       "    <tr>\n",
       "      <th>1</th>\n",
       "      <td>1</td>\n",
       "      <td>7401.111111</td>\n",
       "      <td>2670.166667</td>\n",
       "      <td>1616.277778</td>\n",
       "      <td>34.300000</td>\n",
       "      <td>0.111000</td>\n",
       "      <td>1.144444</td>\n",
       "      <td>13.461111</td>\n",
       "      <td>0.121340</td>\n",
       "      <td>109.114443</td>\n",
       "      <td>109.075664</td>\n",
       "      <td>0.033601</td>\n",
       "    </tr>\n",
       "    <tr>\n",
       "      <th>2</th>\n",
       "      <td>2</td>\n",
       "      <td>6970.722222</td>\n",
       "      <td>2501.777778</td>\n",
       "      <td>1275.277778</td>\n",
       "      <td>30.222222</td>\n",
       "      <td>0.078000</td>\n",
       "      <td>-0.861833</td>\n",
       "      <td>9.516667</td>\n",
       "      <td>0.100460</td>\n",
       "      <td>105.213849</td>\n",
       "      <td>109.224775</td>\n",
       "      <td>-3.623824</td>\n",
       "    </tr>\n",
       "    <tr>\n",
       "      <th>3</th>\n",
       "      <td>3</td>\n",
       "      <td>8355.388889</td>\n",
       "      <td>2976.888889</td>\n",
       "      <td>1855.555556</td>\n",
       "      <td>43.094444</td>\n",
       "      <td>0.116500</td>\n",
       "      <td>1.277778</td>\n",
       "      <td>16.183333</td>\n",
       "      <td>0.120169</td>\n",
       "      <td>108.540111</td>\n",
       "      <td>108.361783</td>\n",
       "      <td>0.175353</td>\n",
       "    </tr>\n",
       "    <tr>\n",
       "      <th>4</th>\n",
       "      <td>4</td>\n",
       "      <td>7035.888889</td>\n",
       "      <td>2590.166667</td>\n",
       "      <td>2083.777778</td>\n",
       "      <td>36.872222</td>\n",
       "      <td>0.091722</td>\n",
       "      <td>-0.155556</td>\n",
       "      <td>13.050000</td>\n",
       "      <td>0.098099</td>\n",
       "      <td>108.097615</td>\n",
       "      <td>108.584165</td>\n",
       "      <td>-0.486599</td>\n",
       "    </tr>\n",
       "    <tr>\n",
       "      <th>5</th>\n",
       "      <td>5</td>\n",
       "      <td>6074.166667</td>\n",
       "      <td>2606.000000</td>\n",
       "      <td>1576.055556</td>\n",
       "      <td>26.266667</td>\n",
       "      <td>0.077889</td>\n",
       "      <td>-0.938889</td>\n",
       "      <td>6.611111</td>\n",
       "      <td>0.099286</td>\n",
       "      <td>106.368897</td>\n",
       "      <td>109.031205</td>\n",
       "      <td>-2.660236</td>\n",
       "    </tr>\n",
       "    <tr>\n",
       "      <th>6</th>\n",
       "      <td>6</td>\n",
       "      <td>4357.000000</td>\n",
       "      <td>1565.555556</td>\n",
       "      <td>928.333333</td>\n",
       "      <td>21.711111</td>\n",
       "      <td>0.090556</td>\n",
       "      <td>-0.488889</td>\n",
       "      <td>6.722222</td>\n",
       "      <td>0.093982</td>\n",
       "      <td>105.673507</td>\n",
       "      <td>108.231661</td>\n",
       "      <td>-2.552918</td>\n",
       "    </tr>\n",
       "    <tr>\n",
       "      <th>7</th>\n",
       "      <td>7</td>\n",
       "      <td>6855.611111</td>\n",
       "      <td>2414.777778</td>\n",
       "      <td>1332.388889</td>\n",
       "      <td>27.766667</td>\n",
       "      <td>0.080056</td>\n",
       "      <td>-0.833333</td>\n",
       "      <td>7.183333</td>\n",
       "      <td>0.095783</td>\n",
       "      <td>107.212172</td>\n",
       "      <td>109.668452</td>\n",
       "      <td>-2.457190</td>\n",
       "    </tr>\n",
       "    <tr>\n",
       "      <th>8</th>\n",
       "      <td>8</td>\n",
       "      <td>4463.166667</td>\n",
       "      <td>1758.388889</td>\n",
       "      <td>703.388889</td>\n",
       "      <td>16.894444</td>\n",
       "      <td>0.076056</td>\n",
       "      <td>-1.856278</td>\n",
       "      <td>2.833333</td>\n",
       "      <td>0.084813</td>\n",
       "      <td>105.581364</td>\n",
       "      <td>107.834897</td>\n",
       "      <td>-2.249056</td>\n",
       "    </tr>\n",
       "    <tr>\n",
       "      <th>9</th>\n",
       "      <td>9</td>\n",
       "      <td>5584.500000</td>\n",
       "      <td>2298.722222</td>\n",
       "      <td>1311.000000</td>\n",
       "      <td>27.222222</td>\n",
       "      <td>0.081944</td>\n",
       "      <td>-1.166667</td>\n",
       "      <td>7.216667</td>\n",
       "      <td>0.095053</td>\n",
       "      <td>105.951342</td>\n",
       "      <td>108.637741</td>\n",
       "      <td>-2.675197</td>\n",
       "    </tr>\n",
       "    <tr>\n",
       "      <th>10</th>\n",
       "      <td>10</td>\n",
       "      <td>5041.000000</td>\n",
       "      <td>1814.888889</td>\n",
       "      <td>1064.611111</td>\n",
       "      <td>21.777778</td>\n",
       "      <td>0.076111</td>\n",
       "      <td>-1.361111</td>\n",
       "      <td>6.261111</td>\n",
       "      <td>0.086465</td>\n",
       "      <td>106.018941</td>\n",
       "      <td>107.771336</td>\n",
       "      <td>-1.748840</td>\n",
       "    </tr>\n",
       "    <tr>\n",
       "      <th>11</th>\n",
       "      <td>11</td>\n",
       "      <td>4215.055556</td>\n",
       "      <td>1365.833333</td>\n",
       "      <td>807.055556</td>\n",
       "      <td>18.388889</td>\n",
       "      <td>0.070611</td>\n",
       "      <td>-1.434056</td>\n",
       "      <td>4.350000</td>\n",
       "      <td>0.087980</td>\n",
       "      <td>105.295529</td>\n",
       "      <td>108.099289</td>\n",
       "      <td>-2.416579</td>\n",
       "    </tr>\n",
       "    <tr>\n",
       "      <th>12</th>\n",
       "      <td>12</td>\n",
       "      <td>4171.888889</td>\n",
       "      <td>1934.222222</td>\n",
       "      <td>732.777778</td>\n",
       "      <td>19.150000</td>\n",
       "      <td>0.075833</td>\n",
       "      <td>-1.288889</td>\n",
       "      <td>3.638889</td>\n",
       "      <td>0.085177</td>\n",
       "      <td>105.733336</td>\n",
       "      <td>107.584652</td>\n",
       "      <td>-1.856304</td>\n",
       "    </tr>\n",
       "    <tr>\n",
       "      <th>13</th>\n",
       "      <td>13</td>\n",
       "      <td>4130.777778</td>\n",
       "      <td>1571.388889</td>\n",
       "      <td>786.222222</td>\n",
       "      <td>17.261111</td>\n",
       "      <td>0.076611</td>\n",
       "      <td>-1.127778</td>\n",
       "      <td>4.300000</td>\n",
       "      <td>0.092005</td>\n",
       "      <td>106.017392</td>\n",
       "      <td>107.737919</td>\n",
       "      <td>-1.724895</td>\n",
       "    </tr>\n",
       "    <tr>\n",
       "      <th>14</th>\n",
       "      <td>14</td>\n",
       "      <td>3047.500000</td>\n",
       "      <td>1296.333333</td>\n",
       "      <td>469.166667</td>\n",
       "      <td>13.833333</td>\n",
       "      <td>0.080722</td>\n",
       "      <td>-1.772944</td>\n",
       "      <td>2.577778</td>\n",
       "      <td>0.085022</td>\n",
       "      <td>106.023247</td>\n",
       "      <td>107.837147</td>\n",
       "      <td>-1.806578</td>\n",
       "    </tr>\n",
       "    <tr>\n",
       "      <th>15</th>\n",
       "      <td>15</td>\n",
       "      <td>3972.888889</td>\n",
       "      <td>1668.055556</td>\n",
       "      <td>681.944444</td>\n",
       "      <td>20.000000</td>\n",
       "      <td>0.077667</td>\n",
       "      <td>-1.383333</td>\n",
       "      <td>5.638889</td>\n",
       "      <td>0.083798</td>\n",
       "      <td>104.980716</td>\n",
       "      <td>107.921904</td>\n",
       "      <td>-2.940072</td>\n",
       "    </tr>\n",
       "    <tr>\n",
       "      <th>16</th>\n",
       "      <td>16</td>\n",
       "      <td>3248.888889</td>\n",
       "      <td>1562.888889</td>\n",
       "      <td>535.611111</td>\n",
       "      <td>13.433333</td>\n",
       "      <td>0.073278</td>\n",
       "      <td>-2.055556</td>\n",
       "      <td>2.811111</td>\n",
       "      <td>0.076000</td>\n",
       "      <td>103.874779</td>\n",
       "      <td>108.832344</td>\n",
       "      <td>-4.959904</td>\n",
       "    </tr>\n",
       "    <tr>\n",
       "      <th>17</th>\n",
       "      <td>17</td>\n",
       "      <td>3398.111111</td>\n",
       "      <td>1286.222222</td>\n",
       "      <td>822.888889</td>\n",
       "      <td>13.811111</td>\n",
       "      <td>0.063167</td>\n",
       "      <td>-1.916667</td>\n",
       "      <td>2.700000</td>\n",
       "      <td>0.078241</td>\n",
       "      <td>103.422588</td>\n",
       "      <td>106.795097</td>\n",
       "      <td>-3.372855</td>\n",
       "    </tr>\n",
       "    <tr>\n",
       "      <th>18</th>\n",
       "      <td>18</td>\n",
       "      <td>2895.500000</td>\n",
       "      <td>1009.166667</td>\n",
       "      <td>663.555556</td>\n",
       "      <td>12.644444</td>\n",
       "      <td>0.074667</td>\n",
       "      <td>-2.745889</td>\n",
       "      <td>2.472222</td>\n",
       "      <td>0.084619</td>\n",
       "      <td>104.153940</td>\n",
       "      <td>105.750914</td>\n",
       "      <td>-1.604911</td>\n",
       "    </tr>\n",
       "    <tr>\n",
       "      <th>19</th>\n",
       "      <td>19</td>\n",
       "      <td>3879.333333</td>\n",
       "      <td>1364.055556</td>\n",
       "      <td>749.166667</td>\n",
       "      <td>15.711111</td>\n",
       "      <td>0.060556</td>\n",
       "      <td>-1.961111</td>\n",
       "      <td>2.638889</td>\n",
       "      <td>0.081209</td>\n",
       "      <td>104.542918</td>\n",
       "      <td>107.990267</td>\n",
       "      <td>-3.449870</td>\n",
       "    </tr>\n",
       "    <tr>\n",
       "      <th>20</th>\n",
       "      <td>20</td>\n",
       "      <td>2208.666667</td>\n",
       "      <td>880.555556</td>\n",
       "      <td>483.500000</td>\n",
       "      <td>9.211111</td>\n",
       "      <td>0.068556</td>\n",
       "      <td>-1.861111</td>\n",
       "      <td>0.850000</td>\n",
       "      <td>0.075866</td>\n",
       "      <td>104.498884</td>\n",
       "      <td>106.426221</td>\n",
       "      <td>-1.926821</td>\n",
       "    </tr>\n",
       "    <tr>\n",
       "      <th>21</th>\n",
       "      <td>21</td>\n",
       "      <td>3112.166667</td>\n",
       "      <td>1240.944444</td>\n",
       "      <td>983.944444</td>\n",
       "      <td>16.650000</td>\n",
       "      <td>0.072611</td>\n",
       "      <td>-1.744444</td>\n",
       "      <td>4.116667</td>\n",
       "      <td>0.080827</td>\n",
       "      <td>103.574857</td>\n",
       "      <td>107.809993</td>\n",
       "      <td>-4.238127</td>\n",
       "    </tr>\n",
       "    <tr>\n",
       "      <th>22</th>\n",
       "      <td>22</td>\n",
       "      <td>2950.833333</td>\n",
       "      <td>1516.388889</td>\n",
       "      <td>644.944444</td>\n",
       "      <td>17.222222</td>\n",
       "      <td>0.085944</td>\n",
       "      <td>-1.561111</td>\n",
       "      <td>3.433333</td>\n",
       "      <td>0.081307</td>\n",
       "      <td>104.223821</td>\n",
       "      <td>106.893387</td>\n",
       "      <td>-2.660538</td>\n",
       "    </tr>\n",
       "    <tr>\n",
       "      <th>23</th>\n",
       "      <td>23</td>\n",
       "      <td>2824.388889</td>\n",
       "      <td>1429.944444</td>\n",
       "      <td>440.555556</td>\n",
       "      <td>12.983333</td>\n",
       "      <td>0.075000</td>\n",
       "      <td>-1.694444</td>\n",
       "      <td>1.783333</td>\n",
       "      <td>0.081567</td>\n",
       "      <td>104.972520</td>\n",
       "      <td>106.902480</td>\n",
       "      <td>-1.923689</td>\n",
       "    </tr>\n",
       "    <tr>\n",
       "      <th>24</th>\n",
       "      <td>24</td>\n",
       "      <td>3755.055556</td>\n",
       "      <td>1215.666667</td>\n",
       "      <td>1021.611111</td>\n",
       "      <td>17.916667</td>\n",
       "      <td>0.063722</td>\n",
       "      <td>-1.861111</td>\n",
       "      <td>4.594444</td>\n",
       "      <td>0.079297</td>\n",
       "      <td>103.923394</td>\n",
       "      <td>107.738185</td>\n",
       "      <td>-3.816256</td>\n",
       "    </tr>\n",
       "    <tr>\n",
       "      <th>25</th>\n",
       "      <td>25</td>\n",
       "      <td>2215.722222</td>\n",
       "      <td>1081.388889</td>\n",
       "      <td>443.611111</td>\n",
       "      <td>11.394444</td>\n",
       "      <td>0.058333</td>\n",
       "      <td>-2.244444</td>\n",
       "      <td>2.316667</td>\n",
       "      <td>0.078979</td>\n",
       "      <td>103.501229</td>\n",
       "      <td>106.447400</td>\n",
       "      <td>-2.943412</td>\n",
       "    </tr>\n",
       "    <tr>\n",
       "      <th>26</th>\n",
       "      <td>26</td>\n",
       "      <td>2532.944444</td>\n",
       "      <td>1073.944444</td>\n",
       "      <td>553.722222</td>\n",
       "      <td>13.927778</td>\n",
       "      <td>0.064167</td>\n",
       "      <td>-2.056278</td>\n",
       "      <td>1.800000</td>\n",
       "      <td>0.072396</td>\n",
       "      <td>103.422893</td>\n",
       "      <td>106.778687</td>\n",
       "      <td>-2.967652</td>\n",
       "    </tr>\n",
       "    <tr>\n",
       "      <th>27</th>\n",
       "      <td>27</td>\n",
       "      <td>3388.333333</td>\n",
       "      <td>1617.833333</td>\n",
       "      <td>614.333333</td>\n",
       "      <td>18.144444</td>\n",
       "      <td>0.095611</td>\n",
       "      <td>-1.456278</td>\n",
       "      <td>4.311111</td>\n",
       "      <td>0.095614</td>\n",
       "      <td>103.807499</td>\n",
       "      <td>106.639311</td>\n",
       "      <td>-2.831739</td>\n",
       "    </tr>\n",
       "    <tr>\n",
       "      <th>28</th>\n",
       "      <td>28</td>\n",
       "      <td>1621.777778</td>\n",
       "      <td>659.166667</td>\n",
       "      <td>354.000000</td>\n",
       "      <td>6.688889</td>\n",
       "      <td>0.050556</td>\n",
       "      <td>-2.978500</td>\n",
       "      <td>-0.144444</td>\n",
       "      <td>0.067985</td>\n",
       "      <td>100.982637</td>\n",
       "      <td>105.841242</td>\n",
       "      <td>-4.470176</td>\n",
       "    </tr>\n",
       "    <tr>\n",
       "      <th>29</th>\n",
       "      <td>29</td>\n",
       "      <td>1507.166667</td>\n",
       "      <td>560.333333</td>\n",
       "      <td>463.500000</td>\n",
       "      <td>5.972222</td>\n",
       "      <td>0.054056</td>\n",
       "      <td>-2.816667</td>\n",
       "      <td>0.972222</td>\n",
       "      <td>0.075728</td>\n",
       "      <td>103.625754</td>\n",
       "      <td>106.603588</td>\n",
       "      <td>-2.974258</td>\n",
       "    </tr>\n",
       "    <tr>\n",
       "      <th>30</th>\n",
       "      <td>30</td>\n",
       "      <td>2543.111111</td>\n",
       "      <td>1315.333333</td>\n",
       "      <td>572.722222</td>\n",
       "      <td>17.283333</td>\n",
       "      <td>0.073444</td>\n",
       "      <td>-1.945167</td>\n",
       "      <td>4.783333</td>\n",
       "      <td>0.080016</td>\n",
       "      <td>102.117728</td>\n",
       "      <td>108.241511</td>\n",
       "      <td>-5.748720</td>\n",
       "    </tr>\n",
       "    <tr>\n",
       "      <th>31</th>\n",
       "      <td>31</td>\n",
       "      <td>1935.833333</td>\n",
       "      <td>700.277778</td>\n",
       "      <td>245.166667</td>\n",
       "      <td>8.227778</td>\n",
       "      <td>0.050889</td>\n",
       "      <td>-3.422222</td>\n",
       "      <td>0.422222</td>\n",
       "      <td>0.071235</td>\n",
       "      <td>101.456285</td>\n",
       "      <td>106.967315</td>\n",
       "      <td>-5.512365</td>\n",
       "    </tr>\n",
       "    <tr>\n",
       "      <th>32</th>\n",
       "      <td>32</td>\n",
       "      <td>1157.055556</td>\n",
       "      <td>552.888889</td>\n",
       "      <td>229.611111</td>\n",
       "      <td>7.261111</td>\n",
       "      <td>0.055389</td>\n",
       "      <td>-3.255556</td>\n",
       "      <td>1.105556</td>\n",
       "      <td>0.059649</td>\n",
       "      <td>100.264162</td>\n",
       "      <td>106.322406</td>\n",
       "      <td>-6.053132</td>\n",
       "    </tr>\n",
       "    <tr>\n",
       "      <th>33</th>\n",
       "      <td>33</td>\n",
       "      <td>1867.777778</td>\n",
       "      <td>1023.833333</td>\n",
       "      <td>252.500000</td>\n",
       "      <td>11.194444</td>\n",
       "      <td>0.079056</td>\n",
       "      <td>-2.550000</td>\n",
       "      <td>1.038889</td>\n",
       "      <td>0.078723</td>\n",
       "      <td>104.325581</td>\n",
       "      <td>105.786889</td>\n",
       "      <td>-1.460958</td>\n",
       "    </tr>\n",
       "    <tr>\n",
       "      <th>34</th>\n",
       "      <td>34</td>\n",
       "      <td>1903.888889</td>\n",
       "      <td>610.166667</td>\n",
       "      <td>525.000000</td>\n",
       "      <td>7.588889</td>\n",
       "      <td>0.033167</td>\n",
       "      <td>-3.301444</td>\n",
       "      <td>0.961111</td>\n",
       "      <td>0.073439</td>\n",
       "      <td>99.886854</td>\n",
       "      <td>106.255922</td>\n",
       "      <td>-5.606152</td>\n",
       "    </tr>\n",
       "    <tr>\n",
       "      <th>35</th>\n",
       "      <td>35</td>\n",
       "      <td>1954.388889</td>\n",
       "      <td>1584.444444</td>\n",
       "      <td>488.388889</td>\n",
       "      <td>15.061111</td>\n",
       "      <td>0.052389</td>\n",
       "      <td>-3.268111</td>\n",
       "      <td>3.222222</td>\n",
       "      <td>0.066543</td>\n",
       "      <td>100.736986</td>\n",
       "      <td>106.916579</td>\n",
       "      <td>-5.414203</td>\n",
       "    </tr>\n",
       "    <tr>\n",
       "      <th>36</th>\n",
       "      <td>36</td>\n",
       "      <td>1535.777778</td>\n",
       "      <td>898.666667</td>\n",
       "      <td>265.388889</td>\n",
       "      <td>9.150000</td>\n",
       "      <td>0.053111</td>\n",
       "      <td>-3.312556</td>\n",
       "      <td>1.105556</td>\n",
       "      <td>0.068094</td>\n",
       "      <td>100.225180</td>\n",
       "      <td>107.077068</td>\n",
       "      <td>-6.086759</td>\n",
       "    </tr>\n",
       "    <tr>\n",
       "      <th>37</th>\n",
       "      <td>37</td>\n",
       "      <td>1302.444444</td>\n",
       "      <td>762.444444</td>\n",
       "      <td>214.611111</td>\n",
       "      <td>7.794444</td>\n",
       "      <td>0.046167</td>\n",
       "      <td>-3.495167</td>\n",
       "      <td>0.594444</td>\n",
       "      <td>0.065777</td>\n",
       "      <td>100.585833</td>\n",
       "      <td>107.090613</td>\n",
       "      <td>-6.135088</td>\n",
       "    </tr>\n",
       "    <tr>\n",
       "      <th>38</th>\n",
       "      <td>38</td>\n",
       "      <td>1136.555556</td>\n",
       "      <td>429.833333</td>\n",
       "      <td>343.722222</td>\n",
       "      <td>5.911111</td>\n",
       "      <td>0.051556</td>\n",
       "      <td>-2.800000</td>\n",
       "      <td>0.900000</td>\n",
       "      <td>0.068583</td>\n",
       "      <td>101.932447</td>\n",
       "      <td>104.517707</td>\n",
       "      <td>-2.578852</td>\n",
       "    </tr>\n",
       "    <tr>\n",
       "      <th>39</th>\n",
       "      <td>39</td>\n",
       "      <td>1630.277778</td>\n",
       "      <td>639.222222</td>\n",
       "      <td>294.555556</td>\n",
       "      <td>7.288889</td>\n",
       "      <td>0.022167</td>\n",
       "      <td>-4.408444</td>\n",
       "      <td>0.866667</td>\n",
       "      <td>0.055355</td>\n",
       "      <td>98.276115</td>\n",
       "      <td>109.381080</td>\n",
       "      <td>-9.572827</td>\n",
       "    </tr>\n",
       "    <tr>\n",
       "      <th>40</th>\n",
       "      <td>40</td>\n",
       "      <td>2379.111111</td>\n",
       "      <td>763.611111</td>\n",
       "      <td>559.444444</td>\n",
       "      <td>8.094444</td>\n",
       "      <td>0.001611</td>\n",
       "      <td>-5.317389</td>\n",
       "      <td>1.166667</td>\n",
       "      <td>0.053287</td>\n",
       "      <td>98.133669</td>\n",
       "      <td>109.530513</td>\n",
       "      <td>-11.007045</td>\n",
       "    </tr>\n",
       "    <tr>\n",
       "      <th>41</th>\n",
       "      <td>41</td>\n",
       "      <td>1479.000000</td>\n",
       "      <td>698.277778</td>\n",
       "      <td>392.944444</td>\n",
       "      <td>9.216667</td>\n",
       "      <td>0.047222</td>\n",
       "      <td>-3.339611</td>\n",
       "      <td>3.127778</td>\n",
       "      <td>0.064133</td>\n",
       "      <td>100.602646</td>\n",
       "      <td>106.868915</td>\n",
       "      <td>-5.878446</td>\n",
       "    </tr>\n",
       "    <tr>\n",
       "      <th>42</th>\n",
       "      <td>42</td>\n",
       "      <td>1092.055556</td>\n",
       "      <td>473.277778</td>\n",
       "      <td>269.277778</td>\n",
       "      <td>6.100000</td>\n",
       "      <td>0.047444</td>\n",
       "      <td>-4.040333</td>\n",
       "      <td>0.633333</td>\n",
       "      <td>0.062191</td>\n",
       "      <td>98.766595</td>\n",
       "      <td>108.347911</td>\n",
       "      <td>-8.815547</td>\n",
       "    </tr>\n",
       "    <tr>\n",
       "      <th>43</th>\n",
       "      <td>43</td>\n",
       "      <td>774.555556</td>\n",
       "      <td>295.555556</td>\n",
       "      <td>119.666667</td>\n",
       "      <td>3.055556</td>\n",
       "      <td>-0.056944</td>\n",
       "      <td>-7.151444</td>\n",
       "      <td>-0.227778</td>\n",
       "      <td>0.036250</td>\n",
       "      <td>93.795101</td>\n",
       "      <td>108.946358</td>\n",
       "      <td>-14.382670</td>\n",
       "    </tr>\n",
       "    <tr>\n",
       "      <th>44</th>\n",
       "      <td>44</td>\n",
       "      <td>630.555556</td>\n",
       "      <td>270.277778</td>\n",
       "      <td>119.500000</td>\n",
       "      <td>2.394444</td>\n",
       "      <td>0.003889</td>\n",
       "      <td>-5.270278</td>\n",
       "      <td>-0.433333</td>\n",
       "      <td>0.051426</td>\n",
       "      <td>96.832161</td>\n",
       "      <td>106.210095</td>\n",
       "      <td>-7.458732</td>\n",
       "    </tr>\n",
       "    <tr>\n",
       "      <th>45</th>\n",
       "      <td>45</td>\n",
       "      <td>2461.055556</td>\n",
       "      <td>689.555556</td>\n",
       "      <td>594.222222</td>\n",
       "      <td>10.750000</td>\n",
       "      <td>0.039278</td>\n",
       "      <td>-3.659167</td>\n",
       "      <td>1.738889</td>\n",
       "      <td>0.066570</td>\n",
       "      <td>99.422616</td>\n",
       "      <td>109.837238</td>\n",
       "      <td>-8.490865</td>\n",
       "    </tr>\n",
       "    <tr>\n",
       "      <th>46</th>\n",
       "      <td>46</td>\n",
       "      <td>1808.722222</td>\n",
       "      <td>557.444444</td>\n",
       "      <td>350.777778</td>\n",
       "      <td>6.900000</td>\n",
       "      <td>0.020278</td>\n",
       "      <td>-4.424389</td>\n",
       "      <td>1.450000</td>\n",
       "      <td>0.033288</td>\n",
       "      <td>98.428075</td>\n",
       "      <td>107.594019</td>\n",
       "      <td>-8.026081</td>\n",
       "    </tr>\n",
       "    <tr>\n",
       "      <th>47</th>\n",
       "      <td>47</td>\n",
       "      <td>1246.888889</td>\n",
       "      <td>610.111111</td>\n",
       "      <td>247.388889</td>\n",
       "      <td>6.733333</td>\n",
       "      <td>-0.033444</td>\n",
       "      <td>-6.302889</td>\n",
       "      <td>0.772222</td>\n",
       "      <td>0.037043</td>\n",
       "      <td>92.644857</td>\n",
       "      <td>110.356245</td>\n",
       "      <td>-16.164323</td>\n",
       "    </tr>\n",
       "    <tr>\n",
       "      <th>48</th>\n",
       "      <td>48</td>\n",
       "      <td>1076.388889</td>\n",
       "      <td>556.888889</td>\n",
       "      <td>251.888889</td>\n",
       "      <td>6.266667</td>\n",
       "      <td>0.018556</td>\n",
       "      <td>-4.512556</td>\n",
       "      <td>1.355556</td>\n",
       "      <td>0.052628</td>\n",
       "      <td>99.328977</td>\n",
       "      <td>103.517945</td>\n",
       "      <td>-3.425801</td>\n",
       "    </tr>\n",
       "    <tr>\n",
       "      <th>49</th>\n",
       "      <td>49</td>\n",
       "      <td>765.166667</td>\n",
       "      <td>478.333333</td>\n",
       "      <td>122.555556</td>\n",
       "      <td>3.561111</td>\n",
       "      <td>0.004833</td>\n",
       "      <td>-5.798056</td>\n",
       "      <td>-0.350000</td>\n",
       "      <td>0.046217</td>\n",
       "      <td>95.303398</td>\n",
       "      <td>108.069960</td>\n",
       "      <td>-10.847617</td>\n",
       "    </tr>\n",
       "    <tr>\n",
       "      <th>50</th>\n",
       "      <td>50</td>\n",
       "      <td>802.388889</td>\n",
       "      <td>430.722222</td>\n",
       "      <td>117.111111</td>\n",
       "      <td>3.888889</td>\n",
       "      <td>-0.003333</td>\n",
       "      <td>-6.407222</td>\n",
       "      <td>-0.916667</td>\n",
       "      <td>0.043688</td>\n",
       "      <td>94.688335</td>\n",
       "      <td>111.465231</td>\n",
       "      <td>-13.319144</td>\n",
       "    </tr>\n",
       "    <tr>\n",
       "      <th>51</th>\n",
       "      <td>51</td>\n",
       "      <td>264.888889</td>\n",
       "      <td>79.555556</td>\n",
       "      <td>91.277778</td>\n",
       "      <td>1.144444</td>\n",
       "      <td>-0.070333</td>\n",
       "      <td>-8.634278</td>\n",
       "      <td>-0.755556</td>\n",
       "      <td>0.024332</td>\n",
       "      <td>88.156308</td>\n",
       "      <td>105.709459</td>\n",
       "      <td>-14.487803</td>\n",
       "    </tr>\n",
       "    <tr>\n",
       "      <th>52</th>\n",
       "      <td>52</td>\n",
       "      <td>420.666667</td>\n",
       "      <td>177.111111</td>\n",
       "      <td>88.055556</td>\n",
       "      <td>1.461111</td>\n",
       "      <td>0.026056</td>\n",
       "      <td>-4.575111</td>\n",
       "      <td>-0.905556</td>\n",
       "      <td>0.055580</td>\n",
       "      <td>99.304754</td>\n",
       "      <td>108.873518</td>\n",
       "      <td>-8.035100</td>\n",
       "    </tr>\n",
       "    <tr>\n",
       "      <th>53</th>\n",
       "      <td>53</td>\n",
       "      <td>105.555556</td>\n",
       "      <td>67.500000</td>\n",
       "      <td>40.444444</td>\n",
       "      <td>0.244444</td>\n",
       "      <td>-0.016722</td>\n",
       "      <td>-6.136944</td>\n",
       "      <td>-0.777778</td>\n",
       "      <td>0.043677</td>\n",
       "      <td>93.911364</td>\n",
       "      <td>108.033089</td>\n",
       "      <td>-12.191751</td>\n",
       "    </tr>\n",
       "    <tr>\n",
       "      <th>54</th>\n",
       "      <td>54</td>\n",
       "      <td>195.277778</td>\n",
       "      <td>64.833333</td>\n",
       "      <td>51.944444</td>\n",
       "      <td>0.500000</td>\n",
       "      <td>-0.026611</td>\n",
       "      <td>-6.822444</td>\n",
       "      <td>-1.316667</td>\n",
       "      <td>0.040640</td>\n",
       "      <td>94.249498</td>\n",
       "      <td>110.025198</td>\n",
       "      <td>-12.692937</td>\n",
       "    </tr>\n",
       "    <tr>\n",
       "      <th>55</th>\n",
       "      <td>55</td>\n",
       "      <td>918.666667</td>\n",
       "      <td>280.500000</td>\n",
       "      <td>210.111111</td>\n",
       "      <td>3.711111</td>\n",
       "      <td>-0.035056</td>\n",
       "      <td>-7.720278</td>\n",
       "      <td>-0.394444</td>\n",
       "      <td>0.037301</td>\n",
       "      <td>94.607145</td>\n",
       "      <td>109.550163</td>\n",
       "      <td>-13.415671</td>\n",
       "    </tr>\n",
       "    <tr>\n",
       "      <th>56</th>\n",
       "      <td>56</td>\n",
       "      <td>757.055556</td>\n",
       "      <td>377.444444</td>\n",
       "      <td>222.000000</td>\n",
       "      <td>4.455556</td>\n",
       "      <td>0.008944</td>\n",
       "      <td>-4.915444</td>\n",
       "      <td>-0.344444</td>\n",
       "      <td>0.052472</td>\n",
       "      <td>94.133807</td>\n",
       "      <td>108.671426</td>\n",
       "      <td>-12.230311</td>\n",
       "    </tr>\n",
       "    <tr>\n",
       "      <th>57</th>\n",
       "      <td>57</td>\n",
       "      <td>468.333333</td>\n",
       "      <td>372.222222</td>\n",
       "      <td>55.888889</td>\n",
       "      <td>3.177778</td>\n",
       "      <td>-0.046889</td>\n",
       "      <td>-7.886444</td>\n",
       "      <td>-0.833333</td>\n",
       "      <td>0.033059</td>\n",
       "      <td>90.080488</td>\n",
       "      <td>113.238398</td>\n",
       "      <td>-18.547139</td>\n",
       "    </tr>\n",
       "    <tr>\n",
       "      <th>58</th>\n",
       "      <td>58</td>\n",
       "      <td>192.722222</td>\n",
       "      <td>107.944444</td>\n",
       "      <td>30.555556</td>\n",
       "      <td>0.766667</td>\n",
       "      <td>0.012611</td>\n",
       "      <td>-5.332833</td>\n",
       "      <td>-1.177778</td>\n",
       "      <td>0.049751</td>\n",
       "      <td>95.156032</td>\n",
       "      <td>108.360896</td>\n",
       "      <td>-10.509736</td>\n",
       "    </tr>\n",
       "    <tr>\n",
       "      <th>59</th>\n",
       "      <td>59</td>\n",
       "      <td>21.470588</td>\n",
       "      <td>12.000000</td>\n",
       "      <td>4.470588</td>\n",
       "      <td>-0.247059</td>\n",
       "      <td>-0.058706</td>\n",
       "      <td>-8.501765</td>\n",
       "      <td>-1.276471</td>\n",
       "      <td>0.025747</td>\n",
       "      <td>93.688270</td>\n",
       "      <td>116.797332</td>\n",
       "      <td>-19.057353</td>\n",
       "    </tr>\n",
       "    <tr>\n",
       "      <th>60</th>\n",
       "      <td>60</td>\n",
       "      <td>699.235294</td>\n",
       "      <td>155.000000</td>\n",
       "      <td>177.294118</td>\n",
       "      <td>2.811765</td>\n",
       "      <td>-0.023412</td>\n",
       "      <td>-6.593588</td>\n",
       "      <td>-0.082353</td>\n",
       "      <td>0.038310</td>\n",
       "      <td>94.958723</td>\n",
       "      <td>109.382448</td>\n",
       "      <td>-11.585675</td>\n",
       "    </tr>\n",
       "  </tbody>\n",
       "</table>\n",
       "</div>"
      ],
      "text/plain": [
       "    Pk          PTS          TRB          AST         WS     WS/48       BPM  \\\n",
       "1    1  7401.111111  2670.166667  1616.277778  34.300000  0.111000  1.144444   \n",
       "2    2  6970.722222  2501.777778  1275.277778  30.222222  0.078000 -0.861833   \n",
       "3    3  8355.388889  2976.888889  1855.555556  43.094444  0.116500  1.277778   \n",
       "4    4  7035.888889  2590.166667  2083.777778  36.872222  0.091722 -0.155556   \n",
       "5    5  6074.166667  2606.000000  1576.055556  26.266667  0.077889 -0.938889   \n",
       "6    6  4357.000000  1565.555556   928.333333  21.711111  0.090556 -0.488889   \n",
       "7    7  6855.611111  2414.777778  1332.388889  27.766667  0.080056 -0.833333   \n",
       "8    8  4463.166667  1758.388889   703.388889  16.894444  0.076056 -1.856278   \n",
       "9    9  5584.500000  2298.722222  1311.000000  27.222222  0.081944 -1.166667   \n",
       "10  10  5041.000000  1814.888889  1064.611111  21.777778  0.076111 -1.361111   \n",
       "11  11  4215.055556  1365.833333   807.055556  18.388889  0.070611 -1.434056   \n",
       "12  12  4171.888889  1934.222222   732.777778  19.150000  0.075833 -1.288889   \n",
       "13  13  4130.777778  1571.388889   786.222222  17.261111  0.076611 -1.127778   \n",
       "14  14  3047.500000  1296.333333   469.166667  13.833333  0.080722 -1.772944   \n",
       "15  15  3972.888889  1668.055556   681.944444  20.000000  0.077667 -1.383333   \n",
       "16  16  3248.888889  1562.888889   535.611111  13.433333  0.073278 -2.055556   \n",
       "17  17  3398.111111  1286.222222   822.888889  13.811111  0.063167 -1.916667   \n",
       "18  18  2895.500000  1009.166667   663.555556  12.644444  0.074667 -2.745889   \n",
       "19  19  3879.333333  1364.055556   749.166667  15.711111  0.060556 -1.961111   \n",
       "20  20  2208.666667   880.555556   483.500000   9.211111  0.068556 -1.861111   \n",
       "21  21  3112.166667  1240.944444   983.944444  16.650000  0.072611 -1.744444   \n",
       "22  22  2950.833333  1516.388889   644.944444  17.222222  0.085944 -1.561111   \n",
       "23  23  2824.388889  1429.944444   440.555556  12.983333  0.075000 -1.694444   \n",
       "24  24  3755.055556  1215.666667  1021.611111  17.916667  0.063722 -1.861111   \n",
       "25  25  2215.722222  1081.388889   443.611111  11.394444  0.058333 -2.244444   \n",
       "26  26  2532.944444  1073.944444   553.722222  13.927778  0.064167 -2.056278   \n",
       "27  27  3388.333333  1617.833333   614.333333  18.144444  0.095611 -1.456278   \n",
       "28  28  1621.777778   659.166667   354.000000   6.688889  0.050556 -2.978500   \n",
       "29  29  1507.166667   560.333333   463.500000   5.972222  0.054056 -2.816667   \n",
       "30  30  2543.111111  1315.333333   572.722222  17.283333  0.073444 -1.945167   \n",
       "31  31  1935.833333   700.277778   245.166667   8.227778  0.050889 -3.422222   \n",
       "32  32  1157.055556   552.888889   229.611111   7.261111  0.055389 -3.255556   \n",
       "33  33  1867.777778  1023.833333   252.500000  11.194444  0.079056 -2.550000   \n",
       "34  34  1903.888889   610.166667   525.000000   7.588889  0.033167 -3.301444   \n",
       "35  35  1954.388889  1584.444444   488.388889  15.061111  0.052389 -3.268111   \n",
       "36  36  1535.777778   898.666667   265.388889   9.150000  0.053111 -3.312556   \n",
       "37  37  1302.444444   762.444444   214.611111   7.794444  0.046167 -3.495167   \n",
       "38  38  1136.555556   429.833333   343.722222   5.911111  0.051556 -2.800000   \n",
       "39  39  1630.277778   639.222222   294.555556   7.288889  0.022167 -4.408444   \n",
       "40  40  2379.111111   763.611111   559.444444   8.094444  0.001611 -5.317389   \n",
       "41  41  1479.000000   698.277778   392.944444   9.216667  0.047222 -3.339611   \n",
       "42  42  1092.055556   473.277778   269.277778   6.100000  0.047444 -4.040333   \n",
       "43  43   774.555556   295.555556   119.666667   3.055556 -0.056944 -7.151444   \n",
       "44  44   630.555556   270.277778   119.500000   2.394444  0.003889 -5.270278   \n",
       "45  45  2461.055556   689.555556   594.222222  10.750000  0.039278 -3.659167   \n",
       "46  46  1808.722222   557.444444   350.777778   6.900000  0.020278 -4.424389   \n",
       "47  47  1246.888889   610.111111   247.388889   6.733333 -0.033444 -6.302889   \n",
       "48  48  1076.388889   556.888889   251.888889   6.266667  0.018556 -4.512556   \n",
       "49  49   765.166667   478.333333   122.555556   3.561111  0.004833 -5.798056   \n",
       "50  50   802.388889   430.722222   117.111111   3.888889 -0.003333 -6.407222   \n",
       "51  51   264.888889    79.555556    91.277778   1.144444 -0.070333 -8.634278   \n",
       "52  52   420.666667   177.111111    88.055556   1.461111  0.026056 -4.575111   \n",
       "53  53   105.555556    67.500000    40.444444   0.244444 -0.016722 -6.136944   \n",
       "54  54   195.277778    64.833333    51.944444   0.500000 -0.026611 -6.822444   \n",
       "55  55   918.666667   280.500000   210.111111   3.711111 -0.035056 -7.720278   \n",
       "56  56   757.055556   377.444444   222.000000   4.455556  0.008944 -4.915444   \n",
       "57  57   468.333333   372.222222    55.888889   3.177778 -0.046889 -7.886444   \n",
       "58  58   192.722222   107.944444    30.555556   0.766667  0.012611 -5.332833   \n",
       "59  59    21.470588    12.000000     4.470588  -0.247059 -0.058706 -8.501765   \n",
       "60  60   699.235294   155.000000   177.294118   2.811765 -0.023412 -6.593588   \n",
       "\n",
       "         VORP       PIE  OFF_RATING  DEF_RATING  NET_RATING  \n",
       "1   13.461111  0.121340  109.114443  109.075664    0.033601  \n",
       "2    9.516667  0.100460  105.213849  109.224775   -3.623824  \n",
       "3   16.183333  0.120169  108.540111  108.361783    0.175353  \n",
       "4   13.050000  0.098099  108.097615  108.584165   -0.486599  \n",
       "5    6.611111  0.099286  106.368897  109.031205   -2.660236  \n",
       "6    6.722222  0.093982  105.673507  108.231661   -2.552918  \n",
       "7    7.183333  0.095783  107.212172  109.668452   -2.457190  \n",
       "8    2.833333  0.084813  105.581364  107.834897   -2.249056  \n",
       "9    7.216667  0.095053  105.951342  108.637741   -2.675197  \n",
       "10   6.261111  0.086465  106.018941  107.771336   -1.748840  \n",
       "11   4.350000  0.087980  105.295529  108.099289   -2.416579  \n",
       "12   3.638889  0.085177  105.733336  107.584652   -1.856304  \n",
       "13   4.300000  0.092005  106.017392  107.737919   -1.724895  \n",
       "14   2.577778  0.085022  106.023247  107.837147   -1.806578  \n",
       "15   5.638889  0.083798  104.980716  107.921904   -2.940072  \n",
       "16   2.811111  0.076000  103.874779  108.832344   -4.959904  \n",
       "17   2.700000  0.078241  103.422588  106.795097   -3.372855  \n",
       "18   2.472222  0.084619  104.153940  105.750914   -1.604911  \n",
       "19   2.638889  0.081209  104.542918  107.990267   -3.449870  \n",
       "20   0.850000  0.075866  104.498884  106.426221   -1.926821  \n",
       "21   4.116667  0.080827  103.574857  107.809993   -4.238127  \n",
       "22   3.433333  0.081307  104.223821  106.893387   -2.660538  \n",
       "23   1.783333  0.081567  104.972520  106.902480   -1.923689  \n",
       "24   4.594444  0.079297  103.923394  107.738185   -3.816256  \n",
       "25   2.316667  0.078979  103.501229  106.447400   -2.943412  \n",
       "26   1.800000  0.072396  103.422893  106.778687   -2.967652  \n",
       "27   4.311111  0.095614  103.807499  106.639311   -2.831739  \n",
       "28  -0.144444  0.067985  100.982637  105.841242   -4.470176  \n",
       "29   0.972222  0.075728  103.625754  106.603588   -2.974258  \n",
       "30   4.783333  0.080016  102.117728  108.241511   -5.748720  \n",
       "31   0.422222  0.071235  101.456285  106.967315   -5.512365  \n",
       "32   1.105556  0.059649  100.264162  106.322406   -6.053132  \n",
       "33   1.038889  0.078723  104.325581  105.786889   -1.460958  \n",
       "34   0.961111  0.073439   99.886854  106.255922   -5.606152  \n",
       "35   3.222222  0.066543  100.736986  106.916579   -5.414203  \n",
       "36   1.105556  0.068094  100.225180  107.077068   -6.086759  \n",
       "37   0.594444  0.065777  100.585833  107.090613   -6.135088  \n",
       "38   0.900000  0.068583  101.932447  104.517707   -2.578852  \n",
       "39   0.866667  0.055355   98.276115  109.381080   -9.572827  \n",
       "40   1.166667  0.053287   98.133669  109.530513  -11.007045  \n",
       "41   3.127778  0.064133  100.602646  106.868915   -5.878446  \n",
       "42   0.633333  0.062191   98.766595  108.347911   -8.815547  \n",
       "43  -0.227778  0.036250   93.795101  108.946358  -14.382670  \n",
       "44  -0.433333  0.051426   96.832161  106.210095   -7.458732  \n",
       "45   1.738889  0.066570   99.422616  109.837238   -8.490865  \n",
       "46   1.450000  0.033288   98.428075  107.594019   -8.026081  \n",
       "47   0.772222  0.037043   92.644857  110.356245  -16.164323  \n",
       "48   1.355556  0.052628   99.328977  103.517945   -3.425801  \n",
       "49  -0.350000  0.046217   95.303398  108.069960  -10.847617  \n",
       "50  -0.916667  0.043688   94.688335  111.465231  -13.319144  \n",
       "51  -0.755556  0.024332   88.156308  105.709459  -14.487803  \n",
       "52  -0.905556  0.055580   99.304754  108.873518   -8.035100  \n",
       "53  -0.777778  0.043677   93.911364  108.033089  -12.191751  \n",
       "54  -1.316667  0.040640   94.249498  110.025198  -12.692937  \n",
       "55  -0.394444  0.037301   94.607145  109.550163  -13.415671  \n",
       "56  -0.344444  0.052472   94.133807  108.671426  -12.230311  \n",
       "57  -0.833333  0.033059   90.080488  113.238398  -18.547139  \n",
       "58  -1.177778  0.049751   95.156032  108.360896  -10.509736  \n",
       "59  -1.276471  0.025747   93.688270  116.797332  -19.057353  \n",
       "60  -0.082353  0.038310   94.958723  109.382448  -11.585675  "
      ]
     },
     "execution_count": 143,
     "metadata": {},
     "output_type": "execute_result"
    }
   ],
   "source": [
    "# TODO: Maybe add toggle button that allows comparing only to players of same position\n",
    "\n",
    "# group the df_career dataframe by 'Pk' and calculate the average for each relevant stat\n",
    "df_avg = df_career_na_filled.groupby('Pk')[relevant_stats].mean(numeric_only=True)\n",
    "df_avg = df_avg.reset_index()\n",
    "\n",
    "# add 1 to every index\n",
    "df_avg.index += 1\n",
    "\n",
    "df_avg"
   ]
  },
  {
   "cell_type": "code",
   "execution_count": 144,
   "metadata": {},
   "outputs": [],
   "source": [
    "# for each relevant stat, create a new column in the df_career_na_filled dataframe with the difference between the player's stat and the average for that stat for their draft position\n",
    "for stat in relevant_stats:\n",
    "    df_career_na_filled[stat + '_diff'] = df_career_na_filled[stat] - df_career_na_filled['Pk'].map(df_avg[stat])"
   ]
  },
  {
   "cell_type": "markdown",
   "metadata": {},
   "source": [
    "**Calculate ranks for all players above a minimum amount of games played**\n",
    "\n",
    "This section calculates the ranking of the performance above/below the average player at that draft position for each stat. Some of the stats that are normalized per 48 minutes can be affected by players that only played very little but performed well in this limited time (e.g., a player only ever played two minutes at the end of a blowout but scored four points). To avoid such players being ranked very highly, a minimum amount of games can be set here and all players that do not meet this requirement are excluded from the ranking."
   ]
  },
  {
   "cell_type": "code",
   "execution_count": 145,
   "metadata": {},
   "outputs": [
    {
     "data": {
      "application/vnd.jupyter.widget-view+json": {
       "model_id": "2d4bfd20154a4e4e8c0a13ea6d5ee0cb",
       "version_major": 2,
       "version_minor": 0
      },
      "text/plain": [
       "IntSlider(value=82, continuous_update=False, description='Minimum Games Played:', max=500)"
      ]
     },
     "metadata": {},
     "output_type": "display_data"
    }
   ],
   "source": [
    "# set standard minimum number of games played\n",
    "min_games = 82\n",
    "\n",
    "# create an int slides widget to select the minimum number of games played\n",
    "min_games_slider = widgets.IntSlider(\n",
    "    value=82,\n",
    "    min=0,\n",
    "    max=500,\n",
    "    step=1,\n",
    "    description='Minimum Games Played:',\n",
    "    disabled=False,\n",
    "    continuous_update=False,\n",
    "    orientation='horizontal',\n",
    "    readout=True,\n",
    "    readout_format='d'\n",
    ")\n",
    "\n",
    "# set the minimum number of games played\n",
    "def set_min_games(min_games_slider):\n",
    "    # declare global variable\n",
    "    global min_games\n",
    "    # get value from slider\n",
    "    min_games = min_games_slider['new']\n",
    "\n",
    "# observe the slider widget to get the minimum number of games played\n",
    "min_games_slider.observe(set_min_games, names='value')\n",
    "\n",
    "# display the slider widget\n",
    "display(min_games_slider)"
   ]
  },
  {
   "cell_type": "code",
   "execution_count": 146,
   "metadata": {},
   "outputs": [
    {
     "name": "stdout",
     "output_type": "stream",
     "text": [
      "You chose 82 as the minimum number of games played.\n"
     ]
    }
   ],
   "source": [
    "print(\"You chose\", min_games, \"as the minimum number of games played.\")\n",
    "\n",
    "# create a new column for each relevant stat with the rank of the player's stat for their draft position, only using player with min_games\n",
    "for stat in relevant_stats:\n",
    "    if stat == 'DEF_RATING': # lower DEF_RATING is better\n",
    "        df_career_na_filled[stat + '_rank'] = df_career_na_filled[df_career_na_filled['G'] >= min_games][stat + '_diff'].rank(ascending=True, method='min')\n",
    "    else:\n",
    "        df_career_na_filled[stat + '_rank'] = df_career_na_filled[df_career_na_filled['G'] >= min_games][stat + '_diff'].rank(ascending=False, method='min')"
   ]
  },
  {
   "cell_type": "markdown",
   "metadata": {},
   "source": [
    "**Show Performance of Selected Player**"
   ]
  },
  {
   "cell_type": "code",
   "execution_count": 147,
   "metadata": {},
   "outputs": [
    {
     "data": {
      "application/vnd.jupyter.widget-view+json": {
       "model_id": "c03b05c95e0b47319f67420dc19d800f",
       "version_major": 2,
       "version_minor": 0
      },
      "text/plain": [
       "Combobox(value='', description='Player:', ensure_option=True, options=('Andrew Bogut', 'Marvin Williams', 'Der…"
      ]
     },
     "metadata": {},
     "output_type": "display_data"
    },
    {
     "data": {
      "application/vnd.jupyter.widget-view+json": {
       "model_id": "5238337a5f664483bf975e3994a7dcc2",
       "version_major": 2,
       "version_minor": 0
      },
      "text/plain": [
       "Output()"
      ]
     },
     "metadata": {},
     "output_type": "display_data"
    }
   ],
   "source": [
    "# create a combobox widget with all 'Player' values\n",
    "player_widget = widgets.Combobox(\n",
    "    placeholder='Choose a Player',\n",
    "    options=df_career_na_filled['Player'].unique().tolist(),\n",
    "    description='Player:',\n",
    "    ensure_option=True,\n",
    "    disabled=False\n",
    ")\n",
    "\n",
    "# Define the output area to display additional information\n",
    "output_player_ranks = widgets.Output()\n",
    "\n",
    "# Function to update the output area based on the selected player\n",
    "def on_value_change_player_ranks(change):\n",
    "    output_player_ranks.clear_output()\n",
    "    selected_player = change['new']\n",
    "    with output_player_ranks:\n",
    "        # get player data\n",
    "        player_data = df_career_na_filled[df_career_na_filled['Player'] == selected_player]\n",
    "\n",
    "        # display player information\n",
    "        display(HTML(f\"<h3>Player: {player_data['Player'].values[0]}</h3>\"))\n",
    "        display(HTML(f\"<p>Year: {player_data['Season'].values[0]} Pick: {player_data['Pk'].values[0]} - Drafted by: {player_data['Tm'].values[0]}</p>\"))\n",
    "        display(HTML(f\"<p>Played {int(player_data['G'].values[0])} games in {int(player_data['Yrs'].values[0])} years</p>\"))\n",
    "        \n",
    "        # create a table with the player's ranks, total value and diff for each relevant stat\n",
    "        stats_table = [['Stat', 'Rank', 'Raw Stat', 'Difference to Average for Draft Position']]\n",
    "        for stat in relevant_stats:\n",
    "            stats_table.append([stat, int(player_data[stat + '_rank'].values[0]), round(player_data[stat].values[0], 2), round(player_data[stat + '_diff'].values[0], 2)])\n",
    "\n",
    "        # transpose the table\n",
    "        stats_table = list(map(list, zip(*stats_table)))\n",
    "            \n",
    "        display(HTML(tabulate(stats_table, tablefmt=\"html\")))\n",
    "\n",
    "# Observe changes in the value of the combobox and call the function\n",
    "player_widget.observe(on_value_change_player_ranks, names='value')\n",
    "\n",
    "# Display the widgets\n",
    "display(player_widget)\n",
    "display(output_player_ranks)"
   ]
  },
  {
   "cell_type": "code",
   "execution_count": 148,
   "metadata": {},
   "outputs": [
    {
     "data": {
      "application/vnd.jupyter.widget-view+json": {
       "model_id": "3975ce7312a44cb3b81f4d175fc14b64",
       "version_major": 2,
       "version_minor": 0
      },
      "text/plain": [
       "Combobox(value='', description='Player:', ensure_option=True, options=('Andrew Bogut', 'Marvin Williams', 'Der…"
      ]
     },
     "metadata": {},
     "output_type": "display_data"
    },
    {
     "data": {
      "application/vnd.jupyter.widget-view+json": {
       "model_id": "5acbb4e7e7c147a1ac6c85cd1eabda55",
       "version_major": 2,
       "version_minor": 0
      },
      "text/plain": [
       "Dropdown(description='Select Stat:', index=2, options=('PTS', 'TRB', 'AST', 'WS', 'WS/48', 'BPM', 'VORP', 'PIE…"
      ]
     },
     "metadata": {},
     "output_type": "display_data"
    },
    {
     "data": {
      "application/vnd.plotly.v1+json": {
       "config": {
        "plotlyServerURL": "https://plot.ly"
       },
       "data": [
        {
         "customdata": [
          [
           "Andrew Bogut",
           1546,
           338
          ],
          [
           "Marvin Williams",
           1373,
           254
          ],
          [
           "Deron Williams",
           6819,
           7
          ],
          [
           "Chris Paul",
           11501,
           1
          ],
          [
           "Raymond Felton",
           5096,
           17
          ],
          [
           "Martell Webster",
           588,
           485
          ],
          [
           "Charlie Villanueva",
           549,
           609
          ],
          [
           "Channing Frye",
           864,
           230
          ],
          [
           "Ike Diogu",
           69,
           649
          ],
          [
           "Andrew Bynum",
           490,
           561
          ],
          [
           "Sean May",
           115,
           590
          ],
          [
           "Rashad McCants",
           331,
           370
          ],
          [
           "Antoine Wright",
           295,
           498
          ],
          [
           "Joey Graham",
           207,
           477
          ],
          [
           "Danny Granger",
           1097,
           194
          ],
          [
           "Gerald Green",
           596,
           336
          ],
          [
           "Hakim Warrick",
           400,
           488
          ],
          [
           "Nate Robinson",
           1826,
           106
          ],
          [
           "Jarrett Jack",
           3952,
           18
          ],
          [
           "Francisco García",
           747,
           183
          ],
          [
           "Luther Head",
           747,
           446
          ],
          [
           "Johan Petro",
           227,
           423
          ],
          [
           "Jason Maxiell",
           266,
           450
          ],
          [
           "Linas Kleiza",
           321,
           453
          ],
          [
           "Ian Mahinmi",
           357,
           292
          ],
          [
           "David Lee",
           1825,
           72
          ],
          [
           "Salim Stoudamire",
           164,
           344
          ],
          [
           "Daniel Ewing",
           174,
           327
          ],
          [
           "Brandon Bass",
           608,
           175
          ],
          [
           "C.J. Miles",
           914,
           167
          ],
          [
           "Ersan İlyasova",
           908,
           130
          ],
          [
           "Ronny Turiaf",
           618,
           162
          ],
          [
           "Travis Diener",
           432,
           258
          ],
          [
           "Von Wafer",
           146,
           380
          ],
          [
           "Monta Ellis",
           3856,
           19
          ],
          [
           "Roko Ukić",
           165,
           425
          ],
          [
           "Lou Williams",
           3789,
           20
          ],
          [
           "Mickaël Gelabale",
           115,
           366
          ],
          [
           "Andray Blatche",
           798,
           126
          ],
          [
           "Ryan Gomes",
           712,
           138
          ],
          [
           "Orien Greene",
           155,
           246
          ],
          [
           "Lawrence Roberts",
           35,
           394
          ],
          [
           "Amir Johnson",
           1073,
           104
          ],
          [
           "Marcin Gortat",
           915,
           101
          ],
          [
           "Andrea Bargnani",
           653,
           627
          ],
          [
           "LaMarcus Aldridge",
           2076,
           108
          ],
          [
           "Adam Morrison",
           222,
           664
          ],
          [
           "Tyrus Thomas",
           347,
           665
          ],
          [
           "Shelden Williams",
           163,
           656
          ],
          [
           "Brandon Roy",
           1517,
           139
          ],
          [
           "Randy Foye",
           2112,
           111
          ],
          [
           "Rudy Gay",
           2280,
           56
          ],
          [
           "Patrick O'Bryant",
           25,
           651
          ],
          [
           "J.J. Redick",
           1862,
           86
          ],
          [
           "Hilton Armstrong",
           102,
           579
          ],
          [
           "Thabo Sefolosha",
           1196,
           161
          ],
          [
           "Ronnie Brewer",
           828,
           173
          ],
          [
           "Rodney Carney",
           132,
           505
          ],
          [
           "Shawne Williams",
           220,
           566
          ],
          [
           "Oleksiy Pecherov",
           20,
           580
          ],
          [
           "Quincy Douby",
           93,
           584
          ],
          [
           "Renaldo Balkman",
           132,
           489
          ],
          [
           "Rajon Rondo",
           7584,
           3
          ],
          [
           "Marcus Williams",
           574,
           339
          ],
          [
           "Josh Boone",
           125,
           470
          ],
          [
           "Kyle Lowry",
           6750,
           4
          ],
          [
           "Shannon Brown",
           458,
           284
          ],
          [
           "Jordan Farmar",
           1453,
           94
          ],
          [
           "Sergio Rodríguez",
           1183,
           142
          ],
          [
           "Maurice Ager",
           19,
           483
          ],
          [
           "Mardy Collins",
           327,
           365
          ],
          [
           "Joel Freeland",
           65,
           545
          ],
          [
           "Steve Novak",
           132,
           352
          ],
          [
           "Solomon Jones",
           99,
           383
          ],
          [
           "Paul Davis",
           32,
           537
          ],
          [
           "P.J. Tucker",
           1209,
           120
          ],
          [
           "Craig Smith",
           322,
           268
          ],
          [
           "Bobby Jones",
           44,
           389
          ],
          [
           "Daniel Gibson",
           775,
           150
          ],
          [
           "Alexander Johnson",
           30,
           557
          ],
          [
           "Paul Millsap",
           2378,
           39
          ],
          [
           "Leon Powe",
           78,
           321
          ],
          [
           "Ryan Hollins",
           151,
           272
          ],
          [
           "Greg Oden",
           51,
           662
          ],
          [
           "Kevin Durant",
           4267,
           21
          ],
          [
           "Al Horford",
           3333,
           59
          ],
          [
           "Mike Conley",
           5857,
           13
          ],
          [
           "Jeff Green",
           1694,
           245
          ],
          [
           "Yi Jianlian",
           192,
           599
          ],
          [
           "Corey Brewer",
           1250,
           346
          ],
          [
           "Brandan Wright",
           199,
           543
          ],
          [
           "Joakim Noah",
           1907,
           137
          ],
          [
           "Spencer Hawes",
           1271,
           213
          ],
          [
           "Acie Law",
           309,
           539
          ],
          [
           "Thaddeus Young",
           2078,
           67
          ],
          [
           "Julian Wright",
           182,
           567
          ],
          [
           "Al Thornton",
           353,
           358
          ],
          [
           "Rodney Stuckey",
           2333,
           53
          ],
          [
           "Nick Young",
           687,
           232
          ],
          [
           "Sean Williams",
           47,
           605
          ],
          [
           "Marco Belinelli",
           1429,
           116
          ],
          [
           "Javaris Crittenton",
           201,
           555
          ],
          [
           "Jason Smith",
           453,
           309
          ],
          [
           "Daequan Cook",
           243,
           600
          ],
          [
           "Jared Dudley",
           1394,
           118
          ],
          [
           "Wilson Chandler",
           1205,
           117
          ],
          [
           "Rudy Fernández",
           554,
           530
          ],
          [
           "Aaron Brooks",
           1925,
           65
          ],
          [
           "Arron Afflalo",
           1386,
           113
          ],
          [
           "Tiago Splitter",
           423,
           265
          ],
          [
           "Carl Landry",
           355,
           249
          ],
          [
           "Glen Davis",
           457,
           310
          ],
          [
           "Josh McRoberts",
           901,
           124
          ],
          [
           "Kyrylo Fesenko",
           40,
           462
          ],
          [
           "Dominic McGuire",
           422,
           225
          ],
          [
           "Marc Gasol",
           2996,
           25
          ],
          [
           "Aaron Gray",
           207,
           259
          ],
          [
           "Ramon Sessions",
           2807,
           30
          ],
          [
           "Derrick Rose",
           3692,
           42
          ],
          [
           "Michael Beasley",
           788,
           536
          ],
          [
           "O.J. Mayo",
           1607,
           432
          ],
          [
           "Russell Westbrook",
           9162,
           2
          ],
          [
           "Kevin Love",
           2036,
           156
          ],
          [
           "Danilo Gallinari",
           1414,
           152
          ],
          [
           "Eric Gordon",
           2304,
           88
          ],
          [
           "D.J. Augustin",
           3761,
           33
          ],
          [
           "Brook Lopez",
           1345,
           188
          ],
          [
           "Jerryd Bayless",
           1674,
           98
          ],
          [
           "Jason Thompson",
           635,
           353
          ],
          [
           "Brandon Rush",
           468,
           472
          ],
          [
           "Anthony Randolph",
           187,
           449
          ],
          [
           "Robin Lopez",
           815,
           238
          ],
          [
           "Marreese Speights",
           461,
           342
          ],
          [
           "Roy Hibbert",
           885,
           266
          ],
          [
           "JaVale McGee",
           369,
           455
          ],
          [
           "J.J. Hickson",
           449,
           459
          ],
          [
           "Alexis Ajinça",
           143,
           486
          ],
          [
           "Ryan Anderson",
           586,
           503
          ],
          [
           "Courtney Lee",
           1353,
           122
          ],
          [
           "Kosta Koufos",
           359,
           345
          ],
          [
           "Serge Ibaka",
           749,
           444
          ],
          [
           "Nicolas Batum",
           3336,
           22
          ],
          [
           "George Hill",
           2807,
           36
          ],
          [
           "Darrell Arthur",
           409,
           416
          ],
          [
           "Donté Greene",
           183,
           390
          ],
          [
           "D.J. White",
           80,
           497
          ],
          [
           "Nikola Peković",
           199,
           322
          ],
          [
           "Joey Dorsey",
           55,
           410
          ],
          [
           "Mario Chalmers",
           2412,
           44
          ],
          [
           "DeAndre Jordan",
           966,
           154
          ],
          [
           "Ömer Aşık",
           280,
           283
          ],
          [
           "Luc Mbah a Moute",
           588,
           171
          ],
          [
           "Sonny Weems",
           257,
           317
          ],
          [
           "Chris Douglas-Roberts",
           254,
           465
          ],
          [
           "Goran Dragić",
           4405,
           12
          ],
          [
           "Henry Walker",
           153,
           351
          ],
          [
           "Darnell Jackson",
           26,
           331
          ],
          [
           "Blake Griffin",
           3055,
           62
          ],
          [
           "Hasheem Thabeet",
           27,
           650
          ],
          [
           "James Harden",
           7015,
           5
          ],
          [
           "Tyreke Evans",
           2852,
           114
          ],
          [
           "Ricky Rubio",
           5160,
           15
          ],
          [
           "Jonny Flynn",
           634,
           454
          ],
          [
           "Stephen Curry",
           5740,
           8
          ],
          [
           "Jordan Hill",
           322,
           496
          ],
          [
           "DeMar DeRozan",
           4106,
           24
          ],
          [
           "Brandon Jennings",
           3151,
           41
          ],
          [
           "Terrence Williams",
           364,
           517
          ],
          [
           "Gerald Henderson",
           1009,
           192
          ],
          [
           "Tyler Hansbrough",
           181,
           568
          ],
          [
           "Earl Clark",
           134,
           484
          ],
          [
           "Austin Daye",
           212,
           531
          ],
          [
           "James Johnson",
           1598,
           82
          ],
          [
           "Jrue Holiday",
           5868,
           6
          ],
          [
           "Ty Lawson",
           3316,
           27
          ],
          [
           "Jeff Teague",
           4585,
           11
          ],
          [
           "Eric Maynor",
           760,
           191
          ],
          [
           "Darren Collison",
           3545,
           31
          ],
          [
           "Omri Casspi",
           662,
           209
          ],
          [
           "Byron Mullens",
           153,
           622
          ],
          [
           "Rodrigue Beaubois",
           374,
           337
          ],
          [
           "Taj Gibson",
           914,
           172
          ],
          [
           "DeMarre Carroll",
           726,
           248
          ],
          [
           "Wayne Ellington",
           852,
           151
          ],
          [
           "Toney Douglas",
           889,
           159
          ],
          [
           "Jeff Ayres",
           99,
           378
          ],
          [
           "Dante Cunningham",
           506,
           200
          ],
          [
           "DaJuan Summers",
           29,
           527
          ],
          [
           "Sam Young",
           180,
           349
          ],
          [
           "DeJuan Blair",
           349,
           237
          ],
          [
           "Jon Brockman",
           49,
           457
          ],
          [
           "Jonas Jerebko",
           525,
           206
          ],
          [
           "Derrick Brown",
           119,
           516
          ],
          [
           "Jodie Meeks",
           583,
           218
          ],
          [
           "Patrick Beverley",
           2033,
           49
          ],
          [
           "Marcus Thornton",
           677,
           143
          ],
          [
           "Chase Budinger",
           473,
           176
          ],
          [
           "Nick Calathes",
           353,
           430
          ],
          [
           "Danny Green",
           1276,
           92
          ],
          [
           "A.J. Price",
           567,
           153
          ],
          [
           "Nando De Colo",
           203,
           229
          ],
          [
           "Patty Mills",
           1950,
           50
          ],
          [
           "John Wall",
           5735,
           10
          ],
          [
           "Evan Turner",
           2462,
           77
          ],
          [
           "Derrick Favors",
           851,
           632
          ],
          [
           "Wesley Johnson",
           645,
           657
          ],
          [
           "DeMarcus Cousins",
           1979,
           163
          ],
          [
           "Ekpe Udoh",
           260,
           589
          ],
          [
           "Greg Monroe",
           1376,
           270
          ],
          [
           "Al-Farouq Aminu",
           879,
           224
          ],
          [
           "Gordon Hayward",
           2782,
           60
          ],
          [
           "Paul George",
           2929,
           45
          ],
          [
           "Cole Aldrich",
           183,
           578
          ],
          [
           "Xavier Henry",
           120,
           571
          ],
          [
           "Ed Davis",
           539,
           431
          ],
          [
           "Patrick Patterson",
           736,
           197
          ],
          [
           "Larry Sanders",
           174,
           546
          ],
          [
           "Luke Babbitt",
           224,
           467
          ],
          [
           "Kevin Séraphin",
           246,
           562
          ],
          [
           "Eric Bledsoe",
           3545,
           23
          ],
          [
           "Avery Bradley",
           1105,
           174
          ],
          [
           "James Anderson",
           291,
           406
          ],
          [
           "Elliot Williams",
           94,
           556
          ],
          [
           "Trevor Booker",
           566,
           240
          ],
          [
           "Quincy Pondexter",
           263,
           452
          ],
          [
           "Jordan Crawford",
           883,
           195
          ],
          [
           "Greivis Vásquez",
           1935,
           54
          ],
          [
           "Hassan Whiteside",
           327,
           263
          ],
          [
           "Nemanja Bjelica",
           826,
           179
          ],
          [
           "Landry Fields",
           419,
           241
          ],
          [
           "Lance Stephenson",
           1621,
           83
          ],
          [
           "Jeremy Evans",
           107,
           355
          ],
          [
           "Kyrie Irving",
           3834,
           38
          ],
          [
           "Derrick Williams",
           293,
           630
          ],
          [
           "Enes Freedom",
           638,
           646
          ],
          [
           "Tristan Thompson",
           725,
           652
          ],
          [
           "Jonas Valančiūnas",
           964,
           570
          ],
          [
           "Jan Veselý",
           96,
           617
          ],
          [
           "Bismack Biyombo",
           498,
           618
          ],
          [
           "Brandon Knight",
           1777,
           81
          ],
          [
           "Kemba Walker",
           3938,
           28
          ],
          [
           "Jimmer Fredette",
           331,
           597
          ],
          [
           "Klay Thompson",
           1667,
           100
          ],
          [
           "Alec Burks",
           1378,
           129
          ],
          [
           "Markieff Morris",
           1184,
           165
          ],
          [
           "Marcus Morris",
           1199,
           119
          ],
          [
           "Kawhi Leonard",
           1876,
           76
          ],
          [
           "Nikola Vučević",
           2302,
           48
          ],
          [
           "Iman Shumpert",
           845,
           277
          ],
          [
           "Chris Singleton",
           92,
           560
          ],
          [
           "Tobias Harris",
           1914,
           78
          ],
          [
           "Donatas Motiejūnas",
           269,
           420
          ],
          [
           "Nolan Smith",
           97,
           624
          ],
          [
           "Kenneth Faried",
           470,
           393
          ],
          [
           "Nikola Mirotić",
           407,
           313
          ],
          [
           "Reggie Jackson",
           3253,
           37
          ],
          [
           "MarShon Brooks",
           282,
           386
          ],
          [
           "Jordan Hamilton",
           127,
           512
          ],
          [
           "Norris Cole",
           981,
           133
          ],
          [
           "Cory Joseph",
           2403,
           43
          ],
          [
           "Jimmy Butler",
           3176,
           29
          ],
          [
           "Bojan Bogdanović",
           1097,
           103
          ],
          [
           "Kyle Singler",
           272,
           279
          ],
          [
           "Shelvin Mack",
           1421,
           95
          ],
          [
           "Chandler Parsons",
           1201,
           102
          ],
          [
           "Jeremy Tyler",
           25,
           441
          ],
          [
           "Jon Leuer",
           301,
           439
          ],
          [
           "Darius Morris",
           189,
           414
          ],
          [
           "Dāvis Bertāns",
           413,
           233
          ],
          [
           "Charles Jenkins",
           214,
           256
          ],
          [
           "Lavoy Allen",
           384,
           196
          ],
          [
           "DeAndre Liggins",
           122,
           260
          ],
          [
           "E'Twaun Moore",
           1055,
           105
          ],
          [
           "Isaiah Thomas",
           2638,
           32
          ],
          [
           "Anthony Davis",
           1562,
           326
          ],
          [
           "Michael Kidd-Gilchrist",
           515,
           603
          ],
          [
           "Bradley Beal",
           2972,
           79
          ],
          [
           "Dion Waiters",
           1163,
           626
          ],
          [
           "Thomas Robinson",
           190,
           655
          ],
          [
           "Damian Lillard",
           5151,
           9
          ],
          [
           "Harrison Barnes",
           1504,
           226
          ],
          [
           "Terrence Ross",
           936,
           205
          ],
          [
           "Andre Drummond",
           1036,
           447
          ],
          [
           "Austin Rivers",
           1513,
           157
          ],
          [
           "Meyers Leonard",
           396,
           508
          ],
          [
           "Jeremy Lamb",
           904,
           227
          ],
          [
           "Kendall Marshall",
           779,
           301
          ],
          [
           "John Henson",
           496,
           275
          ],
          [
           "Maurice Harkless",
           572,
           356
          ],
          [
           "Tyler Zeller",
           367,
           525
          ],
          [
           "Terrence Jones",
           238,
           511
          ],
          [
           "Andrew Nicholson",
           126,
           577
          ],
          [
           "Evan Fournier",
           1711,
           73
          ],
          [
           "Jared Sullinger",
           477,
           544
          ],
          [
           "John Jenkins",
           138,
           460
          ],
          [
           "Jared Cunningham",
           39,
           631
          ],
          [
           "Tony Wroten",
           437,
           300
          ],
          [
           "Miles Plumlee",
           178,
           493
          ],
          [
           "Perry Jones",
           54,
           458
          ],
          [
           "Marquis Teague",
           134,
           479
          ],
          [
           "Festus Ezeli",
           63,
           548
          ],
          [
           "Jeff Taylor",
           107,
           369
          ],
          [
           "Tomáš Satoranský",
           1586,
           66
          ],
          [
           "Bernard James",
           13,
           429
          ],
          [
           "Jae Crowder",
           1209,
           125
          ],
          [
           "Draymond Green",
           4233,
           14
          ],
          [
           "Orlando Johnson",
           69,
           408
          ],
          [
           "Quincy Acy",
           217,
           293
          ],
          [
           "Khris Middleton",
           2624,
           35
          ],
          [
           "Will Barton",
           1817,
           71
          ],
          [
           "Doron Lamb",
           75,
           407
          ],
          [
           "Mike Scott",
           499,
           170
          ],
          [
           "Justin Hamilton",
           91,
           541
          ],
          [
           "Darius Miller",
           367,
           281
          ],
          [
           "Kyle O'Quinn",
           643,
           147
          ],
          [
           "Robbie Hummel",
           50,
           280
          ],
          [
           "Robert Sacre",
           126,
           325
          ],
          [
           "Anthony Bennett",
           77,
           660
          ],
          [
           "Victor Oladipo",
           1970,
           123
          ],
          [
           "Otto Porter Jr.",
           775,
           637
          ],
          [
           "Cody Zeller",
           701,
           654
          ],
          [
           "Alex Len",
           501,
           636
          ],
          [
           "Nerlens Noel",
           501,
           513
          ],
          [
           "Ben McLemore",
           563,
           604
          ],
          [
           "Kentavious Caldwell-Pope",
           1333,
           132
          ],
          [
           "Trey Burke",
           1522,
           211
          ],
          [
           "CJ McCollum",
           2473,
           63
          ],
          [
           "Michael Carter-Williams",
           1708,
           93
          ],
          [
           "Steven Adams",
           1079,
           177
          ],
          [
           "Kelly Olynyk",
           1500,
           121
          ],
          [
           "Shabazz Muhammad",
           151,
           471
          ],
          [
           "Giannis Antetokounmpo",
           3379,
           26
          ],
          [
           "Lucas Nogueira",
           72,
           528
          ],
          [
           "Dennis Schröder",
           3205,
           34
          ],
          [
           "Shane Larkin",
           737,
           264
          ],
          [
           "Sergey Karasev",
           87,
           586
          ],
          [
           "Tony Snell",
           669,
           221
          ],
          [
           "Gorgui Dieng",
           837,
           379
          ],
          [
           "Mason Plumlee",
           1856,
           74
          ],
          [
           "Solomon Hill",
           662,
           209
          ],
          [
           "Tim Hardaway Jr.",
           1224,
           215
          ],
          [
           "Reggie Bullock",
           632,
           220
          ],
          [
           "Andre Roberson",
           265,
           451
          ],
          [
           "Rudy Gobert",
           894,
           189
          ],
          [
           "Archie Goodwin",
           206,
           437
          ],
          [
           "Allen Crabbe",
           434,
           219
          ],
          [
           "Álex Abrines",
           88,
           373
          ],
          [
           "Isaiah Canaan",
           454,
           340
          ],
          [
           "Ray McCallum",
           368,
           253
          ],
          [
           "Nate Wolters",
           209,
           364
          ],
          [
           "Jeff Withey",
           64,
           426
          ],
          [
           "Mike Muscala",
           428,
           182
          ],
          [
           "Raul Neto",
           913,
           127
          ],
          [
           "Ryan Kelly",
           215,
           316
          ],
          [
           "James Ennis III",
           373,
           199
          ],
          [
           "Lorenzo Brown",
           183,
           255
          ],
          [
           "Joffrey Lauvergne",
           180,
           308
          ],
          [
           "Andrew Wiggins",
           1478,
           371
          ],
          [
           "Jabari Parker",
           610,
           587
          ],
          [
           "Joel Embiid",
           1354,
           540
          ],
          [
           "Aaron Gordon",
           1516,
           559
          ],
          [
           "Dante Exum",
           515,
           635
          ],
          [
           "Marcus Smart",
           2700,
           47
          ],
          [
           "Julius Randle",
           2158,
           107
          ],
          [
           "Nik Stauskas",
           515,
           401
          ],
          [
           "Noah Vonleh",
           264,
           634
          ],
          [
           "Elfrid Payton",
           2868,
           46
          ],
          [
           "Doug McDermott",
           587,
           424
          ],
          [
           "Dario Šarić",
           773,
           271
          ],
          [
           "Zach LaVine",
           2187,
           64
          ],
          [
           "T.J. Warren",
           437,
           311
          ],
          [
           "Adreian Payne",
           66,
           574
          ],
          [
           "Jusuf Nurkić",
           1052,
           148
          ],
          [
           "James Young",
           28,
           610
          ],
          [
           "Tyler Ennis",
           359,
           464
          ],
          [
           "Gary Harris",
           1024,
           193
          ],
          [
           "Bruno Caboclo",
           72,
           509
          ],
          [
           "Rodney Hood",
           736,
           185
          ],
          [
           "Shabazz Napier",
           849,
           391
          ],
          [
           "Clint Capela",
           523,
           262
          ],
          [
           "P.J. Hairston",
           59,
           538
          ],
          [
           "Bogdan Bogdanović",
           1223,
           134
          ],
          [
           "Kyle Anderson",
           1502,
           91
          ],
          [
           "K.J. McDaniels",
           95,
           363
          ],
          [
           "Joe Harris",
           780,
           146
          ],
          [
           "Johnny O'Bryant",
           69,
           408
          ],
          [
           "Spencer Dinwiddie",
           2448,
           40
          ],
          [
           "Jerami Grant",
           897,
           136
          ],
          [
           "Glenn Robinson III",
           238,
           473
          ],
          [
           "Nikola Jokić",
           3959,
           16
          ],
          [
           "Markel Brown",
           132,
           286
          ],
          [
           "Dwight Powell",
           593,
           295
          ],
          [
           "Jordan Clarkson",
           1796,
           61
          ],
          [
           "Thanasis Antetokounmpo",
           98,
           290
          ],
          [
           "Jordan McRae",
           167,
           236
          ],
          [
           "Karl-Anthony Towns",
           1626,
           288
          ],
          [
           "D'Angelo Russell",
           2807,
           57
          ],
          [
           "Jahlil Okafor",
           225,
           663
          ],
          [
           "Kristaps Porziņģis",
           711,
           653
          ],
          [
           "Mario Hezonja",
           415,
           643
          ],
          [
           "Willie Cauley-Stein",
           598,
           481
          ],
          [
           "Emmanuel Mudiay",
           1143,
           402
          ],
          [
           "Stanley Johnson",
           679,
           307
          ],
          [
           "Frank Kaminsky",
           651,
           585
          ],
          [
           "Justise Winslow",
           889,
           395
          ],
          [
           "Myles Turner",
           602,
           415
          ],
          [
           "Trey Lyles",
           543,
           404
          ],
          [
           "Devin Booker",
           2521,
           51
          ],
          [
           "Cameron Payne",
           1119,
           128
          ],
          [
           "Kelly Oubre Jr.",
           538,
           377
          ],
          [
           "Terry Rozier",
           1828,
           68
          ],
          [
           "Rashad Vaughn",
           75,
           601
          ],
          [
           "Sam Dekker",
           160,
           542
          ],
          [
           "Jerian Grant",
           805,
           269
          ],
          [
           "Delon Wright",
           1440,
           90
          ],
          [
           "Justin Anderson",
           184,
           613
          ],
          [
           "Bobby Portis",
           642,
           297
          ],
          [
           "Rondae Hollis-Jefferson",
           579,
           235
          ],
          [
           "Tyus Jones",
           2108,
           80
          ],
          [
           "Jarell Martin",
           114,
           480
          ],
          [
           "Larry Nance Jr.",
           866,
           201
          ],
          [
           "Kevon Looney",
           705,
           239
          ],
          [
           "Cedi Osman",
           814,
           141
          ],
          [
           "Montrezl Harrell",
           675,
           158
          ],
          [
           "Willy Hernangómez",
           364,
           360
          ],
          [
           "Richaun Holmes",
           412,
           216
          ],
          [
           "Darrun Hilliard",
           71,
           445
          ],
          [
           "Josh Richardson",
           1346,
           110
          ],
          [
           "Pat Connaughton",
           598,
           214
          ],
          [
           "Joe Young",
           119,
           294
          ],
          [
           "Andrew Harrison",
           399,
           190
          ],
          [
           "Norman Powell",
           734,
           169
          ],
          [
           "Ben Simmons",
           2383,
           115
          ],
          [
           "Brandon Ingram",
           1674,
           164
          ],
          [
           "Jaylen Brown",
           1054,
           614
          ],
          [
           "Dragan Bender",
           237,
           668
          ],
          [
           "Kris Dunn",
           1153,
           510
          ],
          [
           "Buddy Hield",
           1405,
           155
          ],
          [
           "Jamal Murray",
           1722,
           166
          ],
          [
           "Marquese Chriss",
           298,
           506
          ],
          [
           "Jakob Poeltl",
           798,
           550
          ],
          [
           "Thon Maker",
           161,
           625
          ],
          [
           "Domantas Sabonis",
           2066,
           70
          ],
          [
           "Taurean Prince",
           731,
           296
          ],
          [
           "Denzel Valentine",
           466,
           299
          ],
          [
           "Juancho Hernangómez",
           216,
           529
          ],
          [
           "Henry Ellenson",
           49,
           573
          ],
          [
           "Malik Beasley",
           542,
           417
          ],
          [
           "Caris LeVert",
           1544,
           84
          ],
          [
           "DeAndre' Bembry",
           533,
           521
          ],
          [
           "Ante Žižić",
           64,
           494
          ],
          [
           "Timothé Luwawu-Cabarrot",
           293,
           596
          ],
          [
           "Furkan Korkmaz",
           366,
           400
          ],
          [
           "Pascal Siakam",
           1656,
           87
          ],
          [
           "Skal Labissière",
           152,
           413
          ],
          [
           "Dejounte Murray",
           1988,
           58
          ],
          [
           "Damian Jones",
           178,
           499
          ],
          [
           "Deyonta Davis",
           47,
           411
          ],
          [
           "Ivica Zubac",
           487,
           198
          ],
          [
           "Cheick Diallo",
           78,
           392
          ],
          [
           "Tyler Ulis",
           537,
           287
          ],
          [
           "Malcolm Brogdon",
           1844,
           55
          ],
          [
           "Patrick McCaw",
           270,
           341
          ],
          [
           "Isaiah Whitehead",
           212,
           329
          ],
          [
           "Jake Layman",
           127,
           359
          ],
          [
           "Paul Zipser",
           82,
           388
          ],
          [
           "Georges Niang",
           325,
           212
          ],
          [
           "Abdel Nader",
           110,
           261
          ],
          [
           "Tyrone Wallace",
           127,
           324
          ],
          [
           "Markelle Fultz",
           964,
           582
          ],
          [
           "Lonzo Ball",
           1563,
           186
          ],
          [
           "Jayson Tatum",
           1448,
           507
          ],
          [
           "Josh Jackson",
           534,
           661
          ],
          [
           "De'Aaron Fox",
           2452,
           96
          ],
          [
           "Jonathan Isaac",
           152,
           606
          ],
          [
           "Lauri Markkanen",
           477,
           621
          ],
          [
           "Frank Ntilikina",
           689,
           304
          ],
          [
           "Dennis Smith Jr.",
           1178,
           362
          ],
          [
           "Zach Collins",
           380,
           593
          ],
          [
           "Malik Monk",
           925,
           244
          ],
          [
           "Luke Kennard",
           694,
           319
          ],
          [
           "Donovan Mitchell",
           1843,
           85
          ],
          [
           "Bam Adebayo",
           1429,
           89
          ],
          [
           "Justin Jackson",
           285,
           501
          ],
          [
           "D.J. Wilson",
           108,
           594
          ],
          [
           "T.J. Leaf",
           43,
           576
          ],
          [
           "John Collins",
           540,
           418
          ],
          [
           "Harry Giles",
           174,
           466
          ],
          [
           "Terrance Ferguson",
           144,
           620
          ],
          [
           "Jarrett Allen",
           580,
           334
          ],
          [
           "OG Anunoby",
           560,
           242
          ],
          [
           "Kyle Kuzma",
           998,
           168
          ],
          [
           "Tony Bradley",
           90,
           440
          ],
          [
           "Derrick White",
           1327,
           99
          ],
          [
           "Josh Hart",
           904,
           180
          ],
          [
           "Frank Jackson",
           222,
           306
          ],
          [
           "Davon Reed",
           92,
           367
          ],
          [
           "Wes Iwundu",
           208,
           320
          ],
          [
           "Frank Mason III",
           272,
           434
          ],
          [
           "Ivan Rabb",
           86,
           504
          ],
          [
           "Semi Ojeleye",
           126,
           350
          ],
          [
           "Jordan Bell",
           201,
           376
          ],
          [
           "Dwayne Bacon",
           230,
           478
          ],
          [
           "Tyler Dorsey",
           135,
           438
          ],
          [
           "Thomas Bryant",
           250,
           305
          ],
          [
           "Isaiah Hartenstein",
           350,
           207
          ],
          [
           "Damyean Dotson",
           315,
           217
          ],
          [
           "Dillon Brooks",
           735,
           234
          ],
          [
           "Sterling Brown",
           268,
           347
          ],
          [
           "Sindarius Thornwell",
           111,
           372
          ],
          [
           "Vlatko Čančar",
           114,
           302
          ],
          [
           "Monte Morris",
           1368,
           69
          ],
          [
           "Edmond Sumner",
           182,
           257
          ],
          [
           "Deandre Ayton",
           495,
           641
          ],
          [
           "Marvin Bagley III",
           187,
           639
          ],
          [
           "Luka Dončić",
           2631,
           112
          ],
          [
           "Jaren Jackson Jr.",
           300,
           667
          ],
          [
           "Trae Young",
           3285,
           52
          ],
          [
           "Mo Bamba",
           247,
           592
          ],
          [
           "Wendell Carter Jr.",
           536,
           611
          ],
          [
           "Collin Sexton",
           858,
           231
          ],
          [
           "Kevin Knox",
           205,
           640
          ],
          [
           "Mikal Bridges",
           912,
           382
          ],
          [
           "Shai Gilgeous-Alexander",
           1411,
           135
          ],
          [
           "Miles Bridges",
           656,
           343
          ],
          [
           "Jerome Robinson",
           131,
           583
          ],
          [
           "Michael Porter Jr.",
           198,
           443
          ],
          [
           "Troy Brown Jr.",
           448,
           428
          ],
          [
           "Donte DiVincenzo",
           758,
           333
          ],
          [
           "Lonnie Walker IV",
           394,
           441
          ],
          [
           "Kevin Huerter",
           1092,
           178
          ],
          [
           "Josh Okogie",
           383,
           354
          ],
          [
           "Grayson Allen",
           448,
           554
          ],
          [
           "Chandler Hutchison",
           79,
           558
          ],
          [
           "Aaron Holiday",
           677,
           204
          ],
          [
           "Anfernee Simons",
           673,
           487
          ],
          [
           "Moritz Wagner",
           301,
           375
          ],
          [
           "Landry Shamet",
           516,
           318
          ],
          [
           "Robert Williams",
           299,
           469
          ],
          [
           "Omari Spellman",
           94,
           533
          ],
          [
           "Elie Okobo",
           242,
           298
          ],
          [
           "Jevon Carter",
           517,
           187
          ],
          [
           "Jalen Brunson",
           1455,
           75
          ],
          [
           "Devonte' Graham",
           1399,
           97
          ],
          [
           "Mitchell Robinson",
           181,
           348
          ],
          [
           "Gary Trent Jr.",
           393,
           223
          ],
          [
           "Isaac Bonga",
           118,
           396
          ],
          [
           "Rodions Kurucs",
           113,
           518
          ],
          [
           "Jarred Vanderbilt",
           359,
           314
          ],
          [
           "Bruce Brown",
           841,
           140
          ],
          [
           "Hamidou Diallo",
           282,
           468
          ],
          [
           "De'Anthony Melton",
           857,
           149
          ],
          [
           "Svi Mykhailiuk",
           351,
           251
          ],
          [
           "Keita Bates-Diop",
           203,
           323
          ],
          [
           "Chimezie Metu",
           151,
           274
          ],
          [
           "Shake Milton",
           694,
           131
          ],
          [
           "Zion Williamson",
           409,
           644
          ],
          [
           "Ja Morant",
           1830,
           144
          ],
          [
           "RJ Barrett",
           769,
           638
          ],
          [
           "De'Andre Hunter",
           318,
           666
          ],
          [
           "Darius Garland",
           1679,
           252
          ],
          [
           "Jarrett Culver",
           173,
           602
          ],
          [
           "Coby White",
           883,
           520
          ],
          [
           "Jaxson Hayes",
           168,
           553
          ],
          [
           "Rui Hachimura",
           275,
           633
          ],
          [
           "Cam Reddish",
           227,
           619
          ],
          [
           "Cameron Johnson",
           332,
           532
          ],
          [
           "P.J. Washington",
           606,
           361
          ],
          [
           "Tyler Herro",
           848,
           267
          ],
          [
           "Romeo Langford",
           97,
           492
          ],
          [
           "Sekou Doumbouya",
           66,
           574
          ],
          [
           "Chuma Okeke",
           256,
           448
          ],
          [
           "Nickeil Alexander-Walker",
           455,
           491
          ],
          [
           "Goga Bitadze",
           154,
           547
          ],
          [
           "Matisse Thybulle",
           270,
           419
          ],
          [
           "Brandon Clarke",
           334,
           581
          ],
          [
           "Grant Williams",
           341,
           463
          ],
          [
           "Darius Bazley",
           275,
           387
          ],
          [
           "Ty Jerome",
           408,
           572
          ],
          [
           "Nassir Little",
           149,
           456
          ],
          [
           "Dylan Windler",
           68,
           535
          ],
          [
           "Jordan Poole",
           906,
           145
          ],
          [
           "Keldon Johnson",
           477,
           285
          ],
          [
           "Kevin Porter Jr.",
           987,
           160
          ],
          [
           "Nic Claxton",
           231,
           303
          ],
          [
           "KZ Okpala",
           47,
           398
          ],
          [
           "Bruno Fernando",
           97,
           514
          ],
          [
           "Cody Martin",
           371,
           250
          ],
          [
           "Daniel Gafford",
           202,
           374
          ],
          [
           "Eric Paschall",
           214,
           397
          ],
          [
           "Admiral Schofield",
           71,
           412
          ],
          [
           "Jaylen Nowell",
           343,
           208
          ],
          [
           "Bol Bol",
           87,
           312
          ],
          [
           "Isaiah Roby",
           216,
           495
          ],
          [
           "Talen Horton-Tucker",
           592,
           202
          ],
          [
           "Terance Mann",
           550,
           184
          ],
          [
           "Jalen McDaniels",
           254,
           228
          ],
          [
           "Anthony Edwards",
           836,
           608
          ],
          [
           "James Wiseman",
           56,
           647
          ],
          [
           "LaMelo Ball",
           1188,
           588
          ],
          [
           "Patrick Williams",
           214,
           669
          ],
          [
           "Isaac Okoro",
           336,
           648
          ],
          [
           "Onyeka Okongwu",
           152,
           606
          ],
          [
           "Killian Hayes",
           885,
           519
          ],
          [
           "Obi Toppin",
           172,
           552
          ],
          [
           "Deni Avdija",
           441,
           623
          ],
          [
           "Jalen Smith",
           94,
           629
          ],
          [
           "Devin Vassell",
           328,
           534
          ],
          [
           "Tyrese Haliburton",
           1522,
           109
          ],
          [
           "Kira Lewis Jr.",
           196,
           564
          ],
          [
           "Aaron Nesmith",
           143,
           476
          ],
          [
           "Cole Anthony",
           796,
           247
          ],
          [
           "Isaiah Stewart",
           211,
           475
          ],
          [
           "Aleksej Pokusevski",
           292,
           551
          ],
          [
           "Josh Green",
           210,
           523
          ],
          [
           "Saddiq Bey",
           446,
           461
          ],
          [
           "Precious Achiuwa",
           161,
           474
          ],
          [
           "Tyrese Maxey",
           653,
           482
          ],
          [
           "Zeke Nnaji",
           45,
           565
          ],
          [
           "R.J. Hampton",
           299,
           595
          ],
          [
           "Immanuel Quickley",
           681,
           203
          ],
          [
           "Payton Pritchard",
           323,
           427
          ],
          [
           "Jaden McDaniels",
           298,
           328
          ],
          [
           "Malachi Flynn",
           277,
           399
          ],
          [
           "Desmond Bane",
           580,
           289
          ],
          [
           "Théo Maledon",
           490,
           315
          ],
          [
           "Xavier Tillman Sr.",
           233,
           436
          ],
          [
           "Saben Lee",
           348,
           291
          ],
          [
           "Tre Jones",
           720,
           181
          ],
          [
           "Nick Richards",
           53,
           422
          ],
          [
           "Jordan Nwora",
           154,
           515
          ],
          [
           "CJ Elleby",
           97,
           435
          ],
          [
           "Isaiah Joe",
           143,
           278
          ],
          [
           "Kenyon Martin Jr.",
           272,
           222
          ],
          [
           "Paul Reed",
           55,
           276
          ],
          [
           "Jalen Green",
           457,
           616
          ],
          [
           "Evan Mobley",
           398,
           659
          ],
          [
           "Scottie Barnes",
           627,
           658
          ],
          [
           "Jalen Suggs",
           364,
           645
          ],
          [
           "Josh Giddey",
           814,
           357
          ],
          [
           "Jonathan Kuminga",
           189,
           642
          ],
          [
           "Franz Wagner",
           514,
           402
          ],
          [
           "Davion Mitchell",
           498,
           615
          ],
          [
           "Ziaire Williams",
           100,
           628
          ],
          [
           "Chris Duarte",
           178,
           569
          ],
          [
           "Moses Moody",
           74,
           500
          ],
          [
           "Corey Kispert",
           172,
           549
          ],
          [
           "Alperen Şengün",
           476,
           330
          ],
          [
           "Trey Murphy III",
           150,
           591
          ],
          [
           "Tre Mann",
           211,
           522
          ],
          [
           "Jalen Johnson",
           86,
           502
          ],
          [
           "Isaiah Jackson",
           61,
           563
          ],
          [
           "Usman Garuba",
           81,
           490
          ],
          [
           "Josh Christopher",
           223,
           612
          ],
          [
           "Quentin Grimes",
           194,
           433
          ],
          [
           "Bones Hyland",
           363,
           405
          ],
          [
           "Cam Thomas",
           156,
           526
          ],
          [
           "Santi Aldama",
           118,
           524
          ],
          [
           "Jeremiah Robinson-Earl",
           92,
           367
          ],
          [
           "Herbert Jones",
           329,
           384
          ],
          [
           "Miles McBride",
           113,
           381
          ],
          [
           "JT Thor",
           55,
           385
          ],
          [
           "Ayo Dosunmu",
           462,
           243
          ],
          [
           "Kessler Edwards",
           54,
           335
          ],
          [
           "Dalano Banton",
           135,
           421
          ],
          [
           "Sandro Mamukelashvili",
           84,
           273
          ],
          [
           "Aaron Wiggins",
           148,
           332
          ],
          [
           "Jericho Sims",
           46,
           282
          ],
          [
           "Tari Eason",
           88,
           598
          ]
         ],
         "hovertemplate": "<b>%{hovertext}</b><br><br>Pk=%{x}<br>AST_diff=%{y}<br>AST=%{customdata[1]}<br>AST_rank=%{customdata[2]}<extra></extra>",
         "hovertext": [
          "Andrew Bogut",
          "Marvin Williams",
          "Deron Williams",
          "Chris Paul",
          "Raymond Felton",
          "Martell Webster",
          "Charlie Villanueva",
          "Channing Frye",
          "Ike Diogu",
          "Andrew Bynum",
          "Sean May",
          "Rashad McCants",
          "Antoine Wright",
          "Joey Graham",
          "Danny Granger",
          "Gerald Green",
          "Hakim Warrick",
          "Nate Robinson",
          "Jarrett Jack",
          "Francisco García",
          "Luther Head",
          "Johan Petro",
          "Jason Maxiell",
          "Linas Kleiza",
          "Ian Mahinmi",
          "David Lee",
          "Salim Stoudamire",
          "Daniel Ewing",
          "Brandon Bass",
          "C.J. Miles",
          "Ersan İlyasova",
          "Ronny Turiaf",
          "Travis Diener",
          "Von Wafer",
          "Monta Ellis",
          "Roko Ukić",
          "Lou Williams",
          "Mickaël Gelabale",
          "Andray Blatche",
          "Ryan Gomes",
          "Orien Greene",
          "Lawrence Roberts",
          "Amir Johnson",
          "Marcin Gortat",
          "Andrea Bargnani",
          "LaMarcus Aldridge",
          "Adam Morrison",
          "Tyrus Thomas",
          "Shelden Williams",
          "Brandon Roy",
          "Randy Foye",
          "Rudy Gay",
          "Patrick O'Bryant",
          "J.J. Redick",
          "Hilton Armstrong",
          "Thabo Sefolosha",
          "Ronnie Brewer",
          "Rodney Carney",
          "Shawne Williams",
          "Oleksiy Pecherov",
          "Quincy Douby",
          "Renaldo Balkman",
          "Rajon Rondo",
          "Marcus Williams",
          "Josh Boone",
          "Kyle Lowry",
          "Shannon Brown",
          "Jordan Farmar",
          "Sergio Rodríguez",
          "Maurice Ager",
          "Mardy Collins",
          "Joel Freeland",
          "Steve Novak",
          "Solomon Jones",
          "Paul Davis",
          "P.J. Tucker",
          "Craig Smith",
          "Bobby Jones",
          "Daniel Gibson",
          "Alexander Johnson",
          "Paul Millsap",
          "Leon Powe",
          "Ryan Hollins",
          "Greg Oden",
          "Kevin Durant",
          "Al Horford",
          "Mike Conley",
          "Jeff Green",
          "Yi Jianlian",
          "Corey Brewer",
          "Brandan Wright",
          "Joakim Noah",
          "Spencer Hawes",
          "Acie Law",
          "Thaddeus Young",
          "Julian Wright",
          "Al Thornton",
          "Rodney Stuckey",
          "Nick Young",
          "Sean Williams",
          "Marco Belinelli",
          "Javaris Crittenton",
          "Jason Smith",
          "Daequan Cook",
          "Jared Dudley",
          "Wilson Chandler",
          "Rudy Fernández",
          "Aaron Brooks",
          "Arron Afflalo",
          "Tiago Splitter",
          "Carl Landry",
          "Glen Davis",
          "Josh McRoberts",
          "Kyrylo Fesenko",
          "Dominic McGuire",
          "Marc Gasol",
          "Aaron Gray",
          "Ramon Sessions",
          "Derrick Rose",
          "Michael Beasley",
          "O.J. Mayo",
          "Russell Westbrook",
          "Kevin Love",
          "Danilo Gallinari",
          "Eric Gordon",
          "D.J. Augustin",
          "Brook Lopez",
          "Jerryd Bayless",
          "Jason Thompson",
          "Brandon Rush",
          "Anthony Randolph",
          "Robin Lopez",
          "Marreese Speights",
          "Roy Hibbert",
          "JaVale McGee",
          "J.J. Hickson",
          "Alexis Ajinça",
          "Ryan Anderson",
          "Courtney Lee",
          "Kosta Koufos",
          "Serge Ibaka",
          "Nicolas Batum",
          "George Hill",
          "Darrell Arthur",
          "Donté Greene",
          "D.J. White",
          "Nikola Peković",
          "Joey Dorsey",
          "Mario Chalmers",
          "DeAndre Jordan",
          "Ömer Aşık",
          "Luc Mbah a Moute",
          "Sonny Weems",
          "Chris Douglas-Roberts",
          "Goran Dragić",
          "Henry Walker",
          "Darnell Jackson",
          "Blake Griffin",
          "Hasheem Thabeet",
          "James Harden",
          "Tyreke Evans",
          "Ricky Rubio",
          "Jonny Flynn",
          "Stephen Curry",
          "Jordan Hill",
          "DeMar DeRozan",
          "Brandon Jennings",
          "Terrence Williams",
          "Gerald Henderson",
          "Tyler Hansbrough",
          "Earl Clark",
          "Austin Daye",
          "James Johnson",
          "Jrue Holiday",
          "Ty Lawson",
          "Jeff Teague",
          "Eric Maynor",
          "Darren Collison",
          "Omri Casspi",
          "Byron Mullens",
          "Rodrigue Beaubois",
          "Taj Gibson",
          "DeMarre Carroll",
          "Wayne Ellington",
          "Toney Douglas",
          "Jeff Ayres",
          "Dante Cunningham",
          "DaJuan Summers",
          "Sam Young",
          "DeJuan Blair",
          "Jon Brockman",
          "Jonas Jerebko",
          "Derrick Brown",
          "Jodie Meeks",
          "Patrick Beverley",
          "Marcus Thornton",
          "Chase Budinger",
          "Nick Calathes",
          "Danny Green",
          "A.J. Price",
          "Nando De Colo",
          "Patty Mills",
          "John Wall",
          "Evan Turner",
          "Derrick Favors",
          "Wesley Johnson",
          "DeMarcus Cousins",
          "Ekpe Udoh",
          "Greg Monroe",
          "Al-Farouq Aminu",
          "Gordon Hayward",
          "Paul George",
          "Cole Aldrich",
          "Xavier Henry",
          "Ed Davis",
          "Patrick Patterson",
          "Larry Sanders",
          "Luke Babbitt",
          "Kevin Séraphin",
          "Eric Bledsoe",
          "Avery Bradley",
          "James Anderson",
          "Elliot Williams",
          "Trevor Booker",
          "Quincy Pondexter",
          "Jordan Crawford",
          "Greivis Vásquez",
          "Hassan Whiteside",
          "Nemanja Bjelica",
          "Landry Fields",
          "Lance Stephenson",
          "Jeremy Evans",
          "Kyrie Irving",
          "Derrick Williams",
          "Enes Freedom",
          "Tristan Thompson",
          "Jonas Valančiūnas",
          "Jan Veselý",
          "Bismack Biyombo",
          "Brandon Knight",
          "Kemba Walker",
          "Jimmer Fredette",
          "Klay Thompson",
          "Alec Burks",
          "Markieff Morris",
          "Marcus Morris",
          "Kawhi Leonard",
          "Nikola Vučević",
          "Iman Shumpert",
          "Chris Singleton",
          "Tobias Harris",
          "Donatas Motiejūnas",
          "Nolan Smith",
          "Kenneth Faried",
          "Nikola Mirotić",
          "Reggie Jackson",
          "MarShon Brooks",
          "Jordan Hamilton",
          "Norris Cole",
          "Cory Joseph",
          "Jimmy Butler",
          "Bojan Bogdanović",
          "Kyle Singler",
          "Shelvin Mack",
          "Chandler Parsons",
          "Jeremy Tyler",
          "Jon Leuer",
          "Darius Morris",
          "Dāvis Bertāns",
          "Charles Jenkins",
          "Lavoy Allen",
          "DeAndre Liggins",
          "E'Twaun Moore",
          "Isaiah Thomas",
          "Anthony Davis",
          "Michael Kidd-Gilchrist",
          "Bradley Beal",
          "Dion Waiters",
          "Thomas Robinson",
          "Damian Lillard",
          "Harrison Barnes",
          "Terrence Ross",
          "Andre Drummond",
          "Austin Rivers",
          "Meyers Leonard",
          "Jeremy Lamb",
          "Kendall Marshall",
          "John Henson",
          "Maurice Harkless",
          "Tyler Zeller",
          "Terrence Jones",
          "Andrew Nicholson",
          "Evan Fournier",
          "Jared Sullinger",
          "John Jenkins",
          "Jared Cunningham",
          "Tony Wroten",
          "Miles Plumlee",
          "Perry Jones",
          "Marquis Teague",
          "Festus Ezeli",
          "Jeff Taylor",
          "Tomáš Satoranský",
          "Bernard James",
          "Jae Crowder",
          "Draymond Green",
          "Orlando Johnson",
          "Quincy Acy",
          "Khris Middleton",
          "Will Barton",
          "Doron Lamb",
          "Mike Scott",
          "Justin Hamilton",
          "Darius Miller",
          "Kyle O'Quinn",
          "Robbie Hummel",
          "Robert Sacre",
          "Anthony Bennett",
          "Victor Oladipo",
          "Otto Porter Jr.",
          "Cody Zeller",
          "Alex Len",
          "Nerlens Noel",
          "Ben McLemore",
          "Kentavious Caldwell-Pope",
          "Trey Burke",
          "CJ McCollum",
          "Michael Carter-Williams",
          "Steven Adams",
          "Kelly Olynyk",
          "Shabazz Muhammad",
          "Giannis Antetokounmpo",
          "Lucas Nogueira",
          "Dennis Schröder",
          "Shane Larkin",
          "Sergey Karasev",
          "Tony Snell",
          "Gorgui Dieng",
          "Mason Plumlee",
          "Solomon Hill",
          "Tim Hardaway Jr.",
          "Reggie Bullock",
          "Andre Roberson",
          "Rudy Gobert",
          "Archie Goodwin",
          "Allen Crabbe",
          "Álex Abrines",
          "Isaiah Canaan",
          "Ray McCallum",
          "Nate Wolters",
          "Jeff Withey",
          "Mike Muscala",
          "Raul Neto",
          "Ryan Kelly",
          "James Ennis III",
          "Lorenzo Brown",
          "Joffrey Lauvergne",
          "Andrew Wiggins",
          "Jabari Parker",
          "Joel Embiid",
          "Aaron Gordon",
          "Dante Exum",
          "Marcus Smart",
          "Julius Randle",
          "Nik Stauskas",
          "Noah Vonleh",
          "Elfrid Payton",
          "Doug McDermott",
          "Dario Šarić",
          "Zach LaVine",
          "T.J. Warren",
          "Adreian Payne",
          "Jusuf Nurkić",
          "James Young",
          "Tyler Ennis",
          "Gary Harris",
          "Bruno Caboclo",
          "Rodney Hood",
          "Shabazz Napier",
          "Clint Capela",
          "P.J. Hairston",
          "Bogdan Bogdanović",
          "Kyle Anderson",
          "K.J. McDaniels",
          "Joe Harris",
          "Johnny O'Bryant",
          "Spencer Dinwiddie",
          "Jerami Grant",
          "Glenn Robinson III",
          "Nikola Jokić",
          "Markel Brown",
          "Dwight Powell",
          "Jordan Clarkson",
          "Thanasis Antetokounmpo",
          "Jordan McRae",
          "Karl-Anthony Towns",
          "D'Angelo Russell",
          "Jahlil Okafor",
          "Kristaps Porziņģis",
          "Mario Hezonja",
          "Willie Cauley-Stein",
          "Emmanuel Mudiay",
          "Stanley Johnson",
          "Frank Kaminsky",
          "Justise Winslow",
          "Myles Turner",
          "Trey Lyles",
          "Devin Booker",
          "Cameron Payne",
          "Kelly Oubre Jr.",
          "Terry Rozier",
          "Rashad Vaughn",
          "Sam Dekker",
          "Jerian Grant",
          "Delon Wright",
          "Justin Anderson",
          "Bobby Portis",
          "Rondae Hollis-Jefferson",
          "Tyus Jones",
          "Jarell Martin",
          "Larry Nance Jr.",
          "Kevon Looney",
          "Cedi Osman",
          "Montrezl Harrell",
          "Willy Hernangómez",
          "Richaun Holmes",
          "Darrun Hilliard",
          "Josh Richardson",
          "Pat Connaughton",
          "Joe Young",
          "Andrew Harrison",
          "Norman Powell",
          "Ben Simmons",
          "Brandon Ingram",
          "Jaylen Brown",
          "Dragan Bender",
          "Kris Dunn",
          "Buddy Hield",
          "Jamal Murray",
          "Marquese Chriss",
          "Jakob Poeltl",
          "Thon Maker",
          "Domantas Sabonis",
          "Taurean Prince",
          "Denzel Valentine",
          "Juancho Hernangómez",
          "Henry Ellenson",
          "Malik Beasley",
          "Caris LeVert",
          "DeAndre' Bembry",
          "Ante Žižić",
          "Timothé Luwawu-Cabarrot",
          "Furkan Korkmaz",
          "Pascal Siakam",
          "Skal Labissière",
          "Dejounte Murray",
          "Damian Jones",
          "Deyonta Davis",
          "Ivica Zubac",
          "Cheick Diallo",
          "Tyler Ulis",
          "Malcolm Brogdon",
          "Patrick McCaw",
          "Isaiah Whitehead",
          "Jake Layman",
          "Paul Zipser",
          "Georges Niang",
          "Abdel Nader",
          "Tyrone Wallace",
          "Markelle Fultz",
          "Lonzo Ball",
          "Jayson Tatum",
          "Josh Jackson",
          "De'Aaron Fox",
          "Jonathan Isaac",
          "Lauri Markkanen",
          "Frank Ntilikina",
          "Dennis Smith Jr.",
          "Zach Collins",
          "Malik Monk",
          "Luke Kennard",
          "Donovan Mitchell",
          "Bam Adebayo",
          "Justin Jackson",
          "D.J. Wilson",
          "T.J. Leaf",
          "John Collins",
          "Harry Giles",
          "Terrance Ferguson",
          "Jarrett Allen",
          "OG Anunoby",
          "Kyle Kuzma",
          "Tony Bradley",
          "Derrick White",
          "Josh Hart",
          "Frank Jackson",
          "Davon Reed",
          "Wes Iwundu",
          "Frank Mason III",
          "Ivan Rabb",
          "Semi Ojeleye",
          "Jordan Bell",
          "Dwayne Bacon",
          "Tyler Dorsey",
          "Thomas Bryant",
          "Isaiah Hartenstein",
          "Damyean Dotson",
          "Dillon Brooks",
          "Sterling Brown",
          "Sindarius Thornwell",
          "Vlatko Čančar",
          "Monte Morris",
          "Edmond Sumner",
          "Deandre Ayton",
          "Marvin Bagley III",
          "Luka Dončić",
          "Jaren Jackson Jr.",
          "Trae Young",
          "Mo Bamba",
          "Wendell Carter Jr.",
          "Collin Sexton",
          "Kevin Knox",
          "Mikal Bridges",
          "Shai Gilgeous-Alexander",
          "Miles Bridges",
          "Jerome Robinson",
          "Michael Porter Jr.",
          "Troy Brown Jr.",
          "Donte DiVincenzo",
          "Lonnie Walker IV",
          "Kevin Huerter",
          "Josh Okogie",
          "Grayson Allen",
          "Chandler Hutchison",
          "Aaron Holiday",
          "Anfernee Simons",
          "Moritz Wagner",
          "Landry Shamet",
          "Robert Williams",
          "Omari Spellman",
          "Elie Okobo",
          "Jevon Carter",
          "Jalen Brunson",
          "Devonte' Graham",
          "Mitchell Robinson",
          "Gary Trent Jr.",
          "Isaac Bonga",
          "Rodions Kurucs",
          "Jarred Vanderbilt",
          "Bruce Brown",
          "Hamidou Diallo",
          "De'Anthony Melton",
          "Svi Mykhailiuk",
          "Keita Bates-Diop",
          "Chimezie Metu",
          "Shake Milton",
          "Zion Williamson",
          "Ja Morant",
          "RJ Barrett",
          "De'Andre Hunter",
          "Darius Garland",
          "Jarrett Culver",
          "Coby White",
          "Jaxson Hayes",
          "Rui Hachimura",
          "Cam Reddish",
          "Cameron Johnson",
          "P.J. Washington",
          "Tyler Herro",
          "Romeo Langford",
          "Sekou Doumbouya",
          "Chuma Okeke",
          "Nickeil Alexander-Walker",
          "Goga Bitadze",
          "Matisse Thybulle",
          "Brandon Clarke",
          "Grant Williams",
          "Darius Bazley",
          "Ty Jerome",
          "Nassir Little",
          "Dylan Windler",
          "Jordan Poole",
          "Keldon Johnson",
          "Kevin Porter Jr.",
          "Nic Claxton",
          "KZ Okpala",
          "Bruno Fernando",
          "Cody Martin",
          "Daniel Gafford",
          "Eric Paschall",
          "Admiral Schofield",
          "Jaylen Nowell",
          "Bol Bol",
          "Isaiah Roby",
          "Talen Horton-Tucker",
          "Terance Mann",
          "Jalen McDaniels",
          "Anthony Edwards",
          "James Wiseman",
          "LaMelo Ball",
          "Patrick Williams",
          "Isaac Okoro",
          "Onyeka Okongwu",
          "Killian Hayes",
          "Obi Toppin",
          "Deni Avdija",
          "Jalen Smith",
          "Devin Vassell",
          "Tyrese Haliburton",
          "Kira Lewis Jr.",
          "Aaron Nesmith",
          "Cole Anthony",
          "Isaiah Stewart",
          "Aleksej Pokusevski",
          "Josh Green",
          "Saddiq Bey",
          "Precious Achiuwa",
          "Tyrese Maxey",
          "Zeke Nnaji",
          "R.J. Hampton",
          "Immanuel Quickley",
          "Payton Pritchard",
          "Jaden McDaniels",
          "Malachi Flynn",
          "Desmond Bane",
          "Théo Maledon",
          "Xavier Tillman Sr.",
          "Saben Lee",
          "Tre Jones",
          "Nick Richards",
          "Jordan Nwora",
          "CJ Elleby",
          "Isaiah Joe",
          "Kenyon Martin Jr.",
          "Paul Reed",
          "Jalen Green",
          "Evan Mobley",
          "Scottie Barnes",
          "Jalen Suggs",
          "Josh Giddey",
          "Jonathan Kuminga",
          "Franz Wagner",
          "Davion Mitchell",
          "Ziaire Williams",
          "Chris Duarte",
          "Moses Moody",
          "Corey Kispert",
          "Alperen Şengün",
          "Trey Murphy III",
          "Tre Mann",
          "Jalen Johnson",
          "Isaiah Jackson",
          "Usman Garuba",
          "Josh Christopher",
          "Quentin Grimes",
          "Bones Hyland",
          "Cam Thomas",
          "Santi Aldama",
          "Jeremiah Robinson-Earl",
          "Herbert Jones",
          "Miles McBride",
          "JT Thor",
          "Ayo Dosunmu",
          "Kessler Edwards",
          "Dalano Banton",
          "Sandro Mamukelashvili",
          "Aaron Wiggins",
          "Jericho Sims",
          "Tari Eason"
         ],
         "legendgroup": "",
         "marker": {
          "color": "#636efa",
          "size": 12,
          "symbol": "circle"
         },
         "mode": "markers",
         "name": "",
         "orientation": "v",
         "showlegend": false,
         "type": "scatter",
         "x": [
          1,
          2,
          3,
          4,
          5,
          6,
          7,
          8,
          9,
          10,
          13,
          14,
          15,
          16,
          17,
          18,
          19,
          21,
          22,
          23,
          24,
          25,
          26,
          27,
          28,
          30,
          31,
          32,
          33,
          34,
          36,
          37,
          38,
          39,
          40,
          41,
          45,
          48,
          49,
          50,
          53,
          55,
          56,
          57,
          1,
          2,
          3,
          4,
          5,
          6,
          7,
          8,
          9,
          11,
          12,
          13,
          14,
          16,
          17,
          18,
          19,
          20,
          21,
          22,
          23,
          24,
          25,
          26,
          27,
          28,
          29,
          30,
          32,
          33,
          34,
          35,
          36,
          37,
          42,
          45,
          47,
          49,
          50,
          1,
          2,
          3,
          4,
          5,
          6,
          7,
          8,
          9,
          10,
          11,
          12,
          13,
          14,
          15,
          16,
          17,
          18,
          19,
          20,
          21,
          22,
          23,
          24,
          26,
          27,
          28,
          31,
          35,
          37,
          38,
          47,
          48,
          49,
          56,
          1,
          2,
          3,
          4,
          5,
          6,
          7,
          9,
          10,
          11,
          12,
          13,
          14,
          15,
          16,
          17,
          18,
          19,
          20,
          21,
          22,
          23,
          24,
          25,
          26,
          27,
          28,
          29,
          31,
          33,
          34,
          35,
          36,
          37,
          39,
          40,
          45,
          47,
          52,
          1,
          2,
          3,
          4,
          5,
          6,
          7,
          8,
          9,
          10,
          11,
          12,
          13,
          14,
          15,
          16,
          17,
          18,
          19,
          20,
          21,
          23,
          24,
          25,
          26,
          27,
          28,
          29,
          31,
          33,
          35,
          36,
          37,
          38,
          39,
          40,
          41,
          42,
          43,
          44,
          45,
          46,
          52,
          53,
          55,
          1,
          2,
          3,
          4,
          5,
          6,
          7,
          8,
          9,
          10,
          11,
          12,
          13,
          14,
          15,
          16,
          17,
          18,
          19,
          20,
          22,
          23,
          26,
          27,
          28,
          33,
          35,
          39,
          40,
          55,
          1,
          2,
          3,
          4,
          5,
          6,
          7,
          8,
          9,
          10,
          11,
          12,
          13,
          14,
          15,
          16,
          17,
          18,
          19,
          20,
          21,
          22,
          23,
          24,
          25,
          26,
          28,
          29,
          30,
          31,
          33,
          34,
          38,
          39,
          40,
          41,
          42,
          44,
          50,
          53,
          55,
          60,
          1,
          2,
          3,
          4,
          5,
          6,
          7,
          8,
          9,
          10,
          11,
          12,
          13,
          14,
          15,
          17,
          18,
          19,
          20,
          21,
          23,
          24,
          25,
          26,
          28,
          29,
          30,
          31,
          32,
          33,
          34,
          35,
          36,
          37,
          39,
          40,
          42,
          43,
          45,
          46,
          49,
          58,
          60,
          1,
          2,
          3,
          4,
          5,
          6,
          7,
          8,
          9,
          10,
          11,
          12,
          13,
          14,
          15,
          16,
          17,
          18,
          19,
          20,
          21,
          22,
          23,
          24,
          25,
          26,
          27,
          29,
          31,
          32,
          34,
          36,
          38,
          39,
          44,
          47,
          48,
          50,
          52,
          55,
          1,
          2,
          3,
          4,
          5,
          6,
          7,
          8,
          9,
          10,
          11,
          12,
          13,
          14,
          15,
          16,
          17,
          18,
          19,
          20,
          23,
          24,
          25,
          26,
          27,
          30,
          32,
          33,
          36,
          38,
          39,
          40,
          41,
          44,
          45,
          46,
          51,
          58,
          1,
          2,
          3,
          4,
          5,
          6,
          7,
          8,
          9,
          10,
          11,
          12,
          13,
          14,
          15,
          16,
          17,
          18,
          19,
          20,
          21,
          22,
          23,
          24,
          25,
          27,
          30,
          31,
          32,
          35,
          37,
          38,
          40,
          41,
          43,
          44,
          46,
          1,
          2,
          3,
          4,
          5,
          6,
          7,
          8,
          9,
          10,
          11,
          12,
          14,
          15,
          18,
          19,
          20,
          21,
          23,
          24,
          26,
          27,
          28,
          29,
          30,
          31,
          32,
          33,
          34,
          36,
          38,
          42,
          47,
          48,
          50,
          58,
          60,
          1,
          2,
          3,
          4,
          5,
          6,
          7,
          8,
          9,
          10,
          11,
          12,
          13,
          14,
          15,
          17,
          18,
          19,
          20,
          21,
          22,
          23,
          27,
          28,
          29,
          30,
          31,
          32,
          33,
          34,
          35,
          37,
          38,
          40,
          41,
          42,
          43,
          44,
          45,
          46,
          48,
          49,
          51,
          52,
          1,
          2,
          3,
          4,
          5,
          6,
          7,
          8,
          9,
          10,
          11,
          12,
          13,
          14,
          15,
          17,
          18,
          19,
          20,
          21,
          22,
          23,
          24,
          25,
          26,
          27,
          30,
          31,
          32,
          33,
          34,
          36,
          37,
          39,
          40,
          41,
          42,
          45,
          46,
          47,
          48,
          49,
          54,
          1,
          2,
          3,
          4,
          5,
          6,
          7,
          8,
          9,
          10,
          11,
          12,
          13,
          14,
          15,
          16,
          17,
          18,
          20,
          21,
          22,
          23,
          24,
          25,
          26,
          28,
          29,
          30,
          31,
          32,
          34,
          36,
          38,
          41,
          42,
          43,
          44,
          45,
          46,
          48,
          52,
          1,
          2,
          3,
          4,
          5,
          6,
          7,
          8,
          9,
          10,
          11,
          12,
          13,
          14,
          15,
          16,
          17,
          18,
          19,
          20,
          21,
          22,
          24,
          25,
          26,
          28,
          29,
          30,
          34,
          35,
          38,
          41,
          42,
          45,
          46,
          49,
          52,
          58,
          2,
          3,
          4,
          5,
          6,
          7,
          8,
          9,
          10,
          13,
          14,
          15,
          16,
          17,
          18,
          20,
          22,
          23,
          24,
          25,
          26,
          27,
          30,
          32,
          35,
          36,
          37,
          38,
          44,
          46,
          54,
          55,
          58,
          17
         ],
         "xaxis": "x",
         "y": [
          -70.27777777777783,
          97.72222222222217,
          4963.444444444444,
          9417.222222222223,
          3519.9444444444443,
          -340.33333333333337,
          -783.3888888888889,
          160.6111111111111,
          -1242,
          -574.6111111111111,
          -671.2222222222222,
          -138.16666666666669,
          -386.94444444444446,
          -328.6111111111111,
          274.1111111111111,
          -67.55555555555554,
          -349.16666666666663,
          842.0555555555555,
          3307.0555555555557,
          306.44444444444446,
          -274.6111111111111,
          -216.6111111111111,
          -287.7222222222222,
          -293.33333333333337,
          3,
          1252.2777777777778,
          -81.16666666666666,
          -55.611111111111114,
          355.5,
          389,
          642.6111111111111,
          403.3888888888889,
          88.27777777777777,
          -148.55555555555554,
          3296.5555555555557,
          -227.94444444444446,
          3194.777777777778,
          -136.88888888888889,
          675.4444444444445,
          594.8888888888889,
          114.55555555555556,
          -175.11111111111111,
          851,
          859.1111111111111,
          -963.2777777777778,
          800.7222222222222,
          -1633.5555555555557,
          -1736.7777777777778,
          -1413.0555555555557,
          588.6666666666666,
          779.6111111111111,
          1576.611111111111,
          -1286,
          1054.9444444444443,
          -630.7777777777778,
          409.7777777777778,
          358.8333333333333,
          -403.6111111111111,
          -602.8888888888889,
          -643.5555555555555,
          -656.1666666666666,
          -351.5,
          6600.055555555556,
          -70.94444444444446,
          -315.55555555555554,
          5728.388888888889,
          14.388888888888914,
          899.2777777777778,
          568.6666666666666,
          -335,
          -136.5,
          -507.7222222222222,
          -97.61111111111111,
          -153.5,
          -493,
          720.6111111111111,
          56.611111111111086,
          -170.61111111111111,
          505.72222222222223,
          -564.2222222222222,
          2130.6111111111113,
          -44.55555555555556,
          33.888888888888886,
          -1565.2777777777778,
          2991.722222222222,
          1477.4444444444443,
          3773.222222222222,
          117.94444444444434,
          -736.3333333333334,
          -82.38888888888891,
          -504.3888888888889,
          596,
          206.3888888888889,
          -498.05555555555554,
          1345.2222222222222,
          -604.2222222222222,
          -116.16666666666669,
          1651.0555555555557,
          151.3888888888889,
          -775.8888888888889,
          765.4444444444445,
          -548.1666666666666,
          -30.5,
          -740.9444444444445,
          749.0555555555555,
          764.4444444444445,
          -467.6111111111111,
          1371.2777777777778,
          771.6666666666666,
          69,
          109.83333333333334,
          -31.388888888888914,
          686.3888888888889,
          -303.72222222222223,
          174.61111111111111,
          2744.1111111111113,
          84.44444444444444,
          2585,
          2075.722222222222,
          -487.2777777777778,
          -248.55555555555566,
          7078.222222222223,
          459.94444444444434,
          485.66666666666663,
          971.6111111111111,
          2450,
          280.3888888888889,
          866.9444444444445,
          -97.77777777777783,
          -318.2222222222222,
          -282.1666666666667,
          133.05555555555554,
          -74.61111111111109,
          62.111111111111086,
          -294.55555555555554,
          -300.16666666666663,
          -340.5,
          -397.94444444444446,
          708.0555555555555,
          -81.55555555555554,
          -272.6111111111111,
          2892.3888888888887,
          2253.277777777778,
          -205.33333333333337,
          -171,
          -383.5,
          -46.16666666666666,
          -197.5,
          1887,
          477.6111111111111,
          14.611111111111086,
          373.3888888888889,
          -37.55555555555554,
          -305.44444444444446,
          3810.777777777778,
          -94.38888888888889,
          -62.05555555555556,
          1438.7222222222222,
          -1248.2777777777778,
          5159.444444444444,
          768.2222222222222,
          3583.9444444444443,
          -294.33333333333337,
          4407.611111111111,
          -381.3888888888889,
          2795,
          2086.3888888888887,
          -443.05555555555554,
          276.2222222222222,
          -605.2222222222222,
          -335.1666666666667,
          -469.94444444444446,
          1062.388888888889,
          5045.111111111111,
          2652.4444444444443,
          3835.8333333333335,
          276.5,
          2561.0555555555557,
          221.44444444444446,
          -868.6111111111111,
          -69.61111111111109,
          360.2777777777778,
          111.66666666666663,
          498,
          425.5,
          -146.16666666666666,
          253.5,
          -459.3888888888889,
          -85.38888888888891,
          134.38888888888889,
          -294.72222222222223,
          230.44444444444446,
          -440.44444444444446,
          190.05555555555554,
          1763.7222222222222,
          557.3333333333334,
          353.5,
          -241.22222222222217,
          925.2222222222222,
          478.94444444444446,
          162.55555555555554,
          1739.888888888889,
          4118.722222222223,
          1186.7222222222222,
          -1004.5555555555557,
          -1438.7777777777778,
          402.94444444444434,
          -668.3333333333334,
          43.611111111111086,
          175.6111111111111,
          1471,
          1864.388888888889,
          -624.0555555555555,
          -612.7777777777778,
          -247.22222222222217,
          266.8333333333333,
          -507.94444444444446,
          -311.6111111111111,
          -576.8888888888889,
          2881.4444444444443,
          355.83333333333337,
          -192.5,
          -550.9444444444445,
          125.44444444444446,
          -290.7222222222222,
          268.66666666666663,
          1581,
          74.5,
          337.6111111111111,
          124.44444444444446,
          1061.5555555555557,
          -103.11111111111111,
          2217.722222222222,
          -982.2777777777778,
          -1217.5555555555557,
          -1358.7777777777778,
          -612.0555555555557,
          -832.3333333333334,
          -834.3888888888889,
          1073.611111111111,
          2627,
          -733.6111111111111,
          859.9444444444445,
          645.2222222222222,
          397.7777777777778,
          729.8333333333333,
          1194.0555555555557,
          1766.388888888889,
          22.111111111111086,
          -571.5555555555555,
          1164.8333333333335,
          -214.5,
          -886.9444444444445,
          -174.94444444444446,
          -33.55555555555554,
          2231.3888888888887,
          -161.6111111111111,
          -426.7222222222222,
          627,
          1939.5,
          2603.277777777778,
          851.8333333333334,
          19.5,
          896,
          857.2777777777778,
          -269.55555555555554,
          -258.44444444444446,
          -203.94444444444446,
          143.72222222222223,
          94.5,
          266.8888888888889,
          81.55555555555556,
          844.8888888888889,
          2460.705882352941,
          -54.27777777777783,
          -760.2777777777778,
          1116.4444444444443,
          -920.7777777777778,
          -1386.0555555555557,
          4222.666666666667,
          171.6111111111111,
          232.6111111111111,
          -275,
          448.3888888888889,
          -411.05555555555554,
          171.22222222222217,
          -7.222222222222172,
          26.833333333333314,
          -109.94444444444446,
          -455.8888888888889,
          -425.55555555555554,
          -623.1666666666666,
          1227.5,
          -506.94444444444446,
          -302.55555555555554,
          -982.6111111111111,
          -6.611111111111086,
          -375.7222222222222,
          -300,
          -329.5,
          -509.7222222222222,
          -138.16666666666666,
          1356.388888888889,
          -239.5,
          684,
          3744.6111111111113,
          -196.3888888888889,
          2.3888888888888857,
          2329.4444444444443,
          1257.5555555555557,
          -194.27777777777777,
          379.3333333333333,
          -503.2222222222222,
          16.22222222222223,
          520.4444444444445,
          19.444444444444443,
          -51.29411764705881,
          -1539.2777777777778,
          694.7222222222222,
          -1080.5555555555557,
          -1382.7777777777778,
          -1075.0555555555557,
          -427.33333333333337,
          -769.3888888888889,
          629.6111111111111,
          211,
          1408.388888888889,
          900.9444444444445,
          346.2222222222222,
          713.7777777777778,
          -318.1666666666667,
          2697.0555555555557,
          -463.6111111111111,
          2382.1111111111113,
          73.44444444444446,
          -662.1666666666666,
          185.5,
          -146.94444444444446,
          1211.0555555555557,
          221.44444444444446,
          202.3888888888889,
          188.3888888888889,
          -288.7222222222222,
          279.66666666666663,
          -257.5,
          188.83333333333334,
          -141.61111111111111,
          -71,
          102.61111111111109,
          -134.72222222222223,
          -230.55555555555554,
          308.5,
          665.6111111111111,
          -36.888888888888886,
          255.88888888888889,
          94.94444444444444,
          -30.111111111111114,
          -138.27777777777783,
          -665.2777777777778,
          -501.55555555555566,
          -567.7777777777778,
          -1061.0555555555557,
          1771.6666666666665,
          825.6111111111111,
          -188.3888888888889,
          -1047,
          1803.388888888889,
          -220.05555555555554,
          40.22222222222217,
          1400.7777777777778,
          -32.166666666666686,
          -615.9444444444445,
          516.3888888888889,
          -794.8888888888889,
          -304.55555555555554,
          274.83333333333337,
          -411.5,
          295.44444444444446,
          -172.6111111111111,
          79.38888888888891,
          -494.7222222222222,
          608.6666666666666,
          929.2777777777778,
          -134.61111111111111,
          527.5,
          -196.3888888888889,
          2104.277777777778,
          602.4444444444445,
          -321.44444444444446,
          3566.0555555555557,
          12.5,
          -1.2222222222221717,
          1445.2222222222222,
          6.7222222222222285,
          136.44444444444446,
          9.722222222222172,
          1531.7222222222222,
          -1630.5555555555557,
          -1372.7777777777778,
          -1161.0555555555557,
          -330.33333333333337,
          -189.3888888888889,
          -24.388888888888914,
          -660,
          -175.6111111111111,
          -205.05555555555554,
          -189.77777777777783,
          1734.7777777777778,
          649.8333333333333,
          -143.94444444444446,
          1292.388888888889,
          -747.8888888888889,
          -503.55555555555554,
          55.83333333333337,
          956.5,
          -799.9444444444445,
          -2.944444444444457,
          138.44444444444446,
          1086.388888888889,
          -329.6111111111111,
          251.66666666666663,
          132.27777777777783,
          568.8333333333334,
          445.3888888888889,
          -124.38888888888891,
          197.38888888888889,
          -272.72222222222223,
          786.5555555555555,
          205.05555555555554,
          -0.6666666666666714,
          279.5,
          383.22222222222223,
          766.7222222222222,
          398.7222222222222,
          -801.5555555555557,
          -1846.7777777777778,
          -423.05555555555566,
          476.66666666666663,
          389.6111111111111,
          -405.3888888888889,
          -513,
          -903.6111111111111,
          1258.9444444444443,
          -1.7777777777778283,
          -3.1666666666666856,
          -465.94444444444446,
          -614.5555555555555,
          -207.16666666666663,
          1060.5,
          -450.94444444444446,
          -376.55555555555554,
          -728.6111111111111,
          -187.72222222222217,
          1041.6666666666665,
          -202,
          1524.5,
          -394.7222222222222,
          -198.16666666666666,
          257.3888888888889,
          -174.5,
          12,
          1578.611111111111,
          -73.72222222222223,
          -57.27777777777777,
          -120.38888888888889,
          -169.88888888888889,
          207.88888888888889,
          79.44444444444444,
          -50.29411764705881,
          -652.2777777777778,
          287.7222222222222,
          -407.55555555555566,
          -1549.7777777777778,
          875.9444444444443,
          -776.3333333333334,
          -855.3888888888889,
          -14.388888888888914,
          -133,
          -684.6111111111111,
          117.94444444444446,
          -38.77777777777783,
          1056.7777777777778,
          959.8333333333333,
          -396.94444444444446,
          -714.8888888888889,
          -620.5555555555555,
          -209.16666666666663,
          -309.5,
          -839.9444444444445,
          -64.94444444444446,
          119.44444444444446,
          383.66666666666663,
          -264,
          863.5,
          331.2777777777778,
          -23.166666666666657,
          -137.61111111111111,
          -44.5,
          -253,
          -402.3888888888889,
          -88.61111111111111,
          -142.72222222222223,
          -329.44444444444446,
          -257.94444444444446,
          -19.27777777777777,
          230.33333333333331,
          195.5,
          140.77777777777783,
          -82.77777777777777,
          -140.88888888888889,
          -8.555555555555557,
          1276.7222222222222,
          93.94444444444444,
          -1121.2777777777778,
          -1088.2777777777778,
          775.4444444444443,
          -1783.7777777777778,
          1708.9444444444443,
          -681.3333333333334,
          -796.3888888888889,
          154.6111111111111,
          -1106,
          -152.6111111111111,
          603.9444444444445,
          -76.77777777777783,
          -655.2222222222222,
          -271.1666666666667,
          -233.94444444444446,
          -64.88888888888891,
          -269.55555555555554,
          342.83333333333337,
          -100.5,
          -535.9444444444445,
          -565.9444444444445,
          236.44444444444446,
          -348.6111111111111,
          -142.6111111111111,
          -37.72222222222217,
          -315.33333333333337,
          -478.7222222222222,
          -3.166666666666657,
          287.3888888888889,
          1202.5,
          874,
          -84.38888888888891,
          178.38888888888889,
          -176.55555555555554,
          -446.44444444444446,
          -33.94444444444446,
          571.7222222222222,
          -312.2222222222222,
          506.22222222222223,
          103.61111111111111,
          -48.888888888888886,
          28.444444444444443,
          642.0555555555555,
          -1207.2777777777778,
          554.7222222222222,
          -1086.5555555555557,
          -1765.7777777777778,
          102.94444444444434,
          -755.3333333333334,
          -449.3888888888889,
          -535.3888888888889,
          -1036,
          -837.6111111111111,
          -475.05555555555554,
          -126.77777777777783,
          61.77777777777783,
          -372.1666666666667,
          -615.9444444444445,
          -279.6111111111111,
          -367.8888888888889,
          -509.55555555555554,
          -213.5,
          -649.9444444444445,
          -303.94444444444446,
          -165.55555555555554,
          -613.6111111111111,
          -294.6111111111111,
          -485.7222222222222,
          552,
          13.5,
          414.2777777777778,
          -14.166666666666657,
          -182.61111111111111,
          -428,
          105.61111111111109,
          -141.72222222222223,
          -178.94444444444446,
          -198.27777777777777,
          223.33333333333331,
          -32.5,
          -378.2222222222222,
          241.22222222222223,
          298.1111111111111,
          165.94444444444446,
          -780.2777777777778,
          -1219.2777777777778,
          -667.5555555555557,
          -1869.7777777777778,
          -1240.0555555555557,
          -776.3333333333334,
          -447.3888888888889,
          -531.3888888888889,
          -870,
          -970.6111111111111,
          -479.05555555555554,
          789.2222222222222,
          -590.2222222222222,
          -326.1666666666667,
          114.05555555555554,
          -324.6111111111111,
          -530.8888888888889,
          -453.55555555555554,
          -303.16666666666663,
          -322.5,
          -330.94444444444446,
          -599.9444444444445,
          -722.6111111111111,
          237.3888888888889,
          -230.72222222222217,
          -56,
          -186.5,
          7.277777777777828,
          -35,
          -255.3888888888889,
          4.2777777777777715,
          327.05555555555554,
          -216.27777777777777,
          -440.2222222222222,
          -253.77777777777777,
          20.444444444444443,
          183.94444444444446,
          24.444444444444443,
          -818.2777777777778,
          -1457.5555555555557,
          -1456.7777777777778,
          -1212.0555555555557,
          -114.33333333333337,
          -1143.388888888889,
          -189.3888888888889,
          -813,
          -964.6111111111111,
          -608.2222222222222,
          -395.1666666666667,
          -509.94444444444446,
          -59.611111111111086,
          -672.8888888888889,
          -452.55555555555554,
          -397.5,
          -583.9444444444445,
          -359.55555555555554,
          -798.6111111111111,
          -249.6111111111111,
          -190.72222222222217,
          -458.33333333333337,
          -454.7222222222222,
          -137.61111111111111,
          -159.3888888888889,
          -152.3888888888889,
          -159.61111111111111,
          118.27777777777777,
          -65.5,
          -215.77777777777777,
          32.05555555555556,
          -62.111111111111114,
          15.444444444444443,
          -734.8888888888889
         ],
         "yaxis": "y"
        }
       ],
       "layout": {
        "legend": {
         "tracegroupgap": 0
        },
        "margin": {
         "t": 60
        },
        "template": {
         "data": {
          "bar": [
           {
            "error_x": {
             "color": "#2a3f5f"
            },
            "error_y": {
             "color": "#2a3f5f"
            },
            "marker": {
             "line": {
              "color": "#E5ECF6",
              "width": 0.5
             },
             "pattern": {
              "fillmode": "overlay",
              "size": 10,
              "solidity": 0.2
             }
            },
            "type": "bar"
           }
          ],
          "barpolar": [
           {
            "marker": {
             "line": {
              "color": "#E5ECF6",
              "width": 0.5
             },
             "pattern": {
              "fillmode": "overlay",
              "size": 10,
              "solidity": 0.2
             }
            },
            "type": "barpolar"
           }
          ],
          "carpet": [
           {
            "aaxis": {
             "endlinecolor": "#2a3f5f",
             "gridcolor": "white",
             "linecolor": "white",
             "minorgridcolor": "white",
             "startlinecolor": "#2a3f5f"
            },
            "baxis": {
             "endlinecolor": "#2a3f5f",
             "gridcolor": "white",
             "linecolor": "white",
             "minorgridcolor": "white",
             "startlinecolor": "#2a3f5f"
            },
            "type": "carpet"
           }
          ],
          "choropleth": [
           {
            "colorbar": {
             "outlinewidth": 0,
             "ticks": ""
            },
            "type": "choropleth"
           }
          ],
          "contour": [
           {
            "colorbar": {
             "outlinewidth": 0,
             "ticks": ""
            },
            "colorscale": [
             [
              0,
              "#0d0887"
             ],
             [
              0.1111111111111111,
              "#46039f"
             ],
             [
              0.2222222222222222,
              "#7201a8"
             ],
             [
              0.3333333333333333,
              "#9c179e"
             ],
             [
              0.4444444444444444,
              "#bd3786"
             ],
             [
              0.5555555555555556,
              "#d8576b"
             ],
             [
              0.6666666666666666,
              "#ed7953"
             ],
             [
              0.7777777777777778,
              "#fb9f3a"
             ],
             [
              0.8888888888888888,
              "#fdca26"
             ],
             [
              1,
              "#f0f921"
             ]
            ],
            "type": "contour"
           }
          ],
          "contourcarpet": [
           {
            "colorbar": {
             "outlinewidth": 0,
             "ticks": ""
            },
            "type": "contourcarpet"
           }
          ],
          "heatmap": [
           {
            "colorbar": {
             "outlinewidth": 0,
             "ticks": ""
            },
            "colorscale": [
             [
              0,
              "#0d0887"
             ],
             [
              0.1111111111111111,
              "#46039f"
             ],
             [
              0.2222222222222222,
              "#7201a8"
             ],
             [
              0.3333333333333333,
              "#9c179e"
             ],
             [
              0.4444444444444444,
              "#bd3786"
             ],
             [
              0.5555555555555556,
              "#d8576b"
             ],
             [
              0.6666666666666666,
              "#ed7953"
             ],
             [
              0.7777777777777778,
              "#fb9f3a"
             ],
             [
              0.8888888888888888,
              "#fdca26"
             ],
             [
              1,
              "#f0f921"
             ]
            ],
            "type": "heatmap"
           }
          ],
          "heatmapgl": [
           {
            "colorbar": {
             "outlinewidth": 0,
             "ticks": ""
            },
            "colorscale": [
             [
              0,
              "#0d0887"
             ],
             [
              0.1111111111111111,
              "#46039f"
             ],
             [
              0.2222222222222222,
              "#7201a8"
             ],
             [
              0.3333333333333333,
              "#9c179e"
             ],
             [
              0.4444444444444444,
              "#bd3786"
             ],
             [
              0.5555555555555556,
              "#d8576b"
             ],
             [
              0.6666666666666666,
              "#ed7953"
             ],
             [
              0.7777777777777778,
              "#fb9f3a"
             ],
             [
              0.8888888888888888,
              "#fdca26"
             ],
             [
              1,
              "#f0f921"
             ]
            ],
            "type": "heatmapgl"
           }
          ],
          "histogram": [
           {
            "marker": {
             "pattern": {
              "fillmode": "overlay",
              "size": 10,
              "solidity": 0.2
             }
            },
            "type": "histogram"
           }
          ],
          "histogram2d": [
           {
            "colorbar": {
             "outlinewidth": 0,
             "ticks": ""
            },
            "colorscale": [
             [
              0,
              "#0d0887"
             ],
             [
              0.1111111111111111,
              "#46039f"
             ],
             [
              0.2222222222222222,
              "#7201a8"
             ],
             [
              0.3333333333333333,
              "#9c179e"
             ],
             [
              0.4444444444444444,
              "#bd3786"
             ],
             [
              0.5555555555555556,
              "#d8576b"
             ],
             [
              0.6666666666666666,
              "#ed7953"
             ],
             [
              0.7777777777777778,
              "#fb9f3a"
             ],
             [
              0.8888888888888888,
              "#fdca26"
             ],
             [
              1,
              "#f0f921"
             ]
            ],
            "type": "histogram2d"
           }
          ],
          "histogram2dcontour": [
           {
            "colorbar": {
             "outlinewidth": 0,
             "ticks": ""
            },
            "colorscale": [
             [
              0,
              "#0d0887"
             ],
             [
              0.1111111111111111,
              "#46039f"
             ],
             [
              0.2222222222222222,
              "#7201a8"
             ],
             [
              0.3333333333333333,
              "#9c179e"
             ],
             [
              0.4444444444444444,
              "#bd3786"
             ],
             [
              0.5555555555555556,
              "#d8576b"
             ],
             [
              0.6666666666666666,
              "#ed7953"
             ],
             [
              0.7777777777777778,
              "#fb9f3a"
             ],
             [
              0.8888888888888888,
              "#fdca26"
             ],
             [
              1,
              "#f0f921"
             ]
            ],
            "type": "histogram2dcontour"
           }
          ],
          "mesh3d": [
           {
            "colorbar": {
             "outlinewidth": 0,
             "ticks": ""
            },
            "type": "mesh3d"
           }
          ],
          "parcoords": [
           {
            "line": {
             "colorbar": {
              "outlinewidth": 0,
              "ticks": ""
             }
            },
            "type": "parcoords"
           }
          ],
          "pie": [
           {
            "automargin": true,
            "type": "pie"
           }
          ],
          "scatter": [
           {
            "fillpattern": {
             "fillmode": "overlay",
             "size": 10,
             "solidity": 0.2
            },
            "type": "scatter"
           }
          ],
          "scatter3d": [
           {
            "line": {
             "colorbar": {
              "outlinewidth": 0,
              "ticks": ""
             }
            },
            "marker": {
             "colorbar": {
              "outlinewidth": 0,
              "ticks": ""
             }
            },
            "type": "scatter3d"
           }
          ],
          "scattercarpet": [
           {
            "marker": {
             "colorbar": {
              "outlinewidth": 0,
              "ticks": ""
             }
            },
            "type": "scattercarpet"
           }
          ],
          "scattergeo": [
           {
            "marker": {
             "colorbar": {
              "outlinewidth": 0,
              "ticks": ""
             }
            },
            "type": "scattergeo"
           }
          ],
          "scattergl": [
           {
            "marker": {
             "colorbar": {
              "outlinewidth": 0,
              "ticks": ""
             }
            },
            "type": "scattergl"
           }
          ],
          "scattermapbox": [
           {
            "marker": {
             "colorbar": {
              "outlinewidth": 0,
              "ticks": ""
             }
            },
            "type": "scattermapbox"
           }
          ],
          "scatterpolar": [
           {
            "marker": {
             "colorbar": {
              "outlinewidth": 0,
              "ticks": ""
             }
            },
            "type": "scatterpolar"
           }
          ],
          "scatterpolargl": [
           {
            "marker": {
             "colorbar": {
              "outlinewidth": 0,
              "ticks": ""
             }
            },
            "type": "scatterpolargl"
           }
          ],
          "scatterternary": [
           {
            "marker": {
             "colorbar": {
              "outlinewidth": 0,
              "ticks": ""
             }
            },
            "type": "scatterternary"
           }
          ],
          "surface": [
           {
            "colorbar": {
             "outlinewidth": 0,
             "ticks": ""
            },
            "colorscale": [
             [
              0,
              "#0d0887"
             ],
             [
              0.1111111111111111,
              "#46039f"
             ],
             [
              0.2222222222222222,
              "#7201a8"
             ],
             [
              0.3333333333333333,
              "#9c179e"
             ],
             [
              0.4444444444444444,
              "#bd3786"
             ],
             [
              0.5555555555555556,
              "#d8576b"
             ],
             [
              0.6666666666666666,
              "#ed7953"
             ],
             [
              0.7777777777777778,
              "#fb9f3a"
             ],
             [
              0.8888888888888888,
              "#fdca26"
             ],
             [
              1,
              "#f0f921"
             ]
            ],
            "type": "surface"
           }
          ],
          "table": [
           {
            "cells": {
             "fill": {
              "color": "#EBF0F8"
             },
             "line": {
              "color": "white"
             }
            },
            "header": {
             "fill": {
              "color": "#C8D4E3"
             },
             "line": {
              "color": "white"
             }
            },
            "type": "table"
           }
          ]
         },
         "layout": {
          "annotationdefaults": {
           "arrowcolor": "#2a3f5f",
           "arrowhead": 0,
           "arrowwidth": 1
          },
          "autotypenumbers": "strict",
          "coloraxis": {
           "colorbar": {
            "outlinewidth": 0,
            "ticks": ""
           }
          },
          "colorscale": {
           "diverging": [
            [
             0,
             "#8e0152"
            ],
            [
             0.1,
             "#c51b7d"
            ],
            [
             0.2,
             "#de77ae"
            ],
            [
             0.3,
             "#f1b6da"
            ],
            [
             0.4,
             "#fde0ef"
            ],
            [
             0.5,
             "#f7f7f7"
            ],
            [
             0.6,
             "#e6f5d0"
            ],
            [
             0.7,
             "#b8e186"
            ],
            [
             0.8,
             "#7fbc41"
            ],
            [
             0.9,
             "#4d9221"
            ],
            [
             1,
             "#276419"
            ]
           ],
           "sequential": [
            [
             0,
             "#0d0887"
            ],
            [
             0.1111111111111111,
             "#46039f"
            ],
            [
             0.2222222222222222,
             "#7201a8"
            ],
            [
             0.3333333333333333,
             "#9c179e"
            ],
            [
             0.4444444444444444,
             "#bd3786"
            ],
            [
             0.5555555555555556,
             "#d8576b"
            ],
            [
             0.6666666666666666,
             "#ed7953"
            ],
            [
             0.7777777777777778,
             "#fb9f3a"
            ],
            [
             0.8888888888888888,
             "#fdca26"
            ],
            [
             1,
             "#f0f921"
            ]
           ],
           "sequentialminus": [
            [
             0,
             "#0d0887"
            ],
            [
             0.1111111111111111,
             "#46039f"
            ],
            [
             0.2222222222222222,
             "#7201a8"
            ],
            [
             0.3333333333333333,
             "#9c179e"
            ],
            [
             0.4444444444444444,
             "#bd3786"
            ],
            [
             0.5555555555555556,
             "#d8576b"
            ],
            [
             0.6666666666666666,
             "#ed7953"
            ],
            [
             0.7777777777777778,
             "#fb9f3a"
            ],
            [
             0.8888888888888888,
             "#fdca26"
            ],
            [
             1,
             "#f0f921"
            ]
           ]
          },
          "colorway": [
           "#636efa",
           "#EF553B",
           "#00cc96",
           "#ab63fa",
           "#FFA15A",
           "#19d3f3",
           "#FF6692",
           "#B6E880",
           "#FF97FF",
           "#FECB52"
          ],
          "font": {
           "color": "#2a3f5f"
          },
          "geo": {
           "bgcolor": "white",
           "lakecolor": "white",
           "landcolor": "#E5ECF6",
           "showlakes": true,
           "showland": true,
           "subunitcolor": "white"
          },
          "hoverlabel": {
           "align": "left"
          },
          "hovermode": "closest",
          "mapbox": {
           "style": "light"
          },
          "paper_bgcolor": "white",
          "plot_bgcolor": "#E5ECF6",
          "polar": {
           "angularaxis": {
            "gridcolor": "white",
            "linecolor": "white",
            "ticks": ""
           },
           "bgcolor": "#E5ECF6",
           "radialaxis": {
            "gridcolor": "white",
            "linecolor": "white",
            "ticks": ""
           }
          },
          "scene": {
           "xaxis": {
            "backgroundcolor": "#E5ECF6",
            "gridcolor": "white",
            "gridwidth": 2,
            "linecolor": "white",
            "showbackground": true,
            "ticks": "",
            "zerolinecolor": "white"
           },
           "yaxis": {
            "backgroundcolor": "#E5ECF6",
            "gridcolor": "white",
            "gridwidth": 2,
            "linecolor": "white",
            "showbackground": true,
            "ticks": "",
            "zerolinecolor": "white"
           },
           "zaxis": {
            "backgroundcolor": "#E5ECF6",
            "gridcolor": "white",
            "gridwidth": 2,
            "linecolor": "white",
            "showbackground": true,
            "ticks": "",
            "zerolinecolor": "white"
           }
          },
          "shapedefaults": {
           "line": {
            "color": "#2a3f5f"
           }
          },
          "ternary": {
           "aaxis": {
            "gridcolor": "white",
            "linecolor": "white",
            "ticks": ""
           },
           "baxis": {
            "gridcolor": "white",
            "linecolor": "white",
            "ticks": ""
           },
           "bgcolor": "#E5ECF6",
           "caxis": {
            "gridcolor": "white",
            "linecolor": "white",
            "ticks": ""
           }
          },
          "title": {
           "x": 0.05
          },
          "xaxis": {
           "automargin": true,
           "gridcolor": "white",
           "linecolor": "white",
           "ticks": "",
           "title": {
            "standoff": 15
           },
           "zerolinecolor": "white",
           "zerolinewidth": 2
          },
          "yaxis": {
           "automargin": true,
           "gridcolor": "white",
           "linecolor": "white",
           "ticks": "",
           "title": {
            "standoff": 15
           },
           "zerolinecolor": "white",
           "zerolinewidth": 2
          }
         }
        },
        "title": {
         "text": "AST Difference vs Draft Pick for Players with at least 82 Games Played"
        },
        "xaxis": {
         "anchor": "y",
         "domain": [
          0,
          1
         ],
         "title": {
          "text": "Draft Pick"
         }
        },
        "yaxis": {
         "anchor": "x",
         "domain": [
          0,
          1
         ],
         "title": {
          "text": "AST Difference"
         }
        }
       }
      }
     },
     "metadata": {},
     "output_type": "display_data"
    }
   ],
   "source": [
    "# Filter players based on the minimum games played\n",
    "filtered_df = df_career_na_filled[df_career_na_filled['G'] >= min_games]\n",
    "\n",
    "# create a combobox widget with all 'Player' values\n",
    "player_widget_diff_scatter = widgets.Combobox(\n",
    "    placeholder='Choose a Player',\n",
    "    options=filtered_df['Player'].unique().tolist(),\n",
    "    description='Player:',\n",
    "    ensure_option=True,\n",
    "    disabled=False\n",
    ")\n",
    "\n",
    "# create a dropdown widget with all relevant stats\n",
    "stat_dropdown_diff_scatter = widgets.Dropdown(\n",
    "    options=relevant_stats,\n",
    "    description='Select Stat:',\n",
    "    disabled=False,\n",
    ")\n",
    "\n",
    "# Define the output area to display the scatter plot\n",
    "output_diff_scatter = widgets.Output()\n",
    "\n",
    "# Function to update the output area based on the selected stat\n",
    "def on_value_change_diff_scatter(change):\n",
    "    clear_output()\n",
    "    output_diff_scatter.clear_output()\n",
    "    selected_stat = stat_dropdown_diff_scatter.value\n",
    "    selected_player = player_widget_diff_scatter.value\n",
    "\n",
    "    display(player_widget_diff_scatter)\n",
    "    display(stat_dropdown_diff_scatter)\n",
    "    with output_diff_scatter:\n",
    "        fig = px.scatter(filtered_df, x='Pk', y=f'{selected_stat}_diff', hover_name='Player',\n",
    "                         hover_data={'Pk': True, f'{selected_stat}_diff': True, 'Player': False, selected_stat: True, f'{selected_stat}_rank': True})\n",
    "        if selected_player in filtered_df['Player'].values:\n",
    "            highlighted_player = filtered_df[filtered_df['Player'] == selected_player]\n",
    "            fig.add_trace(px.scatter(highlighted_player, x='Pk', y=f'{selected_stat}_diff', hover_name='Player',\n",
    "                                     hover_data={'Pk': True, f'{selected_stat}_diff': True, 'Player': False, selected_stat: True, f'{selected_stat}_rank': True},\n",
    "                                     color_discrete_sequence=['red']).data[0])\n",
    "        fig.update_traces(marker=dict(size=12), showlegend=False)\n",
    "        fig.update_layout(title=f'{selected_stat} Difference vs Draft Pick for Players with at least {min_games} Games Played',\n",
    "                          xaxis_title='Draft Pick', yaxis_title=f'{selected_stat} Difference')\n",
    "        fig.show()\n",
    "    \n",
    "# Observe changes in the value of the dropdown and call the function\n",
    "stat_dropdown_diff_scatter.observe(on_value_change_diff_scatter, names='value')\n",
    "player_widget_diff_scatter.observe(on_value_change_diff_scatter, names='value')\n",
    "\n",
    "# Display the dropdown and the output area\n",
    "display(player_widget_diff_scatter)\n",
    "display(stat_dropdown_diff_scatter)\n",
    "display(output_diff_scatter)"
   ]
  },
  {
   "cell_type": "code",
   "execution_count": 149,
   "metadata": {},
   "outputs": [
    {
     "data": {
      "application/vnd.jupyter.widget-view+json": {
       "model_id": "103d24ffca844d28a4214a9a1a223304",
       "version_major": 2,
       "version_minor": 0
      },
      "text/plain": [
       "Combobox(value='', description='Player:', ensure_option=True, options=('Andrew Bogut', 'Marvin Williams', 'Der…"
      ]
     },
     "metadata": {},
     "output_type": "display_data"
    },
    {
     "data": {
      "application/vnd.jupyter.widget-view+json": {
       "model_id": "2eea61116c6b4f2e9bc4d7507b8fa0a3",
       "version_major": 2,
       "version_minor": 0
      },
      "text/plain": [
       "Dropdown(description='Select Stat:', index=4, options=('PTS', 'TRB', 'AST', 'WS', 'WS/48', 'BPM', 'VORP', 'PIE…"
      ]
     },
     "metadata": {},
     "output_type": "display_data"
    },
    {
     "data": {
      "application/vnd.plotly.v1+json": {
       "config": {
        "plotlyServerURL": "https://plot.ly"
       },
       "data": [
        {
         "customdata": [
          [
           "Andrew Bogut",
           0.010999999999999996,
           385
          ],
          [
           "Marvin Williams",
           0.025999999999999995,
           305
          ],
          [
           "Deron Williams",
           0.012500000000000011,
           376
          ],
          [
           "Chris Paul",
           0.14427777777777778,
           14
          ],
          [
           "Raymond Felton",
           -0.010888888888888892,
           494
          ],
          [
           "Martell Webster",
           -0.00555555555555555,
           474
          ],
          [
           "Charlie Villanueva",
           -0.00005555555555555869,
           446
          ],
          [
           "Channing Frye",
           0.017944444444444443,
           350
          ],
          [
           "Ike Diogu",
           0.030055555555555558,
           287
          ],
          [
           "Andrew Bynum",
           0.0918888888888889,
           71
          ],
          [
           "Sean May",
           -0.008611111111111111,
           483
          ],
          [
           "Rashad McCants",
           -0.04572222222222222,
           604
          ],
          [
           "Antoine Wright",
           -0.051666666666666666,
           616
          ],
          [
           "Joey Graham",
           -0.012277777777777776,
           498
          ],
          [
           "Danny Granger",
           0.06283333333333334,
           145
          ],
          [
           "Gerald Green",
           -0.006666666666666668,
           480
          ],
          [
           "Hakim Warrick",
           0.03144444444444444,
           277
          ],
          [
           "Nate Robinson",
           0.02338888888888889,
           320
          ],
          [
           "Jarrett Jack",
           -0.012944444444444439,
           503
          ],
          [
           "Francisco García",
           -0.0010000000000000148,
           454
          ],
          [
           "Luther Head",
           0.026277777777777775,
           302
          ],
          [
           "Johan Petro",
           -0.021333333333333336,
           540
          ],
          [
           "Jason Maxiell",
           0.02183333333333333,
           327
          ],
          [
           "Linas Kleiza",
           -0.015611111111111117,
           514
          ],
          [
           "Ian Mahinmi",
           0.07044444444444445,
           118
          ],
          [
           "David Lee",
           0.07655555555555554,
           99
          ],
          [
           "Salim Stoudamire",
           -0.010888888888888892,
           494
          ],
          [
           "Daniel Ewing",
           -0.03138888888888889,
           570
          ],
          [
           "Brandon Bass",
           0.04594444444444444,
           211
          ],
          [
           "C.J. Miles",
           0.05083333333333334,
           189
          ],
          [
           "Ersan İlyasova",
           0.07088888888888889,
           117
          ],
          [
           "Ronny Turiaf",
           0.06883333333333334,
           130
          ],
          [
           "Travis Diener",
           0.050444444444444445,
           191
          ],
          [
           "Von Wafer",
           0.041833333333333333,
           226
          ],
          [
           "Monta Ellis",
           0.06738888888888889,
           133
          ],
          [
           "Roko Ukić",
           -0.05422222222222223,
           624
          ],
          [
           "Lou Williams",
           0.07672222222222222,
           98
          ],
          [
           "Mickaël Gelabale",
           0.043444444444444445,
           221
          ],
          [
           "Andray Blatche",
           0.06916666666666667,
           127
          ],
          [
           "Ryan Gomes",
           0.07233333333333333,
           112
          ],
          [
           "Orien Greene",
           -0.005277777777777774,
           470
          ],
          [
           "Lawrence Roberts",
           0.14105555555555555,
           18
          ],
          [
           "Amir Johnson",
           0.13605555555555554,
           23
          ],
          [
           "Marcin Gortat",
           0.18888888888888888,
           4
          ],
          [
           "Andrea Bargnani",
           -0.054,
           621
          ],
          [
           "LaMarcus Aldridge",
           0.075,
           102
          ],
          [
           "Adam Morrison",
           -0.13749999999999998,
           667
          ],
          [
           "Tyrus Thomas",
           -0.013722222222222219,
           506
          ],
          [
           "Shelden Williams",
           0.00711111111111111,
           406
          ],
          [
           "Brandon Roy",
           0.06444444444444444,
           138
          ],
          [
           "Randy Foye",
           -0.022055555555555557,
           542
          ],
          [
           "Rudy Gay",
           0.00894444444444445,
           399
          ],
          [
           "Patrick O'Bryant",
           -0.035944444444444446,
           585
          ],
          [
           "J.J. Redick",
           0.05738888888888888,
           164
          ],
          [
           "Hilton Armstrong",
           -0.020833333333333336,
           537
          ],
          [
           "Thabo Sefolosha",
           0.02238888888888889,
           324
          ],
          [
           "Ronnie Brewer",
           0.04627777777777778,
           210
          ],
          [
           "Rodney Carney",
           -0.009277777777777774,
           488
          ],
          [
           "Shawne Williams",
           -0.003166666666666665,
           467
          ],
          [
           "Oleksiy Pecherov",
           -0.04966666666666667,
           611
          ],
          [
           "Quincy Douby",
           -0.15355555555555556,
           669
          ],
          [
           "Renaldo Balkman",
           0.04444444444444445,
           217
          ],
          [
           "Rajon Rondo",
           0.03138888888888888,
           279
          ],
          [
           "Marcus Williams",
           -0.08694444444444444,
           657
          ],
          [
           "Josh Boone",
           0.021999999999999992,
           325
          ],
          [
           "Kyle Lowry",
           0.08727777777777777,
           79
          ],
          [
           "Shannon Brown",
           0.0016666666666666635,
           430
          ],
          [
           "Jordan Farmar",
           0.0038333333333333414,
           421
          ],
          [
           "Sergio Rodríguez",
           -0.05661111111111112,
           631
          ],
          [
           "Maurice Ager",
           -0.13955555555555554,
           668
          ],
          [
           "Mardy Collins",
           -0.08105555555555555,
           653
          ],
          [
           "Joel Freeland",
           0.010555555555555554,
           388
          ],
          [
           "Steve Novak",
           0.06761111111111111,
           132
          ],
          [
           "Solomon Jones",
           -0.0010555555555555596,
           455
          ],
          [
           "Paul Davis",
           0.0018333333333333396,
           428
          ],
          [
           "P.J. Tucker",
           0.03161111111111112,
           276
          ],
          [
           "Craig Smith",
           0.059888888888888894,
           158
          ],
          [
           "Bobby Jones",
           0.013833333333333336,
           366
          ],
          [
           "Daniel Gibson",
           0.034555555555555555,
           258
          ],
          [
           "Alexander Johnson",
           0.01672222222222222,
           354
          ],
          [
           "Paul Millsap",
           0.18344444444444444,
           6
          ],
          [
           "Leon Powe",
           0.16916666666666666,
           8
          ],
          [
           "Ryan Hollins",
           0.08433333333333333,
           84
          ],
          [
           "Greg Oden",
           0.06299999999999999,
           144
          ],
          [
           "Kevin Durant",
           0.137,
           21
          ],
          [
           "Al Horford",
           0.04050000000000001,
           237
          ],
          [
           "Mike Conley",
           0.04427777777777779,
           219
          ],
          [
           "Jeff Green",
           0.0011111111111111044,
           437
          ],
          [
           "Yi Jianlian",
           -0.06555555555555556,
           642
          ],
          [
           "Corey Brewer",
           -0.022055555555555557,
           542
          ],
          [
           "Brandan Wright",
           0.10494444444444444,
           51
          ],
          [
           "Joakim Noah",
           0.07705555555555556,
           96
          ],
          [
           "Spencer Hawes",
           -0.006111111111111109,
           477
          ],
          [
           "Acie Law",
           -0.038611111111111124,
           590
          ],
          [
           "Thaddeus Young",
           0.02816666666666666,
           295
          ],
          [
           "Julian Wright",
           -0.015611111111111117,
           514
          ],
          [
           "Al Thornton",
           -0.04572222222222222,
           604
          ],
          [
           "Rodney Stuckey",
           -0.0006666666666666626,
           452
          ],
          [
           "Nick Young",
           -0.019277777777777776,
           532
          ],
          [
           "Sean Williams",
           0.009833333333333333,
           394
          ],
          [
           "Marco Belinelli",
           0.0003333333333333244,
           441
          ],
          [
           "Javaris Crittenton",
           -0.058555555555555555,
           634
          ],
          [
           "Jason Smith",
           -0.0015555555555555461,
           459
          ],
          [
           "Daequan Cook",
           -0.03361111111111111,
           579
          ],
          [
           "Jared Dudley",
           0.01705555555555556,
           353
          ],
          [
           "Wilson Chandler",
           -0.006000000000000005,
           476
          ],
          [
           "Rudy Fernández",
           0.05027777777777778,
           194
          ],
          [
           "Aaron Brooks",
           0.004833333333333342,
           417
          ],
          [
           "Arron Afflalo",
           -0.01861111111111112,
           529
          ],
          [
           "Tiago Splitter",
           0.12744444444444444,
           31
          ],
          [
           "Carl Landry",
           0.0981111111111111,
           62
          ],
          [
           "Glen Davis",
           0.029611111111111116,
           289
          ],
          [
           "Josh McRoberts",
           0.060833333333333336,
           154
          ],
          [
           "Kyrylo Fesenko",
           -0.01355555555555555,
           505
          ],
          [
           "Dominic McGuire",
           0.07044444444444445,
           118
          ],
          [
           "Marc Gasol",
           0.12444444444444444,
           33
          ],
          [
           "Aaron Gray",
           0.07216666666666667,
           113
          ],
          [
           "Ramon Sessions",
           0.07705555555555554,
           97
          ],
          [
           "Derrick Rose",
           -0.012999999999999998,
           504
          ],
          [
           "Michael Beasley",
           -0.024,
           547
          ],
          [
           "O.J. Mayo",
           -0.05449999999999999,
           625
          ],
          [
           "Russell Westbrook",
           0.047277777777777794,
           205
          ],
          [
           "Kevin Love",
           0.08811111111111111,
           77
          ],
          [
           "Danilo Gallinari",
           0.05044444444444443,
           192
          ],
          [
           "Eric Gordon",
           -0.009055555555555567,
           486
          ],
          [
           "D.J. Augustin",
           0.01805555555555556,
           348
          ],
          [
           "Brook Lopez",
           0.05688888888888889,
           166
          ],
          [
           "Jerryd Bayless",
           0.00138888888888887,
           433
          ],
          [
           "Jason Thompson",
           0.001166666666666663,
           436
          ],
          [
           "Brandon Rush",
           -0.02561111111111112,
           554
          ],
          [
           "Anthony Randolph",
           -0.008722222222222228,
           484
          ],
          [
           "Robin Lopez",
           0.03633333333333334,
           254
          ],
          [
           "Marreese Speights",
           0.04272222222222223,
           224
          ],
          [
           "Roy Hibbert",
           0.041833333333333333,
           226
          ],
          [
           "JaVale McGee",
           0.06933333333333332,
           126
          ],
          [
           "J.J. Hickson",
           0.027444444444444438,
           299
          ],
          [
           "Alexis Ajinça",
           0.02444444444444445,
           316
          ],
          [
           "Ryan Anderson",
           0.061388888888888896,
           152
          ],
          [
           "Courtney Lee",
           0.00005555555555555869,
           443
          ],
          [
           "Kosta Koufos",
           0.044999999999999984,
           215
          ],
          [
           "Serge Ibaka",
           0.07527777777777779,
           101
          ],
          [
           "Nicolas Batum",
           0.049666666666666665,
           196
          ],
          [
           "George Hill",
           0.07483333333333335,
           103
          ],
          [
           "Darrell Arthur",
           -0.029611111111111116,
           566
          ],
          [
           "Donté Greene",
           -0.033555555555555554,
           578
          ],
          [
           "D.J. White",
           0.03294444444444444,
           266
          ],
          [
           "Nikola Peković",
           0.08311111111111111,
           86
          ],
          [
           "Joey Dorsey",
           0.012944444444444439,
           372
          ],
          [
           "Mario Chalmers",
           0.05683333333333333,
           167
          ],
          [
           "DeAndre Jordan",
           0.1196111111111111,
           38
          ],
          [
           "Ömer Aşık",
           0.05588888888888889,
           171
          ],
          [
           "Luc Mbah a Moute",
           0.03183333333333334,
           274
          ],
          [
           "Sonny Weems",
           -0.021166666666666667,
           539
          ],
          [
           "Chris Douglas-Roberts",
           0.057388888888888885,
           163
          ],
          [
           "Goran Dragić",
           0.06672222222222221,
           134
          ],
          [
           "Henry Walker",
           0.11244444444444446,
           48
          ],
          [
           "Darnell Jackson",
           0.03294444444444444,
           266
          ],
          [
           "Blake Griffin",
           0.049,
           199
          ],
          [
           "Hasheem Thabeet",
           0.021000000000000005,
           333
          ],
          [
           "James Harden",
           0.1015,
           55
          ],
          [
           "Tyreke Evans",
           -0.01672222222222222,
           519
          ],
          [
           "Ricky Rubio",
           0.020111111111111107,
           337
          ],
          [
           "Jonny Flynn",
           -0.10555555555555556,
           665
          ],
          [
           "Stephen Curry",
           0.12294444444444445,
           36
          ],
          [
           "Jordan Hill",
           0.025944444444444437,
           306
          ],
          [
           "DeMar DeRozan",
           0.043055555555555555,
           222
          ],
          [
           "Brandon Jennings",
           0.00888888888888889,
           400
          ],
          [
           "Terrence Williams",
           -0.07461111111111113,
           647
          ],
          [
           "Gerald Henderson",
           -0.012833333333333335,
           502
          ],
          [
           "Tyler Hansbrough",
           0.05738888888888889,
           162
          ],
          [
           "Earl Clark",
           -0.042722222222222224,
           599
          ],
          [
           "Austin Daye",
           -0.024666666666666663,
           550
          ],
          [
           "James Johnson",
           0.011722222222222231,
           383
          ],
          [
           "Jrue Holiday",
           0.037833333333333344,
           250
          ],
          [
           "Ty Lawson",
           0.05133333333333333,
           188
          ],
          [
           "Jeff Teague",
           0.052444444444444446,
           179
          ],
          [
           "Eric Maynor",
           -0.02755555555555555,
           563
          ],
          [
           "Darren Collison",
           0.04238888888888889,
           225
          ],
          [
           "Omri Casspi",
           0.002999999999999989,
           423
          ],
          [
           "Byron Mullens",
           -0.05572222222222222,
           628
          ],
          [
           "Rodrigue Beaubois",
           0.020666666666666667,
           336
          ],
          [
           "Taj Gibson",
           0.06383333333333334,
           141
          ],
          [
           "DeMarre Carroll",
           0.008388888888888876,
           402
          ],
          [
           "Wayne Ellington",
           0.012444444444444445,
           378
          ],
          [
           "Toney Douglas",
           0.022944444444444448,
           322
          ],
          [
           "Jeff Ayres",
           0.0801111111111111,
           90
          ],
          [
           "Dante Cunningham",
           0.0009444444444444422,
           439
          ],
          [
           "DaJuan Summers",
           -0.06038888888888889,
           637
          ],
          [
           "Sam Young",
           0.009888888888888892,
           393
          ],
          [
           "DeJuan Blair",
           0.08283333333333334,
           87
          ],
          [
           "Jon Brockman",
           0.061444444444444454,
           150
          ],
          [
           "Jonas Jerebko",
           0.08683333333333333,
           80
          ],
          [
           "Derrick Brown",
           0.08338888888888889,
           85
          ],
          [
           "Jodie Meeks",
           0.048777777777777774,
           201
          ],
          [
           "Patrick Beverley",
           0.06355555555555556,
           142
          ],
          [
           "Marcus Thornton",
           0.14194444444444446,
           16
          ],
          [
           "Chase Budinger",
           0.07911111111111112,
           94
          ],
          [
           "Nick Calathes",
           0.02372222222222222,
           318
          ],
          [
           "Danny Green",
           0.09272222222222223,
           68
          ],
          [
           "A.J. Price",
           0.03194444444444444,
           272
          ],
          [
           "Nando De Colo",
           0.09772222222222222,
           63
          ],
          [
           "Patty Mills",
           0.13305555555555557,
           25
          ],
          [
           "John Wall",
           -0.017,
           521
          ],
          [
           "Evan Turner",
           -0.027000000000000003,
           561
          ],
          [
           "Derrick Favors",
           0.0335,
           263
          ],
          [
           "Wesley Johnson",
           -0.05372222222222222,
           620
          ],
          [
           "DeMarcus Cousins",
           0.03711111111111111,
           253
          ],
          [
           "Ekpe Udoh",
           -0.002555555555555561,
           465
          ],
          [
           "Greg Monroe",
           0.05694444444444445,
           165
          ],
          [
           "Al-Farouq Aminu",
           -0.0010555555555555596,
           455
          ],
          [
           "Gordon Hayward",
           0.04005555555555555,
           241
          ],
          [
           "Paul George",
           0.06988888888888888,
           121
          ],
          [
           "Cole Aldrich",
           0.06438888888888888,
           139
          ],
          [
           "Xavier Henry",
           -0.06283333333333334,
           640
          ],
          [
           "Ed Davis",
           0.07438888888888888,
           105
          ],
          [
           "Patrick Patterson",
           0.02127777777777777,
           331
          ],
          [
           "Larry Sanders",
           0.029333333333333336,
           292
          ],
          [
           "Luke Babbitt",
           -0.008277777777777773,
           482
          ],
          [
           "Kevin Séraphin",
           -0.019166666666666665,
           531
          ],
          [
           "Eric Bledsoe",
           0.030333333333333323,
           285
          ],
          [
           "Avery Bradley",
           -0.015555555555555559,
           512
          ],
          [
           "James Anderson",
           -0.03155555555555555,
           571
          ],
          [
           "Elliot Williams",
           -0.061944444444444434,
           639
          ],
          [
           "Trevor Booker",
           0.040999999999999995,
           234
          ],
          [
           "Quincy Pondexter",
           0.01983333333333334,
           340
          ],
          [
           "Jordan Crawford",
           -0.05161111111111112,
           615
          ],
          [
           "Greivis Vásquez",
           0.013444444444444446,
           367
          ],
          [
           "Hassan Whiteside",
           0.11794444444444445,
           41
          ],
          [
           "Nemanja Bjelica",
           0.05161111111111111,
           187
          ],
          [
           "Landry Fields",
           0.06183333333333334,
           148
          ],
          [
           "Lance Stephenson",
           0.06438888888888888,
           139
          ],
          [
           "Jeremy Evans",
           0.18505555555555556,
           5
          ],
          [
           "Kyrie Irving",
           0.054000000000000006,
           174
          ],
          [
           "Derrick Williams",
           -0.0020000000000000018,
           460
          ],
          [
           "Enes Freedom",
           0.04050000000000001,
           237
          ],
          [
           "Tristan Thompson",
           0.025277777777777788,
           311
          ],
          [
           "Jonas Valančiūnas",
           0.09711111111111109,
           64
          ],
          [
           "Jan Veselý",
           -0.012555555555555556,
           501
          ],
          [
           "Bismack Biyombo",
           0.01594444444444444,
           358
          ],
          [
           "Brandon Knight",
           -0.034055555555555554,
           581
          ],
          [
           "Kemba Walker",
           0.03405555555555556,
           260
          ],
          [
           "Jimmer Fredette",
           -0.043111111111111114,
           600
          ],
          [
           "Klay Thompson",
           0.03438888888888887,
           259
          ],
          [
           "Alec Burks",
           0.01316666666666666,
           369
          ],
          [
           "Markieff Morris",
           -0.0036111111111111205,
           468
          ],
          [
           "Marcus Morris",
           0.006277777777777771,
           411
          ],
          [
           "Kawhi Leonard",
           0.14133333333333334,
           17
          ],
          [
           "Nikola Vučević",
           0.052722222222222226,
           178
          ],
          [
           "Iman Shumpert",
           -0.009166666666666663,
           487
          ],
          [
           "Chris Singleton",
           -0.03266666666666667,
           575
          ],
          [
           "Tobias Harris",
           0.05744444444444444,
           161
          ],
          [
           "Donatas Motiejūnas",
           0.006444444444444447,
           408
          ],
          [
           "Nolan Smith",
           -0.11961111111111111,
           666
          ],
          [
           "Kenneth Faried",
           0.07305555555555557,
           108
          ],
          [
           "Nikola Mirotić",
           0.05399999999999999,
           175
          ],
          [
           "Reggie Jackson",
           0.019277777777777783,
           344
          ],
          [
           "MarShon Brooks",
           -0.012333333333333335,
           499
          ],
          [
           "Jordan Hamilton",
           0.004833333333333342,
           417
          ],
          [
           "Norris Cole",
           -0.03255555555555556,
           574
          ],
          [
           "Cory Joseph",
           0.029944444444444454,
           288
          ],
          [
           "Jimmy Butler",
           0.12955555555555556,
           29
          ],
          [
           "Bojan Bogdanović",
           0.0391111111111111,
           244
          ],
          [
           "Kyle Singler",
           -0.01705555555555556,
           522
          ],
          [
           "Shelvin Mack",
           0.025833333333333333,
           307
          ],
          [
           "Chandler Parsons",
           0.05344444444444445,
           176
          ],
          [
           "Jeremy Tyler",
           -0.008166666666666668,
           481
          ],
          [
           "Jon Leuer",
           0.10538888888888888,
           50
          ],
          [
           "Darius Morris",
           -0.05722222222222223,
           632
          ],
          [
           "Dāvis Bertāns",
           0.06055555555555555,
           156
          ],
          [
           "Charles Jenkins",
           0.01311111111111111,
           371
          ],
          [
           "Lavoy Allen",
           0.09933333333333333,
           60
          ],
          [
           "DeAndre Liggins",
           0.05672222222222223,
           168
          ],
          [
           "E'Twaun Moore",
           0.09205555555555556,
           70
          ],
          [
           "Isaiah Thomas",
           0.16341176470588237,
           9
          ],
          [
           "Anthony Davis",
           0.10099999999999999,
           56
          ],
          [
           "Michael Kidd-Gilchrist",
           0.013999999999999999,
           365
          ],
          [
           "Bradley Beal",
           -0.012499999999999997,
           500
          ],
          [
           "Dion Waiters",
           -0.05572222222222222,
           628
          ],
          [
           "Thomas Robinson",
           -0.024888888888888898,
           551
          ],
          [
           "Damian Lillard",
           0.08644444444444443,
           81
          ],
          [
           "Harrison Barnes",
           0.012944444444444439,
           372
          ],
          [
           "Terrence Ross",
           -0.009055555555555553,
           485
          ],
          [
           "Andre Drummond",
           0.07105555555555555,
           116
          ],
          [
           "Austin Rivers",
           -0.03311111111111112,
           577
          ],
          [
           "Meyers Leonard",
           0.03338888888888887,
           265
          ],
          [
           "Jeremy Lamb",
           0.03216666666666666,
           270
          ],
          [
           "Kendall Marshall",
           -0.061611111111111116,
           638
          ],
          [
           "John Henson",
           0.03227777777777778,
           269
          ],
          [
           "Maurice Harkless",
           0.0013333333333333391,
           434
          ],
          [
           "Tyler Zeller",
           0.04983333333333334,
           195
          ],
          [
           "Terrence Jones",
           0.05233333333333333,
           183
          ],
          [
           "Andrew Nicholson",
           -0.015555555555555559,
           512
          ],
          [
           "Evan Fournier",
           0.00944444444444445,
           396
          ],
          [
           "Jared Sullinger",
           0.04038888888888889,
           239
          ],
          [
           "John Jenkins",
           -0.010000000000000009,
           491
          ],
          [
           "Jared Cunningham",
           -0.04672222222222222,
           607
          ],
          [
           "Tony Wroten",
           -0.07933333333333334,
           650
          ],
          [
           "Miles Plumlee",
           0.025833333333333333,
           307
          ],
          [
           "Perry Jones",
           -0.002555555555555554,
           464
          ],
          [
           "Marquis Teague",
           -0.09905555555555555,
           663
          ],
          [
           "Festus Ezeli",
           0.045555555555555544,
           214
          ],
          [
           "Jeff Taylor",
           -0.026888888888888893,
           560
          ],
          [
           "Tomáš Satoranský",
           0.044611111111111115,
           216
          ],
          [
           "Bernard James",
           0.03794444444444445,
           249
          ],
          [
           "Jae Crowder",
           0.07183333333333333,
           114
          ],
          [
           "Draymond Green",
           0.07361111111111111,
           107
          ],
          [
           "Orlando Johnson",
           0.005888888888888888,
           413
          ],
          [
           "Quincy Acy",
           0.03183333333333334,
           274
          ],
          [
           "Khris Middleton",
           0.09483333333333334,
           65
          ],
          [
           "Will Barton",
           0.07238888888888888,
           111
          ],
          [
           "Doron Lamb",
           -0.04244444444444445,
           598
          ],
          [
           "Mike Scott",
           0.14494444444444443,
           13
          ],
          [
           "Justin Hamilton",
           0.05172222222222222,
           185
          ],
          [
           "Darius Miller",
           0.03872222222222222,
           248
          ],
          [
           "Kyle O'Quinn",
           0.12316666666666667,
           35
          ],
          [
           "Robbie Hummel",
           0.05338888888888889,
           177
          ],
          [
           "Robert Sacre",
           0.06541176470588235,
           136
          ],
          [
           "Anthony Bennett",
           -0.098,
           662
          ],
          [
           "Victor Oladipo",
           -0.0020000000000000018,
           460
          ],
          [
           "Otto Porter Jr.",
           0.015500000000000014,
           359
          ],
          [
           "Cody Zeller",
           0.048277777777777794,
           202
          ],
          [
           "Alex Len",
           0.018111111111111106,
           347
          ],
          [
           "Nerlens Noel",
           0.04144444444444445,
           231
          ],
          [
           "Ben McLemore",
           -0.04505555555555556,
           602
          ],
          [
           "Kentavious Caldwell-Pope",
           0.007944444444444448,
           405
          ],
          [
           "Trey Burke",
           -0.021944444444444447,
           541
          ],
          [
           "CJ McCollum",
           0.02488888888888889,
           313
          ],
          [
           "Michael Carter-Williams",
           -0.038611111111111124,
           590
          ],
          [
           "Steven Adams",
           0.07416666666666666,
           106
          ],
          [
           "Kelly Olynyk",
           0.04738888888888888,
           204
          ],
          [
           "Shabazz Muhammad",
           0.004277777777777783,
           420
          ],
          [
           "Giannis Antetokounmpo",
           0.11933333333333335,
           40
          ],
          [
           "Lucas Nogueira",
           0.09172222222222223,
           72
          ],
          [
           "Dennis Schröder",
           0.004833333333333342,
           417
          ],
          [
           "Shane Larkin",
           -0.030666666666666675,
           568
          ],
          [
           "Sergey Karasev",
           -0.02455555555555556,
           549
          ],
          [
           "Tony Snell",
           -0.0005555555555555453,
           449
          ],
          [
           "Gorgui Dieng",
           0.044388888888888894,
           218
          ],
          [
           "Mason Plumlee",
           0.06305555555555556,
           143
          ],
          [
           "Solomon Hill",
           -0.016000000000000014,
           516
          ],
          [
           "Tim Hardaway Jr.",
           0.011277777777777775,
           384
          ],
          [
           "Reggie Bullock",
           0.02366666666666667,
           319
          ],
          [
           "Andre Roberson",
           0.024833333333333332,
           315
          ],
          [
           "Rudy Gobert",
           0.12538888888888888,
           32
          ],
          [
           "Archie Goodwin",
           -0.03205555555555555,
           572
          ],
          [
           "Allen Crabbe",
           0.0211111111111111,
           332
          ],
          [
           "Álex Abrines",
           0.030611111111111103,
           281
          ],
          [
           "Isaiah Canaan",
           0.009833333333333333,
           394
          ],
          [
           "Ray McCallum",
           -0.018111111111111106,
           527
          ],
          [
           "Nate Wolters",
           -0.02355555555555555,
           546
          ],
          [
           "Jeff Withey",
           0.13483333333333333,
           24
          ],
          [
           "Mike Muscala",
           0.11611111111111111,
           44
          ],
          [
           "Raul Neto",
           0.11544444444444446,
           46
          ],
          [
           "Ryan Kelly",
           0.027444444444444445,
           298
          ],
          [
           "James Ennis III",
           0.10033333333333333,
           57
          ],
          [
           "Lorenzo Brown",
           -0.03305555555555556,
           576
          ],
          [
           "Joffrey Lauvergne",
           0.12405555555555556,
           34
          ],
          [
           "Andrew Wiggins",
           -0.054,
           621
          ],
          [
           "Jabari Parker",
           0,
           444
          ],
          [
           "Joel Embiid",
           0.0985,
           61
          ],
          [
           "Aaron Gordon",
           0.006277777777777785,
           410
          ],
          [
           "Dante Exum",
           -0.045888888888888896,
           606
          ],
          [
           "Marcus Smart",
           0.0014444444444444426,
           431
          ],
          [
           "Julius Randle",
           0.019944444444444445,
           338
          ],
          [
           "Nik Stauskas",
           -0.04805555555555556,
           609
          ],
          [
           "Noah Vonleh",
           -0.004944444444444446,
           469
          ],
          [
           "Elfrid Payton",
           -0.019111111111111113,
           530
          ],
          [
           "Doug McDermott",
           0.008388888888888876,
           402
          ],
          [
           "Dario Šarić",
           0.01316666666666666,
           369
          ],
          [
           "Zach LaVine",
           0.0053888888888888875,
           415
          ],
          [
           "T.J. Warren",
           0.01627777777777778,
           356
          ],
          [
           "Adreian Payne",
           -0.09666666666666666,
           661
          ],
          [
           "Jusuf Nurkić",
           0.037722222222222226,
           252
          ],
          [
           "James Young",
           -0.017166666666666663,
           523
          ],
          [
           "Tyler Ennis",
           -0.04866666666666668,
           610
          ],
          [
           "Gary Harris",
           0.015444444444444441,
           360
          ],
          [
           "Bruno Caboclo",
           -0.01455555555555555,
           508
          ],
          [
           "Rodney Hood",
           0.000999999999999987,
           438
          ],
          [
           "Shabazz Napier",
           0.0012777777777777805,
           435
          ],
          [
           "Clint Capela",
           0.14266666666666666,
           15
          ],
          [
           "P.J. Hairston",
           -0.04316666666666666,
           601
          ],
          [
           "Bogdan Bogdanović",
           -0.009611111111111126,
           489
          ],
          [
           "Kyle Anderson",
           0.04955555555555555,
           197
          ],
          [
           "K.J. McDaniels",
           -0.02538888888888889,
           553
          ],
          [
           "Joe Harris",
           0.012944444444444439,
           372
          ],
          [
           "Johnny O'Bryant",
           -0.04711111111111111,
           608
          ],
          [
           "Spencer Dinwiddie",
           0.05544444444444445,
           172
          ],
          [
           "Jerami Grant",
           0.06983333333333333,
           122
          ],
          [
           "Glenn Robinson III",
           0.06938888888888887,
           125
          ],
          [
           "Nikola Jokić",
           0.19977777777777778,
           2
          ],
          [
           "Markel Brown",
           0.025111111111111112,
           312
          ],
          [
           "Dwight Powell",
           0.14572222222222223,
           12
          ],
          [
           "Jordan Clarkson",
           0.04172222222222222,
           229
          ],
          [
           "Thanasis Antetokounmpo",
           0.13733333333333334,
           20
          ],
          [
           "Jordan McRae",
           0.035388888888888886,
           256
          ],
          [
           "Karl-Anthony Towns",
           0.078,
           95
          ],
          [
           "D'Angelo Russell",
           -0.015,
           510
          ],
          [
           "Jahlil Okafor",
           -0.0455,
           603
          ],
          [
           "Kristaps Porziņģis",
           0.04127777777777779,
           233
          ],
          [
           "Mario Hezonja",
           -0.052888888888888895,
           618
          ],
          [
           "Willie Cauley-Stein",
           0.03044444444444444,
           284
          ],
          [
           "Emmanuel Mudiay",
           -0.08105555555555556,
           654
          ],
          [
           "Stanley Johnson",
           -0.03905555555555556,
           592
          ],
          [
           "Frank Kaminsky",
           0.012055555555555555,
           380
          ],
          [
           "Justise Winslow",
           -0.03211111111111112,
           573
          ],
          [
           "Myles Turner",
           0.05838888888888888,
           159
          ],
          [
           "Trey Lyles",
           0.010166666666666657,
           391
          ],
          [
           "Devin Booker",
           0.019388888888888886,
           343
          ],
          [
           "Cameron Payne",
           -0.005722222222222226,
           475
          ],
          [
           "Kelly Oubre Jr.",
           -0.009666666666666657,
           490
          ],
          [
           "Terry Rozier",
           0.01072222222222223,
           387
          ],
          [
           "Rashad Vaughn",
           -0.08016666666666666,
           652
          ],
          [
           "Sam Dekker",
           0.008333333333333331,
           404
          ],
          [
           "Jerian Grant",
           0.019444444444444445,
           342
          ],
          [
           "Delon Wright",
           0.061444444444444454,
           150
          ],
          [
           "Justin Anderson",
           -0.0006111111111111178,
           450
          ],
          [
           "Bobby Portis",
           0.023055555555555565,
           321
          ],
          [
           "Rondae Hollis-Jefferson",
           0.015999999999999986,
           357
          ],
          [
           "Tyus Jones",
           0.052277777777777784,
           184
          ],
          [
           "Jarell Martin",
           -0.005333333333333336,
           471
          ],
          [
           "Larry Nance Jr.",
           0.033388888888888885,
           264
          ],
          [
           "Kevon Looney",
           0.10155555555555554,
           54
          ],
          [
           "Cedi Osman",
           0.0021111111111111053,
           427
          ],
          [
           "Montrezl Harrell",
           0.13961111111111113,
           19
          ],
          [
           "Willy Hernangómez",
           0.09961111111111111,
           58
          ],
          [
           "Richaun Holmes",
           0.11283333333333334,
           47
          ],
          [
           "Darrun Hilliard",
           -0.03555555555555555,
           584
          ],
          [
           "Josh Richardson",
           0.08238888888888889,
           88
          ],
          [
           "Pat Connaughton",
           0.06077777777777777,
           155
          ],
          [
           "Joe Young",
           0.07294444444444445,
           109
          ],
          [
           "Andrew Harrison",
           0.047111111111111104,
           206
          ],
          [
           "Norman Powell",
           0.07972222222222222,
           93
          ],
          [
           "Ben Simmons",
           0.03899999999999999,
           246
          ],
          [
           "Brandon Ingram",
           0,
           444
          ],
          [
           "Jaylen Brown",
           -0.015499999999999986,
           511
          ],
          [
           "Dragan Bender",
           -0.08572222222222221,
           656
          ],
          [
           "Kris Dunn",
           -0.0348888888888889,
           583
          ],
          [
           "Buddy Hield",
           -0.026555555555555554,
           559
          ],
          [
           "Jamal Murray",
           0.019944444444444445,
           338
          ],
          [
           "Marquese Chriss",
           -0.018055555555555554,
           526
          ],
          [
           "Jakob Poeltl",
           0.08005555555555556,
           92
          ],
          [
           "Thon Maker",
           0.010888888888888879,
           386
          ],
          [
           "Domantas Sabonis",
           0.08538888888888888,
           83
          ],
          [
           "Taurean Prince",
           -0.029833333333333337,
           567
          ],
          [
           "Denzel Valentine",
           -0.036722222222222226,
           586
          ],
          [
           "Juancho Hernangómez",
           0.00233333333333334,
           426
          ],
          [
           "Henry Ellenson",
           -0.05166666666666667,
           617
          ],
          [
           "Malik Beasley",
           0.0014444444444444426,
           431
          ],
          [
           "Caris LeVert",
           0.0024444444444444435,
           424
          ],
          [
           "DeAndre' Bembry",
           -0.03461111111111111,
           582
          ],
          [
           "Ante Žižić",
           0.03499999999999999,
           257
          ],
          [
           "Timothé Luwawu-Cabarrot",
           -0.020722222222222225,
           536
          ],
          [
           "Furkan Korkmaz",
           0.0038333333333333414,
           421
          ],
          [
           "Pascal Siakam",
           0.04038888888888889,
           239
          ],
          [
           "Skal Labissière",
           0.030444444444444448,
           283
          ],
          [
           "Dejounte Murray",
           0.03894444444444445,
           247
          ],
          [
           "Damian Jones",
           0.06955555555555554,
           123
          ],
          [
           "Deyonta Davis",
           0.0801111111111111,
           90
          ],
          [
           "Ivica Zubac",
           0.1196111111111111,
           38
          ],
          [
           "Cheick Diallo",
           0.05994444444444445,
           157
          ],
          [
           "Tyler Ulis",
           -0.025166666666666664,
           552
          ],
          [
           "Malcolm Brogdon",
           0.06888888888888889,
           129
          ],
          [
           "Patrick McCaw",
           0.01044444444444445,
           389
          ],
          [
           "Isaiah Whitehead",
           -0.07244444444444445,
           645
          ],
          [
           "Jake Layman",
           0.09244444444444444,
           69
          ],
          [
           "Paul Zipser",
           -0.019555555555555555,
           533
          ],
          [
           "Georges Niang",
           0.08833333333333333,
           76
          ],
          [
           "Abdel Nader",
           0.03938888888888889,
           243
          ],
          [
           "Tyrone Wallace",
           0.02641176470588235,
           301
          ],
          [
           "Markelle Fultz",
           -0.041999999999999996,
           596
          ],
          [
           "Lonzo Ball",
           -0.010999999999999996,
           496
          ],
          [
           "Jayson Tatum",
           0.0305,
           282
          ],
          [
           "Josh Jackson",
           -0.10372222222222222,
           664
          ],
          [
           "De'Aaron Fox",
           0.009111111111111098,
           397
          ],
          [
           "Jonathan Isaac",
           0.0024444444444444435,
           424
          ],
          [
           "Lauri Markkanen",
           0.03194444444444444,
           272
          ],
          [
           "Frank Ntilikina",
           -0.07205555555555555,
           643
          ],
          [
           "Dennis Smith Jr.",
           -0.07794444444444444,
           648
          ],
          [
           "Zach Collins",
           -0.00011111111111111738,
           447
          ],
          [
           "Malik Monk",
           -0.017611111111111126,
           524
          ],
          [
           "Luke Kennard",
           0.026166666666666658,
           303
          ],
          [
           "Donovan Mitchell",
           0.05238888888888889,
           180
          ],
          [
           "Bam Adebayo",
           0.08727777777777779,
           78
          ],
          [
           "Justin Jackson",
           -0.025666666666666664,
           555
          ],
          [
           "D.J. Wilson",
           0.011833333333333335,
           381
          ],
          [
           "T.J. Leaf",
           0.029333333333333322,
           293
          ],
          [
           "John Collins",
           0.08544444444444443,
           82
          ],
          [
           "Harry Giles",
           0.01044444444444445,
           389
          ],
          [
           "Terrance Ferguson",
           -0.019611111111111114,
           534
          ],
          [
           "Jarrett Allen",
           0.10305555555555557,
           53
          ],
          [
           "OG Anunoby",
           0.026999999999999982,
           300
          ],
          [
           "Kyle Kuzma",
           -0.03861111111111112,
           589
          ],
          [
           "Tony Bradley",
           0.13044444444444445,
           27
          ],
          [
           "Derrick White",
           0.06494444444444444,
           137
          ],
          [
           "Josh Hart",
           0.025555555555555554,
           310
          ],
          [
           "Frank Jackson",
           -0.019888888888888893,
           535
          ],
          [
           "Davon Reed",
           -0.001388888888888891,
           457
          ],
          [
           "Wes Iwundu",
           -0.02605555555555556,
           558
          ],
          [
           "Frank Mason III",
           0.0018333333333333396,
           428
          ],
          [
           "Ivan Rabb",
           0.07261111111111111,
           110
          ],
          [
           "Semi Ojeleye",
           0.014833333333333337,
           362
          ],
          [
           "Jordan Bell",
           0.06944444444444445,
           124
          ],
          [
           "Dwayne Bacon",
           0.008388888888888888,
           401
          ],
          [
           "Tyler Dorsey",
           -0.016222222222222228,
           518
          ],
          [
           "Thomas Bryant",
           0.12055555555555555,
           37
          ],
          [
           "Isaiah Hartenstein",
           0.21894444444444444,
           1
          ],
          [
           "Damyean Dotson",
           0.030111111111111113,
           286
          ],
          [
           "Dillon Brooks",
           -0.006277777777777778,
           478
          ],
          [
           "Sterling Brown",
           0.05072222222222222,
           190
          ],
          [
           "Sindarius Thornwell",
           0.013444444444444446,
           367
          ],
          [
           "Vlatko Čančar",
           0.08216666666666667,
           89
          ],
          [
           "Monte Morris",
           0.19433333333333333,
           3
          ],
          [
           "Edmond Sumner",
           0.04294444444444445,
           223
          ],
          [
           "Deandre Ayton",
           0.049,
           199
          ],
          [
           "Marvin Bagley III",
           0.008999999999999994,
           398
          ],
          [
           "Luka Dončić",
           0.049500000000000016,
           198
          ],
          [
           "Jaren Jackson Jr.",
           0.036277777777777784,
           255
          ],
          [
           "Trae Young",
           0.05411111111111111,
           173
          ],
          [
           "Mo Bamba",
           0.03144444444444444,
           277
          ],
          [
           "Wendell Carter Jr.",
           0.039944444444444435,
           242
          ],
          [
           "Collin Sexton",
           -0.03105555555555556,
           569
          ],
          [
           "Kevin Knox",
           -0.07894444444444444,
           649
          ],
          [
           "Mikal Bridges",
           0.04588888888888888,
           213
          ],
          [
           "Shai Gilgeous-Alexander",
           0.06638888888888889,
           135
          ],
          [
           "Miles Bridges",
           0.015166666666666662,
           361
          ],
          [
           "Jerome Robinson",
           -0.07961111111111112,
           651
          ],
          [
           "Michael Porter Jr.",
           0.05627777777777779,
           169
          ],
          [
           "Troy Brown Jr.",
           -0.014666666666666661,
           509
          ],
          [
           "Donte DiVincenzo",
           0.03383333333333334,
           261
          ],
          [
           "Lonnie Walker IV",
           -0.04166666666666667,
           595
          ],
          [
           "Kevin Huerter",
           0.006444444444444447,
           408
          ],
          [
           "Josh Okogie",
           -0.006555555555555551,
           479
          ],
          [
           "Grayson Allen",
           0.02938888888888888,
           291
          ],
          [
           "Chandler Hutchison",
           -0.055944444444444436,
           630
          ],
          [
           "Aaron Holiday",
           -0.024000000000000014,
           548
          ],
          [
           "Anfernee Simons",
           -0.01672222222222222,
           519
          ],
          [
           "Moritz Wagner",
           0.051666666666666666,
           186
          ],
          [
           "Landry Shamet",
           0.01783333333333334,
           351
          ],
          [
           "Robert Williams",
           0.15338888888888888,
           11
          ],
          [
           "Omari Spellman",
           -0.005444444444444446,
           473
          ],
          [
           "Elie Okobo",
           -0.036888888888888895,
           587
          ],
          [
           "Jevon Carter",
           0.02161111111111111,
           329
          ],
          [
           "Jalen Brunson",
           0.05594444444444445,
           170
          ],
          [
           "Devonte' Graham",
           0.041833333333333333,
           226
          ],
          [
           "Mitchell Robinson",
           0.15988888888888889,
           10
          ],
          [
           "Gary Trent Jr.",
           0.04083333333333333,
           236
          ],
          [
           "Isaac Bonga",
           0.02183333333333333,
           327
          ],
          [
           "Rodions Kurucs",
           0.050388888888888886,
           193
          ],
          [
           "Jarred Vanderbilt",
           0.08977777777777779,
           74
          ],
          [
           "Bruce Brown",
           0.04755555555555555,
           203
          ],
          [
           "Hamidou Diallo",
           0.02072222222222222,
           335
          ],
          [
           "De'Anthony Melton",
           0.06172222222222223,
           149
          ],
          [
           "Svi Mykhailiuk",
           0.07144444444444445,
           115
          ],
          [
           "Keita Bates-Diop",
           0.057444444444444444,
           160
          ],
          [
           "Chimezie Metu",
           0.06916666666666667,
           127
          ],
          [
           "Shake Milton",
           0.11561111111111111,
           45
          ],
          [
           "Zion Williamson",
           0.076,
           100
          ],
          [
           "Ja Morant",
           0.040999999999999995,
           234
          ],
          [
           "RJ Barrett",
           -0.0735,
           646
          ],
          [
           "De'Andre Hunter",
           -0.05072222222222222,
           614
          ],
          [
           "Darius Garland",
           0.0001111111111111035,
           442
          ],
          [
           "Jarrett Culver",
           -0.09155555555555556,
           659
          ],
          [
           "Coby White",
           -0.022055555555555557,
           542
          ],
          [
           "Jaxson Hayes",
           0.08894444444444445,
           75
          ],
          [
           "Rui Hachimura",
           -0.020944444444444446,
           538
          ],
          [
           "Cam Reddish",
           -0.05411111111111112,
           623
          ],
          [
           "Cameron Johnson",
           0.052388888888888874,
           182
          ],
          [
           "P.J. Washington",
           -0.010833333333333334,
           493
          ],
          [
           "Tyler Herro",
           -0.010611111111111113,
           492
          ],
          [
           "Romeo Langford",
           -0.037722222222222226,
           588
          ],
          [
           "Sekou Doumbouya",
           -0.09066666666666666,
           658
          ],
          [
           "Chuma Okeke",
           -0.014277777777777778,
           507
          ],
          [
           "Nickeil Alexander-Walker",
           -0.04216666666666666,
           597
          ],
          [
           "Goga Bitadze",
           0.04133333333333333,
           232
          ],
          [
           "Matisse Thybulle",
           0.027444444444444452,
           297
          ],
          [
           "Brandon Clarke",
           0.11638888888888889,
           43
          ],
          [
           "Grant Williams",
           0.010055555555555568,
           392
          ],
          [
           "Darius Bazley",
           -0.05000000000000001,
           613
          ],
          [
           "Ty Jerome",
           0.005277777777777784,
           416
          ],
          [
           "Nassir Little",
           0.0006666666666666626,
           440
          ],
          [
           "Dylan Windler",
           -0.0001666666666666622,
           448
          ],
          [
           "Jordan Poole",
           0.01744444444444445,
           352
          ],
          [
           "Keldon Johnson",
           0.020944444444444446,
           334
          ],
          [
           "Kevin Porter Jr.",
           -0.04144444444444445,
           594
          ],
          [
           "Nic Claxton",
           0.1291111111111111,
           30
          ],
          [
           "KZ Okpala",
           -0.0053888888888888875,
           472
          ],
          [
           "Bruno Fernando",
           0.03383333333333334,
           261
          ],
          [
           "Cody Martin",
           0.02488888888888889,
           313
          ],
          [
           "Daniel Gafford",
           0.13644444444444445,
           22
          ],
          [
           "Eric Paschall",
           0.030777777777777772,
           280
          ],
          [
           "Admiral Schofield",
           -0.0014444444444444496,
           458
          ],
          [
           "Jaylen Nowell",
           0.13094444444444445,
           26
          ],
          [
           "Bol Bol",
           0.06111111111111111,
           153
          ],
          [
           "Isaiah Roby",
           0.028722222222222225,
           294
          ],
          [
           "Talen Horton-Tucker",
           0.025722222222222223,
           309
          ],
          [
           "Terance Mann",
           0.09944444444444445,
           59
          ],
          [
           "Jalen McDaniels",
           0.04694444444444444,
           207
          ],
          [
           "Anthony Edwards",
           -0.055,
           626
          ],
          [
           "James Wiseman",
           -0.018000000000000002,
           525
          ],
          [
           "LaMelo Ball",
           -0.01849999999999999,
           528
          ],
          [
           "Patrick Williams",
           -0.022722222222222213,
           545
          ],
          [
           "Isaac Okoro",
           -0.0008888888888888974,
           453
          ],
          [
           "Onyeka Okongwu",
           0.09344444444444444,
           66
          ],
          [
           "Killian Hayes",
           -0.09305555555555556,
           660
          ],
          [
           "Obi Toppin",
           0.04594444444444444,
           211
          ],
          [
           "Deni Avdija",
           -0.027944444444444445,
           564
          ],
          [
           "Jalen Smith",
           0.02788888888888888,
           296
          ],
          [
           "Devin Vassell",
           -0.0006111111111111178,
           450
          ],
          [
           "Tyrese Haliburton",
           0.062166666666666676,
           147
          ],
          [
           "Kira Lewis Jr.",
           -0.03361111111111112,
           580
          ],
          [
           "Aaron Nesmith",
           -0.025722222222222223,
           557
          ],
          [
           "Cole Anthony",
           -0.025666666666666664,
           555
          ],
          [
           "Isaiah Stewart",
           0.023722222222222228,
           317
          ],
          [
           "Aleksej Pokusevski",
           -0.07216666666666666,
           644
          ],
          [
           "Josh Green",
           0.012333333333333321,
           379
          ],
          [
           "Saddiq Bey",
           0.018444444444444444,
           346
          ],
          [
           "Precious Achiuwa",
           0.012444444444444452,
           377
          ],
          [
           "Tyrese Maxey",
           0.05238888888888889,
           180
          ],
          [
           "Zeke Nnaji",
           0.026055555555555568,
           304
          ],
          [
           "R.J. Hampton",
           -0.04972222222222222,
           612
          ],
          [
           "Immanuel Quickley",
           0.06766666666666667,
           131
          ],
          [
           "Payton Pritchard",
           0.03783333333333333,
           251
          ],
          [
           "Jaden McDaniels",
           0.01844444444444445,
           345
          ],
          [
           "Malachi Flynn",
           -0.0020555555555555535,
           462
          ],
          [
           "Desmond Bane",
           0.06255555555555556,
           146
          ],
          [
           "Théo Maledon",
           -0.028166666666666663,
           565
          ],
          [
           "Xavier Tillman Sr.",
           0.0906111111111111,
           73
          ],
          [
           "Saben Lee",
           0.032444444444444456,
           268
          ],
          [
           "Tre Jones",
           0.04677777777777777,
           208
          ],
          [
           "Nick Richards",
           0.10355555555555554,
           52
          ],
          [
           "Jordan Nwora",
           0.005722222222222219,
           414
          ],
          [
           "CJ Elleby",
           -0.002277777777777778,
           463
          ],
          [
           "Isaiah Joe",
           0.09316666666666668,
           67
          ],
          [
           "Kenyon Martin Jr.",
           0.06994444444444445,
           120
          ],
          [
           "Paul Reed",
           0.1723888888888889,
           7
          ],
          [
           "Jalen Green",
           -0.053,
           619
          ],
          [
           "Evan Mobley",
           0.014500000000000013,
           363
          ],
          [
           "Scottie Barnes",
           0.014277777777777778,
           364
          ],
          [
           "Jalen Suggs",
           -0.0828888888888889,
           655
          ],
          [
           "Josh Giddey",
           -0.03955555555555556,
           593
          ],
          [
           "Jonathan Kuminga",
           0.021944444444444433,
           326
          ],
          [
           "Franz Wagner",
           0.012944444444444439,
           372
          ],
          [
           "Davion Mitchell",
           -0.059944444444444446,
           636
          ],
          [
           "Ziaire Williams",
           -0.016111111111111118,
           517
          ],
          [
           "Chris Duarte",
           -0.059611111111111115,
           635
          ],
          [
           "Moses Moody",
           0.006277777777777771,
           411
          ],
          [
           "Corey Kispert",
           -0.0026666666666666644,
           466
          ],
          [
           "Alperen Şengün",
           0.022722222222222227,
           323
          ],
          [
           "Trey Murphy III",
           0.07483333333333335,
           103
          ],
          [
           "Tre Mann",
           -0.06366666666666668,
           641
          ],
          [
           "Jalen Johnson",
           0.021444444444444447,
           330
          ],
          [
           "Isaiah Jackson",
           0.039055555555555566,
           245
          ],
          [
           "Usman Garuba",
           0.017999999999999988,
           349
          ],
          [
           "Josh Christopher",
           -0.05772222222222222,
           633
          ],
          [
           "Quentin Grimes",
           0.04366666666666666,
           220
          ],
          [
           "Bones Hyland",
           0.011833333333333335,
           381
          ],
          [
           "Cam Thomas",
           -0.05561111111111112,
           627
          ],
          [
           "Santi Aldama",
           0.041555555555555554,
           230
          ],
          [
           "Jeremiah Robinson-Earl",
           0.029611111111111116,
           289
          ],
          [
           "Herbert Jones",
           0.04661111111111112,
           209
          ],
          [
           "Miles McBride",
           -0.011111111111111106,
           497
          ],
          [
           "JT Thor",
           -0.027166666666666662,
           562
          ],
          [
           "Ayo Dosunmu",
           0.016444444444444456,
           355
          ],
          [
           "Kessler Edwards",
           0.032111111111111104,
           271
          ],
          [
           "Dalano Banton",
           0.019722222222222224,
           341
          ],
          [
           "Sandro Mamukelashvili",
           0.11761111111111111,
           42
          ],
          [
           "Aaron Wiggins",
           0.10905555555555554,
           49
          ],
          [
           "Jericho Sims",
           0.1303888888888889,
           28
          ],
          [
           "Tari Eason",
           0.006833333333333344,
           407
          ]
         ],
         "hovertemplate": "<b>%{hovertext}</b><br><br>Pk=%{x}<br>WS/48=%{y}<br>WS/48_diff=%{customdata[1]}<br>WS/48_rank=%{customdata[2]}<extra></extra>",
         "hovertext": [
          "Andrew Bogut",
          "Marvin Williams",
          "Deron Williams",
          "Chris Paul",
          "Raymond Felton",
          "Martell Webster",
          "Charlie Villanueva",
          "Channing Frye",
          "Ike Diogu",
          "Andrew Bynum",
          "Sean May",
          "Rashad McCants",
          "Antoine Wright",
          "Joey Graham",
          "Danny Granger",
          "Gerald Green",
          "Hakim Warrick",
          "Nate Robinson",
          "Jarrett Jack",
          "Francisco García",
          "Luther Head",
          "Johan Petro",
          "Jason Maxiell",
          "Linas Kleiza",
          "Ian Mahinmi",
          "David Lee",
          "Salim Stoudamire",
          "Daniel Ewing",
          "Brandon Bass",
          "C.J. Miles",
          "Ersan İlyasova",
          "Ronny Turiaf",
          "Travis Diener",
          "Von Wafer",
          "Monta Ellis",
          "Roko Ukić",
          "Lou Williams",
          "Mickaël Gelabale",
          "Andray Blatche",
          "Ryan Gomes",
          "Orien Greene",
          "Lawrence Roberts",
          "Amir Johnson",
          "Marcin Gortat",
          "Andrea Bargnani",
          "LaMarcus Aldridge",
          "Adam Morrison",
          "Tyrus Thomas",
          "Shelden Williams",
          "Brandon Roy",
          "Randy Foye",
          "Rudy Gay",
          "Patrick O'Bryant",
          "J.J. Redick",
          "Hilton Armstrong",
          "Thabo Sefolosha",
          "Ronnie Brewer",
          "Rodney Carney",
          "Shawne Williams",
          "Oleksiy Pecherov",
          "Quincy Douby",
          "Renaldo Balkman",
          "Rajon Rondo",
          "Marcus Williams",
          "Josh Boone",
          "Kyle Lowry",
          "Shannon Brown",
          "Jordan Farmar",
          "Sergio Rodríguez",
          "Maurice Ager",
          "Mardy Collins",
          "Joel Freeland",
          "Steve Novak",
          "Solomon Jones",
          "Paul Davis",
          "P.J. Tucker",
          "Craig Smith",
          "Bobby Jones",
          "Daniel Gibson",
          "Alexander Johnson",
          "Paul Millsap",
          "Leon Powe",
          "Ryan Hollins",
          "Greg Oden",
          "Kevin Durant",
          "Al Horford",
          "Mike Conley",
          "Jeff Green",
          "Yi Jianlian",
          "Corey Brewer",
          "Brandan Wright",
          "Joakim Noah",
          "Spencer Hawes",
          "Acie Law",
          "Thaddeus Young",
          "Julian Wright",
          "Al Thornton",
          "Rodney Stuckey",
          "Nick Young",
          "Sean Williams",
          "Marco Belinelli",
          "Javaris Crittenton",
          "Jason Smith",
          "Daequan Cook",
          "Jared Dudley",
          "Wilson Chandler",
          "Rudy Fernández",
          "Aaron Brooks",
          "Arron Afflalo",
          "Tiago Splitter",
          "Carl Landry",
          "Glen Davis",
          "Josh McRoberts",
          "Kyrylo Fesenko",
          "Dominic McGuire",
          "Marc Gasol",
          "Aaron Gray",
          "Ramon Sessions",
          "Derrick Rose",
          "Michael Beasley",
          "O.J. Mayo",
          "Russell Westbrook",
          "Kevin Love",
          "Danilo Gallinari",
          "Eric Gordon",
          "D.J. Augustin",
          "Brook Lopez",
          "Jerryd Bayless",
          "Jason Thompson",
          "Brandon Rush",
          "Anthony Randolph",
          "Robin Lopez",
          "Marreese Speights",
          "Roy Hibbert",
          "JaVale McGee",
          "J.J. Hickson",
          "Alexis Ajinça",
          "Ryan Anderson",
          "Courtney Lee",
          "Kosta Koufos",
          "Serge Ibaka",
          "Nicolas Batum",
          "George Hill",
          "Darrell Arthur",
          "Donté Greene",
          "D.J. White",
          "Nikola Peković",
          "Joey Dorsey",
          "Mario Chalmers",
          "DeAndre Jordan",
          "Ömer Aşık",
          "Luc Mbah a Moute",
          "Sonny Weems",
          "Chris Douglas-Roberts",
          "Goran Dragić",
          "Henry Walker",
          "Darnell Jackson",
          "Blake Griffin",
          "Hasheem Thabeet",
          "James Harden",
          "Tyreke Evans",
          "Ricky Rubio",
          "Jonny Flynn",
          "Stephen Curry",
          "Jordan Hill",
          "DeMar DeRozan",
          "Brandon Jennings",
          "Terrence Williams",
          "Gerald Henderson",
          "Tyler Hansbrough",
          "Earl Clark",
          "Austin Daye",
          "James Johnson",
          "Jrue Holiday",
          "Ty Lawson",
          "Jeff Teague",
          "Eric Maynor",
          "Darren Collison",
          "Omri Casspi",
          "Byron Mullens",
          "Rodrigue Beaubois",
          "Taj Gibson",
          "DeMarre Carroll",
          "Wayne Ellington",
          "Toney Douglas",
          "Jeff Ayres",
          "Dante Cunningham",
          "DaJuan Summers",
          "Sam Young",
          "DeJuan Blair",
          "Jon Brockman",
          "Jonas Jerebko",
          "Derrick Brown",
          "Jodie Meeks",
          "Patrick Beverley",
          "Marcus Thornton",
          "Chase Budinger",
          "Nick Calathes",
          "Danny Green",
          "A.J. Price",
          "Nando De Colo",
          "Patty Mills",
          "John Wall",
          "Evan Turner",
          "Derrick Favors",
          "Wesley Johnson",
          "DeMarcus Cousins",
          "Ekpe Udoh",
          "Greg Monroe",
          "Al-Farouq Aminu",
          "Gordon Hayward",
          "Paul George",
          "Cole Aldrich",
          "Xavier Henry",
          "Ed Davis",
          "Patrick Patterson",
          "Larry Sanders",
          "Luke Babbitt",
          "Kevin Séraphin",
          "Eric Bledsoe",
          "Avery Bradley",
          "James Anderson",
          "Elliot Williams",
          "Trevor Booker",
          "Quincy Pondexter",
          "Jordan Crawford",
          "Greivis Vásquez",
          "Hassan Whiteside",
          "Nemanja Bjelica",
          "Landry Fields",
          "Lance Stephenson",
          "Jeremy Evans",
          "Kyrie Irving",
          "Derrick Williams",
          "Enes Freedom",
          "Tristan Thompson",
          "Jonas Valančiūnas",
          "Jan Veselý",
          "Bismack Biyombo",
          "Brandon Knight",
          "Kemba Walker",
          "Jimmer Fredette",
          "Klay Thompson",
          "Alec Burks",
          "Markieff Morris",
          "Marcus Morris",
          "Kawhi Leonard",
          "Nikola Vučević",
          "Iman Shumpert",
          "Chris Singleton",
          "Tobias Harris",
          "Donatas Motiejūnas",
          "Nolan Smith",
          "Kenneth Faried",
          "Nikola Mirotić",
          "Reggie Jackson",
          "MarShon Brooks",
          "Jordan Hamilton",
          "Norris Cole",
          "Cory Joseph",
          "Jimmy Butler",
          "Bojan Bogdanović",
          "Kyle Singler",
          "Shelvin Mack",
          "Chandler Parsons",
          "Jeremy Tyler",
          "Jon Leuer",
          "Darius Morris",
          "Dāvis Bertāns",
          "Charles Jenkins",
          "Lavoy Allen",
          "DeAndre Liggins",
          "E'Twaun Moore",
          "Isaiah Thomas",
          "Anthony Davis",
          "Michael Kidd-Gilchrist",
          "Bradley Beal",
          "Dion Waiters",
          "Thomas Robinson",
          "Damian Lillard",
          "Harrison Barnes",
          "Terrence Ross",
          "Andre Drummond",
          "Austin Rivers",
          "Meyers Leonard",
          "Jeremy Lamb",
          "Kendall Marshall",
          "John Henson",
          "Maurice Harkless",
          "Tyler Zeller",
          "Terrence Jones",
          "Andrew Nicholson",
          "Evan Fournier",
          "Jared Sullinger",
          "John Jenkins",
          "Jared Cunningham",
          "Tony Wroten",
          "Miles Plumlee",
          "Perry Jones",
          "Marquis Teague",
          "Festus Ezeli",
          "Jeff Taylor",
          "Tomáš Satoranský",
          "Bernard James",
          "Jae Crowder",
          "Draymond Green",
          "Orlando Johnson",
          "Quincy Acy",
          "Khris Middleton",
          "Will Barton",
          "Doron Lamb",
          "Mike Scott",
          "Justin Hamilton",
          "Darius Miller",
          "Kyle O'Quinn",
          "Robbie Hummel",
          "Robert Sacre",
          "Anthony Bennett",
          "Victor Oladipo",
          "Otto Porter Jr.",
          "Cody Zeller",
          "Alex Len",
          "Nerlens Noel",
          "Ben McLemore",
          "Kentavious Caldwell-Pope",
          "Trey Burke",
          "CJ McCollum",
          "Michael Carter-Williams",
          "Steven Adams",
          "Kelly Olynyk",
          "Shabazz Muhammad",
          "Giannis Antetokounmpo",
          "Lucas Nogueira",
          "Dennis Schröder",
          "Shane Larkin",
          "Sergey Karasev",
          "Tony Snell",
          "Gorgui Dieng",
          "Mason Plumlee",
          "Solomon Hill",
          "Tim Hardaway Jr.",
          "Reggie Bullock",
          "Andre Roberson",
          "Rudy Gobert",
          "Archie Goodwin",
          "Allen Crabbe",
          "Álex Abrines",
          "Isaiah Canaan",
          "Ray McCallum",
          "Nate Wolters",
          "Jeff Withey",
          "Mike Muscala",
          "Raul Neto",
          "Ryan Kelly",
          "James Ennis III",
          "Lorenzo Brown",
          "Joffrey Lauvergne",
          "Andrew Wiggins",
          "Jabari Parker",
          "Joel Embiid",
          "Aaron Gordon",
          "Dante Exum",
          "Marcus Smart",
          "Julius Randle",
          "Nik Stauskas",
          "Noah Vonleh",
          "Elfrid Payton",
          "Doug McDermott",
          "Dario Šarić",
          "Zach LaVine",
          "T.J. Warren",
          "Adreian Payne",
          "Jusuf Nurkić",
          "James Young",
          "Tyler Ennis",
          "Gary Harris",
          "Bruno Caboclo",
          "Rodney Hood",
          "Shabazz Napier",
          "Clint Capela",
          "P.J. Hairston",
          "Bogdan Bogdanović",
          "Kyle Anderson",
          "K.J. McDaniels",
          "Joe Harris",
          "Johnny O'Bryant",
          "Spencer Dinwiddie",
          "Jerami Grant",
          "Glenn Robinson III",
          "Nikola Jokić",
          "Markel Brown",
          "Dwight Powell",
          "Jordan Clarkson",
          "Thanasis Antetokounmpo",
          "Jordan McRae",
          "Karl-Anthony Towns",
          "D'Angelo Russell",
          "Jahlil Okafor",
          "Kristaps Porziņģis",
          "Mario Hezonja",
          "Willie Cauley-Stein",
          "Emmanuel Mudiay",
          "Stanley Johnson",
          "Frank Kaminsky",
          "Justise Winslow",
          "Myles Turner",
          "Trey Lyles",
          "Devin Booker",
          "Cameron Payne",
          "Kelly Oubre Jr.",
          "Terry Rozier",
          "Rashad Vaughn",
          "Sam Dekker",
          "Jerian Grant",
          "Delon Wright",
          "Justin Anderson",
          "Bobby Portis",
          "Rondae Hollis-Jefferson",
          "Tyus Jones",
          "Jarell Martin",
          "Larry Nance Jr.",
          "Kevon Looney",
          "Cedi Osman",
          "Montrezl Harrell",
          "Willy Hernangómez",
          "Richaun Holmes",
          "Darrun Hilliard",
          "Josh Richardson",
          "Pat Connaughton",
          "Joe Young",
          "Andrew Harrison",
          "Norman Powell",
          "Ben Simmons",
          "Brandon Ingram",
          "Jaylen Brown",
          "Dragan Bender",
          "Kris Dunn",
          "Buddy Hield",
          "Jamal Murray",
          "Marquese Chriss",
          "Jakob Poeltl",
          "Thon Maker",
          "Domantas Sabonis",
          "Taurean Prince",
          "Denzel Valentine",
          "Juancho Hernangómez",
          "Henry Ellenson",
          "Malik Beasley",
          "Caris LeVert",
          "DeAndre' Bembry",
          "Ante Žižić",
          "Timothé Luwawu-Cabarrot",
          "Furkan Korkmaz",
          "Pascal Siakam",
          "Skal Labissière",
          "Dejounte Murray",
          "Damian Jones",
          "Deyonta Davis",
          "Ivica Zubac",
          "Cheick Diallo",
          "Tyler Ulis",
          "Malcolm Brogdon",
          "Patrick McCaw",
          "Isaiah Whitehead",
          "Jake Layman",
          "Paul Zipser",
          "Georges Niang",
          "Abdel Nader",
          "Tyrone Wallace",
          "Markelle Fultz",
          "Lonzo Ball",
          "Jayson Tatum",
          "Josh Jackson",
          "De'Aaron Fox",
          "Jonathan Isaac",
          "Lauri Markkanen",
          "Frank Ntilikina",
          "Dennis Smith Jr.",
          "Zach Collins",
          "Malik Monk",
          "Luke Kennard",
          "Donovan Mitchell",
          "Bam Adebayo",
          "Justin Jackson",
          "D.J. Wilson",
          "T.J. Leaf",
          "John Collins",
          "Harry Giles",
          "Terrance Ferguson",
          "Jarrett Allen",
          "OG Anunoby",
          "Kyle Kuzma",
          "Tony Bradley",
          "Derrick White",
          "Josh Hart",
          "Frank Jackson",
          "Davon Reed",
          "Wes Iwundu",
          "Frank Mason III",
          "Ivan Rabb",
          "Semi Ojeleye",
          "Jordan Bell",
          "Dwayne Bacon",
          "Tyler Dorsey",
          "Thomas Bryant",
          "Isaiah Hartenstein",
          "Damyean Dotson",
          "Dillon Brooks",
          "Sterling Brown",
          "Sindarius Thornwell",
          "Vlatko Čančar",
          "Monte Morris",
          "Edmond Sumner",
          "Deandre Ayton",
          "Marvin Bagley III",
          "Luka Dončić",
          "Jaren Jackson Jr.",
          "Trae Young",
          "Mo Bamba",
          "Wendell Carter Jr.",
          "Collin Sexton",
          "Kevin Knox",
          "Mikal Bridges",
          "Shai Gilgeous-Alexander",
          "Miles Bridges",
          "Jerome Robinson",
          "Michael Porter Jr.",
          "Troy Brown Jr.",
          "Donte DiVincenzo",
          "Lonnie Walker IV",
          "Kevin Huerter",
          "Josh Okogie",
          "Grayson Allen",
          "Chandler Hutchison",
          "Aaron Holiday",
          "Anfernee Simons",
          "Moritz Wagner",
          "Landry Shamet",
          "Robert Williams",
          "Omari Spellman",
          "Elie Okobo",
          "Jevon Carter",
          "Jalen Brunson",
          "Devonte' Graham",
          "Mitchell Robinson",
          "Gary Trent Jr.",
          "Isaac Bonga",
          "Rodions Kurucs",
          "Jarred Vanderbilt",
          "Bruce Brown",
          "Hamidou Diallo",
          "De'Anthony Melton",
          "Svi Mykhailiuk",
          "Keita Bates-Diop",
          "Chimezie Metu",
          "Shake Milton",
          "Zion Williamson",
          "Ja Morant",
          "RJ Barrett",
          "De'Andre Hunter",
          "Darius Garland",
          "Jarrett Culver",
          "Coby White",
          "Jaxson Hayes",
          "Rui Hachimura",
          "Cam Reddish",
          "Cameron Johnson",
          "P.J. Washington",
          "Tyler Herro",
          "Romeo Langford",
          "Sekou Doumbouya",
          "Chuma Okeke",
          "Nickeil Alexander-Walker",
          "Goga Bitadze",
          "Matisse Thybulle",
          "Brandon Clarke",
          "Grant Williams",
          "Darius Bazley",
          "Ty Jerome",
          "Nassir Little",
          "Dylan Windler",
          "Jordan Poole",
          "Keldon Johnson",
          "Kevin Porter Jr.",
          "Nic Claxton",
          "KZ Okpala",
          "Bruno Fernando",
          "Cody Martin",
          "Daniel Gafford",
          "Eric Paschall",
          "Admiral Schofield",
          "Jaylen Nowell",
          "Bol Bol",
          "Isaiah Roby",
          "Talen Horton-Tucker",
          "Terance Mann",
          "Jalen McDaniels",
          "Anthony Edwards",
          "James Wiseman",
          "LaMelo Ball",
          "Patrick Williams",
          "Isaac Okoro",
          "Onyeka Okongwu",
          "Killian Hayes",
          "Obi Toppin",
          "Deni Avdija",
          "Jalen Smith",
          "Devin Vassell",
          "Tyrese Haliburton",
          "Kira Lewis Jr.",
          "Aaron Nesmith",
          "Cole Anthony",
          "Isaiah Stewart",
          "Aleksej Pokusevski",
          "Josh Green",
          "Saddiq Bey",
          "Precious Achiuwa",
          "Tyrese Maxey",
          "Zeke Nnaji",
          "R.J. Hampton",
          "Immanuel Quickley",
          "Payton Pritchard",
          "Jaden McDaniels",
          "Malachi Flynn",
          "Desmond Bane",
          "Théo Maledon",
          "Xavier Tillman Sr.",
          "Saben Lee",
          "Tre Jones",
          "Nick Richards",
          "Jordan Nwora",
          "CJ Elleby",
          "Isaiah Joe",
          "Kenyon Martin Jr.",
          "Paul Reed",
          "Jalen Green",
          "Evan Mobley",
          "Scottie Barnes",
          "Jalen Suggs",
          "Josh Giddey",
          "Jonathan Kuminga",
          "Franz Wagner",
          "Davion Mitchell",
          "Ziaire Williams",
          "Chris Duarte",
          "Moses Moody",
          "Corey Kispert",
          "Alperen Şengün",
          "Trey Murphy III",
          "Tre Mann",
          "Jalen Johnson",
          "Isaiah Jackson",
          "Usman Garuba",
          "Josh Christopher",
          "Quentin Grimes",
          "Bones Hyland",
          "Cam Thomas",
          "Santi Aldama",
          "Jeremiah Robinson-Earl",
          "Herbert Jones",
          "Miles McBride",
          "JT Thor",
          "Ayo Dosunmu",
          "Kessler Edwards",
          "Dalano Banton",
          "Sandro Mamukelashvili",
          "Aaron Wiggins",
          "Jericho Sims",
          "Tari Eason"
         ],
         "legendgroup": "",
         "marker": {
          "color": "#636efa",
          "size": 12,
          "symbol": "circle"
         },
         "mode": "markers",
         "name": "",
         "orientation": "v",
         "showlegend": false,
         "type": "scatter",
         "x": [
          1,
          2,
          3,
          4,
          5,
          6,
          7,
          8,
          9,
          10,
          13,
          14,
          15,
          16,
          17,
          18,
          19,
          21,
          22,
          23,
          24,
          25,
          26,
          27,
          28,
          30,
          31,
          32,
          33,
          34,
          36,
          37,
          38,
          39,
          40,
          41,
          45,
          48,
          49,
          50,
          53,
          55,
          56,
          57,
          1,
          2,
          3,
          4,
          5,
          6,
          7,
          8,
          9,
          11,
          12,
          13,
          14,
          16,
          17,
          18,
          19,
          20,
          21,
          22,
          23,
          24,
          25,
          26,
          27,
          28,
          29,
          30,
          32,
          33,
          34,
          35,
          36,
          37,
          42,
          45,
          47,
          49,
          50,
          1,
          2,
          3,
          4,
          5,
          6,
          7,
          8,
          9,
          10,
          11,
          12,
          13,
          14,
          15,
          16,
          17,
          18,
          19,
          20,
          21,
          22,
          23,
          24,
          26,
          27,
          28,
          31,
          35,
          37,
          38,
          47,
          48,
          49,
          56,
          1,
          2,
          3,
          4,
          5,
          6,
          7,
          9,
          10,
          11,
          12,
          13,
          14,
          15,
          16,
          17,
          18,
          19,
          20,
          21,
          22,
          23,
          24,
          25,
          26,
          27,
          28,
          29,
          31,
          33,
          34,
          35,
          36,
          37,
          39,
          40,
          45,
          47,
          52,
          1,
          2,
          3,
          4,
          5,
          6,
          7,
          8,
          9,
          10,
          11,
          12,
          13,
          14,
          15,
          16,
          17,
          18,
          19,
          20,
          21,
          23,
          24,
          25,
          26,
          27,
          28,
          29,
          31,
          33,
          35,
          36,
          37,
          38,
          39,
          40,
          41,
          42,
          43,
          44,
          45,
          46,
          52,
          53,
          55,
          1,
          2,
          3,
          4,
          5,
          6,
          7,
          8,
          9,
          10,
          11,
          12,
          13,
          14,
          15,
          16,
          17,
          18,
          19,
          20,
          22,
          23,
          26,
          27,
          28,
          33,
          35,
          39,
          40,
          55,
          1,
          2,
          3,
          4,
          5,
          6,
          7,
          8,
          9,
          10,
          11,
          12,
          13,
          14,
          15,
          16,
          17,
          18,
          19,
          20,
          21,
          22,
          23,
          24,
          25,
          26,
          28,
          29,
          30,
          31,
          33,
          34,
          38,
          39,
          40,
          41,
          42,
          44,
          50,
          53,
          55,
          60,
          1,
          2,
          3,
          4,
          5,
          6,
          7,
          8,
          9,
          10,
          11,
          12,
          13,
          14,
          15,
          17,
          18,
          19,
          20,
          21,
          23,
          24,
          25,
          26,
          28,
          29,
          30,
          31,
          32,
          33,
          34,
          35,
          36,
          37,
          39,
          40,
          42,
          43,
          45,
          46,
          49,
          58,
          60,
          1,
          2,
          3,
          4,
          5,
          6,
          7,
          8,
          9,
          10,
          11,
          12,
          13,
          14,
          15,
          16,
          17,
          18,
          19,
          20,
          21,
          22,
          23,
          24,
          25,
          26,
          27,
          29,
          31,
          32,
          34,
          36,
          38,
          39,
          44,
          47,
          48,
          50,
          52,
          55,
          1,
          2,
          3,
          4,
          5,
          6,
          7,
          8,
          9,
          10,
          11,
          12,
          13,
          14,
          15,
          16,
          17,
          18,
          19,
          20,
          23,
          24,
          25,
          26,
          27,
          30,
          32,
          33,
          36,
          38,
          39,
          40,
          41,
          44,
          45,
          46,
          51,
          58,
          1,
          2,
          3,
          4,
          5,
          6,
          7,
          8,
          9,
          10,
          11,
          12,
          13,
          14,
          15,
          16,
          17,
          18,
          19,
          20,
          21,
          22,
          23,
          24,
          25,
          27,
          30,
          31,
          32,
          35,
          37,
          38,
          40,
          41,
          43,
          44,
          46,
          1,
          2,
          3,
          4,
          5,
          6,
          7,
          8,
          9,
          10,
          11,
          12,
          14,
          15,
          18,
          19,
          20,
          21,
          23,
          24,
          26,
          27,
          28,
          29,
          30,
          31,
          32,
          33,
          34,
          36,
          38,
          42,
          47,
          48,
          50,
          58,
          60,
          1,
          2,
          3,
          4,
          5,
          6,
          7,
          8,
          9,
          10,
          11,
          12,
          13,
          14,
          15,
          17,
          18,
          19,
          20,
          21,
          22,
          23,
          27,
          28,
          29,
          30,
          31,
          32,
          33,
          34,
          35,
          37,
          38,
          40,
          41,
          42,
          43,
          44,
          45,
          46,
          48,
          49,
          51,
          52,
          1,
          2,
          3,
          4,
          5,
          6,
          7,
          8,
          9,
          10,
          11,
          12,
          13,
          14,
          15,
          17,
          18,
          19,
          20,
          21,
          22,
          23,
          24,
          25,
          26,
          27,
          30,
          31,
          32,
          33,
          34,
          36,
          37,
          39,
          40,
          41,
          42,
          45,
          46,
          47,
          48,
          49,
          54,
          1,
          2,
          3,
          4,
          5,
          6,
          7,
          8,
          9,
          10,
          11,
          12,
          13,
          14,
          15,
          16,
          17,
          18,
          20,
          21,
          22,
          23,
          24,
          25,
          26,
          28,
          29,
          30,
          31,
          32,
          34,
          36,
          38,
          41,
          42,
          43,
          44,
          45,
          46,
          48,
          52,
          1,
          2,
          3,
          4,
          5,
          6,
          7,
          8,
          9,
          10,
          11,
          12,
          13,
          14,
          15,
          16,
          17,
          18,
          19,
          20,
          21,
          22,
          24,
          25,
          26,
          28,
          29,
          30,
          34,
          35,
          38,
          41,
          42,
          45,
          46,
          49,
          52,
          58,
          2,
          3,
          4,
          5,
          6,
          7,
          8,
          9,
          10,
          13,
          14,
          15,
          16,
          17,
          18,
          20,
          22,
          23,
          24,
          25,
          26,
          27,
          30,
          32,
          35,
          36,
          37,
          38,
          44,
          46,
          54,
          55,
          58,
          17
         ],
         "xaxis": "x",
         "y": [
          0.122,
          0.104,
          0.129,
          0.236,
          0.067,
          0.085,
          0.08,
          0.094,
          0.112,
          0.168,
          0.068,
          0.035,
          0.026,
          0.061,
          0.126,
          0.068,
          0.092,
          0.096,
          0.073,
          0.074,
          0.09,
          0.037,
          0.086,
          0.08,
          0.121,
          0.15,
          0.04,
          0.024,
          0.125,
          0.084,
          0.124,
          0.115,
          0.102,
          0.064,
          0.069,
          -0.007,
          0.116,
          0.062,
          0.074,
          0.069,
          -0.022,
          0.106,
          0.145,
          0.142,
          0.057,
          0.153,
          -0.021,
          0.078,
          0.085,
          0.155,
          0.058,
          0.085,
          0.046,
          0.128,
          0.055,
          0.099,
          0.127,
          0.064,
          0.06,
          0.025,
          -0.093,
          0.113,
          0.104,
          -0.001,
          0.097,
          0.151,
          0.06,
          0.068,
          0.039,
          -0.089,
          -0.027,
          0.084,
          0.123,
          0.078,
          0.035,
          0.084,
          0.113,
          0.06,
          0.082,
          0.056,
          0.15,
          0.174,
          0.081,
          0.174,
          0.215,
          0.157,
          0.136,
          0.079,
          0.025,
          0.058,
          0.181,
          0.159,
          0.07,
          0.032,
          0.104,
          0.061,
          0.035,
          0.077,
          0.054,
          0.073,
          0.075,
          0.002,
          0.067,
          0.039,
          0.103,
          0.069,
          0.114,
          0.069,
          0.077,
          0.178,
          0.149,
          0.082,
          0.107,
          0.038,
          0.037,
          0.143,
          0.077,
          0.086,
          0.098,
          0.054,
          0.062,
          0.139,
          0.166,
          0.141,
          0.071,
          0.1,
          0.133,
          0.072,
          0.077,
          0.051,
          0.072,
          0.114,
          0.116,
          0.105,
          0.144,
          0.088,
          0.093,
          0.134,
          0.086,
          0.12,
          0.139,
          0.108,
          0.139,
          0.066,
          0.017,
          0.087,
          0.134,
          0.092,
          0.09,
          0.172,
          0.109,
          0.078,
          0.001,
          0.059,
          0.106,
          0.079,
          0.059,
          0.16,
          0.099,
          0.218,
          0.075,
          0.098,
          -0.015,
          0.203,
          0.102,
          0.125,
          0.085,
          -0.004,
          0.063,
          0.134,
          0.038,
          0.053,
          0.085,
          0.101,
          0.126,
          0.113,
          0.041,
          0.115,
          0.078,
          0.008,
          0.079,
          0.128,
          0.104,
          0.063,
          0.077,
          0.131,
          0.08,
          -0.008,
          0.063,
          0.129,
          0.113,
          0.109,
          0.085,
          0.096,
          0.111,
          0.085,
          0.083,
          0.063,
          0.113,
          0.058,
          0.081,
          0.098,
          0.094,
          0.051,
          0.15,
          0.038,
          0.115,
          0.088,
          0.137,
          0.075,
          0.122,
          0.146,
          0.135,
          0.013,
          0.151,
          0.102,
          0.107,
          0.065,
          0.044,
          0.105,
          0.045,
          0.037,
          0.024,
          0.116,
          0.084,
          0.044,
          0.064,
          0.197,
          0.104,
          0.084,
          0.066,
          0.15,
          0.165,
          0.076,
          0.157,
          0.117,
          0.175,
          0.078,
          0.096,
          0.042,
          0.116,
          0.033,
          0.105,
          0.089,
          0.073,
          0.087,
          0.219,
          0.126,
          0.054,
          0.042,
          0.118,
          0.075,
          -0.047,
          0.159,
          0.129,
          0.083,
          0.046,
          0.069,
          0.018,
          0.084,
          0.203,
          0.09,
          0.062,
          0.059,
          0.105,
          0.014,
          0.107,
          -0.01,
          0.108,
          0.017,
          0.096,
          0.04,
          0.057,
          0.14,
          0.212,
          0.092,
          0.104,
          0.036,
          0.053,
          0.177,
          0.093,
          0.067,
          0.153,
          0.043,
          0.104,
          0.108,
          0.015,
          0.113,
          0.079,
          0.113,
          0.127,
          0.045,
          0.078,
          0.113,
          0.065,
          0.017,
          -0.021,
          0.09,
          0.048,
          -0.045,
          0.119,
          0.024,
          0.1,
          0.117,
          0.105,
          0.126,
          0.059,
          0.078,
          0.117,
          0.074,
          0.005,
          0.088,
          0.091,
          0.059,
          0.128,
          0.066,
          0.042,
          0.013,
          0.076,
          0.132,
          0.14,
          0.096,
          0.132,
          0.035,
          0.084,
          0.06,
          0.101,
          0.032,
          0.15,
          0.124,
          0.085,
          0.197,
          0.165,
          0.068,
          0.044,
          0.036,
          0.068,
          0.117,
          0.149,
          0.059,
          0.075,
          0.082,
          0.089,
          0.221,
          0.022,
          0.072,
          0.086,
          0.043,
          0.035,
          0.028,
          0.157,
          0.12,
          0.082,
          0.046,
          0.097,
          -0.007,
          0.089,
          0.057,
          0.078,
          0.215,
          0.098,
          0.032,
          0.092,
          0.1,
          0.028,
          0.077,
          0.057,
          0.079,
          0.089,
          0.082,
          0.097,
          -0.019,
          0.111,
          0.046,
          0.026,
          0.076,
          0.054,
          0.076,
          0.065,
          0.201,
          0.021,
          0.086,
          0.123,
          0.03,
          0.092,
          0.006,
          0.107,
          0.092,
          0.071,
          0.247,
          0.029,
          0.185,
          0.062,
          0.067,
          0.048,
          0.189,
          0.063,
          0.071,
          0.133,
          0.025,
          0.121,
          -0.001,
          0.037,
          0.094,
          0.044,
          0.129,
          0.086,
          0.096,
          0.075,
          0.068,
          0.084,
          -0.017,
          0.083,
          0.08,
          0.13,
          0.072,
          0.109,
          0.091,
          0.116,
          0.053,
          0.129,
          0.175,
          0.053,
          0.195,
          0.152,
          0.159,
          0.016,
          0.084,
          0.108,
          0.016,
          0.051,
          0.1,
          0.15,
          0.078,
          0.101,
          0.006,
          0.043,
          0.064,
          0.1,
          0.058,
          0.162,
          0.087,
          0.156,
          0.046,
          0.044,
          0.08,
          0.023,
          0.062,
          0.071,
          0.038,
          0.11,
          0.043,
          0.068,
          0.136,
          0.081,
          0.093,
          0.143,
          0.131,
          0.175,
          0.139,
          0.008,
          0.122,
          0.062,
          -0.025,
          0.059,
          -0.001,
          0.085,
          0.052,
          0.003,
          0.069,
          0.067,
          0.147,
          -0.012,
          0.087,
          0.093,
          0.112,
          0.004,
          0.004,
          0.076,
          0.053,
          0.102,
          0.129,
          0.168,
          0.052,
          0.075,
          0.104,
          0.146,
          0.079,
          0.053,
          0.189,
          0.102,
          0.057,
          0.181,
          0.119,
          0.099,
          0.031,
          0.054,
          0.053,
          0.035,
          0.125,
          0.061,
          0.121,
          0.01,
          0.031,
          0.168,
          0.162,
          0.034,
          0.033,
          0.071,
          0.032,
          0.087,
          0.124,
          0.069,
          0.16,
          0.087,
          0.166,
          0.128,
          0.132,
          0.122,
          0.12,
          0.045,
          0.003,
          0.122,
          0.137,
          0.091,
          -0.003,
          0.137,
          0.063,
          0.097,
          0.033,
          0.067,
          0.062,
          0.102,
          0.03,
          0.051,
          0.047,
          0.11,
          0.082,
          0.249,
          0.068,
          0.014,
          0.077,
          0.135,
          0.075,
          0.213,
          0.087,
          0.044,
          0.052,
          0.137,
          0.095,
          0.06,
          0.082,
          0.038,
          0.076,
          0.074,
          0.089,
          0.187,
          0.119,
          0.043,
          0.041,
          0.078,
          -0.001,
          0.058,
          0.165,
          0.061,
          0.022,
          0.123,
          0.065,
          0.066,
          0.043,
          -0.013,
          0.059,
          0.021,
          0.116,
          0.096,
          0.189,
          0.096,
          0.025,
          0.069,
          0.059,
          0.064,
          0.068,
          0.075,
          0.032,
          0.18,
          0.05,
          0.067,
          0.078,
          0.188,
          0.078,
          0.046,
          0.074,
          0.065,
          0.068,
          0.046,
          0.118,
          0.073,
          0.056,
          0.06,
          0.098,
          0.069,
          0.077,
          0.184,
          -0.013,
          0.122,
          0.054,
          0.104,
          0.07,
          0.138,
          0.043,
          0.055,
          0.052,
          0.097,
          -0.009,
          0.087,
          0.079,
          0.081,
          0.125,
          0.112,
          0.014,
          0.126,
          0.102,
          0.069,
          0.052,
          0.136,
          0.005,
          0.143,
          0.084,
          0.094,
          0.151,
          0.045,
          0.018,
          0.098,
          0.096,
          0.185,
          0.025,
          0.131,
          0.106,
          -0.005,
          0.051,
          0.102,
          0.089,
          0.022,
          0.06,
          0.017,
          0.087,
          0.075,
          0.096,
          0.138,
          0.011,
          0.09,
          0.125,
          0.093,
          0.006,
          0.102,
          0.076,
          0.04,
          0.115,
          0.085,
          0.099,
          0.042,
          0.019,
          0.068,
          0.036,
          0.04,
          0.091,
          0.074,
          0.143,
          0.07
         ],
         "yaxis": "y"
        },
        {
         "hovertemplate": "<b>%{hovertext}</b><br><br>Pk=%{x}<br>WS/48=%{y}<extra></extra>",
         "hovertext": [
          1,
          2,
          3,
          4,
          5,
          6,
          7,
          8,
          9,
          10,
          11,
          12,
          13,
          14,
          15,
          16,
          17,
          18,
          19,
          20,
          21,
          22,
          23,
          24,
          25,
          26,
          27,
          28,
          29,
          30,
          31,
          32,
          33,
          34,
          35,
          36,
          37,
          38,
          39,
          40,
          41,
          42,
          43,
          44,
          45,
          46,
          47,
          48,
          49,
          50,
          51,
          52,
          53,
          54,
          55,
          56,
          57,
          58,
          59,
          60
         ],
         "legendgroup": "",
         "marker": {
          "color": "yellow",
          "size": 12,
          "symbol": "circle"
         },
         "mode": "markers",
         "name": "",
         "orientation": "v",
         "showlegend": false,
         "type": "scatter",
         "x": [
          1,
          2,
          3,
          4,
          5,
          6,
          7,
          8,
          9,
          10,
          11,
          12,
          13,
          14,
          15,
          16,
          17,
          18,
          19,
          20,
          21,
          22,
          23,
          24,
          25,
          26,
          27,
          28,
          29,
          30,
          31,
          32,
          33,
          34,
          35,
          36,
          37,
          38,
          39,
          40,
          41,
          42,
          43,
          44,
          45,
          46,
          47,
          48,
          49,
          50,
          51,
          52,
          53,
          54,
          55,
          56,
          57,
          58,
          59,
          60
         ],
         "xaxis": "x",
         "y": [
          0.111,
          0.078,
          0.11649999999999999,
          0.09172222222222222,
          0.0778888888888889,
          0.09055555555555556,
          0.08005555555555556,
          0.07605555555555556,
          0.08194444444444444,
          0.07611111111111112,
          0.07061111111111112,
          0.07583333333333334,
          0.07661111111111112,
          0.08072222222222222,
          0.07766666666666666,
          0.07327777777777778,
          0.06316666666666666,
          0.07466666666666667,
          0.06055555555555556,
          0.06855555555555555,
          0.07261111111111111,
          0.08594444444444443,
          0.07500000000000001,
          0.06372222222222222,
          0.058333333333333334,
          0.06416666666666666,
          0.09561111111111112,
          0.050555555555555555,
          0.05405555555555555,
          0.07344444444444445,
          0.05088888888888889,
          0.05538888888888889,
          0.07905555555555556,
          0.033166666666666664,
          0.05238888888888889,
          0.05311111111111111,
          0.04616666666666666,
          0.05155555555555555,
          0.022166666666666668,
          0.0016111111111111124,
          0.04722222222222223,
          0.04744444444444445,
          -0.05694444444444445,
          0.003888888888888891,
          0.03927777777777778,
          0.020277777777777777,
          -0.03344444444444445,
          0.018555555555555554,
          0.004833333333333334,
          -0.0033333333333333322,
          -0.07033333333333333,
          0.026055555555555557,
          -0.016722222222222225,
          -0.026611111111111113,
          -0.035055555555555555,
          0.008944444444444444,
          -0.04688888888888889,
          0.012611111111111111,
          -0.05870588235294118,
          -0.02341176470588235
         ],
         "yaxis": "y"
        }
       ],
       "layout": {
        "legend": {
         "tracegroupgap": 0
        },
        "margin": {
         "t": 60
        },
        "template": {
         "data": {
          "bar": [
           {
            "error_x": {
             "color": "#2a3f5f"
            },
            "error_y": {
             "color": "#2a3f5f"
            },
            "marker": {
             "line": {
              "color": "#E5ECF6",
              "width": 0.5
             },
             "pattern": {
              "fillmode": "overlay",
              "size": 10,
              "solidity": 0.2
             }
            },
            "type": "bar"
           }
          ],
          "barpolar": [
           {
            "marker": {
             "line": {
              "color": "#E5ECF6",
              "width": 0.5
             },
             "pattern": {
              "fillmode": "overlay",
              "size": 10,
              "solidity": 0.2
             }
            },
            "type": "barpolar"
           }
          ],
          "carpet": [
           {
            "aaxis": {
             "endlinecolor": "#2a3f5f",
             "gridcolor": "white",
             "linecolor": "white",
             "minorgridcolor": "white",
             "startlinecolor": "#2a3f5f"
            },
            "baxis": {
             "endlinecolor": "#2a3f5f",
             "gridcolor": "white",
             "linecolor": "white",
             "minorgridcolor": "white",
             "startlinecolor": "#2a3f5f"
            },
            "type": "carpet"
           }
          ],
          "choropleth": [
           {
            "colorbar": {
             "outlinewidth": 0,
             "ticks": ""
            },
            "type": "choropleth"
           }
          ],
          "contour": [
           {
            "colorbar": {
             "outlinewidth": 0,
             "ticks": ""
            },
            "colorscale": [
             [
              0,
              "#0d0887"
             ],
             [
              0.1111111111111111,
              "#46039f"
             ],
             [
              0.2222222222222222,
              "#7201a8"
             ],
             [
              0.3333333333333333,
              "#9c179e"
             ],
             [
              0.4444444444444444,
              "#bd3786"
             ],
             [
              0.5555555555555556,
              "#d8576b"
             ],
             [
              0.6666666666666666,
              "#ed7953"
             ],
             [
              0.7777777777777778,
              "#fb9f3a"
             ],
             [
              0.8888888888888888,
              "#fdca26"
             ],
             [
              1,
              "#f0f921"
             ]
            ],
            "type": "contour"
           }
          ],
          "contourcarpet": [
           {
            "colorbar": {
             "outlinewidth": 0,
             "ticks": ""
            },
            "type": "contourcarpet"
           }
          ],
          "heatmap": [
           {
            "colorbar": {
             "outlinewidth": 0,
             "ticks": ""
            },
            "colorscale": [
             [
              0,
              "#0d0887"
             ],
             [
              0.1111111111111111,
              "#46039f"
             ],
             [
              0.2222222222222222,
              "#7201a8"
             ],
             [
              0.3333333333333333,
              "#9c179e"
             ],
             [
              0.4444444444444444,
              "#bd3786"
             ],
             [
              0.5555555555555556,
              "#d8576b"
             ],
             [
              0.6666666666666666,
              "#ed7953"
             ],
             [
              0.7777777777777778,
              "#fb9f3a"
             ],
             [
              0.8888888888888888,
              "#fdca26"
             ],
             [
              1,
              "#f0f921"
             ]
            ],
            "type": "heatmap"
           }
          ],
          "heatmapgl": [
           {
            "colorbar": {
             "outlinewidth": 0,
             "ticks": ""
            },
            "colorscale": [
             [
              0,
              "#0d0887"
             ],
             [
              0.1111111111111111,
              "#46039f"
             ],
             [
              0.2222222222222222,
              "#7201a8"
             ],
             [
              0.3333333333333333,
              "#9c179e"
             ],
             [
              0.4444444444444444,
              "#bd3786"
             ],
             [
              0.5555555555555556,
              "#d8576b"
             ],
             [
              0.6666666666666666,
              "#ed7953"
             ],
             [
              0.7777777777777778,
              "#fb9f3a"
             ],
             [
              0.8888888888888888,
              "#fdca26"
             ],
             [
              1,
              "#f0f921"
             ]
            ],
            "type": "heatmapgl"
           }
          ],
          "histogram": [
           {
            "marker": {
             "pattern": {
              "fillmode": "overlay",
              "size": 10,
              "solidity": 0.2
             }
            },
            "type": "histogram"
           }
          ],
          "histogram2d": [
           {
            "colorbar": {
             "outlinewidth": 0,
             "ticks": ""
            },
            "colorscale": [
             [
              0,
              "#0d0887"
             ],
             [
              0.1111111111111111,
              "#46039f"
             ],
             [
              0.2222222222222222,
              "#7201a8"
             ],
             [
              0.3333333333333333,
              "#9c179e"
             ],
             [
              0.4444444444444444,
              "#bd3786"
             ],
             [
              0.5555555555555556,
              "#d8576b"
             ],
             [
              0.6666666666666666,
              "#ed7953"
             ],
             [
              0.7777777777777778,
              "#fb9f3a"
             ],
             [
              0.8888888888888888,
              "#fdca26"
             ],
             [
              1,
              "#f0f921"
             ]
            ],
            "type": "histogram2d"
           }
          ],
          "histogram2dcontour": [
           {
            "colorbar": {
             "outlinewidth": 0,
             "ticks": ""
            },
            "colorscale": [
             [
              0,
              "#0d0887"
             ],
             [
              0.1111111111111111,
              "#46039f"
             ],
             [
              0.2222222222222222,
              "#7201a8"
             ],
             [
              0.3333333333333333,
              "#9c179e"
             ],
             [
              0.4444444444444444,
              "#bd3786"
             ],
             [
              0.5555555555555556,
              "#d8576b"
             ],
             [
              0.6666666666666666,
              "#ed7953"
             ],
             [
              0.7777777777777778,
              "#fb9f3a"
             ],
             [
              0.8888888888888888,
              "#fdca26"
             ],
             [
              1,
              "#f0f921"
             ]
            ],
            "type": "histogram2dcontour"
           }
          ],
          "mesh3d": [
           {
            "colorbar": {
             "outlinewidth": 0,
             "ticks": ""
            },
            "type": "mesh3d"
           }
          ],
          "parcoords": [
           {
            "line": {
             "colorbar": {
              "outlinewidth": 0,
              "ticks": ""
             }
            },
            "type": "parcoords"
           }
          ],
          "pie": [
           {
            "automargin": true,
            "type": "pie"
           }
          ],
          "scatter": [
           {
            "fillpattern": {
             "fillmode": "overlay",
             "size": 10,
             "solidity": 0.2
            },
            "type": "scatter"
           }
          ],
          "scatter3d": [
           {
            "line": {
             "colorbar": {
              "outlinewidth": 0,
              "ticks": ""
             }
            },
            "marker": {
             "colorbar": {
              "outlinewidth": 0,
              "ticks": ""
             }
            },
            "type": "scatter3d"
           }
          ],
          "scattercarpet": [
           {
            "marker": {
             "colorbar": {
              "outlinewidth": 0,
              "ticks": ""
             }
            },
            "type": "scattercarpet"
           }
          ],
          "scattergeo": [
           {
            "marker": {
             "colorbar": {
              "outlinewidth": 0,
              "ticks": ""
             }
            },
            "type": "scattergeo"
           }
          ],
          "scattergl": [
           {
            "marker": {
             "colorbar": {
              "outlinewidth": 0,
              "ticks": ""
             }
            },
            "type": "scattergl"
           }
          ],
          "scattermapbox": [
           {
            "marker": {
             "colorbar": {
              "outlinewidth": 0,
              "ticks": ""
             }
            },
            "type": "scattermapbox"
           }
          ],
          "scatterpolar": [
           {
            "marker": {
             "colorbar": {
              "outlinewidth": 0,
              "ticks": ""
             }
            },
            "type": "scatterpolar"
           }
          ],
          "scatterpolargl": [
           {
            "marker": {
             "colorbar": {
              "outlinewidth": 0,
              "ticks": ""
             }
            },
            "type": "scatterpolargl"
           }
          ],
          "scatterternary": [
           {
            "marker": {
             "colorbar": {
              "outlinewidth": 0,
              "ticks": ""
             }
            },
            "type": "scatterternary"
           }
          ],
          "surface": [
           {
            "colorbar": {
             "outlinewidth": 0,
             "ticks": ""
            },
            "colorscale": [
             [
              0,
              "#0d0887"
             ],
             [
              0.1111111111111111,
              "#46039f"
             ],
             [
              0.2222222222222222,
              "#7201a8"
             ],
             [
              0.3333333333333333,
              "#9c179e"
             ],
             [
              0.4444444444444444,
              "#bd3786"
             ],
             [
              0.5555555555555556,
              "#d8576b"
             ],
             [
              0.6666666666666666,
              "#ed7953"
             ],
             [
              0.7777777777777778,
              "#fb9f3a"
             ],
             [
              0.8888888888888888,
              "#fdca26"
             ],
             [
              1,
              "#f0f921"
             ]
            ],
            "type": "surface"
           }
          ],
          "table": [
           {
            "cells": {
             "fill": {
              "color": "#EBF0F8"
             },
             "line": {
              "color": "white"
             }
            },
            "header": {
             "fill": {
              "color": "#C8D4E3"
             },
             "line": {
              "color": "white"
             }
            },
            "type": "table"
           }
          ]
         },
         "layout": {
          "annotationdefaults": {
           "arrowcolor": "#2a3f5f",
           "arrowhead": 0,
           "arrowwidth": 1
          },
          "autotypenumbers": "strict",
          "coloraxis": {
           "colorbar": {
            "outlinewidth": 0,
            "ticks": ""
           }
          },
          "colorscale": {
           "diverging": [
            [
             0,
             "#8e0152"
            ],
            [
             0.1,
             "#c51b7d"
            ],
            [
             0.2,
             "#de77ae"
            ],
            [
             0.3,
             "#f1b6da"
            ],
            [
             0.4,
             "#fde0ef"
            ],
            [
             0.5,
             "#f7f7f7"
            ],
            [
             0.6,
             "#e6f5d0"
            ],
            [
             0.7,
             "#b8e186"
            ],
            [
             0.8,
             "#7fbc41"
            ],
            [
             0.9,
             "#4d9221"
            ],
            [
             1,
             "#276419"
            ]
           ],
           "sequential": [
            [
             0,
             "#0d0887"
            ],
            [
             0.1111111111111111,
             "#46039f"
            ],
            [
             0.2222222222222222,
             "#7201a8"
            ],
            [
             0.3333333333333333,
             "#9c179e"
            ],
            [
             0.4444444444444444,
             "#bd3786"
            ],
            [
             0.5555555555555556,
             "#d8576b"
            ],
            [
             0.6666666666666666,
             "#ed7953"
            ],
            [
             0.7777777777777778,
             "#fb9f3a"
            ],
            [
             0.8888888888888888,
             "#fdca26"
            ],
            [
             1,
             "#f0f921"
            ]
           ],
           "sequentialminus": [
            [
             0,
             "#0d0887"
            ],
            [
             0.1111111111111111,
             "#46039f"
            ],
            [
             0.2222222222222222,
             "#7201a8"
            ],
            [
             0.3333333333333333,
             "#9c179e"
            ],
            [
             0.4444444444444444,
             "#bd3786"
            ],
            [
             0.5555555555555556,
             "#d8576b"
            ],
            [
             0.6666666666666666,
             "#ed7953"
            ],
            [
             0.7777777777777778,
             "#fb9f3a"
            ],
            [
             0.8888888888888888,
             "#fdca26"
            ],
            [
             1,
             "#f0f921"
            ]
           ]
          },
          "colorway": [
           "#636efa",
           "#EF553B",
           "#00cc96",
           "#ab63fa",
           "#FFA15A",
           "#19d3f3",
           "#FF6692",
           "#B6E880",
           "#FF97FF",
           "#FECB52"
          ],
          "font": {
           "color": "#2a3f5f"
          },
          "geo": {
           "bgcolor": "white",
           "lakecolor": "white",
           "landcolor": "#E5ECF6",
           "showlakes": true,
           "showland": true,
           "subunitcolor": "white"
          },
          "hoverlabel": {
           "align": "left"
          },
          "hovermode": "closest",
          "mapbox": {
           "style": "light"
          },
          "paper_bgcolor": "white",
          "plot_bgcolor": "#E5ECF6",
          "polar": {
           "angularaxis": {
            "gridcolor": "white",
            "linecolor": "white",
            "ticks": ""
           },
           "bgcolor": "#E5ECF6",
           "radialaxis": {
            "gridcolor": "white",
            "linecolor": "white",
            "ticks": ""
           }
          },
          "scene": {
           "xaxis": {
            "backgroundcolor": "#E5ECF6",
            "gridcolor": "white",
            "gridwidth": 2,
            "linecolor": "white",
            "showbackground": true,
            "ticks": "",
            "zerolinecolor": "white"
           },
           "yaxis": {
            "backgroundcolor": "#E5ECF6",
            "gridcolor": "white",
            "gridwidth": 2,
            "linecolor": "white",
            "showbackground": true,
            "ticks": "",
            "zerolinecolor": "white"
           },
           "zaxis": {
            "backgroundcolor": "#E5ECF6",
            "gridcolor": "white",
            "gridwidth": 2,
            "linecolor": "white",
            "showbackground": true,
            "ticks": "",
            "zerolinecolor": "white"
           }
          },
          "shapedefaults": {
           "line": {
            "color": "#2a3f5f"
           }
          },
          "ternary": {
           "aaxis": {
            "gridcolor": "white",
            "linecolor": "white",
            "ticks": ""
           },
           "baxis": {
            "gridcolor": "white",
            "linecolor": "white",
            "ticks": ""
           },
           "bgcolor": "#E5ECF6",
           "caxis": {
            "gridcolor": "white",
            "linecolor": "white",
            "ticks": ""
           }
          },
          "title": {
           "x": 0.05
          },
          "xaxis": {
           "automargin": true,
           "gridcolor": "white",
           "linecolor": "white",
           "ticks": "",
           "title": {
            "standoff": 15
           },
           "zerolinecolor": "white",
           "zerolinewidth": 2
          },
          "yaxis": {
           "automargin": true,
           "gridcolor": "white",
           "linecolor": "white",
           "ticks": "",
           "title": {
            "standoff": 15
           },
           "zerolinecolor": "white",
           "zerolinewidth": 2
          }
         }
        },
        "title": {
         "text": "WS/48 vs Draft Pick for Players with at least 82 Games Played"
        },
        "xaxis": {
         "anchor": "y",
         "domain": [
          0,
          1
         ],
         "title": {
          "text": "Draft Pick"
         }
        },
        "yaxis": {
         "anchor": "x",
         "domain": [
          0,
          1
         ],
         "title": {
          "text": "WS/48"
         }
        }
       }
      }
     },
     "metadata": {},
     "output_type": "display_data"
    }
   ],
   "source": [
    "# create a combobox widget with all 'Player' values\n",
    "player_widget_total_scatter = widgets.Combobox(\n",
    "    placeholder='Choose a Player',\n",
    "    options=filtered_df['Player'].unique().tolist(),\n",
    "    description='Player:',\n",
    "    ensure_option=True,\n",
    "    disabled=False\n",
    ")\n",
    "\n",
    "# create a dropdown widget with all relevant stats\n",
    "stat_dropdown_total_scatter = widgets.Dropdown(\n",
    "    options=relevant_stats,\n",
    "    description='Select Stat:',\n",
    "    disabled=False,\n",
    ")\n",
    "\n",
    "# Define the output area to display the scatter plot\n",
    "output_total_scatter = widgets.Output()\n",
    "\n",
    "# Function to update the output area based on the selected stat\n",
    "def on_value_change_total_scatter(change):\n",
    "    clear_output()\n",
    "    output_total_scatter.clear_output()\n",
    "    selected_stat = stat_dropdown_total_scatter.value\n",
    "    selected_player = player_widget_total_scatter.value\n",
    "\n",
    "    display(player_widget_total_scatter)\n",
    "    display(stat_dropdown_total_scatter)\n",
    "    with output_total_scatter:\n",
    "        fig = px.scatter(filtered_df, x='Pk', y=selected_stat, hover_name='Player',\n",
    "                         hover_data={'Pk': True, selected_stat: True, 'Player': False, f'{selected_stat}_diff': True, f'{selected_stat}_rank': True})\n",
    "        \n",
    "        # add a yellow dot for each average in the df_avg dataframe\n",
    "        fig.add_trace(px.scatter(df_avg, x='Pk', y=selected_stat, hover_name='Pk',\n",
    "                                 hover_data={'Pk': True, selected_stat: True}, \n",
    "                                 color_discrete_sequence=['yellow']).data[0])\n",
    "        \n",
    "        if selected_player in filtered_df['Player'].values:\n",
    "            highlighted_player = filtered_df[filtered_df['Player'] == selected_player]\n",
    "            fig.add_trace(px.scatter(highlighted_player, x='Pk', y=selected_stat, hover_name='Player',\n",
    "                                    hover_data={'Pk': True, selected_stat: True, 'Player': False, f'{selected_stat}_diff': True, f'{selected_stat}_rank': True},\n",
    "                                    color_discrete_sequence=['red']).data[0])\n",
    "        fig.update_traces(marker=dict(size=12), showlegend=False)\n",
    "        fig.update_layout(title=f'{selected_stat} vs Draft Pick for Players with at least {min_games} Games Played',\n",
    "                          xaxis_title='Draft Pick', yaxis_title=selected_stat)\n",
    "        fig.show()\n",
    "    \n",
    "# Observe changes in the value of the dropdown and call the function\n",
    "stat_dropdown_total_scatter.observe(on_value_change_total_scatter, names='value')\n",
    "player_widget_total_scatter.observe(on_value_change_total_scatter, names='value')\n",
    "\n",
    "# Display the dropdown and the output area\n",
    "display(player_widget_total_scatter)\n",
    "display(stat_dropdown_total_scatter)\n",
    "display(output_total_scatter)"
   ]
  },
  {
   "cell_type": "markdown",
   "metadata": {},
   "source": [
    "# Analysis by Team over Seasons"
   ]
  },
  {
   "cell_type": "code",
   "execution_count": 152,
   "metadata": {},
   "outputs": [],
   "source": [
    "# function to replace outdated abbreviations with the current ones\n",
    "def clean_team_names(df):\n",
    "    team_dict = {'CHH': 'CHO', 'CHA': 'CHO', 'NJN': 'BRK', 'NOH': 'NOP', 'NOK': 'NOP', 'SEA': 'OKC', 'VAN': 'MEM', 'WSB': 'WAS'}\n",
    "    df['Tm'] = df['Tm'].replace(team_dict)\n",
    "    return df"
   ]
  },
  {
   "cell_type": "code",
   "execution_count": 155,
   "metadata": {},
   "outputs": [],
   "source": [
    "# TODO: give option to weight by minutes played\n",
    "\n",
    "# group the df_career_na_filled by team and season and calculate the average\n",
    "df_team_avg_by_season = clean_team_names(df_career_na_filled).groupby(['Tm', 'Season']).mean(numeric_only=True)\n",
    "df_team_avg_by_season = df_team_avg_by_season.reset_index()"
   ]
  },
  {
   "cell_type": "code",
   "execution_count": 156,
   "metadata": {},
   "outputs": [
    {
     "data": {
      "application/vnd.jupyter.widget-view+json": {
       "model_id": "c2182e2a9c8945578d40713575624a16",
       "version_major": 2,
       "version_minor": 0
      },
      "text/plain": [
       "Dropdown(description='Select Stat:', options=('PTS', 'TRB', 'AST', 'WS', 'WS/48', 'BPM', 'VORP', 'PIE', 'OFF_R…"
      ]
     },
     "metadata": {},
     "output_type": "display_data"
    },
    {
     "data": {
      "application/vnd.jupyter.widget-view+json": {
       "model_id": "419e0f2f770a4a1099a28cfe3f97cd14",
       "version_major": 2,
       "version_minor": 0
      },
      "text/plain": [
       "Dropdown(description='Select Team:', options=('ATL', 'BOS', 'BRK', 'CHI', 'CHO', 'CLE', 'DAL', 'DEN', 'DET', '…"
      ]
     },
     "metadata": {},
     "output_type": "display_data"
    },
    {
     "data": {
      "application/vnd.jupyter.widget-view+json": {
       "model_id": "d80306f7013743a7afc97507fd9bb5ab",
       "version_major": 2,
       "version_minor": 0
      },
      "text/plain": [
       "Checkbox(value=True, description='Show Players selected by Team', indent=False)"
      ]
     },
     "metadata": {},
     "output_type": "display_data"
    },
    {
     "data": {
      "application/vnd.jupyter.widget-view+json": {
       "model_id": "51fb3b6f00744085b7e4522be96c731c",
       "version_major": 2,
       "version_minor": 0
      },
      "text/plain": [
       "Output()"
      ]
     },
     "metadata": {},
     "output_type": "display_data"
    }
   ],
   "source": [
    "# create a scatter plot with the average of each team for each season. The seasons should be the x axis and the selected relevant stat differences should be the y axis\n",
    "def create_team_scatter(selected_stat, selected_team, show_players):\n",
    "    fig = px.scatter(df_team_avg_by_season, x='Season', y=f'{selected_stat}_diff', hover_name='Tm',\n",
    "                     hover_data={'Tm': True, selected_stat: True, f'{selected_stat}_diff': True})\n",
    "    \n",
    "    # add a red dot for all stats of the selected team\n",
    "    fig.add_trace(px.scatter(df_team_avg_by_season[df_team_avg_by_season['Tm'] == selected_team], x='Season', y=f'{selected_stat}_diff', hover_name='Tm',\n",
    "                                hover_data={'Tm': True, selected_stat: True, f'{selected_stat}_diff': True},\n",
    "                                color_discrete_sequence=['red']).data[0])\n",
    "    \n",
    "    if show_players:\n",
    "        # add a yellow dot for each player of the selected team\n",
    "        fig.add_trace(px.scatter(df_career_na_filled[df_career_na_filled['Tm'] == selected_team], x='Season', y=f'{selected_stat}_diff', hover_name='Player',\n",
    "                                    hover_data={'Player': True, selected_stat: True, f'{selected_stat}_diff': True},\n",
    "                                    color_discrete_sequence=['yellow']).data[0])\n",
    "\n",
    "    fig.update_traces(marker=dict(size=12), showlegend=False)\n",
    "    fig.update_layout(title=f'{selected_stat} Difference vs Season for Teams',\n",
    "                      xaxis_title='Season', yaxis_title=f'{selected_stat} Difference')\n",
    "    fig.show()\n",
    "\n",
    "# create a dropdown widget with all relevant stats\n",
    "stat_dropdown_team_scatter = widgets.Dropdown(\n",
    "    options=relevant_stats,\n",
    "    description='Select Stat:',\n",
    "    disabled=False,\n",
    ")\n",
    "\n",
    "# create a dropdown widget with all teams\n",
    "team_dropdown_team_scatter = widgets.Dropdown(\n",
    "    options=df_team_avg_by_season['Tm'].unique().tolist(),\n",
    "    description='Select Team:',\n",
    "    disabled=False,\n",
    ")\n",
    "\n",
    "# create a checkbox widget to toggle between showing players or not\n",
    "player_checkbox_team_scatter = widgets.Checkbox(\n",
    "    value=True,\n",
    "    description='Show Players selected by Team',\n",
    "    disabled=False,\n",
    "    indent=False\n",
    ")\n",
    "\n",
    "# Define the output area to display the scatter plot\n",
    "output_team_scatter = widgets.Output()\n",
    "\n",
    "# Observe changes in the value of the dropdown and call the function\n",
    "def on_value_change_team_scatter(change):\n",
    "    clear_output()\n",
    "    output_team_scatter.clear_output()\n",
    "    selected_stat = stat_dropdown_team_scatter.value\n",
    "    selected_team = team_dropdown_team_scatter.value\n",
    "    show_players = player_checkbox_team_scatter.value\n",
    "\n",
    "    display(stat_dropdown_team_scatter)\n",
    "    display(team_dropdown_team_scatter)\n",
    "    display(player_checkbox_team_scatter)\n",
    "    with output_team_scatter:\n",
    "        create_team_scatter(selected_stat, selected_team, show_players)\n",
    "\n",
    "stat_dropdown_team_scatter.observe(on_value_change_team_scatter, names='value')\n",
    "team_dropdown_team_scatter.observe(on_value_change_team_scatter, names='value')\n",
    "player_checkbox_team_scatter.observe(on_value_change_team_scatter, names='value')\n",
    "\n",
    "# Display the dropdown and the output area\n",
    "display(stat_dropdown_team_scatter)\n",
    "display(team_dropdown_team_scatter)\n",
    "display(player_checkbox_team_scatter)\n",
    "display(output_team_scatter)"
   ]
  },
  {
   "cell_type": "markdown",
   "metadata": {},
   "source": [
    "# Analysis by Team"
   ]
  },
  {
   "cell_type": "markdown",
   "metadata": {},
   "source": [
    "Be aware that the minimum games restriction does not apply to this section."
   ]
  },
  {
   "cell_type": "code",
   "execution_count": 157,
   "metadata": {},
   "outputs": [],
   "source": [
    "# group the df_career_na_filled by team and season and calculate the average\n",
    "df_team_avg = clean_team_names(df_career_na_filled).groupby(['Tm', 'Season']).mean(numeric_only=True)\n",
    "df_team_avg = df_team_avg.reset_index()"
   ]
  },
  {
   "cell_type": "code",
   "execution_count": 158,
   "metadata": {},
   "outputs": [
    {
     "data": {
      "application/vnd.jupyter.widget-view+json": {
       "model_id": "f1b340e568ae45f39970211e37dca3e1",
       "version_major": 2,
       "version_minor": 0
      },
      "text/plain": [
       "Dropdown(description='Select Stat:', options=('PTS', 'TRB', 'AST', 'WS', 'WS/48', 'BPM', 'VORP', 'PIE', 'OFF_R…"
      ]
     },
     "metadata": {},
     "output_type": "display_data"
    },
    {
     "data": {
      "application/vnd.jupyter.widget-view+json": {
       "model_id": "80282f0454554d3198992f5304fa469d",
       "version_major": 2,
       "version_minor": 0
      },
      "text/plain": [
       "Dropdown(description='Select Team:', index=1, options=('ATL', 'BOS', 'BRK', 'CHI', 'CHO', 'CLE', 'DAL', 'DEN',…"
      ]
     },
     "metadata": {},
     "output_type": "display_data"
    },
    {
     "data": {
      "application/vnd.plotly.v1+json": {
       "config": {
        "plotlyServerURL": "https://plot.ly"
       },
       "data": [
        {
         "customdata": [
          [
           "ATL",
           4075
          ],
          [
           "ATL",
           1228.5
          ],
          [
           "ATL",
           7165
          ],
          [
           "ATL",
           5030.5
          ],
          [
           "ATL",
           78.5
          ],
          [
           "ATL",
           0
          ],
          [
           "ATL",
           2295.5
          ],
          [
           "ATL",
           4033.5
          ],
          [
           "ATL",
           231
          ],
          [
           "ATL",
           2247
          ],
          [
           "ATL",
           657.6666666666666
          ],
          [
           "ATL",
           2159.3333333333335
          ],
          [
           "ATL",
           4406.5
          ],
          [
           "ATL",
           1212.3333333333333
          ],
          [
           "ATL",
           853.5
          ],
          [
           "ATL",
           227
          ],
          [
           "ATL",
           331
          ],
          [
           "BOS",
           3888
          ],
          [
           "BOS",
           7729
          ],
          [
           "BOS",
           6928.5
          ],
          [
           "BOS",
           167.5
          ],
          [
           "BOS",
           268
          ],
          [
           "BOS",
           3766
          ],
          [
           "BOS",
           3167.5
          ],
          [
           "BOS",
           969.6666666666666
          ],
          [
           "BOS",
           446
          ],
          [
           "BOS",
           3180
          ],
          [
           "BOS",
           1913.25
          ],
          [
           "BOS",
           1337.875
          ],
          [
           "BOS",
           2784.25
          ],
          [
           "BOS",
           1534
          ],
          [
           "BOS",
           951.25
          ],
          [
           "BOS",
           1407.5
          ],
          [
           "BOS",
           0
          ],
          [
           "BOS",
           19
          ],
          [
           "BRK",
           807
          ],
          [
           "BRK",
           884.3333333333334
          ],
          [
           "BRK",
           581
          ],
          [
           "BRK",
           8352.666666666666
          ],
          [
           "BRK",
           1085
          ],
          [
           "BRK",
           3936.6666666666665
          ],
          [
           "BRK",
           155.5
          ],
          [
           "BRK",
           0
          ],
          [
           "BRK",
           6341
          ],
          [
           "BRK",
           1564.5
          ],
          [
           "BRK",
           12
          ],
          [
           "BRK",
           3869
          ],
          [
           "BRK",
           1087
          ],
          [
           "BRK",
           1207.3333333333333
          ],
          [
           "BRK",
           1668.5
          ],
          [
           "BRK",
           393.5
          ],
          [
           "CHI",
           11168
          ],
          [
           "CHI",
           2315.6666666666665
          ],
          [
           "CHI",
           6785.5
          ],
          [
           "CHI",
           7035
          ],
          [
           "CHI",
           2516
          ],
          [
           "CHI",
           5444.666666666667
          ],
          [
           "CHI",
           217
          ],
          [
           "CHI",
           1839
          ],
          [
           "CHI",
           3892
          ],
          [
           "CHI",
           6008
          ],
          [
           "CHI",
           1126.5
          ],
          [
           "CHI",
           339.5
          ],
          [
           "CHI",
           1951
          ],
          [
           "CHI",
           2684.5
          ],
          [
           "CHI",
           832
          ],
          [
           "CHI",
           1366
          ],
          [
           "CHI",
           85
          ],
          [
           "CHO",
           5837
          ],
          [
           "CHO",
           1556.5
          ],
          [
           "CHO",
           4804.5
          ],
          [
           "CHO",
           3725
          ],
          [
           "CHO",
           2294
          ],
          [
           "CHO",
           9419
          ],
          [
           "CHO",
           2278.5
          ],
          [
           "CHO",
           4300
          ],
          [
           "CHO",
           2850
          ],
          [
           "CHO",
           1815
          ],
          [
           "CHO",
           198
          ],
          [
           "CHO",
           3016.5
          ],
          [
           "CHO",
           3278
          ],
          [
           "CHO",
           1966.6666666666667
          ],
          [
           "CHO",
           1079.6666666666667
          ],
          [
           "CHO",
           111.33333333333333
          ],
          [
           "CHO",
           348.3333333333333
          ],
          [
           "CLE",
           2077.6666666666665
          ],
          [
           "CLE",
           5081
          ],
          [
           "CLE",
           3762
          ],
          [
           "CLE",
           5587.25
          ],
          [
           "CLE",
           3271.25
          ],
          [
           "CLE",
           1104.25
          ],
          [
           "CLE",
           8649
          ],
          [
           "CLE",
           1815
          ],
          [
           "CLE",
           5041
          ],
          [
           "CLE",
           2454
          ],
          [
           "CLE",
           1724
          ],
          [
           "CLE",
           2311
          ],
          [
           "CLE",
           124.5
          ],
          [
           "DAL",
           84.5
          ],
          [
           "DAL",
           35.666666666666664
          ],
          [
           "DAL",
           0
          ],
          [
           "DAL",
           699
          ],
          [
           "DAL",
           39
          ],
          [
           "DAL",
           445
          ],
          [
           "DAL",
           1436.5
          ],
          [
           "DAL",
           5021
          ],
          [
           "DAL",
           642
          ],
          [
           "DAL",
           48
          ],
          [
           "DAL",
           2791
          ],
          [
           "DAL",
           5425.666666666667
          ],
          [
           "DAL",
           44
          ],
          [
           "DAL",
           489.5
          ],
          [
           "DAL",
           42
          ],
          [
           "DEN",
           3125.6666666666665
          ],
          [
           "DEN",
           1484
          ],
          [
           "DEN",
           0
          ],
          [
           "DEN",
           5430
          ],
          [
           "DEN",
           3227.3333333333335
          ],
          [
           "DEN",
           8531
          ],
          [
           "DEN",
           5883.666666666667
          ],
          [
           "DEN",
           1649.5
          ],
          [
           "DEN",
           2648.8
          ],
          [
           "DEN",
           4733.333333333333
          ],
          [
           "DEN",
           953.6666666666666
          ],
          [
           "DEN",
           683
          ],
          [
           "DEN",
           1357
          ],
          [
           "DEN",
           360
          ],
          [
           "DET",
           3221.3333333333335
          ],
          [
           "DET",
           25
          ],
          [
           "DET",
           5461
          ],
          [
           "DET",
           405
          ],
          [
           "DET",
           2229.25
          ],
          [
           "DET",
           4201
          ],
          [
           "DET",
           2891
          ],
          [
           "DET",
           7363
          ],
          [
           "DET",
           2936.3333333333335
          ],
          [
           "DET",
           6411
          ],
          [
           "DET",
           1550.5
          ],
          [
           "DET",
           173
          ],
          [
           "DET",
           3512
          ],
          [
           "DET",
           2979
          ],
          [
           "DET",
           850.5
          ],
          [
           "DET",
           1415
          ],
          [
           "DET",
           629
          ],
          [
           "DET",
           602
          ],
          [
           "GSW",
           5417.666666666667
          ],
          [
           "GSW",
           98
          ],
          [
           "GSW",
           2871.6666666666665
          ],
          [
           "GSW",
           894.5
          ],
          [
           "GSW",
           21712
          ],
          [
           "GSW",
           1353
          ],
          [
           "GSW",
           7282
          ],
          [
           "GSW",
           4780
          ],
          [
           "GSW",
           2299
          ],
          [
           "GSW",
           1259
          ],
          [
           "GSW",
           168
          ],
          [
           "GSW",
           1964
          ],
          [
           "GSW",
           340.3333333333333
          ],
          [
           "GSW",
           924
          ],
          [
           "GSW",
           47.666666666666664
          ],
          [
           "HOU",
           2842
          ],
          [
           "HOU",
           9909.5
          ],
          [
           "HOU",
           3129.5
          ],
          [
           "HOU",
           5313.5
          ],
          [
           "HOU",
           4782
          ],
          [
           "HOU",
           6376.666666666667
          ],
          [
           "HOU",
           2745.3333333333335
          ],
          [
           "HOU",
           1913
          ],
          [
           "HOU",
           3352
          ],
          [
           "HOU",
           3657
          ],
          [
           "HOU",
           21
          ],
          [
           "HOU",
           3183.5
          ],
          [
           "HOU",
           2748
          ],
          [
           "HOU",
           1357.3333333333333
          ],
          [
           "HOU",
           885
          ],
          [
           "IND",
           4927.5
          ],
          [
           "IND",
           1104
          ],
          [
           "IND",
           2517.5
          ],
          [
           "IND",
           2202
          ],
          [
           "IND",
           7035.666666666667
          ],
          [
           "IND",
           7847.5
          ],
          [
           "IND",
           1697
          ],
          [
           "IND",
           1226.5
          ],
          [
           "IND",
           0
          ],
          [
           "IND",
           3513.5
          ],
          [
           "IND",
           4020
          ],
          [
           "IND",
           245
          ],
          [
           "IND",
           1116
          ],
          [
           "IND",
           514.5
          ],
          [
           "IND",
           88
          ],
          [
           "IND",
           528.3333333333334
          ],
          [
           "IND",
           670.3333333333334
          ],
          [
           "LAC",
           235
          ],
          [
           "LAC",
           111
          ],
          [
           "LAC",
           1763.5
          ],
          [
           "LAC",
           11125.5
          ],
          [
           "LAC",
           14513
          ],
          [
           "LAC",
           2693.5
          ],
          [
           "LAC",
           35.5
          ],
          [
           "LAC",
           93
          ],
          [
           "LAC",
           3943
          ],
          [
           "LAC",
           132
          ],
          [
           "LAC",
           502.5
          ],
          [
           "LAC",
           2203.5
          ],
          [
           "LAC",
           1078
          ],
          [
           "LAC",
           170
          ],
          [
           "LAC",
           1074
          ],
          [
           "LAC",
           59
          ],
          [
           "LAL",
           2695
          ],
          [
           "LAL",
           1955
          ],
          [
           "LAL",
           4371.666666666667
          ],
          [
           "LAL",
           9
          ],
          [
           "LAL",
           2692.6666666666665
          ],
          [
           "LAL",
           152.5
          ],
          [
           "LAL",
           156.75
          ],
          [
           "LAL",
           787
          ],
          [
           "LAL",
           981
          ],
          [
           "LAL",
           11127
          ],
          [
           "LAL",
           4193
          ],
          [
           "LAL",
           5871.5
          ],
          [
           "LAL",
           1893.5
          ],
          [
           "LAL",
           1873.5
          ],
          [
           "LAL",
           2860
          ],
          [
           "LAL",
           2027
          ],
          [
           "LAL",
           752
          ],
          [
           "LAL",
           128
          ],
          [
           "MEM",
           4947
          ],
          [
           "MEM",
           15731
          ],
          [
           "MEM",
           15019
          ],
          [
           "MEM",
           8177.5
          ],
          [
           "MEM",
           2356.3333333333335
          ],
          [
           "MEM",
           1629
          ],
          [
           "MEM",
           83
          ],
          [
           "MEM",
           1604
          ],
          [
           "MEM",
           400.3333333333333
          ],
          [
           "MEM",
           101
          ],
          [
           "MEM",
           998
          ],
          [
           "MEM",
           87
          ],
          [
           "MEM",
           3013
          ],
          [
           "MEM",
           5557
          ],
          [
           "MEM",
           27
          ],
          [
           "MEM",
           984
          ],
          [
           "MEM",
           284.6666666666667
          ],
          [
           "MIA",
           169
          ],
          [
           "MIA",
           1888.5
          ],
          [
           "MIA",
           3938
          ],
          [
           "MIA",
           2875
          ],
          [
           "MIA",
           55.75
          ],
          [
           "MIA",
           10316
          ],
          [
           "MIA",
           210
          ],
          [
           "MIA",
           423.5
          ],
          [
           "MIA",
           4376.5
          ],
          [
           "MIA",
           6146
          ],
          [
           "MIA",
           2524
          ],
          [
           "MIA",
           1476
          ],
          [
           "MIA",
           82
          ],
          [
           "MIL",
           7586
          ],
          [
           "MIL",
           184
          ],
          [
           "MIL",
           4644.5
          ],
          [
           "MIL",
           2331
          ],
          [
           "MIL",
           6394.5
          ],
          [
           "MIL",
           426
          ],
          [
           "MIL",
           1916.5
          ],
          [
           "MIL",
           1864
          ],
          [
           "MIL",
           8194.5
          ],
          [
           "MIL",
           1254.5
          ],
          [
           "MIL",
           3109
          ],
          [
           "MIL",
           2711.6666666666665
          ],
          [
           "MIL",
           524
          ],
          [
           "MIL",
           2487
          ],
          [
           "MIL",
           3008
          ],
          [
           "MIL",
           1172.5
          ],
          [
           "MIL",
           29
          ],
          [
           "MIL",
           266
          ],
          [
           "MIN",
           1304
          ],
          [
           "MIN",
           2376
          ],
          [
           "MIN",
           3616
          ],
          [
           "MIN",
           5574
          ],
          [
           "MIN",
           3805.1666666666665
          ],
          [
           "MIN",
           1950.4
          ],
          [
           "MIN",
           2820.5
          ],
          [
           "MIN",
           379
          ],
          [
           "MIN",
           1616.75
          ],
          [
           "MIN",
           3441.75
          ],
          [
           "MIN",
           5257.666666666667
          ],
          [
           "MIN",
           2285
          ],
          [
           "MIN",
           6030
          ],
          [
           "MIN",
           1790.5
          ],
          [
           "MIN",
           2108
          ],
          [
           "MIN",
           2013.6666666666667
          ],
          [
           "MIN",
           90
          ],
          [
           "NOP",
           14165
          ],
          [
           "NOP",
           364.3333333333333
          ],
          [
           "NOP",
           453.5
          ],
          [
           "NOP",
           3282
          ],
          [
           "NOP",
           8861
          ],
          [
           "NOP",
           1050
          ],
          [
           "NOP",
           265
          ],
          [
           "NOP",
           7811.333333333333
          ],
          [
           "NOP",
           3338
          ],
          [
           "NOP",
           5
          ],
          [
           "NOP",
           2939
          ],
          [
           "NOP",
           1250
          ],
          [
           "NOP",
           0
          ],
          [
           "NOP",
           1032
          ],
          [
           "NOP",
           397.75
          ],
          [
           "NOP",
           638.25
          ],
          [
           "NOP",
           75.66666666666667
          ],
          [
           "NYK",
           6354.333333333333
          ],
          [
           "NYK",
           818
          ],
          [
           "NYK",
           8463
          ],
          [
           "NYK",
           11327
          ],
          [
           "NYK",
           3232
          ],
          [
           "NYK",
           869.5
          ],
          [
           "NYK",
           3320
          ],
          [
           "NYK",
           249
          ],
          [
           "NYK",
           9168
          ],
          [
           "NYK",
           345
          ],
          [
           "NYK",
           7876
          ],
          [
           "NYK",
           1041.3333333333333
          ],
          [
           "NYK",
           2214.5
          ],
          [
           "NYK",
           2532.5
          ],
          [
           "NYK",
           727
          ],
          [
           "NYK",
           390.25
          ],
          [
           "NYK",
           98
          ],
          [
           "OKC",
           1068.6666666666667
          ],
          [
           "OKC",
           34.333333333333336
          ],
          [
           "OKC",
           12181.333333333334
          ],
          [
           "OKC",
           5919.333333333333
          ],
          [
           "OKC",
           12989.5
          ],
          [
           "OKC",
           2996.75
          ],
          [
           "OKC",
           9876
          ],
          [
           "OKC",
           488
          ],
          [
           "OKC",
           2827.3333333333335
          ],
          [
           "OKC",
           207
          ],
          [
           "OKC",
           1340
          ],
          [
           "OKC",
           924
          ],
          [
           "OKC",
           18.5
          ],
          [
           "OKC",
           2534
          ],
          [
           "OKC",
           1438.5
          ],
          [
           "OKC",
           1013.8333333333334
          ],
          [
           "OKC",
           354.75
          ],
          [
           "ORL",
           284.6666666666667
          ],
          [
           "ORL",
           4023.3333333333335
          ],
          [
           "ORL",
           0
          ],
          [
           "ORL",
           7765
          ],
          [
           "ORL",
           71.5
          ],
          [
           "ORL",
           346
          ],
          [
           "ORL",
           2134
          ],
          [
           "ORL",
           4251.5
          ],
          [
           "ORL",
           6269
          ],
          [
           "ORL",
           1142
          ],
          [
           "ORL",
           2889.6666666666665
          ],
          [
           "ORL",
           738.5
          ],
          [
           "ORL",
           1222.6666666666667
          ],
          [
           "ORL",
           1498
          ],
          [
           "ORL",
           2448
          ],
          [
           "ORL",
           1270.3333333333333
          ],
          [
           "ORL",
           815
          ],
          [
           "PHI",
           15593
          ],
          [
           "PHI",
           4994
          ],
          [
           "PHI",
           4126.75
          ],
          [
           "PHI",
           5592
          ],
          [
           "PHI",
           14876
          ],
          [
           "PHI",
           6824
          ],
          [
           "PHI",
           7923.5
          ],
          [
           "PHI",
           1668.3333333333333
          ],
          [
           "PHI",
           1372.6666666666667
          ],
          [
           "PHI",
           3458.285714285714
          ],
          [
           "PHI",
           1470.8333333333333
          ],
          [
           "PHI",
           2922
          ],
          [
           "PHI",
           829
          ],
          [
           "PHI",
           1422
          ],
          [
           "PHI",
           462.8
          ],
          [
           "PHI",
           1176.4
          ],
          [
           "PHI",
           104
          ],
          [
           "PHI",
           466
          ],
          [
           "PHO",
           7379
          ],
          [
           "PHO",
           5542
          ],
          [
           "PHO",
           846
          ],
          [
           "PHO",
           4228.5
          ],
          [
           "PHO",
           382.6666666666667
          ],
          [
           "PHO",
           0
          ],
          [
           "PHO",
           7954
          ],
          [
           "PHO",
           802
          ],
          [
           "PHO",
           1480
          ],
          [
           "PHO",
           2873
          ],
          [
           "PHO",
           6850
          ],
          [
           "PHO",
           810.25
          ],
          [
           "PHO",
           1243.6666666666667
          ],
          [
           "PHO",
           1404.5
          ],
          [
           "PHO",
           578
          ],
          [
           "PHO",
           1165
          ],
          [
           "PHO",
           425
          ],
          [
           "POR",
           2872.3333333333335
          ],
          [
           "POR",
           1250.6666666666667
          ],
          [
           "POR",
           646.4
          ],
          [
           "POR",
           1590.5
          ],
          [
           "POR",
           3119.25
          ],
          [
           "POR",
           347
          ],
          [
           "POR",
           138.5
          ],
          [
           "POR",
           7430
          ],
          [
           "POR",
           3397.75
          ],
          [
           "POR",
           2760
          ],
          [
           "POR",
           892.3333333333334
          ],
          [
           "POR",
           3450
          ],
          [
           "POR",
           1161
          ],
          [
           "POR",
           1050
          ],
          [
           "POR",
           335
          ],
          [
           "SAC",
           4323
          ],
          [
           "SAC",
           588
          ],
          [
           "SAC",
           5932
          ],
          [
           "SAC",
           1767.6666666666667
          ],
          [
           "SAC",
           4893
          ],
          [
           "SAC",
           9626
          ],
          [
           "SAC",
           4606.666666666667
          ],
          [
           "SAC",
           928.5
          ],
          [
           "SAC",
           2967.5
          ],
          [
           "SAC",
           2290
          ],
          [
           "SAC",
           3675
          ],
          [
           "SAC",
           1103
          ],
          [
           "SAC",
           3499.6666666666665
          ],
          [
           "SAC",
           3330
          ],
          [
           "SAC",
           182
          ],
          [
           "SAC",
           1604.75
          ],
          [
           "SAC",
           684
          ],
          [
           "SAC",
           698
          ],
          [
           "SAS",
           3209
          ],
          [
           "SAS",
           51
          ],
          [
           "SAS",
           943.3333333333334
          ],
          [
           "SAS",
           7371
          ],
          [
           "SAS",
           1106
          ],
          [
           "SAS",
           711
          ],
          [
           "SAS",
           2794
          ],
          [
           "SAS",
           0
          ],
          [
           "SAS",
           0
          ],
          [
           "SAS",
           1688
          ],
          [
           "SAS",
           0
          ],
          [
           "SAS",
           5508
          ],
          [
           "SAS",
           2079
          ],
          [
           "SAS",
           1898
          ],
          [
           "SAS",
           1331
          ],
          [
           "SAS",
           1649
          ],
          [
           "SAS",
           193
          ],
          [
           "SAS",
           387.25
          ],
          [
           "TOR",
           2356.5
          ],
          [
           "TOR",
           4558.333333333333
          ],
          [
           "TOR",
           6611
          ],
          [
           "TOR",
           21685
          ],
          [
           "TOR",
           4291
          ],
          [
           "TOR",
           10434
          ],
          [
           "TOR",
           3229.6666666666665
          ],
          [
           "TOR",
           147.33333333333334
          ],
          [
           "TOR",
           3321
          ],
          [
           "TOR",
           5971
          ],
          [
           "TOR",
           4268
          ],
          [
           "TOR",
           14
          ],
          [
           "TOR",
           442
          ],
          [
           "TOR",
           886.6666666666666
          ],
          [
           "TOR",
           182
          ],
          [
           "UTA",
           7320.333333333333
          ],
          [
           "UTA",
           6205.333333333333
          ],
          [
           "UTA",
           59.5
          ],
          [
           "UTA",
           1304.3333333333333
          ],
          [
           "UTA",
           570.5
          ],
          [
           "UTA",
           6533
          ],
          [
           "UTA",
           7825
          ],
          [
           "UTA",
           15
          ],
          [
           "UTA",
           2418
          ],
          [
           "UTA",
           2037.3333333333333
          ],
          [
           "UTA",
           1355
          ],
          [
           "UTA",
           1408
          ],
          [
           "UTA",
           1502.5
          ],
          [
           "UTA",
           1279.5
          ],
          [
           "UTA",
           1042
          ],
          [
           "UTA",
           423.5
          ],
          [
           "UTA",
           828
          ],
          [
           "WAS",
           5706
          ],
          [
           "WAS",
           219
          ],
          [
           "WAS",
           4566.5
          ],
          [
           "WAS",
           3900.5
          ],
          [
           "WAS",
           351
          ],
          [
           "WAS",
           5235.666666666667
          ],
          [
           "WAS",
           1399.6666666666667
          ],
          [
           "WAS",
           9033.5
          ],
          [
           "WAS",
           1947
          ],
          [
           "WAS",
           10487
          ],
          [
           "WAS",
           846
          ],
          [
           "WAS",
           974.5
          ],
          [
           "WAS",
           2620
          ],
          [
           "WAS",
           973.5
          ],
          [
           "WAS",
           1454
          ],
          [
           "WAS",
           81.5
          ]
         ],
         "hovertemplate": "<b>%{hovertext}</b><br><br>Season=%{x}<br>PTS_diff=%{y}<br>Tm=%{customdata[0]}<br>PTS=%{customdata[1]}<extra></extra>",
         "hovertext": [
          "ATL",
          "ATL",
          "ATL",
          "ATL",
          "ATL",
          "ATL",
          "ATL",
          "ATL",
          "ATL",
          "ATL",
          "ATL",
          "ATL",
          "ATL",
          "ATL",
          "ATL",
          "ATL",
          "ATL",
          "BOS",
          "BOS",
          "BOS",
          "BOS",
          "BOS",
          "BOS",
          "BOS",
          "BOS",
          "BOS",
          "BOS",
          "BOS",
          "BOS",
          "BOS",
          "BOS",
          "BOS",
          "BOS",
          "BOS",
          "BOS",
          "BRK",
          "BRK",
          "BRK",
          "BRK",
          "BRK",
          "BRK",
          "BRK",
          "BRK",
          "BRK",
          "BRK",
          "BRK",
          "BRK",
          "BRK",
          "BRK",
          "BRK",
          "BRK",
          "CHI",
          "CHI",
          "CHI",
          "CHI",
          "CHI",
          "CHI",
          "CHI",
          "CHI",
          "CHI",
          "CHI",
          "CHI",
          "CHI",
          "CHI",
          "CHI",
          "CHI",
          "CHI",
          "CHI",
          "CHO",
          "CHO",
          "CHO",
          "CHO",
          "CHO",
          "CHO",
          "CHO",
          "CHO",
          "CHO",
          "CHO",
          "CHO",
          "CHO",
          "CHO",
          "CHO",
          "CHO",
          "CHO",
          "CHO",
          "CLE",
          "CLE",
          "CLE",
          "CLE",
          "CLE",
          "CLE",
          "CLE",
          "CLE",
          "CLE",
          "CLE",
          "CLE",
          "CLE",
          "CLE",
          "DAL",
          "DAL",
          "DAL",
          "DAL",
          "DAL",
          "DAL",
          "DAL",
          "DAL",
          "DAL",
          "DAL",
          "DAL",
          "DAL",
          "DAL",
          "DAL",
          "DAL",
          "DEN",
          "DEN",
          "DEN",
          "DEN",
          "DEN",
          "DEN",
          "DEN",
          "DEN",
          "DEN",
          "DEN",
          "DEN",
          "DEN",
          "DEN",
          "DEN",
          "DET",
          "DET",
          "DET",
          "DET",
          "DET",
          "DET",
          "DET",
          "DET",
          "DET",
          "DET",
          "DET",
          "DET",
          "DET",
          "DET",
          "DET",
          "DET",
          "DET",
          "DET",
          "GSW",
          "GSW",
          "GSW",
          "GSW",
          "GSW",
          "GSW",
          "GSW",
          "GSW",
          "GSW",
          "GSW",
          "GSW",
          "GSW",
          "GSW",
          "GSW",
          "GSW",
          "HOU",
          "HOU",
          "HOU",
          "HOU",
          "HOU",
          "HOU",
          "HOU",
          "HOU",
          "HOU",
          "HOU",
          "HOU",
          "HOU",
          "HOU",
          "HOU",
          "HOU",
          "IND",
          "IND",
          "IND",
          "IND",
          "IND",
          "IND",
          "IND",
          "IND",
          "IND",
          "IND",
          "IND",
          "IND",
          "IND",
          "IND",
          "IND",
          "IND",
          "IND",
          "LAC",
          "LAC",
          "LAC",
          "LAC",
          "LAC",
          "LAC",
          "LAC",
          "LAC",
          "LAC",
          "LAC",
          "LAC",
          "LAC",
          "LAC",
          "LAC",
          "LAC",
          "LAC",
          "LAL",
          "LAL",
          "LAL",
          "LAL",
          "LAL",
          "LAL",
          "LAL",
          "LAL",
          "LAL",
          "LAL",
          "LAL",
          "LAL",
          "LAL",
          "LAL",
          "LAL",
          "LAL",
          "LAL",
          "LAL",
          "MEM",
          "MEM",
          "MEM",
          "MEM",
          "MEM",
          "MEM",
          "MEM",
          "MEM",
          "MEM",
          "MEM",
          "MEM",
          "MEM",
          "MEM",
          "MEM",
          "MEM",
          "MEM",
          "MEM",
          "MIA",
          "MIA",
          "MIA",
          "MIA",
          "MIA",
          "MIA",
          "MIA",
          "MIA",
          "MIA",
          "MIA",
          "MIA",
          "MIA",
          "MIA",
          "MIL",
          "MIL",
          "MIL",
          "MIL",
          "MIL",
          "MIL",
          "MIL",
          "MIL",
          "MIL",
          "MIL",
          "MIL",
          "MIL",
          "MIL",
          "MIL",
          "MIL",
          "MIL",
          "MIL",
          "MIL",
          "MIN",
          "MIN",
          "MIN",
          "MIN",
          "MIN",
          "MIN",
          "MIN",
          "MIN",
          "MIN",
          "MIN",
          "MIN",
          "MIN",
          "MIN",
          "MIN",
          "MIN",
          "MIN",
          "MIN",
          "NOP",
          "NOP",
          "NOP",
          "NOP",
          "NOP",
          "NOP",
          "NOP",
          "NOP",
          "NOP",
          "NOP",
          "NOP",
          "NOP",
          "NOP",
          "NOP",
          "NOP",
          "NOP",
          "NOP",
          "NYK",
          "NYK",
          "NYK",
          "NYK",
          "NYK",
          "NYK",
          "NYK",
          "NYK",
          "NYK",
          "NYK",
          "NYK",
          "NYK",
          "NYK",
          "NYK",
          "NYK",
          "NYK",
          "NYK",
          "OKC",
          "OKC",
          "OKC",
          "OKC",
          "OKC",
          "OKC",
          "OKC",
          "OKC",
          "OKC",
          "OKC",
          "OKC",
          "OKC",
          "OKC",
          "OKC",
          "OKC",
          "OKC",
          "OKC",
          "ORL",
          "ORL",
          "ORL",
          "ORL",
          "ORL",
          "ORL",
          "ORL",
          "ORL",
          "ORL",
          "ORL",
          "ORL",
          "ORL",
          "ORL",
          "ORL",
          "ORL",
          "ORL",
          "ORL",
          "PHI",
          "PHI",
          "PHI",
          "PHI",
          "PHI",
          "PHI",
          "PHI",
          "PHI",
          "PHI",
          "PHI",
          "PHI",
          "PHI",
          "PHI",
          "PHI",
          "PHI",
          "PHI",
          "PHI",
          "PHI",
          "PHO",
          "PHO",
          "PHO",
          "PHO",
          "PHO",
          "PHO",
          "PHO",
          "PHO",
          "PHO",
          "PHO",
          "PHO",
          "PHO",
          "PHO",
          "PHO",
          "PHO",
          "PHO",
          "PHO",
          "POR",
          "POR",
          "POR",
          "POR",
          "POR",
          "POR",
          "POR",
          "POR",
          "POR",
          "POR",
          "POR",
          "POR",
          "POR",
          "POR",
          "POR",
          "SAC",
          "SAC",
          "SAC",
          "SAC",
          "SAC",
          "SAC",
          "SAC",
          "SAC",
          "SAC",
          "SAC",
          "SAC",
          "SAC",
          "SAC",
          "SAC",
          "SAC",
          "SAC",
          "SAC",
          "SAC",
          "SAS",
          "SAS",
          "SAS",
          "SAS",
          "SAS",
          "SAS",
          "SAS",
          "SAS",
          "SAS",
          "SAS",
          "SAS",
          "SAS",
          "SAS",
          "SAS",
          "SAS",
          "SAS",
          "SAS",
          "SAS",
          "TOR",
          "TOR",
          "TOR",
          "TOR",
          "TOR",
          "TOR",
          "TOR",
          "TOR",
          "TOR",
          "TOR",
          "TOR",
          "TOR",
          "TOR",
          "TOR",
          "TOR",
          "UTA",
          "UTA",
          "UTA",
          "UTA",
          "UTA",
          "UTA",
          "UTA",
          "UTA",
          "UTA",
          "UTA",
          "UTA",
          "UTA",
          "UTA",
          "UTA",
          "UTA",
          "UTA",
          "UTA",
          "WAS",
          "WAS",
          "WAS",
          "WAS",
          "WAS",
          "WAS",
          "WAS",
          "WAS",
          "WAS",
          "WAS",
          "WAS",
          "WAS",
          "WAS",
          "WAS",
          "WAS",
          "WAS"
         ],
         "legendgroup": "",
         "marker": {
          "color": "#636efa",
          "size": 12,
          "symbol": "circle"
         },
         "mode": "markers",
         "name": "",
         "orientation": "v",
         "showlegend": false,
         "type": "scatter",
         "x": [
          2005,
          2006,
          2007,
          2009,
          2010,
          2011,
          2012,
          2013,
          2014,
          2015,
          2016,
          2017,
          2018,
          2019,
          2020,
          2021,
          2022,
          2005,
          2006,
          2007,
          2008,
          2009,
          2010,
          2011,
          2012,
          2013,
          2014,
          2015,
          2016,
          2017,
          2018,
          2019,
          2020,
          2021,
          2022,
          2005,
          2006,
          2007,
          2008,
          2009,
          2010,
          2011,
          2012,
          2013,
          2015,
          2016,
          2017,
          2018,
          2019,
          2020,
          2021,
          2006,
          2007,
          2008,
          2009,
          2010,
          2011,
          2012,
          2013,
          2014,
          2015,
          2016,
          2017,
          2018,
          2019,
          2020,
          2021,
          2022,
          2005,
          2006,
          2007,
          2008,
          2009,
          2011,
          2012,
          2013,
          2014,
          2015,
          2016,
          2017,
          2018,
          2019,
          2020,
          2021,
          2022,
          2006,
          2008,
          2009,
          2011,
          2012,
          2013,
          2014,
          2015,
          2018,
          2019,
          2020,
          2021,
          2022,
          2006,
          2007,
          2008,
          2009,
          2010,
          2011,
          2012,
          2013,
          2015,
          2016,
          2017,
          2018,
          2019,
          2020,
          2022,
          2005,
          2006,
          2009,
          2011,
          2012,
          2013,
          2014,
          2015,
          2016,
          2017,
          2018,
          2020,
          2021,
          2022,
          2005,
          2006,
          2007,
          2008,
          2009,
          2010,
          2011,
          2012,
          2013,
          2014,
          2015,
          2016,
          2017,
          2018,
          2019,
          2020,
          2021,
          2022,
          2005,
          2006,
          2007,
          2008,
          2009,
          2010,
          2011,
          2012,
          2015,
          2016,
          2018,
          2019,
          2020,
          2021,
          2022,
          2005,
          2006,
          2007,
          2008,
          2010,
          2011,
          2012,
          2013,
          2014,
          2015,
          2016,
          2017,
          2018,
          2021,
          2022,
          2005,
          2006,
          2008,
          2009,
          2010,
          2011,
          2012,
          2013,
          2014,
          2015,
          2016,
          2017,
          2018,
          2019,
          2020,
          2021,
          2022,
          2005,
          2006,
          2007,
          2008,
          2009,
          2010,
          2011,
          2012,
          2013,
          2014,
          2016,
          2018,
          2019,
          2020,
          2021,
          2022,
          2005,
          2006,
          2007,
          2008,
          2009,
          2010,
          2011,
          2012,
          2013,
          2014,
          2015,
          2016,
          2017,
          2018,
          2019,
          2020,
          2021,
          2022,
          2005,
          2006,
          2007,
          2008,
          2009,
          2010,
          2011,
          2012,
          2013,
          2014,
          2015,
          2016,
          2018,
          2019,
          2020,
          2021,
          2022,
          2005,
          2007,
          2008,
          2009,
          2010,
          2011,
          2012,
          2014,
          2015,
          2017,
          2019,
          2020,
          2022,
          2005,
          2006,
          2007,
          2008,
          2009,
          2010,
          2011,
          2012,
          2013,
          2014,
          2015,
          2016,
          2017,
          2018,
          2019,
          2020,
          2021,
          2022,
          2005,
          2006,
          2007,
          2008,
          2009,
          2010,
          2011,
          2012,
          2013,
          2014,
          2015,
          2016,
          2017,
          2018,
          2019,
          2020,
          2022,
          2005,
          2006,
          2007,
          2008,
          2009,
          2010,
          2011,
          2012,
          2013,
          2015,
          2016,
          2017,
          2018,
          2019,
          2020,
          2021,
          2022,
          2005,
          2006,
          2007,
          2008,
          2009,
          2010,
          2011,
          2012,
          2013,
          2014,
          2015,
          2017,
          2018,
          2019,
          2020,
          2021,
          2022,
          2005,
          2006,
          2007,
          2008,
          2009,
          2010,
          2011,
          2012,
          2013,
          2014,
          2015,
          2017,
          2018,
          2019,
          2020,
          2021,
          2022,
          2005,
          2006,
          2007,
          2008,
          2010,
          2011,
          2012,
          2013,
          2014,
          2015,
          2016,
          2017,
          2018,
          2019,
          2020,
          2021,
          2022,
          2005,
          2006,
          2007,
          2008,
          2009,
          2010,
          2011,
          2012,
          2013,
          2014,
          2015,
          2016,
          2017,
          2018,
          2019,
          2020,
          2021,
          2022,
          2005,
          2006,
          2007,
          2008,
          2009,
          2010,
          2011,
          2012,
          2013,
          2014,
          2015,
          2016,
          2017,
          2018,
          2019,
          2020,
          2021,
          2005,
          2006,
          2007,
          2008,
          2009,
          2010,
          2011,
          2012,
          2013,
          2015,
          2017,
          2018,
          2019,
          2020,
          2022,
          2005,
          2006,
          2007,
          2008,
          2009,
          2010,
          2011,
          2012,
          2013,
          2014,
          2015,
          2016,
          2017,
          2018,
          2019,
          2020,
          2021,
          2022,
          2005,
          2006,
          2007,
          2008,
          2009,
          2010,
          2011,
          2012,
          2013,
          2014,
          2015,
          2016,
          2017,
          2018,
          2019,
          2020,
          2021,
          2022,
          2005,
          2006,
          2008,
          2009,
          2010,
          2011,
          2012,
          2014,
          2015,
          2016,
          2017,
          2019,
          2020,
          2021,
          2022,
          2005,
          2006,
          2007,
          2008,
          2009,
          2010,
          2011,
          2012,
          2013,
          2014,
          2015,
          2016,
          2017,
          2018,
          2019,
          2020,
          2021,
          2005,
          2006,
          2007,
          2008,
          2009,
          2010,
          2011,
          2012,
          2013,
          2014,
          2015,
          2018,
          2019,
          2020,
          2021,
          2022
         ],
         "xaxis": "x",
         "y": [
          1098.9912854030501,
          -2742.4722222222226,
          879.7777777777778,
          2708.2499999999995,
          -1851.8055555555557,
          -1076.388888888889,
          496.0277777777778,
          1947.7777777777778,
          -2142.722222222222,
          648.0838779956428,
          -654.9999999999999,
          140.14379084967314,
          236.0694444444444,
          -2607.185185185185,
          -1726.1944444444443,
          -1415.5277777777778,
          -1608.7222222222222,
          2620.185185185185,
          873.3888888888887,
          3312.8888888888887,
          -1453.673202614379,
          75.27777777777777,
          1616,
          1600.3055555555557,
          -1139.6296296296296,
          -2802.8888888888887,
          -697.5555555555557,
          -386.625,
          -1316.8194444444443,
          154.13888888888897,
          -1854.3333333333335,
          -1166.7222222222222,
          -935.1111111111111,
          -2461.0555555555557,
          -86.55555555555556,
          -1566.7222222222222,
          -1105.8333333333333,
          -2817.1111111111113,
          4841.907407407408,
          -3130.0555555555557,
          -623.1851851851851,
          -2306.5555555555557,
          -468.3333333333333,
          3390.1666666666665,
          71.41666666666663,
          -906.6666666666666,
          1599.8333333333333,
          -1028.777777777778,
          -1700.0925925925928,
          -730.5,
          -807.8815359477125,
          6058.194444444444,
          110.81481481481482,
          2269.8055555555557,
          4144.083333333334,
          -882.1111111111113,
          3798.1851851851857,
          -1290.1666666666667,
          352.0833333333334,
          1260.8703703703704,
          3057.1666666666665,
          -935.4444444444445,
          -1853.2222222222222,
          -2952.2222222222226,
          -1311.5833333333335,
          -3001.222222222222,
          229.44444444444434,
          -2810.5,
          734.5277777777778,
          -3022.3888888888887,
          1097.4999999999998,
          748.425925925926,
          45.24074074074074,
          5720.962962962963,
          -2174.777777777778,
          -2735.8888888888887,
          -1083.5370370370372,
          -1792.388888888889,
          -2752.8333333333335,
          -58.94444444444446,
          711.1388888888889,
          -76.11111111111109,
          -2343.5,
          -1702.148148148148,
          -3173.240740740741,
          668.8518518518518,
          1201.6666666666665,
          1586.083333333333,
          1639.9166666666667,
          -369.4027777777778,
          -2666.763888888889,
          4014.5555555555557,
          -115.3055555555556,
          577.833333333333,
          -1849.5555555555557,
          -4350.166666666667,
          -6044.388888888889,
          -1425.5,
          -822.75,
          -1099.504357298475,
          -264.8888888888889,
          -1557.0555555555557,
          -763.3888888888889,
          -1055.638888888889,
          -721.8888888888889,
          2640.3333333333335,
          -1124.4166666666665,
          -1760.7222222222222,
          -2793.5,
          2713.259259259259,
          -1258.4444444444443,
          -1926.1666666666665,
          -2490.9444444444443,
          1265.611111111111,
          718.8333333333334,
          -1903.888888888889,
          2479.1666666666665,
          1844.7962962962965,
          5142.666666666666,
          3733.296296296297,
          -2012.4722222222224,
          -465.2888888888889,
          3013.055555555556,
          -384.5925925925926,
          -2267.8333333333335,
          -1175.9444444444443,
          -2752.1666666666665,
          1891.5882352941178,
          -674.2352941176471,
          2851.148148148148,
          -359.31862745098044,
          182.22222222222217,
          5.305555555555429,
          640.4629629629628,
          4747.88888888889,
          762.111111111111,
          5274.444444444444,
          -1249.3611111111113,
          -1657.3333333333333,
          -659.8888888888887,
          1886.9444444444443,
          -2366.472222222222,
          -5440.611111111111,
          -1925.0694444444446,
          -3339.4444444444443,
          2399.111111111111,
          -3262.527777777778,
          791.6666666666666,
          -1011.8333333333333,
          14856.388888888889,
          -3004,
          4859.194444444445,
          1836.5555555555554,
          -244.1111111111113,
          -1284.1111111111113,
          -1453.7777777777778,
          866.1666666666666,
          -2430.3333333333335,
          -4027.5555555555557,
          -887.4444444444445,
          -913.0555555555557,
          7099.388888888889,
          1765.388888888889,
          4108,
          1734.5,
          4040.5185185185182,
          -693.4259259259258,
          9.111111111111086,
          1698.1111111111109,
          1630.7222222222222,
          -1017.5,
          1565.6944444444443,
          939.2777777777778,
          -3159.388888888889,
          -4991.75,
          2324.083333333333,
          -1825.5833333333335,
          -329.5277777777778,
          -73.72222222222206,
          4406.185185185185,
          5315.027777777777,
          -835.9444444444443,
          -238.47222222222211,
          -468.3333333333333,
          1018.6944444444443,
          2514.472222222222,
          -1826.1944444444443,
          -697.3888888888888,
          -1334.4444444444443,
          -107.27777777777777,
          -1146.7636165577342,
          -1491.5185185185185,
          -2429.472222222222,
          -1051.2777777777778,
          -990.7777777777778,
          6720.5,
          7111.888888888889,
          364.2777777777776,
          -1239.1666666666665,
          -12.555555555555557,
          1727.2777777777778,
          -1489.7777777777778,
          -1539.25,
          -1947.833333333333,
          161.27777777777777,
          -298.3333333333333,
          -1141.7222222222222,
          -715.5555555555555,
          37.09259259259261,
          556.0833333333334,
          1926.722222222222,
          -183.72222222222223,
          1819.1023965141612,
          -331.1388888888889,
          -902.625,
          87.76470588235293,
          -95.38888888888891,
          4271.388888888889,
          105.35185185185166,
          1807.6111111111109,
          -2402.75,
          142.19444444444446,
          -4175.888888888889,
          405.2222222222222,
          -2198.8333333333335,
          -1826.388888888889,
          1067.6666666666665,
          11975.944444444445,
          7983.111111111111,
          4329.527777777777,
          -1608.6111111111113,
          -1040.7962962962963,
          -682.1666666666666,
          -611.7222222222222,
          -631.967320261438,
          -2849.8333333333335,
          -1217.7222222222222,
          -1846.2222222222224,
          -1083.4722222222222,
          -1413.7222222222226,
          -2352.1111111111113,
          -847.5000000000001,
          -1616.9629629629628,
          -1338.1666666666667,
          -30.97222222222217,
          242.30555555555534,
          2138.1045751633987,
          -1145.375,
          8380.166666666666,
          -3178.3333333333335,
          -1302.3055555555554,
          666.4444444444443,
          3098.5,
          143.33333333333354,
          -732.6666666666665,
          -3306.3333333333335,
          3117.5555555555557,
          -1446.2777777777778,
          2087.472222222222,
          -551.8055555555557,
          3134.5,
          -1362.1944444444443,
          -1793.5555555555557,
          -205.77777777777783,
          5820.777777777778,
          -1625.1805555555557,
          505.58333333333326,
          140.55555555555566,
          -1713.25,
          -911.1111111111113,
          464.8888888888887,
          -1935.5555555555557,
          -1906.8333333333333,
          -3489.0555555555557,
          -843.1944444444445,
          460.11111111111114,
          -551.3055555555557,
          1508.9629629629633,
          695.7685185185186,
          -1315.0555555555554,
          -1769.1944444444446,
          186.27777777777777,
          -523.1454248366013,
          1630.25,
          1633.4259259259259,
          -3789.166666666667,
          -825.6111111111113,
          147.97222222222229,
          -386.8055555555556,
          -2208.6666666666665,
          -1944.3055555555557,
          9713.166666666668,
          -2608.777777777778,
          -1999.1666666666665,
          -106.33333333333348,
          5748.833333333334,
          -3165.0555555555557,
          -2196.0555555555557,
          3061.055555555555,
          -1019,
          -752.0555555555555,
          150.2037037037036,
          -149.88888888888903,
          -264.8888888888889,
          -2134.5740740740744,
          -1490.3366013071895,
          -1899.013888888889,
          -2045.277777777778,
          3953.8148148148143,
          -1039.9166666666665,
          5638.611111111111,
          6970,
          -1231.166666666667,
          -513.9166666666667,
          -78.11111111111131,
          -827.3888888888889,
          5412.944444444444,
          -739.3888888888889,
          840.1111111111113,
          -720.8148148148149,
          -1345.638888888889,
          -2104.527777777778,
          -2916.777777777778,
          -1695.0694444444446,
          -2555.5555555555557,
          -334.9259259259259,
          -2474.222222222222,
          8561.018518518518,
          3366.6388888888887,
          7703.944444444444,
          795.375,
          6120.944444444444,
          -1133.7777777777778,
          548.6296296296297,
          -2102.6666666666665,
          -721.9444444444445,
          -2188.1666666666665,
          -268.44444444444446,
          -578.1666666666665,
          277.86111111111114,
          -1462.7870370370372,
          -3542.652777777778,
          -1709.388888888889,
          1915.1296296296296,
          -630.5555555555555,
          4814.166666666666,
          -692.8186274509804,
          240.44444444444446,
          -188.25,
          633.6944444444442,
          665.1111111111113,
          -2027.5277777777778,
          576.0185185185185,
          -1860.2222222222222,
          -1374.1296296296296,
          -1030.8055555555554,
          -1524.8888888888887,
          -2864.703703703704,
          -3464.0833333333335,
          13131.944444444445,
          863.2222222222226,
          1385.8194444444443,
          2343.1111111111113,
          11477.888888888889,
          -146.72222222222263,
          5897.861111111111,
          -541.4074074074074,
          -1047.8333333333333,
          880.2063492063493,
          -821.0114379084966,
          -1641.0370370370372,
          -1806.6555555555556,
          -544.1781045751634,
          -1300.0111111111112,
          -325.5444444444444,
          -739.2407407407408,
          -2358.3888888888887,
          5588.75,
          2291.75,
          -915.2309368191721,
          1703.8611111111113,
          -1148.0740740740741,
          -1253.9787581699347,
          3823.2222222222226,
          -3328.7777777777774,
          -1548.5370370370372,
          339.5694444444444,
          4469.333333333334,
          -2862.833333333333,
          -1552.4074074074072,
          -1747.325980392157,
          -2179.027777777778,
          -3876,
          -1082.1666666666667,
          -360.90740740740745,
          -2587.611111111111,
          -1417.9666666666667,
          -522.7499999999999,
          1400.7916666666665,
          -2080.3611111111113,
          -1550.0277777777778,
          4322.458333333333,
          519.8888888888888,
          -64.38888888888869,
          -2012.5,
          -305.05555555555566,
          -1054.7222222222222,
          -1478.8055555555554,
          -2618.240740740741,
          1498.6111111111113,
          -3291.3333333333335,
          891,
          -245.16666666666663,
          960.9629629629632,
          5655.027777777777,
          1436.921568627451,
          -2876.4722222222226,
          -1228.1944444444446,
          -2173.166666666667,
          -682,
          -1139.3186274509806,
          -840.0185185185186,
          -806.5833333333335,
          -1259.7450980392157,
          -225.625,
          -2923.3888888888887,
          -3471.1666666666665,
          1587.2222222222222,
          29.529411764705884,
          -284.0925925925926,
          5550.222222222223,
          548.3703703703704,
          -775.9166666666665,
          2029.6813725490194,
          -21.470588235294116,
          -907.25,
          542.9771241830065,
          -1725.8055555555554,
          4000.833333333333,
          1314.6813725490194,
          67.66666666666669,
          -719.5555555555557,
          -1198.0277777777778,
          -2632.4444444444443,
          -2399.1111111111113,
          -587.5555555555555,
          1187.4814814814815,
          3212.8888888888887,
          16100.5,
          160.22222222222263,
          4359.833333333333,
          1055.4444444444443,
          -1030.193899782135,
          1112.3333333333335,
          1484.583333333333,
          1443.6111111111113,
          -7.470588235294116,
          -322.31862745098044,
          -2477.1666666666665,
          -1685.7777777777778,
          3812.277777777778,
          4170.962962962963,
          -1507.6944444444443,
          117.50000000000007,
          -935.0277777777777,
          3281.4166666666665,
          1561.3611111111113,
          -1231.888888888889,
          -238.12962962962956,
          -1580.3148148148148,
          -464.7407407407407,
          -187.96160130718954,
          -574.7222222222223,
          -486.91666666666663,
          -422.9722222222221,
          -1838.9444444444446,
          -1715.1111111111113,
          4940.833333333333,
          -1766.9444444444443,
          2318.6111111111113,
          1829.3055555555557,
          -806.0555555555557,
          1269.4629629629628,
          -1652.4629629629628,
          4277.277777777777,
          -1282.0740740740741,
          8678.277777777777,
          -1476.25,
          -1327.2222222222222,
          -2964.5,
          -2469.972222222222,
          -2518.8888888888887,
          -2536.6388888888887
         ],
         "yaxis": "y"
        },
        {
         "customdata": [
          [
           "BOS",
           3888
          ],
          [
           "BOS",
           7729
          ],
          [
           "BOS",
           6928.5
          ],
          [
           "BOS",
           167.5
          ],
          [
           "BOS",
           268
          ],
          [
           "BOS",
           3766
          ],
          [
           "BOS",
           3167.5
          ],
          [
           "BOS",
           969.6666666666666
          ],
          [
           "BOS",
           446
          ],
          [
           "BOS",
           3180
          ],
          [
           "BOS",
           1913.25
          ],
          [
           "BOS",
           1337.875
          ],
          [
           "BOS",
           2784.25
          ],
          [
           "BOS",
           1534
          ],
          [
           "BOS",
           951.25
          ],
          [
           "BOS",
           1407.5
          ],
          [
           "BOS",
           0
          ],
          [
           "BOS",
           19
          ]
         ],
         "hovertemplate": "<b>%{hovertext}</b><br><br>Season=%{x}<br>PTS_diff=%{y}<br>Tm=%{customdata[0]}<br>PTS=%{customdata[1]}<extra></extra>",
         "hovertext": [
          "BOS",
          "BOS",
          "BOS",
          "BOS",
          "BOS",
          "BOS",
          "BOS",
          "BOS",
          "BOS",
          "BOS",
          "BOS",
          "BOS",
          "BOS",
          "BOS",
          "BOS",
          "BOS",
          "BOS",
          "BOS"
         ],
         "legendgroup": "",
         "marker": {
          "color": "red",
          "size": 12,
          "symbol": "circle"
         },
         "mode": "markers",
         "name": "",
         "orientation": "v",
         "showlegend": false,
         "type": "scatter",
         "x": [
          2005,
          2006,
          2007,
          2008,
          2009,
          2010,
          2011,
          2012,
          2013,
          2014,
          2015,
          2016,
          2017,
          2018,
          2019,
          2020,
          2021,
          2022
         ],
         "xaxis": "x",
         "y": [
          2620.185185185185,
          873.3888888888887,
          3312.8888888888887,
          -1453.673202614379,
          75.27777777777777,
          1616,
          1600.3055555555557,
          -1139.6296296296296,
          -2802.8888888888887,
          -697.5555555555557,
          -386.625,
          -1316.8194444444443,
          154.13888888888897,
          -1854.3333333333335,
          -1166.7222222222222,
          -935.1111111111111,
          -2461.0555555555557,
          -86.55555555555556
         ],
         "yaxis": "y"
        }
       ],
       "layout": {
        "legend": {
         "tracegroupgap": 0
        },
        "margin": {
         "t": 60
        },
        "template": {
         "data": {
          "bar": [
           {
            "error_x": {
             "color": "#2a3f5f"
            },
            "error_y": {
             "color": "#2a3f5f"
            },
            "marker": {
             "line": {
              "color": "#E5ECF6",
              "width": 0.5
             },
             "pattern": {
              "fillmode": "overlay",
              "size": 10,
              "solidity": 0.2
             }
            },
            "type": "bar"
           }
          ],
          "barpolar": [
           {
            "marker": {
             "line": {
              "color": "#E5ECF6",
              "width": 0.5
             },
             "pattern": {
              "fillmode": "overlay",
              "size": 10,
              "solidity": 0.2
             }
            },
            "type": "barpolar"
           }
          ],
          "carpet": [
           {
            "aaxis": {
             "endlinecolor": "#2a3f5f",
             "gridcolor": "white",
             "linecolor": "white",
             "minorgridcolor": "white",
             "startlinecolor": "#2a3f5f"
            },
            "baxis": {
             "endlinecolor": "#2a3f5f",
             "gridcolor": "white",
             "linecolor": "white",
             "minorgridcolor": "white",
             "startlinecolor": "#2a3f5f"
            },
            "type": "carpet"
           }
          ],
          "choropleth": [
           {
            "colorbar": {
             "outlinewidth": 0,
             "ticks": ""
            },
            "type": "choropleth"
           }
          ],
          "contour": [
           {
            "colorbar": {
             "outlinewidth": 0,
             "ticks": ""
            },
            "colorscale": [
             [
              0,
              "#0d0887"
             ],
             [
              0.1111111111111111,
              "#46039f"
             ],
             [
              0.2222222222222222,
              "#7201a8"
             ],
             [
              0.3333333333333333,
              "#9c179e"
             ],
             [
              0.4444444444444444,
              "#bd3786"
             ],
             [
              0.5555555555555556,
              "#d8576b"
             ],
             [
              0.6666666666666666,
              "#ed7953"
             ],
             [
              0.7777777777777778,
              "#fb9f3a"
             ],
             [
              0.8888888888888888,
              "#fdca26"
             ],
             [
              1,
              "#f0f921"
             ]
            ],
            "type": "contour"
           }
          ],
          "contourcarpet": [
           {
            "colorbar": {
             "outlinewidth": 0,
             "ticks": ""
            },
            "type": "contourcarpet"
           }
          ],
          "heatmap": [
           {
            "colorbar": {
             "outlinewidth": 0,
             "ticks": ""
            },
            "colorscale": [
             [
              0,
              "#0d0887"
             ],
             [
              0.1111111111111111,
              "#46039f"
             ],
             [
              0.2222222222222222,
              "#7201a8"
             ],
             [
              0.3333333333333333,
              "#9c179e"
             ],
             [
              0.4444444444444444,
              "#bd3786"
             ],
             [
              0.5555555555555556,
              "#d8576b"
             ],
             [
              0.6666666666666666,
              "#ed7953"
             ],
             [
              0.7777777777777778,
              "#fb9f3a"
             ],
             [
              0.8888888888888888,
              "#fdca26"
             ],
             [
              1,
              "#f0f921"
             ]
            ],
            "type": "heatmap"
           }
          ],
          "heatmapgl": [
           {
            "colorbar": {
             "outlinewidth": 0,
             "ticks": ""
            },
            "colorscale": [
             [
              0,
              "#0d0887"
             ],
             [
              0.1111111111111111,
              "#46039f"
             ],
             [
              0.2222222222222222,
              "#7201a8"
             ],
             [
              0.3333333333333333,
              "#9c179e"
             ],
             [
              0.4444444444444444,
              "#bd3786"
             ],
             [
              0.5555555555555556,
              "#d8576b"
             ],
             [
              0.6666666666666666,
              "#ed7953"
             ],
             [
              0.7777777777777778,
              "#fb9f3a"
             ],
             [
              0.8888888888888888,
              "#fdca26"
             ],
             [
              1,
              "#f0f921"
             ]
            ],
            "type": "heatmapgl"
           }
          ],
          "histogram": [
           {
            "marker": {
             "pattern": {
              "fillmode": "overlay",
              "size": 10,
              "solidity": 0.2
             }
            },
            "type": "histogram"
           }
          ],
          "histogram2d": [
           {
            "colorbar": {
             "outlinewidth": 0,
             "ticks": ""
            },
            "colorscale": [
             [
              0,
              "#0d0887"
             ],
             [
              0.1111111111111111,
              "#46039f"
             ],
             [
              0.2222222222222222,
              "#7201a8"
             ],
             [
              0.3333333333333333,
              "#9c179e"
             ],
             [
              0.4444444444444444,
              "#bd3786"
             ],
             [
              0.5555555555555556,
              "#d8576b"
             ],
             [
              0.6666666666666666,
              "#ed7953"
             ],
             [
              0.7777777777777778,
              "#fb9f3a"
             ],
             [
              0.8888888888888888,
              "#fdca26"
             ],
             [
              1,
              "#f0f921"
             ]
            ],
            "type": "histogram2d"
           }
          ],
          "histogram2dcontour": [
           {
            "colorbar": {
             "outlinewidth": 0,
             "ticks": ""
            },
            "colorscale": [
             [
              0,
              "#0d0887"
             ],
             [
              0.1111111111111111,
              "#46039f"
             ],
             [
              0.2222222222222222,
              "#7201a8"
             ],
             [
              0.3333333333333333,
              "#9c179e"
             ],
             [
              0.4444444444444444,
              "#bd3786"
             ],
             [
              0.5555555555555556,
              "#d8576b"
             ],
             [
              0.6666666666666666,
              "#ed7953"
             ],
             [
              0.7777777777777778,
              "#fb9f3a"
             ],
             [
              0.8888888888888888,
              "#fdca26"
             ],
             [
              1,
              "#f0f921"
             ]
            ],
            "type": "histogram2dcontour"
           }
          ],
          "mesh3d": [
           {
            "colorbar": {
             "outlinewidth": 0,
             "ticks": ""
            },
            "type": "mesh3d"
           }
          ],
          "parcoords": [
           {
            "line": {
             "colorbar": {
              "outlinewidth": 0,
              "ticks": ""
             }
            },
            "type": "parcoords"
           }
          ],
          "pie": [
           {
            "automargin": true,
            "type": "pie"
           }
          ],
          "scatter": [
           {
            "fillpattern": {
             "fillmode": "overlay",
             "size": 10,
             "solidity": 0.2
            },
            "type": "scatter"
           }
          ],
          "scatter3d": [
           {
            "line": {
             "colorbar": {
              "outlinewidth": 0,
              "ticks": ""
             }
            },
            "marker": {
             "colorbar": {
              "outlinewidth": 0,
              "ticks": ""
             }
            },
            "type": "scatter3d"
           }
          ],
          "scattercarpet": [
           {
            "marker": {
             "colorbar": {
              "outlinewidth": 0,
              "ticks": ""
             }
            },
            "type": "scattercarpet"
           }
          ],
          "scattergeo": [
           {
            "marker": {
             "colorbar": {
              "outlinewidth": 0,
              "ticks": ""
             }
            },
            "type": "scattergeo"
           }
          ],
          "scattergl": [
           {
            "marker": {
             "colorbar": {
              "outlinewidth": 0,
              "ticks": ""
             }
            },
            "type": "scattergl"
           }
          ],
          "scattermapbox": [
           {
            "marker": {
             "colorbar": {
              "outlinewidth": 0,
              "ticks": ""
             }
            },
            "type": "scattermapbox"
           }
          ],
          "scatterpolar": [
           {
            "marker": {
             "colorbar": {
              "outlinewidth": 0,
              "ticks": ""
             }
            },
            "type": "scatterpolar"
           }
          ],
          "scatterpolargl": [
           {
            "marker": {
             "colorbar": {
              "outlinewidth": 0,
              "ticks": ""
             }
            },
            "type": "scatterpolargl"
           }
          ],
          "scatterternary": [
           {
            "marker": {
             "colorbar": {
              "outlinewidth": 0,
              "ticks": ""
             }
            },
            "type": "scatterternary"
           }
          ],
          "surface": [
           {
            "colorbar": {
             "outlinewidth": 0,
             "ticks": ""
            },
            "colorscale": [
             [
              0,
              "#0d0887"
             ],
             [
              0.1111111111111111,
              "#46039f"
             ],
             [
              0.2222222222222222,
              "#7201a8"
             ],
             [
              0.3333333333333333,
              "#9c179e"
             ],
             [
              0.4444444444444444,
              "#bd3786"
             ],
             [
              0.5555555555555556,
              "#d8576b"
             ],
             [
              0.6666666666666666,
              "#ed7953"
             ],
             [
              0.7777777777777778,
              "#fb9f3a"
             ],
             [
              0.8888888888888888,
              "#fdca26"
             ],
             [
              1,
              "#f0f921"
             ]
            ],
            "type": "surface"
           }
          ],
          "table": [
           {
            "cells": {
             "fill": {
              "color": "#EBF0F8"
             },
             "line": {
              "color": "white"
             }
            },
            "header": {
             "fill": {
              "color": "#C8D4E3"
             },
             "line": {
              "color": "white"
             }
            },
            "type": "table"
           }
          ]
         },
         "layout": {
          "annotationdefaults": {
           "arrowcolor": "#2a3f5f",
           "arrowhead": 0,
           "arrowwidth": 1
          },
          "autotypenumbers": "strict",
          "coloraxis": {
           "colorbar": {
            "outlinewidth": 0,
            "ticks": ""
           }
          },
          "colorscale": {
           "diverging": [
            [
             0,
             "#8e0152"
            ],
            [
             0.1,
             "#c51b7d"
            ],
            [
             0.2,
             "#de77ae"
            ],
            [
             0.3,
             "#f1b6da"
            ],
            [
             0.4,
             "#fde0ef"
            ],
            [
             0.5,
             "#f7f7f7"
            ],
            [
             0.6,
             "#e6f5d0"
            ],
            [
             0.7,
             "#b8e186"
            ],
            [
             0.8,
             "#7fbc41"
            ],
            [
             0.9,
             "#4d9221"
            ],
            [
             1,
             "#276419"
            ]
           ],
           "sequential": [
            [
             0,
             "#0d0887"
            ],
            [
             0.1111111111111111,
             "#46039f"
            ],
            [
             0.2222222222222222,
             "#7201a8"
            ],
            [
             0.3333333333333333,
             "#9c179e"
            ],
            [
             0.4444444444444444,
             "#bd3786"
            ],
            [
             0.5555555555555556,
             "#d8576b"
            ],
            [
             0.6666666666666666,
             "#ed7953"
            ],
            [
             0.7777777777777778,
             "#fb9f3a"
            ],
            [
             0.8888888888888888,
             "#fdca26"
            ],
            [
             1,
             "#f0f921"
            ]
           ],
           "sequentialminus": [
            [
             0,
             "#0d0887"
            ],
            [
             0.1111111111111111,
             "#46039f"
            ],
            [
             0.2222222222222222,
             "#7201a8"
            ],
            [
             0.3333333333333333,
             "#9c179e"
            ],
            [
             0.4444444444444444,
             "#bd3786"
            ],
            [
             0.5555555555555556,
             "#d8576b"
            ],
            [
             0.6666666666666666,
             "#ed7953"
            ],
            [
             0.7777777777777778,
             "#fb9f3a"
            ],
            [
             0.8888888888888888,
             "#fdca26"
            ],
            [
             1,
             "#f0f921"
            ]
           ]
          },
          "colorway": [
           "#636efa",
           "#EF553B",
           "#00cc96",
           "#ab63fa",
           "#FFA15A",
           "#19d3f3",
           "#FF6692",
           "#B6E880",
           "#FF97FF",
           "#FECB52"
          ],
          "font": {
           "color": "#2a3f5f"
          },
          "geo": {
           "bgcolor": "white",
           "lakecolor": "white",
           "landcolor": "#E5ECF6",
           "showlakes": true,
           "showland": true,
           "subunitcolor": "white"
          },
          "hoverlabel": {
           "align": "left"
          },
          "hovermode": "closest",
          "mapbox": {
           "style": "light"
          },
          "paper_bgcolor": "white",
          "plot_bgcolor": "#E5ECF6",
          "polar": {
           "angularaxis": {
            "gridcolor": "white",
            "linecolor": "white",
            "ticks": ""
           },
           "bgcolor": "#E5ECF6",
           "radialaxis": {
            "gridcolor": "white",
            "linecolor": "white",
            "ticks": ""
           }
          },
          "scene": {
           "xaxis": {
            "backgroundcolor": "#E5ECF6",
            "gridcolor": "white",
            "gridwidth": 2,
            "linecolor": "white",
            "showbackground": true,
            "ticks": "",
            "zerolinecolor": "white"
           },
           "yaxis": {
            "backgroundcolor": "#E5ECF6",
            "gridcolor": "white",
            "gridwidth": 2,
            "linecolor": "white",
            "showbackground": true,
            "ticks": "",
            "zerolinecolor": "white"
           },
           "zaxis": {
            "backgroundcolor": "#E5ECF6",
            "gridcolor": "white",
            "gridwidth": 2,
            "linecolor": "white",
            "showbackground": true,
            "ticks": "",
            "zerolinecolor": "white"
           }
          },
          "shapedefaults": {
           "line": {
            "color": "#2a3f5f"
           }
          },
          "ternary": {
           "aaxis": {
            "gridcolor": "white",
            "linecolor": "white",
            "ticks": ""
           },
           "baxis": {
            "gridcolor": "white",
            "linecolor": "white",
            "ticks": ""
           },
           "bgcolor": "#E5ECF6",
           "caxis": {
            "gridcolor": "white",
            "linecolor": "white",
            "ticks": ""
           }
          },
          "title": {
           "x": 0.05
          },
          "xaxis": {
           "automargin": true,
           "gridcolor": "white",
           "linecolor": "white",
           "ticks": "",
           "title": {
            "standoff": 15
           },
           "zerolinecolor": "white",
           "zerolinewidth": 2
          },
          "yaxis": {
           "automargin": true,
           "gridcolor": "white",
           "linecolor": "white",
           "ticks": "",
           "title": {
            "standoff": 15
           },
           "zerolinecolor": "white",
           "zerolinewidth": 2
          }
         }
        },
        "title": {
         "text": "PTS Difference vs Season for Teams"
        },
        "xaxis": {
         "anchor": "y",
         "domain": [
          0,
          1
         ],
         "title": {
          "text": "Season"
         }
        },
        "yaxis": {
         "anchor": "x",
         "domain": [
          0,
          1
         ],
         "title": {
          "text": "PTS Difference"
         }
        }
       }
      }
     },
     "metadata": {},
     "output_type": "display_data"
    }
   ],
   "source": [
    "# create a scatter plot with the average of each team for each season. The seasons should be the x axis and the selected relevant stat differences should be the y axis\n",
    "def create_team_scatter(selected_stat, selected_team):\n",
    "    fig = px.scatter(df_team_avg, x='Season', y=f'{selected_stat}_diff', hover_name='Tm',\n",
    "                     hover_data={'Tm': True, selected_stat: True, f'{selected_stat}_diff': True})\n",
    "    \n",
    "    # add a red dot for all stats of the selected team\n",
    "    fig.add_trace(px.scatter(df_team_avg[df_team_avg['Tm'] == selected_team], x='Season', y=f'{selected_stat}_diff', hover_name='Tm',\n",
    "                                hover_data={'Tm': True, selected_stat: True, f'{selected_stat}_diff': True},\n",
    "                                color_discrete_sequence=['red']).data[0])\n",
    "    fig.update_traces(marker=dict(size=12), showlegend=False)\n",
    "    fig.update_layout(title=f'{selected_stat} Difference vs Season for Teams',\n",
    "                      xaxis_title='Season', yaxis_title=f'{selected_stat} Difference')\n",
    "    fig.show()\n",
    "\n",
    "# create a dropdown widget with all relevant stats\n",
    "stat_dropdown_team_scatter = widgets.Dropdown(\n",
    "    options=relevant_stats,\n",
    "    description='Select Stat:',\n",
    "    disabled=False,\n",
    ")\n",
    "\n",
    "# create a dropdown widget with all teams\n",
    "team_dropdown_team_scatter = widgets.Dropdown(\n",
    "    options=df_team_avg['Tm'].unique().tolist(),\n",
    "    description='Select Team:',\n",
    "    disabled=False,\n",
    ")\n",
    "\n",
    "# Define the output area to display the scatter plot\n",
    "output_team_scatter = widgets.Output()\n",
    "\n",
    "# Observe changes in the value of the dropdown and call the function\n",
    "def on_value_change_team_scatter(change):\n",
    "    clear_output()\n",
    "    output_team_scatter.clear_output()\n",
    "    selected_stat = stat_dropdown_team_scatter.value\n",
    "    selected_team = team_dropdown_team_scatter.value\n",
    "\n",
    "    display(stat_dropdown_team_scatter)\n",
    "    display(team_dropdown_team_scatter)\n",
    "    with output_team_scatter:\n",
    "        create_team_scatter(selected_stat, selected_team)\n",
    "\n",
    "stat_dropdown_team_scatter.observe(on_value_change_team_scatter, names='value')\n",
    "team_dropdown_team_scatter.observe(on_value_change_team_scatter, names='value')\n",
    "\n",
    "# Display the dropdown and the output area\n",
    "display(stat_dropdown_team_scatter)\n",
    "display(team_dropdown_team_scatter)\n",
    "display(output_team_scatter)\n",
    "\n"
   ]
  },
  {
   "cell_type": "markdown",
   "metadata": {},
   "source": [
    "# conclusions"
   ]
  }
 ],
 "metadata": {
  "kernelspec": {
   "display_name": ".nbavenv",
   "language": "python",
   "name": "python3"
  },
  "language_info": {
   "codemirror_mode": {
    "name": "ipython",
    "version": 3
   },
   "file_extension": ".py",
   "mimetype": "text/x-python",
   "name": "python",
   "nbconvert_exporter": "python",
   "pygments_lexer": "ipython3",
   "version": "3.8.0"
  },
  "orig_nbformat": 4
 },
 "nbformat": 4,
 "nbformat_minor": 2
}
