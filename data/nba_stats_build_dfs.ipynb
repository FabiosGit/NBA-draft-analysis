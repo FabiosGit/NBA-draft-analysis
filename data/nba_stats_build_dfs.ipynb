{
 "cells": [
  {
   "cell_type": "markdown",
   "metadata": {},
   "source": [
    "# NBA Draft Analysis - Which NBA team selects the best players relative to the average player at their respective draft position?\n",
    "\n",
    "## index\n",
    "1. [introduction](#introduction)\n",
    "2. \n"
   ]
  },
  {
   "cell_type": "markdown",
   "metadata": {},
   "source": [
    "## introduction\n",
    "The NBA Draft is an annual event in the National Basketball Association (NBA) where teams select eligible players to join their rosters. It typically consists of two rounds, with teams choosing players based on a predetermined order, primarily determined by the previous season's standings. The draft serves as a way for teams to acquire new talent, including young prospects from college or international leagues, and provides an opportunity for emerging basketball stars to realize their dreams of playing in the NBA.\n",
    "\n",
    "For example, in 2003, the famous basketball player LeBron James was the first overall pick by the Cleveland Cavaliers. His selection was the culmination of immense hype and anticipation, as he was considered a generational talent straight out of high school.\n",
    "\n",
    "The NBA Draft is a pivotal moment for the league's future, as it shapes the composition of teams and can have a significant impact on the sport's landscape. A team’s choice during the draft can make or break its season, it is thus crucial to have some tools to choose the best players among the available ones. With this analysis we aim to understand which team selects the best players relative to the average player at their respective draft position. To do so, we will get the historical data of the drafts for the NBA seasons from 1996 until 2023."
   ]
  },
  {
   "cell_type": "code",
   "execution_count": 1,
   "metadata": {},
   "outputs": [
    {
     "data": {
      "text/html": [
       "<div>\n",
       "<style scoped>\n",
       "    .dataframe tbody tr th:only-of-type {\n",
       "        vertical-align: middle;\n",
       "    }\n",
       "\n",
       "    .dataframe tbody tr th {\n",
       "        vertical-align: top;\n",
       "    }\n",
       "\n",
       "    .dataframe thead tr th {\n",
       "        text-align: left;\n",
       "    }\n",
       "</style>\n",
       "<table border=\"1\" class=\"dataframe\">\n",
       "  <thead>\n",
       "    <tr>\n",
       "      <th>Career</th>\n",
       "      <th colspan=\"10\" halign=\"left\">Career</th>\n",
       "      <th>...</th>\n",
       "      <th>2021-22</th>\n",
       "      <th colspan=\"9\" halign=\"left\">2022-23</th>\n",
       "    </tr>\n",
       "    <tr>\n",
       "      <th>Player ID</th>\n",
       "      <th>Season</th>\n",
       "      <th>Pk</th>\n",
       "      <th>Tm</th>\n",
       "      <th>Player</th>\n",
       "      <th>College</th>\n",
       "      <th>Yrs</th>\n",
       "      <th>G</th>\n",
       "      <th>MP</th>\n",
       "      <th>PTS</th>\n",
       "      <th>TRB</th>\n",
       "      <th>...</th>\n",
       "      <th>TEAM_ID</th>\n",
       "      <th>AGE</th>\n",
       "      <th>DEF_RATING</th>\n",
       "      <th>GP</th>\n",
       "      <th>MIN</th>\n",
       "      <th>NET_RATING</th>\n",
       "      <th>OFF_RATING</th>\n",
       "      <th>PIE</th>\n",
       "      <th>TEAM_ABBREVIATION</th>\n",
       "      <th>TEAM_ID</th>\n",
       "    </tr>\n",
       "  </thead>\n",
       "  <tbody>\n",
       "    <tr>\n",
       "      <th>947.0</th>\n",
       "      <td>1996</td>\n",
       "      <td>1</td>\n",
       "      <td>PHI</td>\n",
       "      <td>Allen Iverson</td>\n",
       "      <td>Georgetown</td>\n",
       "      <td>14.0</td>\n",
       "      <td>914.0</td>\n",
       "      <td>37584.0</td>\n",
       "      <td>24368.0</td>\n",
       "      <td>3394.0</td>\n",
       "      <td>...</td>\n",
       "      <td>NaN</td>\n",
       "      <td>NaN</td>\n",
       "      <td>NaN</td>\n",
       "      <td>NaN</td>\n",
       "      <td>NaN</td>\n",
       "      <td>NaN</td>\n",
       "      <td>NaN</td>\n",
       "      <td>NaN</td>\n",
       "      <td>0</td>\n",
       "      <td>NaN</td>\n",
       "    </tr>\n",
       "    <tr>\n",
       "      <th>948.0</th>\n",
       "      <td>1996</td>\n",
       "      <td>2</td>\n",
       "      <td>TOR</td>\n",
       "      <td>Marcus Camby</td>\n",
       "      <td>UMass</td>\n",
       "      <td>17.0</td>\n",
       "      <td>973.0</td>\n",
       "      <td>28684.0</td>\n",
       "      <td>9262.0</td>\n",
       "      <td>9513.0</td>\n",
       "      <td>...</td>\n",
       "      <td>NaN</td>\n",
       "      <td>NaN</td>\n",
       "      <td>NaN</td>\n",
       "      <td>NaN</td>\n",
       "      <td>NaN</td>\n",
       "      <td>NaN</td>\n",
       "      <td>NaN</td>\n",
       "      <td>NaN</td>\n",
       "      <td>0</td>\n",
       "      <td>NaN</td>\n",
       "    </tr>\n",
       "    <tr>\n",
       "      <th>949.0</th>\n",
       "      <td>1996</td>\n",
       "      <td>3</td>\n",
       "      <td>VAN</td>\n",
       "      <td>Shareef Abdur-Rahim</td>\n",
       "      <td>California</td>\n",
       "      <td>12.0</td>\n",
       "      <td>830.0</td>\n",
       "      <td>28882.0</td>\n",
       "      <td>15028.0</td>\n",
       "      <td>6239.0</td>\n",
       "      <td>...</td>\n",
       "      <td>NaN</td>\n",
       "      <td>NaN</td>\n",
       "      <td>NaN</td>\n",
       "      <td>NaN</td>\n",
       "      <td>NaN</td>\n",
       "      <td>NaN</td>\n",
       "      <td>NaN</td>\n",
       "      <td>NaN</td>\n",
       "      <td>0</td>\n",
       "      <td>NaN</td>\n",
       "    </tr>\n",
       "    <tr>\n",
       "      <th>950.0</th>\n",
       "      <td>1996</td>\n",
       "      <td>4</td>\n",
       "      <td>MIL</td>\n",
       "      <td>Stephon Marbury</td>\n",
       "      <td>Georgia Tech</td>\n",
       "      <td>13.0</td>\n",
       "      <td>846.0</td>\n",
       "      <td>31891.0</td>\n",
       "      <td>16297.0</td>\n",
       "      <td>2516.0</td>\n",
       "      <td>...</td>\n",
       "      <td>NaN</td>\n",
       "      <td>NaN</td>\n",
       "      <td>NaN</td>\n",
       "      <td>NaN</td>\n",
       "      <td>NaN</td>\n",
       "      <td>NaN</td>\n",
       "      <td>NaN</td>\n",
       "      <td>NaN</td>\n",
       "      <td>0</td>\n",
       "      <td>NaN</td>\n",
       "    </tr>\n",
       "    <tr>\n",
       "      <th>951.0</th>\n",
       "      <td>1996</td>\n",
       "      <td>5</td>\n",
       "      <td>MIN</td>\n",
       "      <td>Ray Allen</td>\n",
       "      <td>UConn</td>\n",
       "      <td>18.0</td>\n",
       "      <td>1300.0</td>\n",
       "      <td>46344.0</td>\n",
       "      <td>24505.0</td>\n",
       "      <td>5272.0</td>\n",
       "      <td>...</td>\n",
       "      <td>NaN</td>\n",
       "      <td>NaN</td>\n",
       "      <td>NaN</td>\n",
       "      <td>NaN</td>\n",
       "      <td>NaN</td>\n",
       "      <td>NaN</td>\n",
       "      <td>NaN</td>\n",
       "      <td>NaN</td>\n",
       "      <td>0</td>\n",
       "      <td>NaN</td>\n",
       "    </tr>\n",
       "  </tbody>\n",
       "</table>\n",
       "<p>5 rows × 265 columns</p>\n",
       "</div>"
      ],
      "text/plain": [
       "Career    Career                                                           \\\n",
       "Player ID Season Pk   Tm               Player       College   Yrs       G   \n",
       "947.0       1996  1  PHI        Allen Iverson    Georgetown  14.0   914.0   \n",
       "948.0       1996  2  TOR         Marcus Camby         UMass  17.0   973.0   \n",
       "949.0       1996  3  VAN  Shareef Abdur-Rahim    California  12.0   830.0   \n",
       "950.0       1996  4  MIL      Stephon Marbury  Georgia Tech  13.0   846.0   \n",
       "951.0       1996  5  MIN            Ray Allen         UConn  18.0  1300.0   \n",
       "\n",
       "Career                               ... 2021-22 2022-23                     \\\n",
       "Player ID       MP      PTS     TRB  ... TEAM_ID     AGE DEF_RATING  GP MIN   \n",
       "947.0      37584.0  24368.0  3394.0  ...     NaN     NaN        NaN NaN NaN   \n",
       "948.0      28684.0   9262.0  9513.0  ...     NaN     NaN        NaN NaN NaN   \n",
       "949.0      28882.0  15028.0  6239.0  ...     NaN     NaN        NaN NaN NaN   \n",
       "950.0      31891.0  16297.0  2516.0  ...     NaN     NaN        NaN NaN NaN   \n",
       "951.0      46344.0  24505.0  5272.0  ...     NaN     NaN        NaN NaN NaN   \n",
       "\n",
       "Career                                                         \n",
       "Player ID NET_RATING OFF_RATING PIE TEAM_ABBREVIATION TEAM_ID  \n",
       "947.0            NaN        NaN NaN                 0     NaN  \n",
       "948.0            NaN        NaN NaN                 0     NaN  \n",
       "949.0            NaN        NaN NaN                 0     NaN  \n",
       "950.0            NaN        NaN NaN                 0     NaN  \n",
       "951.0            NaN        NaN NaN                 0     NaN  \n",
       "\n",
       "[5 rows x 265 columns]"
      ]
     },
     "execution_count": 1,
     "metadata": {},
     "output_type": "execute_result"
    }
   ],
   "source": [
    "import pandas as pd\n",
    "import numpy as np\n",
    "\n",
    "# Read in the data with the first two lines as a multi-index and the 'Player ID' column as the index\n",
    "df = pd.read_csv('./interim/nba_draft_data_combined.csv', header=[0,1], index_col=0)\n",
    "\n",
    "# replace all 0s with NaNs\n",
    "df = df.replace(0, np.nan)\n",
    "\n",
    "df.head()"
   ]
  },
  {
   "cell_type": "code",
   "execution_count": 2,
   "metadata": {},
   "outputs": [],
   "source": [
    "# Get the position of the last career column\n",
    "position_to_insert = len(df['Career'].columns)\n",
    "# Get the list of columns to insert\n",
    "columns_to_insert = [('Career', 'OFF_RATING'), ('Career', 'DEF_RATING'), ('Career', 'NET_RATING'), ('Career', 'PIE')]\n",
    "\n",
    "# Insert multiple columns with NaN values\n",
    "for col in columns_to_insert:\n",
    "    df.insert(loc=position_to_insert, column=col, value=np.nan)"
   ]
  },
  {
   "cell_type": "code",
   "execution_count": 3,
   "metadata": {},
   "outputs": [
    {
     "name": "stderr",
     "output_type": "stream",
     "text": [
      "/var/folders/zb/fj1ym99j70b38snb8v3_0g580000gn/T/ipykernel_21428/1738369481.py:15: PerformanceWarning: DataFrame is highly fragmented.  This is usually the result of calling `frame.insert` many times, which has poor performance.  Consider joining all columns at once using pd.concat(axis=1) instead. To get a de-fragmented frame, use `newframe = frame.copy()`\n",
      "  df.insert(loc=position_to_insert, column=(season, 'DEF_RATING_weighted'), value=np.nan)\n",
      "/var/folders/zb/fj1ym99j70b38snb8v3_0g580000gn/T/ipykernel_21428/1738369481.py:19: PerformanceWarning: DataFrame is highly fragmented.  This is usually the result of calling `frame.insert` many times, which has poor performance.  Consider joining all columns at once using pd.concat(axis=1) instead. To get a de-fragmented frame, use `newframe = frame.copy()`\n",
      "  df.insert(loc=position_to_insert, column=(season, 'NET_RATING_weighted'), value=np.nan)\n",
      "/var/folders/zb/fj1ym99j70b38snb8v3_0g580000gn/T/ipykernel_21428/1738369481.py:23: PerformanceWarning: DataFrame is highly fragmented.  This is usually the result of calling `frame.insert` many times, which has poor performance.  Consider joining all columns at once using pd.concat(axis=1) instead. To get a de-fragmented frame, use `newframe = frame.copy()`\n",
      "  df.insert(loc=position_to_insert, column=(season, 'PIE_weighted'), value=np.nan)\n",
      "/var/folders/zb/fj1ym99j70b38snb8v3_0g580000gn/T/ipykernel_21428/1738369481.py:10: PerformanceWarning: DataFrame is highly fragmented.  This is usually the result of calling `frame.insert` many times, which has poor performance.  Consider joining all columns at once using pd.concat(axis=1) instead. To get a de-fragmented frame, use `newframe = frame.copy()`\n",
      "  df.insert(loc=position_to_insert, column=(season, 'OFF_RATING_weighted'), value=np.nan)\n"
     ]
    }
   ],
   "source": [
    "# create list with all seasons between 1996-97 and 2022-23\n",
    "seasons = []\n",
    "for i in range(1996, 2023):\n",
    "    seasons.append(str(i) + '-' + str(i+1)[2:])\n",
    "\n",
    "# for each season, insert a new column with the product of 'GP' and 'OFF_RATING'\n",
    "for season in seasons:\n",
    "    # find the (season, 'OFF_RATING') column as the position to insert the new column\n",
    "    position_to_insert = df.columns.get_loc((season, 'OFF_RATING'))\n",
    "    df.insert(loc=position_to_insert, column=(season, 'OFF_RATING_weighted'), value=np.nan)\n",
    "    # fill the new column with the product of (season,'GP') and (season,'OFF_RATING')\n",
    "    df[(season, 'OFF_RATING_weighted')] = df[(season, 'GP')] * df[(season, 'OFF_RATING')]\n",
    "    \n",
    "    position_to_insert = df.columns.get_loc((season, 'DEF_RATING'))\n",
    "    df.insert(loc=position_to_insert, column=(season, 'DEF_RATING_weighted'), value=np.nan)\n",
    "    df[(season, 'DEF_RATING_weighted')] = df[(season, 'GP')] * df[(season, 'DEF_RATING')]\n",
    "    \n",
    "    position_to_insert = df.columns.get_loc((season, 'NET_RATING'))\n",
    "    df.insert(loc=position_to_insert, column=(season, 'NET_RATING_weighted'), value=np.nan)\n",
    "    df[(season, 'NET_RATING_weighted')] = df[(season, 'GP')] * df[(season, 'NET_RATING')]\n",
    "    \n",
    "    position_to_insert = df.columns.get_loc((season, 'PIE'))\n",
    "    df.insert(loc=position_to_insert, column=(season, 'PIE_weighted'), value=np.nan)\n",
    "    df[(season, 'PIE_weighted')] = df[(season, 'GP')] * df[(season, 'PIE')]"
   ]
  },
  {
   "cell_type": "code",
   "execution_count": 4,
   "metadata": {},
   "outputs": [],
   "source": [
    "# in the ('Career', rating) column, fill the NaNs with the sum of the weighted columns divided by the ('Career', 'G') column\n",
    "df[('Career', 'OFF_RATING')] = df.filter(regex='OFF_RATING_weighted').sum(axis=1) / df[('Career', 'G')]\n",
    "df[('Career', 'DEF_RATING')] = df.filter(regex='DEF_RATING_weighted').sum(axis=1) / df[('Career', 'G')]\n",
    "df[('Career', 'NET_RATING')] = df.filter(regex='NET_RATING_weighted').sum(axis=1) / df[('Career', 'G')]\n",
    "df[('Career', 'PIE')] = df.filter(regex='PIE_weighted').sum(axis=1) / df[('Career', 'G')]\n",
    "# drop the weighted columns\n",
    "df = df.drop(df.filter(regex='_weighted').columns, axis=1)"
   ]
  },
  {
   "cell_type": "code",
   "execution_count": 5,
   "metadata": {},
   "outputs": [
    {
     "data": {
      "text/html": [
       "<div>\n",
       "<style scoped>\n",
       "    .dataframe tbody tr th:only-of-type {\n",
       "        vertical-align: middle;\n",
       "    }\n",
       "\n",
       "    .dataframe tbody tr th {\n",
       "        vertical-align: top;\n",
       "    }\n",
       "\n",
       "    .dataframe thead th {\n",
       "        text-align: right;\n",
       "    }\n",
       "</style>\n",
       "<table border=\"1\" class=\"dataframe\">\n",
       "  <thead>\n",
       "    <tr style=\"text-align: right;\">\n",
       "      <th>Player ID</th>\n",
       "      <th>Season</th>\n",
       "      <th>Pk</th>\n",
       "      <th>Tm</th>\n",
       "      <th>Player</th>\n",
       "      <th>College</th>\n",
       "      <th>Yrs</th>\n",
       "      <th>G</th>\n",
       "      <th>MP</th>\n",
       "      <th>PTS</th>\n",
       "      <th>TRB</th>\n",
       "      <th>...</th>\n",
       "      <th>TRB.1</th>\n",
       "      <th>AST.1</th>\n",
       "      <th>WS</th>\n",
       "      <th>WS/48</th>\n",
       "      <th>BPM</th>\n",
       "      <th>VORP</th>\n",
       "      <th>PIE</th>\n",
       "      <th>NET_RATING</th>\n",
       "      <th>DEF_RATING</th>\n",
       "      <th>OFF_RATING</th>\n",
       "    </tr>\n",
       "  </thead>\n",
       "  <tbody>\n",
       "    <tr>\n",
       "      <th>947.0</th>\n",
       "      <td>1996</td>\n",
       "      <td>1</td>\n",
       "      <td>PHI</td>\n",
       "      <td>Allen Iverson</td>\n",
       "      <td>Georgetown</td>\n",
       "      <td>14.0</td>\n",
       "      <td>914.0</td>\n",
       "      <td>37584.0</td>\n",
       "      <td>24368.0</td>\n",
       "      <td>3394.0</td>\n",
       "      <td>...</td>\n",
       "      <td>3.7</td>\n",
       "      <td>6.2</td>\n",
       "      <td>99.0</td>\n",
       "      <td>0.126</td>\n",
       "      <td>3.2</td>\n",
       "      <td>49.6</td>\n",
       "      <td>0.136685</td>\n",
       "      <td>0.846389</td>\n",
       "      <td>102.536105</td>\n",
       "      <td>103.373742</td>\n",
       "    </tr>\n",
       "    <tr>\n",
       "      <th>948.0</th>\n",
       "      <td>1996</td>\n",
       "      <td>2</td>\n",
       "      <td>TOR</td>\n",
       "      <td>Marcus Camby</td>\n",
       "      <td>UMass</td>\n",
       "      <td>17.0</td>\n",
       "      <td>973.0</td>\n",
       "      <td>28684.0</td>\n",
       "      <td>9262.0</td>\n",
       "      <td>9513.0</td>\n",
       "      <td>...</td>\n",
       "      <td>9.8</td>\n",
       "      <td>1.9</td>\n",
       "      <td>81.6</td>\n",
       "      <td>0.137</td>\n",
       "      <td>2.3</td>\n",
       "      <td>31.3</td>\n",
       "      <td>0.126784</td>\n",
       "      <td>0.228571</td>\n",
       "      <td>102.740699</td>\n",
       "      <td>102.970298</td>\n",
       "    </tr>\n",
       "    <tr>\n",
       "      <th>949.0</th>\n",
       "      <td>1996</td>\n",
       "      <td>3</td>\n",
       "      <td>VAN</td>\n",
       "      <td>Shareef Abdur-Rahim</td>\n",
       "      <td>California</td>\n",
       "      <td>12.0</td>\n",
       "      <td>830.0</td>\n",
       "      <td>28882.0</td>\n",
       "      <td>15028.0</td>\n",
       "      <td>6239.0</td>\n",
       "      <td>...</td>\n",
       "      <td>7.5</td>\n",
       "      <td>2.5</td>\n",
       "      <td>71.2</td>\n",
       "      <td>0.118</td>\n",
       "      <td>1.0</td>\n",
       "      <td>21.9</td>\n",
       "      <td>0.125880</td>\n",
       "      <td>-5.022892</td>\n",
       "      <td>105.843614</td>\n",
       "      <td>100.801928</td>\n",
       "    </tr>\n",
       "    <tr>\n",
       "      <th>950.0</th>\n",
       "      <td>1996</td>\n",
       "      <td>4</td>\n",
       "      <td>MIL</td>\n",
       "      <td>Stephon Marbury</td>\n",
       "      <td>Georgia Tech</td>\n",
       "      <td>13.0</td>\n",
       "      <td>846.0</td>\n",
       "      <td>31891.0</td>\n",
       "      <td>16297.0</td>\n",
       "      <td>2516.0</td>\n",
       "      <td>...</td>\n",
       "      <td>3.0</td>\n",
       "      <td>7.6</td>\n",
       "      <td>77.5</td>\n",
       "      <td>0.117</td>\n",
       "      <td>1.8</td>\n",
       "      <td>30.7</td>\n",
       "      <td>0.123372</td>\n",
       "      <td>-1.780615</td>\n",
       "      <td>105.290426</td>\n",
       "      <td>103.501064</td>\n",
       "    </tr>\n",
       "    <tr>\n",
       "      <th>951.0</th>\n",
       "      <td>1996</td>\n",
       "      <td>5</td>\n",
       "      <td>MIN</td>\n",
       "      <td>Ray Allen</td>\n",
       "      <td>UConn</td>\n",
       "      <td>18.0</td>\n",
       "      <td>1300.0</td>\n",
       "      <td>46344.0</td>\n",
       "      <td>24505.0</td>\n",
       "      <td>5272.0</td>\n",
       "      <td>...</td>\n",
       "      <td>4.1</td>\n",
       "      <td>3.4</td>\n",
       "      <td>145.1</td>\n",
       "      <td>0.150</td>\n",
       "      <td>2.9</td>\n",
       "      <td>57.6</td>\n",
       "      <td>0.119475</td>\n",
       "      <td>3.884615</td>\n",
       "      <td>104.047000</td>\n",
       "      <td>107.940000</td>\n",
       "    </tr>\n",
       "    <tr>\n",
       "      <th>952.0</th>\n",
       "      <td>1996</td>\n",
       "      <td>6</td>\n",
       "      <td>BOS</td>\n",
       "      <td>Antoine Walker</td>\n",
       "      <td>Kentucky</td>\n",
       "      <td>12.0</td>\n",
       "      <td>893.0</td>\n",
       "      <td>31531.0</td>\n",
       "      <td>15647.0</td>\n",
       "      <td>6891.0</td>\n",
       "      <td>...</td>\n",
       "      <td>7.7</td>\n",
       "      <td>3.5</td>\n",
       "      <td>38.1</td>\n",
       "      <td>0.058</td>\n",
       "      <td>0.3</td>\n",
       "      <td>18.0</td>\n",
       "      <td>0.106725</td>\n",
       "      <td>-2.122172</td>\n",
       "      <td>104.507055</td>\n",
       "      <td>102.397984</td>\n",
       "    </tr>\n",
       "    <tr>\n",
       "      <th>953.0</th>\n",
       "      <td>1996</td>\n",
       "      <td>7</td>\n",
       "      <td>LAC</td>\n",
       "      <td>Lorenzen Wright</td>\n",
       "      <td>Memphis</td>\n",
       "      <td>13.0</td>\n",
       "      <td>778.0</td>\n",
       "      <td>18535.0</td>\n",
       "      <td>6191.0</td>\n",
       "      <td>4943.0</td>\n",
       "      <td>...</td>\n",
       "      <td>6.4</td>\n",
       "      <td>0.8</td>\n",
       "      <td>30.5</td>\n",
       "      <td>0.079</td>\n",
       "      <td>-2.6</td>\n",
       "      <td>-3.0</td>\n",
       "      <td>0.079762</td>\n",
       "      <td>-3.612725</td>\n",
       "      <td>102.883676</td>\n",
       "      <td>99.275450</td>\n",
       "    </tr>\n",
       "    <tr>\n",
       "      <th>954.0</th>\n",
       "      <td>1996</td>\n",
       "      <td>8</td>\n",
       "      <td>NJN</td>\n",
       "      <td>Kerry Kittles</td>\n",
       "      <td>Villanova</td>\n",
       "      <td>8.0</td>\n",
       "      <td>507.0</td>\n",
       "      <td>16929.0</td>\n",
       "      <td>7165.0</td>\n",
       "      <td>1983.0</td>\n",
       "      <td>...</td>\n",
       "      <td>3.9</td>\n",
       "      <td>2.6</td>\n",
       "      <td>44.8</td>\n",
       "      <td>0.127</td>\n",
       "      <td>2.2</td>\n",
       "      <td>18.0</td>\n",
       "      <td>0.106501</td>\n",
       "      <td>1.059763</td>\n",
       "      <td>100.949901</td>\n",
       "      <td>101.997436</td>\n",
       "    </tr>\n",
       "    <tr>\n",
       "      <th>955.0</th>\n",
       "      <td>1996</td>\n",
       "      <td>9</td>\n",
       "      <td>DAL</td>\n",
       "      <td>Samaki Walker</td>\n",
       "      <td>Louisville</td>\n",
       "      <td>10.0</td>\n",
       "      <td>445.0</td>\n",
       "      <td>7612.0</td>\n",
       "      <td>2376.0</td>\n",
       "      <td>2089.0</td>\n",
       "      <td>...</td>\n",
       "      <td>4.7</td>\n",
       "      <td>0.6</td>\n",
       "      <td>14.2</td>\n",
       "      <td>0.089</td>\n",
       "      <td>-2.6</td>\n",
       "      <td>-1.1</td>\n",
       "      <td>0.079793</td>\n",
       "      <td>-4.483371</td>\n",
       "      <td>101.874607</td>\n",
       "      <td>97.406517</td>\n",
       "    </tr>\n",
       "    <tr>\n",
       "      <th>956.0</th>\n",
       "      <td>1996</td>\n",
       "      <td>10</td>\n",
       "      <td>IND</td>\n",
       "      <td>Erick Dampier</td>\n",
       "      <td>Mississippi State</td>\n",
       "      <td>16.0</td>\n",
       "      <td>987.0</td>\n",
       "      <td>24003.0</td>\n",
       "      <td>7309.0</td>\n",
       "      <td>7005.0</td>\n",
       "      <td>...</td>\n",
       "      <td>7.1</td>\n",
       "      <td>0.8</td>\n",
       "      <td>52.7</td>\n",
       "      <td>0.105</td>\n",
       "      <td>-1.3</td>\n",
       "      <td>4.1</td>\n",
       "      <td>0.082994</td>\n",
       "      <td>0.622594</td>\n",
       "      <td>102.671530</td>\n",
       "      <td>103.291084</td>\n",
       "    </tr>\n",
       "    <tr>\n",
       "      <th>957.0</th>\n",
       "      <td>1996</td>\n",
       "      <td>11</td>\n",
       "      <td>GSW</td>\n",
       "      <td>Todd Fuller</td>\n",
       "      <td>NC State</td>\n",
       "      <td>5.0</td>\n",
       "      <td>225.0</td>\n",
       "      <td>2500.0</td>\n",
       "      <td>835.0</td>\n",
       "      <td>674.0</td>\n",
       "      <td>...</td>\n",
       "      <td>3.0</td>\n",
       "      <td>0.2</td>\n",
       "      <td>2.2</td>\n",
       "      <td>0.041</td>\n",
       "      <td>-5.7</td>\n",
       "      <td>-2.3</td>\n",
       "      <td>0.060902</td>\n",
       "      <td>-3.978222</td>\n",
       "      <td>100.532444</td>\n",
       "      <td>96.572444</td>\n",
       "    </tr>\n",
       "    <tr>\n",
       "      <th>958.0</th>\n",
       "      <td>1996</td>\n",
       "      <td>12</td>\n",
       "      <td>CLE</td>\n",
       "      <td>Vitaly Potapenko</td>\n",
       "      <td>Wright State University</td>\n",
       "      <td>11.0</td>\n",
       "      <td>610.0</td>\n",
       "      <td>11608.0</td>\n",
       "      <td>3995.0</td>\n",
       "      <td>2725.0</td>\n",
       "      <td>...</td>\n",
       "      <td>4.5</td>\n",
       "      <td>0.7</td>\n",
       "      <td>15.5</td>\n",
       "      <td>0.064</td>\n",
       "      <td>-4.0</td>\n",
       "      <td>-5.9</td>\n",
       "      <td>0.068572</td>\n",
       "      <td>-1.756066</td>\n",
       "      <td>100.802459</td>\n",
       "      <td>99.049344</td>\n",
       "    </tr>\n",
       "    <tr>\n",
       "      <th>977.0</th>\n",
       "      <td>1996</td>\n",
       "      <td>13</td>\n",
       "      <td>CHH</td>\n",
       "      <td>Kobe Bryant</td>\n",
       "      <td>NaN</td>\n",
       "      <td>20.0</td>\n",
       "      <td>1346.0</td>\n",
       "      <td>48637.0</td>\n",
       "      <td>33643.0</td>\n",
       "      <td>7047.0</td>\n",
       "      <td>...</td>\n",
       "      <td>5.2</td>\n",
       "      <td>4.7</td>\n",
       "      <td>172.7</td>\n",
       "      <td>0.170</td>\n",
       "      <td>4.6</td>\n",
       "      <td>80.1</td>\n",
       "      <td>0.147353</td>\n",
       "      <td>3.856909</td>\n",
       "      <td>104.002377</td>\n",
       "      <td>107.856018</td>\n",
       "    </tr>\n",
       "    <tr>\n",
       "      <th>978.0</th>\n",
       "      <td>1996</td>\n",
       "      <td>14</td>\n",
       "      <td>SAC</td>\n",
       "      <td>Peja Stojaković</td>\n",
       "      <td>NaN</td>\n",
       "      <td>13.0</td>\n",
       "      <td>804.0</td>\n",
       "      <td>26966.0</td>\n",
       "      <td>13647.0</td>\n",
       "      <td>3782.0</td>\n",
       "      <td>...</td>\n",
       "      <td>4.7</td>\n",
       "      <td>1.8</td>\n",
       "      <td>82.6</td>\n",
       "      <td>0.147</td>\n",
       "      <td>1.9</td>\n",
       "      <td>26.2</td>\n",
       "      <td>0.109571</td>\n",
       "      <td>4.868657</td>\n",
       "      <td>102.800622</td>\n",
       "      <td>107.674005</td>\n",
       "    </tr>\n",
       "    <tr>\n",
       "      <th>959.0</th>\n",
       "      <td>1996</td>\n",
       "      <td>15</td>\n",
       "      <td>PHO</td>\n",
       "      <td>Steve Nash</td>\n",
       "      <td>Santa Clara</td>\n",
       "      <td>18.0</td>\n",
       "      <td>1217.0</td>\n",
       "      <td>38069.0</td>\n",
       "      <td>17387.0</td>\n",
       "      <td>3642.0</td>\n",
       "      <td>...</td>\n",
       "      <td>3.0</td>\n",
       "      <td>8.5</td>\n",
       "      <td>129.7</td>\n",
       "      <td>0.164</td>\n",
       "      <td>3.0</td>\n",
       "      <td>48.2</td>\n",
       "      <td>0.133380</td>\n",
       "      <td>5.888496</td>\n",
       "      <td>105.084552</td>\n",
       "      <td>110.968529</td>\n",
       "    </tr>\n",
       "    <tr>\n",
       "      <th>960.0</th>\n",
       "      <td>1996</td>\n",
       "      <td>16</td>\n",
       "      <td>CHH</td>\n",
       "      <td>Tony Delk</td>\n",
       "      <td>Kentucky</td>\n",
       "      <td>10.0</td>\n",
       "      <td>545.0</td>\n",
       "      <td>11702.0</td>\n",
       "      <td>4957.0</td>\n",
       "      <td>1351.0</td>\n",
       "      <td>...</td>\n",
       "      <td>2.5</td>\n",
       "      <td>1.9</td>\n",
       "      <td>19.5</td>\n",
       "      <td>0.080</td>\n",
       "      <td>-0.4</td>\n",
       "      <td>4.8</td>\n",
       "      <td>0.089996</td>\n",
       "      <td>-1.670092</td>\n",
       "      <td>101.503853</td>\n",
       "      <td>99.820183</td>\n",
       "    </tr>\n",
       "    <tr>\n",
       "      <th>979.0</th>\n",
       "      <td>1996</td>\n",
       "      <td>17</td>\n",
       "      <td>POR</td>\n",
       "      <td>Jermaine O'Neal</td>\n",
       "      <td>NaN</td>\n",
       "      <td>18.0</td>\n",
       "      <td>1011.0</td>\n",
       "      <td>27364.0</td>\n",
       "      <td>13309.0</td>\n",
       "      <td>7261.0</td>\n",
       "      <td>...</td>\n",
       "      <td>7.2</td>\n",
       "      <td>1.4</td>\n",
       "      <td>66.0</td>\n",
       "      <td>0.116</td>\n",
       "      <td>0.3</td>\n",
       "      <td>15.6</td>\n",
       "      <td>0.115348</td>\n",
       "      <td>1.216617</td>\n",
       "      <td>100.218200</td>\n",
       "      <td>101.445895</td>\n",
       "    </tr>\n",
       "    <tr>\n",
       "      <th>961.0</th>\n",
       "      <td>1996</td>\n",
       "      <td>18</td>\n",
       "      <td>NYK</td>\n",
       "      <td>John Wallace</td>\n",
       "      <td>Syracuse</td>\n",
       "      <td>7.0</td>\n",
       "      <td>381.0</td>\n",
       "      <td>6143.0</td>\n",
       "      <td>2901.0</td>\n",
       "      <td>1061.0</td>\n",
       "      <td>...</td>\n",
       "      <td>2.8</td>\n",
       "      <td>0.7</td>\n",
       "      <td>6.4</td>\n",
       "      <td>0.050</td>\n",
       "      <td>-2.7</td>\n",
       "      <td>-1.0</td>\n",
       "      <td>0.084559</td>\n",
       "      <td>-5.524409</td>\n",
       "      <td>102.200787</td>\n",
       "      <td>96.650131</td>\n",
       "    </tr>\n",
       "    <tr>\n",
       "      <th>962.0</th>\n",
       "      <td>1996</td>\n",
       "      <td>19</td>\n",
       "      <td>NYK</td>\n",
       "      <td>Walter McCarty</td>\n",
       "      <td>Kentucky</td>\n",
       "      <td>10.0</td>\n",
       "      <td>593.0</td>\n",
       "      <td>10374.0</td>\n",
       "      <td>3056.0</td>\n",
       "      <td>1554.0</td>\n",
       "      <td>...</td>\n",
       "      <td>2.6</td>\n",
       "      <td>1.1</td>\n",
       "      <td>13.7</td>\n",
       "      <td>0.064</td>\n",
       "      <td>-1.7</td>\n",
       "      <td>0.8</td>\n",
       "      <td>0.055843</td>\n",
       "      <td>-1.825295</td>\n",
       "      <td>99.533052</td>\n",
       "      <td>97.688027</td>\n",
       "    </tr>\n",
       "    <tr>\n",
       "      <th>980.0</th>\n",
       "      <td>1996</td>\n",
       "      <td>20</td>\n",
       "      <td>CLE</td>\n",
       "      <td>Zydrunas Ilgauskas</td>\n",
       "      <td>NaN</td>\n",
       "      <td>13.0</td>\n",
       "      <td>843.0</td>\n",
       "      <td>22965.0</td>\n",
       "      <td>10976.0</td>\n",
       "      <td>6191.0</td>\n",
       "      <td>...</td>\n",
       "      <td>7.3</td>\n",
       "      <td>1.1</td>\n",
       "      <td>66.3</td>\n",
       "      <td>0.139</td>\n",
       "      <td>-0.2</td>\n",
       "      <td>10.2</td>\n",
       "      <td>0.110667</td>\n",
       "      <td>2.878055</td>\n",
       "      <td>101.560142</td>\n",
       "      <td>104.454923</td>\n",
       "    </tr>\n",
       "    <tr>\n",
       "      <th>963.0</th>\n",
       "      <td>1996</td>\n",
       "      <td>21</td>\n",
       "      <td>NYK</td>\n",
       "      <td>Dontae' Jones</td>\n",
       "      <td>Mississippi State</td>\n",
       "      <td>1.0</td>\n",
       "      <td>15.0</td>\n",
       "      <td>91.0</td>\n",
       "      <td>44.0</td>\n",
       "      <td>9.0</td>\n",
       "      <td>...</td>\n",
       "      <td>0.6</td>\n",
       "      <td>0.3</td>\n",
       "      <td>-0.3</td>\n",
       "      <td>-0.175</td>\n",
       "      <td>-10.9</td>\n",
       "      <td>-0.2</td>\n",
       "      <td>-0.003000</td>\n",
       "      <td>-2.000000</td>\n",
       "      <td>96.900000</td>\n",
       "      <td>94.900000</td>\n",
       "    </tr>\n",
       "    <tr>\n",
       "      <th>964.0</th>\n",
       "      <td>1996</td>\n",
       "      <td>22</td>\n",
       "      <td>VAN</td>\n",
       "      <td>Roy Rogers</td>\n",
       "      <td>Alabama</td>\n",
       "      <td>3.0</td>\n",
       "      <td>137.0</td>\n",
       "      <td>2309.0</td>\n",
       "      <td>652.0</td>\n",
       "      <td>483.0</td>\n",
       "      <td>...</td>\n",
       "      <td>3.5</td>\n",
       "      <td>0.4</td>\n",
       "      <td>1.7</td>\n",
       "      <td>0.035</td>\n",
       "      <td>-3.7</td>\n",
       "      <td>-1.0</td>\n",
       "      <td>0.057905</td>\n",
       "      <td>-11.096350</td>\n",
       "      <td>108.275182</td>\n",
       "      <td>97.149635</td>\n",
       "    </tr>\n",
       "    <tr>\n",
       "      <th>981.0</th>\n",
       "      <td>1996</td>\n",
       "      <td>23</td>\n",
       "      <td>DEN</td>\n",
       "      <td>Efthimios Rentzias</td>\n",
       "      <td>NaN</td>\n",
       "      <td>1.0</td>\n",
       "      <td>35.0</td>\n",
       "      <td>144.0</td>\n",
       "      <td>52.0</td>\n",
       "      <td>26.0</td>\n",
       "      <td>...</td>\n",
       "      <td>0.7</td>\n",
       "      <td>0.2</td>\n",
       "      <td>0.2</td>\n",
       "      <td>0.058</td>\n",
       "      <td>-3.8</td>\n",
       "      <td>-0.1</td>\n",
       "      <td>0.051000</td>\n",
       "      <td>-5.000000</td>\n",
       "      <td>97.000000</td>\n",
       "      <td>92.000000</td>\n",
       "    </tr>\n",
       "    <tr>\n",
       "      <th>965.0</th>\n",
       "      <td>1996</td>\n",
       "      <td>24</td>\n",
       "      <td>LAL</td>\n",
       "      <td>Derek Fisher</td>\n",
       "      <td>Little Rock</td>\n",
       "      <td>18.0</td>\n",
       "      <td>1287.0</td>\n",
       "      <td>32719.0</td>\n",
       "      <td>10713.0</td>\n",
       "      <td>2658.0</td>\n",
       "      <td>...</td>\n",
       "      <td>2.1</td>\n",
       "      <td>3.0</td>\n",
       "      <td>62.3</td>\n",
       "      <td>0.091</td>\n",
       "      <td>-0.9</td>\n",
       "      <td>8.9</td>\n",
       "      <td>0.075629</td>\n",
       "      <td>6.276146</td>\n",
       "      <td>100.307148</td>\n",
       "      <td>106.602409</td>\n",
       "    </tr>\n",
       "    <tr>\n",
       "      <th>982.0</th>\n",
       "      <td>1996</td>\n",
       "      <td>25</td>\n",
       "      <td>UTA</td>\n",
       "      <td>Martin Müürsepp</td>\n",
       "      <td>NaN</td>\n",
       "      <td>2.0</td>\n",
       "      <td>83.0</td>\n",
       "      <td>951.0</td>\n",
       "      <td>389.0</td>\n",
       "      <td>181.0</td>\n",
       "      <td>...</td>\n",
       "      <td>2.2</td>\n",
       "      <td>0.6</td>\n",
       "      <td>2.0</td>\n",
       "      <td>0.100</td>\n",
       "      <td>-1.6</td>\n",
       "      <td>0.1</td>\n",
       "      <td>0.070458</td>\n",
       "      <td>-7.719277</td>\n",
       "      <td>102.819277</td>\n",
       "      <td>95.149398</td>\n",
       "    </tr>\n",
       "    <tr>\n",
       "      <th>966.0</th>\n",
       "      <td>1996</td>\n",
       "      <td>26</td>\n",
       "      <td>DET</td>\n",
       "      <td>Jerome Williams</td>\n",
       "      <td>Georgetown</td>\n",
       "      <td>9.0</td>\n",
       "      <td>587.0</td>\n",
       "      <td>12755.0</td>\n",
       "      <td>3865.0</td>\n",
       "      <td>3743.0</td>\n",
       "      <td>...</td>\n",
       "      <td>6.4</td>\n",
       "      <td>0.8</td>\n",
       "      <td>37.9</td>\n",
       "      <td>0.143</td>\n",
       "      <td>0.3</td>\n",
       "      <td>7.4</td>\n",
       "      <td>0.111641</td>\n",
       "      <td>0.470528</td>\n",
       "      <td>99.759284</td>\n",
       "      <td>100.215843</td>\n",
       "    </tr>\n",
       "    <tr>\n",
       "      <th>967.0</th>\n",
       "      <td>1996</td>\n",
       "      <td>27</td>\n",
       "      <td>ORL</td>\n",
       "      <td>Brian Evans</td>\n",
       "      <td>Indiana</td>\n",
       "      <td>3.0</td>\n",
       "      <td>102.0</td>\n",
       "      <td>1097.0</td>\n",
       "      <td>375.0</td>\n",
       "      <td>164.0</td>\n",
       "      <td>...</td>\n",
       "      <td>1.6</td>\n",
       "      <td>0.8</td>\n",
       "      <td>1.7</td>\n",
       "      <td>0.076</td>\n",
       "      <td>-0.8</td>\n",
       "      <td>0.3</td>\n",
       "      <td>0.075235</td>\n",
       "      <td>-2.598039</td>\n",
       "      <td>99.178431</td>\n",
       "      <td>96.582353</td>\n",
       "    </tr>\n",
       "    <tr>\n",
       "      <th>968.0</th>\n",
       "      <td>1996</td>\n",
       "      <td>28</td>\n",
       "      <td>ATL</td>\n",
       "      <td>Priest Lauderdale</td>\n",
       "      <td>Central State University</td>\n",
       "      <td>2.0</td>\n",
       "      <td>74.0</td>\n",
       "      <td>525.0</td>\n",
       "      <td>255.0</td>\n",
       "      <td>143.0</td>\n",
       "      <td>...</td>\n",
       "      <td>1.9</td>\n",
       "      <td>0.4</td>\n",
       "      <td>-0.8</td>\n",
       "      <td>-0.074</td>\n",
       "      <td>-7.9</td>\n",
       "      <td>-0.8</td>\n",
       "      <td>0.055635</td>\n",
       "      <td>-3.759459</td>\n",
       "      <td>100.677027</td>\n",
       "      <td>96.917568</td>\n",
       "    </tr>\n",
       "    <tr>\n",
       "      <th>969.0</th>\n",
       "      <td>1996</td>\n",
       "      <td>29</td>\n",
       "      <td>CHI</td>\n",
       "      <td>Travis Knight</td>\n",
       "      <td>UConn</td>\n",
       "      <td>7.0</td>\n",
       "      <td>371.0</td>\n",
       "      <td>4566.0</td>\n",
       "      <td>1276.0</td>\n",
       "      <td>1160.0</td>\n",
       "      <td>...</td>\n",
       "      <td>3.1</td>\n",
       "      <td>0.6</td>\n",
       "      <td>7.9</td>\n",
       "      <td>0.083</td>\n",
       "      <td>-3.0</td>\n",
       "      <td>-1.1</td>\n",
       "      <td>0.046695</td>\n",
       "      <td>-0.921024</td>\n",
       "      <td>97.590296</td>\n",
       "      <td>96.670081</td>\n",
       "    </tr>\n",
       "    <tr>\n",
       "      <th>970.0</th>\n",
       "      <td>1996</td>\n",
       "      <td>30</td>\n",
       "      <td>HOU</td>\n",
       "      <td>Othella Harrington</td>\n",
       "      <td>Georgetown</td>\n",
       "      <td>12.0</td>\n",
       "      <td>709.0</td>\n",
       "      <td>13924.0</td>\n",
       "      <td>5212.0</td>\n",
       "      <td>3130.0</td>\n",
       "      <td>...</td>\n",
       "      <td>4.4</td>\n",
       "      <td>0.6</td>\n",
       "      <td>23.1</td>\n",
       "      <td>0.080</td>\n",
       "      <td>-3.4</td>\n",
       "      <td>-4.9</td>\n",
       "      <td>0.074904</td>\n",
       "      <td>-0.049788</td>\n",
       "      <td>100.122426</td>\n",
       "      <td>100.070240</td>\n",
       "    </tr>\n",
       "    <tr>\n",
       "      <th>971.0</th>\n",
       "      <td>1996</td>\n",
       "      <td>31</td>\n",
       "      <td>PHI</td>\n",
       "      <td>Mark Hendrickson</td>\n",
       "      <td>Washington State</td>\n",
       "      <td>4.0</td>\n",
       "      <td>114.0</td>\n",
       "      <td>1508.0</td>\n",
       "      <td>381.0</td>\n",
       "      <td>316.0</td>\n",
       "      <td>...</td>\n",
       "      <td>2.8</td>\n",
       "      <td>0.6</td>\n",
       "      <td>2.1</td>\n",
       "      <td>0.067</td>\n",
       "      <td>-3.8</td>\n",
       "      <td>-0.7</td>\n",
       "      <td>0.076675</td>\n",
       "      <td>-6.642982</td>\n",
       "      <td>102.961404</td>\n",
       "      <td>96.360526</td>\n",
       "    </tr>\n",
       "    <tr>\n",
       "      <th>NaN</th>\n",
       "      <td>1996</td>\n",
       "      <td>32</td>\n",
       "      <td>PHI</td>\n",
       "      <td>Ryan Minor</td>\n",
       "      <td>Oklahoma</td>\n",
       "      <td>NaN</td>\n",
       "      <td>NaN</td>\n",
       "      <td>NaN</td>\n",
       "      <td>NaN</td>\n",
       "      <td>NaN</td>\n",
       "      <td>...</td>\n",
       "      <td>NaN</td>\n",
       "      <td>NaN</td>\n",
       "      <td>NaN</td>\n",
       "      <td>NaN</td>\n",
       "      <td>NaN</td>\n",
       "      <td>NaN</td>\n",
       "      <td>NaN</td>\n",
       "      <td>NaN</td>\n",
       "      <td>NaN</td>\n",
       "      <td>NaN</td>\n",
       "    </tr>\n",
       "    <tr>\n",
       "      <th>983.0</th>\n",
       "      <td>1996</td>\n",
       "      <td>33</td>\n",
       "      <td>MIL</td>\n",
       "      <td>Moochie Norris</td>\n",
       "      <td>University of West Florida</td>\n",
       "      <td>9.0</td>\n",
       "      <td>445.0</td>\n",
       "      <td>7640.0</td>\n",
       "      <td>2272.0</td>\n",
       "      <td>868.0</td>\n",
       "      <td>...</td>\n",
       "      <td>2.0</td>\n",
       "      <td>2.8</td>\n",
       "      <td>10.0</td>\n",
       "      <td>0.063</td>\n",
       "      <td>-1.4</td>\n",
       "      <td>1.2</td>\n",
       "      <td>0.090829</td>\n",
       "      <td>-1.978202</td>\n",
       "      <td>101.042472</td>\n",
       "      <td>99.091236</td>\n",
       "    </tr>\n",
       "    <tr>\n",
       "      <th>NaN</th>\n",
       "      <td>1996</td>\n",
       "      <td>34</td>\n",
       "      <td>DAL</td>\n",
       "      <td>Shawn Harvey</td>\n",
       "      <td>West Virginia State University</td>\n",
       "      <td>NaN</td>\n",
       "      <td>NaN</td>\n",
       "      <td>NaN</td>\n",
       "      <td>NaN</td>\n",
       "      <td>NaN</td>\n",
       "      <td>...</td>\n",
       "      <td>NaN</td>\n",
       "      <td>NaN</td>\n",
       "      <td>NaN</td>\n",
       "      <td>NaN</td>\n",
       "      <td>NaN</td>\n",
       "      <td>NaN</td>\n",
       "      <td>NaN</td>\n",
       "      <td>NaN</td>\n",
       "      <td>NaN</td>\n",
       "      <td>NaN</td>\n",
       "    </tr>\n",
       "    <tr>\n",
       "      <th>NaN</th>\n",
       "      <td>1996</td>\n",
       "      <td>35</td>\n",
       "      <td>SEA</td>\n",
       "      <td>Joseph Blair</td>\n",
       "      <td>Arizona</td>\n",
       "      <td>NaN</td>\n",
       "      <td>NaN</td>\n",
       "      <td>NaN</td>\n",
       "      <td>NaN</td>\n",
       "      <td>NaN</td>\n",
       "      <td>...</td>\n",
       "      <td>NaN</td>\n",
       "      <td>NaN</td>\n",
       "      <td>NaN</td>\n",
       "      <td>NaN</td>\n",
       "      <td>NaN</td>\n",
       "      <td>NaN</td>\n",
       "      <td>NaN</td>\n",
       "      <td>NaN</td>\n",
       "      <td>NaN</td>\n",
       "      <td>NaN</td>\n",
       "    </tr>\n",
       "    <tr>\n",
       "      <th>NaN</th>\n",
       "      <td>1996</td>\n",
       "      <td>36</td>\n",
       "      <td>LAC</td>\n",
       "      <td>Doron Sheffer</td>\n",
       "      <td>UConn</td>\n",
       "      <td>NaN</td>\n",
       "      <td>NaN</td>\n",
       "      <td>NaN</td>\n",
       "      <td>NaN</td>\n",
       "      <td>NaN</td>\n",
       "      <td>...</td>\n",
       "      <td>NaN</td>\n",
       "      <td>NaN</td>\n",
       "      <td>NaN</td>\n",
       "      <td>NaN</td>\n",
       "      <td>NaN</td>\n",
       "      <td>NaN</td>\n",
       "      <td>NaN</td>\n",
       "      <td>NaN</td>\n",
       "      <td>NaN</td>\n",
       "      <td>NaN</td>\n",
       "    </tr>\n",
       "    <tr>\n",
       "      <th>976.0</th>\n",
       "      <td>1996</td>\n",
       "      <td>37</td>\n",
       "      <td>DEN</td>\n",
       "      <td>Jeff McInnis</td>\n",
       "      <td>UNC</td>\n",
       "      <td>11.0</td>\n",
       "      <td>576.0</td>\n",
       "      <td>15927.0</td>\n",
       "      <td>5396.0</td>\n",
       "      <td>1170.0</td>\n",
       "      <td>...</td>\n",
       "      <td>2.0</td>\n",
       "      <td>4.4</td>\n",
       "      <td>23.1</td>\n",
       "      <td>0.070</td>\n",
       "      <td>-2.1</td>\n",
       "      <td>-0.3</td>\n",
       "      <td>0.080986</td>\n",
       "      <td>-5.149306</td>\n",
       "      <td>105.446354</td>\n",
       "      <td>100.288194</td>\n",
       "    </tr>\n",
       "    <tr>\n",
       "      <th>984.0</th>\n",
       "      <td>1996</td>\n",
       "      <td>38</td>\n",
       "      <td>BOS</td>\n",
       "      <td>Steve Hamer</td>\n",
       "      <td>Tennessee</td>\n",
       "      <td>1.0</td>\n",
       "      <td>35.0</td>\n",
       "      <td>268.0</td>\n",
       "      <td>76.0</td>\n",
       "      <td>60.0</td>\n",
       "      <td>...</td>\n",
       "      <td>1.7</td>\n",
       "      <td>0.2</td>\n",
       "      <td>0.2</td>\n",
       "      <td>0.031</td>\n",
       "      <td>-6.5</td>\n",
       "      <td>-0.3</td>\n",
       "      <td>0.047000</td>\n",
       "      <td>2.000000</td>\n",
       "      <td>102.800000</td>\n",
       "      <td>104.700000</td>\n",
       "    </tr>\n",
       "    <tr>\n",
       "      <th>NaN</th>\n",
       "      <td>1996</td>\n",
       "      <td>39</td>\n",
       "      <td>PHO</td>\n",
       "      <td>Russ Millard</td>\n",
       "      <td>Iowa</td>\n",
       "      <td>NaN</td>\n",
       "      <td>NaN</td>\n",
       "      <td>NaN</td>\n",
       "      <td>NaN</td>\n",
       "      <td>NaN</td>\n",
       "      <td>...</td>\n",
       "      <td>NaN</td>\n",
       "      <td>NaN</td>\n",
       "      <td>NaN</td>\n",
       "      <td>NaN</td>\n",
       "      <td>NaN</td>\n",
       "      <td>NaN</td>\n",
       "      <td>NaN</td>\n",
       "      <td>NaN</td>\n",
       "      <td>NaN</td>\n",
       "      <td>NaN</td>\n",
       "    </tr>\n",
       "    <tr>\n",
       "      <th>NaN</th>\n",
       "      <td>1996</td>\n",
       "      <td>40</td>\n",
       "      <td>GSW</td>\n",
       "      <td>Marcus Mann</td>\n",
       "      <td>Mississippi Valley State University</td>\n",
       "      <td>NaN</td>\n",
       "      <td>NaN</td>\n",
       "      <td>NaN</td>\n",
       "      <td>NaN</td>\n",
       "      <td>NaN</td>\n",
       "      <td>...</td>\n",
       "      <td>NaN</td>\n",
       "      <td>NaN</td>\n",
       "      <td>NaN</td>\n",
       "      <td>NaN</td>\n",
       "      <td>NaN</td>\n",
       "      <td>NaN</td>\n",
       "      <td>NaN</td>\n",
       "      <td>NaN</td>\n",
       "      <td>NaN</td>\n",
       "      <td>NaN</td>\n",
       "    </tr>\n",
       "    <tr>\n",
       "      <th>987.0</th>\n",
       "      <td>1996</td>\n",
       "      <td>41</td>\n",
       "      <td>SAC</td>\n",
       "      <td>Jason Sasser</td>\n",
       "      <td>Texas Tech</td>\n",
       "      <td>2.0</td>\n",
       "      <td>14.0</td>\n",
       "      <td>108.0</td>\n",
       "      <td>30.0</td>\n",
       "      <td>15.0</td>\n",
       "      <td>...</td>\n",
       "      <td>1.1</td>\n",
       "      <td>0.3</td>\n",
       "      <td>NaN</td>\n",
       "      <td>-0.014</td>\n",
       "      <td>-5.7</td>\n",
       "      <td>-0.1</td>\n",
       "      <td>0.045143</td>\n",
       "      <td>-17.928571</td>\n",
       "      <td>100.300000</td>\n",
       "      <td>82.385714</td>\n",
       "    </tr>\n",
       "    <tr>\n",
       "      <th>988.0</th>\n",
       "      <td>1996</td>\n",
       "      <td>42</td>\n",
       "      <td>HOU</td>\n",
       "      <td>Randy Livingston</td>\n",
       "      <td>LSU</td>\n",
       "      <td>11.0</td>\n",
       "      <td>203.0</td>\n",
       "      <td>2684.0</td>\n",
       "      <td>773.0</td>\n",
       "      <td>282.0</td>\n",
       "      <td>...</td>\n",
       "      <td>1.4</td>\n",
       "      <td>2.0</td>\n",
       "      <td>2.3</td>\n",
       "      <td>0.041</td>\n",
       "      <td>-2.5</td>\n",
       "      <td>-0.3</td>\n",
       "      <td>0.063813</td>\n",
       "      <td>-1.318719</td>\n",
       "      <td>98.910837</td>\n",
       "      <td>97.590640</td>\n",
       "    </tr>\n",
       "    <tr>\n",
       "      <th>989.0</th>\n",
       "      <td>1996</td>\n",
       "      <td>43</td>\n",
       "      <td>PHO</td>\n",
       "      <td>Ben Davis</td>\n",
       "      <td>Arizona</td>\n",
       "      <td>4.0</td>\n",
       "      <td>40.0</td>\n",
       "      <td>154.0</td>\n",
       "      <td>54.0</td>\n",
       "      <td>53.0</td>\n",
       "      <td>...</td>\n",
       "      <td>1.3</td>\n",
       "      <td>0.1</td>\n",
       "      <td>0.1</td>\n",
       "      <td>0.040</td>\n",
       "      <td>-5.5</td>\n",
       "      <td>-0.1</td>\n",
       "      <td>0.035650</td>\n",
       "      <td>-4.352500</td>\n",
       "      <td>103.967500</td>\n",
       "      <td>99.552500</td>\n",
       "    </tr>\n",
       "    <tr>\n",
       "      <th>990.0</th>\n",
       "      <td>1996</td>\n",
       "      <td>44</td>\n",
       "      <td>CHH</td>\n",
       "      <td>Malik Rose</td>\n",
       "      <td>Drexel</td>\n",
       "      <td>13.0</td>\n",
       "      <td>813.0</td>\n",
       "      <td>13404.0</td>\n",
       "      <td>5003.0</td>\n",
       "      <td>3371.0</td>\n",
       "      <td>...</td>\n",
       "      <td>4.1</td>\n",
       "      <td>0.8</td>\n",
       "      <td>26.5</td>\n",
       "      <td>0.095</td>\n",
       "      <td>-2.1</td>\n",
       "      <td>-0.4</td>\n",
       "      <td>0.079721</td>\n",
       "      <td>0.809840</td>\n",
       "      <td>99.569619</td>\n",
       "      <td>100.378106</td>\n",
       "    </tr>\n",
       "    <tr>\n",
       "      <th>NaN</th>\n",
       "      <td>1996</td>\n",
       "      <td>45</td>\n",
       "      <td>SEA</td>\n",
       "      <td>Joe Vogel</td>\n",
       "      <td>Colorado State</td>\n",
       "      <td>NaN</td>\n",
       "      <td>NaN</td>\n",
       "      <td>NaN</td>\n",
       "      <td>NaN</td>\n",
       "      <td>NaN</td>\n",
       "      <td>...</td>\n",
       "      <td>NaN</td>\n",
       "      <td>NaN</td>\n",
       "      <td>NaN</td>\n",
       "      <td>NaN</td>\n",
       "      <td>NaN</td>\n",
       "      <td>NaN</td>\n",
       "      <td>NaN</td>\n",
       "      <td>NaN</td>\n",
       "      <td>NaN</td>\n",
       "      <td>NaN</td>\n",
       "    </tr>\n",
       "    <tr>\n",
       "      <th>992.0</th>\n",
       "      <td>1996</td>\n",
       "      <td>46</td>\n",
       "      <td>POR</td>\n",
       "      <td>Marcus Brown</td>\n",
       "      <td>Murray State</td>\n",
       "      <td>2.0</td>\n",
       "      <td>27.0</td>\n",
       "      <td>229.0</td>\n",
       "      <td>92.0</td>\n",
       "      <td>22.0</td>\n",
       "      <td>...</td>\n",
       "      <td>0.8</td>\n",
       "      <td>0.9</td>\n",
       "      <td>0.3</td>\n",
       "      <td>0.066</td>\n",
       "      <td>-2.6</td>\n",
       "      <td>NaN</td>\n",
       "      <td>0.047222</td>\n",
       "      <td>-4.388889</td>\n",
       "      <td>105.500000</td>\n",
       "      <td>101.033333</td>\n",
       "    </tr>\n",
       "    <tr>\n",
       "      <th>NaN</th>\n",
       "      <td>1996</td>\n",
       "      <td>47</td>\n",
       "      <td>SEA</td>\n",
       "      <td>Ron Riley</td>\n",
       "      <td>Arizona State</td>\n",
       "      <td>NaN</td>\n",
       "      <td>NaN</td>\n",
       "      <td>NaN</td>\n",
       "      <td>NaN</td>\n",
       "      <td>NaN</td>\n",
       "      <td>...</td>\n",
       "      <td>NaN</td>\n",
       "      <td>NaN</td>\n",
       "      <td>NaN</td>\n",
       "      <td>NaN</td>\n",
       "      <td>NaN</td>\n",
       "      <td>NaN</td>\n",
       "      <td>NaN</td>\n",
       "      <td>NaN</td>\n",
       "      <td>NaN</td>\n",
       "      <td>NaN</td>\n",
       "    </tr>\n",
       "    <tr>\n",
       "      <th>994.0</th>\n",
       "      <td>1996</td>\n",
       "      <td>48</td>\n",
       "      <td>PHI</td>\n",
       "      <td>Jamie Feick</td>\n",
       "      <td>Michigan State</td>\n",
       "      <td>5.0</td>\n",
       "      <td>201.0</td>\n",
       "      <td>4316.0</td>\n",
       "      <td>911.0</td>\n",
       "      <td>1437.0</td>\n",
       "      <td>...</td>\n",
       "      <td>7.1</td>\n",
       "      <td>0.7</td>\n",
       "      <td>8.2</td>\n",
       "      <td>0.091</td>\n",
       "      <td>-2.7</td>\n",
       "      <td>-0.7</td>\n",
       "      <td>0.081841</td>\n",
       "      <td>-2.565174</td>\n",
       "      <td>104.686567</td>\n",
       "      <td>102.121393</td>\n",
       "    </tr>\n",
       "    <tr>\n",
       "      <th>1043.0</th>\n",
       "      <td>1996</td>\n",
       "      <td>49</td>\n",
       "      <td>ORL</td>\n",
       "      <td>Amal McCaskill</td>\n",
       "      <td>Marquette</td>\n",
       "      <td>4.0</td>\n",
       "      <td>114.0</td>\n",
       "      <td>968.0</td>\n",
       "      <td>204.0</td>\n",
       "      <td>213.0</td>\n",
       "      <td>...</td>\n",
       "      <td>1.9</td>\n",
       "      <td>0.3</td>\n",
       "      <td>0.5</td>\n",
       "      <td>0.024</td>\n",
       "      <td>-4.7</td>\n",
       "      <td>-0.7</td>\n",
       "      <td>0.040526</td>\n",
       "      <td>-10.118421</td>\n",
       "      <td>99.811404</td>\n",
       "      <td>89.692982</td>\n",
       "    </tr>\n",
       "    <tr>\n",
       "      <th>NaN</th>\n",
       "      <td>1996</td>\n",
       "      <td>50</td>\n",
       "      <td>HOU</td>\n",
       "      <td>Terrell Bell</td>\n",
       "      <td>Georgia</td>\n",
       "      <td>NaN</td>\n",
       "      <td>NaN</td>\n",
       "      <td>NaN</td>\n",
       "      <td>NaN</td>\n",
       "      <td>NaN</td>\n",
       "      <td>...</td>\n",
       "      <td>NaN</td>\n",
       "      <td>NaN</td>\n",
       "      <td>NaN</td>\n",
       "      <td>NaN</td>\n",
       "      <td>NaN</td>\n",
       "      <td>NaN</td>\n",
       "      <td>NaN</td>\n",
       "      <td>NaN</td>\n",
       "      <td>NaN</td>\n",
       "      <td>NaN</td>\n",
       "    </tr>\n",
       "    <tr>\n",
       "      <th>997.0</th>\n",
       "      <td>1996</td>\n",
       "      <td>51</td>\n",
       "      <td>VAN</td>\n",
       "      <td>Chris Robinson</td>\n",
       "      <td>Western Kentucky</td>\n",
       "      <td>2.0</td>\n",
       "      <td>76.0</td>\n",
       "      <td>1095.0</td>\n",
       "      <td>350.0</td>\n",
       "      <td>117.0</td>\n",
       "      <td>...</td>\n",
       "      <td>1.5</td>\n",
       "      <td>1.4</td>\n",
       "      <td>-0.1</td>\n",
       "      <td>-0.003</td>\n",
       "      <td>-4.0</td>\n",
       "      <td>-0.6</td>\n",
       "      <td>0.046382</td>\n",
       "      <td>-9.403947</td>\n",
       "      <td>107.571053</td>\n",
       "      <td>98.167105</td>\n",
       "    </tr>\n",
       "    <tr>\n",
       "      <th>998.0</th>\n",
       "      <td>1996</td>\n",
       "      <td>52</td>\n",
       "      <td>IND</td>\n",
       "      <td>Mark Pope</td>\n",
       "      <td>Kentucky</td>\n",
       "      <td>6.0</td>\n",
       "      <td>153.0</td>\n",
       "      <td>1634.0</td>\n",
       "      <td>285.0</td>\n",
       "      <td>261.0</td>\n",
       "      <td>...</td>\n",
       "      <td>1.7</td>\n",
       "      <td>0.4</td>\n",
       "      <td>1.3</td>\n",
       "      <td>0.038</td>\n",
       "      <td>-4.3</td>\n",
       "      <td>-0.9</td>\n",
       "      <td>0.011137</td>\n",
       "      <td>-1.559477</td>\n",
       "      <td>99.324183</td>\n",
       "      <td>97.814379</td>\n",
       "    </tr>\n",
       "    <tr>\n",
       "      <th>999.0</th>\n",
       "      <td>1996</td>\n",
       "      <td>53</td>\n",
       "      <td>MIL</td>\n",
       "      <td>Jeff Nordgaard</td>\n",
       "      <td>Green Bay</td>\n",
       "      <td>1.0</td>\n",
       "      <td>13.0</td>\n",
       "      <td>48.0</td>\n",
       "      <td>18.0</td>\n",
       "      <td>14.0</td>\n",
       "      <td>...</td>\n",
       "      <td>1.1</td>\n",
       "      <td>0.2</td>\n",
       "      <td>NaN</td>\n",
       "      <td>0.043</td>\n",
       "      <td>-3.7</td>\n",
       "      <td>NaN</td>\n",
       "      <td>0.065000</td>\n",
       "      <td>-1.300000</td>\n",
       "      <td>107.500000</td>\n",
       "      <td>106.300000</td>\n",
       "    </tr>\n",
       "    <tr>\n",
       "      <th>1000.0</th>\n",
       "      <td>1996</td>\n",
       "      <td>54</td>\n",
       "      <td>UTA</td>\n",
       "      <td>Shandon Anderson</td>\n",
       "      <td>Georgia</td>\n",
       "      <td>10.0</td>\n",
       "      <td>719.0</td>\n",
       "      <td>15946.0</td>\n",
       "      <td>5327.0</td>\n",
       "      <td>2252.0</td>\n",
       "      <td>...</td>\n",
       "      <td>3.1</td>\n",
       "      <td>1.4</td>\n",
       "      <td>23.6</td>\n",
       "      <td>0.071</td>\n",
       "      <td>-1.3</td>\n",
       "      <td>3.0</td>\n",
       "      <td>0.076740</td>\n",
       "      <td>0.216690</td>\n",
       "      <td>101.930598</td>\n",
       "      <td>102.149652</td>\n",
       "    </tr>\n",
       "    <tr>\n",
       "      <th>NaN</th>\n",
       "      <td>1996</td>\n",
       "      <td>55</td>\n",
       "      <td>WSB</td>\n",
       "      <td>Ronnie Henderson</td>\n",
       "      <td>LSU</td>\n",
       "      <td>NaN</td>\n",
       "      <td>NaN</td>\n",
       "      <td>NaN</td>\n",
       "      <td>NaN</td>\n",
       "      <td>NaN</td>\n",
       "      <td>...</td>\n",
       "      <td>NaN</td>\n",
       "      <td>NaN</td>\n",
       "      <td>NaN</td>\n",
       "      <td>NaN</td>\n",
       "      <td>NaN</td>\n",
       "      <td>NaN</td>\n",
       "      <td>NaN</td>\n",
       "      <td>NaN</td>\n",
       "      <td>NaN</td>\n",
       "      <td>NaN</td>\n",
       "    </tr>\n",
       "    <tr>\n",
       "      <th>1002.0</th>\n",
       "      <td>1996</td>\n",
       "      <td>56</td>\n",
       "      <td>CLE</td>\n",
       "      <td>Reggie Geary</td>\n",
       "      <td>Arizona</td>\n",
       "      <td>2.0</td>\n",
       "      <td>101.0</td>\n",
       "      <td>931.0</td>\n",
       "      <td>209.0</td>\n",
       "      <td>82.0</td>\n",
       "      <td>...</td>\n",
       "      <td>0.8</td>\n",
       "      <td>1.1</td>\n",
       "      <td>0.6</td>\n",
       "      <td>0.032</td>\n",
       "      <td>-2.5</td>\n",
       "      <td>-0.1</td>\n",
       "      <td>0.037040</td>\n",
       "      <td>5.096040</td>\n",
       "      <td>91.571287</td>\n",
       "      <td>96.667327</td>\n",
       "    </tr>\n",
       "    <tr>\n",
       "      <th>1003.0</th>\n",
       "      <td>1996</td>\n",
       "      <td>57</td>\n",
       "      <td>SEA</td>\n",
       "      <td>Drew Barry</td>\n",
       "      <td>Georgia Tech</td>\n",
       "      <td>3.0</td>\n",
       "      <td>60.0</td>\n",
       "      <td>598.0</td>\n",
       "      <td>134.0</td>\n",
       "      <td>67.0</td>\n",
       "      <td>...</td>\n",
       "      <td>1.1</td>\n",
       "      <td>1.9</td>\n",
       "      <td>0.6</td>\n",
       "      <td>0.051</td>\n",
       "      <td>-3.5</td>\n",
       "      <td>-0.2</td>\n",
       "      <td>0.071683</td>\n",
       "      <td>4.743333</td>\n",
       "      <td>98.573333</td>\n",
       "      <td>103.316667</td>\n",
       "    </tr>\n",
       "    <tr>\n",
       "      <th>NaN</th>\n",
       "      <td>1996</td>\n",
       "      <td>58</td>\n",
       "      <td>DAL</td>\n",
       "      <td>Darnell Robinson</td>\n",
       "      <td>Arkansas</td>\n",
       "      <td>NaN</td>\n",
       "      <td>NaN</td>\n",
       "      <td>NaN</td>\n",
       "      <td>NaN</td>\n",
       "      <td>NaN</td>\n",
       "      <td>...</td>\n",
       "      <td>NaN</td>\n",
       "      <td>NaN</td>\n",
       "      <td>NaN</td>\n",
       "      <td>NaN</td>\n",
       "      <td>NaN</td>\n",
       "      <td>NaN</td>\n",
       "      <td>NaN</td>\n",
       "      <td>NaN</td>\n",
       "      <td>NaN</td>\n",
       "      <td>NaN</td>\n",
       "    </tr>\n",
       "    <tr>\n",
       "      <th>1495.0</th>\n",
       "      <td>1997</td>\n",
       "      <td>1</td>\n",
       "      <td>SAS</td>\n",
       "      <td>Tim Duncan</td>\n",
       "      <td>Wake Forest</td>\n",
       "      <td>19.0</td>\n",
       "      <td>1392.0</td>\n",
       "      <td>47368.0</td>\n",
       "      <td>26496.0</td>\n",
       "      <td>15091.0</td>\n",
       "      <td>...</td>\n",
       "      <td>10.8</td>\n",
       "      <td>3.0</td>\n",
       "      <td>206.4</td>\n",
       "      <td>0.209</td>\n",
       "      <td>5.6</td>\n",
       "      <td>91.1</td>\n",
       "      <td>0.176455</td>\n",
       "      <td>9.739871</td>\n",
       "      <td>97.282328</td>\n",
       "      <td>107.021408</td>\n",
       "    </tr>\n",
       "    <tr>\n",
       "      <th>1496.0</th>\n",
       "      <td>1997</td>\n",
       "      <td>2</td>\n",
       "      <td>PHI</td>\n",
       "      <td>Keith Van Horn</td>\n",
       "      <td>Utah</td>\n",
       "      <td>9.0</td>\n",
       "      <td>575.0</td>\n",
       "      <td>18150.0</td>\n",
       "      <td>9206.0</td>\n",
       "      <td>3909.0</td>\n",
       "      <td>...</td>\n",
       "      <td>6.8</td>\n",
       "      <td>1.6</td>\n",
       "      <td>41.7</td>\n",
       "      <td>0.110</td>\n",
       "      <td>0.1</td>\n",
       "      <td>9.6</td>\n",
       "      <td>0.109518</td>\n",
       "      <td>1.198087</td>\n",
       "      <td>102.581043</td>\n",
       "      <td>103.786087</td>\n",
       "    </tr>\n",
       "  </tbody>\n",
       "</table>\n",
       "<p>60 rows × 26 columns</p>\n",
       "</div>"
      ],
      "text/plain": [
       "Player ID  Season  Pk   Tm               Player  \\\n",
       "947.0        1996   1  PHI        Allen Iverson   \n",
       "948.0        1996   2  TOR         Marcus Camby   \n",
       "949.0        1996   3  VAN  Shareef Abdur-Rahim   \n",
       "950.0        1996   4  MIL      Stephon Marbury   \n",
       "951.0        1996   5  MIN            Ray Allen   \n",
       "952.0        1996   6  BOS       Antoine Walker   \n",
       "953.0        1996   7  LAC      Lorenzen Wright   \n",
       "954.0        1996   8  NJN        Kerry Kittles   \n",
       "955.0        1996   9  DAL        Samaki Walker   \n",
       "956.0        1996  10  IND        Erick Dampier   \n",
       "957.0        1996  11  GSW          Todd Fuller   \n",
       "958.0        1996  12  CLE     Vitaly Potapenko   \n",
       "977.0        1996  13  CHH          Kobe Bryant   \n",
       "978.0        1996  14  SAC      Peja Stojaković   \n",
       "959.0        1996  15  PHO           Steve Nash   \n",
       "960.0        1996  16  CHH            Tony Delk   \n",
       "979.0        1996  17  POR      Jermaine O'Neal   \n",
       "961.0        1996  18  NYK         John Wallace   \n",
       "962.0        1996  19  NYK       Walter McCarty   \n",
       "980.0        1996  20  CLE   Zydrunas Ilgauskas   \n",
       "963.0        1996  21  NYK        Dontae' Jones   \n",
       "964.0        1996  22  VAN           Roy Rogers   \n",
       "981.0        1996  23  DEN   Efthimios Rentzias   \n",
       "965.0        1996  24  LAL         Derek Fisher   \n",
       "982.0        1996  25  UTA      Martin Müürsepp   \n",
       "966.0        1996  26  DET      Jerome Williams   \n",
       "967.0        1996  27  ORL          Brian Evans   \n",
       "968.0        1996  28  ATL    Priest Lauderdale   \n",
       "969.0        1996  29  CHI        Travis Knight   \n",
       "970.0        1996  30  HOU   Othella Harrington   \n",
       "971.0        1996  31  PHI     Mark Hendrickson   \n",
       "NaN          1996  32  PHI           Ryan Minor   \n",
       "983.0        1996  33  MIL       Moochie Norris   \n",
       "NaN          1996  34  DAL         Shawn Harvey   \n",
       "NaN          1996  35  SEA         Joseph Blair   \n",
       "NaN          1996  36  LAC        Doron Sheffer   \n",
       "976.0        1996  37  DEN         Jeff McInnis   \n",
       "984.0        1996  38  BOS          Steve Hamer   \n",
       "NaN          1996  39  PHO         Russ Millard   \n",
       "NaN          1996  40  GSW          Marcus Mann   \n",
       "987.0        1996  41  SAC         Jason Sasser   \n",
       "988.0        1996  42  HOU     Randy Livingston   \n",
       "989.0        1996  43  PHO            Ben Davis   \n",
       "990.0        1996  44  CHH           Malik Rose   \n",
       "NaN          1996  45  SEA            Joe Vogel   \n",
       "992.0        1996  46  POR         Marcus Brown   \n",
       "NaN          1996  47  SEA            Ron Riley   \n",
       "994.0        1996  48  PHI          Jamie Feick   \n",
       "1043.0       1996  49  ORL       Amal McCaskill   \n",
       "NaN          1996  50  HOU         Terrell Bell   \n",
       "997.0        1996  51  VAN       Chris Robinson   \n",
       "998.0        1996  52  IND            Mark Pope   \n",
       "999.0        1996  53  MIL       Jeff Nordgaard   \n",
       "1000.0       1996  54  UTA     Shandon Anderson   \n",
       "NaN          1996  55  WSB     Ronnie Henderson   \n",
       "1002.0       1996  56  CLE         Reggie Geary   \n",
       "1003.0       1996  57  SEA           Drew Barry   \n",
       "NaN          1996  58  DAL     Darnell Robinson   \n",
       "1495.0       1997   1  SAS           Tim Duncan   \n",
       "1496.0       1997   2  PHI       Keith Van Horn   \n",
       "\n",
       "Player ID                              College   Yrs       G       MP  \\\n",
       "947.0                               Georgetown  14.0   914.0  37584.0   \n",
       "948.0                                    UMass  17.0   973.0  28684.0   \n",
       "949.0                               California  12.0   830.0  28882.0   \n",
       "950.0                             Georgia Tech  13.0   846.0  31891.0   \n",
       "951.0                                    UConn  18.0  1300.0  46344.0   \n",
       "952.0                                 Kentucky  12.0   893.0  31531.0   \n",
       "953.0                                  Memphis  13.0   778.0  18535.0   \n",
       "954.0                                Villanova   8.0   507.0  16929.0   \n",
       "955.0                               Louisville  10.0   445.0   7612.0   \n",
       "956.0                        Mississippi State  16.0   987.0  24003.0   \n",
       "957.0                                 NC State   5.0   225.0   2500.0   \n",
       "958.0                  Wright State University  11.0   610.0  11608.0   \n",
       "977.0                                      NaN  20.0  1346.0  48637.0   \n",
       "978.0                                      NaN  13.0   804.0  26966.0   \n",
       "959.0                              Santa Clara  18.0  1217.0  38069.0   \n",
       "960.0                                 Kentucky  10.0   545.0  11702.0   \n",
       "979.0                                      NaN  18.0  1011.0  27364.0   \n",
       "961.0                                 Syracuse   7.0   381.0   6143.0   \n",
       "962.0                                 Kentucky  10.0   593.0  10374.0   \n",
       "980.0                                      NaN  13.0   843.0  22965.0   \n",
       "963.0                        Mississippi State   1.0    15.0     91.0   \n",
       "964.0                                  Alabama   3.0   137.0   2309.0   \n",
       "981.0                                      NaN   1.0    35.0    144.0   \n",
       "965.0                              Little Rock  18.0  1287.0  32719.0   \n",
       "982.0                                      NaN   2.0    83.0    951.0   \n",
       "966.0                               Georgetown   9.0   587.0  12755.0   \n",
       "967.0                                  Indiana   3.0   102.0   1097.0   \n",
       "968.0                 Central State University   2.0    74.0    525.0   \n",
       "969.0                                    UConn   7.0   371.0   4566.0   \n",
       "970.0                               Georgetown  12.0   709.0  13924.0   \n",
       "971.0                         Washington State   4.0   114.0   1508.0   \n",
       "NaN                                   Oklahoma   NaN     NaN      NaN   \n",
       "983.0               University of West Florida   9.0   445.0   7640.0   \n",
       "NaN             West Virginia State University   NaN     NaN      NaN   \n",
       "NaN                                    Arizona   NaN     NaN      NaN   \n",
       "NaN                                      UConn   NaN     NaN      NaN   \n",
       "976.0                                      UNC  11.0   576.0  15927.0   \n",
       "984.0                                Tennessee   1.0    35.0    268.0   \n",
       "NaN                                       Iowa   NaN     NaN      NaN   \n",
       "NaN        Mississippi Valley State University   NaN     NaN      NaN   \n",
       "987.0                               Texas Tech   2.0    14.0    108.0   \n",
       "988.0                                      LSU  11.0   203.0   2684.0   \n",
       "989.0                                  Arizona   4.0    40.0    154.0   \n",
       "990.0                                   Drexel  13.0   813.0  13404.0   \n",
       "NaN                             Colorado State   NaN     NaN      NaN   \n",
       "992.0                             Murray State   2.0    27.0    229.0   \n",
       "NaN                              Arizona State   NaN     NaN      NaN   \n",
       "994.0                           Michigan State   5.0   201.0   4316.0   \n",
       "1043.0                               Marquette   4.0   114.0    968.0   \n",
       "NaN                                    Georgia   NaN     NaN      NaN   \n",
       "997.0                         Western Kentucky   2.0    76.0   1095.0   \n",
       "998.0                                 Kentucky   6.0   153.0   1634.0   \n",
       "999.0                                Green Bay   1.0    13.0     48.0   \n",
       "1000.0                                 Georgia  10.0   719.0  15946.0   \n",
       "NaN                                        LSU   NaN     NaN      NaN   \n",
       "1002.0                                 Arizona   2.0   101.0    931.0   \n",
       "1003.0                            Georgia Tech   3.0    60.0    598.0   \n",
       "NaN                                   Arkansas   NaN     NaN      NaN   \n",
       "1495.0                             Wake Forest  19.0  1392.0  47368.0   \n",
       "1496.0                                    Utah   9.0   575.0  18150.0   \n",
       "\n",
       "Player ID      PTS      TRB  ...  TRB.1  AST.1     WS  WS/48   BPM  VORP  \\\n",
       "947.0      24368.0   3394.0  ...    3.7    6.2   99.0  0.126   3.2  49.6   \n",
       "948.0       9262.0   9513.0  ...    9.8    1.9   81.6  0.137   2.3  31.3   \n",
       "949.0      15028.0   6239.0  ...    7.5    2.5   71.2  0.118   1.0  21.9   \n",
       "950.0      16297.0   2516.0  ...    3.0    7.6   77.5  0.117   1.8  30.7   \n",
       "951.0      24505.0   5272.0  ...    4.1    3.4  145.1  0.150   2.9  57.6   \n",
       "952.0      15647.0   6891.0  ...    7.7    3.5   38.1  0.058   0.3  18.0   \n",
       "953.0       6191.0   4943.0  ...    6.4    0.8   30.5  0.079  -2.6  -3.0   \n",
       "954.0       7165.0   1983.0  ...    3.9    2.6   44.8  0.127   2.2  18.0   \n",
       "955.0       2376.0   2089.0  ...    4.7    0.6   14.2  0.089  -2.6  -1.1   \n",
       "956.0       7309.0   7005.0  ...    7.1    0.8   52.7  0.105  -1.3   4.1   \n",
       "957.0        835.0    674.0  ...    3.0    0.2    2.2  0.041  -5.7  -2.3   \n",
       "958.0       3995.0   2725.0  ...    4.5    0.7   15.5  0.064  -4.0  -5.9   \n",
       "977.0      33643.0   7047.0  ...    5.2    4.7  172.7  0.170   4.6  80.1   \n",
       "978.0      13647.0   3782.0  ...    4.7    1.8   82.6  0.147   1.9  26.2   \n",
       "959.0      17387.0   3642.0  ...    3.0    8.5  129.7  0.164   3.0  48.2   \n",
       "960.0       4957.0   1351.0  ...    2.5    1.9   19.5  0.080  -0.4   4.8   \n",
       "979.0      13309.0   7261.0  ...    7.2    1.4   66.0  0.116   0.3  15.6   \n",
       "961.0       2901.0   1061.0  ...    2.8    0.7    6.4  0.050  -2.7  -1.0   \n",
       "962.0       3056.0   1554.0  ...    2.6    1.1   13.7  0.064  -1.7   0.8   \n",
       "980.0      10976.0   6191.0  ...    7.3    1.1   66.3  0.139  -0.2  10.2   \n",
       "963.0         44.0      9.0  ...    0.6    0.3   -0.3 -0.175 -10.9  -0.2   \n",
       "964.0        652.0    483.0  ...    3.5    0.4    1.7  0.035  -3.7  -1.0   \n",
       "981.0         52.0     26.0  ...    0.7    0.2    0.2  0.058  -3.8  -0.1   \n",
       "965.0      10713.0   2658.0  ...    2.1    3.0   62.3  0.091  -0.9   8.9   \n",
       "982.0        389.0    181.0  ...    2.2    0.6    2.0  0.100  -1.6   0.1   \n",
       "966.0       3865.0   3743.0  ...    6.4    0.8   37.9  0.143   0.3   7.4   \n",
       "967.0        375.0    164.0  ...    1.6    0.8    1.7  0.076  -0.8   0.3   \n",
       "968.0        255.0    143.0  ...    1.9    0.4   -0.8 -0.074  -7.9  -0.8   \n",
       "969.0       1276.0   1160.0  ...    3.1    0.6    7.9  0.083  -3.0  -1.1   \n",
       "970.0       5212.0   3130.0  ...    4.4    0.6   23.1  0.080  -3.4  -4.9   \n",
       "971.0        381.0    316.0  ...    2.8    0.6    2.1  0.067  -3.8  -0.7   \n",
       "NaN            NaN      NaN  ...    NaN    NaN    NaN    NaN   NaN   NaN   \n",
       "983.0       2272.0    868.0  ...    2.0    2.8   10.0  0.063  -1.4   1.2   \n",
       "NaN            NaN      NaN  ...    NaN    NaN    NaN    NaN   NaN   NaN   \n",
       "NaN            NaN      NaN  ...    NaN    NaN    NaN    NaN   NaN   NaN   \n",
       "NaN            NaN      NaN  ...    NaN    NaN    NaN    NaN   NaN   NaN   \n",
       "976.0       5396.0   1170.0  ...    2.0    4.4   23.1  0.070  -2.1  -0.3   \n",
       "984.0         76.0     60.0  ...    1.7    0.2    0.2  0.031  -6.5  -0.3   \n",
       "NaN            NaN      NaN  ...    NaN    NaN    NaN    NaN   NaN   NaN   \n",
       "NaN            NaN      NaN  ...    NaN    NaN    NaN    NaN   NaN   NaN   \n",
       "987.0         30.0     15.0  ...    1.1    0.3    NaN -0.014  -5.7  -0.1   \n",
       "988.0        773.0    282.0  ...    1.4    2.0    2.3  0.041  -2.5  -0.3   \n",
       "989.0         54.0     53.0  ...    1.3    0.1    0.1  0.040  -5.5  -0.1   \n",
       "990.0       5003.0   3371.0  ...    4.1    0.8   26.5  0.095  -2.1  -0.4   \n",
       "NaN            NaN      NaN  ...    NaN    NaN    NaN    NaN   NaN   NaN   \n",
       "992.0         92.0     22.0  ...    0.8    0.9    0.3  0.066  -2.6   NaN   \n",
       "NaN            NaN      NaN  ...    NaN    NaN    NaN    NaN   NaN   NaN   \n",
       "994.0        911.0   1437.0  ...    7.1    0.7    8.2  0.091  -2.7  -0.7   \n",
       "1043.0       204.0    213.0  ...    1.9    0.3    0.5  0.024  -4.7  -0.7   \n",
       "NaN            NaN      NaN  ...    NaN    NaN    NaN    NaN   NaN   NaN   \n",
       "997.0        350.0    117.0  ...    1.5    1.4   -0.1 -0.003  -4.0  -0.6   \n",
       "998.0        285.0    261.0  ...    1.7    0.4    1.3  0.038  -4.3  -0.9   \n",
       "999.0         18.0     14.0  ...    1.1    0.2    NaN  0.043  -3.7   NaN   \n",
       "1000.0      5327.0   2252.0  ...    3.1    1.4   23.6  0.071  -1.3   3.0   \n",
       "NaN            NaN      NaN  ...    NaN    NaN    NaN    NaN   NaN   NaN   \n",
       "1002.0       209.0     82.0  ...    0.8    1.1    0.6  0.032  -2.5  -0.1   \n",
       "1003.0       134.0     67.0  ...    1.1    1.9    0.6  0.051  -3.5  -0.2   \n",
       "NaN            NaN      NaN  ...    NaN    NaN    NaN    NaN   NaN   NaN   \n",
       "1495.0     26496.0  15091.0  ...   10.8    3.0  206.4  0.209   5.6  91.1   \n",
       "1496.0      9206.0   3909.0  ...    6.8    1.6   41.7  0.110   0.1   9.6   \n",
       "\n",
       "Player ID       PIE  NET_RATING  DEF_RATING  OFF_RATING  \n",
       "947.0      0.136685    0.846389  102.536105  103.373742  \n",
       "948.0      0.126784    0.228571  102.740699  102.970298  \n",
       "949.0      0.125880   -5.022892  105.843614  100.801928  \n",
       "950.0      0.123372   -1.780615  105.290426  103.501064  \n",
       "951.0      0.119475    3.884615  104.047000  107.940000  \n",
       "952.0      0.106725   -2.122172  104.507055  102.397984  \n",
       "953.0      0.079762   -3.612725  102.883676   99.275450  \n",
       "954.0      0.106501    1.059763  100.949901  101.997436  \n",
       "955.0      0.079793   -4.483371  101.874607   97.406517  \n",
       "956.0      0.082994    0.622594  102.671530  103.291084  \n",
       "957.0      0.060902   -3.978222  100.532444   96.572444  \n",
       "958.0      0.068572   -1.756066  100.802459   99.049344  \n",
       "977.0      0.147353    3.856909  104.002377  107.856018  \n",
       "978.0      0.109571    4.868657  102.800622  107.674005  \n",
       "959.0      0.133380    5.888496  105.084552  110.968529  \n",
       "960.0      0.089996   -1.670092  101.503853   99.820183  \n",
       "979.0      0.115348    1.216617  100.218200  101.445895  \n",
       "961.0      0.084559   -5.524409  102.200787   96.650131  \n",
       "962.0      0.055843   -1.825295   99.533052   97.688027  \n",
       "980.0      0.110667    2.878055  101.560142  104.454923  \n",
       "963.0     -0.003000   -2.000000   96.900000   94.900000  \n",
       "964.0      0.057905  -11.096350  108.275182   97.149635  \n",
       "981.0      0.051000   -5.000000   97.000000   92.000000  \n",
       "965.0      0.075629    6.276146  100.307148  106.602409  \n",
       "982.0      0.070458   -7.719277  102.819277   95.149398  \n",
       "966.0      0.111641    0.470528   99.759284  100.215843  \n",
       "967.0      0.075235   -2.598039   99.178431   96.582353  \n",
       "968.0      0.055635   -3.759459  100.677027   96.917568  \n",
       "969.0      0.046695   -0.921024   97.590296   96.670081  \n",
       "970.0      0.074904   -0.049788  100.122426  100.070240  \n",
       "971.0      0.076675   -6.642982  102.961404   96.360526  \n",
       "NaN             NaN         NaN         NaN         NaN  \n",
       "983.0      0.090829   -1.978202  101.042472   99.091236  \n",
       "NaN             NaN         NaN         NaN         NaN  \n",
       "NaN             NaN         NaN         NaN         NaN  \n",
       "NaN             NaN         NaN         NaN         NaN  \n",
       "976.0      0.080986   -5.149306  105.446354  100.288194  \n",
       "984.0      0.047000    2.000000  102.800000  104.700000  \n",
       "NaN             NaN         NaN         NaN         NaN  \n",
       "NaN             NaN         NaN         NaN         NaN  \n",
       "987.0      0.045143  -17.928571  100.300000   82.385714  \n",
       "988.0      0.063813   -1.318719   98.910837   97.590640  \n",
       "989.0      0.035650   -4.352500  103.967500   99.552500  \n",
       "990.0      0.079721    0.809840   99.569619  100.378106  \n",
       "NaN             NaN         NaN         NaN         NaN  \n",
       "992.0      0.047222   -4.388889  105.500000  101.033333  \n",
       "NaN             NaN         NaN         NaN         NaN  \n",
       "994.0      0.081841   -2.565174  104.686567  102.121393  \n",
       "1043.0     0.040526  -10.118421   99.811404   89.692982  \n",
       "NaN             NaN         NaN         NaN         NaN  \n",
       "997.0      0.046382   -9.403947  107.571053   98.167105  \n",
       "998.0      0.011137   -1.559477   99.324183   97.814379  \n",
       "999.0      0.065000   -1.300000  107.500000  106.300000  \n",
       "1000.0     0.076740    0.216690  101.930598  102.149652  \n",
       "NaN             NaN         NaN         NaN         NaN  \n",
       "1002.0     0.037040    5.096040   91.571287   96.667327  \n",
       "1003.0     0.071683    4.743333   98.573333  103.316667  \n",
       "NaN             NaN         NaN         NaN         NaN  \n",
       "1495.0     0.176455    9.739871   97.282328  107.021408  \n",
       "1496.0     0.109518    1.198087  102.581043  103.786087  \n",
       "\n",
       "[60 rows x 26 columns]"
      ]
     },
     "execution_count": 5,
     "metadata": {},
     "output_type": "execute_result"
    }
   ],
   "source": [
    "# copy the 'Career' columns to a new dataframe\n",
    "df_career = df['Career'].copy()\n",
    "\n",
    "# export the dataframe to a csv file\n",
    "df_career.to_csv('./interim/player_career_avg.csv')\n",
    "\n",
    "df_career.head(60)\n"
   ]
  },
  {
   "cell_type": "markdown",
   "metadata": {},
   "source": [
    "**Select a penalty for unbounded stats**\n",
    "\n",
    "Drafted players who never played a game in the NBA are perceived as bad draft picks but never accumulated any stats. Since excluding them from the analysis would worsen the relative performance of other players selected at that respective draft position, the empty stats should be replaced by a \"bad stat\". For total points, assists and rebounds, 0 is the absolute minimum and therefore suitable as a replacement stat. However, all other stats are unbounded and don't have a definite minimum value. Using the minimum value in our data would be greatly affected by outliers which is why we opted for a quantile that can be dynamically chosen. We recommend using a quantile between 1% and 5%."
   ]
  },
  {
   "cell_type": "code",
   "execution_count": 6,
   "metadata": {},
   "outputs": [
    {
     "data": {
      "text/html": [
       "<div>\n",
       "<style scoped>\n",
       "    .dataframe tbody tr th:only-of-type {\n",
       "        vertical-align: middle;\n",
       "    }\n",
       "\n",
       "    .dataframe tbody tr th {\n",
       "        vertical-align: top;\n",
       "    }\n",
       "\n",
       "    .dataframe thead th {\n",
       "        text-align: right;\n",
       "    }\n",
       "</style>\n",
       "<table border=\"1\" class=\"dataframe\">\n",
       "  <thead>\n",
       "    <tr style=\"text-align: right;\">\n",
       "      <th>Player ID</th>\n",
       "      <th>Season</th>\n",
       "      <th>Pk</th>\n",
       "      <th>Tm</th>\n",
       "      <th>Player</th>\n",
       "      <th>College</th>\n",
       "      <th>Yrs</th>\n",
       "      <th>G</th>\n",
       "      <th>MP</th>\n",
       "      <th>PTS</th>\n",
       "      <th>TRB</th>\n",
       "      <th>...</th>\n",
       "      <th>TRB.1</th>\n",
       "      <th>AST.1</th>\n",
       "      <th>WS</th>\n",
       "      <th>WS/48</th>\n",
       "      <th>BPM</th>\n",
       "      <th>VORP</th>\n",
       "      <th>PIE</th>\n",
       "      <th>NET_RATING</th>\n",
       "      <th>DEF_RATING</th>\n",
       "      <th>OFF_RATING</th>\n",
       "    </tr>\n",
       "  </thead>\n",
       "  <tbody>\n",
       "    <tr>\n",
       "      <th>947.0</th>\n",
       "      <td>1996</td>\n",
       "      <td>1</td>\n",
       "      <td>PHI</td>\n",
       "      <td>Allen Iverson</td>\n",
       "      <td>Georgetown</td>\n",
       "      <td>14.0</td>\n",
       "      <td>914.0</td>\n",
       "      <td>37584.0</td>\n",
       "      <td>24368.0</td>\n",
       "      <td>3394.0</td>\n",
       "      <td>...</td>\n",
       "      <td>3.7</td>\n",
       "      <td>6.2</td>\n",
       "      <td>99.000</td>\n",
       "      <td>0.12600</td>\n",
       "      <td>3.20</td>\n",
       "      <td>49.6</td>\n",
       "      <td>0.136685</td>\n",
       "      <td>0.846389</td>\n",
       "      <td>102.536105</td>\n",
       "      <td>103.373742</td>\n",
       "    </tr>\n",
       "    <tr>\n",
       "      <th>948.0</th>\n",
       "      <td>1996</td>\n",
       "      <td>2</td>\n",
       "      <td>TOR</td>\n",
       "      <td>Marcus Camby</td>\n",
       "      <td>UMass</td>\n",
       "      <td>17.0</td>\n",
       "      <td>973.0</td>\n",
       "      <td>28684.0</td>\n",
       "      <td>9262.0</td>\n",
       "      <td>9513.0</td>\n",
       "      <td>...</td>\n",
       "      <td>9.8</td>\n",
       "      <td>1.9</td>\n",
       "      <td>81.600</td>\n",
       "      <td>0.13700</td>\n",
       "      <td>2.30</td>\n",
       "      <td>31.3</td>\n",
       "      <td>0.126784</td>\n",
       "      <td>0.228571</td>\n",
       "      <td>102.740699</td>\n",
       "      <td>102.970298</td>\n",
       "    </tr>\n",
       "    <tr>\n",
       "      <th>949.0</th>\n",
       "      <td>1996</td>\n",
       "      <td>3</td>\n",
       "      <td>VAN</td>\n",
       "      <td>Shareef Abdur-Rahim</td>\n",
       "      <td>California</td>\n",
       "      <td>12.0</td>\n",
       "      <td>830.0</td>\n",
       "      <td>28882.0</td>\n",
       "      <td>15028.0</td>\n",
       "      <td>6239.0</td>\n",
       "      <td>...</td>\n",
       "      <td>7.5</td>\n",
       "      <td>2.5</td>\n",
       "      <td>71.200</td>\n",
       "      <td>0.11800</td>\n",
       "      <td>1.00</td>\n",
       "      <td>21.9</td>\n",
       "      <td>0.125880</td>\n",
       "      <td>-5.022892</td>\n",
       "      <td>105.843614</td>\n",
       "      <td>100.801928</td>\n",
       "    </tr>\n",
       "    <tr>\n",
       "      <th>950.0</th>\n",
       "      <td>1996</td>\n",
       "      <td>4</td>\n",
       "      <td>MIL</td>\n",
       "      <td>Stephon Marbury</td>\n",
       "      <td>Georgia Tech</td>\n",
       "      <td>13.0</td>\n",
       "      <td>846.0</td>\n",
       "      <td>31891.0</td>\n",
       "      <td>16297.0</td>\n",
       "      <td>2516.0</td>\n",
       "      <td>...</td>\n",
       "      <td>3.0</td>\n",
       "      <td>7.6</td>\n",
       "      <td>77.500</td>\n",
       "      <td>0.11700</td>\n",
       "      <td>1.80</td>\n",
       "      <td>30.7</td>\n",
       "      <td>0.123372</td>\n",
       "      <td>-1.780615</td>\n",
       "      <td>105.290426</td>\n",
       "      <td>103.501064</td>\n",
       "    </tr>\n",
       "    <tr>\n",
       "      <th>951.0</th>\n",
       "      <td>1996</td>\n",
       "      <td>5</td>\n",
       "      <td>MIN</td>\n",
       "      <td>Ray Allen</td>\n",
       "      <td>UConn</td>\n",
       "      <td>18.0</td>\n",
       "      <td>1300.0</td>\n",
       "      <td>46344.0</td>\n",
       "      <td>24505.0</td>\n",
       "      <td>5272.0</td>\n",
       "      <td>...</td>\n",
       "      <td>4.1</td>\n",
       "      <td>3.4</td>\n",
       "      <td>145.100</td>\n",
       "      <td>0.15000</td>\n",
       "      <td>2.90</td>\n",
       "      <td>57.6</td>\n",
       "      <td>0.119475</td>\n",
       "      <td>3.884615</td>\n",
       "      <td>104.047000</td>\n",
       "      <td>107.940000</td>\n",
       "    </tr>\n",
       "    <tr>\n",
       "      <th>952.0</th>\n",
       "      <td>1996</td>\n",
       "      <td>6</td>\n",
       "      <td>BOS</td>\n",
       "      <td>Antoine Walker</td>\n",
       "      <td>Kentucky</td>\n",
       "      <td>12.0</td>\n",
       "      <td>893.0</td>\n",
       "      <td>31531.0</td>\n",
       "      <td>15647.0</td>\n",
       "      <td>6891.0</td>\n",
       "      <td>...</td>\n",
       "      <td>7.7</td>\n",
       "      <td>3.5</td>\n",
       "      <td>38.100</td>\n",
       "      <td>0.05800</td>\n",
       "      <td>0.30</td>\n",
       "      <td>18.0</td>\n",
       "      <td>0.106725</td>\n",
       "      <td>-2.122172</td>\n",
       "      <td>104.507055</td>\n",
       "      <td>102.397984</td>\n",
       "    </tr>\n",
       "    <tr>\n",
       "      <th>953.0</th>\n",
       "      <td>1996</td>\n",
       "      <td>7</td>\n",
       "      <td>LAC</td>\n",
       "      <td>Lorenzen Wright</td>\n",
       "      <td>Memphis</td>\n",
       "      <td>13.0</td>\n",
       "      <td>778.0</td>\n",
       "      <td>18535.0</td>\n",
       "      <td>6191.0</td>\n",
       "      <td>4943.0</td>\n",
       "      <td>...</td>\n",
       "      <td>6.4</td>\n",
       "      <td>0.8</td>\n",
       "      <td>30.500</td>\n",
       "      <td>0.07900</td>\n",
       "      <td>-2.60</td>\n",
       "      <td>-3.0</td>\n",
       "      <td>0.079762</td>\n",
       "      <td>-3.612725</td>\n",
       "      <td>102.883676</td>\n",
       "      <td>99.275450</td>\n",
       "    </tr>\n",
       "    <tr>\n",
       "      <th>954.0</th>\n",
       "      <td>1996</td>\n",
       "      <td>8</td>\n",
       "      <td>NJN</td>\n",
       "      <td>Kerry Kittles</td>\n",
       "      <td>Villanova</td>\n",
       "      <td>8.0</td>\n",
       "      <td>507.0</td>\n",
       "      <td>16929.0</td>\n",
       "      <td>7165.0</td>\n",
       "      <td>1983.0</td>\n",
       "      <td>...</td>\n",
       "      <td>3.9</td>\n",
       "      <td>2.6</td>\n",
       "      <td>44.800</td>\n",
       "      <td>0.12700</td>\n",
       "      <td>2.20</td>\n",
       "      <td>18.0</td>\n",
       "      <td>0.106501</td>\n",
       "      <td>1.059763</td>\n",
       "      <td>100.949901</td>\n",
       "      <td>101.997436</td>\n",
       "    </tr>\n",
       "    <tr>\n",
       "      <th>955.0</th>\n",
       "      <td>1996</td>\n",
       "      <td>9</td>\n",
       "      <td>DAL</td>\n",
       "      <td>Samaki Walker</td>\n",
       "      <td>Louisville</td>\n",
       "      <td>10.0</td>\n",
       "      <td>445.0</td>\n",
       "      <td>7612.0</td>\n",
       "      <td>2376.0</td>\n",
       "      <td>2089.0</td>\n",
       "      <td>...</td>\n",
       "      <td>4.7</td>\n",
       "      <td>0.6</td>\n",
       "      <td>14.200</td>\n",
       "      <td>0.08900</td>\n",
       "      <td>-2.60</td>\n",
       "      <td>-1.1</td>\n",
       "      <td>0.079793</td>\n",
       "      <td>-4.483371</td>\n",
       "      <td>101.874607</td>\n",
       "      <td>97.406517</td>\n",
       "    </tr>\n",
       "    <tr>\n",
       "      <th>956.0</th>\n",
       "      <td>1996</td>\n",
       "      <td>10</td>\n",
       "      <td>IND</td>\n",
       "      <td>Erick Dampier</td>\n",
       "      <td>Mississippi State</td>\n",
       "      <td>16.0</td>\n",
       "      <td>987.0</td>\n",
       "      <td>24003.0</td>\n",
       "      <td>7309.0</td>\n",
       "      <td>7005.0</td>\n",
       "      <td>...</td>\n",
       "      <td>7.1</td>\n",
       "      <td>0.8</td>\n",
       "      <td>52.700</td>\n",
       "      <td>0.10500</td>\n",
       "      <td>-1.30</td>\n",
       "      <td>4.1</td>\n",
       "      <td>0.082994</td>\n",
       "      <td>0.622594</td>\n",
       "      <td>102.671530</td>\n",
       "      <td>103.291084</td>\n",
       "    </tr>\n",
       "    <tr>\n",
       "      <th>957.0</th>\n",
       "      <td>1996</td>\n",
       "      <td>11</td>\n",
       "      <td>GSW</td>\n",
       "      <td>Todd Fuller</td>\n",
       "      <td>NC State</td>\n",
       "      <td>5.0</td>\n",
       "      <td>225.0</td>\n",
       "      <td>2500.0</td>\n",
       "      <td>835.0</td>\n",
       "      <td>674.0</td>\n",
       "      <td>...</td>\n",
       "      <td>3.0</td>\n",
       "      <td>0.2</td>\n",
       "      <td>2.200</td>\n",
       "      <td>0.04100</td>\n",
       "      <td>-5.70</td>\n",
       "      <td>-2.3</td>\n",
       "      <td>0.060902</td>\n",
       "      <td>-3.978222</td>\n",
       "      <td>100.532444</td>\n",
       "      <td>96.572444</td>\n",
       "    </tr>\n",
       "    <tr>\n",
       "      <th>958.0</th>\n",
       "      <td>1996</td>\n",
       "      <td>12</td>\n",
       "      <td>CLE</td>\n",
       "      <td>Vitaly Potapenko</td>\n",
       "      <td>Wright State University</td>\n",
       "      <td>11.0</td>\n",
       "      <td>610.0</td>\n",
       "      <td>11608.0</td>\n",
       "      <td>3995.0</td>\n",
       "      <td>2725.0</td>\n",
       "      <td>...</td>\n",
       "      <td>4.5</td>\n",
       "      <td>0.7</td>\n",
       "      <td>15.500</td>\n",
       "      <td>0.06400</td>\n",
       "      <td>-4.00</td>\n",
       "      <td>-5.9</td>\n",
       "      <td>0.068572</td>\n",
       "      <td>-1.756066</td>\n",
       "      <td>100.802459</td>\n",
       "      <td>99.049344</td>\n",
       "    </tr>\n",
       "    <tr>\n",
       "      <th>977.0</th>\n",
       "      <td>1996</td>\n",
       "      <td>13</td>\n",
       "      <td>CHH</td>\n",
       "      <td>Kobe Bryant</td>\n",
       "      <td>NaN</td>\n",
       "      <td>20.0</td>\n",
       "      <td>1346.0</td>\n",
       "      <td>48637.0</td>\n",
       "      <td>33643.0</td>\n",
       "      <td>7047.0</td>\n",
       "      <td>...</td>\n",
       "      <td>5.2</td>\n",
       "      <td>4.7</td>\n",
       "      <td>172.700</td>\n",
       "      <td>0.17000</td>\n",
       "      <td>4.60</td>\n",
       "      <td>80.1</td>\n",
       "      <td>0.147353</td>\n",
       "      <td>3.856909</td>\n",
       "      <td>104.002377</td>\n",
       "      <td>107.856018</td>\n",
       "    </tr>\n",
       "    <tr>\n",
       "      <th>978.0</th>\n",
       "      <td>1996</td>\n",
       "      <td>14</td>\n",
       "      <td>SAC</td>\n",
       "      <td>Peja Stojaković</td>\n",
       "      <td>NaN</td>\n",
       "      <td>13.0</td>\n",
       "      <td>804.0</td>\n",
       "      <td>26966.0</td>\n",
       "      <td>13647.0</td>\n",
       "      <td>3782.0</td>\n",
       "      <td>...</td>\n",
       "      <td>4.7</td>\n",
       "      <td>1.8</td>\n",
       "      <td>82.600</td>\n",
       "      <td>0.14700</td>\n",
       "      <td>1.90</td>\n",
       "      <td>26.2</td>\n",
       "      <td>0.109571</td>\n",
       "      <td>4.868657</td>\n",
       "      <td>102.800622</td>\n",
       "      <td>107.674005</td>\n",
       "    </tr>\n",
       "    <tr>\n",
       "      <th>959.0</th>\n",
       "      <td>1996</td>\n",
       "      <td>15</td>\n",
       "      <td>PHO</td>\n",
       "      <td>Steve Nash</td>\n",
       "      <td>Santa Clara</td>\n",
       "      <td>18.0</td>\n",
       "      <td>1217.0</td>\n",
       "      <td>38069.0</td>\n",
       "      <td>17387.0</td>\n",
       "      <td>3642.0</td>\n",
       "      <td>...</td>\n",
       "      <td>3.0</td>\n",
       "      <td>8.5</td>\n",
       "      <td>129.700</td>\n",
       "      <td>0.16400</td>\n",
       "      <td>3.00</td>\n",
       "      <td>48.2</td>\n",
       "      <td>0.133380</td>\n",
       "      <td>5.888496</td>\n",
       "      <td>105.084552</td>\n",
       "      <td>110.968529</td>\n",
       "    </tr>\n",
       "    <tr>\n",
       "      <th>960.0</th>\n",
       "      <td>1996</td>\n",
       "      <td>16</td>\n",
       "      <td>CHH</td>\n",
       "      <td>Tony Delk</td>\n",
       "      <td>Kentucky</td>\n",
       "      <td>10.0</td>\n",
       "      <td>545.0</td>\n",
       "      <td>11702.0</td>\n",
       "      <td>4957.0</td>\n",
       "      <td>1351.0</td>\n",
       "      <td>...</td>\n",
       "      <td>2.5</td>\n",
       "      <td>1.9</td>\n",
       "      <td>19.500</td>\n",
       "      <td>0.08000</td>\n",
       "      <td>-0.40</td>\n",
       "      <td>4.8</td>\n",
       "      <td>0.089996</td>\n",
       "      <td>-1.670092</td>\n",
       "      <td>101.503853</td>\n",
       "      <td>99.820183</td>\n",
       "    </tr>\n",
       "    <tr>\n",
       "      <th>979.0</th>\n",
       "      <td>1996</td>\n",
       "      <td>17</td>\n",
       "      <td>POR</td>\n",
       "      <td>Jermaine O'Neal</td>\n",
       "      <td>NaN</td>\n",
       "      <td>18.0</td>\n",
       "      <td>1011.0</td>\n",
       "      <td>27364.0</td>\n",
       "      <td>13309.0</td>\n",
       "      <td>7261.0</td>\n",
       "      <td>...</td>\n",
       "      <td>7.2</td>\n",
       "      <td>1.4</td>\n",
       "      <td>66.000</td>\n",
       "      <td>0.11600</td>\n",
       "      <td>0.30</td>\n",
       "      <td>15.6</td>\n",
       "      <td>0.115348</td>\n",
       "      <td>1.216617</td>\n",
       "      <td>100.218200</td>\n",
       "      <td>101.445895</td>\n",
       "    </tr>\n",
       "    <tr>\n",
       "      <th>961.0</th>\n",
       "      <td>1996</td>\n",
       "      <td>18</td>\n",
       "      <td>NYK</td>\n",
       "      <td>John Wallace</td>\n",
       "      <td>Syracuse</td>\n",
       "      <td>7.0</td>\n",
       "      <td>381.0</td>\n",
       "      <td>6143.0</td>\n",
       "      <td>2901.0</td>\n",
       "      <td>1061.0</td>\n",
       "      <td>...</td>\n",
       "      <td>2.8</td>\n",
       "      <td>0.7</td>\n",
       "      <td>6.400</td>\n",
       "      <td>0.05000</td>\n",
       "      <td>-2.70</td>\n",
       "      <td>-1.0</td>\n",
       "      <td>0.084559</td>\n",
       "      <td>-5.524409</td>\n",
       "      <td>102.200787</td>\n",
       "      <td>96.650131</td>\n",
       "    </tr>\n",
       "    <tr>\n",
       "      <th>962.0</th>\n",
       "      <td>1996</td>\n",
       "      <td>19</td>\n",
       "      <td>NYK</td>\n",
       "      <td>Walter McCarty</td>\n",
       "      <td>Kentucky</td>\n",
       "      <td>10.0</td>\n",
       "      <td>593.0</td>\n",
       "      <td>10374.0</td>\n",
       "      <td>3056.0</td>\n",
       "      <td>1554.0</td>\n",
       "      <td>...</td>\n",
       "      <td>2.6</td>\n",
       "      <td>1.1</td>\n",
       "      <td>13.700</td>\n",
       "      <td>0.06400</td>\n",
       "      <td>-1.70</td>\n",
       "      <td>0.8</td>\n",
       "      <td>0.055843</td>\n",
       "      <td>-1.825295</td>\n",
       "      <td>99.533052</td>\n",
       "      <td>97.688027</td>\n",
       "    </tr>\n",
       "    <tr>\n",
       "      <th>980.0</th>\n",
       "      <td>1996</td>\n",
       "      <td>20</td>\n",
       "      <td>CLE</td>\n",
       "      <td>Zydrunas Ilgauskas</td>\n",
       "      <td>NaN</td>\n",
       "      <td>13.0</td>\n",
       "      <td>843.0</td>\n",
       "      <td>22965.0</td>\n",
       "      <td>10976.0</td>\n",
       "      <td>6191.0</td>\n",
       "      <td>...</td>\n",
       "      <td>7.3</td>\n",
       "      <td>1.1</td>\n",
       "      <td>66.300</td>\n",
       "      <td>0.13900</td>\n",
       "      <td>-0.20</td>\n",
       "      <td>10.2</td>\n",
       "      <td>0.110667</td>\n",
       "      <td>2.878055</td>\n",
       "      <td>101.560142</td>\n",
       "      <td>104.454923</td>\n",
       "    </tr>\n",
       "    <tr>\n",
       "      <th>963.0</th>\n",
       "      <td>1996</td>\n",
       "      <td>21</td>\n",
       "      <td>NYK</td>\n",
       "      <td>Dontae' Jones</td>\n",
       "      <td>Mississippi State</td>\n",
       "      <td>1.0</td>\n",
       "      <td>15.0</td>\n",
       "      <td>91.0</td>\n",
       "      <td>44.0</td>\n",
       "      <td>9.0</td>\n",
       "      <td>...</td>\n",
       "      <td>0.6</td>\n",
       "      <td>0.3</td>\n",
       "      <td>-0.300</td>\n",
       "      <td>-0.17500</td>\n",
       "      <td>-10.90</td>\n",
       "      <td>-0.2</td>\n",
       "      <td>-0.003000</td>\n",
       "      <td>-2.000000</td>\n",
       "      <td>96.900000</td>\n",
       "      <td>94.900000</td>\n",
       "    </tr>\n",
       "    <tr>\n",
       "      <th>964.0</th>\n",
       "      <td>1996</td>\n",
       "      <td>22</td>\n",
       "      <td>VAN</td>\n",
       "      <td>Roy Rogers</td>\n",
       "      <td>Alabama</td>\n",
       "      <td>3.0</td>\n",
       "      <td>137.0</td>\n",
       "      <td>2309.0</td>\n",
       "      <td>652.0</td>\n",
       "      <td>483.0</td>\n",
       "      <td>...</td>\n",
       "      <td>3.5</td>\n",
       "      <td>0.4</td>\n",
       "      <td>1.700</td>\n",
       "      <td>0.03500</td>\n",
       "      <td>-3.70</td>\n",
       "      <td>-1.0</td>\n",
       "      <td>0.057905</td>\n",
       "      <td>-11.096350</td>\n",
       "      <td>108.275182</td>\n",
       "      <td>97.149635</td>\n",
       "    </tr>\n",
       "    <tr>\n",
       "      <th>981.0</th>\n",
       "      <td>1996</td>\n",
       "      <td>23</td>\n",
       "      <td>DEN</td>\n",
       "      <td>Efthimios Rentzias</td>\n",
       "      <td>NaN</td>\n",
       "      <td>1.0</td>\n",
       "      <td>35.0</td>\n",
       "      <td>144.0</td>\n",
       "      <td>52.0</td>\n",
       "      <td>26.0</td>\n",
       "      <td>...</td>\n",
       "      <td>0.7</td>\n",
       "      <td>0.2</td>\n",
       "      <td>0.200</td>\n",
       "      <td>0.05800</td>\n",
       "      <td>-3.80</td>\n",
       "      <td>-0.1</td>\n",
       "      <td>0.051000</td>\n",
       "      <td>-5.000000</td>\n",
       "      <td>97.000000</td>\n",
       "      <td>92.000000</td>\n",
       "    </tr>\n",
       "    <tr>\n",
       "      <th>965.0</th>\n",
       "      <td>1996</td>\n",
       "      <td>24</td>\n",
       "      <td>LAL</td>\n",
       "      <td>Derek Fisher</td>\n",
       "      <td>Little Rock</td>\n",
       "      <td>18.0</td>\n",
       "      <td>1287.0</td>\n",
       "      <td>32719.0</td>\n",
       "      <td>10713.0</td>\n",
       "      <td>2658.0</td>\n",
       "      <td>...</td>\n",
       "      <td>2.1</td>\n",
       "      <td>3.0</td>\n",
       "      <td>62.300</td>\n",
       "      <td>0.09100</td>\n",
       "      <td>-0.90</td>\n",
       "      <td>8.9</td>\n",
       "      <td>0.075629</td>\n",
       "      <td>6.276146</td>\n",
       "      <td>100.307148</td>\n",
       "      <td>106.602409</td>\n",
       "    </tr>\n",
       "    <tr>\n",
       "      <th>982.0</th>\n",
       "      <td>1996</td>\n",
       "      <td>25</td>\n",
       "      <td>UTA</td>\n",
       "      <td>Martin Müürsepp</td>\n",
       "      <td>NaN</td>\n",
       "      <td>2.0</td>\n",
       "      <td>83.0</td>\n",
       "      <td>951.0</td>\n",
       "      <td>389.0</td>\n",
       "      <td>181.0</td>\n",
       "      <td>...</td>\n",
       "      <td>2.2</td>\n",
       "      <td>0.6</td>\n",
       "      <td>2.000</td>\n",
       "      <td>0.10000</td>\n",
       "      <td>-1.60</td>\n",
       "      <td>0.1</td>\n",
       "      <td>0.070458</td>\n",
       "      <td>-7.719277</td>\n",
       "      <td>102.819277</td>\n",
       "      <td>95.149398</td>\n",
       "    </tr>\n",
       "    <tr>\n",
       "      <th>966.0</th>\n",
       "      <td>1996</td>\n",
       "      <td>26</td>\n",
       "      <td>DET</td>\n",
       "      <td>Jerome Williams</td>\n",
       "      <td>Georgetown</td>\n",
       "      <td>9.0</td>\n",
       "      <td>587.0</td>\n",
       "      <td>12755.0</td>\n",
       "      <td>3865.0</td>\n",
       "      <td>3743.0</td>\n",
       "      <td>...</td>\n",
       "      <td>6.4</td>\n",
       "      <td>0.8</td>\n",
       "      <td>37.900</td>\n",
       "      <td>0.14300</td>\n",
       "      <td>0.30</td>\n",
       "      <td>7.4</td>\n",
       "      <td>0.111641</td>\n",
       "      <td>0.470528</td>\n",
       "      <td>99.759284</td>\n",
       "      <td>100.215843</td>\n",
       "    </tr>\n",
       "    <tr>\n",
       "      <th>967.0</th>\n",
       "      <td>1996</td>\n",
       "      <td>27</td>\n",
       "      <td>ORL</td>\n",
       "      <td>Brian Evans</td>\n",
       "      <td>Indiana</td>\n",
       "      <td>3.0</td>\n",
       "      <td>102.0</td>\n",
       "      <td>1097.0</td>\n",
       "      <td>375.0</td>\n",
       "      <td>164.0</td>\n",
       "      <td>...</td>\n",
       "      <td>1.6</td>\n",
       "      <td>0.8</td>\n",
       "      <td>1.700</td>\n",
       "      <td>0.07600</td>\n",
       "      <td>-0.80</td>\n",
       "      <td>0.3</td>\n",
       "      <td>0.075235</td>\n",
       "      <td>-2.598039</td>\n",
       "      <td>99.178431</td>\n",
       "      <td>96.582353</td>\n",
       "    </tr>\n",
       "    <tr>\n",
       "      <th>968.0</th>\n",
       "      <td>1996</td>\n",
       "      <td>28</td>\n",
       "      <td>ATL</td>\n",
       "      <td>Priest Lauderdale</td>\n",
       "      <td>Central State University</td>\n",
       "      <td>2.0</td>\n",
       "      <td>74.0</td>\n",
       "      <td>525.0</td>\n",
       "      <td>255.0</td>\n",
       "      <td>143.0</td>\n",
       "      <td>...</td>\n",
       "      <td>1.9</td>\n",
       "      <td>0.4</td>\n",
       "      <td>-0.800</td>\n",
       "      <td>-0.07400</td>\n",
       "      <td>-7.90</td>\n",
       "      <td>-0.8</td>\n",
       "      <td>0.055635</td>\n",
       "      <td>-3.759459</td>\n",
       "      <td>100.677027</td>\n",
       "      <td>96.917568</td>\n",
       "    </tr>\n",
       "    <tr>\n",
       "      <th>969.0</th>\n",
       "      <td>1996</td>\n",
       "      <td>29</td>\n",
       "      <td>CHI</td>\n",
       "      <td>Travis Knight</td>\n",
       "      <td>UConn</td>\n",
       "      <td>7.0</td>\n",
       "      <td>371.0</td>\n",
       "      <td>4566.0</td>\n",
       "      <td>1276.0</td>\n",
       "      <td>1160.0</td>\n",
       "      <td>...</td>\n",
       "      <td>3.1</td>\n",
       "      <td>0.6</td>\n",
       "      <td>7.900</td>\n",
       "      <td>0.08300</td>\n",
       "      <td>-3.00</td>\n",
       "      <td>-1.1</td>\n",
       "      <td>0.046695</td>\n",
       "      <td>-0.921024</td>\n",
       "      <td>97.590296</td>\n",
       "      <td>96.670081</td>\n",
       "    </tr>\n",
       "    <tr>\n",
       "      <th>970.0</th>\n",
       "      <td>1996</td>\n",
       "      <td>30</td>\n",
       "      <td>HOU</td>\n",
       "      <td>Othella Harrington</td>\n",
       "      <td>Georgetown</td>\n",
       "      <td>12.0</td>\n",
       "      <td>709.0</td>\n",
       "      <td>13924.0</td>\n",
       "      <td>5212.0</td>\n",
       "      <td>3130.0</td>\n",
       "      <td>...</td>\n",
       "      <td>4.4</td>\n",
       "      <td>0.6</td>\n",
       "      <td>23.100</td>\n",
       "      <td>0.08000</td>\n",
       "      <td>-3.40</td>\n",
       "      <td>-4.9</td>\n",
       "      <td>0.074904</td>\n",
       "      <td>-0.049788</td>\n",
       "      <td>100.122426</td>\n",
       "      <td>100.070240</td>\n",
       "    </tr>\n",
       "    <tr>\n",
       "      <th>971.0</th>\n",
       "      <td>1996</td>\n",
       "      <td>31</td>\n",
       "      <td>PHI</td>\n",
       "      <td>Mark Hendrickson</td>\n",
       "      <td>Washington State</td>\n",
       "      <td>4.0</td>\n",
       "      <td>114.0</td>\n",
       "      <td>1508.0</td>\n",
       "      <td>381.0</td>\n",
       "      <td>316.0</td>\n",
       "      <td>...</td>\n",
       "      <td>2.8</td>\n",
       "      <td>0.6</td>\n",
       "      <td>2.100</td>\n",
       "      <td>0.06700</td>\n",
       "      <td>-3.80</td>\n",
       "      <td>-0.7</td>\n",
       "      <td>0.076675</td>\n",
       "      <td>-6.642982</td>\n",
       "      <td>102.961404</td>\n",
       "      <td>96.360526</td>\n",
       "    </tr>\n",
       "    <tr>\n",
       "      <th>NaN</th>\n",
       "      <td>1996</td>\n",
       "      <td>32</td>\n",
       "      <td>PHI</td>\n",
       "      <td>Ryan Minor</td>\n",
       "      <td>Oklahoma</td>\n",
       "      <td>NaN</td>\n",
       "      <td>NaN</td>\n",
       "      <td>NaN</td>\n",
       "      <td>0.0</td>\n",
       "      <td>0.0</td>\n",
       "      <td>...</td>\n",
       "      <td>NaN</td>\n",
       "      <td>NaN</td>\n",
       "      <td>-0.674</td>\n",
       "      <td>-0.13038</td>\n",
       "      <td>-11.86</td>\n",
       "      <td>-3.1</td>\n",
       "      <td>-0.011780</td>\n",
       "      <td>-27.112273</td>\n",
       "      <td>117.072699</td>\n",
       "      <td>79.536857</td>\n",
       "    </tr>\n",
       "    <tr>\n",
       "      <th>983.0</th>\n",
       "      <td>1996</td>\n",
       "      <td>33</td>\n",
       "      <td>MIL</td>\n",
       "      <td>Moochie Norris</td>\n",
       "      <td>University of West Florida</td>\n",
       "      <td>9.0</td>\n",
       "      <td>445.0</td>\n",
       "      <td>7640.0</td>\n",
       "      <td>2272.0</td>\n",
       "      <td>868.0</td>\n",
       "      <td>...</td>\n",
       "      <td>2.0</td>\n",
       "      <td>2.8</td>\n",
       "      <td>10.000</td>\n",
       "      <td>0.06300</td>\n",
       "      <td>-1.40</td>\n",
       "      <td>1.2</td>\n",
       "      <td>0.090829</td>\n",
       "      <td>-1.978202</td>\n",
       "      <td>101.042472</td>\n",
       "      <td>99.091236</td>\n",
       "    </tr>\n",
       "    <tr>\n",
       "      <th>NaN</th>\n",
       "      <td>1996</td>\n",
       "      <td>34</td>\n",
       "      <td>DAL</td>\n",
       "      <td>Shawn Harvey</td>\n",
       "      <td>West Virginia State University</td>\n",
       "      <td>NaN</td>\n",
       "      <td>NaN</td>\n",
       "      <td>NaN</td>\n",
       "      <td>0.0</td>\n",
       "      <td>0.0</td>\n",
       "      <td>...</td>\n",
       "      <td>NaN</td>\n",
       "      <td>NaN</td>\n",
       "      <td>-0.674</td>\n",
       "      <td>-0.13038</td>\n",
       "      <td>-11.86</td>\n",
       "      <td>-3.1</td>\n",
       "      <td>-0.011780</td>\n",
       "      <td>-27.112273</td>\n",
       "      <td>117.072699</td>\n",
       "      <td>79.536857</td>\n",
       "    </tr>\n",
       "    <tr>\n",
       "      <th>NaN</th>\n",
       "      <td>1996</td>\n",
       "      <td>35</td>\n",
       "      <td>SEA</td>\n",
       "      <td>Joseph Blair</td>\n",
       "      <td>Arizona</td>\n",
       "      <td>NaN</td>\n",
       "      <td>NaN</td>\n",
       "      <td>NaN</td>\n",
       "      <td>0.0</td>\n",
       "      <td>0.0</td>\n",
       "      <td>...</td>\n",
       "      <td>NaN</td>\n",
       "      <td>NaN</td>\n",
       "      <td>-0.674</td>\n",
       "      <td>-0.13038</td>\n",
       "      <td>-11.86</td>\n",
       "      <td>-3.1</td>\n",
       "      <td>-0.011780</td>\n",
       "      <td>-27.112273</td>\n",
       "      <td>117.072699</td>\n",
       "      <td>79.536857</td>\n",
       "    </tr>\n",
       "    <tr>\n",
       "      <th>NaN</th>\n",
       "      <td>1996</td>\n",
       "      <td>36</td>\n",
       "      <td>LAC</td>\n",
       "      <td>Doron Sheffer</td>\n",
       "      <td>UConn</td>\n",
       "      <td>NaN</td>\n",
       "      <td>NaN</td>\n",
       "      <td>NaN</td>\n",
       "      <td>0.0</td>\n",
       "      <td>0.0</td>\n",
       "      <td>...</td>\n",
       "      <td>NaN</td>\n",
       "      <td>NaN</td>\n",
       "      <td>-0.674</td>\n",
       "      <td>-0.13038</td>\n",
       "      <td>-11.86</td>\n",
       "      <td>-3.1</td>\n",
       "      <td>-0.011780</td>\n",
       "      <td>-27.112273</td>\n",
       "      <td>117.072699</td>\n",
       "      <td>79.536857</td>\n",
       "    </tr>\n",
       "    <tr>\n",
       "      <th>976.0</th>\n",
       "      <td>1996</td>\n",
       "      <td>37</td>\n",
       "      <td>DEN</td>\n",
       "      <td>Jeff McInnis</td>\n",
       "      <td>UNC</td>\n",
       "      <td>11.0</td>\n",
       "      <td>576.0</td>\n",
       "      <td>15927.0</td>\n",
       "      <td>5396.0</td>\n",
       "      <td>1170.0</td>\n",
       "      <td>...</td>\n",
       "      <td>2.0</td>\n",
       "      <td>4.4</td>\n",
       "      <td>23.100</td>\n",
       "      <td>0.07000</td>\n",
       "      <td>-2.10</td>\n",
       "      <td>-0.3</td>\n",
       "      <td>0.080986</td>\n",
       "      <td>-5.149306</td>\n",
       "      <td>105.446354</td>\n",
       "      <td>100.288194</td>\n",
       "    </tr>\n",
       "    <tr>\n",
       "      <th>984.0</th>\n",
       "      <td>1996</td>\n",
       "      <td>38</td>\n",
       "      <td>BOS</td>\n",
       "      <td>Steve Hamer</td>\n",
       "      <td>Tennessee</td>\n",
       "      <td>1.0</td>\n",
       "      <td>35.0</td>\n",
       "      <td>268.0</td>\n",
       "      <td>76.0</td>\n",
       "      <td>60.0</td>\n",
       "      <td>...</td>\n",
       "      <td>1.7</td>\n",
       "      <td>0.2</td>\n",
       "      <td>0.200</td>\n",
       "      <td>0.03100</td>\n",
       "      <td>-6.50</td>\n",
       "      <td>-0.3</td>\n",
       "      <td>0.047000</td>\n",
       "      <td>2.000000</td>\n",
       "      <td>102.800000</td>\n",
       "      <td>104.700000</td>\n",
       "    </tr>\n",
       "    <tr>\n",
       "      <th>NaN</th>\n",
       "      <td>1996</td>\n",
       "      <td>39</td>\n",
       "      <td>PHO</td>\n",
       "      <td>Russ Millard</td>\n",
       "      <td>Iowa</td>\n",
       "      <td>NaN</td>\n",
       "      <td>NaN</td>\n",
       "      <td>NaN</td>\n",
       "      <td>0.0</td>\n",
       "      <td>0.0</td>\n",
       "      <td>...</td>\n",
       "      <td>NaN</td>\n",
       "      <td>NaN</td>\n",
       "      <td>-0.674</td>\n",
       "      <td>-0.13038</td>\n",
       "      <td>-11.86</td>\n",
       "      <td>-3.1</td>\n",
       "      <td>-0.011780</td>\n",
       "      <td>-27.112273</td>\n",
       "      <td>117.072699</td>\n",
       "      <td>79.536857</td>\n",
       "    </tr>\n",
       "    <tr>\n",
       "      <th>NaN</th>\n",
       "      <td>1996</td>\n",
       "      <td>40</td>\n",
       "      <td>GSW</td>\n",
       "      <td>Marcus Mann</td>\n",
       "      <td>Mississippi Valley State University</td>\n",
       "      <td>NaN</td>\n",
       "      <td>NaN</td>\n",
       "      <td>NaN</td>\n",
       "      <td>0.0</td>\n",
       "      <td>0.0</td>\n",
       "      <td>...</td>\n",
       "      <td>NaN</td>\n",
       "      <td>NaN</td>\n",
       "      <td>-0.674</td>\n",
       "      <td>-0.13038</td>\n",
       "      <td>-11.86</td>\n",
       "      <td>-3.1</td>\n",
       "      <td>-0.011780</td>\n",
       "      <td>-27.112273</td>\n",
       "      <td>117.072699</td>\n",
       "      <td>79.536857</td>\n",
       "    </tr>\n",
       "    <tr>\n",
       "      <th>987.0</th>\n",
       "      <td>1996</td>\n",
       "      <td>41</td>\n",
       "      <td>SAC</td>\n",
       "      <td>Jason Sasser</td>\n",
       "      <td>Texas Tech</td>\n",
       "      <td>2.0</td>\n",
       "      <td>14.0</td>\n",
       "      <td>108.0</td>\n",
       "      <td>30.0</td>\n",
       "      <td>15.0</td>\n",
       "      <td>...</td>\n",
       "      <td>1.1</td>\n",
       "      <td>0.3</td>\n",
       "      <td>-0.674</td>\n",
       "      <td>-0.01400</td>\n",
       "      <td>-5.70</td>\n",
       "      <td>-0.1</td>\n",
       "      <td>0.045143</td>\n",
       "      <td>-17.928571</td>\n",
       "      <td>100.300000</td>\n",
       "      <td>82.385714</td>\n",
       "    </tr>\n",
       "    <tr>\n",
       "      <th>988.0</th>\n",
       "      <td>1996</td>\n",
       "      <td>42</td>\n",
       "      <td>HOU</td>\n",
       "      <td>Randy Livingston</td>\n",
       "      <td>LSU</td>\n",
       "      <td>11.0</td>\n",
       "      <td>203.0</td>\n",
       "      <td>2684.0</td>\n",
       "      <td>773.0</td>\n",
       "      <td>282.0</td>\n",
       "      <td>...</td>\n",
       "      <td>1.4</td>\n",
       "      <td>2.0</td>\n",
       "      <td>2.300</td>\n",
       "      <td>0.04100</td>\n",
       "      <td>-2.50</td>\n",
       "      <td>-0.3</td>\n",
       "      <td>0.063813</td>\n",
       "      <td>-1.318719</td>\n",
       "      <td>98.910837</td>\n",
       "      <td>97.590640</td>\n",
       "    </tr>\n",
       "    <tr>\n",
       "      <th>989.0</th>\n",
       "      <td>1996</td>\n",
       "      <td>43</td>\n",
       "      <td>PHO</td>\n",
       "      <td>Ben Davis</td>\n",
       "      <td>Arizona</td>\n",
       "      <td>4.0</td>\n",
       "      <td>40.0</td>\n",
       "      <td>154.0</td>\n",
       "      <td>54.0</td>\n",
       "      <td>53.0</td>\n",
       "      <td>...</td>\n",
       "      <td>1.3</td>\n",
       "      <td>0.1</td>\n",
       "      <td>0.100</td>\n",
       "      <td>0.04000</td>\n",
       "      <td>-5.50</td>\n",
       "      <td>-0.1</td>\n",
       "      <td>0.035650</td>\n",
       "      <td>-4.352500</td>\n",
       "      <td>103.967500</td>\n",
       "      <td>99.552500</td>\n",
       "    </tr>\n",
       "    <tr>\n",
       "      <th>990.0</th>\n",
       "      <td>1996</td>\n",
       "      <td>44</td>\n",
       "      <td>CHH</td>\n",
       "      <td>Malik Rose</td>\n",
       "      <td>Drexel</td>\n",
       "      <td>13.0</td>\n",
       "      <td>813.0</td>\n",
       "      <td>13404.0</td>\n",
       "      <td>5003.0</td>\n",
       "      <td>3371.0</td>\n",
       "      <td>...</td>\n",
       "      <td>4.1</td>\n",
       "      <td>0.8</td>\n",
       "      <td>26.500</td>\n",
       "      <td>0.09500</td>\n",
       "      <td>-2.10</td>\n",
       "      <td>-0.4</td>\n",
       "      <td>0.079721</td>\n",
       "      <td>0.809840</td>\n",
       "      <td>99.569619</td>\n",
       "      <td>100.378106</td>\n",
       "    </tr>\n",
       "    <tr>\n",
       "      <th>NaN</th>\n",
       "      <td>1996</td>\n",
       "      <td>45</td>\n",
       "      <td>SEA</td>\n",
       "      <td>Joe Vogel</td>\n",
       "      <td>Colorado State</td>\n",
       "      <td>NaN</td>\n",
       "      <td>NaN</td>\n",
       "      <td>NaN</td>\n",
       "      <td>0.0</td>\n",
       "      <td>0.0</td>\n",
       "      <td>...</td>\n",
       "      <td>NaN</td>\n",
       "      <td>NaN</td>\n",
       "      <td>-0.674</td>\n",
       "      <td>-0.13038</td>\n",
       "      <td>-11.86</td>\n",
       "      <td>-3.1</td>\n",
       "      <td>-0.011780</td>\n",
       "      <td>-27.112273</td>\n",
       "      <td>117.072699</td>\n",
       "      <td>79.536857</td>\n",
       "    </tr>\n",
       "    <tr>\n",
       "      <th>992.0</th>\n",
       "      <td>1996</td>\n",
       "      <td>46</td>\n",
       "      <td>POR</td>\n",
       "      <td>Marcus Brown</td>\n",
       "      <td>Murray State</td>\n",
       "      <td>2.0</td>\n",
       "      <td>27.0</td>\n",
       "      <td>229.0</td>\n",
       "      <td>92.0</td>\n",
       "      <td>22.0</td>\n",
       "      <td>...</td>\n",
       "      <td>0.8</td>\n",
       "      <td>0.9</td>\n",
       "      <td>0.300</td>\n",
       "      <td>0.06600</td>\n",
       "      <td>-2.60</td>\n",
       "      <td>-3.1</td>\n",
       "      <td>0.047222</td>\n",
       "      <td>-4.388889</td>\n",
       "      <td>105.500000</td>\n",
       "      <td>101.033333</td>\n",
       "    </tr>\n",
       "    <tr>\n",
       "      <th>NaN</th>\n",
       "      <td>1996</td>\n",
       "      <td>47</td>\n",
       "      <td>SEA</td>\n",
       "      <td>Ron Riley</td>\n",
       "      <td>Arizona State</td>\n",
       "      <td>NaN</td>\n",
       "      <td>NaN</td>\n",
       "      <td>NaN</td>\n",
       "      <td>0.0</td>\n",
       "      <td>0.0</td>\n",
       "      <td>...</td>\n",
       "      <td>NaN</td>\n",
       "      <td>NaN</td>\n",
       "      <td>-0.674</td>\n",
       "      <td>-0.13038</td>\n",
       "      <td>-11.86</td>\n",
       "      <td>-3.1</td>\n",
       "      <td>-0.011780</td>\n",
       "      <td>-27.112273</td>\n",
       "      <td>117.072699</td>\n",
       "      <td>79.536857</td>\n",
       "    </tr>\n",
       "    <tr>\n",
       "      <th>994.0</th>\n",
       "      <td>1996</td>\n",
       "      <td>48</td>\n",
       "      <td>PHI</td>\n",
       "      <td>Jamie Feick</td>\n",
       "      <td>Michigan State</td>\n",
       "      <td>5.0</td>\n",
       "      <td>201.0</td>\n",
       "      <td>4316.0</td>\n",
       "      <td>911.0</td>\n",
       "      <td>1437.0</td>\n",
       "      <td>...</td>\n",
       "      <td>7.1</td>\n",
       "      <td>0.7</td>\n",
       "      <td>8.200</td>\n",
       "      <td>0.09100</td>\n",
       "      <td>-2.70</td>\n",
       "      <td>-0.7</td>\n",
       "      <td>0.081841</td>\n",
       "      <td>-2.565174</td>\n",
       "      <td>104.686567</td>\n",
       "      <td>102.121393</td>\n",
       "    </tr>\n",
       "    <tr>\n",
       "      <th>1043.0</th>\n",
       "      <td>1996</td>\n",
       "      <td>49</td>\n",
       "      <td>ORL</td>\n",
       "      <td>Amal McCaskill</td>\n",
       "      <td>Marquette</td>\n",
       "      <td>4.0</td>\n",
       "      <td>114.0</td>\n",
       "      <td>968.0</td>\n",
       "      <td>204.0</td>\n",
       "      <td>213.0</td>\n",
       "      <td>...</td>\n",
       "      <td>1.9</td>\n",
       "      <td>0.3</td>\n",
       "      <td>0.500</td>\n",
       "      <td>0.02400</td>\n",
       "      <td>-4.70</td>\n",
       "      <td>-0.7</td>\n",
       "      <td>0.040526</td>\n",
       "      <td>-10.118421</td>\n",
       "      <td>99.811404</td>\n",
       "      <td>89.692982</td>\n",
       "    </tr>\n",
       "    <tr>\n",
       "      <th>NaN</th>\n",
       "      <td>1996</td>\n",
       "      <td>50</td>\n",
       "      <td>HOU</td>\n",
       "      <td>Terrell Bell</td>\n",
       "      <td>Georgia</td>\n",
       "      <td>NaN</td>\n",
       "      <td>NaN</td>\n",
       "      <td>NaN</td>\n",
       "      <td>0.0</td>\n",
       "      <td>0.0</td>\n",
       "      <td>...</td>\n",
       "      <td>NaN</td>\n",
       "      <td>NaN</td>\n",
       "      <td>-0.674</td>\n",
       "      <td>-0.13038</td>\n",
       "      <td>-11.86</td>\n",
       "      <td>-3.1</td>\n",
       "      <td>-0.011780</td>\n",
       "      <td>-27.112273</td>\n",
       "      <td>117.072699</td>\n",
       "      <td>79.536857</td>\n",
       "    </tr>\n",
       "    <tr>\n",
       "      <th>997.0</th>\n",
       "      <td>1996</td>\n",
       "      <td>51</td>\n",
       "      <td>VAN</td>\n",
       "      <td>Chris Robinson</td>\n",
       "      <td>Western Kentucky</td>\n",
       "      <td>2.0</td>\n",
       "      <td>76.0</td>\n",
       "      <td>1095.0</td>\n",
       "      <td>350.0</td>\n",
       "      <td>117.0</td>\n",
       "      <td>...</td>\n",
       "      <td>1.5</td>\n",
       "      <td>1.4</td>\n",
       "      <td>-0.100</td>\n",
       "      <td>-0.00300</td>\n",
       "      <td>-4.00</td>\n",
       "      <td>-0.6</td>\n",
       "      <td>0.046382</td>\n",
       "      <td>-9.403947</td>\n",
       "      <td>107.571053</td>\n",
       "      <td>98.167105</td>\n",
       "    </tr>\n",
       "    <tr>\n",
       "      <th>998.0</th>\n",
       "      <td>1996</td>\n",
       "      <td>52</td>\n",
       "      <td>IND</td>\n",
       "      <td>Mark Pope</td>\n",
       "      <td>Kentucky</td>\n",
       "      <td>6.0</td>\n",
       "      <td>153.0</td>\n",
       "      <td>1634.0</td>\n",
       "      <td>285.0</td>\n",
       "      <td>261.0</td>\n",
       "      <td>...</td>\n",
       "      <td>1.7</td>\n",
       "      <td>0.4</td>\n",
       "      <td>1.300</td>\n",
       "      <td>0.03800</td>\n",
       "      <td>-4.30</td>\n",
       "      <td>-0.9</td>\n",
       "      <td>0.011137</td>\n",
       "      <td>-1.559477</td>\n",
       "      <td>99.324183</td>\n",
       "      <td>97.814379</td>\n",
       "    </tr>\n",
       "    <tr>\n",
       "      <th>999.0</th>\n",
       "      <td>1996</td>\n",
       "      <td>53</td>\n",
       "      <td>MIL</td>\n",
       "      <td>Jeff Nordgaard</td>\n",
       "      <td>Green Bay</td>\n",
       "      <td>1.0</td>\n",
       "      <td>13.0</td>\n",
       "      <td>48.0</td>\n",
       "      <td>18.0</td>\n",
       "      <td>14.0</td>\n",
       "      <td>...</td>\n",
       "      <td>1.1</td>\n",
       "      <td>0.2</td>\n",
       "      <td>-0.674</td>\n",
       "      <td>0.04300</td>\n",
       "      <td>-3.70</td>\n",
       "      <td>-3.1</td>\n",
       "      <td>0.065000</td>\n",
       "      <td>-1.300000</td>\n",
       "      <td>107.500000</td>\n",
       "      <td>106.300000</td>\n",
       "    </tr>\n",
       "    <tr>\n",
       "      <th>1000.0</th>\n",
       "      <td>1996</td>\n",
       "      <td>54</td>\n",
       "      <td>UTA</td>\n",
       "      <td>Shandon Anderson</td>\n",
       "      <td>Georgia</td>\n",
       "      <td>10.0</td>\n",
       "      <td>719.0</td>\n",
       "      <td>15946.0</td>\n",
       "      <td>5327.0</td>\n",
       "      <td>2252.0</td>\n",
       "      <td>...</td>\n",
       "      <td>3.1</td>\n",
       "      <td>1.4</td>\n",
       "      <td>23.600</td>\n",
       "      <td>0.07100</td>\n",
       "      <td>-1.30</td>\n",
       "      <td>3.0</td>\n",
       "      <td>0.076740</td>\n",
       "      <td>0.216690</td>\n",
       "      <td>101.930598</td>\n",
       "      <td>102.149652</td>\n",
       "    </tr>\n",
       "    <tr>\n",
       "      <th>NaN</th>\n",
       "      <td>1996</td>\n",
       "      <td>55</td>\n",
       "      <td>WSB</td>\n",
       "      <td>Ronnie Henderson</td>\n",
       "      <td>LSU</td>\n",
       "      <td>NaN</td>\n",
       "      <td>NaN</td>\n",
       "      <td>NaN</td>\n",
       "      <td>0.0</td>\n",
       "      <td>0.0</td>\n",
       "      <td>...</td>\n",
       "      <td>NaN</td>\n",
       "      <td>NaN</td>\n",
       "      <td>-0.674</td>\n",
       "      <td>-0.13038</td>\n",
       "      <td>-11.86</td>\n",
       "      <td>-3.1</td>\n",
       "      <td>-0.011780</td>\n",
       "      <td>-27.112273</td>\n",
       "      <td>117.072699</td>\n",
       "      <td>79.536857</td>\n",
       "    </tr>\n",
       "    <tr>\n",
       "      <th>1002.0</th>\n",
       "      <td>1996</td>\n",
       "      <td>56</td>\n",
       "      <td>CLE</td>\n",
       "      <td>Reggie Geary</td>\n",
       "      <td>Arizona</td>\n",
       "      <td>2.0</td>\n",
       "      <td>101.0</td>\n",
       "      <td>931.0</td>\n",
       "      <td>209.0</td>\n",
       "      <td>82.0</td>\n",
       "      <td>...</td>\n",
       "      <td>0.8</td>\n",
       "      <td>1.1</td>\n",
       "      <td>0.600</td>\n",
       "      <td>0.03200</td>\n",
       "      <td>-2.50</td>\n",
       "      <td>-0.1</td>\n",
       "      <td>0.037040</td>\n",
       "      <td>5.096040</td>\n",
       "      <td>91.571287</td>\n",
       "      <td>96.667327</td>\n",
       "    </tr>\n",
       "    <tr>\n",
       "      <th>1003.0</th>\n",
       "      <td>1996</td>\n",
       "      <td>57</td>\n",
       "      <td>SEA</td>\n",
       "      <td>Drew Barry</td>\n",
       "      <td>Georgia Tech</td>\n",
       "      <td>3.0</td>\n",
       "      <td>60.0</td>\n",
       "      <td>598.0</td>\n",
       "      <td>134.0</td>\n",
       "      <td>67.0</td>\n",
       "      <td>...</td>\n",
       "      <td>1.1</td>\n",
       "      <td>1.9</td>\n",
       "      <td>0.600</td>\n",
       "      <td>0.05100</td>\n",
       "      <td>-3.50</td>\n",
       "      <td>-0.2</td>\n",
       "      <td>0.071683</td>\n",
       "      <td>4.743333</td>\n",
       "      <td>98.573333</td>\n",
       "      <td>103.316667</td>\n",
       "    </tr>\n",
       "    <tr>\n",
       "      <th>NaN</th>\n",
       "      <td>1996</td>\n",
       "      <td>58</td>\n",
       "      <td>DAL</td>\n",
       "      <td>Darnell Robinson</td>\n",
       "      <td>Arkansas</td>\n",
       "      <td>NaN</td>\n",
       "      <td>NaN</td>\n",
       "      <td>NaN</td>\n",
       "      <td>0.0</td>\n",
       "      <td>0.0</td>\n",
       "      <td>...</td>\n",
       "      <td>NaN</td>\n",
       "      <td>NaN</td>\n",
       "      <td>-0.674</td>\n",
       "      <td>-0.13038</td>\n",
       "      <td>-11.86</td>\n",
       "      <td>-3.1</td>\n",
       "      <td>-0.011780</td>\n",
       "      <td>-27.112273</td>\n",
       "      <td>117.072699</td>\n",
       "      <td>79.536857</td>\n",
       "    </tr>\n",
       "    <tr>\n",
       "      <th>1495.0</th>\n",
       "      <td>1997</td>\n",
       "      <td>1</td>\n",
       "      <td>SAS</td>\n",
       "      <td>Tim Duncan</td>\n",
       "      <td>Wake Forest</td>\n",
       "      <td>19.0</td>\n",
       "      <td>1392.0</td>\n",
       "      <td>47368.0</td>\n",
       "      <td>26496.0</td>\n",
       "      <td>15091.0</td>\n",
       "      <td>...</td>\n",
       "      <td>10.8</td>\n",
       "      <td>3.0</td>\n",
       "      <td>206.400</td>\n",
       "      <td>0.20900</td>\n",
       "      <td>5.60</td>\n",
       "      <td>91.1</td>\n",
       "      <td>0.176455</td>\n",
       "      <td>9.739871</td>\n",
       "      <td>97.282328</td>\n",
       "      <td>107.021408</td>\n",
       "    </tr>\n",
       "    <tr>\n",
       "      <th>1496.0</th>\n",
       "      <td>1997</td>\n",
       "      <td>2</td>\n",
       "      <td>PHI</td>\n",
       "      <td>Keith Van Horn</td>\n",
       "      <td>Utah</td>\n",
       "      <td>9.0</td>\n",
       "      <td>575.0</td>\n",
       "      <td>18150.0</td>\n",
       "      <td>9206.0</td>\n",
       "      <td>3909.0</td>\n",
       "      <td>...</td>\n",
       "      <td>6.8</td>\n",
       "      <td>1.6</td>\n",
       "      <td>41.700</td>\n",
       "      <td>0.11000</td>\n",
       "      <td>0.10</td>\n",
       "      <td>9.6</td>\n",
       "      <td>0.109518</td>\n",
       "      <td>1.198087</td>\n",
       "      <td>102.581043</td>\n",
       "      <td>103.786087</td>\n",
       "    </tr>\n",
       "  </tbody>\n",
       "</table>\n",
       "<p>60 rows × 26 columns</p>\n",
       "</div>"
      ],
      "text/plain": [
       "Player ID  Season  Pk   Tm               Player  \\\n",
       "947.0        1996   1  PHI        Allen Iverson   \n",
       "948.0        1996   2  TOR         Marcus Camby   \n",
       "949.0        1996   3  VAN  Shareef Abdur-Rahim   \n",
       "950.0        1996   4  MIL      Stephon Marbury   \n",
       "951.0        1996   5  MIN            Ray Allen   \n",
       "952.0        1996   6  BOS       Antoine Walker   \n",
       "953.0        1996   7  LAC      Lorenzen Wright   \n",
       "954.0        1996   8  NJN        Kerry Kittles   \n",
       "955.0        1996   9  DAL        Samaki Walker   \n",
       "956.0        1996  10  IND        Erick Dampier   \n",
       "957.0        1996  11  GSW          Todd Fuller   \n",
       "958.0        1996  12  CLE     Vitaly Potapenko   \n",
       "977.0        1996  13  CHH          Kobe Bryant   \n",
       "978.0        1996  14  SAC      Peja Stojaković   \n",
       "959.0        1996  15  PHO           Steve Nash   \n",
       "960.0        1996  16  CHH            Tony Delk   \n",
       "979.0        1996  17  POR      Jermaine O'Neal   \n",
       "961.0        1996  18  NYK         John Wallace   \n",
       "962.0        1996  19  NYK       Walter McCarty   \n",
       "980.0        1996  20  CLE   Zydrunas Ilgauskas   \n",
       "963.0        1996  21  NYK        Dontae' Jones   \n",
       "964.0        1996  22  VAN           Roy Rogers   \n",
       "981.0        1996  23  DEN   Efthimios Rentzias   \n",
       "965.0        1996  24  LAL         Derek Fisher   \n",
       "982.0        1996  25  UTA      Martin Müürsepp   \n",
       "966.0        1996  26  DET      Jerome Williams   \n",
       "967.0        1996  27  ORL          Brian Evans   \n",
       "968.0        1996  28  ATL    Priest Lauderdale   \n",
       "969.0        1996  29  CHI        Travis Knight   \n",
       "970.0        1996  30  HOU   Othella Harrington   \n",
       "971.0        1996  31  PHI     Mark Hendrickson   \n",
       "NaN          1996  32  PHI           Ryan Minor   \n",
       "983.0        1996  33  MIL       Moochie Norris   \n",
       "NaN          1996  34  DAL         Shawn Harvey   \n",
       "NaN          1996  35  SEA         Joseph Blair   \n",
       "NaN          1996  36  LAC        Doron Sheffer   \n",
       "976.0        1996  37  DEN         Jeff McInnis   \n",
       "984.0        1996  38  BOS          Steve Hamer   \n",
       "NaN          1996  39  PHO         Russ Millard   \n",
       "NaN          1996  40  GSW          Marcus Mann   \n",
       "987.0        1996  41  SAC         Jason Sasser   \n",
       "988.0        1996  42  HOU     Randy Livingston   \n",
       "989.0        1996  43  PHO            Ben Davis   \n",
       "990.0        1996  44  CHH           Malik Rose   \n",
       "NaN          1996  45  SEA            Joe Vogel   \n",
       "992.0        1996  46  POR         Marcus Brown   \n",
       "NaN          1996  47  SEA            Ron Riley   \n",
       "994.0        1996  48  PHI          Jamie Feick   \n",
       "1043.0       1996  49  ORL       Amal McCaskill   \n",
       "NaN          1996  50  HOU         Terrell Bell   \n",
       "997.0        1996  51  VAN       Chris Robinson   \n",
       "998.0        1996  52  IND            Mark Pope   \n",
       "999.0        1996  53  MIL       Jeff Nordgaard   \n",
       "1000.0       1996  54  UTA     Shandon Anderson   \n",
       "NaN          1996  55  WSB     Ronnie Henderson   \n",
       "1002.0       1996  56  CLE         Reggie Geary   \n",
       "1003.0       1996  57  SEA           Drew Barry   \n",
       "NaN          1996  58  DAL     Darnell Robinson   \n",
       "1495.0       1997   1  SAS           Tim Duncan   \n",
       "1496.0       1997   2  PHI       Keith Van Horn   \n",
       "\n",
       "Player ID                              College   Yrs       G       MP  \\\n",
       "947.0                               Georgetown  14.0   914.0  37584.0   \n",
       "948.0                                    UMass  17.0   973.0  28684.0   \n",
       "949.0                               California  12.0   830.0  28882.0   \n",
       "950.0                             Georgia Tech  13.0   846.0  31891.0   \n",
       "951.0                                    UConn  18.0  1300.0  46344.0   \n",
       "952.0                                 Kentucky  12.0   893.0  31531.0   \n",
       "953.0                                  Memphis  13.0   778.0  18535.0   \n",
       "954.0                                Villanova   8.0   507.0  16929.0   \n",
       "955.0                               Louisville  10.0   445.0   7612.0   \n",
       "956.0                        Mississippi State  16.0   987.0  24003.0   \n",
       "957.0                                 NC State   5.0   225.0   2500.0   \n",
       "958.0                  Wright State University  11.0   610.0  11608.0   \n",
       "977.0                                      NaN  20.0  1346.0  48637.0   \n",
       "978.0                                      NaN  13.0   804.0  26966.0   \n",
       "959.0                              Santa Clara  18.0  1217.0  38069.0   \n",
       "960.0                                 Kentucky  10.0   545.0  11702.0   \n",
       "979.0                                      NaN  18.0  1011.0  27364.0   \n",
       "961.0                                 Syracuse   7.0   381.0   6143.0   \n",
       "962.0                                 Kentucky  10.0   593.0  10374.0   \n",
       "980.0                                      NaN  13.0   843.0  22965.0   \n",
       "963.0                        Mississippi State   1.0    15.0     91.0   \n",
       "964.0                                  Alabama   3.0   137.0   2309.0   \n",
       "981.0                                      NaN   1.0    35.0    144.0   \n",
       "965.0                              Little Rock  18.0  1287.0  32719.0   \n",
       "982.0                                      NaN   2.0    83.0    951.0   \n",
       "966.0                               Georgetown   9.0   587.0  12755.0   \n",
       "967.0                                  Indiana   3.0   102.0   1097.0   \n",
       "968.0                 Central State University   2.0    74.0    525.0   \n",
       "969.0                                    UConn   7.0   371.0   4566.0   \n",
       "970.0                               Georgetown  12.0   709.0  13924.0   \n",
       "971.0                         Washington State   4.0   114.0   1508.0   \n",
       "NaN                                   Oklahoma   NaN     NaN      NaN   \n",
       "983.0               University of West Florida   9.0   445.0   7640.0   \n",
       "NaN             West Virginia State University   NaN     NaN      NaN   \n",
       "NaN                                    Arizona   NaN     NaN      NaN   \n",
       "NaN                                      UConn   NaN     NaN      NaN   \n",
       "976.0                                      UNC  11.0   576.0  15927.0   \n",
       "984.0                                Tennessee   1.0    35.0    268.0   \n",
       "NaN                                       Iowa   NaN     NaN      NaN   \n",
       "NaN        Mississippi Valley State University   NaN     NaN      NaN   \n",
       "987.0                               Texas Tech   2.0    14.0    108.0   \n",
       "988.0                                      LSU  11.0   203.0   2684.0   \n",
       "989.0                                  Arizona   4.0    40.0    154.0   \n",
       "990.0                                   Drexel  13.0   813.0  13404.0   \n",
       "NaN                             Colorado State   NaN     NaN      NaN   \n",
       "992.0                             Murray State   2.0    27.0    229.0   \n",
       "NaN                              Arizona State   NaN     NaN      NaN   \n",
       "994.0                           Michigan State   5.0   201.0   4316.0   \n",
       "1043.0                               Marquette   4.0   114.0    968.0   \n",
       "NaN                                    Georgia   NaN     NaN      NaN   \n",
       "997.0                         Western Kentucky   2.0    76.0   1095.0   \n",
       "998.0                                 Kentucky   6.0   153.0   1634.0   \n",
       "999.0                                Green Bay   1.0    13.0     48.0   \n",
       "1000.0                                 Georgia  10.0   719.0  15946.0   \n",
       "NaN                                        LSU   NaN     NaN      NaN   \n",
       "1002.0                                 Arizona   2.0   101.0    931.0   \n",
       "1003.0                            Georgia Tech   3.0    60.0    598.0   \n",
       "NaN                                   Arkansas   NaN     NaN      NaN   \n",
       "1495.0                             Wake Forest  19.0  1392.0  47368.0   \n",
       "1496.0                                    Utah   9.0   575.0  18150.0   \n",
       "\n",
       "Player ID      PTS      TRB  ...  TRB.1  AST.1       WS    WS/48    BPM  VORP  \\\n",
       "947.0      24368.0   3394.0  ...    3.7    6.2   99.000  0.12600   3.20  49.6   \n",
       "948.0       9262.0   9513.0  ...    9.8    1.9   81.600  0.13700   2.30  31.3   \n",
       "949.0      15028.0   6239.0  ...    7.5    2.5   71.200  0.11800   1.00  21.9   \n",
       "950.0      16297.0   2516.0  ...    3.0    7.6   77.500  0.11700   1.80  30.7   \n",
       "951.0      24505.0   5272.0  ...    4.1    3.4  145.100  0.15000   2.90  57.6   \n",
       "952.0      15647.0   6891.0  ...    7.7    3.5   38.100  0.05800   0.30  18.0   \n",
       "953.0       6191.0   4943.0  ...    6.4    0.8   30.500  0.07900  -2.60  -3.0   \n",
       "954.0       7165.0   1983.0  ...    3.9    2.6   44.800  0.12700   2.20  18.0   \n",
       "955.0       2376.0   2089.0  ...    4.7    0.6   14.200  0.08900  -2.60  -1.1   \n",
       "956.0       7309.0   7005.0  ...    7.1    0.8   52.700  0.10500  -1.30   4.1   \n",
       "957.0        835.0    674.0  ...    3.0    0.2    2.200  0.04100  -5.70  -2.3   \n",
       "958.0       3995.0   2725.0  ...    4.5    0.7   15.500  0.06400  -4.00  -5.9   \n",
       "977.0      33643.0   7047.0  ...    5.2    4.7  172.700  0.17000   4.60  80.1   \n",
       "978.0      13647.0   3782.0  ...    4.7    1.8   82.600  0.14700   1.90  26.2   \n",
       "959.0      17387.0   3642.0  ...    3.0    8.5  129.700  0.16400   3.00  48.2   \n",
       "960.0       4957.0   1351.0  ...    2.5    1.9   19.500  0.08000  -0.40   4.8   \n",
       "979.0      13309.0   7261.0  ...    7.2    1.4   66.000  0.11600   0.30  15.6   \n",
       "961.0       2901.0   1061.0  ...    2.8    0.7    6.400  0.05000  -2.70  -1.0   \n",
       "962.0       3056.0   1554.0  ...    2.6    1.1   13.700  0.06400  -1.70   0.8   \n",
       "980.0      10976.0   6191.0  ...    7.3    1.1   66.300  0.13900  -0.20  10.2   \n",
       "963.0         44.0      9.0  ...    0.6    0.3   -0.300 -0.17500 -10.90  -0.2   \n",
       "964.0        652.0    483.0  ...    3.5    0.4    1.700  0.03500  -3.70  -1.0   \n",
       "981.0         52.0     26.0  ...    0.7    0.2    0.200  0.05800  -3.80  -0.1   \n",
       "965.0      10713.0   2658.0  ...    2.1    3.0   62.300  0.09100  -0.90   8.9   \n",
       "982.0        389.0    181.0  ...    2.2    0.6    2.000  0.10000  -1.60   0.1   \n",
       "966.0       3865.0   3743.0  ...    6.4    0.8   37.900  0.14300   0.30   7.4   \n",
       "967.0        375.0    164.0  ...    1.6    0.8    1.700  0.07600  -0.80   0.3   \n",
       "968.0        255.0    143.0  ...    1.9    0.4   -0.800 -0.07400  -7.90  -0.8   \n",
       "969.0       1276.0   1160.0  ...    3.1    0.6    7.900  0.08300  -3.00  -1.1   \n",
       "970.0       5212.0   3130.0  ...    4.4    0.6   23.100  0.08000  -3.40  -4.9   \n",
       "971.0        381.0    316.0  ...    2.8    0.6    2.100  0.06700  -3.80  -0.7   \n",
       "NaN            0.0      0.0  ...    NaN    NaN   -0.674 -0.13038 -11.86  -3.1   \n",
       "983.0       2272.0    868.0  ...    2.0    2.8   10.000  0.06300  -1.40   1.2   \n",
       "NaN            0.0      0.0  ...    NaN    NaN   -0.674 -0.13038 -11.86  -3.1   \n",
       "NaN            0.0      0.0  ...    NaN    NaN   -0.674 -0.13038 -11.86  -3.1   \n",
       "NaN            0.0      0.0  ...    NaN    NaN   -0.674 -0.13038 -11.86  -3.1   \n",
       "976.0       5396.0   1170.0  ...    2.0    4.4   23.100  0.07000  -2.10  -0.3   \n",
       "984.0         76.0     60.0  ...    1.7    0.2    0.200  0.03100  -6.50  -0.3   \n",
       "NaN            0.0      0.0  ...    NaN    NaN   -0.674 -0.13038 -11.86  -3.1   \n",
       "NaN            0.0      0.0  ...    NaN    NaN   -0.674 -0.13038 -11.86  -3.1   \n",
       "987.0         30.0     15.0  ...    1.1    0.3   -0.674 -0.01400  -5.70  -0.1   \n",
       "988.0        773.0    282.0  ...    1.4    2.0    2.300  0.04100  -2.50  -0.3   \n",
       "989.0         54.0     53.0  ...    1.3    0.1    0.100  0.04000  -5.50  -0.1   \n",
       "990.0       5003.0   3371.0  ...    4.1    0.8   26.500  0.09500  -2.10  -0.4   \n",
       "NaN            0.0      0.0  ...    NaN    NaN   -0.674 -0.13038 -11.86  -3.1   \n",
       "992.0         92.0     22.0  ...    0.8    0.9    0.300  0.06600  -2.60  -3.1   \n",
       "NaN            0.0      0.0  ...    NaN    NaN   -0.674 -0.13038 -11.86  -3.1   \n",
       "994.0        911.0   1437.0  ...    7.1    0.7    8.200  0.09100  -2.70  -0.7   \n",
       "1043.0       204.0    213.0  ...    1.9    0.3    0.500  0.02400  -4.70  -0.7   \n",
       "NaN            0.0      0.0  ...    NaN    NaN   -0.674 -0.13038 -11.86  -3.1   \n",
       "997.0        350.0    117.0  ...    1.5    1.4   -0.100 -0.00300  -4.00  -0.6   \n",
       "998.0        285.0    261.0  ...    1.7    0.4    1.300  0.03800  -4.30  -0.9   \n",
       "999.0         18.0     14.0  ...    1.1    0.2   -0.674  0.04300  -3.70  -3.1   \n",
       "1000.0      5327.0   2252.0  ...    3.1    1.4   23.600  0.07100  -1.30   3.0   \n",
       "NaN            0.0      0.0  ...    NaN    NaN   -0.674 -0.13038 -11.86  -3.1   \n",
       "1002.0       209.0     82.0  ...    0.8    1.1    0.600  0.03200  -2.50  -0.1   \n",
       "1003.0       134.0     67.0  ...    1.1    1.9    0.600  0.05100  -3.50  -0.2   \n",
       "NaN            0.0      0.0  ...    NaN    NaN   -0.674 -0.13038 -11.86  -3.1   \n",
       "1495.0     26496.0  15091.0  ...   10.8    3.0  206.400  0.20900   5.60  91.1   \n",
       "1496.0      9206.0   3909.0  ...    6.8    1.6   41.700  0.11000   0.10   9.6   \n",
       "\n",
       "Player ID       PIE  NET_RATING  DEF_RATING  OFF_RATING  \n",
       "947.0      0.136685    0.846389  102.536105  103.373742  \n",
       "948.0      0.126784    0.228571  102.740699  102.970298  \n",
       "949.0      0.125880   -5.022892  105.843614  100.801928  \n",
       "950.0      0.123372   -1.780615  105.290426  103.501064  \n",
       "951.0      0.119475    3.884615  104.047000  107.940000  \n",
       "952.0      0.106725   -2.122172  104.507055  102.397984  \n",
       "953.0      0.079762   -3.612725  102.883676   99.275450  \n",
       "954.0      0.106501    1.059763  100.949901  101.997436  \n",
       "955.0      0.079793   -4.483371  101.874607   97.406517  \n",
       "956.0      0.082994    0.622594  102.671530  103.291084  \n",
       "957.0      0.060902   -3.978222  100.532444   96.572444  \n",
       "958.0      0.068572   -1.756066  100.802459   99.049344  \n",
       "977.0      0.147353    3.856909  104.002377  107.856018  \n",
       "978.0      0.109571    4.868657  102.800622  107.674005  \n",
       "959.0      0.133380    5.888496  105.084552  110.968529  \n",
       "960.0      0.089996   -1.670092  101.503853   99.820183  \n",
       "979.0      0.115348    1.216617  100.218200  101.445895  \n",
       "961.0      0.084559   -5.524409  102.200787   96.650131  \n",
       "962.0      0.055843   -1.825295   99.533052   97.688027  \n",
       "980.0      0.110667    2.878055  101.560142  104.454923  \n",
       "963.0     -0.003000   -2.000000   96.900000   94.900000  \n",
       "964.0      0.057905  -11.096350  108.275182   97.149635  \n",
       "981.0      0.051000   -5.000000   97.000000   92.000000  \n",
       "965.0      0.075629    6.276146  100.307148  106.602409  \n",
       "982.0      0.070458   -7.719277  102.819277   95.149398  \n",
       "966.0      0.111641    0.470528   99.759284  100.215843  \n",
       "967.0      0.075235   -2.598039   99.178431   96.582353  \n",
       "968.0      0.055635   -3.759459  100.677027   96.917568  \n",
       "969.0      0.046695   -0.921024   97.590296   96.670081  \n",
       "970.0      0.074904   -0.049788  100.122426  100.070240  \n",
       "971.0      0.076675   -6.642982  102.961404   96.360526  \n",
       "NaN       -0.011780  -27.112273  117.072699   79.536857  \n",
       "983.0      0.090829   -1.978202  101.042472   99.091236  \n",
       "NaN       -0.011780  -27.112273  117.072699   79.536857  \n",
       "NaN       -0.011780  -27.112273  117.072699   79.536857  \n",
       "NaN       -0.011780  -27.112273  117.072699   79.536857  \n",
       "976.0      0.080986   -5.149306  105.446354  100.288194  \n",
       "984.0      0.047000    2.000000  102.800000  104.700000  \n",
       "NaN       -0.011780  -27.112273  117.072699   79.536857  \n",
       "NaN       -0.011780  -27.112273  117.072699   79.536857  \n",
       "987.0      0.045143  -17.928571  100.300000   82.385714  \n",
       "988.0      0.063813   -1.318719   98.910837   97.590640  \n",
       "989.0      0.035650   -4.352500  103.967500   99.552500  \n",
       "990.0      0.079721    0.809840   99.569619  100.378106  \n",
       "NaN       -0.011780  -27.112273  117.072699   79.536857  \n",
       "992.0      0.047222   -4.388889  105.500000  101.033333  \n",
       "NaN       -0.011780  -27.112273  117.072699   79.536857  \n",
       "994.0      0.081841   -2.565174  104.686567  102.121393  \n",
       "1043.0     0.040526  -10.118421   99.811404   89.692982  \n",
       "NaN       -0.011780  -27.112273  117.072699   79.536857  \n",
       "997.0      0.046382   -9.403947  107.571053   98.167105  \n",
       "998.0      0.011137   -1.559477   99.324183   97.814379  \n",
       "999.0      0.065000   -1.300000  107.500000  106.300000  \n",
       "1000.0     0.076740    0.216690  101.930598  102.149652  \n",
       "NaN       -0.011780  -27.112273  117.072699   79.536857  \n",
       "1002.0     0.037040    5.096040   91.571287   96.667327  \n",
       "1003.0     0.071683    4.743333   98.573333  103.316667  \n",
       "NaN       -0.011780  -27.112273  117.072699   79.536857  \n",
       "1495.0     0.176455    9.739871   97.282328  107.021408  \n",
       "1496.0     0.109518    1.198087  102.581043  103.786087  \n",
       "\n",
       "[60 rows x 26 columns]"
      ]
     },
     "execution_count": 6,
     "metadata": {},
     "output_type": "execute_result"
    }
   ],
   "source": [
    "# TODO: Allow filtering by season range\n",
    "\n",
    "penalty_quantile = 0.02 # TODO: Replace with widget sometime\n",
    "\n",
    "relevant_stats = ['PTS', 'TRB', 'AST', 'WS', 'WS/48', 'BPM', 'VORP', 'PIE', 'OFF_RATING', 'DEF_RATING', 'NET_RATING']\n",
    "na_fill_values = {'PTS': 0, 'TRB': 0, 'AST': 0, 'WS': df_career['WS'].quantile(penalty_quantile), 'WS/48': df_career['WS/48'].quantile(penalty_quantile), 'BPM': df_career['BPM'].quantile(penalty_quantile), 'VORP': df_career['VORP'].quantile(penalty_quantile), 'PIE': df_career['PIE'].quantile(penalty_quantile), 'OFF_RATING': df_career['OFF_RATING'].quantile(penalty_quantile), 'DEF_RATING': df_career['DEF_RATING'].quantile(1-penalty_quantile), 'NET_RATING': df_career['NET_RATING'].quantile(penalty_quantile)}\n",
    "\n",
    "# fill the NaNs with the respective entry in the na_fill_values dict for each column\n",
    "df_career_na_filled = df_career.fillna(value=na_fill_values)\n",
    "\n",
    "df_career_na_filled.head(60)"
   ]
  },
  {
   "cell_type": "code",
   "execution_count": 7,
   "metadata": {},
   "outputs": [
    {
     "data": {
      "text/html": [
       "<div>\n",
       "<style scoped>\n",
       "    .dataframe tbody tr th:only-of-type {\n",
       "        vertical-align: middle;\n",
       "    }\n",
       "\n",
       "    .dataframe tbody tr th {\n",
       "        vertical-align: top;\n",
       "    }\n",
       "\n",
       "    .dataframe thead th {\n",
       "        text-align: right;\n",
       "    }\n",
       "</style>\n",
       "<table border=\"1\" class=\"dataframe\">\n",
       "  <thead>\n",
       "    <tr style=\"text-align: right;\">\n",
       "      <th>Player ID</th>\n",
       "      <th>Pk</th>\n",
       "      <th>PTS</th>\n",
       "      <th>TRB</th>\n",
       "      <th>AST</th>\n",
       "      <th>WS</th>\n",
       "      <th>WS/48</th>\n",
       "      <th>BPM</th>\n",
       "      <th>VORP</th>\n",
       "      <th>PIE</th>\n",
       "      <th>OFF_RATING</th>\n",
       "      <th>DEF_RATING</th>\n",
       "      <th>NET_RATING</th>\n",
       "    </tr>\n",
       "  </thead>\n",
       "  <tbody>\n",
       "    <tr>\n",
       "      <th>0</th>\n",
       "      <td>1</td>\n",
       "      <td>10584.814815</td>\n",
       "      <td>4343.777778</td>\n",
       "      <td>2085.592593</td>\n",
       "      <td>58.014815</td>\n",
       "      <td>0.120926</td>\n",
       "      <td>1.429630</td>\n",
       "      <td>23.292593</td>\n",
       "      <td>0.124651</td>\n",
       "      <td>107.487503</td>\n",
       "      <td>106.777783</td>\n",
       "      <td>0.704352</td>\n",
       "    </tr>\n",
       "    <tr>\n",
       "      <th>1</th>\n",
       "      <td>2</td>\n",
       "      <td>7187.888889</td>\n",
       "      <td>3181.740741</td>\n",
       "      <td>1377.740741</td>\n",
       "      <td>35.960222</td>\n",
       "      <td>0.083764</td>\n",
       "      <td>-0.691111</td>\n",
       "      <td>10.307407</td>\n",
       "      <td>0.100532</td>\n",
       "      <td>103.784086</td>\n",
       "      <td>107.382250</td>\n",
       "      <td>-3.207812</td>\n",
       "    </tr>\n",
       "    <tr>\n",
       "      <th>2</th>\n",
       "      <td>3</td>\n",
       "      <td>10229.111111</td>\n",
       "      <td>3584.666667</td>\n",
       "      <td>2222.814815</td>\n",
       "      <td>52.744444</td>\n",
       "      <td>0.116148</td>\n",
       "      <td>1.274074</td>\n",
       "      <td>19.259259</td>\n",
       "      <td>0.117689</td>\n",
       "      <td>107.041839</td>\n",
       "      <td>107.019079</td>\n",
       "      <td>0.020454</td>\n",
       "    </tr>\n",
       "    <tr>\n",
       "      <th>3</th>\n",
       "      <td>4</td>\n",
       "      <td>8261.629630</td>\n",
       "      <td>3193.777778</td>\n",
       "      <td>2149.666667</td>\n",
       "      <td>42.859259</td>\n",
       "      <td>0.094815</td>\n",
       "      <td>-0.620741</td>\n",
       "      <td>13.607407</td>\n",
       "      <td>0.101631</td>\n",
       "      <td>106.379093</td>\n",
       "      <td>107.328083</td>\n",
       "      <td>-0.949534</td>\n",
       "    </tr>\n",
       "    <tr>\n",
       "      <th>4</th>\n",
       "      <td>5</td>\n",
       "      <td>8369.962963</td>\n",
       "      <td>2950.629630</td>\n",
       "      <td>1954.444444</td>\n",
       "      <td>39.886148</td>\n",
       "      <td>0.083815</td>\n",
       "      <td>-0.514815</td>\n",
       "      <td>13.133333</td>\n",
       "      <td>0.097731</td>\n",
       "      <td>105.009115</td>\n",
       "      <td>106.955090</td>\n",
       "      <td>-1.945165</td>\n",
       "    </tr>\n",
       "    <tr>\n",
       "      <th>5</th>\n",
       "      <td>6</td>\n",
       "      <td>4981.259259</td>\n",
       "      <td>1965.925926</td>\n",
       "      <td>977.444444</td>\n",
       "      <td>23.578741</td>\n",
       "      <td>0.080430</td>\n",
       "      <td>-0.666667</td>\n",
       "      <td>6.881481</td>\n",
       "      <td>0.090968</td>\n",
       "      <td>104.194691</td>\n",
       "      <td>106.552246</td>\n",
       "      <td>-2.353500</td>\n",
       "    </tr>\n",
       "    <tr>\n",
       "      <th>6</th>\n",
       "      <td>7</td>\n",
       "      <td>7493.222222</td>\n",
       "      <td>2754.370370</td>\n",
       "      <td>1558.444444</td>\n",
       "      <td>32.992593</td>\n",
       "      <td>0.084407</td>\n",
       "      <td>-1.209630</td>\n",
       "      <td>7.862963</td>\n",
       "      <td>0.095110</td>\n",
       "      <td>105.717086</td>\n",
       "      <td>107.377567</td>\n",
       "      <td>-1.664906</td>\n",
       "    </tr>\n",
       "    <tr>\n",
       "      <th>7</th>\n",
       "      <td>8</td>\n",
       "      <td>5479.666667</td>\n",
       "      <td>2033.259259</td>\n",
       "      <td>1219.111111</td>\n",
       "      <td>22.874074</td>\n",
       "      <td>0.076296</td>\n",
       "      <td>-1.665185</td>\n",
       "      <td>4.966667</td>\n",
       "      <td>0.085489</td>\n",
       "      <td>104.309812</td>\n",
       "      <td>106.343669</td>\n",
       "      <td>-2.033688</td>\n",
       "    </tr>\n",
       "    <tr>\n",
       "      <th>8</th>\n",
       "      <td>9</td>\n",
       "      <td>7624.037037</td>\n",
       "      <td>3266.888889</td>\n",
       "      <td>1507.222222</td>\n",
       "      <td>42.896296</td>\n",
       "      <td>0.095296</td>\n",
       "      <td>-0.533333</td>\n",
       "      <td>14.081481</td>\n",
       "      <td>0.100264</td>\n",
       "      <td>105.066280</td>\n",
       "      <td>106.602401</td>\n",
       "      <td>-1.530061</td>\n",
       "    </tr>\n",
       "    <tr>\n",
       "      <th>9</th>\n",
       "      <td>10</td>\n",
       "      <td>6987.000000</td>\n",
       "      <td>2425.444444</td>\n",
       "      <td>1464.074074</td>\n",
       "      <td>32.655556</td>\n",
       "      <td>0.080259</td>\n",
       "      <td>-1.177778</td>\n",
       "      <td>9.422222</td>\n",
       "      <td>0.087978</td>\n",
       "      <td>105.069798</td>\n",
       "      <td>106.502830</td>\n",
       "      <td>-1.429809</td>\n",
       "    </tr>\n",
       "    <tr>\n",
       "      <th>10</th>\n",
       "      <td>11</td>\n",
       "      <td>3633.481481</td>\n",
       "      <td>1392.222222</td>\n",
       "      <td>670.037037</td>\n",
       "      <td>16.197259</td>\n",
       "      <td>0.069875</td>\n",
       "      <td>-1.672593</td>\n",
       "      <td>3.240741</td>\n",
       "      <td>0.082584</td>\n",
       "      <td>103.043283</td>\n",
       "      <td>105.507982</td>\n",
       "      <td>-2.083479</td>\n",
       "    </tr>\n",
       "    <tr>\n",
       "      <th>11</th>\n",
       "      <td>12</td>\n",
       "      <td>3794.777778</td>\n",
       "      <td>1969.777778</td>\n",
       "      <td>627.851852</td>\n",
       "      <td>18.211111</td>\n",
       "      <td>0.069074</td>\n",
       "      <td>-1.996296</td>\n",
       "      <td>2.511111</td>\n",
       "      <td>0.073805</td>\n",
       "      <td>99.827137</td>\n",
       "      <td>101.806416</td>\n",
       "      <td>-1.984257</td>\n",
       "    </tr>\n",
       "    <tr>\n",
       "      <th>12</th>\n",
       "      <td>13</td>\n",
       "      <td>5725.296296</td>\n",
       "      <td>1856.111111</td>\n",
       "      <td>1107.481481</td>\n",
       "      <td>26.181481</td>\n",
       "      <td>0.080407</td>\n",
       "      <td>-1.062963</td>\n",
       "      <td>7.351852</td>\n",
       "      <td>0.092122</td>\n",
       "      <td>104.272263</td>\n",
       "      <td>105.990909</td>\n",
       "      <td>-1.719014</td>\n",
       "    </tr>\n",
       "    <tr>\n",
       "      <th>13</th>\n",
       "      <td>14</td>\n",
       "      <td>3807.111111</td>\n",
       "      <td>1603.777778</td>\n",
       "      <td>662.407407</td>\n",
       "      <td>17.870370</td>\n",
       "      <td>0.074889</td>\n",
       "      <td>-1.902222</td>\n",
       "      <td>3.203704</td>\n",
       "      <td>0.084155</td>\n",
       "      <td>103.919806</td>\n",
       "      <td>106.410504</td>\n",
       "      <td>-2.489708</td>\n",
       "    </tr>\n",
       "    <tr>\n",
       "      <th>14</th>\n",
       "      <td>15</td>\n",
       "      <td>4402.962963</td>\n",
       "      <td>1859.000000</td>\n",
       "      <td>947.074074</td>\n",
       "      <td>24.115778</td>\n",
       "      <td>0.072467</td>\n",
       "      <td>-1.809630</td>\n",
       "      <td>6.477778</td>\n",
       "      <td>0.081104</td>\n",
       "      <td>102.487564</td>\n",
       "      <td>106.873696</td>\n",
       "      <td>-3.996859</td>\n",
       "    </tr>\n",
       "    <tr>\n",
       "      <th>15</th>\n",
       "      <td>16</td>\n",
       "      <td>3586.481481</td>\n",
       "      <td>1522.444444</td>\n",
       "      <td>805.962963</td>\n",
       "      <td>15.913037</td>\n",
       "      <td>0.048852</td>\n",
       "      <td>-2.744444</td>\n",
       "      <td>3.985185</td>\n",
       "      <td>0.068568</td>\n",
       "      <td>101.937466</td>\n",
       "      <td>105.705476</td>\n",
       "      <td>-3.768500</td>\n",
       "    </tr>\n",
       "    <tr>\n",
       "      <th>16</th>\n",
       "      <td>17</td>\n",
       "      <td>3934.740741</td>\n",
       "      <td>1710.481481</td>\n",
       "      <td>809.740741</td>\n",
       "      <td>16.285185</td>\n",
       "      <td>0.062370</td>\n",
       "      <td>-1.962963</td>\n",
       "      <td>3.344444</td>\n",
       "      <td>0.074311</td>\n",
       "      <td>98.695348</td>\n",
       "      <td>101.686661</td>\n",
       "      <td>-2.993835</td>\n",
       "    </tr>\n",
       "    <tr>\n",
       "      <th>17</th>\n",
       "      <td>18</td>\n",
       "      <td>3717.703704</td>\n",
       "      <td>1487.666667</td>\n",
       "      <td>738.814815</td>\n",
       "      <td>17.549111</td>\n",
       "      <td>0.072222</td>\n",
       "      <td>-2.634074</td>\n",
       "      <td>3.718519</td>\n",
       "      <td>0.082794</td>\n",
       "      <td>102.464423</td>\n",
       "      <td>104.794579</td>\n",
       "      <td>-2.334782</td>\n",
       "    </tr>\n",
       "    <tr>\n",
       "      <th>18</th>\n",
       "      <td>19</td>\n",
       "      <td>4102.444444</td>\n",
       "      <td>1778.629630</td>\n",
       "      <td>693.851852</td>\n",
       "      <td>17.912074</td>\n",
       "      <td>0.062430</td>\n",
       "      <td>-2.133333</td>\n",
       "      <td>2.622222</td>\n",
       "      <td>0.076503</td>\n",
       "      <td>102.784516</td>\n",
       "      <td>105.406704</td>\n",
       "      <td>-2.620875</td>\n",
       "    </tr>\n",
       "    <tr>\n",
       "      <th>19</th>\n",
       "      <td>20</td>\n",
       "      <td>2893.518519</td>\n",
       "      <td>1230.296296</td>\n",
       "      <td>648.629630</td>\n",
       "      <td>13.171333</td>\n",
       "      <td>0.063963</td>\n",
       "      <td>-2.122222</td>\n",
       "      <td>1.307407</td>\n",
       "      <td>0.073278</td>\n",
       "      <td>102.648644</td>\n",
       "      <td>105.305890</td>\n",
       "      <td>-2.657361</td>\n",
       "    </tr>\n",
       "    <tr>\n",
       "      <th>20</th>\n",
       "      <td>21</td>\n",
       "      <td>3396.000000</td>\n",
       "      <td>1453.555556</td>\n",
       "      <td>995.185185</td>\n",
       "      <td>18.059259</td>\n",
       "      <td>0.048185</td>\n",
       "      <td>-2.603704</td>\n",
       "      <td>4.259259</td>\n",
       "      <td>0.066192</td>\n",
       "      <td>100.549551</td>\n",
       "      <td>104.991703</td>\n",
       "      <td>-4.441105</td>\n",
       "    </tr>\n",
       "    <tr>\n",
       "      <th>21</th>\n",
       "      <td>22</td>\n",
       "      <td>2479.185185</td>\n",
       "      <td>1379.888889</td>\n",
       "      <td>511.629630</td>\n",
       "      <td>13.827852</td>\n",
       "      <td>0.073741</td>\n",
       "      <td>-1.996296</td>\n",
       "      <td>2.207407</td>\n",
       "      <td>0.075395</td>\n",
       "      <td>101.425766</td>\n",
       "      <td>105.390968</td>\n",
       "      <td>-3.963946</td>\n",
       "    </tr>\n",
       "    <tr>\n",
       "      <th>22</th>\n",
       "      <td>23</td>\n",
       "      <td>3306.370370</td>\n",
       "      <td>1454.925926</td>\n",
       "      <td>610.000000</td>\n",
       "      <td>14.596296</td>\n",
       "      <td>0.065667</td>\n",
       "      <td>-2.011111</td>\n",
       "      <td>2.151852</td>\n",
       "      <td>0.076098</td>\n",
       "      <td>102.765843</td>\n",
       "      <td>105.880742</td>\n",
       "      <td>-3.116649</td>\n",
       "    </tr>\n",
       "    <tr>\n",
       "      <th>23</th>\n",
       "      <td>24</td>\n",
       "      <td>3750.629630</td>\n",
       "      <td>1283.592593</td>\n",
       "      <td>1012.518519</td>\n",
       "      <td>19.215778</td>\n",
       "      <td>0.061037</td>\n",
       "      <td>-1.922222</td>\n",
       "      <td>5.092593</td>\n",
       "      <td>0.076729</td>\n",
       "      <td>102.826731</td>\n",
       "      <td>105.752700</td>\n",
       "      <td>-2.927112</td>\n",
       "    </tr>\n",
       "    <tr>\n",
       "      <th>24</th>\n",
       "      <td>25</td>\n",
       "      <td>2836.629630</td>\n",
       "      <td>1350.296296</td>\n",
       "      <td>507.814815</td>\n",
       "      <td>14.176000</td>\n",
       "      <td>0.062852</td>\n",
       "      <td>-2.170370</td>\n",
       "      <td>3.037037</td>\n",
       "      <td>0.075513</td>\n",
       "      <td>102.068411</td>\n",
       "      <td>104.365466</td>\n",
       "      <td>-2.294458</td>\n",
       "    </tr>\n",
       "    <tr>\n",
       "      <th>25</th>\n",
       "      <td>26</td>\n",
       "      <td>2950.185185</td>\n",
       "      <td>1325.703704</td>\n",
       "      <td>561.000000</td>\n",
       "      <td>16.352815</td>\n",
       "      <td>0.069171</td>\n",
       "      <td>-2.042963</td>\n",
       "      <td>2.255556</td>\n",
       "      <td>0.069610</td>\n",
       "      <td>98.534203</td>\n",
       "      <td>102.490745</td>\n",
       "      <td>-3.563679</td>\n",
       "    </tr>\n",
       "    <tr>\n",
       "      <th>26</th>\n",
       "      <td>27</td>\n",
       "      <td>3109.777778</td>\n",
       "      <td>1560.185185</td>\n",
       "      <td>690.925926</td>\n",
       "      <td>16.125926</td>\n",
       "      <td>0.084111</td>\n",
       "      <td>-2.234074</td>\n",
       "      <td>3.029630</td>\n",
       "      <td>0.087543</td>\n",
       "      <td>102.209626</td>\n",
       "      <td>104.740107</td>\n",
       "      <td>-2.530503</td>\n",
       "    </tr>\n",
       "    <tr>\n",
       "      <th>27</th>\n",
       "      <td>28</td>\n",
       "      <td>2576.592593</td>\n",
       "      <td>772.037037</td>\n",
       "      <td>717.518519</td>\n",
       "      <td>11.741704</td>\n",
       "      <td>0.045245</td>\n",
       "      <td>-2.965185</td>\n",
       "      <td>1.381481</td>\n",
       "      <td>0.069685</td>\n",
       "      <td>99.746208</td>\n",
       "      <td>104.281974</td>\n",
       "      <td>-4.148843</td>\n",
       "    </tr>\n",
       "    <tr>\n",
       "      <th>28</th>\n",
       "      <td>29</td>\n",
       "      <td>1810.791667</td>\n",
       "      <td>857.458333</td>\n",
       "      <td>416.250000</td>\n",
       "      <td>8.292750</td>\n",
       "      <td>0.063417</td>\n",
       "      <td>-2.795833</td>\n",
       "      <td>0.637500</td>\n",
       "      <td>0.073254</td>\n",
       "      <td>102.828327</td>\n",
       "      <td>104.681942</td>\n",
       "      <td>-1.856485</td>\n",
       "    </tr>\n",
       "    <tr>\n",
       "      <th>29</th>\n",
       "      <td>30</td>\n",
       "      <td>2338.851852</td>\n",
       "      <td>1286.629630</td>\n",
       "      <td>530.555556</td>\n",
       "      <td>15.036222</td>\n",
       "      <td>0.049773</td>\n",
       "      <td>-3.162222</td>\n",
       "      <td>2.918519</td>\n",
       "      <td>0.116935</td>\n",
       "      <td>186.028058</td>\n",
       "      <td>196.449924</td>\n",
       "      <td>-9.271605</td>\n",
       "    </tr>\n",
       "    <tr>\n",
       "      <th>30</th>\n",
       "      <td>31</td>\n",
       "      <td>2257.259259</td>\n",
       "      <td>740.259259</td>\n",
       "      <td>359.962963</td>\n",
       "      <td>9.552000</td>\n",
       "      <td>0.040416</td>\n",
       "      <td>-3.685926</td>\n",
       "      <td>1.103704</td>\n",
       "      <td>0.065323</td>\n",
       "      <td>99.652600</td>\n",
       "      <td>106.626926</td>\n",
       "      <td>-6.204613</td>\n",
       "    </tr>\n",
       "    <tr>\n",
       "      <th>31</th>\n",
       "      <td>32</td>\n",
       "      <td>1497.481481</td>\n",
       "      <td>697.703704</td>\n",
       "      <td>285.296296</td>\n",
       "      <td>8.914000</td>\n",
       "      <td>0.039467</td>\n",
       "      <td>-3.576296</td>\n",
       "      <td>1.455556</td>\n",
       "      <td>0.056185</td>\n",
       "      <td>97.745635</td>\n",
       "      <td>103.744165</td>\n",
       "      <td>-5.610573</td>\n",
       "    </tr>\n",
       "    <tr>\n",
       "      <th>32</th>\n",
       "      <td>33</td>\n",
       "      <td>1491.925926</td>\n",
       "      <td>821.185185</td>\n",
       "      <td>249.000000</td>\n",
       "      <td>8.414963</td>\n",
       "      <td>0.053060</td>\n",
       "      <td>-3.011111</td>\n",
       "      <td>0.237037</td>\n",
       "      <td>0.073876</td>\n",
       "      <td>101.103269</td>\n",
       "      <td>103.326239</td>\n",
       "      <td>-2.222114</td>\n",
       "    </tr>\n",
       "    <tr>\n",
       "      <th>33</th>\n",
       "      <td>34</td>\n",
       "      <td>1485.444444</td>\n",
       "      <td>554.888889</td>\n",
       "      <td>399.518519</td>\n",
       "      <td>6.133481</td>\n",
       "      <td>0.024907</td>\n",
       "      <td>-3.853333</td>\n",
       "      <td>0.200000</td>\n",
       "      <td>0.065515</td>\n",
       "      <td>97.414516</td>\n",
       "      <td>105.813172</td>\n",
       "      <td>-6.864920</td>\n",
       "    </tr>\n",
       "    <tr>\n",
       "      <th>34</th>\n",
       "      <td>35</td>\n",
       "      <td>1937.444444</td>\n",
       "      <td>1443.000000</td>\n",
       "      <td>421.074074</td>\n",
       "      <td>13.500148</td>\n",
       "      <td>0.031425</td>\n",
       "      <td>-4.142222</td>\n",
       "      <td>2.603704</td>\n",
       "      <td>0.055900</td>\n",
       "      <td>97.049543</td>\n",
       "      <td>106.125334</td>\n",
       "      <td>-7.529832</td>\n",
       "    </tr>\n",
       "    <tr>\n",
       "      <th>35</th>\n",
       "      <td>36</td>\n",
       "      <td>1117.407407</td>\n",
       "      <td>655.740741</td>\n",
       "      <td>187.666667</td>\n",
       "      <td>6.184519</td>\n",
       "      <td>0.024804</td>\n",
       "      <td>-4.396296</td>\n",
       "      <td>-0.011111</td>\n",
       "      <td>0.056551</td>\n",
       "      <td>96.574771</td>\n",
       "      <td>105.853867</td>\n",
       "      <td>-7.348368</td>\n",
       "    </tr>\n",
       "    <tr>\n",
       "      <th>36</th>\n",
       "      <td>37</td>\n",
       "      <td>1375.555556</td>\n",
       "      <td>647.703704</td>\n",
       "      <td>300.703704</td>\n",
       "      <td>7.010296</td>\n",
       "      <td>0.019171</td>\n",
       "      <td>-5.060000</td>\n",
       "      <td>0.159259</td>\n",
       "      <td>0.045529</td>\n",
       "      <td>95.221164</td>\n",
       "      <td>101.446050</td>\n",
       "      <td>-5.842326</td>\n",
       "    </tr>\n",
       "    <tr>\n",
       "      <th>37</th>\n",
       "      <td>38</td>\n",
       "      <td>1683.370370</td>\n",
       "      <td>725.851852</td>\n",
       "      <td>533.111111</td>\n",
       "      <td>9.361185</td>\n",
       "      <td>0.050074</td>\n",
       "      <td>-2.800000</td>\n",
       "      <td>1.137037</td>\n",
       "      <td>0.067833</td>\n",
       "      <td>101.363665</td>\n",
       "      <td>103.338017</td>\n",
       "      <td>-1.964844</td>\n",
       "    </tr>\n",
       "    <tr>\n",
       "      <th>38</th>\n",
       "      <td>39</td>\n",
       "      <td>1356.370370</td>\n",
       "      <td>502.555556</td>\n",
       "      <td>316.777778</td>\n",
       "      <td>5.898519</td>\n",
       "      <td>-0.025779</td>\n",
       "      <td>-7.305185</td>\n",
       "      <td>0.155556</td>\n",
       "      <td>0.022626</td>\n",
       "      <td>94.782520</td>\n",
       "      <td>109.023328</td>\n",
       "      <td>-11.157027</td>\n",
       "    </tr>\n",
       "    <tr>\n",
       "      <th>39</th>\n",
       "      <td>40</td>\n",
       "      <td>2171.074074</td>\n",
       "      <td>699.074074</td>\n",
       "      <td>634.333333</td>\n",
       "      <td>7.310296</td>\n",
       "      <td>0.013861</td>\n",
       "      <td>-4.819259</td>\n",
       "      <td>0.448148</td>\n",
       "      <td>0.059839</td>\n",
       "      <td>97.055006</td>\n",
       "      <td>106.817234</td>\n",
       "      <td>-8.989962</td>\n",
       "    </tr>\n",
       "    <tr>\n",
       "      <th>40</th>\n",
       "      <td>41</td>\n",
       "      <td>1729.185185</td>\n",
       "      <td>691.296296</td>\n",
       "      <td>386.555556</td>\n",
       "      <td>8.863259</td>\n",
       "      <td>0.025425</td>\n",
       "      <td>-4.382963</td>\n",
       "      <td>1.837037</td>\n",
       "      <td>0.054472</td>\n",
       "      <td>97.180015</td>\n",
       "      <td>106.782458</td>\n",
       "      <td>-8.057707</td>\n",
       "    </tr>\n",
       "    <tr>\n",
       "      <th>41</th>\n",
       "      <td>42</td>\n",
       "      <td>1370.555556</td>\n",
       "      <td>671.777778</td>\n",
       "      <td>315.444444</td>\n",
       "      <td>7.121556</td>\n",
       "      <td>0.032610</td>\n",
       "      <td>-4.605185</td>\n",
       "      <td>0.170370</td>\n",
       "      <td>0.056401</td>\n",
       "      <td>97.146154</td>\n",
       "      <td>107.522312</td>\n",
       "      <td>-8.832859</td>\n",
       "    </tr>\n",
       "    <tr>\n",
       "      <th>42</th>\n",
       "      <td>43</td>\n",
       "      <td>2198.888889</td>\n",
       "      <td>783.888889</td>\n",
       "      <td>360.629630</td>\n",
       "      <td>9.196444</td>\n",
       "      <td>-0.030019</td>\n",
       "      <td>-6.160741</td>\n",
       "      <td>1.251852</td>\n",
       "      <td>0.042485</td>\n",
       "      <td>94.419413</td>\n",
       "      <td>108.333178</td>\n",
       "      <td>-12.367150</td>\n",
       "    </tr>\n",
       "    <tr>\n",
       "      <th>43</th>\n",
       "      <td>44</td>\n",
       "      <td>730.962963</td>\n",
       "      <td>380.148148</td>\n",
       "      <td>125.555556</td>\n",
       "      <td>3.156000</td>\n",
       "      <td>-0.015919</td>\n",
       "      <td>-6.525926</td>\n",
       "      <td>-1.133333</td>\n",
       "      <td>0.037995</td>\n",
       "      <td>92.459304</td>\n",
       "      <td>107.462601</td>\n",
       "      <td>-11.144582</td>\n",
       "    </tr>\n",
       "    <tr>\n",
       "      <th>44</th>\n",
       "      <td>45</td>\n",
       "      <td>1932.222222</td>\n",
       "      <td>601.888889</td>\n",
       "      <td>442.037037</td>\n",
       "      <td>8.789185</td>\n",
       "      <td>0.025050</td>\n",
       "      <td>-4.389630</td>\n",
       "      <td>0.611111</td>\n",
       "      <td>0.056589</td>\n",
       "      <td>95.314768</td>\n",
       "      <td>107.647313</td>\n",
       "      <td>-9.624184</td>\n",
       "    </tr>\n",
       "    <tr>\n",
       "      <th>45</th>\n",
       "      <td>46</td>\n",
       "      <td>1520.148148</td>\n",
       "      <td>561.481481</td>\n",
       "      <td>302.111111</td>\n",
       "      <td>6.190148</td>\n",
       "      <td>0.004397</td>\n",
       "      <td>-5.313333</td>\n",
       "      <td>0.574074</td>\n",
       "      <td>0.029928</td>\n",
       "      <td>91.999047</td>\n",
       "      <td>103.454261</td>\n",
       "      <td>-9.146399</td>\n",
       "    </tr>\n",
       "    <tr>\n",
       "      <th>46</th>\n",
       "      <td>47</td>\n",
       "      <td>1320.481481</td>\n",
       "      <td>548.370370</td>\n",
       "      <td>322.666667</td>\n",
       "      <td>6.364222</td>\n",
       "      <td>0.023050</td>\n",
       "      <td>-4.356296</td>\n",
       "      <td>0.077778</td>\n",
       "      <td>0.044167</td>\n",
       "      <td>95.073058</td>\n",
       "      <td>109.856645</td>\n",
       "      <td>-12.073036</td>\n",
       "    </tr>\n",
       "    <tr>\n",
       "      <th>47</th>\n",
       "      <td>48</td>\n",
       "      <td>913.666667</td>\n",
       "      <td>472.370370</td>\n",
       "      <td>243.407407</td>\n",
       "      <td>5.149407</td>\n",
       "      <td>0.003744</td>\n",
       "      <td>-5.222222</td>\n",
       "      <td>0.307407</td>\n",
       "      <td>0.044540</td>\n",
       "      <td>98.750651</td>\n",
       "      <td>105.109790</td>\n",
       "      <td>-4.432218</td>\n",
       "    </tr>\n",
       "    <tr>\n",
       "      <th>48</th>\n",
       "      <td>49</td>\n",
       "      <td>805.222222</td>\n",
       "      <td>435.333333</td>\n",
       "      <td>136.111111</td>\n",
       "      <td>3.656815</td>\n",
       "      <td>-0.007691</td>\n",
       "      <td>-6.285926</td>\n",
       "      <td>-0.662963</td>\n",
       "      <td>0.039632</td>\n",
       "      <td>92.350358</td>\n",
       "      <td>106.959303</td>\n",
       "      <td>-11.906841</td>\n",
       "    </tr>\n",
       "    <tr>\n",
       "      <th>49</th>\n",
       "      <td>50</td>\n",
       "      <td>666.962963</td>\n",
       "      <td>353.074074</td>\n",
       "      <td>101.222222</td>\n",
       "      <td>2.962593</td>\n",
       "      <td>-0.033086</td>\n",
       "      <td>-7.833333</td>\n",
       "      <td>-1.725926</td>\n",
       "      <td>0.027047</td>\n",
       "      <td>89.272815</td>\n",
       "      <td>111.267360</td>\n",
       "      <td>-16.585055</td>\n",
       "    </tr>\n",
       "    <tr>\n",
       "      <th>50</th>\n",
       "      <td>51</td>\n",
       "      <td>703.296296</td>\n",
       "      <td>217.777778</td>\n",
       "      <td>150.333333</td>\n",
       "      <td>3.540370</td>\n",
       "      <td>-0.068146</td>\n",
       "      <td>-8.836296</td>\n",
       "      <td>-0.670370</td>\n",
       "      <td>0.019296</td>\n",
       "      <td>86.867361</td>\n",
       "      <td>106.513357</td>\n",
       "      <td>-15.015936</td>\n",
       "    </tr>\n",
       "    <tr>\n",
       "      <th>51</th>\n",
       "      <td>52</td>\n",
       "      <td>310.296296</td>\n",
       "      <td>134.962963</td>\n",
       "      <td>68.074074</td>\n",
       "      <td>0.869852</td>\n",
       "      <td>-0.020904</td>\n",
       "      <td>-6.534815</td>\n",
       "      <td>-1.800000</td>\n",
       "      <td>0.033314</td>\n",
       "      <td>89.771409</td>\n",
       "      <td>105.168989</td>\n",
       "      <td>-11.924957</td>\n",
       "    </tr>\n",
       "    <tr>\n",
       "      <th>52</th>\n",
       "      <td>53</td>\n",
       "      <td>540.962963</td>\n",
       "      <td>260.555556</td>\n",
       "      <td>101.259259</td>\n",
       "      <td>2.193037</td>\n",
       "      <td>-0.017580</td>\n",
       "      <td>-6.341481</td>\n",
       "      <td>-1.155556</td>\n",
       "      <td>0.037797</td>\n",
       "      <td>92.885506</td>\n",
       "      <td>107.636364</td>\n",
       "      <td>-12.044489</td>\n",
       "    </tr>\n",
       "    <tr>\n",
       "      <th>53</th>\n",
       "      <td>54</td>\n",
       "      <td>356.925926</td>\n",
       "      <td>141.185185</td>\n",
       "      <td>81.592593</td>\n",
       "      <td>1.017185</td>\n",
       "      <td>-0.050331</td>\n",
       "      <td>-7.836296</td>\n",
       "      <td>-2.029630</td>\n",
       "      <td>0.027111</td>\n",
       "      <td>89.600670</td>\n",
       "      <td>109.794227</td>\n",
       "      <td>-15.166501</td>\n",
       "    </tr>\n",
       "    <tr>\n",
       "      <th>54</th>\n",
       "      <td>55</td>\n",
       "      <td>861.888889</td>\n",
       "      <td>336.481481</td>\n",
       "      <td>171.000000</td>\n",
       "      <td>3.416222</td>\n",
       "      <td>-0.047682</td>\n",
       "      <td>-8.196296</td>\n",
       "      <td>-1.351852</td>\n",
       "      <td>0.028889</td>\n",
       "      <td>91.401721</td>\n",
       "      <td>109.437193</td>\n",
       "      <td>-14.563813</td>\n",
       "    </tr>\n",
       "    <tr>\n",
       "      <th>55</th>\n",
       "      <td>56</td>\n",
       "      <td>855.148148</td>\n",
       "      <td>447.629630</td>\n",
       "      <td>198.111111</td>\n",
       "      <td>4.509778</td>\n",
       "      <td>-0.014340</td>\n",
       "      <td>-6.103704</td>\n",
       "      <td>-0.966667</td>\n",
       "      <td>0.041266</td>\n",
       "      <td>91.335063</td>\n",
       "      <td>108.299560</td>\n",
       "      <td>-13.101030</td>\n",
       "    </tr>\n",
       "    <tr>\n",
       "      <th>56</th>\n",
       "      <td>57</td>\n",
       "      <td>840.037037</td>\n",
       "      <td>390.814815</td>\n",
       "      <td>189.925926</td>\n",
       "      <td>5.849704</td>\n",
       "      <td>-0.048818</td>\n",
       "      <td>-8.435556</td>\n",
       "      <td>-0.007407</td>\n",
       "      <td>0.021425</td>\n",
       "      <td>87.484040</td>\n",
       "      <td>111.746107</td>\n",
       "      <td>-18.081863</td>\n",
       "    </tr>\n",
       "    <tr>\n",
       "      <th>57</th>\n",
       "      <td>58</td>\n",
       "      <td>140.703704</td>\n",
       "      <td>79.666667</td>\n",
       "      <td>21.481481</td>\n",
       "      <td>0.361630</td>\n",
       "      <td>-0.029627</td>\n",
       "      <td>-7.514074</td>\n",
       "      <td>-1.966667</td>\n",
       "      <td>0.027638</td>\n",
       "      <td>89.635505</td>\n",
       "      <td>109.860568</td>\n",
       "      <td>-15.201623</td>\n",
       "    </tr>\n",
       "    <tr>\n",
       "      <th>58</th>\n",
       "      <td>59</td>\n",
       "      <td>20.277778</td>\n",
       "      <td>11.333333</td>\n",
       "      <td>4.222222</td>\n",
       "      <td>-0.438222</td>\n",
       "      <td>-0.083454</td>\n",
       "      <td>-9.825556</td>\n",
       "      <td>-2.111111</td>\n",
       "      <td>0.012379</td>\n",
       "      <td>89.063635</td>\n",
       "      <td>116.983316</td>\n",
       "      <td>-21.560833</td>\n",
       "    </tr>\n",
       "    <tr>\n",
       "      <th>59</th>\n",
       "      <td>60</td>\n",
       "      <td>699.235294</td>\n",
       "      <td>155.000000</td>\n",
       "      <td>177.294118</td>\n",
       "      <td>2.698941</td>\n",
       "      <td>-0.038804</td>\n",
       "      <td>-7.436471</td>\n",
       "      <td>-0.576471</td>\n",
       "      <td>0.029947</td>\n",
       "      <td>92.113758</td>\n",
       "      <td>109.508956</td>\n",
       "      <td>-13.109522</td>\n",
       "    </tr>\n",
       "  </tbody>\n",
       "</table>\n",
       "</div>"
      ],
      "text/plain": [
       "Player ID  Pk           PTS          TRB          AST         WS     WS/48  \\\n",
       "0           1  10584.814815  4343.777778  2085.592593  58.014815  0.120926   \n",
       "1           2   7187.888889  3181.740741  1377.740741  35.960222  0.083764   \n",
       "2           3  10229.111111  3584.666667  2222.814815  52.744444  0.116148   \n",
       "3           4   8261.629630  3193.777778  2149.666667  42.859259  0.094815   \n",
       "4           5   8369.962963  2950.629630  1954.444444  39.886148  0.083815   \n",
       "5           6   4981.259259  1965.925926   977.444444  23.578741  0.080430   \n",
       "6           7   7493.222222  2754.370370  1558.444444  32.992593  0.084407   \n",
       "7           8   5479.666667  2033.259259  1219.111111  22.874074  0.076296   \n",
       "8           9   7624.037037  3266.888889  1507.222222  42.896296  0.095296   \n",
       "9          10   6987.000000  2425.444444  1464.074074  32.655556  0.080259   \n",
       "10         11   3633.481481  1392.222222   670.037037  16.197259  0.069875   \n",
       "11         12   3794.777778  1969.777778   627.851852  18.211111  0.069074   \n",
       "12         13   5725.296296  1856.111111  1107.481481  26.181481  0.080407   \n",
       "13         14   3807.111111  1603.777778   662.407407  17.870370  0.074889   \n",
       "14         15   4402.962963  1859.000000   947.074074  24.115778  0.072467   \n",
       "15         16   3586.481481  1522.444444   805.962963  15.913037  0.048852   \n",
       "16         17   3934.740741  1710.481481   809.740741  16.285185  0.062370   \n",
       "17         18   3717.703704  1487.666667   738.814815  17.549111  0.072222   \n",
       "18         19   4102.444444  1778.629630   693.851852  17.912074  0.062430   \n",
       "19         20   2893.518519  1230.296296   648.629630  13.171333  0.063963   \n",
       "20         21   3396.000000  1453.555556   995.185185  18.059259  0.048185   \n",
       "21         22   2479.185185  1379.888889   511.629630  13.827852  0.073741   \n",
       "22         23   3306.370370  1454.925926   610.000000  14.596296  0.065667   \n",
       "23         24   3750.629630  1283.592593  1012.518519  19.215778  0.061037   \n",
       "24         25   2836.629630  1350.296296   507.814815  14.176000  0.062852   \n",
       "25         26   2950.185185  1325.703704   561.000000  16.352815  0.069171   \n",
       "26         27   3109.777778  1560.185185   690.925926  16.125926  0.084111   \n",
       "27         28   2576.592593   772.037037   717.518519  11.741704  0.045245   \n",
       "28         29   1810.791667   857.458333   416.250000   8.292750  0.063417   \n",
       "29         30   2338.851852  1286.629630   530.555556  15.036222  0.049773   \n",
       "30         31   2257.259259   740.259259   359.962963   9.552000  0.040416   \n",
       "31         32   1497.481481   697.703704   285.296296   8.914000  0.039467   \n",
       "32         33   1491.925926   821.185185   249.000000   8.414963  0.053060   \n",
       "33         34   1485.444444   554.888889   399.518519   6.133481  0.024907   \n",
       "34         35   1937.444444  1443.000000   421.074074  13.500148  0.031425   \n",
       "35         36   1117.407407   655.740741   187.666667   6.184519  0.024804   \n",
       "36         37   1375.555556   647.703704   300.703704   7.010296  0.019171   \n",
       "37         38   1683.370370   725.851852   533.111111   9.361185  0.050074   \n",
       "38         39   1356.370370   502.555556   316.777778   5.898519 -0.025779   \n",
       "39         40   2171.074074   699.074074   634.333333   7.310296  0.013861   \n",
       "40         41   1729.185185   691.296296   386.555556   8.863259  0.025425   \n",
       "41         42   1370.555556   671.777778   315.444444   7.121556  0.032610   \n",
       "42         43   2198.888889   783.888889   360.629630   9.196444 -0.030019   \n",
       "43         44    730.962963   380.148148   125.555556   3.156000 -0.015919   \n",
       "44         45   1932.222222   601.888889   442.037037   8.789185  0.025050   \n",
       "45         46   1520.148148   561.481481   302.111111   6.190148  0.004397   \n",
       "46         47   1320.481481   548.370370   322.666667   6.364222  0.023050   \n",
       "47         48    913.666667   472.370370   243.407407   5.149407  0.003744   \n",
       "48         49    805.222222   435.333333   136.111111   3.656815 -0.007691   \n",
       "49         50    666.962963   353.074074   101.222222   2.962593 -0.033086   \n",
       "50         51    703.296296   217.777778   150.333333   3.540370 -0.068146   \n",
       "51         52    310.296296   134.962963    68.074074   0.869852 -0.020904   \n",
       "52         53    540.962963   260.555556   101.259259   2.193037 -0.017580   \n",
       "53         54    356.925926   141.185185    81.592593   1.017185 -0.050331   \n",
       "54         55    861.888889   336.481481   171.000000   3.416222 -0.047682   \n",
       "55         56    855.148148   447.629630   198.111111   4.509778 -0.014340   \n",
       "56         57    840.037037   390.814815   189.925926   5.849704 -0.048818   \n",
       "57         58    140.703704    79.666667    21.481481   0.361630 -0.029627   \n",
       "58         59     20.277778    11.333333     4.222222  -0.438222 -0.083454   \n",
       "59         60    699.235294   155.000000   177.294118   2.698941 -0.038804   \n",
       "\n",
       "Player ID       BPM       VORP       PIE  OFF_RATING  DEF_RATING  NET_RATING  \n",
       "0          1.429630  23.292593  0.124651  107.487503  106.777783    0.704352  \n",
       "1         -0.691111  10.307407  0.100532  103.784086  107.382250   -3.207812  \n",
       "2          1.274074  19.259259  0.117689  107.041839  107.019079    0.020454  \n",
       "3         -0.620741  13.607407  0.101631  106.379093  107.328083   -0.949534  \n",
       "4         -0.514815  13.133333  0.097731  105.009115  106.955090   -1.945165  \n",
       "5         -0.666667   6.881481  0.090968  104.194691  106.552246   -2.353500  \n",
       "6         -1.209630   7.862963  0.095110  105.717086  107.377567   -1.664906  \n",
       "7         -1.665185   4.966667  0.085489  104.309812  106.343669   -2.033688  \n",
       "8         -0.533333  14.081481  0.100264  105.066280  106.602401   -1.530061  \n",
       "9         -1.177778   9.422222  0.087978  105.069798  106.502830   -1.429809  \n",
       "10        -1.672593   3.240741  0.082584  103.043283  105.507982   -2.083479  \n",
       "11        -1.996296   2.511111  0.073805   99.827137  101.806416   -1.984257  \n",
       "12        -1.062963   7.351852  0.092122  104.272263  105.990909   -1.719014  \n",
       "13        -1.902222   3.203704  0.084155  103.919806  106.410504   -2.489708  \n",
       "14        -1.809630   6.477778  0.081104  102.487564  106.873696   -3.996859  \n",
       "15        -2.744444   3.985185  0.068568  101.937466  105.705476   -3.768500  \n",
       "16        -1.962963   3.344444  0.074311   98.695348  101.686661   -2.993835  \n",
       "17        -2.634074   3.718519  0.082794  102.464423  104.794579   -2.334782  \n",
       "18        -2.133333   2.622222  0.076503  102.784516  105.406704   -2.620875  \n",
       "19        -2.122222   1.307407  0.073278  102.648644  105.305890   -2.657361  \n",
       "20        -2.603704   4.259259  0.066192  100.549551  104.991703   -4.441105  \n",
       "21        -1.996296   2.207407  0.075395  101.425766  105.390968   -3.963946  \n",
       "22        -2.011111   2.151852  0.076098  102.765843  105.880742   -3.116649  \n",
       "23        -1.922222   5.092593  0.076729  102.826731  105.752700   -2.927112  \n",
       "24        -2.170370   3.037037  0.075513  102.068411  104.365466   -2.294458  \n",
       "25        -2.042963   2.255556  0.069610   98.534203  102.490745   -3.563679  \n",
       "26        -2.234074   3.029630  0.087543  102.209626  104.740107   -2.530503  \n",
       "27        -2.965185   1.381481  0.069685   99.746208  104.281974   -4.148843  \n",
       "28        -2.795833   0.637500  0.073254  102.828327  104.681942   -1.856485  \n",
       "29        -3.162222   2.918519  0.116935  186.028058  196.449924   -9.271605  \n",
       "30        -3.685926   1.103704  0.065323   99.652600  106.626926   -6.204613  \n",
       "31        -3.576296   1.455556  0.056185   97.745635  103.744165   -5.610573  \n",
       "32        -3.011111   0.237037  0.073876  101.103269  103.326239   -2.222114  \n",
       "33        -3.853333   0.200000  0.065515   97.414516  105.813172   -6.864920  \n",
       "34        -4.142222   2.603704  0.055900   97.049543  106.125334   -7.529832  \n",
       "35        -4.396296  -0.011111  0.056551   96.574771  105.853867   -7.348368  \n",
       "36        -5.060000   0.159259  0.045529   95.221164  101.446050   -5.842326  \n",
       "37        -2.800000   1.137037  0.067833  101.363665  103.338017   -1.964844  \n",
       "38        -7.305185   0.155556  0.022626   94.782520  109.023328  -11.157027  \n",
       "39        -4.819259   0.448148  0.059839   97.055006  106.817234   -8.989962  \n",
       "40        -4.382963   1.837037  0.054472   97.180015  106.782458   -8.057707  \n",
       "41        -4.605185   0.170370  0.056401   97.146154  107.522312   -8.832859  \n",
       "42        -6.160741   1.251852  0.042485   94.419413  108.333178  -12.367150  \n",
       "43        -6.525926  -1.133333  0.037995   92.459304  107.462601  -11.144582  \n",
       "44        -4.389630   0.611111  0.056589   95.314768  107.647313   -9.624184  \n",
       "45        -5.313333   0.574074  0.029928   91.999047  103.454261   -9.146399  \n",
       "46        -4.356296   0.077778  0.044167   95.073058  109.856645  -12.073036  \n",
       "47        -5.222222   0.307407  0.044540   98.750651  105.109790   -4.432218  \n",
       "48        -6.285926  -0.662963  0.039632   92.350358  106.959303  -11.906841  \n",
       "49        -7.833333  -1.725926  0.027047   89.272815  111.267360  -16.585055  \n",
       "50        -8.836296  -0.670370  0.019296   86.867361  106.513357  -15.015936  \n",
       "51        -6.534815  -1.800000  0.033314   89.771409  105.168989  -11.924957  \n",
       "52        -6.341481  -1.155556  0.037797   92.885506  107.636364  -12.044489  \n",
       "53        -7.836296  -2.029630  0.027111   89.600670  109.794227  -15.166501  \n",
       "54        -8.196296  -1.351852  0.028889   91.401721  109.437193  -14.563813  \n",
       "55        -6.103704  -0.966667  0.041266   91.335063  108.299560  -13.101030  \n",
       "56        -8.435556  -0.007407  0.021425   87.484040  111.746107  -18.081863  \n",
       "57        -7.514074  -1.966667  0.027638   89.635505  109.860568  -15.201623  \n",
       "58        -9.825556  -2.111111  0.012379   89.063635  116.983316  -21.560833  \n",
       "59        -7.436471  -0.576471  0.029947   92.113758  109.508956  -13.109522  "
      ]
     },
     "execution_count": 7,
     "metadata": {},
     "output_type": "execute_result"
    }
   ],
   "source": [
    "# TODO: Maybe add toggle button that allows comparing only to players of same position\n",
    "\n",
    "# group the df_career dataframe by 'Pk' and calculate the average for each relevant stat\n",
    "df_avg = df_career_na_filled.groupby('Pk')[relevant_stats].mean(numeric_only=True)\n",
    "df_avg = df_avg.reset_index()\n",
    "\n",
    "df_avg"
   ]
  },
  {
   "cell_type": "code",
   "execution_count": 8,
   "metadata": {},
   "outputs": [
    {
     "data": {
      "text/html": [
       "<div>\n",
       "<style scoped>\n",
       "    .dataframe tbody tr th:only-of-type {\n",
       "        vertical-align: middle;\n",
       "    }\n",
       "\n",
       "    .dataframe tbody tr th {\n",
       "        vertical-align: top;\n",
       "    }\n",
       "\n",
       "    .dataframe thead th {\n",
       "        text-align: right;\n",
       "    }\n",
       "</style>\n",
       "<table border=\"1\" class=\"dataframe\">\n",
       "  <thead>\n",
       "    <tr style=\"text-align: right;\">\n",
       "      <th>Player ID</th>\n",
       "      <th>Season</th>\n",
       "      <th>Pk</th>\n",
       "      <th>Tm</th>\n",
       "      <th>Player</th>\n",
       "      <th>College</th>\n",
       "      <th>Yrs</th>\n",
       "      <th>G</th>\n",
       "      <th>MP</th>\n",
       "      <th>PTS</th>\n",
       "      <th>TRB</th>\n",
       "      <th>...</th>\n",
       "      <th>TRB_diff</th>\n",
       "      <th>AST_diff</th>\n",
       "      <th>WS_diff</th>\n",
       "      <th>WS/48_diff</th>\n",
       "      <th>BPM_diff</th>\n",
       "      <th>VORP_diff</th>\n",
       "      <th>PIE_diff</th>\n",
       "      <th>OFF_RATING_diff</th>\n",
       "      <th>DEF_RATING_diff</th>\n",
       "      <th>NET_RATING_diff</th>\n",
       "    </tr>\n",
       "  </thead>\n",
       "  <tbody>\n",
       "    <tr>\n",
       "      <th>947.0</th>\n",
       "      <td>1996</td>\n",
       "      <td>1</td>\n",
       "      <td>PHI</td>\n",
       "      <td>Allen Iverson</td>\n",
       "      <td>Georgetown</td>\n",
       "      <td>14.0</td>\n",
       "      <td>914.0</td>\n",
       "      <td>37584.0</td>\n",
       "      <td>24368.0</td>\n",
       "      <td>3394.0</td>\n",
       "      <td>...</td>\n",
       "      <td>212.259259</td>\n",
       "      <td>4246.259259</td>\n",
       "      <td>63.039778</td>\n",
       "      <td>0.042236</td>\n",
       "      <td>3.891111</td>\n",
       "      <td>39.292593</td>\n",
       "      <td>0.036153</td>\n",
       "      <td>-0.410344</td>\n",
       "      <td>-4.846145</td>\n",
       "      <td>4.054202</td>\n",
       "    </tr>\n",
       "    <tr>\n",
       "      <th>948.0</th>\n",
       "      <td>1996</td>\n",
       "      <td>2</td>\n",
       "      <td>TOR</td>\n",
       "      <td>Marcus Camby</td>\n",
       "      <td>UMass</td>\n",
       "      <td>17.0</td>\n",
       "      <td>973.0</td>\n",
       "      <td>28684.0</td>\n",
       "      <td>9262.0</td>\n",
       "      <td>9513.0</td>\n",
       "      <td>...</td>\n",
       "      <td>5928.333333</td>\n",
       "      <td>-385.814815</td>\n",
       "      <td>28.855556</td>\n",
       "      <td>0.020852</td>\n",
       "      <td>1.025926</td>\n",
       "      <td>12.040741</td>\n",
       "      <td>0.009096</td>\n",
       "      <td>-4.071541</td>\n",
       "      <td>-4.278380</td>\n",
       "      <td>0.208118</td>\n",
       "    </tr>\n",
       "    <tr>\n",
       "      <th>949.0</th>\n",
       "      <td>1996</td>\n",
       "      <td>3</td>\n",
       "      <td>VAN</td>\n",
       "      <td>Shareef Abdur-Rahim</td>\n",
       "      <td>California</td>\n",
       "      <td>12.0</td>\n",
       "      <td>830.0</td>\n",
       "      <td>28882.0</td>\n",
       "      <td>15028.0</td>\n",
       "      <td>6239.0</td>\n",
       "      <td>...</td>\n",
       "      <td>3045.222222</td>\n",
       "      <td>-40.666667</td>\n",
       "      <td>28.340741</td>\n",
       "      <td>0.023185</td>\n",
       "      <td>1.620741</td>\n",
       "      <td>8.292593</td>\n",
       "      <td>0.024248</td>\n",
       "      <td>-5.577166</td>\n",
       "      <td>-1.484468</td>\n",
       "      <td>-4.073358</td>\n",
       "    </tr>\n",
       "    <tr>\n",
       "      <th>950.0</th>\n",
       "      <td>1996</td>\n",
       "      <td>4</td>\n",
       "      <td>MIL</td>\n",
       "      <td>Stephon Marbury</td>\n",
       "      <td>Georgia Tech</td>\n",
       "      <td>13.0</td>\n",
       "      <td>846.0</td>\n",
       "      <td>31891.0</td>\n",
       "      <td>16297.0</td>\n",
       "      <td>2516.0</td>\n",
       "      <td>...</td>\n",
       "      <td>-434.629630</td>\n",
       "      <td>4516.555556</td>\n",
       "      <td>37.613852</td>\n",
       "      <td>0.033185</td>\n",
       "      <td>2.314815</td>\n",
       "      <td>17.566667</td>\n",
       "      <td>0.025641</td>\n",
       "      <td>-1.508051</td>\n",
       "      <td>-1.664665</td>\n",
       "      <td>0.164550</td>\n",
       "    </tr>\n",
       "    <tr>\n",
       "      <th>951.0</th>\n",
       "      <td>1996</td>\n",
       "      <td>5</td>\n",
       "      <td>MIN</td>\n",
       "      <td>Ray Allen</td>\n",
       "      <td>UConn</td>\n",
       "      <td>18.0</td>\n",
       "      <td>1300.0</td>\n",
       "      <td>46344.0</td>\n",
       "      <td>24505.0</td>\n",
       "      <td>5272.0</td>\n",
       "      <td>...</td>\n",
       "      <td>3306.074074</td>\n",
       "      <td>3383.555556</td>\n",
       "      <td>121.521259</td>\n",
       "      <td>0.069570</td>\n",
       "      <td>3.566667</td>\n",
       "      <td>50.718519</td>\n",
       "      <td>0.028507</td>\n",
       "      <td>3.745309</td>\n",
       "      <td>-2.505246</td>\n",
       "      <td>6.238115</td>\n",
       "    </tr>\n",
       "    <tr>\n",
       "      <th>952.0</th>\n",
       "      <td>1996</td>\n",
       "      <td>6</td>\n",
       "      <td>BOS</td>\n",
       "      <td>Antoine Walker</td>\n",
       "      <td>Kentucky</td>\n",
       "      <td>12.0</td>\n",
       "      <td>893.0</td>\n",
       "      <td>31531.0</td>\n",
       "      <td>15647.0</td>\n",
       "      <td>6891.0</td>\n",
       "      <td>...</td>\n",
       "      <td>4136.629630</td>\n",
       "      <td>1611.555556</td>\n",
       "      <td>5.107407</td>\n",
       "      <td>-0.026407</td>\n",
       "      <td>1.509630</td>\n",
       "      <td>10.137037</td>\n",
       "      <td>0.011615</td>\n",
       "      <td>-3.319101</td>\n",
       "      <td>-2.870512</td>\n",
       "      <td>-0.457266</td>\n",
       "    </tr>\n",
       "    <tr>\n",
       "      <th>953.0</th>\n",
       "      <td>1996</td>\n",
       "      <td>7</td>\n",
       "      <td>LAC</td>\n",
       "      <td>Lorenzen Wright</td>\n",
       "      <td>Memphis</td>\n",
       "      <td>13.0</td>\n",
       "      <td>778.0</td>\n",
       "      <td>18535.0</td>\n",
       "      <td>6191.0</td>\n",
       "      <td>4943.0</td>\n",
       "      <td>...</td>\n",
       "      <td>2909.740741</td>\n",
       "      <td>-597.111111</td>\n",
       "      <td>7.625926</td>\n",
       "      <td>0.002704</td>\n",
       "      <td>-0.934815</td>\n",
       "      <td>-7.966667</td>\n",
       "      <td>-0.005727</td>\n",
       "      <td>-5.034363</td>\n",
       "      <td>-3.459993</td>\n",
       "      <td>-1.579037</td>\n",
       "    </tr>\n",
       "    <tr>\n",
       "      <th>954.0</th>\n",
       "      <td>1996</td>\n",
       "      <td>8</td>\n",
       "      <td>NJN</td>\n",
       "      <td>Kerry Kittles</td>\n",
       "      <td>Villanova</td>\n",
       "      <td>8.0</td>\n",
       "      <td>507.0</td>\n",
       "      <td>16929.0</td>\n",
       "      <td>7165.0</td>\n",
       "      <td>1983.0</td>\n",
       "      <td>...</td>\n",
       "      <td>-1283.888889</td>\n",
       "      <td>-212.222222</td>\n",
       "      <td>1.903704</td>\n",
       "      <td>0.031704</td>\n",
       "      <td>2.733333</td>\n",
       "      <td>3.918519</td>\n",
       "      <td>0.006237</td>\n",
       "      <td>-3.068844</td>\n",
       "      <td>-5.652500</td>\n",
       "      <td>2.589824</td>\n",
       "    </tr>\n",
       "    <tr>\n",
       "      <th>955.0</th>\n",
       "      <td>1996</td>\n",
       "      <td>9</td>\n",
       "      <td>DAL</td>\n",
       "      <td>Samaki Walker</td>\n",
       "      <td>Louisville</td>\n",
       "      <td>10.0</td>\n",
       "      <td>445.0</td>\n",
       "      <td>7612.0</td>\n",
       "      <td>2376.0</td>\n",
       "      <td>2089.0</td>\n",
       "      <td>...</td>\n",
       "      <td>-336.444444</td>\n",
       "      <td>-1212.074074</td>\n",
       "      <td>-18.455556</td>\n",
       "      <td>0.008741</td>\n",
       "      <td>-1.422222</td>\n",
       "      <td>-10.522222</td>\n",
       "      <td>-0.008185</td>\n",
       "      <td>-7.663281</td>\n",
       "      <td>-4.628223</td>\n",
       "      <td>-3.053562</td>\n",
       "    </tr>\n",
       "    <tr>\n",
       "      <th>956.0</th>\n",
       "      <td>1996</td>\n",
       "      <td>10</td>\n",
       "      <td>IND</td>\n",
       "      <td>Erick Dampier</td>\n",
       "      <td>Mississippi State</td>\n",
       "      <td>16.0</td>\n",
       "      <td>987.0</td>\n",
       "      <td>24003.0</td>\n",
       "      <td>7309.0</td>\n",
       "      <td>7005.0</td>\n",
       "      <td>...</td>\n",
       "      <td>5612.777778</td>\n",
       "      <td>146.962963</td>\n",
       "      <td>36.502741</td>\n",
       "      <td>0.035125</td>\n",
       "      <td>0.372593</td>\n",
       "      <td>0.859259</td>\n",
       "      <td>0.000410</td>\n",
       "      <td>0.247801</td>\n",
       "      <td>-2.836452</td>\n",
       "      <td>2.706073</td>\n",
       "    </tr>\n",
       "    <tr>\n",
       "      <th>957.0</th>\n",
       "      <td>1996</td>\n",
       "      <td>11</td>\n",
       "      <td>GSW</td>\n",
       "      <td>Todd Fuller</td>\n",
       "      <td>NC State</td>\n",
       "      <td>5.0</td>\n",
       "      <td>225.0</td>\n",
       "      <td>2500.0</td>\n",
       "      <td>835.0</td>\n",
       "      <td>674.0</td>\n",
       "      <td>...</td>\n",
       "      <td>-1295.777778</td>\n",
       "      <td>-581.851852</td>\n",
       "      <td>-16.011111</td>\n",
       "      <td>-0.028074</td>\n",
       "      <td>-3.703704</td>\n",
       "      <td>-4.811111</td>\n",
       "      <td>-0.012903</td>\n",
       "      <td>-3.254693</td>\n",
       "      <td>-1.273972</td>\n",
       "      <td>-1.993965</td>\n",
       "    </tr>\n",
       "    <tr>\n",
       "      <th>958.0</th>\n",
       "      <td>1996</td>\n",
       "      <td>12</td>\n",
       "      <td>CLE</td>\n",
       "      <td>Vitaly Potapenko</td>\n",
       "      <td>Wright State University</td>\n",
       "      <td>11.0</td>\n",
       "      <td>610.0</td>\n",
       "      <td>11608.0</td>\n",
       "      <td>3995.0</td>\n",
       "      <td>2725.0</td>\n",
       "      <td>...</td>\n",
       "      <td>868.888889</td>\n",
       "      <td>-689.481481</td>\n",
       "      <td>-10.681481</td>\n",
       "      <td>-0.016407</td>\n",
       "      <td>-2.937037</td>\n",
       "      <td>-13.251852</td>\n",
       "      <td>-0.023549</td>\n",
       "      <td>-5.222918</td>\n",
       "      <td>-5.188450</td>\n",
       "      <td>-0.037052</td>\n",
       "    </tr>\n",
       "    <tr>\n",
       "      <th>977.0</th>\n",
       "      <td>1996</td>\n",
       "      <td>13</td>\n",
       "      <td>CHH</td>\n",
       "      <td>Kobe Bryant</td>\n",
       "      <td>NaN</td>\n",
       "      <td>20.0</td>\n",
       "      <td>1346.0</td>\n",
       "      <td>48637.0</td>\n",
       "      <td>33643.0</td>\n",
       "      <td>7047.0</td>\n",
       "      <td>...</td>\n",
       "      <td>5443.222222</td>\n",
       "      <td>5643.592593</td>\n",
       "      <td>154.829630</td>\n",
       "      <td>0.095111</td>\n",
       "      <td>6.502222</td>\n",
       "      <td>76.896296</td>\n",
       "      <td>0.063198</td>\n",
       "      <td>3.936212</td>\n",
       "      <td>-2.408126</td>\n",
       "      <td>6.346617</td>\n",
       "    </tr>\n",
       "    <tr>\n",
       "      <th>978.0</th>\n",
       "      <td>1996</td>\n",
       "      <td>14</td>\n",
       "      <td>SAC</td>\n",
       "      <td>Peja Stojaković</td>\n",
       "      <td>NaN</td>\n",
       "      <td>13.0</td>\n",
       "      <td>804.0</td>\n",
       "      <td>26966.0</td>\n",
       "      <td>13647.0</td>\n",
       "      <td>3782.0</td>\n",
       "      <td>...</td>\n",
       "      <td>1923.000000</td>\n",
       "      <td>460.925926</td>\n",
       "      <td>58.484222</td>\n",
       "      <td>0.074533</td>\n",
       "      <td>3.709630</td>\n",
       "      <td>19.722222</td>\n",
       "      <td>0.028467</td>\n",
       "      <td>5.186441</td>\n",
       "      <td>-4.073074</td>\n",
       "      <td>8.865516</td>\n",
       "    </tr>\n",
       "    <tr>\n",
       "      <th>959.0</th>\n",
       "      <td>1996</td>\n",
       "      <td>15</td>\n",
       "      <td>PHO</td>\n",
       "      <td>Steve Nash</td>\n",
       "      <td>Santa Clara</td>\n",
       "      <td>18.0</td>\n",
       "      <td>1217.0</td>\n",
       "      <td>38069.0</td>\n",
       "      <td>17387.0</td>\n",
       "      <td>3642.0</td>\n",
       "      <td>...</td>\n",
       "      <td>2119.555556</td>\n",
       "      <td>9529.037037</td>\n",
       "      <td>113.786963</td>\n",
       "      <td>0.115148</td>\n",
       "      <td>5.744444</td>\n",
       "      <td>44.214815</td>\n",
       "      <td>0.064811</td>\n",
       "      <td>9.031064</td>\n",
       "      <td>-0.620924</td>\n",
       "      <td>9.656996</td>\n",
       "    </tr>\n",
       "    <tr>\n",
       "      <th>960.0</th>\n",
       "      <td>1996</td>\n",
       "      <td>16</td>\n",
       "      <td>CHH</td>\n",
       "      <td>Tony Delk</td>\n",
       "      <td>Kentucky</td>\n",
       "      <td>10.0</td>\n",
       "      <td>545.0</td>\n",
       "      <td>11702.0</td>\n",
       "      <td>4957.0</td>\n",
       "      <td>1351.0</td>\n",
       "      <td>...</td>\n",
       "      <td>-359.481481</td>\n",
       "      <td>214.259259</td>\n",
       "      <td>3.214815</td>\n",
       "      <td>0.017630</td>\n",
       "      <td>1.562963</td>\n",
       "      <td>1.455556</td>\n",
       "      <td>0.015686</td>\n",
       "      <td>1.124836</td>\n",
       "      <td>-0.182807</td>\n",
       "      <td>1.323743</td>\n",
       "    </tr>\n",
       "    <tr>\n",
       "      <th>979.0</th>\n",
       "      <td>1996</td>\n",
       "      <td>17</td>\n",
       "      <td>POR</td>\n",
       "      <td>Jermaine O'Neal</td>\n",
       "      <td>NaN</td>\n",
       "      <td>18.0</td>\n",
       "      <td>1011.0</td>\n",
       "      <td>27364.0</td>\n",
       "      <td>13309.0</td>\n",
       "      <td>7261.0</td>\n",
       "      <td>...</td>\n",
       "      <td>5773.333333</td>\n",
       "      <td>630.185185</td>\n",
       "      <td>48.450889</td>\n",
       "      <td>0.043778</td>\n",
       "      <td>2.934074</td>\n",
       "      <td>11.881481</td>\n",
       "      <td>0.032554</td>\n",
       "      <td>-1.018528</td>\n",
       "      <td>-4.576379</td>\n",
       "      <td>3.551400</td>\n",
       "    </tr>\n",
       "    <tr>\n",
       "      <th>961.0</th>\n",
       "      <td>1996</td>\n",
       "      <td>18</td>\n",
       "      <td>NYK</td>\n",
       "      <td>John Wallace</td>\n",
       "      <td>Syracuse</td>\n",
       "      <td>7.0</td>\n",
       "      <td>381.0</td>\n",
       "      <td>6143.0</td>\n",
       "      <td>2901.0</td>\n",
       "      <td>1061.0</td>\n",
       "      <td>...</td>\n",
       "      <td>-717.629630</td>\n",
       "      <td>-412.851852</td>\n",
       "      <td>-11.512074</td>\n",
       "      <td>-0.012430</td>\n",
       "      <td>-0.566667</td>\n",
       "      <td>-3.622222</td>\n",
       "      <td>0.008056</td>\n",
       "      <td>-6.134384</td>\n",
       "      <td>-3.205916</td>\n",
       "      <td>-2.903535</td>\n",
       "    </tr>\n",
       "    <tr>\n",
       "      <th>962.0</th>\n",
       "      <td>1996</td>\n",
       "      <td>19</td>\n",
       "      <td>NYK</td>\n",
       "      <td>Walter McCarty</td>\n",
       "      <td>Kentucky</td>\n",
       "      <td>10.0</td>\n",
       "      <td>593.0</td>\n",
       "      <td>10374.0</td>\n",
       "      <td>3056.0</td>\n",
       "      <td>1554.0</td>\n",
       "      <td>...</td>\n",
       "      <td>323.703704</td>\n",
       "      <td>21.370370</td>\n",
       "      <td>0.528667</td>\n",
       "      <td>0.000037</td>\n",
       "      <td>0.422222</td>\n",
       "      <td>-0.507407</td>\n",
       "      <td>-0.017435</td>\n",
       "      <td>-4.960617</td>\n",
       "      <td>-5.772838</td>\n",
       "      <td>0.832066</td>\n",
       "    </tr>\n",
       "    <tr>\n",
       "      <th>980.0</th>\n",
       "      <td>1996</td>\n",
       "      <td>20</td>\n",
       "      <td>CLE</td>\n",
       "      <td>Zydrunas Ilgauskas</td>\n",
       "      <td>NaN</td>\n",
       "      <td>13.0</td>\n",
       "      <td>843.0</td>\n",
       "      <td>22965.0</td>\n",
       "      <td>10976.0</td>\n",
       "      <td>6191.0</td>\n",
       "      <td>...</td>\n",
       "      <td>4737.444444</td>\n",
       "      <td>-40.185185</td>\n",
       "      <td>48.240741</td>\n",
       "      <td>0.090815</td>\n",
       "      <td>2.403704</td>\n",
       "      <td>5.940741</td>\n",
       "      <td>0.044475</td>\n",
       "      <td>3.905372</td>\n",
       "      <td>-3.431561</td>\n",
       "      <td>7.319159</td>\n",
       "    </tr>\n",
       "    <tr>\n",
       "      <th>963.0</th>\n",
       "      <td>1996</td>\n",
       "      <td>21</td>\n",
       "      <td>NYK</td>\n",
       "      <td>Dontae' Jones</td>\n",
       "      <td>Mississippi State</td>\n",
       "      <td>1.0</td>\n",
       "      <td>15.0</td>\n",
       "      <td>91.0</td>\n",
       "      <td>44.0</td>\n",
       "      <td>9.0</td>\n",
       "      <td>...</td>\n",
       "      <td>-1370.888889</td>\n",
       "      <td>-506.629630</td>\n",
       "      <td>-14.127852</td>\n",
       "      <td>-0.248741</td>\n",
       "      <td>-8.903704</td>\n",
       "      <td>-2.407407</td>\n",
       "      <td>-0.078395</td>\n",
       "      <td>-6.525766</td>\n",
       "      <td>-8.490968</td>\n",
       "      <td>1.963946</td>\n",
       "    </tr>\n",
       "    <tr>\n",
       "      <th>964.0</th>\n",
       "      <td>1996</td>\n",
       "      <td>22</td>\n",
       "      <td>VAN</td>\n",
       "      <td>Roy Rogers</td>\n",
       "      <td>Alabama</td>\n",
       "      <td>3.0</td>\n",
       "      <td>137.0</td>\n",
       "      <td>2309.0</td>\n",
       "      <td>652.0</td>\n",
       "      <td>483.0</td>\n",
       "      <td>...</td>\n",
       "      <td>-971.925926</td>\n",
       "      <td>-553.000000</td>\n",
       "      <td>-12.896296</td>\n",
       "      <td>-0.030667</td>\n",
       "      <td>-1.688889</td>\n",
       "      <td>-3.151852</td>\n",
       "      <td>-0.018193</td>\n",
       "      <td>-5.616208</td>\n",
       "      <td>2.394440</td>\n",
       "      <td>-7.979701</td>\n",
       "    </tr>\n",
       "    <tr>\n",
       "      <th>981.0</th>\n",
       "      <td>1996</td>\n",
       "      <td>23</td>\n",
       "      <td>DEN</td>\n",
       "      <td>Efthimios Rentzias</td>\n",
       "      <td>NaN</td>\n",
       "      <td>1.0</td>\n",
       "      <td>35.0</td>\n",
       "      <td>144.0</td>\n",
       "      <td>52.0</td>\n",
       "      <td>26.0</td>\n",
       "      <td>...</td>\n",
       "      <td>-1257.592593</td>\n",
       "      <td>-1005.518519</td>\n",
       "      <td>-19.015778</td>\n",
       "      <td>-0.003037</td>\n",
       "      <td>-1.877778</td>\n",
       "      <td>-5.192593</td>\n",
       "      <td>-0.025729</td>\n",
       "      <td>-10.826731</td>\n",
       "      <td>-8.752700</td>\n",
       "      <td>-2.072888</td>\n",
       "    </tr>\n",
       "    <tr>\n",
       "      <th>965.0</th>\n",
       "      <td>1996</td>\n",
       "      <td>24</td>\n",
       "      <td>LAL</td>\n",
       "      <td>Derek Fisher</td>\n",
       "      <td>Little Rock</td>\n",
       "      <td>18.0</td>\n",
       "      <td>1287.0</td>\n",
       "      <td>32719.0</td>\n",
       "      <td>10713.0</td>\n",
       "      <td>2658.0</td>\n",
       "      <td>...</td>\n",
       "      <td>1307.703704</td>\n",
       "      <td>3296.185185</td>\n",
       "      <td>48.124000</td>\n",
       "      <td>0.028148</td>\n",
       "      <td>1.270370</td>\n",
       "      <td>5.862963</td>\n",
       "      <td>0.000116</td>\n",
       "      <td>4.533998</td>\n",
       "      <td>-4.058317</td>\n",
       "      <td>8.570604</td>\n",
       "    </tr>\n",
       "    <tr>\n",
       "      <th>982.0</th>\n",
       "      <td>1996</td>\n",
       "      <td>25</td>\n",
       "      <td>UTA</td>\n",
       "      <td>Martin Müürsepp</td>\n",
       "      <td>NaN</td>\n",
       "      <td>2.0</td>\n",
       "      <td>83.0</td>\n",
       "      <td>951.0</td>\n",
       "      <td>389.0</td>\n",
       "      <td>181.0</td>\n",
       "      <td>...</td>\n",
       "      <td>-1144.703704</td>\n",
       "      <td>-511.000000</td>\n",
       "      <td>-14.352815</td>\n",
       "      <td>0.030829</td>\n",
       "      <td>0.442963</td>\n",
       "      <td>-2.155556</td>\n",
       "      <td>0.000848</td>\n",
       "      <td>-3.384806</td>\n",
       "      <td>0.328532</td>\n",
       "      <td>-4.155598</td>\n",
       "    </tr>\n",
       "    <tr>\n",
       "      <th>966.0</th>\n",
       "      <td>1996</td>\n",
       "      <td>26</td>\n",
       "      <td>DET</td>\n",
       "      <td>Jerome Williams</td>\n",
       "      <td>Georgetown</td>\n",
       "      <td>9.0</td>\n",
       "      <td>587.0</td>\n",
       "      <td>12755.0</td>\n",
       "      <td>3865.0</td>\n",
       "      <td>3743.0</td>\n",
       "      <td>...</td>\n",
       "      <td>2182.814815</td>\n",
       "      <td>-216.925926</td>\n",
       "      <td>21.774074</td>\n",
       "      <td>0.058889</td>\n",
       "      <td>2.534074</td>\n",
       "      <td>4.370370</td>\n",
       "      <td>0.024098</td>\n",
       "      <td>-1.993782</td>\n",
       "      <td>-4.980823</td>\n",
       "      <td>3.001031</td>\n",
       "    </tr>\n",
       "    <tr>\n",
       "      <th>967.0</th>\n",
       "      <td>1996</td>\n",
       "      <td>27</td>\n",
       "      <td>ORL</td>\n",
       "      <td>Brian Evans</td>\n",
       "      <td>Indiana</td>\n",
       "      <td>3.0</td>\n",
       "      <td>102.0</td>\n",
       "      <td>1097.0</td>\n",
       "      <td>375.0</td>\n",
       "      <td>164.0</td>\n",
       "      <td>...</td>\n",
       "      <td>-608.037037</td>\n",
       "      <td>-640.518519</td>\n",
       "      <td>-10.041704</td>\n",
       "      <td>0.030755</td>\n",
       "      <td>2.165185</td>\n",
       "      <td>-1.081481</td>\n",
       "      <td>0.005551</td>\n",
       "      <td>-3.163855</td>\n",
       "      <td>-5.103542</td>\n",
       "      <td>1.550804</td>\n",
       "    </tr>\n",
       "    <tr>\n",
       "      <th>968.0</th>\n",
       "      <td>1996</td>\n",
       "      <td>28</td>\n",
       "      <td>ATL</td>\n",
       "      <td>Priest Lauderdale</td>\n",
       "      <td>Central State University</td>\n",
       "      <td>2.0</td>\n",
       "      <td>74.0</td>\n",
       "      <td>525.0</td>\n",
       "      <td>255.0</td>\n",
       "      <td>143.0</td>\n",
       "      <td>...</td>\n",
       "      <td>-714.458333</td>\n",
       "      <td>-383.250000</td>\n",
       "      <td>-9.092750</td>\n",
       "      <td>-0.137417</td>\n",
       "      <td>-5.104167</td>\n",
       "      <td>-1.437500</td>\n",
       "      <td>-0.017619</td>\n",
       "      <td>-5.910760</td>\n",
       "      <td>-4.004915</td>\n",
       "      <td>-1.902974</td>\n",
       "    </tr>\n",
       "    <tr>\n",
       "      <th>969.0</th>\n",
       "      <td>1996</td>\n",
       "      <td>29</td>\n",
       "      <td>CHI</td>\n",
       "      <td>Travis Knight</td>\n",
       "      <td>UConn</td>\n",
       "      <td>7.0</td>\n",
       "      <td>371.0</td>\n",
       "      <td>4566.0</td>\n",
       "      <td>1276.0</td>\n",
       "      <td>1160.0</td>\n",
       "      <td>...</td>\n",
       "      <td>-126.629630</td>\n",
       "      <td>-306.555556</td>\n",
       "      <td>-7.136222</td>\n",
       "      <td>0.033227</td>\n",
       "      <td>0.162222</td>\n",
       "      <td>-4.018519</td>\n",
       "      <td>-0.070240</td>\n",
       "      <td>-89.357977</td>\n",
       "      <td>-98.859628</td>\n",
       "      <td>8.350581</td>\n",
       "    </tr>\n",
       "    <tr>\n",
       "      <th>970.0</th>\n",
       "      <td>1996</td>\n",
       "      <td>30</td>\n",
       "      <td>HOU</td>\n",
       "      <td>Othella Harrington</td>\n",
       "      <td>Georgetown</td>\n",
       "      <td>12.0</td>\n",
       "      <td>709.0</td>\n",
       "      <td>13924.0</td>\n",
       "      <td>5212.0</td>\n",
       "      <td>3130.0</td>\n",
       "      <td>...</td>\n",
       "      <td>2389.740741</td>\n",
       "      <td>83.037037</td>\n",
       "      <td>13.548000</td>\n",
       "      <td>0.039584</td>\n",
       "      <td>0.285926</td>\n",
       "      <td>-6.003704</td>\n",
       "      <td>0.009581</td>\n",
       "      <td>0.417640</td>\n",
       "      <td>-6.504500</td>\n",
       "      <td>6.154824</td>\n",
       "    </tr>\n",
       "    <tr>\n",
       "      <th>971.0</th>\n",
       "      <td>1996</td>\n",
       "      <td>31</td>\n",
       "      <td>PHI</td>\n",
       "      <td>Mark Hendrickson</td>\n",
       "      <td>Washington State</td>\n",
       "      <td>4.0</td>\n",
       "      <td>114.0</td>\n",
       "      <td>1508.0</td>\n",
       "      <td>381.0</td>\n",
       "      <td>316.0</td>\n",
       "      <td>...</td>\n",
       "      <td>-381.703704</td>\n",
       "      <td>-222.296296</td>\n",
       "      <td>-6.814000</td>\n",
       "      <td>0.027533</td>\n",
       "      <td>-0.223704</td>\n",
       "      <td>-2.155556</td>\n",
       "      <td>0.020491</td>\n",
       "      <td>-1.385109</td>\n",
       "      <td>-0.782762</td>\n",
       "      <td>-1.032409</td>\n",
       "    </tr>\n",
       "    <tr>\n",
       "      <th>NaN</th>\n",
       "      <td>1996</td>\n",
       "      <td>32</td>\n",
       "      <td>PHI</td>\n",
       "      <td>Ryan Minor</td>\n",
       "      <td>Oklahoma</td>\n",
       "      <td>NaN</td>\n",
       "      <td>NaN</td>\n",
       "      <td>NaN</td>\n",
       "      <td>0.0</td>\n",
       "      <td>0.0</td>\n",
       "      <td>...</td>\n",
       "      <td>-821.185185</td>\n",
       "      <td>-249.000000</td>\n",
       "      <td>-9.088963</td>\n",
       "      <td>-0.183440</td>\n",
       "      <td>-8.848889</td>\n",
       "      <td>-3.337037</td>\n",
       "      <td>-0.085656</td>\n",
       "      <td>-21.566412</td>\n",
       "      <td>13.746460</td>\n",
       "      <td>-24.890159</td>\n",
       "    </tr>\n",
       "    <tr>\n",
       "      <th>983.0</th>\n",
       "      <td>1996</td>\n",
       "      <td>33</td>\n",
       "      <td>MIL</td>\n",
       "      <td>Moochie Norris</td>\n",
       "      <td>University of West Florida</td>\n",
       "      <td>9.0</td>\n",
       "      <td>445.0</td>\n",
       "      <td>7640.0</td>\n",
       "      <td>2272.0</td>\n",
       "      <td>868.0</td>\n",
       "      <td>...</td>\n",
       "      <td>313.111111</td>\n",
       "      <td>833.481481</td>\n",
       "      <td>3.866519</td>\n",
       "      <td>0.038093</td>\n",
       "      <td>2.453333</td>\n",
       "      <td>1.000000</td>\n",
       "      <td>0.025315</td>\n",
       "      <td>1.676720</td>\n",
       "      <td>-4.770700</td>\n",
       "      <td>4.886717</td>\n",
       "    </tr>\n",
       "    <tr>\n",
       "      <th>NaN</th>\n",
       "      <td>1996</td>\n",
       "      <td>34</td>\n",
       "      <td>DAL</td>\n",
       "      <td>Shawn Harvey</td>\n",
       "      <td>West Virginia State University</td>\n",
       "      <td>NaN</td>\n",
       "      <td>NaN</td>\n",
       "      <td>NaN</td>\n",
       "      <td>0.0</td>\n",
       "      <td>0.0</td>\n",
       "      <td>...</td>\n",
       "      <td>-1443.000000</td>\n",
       "      <td>-421.074074</td>\n",
       "      <td>-14.174148</td>\n",
       "      <td>-0.161805</td>\n",
       "      <td>-7.717778</td>\n",
       "      <td>-5.703704</td>\n",
       "      <td>-0.067680</td>\n",
       "      <td>-17.512685</td>\n",
       "      <td>10.947365</td>\n",
       "      <td>-19.582441</td>\n",
       "    </tr>\n",
       "    <tr>\n",
       "      <th>NaN</th>\n",
       "      <td>1996</td>\n",
       "      <td>35</td>\n",
       "      <td>SEA</td>\n",
       "      <td>Joseph Blair</td>\n",
       "      <td>Arizona</td>\n",
       "      <td>NaN</td>\n",
       "      <td>NaN</td>\n",
       "      <td>NaN</td>\n",
       "      <td>0.0</td>\n",
       "      <td>0.0</td>\n",
       "      <td>...</td>\n",
       "      <td>-655.740741</td>\n",
       "      <td>-187.666667</td>\n",
       "      <td>-6.858519</td>\n",
       "      <td>-0.155184</td>\n",
       "      <td>-7.463704</td>\n",
       "      <td>-3.088889</td>\n",
       "      <td>-0.068331</td>\n",
       "      <td>-17.037914</td>\n",
       "      <td>11.218832</td>\n",
       "      <td>-19.763905</td>\n",
       "    </tr>\n",
       "    <tr>\n",
       "      <th>NaN</th>\n",
       "      <td>1996</td>\n",
       "      <td>36</td>\n",
       "      <td>LAC</td>\n",
       "      <td>Doron Sheffer</td>\n",
       "      <td>UConn</td>\n",
       "      <td>NaN</td>\n",
       "      <td>NaN</td>\n",
       "      <td>NaN</td>\n",
       "      <td>0.0</td>\n",
       "      <td>0.0</td>\n",
       "      <td>...</td>\n",
       "      <td>-647.703704</td>\n",
       "      <td>-300.703704</td>\n",
       "      <td>-7.684296</td>\n",
       "      <td>-0.149551</td>\n",
       "      <td>-6.800000</td>\n",
       "      <td>-3.259259</td>\n",
       "      <td>-0.057309</td>\n",
       "      <td>-15.684307</td>\n",
       "      <td>15.626649</td>\n",
       "      <td>-21.269947</td>\n",
       "    </tr>\n",
       "    <tr>\n",
       "      <th>976.0</th>\n",
       "      <td>1996</td>\n",
       "      <td>37</td>\n",
       "      <td>DEN</td>\n",
       "      <td>Jeff McInnis</td>\n",
       "      <td>UNC</td>\n",
       "      <td>11.0</td>\n",
       "      <td>576.0</td>\n",
       "      <td>15927.0</td>\n",
       "      <td>5396.0</td>\n",
       "      <td>1170.0</td>\n",
       "      <td>...</td>\n",
       "      <td>444.148148</td>\n",
       "      <td>1980.888889</td>\n",
       "      <td>13.738815</td>\n",
       "      <td>0.019926</td>\n",
       "      <td>0.700000</td>\n",
       "      <td>-1.437037</td>\n",
       "      <td>0.013154</td>\n",
       "      <td>-1.075470</td>\n",
       "      <td>2.108337</td>\n",
       "      <td>-3.184462</td>\n",
       "    </tr>\n",
       "    <tr>\n",
       "      <th>984.0</th>\n",
       "      <td>1996</td>\n",
       "      <td>38</td>\n",
       "      <td>BOS</td>\n",
       "      <td>Steve Hamer</td>\n",
       "      <td>Tennessee</td>\n",
       "      <td>1.0</td>\n",
       "      <td>35.0</td>\n",
       "      <td>268.0</td>\n",
       "      <td>76.0</td>\n",
       "      <td>60.0</td>\n",
       "      <td>...</td>\n",
       "      <td>-442.555556</td>\n",
       "      <td>-309.777778</td>\n",
       "      <td>-5.698519</td>\n",
       "      <td>0.056779</td>\n",
       "      <td>0.805185</td>\n",
       "      <td>-0.455556</td>\n",
       "      <td>0.024374</td>\n",
       "      <td>9.917480</td>\n",
       "      <td>-6.223328</td>\n",
       "      <td>13.157027</td>\n",
       "    </tr>\n",
       "    <tr>\n",
       "      <th>NaN</th>\n",
       "      <td>1996</td>\n",
       "      <td>39</td>\n",
       "      <td>PHO</td>\n",
       "      <td>Russ Millard</td>\n",
       "      <td>Iowa</td>\n",
       "      <td>NaN</td>\n",
       "      <td>NaN</td>\n",
       "      <td>NaN</td>\n",
       "      <td>0.0</td>\n",
       "      <td>0.0</td>\n",
       "      <td>...</td>\n",
       "      <td>-699.074074</td>\n",
       "      <td>-634.333333</td>\n",
       "      <td>-7.984296</td>\n",
       "      <td>-0.144241</td>\n",
       "      <td>-7.040741</td>\n",
       "      <td>-3.548148</td>\n",
       "      <td>-0.071619</td>\n",
       "      <td>-17.518148</td>\n",
       "      <td>10.255466</td>\n",
       "      <td>-18.122311</td>\n",
       "    </tr>\n",
       "    <tr>\n",
       "      <th>NaN</th>\n",
       "      <td>1996</td>\n",
       "      <td>40</td>\n",
       "      <td>GSW</td>\n",
       "      <td>Marcus Mann</td>\n",
       "      <td>Mississippi Valley State University</td>\n",
       "      <td>NaN</td>\n",
       "      <td>NaN</td>\n",
       "      <td>NaN</td>\n",
       "      <td>0.0</td>\n",
       "      <td>0.0</td>\n",
       "      <td>...</td>\n",
       "      <td>-691.296296</td>\n",
       "      <td>-386.555556</td>\n",
       "      <td>-9.537259</td>\n",
       "      <td>-0.155805</td>\n",
       "      <td>-7.477037</td>\n",
       "      <td>-4.937037</td>\n",
       "      <td>-0.066252</td>\n",
       "      <td>-17.643158</td>\n",
       "      <td>10.290241</td>\n",
       "      <td>-19.054566</td>\n",
       "    </tr>\n",
       "    <tr>\n",
       "      <th>987.0</th>\n",
       "      <td>1996</td>\n",
       "      <td>41</td>\n",
       "      <td>SAC</td>\n",
       "      <td>Jason Sasser</td>\n",
       "      <td>Texas Tech</td>\n",
       "      <td>2.0</td>\n",
       "      <td>14.0</td>\n",
       "      <td>108.0</td>\n",
       "      <td>30.0</td>\n",
       "      <td>15.0</td>\n",
       "      <td>...</td>\n",
       "      <td>-656.777778</td>\n",
       "      <td>-311.444444</td>\n",
       "      <td>-7.795556</td>\n",
       "      <td>-0.046610</td>\n",
       "      <td>-1.094815</td>\n",
       "      <td>-0.270370</td>\n",
       "      <td>-0.011258</td>\n",
       "      <td>-14.760440</td>\n",
       "      <td>-7.222312</td>\n",
       "      <td>-9.095713</td>\n",
       "    </tr>\n",
       "    <tr>\n",
       "      <th>988.0</th>\n",
       "      <td>1996</td>\n",
       "      <td>42</td>\n",
       "      <td>HOU</td>\n",
       "      <td>Randy Livingston</td>\n",
       "      <td>LSU</td>\n",
       "      <td>11.0</td>\n",
       "      <td>203.0</td>\n",
       "      <td>2684.0</td>\n",
       "      <td>773.0</td>\n",
       "      <td>282.0</td>\n",
       "      <td>...</td>\n",
       "      <td>-501.888889</td>\n",
       "      <td>54.370370</td>\n",
       "      <td>-6.896444</td>\n",
       "      <td>0.071019</td>\n",
       "      <td>3.660741</td>\n",
       "      <td>-1.551852</td>\n",
       "      <td>0.021328</td>\n",
       "      <td>3.171227</td>\n",
       "      <td>-9.422341</td>\n",
       "      <td>11.048431</td>\n",
       "    </tr>\n",
       "    <tr>\n",
       "      <th>989.0</th>\n",
       "      <td>1996</td>\n",
       "      <td>43</td>\n",
       "      <td>PHO</td>\n",
       "      <td>Ben Davis</td>\n",
       "      <td>Arizona</td>\n",
       "      <td>4.0</td>\n",
       "      <td>40.0</td>\n",
       "      <td>154.0</td>\n",
       "      <td>54.0</td>\n",
       "      <td>53.0</td>\n",
       "      <td>...</td>\n",
       "      <td>-327.148148</td>\n",
       "      <td>-120.555556</td>\n",
       "      <td>-3.056000</td>\n",
       "      <td>0.055919</td>\n",
       "      <td>1.025926</td>\n",
       "      <td>1.033333</td>\n",
       "      <td>-0.002345</td>\n",
       "      <td>7.093196</td>\n",
       "      <td>-3.495101</td>\n",
       "      <td>6.792082</td>\n",
       "    </tr>\n",
       "    <tr>\n",
       "      <th>990.0</th>\n",
       "      <td>1996</td>\n",
       "      <td>44</td>\n",
       "      <td>CHH</td>\n",
       "      <td>Malik Rose</td>\n",
       "      <td>Drexel</td>\n",
       "      <td>13.0</td>\n",
       "      <td>813.0</td>\n",
       "      <td>13404.0</td>\n",
       "      <td>5003.0</td>\n",
       "      <td>3371.0</td>\n",
       "      <td>...</td>\n",
       "      <td>2769.111111</td>\n",
       "      <td>241.962963</td>\n",
       "      <td>17.710815</td>\n",
       "      <td>0.069950</td>\n",
       "      <td>2.289630</td>\n",
       "      <td>-1.011111</td>\n",
       "      <td>0.023132</td>\n",
       "      <td>5.063338</td>\n",
       "      <td>-8.077695</td>\n",
       "      <td>10.434024</td>\n",
       "    </tr>\n",
       "    <tr>\n",
       "      <th>NaN</th>\n",
       "      <td>1996</td>\n",
       "      <td>45</td>\n",
       "      <td>SEA</td>\n",
       "      <td>Joe Vogel</td>\n",
       "      <td>Colorado State</td>\n",
       "      <td>NaN</td>\n",
       "      <td>NaN</td>\n",
       "      <td>NaN</td>\n",
       "      <td>0.0</td>\n",
       "      <td>0.0</td>\n",
       "      <td>...</td>\n",
       "      <td>-561.481481</td>\n",
       "      <td>-302.111111</td>\n",
       "      <td>-6.864148</td>\n",
       "      <td>-0.134777</td>\n",
       "      <td>-6.546667</td>\n",
       "      <td>-3.674074</td>\n",
       "      <td>-0.041708</td>\n",
       "      <td>-12.462189</td>\n",
       "      <td>13.618439</td>\n",
       "      <td>-17.965874</td>\n",
       "    </tr>\n",
       "    <tr>\n",
       "      <th>992.0</th>\n",
       "      <td>1996</td>\n",
       "      <td>46</td>\n",
       "      <td>POR</td>\n",
       "      <td>Marcus Brown</td>\n",
       "      <td>Murray State</td>\n",
       "      <td>2.0</td>\n",
       "      <td>27.0</td>\n",
       "      <td>229.0</td>\n",
       "      <td>92.0</td>\n",
       "      <td>22.0</td>\n",
       "      <td>...</td>\n",
       "      <td>-526.370370</td>\n",
       "      <td>-299.666667</td>\n",
       "      <td>-6.064222</td>\n",
       "      <td>0.042950</td>\n",
       "      <td>1.756296</td>\n",
       "      <td>-3.177778</td>\n",
       "      <td>0.003055</td>\n",
       "      <td>5.960275</td>\n",
       "      <td>-4.356645</td>\n",
       "      <td>7.684147</td>\n",
       "    </tr>\n",
       "    <tr>\n",
       "      <th>NaN</th>\n",
       "      <td>1996</td>\n",
       "      <td>47</td>\n",
       "      <td>SEA</td>\n",
       "      <td>Ron Riley</td>\n",
       "      <td>Arizona State</td>\n",
       "      <td>NaN</td>\n",
       "      <td>NaN</td>\n",
       "      <td>NaN</td>\n",
       "      <td>0.0</td>\n",
       "      <td>0.0</td>\n",
       "      <td>...</td>\n",
       "      <td>-472.370370</td>\n",
       "      <td>-243.407407</td>\n",
       "      <td>-5.823407</td>\n",
       "      <td>-0.134124</td>\n",
       "      <td>-6.637778</td>\n",
       "      <td>-3.407407</td>\n",
       "      <td>-0.056320</td>\n",
       "      <td>-19.213794</td>\n",
       "      <td>11.962909</td>\n",
       "      <td>-22.680055</td>\n",
       "    </tr>\n",
       "    <tr>\n",
       "      <th>994.0</th>\n",
       "      <td>1996</td>\n",
       "      <td>48</td>\n",
       "      <td>PHI</td>\n",
       "      <td>Jamie Feick</td>\n",
       "      <td>Michigan State</td>\n",
       "      <td>5.0</td>\n",
       "      <td>201.0</td>\n",
       "      <td>4316.0</td>\n",
       "      <td>911.0</td>\n",
       "      <td>1437.0</td>\n",
       "      <td>...</td>\n",
       "      <td>1001.666667</td>\n",
       "      <td>2.888889</td>\n",
       "      <td>4.543185</td>\n",
       "      <td>0.098691</td>\n",
       "      <td>3.585926</td>\n",
       "      <td>-0.037037</td>\n",
       "      <td>0.042209</td>\n",
       "      <td>9.771035</td>\n",
       "      <td>-2.272736</td>\n",
       "      <td>9.341667</td>\n",
       "    </tr>\n",
       "    <tr>\n",
       "      <th>1043.0</th>\n",
       "      <td>1996</td>\n",
       "      <td>49</td>\n",
       "      <td>ORL</td>\n",
       "      <td>Amal McCaskill</td>\n",
       "      <td>Marquette</td>\n",
       "      <td>4.0</td>\n",
       "      <td>114.0</td>\n",
       "      <td>968.0</td>\n",
       "      <td>204.0</td>\n",
       "      <td>213.0</td>\n",
       "      <td>...</td>\n",
       "      <td>-140.074074</td>\n",
       "      <td>-65.222222</td>\n",
       "      <td>-2.462593</td>\n",
       "      <td>0.057086</td>\n",
       "      <td>3.133333</td>\n",
       "      <td>1.025926</td>\n",
       "      <td>0.013479</td>\n",
       "      <td>0.420167</td>\n",
       "      <td>-11.455957</td>\n",
       "      <td>6.466634</td>\n",
       "    </tr>\n",
       "    <tr>\n",
       "      <th>NaN</th>\n",
       "      <td>1996</td>\n",
       "      <td>50</td>\n",
       "      <td>HOU</td>\n",
       "      <td>Terrell Bell</td>\n",
       "      <td>Georgia</td>\n",
       "      <td>NaN</td>\n",
       "      <td>NaN</td>\n",
       "      <td>NaN</td>\n",
       "      <td>0.0</td>\n",
       "      <td>0.0</td>\n",
       "      <td>...</td>\n",
       "      <td>-217.777778</td>\n",
       "      <td>-150.333333</td>\n",
       "      <td>-4.214370</td>\n",
       "      <td>-0.062234</td>\n",
       "      <td>-3.023704</td>\n",
       "      <td>-2.429630</td>\n",
       "      <td>-0.031076</td>\n",
       "      <td>-7.330503</td>\n",
       "      <td>10.559342</td>\n",
       "      <td>-12.096337</td>\n",
       "    </tr>\n",
       "    <tr>\n",
       "      <th>997.0</th>\n",
       "      <td>1996</td>\n",
       "      <td>51</td>\n",
       "      <td>VAN</td>\n",
       "      <td>Chris Robinson</td>\n",
       "      <td>Western Kentucky</td>\n",
       "      <td>2.0</td>\n",
       "      <td>76.0</td>\n",
       "      <td>1095.0</td>\n",
       "      <td>350.0</td>\n",
       "      <td>117.0</td>\n",
       "      <td>...</td>\n",
       "      <td>-17.962963</td>\n",
       "      <td>35.925926</td>\n",
       "      <td>-0.969852</td>\n",
       "      <td>0.017904</td>\n",
       "      <td>2.534815</td>\n",
       "      <td>1.200000</td>\n",
       "      <td>0.013068</td>\n",
       "      <td>8.395696</td>\n",
       "      <td>2.402064</td>\n",
       "      <td>2.521010</td>\n",
       "    </tr>\n",
       "    <tr>\n",
       "      <th>998.0</th>\n",
       "      <td>1996</td>\n",
       "      <td>52</td>\n",
       "      <td>IND</td>\n",
       "      <td>Mark Pope</td>\n",
       "      <td>Kentucky</td>\n",
       "      <td>6.0</td>\n",
       "      <td>153.0</td>\n",
       "      <td>1634.0</td>\n",
       "      <td>285.0</td>\n",
       "      <td>261.0</td>\n",
       "      <td>...</td>\n",
       "      <td>0.444444</td>\n",
       "      <td>-38.259259</td>\n",
       "      <td>-0.893037</td>\n",
       "      <td>0.055580</td>\n",
       "      <td>2.041481</td>\n",
       "      <td>0.255556</td>\n",
       "      <td>-0.026660</td>\n",
       "      <td>4.928873</td>\n",
       "      <td>-8.312181</td>\n",
       "      <td>10.485012</td>\n",
       "    </tr>\n",
       "    <tr>\n",
       "      <th>999.0</th>\n",
       "      <td>1996</td>\n",
       "      <td>53</td>\n",
       "      <td>MIL</td>\n",
       "      <td>Jeff Nordgaard</td>\n",
       "      <td>Green Bay</td>\n",
       "      <td>1.0</td>\n",
       "      <td>13.0</td>\n",
       "      <td>48.0</td>\n",
       "      <td>18.0</td>\n",
       "      <td>14.0</td>\n",
       "      <td>...</td>\n",
       "      <td>-127.185185</td>\n",
       "      <td>-78.592593</td>\n",
       "      <td>-1.691185</td>\n",
       "      <td>0.093331</td>\n",
       "      <td>4.136296</td>\n",
       "      <td>-1.070370</td>\n",
       "      <td>0.037889</td>\n",
       "      <td>16.699330</td>\n",
       "      <td>-2.294227</td>\n",
       "      <td>13.866501</td>\n",
       "    </tr>\n",
       "    <tr>\n",
       "      <th>1000.0</th>\n",
       "      <td>1996</td>\n",
       "      <td>54</td>\n",
       "      <td>UTA</td>\n",
       "      <td>Shandon Anderson</td>\n",
       "      <td>Georgia</td>\n",
       "      <td>10.0</td>\n",
       "      <td>719.0</td>\n",
       "      <td>15946.0</td>\n",
       "      <td>5327.0</td>\n",
       "      <td>2252.0</td>\n",
       "      <td>...</td>\n",
       "      <td>1915.518519</td>\n",
       "      <td>836.000000</td>\n",
       "      <td>20.183778</td>\n",
       "      <td>0.118682</td>\n",
       "      <td>6.896296</td>\n",
       "      <td>4.351852</td>\n",
       "      <td>0.047851</td>\n",
       "      <td>10.747931</td>\n",
       "      <td>-7.506595</td>\n",
       "      <td>14.780502</td>\n",
       "    </tr>\n",
       "    <tr>\n",
       "      <th>NaN</th>\n",
       "      <td>1996</td>\n",
       "      <td>55</td>\n",
       "      <td>WSB</td>\n",
       "      <td>Ronnie Henderson</td>\n",
       "      <td>LSU</td>\n",
       "      <td>NaN</td>\n",
       "      <td>NaN</td>\n",
       "      <td>NaN</td>\n",
       "      <td>0.0</td>\n",
       "      <td>0.0</td>\n",
       "      <td>...</td>\n",
       "      <td>-447.629630</td>\n",
       "      <td>-198.111111</td>\n",
       "      <td>-5.183778</td>\n",
       "      <td>-0.116040</td>\n",
       "      <td>-5.756296</td>\n",
       "      <td>-2.133333</td>\n",
       "      <td>-0.053046</td>\n",
       "      <td>-11.798206</td>\n",
       "      <td>8.773139</td>\n",
       "      <td>-14.011242</td>\n",
       "    </tr>\n",
       "    <tr>\n",
       "      <th>1002.0</th>\n",
       "      <td>1996</td>\n",
       "      <td>56</td>\n",
       "      <td>CLE</td>\n",
       "      <td>Reggie Geary</td>\n",
       "      <td>Arizona</td>\n",
       "      <td>2.0</td>\n",
       "      <td>101.0</td>\n",
       "      <td>931.0</td>\n",
       "      <td>209.0</td>\n",
       "      <td>82.0</td>\n",
       "      <td>...</td>\n",
       "      <td>-308.814815</td>\n",
       "      <td>-79.925926</td>\n",
       "      <td>-5.249704</td>\n",
       "      <td>0.080818</td>\n",
       "      <td>5.935556</td>\n",
       "      <td>-0.092593</td>\n",
       "      <td>0.015614</td>\n",
       "      <td>9.183286</td>\n",
       "      <td>-20.174820</td>\n",
       "      <td>23.177902</td>\n",
       "    </tr>\n",
       "    <tr>\n",
       "      <th>1003.0</th>\n",
       "      <td>1996</td>\n",
       "      <td>57</td>\n",
       "      <td>SEA</td>\n",
       "      <td>Drew Barry</td>\n",
       "      <td>Georgia Tech</td>\n",
       "      <td>3.0</td>\n",
       "      <td>60.0</td>\n",
       "      <td>598.0</td>\n",
       "      <td>134.0</td>\n",
       "      <td>67.0</td>\n",
       "      <td>...</td>\n",
       "      <td>-12.666667</td>\n",
       "      <td>89.518519</td>\n",
       "      <td>0.238370</td>\n",
       "      <td>0.080627</td>\n",
       "      <td>4.014074</td>\n",
       "      <td>1.766667</td>\n",
       "      <td>0.044046</td>\n",
       "      <td>13.681162</td>\n",
       "      <td>-11.287235</td>\n",
       "      <td>19.944956</td>\n",
       "    </tr>\n",
       "    <tr>\n",
       "      <th>NaN</th>\n",
       "      <td>1996</td>\n",
       "      <td>58</td>\n",
       "      <td>DAL</td>\n",
       "      <td>Darnell Robinson</td>\n",
       "      <td>Arkansas</td>\n",
       "      <td>NaN</td>\n",
       "      <td>NaN</td>\n",
       "      <td>NaN</td>\n",
       "      <td>0.0</td>\n",
       "      <td>0.0</td>\n",
       "      <td>...</td>\n",
       "      <td>-11.333333</td>\n",
       "      <td>-4.222222</td>\n",
       "      <td>-0.235778</td>\n",
       "      <td>-0.046926</td>\n",
       "      <td>-2.034444</td>\n",
       "      <td>-0.988889</td>\n",
       "      <td>-0.024159</td>\n",
       "      <td>-9.526778</td>\n",
       "      <td>0.089383</td>\n",
       "      <td>-5.551439</td>\n",
       "    </tr>\n",
       "    <tr>\n",
       "      <th>1495.0</th>\n",
       "      <td>1997</td>\n",
       "      <td>1</td>\n",
       "      <td>SAS</td>\n",
       "      <td>Tim Duncan</td>\n",
       "      <td>Wake Forest</td>\n",
       "      <td>19.0</td>\n",
       "      <td>1392.0</td>\n",
       "      <td>47368.0</td>\n",
       "      <td>26496.0</td>\n",
       "      <td>15091.0</td>\n",
       "      <td>...</td>\n",
       "      <td>11909.259259</td>\n",
       "      <td>2847.259259</td>\n",
       "      <td>170.439778</td>\n",
       "      <td>0.125236</td>\n",
       "      <td>6.291111</td>\n",
       "      <td>80.792593</td>\n",
       "      <td>0.075922</td>\n",
       "      <td>3.237322</td>\n",
       "      <td>-10.099923</td>\n",
       "      <td>12.947683</td>\n",
       "    </tr>\n",
       "    <tr>\n",
       "      <th>1496.0</th>\n",
       "      <td>1997</td>\n",
       "      <td>2</td>\n",
       "      <td>PHI</td>\n",
       "      <td>Keith Van Horn</td>\n",
       "      <td>Utah</td>\n",
       "      <td>9.0</td>\n",
       "      <td>575.0</td>\n",
       "      <td>18150.0</td>\n",
       "      <td>9206.0</td>\n",
       "      <td>3909.0</td>\n",
       "      <td>...</td>\n",
       "      <td>324.333333</td>\n",
       "      <td>-1322.814815</td>\n",
       "      <td>-11.044444</td>\n",
       "      <td>-0.006148</td>\n",
       "      <td>-1.174074</td>\n",
       "      <td>-9.659259</td>\n",
       "      <td>-0.008170</td>\n",
       "      <td>-3.255752</td>\n",
       "      <td>-4.438036</td>\n",
       "      <td>1.177633</td>\n",
       "    </tr>\n",
       "  </tbody>\n",
       "</table>\n",
       "<p>60 rows × 37 columns</p>\n",
       "</div>"
      ],
      "text/plain": [
       "Player ID  Season  Pk   Tm               Player  \\\n",
       "947.0        1996   1  PHI        Allen Iverson   \n",
       "948.0        1996   2  TOR         Marcus Camby   \n",
       "949.0        1996   3  VAN  Shareef Abdur-Rahim   \n",
       "950.0        1996   4  MIL      Stephon Marbury   \n",
       "951.0        1996   5  MIN            Ray Allen   \n",
       "952.0        1996   6  BOS       Antoine Walker   \n",
       "953.0        1996   7  LAC      Lorenzen Wright   \n",
       "954.0        1996   8  NJN        Kerry Kittles   \n",
       "955.0        1996   9  DAL        Samaki Walker   \n",
       "956.0        1996  10  IND        Erick Dampier   \n",
       "957.0        1996  11  GSW          Todd Fuller   \n",
       "958.0        1996  12  CLE     Vitaly Potapenko   \n",
       "977.0        1996  13  CHH          Kobe Bryant   \n",
       "978.0        1996  14  SAC      Peja Stojaković   \n",
       "959.0        1996  15  PHO           Steve Nash   \n",
       "960.0        1996  16  CHH            Tony Delk   \n",
       "979.0        1996  17  POR      Jermaine O'Neal   \n",
       "961.0        1996  18  NYK         John Wallace   \n",
       "962.0        1996  19  NYK       Walter McCarty   \n",
       "980.0        1996  20  CLE   Zydrunas Ilgauskas   \n",
       "963.0        1996  21  NYK        Dontae' Jones   \n",
       "964.0        1996  22  VAN           Roy Rogers   \n",
       "981.0        1996  23  DEN   Efthimios Rentzias   \n",
       "965.0        1996  24  LAL         Derek Fisher   \n",
       "982.0        1996  25  UTA      Martin Müürsepp   \n",
       "966.0        1996  26  DET      Jerome Williams   \n",
       "967.0        1996  27  ORL          Brian Evans   \n",
       "968.0        1996  28  ATL    Priest Lauderdale   \n",
       "969.0        1996  29  CHI        Travis Knight   \n",
       "970.0        1996  30  HOU   Othella Harrington   \n",
       "971.0        1996  31  PHI     Mark Hendrickson   \n",
       "NaN          1996  32  PHI           Ryan Minor   \n",
       "983.0        1996  33  MIL       Moochie Norris   \n",
       "NaN          1996  34  DAL         Shawn Harvey   \n",
       "NaN          1996  35  SEA         Joseph Blair   \n",
       "NaN          1996  36  LAC        Doron Sheffer   \n",
       "976.0        1996  37  DEN         Jeff McInnis   \n",
       "984.0        1996  38  BOS          Steve Hamer   \n",
       "NaN          1996  39  PHO         Russ Millard   \n",
       "NaN          1996  40  GSW          Marcus Mann   \n",
       "987.0        1996  41  SAC         Jason Sasser   \n",
       "988.0        1996  42  HOU     Randy Livingston   \n",
       "989.0        1996  43  PHO            Ben Davis   \n",
       "990.0        1996  44  CHH           Malik Rose   \n",
       "NaN          1996  45  SEA            Joe Vogel   \n",
       "992.0        1996  46  POR         Marcus Brown   \n",
       "NaN          1996  47  SEA            Ron Riley   \n",
       "994.0        1996  48  PHI          Jamie Feick   \n",
       "1043.0       1996  49  ORL       Amal McCaskill   \n",
       "NaN          1996  50  HOU         Terrell Bell   \n",
       "997.0        1996  51  VAN       Chris Robinson   \n",
       "998.0        1996  52  IND            Mark Pope   \n",
       "999.0        1996  53  MIL       Jeff Nordgaard   \n",
       "1000.0       1996  54  UTA     Shandon Anderson   \n",
       "NaN          1996  55  WSB     Ronnie Henderson   \n",
       "1002.0       1996  56  CLE         Reggie Geary   \n",
       "1003.0       1996  57  SEA           Drew Barry   \n",
       "NaN          1996  58  DAL     Darnell Robinson   \n",
       "1495.0       1997   1  SAS           Tim Duncan   \n",
       "1496.0       1997   2  PHI       Keith Van Horn   \n",
       "\n",
       "Player ID                              College   Yrs       G       MP  \\\n",
       "947.0                               Georgetown  14.0   914.0  37584.0   \n",
       "948.0                                    UMass  17.0   973.0  28684.0   \n",
       "949.0                               California  12.0   830.0  28882.0   \n",
       "950.0                             Georgia Tech  13.0   846.0  31891.0   \n",
       "951.0                                    UConn  18.0  1300.0  46344.0   \n",
       "952.0                                 Kentucky  12.0   893.0  31531.0   \n",
       "953.0                                  Memphis  13.0   778.0  18535.0   \n",
       "954.0                                Villanova   8.0   507.0  16929.0   \n",
       "955.0                               Louisville  10.0   445.0   7612.0   \n",
       "956.0                        Mississippi State  16.0   987.0  24003.0   \n",
       "957.0                                 NC State   5.0   225.0   2500.0   \n",
       "958.0                  Wright State University  11.0   610.0  11608.0   \n",
       "977.0                                      NaN  20.0  1346.0  48637.0   \n",
       "978.0                                      NaN  13.0   804.0  26966.0   \n",
       "959.0                              Santa Clara  18.0  1217.0  38069.0   \n",
       "960.0                                 Kentucky  10.0   545.0  11702.0   \n",
       "979.0                                      NaN  18.0  1011.0  27364.0   \n",
       "961.0                                 Syracuse   7.0   381.0   6143.0   \n",
       "962.0                                 Kentucky  10.0   593.0  10374.0   \n",
       "980.0                                      NaN  13.0   843.0  22965.0   \n",
       "963.0                        Mississippi State   1.0    15.0     91.0   \n",
       "964.0                                  Alabama   3.0   137.0   2309.0   \n",
       "981.0                                      NaN   1.0    35.0    144.0   \n",
       "965.0                              Little Rock  18.0  1287.0  32719.0   \n",
       "982.0                                      NaN   2.0    83.0    951.0   \n",
       "966.0                               Georgetown   9.0   587.0  12755.0   \n",
       "967.0                                  Indiana   3.0   102.0   1097.0   \n",
       "968.0                 Central State University   2.0    74.0    525.0   \n",
       "969.0                                    UConn   7.0   371.0   4566.0   \n",
       "970.0                               Georgetown  12.0   709.0  13924.0   \n",
       "971.0                         Washington State   4.0   114.0   1508.0   \n",
       "NaN                                   Oklahoma   NaN     NaN      NaN   \n",
       "983.0               University of West Florida   9.0   445.0   7640.0   \n",
       "NaN             West Virginia State University   NaN     NaN      NaN   \n",
       "NaN                                    Arizona   NaN     NaN      NaN   \n",
       "NaN                                      UConn   NaN     NaN      NaN   \n",
       "976.0                                      UNC  11.0   576.0  15927.0   \n",
       "984.0                                Tennessee   1.0    35.0    268.0   \n",
       "NaN                                       Iowa   NaN     NaN      NaN   \n",
       "NaN        Mississippi Valley State University   NaN     NaN      NaN   \n",
       "987.0                               Texas Tech   2.0    14.0    108.0   \n",
       "988.0                                      LSU  11.0   203.0   2684.0   \n",
       "989.0                                  Arizona   4.0    40.0    154.0   \n",
       "990.0                                   Drexel  13.0   813.0  13404.0   \n",
       "NaN                             Colorado State   NaN     NaN      NaN   \n",
       "992.0                             Murray State   2.0    27.0    229.0   \n",
       "NaN                              Arizona State   NaN     NaN      NaN   \n",
       "994.0                           Michigan State   5.0   201.0   4316.0   \n",
       "1043.0                               Marquette   4.0   114.0    968.0   \n",
       "NaN                                    Georgia   NaN     NaN      NaN   \n",
       "997.0                         Western Kentucky   2.0    76.0   1095.0   \n",
       "998.0                                 Kentucky   6.0   153.0   1634.0   \n",
       "999.0                                Green Bay   1.0    13.0     48.0   \n",
       "1000.0                                 Georgia  10.0   719.0  15946.0   \n",
       "NaN                                        LSU   NaN     NaN      NaN   \n",
       "1002.0                                 Arizona   2.0   101.0    931.0   \n",
       "1003.0                            Georgia Tech   3.0    60.0    598.0   \n",
       "NaN                                   Arkansas   NaN     NaN      NaN   \n",
       "1495.0                             Wake Forest  19.0  1392.0  47368.0   \n",
       "1496.0                                    Utah   9.0   575.0  18150.0   \n",
       "\n",
       "Player ID      PTS      TRB  ...      TRB_diff     AST_diff     WS_diff  \\\n",
       "947.0      24368.0   3394.0  ...    212.259259  4246.259259   63.039778   \n",
       "948.0       9262.0   9513.0  ...   5928.333333  -385.814815   28.855556   \n",
       "949.0      15028.0   6239.0  ...   3045.222222   -40.666667   28.340741   \n",
       "950.0      16297.0   2516.0  ...   -434.629630  4516.555556   37.613852   \n",
       "951.0      24505.0   5272.0  ...   3306.074074  3383.555556  121.521259   \n",
       "952.0      15647.0   6891.0  ...   4136.629630  1611.555556    5.107407   \n",
       "953.0       6191.0   4943.0  ...   2909.740741  -597.111111    7.625926   \n",
       "954.0       7165.0   1983.0  ...  -1283.888889  -212.222222    1.903704   \n",
       "955.0       2376.0   2089.0  ...   -336.444444 -1212.074074  -18.455556   \n",
       "956.0       7309.0   7005.0  ...   5612.777778   146.962963   36.502741   \n",
       "957.0        835.0    674.0  ...  -1295.777778  -581.851852  -16.011111   \n",
       "958.0       3995.0   2725.0  ...    868.888889  -689.481481  -10.681481   \n",
       "977.0      33643.0   7047.0  ...   5443.222222  5643.592593  154.829630   \n",
       "978.0      13647.0   3782.0  ...   1923.000000   460.925926   58.484222   \n",
       "959.0      17387.0   3642.0  ...   2119.555556  9529.037037  113.786963   \n",
       "960.0       4957.0   1351.0  ...   -359.481481   214.259259    3.214815   \n",
       "979.0      13309.0   7261.0  ...   5773.333333   630.185185   48.450889   \n",
       "961.0       2901.0   1061.0  ...   -717.629630  -412.851852  -11.512074   \n",
       "962.0       3056.0   1554.0  ...    323.703704    21.370370    0.528667   \n",
       "980.0      10976.0   6191.0  ...   4737.444444   -40.185185   48.240741   \n",
       "963.0         44.0      9.0  ...  -1370.888889  -506.629630  -14.127852   \n",
       "964.0        652.0    483.0  ...   -971.925926  -553.000000  -12.896296   \n",
       "981.0         52.0     26.0  ...  -1257.592593 -1005.518519  -19.015778   \n",
       "965.0      10713.0   2658.0  ...   1307.703704  3296.185185   48.124000   \n",
       "982.0        389.0    181.0  ...  -1144.703704  -511.000000  -14.352815   \n",
       "966.0       3865.0   3743.0  ...   2182.814815  -216.925926   21.774074   \n",
       "967.0        375.0    164.0  ...   -608.037037  -640.518519  -10.041704   \n",
       "968.0        255.0    143.0  ...   -714.458333  -383.250000   -9.092750   \n",
       "969.0       1276.0   1160.0  ...   -126.629630  -306.555556   -7.136222   \n",
       "970.0       5212.0   3130.0  ...   2389.740741    83.037037   13.548000   \n",
       "971.0        381.0    316.0  ...   -381.703704  -222.296296   -6.814000   \n",
       "NaN            0.0      0.0  ...   -821.185185  -249.000000   -9.088963   \n",
       "983.0       2272.0    868.0  ...    313.111111   833.481481    3.866519   \n",
       "NaN            0.0      0.0  ...  -1443.000000  -421.074074  -14.174148   \n",
       "NaN            0.0      0.0  ...   -655.740741  -187.666667   -6.858519   \n",
       "NaN            0.0      0.0  ...   -647.703704  -300.703704   -7.684296   \n",
       "976.0       5396.0   1170.0  ...    444.148148  1980.888889   13.738815   \n",
       "984.0         76.0     60.0  ...   -442.555556  -309.777778   -5.698519   \n",
       "NaN            0.0      0.0  ...   -699.074074  -634.333333   -7.984296   \n",
       "NaN            0.0      0.0  ...   -691.296296  -386.555556   -9.537259   \n",
       "987.0         30.0     15.0  ...   -656.777778  -311.444444   -7.795556   \n",
       "988.0        773.0    282.0  ...   -501.888889    54.370370   -6.896444   \n",
       "989.0         54.0     53.0  ...   -327.148148  -120.555556   -3.056000   \n",
       "990.0       5003.0   3371.0  ...   2769.111111   241.962963   17.710815   \n",
       "NaN            0.0      0.0  ...   -561.481481  -302.111111   -6.864148   \n",
       "992.0         92.0     22.0  ...   -526.370370  -299.666667   -6.064222   \n",
       "NaN            0.0      0.0  ...   -472.370370  -243.407407   -5.823407   \n",
       "994.0        911.0   1437.0  ...   1001.666667     2.888889    4.543185   \n",
       "1043.0       204.0    213.0  ...   -140.074074   -65.222222   -2.462593   \n",
       "NaN            0.0      0.0  ...   -217.777778  -150.333333   -4.214370   \n",
       "997.0        350.0    117.0  ...    -17.962963    35.925926   -0.969852   \n",
       "998.0        285.0    261.0  ...      0.444444   -38.259259   -0.893037   \n",
       "999.0         18.0     14.0  ...   -127.185185   -78.592593   -1.691185   \n",
       "1000.0      5327.0   2252.0  ...   1915.518519   836.000000   20.183778   \n",
       "NaN            0.0      0.0  ...   -447.629630  -198.111111   -5.183778   \n",
       "1002.0       209.0     82.0  ...   -308.814815   -79.925926   -5.249704   \n",
       "1003.0       134.0     67.0  ...    -12.666667    89.518519    0.238370   \n",
       "NaN            0.0      0.0  ...    -11.333333    -4.222222   -0.235778   \n",
       "1495.0     26496.0  15091.0  ...  11909.259259  2847.259259  170.439778   \n",
       "1496.0      9206.0   3909.0  ...    324.333333 -1322.814815  -11.044444   \n",
       "\n",
       "Player ID  WS/48_diff  BPM_diff  VORP_diff  PIE_diff  OFF_RATING_diff  \\\n",
       "947.0        0.042236  3.891111  39.292593  0.036153        -0.410344   \n",
       "948.0        0.020852  1.025926  12.040741  0.009096        -4.071541   \n",
       "949.0        0.023185  1.620741   8.292593  0.024248        -5.577166   \n",
       "950.0        0.033185  2.314815  17.566667  0.025641        -1.508051   \n",
       "951.0        0.069570  3.566667  50.718519  0.028507         3.745309   \n",
       "952.0       -0.026407  1.509630  10.137037  0.011615        -3.319101   \n",
       "953.0        0.002704 -0.934815  -7.966667 -0.005727        -5.034363   \n",
       "954.0        0.031704  2.733333   3.918519  0.006237        -3.068844   \n",
       "955.0        0.008741 -1.422222 -10.522222 -0.008185        -7.663281   \n",
       "956.0        0.035125  0.372593   0.859259  0.000410         0.247801   \n",
       "957.0       -0.028074 -3.703704  -4.811111 -0.012903        -3.254693   \n",
       "958.0       -0.016407 -2.937037 -13.251852 -0.023549        -5.222918   \n",
       "977.0        0.095111  6.502222  76.896296  0.063198         3.936212   \n",
       "978.0        0.074533  3.709630  19.722222  0.028467         5.186441   \n",
       "959.0        0.115148  5.744444  44.214815  0.064811         9.031064   \n",
       "960.0        0.017630  1.562963   1.455556  0.015686         1.124836   \n",
       "979.0        0.043778  2.934074  11.881481  0.032554        -1.018528   \n",
       "961.0       -0.012430 -0.566667  -3.622222  0.008056        -6.134384   \n",
       "962.0        0.000037  0.422222  -0.507407 -0.017435        -4.960617   \n",
       "980.0        0.090815  2.403704   5.940741  0.044475         3.905372   \n",
       "963.0       -0.248741 -8.903704  -2.407407 -0.078395        -6.525766   \n",
       "964.0       -0.030667 -1.688889  -3.151852 -0.018193        -5.616208   \n",
       "981.0       -0.003037 -1.877778  -5.192593 -0.025729       -10.826731   \n",
       "965.0        0.028148  1.270370   5.862963  0.000116         4.533998   \n",
       "982.0        0.030829  0.442963  -2.155556  0.000848        -3.384806   \n",
       "966.0        0.058889  2.534074   4.370370  0.024098        -1.993782   \n",
       "967.0        0.030755  2.165185  -1.081481  0.005551        -3.163855   \n",
       "968.0       -0.137417 -5.104167  -1.437500 -0.017619        -5.910760   \n",
       "969.0        0.033227  0.162222  -4.018519 -0.070240       -89.357977   \n",
       "970.0        0.039584  0.285926  -6.003704  0.009581         0.417640   \n",
       "971.0        0.027533 -0.223704  -2.155556  0.020491        -1.385109   \n",
       "NaN         -0.183440 -8.848889  -3.337037 -0.085656       -21.566412   \n",
       "983.0        0.038093  2.453333   1.000000  0.025315         1.676720   \n",
       "NaN         -0.161805 -7.717778  -5.703704 -0.067680       -17.512685   \n",
       "NaN         -0.155184 -7.463704  -3.088889 -0.068331       -17.037914   \n",
       "NaN         -0.149551 -6.800000  -3.259259 -0.057309       -15.684307   \n",
       "976.0        0.019926  0.700000  -1.437037  0.013154        -1.075470   \n",
       "984.0        0.056779  0.805185  -0.455556  0.024374         9.917480   \n",
       "NaN         -0.144241 -7.040741  -3.548148 -0.071619       -17.518148   \n",
       "NaN         -0.155805 -7.477037  -4.937037 -0.066252       -17.643158   \n",
       "987.0       -0.046610 -1.094815  -0.270370 -0.011258       -14.760440   \n",
       "988.0        0.071019  3.660741  -1.551852  0.021328         3.171227   \n",
       "989.0        0.055919  1.025926   1.033333 -0.002345         7.093196   \n",
       "990.0        0.069950  2.289630  -1.011111  0.023132         5.063338   \n",
       "NaN         -0.134777 -6.546667  -3.674074 -0.041708       -12.462189   \n",
       "992.0        0.042950  1.756296  -3.177778  0.003055         5.960275   \n",
       "NaN         -0.134124 -6.637778  -3.407407 -0.056320       -19.213794   \n",
       "994.0        0.098691  3.585926  -0.037037  0.042209         9.771035   \n",
       "1043.0       0.057086  3.133333   1.025926  0.013479         0.420167   \n",
       "NaN         -0.062234 -3.023704  -2.429630 -0.031076        -7.330503   \n",
       "997.0        0.017904  2.534815   1.200000  0.013068         8.395696   \n",
       "998.0        0.055580  2.041481   0.255556 -0.026660         4.928873   \n",
       "999.0        0.093331  4.136296  -1.070370  0.037889        16.699330   \n",
       "1000.0       0.118682  6.896296   4.351852  0.047851        10.747931   \n",
       "NaN         -0.116040 -5.756296  -2.133333 -0.053046       -11.798206   \n",
       "1002.0       0.080818  5.935556  -0.092593  0.015614         9.183286   \n",
       "1003.0       0.080627  4.014074   1.766667  0.044046        13.681162   \n",
       "NaN         -0.046926 -2.034444  -0.988889 -0.024159        -9.526778   \n",
       "1495.0       0.125236  6.291111  80.792593  0.075922         3.237322   \n",
       "1496.0      -0.006148 -1.174074  -9.659259 -0.008170        -3.255752   \n",
       "\n",
       "Player ID  DEF_RATING_diff  NET_RATING_diff  \n",
       "947.0            -4.846145         4.054202  \n",
       "948.0            -4.278380         0.208118  \n",
       "949.0            -1.484468        -4.073358  \n",
       "950.0            -1.664665         0.164550  \n",
       "951.0            -2.505246         6.238115  \n",
       "952.0            -2.870512        -0.457266  \n",
       "953.0            -3.459993        -1.579037  \n",
       "954.0            -5.652500         2.589824  \n",
       "955.0            -4.628223        -3.053562  \n",
       "956.0            -2.836452         2.706073  \n",
       "957.0            -1.273972        -1.993965  \n",
       "958.0            -5.188450        -0.037052  \n",
       "977.0            -2.408126         6.346617  \n",
       "978.0            -4.073074         8.865516  \n",
       "959.0            -0.620924         9.656996  \n",
       "960.0            -0.182807         1.323743  \n",
       "979.0            -4.576379         3.551400  \n",
       "961.0            -3.205916        -2.903535  \n",
       "962.0            -5.772838         0.832066  \n",
       "980.0            -3.431561         7.319159  \n",
       "963.0            -8.490968         1.963946  \n",
       "964.0             2.394440        -7.979701  \n",
       "981.0            -8.752700        -2.072888  \n",
       "965.0            -4.058317         8.570604  \n",
       "982.0             0.328532        -4.155598  \n",
       "966.0            -4.980823         3.001031  \n",
       "967.0            -5.103542         1.550804  \n",
       "968.0            -4.004915        -1.902974  \n",
       "969.0           -98.859628         8.350581  \n",
       "970.0            -6.504500         6.154824  \n",
       "971.0            -0.782762        -1.032409  \n",
       "NaN              13.746460       -24.890159  \n",
       "983.0            -4.770700         4.886717  \n",
       "NaN              10.947365       -19.582441  \n",
       "NaN              11.218832       -19.763905  \n",
       "NaN              15.626649       -21.269947  \n",
       "976.0             2.108337        -3.184462  \n",
       "984.0            -6.223328        13.157027  \n",
       "NaN              10.255466       -18.122311  \n",
       "NaN              10.290241       -19.054566  \n",
       "987.0            -7.222312        -9.095713  \n",
       "988.0            -9.422341        11.048431  \n",
       "989.0            -3.495101         6.792082  \n",
       "990.0            -8.077695        10.434024  \n",
       "NaN              13.618439       -17.965874  \n",
       "992.0            -4.356645         7.684147  \n",
       "NaN              11.962909       -22.680055  \n",
       "994.0            -2.272736         9.341667  \n",
       "1043.0          -11.455957         6.466634  \n",
       "NaN              10.559342       -12.096337  \n",
       "997.0             2.402064         2.521010  \n",
       "998.0            -8.312181        10.485012  \n",
       "999.0            -2.294227        13.866501  \n",
       "1000.0           -7.506595        14.780502  \n",
       "NaN               8.773139       -14.011242  \n",
       "1002.0          -20.174820        23.177902  \n",
       "1003.0          -11.287235        19.944956  \n",
       "NaN               0.089383        -5.551439  \n",
       "1495.0          -10.099923        12.947683  \n",
       "1496.0           -4.438036         1.177633  \n",
       "\n",
       "[60 rows x 37 columns]"
      ]
     },
     "execution_count": 8,
     "metadata": {},
     "output_type": "execute_result"
    }
   ],
   "source": [
    "# for each relevant stat, create a new column in the df_career_na_filled dataframe with the difference between the player's stat and the average for that stat for their draft position\n",
    "for stat in relevant_stats:\n",
    "    df_career_na_filled[stat + '_diff'] = df_career_na_filled[stat] - df_career_na_filled['Pk'].map(df_avg[stat])\n",
    "\n",
    "df_career_na_filled.head(60)"
   ]
  },
  {
   "cell_type": "markdown",
   "metadata": {},
   "source": [
    "**Calculate ranks for all players above a minimum amount of games played**\n",
    "\n",
    "This section calculates the ranking of the performance above/below the average player at that draft position for each stat. Some of the stats that are normalized per 48 minutes can be affected by players that only played very little but performed well in this limited time (e.g., a player only ever played two minutes at the end of a blowout but scored four points). To avoid such players being ranked very highly, a minimum amount of games can be set here and all players that do not meet this requirement are excluded from the ranking."
   ]
  },
  {
   "cell_type": "code",
   "execution_count": 9,
   "metadata": {},
   "outputs": [],
   "source": [
    "min_games = 82 # TODO: Replace with widget sometime\n",
    "\n",
    "# create a new column for each relevant stat with the rank of the player's stat for their draft position, only using player with min_games\n",
    "for stat in relevant_stats:\n",
    "    if stat == 'DEF_RATING': # lower DEF_RATING is better\n",
    "        df_career_na_filled[stat + '_rank'] = df_career_na_filled[df_career_na_filled['G'] >= min_games][stat + '_diff'].rank(ascending=True, method='min')\n",
    "    else:\n",
    "        df_career_na_filled[stat + '_rank'] = df_career_na_filled[df_career_na_filled['G'] >= min_games][stat + '_diff'].rank(ascending=False, method='min')"
   ]
  },
  {
   "cell_type": "markdown",
   "metadata": {},
   "source": [
    "**Show Performance of Selected Player**"
   ]
  },
  {
   "cell_type": "code",
   "execution_count": 10,
   "metadata": {},
   "outputs": [
    {
     "data": {
      "application/vnd.jupyter.widget-view+json": {
       "model_id": "8d59baa317c144ea803e68b8883bd0ca",
       "version_major": 2,
       "version_minor": 0
      },
      "text/plain": [
       "Combobox(value='', description='Player:', ensure_option=True, options=('Allen Iverson', 'Marcus Camby', 'Share…"
      ]
     },
     "metadata": {},
     "output_type": "display_data"
    },
    {
     "data": {
      "application/vnd.jupyter.widget-view+json": {
       "model_id": "c1220812cede462da3264a305b6f468a",
       "version_major": 2,
       "version_minor": 0
      },
      "text/plain": [
       "Output()"
      ]
     },
     "metadata": {},
     "output_type": "display_data"
    }
   ],
   "source": [
    "import ipywidgets as widgets\n",
    "from IPython.display import display, HTML\n",
    "from tabulate import tabulate\n",
    "\n",
    "# create a combobox widget with all 'Player' values\n",
    "player_widget = widgets.Combobox(\n",
    "    placeholder='Choose a Player',\n",
    "    options=df_career_na_filled['Player'].unique().tolist(),\n",
    "    description='Player:',\n",
    "    ensure_option=True,\n",
    "    disabled=False\n",
    ")\n",
    "\n",
    "# Define the output area to display additional information\n",
    "output_player_ranks = widgets.Output()\n",
    "\n",
    "# Function to update the output area based on the selected player\n",
    "def on_value_change_player_ranks(change):\n",
    "    output_player_ranks.clear_output()\n",
    "    selected_player = change['new']\n",
    "    with output_player_ranks:\n",
    "        player_data = df_career_na_filled[df_career_na_filled['Player'] == selected_player]\n",
    "        display(HTML(f\"<h3>Player: {player_data['Player'].values[0]}</h3>\"))\n",
    "        display(HTML(f\"<p>Year: {player_data['Season'].values[0]} Pick: {player_data['Pk'].values[0]} - Drafted by: {player_data['Tm'].values[0]}</p>\"))\n",
    "        display(HTML(f\"<p>Played {int(player_data['G'].values[0])} games in {int(player_data['Yrs'].values[0])} years</p>\"))\n",
    "        stats_table = [relevant_stats]\n",
    "        row = []\n",
    "        for stat in relevant_stats:\n",
    "            rank = int(player_data[f'{stat}_rank'].values[0])\n",
    "            actual_stat = round(player_data[stat].values[0], 1)\n",
    "            diff_stat = round(player_data[f'{stat}_diff'].values[0], 1)\n",
    "            if diff_stat > 0:\n",
    "                diff_stat = \"+\" + str(diff_stat)\n",
    "            row += f\"{rank}. - {actual_stat} ({diff_stat})\",\n",
    "        stats_table.append(row)\n",
    "        display(HTML(tabulate(stats_table, tablefmt=\"html\")))\n",
    "\n",
    "# Observe changes in the value of the combobox and call the function\n",
    "player_widget.observe(on_value_change_player_ranks, names='value')\n",
    "\n",
    "# Display the widgets\n",
    "display(player_widget)\n",
    "display(output_player_ranks)"
   ]
  },
  {
   "cell_type": "code",
   "execution_count": 11,
   "metadata": {},
   "outputs": [
    {
     "data": {
      "application/vnd.jupyter.widget-view+json": {
       "model_id": "1afee845b7f845fcb245637a610c2180",
       "version_major": 2,
       "version_minor": 0
      },
      "text/plain": [
       "Combobox(value='', description='Player:', ensure_option=True, options=('Allen Iverson', 'Marcus Camby', 'Share…"
      ]
     },
     "metadata": {},
     "output_type": "display_data"
    },
    {
     "data": {
      "application/vnd.jupyter.widget-view+json": {
       "model_id": "751cf782907c4856a437c0c36b63d119",
       "version_major": 2,
       "version_minor": 0
      },
      "text/plain": [
       "Dropdown(description='Select Stat:', options=('PTS', 'TRB', 'AST', 'WS', 'WS/48', 'BPM', 'VORP', 'PIE', 'OFF_R…"
      ]
     },
     "metadata": {},
     "output_type": "display_data"
    },
    {
     "data": {
      "application/vnd.jupyter.widget-view+json": {
       "model_id": "0097a020fd5e46218053684d7011d2cc",
       "version_major": 2,
       "version_minor": 0
      },
      "text/plain": [
       "Output()"
      ]
     },
     "metadata": {},
     "output_type": "display_data"
    }
   ],
   "source": [
    "import plotly.express as px\n",
    "from IPython.display import clear_output\n",
    "\n",
    "# Filter players based on the minimum games played\n",
    "filtered_df = df_career_na_filled[df_career_na_filled['G'] >= min_games]\n",
    "\n",
    "# create a combobox widget with all 'Player' values\n",
    "player_widget_diff_scatter = widgets.Combobox(\n",
    "    placeholder='Choose a Player',\n",
    "    options=df_career_na_filled['Player'].unique().tolist(),\n",
    "    description='Player:',\n",
    "    ensure_option=True,\n",
    "    disabled=False\n",
    ")\n",
    "\n",
    "# create a dropdown widget with all relevant stats\n",
    "stat_dropdown_diff_scatter = widgets.Dropdown(\n",
    "    options=relevant_stats,\n",
    "    description='Select Stat:',\n",
    "    disabled=False,\n",
    ")\n",
    "\n",
    "# Define the output area to display the scatter plot\n",
    "output_diff_scatter = widgets.Output()\n",
    "\n",
    "# Function to update the output area based on the selected stat\n",
    "def on_value_change_diff_scatter(change):\n",
    "    clear_output()\n",
    "    output_diff_scatter.clear_output()\n",
    "    selected_stat = stat_dropdown_diff_scatter.value\n",
    "    selected_player = player_widget_diff_scatter.value\n",
    "\n",
    "    display(player_widget_diff_scatter)\n",
    "    display(stat_dropdown_diff_scatter)\n",
    "    with output_diff_scatter:\n",
    "        fig = px.scatter(filtered_df, x='Pk', y=f'{selected_stat}_diff', hover_name='Player',\n",
    "                         hover_data={'Pk': True, f'{selected_stat}_diff': True, 'Player': False, selected_stat: True, f'{selected_stat}_rank': True})\n",
    "        if selected_player in filtered_df['Player'].values:\n",
    "            highlighted_player = filtered_df[filtered_df['Player'] == selected_player]\n",
    "            fig.add_trace(px.scatter(highlighted_player, x='Pk', y=f'{selected_stat}_diff', hover_name='Player',\n",
    "                                     hover_data={'Pk': True, f'{selected_stat}_diff': True, 'Player': False, selected_stat: True, f'{selected_stat}_rank': True},\n",
    "                                     color_discrete_sequence=['red']).data[0])\n",
    "        fig.update_traces(marker=dict(size=12), showlegend=False)\n",
    "        fig.update_layout(title=f'{selected_stat} Difference vs Draft Pick for Players with at least {min_games} Games Played',\n",
    "                          xaxis_title='Draft Pick', yaxis_title=f'{selected_stat} Difference')\n",
    "        fig.show()\n",
    "    \n",
    "# Observe changes in the value of the dropdown and call the function\n",
    "stat_dropdown_diff_scatter.observe(on_value_change_diff_scatter, names='value')\n",
    "player_widget_diff_scatter.observe(on_value_change_diff_scatter, names='value')\n",
    "\n",
    "# Display the dropdown and the output area\n",
    "display(player_widget_diff_scatter)\n",
    "display(stat_dropdown_diff_scatter)\n",
    "display(output_diff_scatter)"
   ]
  },
  {
   "cell_type": "code",
   "execution_count": 12,
   "metadata": {},
   "outputs": [
    {
     "data": {
      "application/vnd.jupyter.widget-view+json": {
       "model_id": "893fa02f7a5b4e579d04aa7a4cce9a67",
       "version_major": 2,
       "version_minor": 0
      },
      "text/plain": [
       "Combobox(value='Jaylen Brown', description='Player:', ensure_option=True, options=('Allen Iverson', 'Marcus Ca…"
      ]
     },
     "metadata": {},
     "output_type": "display_data"
    },
    {
     "data": {
      "application/vnd.jupyter.widget-view+json": {
       "model_id": "c09292a65693417a91238f24338115b2",
       "version_major": 2,
       "version_minor": 0
      },
      "text/plain": [
       "Dropdown(description='Select Stat:', index=2, options=('PTS', 'TRB', 'AST', 'WS', 'WS/48', 'BPM', 'VORP', 'PIE…"
      ]
     },
     "metadata": {},
     "output_type": "display_data"
    },
    {
     "data": {
      "application/vnd.plotly.v1+json": {
       "config": {
        "plotlyServerURL": "https://plot.ly"
       },
       "data": [
        {
         "customdata": [
          [
           "Allen Iverson",
           4246.259259259259,
           19
          ],
          [
           "Marcus Camby",
           -385.8148148148148,
           692
          ],
          [
           "Shareef Abdur-Rahim",
           -40.666666666666515,
           461
          ],
          [
           "Stephon Marbury",
           4516.555555555556,
           16
          ],
          [
           "Ray Allen",
           3383.5555555555557,
           41
          ],
          [
           "Antoine Walker",
           1611.5555555555557,
           107
          ],
          [
           "Lorenzen Wright",
           -597.1111111111111,
           816
          ],
          [
           "Kerry Kittles",
           -212.22222222222217,
           581
          ],
          [
           "Samaki Walker",
           -1212.0740740740741,
           938
          ],
          [
           "Erick Dampier",
           146.96296296296293,
           357
          ],
          [
           "Todd Fuller",
           -581.8518518518518,
           809
          ],
          [
           "Vitaly Potapenko",
           -689.4814814814815,
           858
          ],
          [
           "Kobe Bryant",
           5643.592592592593,
           9
          ],
          [
           "Peja Stojaković",
           460.925925925926,
           260
          ],
          [
           "Steve Nash",
           9529.037037037036,
           2
          ],
          [
           "Tony Delk",
           214.25925925925924,
           329
          ],
          [
           "Jermaine O'Neal",
           630.1851851851852,
           226
          ],
          [
           "John Wallace",
           -412.85185185185185,
           708
          ],
          [
           "Walter McCarty",
           21.370370370370324,
           428
          ],
          [
           "Zydrunas Ilgauskas",
           -40.18518518518522,
           460
          ],
          [
           "Roy Rogers",
           -553,
           791
          ],
          [
           "Derek Fisher",
           3296.185185185185,
           43
          ],
          [
           "Martin Müürsepp",
           -511,
           768
          ],
          [
           "Jerome Williams",
           -216.92592592592598,
           584
          ],
          [
           "Brian Evans",
           -640.5185185185185,
           838
          ],
          [
           "Travis Knight",
           -306.55555555555554,
           643
          ],
          [
           "Othella Harrington",
           83.03703703703701,
           383
          ],
          [
           "Mark Hendrickson",
           -222.2962962962963,
           585
          ],
          [
           "Moochie Norris",
           833.4814814814815,
           190
          ],
          [
           "Jeff McInnis",
           1980.888888888889,
           89
          ],
          [
           "Randy Livingston",
           54.37037037037038,
           399
          ],
          [
           "Malik Rose",
           241.962962962963,
           316
          ],
          [
           "Jamie Feick",
           2.8888888888888857,
           435
          ],
          [
           "Amal McCaskill",
           -65.22222222222223,
           477
          ],
          [
           "Mark Pope",
           -38.25925925925925,
           458
          ],
          [
           "Shandon Anderson",
           836,
           189
          ],
          [
           "Reggie Geary",
           -79.92592592592592,
           484
          ],
          [
           "Tim Duncan",
           2847.259259259259,
           53
          ],
          [
           "Keith Van Horn",
           -1322.8148148148148,
           956
          ],
          [
           "Chauncey Billups",
           3486.3333333333335,
           37
          ],
          [
           "Antonio Daniels",
           979.5555555555557,
           171
          ],
          [
           "Tony Battie",
           -455.44444444444446,
           735
          ],
          [
           "Ron Mercer",
           -637.4444444444443,
           836
          ],
          [
           "Tim Thomas",
           52.888888888888914,
           400
          ],
          [
           "Adonal Foyle",
           -1163.2222222222222,
           932
          ],
          [
           "Tracy McGrady",
           2696.925925925926,
           58
          ],
          [
           "Danny Fortson",
           -369.03703703703707,
           688
          ],
          [
           "Tariq Abdul-Wahad",
           -361.85185185185185,
           683
          ],
          [
           "Austin Croshere",
           -480.4814814814815,
           751
          ],
          [
           "Derek Anderson",
           1420.5925925925926,
           124
          ],
          [
           "Maurice Taylor",
           -324.074074074074,
           654
          ],
          [
           "Kelvin Cato",
           -561.9629629629629,
           797
          ],
          [
           "Brevin Knight",
           3671.259259259259,
           32
          ],
          [
           "Chris Anstey",
           -566.8518518518518,
           802
          ],
          [
           "Scot Pollard",
           -428.6296296296297,
           718
          ],
          [
           "Anthony Parker",
           617.3703703703704,
           229
          ],
          [
           "Bobby Jackson",
           932.4814814814815,
           178
          ],
          [
           "John Thomas",
           -501,
           762
          ],
          [
           "Charles Smith",
           -566.925925925926,
           803
          ],
          [
           "Jacque Vaughn",
           1201.4814814814815,
           146
          ],
          [
           "Marc Jackson",
           -5.7777777777777715,
           438
          ],
          [
           "Anthony Johnson",
           1887.4444444444443,
           92
          ],
          [
           "Stephen Jackson",
           2508.4444444444443,
           66
          ],
          [
           "Cedric Henderson",
           116.88888888888891,
           367
          ],
          [
           "Eric Washington",
           -135.40740740740742,
           524
          ],
          [
           "Alvin Williams",
           1740.888888888889,
           100
          ],
          [
           "Predrag Drobnjak",
           123.77777777777777,
           364
          ],
          [
           "Chris Crawford",
           85.92592592592592,
           381
          ],
          [
           "Mark Blount",
           314.8888888888889,
           294
          ],
          [
           "Michael Olowokandi",
           -1050.7407407407406,
           926
          ],
          [
           "Mike Bibby",
           3294.185185185185,
           44
          ],
          [
           "Raef LaFrentz",
           -1543.6666666666665,
           975
          ],
          [
           "Antawn Jamison",
           -193.44444444444434,
           568
          ],
          [
           "Vince Carter",
           3736.5555555555557,
           30
          ],
          [
           "Robert Traylor",
           -1246.4444444444443,
           943
          ],
          [
           "Jason Williams",
           3391.8888888888887,
           40
          ],
          [
           "Larry Hughes",
           782.7777777777778,
           200
          ],
          [
           "Dirk Nowitzki",
           2186.925925925926,
           79
          ],
          [
           "Paul Pierce",
           4037.962962962963,
           24
          ],
          [
           "Bonzi Wells",
           621.1481481481482,
           228
          ],
          [
           "Michael Doleac",
           -764.4814814814815,
           879
          ],
          [
           "Keon Clark",
           -340.4074074074074,
           672
          ],
          [
           "Michael Dickerson",
           -394.074074074074,
           699
          ],
          [
           "Matt Harpring",
           101.03703703703707,
           376
          ],
          [
           "Bryce Drew",
           -285.74074074074076,
           631
          ],
          [
           "Rasho Nesterović",
           97.18518518518522,
           379
          ],
          [
           "Pat Garrity",
           -205.62962962962968,
           575
          ],
          [
           "Roshown McLeod",
           -871.1851851851852,
           900
          ],
          [
           "Ricky Davis",
           1914.3703703703704,
           90
          ],
          [
           "Brian Skinner",
           -322,
           653
          ],
          [
           "Tyronn Lue",
           714.4814814814815,
           215
          ],
          [
           "Felipe López",
           -255.81481481481484,
           606
          ],
          [
           "Al Harrington",
           1088,
           152
          ],
          [
           "Vladimir Stepania",
           -623.5185185185185,
           827
          ],
          [
           "Corey Benjamin",
           -273.25,
           622
          ],
          [
           "Nazr Mohammed",
           -155.55555555555554,
           537
          ],
          [
           "Ansu Sesay",
           -297.962962962963,
           638
          ],
          [
           "Ruben Patterson",
           864.7037037037037,
           185
          ],
          [
           "Rashard Lewis",
           1516,
           115
          ],
          [
           "Jelani McCoy",
           -264.51851851851853,
           613
          ],
          [
           "Shammond Williams",
           343.9259259259259,
           287
          ],
          [
           "Bruno Šundov",
           -169.66666666666666,
           550
          ],
          [
           "Jerome James",
           -182.7037037037037,
           560
          ],
          [
           "Rafer Alston",
           2567.6666666666665,
           65
          ],
          [
           "Cuttino Mobley",
           1699.5555555555557,
           102
          ],
          [
           "Jahidi White",
           -62.55555555555556,
           474
          ],
          [
           "Sean Marks",
           -392.037037037037,
           697
          ],
          [
           "Derrick Dial",
           -38.25925925925925,
           458
          ],
          [
           "Greg Buckner",
           637.4074074074074,
           225
          ],
          [
           "Tremaine Fowlkes",
           -117,
           507
          ],
          [
           "Ryan Bowen",
           51.888888888888886,
           402
          ],
          [
           "Maceo Baston",
           21.77777777777778,
           426
          ],
          [
           "Elton Brand",
           806.2592592592594,
           194
          ],
          [
           "Steve Francis",
           1250.1851851851852,
           139
          ],
          [
           "Baron Davis",
           3875.3333333333335,
           28
          ],
          [
           "Lamar Odom",
           1599.5555555555557,
           109
          ],
          [
           "Jonathan Bender",
           -807.4444444444445,
           885
          ],
          [
           "Wally Szczerbiak",
           -26.444444444444343,
           450
          ],
          [
           "Richard Hamilton",
           1905.888888888889,
           91
          ],
          [
           "Andre Miller",
           7016.777777777777,
           6
          ],
          [
           "Shawn Marion",
           733.9259259259259,
           210
          ],
          [
           "Jason Terry",
           4744.962962962963,
           12
          ],
          [
           "Trajan Langdon",
           -475.85185185185185,
           746
          ],
          [
           "Corey Maggette",
           1033.5925925925926,
           162
          ],
          [
           "William Avery",
           -748.074074074074,
           875
          ],
          [
           "Metta World Peace",
           1821.2592592592591,
           95
          ],
          [
           "Cal Bowdler",
           -709.8148148148148,
           862
          ],
          [
           "James Posey",
           719.1481481481482,
           211
          ],
          [
           "Quincy Lewis",
           -552.6296296296297,
           790
          ],
          [
           "Dion Glover",
           -540.1851851851852,
           782
          ],
          [
           "Jeff Foster",
           191.37037037037038,
           334
          ],
          [
           "Kenny Thomas",
           365,
           282
          ],
          [
           "Devean George",
           -469.5185185185185,
           743
          ],
          [
           "Andrei Kirilenko",
           1661.1851851851852,
           106
          ],
          [
           "Vonteego Cummings",
           -156.92592592592598,
           539
          ],
          [
           "Jumaine Jones",
           -309.5185185185185,
           646
          ],
          [
           "Scott Padgett",
           -91.25,
           491
          ],
          [
           "Michael Ruffin",
           1,
           436
          ],
          [
           "Evan Eschmeyer",
           -345.0740740740741,
           674
          ],
          [
           "Calvin Booth",
           -36.66666666666666,
           456
          ],
          [
           "Wang Zhizhi",
           -261.7037037037037,
           609
          ],
          [
           "Obinna Ekezie",
           -502.1111111111111,
           764
          ],
          [
           "Laron Profit",
           -150.77777777777777,
           534
          ],
          [
           "Gordan Giriček",
           197.44444444444446,
           332
          ],
          [
           "Francisco Elson",
           -55.44444444444446,
           472
          ],
          [
           "Lee Nailon",
           172.44444444444446,
           343
          ],
          [
           "Todd MacCulloch",
           -122.40740740740742,
           515
          ],
          [
           "Rodney Buford",
           97.4074074074074,
           378
          ],
          [
           "Manu Ginóbili",
           3979.5185185185187,
           25
          ],
          [
           "Kenyon Martin",
           61.25925925925935,
           396
          ],
          [
           "Stromile Swift",
           -1947.8148148148148,
           992
          ],
          [
           "Darius Miles",
           -1309.6666666666665,
           953
          ],
          [
           "Marcus Fizer",
           -1602.4444444444443,
           976
          ],
          [
           "Mike Miller",
           1688.5555555555557,
           103
          ],
          [
           "DerMarr Johnson",
           -1254.4444444444443,
           945
          ],
          [
           "Chris Mihm",
           -996.1111111111111,
           922
          ],
          [
           "Jamal Crawford",
           3033.777777777778,
           47
          ],
          [
           "Joel Przybilla",
           -1208.0740740740741,
           936
          ],
          [
           "Keyon Dooling",
           930.9629629629629,
           179
          ],
          [
           "Jérôme Moïso",
           -589.8518518518518,
           812
          ],
          [
           "Etan Thomas",
           -958.4814814814815,
           911
          ],
          [
           "Courtney Alexander",
           -435.4074074074074,
           721
          ],
          [
           "Mateen Cleaves",
           -637.074074074074,
           835
          ],
          [
           "Jason Collier",
           -754.9629629629629,
           877
          ],
          [
           "Hedo Türkoğlu",
           2022.2592592592591,
           86
          ],
          [
           "Desmond Mason",
           310.1851851851852,
           295
          ],
          [
           "Quentin Richardson",
           444.14814814814815,
           264
          ],
          [
           "Jamaal Magloire",
           -262.6296296296297,
           610
          ],
          [
           "Speedy Claxton",
           445.8148148148148,
           262
          ],
          [
           "Morris Peterson",
           578.3703703703704,
           234
          ],
          [
           "Donnell Harvey",
           -449,
           730
          ],
          [
           "DeShawn Stevenson",
           342.4814814814815,
           288
          ],
          [
           "Dalibor Bagarić",
           -470.81481481481484,
           744
          ],
          [
           "Jake Tsakalidis",
           -460,
           737
          ],
          [
           "Primož Brezec",
           -538.5185185185185,
           780
          ],
          [
           "Mark Madsen",
           -349.55555555555554,
           676
          ],
          [
           "Marko Jarić",
           1240.037037037037,
           141
          ],
          [
           "Dan Langhi",
           -246.2962962962963,
           601
          ],
          [
           "Jake Voskuhl",
           -162.51851851851853,
           547
          ],
          [
           "Eddie House",
           578.8888888888889,
           233
          ],
          [
           "Eduardo Nájera",
           176.22222222222223,
           340
          ],
          [
           "Hanno Möttölä",
           -311.55555555555554,
           648
          ],
          [
           "Olumide Oyedeji",
           -349.6296296296296,
           677
          ],
          [
           "Michael Redd",
           1212.4444444444443,
           145
          ],
          [
           "Brian Cardinal",
           22.96296296296299,
           425
          ],
          [
           "Jabari Smith",
           -236.1111111111111,
           597
          ],
          [
           "Jason Hart",
           672.7777777777778,
           220
          ],
          [
           "Kwame Brown",
           -823.7407407407406,
           891
          ],
          [
           "Tyson Chandler",
           -1255.8148148148148,
           946
          ],
          [
           "Pau Gasol",
           1775.3333333333335,
           97
          ],
          [
           "Eddy Curry",
           -1667.4444444444443,
           981
          ],
          [
           "Jason Richardson",
           1306.5555555555557,
           134
          ],
          [
           "Shane Battier",
           158.55555555555566,
           351
          ],
          [
           "Eddie Griffin",
           -983.1111111111111,
           917
          ],
          [
           "DeSagana Diop",
           -1237.2222222222222,
           941
          ],
          [
           "Rodney White",
           -1227.0740740740741,
           939
          ],
          [
           "Joe Johnson",
           4330.962962962963,
           18
          ],
          [
           "Kedrick Brown",
           -524.8518518518518,
           776
          ],
          [
           "Vladimir Radmanović",
           -109.48148148148152,
           502
          ],
          [
           "Richard Jefferson",
           1749.5925925925926,
           99
          ],
          [
           "Troy Murphy",
           140.92592592592598,
           362
          ],
          [
           "Steven Hunter",
           -726.9629629629629,
           868
          ],
          [
           "Michael Bradley",
           -645.8148148148148,
           843
          ],
          [
           "Jason Collins",
           -67.85185185185185,
           478
          ],
          [
           "Zach Randolph",
           1400.3703703703704,
           125
          ],
          [
           "Brendan Haywood",
           -553.1851851851852,
           792
          ],
          [
           "Jeryl Sasser",
           -543,
           786
          ],
          [
           "Brandon Armstrong",
           -988.5185185185185,
           919
          ],
          [
           "Raül López",
           -79.81481481481484,
           483
          ],
          [
           "Gerald Wallace",
           1164,
           149
          ],
          [
           "Samuel Dalembert",
           -225.92592592592598,
           588
          ],
          [
           "Jamaal Tinsley",
           2612.4814814814818,
           63
          ],
          [
           "Tony Parker",
           6619.75,
           7
          ],
          [
           "Trenton Hassell",
           772.037037037037,
           204
          ],
          [
           "Gilbert Arenas",
           2623.7037037037035,
           60
          ],
          [
           "Will Solomon",
           -174.51851851851853,
           552
          ],
          [
           "Terence Morris",
           -328.0740740740741,
           663
          ],
          [
           "Brian Scalabrine",
           248.33333333333334,
           313
          ],
          [
           "Mehmet Okur",
           772.2222222222222,
           203
          ],
          [
           "Earl Watson",
           3484.4444444444443,
           38
          ],
          [
           "Bobby Simmons",
           349.3703703703704,
           285
          ],
          [
           "Loren Woods",
           -248.66666666666669,
           603
          ],
          [
           "Jarron Collins",
           337.4074074074074,
           290
          ],
          [
           "Yao Ming",
           -608.7407407407406,
           821
          ],
          [
           "Mike Dunleavy",
           35.333333333333485,
           417
          ],
          [
           "Drew Gooden",
           -1058.4444444444443,
           929
          ],
          [
           "Nikoloz Tskitishvili",
           -863.4444444444445,
           899
          ],
          [
           "Dajuan Wagner",
           -1363.4444444444443,
           961
          ],
          [
           "Nenê",
           499.8888888888889,
           252
          ],
          [
           "Chris Wilcox",
           -1052.2222222222222,
           927
          ],
          [
           "Amar'e Stoudemire",
           -414.07407407407413,
           711
          ],
          [
           "Caron Butler",
           1336.962962962963,
           131
          ],
          [
           "Jared Jeffries",
           170.14814814814815,
           346
          ],
          [
           "Melvin Ely",
           -846.4814814814815,
           894
          ],
          [
           "Marcus Haislip",
           -646.4074074074074,
           844
          ],
          [
           "Fred Jones",
           42.92592592592598,
           412
          ],
          [
           "Boštjan Nachbar",
           -522.9629629629629,
           775
          ],
          [
           "Jiří Welsch",
           -434.74074074074076,
           720
          ],
          [
           "Juan Dixon",
           36.18518518518522,
           416
          ],
          [
           "Curtis Borchardt",
           -629.8518518518518,
           829
          ],
          [
           "Ryan Humphrey",
           -630.6296296296297,
           830
          ],
          [
           "Kareem Rush",
           -642.1851851851852,
           840
          ],
          [
           "Qyntel Woods",
           -406.6296296296296,
           705
          ],
          [
           "Casey Jacobsen",
           -306,
           642
          ],
          [
           "Tayshaun Prince",
           1393.4814814814815,
           126
          ],
          [
           "Nenad Krstić",
           -161.81481481481484,
           546
          ],
          [
           "Frank Williams",
           -395,
           700
          ],
          [
           "John Salmons",
           1492.074074074074,
           117
          ],
          [
           "Dan Dickau",
           335.75,
           291
          ],
          [
           "Roger Mason",
           391.7037037037037,
           276
          ],
          [
           "Dan Gadzuric",
           -225.07407407407408,
           586
          ],
          [
           "Carlos Boozer",
           1740.3333333333333,
           101
          ],
          [
           "David Andersen",
           -476.1111111111111,
           747
          ],
          [
           "Juan Carlos Navarro",
           -209.55555555555554,
           577
          ],
          [
           "Ronald Murray",
           735.3703703703704,
           208
          ],
          [
           "Lonny Baxter",
           -402.037037037037,
           704
          ],
          [
           "Matt Barnes",
           1368.3333333333333,
           128
          ],
          [
           "Darius Songaila",
           438.66666666666663,
           267
          ],
          [
           "Rasual Butler",
           576.4074074074074,
           235
          ],
          [
           "Luis Scola",
           1004.0740740740741,
           167
          ],
          [
           "LeBron James",
           9042.25925925926,
           3
          ],
          [
           "Darko Miličić",
           -1817.8148148148148,
           988
          ],
          [
           "Carmelo Anthony",
           1272.3333333333335,
           137
          ],
          [
           "Chris Bosh",
           -159.44444444444434,
           543
          ],
          [
           "Dwyane Wade",
           4723.555555555556,
           13
          ],
          [
           "Chris Kaman",
           -637.4444444444443,
           836
          ],
          [
           "Kirk Hinrich",
           3025.8888888888887,
           49
          ],
          [
           "T.J. Ford",
           987.7777777777778,
           170
          ],
          [
           "Mike Sweetney",
           -1319.0740740740741,
           955
          ],
          [
           "Jarvis Hayes",
           -211.03703703703707,
           578
          ],
          [
           "Mickaël Piétrus",
           -182.85185185185185,
           561
          ],
          [
           "Nick Collison",
           -168.48148148148152,
           549
          ],
          [
           "Marcus Banks",
           65.59259259259261,
           395
          ],
          [
           "Luke Ridnour",
           2765.925925925926,
           56
          ],
          [
           "Žarko Čabarkapa",
           -653.8148148148148,
           849
          ],
          [
           "David West",
           1579.1481481481483,
           110
          ],
          [
           "Sasha Pavlović",
           -131.62962962962968,
           522
          ],
          [
           "Dahntay Jones",
           -466.1851851851852,
           739
          ],
          [
           "Boris Diaw",
           3172.3703703703704,
           45
          ],
          [
           "Zoran Planinić",
           -445,
           725
          ],
          [
           "Travis Outlaw",
           -498.5185185185185,
           761
          ],
          [
           "Brian Cook",
           -255.81481481481484,
           606
          ],
          [
           "Carlos Delfino",
           326,
           292
          ],
          [
           "Kendrick Perkins",
           95.48148148148152,
           380
          ],
          [
           "Leandro Barbosa",
           1358.75,
           129
          ],
          [
           "Josh Howard",
           286.44444444444446,
           299
          ],
          [
           "Jason Kapono",
           131.7037037037037,
           363
          ],
          [
           "Luke Walton",
           1068,
           157
          ],
          [
           "Steve Blake",
           3129.222222222222,
           46
          ],
          [
           "Willie Green",
           702.5555555555555,
           216
          ],
          [
           "Zaza Pachulia",
           1072.3703703703704,
           155
          ],
          [
           "Keith Bogans",
           740.4444444444445,
           207
          ],
          [
           "Matt Bonner",
           249.8888888888889,
           312
          ],
          [
           "Mo Williams",
           3746.5925925925926,
           29
          ],
          [
           "James Jones",
           264.77777777777777,
           309
          ],
          [
           "Kyle Korver",
           2045.9259259259259,
           84
          ],
          [
           "Dwight Howard",
           298.25925925925935,
           296
          ],
          [
           "Emeka Okafor",
           -1702.8148148148148,
           982
          ],
          [
           "Ben Gordon",
           -281.6666666666665,
           627
          ],
          [
           "Shaun Livingston",
           528.5555555555557,
           246
          ],
          [
           "Devin Harris",
           2891.5555555555557,
           50
          ],
          [
           "Josh Childress",
           -949.4444444444443,
           910
          ],
          [
           "Luol Deng",
           822.8888888888889,
           191
          ],
          [
           "Rafael Araújo",
           -1466.2222222222222,
           973
          ],
          [
           "Andre Iguodala",
           3682.925925925926,
           31
          ],
          [
           "Andris Biedriņš",
           -160.85185185185185,
           544
          ],
          [
           "Robert Swift",
           -1087.4814814814815,
           930
          ],
          [
           "Sebastian Telfair",
           1297.5925925925926,
           136
          ],
          [
           "Kris Humphries",
           -391.074074074074,
           696
          ],
          [
           "Al Jefferson",
           541.0370370370371,
           242
          ],
          [
           "Kirk Snyder",
           -568.7407407407408,
           804
          ],
          [
           "Josh Smith",
           2050.185185185185,
           83
          ],
          [
           "J.R. Smith",
           1383.1481481481483,
           127
          ],
          [
           "Dorell Wright",
           201.37037037037032,
           331
          ],
          [
           "Jameer Nelson",
           3512.814814814815,
           35
          ],
          [
           "Viktor Khryapa",
           -468,
           741
          ],
          [
           "Delonte West",
           1032.1851851851852,
           163
          ],
          [
           "Tony Allen",
           516,
           249
          ],
          [
           "Kevin Martin",
           661.074074074074,
           223
          ],
          [
           "Sasha Vujačić",
           30.481481481481524,
           423
          ],
          [
           "Beno Udrih",
           2441.75,
           71
          ],
          [
           "David Harrison",
           -483.55555555555554,
           755
          ],
          [
           "Anderson Varejão",
           377.037037037037,
           278
          ],
          [
           "Jackson Vroman",
           -234.2962962962963,
           595
          ],
          [
           "Royal Ivey",
           -32.111111111111086,
           453
          ],
          [
           "Chris Duhon",
           2373.222222222222,
           72
          ],
          [
           "Justin Reed",
           -318.55555555555554,
           650
          ],
          [
           "Trevor Ariza",
           2253.4444444444443,
           77
          ],
          [
           "Bernard Robinson",
           -176.1111111111111,
           554
          ],
          [
           "Andrew Bogut",
           168.25925925925935,
           347
          ],
          [
           "Marvin Williams",
           -849.8148148148148,
           895
          ],
          [
           "Deron Williams",
           4669.333333333334,
           14
          ],
          [
           "Chris Paul",
           9546.555555555555,
           1
          ],
          [
           "Raymond Felton",
           4118.555555555556,
           21
          ],
          [
           "Martell Webster",
           -970.4444444444443,
           916
          ],
          [
           "Charlie Villanueva",
           -670.1111111111111,
           854
          ],
          [
           "Channing Frye",
           -643.2222222222222,
           841
          ],
          [
           "Ike Diogu",
           -1395.0740740740741,
           966
          ],
          [
           "Andrew Bynum",
           -180.03703703703707,
           557
          ],
          [
           "Sean May",
           -547.4074074074074,
           787
          ],
          [
           "Rashad McCants",
           -616.074074074074,
           825
          ],
          [
           "Antoine Wright",
           -510.96296296296293,
           767
          ],
          [
           "Joey Graham",
           -602.7407407407408,
           819
          ],
          [
           "Danny Granger",
           358.1851851851852,
           284
          ],
          [
           "Gerald Green",
           -97.85185185185185,
           492
          ],
          [
           "Hakim Warrick",
           -248.62962962962968,
           602
          ],
          [
           "Nate Robinson",
           1314.3703703703704,
           133
          ],
          [
           "Jarrett Jack",
           3342,
           42
          ],
          [
           "Francisco García",
           -265.5185185185185,
           614
          ],
          [
           "Luther Head",
           239.18518518518516,
           320
          ],
          [
           "Johan Petro",
           -334,
           665
          ],
          [
           "Jason Maxiell",
           -424.925925925926,
           714
          ],
          [
           "Linas Kleiza",
           -396.5185185185185,
           701
          ],
          [
           "Ian Mahinmi",
           -59.25,
           473
          ],
          [
           "David Lee",
           1465.037037037037,
           120
          ],
          [
           "Salim Stoudamire",
           -121.2962962962963,
           514
          ],
          [
           "Daniel Ewing",
           -75,
           480
          ],
          [
           "Brandon Bass",
           208.48148148148147,
           330
          ],
          [
           "C.J. Miles",
           492.9259259259259,
           253
          ],
          [
           "Ersan İlyasova",
           607.2962962962963,
           230
          ],
          [
           "Ronny Turiaf",
           84.88888888888891,
           382
          ],
          [
           "Travis Diener",
           115.22222222222223,
           370
          ],
          [
           "Von Wafer",
           -488.33333333333337,
           758
          ],
          [
           "Monta Ellis",
           3469.4444444444443,
           39
          ],
          [
           "Roko Ukić",
           -150.44444444444446,
           533
          ],
          [
           "Lou Williams",
           3486.8888888888887,
           36
          ],
          [
           "Mickaël Gelabale",
           -21.111111111111114,
           446
          ],
          [
           "Andray Blatche",
           696.7777777777778,
           218
          ],
          [
           "Ryan Gomes",
           561.6666666666666,
           237
          ],
          [
           "Orien Greene",
           73.4074074074074,
           388
          ],
          [
           "Lawrence Roberts",
           -163.11111111111111,
           548
          ],
          [
           "Amir Johnson",
           883.0740740740741,
           184
          ],
          [
           "Marcin Gortat",
           893.5185185185185,
           181
          ],
          [
           "Andrea Bargnani",
           -724.7407407407406,
           865
          ],
          [
           "LaMarcus Aldridge",
           -146.81481481481478,
           528
          ],
          [
           "Adam Morrison",
           -1927.6666666666665,
           990
          ],
          [
           "Tyrus Thomas",
           -1607.4444444444443,
           977
          ],
          [
           "Shelden Williams",
           -814.4444444444445,
           888
          ],
          [
           "Brandon Roy",
           -41.44444444444434,
           463
          ],
          [
           "Randy Foye",
           892.8888888888889,
           182
          ],
          [
           "Rudy Gay",
           772.7777777777778,
           202
          ],
          [
           "Patrick O'Bryant",
           -1439.0740740740741,
           971
          ],
          [
           "J.J. Redick",
           1234.1481481481483,
           143
          ],
          [
           "Hilton Armstrong",
           -1005.4814814814815,
           923
          ],
          [
           "Thabo Sefolosha",
           533.5925925925926,
           244
          ],
          [
           "Ronnie Brewer",
           -119.07407407407402,
           510
          ],
          [
           "Rodney Carney",
           -677.7407407407408,
           856
          ],
          [
           "Shawne Williams",
           -518.8148148148148,
           772
          ],
          [
           "Oleksiy Pecherov",
           -673.8518518518518,
           855
          ],
          [
           "Quincy Douby",
           -555.6296296296297,
           794
          ],
          [
           "Renaldo Balkman",
           -863.1851851851852,
           898
          ],
          [
           "Rajon Rondo",
           7072.37037037037,
           5
          ],
          [
           "Marcus Williams",
           -36,
           455
          ],
          [
           "Josh Boone",
           -887.5185185185185,
           904
          ],
          [
           "Kyle Lowry",
           6242.185185185185,
           8
          ],
          [
           "Shannon Brown",
           -103,
           497
          ],
          [
           "Jordan Farmar",
           762.074074074074,
           205
          ],
          [
           "Sergio Rodríguez",
           465.4814814814815,
           259
          ],
          [
           "Maurice Ager",
           -397.25,
           703
          ],
          [
           "Mardy Collins",
           -203.55555555555554,
           574
          ],
          [
           "Joel Freeland",
           -294.962962962963,
           635
          ],
          [
           "Steve Novak",
           -117,
           507
          ],
          [
           "Solomon Jones",
           -300.51851851851853,
           641
          ],
          [
           "Paul Davis",
           -389.0740740740741,
           695
          ],
          [
           "P.J. Tucker",
           1021.3333333333334,
           164
          ],
          [
           "Craig Smith",
           21.296296296296305,
           429
          ],
          [
           "Bobby Jones",
           -489.1111111111111,
           759
          ],
          [
           "Daniel Gibson",
           414.3703703703704,
           272
          ],
          [
           "Alexander Johnson",
           -272.1111111111111,
           621
          ],
          [
           "Paul Millsap",
           2134.5925925925926,
           80
          ],
          [
           "Leon Powe",
           -23.22222222222223,
           447
          ],
          [
           "Ryan Hollins",
           0.6666666666666572,
           437
          ],
          [
           "Greg Oden",
           -1326.7407407407406,
           957
          ],
          [
           "Kevin Durant",
           2044.1851851851852,
           85
          ],
          [
           "Al Horford",
           1183.3333333333335,
           147
          ],
          [
           "Mike Conley",
           3902.5555555555557,
           27
          ],
          [
           "Jeff Green",
           716.5555555555555,
           212
          ],
          [
           "Yi Jianlian",
           -1366.4444444444443,
           962
          ],
          [
           "Corey Brewer",
           30.888888888888914,
           422
          ],
          [
           "Brandan Wright",
           -1308.2222222222222,
           951
          ],
          [
           "Joakim Noah",
           442.92592592592587,
           266
          ],
          [
           "Spencer Hawes",
           600.9629629629629,
           231
          ],
          [
           "Acie Law",
           -318.85185185185185,
           651
          ],
          [
           "Thaddeus Young",
           970.5185185185185,
           173
          ],
          [
           "Julian Wright",
           -480.4074074074074,
           750
          ],
          [
           "Al Thornton",
           -594.074074074074,
           815
          ],
          [
           "Rodney Stuckey",
           1527.037037037037,
           112
          ],
          [
           "Nick Young",
           -122.74074074074076,
           516
          ],
          [
           "Sean Williams",
           -691.8148148148148,
           859
          ],
          [
           "Marco Belinelli",
           735.1481481481482,
           209
          ],
          [
           "Javaris Crittenton",
           -447.6296296296297,
           729
          ],
          [
           "Jason Smith",
           -542.1851851851852,
           784
          ],
          [
           "Daequan Cook",
           -268.6296296296296,
           619
          ],
          [
           "Jared Dudley",
           784,
           198
          ],
          [
           "Wilson Chandler",
           192.48148148148152,
           333
          ],
          [
           "Rudy Fernández",
           46.18518518518516,
           406
          ],
          [
           "Aaron Brooks",
           1234.074074074074,
           144
          ],
          [
           "Arron Afflalo",
           668.4814814814815,
           222
          ],
          [
           "Tiago Splitter",
           6.75,
           434
          ],
          [
           "Carl Landry",
           69.7037037037037,
           391
          ],
          [
           "Glen Davis",
           269.33333333333337,
           305
          ],
          [
           "Josh McRoberts",
           367.8888888888889,
           281
          ],
          [
           "Kyrylo Fesenko",
           -276.77777777777777,
           625
          ],
          [
           "Dominic McGuire",
           178.59259259259258,
           337
          ],
          [
           "Marc Gasol",
           2859.8888888888887,
           51
          ],
          [
           "Aaron Gray",
           105.77777777777777,
           374
          ],
          [
           "Ramon Sessions",
           2617.074074074074,
           62
          ],
          [
           "Derrick Rose",
           2314.259259259259,
           73
          ],
          [
           "Michael Beasley",
           -1434.8148148148148,
           970
          ],
          [
           "O.J. Mayo",
           -542.6666666666665,
           785
          ],
          [
           "Russell Westbrook",
           7207.555555555556,
           4
          ],
          [
           "Kevin Love",
           1058.5555555555557,
           158
          ],
          [
           "Danilo Gallinari",
           -144.44444444444434,
           527
          ],
          [
           "Eric Gordon",
           1084.888888888889,
           153
          ],
          [
           "D.J. Augustin",
           2296.925925925926,
           75
          ],
          [
           "Brook Lopez",
           674.9629629629629,
           219
          ],
          [
           "Jerryd Bayless",
           1046.1481481481483,
           160
          ],
          [
           "Jason Thompson",
           -472.4814814814815,
           745
          ],
          [
           "Brandon Rush",
           -194.4074074074074,
           569
          ],
          [
           "Anthony Randolph",
           -760.074074074074,
           878
          ],
          [
           "Robin Lopez",
           9.037037037037067,
           432
          ],
          [
           "Marreese Speights",
           -348.74074074074076,
           675
          ],
          [
           "Roy Hibbert",
           146.18518518518522,
           358
          ],
          [
           "JaVale McGee",
           -324.85185185185185,
           657
          ],
          [
           "J.J. Hickson",
           -199.62962962962968,
           570
          ],
          [
           "Alexis Ajinça",
           -852.1851851851852,
           897
          ],
          [
           "Ryan Anderson",
           74.37037037037038,
           387
          ],
          [
           "Courtney Lee",
           743,
           206
          ],
          [
           "Kosta Koufos",
           -653.5185185185185,
           848
          ],
          [
           "Serge Ibaka",
           241.18518518518516,
           318
          ],
          [
           "Nicolas Batum",
           2775,
           55
          ],
          [
           "George Hill",
           2116.074074074074,
           82
          ],
          [
           "Darrell Arthur",
           -308.5185185185185,
           645
          ],
          [
           "Donté Greene",
           -233.25,
           593
          ],
          [
           "D.J. White",
           -450.55555555555554,
           731
          ],
          [
           "Nikola Peković",
           -86.2962962962963,
           487
          ],
          [
           "Joey Dorsey",
           -344.51851851851853,
           673
          ],
          [
           "Mario Chalmers",
           1990.9259259259259,
           87
          ],
          [
           "DeAndre Jordan",
           778.3333333333334,
           201
          ],
          [
           "Ömer Aşık",
           -20.703703703703695,
           445
          ],
          [
           "Luc Mbah a Moute",
           54.888888888888914,
           398
          ],
          [
           "Sonny Weems",
           -377.33333333333337,
           691
          ],
          [
           "Chris Douglas-Roberts",
           -132.55555555555554,
           523
          ],
          [
           "Goran Dragić",
           4102.888888888889,
           22
          ],
          [
           "Henry Walker",
           -90.40740740740742,
           489
          ],
          [
           "Darnell Jackson",
           -75.25925925925925,
           481
          ],
          [
           "Blake Griffin",
           1677.2592592592594,
           104
          ],
          [
           "Hasheem Thabeet",
           -2195.814814814815,
           995
          ],
          [
           "James Harden",
           4865.333333333334,
           11
          ],
          [
           "Tyreke Evans",
           897.5555555555557,
           180
          ],
          [
           "Ricky Rubio",
           4182.555555555556,
           20
          ],
          [
           "Jonny Flynn",
           -924.4444444444443,
           907
          ],
          [
           "Stephen Curry",
           4520.888888888889,
           15
          ],
          [
           "Jordan Hill",
           -1185.2222222222222,
           933
          ],
          [
           "DeMar DeRozan",
           2641.925925925926,
           59
          ],
          [
           "Brandon Jennings",
           2480.962962962963,
           67
          ],
          [
           "Terrence Williams",
           -263.85185185185185,
           611
          ],
          [
           "Gerald Henderson",
           -98.48148148148152,
           493
          ],
          [
           "Tyler Hansbrough",
           -481.4074074074074,
           753
          ],
          [
           "Earl Clark",
           -813.074074074074,
           886
          ],
          [
           "Austin Daye",
           -593.9629629629629,
           814
          ],
          [
           "James Johnson",
           788.2592592592592,
           196
          ],
          [
           "Jrue Holiday",
           5129.185185185185,
           10
          ],
          [
           "Ty Lawson",
           2622.1481481481483,
           61
          ],
          [
           "Jeff Teague",
           3936.3703703703704,
           26
          ],
          [
           "Eric Maynor",
           -235.18518518518522,
           596
          ],
          [
           "Darren Collison",
           3033.3703703703704,
           48
          ],
          [
           "Omri Casspi",
           -350.5185185185185,
           678
          ],
          [
           "Byron Mullens",
           -354.81481481481484,
           680
          ],
          [
           "Rodrigue Beaubois",
           -187,
           564
          ],
          [
           "Taj Gibson",
           223.07407407407402,
           324
          ],
          [
           "DeMarre Carroll",
           8.481481481481524,
           433
          ],
          [
           "Wayne Ellington",
           435.75,
           268
          ],
          [
           "Toney Douglas",
           358.44444444444446,
           283
          ],
          [
           "Jeff Ayres",
           -186.2962962962963,
           563
          ],
          [
           "Dante Cunningham",
           106.48148148148147,
           372
          ],
          [
           "DaJuan Summers",
           -158.66666666666666,
           542
          ],
          [
           "Sam Young",
           -120.7037037037037,
           512
          ],
          [
           "DeJuan Blair",
           -184.1111111111111,
           562
          ],
          [
           "Jon Brockman",
           -267.77777777777777,
           617
          ],
          [
           "Jonas Jerebko",
           -109.33333333333337,
           501
          ],
          [
           "Derrick Brown",
           -267.55555555555554,
           616
          ],
          [
           "Jodie Meeks",
           267.55555555555554,
           308
          ],
          [
           "Patrick Beverley",
           1672.3703703703704,
           105
          ],
          [
           "Marcus Thornton",
           551.4444444444445,
           238
          ],
          [
           "Chase Budinger",
           30.96296296296299,
           421
          ],
          [
           "Nick Calathes",
           50.888888888888914,
           403
          ],
          [
           "Danny Green",
           953.3333333333333,
           175
          ],
          [
           "A.J. Price",
           465.74074074074076,
           258
          ],
          [
           "Nando De Colo",
           121.4074074074074,
           365
          ],
          [
           "Patty Mills",
           1751.888888888889,
           98
          ],
          [
           "John Wall",
           4357.259259259259,
           17
          ],
          [
           "Evan Turner",
           239.18518518518522,
           319
          ],
          [
           "Derrick Favors",
           -1298.6666666666665,
           949
          ],
          [
           "Wesley Johnson",
           -1309.4444444444443,
           952
          ],
          [
           "DeMarcus Cousins",
           1001.5555555555555,
           168
          ],
          [
           "Ekpe Udoh",
           -1298.4444444444443,
           948
          ],
          [
           "Greg Monroe",
           156.8888888888889,
           352
          ],
          [
           "Al-Farouq Aminu",
           -628.2222222222222,
           828
          ],
          [
           "Gordon Hayward",
           1317.9259259259259,
           132
          ],
          [
           "Paul George",
           2258.962962962963,
           76
          ],
          [
           "Cole Aldrich",
           -444.85185185185185,
           724
          ],
          [
           "Xavier Henry",
           -987.4814814814815,
           918
          ],
          [
           "Ed Davis",
           -123.40740740740739,
           517
          ],
          [
           "Patrick Patterson",
           -211.07407407407402,
           579
          ],
          [
           "Larry Sanders",
           -631.9629629629629,
           833
          ],
          [
           "Luke Babbitt",
           -585.7407407407408,
           810
          ],
          [
           "Kevin Séraphin",
           -492.8148148148148,
           760
          ],
          [
           "Eric Bledsoe",
           2851.1481481481483,
           52
          ],
          [
           "Avery Bradley",
           456.3703703703703,
           261
          ],
          [
           "James Anderson",
           -704.1851851851852,
           861
          ],
          [
           "Elliot Williams",
           -516,
           770
          ],
          [
           "Trevor Booker",
           -446.5185185185185,
           726
          ],
          [
           "Quincy Pondexter",
           -427.925925925926,
           716
          ],
          [
           "Jordan Crawford",
           165.48148148148152,
           348
          ],
          [
           "Greivis Vásquez",
           1518.75,
           114
          ],
          [
           "Hassan Whiteside",
           -72.51851851851853,
           479
          ],
          [
           "Nemanja Bjelica",
           638.3333333333334,
           224
          ],
          [
           "Landry Fields",
           -215.33333333333337,
           583
          ],
          [
           "Lance Stephenson",
           1234.4444444444443,
           142
          ],
          [
           "Jeremy Evans",
           -91.11111111111111,
           490
          ],
          [
           "Kyrie Irving",
           2456.259259259259,
           70
          ],
          [
           "Derrick Williams",
           -1929.8148148148148,
           991
          ],
          [
           "Enes Freedom",
           -1511.6666666666665,
           974
          ],
          [
           "Tristan Thompson",
           -1229.4444444444443,
           940
          ],
          [
           "Jonas Valančiūnas",
           -13.444444444444457,
           441
          ],
          [
           "Jan Veselý",
           -1462.4444444444443,
           972
          ],
          [
           "Bismack Biyombo",
           -721.1111111111111,
           864
          ],
          [
           "Brandon Knight",
           269.7777777777778,
           304
          ],
          [
           "Kemba Walker",
           2473.925925925926,
           68
          ],
          [
           "Jimmer Fredette",
           -339.03703703703707,
           671
          ],
          [
           "Klay Thompson",
           1039.1481481481483,
           161
          ],
          [
           "Alec Burks",
           270.5185185185185,
           303
          ],
          [
           "Markieff Morris",
           521.5925925925926,
           248
          ],
          [
           "Marcus Morris",
           251.92592592592598,
           311
          ],
          [
           "Kawhi Leonard",
           1070.037037037037,
           156
          ],
          [
           "Nikola Vučević",
           1492.2592592592591,
           116
          ],
          [
           "Iman Shumpert",
           106.18518518518522,
           373
          ],
          [
           "Chris Singleton",
           -601.8518518518518,
           818
          ],
          [
           "Tobias Harris",
           1265.3703703703704,
           138
          ],
          [
           "Donatas Motiejūnas",
           -726.1851851851852,
           867
          ],
          [
           "Nolan Smith",
           -414.6296296296296,
           712
          ],
          [
           "Kenneth Faried",
           -140,
           525
          ],
          [
           "Nikola Mirotić",
           -605.5185185185185,
           820
          ],
          [
           "Reggie Jackson",
           2745.185185185185,
           57
          ],
          [
           "MarShon Brooks",
           -279,
           626
          ],
          [
           "Jordan Hamilton",
           -563.925925925926,
           799
          ],
          [
           "Norris Cole",
           564.75,
           236
          ],
          [
           "Cory Joseph",
           1872.4444444444443,
           93
          ],
          [
           "Jimmy Butler",
           2816.037037037037,
           54
          ],
          [
           "Bojan Bogdanović",
           811.7037037037037,
           193
          ],
          [
           "Kyle Singler",
           -127.51851851851853,
           521
          ],
          [
           "Shelvin Mack",
           999.9259259259259,
           169
          ],
          [
           "Chandler Parsons",
           884.2222222222222,
           183
          ],
          [
           "Jeremy Tyler",
           -609.3333333333334,
           822
          ],
          [
           "Jon Leuer",
           -85.55555555555554,
           485
          ],
          [
           "Darius Morris",
           -126.44444444444446,
           519
          ],
          [
           "Dāvis Bertāns",
           52.37037037037038,
           401
          ],
          [
           "Charles Jenkins",
           -228.037037037037,
           589
          ],
          [
           "Lavoy Allen",
           233.66666666666666,
           322
          ],
          [
           "DeAndre Liggins",
           40.407407407407405,
           415
          ],
          [
           "E'Twaun Moore",
           856.8888888888889,
           186
          ],
          [
           "Isaiah Thomas",
           null,
           null
          ],
          [
           "Anthony Davis",
           184.25925925925935,
           336
          ],
          [
           "Michael Kidd-Gilchrist",
           -1707.8148148148148,
           983
          ],
          [
           "Bradley Beal",
           822.3333333333335,
           192
          ],
          [
           "Dion Waiters",
           -791.4444444444443,
           881
          ],
          [
           "Thomas Robinson",
           -787.4444444444445,
           880
          ],
          [
           "Damian Lillard",
           3592.5555555555557,
           34
          ],
          [
           "Harrison Barnes",
           284.8888888888889,
           300
          ],
          [
           "Terrence Ross",
           -571.2222222222222,
           807
          ],
          [
           "Andre Drummond",
           -428.07407407407413,
           717
          ],
          [
           "Austin Rivers",
           842.9629629629629,
           187
          ],
          [
           "Meyers Leonard",
           -231.85185185185185,
           592
          ],
          [
           "Jeremy Lamb",
           -203.48148148148152,
           573
          ],
          [
           "Kendall Marshall",
           116.59259259259261,
           368
          ],
          [
           "John Henson",
           -451.074074074074,
           732
          ],
          [
           "Maurice Harkless",
           -233.96296296296293,
           594
          ],
          [
           "Tyler Zeller",
           -371.8148148148148,
           689
          ],
          [
           "Terrence Jones",
           -455.85185185185185,
           736
          ],
          [
           "Andrew Nicholson",
           -522.6296296296297,
           774
          ],
          [
           "Evan Fournier",
           715.8148148148148,
           214
          ],
          [
           "Jared Sullinger",
           -34.62962962962962,
           454
          ],
          [
           "John Jenkins",
           -874.5185185185185,
           902
          ],
          [
           "Jared Cunningham",
           -468.81481481481484,
           742
          ],
          [
           "Tony Wroten",
           -124,
           518
          ],
          [
           "Miles Plumlee",
           -512.925925925926,
           769
          ],
          [
           "Perry Jones",
           -362.25,
           684
          ],
          [
           "Marquis Teague",
           -396.55555555555554,
           702
          ],
          [
           "Festus Ezeli",
           -296.962962962963,
           637
          ],
          [
           "Jeff Taylor",
           -178.2962962962963,
           556
          ],
          [
           "Tomáš Satoranský",
           1337,
           130
          ],
          [
           "Bernard James",
           -386.51851851851853,
           693
          ],
          [
           "Jae Crowder",
           787.9259259259259,
           197
          ],
          [
           "Draymond Green",
           4045.3333333333335,
           23
          ],
          [
           "Orlando Johnson",
           -231.7037037037037,
           590
          ],
          [
           "Quincy Acy",
           -316.1111111111111,
           649
          ],
          [
           "Khris Middleton",
           1989.6666666666665,
           88
          ],
          [
           "Will Barton",
           1430.4444444444443,
           123
          ],
          [
           "Doron Lamb",
           -285.6296296296296,
           630
          ],
          [
           "Mike Scott",
           373.44444444444446,
           280
          ],
          [
           "Justin Hamilton",
           -211.1111111111111,
           580
          ],
          [
           "Darius Miller",
           44.333333333333314,
           409
          ],
          [
           "Kyle O'Quinn",
           541.7777777777778,
           241
          ],
          [
           "Robbie Hummel",
           45.77777777777778,
           407
          ],
          [
           "Robert Sacre",
           null,
           null
          ],
          [
           "Anthony Bennett",
           -1300.7407407407406,
           950
          ],
          [
           "Victor Oladipo",
           -252.81481481481478,
           604
          ],
          [
           "Otto Porter Jr.",
           -1374.6666666666665,
           963
          ],
          [
           "Cody Zeller",
           -1253.4444444444443,
           944
          ],
          [
           "Alex Len",
           -476.44444444444446,
           748
          ],
          [
           "Nerlens Noel",
           -1057.4444444444443,
           928
          ],
          [
           "Ben McLemore",
           -656.1111111111111,
           850
          ],
          [
           "Kentavious Caldwell-Pope",
           -174.22222222222217,
           551
          ],
          [
           "Trey Burke",
           57.92592592592587,
           397
          ],
          [
           "CJ McCollum",
           1802.962962962963,
           96
          ],
          [
           "Michael Carter-Williams",
           1080.1481481481483,
           154
          ],
          [
           "Steven Adams",
           -28.481481481481524,
           451
          ],
          [
           "Kelly Olynyk",
           837.5925925925926,
           188
          ],
          [
           "Shabazz Muhammad",
           -796.074074074074,
           883
          ],
          [
           "Giannis Antetokounmpo",
           2573.037037037037,
           64
          ],
          [
           "Lucas Nogueira",
           -737.7407407407408,
           870
          ],
          [
           "Dennis Schröder",
           2466.185185185185,
           69
          ],
          [
           "Shane Larkin",
           43.14814814814815,
           411
          ],
          [
           "Sergey Karasev",
           -561.6296296296297,
           796
          ],
          [
           "Tony Snell",
           -326.1851851851852,
           659
          ],
          [
           "Gorgui Dieng",
           325.3703703703704,
           293
          ],
          [
           "Mason Plumlee",
           1246,
           140
          ],
          [
           "Solomon Hill",
           -350.5185185185185,
           678
          ],
          [
           "Tim Hardaway Jr.",
           716.1851851851852,
           213
          ],
          [
           "Reggie Bullock",
           71,
           389
          ],
          [
           "Andre Roberson",
           -425.925925925926,
           715
          ],
          [
           "Rudy Gobert",
           176.48148148148152,
           338
          ],
          [
           "Archie Goodwin",
           -324.55555555555554,
           656
          ],
          [
           "Allen Crabbe",
           148.7037037037037,
           355
          ],
          [
           "Álex Abrines",
           -161,
           545
          ],
          [
           "Isaiah Canaan",
           32.925925925925924,
           418
          ],
          [
           "Ray McCallum",
           67.2962962962963,
           393
          ],
          [
           "Nate Wolters",
           -107.77777777777777,
           499
          ],
          [
           "Jeff Withey",
           -570.3333333333334,
           806
          ],
          [
           "Mike Muscala",
           -14.03703703703701,
           442
          ],
          [
           "Raul Neto",
           669.5925925925926,
           221
          ],
          [
           "Ryan Kelly",
           78.88888888888889,
           386
          ],
          [
           "James Ennis III",
           222.66666666666666,
           325
          ],
          [
           "Lorenzo Brown",
           81.74074074074075,
           384
          ],
          [
           "Joffrey Lauvergne",
           -18.111111111111114,
           443
          ],
          [
           "Andrew Wiggins",
           100.25925925925935,
           377
          ],
          [
           "Jabari Parker",
           -1612.8148148148148,
           978
          ],
          [
           "Joel Embiid",
           -795.6666666666665,
           882
          ],
          [
           "Aaron Gordon",
           -438.44444444444434,
           722
          ],
          [
           "Dante Exum",
           -462.44444444444446,
           738
          ],
          [
           "Marcus Smart",
           1141.5555555555557,
           151
          ],
          [
           "Julius Randle",
           938.8888888888889,
           176
          ],
          [
           "Nik Stauskas",
           -992.2222222222222,
           920
          ],
          [
           "Noah Vonleh",
           -1200.0740740740741,
           935
          ],
          [
           "Elfrid Payton",
           2197.962962962963,
           78
          ],
          [
           "Doug McDermott",
           -40.85185185185185,
           462
          ],
          [
           "Dario Šarić",
           -334.4814814814815,
           667
          ],
          [
           "Zach LaVine",
           1524.5925925925926,
           113
          ],
          [
           "T.J. Warren",
           -510.074074074074,
           766
          ],
          [
           "Adreian Payne",
           -739.9629629629629,
           871
          ],
          [
           "Jusuf Nurkić",
           242.25925925925924,
           315
          ],
          [
           "James Young",
           -710.8148148148148,
           863
          ],
          [
           "Tyler Ennis",
           -334.85185185185185,
           668
          ],
          [
           "Gary Harris",
           375.3703703703703,
           279
          ],
          [
           "Bruno Caboclo",
           -923.1851851851852,
           906
          ],
          [
           "Rodney Hood",
           -276.5185185185185,
           624
          ],
          [
           "Shabazz Napier",
           341.18518518518516,
           289
          ],
          [
           "Clint Capela",
           -38,
           457
          ],
          [
           "P.J. Hairston",
           -631.925925925926,
           832
          ],
          [
           "Bogdan Bogdanović",
           505.4814814814815,
           250
          ],
          [
           "Kyle Anderson",
           1142.037037037037,
           150
          ],
          [
           "K.J. McDaniels",
           -154,
           536
          ],
          [
           "Joe Harris",
           380.48148148148147,
           277
          ],
          [
           "Johnny O'Bryant",
           -231.7037037037037,
           590
          ],
          [
           "Spencer Dinwiddie",
           2131.222222222222,
           81
          ],
          [
           "Jerami Grant",
           262.66666666666663,
           310
          ],
          [
           "Glenn Robinson III",
           -148.55555555555554,
           530
          ],
          [
           "Nikola Jokić",
           3643.5555555555557,
           33
          ],
          [
           "Markel Brown",
           -310.037037037037,
           647
          ],
          [
           "Dwight Powell",
           290.8888888888889,
           298
          ],
          [
           "Jordan Clarkson",
           1473.3333333333333,
           119
          ],
          [
           "Thanasis Antetokounmpo",
           29.925925925925924,
           424
          ],
          [
           "Jordan McRae",
           162.77777777777777,
           350
          ],
          [
           "Karl-Anthony Towns",
           248.25925925925935,
           314
          ],
          [
           "D'Angelo Russell",
           584.1851851851852,
           232
          ],
          [
           "Jahlil Okafor",
           -1924.6666666666665,
           989
          ],
          [
           "Kristaps Porziņģis",
           -1243.4444444444443,
           942
          ],
          [
           "Mario Hezonja",
           -562.4444444444445,
           798
          ],
          [
           "Willie Cauley-Stein",
           -960.4444444444443,
           912
          ],
          [
           "Emmanuel Mudiay",
           -76.11111111111109,
           482
          ],
          [
           "Stanley Johnson",
           -828.2222222222222,
           892
          ],
          [
           "Frank Kaminsky",
           -813.0740740740741,
           887
          ],
          [
           "Justise Winslow",
           218.96296296296293,
           327
          ],
          [
           "Myles Turner",
           -25.851851851851848,
           449
          ],
          [
           "Trey Lyles",
           -564.4814814814815,
           800
          ],
          [
           "Devin Booker",
           1858.5925925925926,
           94
          ],
          [
           "Cameron Payne",
           171.92592592592598,
           344
          ],
          [
           "Kelly Oubre Jr.",
           -267.96296296296293,
           618
          ],
          [
           "Terry Rozier",
           1018.2592592592592,
           165
          ],
          [
           "Rashad Vaughn",
           -663.8148148148148,
           852
          ],
          [
           "Sam Dekker",
           -533.8518518518518,
           779
          ],
          [
           "Jerian Grant",
           156.37037037037032,
           353
          ],
          [
           "Delon Wright",
           444.8148148148148,
           263
          ],
          [
           "Justin Anderson",
           -327.6296296296296,
           661
          ],
          [
           "Bobby Portis",
           32,
           419
          ],
          [
           "Rondae Hollis-Jefferson",
           -433.5185185185185,
           719
          ],
          [
           "Tyus Jones",
           1600.1851851851852,
           108
          ],
          [
           "Jarell Martin",
           -447,
           728
          ],
          [
           "Larry Nance Jr.",
           148.48148148148152,
           356
          ],
          [
           "Kevon Looney",
           345.037037037037,
           286
          ],
          [
           "Cedi Osman",
           528.7037037037037,
           245
          ],
          [
           "Montrezl Harrell",
           426,
           270
          ],
          [
           "Willy Hernangómez",
           176.33333333333334,
           339
          ],
          [
           "Richaun Holmes",
           -121.11111111111109,
           513
          ],
          [
           "Darrun Hilliard",
           -245.77777777777777,
           600
          ],
          [
           "Josh Richardson",
           959.4444444444445,
           174
          ],
          [
           "Pat Connaughton",
           282.55555555555554,
           301
          ],
          [
           "Joe Young",
           -6.555555555555557,
           439
          ],
          [
           "Andrew Harrison",
           -43.03703703703701,
           464
          ],
          [
           "Norman Powell",
           411.3333333333333,
           274
          ],
          [
           "Ben Simmons",
           1005.2592592592594,
           166
          ],
          [
           "Brandon Ingram",
           -548.8148148148148,
           788
          ],
          [
           "Jaylen Brown",
           -1095.6666666666665,
           931
          ],
          [
           "Dragan Bender",
           -1717.4444444444443,
           984
          ],
          [
           "Kris Dunn",
           175.55555555555554,
           341
          ],
          [
           "Buddy Hield",
           -153.44444444444434,
           535
          ],
          [
           "Jamal Murray",
           502.8888888888889,
           251
          ],
          [
           "Marquese Chriss",
           -1209.2222222222222,
           937
          ],
          [
           "Jakob Poeltl",
           -666.0740740740741,
           853
          ],
          [
           "Thon Maker",
           -509.03703703703707,
           765
          ],
          [
           "Domantas Sabonis",
           1438.1481481481483,
           122
          ],
          [
           "Taurean Prince",
           -376.4814814814815,
           690
          ],
          [
           "Denzel Valentine",
           -481.074074074074,
           752
          ],
          [
           "Juancho Hernangómez",
           -589.9629629629629,
           813
          ],
          [
           "Henry Ellenson",
           -644.8518518518518,
           842
          ],
          [
           "Malik Beasley",
           -106.62962962962968,
           498
          ],
          [
           "Caris LeVert",
           548.8148148148148,
           239
          ],
          [
           "DeAndre' Bembry",
           21.37037037037038,
           427
          ],
          [
           "Ante Žižić",
           -948.5185185185185,
           909
          ],
          [
           "Timothé Luwawu-Cabarrot",
           -214.81481481481484,
           582
          ],
          [
           "Furkan Korkmaz",
           -324.925925925926,
           658
          ],
          [
           "Pascal Siakam",
           938.4814814814815,
           177
          ],
          [
           "Skal Labissière",
           -264.25,
           612
          ],
          [
           "Dejounte Murray",
           1457.4444444444443,
           121
          ],
          [
           "Damian Jones",
           -181.962962962963,
           559
          ],
          [
           "Deyonta Davis",
           -238.2962962962963,
           598
          ],
          [
           "Ivica Zubac",
           238,
           321
          ],
          [
           "Cheick Diallo",
           -321.51851851851853,
           652
          ],
          [
           "Tyler Ulis",
           115.92592592592592,
           369
          ],
          [
           "Malcolm Brogdon",
           1543.2962962962963,
           111
          ],
          [
           "Patrick McCaw",
           -46.77777777777777,
           466
          ],
          [
           "Isaiah Whitehead",
           -148.62962962962962,
           531
          ],
          [
           "Jake Layman",
           -116.40740740740742,
           506
          ],
          [
           "Paul Zipser",
           -54.111111111111114,
           469
          ],
          [
           "Georges Niang",
           174.66666666666666,
           342
          ],
          [
           "Abdel Nader",
           105.77777777777777,
           374
          ],
          [
           "Tyrone Wallace",
           null,
           null
          ],
          [
           "Markelle Fultz",
           -413.74074074074065,
           710
          ],
          [
           "Lonzo Ball",
           -659.8148148148148,
           851
          ],
          [
           "Jayson Tatum",
           -701.6666666666665,
           860
          ],
          [
           "Josh Jackson",
           -1420.4444444444443,
           969
          ],
          [
           "De'Aaron Fox",
           1474.5555555555557,
           118
          ],
          [
           "Jonathan Isaac",
           -1406.4444444444443,
           967
          ],
          [
           "Lauri Markkanen",
           -742.1111111111111,
           873
          ],
          [
           "Frank Ntilikina",
           -818.2222222222222,
           889
          ],
          [
           "Dennis Smith Jr.",
           -286.07407407407413,
           632
          ],
          [
           "Zach Collins",
           -290.03703703703707,
           634
          ],
          [
           "Malik Monk",
           297.14814814814815,
           297
          ],
          [
           "Luke Kennard",
           -413.4814814814815,
           709
          ],
          [
           "Donovan Mitchell",
           1180.5925925925926,
           148
          ],
          [
           "Bam Adebayo",
           481.925925925926,
           255
          ],
          [
           "Justin Jackson",
           -520.9629629629629,
           773
          ],
          [
           "D.J. Wilson",
           -630.8148148148148,
           831
          ],
          [
           "T.J. Leaf",
           -650.8518518518518,
           847
          ],
          [
           "John Collins",
           -108.62962962962968,
           500
          ],
          [
           "Harry Giles",
           -821.1851851851852,
           890
          ],
          [
           "Terrance Ferguson",
           -367.6296296296296,
           686
          ],
          [
           "Jarrett Allen",
           -30,
           452
          ],
          [
           "OG Anunoby",
           -452.5185185185185,
           734
          ],
          [
           "Kyle Kuzma",
           280.4814814814815,
           302
          ],
          [
           "Tony Bradley",
           -326.25,
           660
          ],
          [
           "Derrick White",
           796.4444444444445,
           195
          ],
          [
           "Josh Hart",
           544.037037037037,
           240
          ],
          [
           "Frank Jackson",
           -63.296296296296305,
           475
          ],
          [
           "Davon Reed",
           -157,
           540
          ],
          [
           "Wes Iwundu",
           -191.51851851851853,
           567
          ],
          [
           "Frank Mason III",
           -149.07407407407408,
           532
          ],
          [
           "Ivan Rabb",
           -101.66666666666666,
           496
          ],
          [
           "Semi Ojeleye",
           -407.1111111111111,
           706
          ],
          [
           "Jordan Bell",
           -115.77777777777777,
           505
          ],
          [
           "Dwayne Bacon",
           -156.55555555555554,
           538
          ],
          [
           "Tyler Dorsey",
           -180.44444444444446,
           558
          ],
          [
           "Thomas Bryant",
           -110.62962962962962,
           503
          ],
          [
           "Isaiah Hartenstein",
           224.44444444444446,
           323
          ],
          [
           "Damyean Dotson",
           -127.03703703703701,
           520
          ],
          [
           "Dillon Brooks",
           432.8888888888889,
           269
          ],
          [
           "Sterling Brown",
           -54.666666666666686,
           471
          ],
          [
           "Sindarius Thornwell",
           -25.111111111111114,
           448
          ],
          [
           "Vlatko Čančar",
           12.777777777777771,
           431
          ],
          [
           "Monte Morris",
           1299.9259259259259,
           135
          ],
          [
           "Edmond Sumner",
           80.74074074074075,
           385
          ],
          [
           "Deandre Ayton",
           -882.7407407407406,
           903
          ],
          [
           "Marvin Bagley III",
           -2035.8148148148148,
           993
          ],
          [
           "Luka Dončić",
           481.3333333333335,
           256
          ],
          [
           "Jaren Jackson Jr.",
           -1654.4444444444443,
           980
          ],
          [
           "Trae Young",
           2307.5555555555557,
           74
          ],
          [
           "Mo Bamba",
           -1311.4444444444443,
           954
          ],
          [
           "Wendell Carter Jr.",
           -683.1111111111111,
           857
          ],
          [
           "Collin Sexton",
           -649.2222222222222,
           845
          ],
          [
           "Kevin Knox",
           -1259.0740740740741,
           947
          ],
          [
           "Mikal Bridges",
           241.96296296296293,
           317
          ],
          [
           "Shai Gilgeous-Alexander",
           783.1481481481482,
           199
          ],
          [
           "Miles Bridges",
           -451.4814814814815,
           733
          ],
          [
           "Jerome Robinson",
           -531.4074074074074,
           778
          ],
          [
           "Michael Porter Jr.",
           -749.074074074074,
           876
          ],
          [
           "Troy Brown Jr.",
           -357.96296296296293,
           682
          ],
          [
           "Donte DiVincenzo",
           19.18518518518522,
           430
          ],
          [
           "Lonnie Walker IV",
           -299.85185185185185,
           639
          ],
          [
           "Kevin Huerter",
           443.3703703703703,
           265
          ],
          [
           "Josh Okogie",
           -612.1851851851852,
           823
          ],
          [
           "Grayson Allen",
           -63.62962962962962,
           476
          ],
          [
           "Chandler Hutchison",
           -531,
           777
          ],
          [
           "Aaron Holiday",
           -335.5185185185185,
           669
          ],
          [
           "Anfernee Simons",
           165.18518518518516,
           349
          ],
          [
           "Moritz Wagner",
           -260,
           608
          ],
          [
           "Landry Shamet",
           -174.92592592592598,
           553
          ],
          [
           "Robert Williams",
           -418.5185185185185,
           713
          ],
          [
           "Omari Spellman",
           -265.962962962963,
           615
          ],
          [
           "Elie Okobo",
           -43.296296296296305,
           465
          ],
          [
           "Jevon Carter",
           268,
           307
          ],
          [
           "Jalen Brunson",
           1055.4814814814815,
           159
          ],
          [
           "Devonte' Graham",
           977.9259259259259,
           172
          ],
          [
           "Mitchell Robinson",
           -119.7037037037037,
           511
          ],
          [
           "Gary Trent Jr.",
           -140.1111111111111,
           526
          ],
          [
           "Isaac Bonga",
           -516.3333333333334,
           771
          ],
          [
           "Rodions Kurucs",
           -273.55555555555554,
           623
          ],
          [
           "Jarred Vanderbilt",
           43.55555555555554,
           410
          ],
          [
           "Bruce Brown",
           480.3703703703704,
           257
          ],
          [
           "Hamidou Diallo",
           -20.111111111111086,
           444
          ],
          [
           "De'Anthony Melton",
           534.3333333333333,
           243
          ],
          [
           "Svi Mykhailiuk",
           107.59259259259258,
           371
          ],
          [
           "Keita Bates-Diop",
           66.88888888888889,
           394
          ],
          [
           "Chimezie Metu",
           49.77777777777777,
           405
          ],
          [
           "Shake Milton",
           523,
           247
          ],
          [
           "Zion Williamson",
           -968.7407407407406,
           915
          ],
          [
           "Ja Morant",
           -392.8148148148148,
           698
          ],
          [
           "RJ Barrett",
           -1380.6666666666665,
           964
          ],
          [
           "De'Andre Hunter",
           -1636.4444444444443,
           979
          ],
          [
           "Darius Garland",
           701.5555555555555,
           217
          ],
          [
           "Jarrett Culver",
           -1385.4444444444443,
           965
          ],
          [
           "Coby White",
           -336.1111111111111,
           670
          ],
          [
           "Jaxson Hayes",
           -1339.2222222222222,
           960
          ],
          [
           "Rui Hachimura",
           -1189.0740740740741,
           934
          ],
          [
           "Cam Reddish",
           -443.03703703703707,
           723
          ],
          [
           "Cameron Johnson",
           -295.85185185185185,
           636
          ],
          [
           "P.J. Washington",
           -501.4814814814815,
           763
          ],
          [
           "Tyler Herro",
           185.5925925925926,
           335
          ],
          [
           "Romeo Langford",
           -850.074074074074,
           896
          ],
          [
           "Sekou Doumbouya",
           -739.9629629629629,
           871
          ],
          [
           "Chuma Okeke",
           -553.7407407407408,
           793
          ],
          [
           "Nickeil Alexander-Walker",
           -283.8148148148148,
           628
          ],
          [
           "Goga Bitadze",
           -539.8518518518518,
           781
          ],
          [
           "Matisse Thybulle",
           -725.1851851851852,
           866
          ],
          [
           "Brandon Clarke",
           -177.62962962962962,
           555
          ],
          [
           "Grant Williams",
           -269,
           620
          ],
          [
           "Darius Bazley",
           -737.5185185185185,
           869
          ],
          [
           "Ty Jerome",
           -99.81481481481484,
           494
          ],
          [
           "Nassir Little",
           -412,
           707
          ],
          [
           "Dylan Windler",
           -622.925925925926,
           826
          ],
          [
           "Jordan Poole",
           489.75,
           254
          ],
          [
           "Keldon Johnson",
           -53.55555555555554,
           468
          ],
          [
           "Kevin Porter Jr.",
           627.037037037037,
           227
          ],
          [
           "Nic Claxton",
           -54.296296296296305,
           470
          ],
          [
           "KZ Okpala",
           -202,
           571
          ],
          [
           "Bruno Fernando",
           -324.0740740740741,
           655
          ],
          [
           "Cody Martin",
           70.2962962962963,
           390
          ],
          [
           "Daniel Gafford",
           -114.77777777777777,
           504
          ],
          [
           "Eric Paschall",
           -101.44444444444446,
           495
          ],
          [
           "Admiral Schofield",
           -289.6296296296296,
           633
          ],
          [
           "Jaylen Nowell",
           217.44444444444446,
           328
          ],
          [
           "Bol Bol",
           -355.037037037037,
           681
          ],
          [
           "Isaiah Roby",
           -86.11111111111109,
           486
          ],
          [
           "Talen Horton-Tucker",
           269.3333333333333,
           306
          ],
          [
           "Terance Mann",
           413.8888888888889,
           273
          ],
          [
           "Jalen McDaniels",
           152.74074074074076,
           354
          ],
          [
           "Anthony Edwards",
           -541.7407407407406,
           783
          ],
          [
           "James Wiseman",
           -2166.814814814815,
           994
          ],
          [
           "LaMelo Ball",
           -961.6666666666665,
           913
          ],
          [
           "Patrick Williams",
           -1740.4444444444443,
           985
          ],
          [
           "Isaac Okoro",
           -641.4444444444445,
           839
          ],
          [
           "Onyeka Okongwu",
           -1406.4444444444443,
           967
          ],
          [
           "Killian Hayes",
           -334.1111111111111,
           666
          ],
          [
           "Obi Toppin",
           -1335.2222222222222,
           959
          ],
          [
           "Deni Avdija",
           -1023.0740740740741,
           924
          ],
          [
           "Jalen Smith",
           -576.0370370370371,
           808
          ],
          [
           "Devin Vassell",
           -299.85185185185185,
           639
          ],
          [
           "Tyrese Haliburton",
           414.5185185185185,
           271
          ],
          [
           "Kira Lewis Jr.",
           -466.4074074074074,
           740
          ],
          [
           "Aaron Nesmith",
           -804.074074074074,
           884
          ],
          [
           "Cole Anthony",
           -9.962962962962933,
           440
          ],
          [
           "Isaiah Stewart",
           -598.7407407407408,
           817
          ],
          [
           "Aleksej Pokusevski",
           -446.8148148148148,
           727
          ],
          [
           "Josh Green",
           -483.85185185185185,
           756
          ],
          [
           "Saddiq Bey",
           -202.62962962962968,
           572
          ],
          [
           "Precious Achiuwa",
           -834.1851851851852,
           893
          ],
          [
           "Tyrese Maxey",
           141.37037037037038,
           360
          ],
          [
           "Zeke Nnaji",
           -565,
           801
          ],
          [
           "R.J. Hampton",
           -208.81481481481484,
           576
          ],
          [
           "Immanuel Quickley",
           120,
           366
          ],
          [
           "Payton Pritchard",
           -367.925925925926,
           687
          ],
          [
           "Jaden McDaniels",
           -118.25,
           509
          ],
          [
           "Malachi Flynn",
           -253.55555555555554,
           605
          ],
          [
           "Desmond Bane",
           220.037037037037,
           326
          ],
          [
           "Théo Maledon",
           68.92592592592592,
           392
          ],
          [
           "Xavier Tillman Sr.",
           45.33333333333334,
           408
          ],
          [
           "Saben Lee",
           31.22222222222223,
           420
          ],
          [
           "Tre Jones",
           404.55555555555554,
           275
          ],
          [
           "Nick Richards",
           -307.6296296296296,
           644
          ],
          [
           "Jordan Nwora",
           -148.1111111111111,
           529
          ],
          [
           "CJ Elleby",
           -225.66666666666669,
           587
          ],
          [
           "Isaiah Joe",
           41.77777777777777,
           414
          ],
          [
           "Kenyon Martin Jr.",
           170.74074074074076,
           345
          ],
          [
           "Paul Reed",
           50.77777777777778,
           404
          ],
          [
           "Jalen Green",
           -1765.8148148148148,
           987
          ],
          [
           "Evan Mobley",
           -1751.6666666666665,
           986
          ],
          [
           "Scottie Barnes",
           -1327.4444444444443,
           958
          ],
          [
           "Jalen Suggs",
           -613.4444444444445,
           824
          ],
          [
           "Josh Giddey",
           -744.4444444444443,
           874
          ],
          [
           "Jonathan Kuminga",
           -1030.111111111111,
           925
          ],
          [
           "Franz Wagner",
           -993.2222222222222,
           921
          ],
          [
           "Davion Mitchell",
           -966.0740740740741,
           914
          ],
          [
           "Ziaire Williams",
           -570.0370370370371,
           805
          ],
          [
           "Chris Duarte",
           -484.4074074074074,
           757
          ],
          [
           "Moses Moody",
           -873.074074074074,
           901
          ],
          [
           "Corey Kispert",
           -633.9629629629629,
           834
          ],
          [
           "Alperen Şengün",
           -333.74074074074076,
           664
          ],
          [
           "Trey Murphy III",
           -588.8148148148148,
           811
          ],
          [
           "Tre Mann",
           -482.85185185185185,
           754
          ],
          [
           "Jalen Johnson",
           -909.1851851851852,
           905
          ],
          [
           "Isaiah Jackson",
           -549,
           789
          ],
          [
           "Usman Garuba",
           -931.5185185185185,
           908
          ],
          [
           "Josh Christopher",
           -284.81481481481484,
           629
          ],
          [
           "Quentin Grimes",
           -367,
           685
          ],
          [
           "Bones Hyland",
           -327.925925925926,
           662
          ],
          [
           "Cam Thomas",
           -561.5185185185185,
           795
          ],
          [
           "Santi Aldama",
           -241.962962962963,
           599
          ],
          [
           "Jeremiah Robinson-Earl",
           -157,
           540
          ],
          [
           "Herbert Jones",
           141.33333333333334,
           361
          ],
          [
           "Miles McBride",
           -187.7037037037037,
           566
          ],
          [
           "JT Thor",
           -478.1111111111111,
           749
          ],
          [
           "Ayo Dosunmu",
           145.22222222222223,
           359
          ],
          [
           "Kessler Edwards",
           -388.037037037037,
           694
          ],
          [
           "Dalano Banton",
           -187.66666666666669,
           565
          ],
          [
           "Sandro Mamukelashvili",
           -87,
           488
          ],
          [
           "Aaron Wiggins",
           -50.111111111111114,
           467
          ],
          [
           "Jericho Sims",
           41.77777777777778,
           413
          ],
          [
           "Tari Eason",
           -650.8148148148148,
           846
          ]
         ],
         "hovertemplate": "<b>%{hovertext}</b><br><br>Pk=%{x}<br>AST=%{y}<br>AST_diff=%{customdata[1]}<br>AST_rank=%{customdata[2]}<extra></extra>",
         "hovertext": [
          "Allen Iverson",
          "Marcus Camby",
          "Shareef Abdur-Rahim",
          "Stephon Marbury",
          "Ray Allen",
          "Antoine Walker",
          "Lorenzen Wright",
          "Kerry Kittles",
          "Samaki Walker",
          "Erick Dampier",
          "Todd Fuller",
          "Vitaly Potapenko",
          "Kobe Bryant",
          "Peja Stojaković",
          "Steve Nash",
          "Tony Delk",
          "Jermaine O'Neal",
          "John Wallace",
          "Walter McCarty",
          "Zydrunas Ilgauskas",
          "Roy Rogers",
          "Derek Fisher",
          "Martin Müürsepp",
          "Jerome Williams",
          "Brian Evans",
          "Travis Knight",
          "Othella Harrington",
          "Mark Hendrickson",
          "Moochie Norris",
          "Jeff McInnis",
          "Randy Livingston",
          "Malik Rose",
          "Jamie Feick",
          "Amal McCaskill",
          "Mark Pope",
          "Shandon Anderson",
          "Reggie Geary",
          "Tim Duncan",
          "Keith Van Horn",
          "Chauncey Billups",
          "Antonio Daniels",
          "Tony Battie",
          "Ron Mercer",
          "Tim Thomas",
          "Adonal Foyle",
          "Tracy McGrady",
          "Danny Fortson",
          "Tariq Abdul-Wahad",
          "Austin Croshere",
          "Derek Anderson",
          "Maurice Taylor",
          "Kelvin Cato",
          "Brevin Knight",
          "Chris Anstey",
          "Scot Pollard",
          "Anthony Parker",
          "Bobby Jackson",
          "John Thomas",
          "Charles Smith",
          "Jacque Vaughn",
          "Marc Jackson",
          "Anthony Johnson",
          "Stephen Jackson",
          "Cedric Henderson",
          "Eric Washington",
          "Alvin Williams",
          "Predrag Drobnjak",
          "Chris Crawford",
          "Mark Blount",
          "Michael Olowokandi",
          "Mike Bibby",
          "Raef LaFrentz",
          "Antawn Jamison",
          "Vince Carter",
          "Robert Traylor",
          "Jason Williams",
          "Larry Hughes",
          "Dirk Nowitzki",
          "Paul Pierce",
          "Bonzi Wells",
          "Michael Doleac",
          "Keon Clark",
          "Michael Dickerson",
          "Matt Harpring",
          "Bryce Drew",
          "Rasho Nesterović",
          "Pat Garrity",
          "Roshown McLeod",
          "Ricky Davis",
          "Brian Skinner",
          "Tyronn Lue",
          "Felipe López",
          "Al Harrington",
          "Vladimir Stepania",
          "Corey Benjamin",
          "Nazr Mohammed",
          "Ansu Sesay",
          "Ruben Patterson",
          "Rashard Lewis",
          "Jelani McCoy",
          "Shammond Williams",
          "Bruno Šundov",
          "Jerome James",
          "Rafer Alston",
          "Cuttino Mobley",
          "Jahidi White",
          "Sean Marks",
          "Derrick Dial",
          "Greg Buckner",
          "Tremaine Fowlkes",
          "Ryan Bowen",
          "Maceo Baston",
          "Elton Brand",
          "Steve Francis",
          "Baron Davis",
          "Lamar Odom",
          "Jonathan Bender",
          "Wally Szczerbiak",
          "Richard Hamilton",
          "Andre Miller",
          "Shawn Marion",
          "Jason Terry",
          "Trajan Langdon",
          "Corey Maggette",
          "William Avery",
          "Metta World Peace",
          "Cal Bowdler",
          "James Posey",
          "Quincy Lewis",
          "Dion Glover",
          "Jeff Foster",
          "Kenny Thomas",
          "Devean George",
          "Andrei Kirilenko",
          "Vonteego Cummings",
          "Jumaine Jones",
          "Scott Padgett",
          "Michael Ruffin",
          "Evan Eschmeyer",
          "Calvin Booth",
          "Wang Zhizhi",
          "Obinna Ekezie",
          "Laron Profit",
          "Gordan Giriček",
          "Francisco Elson",
          "Lee Nailon",
          "Todd MacCulloch",
          "Rodney Buford",
          "Manu Ginóbili",
          "Kenyon Martin",
          "Stromile Swift",
          "Darius Miles",
          "Marcus Fizer",
          "Mike Miller",
          "DerMarr Johnson",
          "Chris Mihm",
          "Jamal Crawford",
          "Joel Przybilla",
          "Keyon Dooling",
          "Jérôme Moïso",
          "Etan Thomas",
          "Courtney Alexander",
          "Mateen Cleaves",
          "Jason Collier",
          "Hedo Türkoğlu",
          "Desmond Mason",
          "Quentin Richardson",
          "Jamaal Magloire",
          "Speedy Claxton",
          "Morris Peterson",
          "Donnell Harvey",
          "DeShawn Stevenson",
          "Dalibor Bagarić",
          "Jake Tsakalidis",
          "Primož Brezec",
          "Mark Madsen",
          "Marko Jarić",
          "Dan Langhi",
          "Jake Voskuhl",
          "Eddie House",
          "Eduardo Nájera",
          "Hanno Möttölä",
          "Olumide Oyedeji",
          "Michael Redd",
          "Brian Cardinal",
          "Jabari Smith",
          "Jason Hart",
          "Kwame Brown",
          "Tyson Chandler",
          "Pau Gasol",
          "Eddy Curry",
          "Jason Richardson",
          "Shane Battier",
          "Eddie Griffin",
          "DeSagana Diop",
          "Rodney White",
          "Joe Johnson",
          "Kedrick Brown",
          "Vladimir Radmanović",
          "Richard Jefferson",
          "Troy Murphy",
          "Steven Hunter",
          "Michael Bradley",
          "Jason Collins",
          "Zach Randolph",
          "Brendan Haywood",
          "Jeryl Sasser",
          "Brandon Armstrong",
          "Raül López",
          "Gerald Wallace",
          "Samuel Dalembert",
          "Jamaal Tinsley",
          "Tony Parker",
          "Trenton Hassell",
          "Gilbert Arenas",
          "Will Solomon",
          "Terence Morris",
          "Brian Scalabrine",
          "Mehmet Okur",
          "Earl Watson",
          "Bobby Simmons",
          "Loren Woods",
          "Jarron Collins",
          "Yao Ming",
          "Mike Dunleavy",
          "Drew Gooden",
          "Nikoloz Tskitishvili",
          "Dajuan Wagner",
          "Nenê",
          "Chris Wilcox",
          "Amar'e Stoudemire",
          "Caron Butler",
          "Jared Jeffries",
          "Melvin Ely",
          "Marcus Haislip",
          "Fred Jones",
          "Boštjan Nachbar",
          "Jiří Welsch",
          "Juan Dixon",
          "Curtis Borchardt",
          "Ryan Humphrey",
          "Kareem Rush",
          "Qyntel Woods",
          "Casey Jacobsen",
          "Tayshaun Prince",
          "Nenad Krstić",
          "Frank Williams",
          "John Salmons",
          "Dan Dickau",
          "Roger Mason",
          "Dan Gadzuric",
          "Carlos Boozer",
          "David Andersen",
          "Juan Carlos Navarro",
          "Ronald Murray",
          "Lonny Baxter",
          "Matt Barnes",
          "Darius Songaila",
          "Rasual Butler",
          "Luis Scola",
          "LeBron James",
          "Darko Miličić",
          "Carmelo Anthony",
          "Chris Bosh",
          "Dwyane Wade",
          "Chris Kaman",
          "Kirk Hinrich",
          "T.J. Ford",
          "Mike Sweetney",
          "Jarvis Hayes",
          "Mickaël Piétrus",
          "Nick Collison",
          "Marcus Banks",
          "Luke Ridnour",
          "Žarko Čabarkapa",
          "David West",
          "Sasha Pavlović",
          "Dahntay Jones",
          "Boris Diaw",
          "Zoran Planinić",
          "Travis Outlaw",
          "Brian Cook",
          "Carlos Delfino",
          "Kendrick Perkins",
          "Leandro Barbosa",
          "Josh Howard",
          "Jason Kapono",
          "Luke Walton",
          "Steve Blake",
          "Willie Green",
          "Zaza Pachulia",
          "Keith Bogans",
          "Matt Bonner",
          "Mo Williams",
          "James Jones",
          "Kyle Korver",
          "Dwight Howard",
          "Emeka Okafor",
          "Ben Gordon",
          "Shaun Livingston",
          "Devin Harris",
          "Josh Childress",
          "Luol Deng",
          "Rafael Araújo",
          "Andre Iguodala",
          "Andris Biedriņš",
          "Robert Swift",
          "Sebastian Telfair",
          "Kris Humphries",
          "Al Jefferson",
          "Kirk Snyder",
          "Josh Smith",
          "J.R. Smith",
          "Dorell Wright",
          "Jameer Nelson",
          "Viktor Khryapa",
          "Delonte West",
          "Tony Allen",
          "Kevin Martin",
          "Sasha Vujačić",
          "Beno Udrih",
          "David Harrison",
          "Anderson Varejão",
          "Jackson Vroman",
          "Royal Ivey",
          "Chris Duhon",
          "Justin Reed",
          "Trevor Ariza",
          "Bernard Robinson",
          "Andrew Bogut",
          "Marvin Williams",
          "Deron Williams",
          "Chris Paul",
          "Raymond Felton",
          "Martell Webster",
          "Charlie Villanueva",
          "Channing Frye",
          "Ike Diogu",
          "Andrew Bynum",
          "Sean May",
          "Rashad McCants",
          "Antoine Wright",
          "Joey Graham",
          "Danny Granger",
          "Gerald Green",
          "Hakim Warrick",
          "Nate Robinson",
          "Jarrett Jack",
          "Francisco García",
          "Luther Head",
          "Johan Petro",
          "Jason Maxiell",
          "Linas Kleiza",
          "Ian Mahinmi",
          "David Lee",
          "Salim Stoudamire",
          "Daniel Ewing",
          "Brandon Bass",
          "C.J. Miles",
          "Ersan İlyasova",
          "Ronny Turiaf",
          "Travis Diener",
          "Von Wafer",
          "Monta Ellis",
          "Roko Ukić",
          "Lou Williams",
          "Mickaël Gelabale",
          "Andray Blatche",
          "Ryan Gomes",
          "Orien Greene",
          "Lawrence Roberts",
          "Amir Johnson",
          "Marcin Gortat",
          "Andrea Bargnani",
          "LaMarcus Aldridge",
          "Adam Morrison",
          "Tyrus Thomas",
          "Shelden Williams",
          "Brandon Roy",
          "Randy Foye",
          "Rudy Gay",
          "Patrick O'Bryant",
          "J.J. Redick",
          "Hilton Armstrong",
          "Thabo Sefolosha",
          "Ronnie Brewer",
          "Rodney Carney",
          "Shawne Williams",
          "Oleksiy Pecherov",
          "Quincy Douby",
          "Renaldo Balkman",
          "Rajon Rondo",
          "Marcus Williams",
          "Josh Boone",
          "Kyle Lowry",
          "Shannon Brown",
          "Jordan Farmar",
          "Sergio Rodríguez",
          "Maurice Ager",
          "Mardy Collins",
          "Joel Freeland",
          "Steve Novak",
          "Solomon Jones",
          "Paul Davis",
          "P.J. Tucker",
          "Craig Smith",
          "Bobby Jones",
          "Daniel Gibson",
          "Alexander Johnson",
          "Paul Millsap",
          "Leon Powe",
          "Ryan Hollins",
          "Greg Oden",
          "Kevin Durant",
          "Al Horford",
          "Mike Conley",
          "Jeff Green",
          "Yi Jianlian",
          "Corey Brewer",
          "Brandan Wright",
          "Joakim Noah",
          "Spencer Hawes",
          "Acie Law",
          "Thaddeus Young",
          "Julian Wright",
          "Al Thornton",
          "Rodney Stuckey",
          "Nick Young",
          "Sean Williams",
          "Marco Belinelli",
          "Javaris Crittenton",
          "Jason Smith",
          "Daequan Cook",
          "Jared Dudley",
          "Wilson Chandler",
          "Rudy Fernández",
          "Aaron Brooks",
          "Arron Afflalo",
          "Tiago Splitter",
          "Carl Landry",
          "Glen Davis",
          "Josh McRoberts",
          "Kyrylo Fesenko",
          "Dominic McGuire",
          "Marc Gasol",
          "Aaron Gray",
          "Ramon Sessions",
          "Derrick Rose",
          "Michael Beasley",
          "O.J. Mayo",
          "Russell Westbrook",
          "Kevin Love",
          "Danilo Gallinari",
          "Eric Gordon",
          "D.J. Augustin",
          "Brook Lopez",
          "Jerryd Bayless",
          "Jason Thompson",
          "Brandon Rush",
          "Anthony Randolph",
          "Robin Lopez",
          "Marreese Speights",
          "Roy Hibbert",
          "JaVale McGee",
          "J.J. Hickson",
          "Alexis Ajinça",
          "Ryan Anderson",
          "Courtney Lee",
          "Kosta Koufos",
          "Serge Ibaka",
          "Nicolas Batum",
          "George Hill",
          "Darrell Arthur",
          "Donté Greene",
          "D.J. White",
          "Nikola Peković",
          "Joey Dorsey",
          "Mario Chalmers",
          "DeAndre Jordan",
          "Ömer Aşık",
          "Luc Mbah a Moute",
          "Sonny Weems",
          "Chris Douglas-Roberts",
          "Goran Dragić",
          "Henry Walker",
          "Darnell Jackson",
          "Blake Griffin",
          "Hasheem Thabeet",
          "James Harden",
          "Tyreke Evans",
          "Ricky Rubio",
          "Jonny Flynn",
          "Stephen Curry",
          "Jordan Hill",
          "DeMar DeRozan",
          "Brandon Jennings",
          "Terrence Williams",
          "Gerald Henderson",
          "Tyler Hansbrough",
          "Earl Clark",
          "Austin Daye",
          "James Johnson",
          "Jrue Holiday",
          "Ty Lawson",
          "Jeff Teague",
          "Eric Maynor",
          "Darren Collison",
          "Omri Casspi",
          "Byron Mullens",
          "Rodrigue Beaubois",
          "Taj Gibson",
          "DeMarre Carroll",
          "Wayne Ellington",
          "Toney Douglas",
          "Jeff Ayres",
          "Dante Cunningham",
          "DaJuan Summers",
          "Sam Young",
          "DeJuan Blair",
          "Jon Brockman",
          "Jonas Jerebko",
          "Derrick Brown",
          "Jodie Meeks",
          "Patrick Beverley",
          "Marcus Thornton",
          "Chase Budinger",
          "Nick Calathes",
          "Danny Green",
          "A.J. Price",
          "Nando De Colo",
          "Patty Mills",
          "John Wall",
          "Evan Turner",
          "Derrick Favors",
          "Wesley Johnson",
          "DeMarcus Cousins",
          "Ekpe Udoh",
          "Greg Monroe",
          "Al-Farouq Aminu",
          "Gordon Hayward",
          "Paul George",
          "Cole Aldrich",
          "Xavier Henry",
          "Ed Davis",
          "Patrick Patterson",
          "Larry Sanders",
          "Luke Babbitt",
          "Kevin Séraphin",
          "Eric Bledsoe",
          "Avery Bradley",
          "James Anderson",
          "Elliot Williams",
          "Trevor Booker",
          "Quincy Pondexter",
          "Jordan Crawford",
          "Greivis Vásquez",
          "Hassan Whiteside",
          "Nemanja Bjelica",
          "Landry Fields",
          "Lance Stephenson",
          "Jeremy Evans",
          "Kyrie Irving",
          "Derrick Williams",
          "Enes Freedom",
          "Tristan Thompson",
          "Jonas Valančiūnas",
          "Jan Veselý",
          "Bismack Biyombo",
          "Brandon Knight",
          "Kemba Walker",
          "Jimmer Fredette",
          "Klay Thompson",
          "Alec Burks",
          "Markieff Morris",
          "Marcus Morris",
          "Kawhi Leonard",
          "Nikola Vučević",
          "Iman Shumpert",
          "Chris Singleton",
          "Tobias Harris",
          "Donatas Motiejūnas",
          "Nolan Smith",
          "Kenneth Faried",
          "Nikola Mirotić",
          "Reggie Jackson",
          "MarShon Brooks",
          "Jordan Hamilton",
          "Norris Cole",
          "Cory Joseph",
          "Jimmy Butler",
          "Bojan Bogdanović",
          "Kyle Singler",
          "Shelvin Mack",
          "Chandler Parsons",
          "Jeremy Tyler",
          "Jon Leuer",
          "Darius Morris",
          "Dāvis Bertāns",
          "Charles Jenkins",
          "Lavoy Allen",
          "DeAndre Liggins",
          "E'Twaun Moore",
          "Isaiah Thomas",
          "Anthony Davis",
          "Michael Kidd-Gilchrist",
          "Bradley Beal",
          "Dion Waiters",
          "Thomas Robinson",
          "Damian Lillard",
          "Harrison Barnes",
          "Terrence Ross",
          "Andre Drummond",
          "Austin Rivers",
          "Meyers Leonard",
          "Jeremy Lamb",
          "Kendall Marshall",
          "John Henson",
          "Maurice Harkless",
          "Tyler Zeller",
          "Terrence Jones",
          "Andrew Nicholson",
          "Evan Fournier",
          "Jared Sullinger",
          "John Jenkins",
          "Jared Cunningham",
          "Tony Wroten",
          "Miles Plumlee",
          "Perry Jones",
          "Marquis Teague",
          "Festus Ezeli",
          "Jeff Taylor",
          "Tomáš Satoranský",
          "Bernard James",
          "Jae Crowder",
          "Draymond Green",
          "Orlando Johnson",
          "Quincy Acy",
          "Khris Middleton",
          "Will Barton",
          "Doron Lamb",
          "Mike Scott",
          "Justin Hamilton",
          "Darius Miller",
          "Kyle O'Quinn",
          "Robbie Hummel",
          "Robert Sacre",
          "Anthony Bennett",
          "Victor Oladipo",
          "Otto Porter Jr.",
          "Cody Zeller",
          "Alex Len",
          "Nerlens Noel",
          "Ben McLemore",
          "Kentavious Caldwell-Pope",
          "Trey Burke",
          "CJ McCollum",
          "Michael Carter-Williams",
          "Steven Adams",
          "Kelly Olynyk",
          "Shabazz Muhammad",
          "Giannis Antetokounmpo",
          "Lucas Nogueira",
          "Dennis Schröder",
          "Shane Larkin",
          "Sergey Karasev",
          "Tony Snell",
          "Gorgui Dieng",
          "Mason Plumlee",
          "Solomon Hill",
          "Tim Hardaway Jr.",
          "Reggie Bullock",
          "Andre Roberson",
          "Rudy Gobert",
          "Archie Goodwin",
          "Allen Crabbe",
          "Álex Abrines",
          "Isaiah Canaan",
          "Ray McCallum",
          "Nate Wolters",
          "Jeff Withey",
          "Mike Muscala",
          "Raul Neto",
          "Ryan Kelly",
          "James Ennis III",
          "Lorenzo Brown",
          "Joffrey Lauvergne",
          "Andrew Wiggins",
          "Jabari Parker",
          "Joel Embiid",
          "Aaron Gordon",
          "Dante Exum",
          "Marcus Smart",
          "Julius Randle",
          "Nik Stauskas",
          "Noah Vonleh",
          "Elfrid Payton",
          "Doug McDermott",
          "Dario Šarić",
          "Zach LaVine",
          "T.J. Warren",
          "Adreian Payne",
          "Jusuf Nurkić",
          "James Young",
          "Tyler Ennis",
          "Gary Harris",
          "Bruno Caboclo",
          "Rodney Hood",
          "Shabazz Napier",
          "Clint Capela",
          "P.J. Hairston",
          "Bogdan Bogdanović",
          "Kyle Anderson",
          "K.J. McDaniels",
          "Joe Harris",
          "Johnny O'Bryant",
          "Spencer Dinwiddie",
          "Jerami Grant",
          "Glenn Robinson III",
          "Nikola Jokić",
          "Markel Brown",
          "Dwight Powell",
          "Jordan Clarkson",
          "Thanasis Antetokounmpo",
          "Jordan McRae",
          "Karl-Anthony Towns",
          "D'Angelo Russell",
          "Jahlil Okafor",
          "Kristaps Porziņģis",
          "Mario Hezonja",
          "Willie Cauley-Stein",
          "Emmanuel Mudiay",
          "Stanley Johnson",
          "Frank Kaminsky",
          "Justise Winslow",
          "Myles Turner",
          "Trey Lyles",
          "Devin Booker",
          "Cameron Payne",
          "Kelly Oubre Jr.",
          "Terry Rozier",
          "Rashad Vaughn",
          "Sam Dekker",
          "Jerian Grant",
          "Delon Wright",
          "Justin Anderson",
          "Bobby Portis",
          "Rondae Hollis-Jefferson",
          "Tyus Jones",
          "Jarell Martin",
          "Larry Nance Jr.",
          "Kevon Looney",
          "Cedi Osman",
          "Montrezl Harrell",
          "Willy Hernangómez",
          "Richaun Holmes",
          "Darrun Hilliard",
          "Josh Richardson",
          "Pat Connaughton",
          "Joe Young",
          "Andrew Harrison",
          "Norman Powell",
          "Ben Simmons",
          "Brandon Ingram",
          "Jaylen Brown",
          "Dragan Bender",
          "Kris Dunn",
          "Buddy Hield",
          "Jamal Murray",
          "Marquese Chriss",
          "Jakob Poeltl",
          "Thon Maker",
          "Domantas Sabonis",
          "Taurean Prince",
          "Denzel Valentine",
          "Juancho Hernangómez",
          "Henry Ellenson",
          "Malik Beasley",
          "Caris LeVert",
          "DeAndre' Bembry",
          "Ante Žižić",
          "Timothé Luwawu-Cabarrot",
          "Furkan Korkmaz",
          "Pascal Siakam",
          "Skal Labissière",
          "Dejounte Murray",
          "Damian Jones",
          "Deyonta Davis",
          "Ivica Zubac",
          "Cheick Diallo",
          "Tyler Ulis",
          "Malcolm Brogdon",
          "Patrick McCaw",
          "Isaiah Whitehead",
          "Jake Layman",
          "Paul Zipser",
          "Georges Niang",
          "Abdel Nader",
          "Tyrone Wallace",
          "Markelle Fultz",
          "Lonzo Ball",
          "Jayson Tatum",
          "Josh Jackson",
          "De'Aaron Fox",
          "Jonathan Isaac",
          "Lauri Markkanen",
          "Frank Ntilikina",
          "Dennis Smith Jr.",
          "Zach Collins",
          "Malik Monk",
          "Luke Kennard",
          "Donovan Mitchell",
          "Bam Adebayo",
          "Justin Jackson",
          "D.J. Wilson",
          "T.J. Leaf",
          "John Collins",
          "Harry Giles",
          "Terrance Ferguson",
          "Jarrett Allen",
          "OG Anunoby",
          "Kyle Kuzma",
          "Tony Bradley",
          "Derrick White",
          "Josh Hart",
          "Frank Jackson",
          "Davon Reed",
          "Wes Iwundu",
          "Frank Mason III",
          "Ivan Rabb",
          "Semi Ojeleye",
          "Jordan Bell",
          "Dwayne Bacon",
          "Tyler Dorsey",
          "Thomas Bryant",
          "Isaiah Hartenstein",
          "Damyean Dotson",
          "Dillon Brooks",
          "Sterling Brown",
          "Sindarius Thornwell",
          "Vlatko Čančar",
          "Monte Morris",
          "Edmond Sumner",
          "Deandre Ayton",
          "Marvin Bagley III",
          "Luka Dončić",
          "Jaren Jackson Jr.",
          "Trae Young",
          "Mo Bamba",
          "Wendell Carter Jr.",
          "Collin Sexton",
          "Kevin Knox",
          "Mikal Bridges",
          "Shai Gilgeous-Alexander",
          "Miles Bridges",
          "Jerome Robinson",
          "Michael Porter Jr.",
          "Troy Brown Jr.",
          "Donte DiVincenzo",
          "Lonnie Walker IV",
          "Kevin Huerter",
          "Josh Okogie",
          "Grayson Allen",
          "Chandler Hutchison",
          "Aaron Holiday",
          "Anfernee Simons",
          "Moritz Wagner",
          "Landry Shamet",
          "Robert Williams",
          "Omari Spellman",
          "Elie Okobo",
          "Jevon Carter",
          "Jalen Brunson",
          "Devonte' Graham",
          "Mitchell Robinson",
          "Gary Trent Jr.",
          "Isaac Bonga",
          "Rodions Kurucs",
          "Jarred Vanderbilt",
          "Bruce Brown",
          "Hamidou Diallo",
          "De'Anthony Melton",
          "Svi Mykhailiuk",
          "Keita Bates-Diop",
          "Chimezie Metu",
          "Shake Milton",
          "Zion Williamson",
          "Ja Morant",
          "RJ Barrett",
          "De'Andre Hunter",
          "Darius Garland",
          "Jarrett Culver",
          "Coby White",
          "Jaxson Hayes",
          "Rui Hachimura",
          "Cam Reddish",
          "Cameron Johnson",
          "P.J. Washington",
          "Tyler Herro",
          "Romeo Langford",
          "Sekou Doumbouya",
          "Chuma Okeke",
          "Nickeil Alexander-Walker",
          "Goga Bitadze",
          "Matisse Thybulle",
          "Brandon Clarke",
          "Grant Williams",
          "Darius Bazley",
          "Ty Jerome",
          "Nassir Little",
          "Dylan Windler",
          "Jordan Poole",
          "Keldon Johnson",
          "Kevin Porter Jr.",
          "Nic Claxton",
          "KZ Okpala",
          "Bruno Fernando",
          "Cody Martin",
          "Daniel Gafford",
          "Eric Paschall",
          "Admiral Schofield",
          "Jaylen Nowell",
          "Bol Bol",
          "Isaiah Roby",
          "Talen Horton-Tucker",
          "Terance Mann",
          "Jalen McDaniels",
          "Anthony Edwards",
          "James Wiseman",
          "LaMelo Ball",
          "Patrick Williams",
          "Isaac Okoro",
          "Onyeka Okongwu",
          "Killian Hayes",
          "Obi Toppin",
          "Deni Avdija",
          "Jalen Smith",
          "Devin Vassell",
          "Tyrese Haliburton",
          "Kira Lewis Jr.",
          "Aaron Nesmith",
          "Cole Anthony",
          "Isaiah Stewart",
          "Aleksej Pokusevski",
          "Josh Green",
          "Saddiq Bey",
          "Precious Achiuwa",
          "Tyrese Maxey",
          "Zeke Nnaji",
          "R.J. Hampton",
          "Immanuel Quickley",
          "Payton Pritchard",
          "Jaden McDaniels",
          "Malachi Flynn",
          "Desmond Bane",
          "Théo Maledon",
          "Xavier Tillman Sr.",
          "Saben Lee",
          "Tre Jones",
          "Nick Richards",
          "Jordan Nwora",
          "CJ Elleby",
          "Isaiah Joe",
          "Kenyon Martin Jr.",
          "Paul Reed",
          "Jalen Green",
          "Evan Mobley",
          "Scottie Barnes",
          "Jalen Suggs",
          "Josh Giddey",
          "Jonathan Kuminga",
          "Franz Wagner",
          "Davion Mitchell",
          "Ziaire Williams",
          "Chris Duarte",
          "Moses Moody",
          "Corey Kispert",
          "Alperen Şengün",
          "Trey Murphy III",
          "Tre Mann",
          "Jalen Johnson",
          "Isaiah Jackson",
          "Usman Garuba",
          "Josh Christopher",
          "Quentin Grimes",
          "Bones Hyland",
          "Cam Thomas",
          "Santi Aldama",
          "Jeremiah Robinson-Earl",
          "Herbert Jones",
          "Miles McBride",
          "JT Thor",
          "Ayo Dosunmu",
          "Kessler Edwards",
          "Dalano Banton",
          "Sandro Mamukelashvili",
          "Aaron Wiggins",
          "Jericho Sims",
          "Tari Eason"
         ],
         "legendgroup": "",
         "marker": {
          "color": "#636efa",
          "size": 12,
          "symbol": "circle"
         },
         "mode": "markers",
         "name": "",
         "orientation": "v",
         "showlegend": false,
         "type": "scatter",
         "x": [
          1,
          2,
          3,
          4,
          5,
          6,
          7,
          8,
          9,
          10,
          11,
          12,
          13,
          14,
          15,
          16,
          17,
          18,
          19,
          20,
          22,
          24,
          25,
          26,
          27,
          29,
          30,
          31,
          33,
          37,
          42,
          44,
          48,
          49,
          52,
          54,
          56,
          1,
          2,
          3,
          4,
          5,
          6,
          7,
          8,
          9,
          10,
          11,
          12,
          13,
          14,
          15,
          16,
          18,
          19,
          21,
          23,
          25,
          26,
          27,
          38,
          40,
          43,
          45,
          47,
          48,
          49,
          51,
          55,
          1,
          2,
          3,
          4,
          5,
          6,
          7,
          8,
          9,
          10,
          11,
          12,
          13,
          14,
          15,
          16,
          17,
          19,
          20,
          21,
          22,
          23,
          24,
          25,
          27,
          28,
          29,
          30,
          31,
          32,
          33,
          34,
          35,
          36,
          39,
          41,
          43,
          44,
          52,
          53,
          54,
          55,
          58,
          1,
          2,
          3,
          4,
          5,
          6,
          7,
          8,
          9,
          10,
          11,
          13,
          14,
          16,
          17,
          18,
          19,
          20,
          21,
          22,
          23,
          24,
          26,
          27,
          28,
          32,
          34,
          35,
          36,
          37,
          38,
          40,
          41,
          43,
          47,
          53,
          57,
          1,
          2,
          3,
          4,
          5,
          6,
          7,
          8,
          9,
          10,
          11,
          12,
          13,
          14,
          15,
          16,
          17,
          18,
          19,
          20,
          21,
          22,
          23,
          24,
          25,
          27,
          29,
          30,
          31,
          33,
          37,
          38,
          40,
          42,
          43,
          44,
          45,
          49,
          1,
          2,
          3,
          4,
          5,
          6,
          7,
          8,
          9,
          10,
          11,
          12,
          13,
          14,
          15,
          17,
          18,
          19,
          20,
          22,
          23,
          24,
          25,
          26,
          27,
          28,
          30,
          31,
          33,
          34,
          35,
          38,
          40,
          42,
          46,
          53,
          1,
          3,
          4,
          5,
          6,
          7,
          8,
          9,
          10,
          11,
          12,
          13,
          14,
          15,
          16,
          17,
          18,
          19,
          20,
          21,
          22,
          23,
          24,
          25,
          26,
          28,
          31,
          34,
          35,
          37,
          40,
          42,
          44,
          46,
          50,
          53,
          56,
          1,
          2,
          3,
          4,
          5,
          6,
          7,
          8,
          9,
          10,
          11,
          12,
          13,
          14,
          17,
          18,
          19,
          20,
          21,
          22,
          23,
          24,
          25,
          27,
          28,
          29,
          31,
          32,
          38,
          41,
          42,
          43,
          45,
          47,
          49,
          51,
          1,
          2,
          3,
          4,
          5,
          6,
          7,
          8,
          9,
          11,
          12,
          13,
          14,
          15,
          16,
          17,
          18,
          19,
          20,
          22,
          24,
          25,
          26,
          27,
          28,
          29,
          30,
          31,
          37,
          38,
          40,
          43,
          45,
          1,
          2,
          3,
          4,
          5,
          6,
          7,
          8,
          9,
          10,
          13,
          14,
          15,
          16,
          17,
          18,
          19,
          21,
          22,
          23,
          24,
          25,
          26,
          27,
          28,
          30,
          31,
          32,
          33,
          34,
          36,
          37,
          38,
          39,
          40,
          41,
          45,
          48,
          49,
          50,
          53,
          55,
          56,
          57,
          1,
          2,
          3,
          4,
          5,
          6,
          7,
          8,
          9,
          11,
          12,
          13,
          14,
          16,
          17,
          18,
          19,
          20,
          21,
          22,
          23,
          24,
          25,
          26,
          27,
          28,
          29,
          30,
          32,
          33,
          34,
          35,
          36,
          37,
          42,
          45,
          47,
          49,
          50,
          1,
          2,
          3,
          4,
          5,
          6,
          7,
          8,
          9,
          10,
          11,
          12,
          13,
          14,
          15,
          16,
          17,
          18,
          19,
          20,
          21,
          22,
          23,
          24,
          26,
          27,
          28,
          31,
          35,
          37,
          38,
          47,
          48,
          49,
          56,
          1,
          2,
          3,
          4,
          5,
          6,
          7,
          9,
          10,
          11,
          12,
          13,
          14,
          15,
          16,
          17,
          18,
          19,
          20,
          21,
          22,
          23,
          24,
          25,
          26,
          27,
          28,
          29,
          31,
          33,
          34,
          35,
          36,
          37,
          39,
          40,
          45,
          47,
          52,
          1,
          2,
          3,
          4,
          5,
          6,
          7,
          8,
          9,
          10,
          11,
          12,
          13,
          14,
          15,
          16,
          17,
          18,
          19,
          20,
          21,
          23,
          24,
          25,
          26,
          27,
          28,
          29,
          31,
          33,
          35,
          36,
          37,
          38,
          39,
          40,
          41,
          42,
          43,
          44,
          45,
          46,
          52,
          53,
          55,
          1,
          2,
          3,
          4,
          5,
          6,
          7,
          8,
          9,
          10,
          11,
          12,
          13,
          14,
          15,
          16,
          17,
          18,
          19,
          20,
          22,
          23,
          26,
          27,
          28,
          33,
          35,
          39,
          40,
          55,
          1,
          2,
          3,
          4,
          5,
          6,
          7,
          8,
          9,
          10,
          11,
          12,
          13,
          14,
          15,
          16,
          17,
          18,
          19,
          20,
          21,
          22,
          23,
          24,
          25,
          26,
          28,
          29,
          30,
          31,
          33,
          34,
          38,
          39,
          40,
          41,
          42,
          44,
          50,
          53,
          55,
          60,
          1,
          2,
          3,
          4,
          5,
          6,
          7,
          8,
          9,
          10,
          11,
          12,
          13,
          14,
          15,
          17,
          18,
          19,
          20,
          21,
          23,
          24,
          25,
          26,
          28,
          29,
          30,
          31,
          32,
          33,
          34,
          35,
          36,
          37,
          39,
          40,
          42,
          43,
          45,
          46,
          49,
          58,
          60,
          1,
          2,
          3,
          4,
          5,
          6,
          7,
          8,
          9,
          10,
          11,
          12,
          13,
          14,
          15,
          16,
          17,
          18,
          19,
          20,
          21,
          22,
          23,
          24,
          25,
          26,
          27,
          29,
          31,
          32,
          34,
          36,
          38,
          39,
          44,
          47,
          48,
          50,
          52,
          55,
          1,
          2,
          3,
          4,
          5,
          6,
          7,
          8,
          9,
          10,
          11,
          12,
          13,
          14,
          15,
          16,
          17,
          18,
          19,
          20,
          23,
          24,
          25,
          26,
          27,
          30,
          32,
          33,
          36,
          38,
          39,
          40,
          41,
          44,
          45,
          46,
          51,
          58,
          1,
          2,
          3,
          4,
          5,
          6,
          7,
          8,
          9,
          10,
          11,
          12,
          13,
          14,
          15,
          16,
          17,
          18,
          19,
          20,
          21,
          22,
          23,
          24,
          25,
          27,
          30,
          31,
          32,
          35,
          37,
          38,
          40,
          41,
          43,
          44,
          46,
          1,
          2,
          3,
          4,
          5,
          6,
          7,
          8,
          9,
          10,
          11,
          12,
          14,
          15,
          18,
          19,
          20,
          21,
          23,
          24,
          26,
          27,
          28,
          29,
          30,
          31,
          32,
          33,
          34,
          36,
          38,
          42,
          47,
          48,
          50,
          58,
          60,
          1,
          2,
          3,
          4,
          5,
          6,
          7,
          8,
          9,
          10,
          11,
          12,
          13,
          14,
          15,
          17,
          18,
          19,
          20,
          21,
          22,
          23,
          27,
          28,
          29,
          30,
          31,
          32,
          33,
          34,
          35,
          37,
          38,
          40,
          41,
          42,
          43,
          44,
          45,
          46,
          48,
          49,
          51,
          52,
          1,
          2,
          3,
          4,
          5,
          6,
          7,
          8,
          9,
          10,
          11,
          12,
          13,
          14,
          15,
          17,
          18,
          19,
          20,
          21,
          22,
          23,
          24,
          25,
          26,
          27,
          30,
          31,
          32,
          33,
          34,
          36,
          37,
          39,
          40,
          41,
          42,
          45,
          46,
          47,
          48,
          49,
          54,
          1,
          2,
          3,
          4,
          5,
          6,
          7,
          8,
          9,
          10,
          11,
          12,
          13,
          14,
          15,
          16,
          17,
          18,
          20,
          21,
          22,
          23,
          24,
          25,
          26,
          28,
          29,
          30,
          31,
          32,
          34,
          36,
          38,
          41,
          42,
          43,
          44,
          45,
          46,
          48,
          52,
          1,
          2,
          3,
          4,
          5,
          6,
          7,
          8,
          9,
          10,
          11,
          12,
          13,
          14,
          15,
          16,
          17,
          18,
          19,
          20,
          21,
          22,
          24,
          25,
          26,
          28,
          29,
          30,
          34,
          35,
          38,
          41,
          42,
          45,
          46,
          49,
          52,
          58,
          2,
          3,
          4,
          5,
          6,
          7,
          8,
          9,
          10,
          13,
          14,
          15,
          16,
          17,
          18,
          20,
          22,
          23,
          24,
          25,
          26,
          27,
          30,
          32,
          35,
          36,
          37,
          38,
          44,
          46,
          54,
          55,
          58,
          17
         ],
         "xaxis": "x",
         "y": [
          5624,
          1837,
          2109,
          6471,
          4361,
          3170,
          622,
          1295,
          252,
          817,
          46,
          418,
          6306,
          1408,
          10335,
          1024,
          1369,
          281,
          670,
          955,
          57,
          3804,
          50,
          474,
          77,
          224,
          443,
          63,
          1233,
          2514,
          415,
          684,
          139,
          36,
          63,
          1007,
          110,
          4225,
          900,
          5636,
          2934,
          522,
          921,
          1272,
          344,
          4161,
          301,
          266,
          627,
          2083,
          623,
          244,
          4481,
          127,
          220,
          1129,
          1945,
          60,
          124,
          1919,
          311,
          2274,
          2634,
          419,
          108,
          1877,
          225,
          154,
          513,
          327,
          5517,
          606,
          1761,
          4714,
          312,
          4611,
          2290,
          3651,
          4708,
          1249,
          343,
          322,
          553,
          907,
          524,
          836,
          443,
          124,
          2426,
          288,
          1727,
          252,
          1649,
          94,
          143,
          375,
          62,
          1150,
          1765,
          135,
          765,
          18,
          118,
          3202,
          2015,
          63,
          50,
          63,
          719,
          54,
          250,
          26,
          2184,
          3473,
          6025,
          3554,
          170,
          1532,
          3125,
          8524,
          2198,
          5415,
          152,
          1696,
          199,
          2631,
          29,
          1413,
          96,
          455,
          703,
          975,
          543,
          2169,
          534,
          408,
          325,
          250,
          76,
          151,
          39,
          31,
          166,
          584,
          260,
          298,
          121,
          179,
          4001,
          1439,
          275,
          840,
          352,
          2666,
          304,
          223,
          4541,
          256,
          1601,
          38,
          149,
          227,
          310,
          51,
          2832,
          1049,
          1138,
          386,
          1441,
          1090,
          161,
          1355,
          37,
          101,
          179,
          181,
          1600,
          39,
          237,
          1112,
          493,
          75,
          11,
          1338,
          465,
          66,
          774,
          554,
          967,
          3925,
          287,
          2284,
          1717,
          236,
          270,
          237,
          5001,
          103,
          998,
          2412,
          1088,
          79,
          93,
          626,
          2049,
          442,
          67,
          24,
          428,
          1725,
          465,
          3330,
          7036,
          1132,
          2909,
          225,
          93,
          436,
          1089,
          3871,
          710,
          74,
          419,
          769,
          2185,
          896,
          114,
          195,
          1719,
          455,
          1050,
          2007,
          798,
          261,
          16,
          990,
          283,
          375,
          775,
          64,
          18,
          353,
          105,
          304,
          2406,
          346,
          166,
          2183,
          752,
          677,
          196,
          1928,
          57,
          177,
          1096,
          40,
          1691,
          589,
          658,
          1194,
          10420,
          405,
          3422,
          1795,
          5701,
          921,
          4245,
          2495,
          145,
          459,
          445,
          939,
          728,
          3713,
          85,
          2273,
          517,
          529,
          3684,
          165,
          514,
          252,
          887,
          813,
          1775,
          817,
          417,
          1317,
          3446,
          1018,
          1433,
          866,
          552,
          3990,
          366,
          2114,
          1676,
          520,
          1868,
          2483,
          3869,
          609,
          2042,
          41,
          5147,
          467,
          20,
          1960,
          556,
          1347,
          241,
          2789,
          2077,
          850,
          4508,
          142,
          1540,
          1077,
          1352,
          748,
          2858,
          47,
          737,
          51,
          501,
          2690,
          68,
          2379,
          126,
          1546,
          1373,
          6819,
          11501,
          5096,
          588,
          549,
          864,
          69,
          490,
          115,
          331,
          295,
          207,
          1097,
          596,
          400,
          1826,
          3952,
          747,
          747,
          227,
          266,
          321,
          357,
          1825,
          164,
          174,
          608,
          914,
          908,
          618,
          432,
          146,
          3856,
          165,
          3789,
          115,
          798,
          712,
          155,
          35,
          1073,
          915,
          653,
          2076,
          222,
          347,
          163,
          1517,
          2112,
          2280,
          25,
          1862,
          102,
          1196,
          828,
          132,
          220,
          20,
          93,
          132,
          7584,
          574,
          125,
          6750,
          458,
          1453,
          1183,
          19,
          327,
          65,
          132,
          99,
          32,
          1209,
          322,
          44,
          775,
          30,
          2378,
          78,
          151,
          51,
          4267,
          3333,
          5857,
          1694,
          192,
          1250,
          199,
          1907,
          1271,
          309,
          2078,
          182,
          353,
          2333,
          687,
          47,
          1429,
          201,
          453,
          243,
          1394,
          1205,
          554,
          1925,
          1386,
          423,
          355,
          457,
          901,
          40,
          422,
          2996,
          207,
          2807,
          3692,
          788,
          1607,
          9162,
          2036,
          1414,
          2304,
          3761,
          1345,
          1674,
          635,
          468,
          187,
          815,
          461,
          885,
          369,
          449,
          143,
          586,
          1353,
          359,
          749,
          3336,
          2807,
          409,
          183,
          80,
          199,
          55,
          2412,
          966,
          280,
          588,
          257,
          254,
          4405,
          153,
          26,
          3055,
          27,
          7015,
          2852,
          5160,
          634,
          5740,
          322,
          4106,
          3151,
          364,
          1009,
          181,
          134,
          212,
          1598,
          5868,
          3316,
          4585,
          760,
          3545,
          662,
          153,
          374,
          914,
          726,
          852,
          889,
          99,
          506,
          29,
          180,
          349,
          49,
          525,
          119,
          583,
          2033,
          677,
          473,
          353,
          1276,
          567,
          203,
          1950,
          5735,
          2462,
          851,
          645,
          1979,
          260,
          1376,
          879,
          2782,
          2929,
          183,
          120,
          539,
          736,
          174,
          224,
          246,
          3545,
          1105,
          291,
          94,
          566,
          263,
          883,
          1935,
          327,
          826,
          419,
          1621,
          107,
          3834,
          293,
          638,
          725,
          964,
          96,
          498,
          1777,
          3938,
          331,
          1667,
          1378,
          1184,
          1199,
          1876,
          2302,
          845,
          92,
          1914,
          269,
          97,
          470,
          407,
          3253,
          282,
          127,
          981,
          2403,
          3176,
          1097,
          272,
          1421,
          1201,
          25,
          301,
          189,
          413,
          214,
          384,
          122,
          1055,
          2638,
          1562,
          515,
          2972,
          1163,
          190,
          5151,
          1504,
          936,
          1036,
          1513,
          396,
          904,
          779,
          496,
          572,
          367,
          238,
          126,
          1711,
          477,
          138,
          39,
          437,
          178,
          54,
          134,
          63,
          107,
          1586,
          13,
          1209,
          4233,
          69,
          217,
          2624,
          1817,
          75,
          499,
          91,
          367,
          643,
          50,
          126,
          77,
          1970,
          775,
          701,
          501,
          501,
          563,
          1333,
          1522,
          2473,
          1708,
          1079,
          1500,
          151,
          3379,
          72,
          3205,
          737,
          87,
          669,
          837,
          1856,
          662,
          1224,
          632,
          265,
          894,
          206,
          434,
          88,
          454,
          368,
          209,
          64,
          428,
          913,
          215,
          373,
          183,
          180,
          1478,
          610,
          1354,
          1516,
          515,
          2700,
          2158,
          515,
          264,
          2868,
          587,
          773,
          2187,
          437,
          66,
          1052,
          28,
          359,
          1024,
          72,
          736,
          849,
          523,
          59,
          1223,
          1502,
          95,
          780,
          69,
          2448,
          897,
          238,
          3959,
          132,
          593,
          1796,
          98,
          167,
          1626,
          2807,
          225,
          711,
          415,
          598,
          1143,
          679,
          651,
          889,
          602,
          543,
          2521,
          1119,
          538,
          1828,
          75,
          160,
          805,
          1440,
          184,
          642,
          579,
          2108,
          114,
          866,
          705,
          814,
          675,
          364,
          412,
          71,
          1346,
          598,
          119,
          399,
          734,
          2383,
          1674,
          1054,
          237,
          1153,
          1405,
          1722,
          298,
          798,
          161,
          2066,
          731,
          466,
          216,
          49,
          542,
          1544,
          533,
          64,
          293,
          366,
          1656,
          152,
          1988,
          178,
          47,
          487,
          78,
          537,
          1844,
          270,
          212,
          127,
          82,
          325,
          110,
          127,
          964,
          1563,
          1448,
          534,
          2452,
          152,
          477,
          689,
          1178,
          380,
          925,
          694,
          1843,
          1429,
          285,
          108,
          43,
          540,
          174,
          144,
          580,
          560,
          998,
          90,
          1327,
          904,
          222,
          92,
          208,
          272,
          86,
          126,
          201,
          230,
          135,
          250,
          350,
          315,
          735,
          268,
          111,
          114,
          1368,
          182,
          495,
          187,
          2631,
          300,
          3285,
          247,
          536,
          858,
          205,
          912,
          1411,
          656,
          131,
          198,
          448,
          758,
          394,
          1092,
          383,
          448,
          79,
          677,
          673,
          301,
          516,
          299,
          94,
          242,
          517,
          1455,
          1399,
          181,
          393,
          118,
          113,
          359,
          841,
          282,
          857,
          351,
          203,
          151,
          694,
          409,
          1830,
          769,
          318,
          1679,
          173,
          883,
          168,
          275,
          227,
          332,
          606,
          848,
          97,
          66,
          256,
          455,
          154,
          270,
          334,
          341,
          275,
          408,
          149,
          68,
          906,
          477,
          987,
          231,
          47,
          97,
          371,
          202,
          214,
          71,
          343,
          87,
          216,
          592,
          550,
          254,
          836,
          56,
          1188,
          214,
          336,
          152,
          885,
          172,
          441,
          94,
          328,
          1522,
          196,
          143,
          796,
          211,
          292,
          210,
          446,
          161,
          653,
          45,
          299,
          681,
          323,
          298,
          277,
          580,
          490,
          233,
          348,
          720,
          53,
          154,
          97,
          143,
          272,
          55,
          457,
          398,
          627,
          364,
          814,
          189,
          514,
          498,
          100,
          178,
          74,
          172,
          476,
          150,
          211,
          86,
          61,
          81,
          223,
          194,
          363,
          156,
          118,
          92,
          329,
          113,
          55,
          462,
          54,
          135,
          84,
          148,
          46,
          88
         ],
         "yaxis": "y"
        },
        {
         "hovertemplate": "<b>%{hovertext}</b><br><br>Pk=%{x}<br>AST=%{y}<extra></extra>",
         "hovertext": [
          1,
          2,
          3,
          4,
          5,
          6,
          7,
          8,
          9,
          10,
          11,
          12,
          13,
          14,
          15,
          16,
          17,
          18,
          19,
          20,
          21,
          22,
          23,
          24,
          25,
          26,
          27,
          28,
          29,
          30,
          31,
          32,
          33,
          34,
          35,
          36,
          37,
          38,
          39,
          40,
          41,
          42,
          43,
          44,
          45,
          46,
          47,
          48,
          49,
          50,
          51,
          52,
          53,
          54,
          55,
          56,
          57,
          58,
          59,
          60
         ],
         "legendgroup": "",
         "marker": {
          "color": "yellow",
          "size": 12,
          "symbol": "circle"
         },
         "mode": "markers",
         "name": "",
         "orientation": "v",
         "showlegend": false,
         "type": "scatter",
         "x": [
          1,
          2,
          3,
          4,
          5,
          6,
          7,
          8,
          9,
          10,
          11,
          12,
          13,
          14,
          15,
          16,
          17,
          18,
          19,
          20,
          21,
          22,
          23,
          24,
          25,
          26,
          27,
          28,
          29,
          30,
          31,
          32,
          33,
          34,
          35,
          36,
          37,
          38,
          39,
          40,
          41,
          42,
          43,
          44,
          45,
          46,
          47,
          48,
          49,
          50,
          51,
          52,
          53,
          54,
          55,
          56,
          57,
          58,
          59,
          60
         ],
         "xaxis": "x",
         "y": [
          2085.5925925925926,
          1377.7407407407406,
          2222.814814814815,
          2149.6666666666665,
          1954.4444444444443,
          977.4444444444445,
          1558.4444444444443,
          1219.111111111111,
          1507.2222222222222,
          1464.0740740740741,
          670.0370370370371,
          627.8518518518518,
          1107.4814814814815,
          662.4074074074074,
          947.074074074074,
          805.9629629629629,
          809.7407407407408,
          738.8148148148148,
          693.8518518518518,
          648.6296296296297,
          995.1851851851852,
          511.6296296296296,
          610,
          1012.5185185185185,
          507.81481481481484,
          561,
          690.925925925926,
          717.5185185185185,
          416.25,
          530.5555555555555,
          359.962962962963,
          285.2962962962963,
          249,
          399.51851851851853,
          421.0740740740741,
          187.66666666666666,
          300.7037037037037,
          533.1111111111111,
          316.77777777777777,
          634.3333333333334,
          386.55555555555554,
          315.44444444444446,
          360.6296296296296,
          125.55555555555556,
          442.037037037037,
          302.1111111111111,
          322.6666666666667,
          243.40740740740742,
          136.11111111111111,
          101.22222222222223,
          150.33333333333334,
          68.07407407407408,
          101.25925925925925,
          81.5925925925926,
          171,
          198.11111111111111,
          189.92592592592592,
          21.48148148148148,
          4.222222222222222,
          177.2941176470588
         ],
         "yaxis": "y"
        },
        {
         "customdata": [
          [
           "Jaylen Brown",
           -1095.6666666666665,
           931
          ]
         ],
         "hovertemplate": "<b>%{hovertext}</b><br><br>Pk=%{x}<br>AST=%{y}<br>AST_diff=%{customdata[1]}<br>AST_rank=%{customdata[2]}<extra></extra>",
         "hovertext": [
          "Jaylen Brown"
         ],
         "legendgroup": "",
         "marker": {
          "color": "red",
          "size": 12,
          "symbol": "circle"
         },
         "mode": "markers",
         "name": "",
         "orientation": "v",
         "showlegend": false,
         "type": "scatter",
         "x": [
          3
         ],
         "xaxis": "x",
         "y": [
          1054
         ],
         "yaxis": "y"
        }
       ],
       "layout": {
        "legend": {
         "tracegroupgap": 0
        },
        "margin": {
         "t": 60
        },
        "template": {
         "data": {
          "bar": [
           {
            "error_x": {
             "color": "#2a3f5f"
            },
            "error_y": {
             "color": "#2a3f5f"
            },
            "marker": {
             "line": {
              "color": "#E5ECF6",
              "width": 0.5
             },
             "pattern": {
              "fillmode": "overlay",
              "size": 10,
              "solidity": 0.2
             }
            },
            "type": "bar"
           }
          ],
          "barpolar": [
           {
            "marker": {
             "line": {
              "color": "#E5ECF6",
              "width": 0.5
             },
             "pattern": {
              "fillmode": "overlay",
              "size": 10,
              "solidity": 0.2
             }
            },
            "type": "barpolar"
           }
          ],
          "carpet": [
           {
            "aaxis": {
             "endlinecolor": "#2a3f5f",
             "gridcolor": "white",
             "linecolor": "white",
             "minorgridcolor": "white",
             "startlinecolor": "#2a3f5f"
            },
            "baxis": {
             "endlinecolor": "#2a3f5f",
             "gridcolor": "white",
             "linecolor": "white",
             "minorgridcolor": "white",
             "startlinecolor": "#2a3f5f"
            },
            "type": "carpet"
           }
          ],
          "choropleth": [
           {
            "colorbar": {
             "outlinewidth": 0,
             "ticks": ""
            },
            "type": "choropleth"
           }
          ],
          "contour": [
           {
            "colorbar": {
             "outlinewidth": 0,
             "ticks": ""
            },
            "colorscale": [
             [
              0,
              "#0d0887"
             ],
             [
              0.1111111111111111,
              "#46039f"
             ],
             [
              0.2222222222222222,
              "#7201a8"
             ],
             [
              0.3333333333333333,
              "#9c179e"
             ],
             [
              0.4444444444444444,
              "#bd3786"
             ],
             [
              0.5555555555555556,
              "#d8576b"
             ],
             [
              0.6666666666666666,
              "#ed7953"
             ],
             [
              0.7777777777777778,
              "#fb9f3a"
             ],
             [
              0.8888888888888888,
              "#fdca26"
             ],
             [
              1,
              "#f0f921"
             ]
            ],
            "type": "contour"
           }
          ],
          "contourcarpet": [
           {
            "colorbar": {
             "outlinewidth": 0,
             "ticks": ""
            },
            "type": "contourcarpet"
           }
          ],
          "heatmap": [
           {
            "colorbar": {
             "outlinewidth": 0,
             "ticks": ""
            },
            "colorscale": [
             [
              0,
              "#0d0887"
             ],
             [
              0.1111111111111111,
              "#46039f"
             ],
             [
              0.2222222222222222,
              "#7201a8"
             ],
             [
              0.3333333333333333,
              "#9c179e"
             ],
             [
              0.4444444444444444,
              "#bd3786"
             ],
             [
              0.5555555555555556,
              "#d8576b"
             ],
             [
              0.6666666666666666,
              "#ed7953"
             ],
             [
              0.7777777777777778,
              "#fb9f3a"
             ],
             [
              0.8888888888888888,
              "#fdca26"
             ],
             [
              1,
              "#f0f921"
             ]
            ],
            "type": "heatmap"
           }
          ],
          "heatmapgl": [
           {
            "colorbar": {
             "outlinewidth": 0,
             "ticks": ""
            },
            "colorscale": [
             [
              0,
              "#0d0887"
             ],
             [
              0.1111111111111111,
              "#46039f"
             ],
             [
              0.2222222222222222,
              "#7201a8"
             ],
             [
              0.3333333333333333,
              "#9c179e"
             ],
             [
              0.4444444444444444,
              "#bd3786"
             ],
             [
              0.5555555555555556,
              "#d8576b"
             ],
             [
              0.6666666666666666,
              "#ed7953"
             ],
             [
              0.7777777777777778,
              "#fb9f3a"
             ],
             [
              0.8888888888888888,
              "#fdca26"
             ],
             [
              1,
              "#f0f921"
             ]
            ],
            "type": "heatmapgl"
           }
          ],
          "histogram": [
           {
            "marker": {
             "pattern": {
              "fillmode": "overlay",
              "size": 10,
              "solidity": 0.2
             }
            },
            "type": "histogram"
           }
          ],
          "histogram2d": [
           {
            "colorbar": {
             "outlinewidth": 0,
             "ticks": ""
            },
            "colorscale": [
             [
              0,
              "#0d0887"
             ],
             [
              0.1111111111111111,
              "#46039f"
             ],
             [
              0.2222222222222222,
              "#7201a8"
             ],
             [
              0.3333333333333333,
              "#9c179e"
             ],
             [
              0.4444444444444444,
              "#bd3786"
             ],
             [
              0.5555555555555556,
              "#d8576b"
             ],
             [
              0.6666666666666666,
              "#ed7953"
             ],
             [
              0.7777777777777778,
              "#fb9f3a"
             ],
             [
              0.8888888888888888,
              "#fdca26"
             ],
             [
              1,
              "#f0f921"
             ]
            ],
            "type": "histogram2d"
           }
          ],
          "histogram2dcontour": [
           {
            "colorbar": {
             "outlinewidth": 0,
             "ticks": ""
            },
            "colorscale": [
             [
              0,
              "#0d0887"
             ],
             [
              0.1111111111111111,
              "#46039f"
             ],
             [
              0.2222222222222222,
              "#7201a8"
             ],
             [
              0.3333333333333333,
              "#9c179e"
             ],
             [
              0.4444444444444444,
              "#bd3786"
             ],
             [
              0.5555555555555556,
              "#d8576b"
             ],
             [
              0.6666666666666666,
              "#ed7953"
             ],
             [
              0.7777777777777778,
              "#fb9f3a"
             ],
             [
              0.8888888888888888,
              "#fdca26"
             ],
             [
              1,
              "#f0f921"
             ]
            ],
            "type": "histogram2dcontour"
           }
          ],
          "mesh3d": [
           {
            "colorbar": {
             "outlinewidth": 0,
             "ticks": ""
            },
            "type": "mesh3d"
           }
          ],
          "parcoords": [
           {
            "line": {
             "colorbar": {
              "outlinewidth": 0,
              "ticks": ""
             }
            },
            "type": "parcoords"
           }
          ],
          "pie": [
           {
            "automargin": true,
            "type": "pie"
           }
          ],
          "scatter": [
           {
            "fillpattern": {
             "fillmode": "overlay",
             "size": 10,
             "solidity": 0.2
            },
            "type": "scatter"
           }
          ],
          "scatter3d": [
           {
            "line": {
             "colorbar": {
              "outlinewidth": 0,
              "ticks": ""
             }
            },
            "marker": {
             "colorbar": {
              "outlinewidth": 0,
              "ticks": ""
             }
            },
            "type": "scatter3d"
           }
          ],
          "scattercarpet": [
           {
            "marker": {
             "colorbar": {
              "outlinewidth": 0,
              "ticks": ""
             }
            },
            "type": "scattercarpet"
           }
          ],
          "scattergeo": [
           {
            "marker": {
             "colorbar": {
              "outlinewidth": 0,
              "ticks": ""
             }
            },
            "type": "scattergeo"
           }
          ],
          "scattergl": [
           {
            "marker": {
             "colorbar": {
              "outlinewidth": 0,
              "ticks": ""
             }
            },
            "type": "scattergl"
           }
          ],
          "scattermapbox": [
           {
            "marker": {
             "colorbar": {
              "outlinewidth": 0,
              "ticks": ""
             }
            },
            "type": "scattermapbox"
           }
          ],
          "scatterpolar": [
           {
            "marker": {
             "colorbar": {
              "outlinewidth": 0,
              "ticks": ""
             }
            },
            "type": "scatterpolar"
           }
          ],
          "scatterpolargl": [
           {
            "marker": {
             "colorbar": {
              "outlinewidth": 0,
              "ticks": ""
             }
            },
            "type": "scatterpolargl"
           }
          ],
          "scatterternary": [
           {
            "marker": {
             "colorbar": {
              "outlinewidth": 0,
              "ticks": ""
             }
            },
            "type": "scatterternary"
           }
          ],
          "surface": [
           {
            "colorbar": {
             "outlinewidth": 0,
             "ticks": ""
            },
            "colorscale": [
             [
              0,
              "#0d0887"
             ],
             [
              0.1111111111111111,
              "#46039f"
             ],
             [
              0.2222222222222222,
              "#7201a8"
             ],
             [
              0.3333333333333333,
              "#9c179e"
             ],
             [
              0.4444444444444444,
              "#bd3786"
             ],
             [
              0.5555555555555556,
              "#d8576b"
             ],
             [
              0.6666666666666666,
              "#ed7953"
             ],
             [
              0.7777777777777778,
              "#fb9f3a"
             ],
             [
              0.8888888888888888,
              "#fdca26"
             ],
             [
              1,
              "#f0f921"
             ]
            ],
            "type": "surface"
           }
          ],
          "table": [
           {
            "cells": {
             "fill": {
              "color": "#EBF0F8"
             },
             "line": {
              "color": "white"
             }
            },
            "header": {
             "fill": {
              "color": "#C8D4E3"
             },
             "line": {
              "color": "white"
             }
            },
            "type": "table"
           }
          ]
         },
         "layout": {
          "annotationdefaults": {
           "arrowcolor": "#2a3f5f",
           "arrowhead": 0,
           "arrowwidth": 1
          },
          "autotypenumbers": "strict",
          "coloraxis": {
           "colorbar": {
            "outlinewidth": 0,
            "ticks": ""
           }
          },
          "colorscale": {
           "diverging": [
            [
             0,
             "#8e0152"
            ],
            [
             0.1,
             "#c51b7d"
            ],
            [
             0.2,
             "#de77ae"
            ],
            [
             0.3,
             "#f1b6da"
            ],
            [
             0.4,
             "#fde0ef"
            ],
            [
             0.5,
             "#f7f7f7"
            ],
            [
             0.6,
             "#e6f5d0"
            ],
            [
             0.7,
             "#b8e186"
            ],
            [
             0.8,
             "#7fbc41"
            ],
            [
             0.9,
             "#4d9221"
            ],
            [
             1,
             "#276419"
            ]
           ],
           "sequential": [
            [
             0,
             "#0d0887"
            ],
            [
             0.1111111111111111,
             "#46039f"
            ],
            [
             0.2222222222222222,
             "#7201a8"
            ],
            [
             0.3333333333333333,
             "#9c179e"
            ],
            [
             0.4444444444444444,
             "#bd3786"
            ],
            [
             0.5555555555555556,
             "#d8576b"
            ],
            [
             0.6666666666666666,
             "#ed7953"
            ],
            [
             0.7777777777777778,
             "#fb9f3a"
            ],
            [
             0.8888888888888888,
             "#fdca26"
            ],
            [
             1,
             "#f0f921"
            ]
           ],
           "sequentialminus": [
            [
             0,
             "#0d0887"
            ],
            [
             0.1111111111111111,
             "#46039f"
            ],
            [
             0.2222222222222222,
             "#7201a8"
            ],
            [
             0.3333333333333333,
             "#9c179e"
            ],
            [
             0.4444444444444444,
             "#bd3786"
            ],
            [
             0.5555555555555556,
             "#d8576b"
            ],
            [
             0.6666666666666666,
             "#ed7953"
            ],
            [
             0.7777777777777778,
             "#fb9f3a"
            ],
            [
             0.8888888888888888,
             "#fdca26"
            ],
            [
             1,
             "#f0f921"
            ]
           ]
          },
          "colorway": [
           "#636efa",
           "#EF553B",
           "#00cc96",
           "#ab63fa",
           "#FFA15A",
           "#19d3f3",
           "#FF6692",
           "#B6E880",
           "#FF97FF",
           "#FECB52"
          ],
          "font": {
           "color": "#2a3f5f"
          },
          "geo": {
           "bgcolor": "white",
           "lakecolor": "white",
           "landcolor": "#E5ECF6",
           "showlakes": true,
           "showland": true,
           "subunitcolor": "white"
          },
          "hoverlabel": {
           "align": "left"
          },
          "hovermode": "closest",
          "mapbox": {
           "style": "light"
          },
          "paper_bgcolor": "white",
          "plot_bgcolor": "#E5ECF6",
          "polar": {
           "angularaxis": {
            "gridcolor": "white",
            "linecolor": "white",
            "ticks": ""
           },
           "bgcolor": "#E5ECF6",
           "radialaxis": {
            "gridcolor": "white",
            "linecolor": "white",
            "ticks": ""
           }
          },
          "scene": {
           "xaxis": {
            "backgroundcolor": "#E5ECF6",
            "gridcolor": "white",
            "gridwidth": 2,
            "linecolor": "white",
            "showbackground": true,
            "ticks": "",
            "zerolinecolor": "white"
           },
           "yaxis": {
            "backgroundcolor": "#E5ECF6",
            "gridcolor": "white",
            "gridwidth": 2,
            "linecolor": "white",
            "showbackground": true,
            "ticks": "",
            "zerolinecolor": "white"
           },
           "zaxis": {
            "backgroundcolor": "#E5ECF6",
            "gridcolor": "white",
            "gridwidth": 2,
            "linecolor": "white",
            "showbackground": true,
            "ticks": "",
            "zerolinecolor": "white"
           }
          },
          "shapedefaults": {
           "line": {
            "color": "#2a3f5f"
           }
          },
          "ternary": {
           "aaxis": {
            "gridcolor": "white",
            "linecolor": "white",
            "ticks": ""
           },
           "baxis": {
            "gridcolor": "white",
            "linecolor": "white",
            "ticks": ""
           },
           "bgcolor": "#E5ECF6",
           "caxis": {
            "gridcolor": "white",
            "linecolor": "white",
            "ticks": ""
           }
          },
          "title": {
           "x": 0.05
          },
          "xaxis": {
           "automargin": true,
           "gridcolor": "white",
           "linecolor": "white",
           "ticks": "",
           "title": {
            "standoff": 15
           },
           "zerolinecolor": "white",
           "zerolinewidth": 2
          },
          "yaxis": {
           "automargin": true,
           "gridcolor": "white",
           "linecolor": "white",
           "ticks": "",
           "title": {
            "standoff": 15
           },
           "zerolinecolor": "white",
           "zerolinewidth": 2
          }
         }
        },
        "title": {
         "text": "AST vs Draft Pick for Players with at least 82 Games Played"
        },
        "xaxis": {
         "anchor": "y",
         "domain": [
          0,
          1
         ],
         "title": {
          "text": "Draft Pick"
         }
        },
        "yaxis": {
         "anchor": "x",
         "domain": [
          0,
          1
         ],
         "title": {
          "text": "AST"
         }
        }
       }
      }
     },
     "metadata": {},
     "output_type": "display_data"
    }
   ],
   "source": [
    "# create a combobox widget with all 'Player' values\n",
    "player_widget_total_scatter = widgets.Combobox(\n",
    "    placeholder='Choose a Player',\n",
    "    options=df_career_na_filled['Player'].unique().tolist(),\n",
    "    description='Player:',\n",
    "    ensure_option=True,\n",
    "    disabled=False\n",
    ")\n",
    "\n",
    "# create a dropdown widget with all relevant stats\n",
    "stat_dropdown_total_scatter = widgets.Dropdown(\n",
    "    options=relevant_stats,\n",
    "    description='Select Stat:',\n",
    "    disabled=False,\n",
    ")\n",
    "\n",
    "# Define the output area to display the scatter plot\n",
    "output_total_scatter = widgets.Output()\n",
    "\n",
    "# Function to update the output area based on the selected stat\n",
    "def on_value_change_total_scatter(change):\n",
    "    clear_output()\n",
    "    output_total_scatter.clear_output()\n",
    "    selected_stat = stat_dropdown_total_scatter.value\n",
    "    selected_player = player_widget_total_scatter.value\n",
    "\n",
    "    display(player_widget_total_scatter)\n",
    "    display(stat_dropdown_total_scatter)\n",
    "    with output_total_scatter:\n",
    "        fig = px.scatter(filtered_df, x='Pk', y=selected_stat, hover_name='Player',\n",
    "                         hover_data={'Pk': True, selected_stat: True, 'Player': False, f'{selected_stat}_diff': True, f'{selected_stat}_rank': True})\n",
    "        \n",
    "        # add a yellow dot for each average in the df_avg dataframe\n",
    "        fig.add_trace(px.scatter(df_avg, x='Pk', y=selected_stat, hover_name='Pk',\n",
    "                                 hover_data={'Pk': True, selected_stat: True}, \n",
    "                                 color_discrete_sequence=['yellow']).data[0])\n",
    "        \n",
    "        if selected_player in filtered_df['Player'].values:\n",
    "            highlighted_player = filtered_df[filtered_df['Player'] == selected_player]\n",
    "            fig.add_trace(px.scatter(highlighted_player, x='Pk', y=selected_stat, hover_name='Player',\n",
    "                                    hover_data={'Pk': True, selected_stat: True, 'Player': False, f'{selected_stat}_diff': True, f'{selected_stat}_rank': True},\n",
    "                                    color_discrete_sequence=['red']).data[0])\n",
    "        fig.update_traces(marker=dict(size=12), showlegend=False)\n",
    "        fig.update_layout(title=f'{selected_stat} vs Draft Pick for Players with at least {min_games} Games Played',\n",
    "                          xaxis_title='Draft Pick', yaxis_title=selected_stat)\n",
    "        fig.show()\n",
    "    \n",
    "# Observe changes in the value of the dropdown and call the function\n",
    "stat_dropdown_total_scatter.observe(on_value_change_total_scatter, names='value')\n",
    "player_widget_total_scatter.observe(on_value_change_total_scatter, names='value')\n",
    "\n",
    "# Display the dropdown and the output area\n",
    "display(player_widget_total_scatter)\n",
    "display(stat_dropdown_total_scatter)\n",
    "display(output_total_scatter)"
   ]
  },
  {
   "cell_type": "markdown",
   "metadata": {},
   "source": [
    "# **Analysis by Team**"
   ]
  },
  {
   "cell_type": "code",
   "execution_count": 20,
   "metadata": {},
   "outputs": [
    {
     "data": {
      "text/html": [
       "<div>\n",
       "<style scoped>\n",
       "    .dataframe tbody tr th:only-of-type {\n",
       "        vertical-align: middle;\n",
       "    }\n",
       "\n",
       "    .dataframe tbody tr th {\n",
       "        vertical-align: top;\n",
       "    }\n",
       "\n",
       "    .dataframe thead th {\n",
       "        text-align: right;\n",
       "    }\n",
       "</style>\n",
       "<table border=\"1\" class=\"dataframe\">\n",
       "  <thead>\n",
       "    <tr style=\"text-align: right;\">\n",
       "      <th>Player ID</th>\n",
       "      <th>Tm</th>\n",
       "      <th>Season</th>\n",
       "      <th>Pk</th>\n",
       "      <th>Yrs</th>\n",
       "      <th>G</th>\n",
       "      <th>MP</th>\n",
       "      <th>PTS</th>\n",
       "      <th>TRB</th>\n",
       "      <th>AST</th>\n",
       "      <th>FG%</th>\n",
       "      <th>...</th>\n",
       "      <th>TRB_rank</th>\n",
       "      <th>AST_rank</th>\n",
       "      <th>WS_rank</th>\n",
       "      <th>WS/48_rank</th>\n",
       "      <th>BPM_rank</th>\n",
       "      <th>VORP_rank</th>\n",
       "      <th>PIE_rank</th>\n",
       "      <th>OFF_RATING_rank</th>\n",
       "      <th>DEF_RATING_rank</th>\n",
       "      <th>NET_RATING_rank</th>\n",
       "    </tr>\n",
       "  </thead>\n",
       "  <tbody>\n",
       "    <tr>\n",
       "      <th>0</th>\n",
       "      <td>ATL</td>\n",
       "      <td>1996</td>\n",
       "      <td>28.000000</td>\n",
       "      <td>2.0</td>\n",
       "      <td>74.00</td>\n",
       "      <td>525.00</td>\n",
       "      <td>255.000000</td>\n",
       "      <td>143.000000</td>\n",
       "      <td>33.000000</td>\n",
       "      <td>0.47200</td>\n",
       "      <td>...</td>\n",
       "      <td>NaN</td>\n",
       "      <td>NaN</td>\n",
       "      <td>NaN</td>\n",
       "      <td>NaN</td>\n",
       "      <td>NaN</td>\n",
       "      <td>NaN</td>\n",
       "      <td>NaN</td>\n",
       "      <td>NaN</td>\n",
       "      <td>NaN</td>\n",
       "      <td>NaN</td>\n",
       "    </tr>\n",
       "    <tr>\n",
       "      <th>1</th>\n",
       "      <td>ATL</td>\n",
       "      <td>1997</td>\n",
       "      <td>41.000000</td>\n",
       "      <td>4.5</td>\n",
       "      <td>156.00</td>\n",
       "      <td>2397.00</td>\n",
       "      <td>675.666667</td>\n",
       "      <td>206.666667</td>\n",
       "      <td>66.666667</td>\n",
       "      <td>0.38800</td>\n",
       "      <td>...</td>\n",
       "      <td>388.0</td>\n",
       "      <td>381.0</td>\n",
       "      <td>372.00</td>\n",
       "      <td>127.00</td>\n",
       "      <td>187.0</td>\n",
       "      <td>348.0</td>\n",
       "      <td>223.0</td>\n",
       "      <td>205.00</td>\n",
       "      <td>320.0</td>\n",
       "      <td>211.00</td>\n",
       "    </tr>\n",
       "    <tr>\n",
       "      <th>2</th>\n",
       "      <td>ATL</td>\n",
       "      <td>1998</td>\n",
       "      <td>34.500000</td>\n",
       "      <td>2.0</td>\n",
       "      <td>77.50</td>\n",
       "      <td>1377.00</td>\n",
       "      <td>494.000000</td>\n",
       "      <td>178.500000</td>\n",
       "      <td>95.000000</td>\n",
       "      <td>0.36900</td>\n",
       "      <td>...</td>\n",
       "      <td>847.0</td>\n",
       "      <td>900.0</td>\n",
       "      <td>888.00</td>\n",
       "      <td>916.00</td>\n",
       "      <td>901.0</td>\n",
       "      <td>833.0</td>\n",
       "      <td>707.0</td>\n",
       "      <td>916.00</td>\n",
       "      <td>158.0</td>\n",
       "      <td>741.00</td>\n",
       "    </tr>\n",
       "    <tr>\n",
       "      <th>3</th>\n",
       "      <td>ATL</td>\n",
       "      <td>1999</td>\n",
       "      <td>18.500000</td>\n",
       "      <td>9.0</td>\n",
       "      <td>579.25</td>\n",
       "      <td>14832.25</td>\n",
       "      <td>6259.250000</td>\n",
       "      <td>1607.500000</td>\n",
       "      <td>1576.750000</td>\n",
       "      <td>0.42075</td>\n",
       "      <td>...</td>\n",
       "      <td>494.5</td>\n",
       "      <td>575.5</td>\n",
       "      <td>513.25</td>\n",
       "      <td>586.75</td>\n",
       "      <td>517.0</td>\n",
       "      <td>483.5</td>\n",
       "      <td>563.0</td>\n",
       "      <td>731.25</td>\n",
       "      <td>329.5</td>\n",
       "      <td>601.25</td>\n",
       "    </tr>\n",
       "    <tr>\n",
       "      <th>4</th>\n",
       "      <td>ATL</td>\n",
       "      <td>2000</td>\n",
       "      <td>34.333333</td>\n",
       "      <td>4.5</td>\n",
       "      <td>249.50</td>\n",
       "      <td>4145.00</td>\n",
       "      <td>945.333333</td>\n",
       "      <td>403.666667</td>\n",
       "      <td>126.333333</td>\n",
       "      <td>0.42650</td>\n",
       "      <td>...</td>\n",
       "      <td>773.0</td>\n",
       "      <td>796.5</td>\n",
       "      <td>805.00</td>\n",
       "      <td>812.50</td>\n",
       "      <td>815.5</td>\n",
       "      <td>822.5</td>\n",
       "      <td>872.5</td>\n",
       "      <td>869.00</td>\n",
       "      <td>167.0</td>\n",
       "      <td>713.50</td>\n",
       "    </tr>\n",
       "    <tr>\n",
       "      <th>...</th>\n",
       "      <td>...</td>\n",
       "      <td>...</td>\n",
       "      <td>...</td>\n",
       "      <td>...</td>\n",
       "      <td>...</td>\n",
       "      <td>...</td>\n",
       "      <td>...</td>\n",
       "      <td>...</td>\n",
       "      <td>...</td>\n",
       "      <td>...</td>\n",
       "      <td>...</td>\n",
       "      <td>...</td>\n",
       "      <td>...</td>\n",
       "      <td>...</td>\n",
       "      <td>...</td>\n",
       "      <td>...</td>\n",
       "      <td>...</td>\n",
       "      <td>...</td>\n",
       "      <td>...</td>\n",
       "      <td>...</td>\n",
       "      <td>...</td>\n",
       "    </tr>\n",
       "    <tr>\n",
       "      <th>740</th>\n",
       "      <td>WAS</td>\n",
       "      <td>2019</td>\n",
       "      <td>9.000000</td>\n",
       "      <td>4.0</td>\n",
       "      <td>210.00</td>\n",
       "      <td>5650.00</td>\n",
       "      <td>2620.000000</td>\n",
       "      <td>1049.000000</td>\n",
       "      <td>275.000000</td>\n",
       "      <td>0.48000</td>\n",
       "      <td>...</td>\n",
       "      <td>906.0</td>\n",
       "      <td>934.0</td>\n",
       "      <td>931.00</td>\n",
       "      <td>815.00</td>\n",
       "      <td>862.0</td>\n",
       "      <td>941.0</td>\n",
       "      <td>622.0</td>\n",
       "      <td>445.00</td>\n",
       "      <td>944.0</td>\n",
       "      <td>877.00</td>\n",
       "    </tr>\n",
       "    <tr>\n",
       "      <th>741</th>\n",
       "      <td>WAS</td>\n",
       "      <td>2020</td>\n",
       "      <td>23.000000</td>\n",
       "      <td>2.5</td>\n",
       "      <td>135.50</td>\n",
       "      <td>3058.00</td>\n",
       "      <td>973.500000</td>\n",
       "      <td>650.500000</td>\n",
       "      <td>257.500000</td>\n",
       "      <td>0.41900</td>\n",
       "      <td>...</td>\n",
       "      <td>877.0</td>\n",
       "      <td>924.0</td>\n",
       "      <td>937.00</td>\n",
       "      <td>845.00</td>\n",
       "      <td>830.0</td>\n",
       "      <td>936.0</td>\n",
       "      <td>798.0</td>\n",
       "      <td>358.00</td>\n",
       "      <td>891.0</td>\n",
       "      <td>673.00</td>\n",
       "    </tr>\n",
       "    <tr>\n",
       "      <th>742</th>\n",
       "      <td>WAS</td>\n",
       "      <td>2021</td>\n",
       "      <td>15.000000</td>\n",
       "      <td>2.0</td>\n",
       "      <td>151.00</td>\n",
       "      <td>3894.00</td>\n",
       "      <td>1454.000000</td>\n",
       "      <td>416.000000</td>\n",
       "      <td>172.000000</td>\n",
       "      <td>0.47800</td>\n",
       "      <td>...</td>\n",
       "      <td>835.0</td>\n",
       "      <td>834.0</td>\n",
       "      <td>723.00</td>\n",
       "      <td>511.00</td>\n",
       "      <td>586.0</td>\n",
       "      <td>751.0</td>\n",
       "      <td>662.0</td>\n",
       "      <td>120.00</td>\n",
       "      <td>965.0</td>\n",
       "      <td>511.00</td>\n",
       "    </tr>\n",
       "    <tr>\n",
       "      <th>743</th>\n",
       "      <td>WAS</td>\n",
       "      <td>2022</td>\n",
       "      <td>32.000000</td>\n",
       "      <td>1.0</td>\n",
       "      <td>28.00</td>\n",
       "      <td>423.00</td>\n",
       "      <td>81.500000</td>\n",
       "      <td>32.500000</td>\n",
       "      <td>14.000000</td>\n",
       "      <td>0.38600</td>\n",
       "      <td>...</td>\n",
       "      <td>NaN</td>\n",
       "      <td>NaN</td>\n",
       "      <td>NaN</td>\n",
       "      <td>NaN</td>\n",
       "      <td>NaN</td>\n",
       "      <td>NaN</td>\n",
       "      <td>NaN</td>\n",
       "      <td>NaN</td>\n",
       "      <td>NaN</td>\n",
       "      <td>NaN</td>\n",
       "    </tr>\n",
       "    <tr>\n",
       "      <th>744</th>\n",
       "      <td>WSB</td>\n",
       "      <td>1996</td>\n",
       "      <td>55.000000</td>\n",
       "      <td>NaN</td>\n",
       "      <td>NaN</td>\n",
       "      <td>NaN</td>\n",
       "      <td>0.000000</td>\n",
       "      <td>0.000000</td>\n",
       "      <td>0.000000</td>\n",
       "      <td>NaN</td>\n",
       "      <td>...</td>\n",
       "      <td>NaN</td>\n",
       "      <td>NaN</td>\n",
       "      <td>NaN</td>\n",
       "      <td>NaN</td>\n",
       "      <td>NaN</td>\n",
       "      <td>NaN</td>\n",
       "      <td>NaN</td>\n",
       "      <td>NaN</td>\n",
       "      <td>NaN</td>\n",
       "      <td>NaN</td>\n",
       "    </tr>\n",
       "  </tbody>\n",
       "</table>\n",
       "<p>745 rows × 46 columns</p>\n",
       "</div>"
      ],
      "text/plain": [
       "Player ID   Tm  Season         Pk  Yrs       G        MP          PTS  \\\n",
       "0          ATL    1996  28.000000  2.0   74.00    525.00   255.000000   \n",
       "1          ATL    1997  41.000000  4.5  156.00   2397.00   675.666667   \n",
       "2          ATL    1998  34.500000  2.0   77.50   1377.00   494.000000   \n",
       "3          ATL    1999  18.500000  9.0  579.25  14832.25  6259.250000   \n",
       "4          ATL    2000  34.333333  4.5  249.50   4145.00   945.333333   \n",
       "..         ...     ...        ...  ...     ...       ...          ...   \n",
       "740        WAS    2019   9.000000  4.0  210.00   5650.00  2620.000000   \n",
       "741        WAS    2020  23.000000  2.5  135.50   3058.00   973.500000   \n",
       "742        WAS    2021  15.000000  2.0  151.00   3894.00  1454.000000   \n",
       "743        WAS    2022  32.000000  1.0   28.00    423.00    81.500000   \n",
       "744        WSB    1996  55.000000  NaN     NaN       NaN     0.000000   \n",
       "\n",
       "Player ID          TRB          AST      FG%  ...  TRB_rank  AST_rank  \\\n",
       "0           143.000000    33.000000  0.47200  ...       NaN       NaN   \n",
       "1           206.666667    66.666667  0.38800  ...     388.0     381.0   \n",
       "2           178.500000    95.000000  0.36900  ...     847.0     900.0   \n",
       "3          1607.500000  1576.750000  0.42075  ...     494.5     575.5   \n",
       "4           403.666667   126.333333  0.42650  ...     773.0     796.5   \n",
       "..                 ...          ...      ...  ...       ...       ...   \n",
       "740        1049.000000   275.000000  0.48000  ...     906.0     934.0   \n",
       "741         650.500000   257.500000  0.41900  ...     877.0     924.0   \n",
       "742         416.000000   172.000000  0.47800  ...     835.0     834.0   \n",
       "743          32.500000    14.000000  0.38600  ...       NaN       NaN   \n",
       "744           0.000000     0.000000      NaN  ...       NaN       NaN   \n",
       "\n",
       "Player ID  WS_rank  WS/48_rank  BPM_rank  VORP_rank  PIE_rank  \\\n",
       "0              NaN         NaN       NaN        NaN       NaN   \n",
       "1           372.00      127.00     187.0      348.0     223.0   \n",
       "2           888.00      916.00     901.0      833.0     707.0   \n",
       "3           513.25      586.75     517.0      483.5     563.0   \n",
       "4           805.00      812.50     815.5      822.5     872.5   \n",
       "..             ...         ...       ...        ...       ...   \n",
       "740         931.00      815.00     862.0      941.0     622.0   \n",
       "741         937.00      845.00     830.0      936.0     798.0   \n",
       "742         723.00      511.00     586.0      751.0     662.0   \n",
       "743            NaN         NaN       NaN        NaN       NaN   \n",
       "744            NaN         NaN       NaN        NaN       NaN   \n",
       "\n",
       "Player ID  OFF_RATING_rank  DEF_RATING_rank  NET_RATING_rank  \n",
       "0                      NaN              NaN              NaN  \n",
       "1                   205.00            320.0           211.00  \n",
       "2                   916.00            158.0           741.00  \n",
       "3                   731.25            329.5           601.25  \n",
       "4                   869.00            167.0           713.50  \n",
       "..                     ...              ...              ...  \n",
       "740                 445.00            944.0           877.00  \n",
       "741                 358.00            891.0           673.00  \n",
       "742                 120.00            965.0           511.00  \n",
       "743                    NaN              NaN              NaN  \n",
       "744                    NaN              NaN              NaN  \n",
       "\n",
       "[745 rows x 46 columns]"
      ]
     },
     "execution_count": 20,
     "metadata": {},
     "output_type": "execute_result"
    }
   ],
   "source": [
    "# group the df_career_na_filled by team and season and calculate the average\n",
    "df_team_avg = df_career_na_filled.groupby(['Tm', 'Season']).mean(numeric_only=True)\n",
    "df_team_avg = df_team_avg.reset_index()\n",
    "\n",
    "df_team_avg"
   ]
  },
  {
   "cell_type": "code",
   "execution_count": 23,
   "metadata": {},
   "outputs": [
    {
     "data": {
      "application/vnd.jupyter.widget-view+json": {
       "model_id": "da40f28a7b8e433ea809c88233c0644c",
       "version_major": 2,
       "version_minor": 0
      },
      "text/plain": [
       "Dropdown(description='Select Stat:', index=6, options=('PTS', 'TRB', 'AST', 'WS', 'WS/48', 'BPM', 'VORP', 'PIE…"
      ]
     },
     "metadata": {},
     "output_type": "display_data"
    },
    {
     "data": {
      "application/vnd.jupyter.widget-view+json": {
       "model_id": "982c5189fa064dbe9b1008107b9445e0",
       "version_major": 2,
       "version_minor": 0
      },
      "text/plain": [
       "Dropdown(description='Select Team:', index=1, options=('ATL', 'BOS', 'BRK', 'CHA', 'CHH', 'CHI', 'CHO', 'CLE',…"
      ]
     },
     "metadata": {},
     "output_type": "display_data"
    },
    {
     "data": {
      "application/vnd.plotly.v1+json": {
       "config": {
        "plotlyServerURL": "https://plot.ly"
       },
       "data": [
        {
         "customdata": [
          [
           "ATL",
           -0.8
          ],
          [
           "ATL",
           -1.3666666666666665
          ],
          [
           "ATL",
           -1.15
          ],
          [
           "ATL",
           9.85
          ],
          [
           "ATL",
           -1.5999999999999999
          ],
          [
           "ATL",
           28.55
          ],
          [
           "ATL",
           -0.3
          ],
          [
           "ATL",
           7.5
          ],
          [
           "ATL",
           5.72
          ],
          [
           "ATL",
           2.866666666666667
          ],
          [
           "ATL",
           -1.55
          ],
          [
           "ATL",
           19.65
          ],
          [
           "ATL",
           5.6000000000000005
          ],
          [
           "ATL",
           -1.7
          ],
          [
           "ATL",
           -3.1
          ],
          [
           "ATL",
           0.35
          ],
          [
           "ATL",
           1.025
          ],
          [
           "ATL",
           -2.25
          ],
          [
           "ATL",
           -1.7666666666666668
          ],
          [
           "ATL",
           -1.3
          ],
          [
           "ATL",
           1.3999999999999997
          ],
          [
           "ATL",
           8.25
          ],
          [
           "ATL",
           0.13333333333333333
          ],
          [
           "ATL",
           1.25
          ],
          [
           "ATL",
           0.2
          ],
          [
           "ATL",
           0.1
          ],
          [
           "BOS",
           8.85
          ],
          [
           "BOS",
           12.633333333333333
          ],
          [
           "BOS",
           65.5
          ],
          [
           "BOS",
           -3.1
          ],
          [
           "BOS",
           -0.3
          ],
          [
           "BOS",
           8.9
          ],
          [
           "BOS",
           -0.2
          ],
          [
           "BOS",
           -1.5333333333333332
          ],
          [
           "BOS",
           9.75
          ],
          [
           "BOS",
           0.9333333333333332
          ],
          [
           "BOS",
           3.8
          ],
          [
           "BOS",
           2.1500000000000004
          ],
          [
           "BOS",
           -0.25
          ],
          [
           "BOS",
           -3.1
          ],
          [
           "BOS",
           -1.05
          ],
          [
           "BOS",
           0.30000000000000004
          ],
          [
           "BOS",
           0.8333333333333334
          ],
          [
           "BOS",
           1.9
          ],
          [
           "BOS",
           3.7
          ],
          [
           "BOS",
           0.625
          ],
          [
           "BOS",
           -0.2250000000000001
          ],
          [
           "BOS",
           3.8499999999999996
          ],
          [
           "BOS",
           7.4
          ],
          [
           "BOS",
           0.875
          ],
          [
           "BOS",
           0.7000000000000001
          ],
          [
           "BOS",
           -3.1
          ],
          [
           "BOS",
           -3.1
          ],
          [
           "BRK",
           14.4
          ],
          [
           "BRK",
           2.0500000000000003
          ],
          [
           "BRK",
           -3.1
          ],
          [
           "BRK",
           3.6
          ],
          [
           "BRK",
           -0.3333333333333333
          ],
          [
           "BRK",
           1.1333333333333333
          ],
          [
           "BRK",
           1.25
          ],
          [
           "BRK",
           -1.875
          ],
          [
           "CHA",
           1.8499999999999999
          ],
          [
           "CHA",
           5.1499999999999995
          ],
          [
           "CHA",
           -2.8
          ],
          [
           "CHA",
           9.25
          ],
          [
           "CHA",
           2.3666666666666667
          ],
          [
           "CHA",
           -0.7000000000000001
          ],
          [
           "CHA",
           16.133333333333333
          ],
          [
           "CHA",
           -0.45
          ],
          [
           "CHA",
           4
          ],
          [
           "CHH",
           28.166666666666668
          ],
          [
           "CHH",
           1.5999999999999999
          ],
          [
           "CHH",
           15
          ],
          [
           "CHH",
           -3.1
          ],
          [
           "CHH",
           -0.4
          ],
          [
           "CHH",
           3.2000000000000006
          ],
          [
           "CHI",
           -1.1
          ],
          [
           "CHI",
           -1.8
          ],
          [
           "CHI",
           0.09999999999999996
          ],
          [
           "CHI",
           15.124999999999998
          ],
          [
           "CHI",
           -1.9666666666666666
          ],
          [
           "CHI",
           -2.6999999999999997
          ],
          [
           "CHI",
           -0.9666666666666668
          ],
          [
           "CHI",
           4.3
          ],
          [
           "CHI",
           3.6666666666666665
          ],
          [
           "CHI",
           16.95
          ],
          [
           "CHI",
           5.433333333333333
          ],
          [
           "CHI",
           8.25
          ],
          [
           "CHI",
           8.2
          ],
          [
           "CHI",
           -3.6
          ],
          [
           "CHI",
           13.299999999999999
          ],
          [
           "CHI",
           -1
          ],
          [
           "CHI",
           -0.1
          ],
          [
           "CHI",
           3
          ],
          [
           "CHI",
           4.7
          ],
          [
           "CHI",
           -0.6
          ],
          [
           "CHI",
           0.5
          ],
          [
           "CHI",
           1.1
          ],
          [
           "CHI",
           1.7
          ],
          [
           "CHI",
           0.09999999999999999
          ],
          [
           "CHI",
           -0.3
          ],
          [
           "CHI",
           0.1
          ],
          [
           "CHO",
           0.30000000000000004
          ],
          [
           "CHO",
           -0.7
          ],
          [
           "CHO",
           -0.3999999999999999
          ],
          [
           "CHO",
           5
          ],
          [
           "CHO",
           0.7000000000000001
          ],
          [
           "CHO",
           0.9666666666666667
          ],
          [
           "CHO",
           -2.4
          ],
          [
           "CHO",
           -0.7333333333333334
          ],
          [
           "CLE",
           1.3999999999999997
          ],
          [
           "CLE",
           7.566666666666666
          ],
          [
           "CLE",
           -0.5
          ],
          [
           "CLE",
           11.200000000000001
          ],
          [
           "CLE",
           18.4
          ],
          [
           "CLE",
           1
          ],
          [
           "CLE",
           10.75
          ],
          [
           "CLE",
           72.64999999999999
          ],
          [
           "CLE",
           -0.3
          ],
          [
           "CLE",
           0.09999999999999994
          ],
          [
           "CLE",
           0.5
          ],
          [
           "CLE",
           9.799999999999999
          ],
          [
           "CLE",
           8.925
          ],
          [
           "CLE",
           1.75
          ],
          [
           "CLE",
           -0.9750000000000001
          ],
          [
           "CLE",
           3.6
          ],
          [
           "CLE",
           1.8499999999999999
          ],
          [
           "CLE",
           -0.7
          ],
          [
           "CLE",
           1.95
          ],
          [
           "CLE",
           -0.8
          ],
          [
           "CLE",
           4
          ],
          [
           "CLE",
           -2.4
          ],
          [
           "DAL",
           -2.4333333333333336
          ],
          [
           "DAL",
           2.1
          ],
          [
           "DAL",
           0.6
          ],
          [
           "DAL",
           -0.5
          ],
          [
           "DAL",
           -1.3666666666666665
          ],
          [
           "DAL",
           -1.85
          ],
          [
           "DAL",
           -3.1
          ],
          [
           "DAL",
           3.45
          ],
          [
           "DAL",
           -0.3
          ],
          [
           "DAL",
           -2
          ],
          [
           "DAL",
           -2
          ],
          [
           "DAL",
           -3.1
          ],
          [
           "DAL",
           -2.45
          ],
          [
           "DAL",
           -0.1
          ],
          [
           "DAL",
           -1.05
          ],
          [
           "DAL",
           -1.6
          ],
          [
           "DAL",
           7.6
          ],
          [
           "DAL",
           -1.35
          ],
          [
           "DAL",
           -0.2
          ],
          [
           "DAL",
           -0.5
          ],
          [
           "DAL",
           7.5
          ],
          [
           "DAL",
           -0.2
          ],
          [
           "DAL",
           -1.6
          ],
          [
           "DAL",
           -3.1
          ],
          [
           "DEN",
           -0.2
          ],
          [
           "DEN",
           0.26666666666666666
          ],
          [
           "DEN",
           2.325
          ],
          [
           "DEN",
           3.933333333333333
          ],
          [
           "DEN",
           -0.3
          ],
          [
           "DEN",
           -3.1
          ],
          [
           "DEN",
           -0.7999999999999999
          ],
          [
           "DEN",
           16.8
          ],
          [
           "DEN",
           11.6
          ],
          [
           "DEN",
           0.09999999999999994
          ],
          [
           "DEN",
           0.3
          ],
          [
           "DEN",
           -3.1
          ],
          [
           "DEN",
           7.5
          ],
          [
           "DEN",
           0.3666666666666667
          ],
          [
           "DEN",
           29.2
          ],
          [
           "DEN",
           16.433333333333334
          ],
          [
           "DEN",
           -2.6500000000000004
          ],
          [
           "DEN",
           1.94
          ],
          [
           "DEN",
           6.8
          ],
          [
           "DEN",
           -0.6666666666666666
          ],
          [
           "DEN",
           -0.3
          ],
          [
           "DEN",
           0.9
          ],
          [
           "DEN",
           -0.1
          ],
          [
           "DET",
           7.4
          ],
          [
           "DET",
           -0.10000000000000009
          ],
          [
           "DET",
           2.6000000000000005
          ],
          [
           "DET",
           -3.1
          ],
          [
           "DET",
           0.7500000000000001
          ],
          [
           "DET",
           7.2
          ],
          [
           "DET",
           18
          ],
          [
           "DET",
           2.033333333333333
          ],
          [
           "DET",
           -3.1
          ],
          [
           "DET",
           3
          ],
          [
           "DET",
           -0.2
          ],
          [
           "DET",
           1.4000000000000001
          ],
          [
           "DET",
           -3.1
          ],
          [
           "DET",
           0.475
          ],
          [
           "DET",
           6.1000000000000005
          ],
          [
           "DET",
           0.19999999999999996
          ],
          [
           "DET",
           10.9
          ],
          [
           "DET",
           1.0999999999999999
          ],
          [
           "DET",
           7.8
          ],
          [
           "DET",
           -1.1
          ],
          [
           "DET",
           -0.2
          ],
          [
           "DET",
           3.8
          ],
          [
           "DET",
           2.5
          ],
          [
           "DET",
           -1
          ],
          [
           "DET",
           -2.5
          ],
          [
           "DET",
           -0.9
          ],
          [
           "DET",
           -1.9
          ],
          [
           "GSW",
           -2.7
          ],
          [
           "GSW",
           -0.1499999999999999
          ],
          [
           "GSW",
           57.9
          ],
          [
           "GSW",
           3.1
          ],
          [
           "GSW",
           -0.7
          ],
          [
           "GSW",
           18.900000000000002
          ],
          [
           "GSW",
           6.3
          ],
          [
           "GSW",
           1.55
          ],
          [
           "GSW",
           4.6
          ],
          [
           "GSW",
           2.866666666666667
          ],
          [
           "GSW",
           -1.7
          ],
          [
           "GSW",
           0.9333333333333332
          ],
          [
           "GSW",
           -1.35
          ],
          [
           "GSW",
           65.6
          ],
          [
           "GSW",
           0.8
          ],
          [
           "GSW",
           7.55
          ],
          [
           "GSW",
           7.3
          ],
          [
           "GSW",
           4.8
          ],
          [
           "GSW",
           0.9
          ],
          [
           "GSW",
           -0.8
          ],
          [
           "GSW",
           0.16666666666666666
          ],
          [
           "GSW",
           -1.4333333333333333
          ],
          [
           "GSW",
           0
          ],
          [
           "GSW",
           -2.1
          ],
          [
           "HOU",
           -2.766666666666667
          ],
          [
           "HOU",
           -2.2
          ],
          [
           "HOU",
           3.25
          ],
          [
           "HOU",
           -1.0333333333333334
          ],
          [
           "HOU",
           1.9
          ],
          [
           "HOU",
           3.9666666666666663
          ],
          [
           "HOU",
           6.066666666666666
          ],
          [
           "HOU",
           -3.1
          ],
          [
           "HOU",
           -3.1
          ],
          [
           "HOU",
           4.2
          ],
          [
           "HOU",
           13.2
          ],
          [
           "HOU",
           -0.19999999999999996
          ],
          [
           "HOU",
           12
          ],
          [
           "HOU",
           7.4
          ],
          [
           "HOU",
           8.133333333333333
          ],
          [
           "HOU",
           2.8000000000000003
          ],
          [
           "HOU",
           -0.5
          ],
          [
           "HOU",
           7.199999999999999
          ],
          [
           "HOU",
           6.35
          ],
          [
           "HOU",
           -0.15000000000000002
          ],
          [
           "HOU",
           -0.8499999999999999
          ],
          [
           "HOU",
           4.6
          ],
          [
           "HOU",
           -0.43333333333333335
          ],
          [
           "HOU",
           -0.5
          ],
          [
           "IND",
           1.5999999999999999
          ],
          [
           "IND",
           5.6
          ],
          [
           "IND",
           3.7
          ],
          [
           "IND",
           -0.3
          ],
          [
           "IND",
           -2.4
          ],
          [
           "IND",
           -3.1
          ],
          [
           "IND",
           2.6
          ],
          [
           "IND",
           5.4
          ],
          [
           "IND",
           -2.4
          ],
          [
           "IND",
           7.3
          ],
          [
           "IND",
           -0.6
          ],
          [
           "IND",
           0.4
          ],
          [
           "IND",
           -1.2000000000000002
          ],
          [
           "IND",
           13.166666666666666
          ],
          [
           "IND",
           24.25
          ],
          [
           "IND",
           0.2
          ],
          [
           "IND",
           -1.7
          ],
          [
           "IND",
           -3.1
          ],
          [
           "IND",
           4.75
          ],
          [
           "IND",
           2.8
          ],
          [
           "IND",
           -1.5
          ],
          [
           "IND",
           -0.25
          ],
          [
           "IND",
           0.35
          ],
          [
           "IND",
           -0.4
          ],
          [
           "IND",
           -0.3
          ],
          [
           "IND",
           -1.5666666666666667
          ],
          [
           "LAC",
           -3.05
          ],
          [
           "LAC",
           -5.3
          ],
          [
           "LAC",
           -5
          ],
          [
           "LAC",
           14.149999999999999
          ],
          [
           "LAC",
           5.1000000000000005
          ],
          [
           "LAC",
           16.9
          ],
          [
           "LAC",
           -0.8666666666666667
          ],
          [
           "LAC",
           -1.35
          ],
          [
           "LAC",
           1.95
          ],
          [
           "LAC",
           -0.25
          ],
          [
           "LAC",
           -1.75
          ],
          [
           "LAC",
           -3.1500000000000004
          ],
          [
           "LAC",
           15.4
          ],
          [
           "LAC",
           32.8
          ],
          [
           "LAC",
           1.7
          ],
          [
           "LAC",
           -1.6
          ],
          [
           "LAC",
           -0.2
          ],
          [
           "LAC",
           2.6
          ],
          [
           "LAC",
           -0.2
          ],
          [
           "LAC",
           -1.4000000000000001
          ],
          [
           "LAC",
           1.3499999999999999
          ],
          [
           "LAC",
           -0.40000000000000013
          ],
          [
           "LAC",
           -0.3
          ],
          [
           "LAC",
           1.3
          ],
          [
           "LAC",
           -3.1
          ],
          [
           "LAL",
           8.9
          ],
          [
           "LAL",
           -3.1
          ],
          [
           "LAL",
           3.3666666666666667
          ],
          [
           "LAL",
           0.5499999999999999
          ],
          [
           "LAL",
           -2.9
          ],
          [
           "LAL",
           -0.8
          ],
          [
           "LAL",
           1.5
          ],
          [
           "LAL",
           -0.40000000000000013
          ],
          [
           "LAL",
           4.633333333333334
          ],
          [
           "LAL",
           1.75
          ],
          [
           "LAL",
           11.799999999999999
          ],
          [
           "LAL",
           -3.1
          ],
          [
           "LAL",
           3.5999999999999996
          ],
          [
           "LAL",
           -0.4
          ],
          [
           "LAL",
           -1.925
          ],
          [
           "LAL",
           -1.4
          ],
          [
           "LAL",
           -0.5
          ],
          [
           "LAL",
           13.6
          ],
          [
           "LAL",
           6
          ],
          [
           "LAL",
           5.9
          ],
          [
           "LAL",
           3.7
          ],
          [
           "LAL",
           0.35000000000000003
          ],
          [
           "LAL",
           -2.3
          ],
          [
           "LAL",
           -0.5
          ],
          [
           "LAL",
           0.4
          ],
          [
           "LAL",
           -0.1
          ],
          [
           "MEM",
           8.674999999999999
          ],
          [
           "MEM",
           4.8999999999999995
          ],
          [
           "MEM",
           0.25
          ],
          [
           "MEM",
           -3.1
          ],
          [
           "MEM",
           0.4
          ],
          [
           "MEM",
           42.8
          ],
          [
           "MEM",
           36.2
          ],
          [
           "MEM",
           16.95
          ],
          [
           "MEM",
           2.066666666666667
          ],
          [
           "MEM",
           0
          ],
          [
           "MEM",
           -0.6
          ],
          [
           "MEM",
           -1.1
          ],
          [
           "MEM",
           -1.1333333333333335
          ],
          [
           "MEM",
           0.2
          ],
          [
           "MEM",
           -1.7
          ],
          [
           "MEM",
           -1.8
          ],
          [
           "MEM",
           3.2
          ],
          [
           "MEM",
           9.7
          ],
          [
           "MEM",
           -0.1
          ],
          [
           "MEM",
           1.1
          ],
          [
           "MEM",
           0.46666666666666673
          ],
          [
           "MIA",
           -1.35
          ],
          [
           "MIA",
           -3.1
          ],
          [
           "MIA",
           -1.0999999999999999
          ],
          [
           "MIA",
           3
          ],
          [
           "MIA",
           -0.2
          ],
          [
           "MIA",
           7.6
          ],
          [
           "MIA",
           29.849999999999998
          ],
          [
           "MIA",
           2.5666666666666664
          ],
          [
           "MIA",
           -0.3
          ],
          [
           "MIA",
           -2.75
          ],
          [
           "MIA",
           0.04999999999999999
          ],
          [
           "MIA",
           1.55
          ],
          [
           "MIA",
           -1.7000000000000002
          ],
          [
           "MIA",
           6.2
          ],
          [
           "MIA",
           -0.1
          ],
          [
           "MIA",
           -0.9
          ],
          [
           "MIA",
           2.6
          ],
          [
           "MIA",
           14.5
          ],
          [
           "MIA",
           1.9
          ],
          [
           "MIA",
           -0.7
          ],
          [
           "MIA",
           -0.1
          ],
          [
           "MIL",
           9.6
          ],
          [
           "MIL",
           -1.4000000000000001
          ],
          [
           "MIL",
           31.63333333333333
          ],
          [
           "MIL",
           -3.1
          ],
          [
           "MIL",
           6.833333333333333
          ],
          [
           "MIL",
           -3.1
          ],
          [
           "MIL",
           -1.225
          ],
          [
           "MIL",
           1.133333333333333
          ],
          [
           "MIL",
           12.5
          ],
          [
           "MIL",
           -0.2
          ],
          [
           "MIL",
           0.8500000000000001
          ],
          [
           "MIL",
           0.85
          ],
          [
           "MIL",
           8
          ],
          [
           "MIL",
           -0.5
          ],
          [
           "MIL",
           0.8
          ],
          [
           "MIL",
           1.1
          ],
          [
           "MIL",
           24.1
          ],
          [
           "MIL",
           0.04999999999999996
          ],
          [
           "MIL",
           2.05
          ],
          [
           "MIL",
           3.1
          ],
          [
           "MIL",
           -0.4
          ],
          [
           "MIL",
           3.5
          ],
          [
           "MIL",
           0.7
          ],
          [
           "MIL",
           -0.95
          ],
          [
           "MIL",
           -0.3
          ],
          [
           "MIL",
           -0.5
          ],
          [
           "MIN",
           57.6
          ],
          [
           "MIN",
           -1.6500000000000001
          ],
          [
           "MIN",
           0.95
          ],
          [
           "MIN",
           3.133333333333333
          ],
          [
           "MIN",
           -0.2
          ],
          [
           "MIN",
           -0.3
          ],
          [
           "MIN",
           -3.1
          ],
          [
           "MIN",
           -3.1
          ],
          [
           "MIN",
           -3.1
          ],
          [
           "MIN",
           -1.35
          ],
          [
           "MIN",
           3.5250000000000004
          ],
          [
           "MIN",
           0.65
          ],
          [
           "MIN",
           4.266666666666667
          ],
          [
           "MIN",
           4.133333333333334
          ],
          [
           "MIN",
           0.39999999999999997
          ],
          [
           "MIN",
           0.15000000000000002
          ],
          [
           "MIN",
           -0.4
          ],
          [
           "MIN",
           0.09999999999999998
          ],
          [
           "MIN",
           2.275
          ],
          [
           "MIN",
           9.666666666666666
          ],
          [
           "MIN",
           0.4
          ],
          [
           "MIN",
           7.3
          ],
          [
           "MIN",
           -0.1
          ],
          [
           "MIN",
           2.6
          ],
          [
           "MIN",
           0.9666666666666665
          ],
          [
           "MIN",
           -1.8
          ],
          [
           "NJN",
           18
          ],
          [
           "NJN",
           6.25
          ],
          [
           "NJN",
           -0.5
          ],
          [
           "NJN",
           6
          ],
          [
           "NJN",
           0.7999999999999999
          ],
          [
           "NJN",
           -1
          ],
          [
           "NJN",
           10.049999999999999
          ],
          [
           "NJN",
           -2
          ],
          [
           "NJN",
           -1.25
          ],
          [
           "NJN",
           -2.4
          ],
          [
           "NJN",
           -0.6
          ],
          [
           "NJN",
           12.266666666666666
          ],
          [
           "NJN",
           -0.6
          ],
          [
           "NJN",
           5.033333333333333
          ],
          [
           "NJN",
           -1.6
          ],
          [
           "NJN",
           -3.1
          ],
          [
           "NOH",
           13.75
          ],
          [
           "NOH",
           5.8
          ],
          [
           "NOH",
           50.599999999999994
          ],
          [
           "NOH",
           -0.4
          ],
          [
           "NOH",
           13.4
          ],
          [
           "NOH",
           1.8
          ],
          [
           "NOH",
           0.4
          ],
          [
           "NOH",
           13.733333333333334
          ],
          [
           "NOH",
           7.4
          ],
          [
           "NOK",
           -1.8
          ],
          [
           "NOK",
           -0.9500000000000001
          ],
          [
           "NOP",
           -3.1
          ],
          [
           "NOP",
           2.1666666666666665
          ],
          [
           "NOP",
           -1.85
          ],
          [
           "NOP",
           -3.1
          ],
          [
           "NOP",
           2.1
          ],
          [
           "NOP",
           -0.175
          ],
          [
           "NOP",
           -0.7000000000000001
          ],
          [
           "NOP",
           -3.1
          ],
          [
           "NYK",
           -0.13333333333333333
          ],
          [
           "NYK",
           -1.4
          ],
          [
           "NYK",
           -0.9
          ],
          [
           "NYK",
           -3.1
          ],
          [
           "NYK",
           -0.4
          ],
          [
           "NYK",
           -3.1
          ],
          [
           "NYK",
           7.8500000000000005
          ],
          [
           "NYK",
           -1.5
          ],
          [
           "NYK",
           21.8
          ],
          [
           "NYK",
           8.033333333333333
          ],
          [
           "NYK",
           -0.04999999999999993
          ],
          [
           "NYK",
           3.5
          ],
          [
           "NYK",
           20.8
          ],
          [
           "NYK",
           -3.1
          ],
          [
           "NYK",
           1.25
          ],
          [
           "NYK",
           0.9
          ],
          [
           "NYK",
           -0.2
          ],
          [
           "NYK",
           5
          ],
          [
           "NYK",
           -0.75
          ],
          [
           "NYK",
           13
          ],
          [
           "NYK",
           -2.4
          ],
          [
           "NYK",
           2.3
          ],
          [
           "NYK",
           -0.6
          ],
          [
           "NYK",
           0.7
          ],
          [
           "NYK",
           -0.25
          ],
          [
           "NYK",
           -1.6500000000000001
          ],
          [
           "OKC",
           38.7
          ],
          [
           "OKC",
           3.95
          ],
          [
           "OKC",
           8.3
          ],
          [
           "OKC",
           -0.6
          ],
          [
           "OKC",
           3.8666666666666667
          ],
          [
           "OKC",
           -0.25
          ],
          [
           "OKC",
           1.1500000000000001
          ],
          [
           "OKC",
           -2.1
          ],
          [
           "OKC",
           -1.6
          ],
          [
           "OKC",
           6.1
          ],
          [
           "OKC",
           1.9999999999999998
          ],
          [
           "OKC",
           -0.1333333333333334
          ],
          [
           "OKC",
           -1.2
          ],
          [
           "ORL",
           -0.19999999999999998
          ],
          [
           "ORL",
           -0.65
          ],
          [
           "ORL",
           1.2500000000000002
          ],
          [
           "ORL",
           -3.1
          ],
          [
           "ORL",
           5.966666666666668
          ],
          [
           "ORL",
           -1.2333333333333334
          ],
          [
           "ORL",
           -0.5
          ],
          [
           "ORL",
           1.15
          ],
          [
           "ORL",
           15.733333333333334
          ],
          [
           "ORL",
           -1.7
          ],
          [
           "ORL",
           3.266666666666667
          ],
          [
           "ORL",
           -3.1
          ],
          [
           "ORL",
           7.9
          ],
          [
           "ORL",
           -1.6500000000000001
          ],
          [
           "ORL",
           -0.1
          ],
          [
           "ORL",
           1.7
          ],
          [
           "ORL",
           3.95
          ],
          [
           "ORL",
           6.1
          ],
          [
           "ORL",
           -2.15
          ],
          [
           "ORL",
           5.400000000000001
          ],
          [
           "ORL",
           -0.024999999999999988
          ],
          [
           "ORL",
           1.7333333333333332
          ],
          [
           "ORL",
           0.45
          ],
          [
           "ORL",
           1.3
          ],
          [
           "ORL",
           -0.6666666666666666
          ],
          [
           "ORL",
           -0.05000000000000002
          ],
          [
           "PHI",
           11.275
          ],
          [
           "PHI",
           0.07499999999999984
          ],
          [
           "PHI",
           5.3
          ],
          [
           "PHI",
           2
          ],
          [
           "PHI",
           0.25
          ],
          [
           "PHI",
           1.2666666666666666
          ],
          [
           "PHI",
           -1.5
          ],
          [
           "PHI",
           -3.1
          ],
          [
           "PHI",
           41.3
          ],
          [
           "PHI",
           23.2
          ],
          [
           "PHI",
           12.4
          ],
          [
           "PHI",
           3.7749999999999995
          ],
          [
           "PHI",
           -0.6
          ],
          [
           "PHI",
           27.4
          ],
          [
           "PHI",
           0.5
          ],
          [
           "PHI",
           13.7
          ],
          [
           "PHI",
           1.4333333333333333
          ],
          [
           "PHI",
           0.5
          ],
          [
           "PHI",
           4.371428571428572
          ],
          [
           "PHI",
           -0.8000000000000002
          ],
          [
           "PHI",
           3.8666666666666667
          ],
          [
           "PHI",
           -0.52
          ],
          [
           "PHI",
           1.5833333333333333
          ],
          [
           "PHI",
           -0.33999999999999997
          ],
          [
           "PHI",
           0.4600000000000001
          ],
          [
           "PHI",
           -0.8333333333333334
          ],
          [
           "PHI",
           -0.6
          ],
          [
           "PHO",
           15
          ],
          [
           "PHO",
           11.2
          ],
          [
           "PHO",
           47.6
          ],
          [
           "PHO",
           -1.4
          ],
          [
           "PHO",
           -0.6
          ],
          [
           "PHO",
           10.799999999999999
          ],
          [
           "PHO",
           -0.7
          ],
          [
           "PHO",
           22.9
          ],
          [
           "PHO",
           10.649999999999999
          ],
          [
           "PHO",
           11.65
          ],
          [
           "PHO",
           1.7
          ],
          [
           "PHO",
           0.7499999999999998
          ],
          [
           "PHO",
           -1.3333333333333333
          ],
          [
           "PHO",
           -3.1
          ],
          [
           "PHO",
           2.7
          ],
          [
           "PHO",
           -1.1
          ],
          [
           "PHO",
           -1.0666666666666667
          ],
          [
           "PHO",
           1.7000000000000002
          ],
          [
           "PHO",
           6.25
          ],
          [
           "PHO",
           -0.85
          ],
          [
           "PHO",
           -2.1666666666666665
          ],
          [
           "PHO",
           1.5250000000000001
          ],
          [
           "PHO",
           -1.15
          ],
          [
           "PHO",
           0.2
          ],
          [
           "PHO",
           -0.1
          ],
          [
           "POR",
           6.25
          ],
          [
           "POR",
           2.2
          ],
          [
           "POR",
           -3.1
          ],
          [
           "POR",
           -0.1
          ],
          [
           "POR",
           9.3
          ],
          [
           "POR",
           -2.1999999999999997
          ],
          [
           "POR",
           -0.5
          ],
          [
           "POR",
           -1.6666666666666667
          ],
          [
           "POR",
           0.16666666666666666
          ],
          [
           "POR",
           0.3
          ],
          [
           "POR",
           0.43999999999999995
          ],
          [
           "POR",
           0.20000000000000004
          ],
          [
           "POR",
           2.2
          ],
          [
           "POR",
           -0.65
          ],
          [
           "POR",
           -1.9500000000000002
          ],
          [
           "POR",
           13.925
          ],
          [
           "POR",
           3.9
          ],
          [
           "POR",
           2.3
          ],
          [
           "POR",
           -0.6333333333333333
          ],
          [
           "POR",
           0.3
          ],
          [
           "POR",
           -0.4
          ],
          [
           "POR",
           -0.7000000000000001
          ],
          [
           "POR",
           -1.4333333333333333
          ],
          [
           "SAC",
           13.049999999999999
          ],
          [
           "SAC",
           0.4
          ],
          [
           "SAC",
           4.7
          ],
          [
           "SAC",
           -3.1
          ],
          [
           "SAC",
           9.5
          ],
          [
           "SAC",
           10.2
          ],
          [
           "SAC",
           0.25
          ],
          [
           "SAC",
           6.500000000000001
          ],
          [
           "SAC",
           5.7
          ],
          [
           "SAC",
           -0.6
          ],
          [
           "SAC",
           3.4
          ],
          [
           "SAC",
           -1.9000000000000001
          ],
          [
           "SAC",
           5.466666666666666
          ],
          [
           "SAC",
           18.05
          ],
          [
           "SAC",
           4.7
          ],
          [
           "SAC",
           -0.8500000000000001
          ],
          [
           "SAC",
           -1.9
          ],
          [
           "SAC",
           -1.7
          ],
          [
           "SAC",
           4.4
          ],
          [
           "SAC",
           -1.8
          ],
          [
           "SAC",
           2.766666666666666
          ],
          [
           "SAC",
           1.4000000000000001
          ],
          [
           "SAC",
           -1.3
          ],
          [
           "SAC",
           3
          ],
          [
           "SAC",
           -0.65
          ],
          [
           "SAC",
           -1.15
          ],
          [
           "SAS",
           91.1
          ],
          [
           "SAS",
           -1.8
          ],
          [
           "SAS",
           22.25
          ],
          [
           "SAS",
           -3.1
          ],
          [
           "SAS",
           7.966666666666668
          ],
          [
           "SAS",
           3.3333333333333335
          ],
          [
           "SAS",
           8.6
          ],
          [
           "SAS",
           -0.4333333333333333
          ],
          [
           "SAS",
           0.1
          ],
          [
           "SAS",
           -0.3
          ],
          [
           "SAS",
           -0.2666666666666666
          ],
          [
           "SAS",
           10.733333333333333
          ],
          [
           "SAS",
           -0.4000000000000001
          ],
          [
           "SAS",
           -1.9500000000000002
          ],
          [
           "SAS",
           0.44999999999999996
          ],
          [
           "SAS",
           -3.1
          ],
          [
           "SAS",
           -3.1
          ],
          [
           "SAS",
           2.9666666666666663
          ],
          [
           "SAS",
           -3.1
          ],
          [
           "SAS",
           9.9
          ],
          [
           "SAS",
           3.85
          ],
          [
           "SAS",
           -0.45000000000000007
          ],
          [
           "SAS",
           0.3
          ],
          [
           "SAS",
           1.2000000000000002
          ],
          [
           "SAS",
           -0.5
          ],
          [
           "SAS",
           -1.6
          ],
          [
           "SEA",
           -2.375
          ],
          [
           "SEA",
           1.4666666666666668
          ],
          [
           "SEA",
           10.333333333333334
          ],
          [
           "SEA",
           13.3
          ],
          [
           "SEA",
           -1.8333333333333333
          ],
          [
           "SEA",
           4.666666666666667
          ],
          [
           "SEA",
           -3.1
          ],
          [
           "SEA",
           2.6333333333333333
          ],
          [
           "SEA",
           -1.3
          ],
          [
           "SEA",
           -3.6
          ],
          [
           "SEA",
           -2.1333333333333333
          ],
          [
           "SEA",
           27.866666666666664
          ],
          [
           "SEA",
           10.033333333333333
          ],
          [
           "TOR",
           31.3
          ],
          [
           "TOR",
           55.7
          ],
          [
           "TOR",
           10.7
          ],
          [
           "TOR",
           -0.5
          ],
          [
           "TOR",
           2.25
          ],
          [
           "TOR",
           -1
          ],
          [
           "TOR",
           -1.8
          ],
          [
           "TOR",
           14
          ],
          [
           "TOR",
           -2.6
          ],
          [
           "TOR",
           0.4000000000000001
          ],
          [
           "TOR",
           1.7
          ],
          [
           "TOR",
           3.5
          ],
          [
           "TOR",
           25.3
          ],
          [
           "TOR",
           6.2
          ],
          [
           "TOR",
           15.1
          ],
          [
           "TOR",
           0.4333333333333333
          ],
          [
           "TOR",
           -2.1333333333333333
          ],
          [
           "TOR",
           10.6
          ],
          [
           "TOR",
           11.45
          ],
          [
           "TOR",
           5.8
          ],
          [
           "TOR",
           -0.1
          ],
          [
           "TOR",
           -0.15000000000000002
          ],
          [
           "TOR",
           0.09999999999999994
          ],
          [
           "TOR",
           -0.3
          ],
          [
           "UTA",
           1.55
          ],
          [
           "UTA",
           -3.8
          ],
          [
           "UTA",
           -1.1500000000000001
          ],
          [
           "UTA",
           9.875000000000002
          ],
          [
           "UTA",
           -3.3
          ],
          [
           "UTA",
           -1.35
          ],
          [
           "UTA",
           -0.65
          ],
          [
           "UTA",
           3.45
          ],
          [
           "UTA",
           0.6
          ],
          [
           "UTA",
           11.666666666666666
          ],
          [
           "UTA",
           13.433333333333332
          ],
          [
           "UTA",
           -1.75
          ],
          [
           "UTA",
           -1.4000000000000001
          ],
          [
           "UTA",
           -1.9500000000000002
          ],
          [
           "UTA",
           12.5
          ],
          [
           "UTA",
           6.9
          ],
          [
           "UTA",
           -0.2
          ],
          [
           "UTA",
           1.2666666666666664
          ],
          [
           "UTA",
           0.2666666666666667
          ],
          [
           "UTA",
           -1.3
          ],
          [
           "UTA",
           -1.45
          ],
          [
           "UTA",
           1.4250000000000003
          ],
          [
           "UTA",
           -0.3500000000000001
          ],
          [
           "UTA",
           -0.35
          ],
          [
           "UTA",
           0.2
          ],
          [
           "UTA",
           0.7
          ],
          [
           "VAN",
           6.766666666666666
          ],
          [
           "VAN",
           3.5
          ],
          [
           "VAN",
           11.8
          ],
          [
           "VAN",
           6.099999999999999
          ],
          [
           "VAN",
           1.1
          ],
          [
           "WAS",
           -0.75
          ],
          [
           "WAS",
           -1.8
          ],
          [
           "WAS",
           6.75
          ],
          [
           "WAS",
           -0.1
          ],
          [
           "WAS",
           -1.3
          ],
          [
           "WAS",
           -1.275
          ],
          [
           "WAS",
           1.4500000000000002
          ],
          [
           "WAS",
           6.2
          ],
          [
           "WAS",
           3.8
          ],
          [
           "WAS",
           -1.9
          ],
          [
           "WAS",
           -0.45
          ],
          [
           "WAS",
           3.75
          ],
          [
           "WAS",
           -0.3
          ],
          [
           "WAS",
           9.733333333333334
          ],
          [
           "WAS",
           -0.3666666666666667
          ],
          [
           "WAS",
           12.5
          ],
          [
           "WAS",
           3.0999999999999996
          ],
          [
           "WAS",
           6.5
          ],
          [
           "WAS",
           -1.3
          ],
          [
           "WAS",
           -1.3
          ],
          [
           "WAS",
           -0.9
          ],
          [
           "WAS",
           -0.5
          ],
          [
           "WAS",
           0.1
          ],
          [
           "WAS",
           -1.85
          ],
          [
           "WSB",
           -3.1
          ]
         ],
         "hovertemplate": "<b>%{hovertext}</b><br><br>Season=%{x}<br>VORP_diff=%{y}<br>Tm=%{customdata[0]}<br>VORP=%{customdata[1]}<extra></extra>",
         "hovertext": [
          "ATL",
          "ATL",
          "ATL",
          "ATL",
          "ATL",
          "ATL",
          "ATL",
          "ATL",
          "ATL",
          "ATL",
          "ATL",
          "ATL",
          "ATL",
          "ATL",
          "ATL",
          "ATL",
          "ATL",
          "ATL",
          "ATL",
          "ATL",
          "ATL",
          "ATL",
          "ATL",
          "ATL",
          "ATL",
          "ATL",
          "BOS",
          "BOS",
          "BOS",
          "BOS",
          "BOS",
          "BOS",
          "BOS",
          "BOS",
          "BOS",
          "BOS",
          "BOS",
          "BOS",
          "BOS",
          "BOS",
          "BOS",
          "BOS",
          "BOS",
          "BOS",
          "BOS",
          "BOS",
          "BOS",
          "BOS",
          "BOS",
          "BOS",
          "BOS",
          "BOS",
          "BOS",
          "BRK",
          "BRK",
          "BRK",
          "BRK",
          "BRK",
          "BRK",
          "BRK",
          "BRK",
          "CHA",
          "CHA",
          "CHA",
          "CHA",
          "CHA",
          "CHA",
          "CHA",
          "CHA",
          "CHA",
          "CHH",
          "CHH",
          "CHH",
          "CHH",
          "CHH",
          "CHH",
          "CHI",
          "CHI",
          "CHI",
          "CHI",
          "CHI",
          "CHI",
          "CHI",
          "CHI",
          "CHI",
          "CHI",
          "CHI",
          "CHI",
          "CHI",
          "CHI",
          "CHI",
          "CHI",
          "CHI",
          "CHI",
          "CHI",
          "CHI",
          "CHI",
          "CHI",
          "CHI",
          "CHI",
          "CHI",
          "CHI",
          "CHO",
          "CHO",
          "CHO",
          "CHO",
          "CHO",
          "CHO",
          "CHO",
          "CHO",
          "CLE",
          "CLE",
          "CLE",
          "CLE",
          "CLE",
          "CLE",
          "CLE",
          "CLE",
          "CLE",
          "CLE",
          "CLE",
          "CLE",
          "CLE",
          "CLE",
          "CLE",
          "CLE",
          "CLE",
          "CLE",
          "CLE",
          "CLE",
          "CLE",
          "CLE",
          "DAL",
          "DAL",
          "DAL",
          "DAL",
          "DAL",
          "DAL",
          "DAL",
          "DAL",
          "DAL",
          "DAL",
          "DAL",
          "DAL",
          "DAL",
          "DAL",
          "DAL",
          "DAL",
          "DAL",
          "DAL",
          "DAL",
          "DAL",
          "DAL",
          "DAL",
          "DAL",
          "DAL",
          "DEN",
          "DEN",
          "DEN",
          "DEN",
          "DEN",
          "DEN",
          "DEN",
          "DEN",
          "DEN",
          "DEN",
          "DEN",
          "DEN",
          "DEN",
          "DEN",
          "DEN",
          "DEN",
          "DEN",
          "DEN",
          "DEN",
          "DEN",
          "DEN",
          "DEN",
          "DEN",
          "DET",
          "DET",
          "DET",
          "DET",
          "DET",
          "DET",
          "DET",
          "DET",
          "DET",
          "DET",
          "DET",
          "DET",
          "DET",
          "DET",
          "DET",
          "DET",
          "DET",
          "DET",
          "DET",
          "DET",
          "DET",
          "DET",
          "DET",
          "DET",
          "DET",
          "DET",
          "DET",
          "GSW",
          "GSW",
          "GSW",
          "GSW",
          "GSW",
          "GSW",
          "GSW",
          "GSW",
          "GSW",
          "GSW",
          "GSW",
          "GSW",
          "GSW",
          "GSW",
          "GSW",
          "GSW",
          "GSW",
          "GSW",
          "GSW",
          "GSW",
          "GSW",
          "GSW",
          "GSW",
          "GSW",
          "HOU",
          "HOU",
          "HOU",
          "HOU",
          "HOU",
          "HOU",
          "HOU",
          "HOU",
          "HOU",
          "HOU",
          "HOU",
          "HOU",
          "HOU",
          "HOU",
          "HOU",
          "HOU",
          "HOU",
          "HOU",
          "HOU",
          "HOU",
          "HOU",
          "HOU",
          "HOU",
          "HOU",
          "IND",
          "IND",
          "IND",
          "IND",
          "IND",
          "IND",
          "IND",
          "IND",
          "IND",
          "IND",
          "IND",
          "IND",
          "IND",
          "IND",
          "IND",
          "IND",
          "IND",
          "IND",
          "IND",
          "IND",
          "IND",
          "IND",
          "IND",
          "IND",
          "IND",
          "IND",
          "LAC",
          "LAC",
          "LAC",
          "LAC",
          "LAC",
          "LAC",
          "LAC",
          "LAC",
          "LAC",
          "LAC",
          "LAC",
          "LAC",
          "LAC",
          "LAC",
          "LAC",
          "LAC",
          "LAC",
          "LAC",
          "LAC",
          "LAC",
          "LAC",
          "LAC",
          "LAC",
          "LAC",
          "LAC",
          "LAL",
          "LAL",
          "LAL",
          "LAL",
          "LAL",
          "LAL",
          "LAL",
          "LAL",
          "LAL",
          "LAL",
          "LAL",
          "LAL",
          "LAL",
          "LAL",
          "LAL",
          "LAL",
          "LAL",
          "LAL",
          "LAL",
          "LAL",
          "LAL",
          "LAL",
          "LAL",
          "LAL",
          "LAL",
          "LAL",
          "MEM",
          "MEM",
          "MEM",
          "MEM",
          "MEM",
          "MEM",
          "MEM",
          "MEM",
          "MEM",
          "MEM",
          "MEM",
          "MEM",
          "MEM",
          "MEM",
          "MEM",
          "MEM",
          "MEM",
          "MEM",
          "MEM",
          "MEM",
          "MEM",
          "MIA",
          "MIA",
          "MIA",
          "MIA",
          "MIA",
          "MIA",
          "MIA",
          "MIA",
          "MIA",
          "MIA",
          "MIA",
          "MIA",
          "MIA",
          "MIA",
          "MIA",
          "MIA",
          "MIA",
          "MIA",
          "MIA",
          "MIA",
          "MIA",
          "MIL",
          "MIL",
          "MIL",
          "MIL",
          "MIL",
          "MIL",
          "MIL",
          "MIL",
          "MIL",
          "MIL",
          "MIL",
          "MIL",
          "MIL",
          "MIL",
          "MIL",
          "MIL",
          "MIL",
          "MIL",
          "MIL",
          "MIL",
          "MIL",
          "MIL",
          "MIL",
          "MIL",
          "MIL",
          "MIL",
          "MIN",
          "MIN",
          "MIN",
          "MIN",
          "MIN",
          "MIN",
          "MIN",
          "MIN",
          "MIN",
          "MIN",
          "MIN",
          "MIN",
          "MIN",
          "MIN",
          "MIN",
          "MIN",
          "MIN",
          "MIN",
          "MIN",
          "MIN",
          "MIN",
          "MIN",
          "MIN",
          "MIN",
          "MIN",
          "MIN",
          "NJN",
          "NJN",
          "NJN",
          "NJN",
          "NJN",
          "NJN",
          "NJN",
          "NJN",
          "NJN",
          "NJN",
          "NJN",
          "NJN",
          "NJN",
          "NJN",
          "NJN",
          "NJN",
          "NOH",
          "NOH",
          "NOH",
          "NOH",
          "NOH",
          "NOH",
          "NOH",
          "NOH",
          "NOH",
          "NOK",
          "NOK",
          "NOP",
          "NOP",
          "NOP",
          "NOP",
          "NOP",
          "NOP",
          "NOP",
          "NOP",
          "NYK",
          "NYK",
          "NYK",
          "NYK",
          "NYK",
          "NYK",
          "NYK",
          "NYK",
          "NYK",
          "NYK",
          "NYK",
          "NYK",
          "NYK",
          "NYK",
          "NYK",
          "NYK",
          "NYK",
          "NYK",
          "NYK",
          "NYK",
          "NYK",
          "NYK",
          "NYK",
          "NYK",
          "NYK",
          "NYK",
          "OKC",
          "OKC",
          "OKC",
          "OKC",
          "OKC",
          "OKC",
          "OKC",
          "OKC",
          "OKC",
          "OKC",
          "OKC",
          "OKC",
          "OKC",
          "ORL",
          "ORL",
          "ORL",
          "ORL",
          "ORL",
          "ORL",
          "ORL",
          "ORL",
          "ORL",
          "ORL",
          "ORL",
          "ORL",
          "ORL",
          "ORL",
          "ORL",
          "ORL",
          "ORL",
          "ORL",
          "ORL",
          "ORL",
          "ORL",
          "ORL",
          "ORL",
          "ORL",
          "ORL",
          "ORL",
          "PHI",
          "PHI",
          "PHI",
          "PHI",
          "PHI",
          "PHI",
          "PHI",
          "PHI",
          "PHI",
          "PHI",
          "PHI",
          "PHI",
          "PHI",
          "PHI",
          "PHI",
          "PHI",
          "PHI",
          "PHI",
          "PHI",
          "PHI",
          "PHI",
          "PHI",
          "PHI",
          "PHI",
          "PHI",
          "PHI",
          "PHI",
          "PHO",
          "PHO",
          "PHO",
          "PHO",
          "PHO",
          "PHO",
          "PHO",
          "PHO",
          "PHO",
          "PHO",
          "PHO",
          "PHO",
          "PHO",
          "PHO",
          "PHO",
          "PHO",
          "PHO",
          "PHO",
          "PHO",
          "PHO",
          "PHO",
          "PHO",
          "PHO",
          "PHO",
          "PHO",
          "POR",
          "POR",
          "POR",
          "POR",
          "POR",
          "POR",
          "POR",
          "POR",
          "POR",
          "POR",
          "POR",
          "POR",
          "POR",
          "POR",
          "POR",
          "POR",
          "POR",
          "POR",
          "POR",
          "POR",
          "POR",
          "POR",
          "POR",
          "SAC",
          "SAC",
          "SAC",
          "SAC",
          "SAC",
          "SAC",
          "SAC",
          "SAC",
          "SAC",
          "SAC",
          "SAC",
          "SAC",
          "SAC",
          "SAC",
          "SAC",
          "SAC",
          "SAC",
          "SAC",
          "SAC",
          "SAC",
          "SAC",
          "SAC",
          "SAC",
          "SAC",
          "SAC",
          "SAC",
          "SAS",
          "SAS",
          "SAS",
          "SAS",
          "SAS",
          "SAS",
          "SAS",
          "SAS",
          "SAS",
          "SAS",
          "SAS",
          "SAS",
          "SAS",
          "SAS",
          "SAS",
          "SAS",
          "SAS",
          "SAS",
          "SAS",
          "SAS",
          "SAS",
          "SAS",
          "SAS",
          "SAS",
          "SAS",
          "SAS",
          "SEA",
          "SEA",
          "SEA",
          "SEA",
          "SEA",
          "SEA",
          "SEA",
          "SEA",
          "SEA",
          "SEA",
          "SEA",
          "SEA",
          "SEA",
          "TOR",
          "TOR",
          "TOR",
          "TOR",
          "TOR",
          "TOR",
          "TOR",
          "TOR",
          "TOR",
          "TOR",
          "TOR",
          "TOR",
          "TOR",
          "TOR",
          "TOR",
          "TOR",
          "TOR",
          "TOR",
          "TOR",
          "TOR",
          "TOR",
          "TOR",
          "TOR",
          "TOR",
          "UTA",
          "UTA",
          "UTA",
          "UTA",
          "UTA",
          "UTA",
          "UTA",
          "UTA",
          "UTA",
          "UTA",
          "UTA",
          "UTA",
          "UTA",
          "UTA",
          "UTA",
          "UTA",
          "UTA",
          "UTA",
          "UTA",
          "UTA",
          "UTA",
          "UTA",
          "UTA",
          "UTA",
          "UTA",
          "UTA",
          "VAN",
          "VAN",
          "VAN",
          "VAN",
          "VAN",
          "WAS",
          "WAS",
          "WAS",
          "WAS",
          "WAS",
          "WAS",
          "WAS",
          "WAS",
          "WAS",
          "WAS",
          "WAS",
          "WAS",
          "WAS",
          "WAS",
          "WAS",
          "WAS",
          "WAS",
          "WAS",
          "WAS",
          "WAS",
          "WAS",
          "WAS",
          "WAS",
          "WAS",
          "WSB"
         ],
         "legendgroup": "",
         "marker": {
          "color": "#636efa",
          "size": 12,
          "symbol": "circle"
         },
         "mode": "markers",
         "name": "",
         "orientation": "v",
         "showlegend": false,
         "type": "scatter",
         "x": [
          1996,
          1997,
          1998,
          1999,
          2000,
          2001,
          2002,
          2003,
          2004,
          2005,
          2006,
          2007,
          2009,
          2010,
          2011,
          2012,
          2013,
          2014,
          2015,
          2016,
          2017,
          2018,
          2019,
          2020,
          2021,
          2022,
          1996,
          1997,
          1998,
          1999,
          2000,
          2001,
          2002,
          2003,
          2004,
          2005,
          2006,
          2007,
          2008,
          2009,
          2010,
          2011,
          2012,
          2013,
          2014,
          2015,
          2016,
          2017,
          2018,
          2019,
          2020,
          2021,
          2022,
          2013,
          2015,
          2016,
          2017,
          2018,
          2019,
          2020,
          2021,
          2004,
          2005,
          2006,
          2007,
          2008,
          2009,
          2011,
          2012,
          2013,
          1996,
          1998,
          1999,
          2000,
          2001,
          2014,
          1996,
          1997,
          1998,
          1999,
          2000,
          2001,
          2002,
          2003,
          2004,
          2006,
          2007,
          2008,
          2009,
          2010,
          2011,
          2012,
          2013,
          2014,
          2015,
          2016,
          2017,
          2018,
          2019,
          2020,
          2021,
          2022,
          2015,
          2016,
          2017,
          2018,
          2019,
          2020,
          2021,
          2022,
          1996,
          1997,
          1998,
          1999,
          2000,
          2001,
          2002,
          2003,
          2004,
          2006,
          2008,
          2009,
          2011,
          2012,
          2013,
          2014,
          2015,
          2018,
          2019,
          2020,
          2021,
          2022,
          1996,
          1997,
          1998,
          1999,
          2000,
          2001,
          2002,
          2003,
          2004,
          2006,
          2007,
          2008,
          2009,
          2010,
          2011,
          2012,
          2013,
          2015,
          2016,
          2017,
          2018,
          2019,
          2020,
          2022,
          1996,
          1997,
          1998,
          1999,
          2000,
          2001,
          2002,
          2003,
          2004,
          2005,
          2006,
          2009,
          2011,
          2012,
          2013,
          2014,
          2015,
          2016,
          2017,
          2018,
          2020,
          2021,
          2022,
          1996,
          1997,
          1998,
          1999,
          2000,
          2001,
          2002,
          2003,
          2004,
          2005,
          2006,
          2007,
          2008,
          2009,
          2010,
          2011,
          2012,
          2013,
          2014,
          2015,
          2016,
          2017,
          2018,
          2019,
          2020,
          2021,
          2022,
          1996,
          1997,
          1998,
          1999,
          2000,
          2001,
          2002,
          2003,
          2004,
          2005,
          2006,
          2007,
          2008,
          2009,
          2010,
          2011,
          2012,
          2015,
          2016,
          2018,
          2019,
          2020,
          2021,
          2022,
          1996,
          1997,
          1998,
          1999,
          2000,
          2001,
          2002,
          2003,
          2004,
          2005,
          2006,
          2007,
          2008,
          2010,
          2011,
          2012,
          2013,
          2014,
          2015,
          2016,
          2017,
          2018,
          2021,
          2022,
          1996,
          1997,
          1998,
          1999,
          2000,
          2001,
          2002,
          2003,
          2004,
          2005,
          2006,
          2008,
          2009,
          2010,
          2011,
          2012,
          2013,
          2014,
          2015,
          2016,
          2017,
          2018,
          2019,
          2020,
          2021,
          2022,
          1996,
          1997,
          1998,
          1999,
          2000,
          2001,
          2002,
          2003,
          2004,
          2005,
          2006,
          2007,
          2008,
          2009,
          2010,
          2011,
          2012,
          2013,
          2014,
          2016,
          2018,
          2019,
          2020,
          2021,
          2022,
          1996,
          1997,
          1998,
          1999,
          2000,
          2002,
          2003,
          2004,
          2005,
          2006,
          2007,
          2008,
          2009,
          2010,
          2011,
          2012,
          2013,
          2014,
          2015,
          2016,
          2017,
          2018,
          2019,
          2020,
          2021,
          2022,
          2001,
          2002,
          2003,
          2004,
          2005,
          2006,
          2007,
          2008,
          2009,
          2010,
          2011,
          2012,
          2013,
          2014,
          2015,
          2016,
          2018,
          2019,
          2020,
          2021,
          2022,
          1997,
          1998,
          1999,
          2000,
          2001,
          2002,
          2003,
          2004,
          2005,
          2007,
          2008,
          2009,
          2010,
          2011,
          2012,
          2014,
          2015,
          2017,
          2019,
          2020,
          2022,
          1996,
          1997,
          1998,
          1999,
          2000,
          2001,
          2002,
          2003,
          2005,
          2006,
          2007,
          2008,
          2009,
          2010,
          2011,
          2012,
          2013,
          2014,
          2015,
          2016,
          2017,
          2018,
          2019,
          2020,
          2021,
          2022,
          1996,
          1997,
          1998,
          1999,
          2000,
          2001,
          2002,
          2003,
          2004,
          2005,
          2006,
          2007,
          2008,
          2009,
          2010,
          2011,
          2012,
          2013,
          2014,
          2015,
          2016,
          2017,
          2018,
          2019,
          2020,
          2022,
          1996,
          1997,
          1999,
          2000,
          2001,
          2002,
          2003,
          2004,
          2005,
          2006,
          2007,
          2008,
          2009,
          2010,
          2011,
          2012,
          2003,
          2004,
          2005,
          2008,
          2009,
          2010,
          2011,
          2012,
          2013,
          2006,
          2007,
          2015,
          2016,
          2017,
          2018,
          2019,
          2020,
          2021,
          2022,
          1996,
          1997,
          1998,
          1999,
          2000,
          2001,
          2002,
          2003,
          2004,
          2005,
          2006,
          2007,
          2008,
          2009,
          2010,
          2011,
          2012,
          2013,
          2014,
          2015,
          2017,
          2018,
          2019,
          2020,
          2021,
          2022,
          2009,
          2010,
          2011,
          2012,
          2013,
          2014,
          2015,
          2017,
          2018,
          2019,
          2020,
          2021,
          2022,
          1996,
          1997,
          1998,
          1999,
          2000,
          2001,
          2002,
          2003,
          2004,
          2005,
          2006,
          2007,
          2008,
          2010,
          2011,
          2012,
          2013,
          2014,
          2015,
          2016,
          2017,
          2018,
          2019,
          2020,
          2021,
          2022,
          1996,
          1997,
          1998,
          1999,
          2000,
          2001,
          2002,
          2003,
          2004,
          2005,
          2006,
          2007,
          2008,
          2009,
          2010,
          2011,
          2012,
          2013,
          2014,
          2015,
          2016,
          2017,
          2018,
          2019,
          2020,
          2021,
          2022,
          1996,
          1997,
          1999,
          2000,
          2001,
          2002,
          2003,
          2004,
          2005,
          2006,
          2007,
          2008,
          2009,
          2010,
          2011,
          2012,
          2013,
          2014,
          2015,
          2016,
          2017,
          2018,
          2019,
          2020,
          2021,
          1996,
          1997,
          1999,
          2000,
          2001,
          2002,
          2003,
          2004,
          2005,
          2006,
          2007,
          2008,
          2009,
          2010,
          2011,
          2012,
          2013,
          2015,
          2017,
          2018,
          2019,
          2020,
          2022,
          1996,
          1997,
          1998,
          1999,
          2000,
          2001,
          2002,
          2004,
          2005,
          2006,
          2007,
          2008,
          2009,
          2010,
          2011,
          2012,
          2013,
          2014,
          2015,
          2016,
          2017,
          2018,
          2019,
          2020,
          2021,
          2022,
          1997,
          1998,
          1999,
          2000,
          2001,
          2002,
          2003,
          2004,
          2005,
          2006,
          2007,
          2008,
          2009,
          2010,
          2011,
          2012,
          2013,
          2014,
          2015,
          2016,
          2017,
          2018,
          2019,
          2020,
          2021,
          2022,
          1996,
          1997,
          1998,
          1999,
          2000,
          2001,
          2002,
          2003,
          2004,
          2005,
          2006,
          2007,
          2008,
          1996,
          1997,
          1998,
          1999,
          2000,
          2001,
          2002,
          2003,
          2004,
          2005,
          2006,
          2008,
          2009,
          2010,
          2011,
          2012,
          2014,
          2015,
          2016,
          2017,
          2019,
          2020,
          2021,
          2022,
          1996,
          1997,
          1998,
          1999,
          2000,
          2001,
          2002,
          2003,
          2004,
          2005,
          2006,
          2007,
          2008,
          2009,
          2010,
          2011,
          2012,
          2013,
          2014,
          2015,
          2016,
          2017,
          2018,
          2019,
          2020,
          2021,
          1996,
          1997,
          1998,
          1999,
          2000,
          1997,
          1998,
          1999,
          2000,
          2001,
          2002,
          2003,
          2004,
          2005,
          2006,
          2007,
          2008,
          2009,
          2010,
          2011,
          2012,
          2013,
          2014,
          2015,
          2018,
          2019,
          2020,
          2021,
          2022,
          1996
         ],
         "xaxis": "x",
         "y": [
          -1.4375,
          -1.2604938271604935,
          -2.4166666666666665,
          6.699999999999999,
          -4.177777777777778,
          20.444444444444443,
          -1.4370370370370371,
          5.8277777777777775,
          2.405185185185185,
          -3.846114742193173,
          -5.090740740740742,
          11.59074074074074,
          5.80925925925926,
          -2.2037037037037037,
          -2.437037037037037,
          -1.6296296296296298,
          -0.4694444444444445,
          -3.675925925925926,
          -2.679448075526507,
          -1.7888888888888888,
          2.911111111111111,
          3.5944444444444446,
          -5.637037037037037,
          -2.346296296296296,
          -1.5981481481481483,
          -1.8777777777777778,
          4.840740740740741,
          5.4790123456790125,
          62.25925925925926,
          -2.1333333333333333,
          -2.811111111111111,
          6.246913580246914,
          0.4703703703703704,
          -4.065432098765432,
          6.9712962962962965,
          0.9592592592592593,
          -1.166666666666667,
          -1.4092592592592594,
          -1.2037037037037037,
          -0.9888888888888889,
          -1.125925925925926,
          -0.34444444444444444,
          -0.01975308641975289,
          -1.4444444444444446,
          -2.0907407407407406,
          -0.5640046296296298,
          -2.743981481481481,
          0.6731481481481483,
          6.018518518518519,
          -1.8972222222222221,
          -2.0296296296296297,
          -3.674074074074074,
          -1.0703703703703704,
          12.248148148148148,
          0.5055555555555558,
          -2.1333333333333333,
          3.0777777777777775,
          -2.1098765432098765,
          -1.051851851851852,
          1.0796296296296295,
          -1.797549019607843,
          -8.066666666666666,
          0.10740740740740695,
          -9.268518518518517,
          1.1333333333333337,
          -2.245679012345679,
          -3.3123456790123456,
          12.407407407407407,
          -10.807407407407407,
          -9.133333333333333,
          25.780246913580243,
          0.8314814814814815,
          8.762962962962963,
          -4.407407407407407,
          -3.7444444444444445,
          -1.1444444444444442,
          -4.018518518518519,
          -1.0631944444444446,
          -0.27669753086419746,
          12.084259259259257,
          -5.996296296296296,
          -7.637037037037037,
          -8.07530864197531,
          3.382407407407407,
          -1.4061728395061726,
          5.648148148148147,
          3.4679012345679006,
          2.872222222222222,
          5.012962962962963,
          -7.318518518518519,
          13.097376543209878,
          -3.9185185185185185,
          -1.3666666666666667,
          2.0246913580246915,
          2.5481481481481487,
          -3.5074074074074075,
          -1.25,
          -2.459259259259259,
          -0.8611111111111109,
          -6.772222222222221,
          -0.4555555555555555,
          -2.522222222222222,
          -4.635185185185185,
          -2.851851851851851,
          -2.383333333333333,
          4.227777777777778,
          -1.4185185185185185,
          -3.645679012345678,
          -2.5790123456790126,
          -3.3209876543209877,
          -2.467901234567902,
          5.192592592592592,
          0.16296296296296287,
          5.519753086419752,
          4.318518518518518,
          -5.166666666666667,
          6.824074074074076,
          66.76851851851852,
          -3.5407407407407407,
          -0.7469135802469135,
          -0.8074074074074074,
          9.209259259259259,
          3.3435185185185183,
          -2.9935185185185187,
          -4.292592592592593,
          -1.6537037037037043,
          1.346296296296296,
          -14.78148148148148,
          -3.005555555555556,
          -7.681481481481482,
          -9.607407407407406,
          -3.698148148148148,
          -5.738271604938272,
          0.11296296296296303,
          -1.131481481481481,
          -1.498148148148148,
          -3.598765432098766,
          -1.4796296296296296,
          -2.1333333333333333,
          2.974074074074074,
          0.3703703703703704,
          -1.2631944444444445,
          -2.4166666666666665,
          -1.3,
          -3.964814814814815,
          0.5703703703703704,
          -1.5814814814814815,
          -2.9759259259259263,
          5.692592592592592,
          -1.8759259259259258,
          -0.2777777777777777,
          -9.922222222222222,
          5.590123456790123,
          -1.337037037037037,
          -3.638888888888889,
          -6.12962962962963,
          -3.314814814814815,
          -2.5111111111111115,
          -1.77037037037037,
          2.9358024691358025,
          -0.8,
          -3.4074074074074074,
          -3.9123456790123465,
          9.957407407407409,
          7.34074074074074,
          -1.651851851851852,
          2.025925925925926,
          -5.703703703703704,
          5.348148148148148,
          -0.8814814814814814,
          27.818518518518516,
          15.541975308641973,
          -4.15,
          0.29555555555555546,
          6.907407407407407,
          -1.7444444444444445,
          -2.4518518518518513,
          -2.1296296296296298,
          -2.3074074074074074,
          4.37037037037037,
          -0.8722222222222222,
          0.4259259259259265,
          -1.7481481481481482,
          -2.7944444444444443,
          2.4111111111111114,
          12.907407407407408,
          -4.434567901234567,
          -1.7481481481481482,
          3.088888888888889,
          null,
          0.26666666666666666,
          -4.271023965141612,
          -0.7833333333333334,
          3.537037037037037,
          -4.175308641975309,
          7.406172839506173,
          -3.9703703703703703,
          7.644444444444444,
          -8.218518518518518,
          -0.648148148148148,
          -3.5518518518518523,
          1.2481481481481482,
          -3.2796296296296297,
          -7.466666666666667,
          -3.785185185185185,
          -5.37962962962963,
          -4.874074074074073,
          -7.268518518518518,
          51.01851851851852,
          2,
          0.2666666666666667,
          13.961728395061728,
          -1.0555555555555554,
          -0.6240740740740739,
          2.0888888888888886,
          -1.3037037037037036,
          -6.488888888888889,
          -0.019753086419753114,
          -3.725925925925926,
          60.633333333333326,
          -7.062962962962962,
          5.988888888888889,
          6.074074074074074,
          3.696296296296296,
          -0.2037037037037036,
          -1.4375,
          0.6010802469135802,
          -7.032098765432099,
          -5.722222222222222,
          -1.3902777777777777,
          -3.3283950617283953,
          -4.270370370370371,
          0.0962962962962961,
          -1.730864197530864,
          -2.8888888888888884,
          0.3271604938271606,
          1.2506172839506167,
          -3.7111111111111112,
          -2.1333333333333333,
          1.162962962962963,
          6.04074074074074,
          -1.0388888888888888,
          11.54814814814815,
          0.9222222222222225,
          4.224691358024692,
          -1.6395061728395062,
          -3.1037037037037036,
          5.446296296296295,
          4.92037037037037,
          -0.1518518518518519,
          -0.5703703703703704,
          4.522222222222222,
          -9.562962962962963,
          -9.162962962962961,
          0.5574074074074071,
          -1.7518518518518524,
          1.4444444444444446,
          -3.3296296296296295,
          -3.087037037037037,
          -3.2703703703703706,
          -3.8777777777777778,
          7.125925925925927,
          -3.5710239651416122,
          5.401851851851852,
          -2.7462962962962965,
          -0.9407407407407407,
          -2.224074074074074,
          12.129629629629628,
          21.63148148148148,
          -2.8296296296296295,
          -3.2314814814814814,
          -1.1333333333333333,
          4.061111111111111,
          1.0055555555555553,
          -2.964814814814815,
          -2.4611111111111112,
          -0.6259259259259259,
          0.9518518518518518,
          -1.2259259259259259,
          -3.9691358024691357,
          -5.612962962962963,
          -11.777777777777779,
          -11.229629629629631,
          6.855555555555555,
          -0.6777777777777771,
          -2.359259259259261,
          -8.0679012345679,
          -6.583333333333333,
          -4.716666666666666,
          -4.044444444444444,
          -2.474074074074074,
          -6.675925925925926,
          12.922222222222224,
          22.492592592592587,
          -4.6648148148148145,
          -2.3222222222222224,
          1.8296296296296297,
          0.34444444444444455,
          -0.8375000000000001,
          -2.627777777777778,
          -3.927777777777778,
          -0.06481481481481488,
          1.6666666666666667,
          -0.9555555555555555,
          -1.9666666666666668,
          5.862962962962963,
          -1.8462962962962963,
          1.6802469135802471,
          -2.5481481481481483,
          -5.818518518518518,
          -2.1814814814814816,
          -0.13703703703703707,
          -1.087037037037037,
          3.0246913580246915,
          1.1351851851851853,
          10.97283950617284,
          -0.9888888888888889,
          2.4020334059549744,
          1.2222222222222223,
          -1.4574074074074073,
          null,
          0.16296296296296287,
          8.633333333333333,
          -1.7481481481481485,
          -3.848148148148149,
          -6.248379629629629,
          -0.9314814814814814,
          -15.433333333333334,
          -1.1375000000000002,
          -1.7518518518518515,
          -0.0888888888888889,
          6.479629629629629,
          0.41728395061728446,
          -2.0425925925925927,
          -1.374074074074074,
          -0.9074074074074073,
          39.76296296296296,
          23.06666666666667,
          13.190509259259256,
          -4.866666666666666,
          -3.414969135802469,
          1.1259259259259262,
          -3.3555555555555556,
          0.24814814814814817,
          -1.9518518518518515,
          -3.9555555555555557,
          -2.6759259259259256,
          -3.485185185185185,
          -9.55925925925926,
          -1.937037037037037,
          0.1407407407407406,
          -1.3259259259259257,
          -3.5925925925925926,
          -1.3,
          -1.2129629629629628,
          3.009259259259259,
          1.5259259259259261,
          6.9944444444444445,
          26.30925925925926,
          2.7049382716049384,
          -3.2185185185185183,
          -5.1037037037037045,
          -9.001851851851853,
          7.333333333333334,
          -1.949074074074074,
          4.7444444444444445,
          -1.4814814814814816,
          -1.9314814814814818,
          0.061111111111111116,
          8.022222222222222,
          -0.007407407407407446,
          -4.95925925925926,
          -1.4814814814814816,
          5.832098765432099,
          -3.2444444444444445,
          27.90740740740741,
          -2.437037037037037,
          6.458024691358024,
          -1.9444444444444444,
          -2.8240740740740744,
          -3.1790123456790123,
          7.266666666666666,
          -0.6481481481481481,
          -3.0777777777777775,
          -6.7592592592592595,
          6.294444444444445,
          -2.0101851851851853,
          -1.738888888888889,
          -2.764814814814815,
          22.674074074074074,
          -5.002777777777778,
          0.1518518518518519,
          1.9148148148148145,
          -1.927777777777778,
          -0.21851851851851878,
          -0.4037037037037037,
          -2.7555555555555555,
          -1.7555555555555555,
          -3.537037037037037,
          50.71851851851852,
          -4.0851851851851855,
          -0.9481481481481482,
          -2.0641975308641975,
          1.6,
          -0.37777777777777766,
          -1.9444444444444444,
          -4.131481481481481,
          -0.9888888888888889,
          -4.742592592592592,
          1.726851851851852,
          -1.9185185185185185,
          -1.6222222222222211,
          0.9857253086419754,
          -4.0274074074074075,
          -11.60925925925926,
          1.7111111111111112,
          -2.579956427015251,
          1.3694444444444442,
          5.692592592592592,
          -6.481481481481482,
          2.333333333333333,
          -1.8981481481481484,
          1.9111111111111114,
          -3.7753086419753092,
          -2.2527777777777778,
          3.9185185185185194,
          2.662962962962963,
          -3.1037037037037036,
          0.7666666666666658,
          -1.677777777777778,
          -1.8425925925925926,
          9.874074074074073,
          -2.1759259259259256,
          -2.675925925925926,
          -4.364197530864198,
          -4.318518518518519,
          9.838271604938273,
          -3.111111111111111,
          -0.4481481481481476,
          -2.3703703703703707,
          -1.1333333333333333,
          12.77037037037037,
          4.183333333333334,
          43.93333333333334,
          -1.7814814814814817,
          11.192592592592593,
          -0.711111111111111,
          -0.17407407407407394,
          9.191358024691358,
          -0.4629629629629619,
          -5.201234567901235,
          -1.9851851851851854,
          -3.0925925925925926,
          -1.2160493827160492,
          -2.1907407407407407,
          -1.3,
          -0.82962962962963,
          -1.9012345679012344,
          -1.6833333333333333,
          -7.465432098765432,
          -2.1790123456790123,
          -3.6555555555555554,
          -1.2833333333333332,
          -5.131481481481481,
          -1.6999999999999997,
          -2.7574074074074075,
          5.287037037037037,
          -5.158024691358025,
          22.933333333333334,
          3.422222222222222,
          -3.6388888888888893,
          -1.5925925925925926,
          12.937037037037038,
          -17.18148148148148,
          0.9481481481481482,
          -2.818518518518519,
          0.46296296296296285,
          1.9629629629629628,
          -1.1518518518518517,
          -0.13333333333333286,
          -6.593827160493827,
          -2.4907407407407405,
          -6.92037037037037,
          -8.887037037037036,
          -0.6601851851851851,
          -3.5314814814814817,
          30.76851851851852,
          2.435185185185185,
          5.2629629629629635,
          -1.2375,
          0.3641975308641973,
          -2.812962962962963,
          -1.7574074074074075,
          -4.307407407407407,
          0.39814814814814814,
          3.8925925925925924,
          1.8870370370370368,
          -2.737654320987654,
          -8.77962962962963,
          -0.02777777777777768,
          -2.662962962962963,
          -2.698148148148148,
          -3.2555555555555555,
          1.5246913580246908,
          -3.358024691358025,
          -3.1222222222222222,
          -1.4685185185185188,
          11.876543209876543,
          -2.7925925925925923,
          2.169135802469136,
          -3.7111111111111112,
          5.7481481481481485,
          -2.8210239651416122,
          1.9296296296296296,
          1.9092592592592594,
          -4.77962962962963,
          -4.142592592592592,
          -4.6907407407407415,
          4.403703703703704,
          -2.6018518518518516,
          -0.9407407407407407,
          -1.261111111111111,
          -2.685185185185185,
          -7.720987654320987,
          -5.322222222222223,
          8.44074074074074,
          -5.714814814814815,
          -2.3092592592592593,
          1.6925925925925926,
          -1.5481481481481483,
          0.5333333333333333,
          -3.4592592592592593,
          -2.4296296296296296,
          31.877777777777773,
          22.625925925925927,
          9.196296296296296,
          1.0703703703703702,
          -3.9444444444444446,
          23.68148148148148,
          -18.75925925925926,
          12.362962962962962,
          0.36419753086419737,
          -0.7506172839506172,
          2.180952380952381,
          -2.9259259259259256,
          -1.5913580246913588,
          -2.5844444444444448,
          0.5666666666666669,
          -1.4881481481481482,
          0.23333333333333348,
          -0.14583333333333334,
          -5.692592592592592,
          13.9,
          12.333333333333332,
          38.17777777777778,
          -3.6555555555555554,
          1.2000000000000002,
          5.012962962962963,
          -4.4185185185185185,
          17.93333333333333,
          10.529629629629628,
          9.855555555555556,
          -0.09302832244008728,
          -0.9111111111111114,
          -2.6160493827160494,
          -3.1777777777777776,
          -0.5037037037037035,
          -4.303703703703704,
          -3.0728395061728393,
          -0.7527777777777778,
          4.342592592592592,
          -5.744560185185185,
          -6.172839506172839,
          -2.1077342047930285,
          -5.199999999999999,
          -3.0407407407407407,
          -3.0185185185185186,
          4.351851851851852,
          1.2203703703703705,
          -1.9444444444444444,
          -0.7375,
          8.981481481481483,
          -1.9580246913580248,
          -2.3703703703703702,
          -4.458024691358024,
          -2.911111111111111,
          -4.930864197530864,
          -1.4622222222222223,
          -0.44907407407407407,
          1.814814814814815,
          -3.0277777777777777,
          -2.1537037037037035,
          10.82962962962963,
          2.375,
          -2.7925925925925927,
          -4.391358024691358,
          -2.7370370370370374,
          -2.6555555555555554,
          -2.411111111111111,
          -2.4864197530864196,
          9.725925925925926,
          -1.7740740740740741,
          2.137037037037037,
          -3.674074074074074,
          7.540740740740741,
          9.555555555555555,
          0.9868055555555555,
          5.316666666666667,
          0.6074074074074076,
          -1.9074074074074074,
          0.159259259259259,
          -4.390123456790124,
          -1.093827160493827,
          14.50925925925926,
          -3.477777777777778,
          -4.370370370370371,
          -4.462962962962963,
          -15.78148148148148,
          -3.462962962962962,
          -8.552505446623094,
          -1.4753086419753092,
          -8.798148148148147,
          -1.4722222222222219,
          1.737037037037037,
          -5.585185185185185,
          -8.285185185185185,
          80.79259259259258,
          -2.740740740740741,
          21.774074074074075,
          -2.5092592592592595,
          8.46033950617284,
          2.9814814814814814,
          7.9624999999999995,
          0.3949074074074075,
          -0.5375000000000001,
          0.2764705882352941,
          0.15787037037037033,
          10.187654320987654,
          0.49753086419753084,
          -3.216666666666667,
          -0.7210239651416122,
          -2.523529411764706,
          -2.363194444444445,
          5.053703703703703,
          -4.131481481481481,
          6.981481481481482,
          2.6789760348583878,
          -0.8981481481481481,
          -0.5333333333333333,
          -0.1407407407407406,
          -4.261111111111111,
          -5.6231481481481485,
          -2.100925925925926,
          0.03456790123456788,
          9.727160493827162,
          10.096296296296297,
          -3.592592592592593,
          1.1864197530864196,
          -1.374074074074074,
          -2.033333333333333,
          -3.803703703703704,
          -3.808641975308642,
          -3.149382716049383,
          20.96543209876543,
          7.398765432098766,
          12.040740740740741,
          46.27777777777778,
          3.97962962962963,
          -7.616666666666667,
          1.1074074074074074,
          -4.718518518518518,
          -6.059259259259259,
          8.011111111111113,
          -9.864814814814814,
          -1.1925925925925926,
          -1.72962962962963,
          -0.21851851851851878,
          15.877777777777778,
          2.9962962962962965,
          8.218518518518518,
          -4.637037037037037,
          -3.7399419026870007,
          6.34074074074074,
          6.048148148148148,
          0.7074074074074073,
          0.4764705882352941,
          -1.3210239651416122,
          -4.406172839506173,
          -0.5,
          1.0981481481481483,
          -3.507407407407407,
          -1.625925925925926,
          9.157291666666666,
          -5.511111111111111,
          -1.8537037037037039,
          -1.4574074074074073,
          2.642592592592593,
          -3.4098765432098763,
          6.862962962962964,
          11.14567901234568,
          -2.3944444444444444,
          -2.6246913580246916,
          -3.7444444444444445,
          8.272222222222222,
          -3.579629629629629,
          -0.5074074074074073,
          -1.654320987654321,
          -3.720987654320988,
          -3.717283950617284,
          -3.949382716049383,
          0.31851851851851865,
          -0.8759259259259259,
          -1.8814814814814813,
          -0.5685185185185184,
          -0.4037037037037037,
          2.1135802469135805,
          -2.051851851851852,
          2.1740740740740745,
          -0.0987654320987658,
          -18.159259259259258,
          0.07407407407407418,
          -0.6666666666666667,
          4.272222222222222,
          -0.0888888888888889,
          -11.60740740740741,
          -3.403703703703704,
          -0.24814814814814845,
          2.64074074074074,
          5.525925925925926,
          -2.8796296296296298,
          -2.275925925925926,
          2.2851851851851848,
          -0.537037037037037,
          5.933333333333334,
          -4.729629629629629,
          5.577777777777779,
          -1.0370370370370365,
          6.4222222222222225,
          -1.0907407407407406,
          -3.598148148148148,
          -10.322222222222223,
          -5.77962962962963,
          -3.8851851851851853,
          -2.7944444444444447,
          -2.1333333333333333
         ],
         "yaxis": "y"
        },
        {
         "customdata": [
          [
           "BOS",
           8.85
          ],
          [
           "BOS",
           12.633333333333333
          ],
          [
           "BOS",
           65.5
          ],
          [
           "BOS",
           -3.1
          ],
          [
           "BOS",
           -0.3
          ],
          [
           "BOS",
           8.9
          ],
          [
           "BOS",
           -0.2
          ],
          [
           "BOS",
           -1.5333333333333332
          ],
          [
           "BOS",
           9.75
          ],
          [
           "BOS",
           0.9333333333333332
          ],
          [
           "BOS",
           3.8
          ],
          [
           "BOS",
           2.1500000000000004
          ],
          [
           "BOS",
           -0.25
          ],
          [
           "BOS",
           -3.1
          ],
          [
           "BOS",
           -1.05
          ],
          [
           "BOS",
           0.30000000000000004
          ],
          [
           "BOS",
           0.8333333333333334
          ],
          [
           "BOS",
           1.9
          ],
          [
           "BOS",
           3.7
          ],
          [
           "BOS",
           0.625
          ],
          [
           "BOS",
           -0.2250000000000001
          ],
          [
           "BOS",
           3.8499999999999996
          ],
          [
           "BOS",
           7.4
          ],
          [
           "BOS",
           0.875
          ],
          [
           "BOS",
           0.7000000000000001
          ],
          [
           "BOS",
           -3.1
          ],
          [
           "BOS",
           -3.1
          ]
         ],
         "hovertemplate": "<b>%{hovertext}</b><br><br>Season=%{x}<br>VORP_diff=%{y}<br>Tm=%{customdata[0]}<br>VORP=%{customdata[1]}<extra></extra>",
         "hovertext": [
          "BOS",
          "BOS",
          "BOS",
          "BOS",
          "BOS",
          "BOS",
          "BOS",
          "BOS",
          "BOS",
          "BOS",
          "BOS",
          "BOS",
          "BOS",
          "BOS",
          "BOS",
          "BOS",
          "BOS",
          "BOS",
          "BOS",
          "BOS",
          "BOS",
          "BOS",
          "BOS",
          "BOS",
          "BOS",
          "BOS",
          "BOS"
         ],
         "legendgroup": "",
         "marker": {
          "color": "red",
          "size": 12,
          "symbol": "circle"
         },
         "mode": "markers",
         "name": "",
         "orientation": "v",
         "showlegend": false,
         "type": "scatter",
         "x": [
          1996,
          1997,
          1998,
          1999,
          2000,
          2001,
          2002,
          2003,
          2004,
          2005,
          2006,
          2007,
          2008,
          2009,
          2010,
          2011,
          2012,
          2013,
          2014,
          2015,
          2016,
          2017,
          2018,
          2019,
          2020,
          2021,
          2022
         ],
         "xaxis": "x",
         "y": [
          4.840740740740741,
          5.4790123456790125,
          62.25925925925926,
          -2.1333333333333333,
          -2.811111111111111,
          6.246913580246914,
          0.4703703703703704,
          -4.065432098765432,
          6.9712962962962965,
          0.9592592592592593,
          -1.166666666666667,
          -1.4092592592592594,
          -1.2037037037037037,
          -0.9888888888888889,
          -1.125925925925926,
          -0.34444444444444444,
          -0.01975308641975289,
          -1.4444444444444446,
          -2.0907407407407406,
          -0.5640046296296298,
          -2.743981481481481,
          0.6731481481481483,
          6.018518518518519,
          -1.8972222222222221,
          -2.0296296296296297,
          -3.674074074074074,
          -1.0703703703703704
         ],
         "yaxis": "y"
        }
       ],
       "layout": {
        "legend": {
         "tracegroupgap": 0
        },
        "margin": {
         "t": 60
        },
        "template": {
         "data": {
          "bar": [
           {
            "error_x": {
             "color": "#2a3f5f"
            },
            "error_y": {
             "color": "#2a3f5f"
            },
            "marker": {
             "line": {
              "color": "#E5ECF6",
              "width": 0.5
             },
             "pattern": {
              "fillmode": "overlay",
              "size": 10,
              "solidity": 0.2
             }
            },
            "type": "bar"
           }
          ],
          "barpolar": [
           {
            "marker": {
             "line": {
              "color": "#E5ECF6",
              "width": 0.5
             },
             "pattern": {
              "fillmode": "overlay",
              "size": 10,
              "solidity": 0.2
             }
            },
            "type": "barpolar"
           }
          ],
          "carpet": [
           {
            "aaxis": {
             "endlinecolor": "#2a3f5f",
             "gridcolor": "white",
             "linecolor": "white",
             "minorgridcolor": "white",
             "startlinecolor": "#2a3f5f"
            },
            "baxis": {
             "endlinecolor": "#2a3f5f",
             "gridcolor": "white",
             "linecolor": "white",
             "minorgridcolor": "white",
             "startlinecolor": "#2a3f5f"
            },
            "type": "carpet"
           }
          ],
          "choropleth": [
           {
            "colorbar": {
             "outlinewidth": 0,
             "ticks": ""
            },
            "type": "choropleth"
           }
          ],
          "contour": [
           {
            "colorbar": {
             "outlinewidth": 0,
             "ticks": ""
            },
            "colorscale": [
             [
              0,
              "#0d0887"
             ],
             [
              0.1111111111111111,
              "#46039f"
             ],
             [
              0.2222222222222222,
              "#7201a8"
             ],
             [
              0.3333333333333333,
              "#9c179e"
             ],
             [
              0.4444444444444444,
              "#bd3786"
             ],
             [
              0.5555555555555556,
              "#d8576b"
             ],
             [
              0.6666666666666666,
              "#ed7953"
             ],
             [
              0.7777777777777778,
              "#fb9f3a"
             ],
             [
              0.8888888888888888,
              "#fdca26"
             ],
             [
              1,
              "#f0f921"
             ]
            ],
            "type": "contour"
           }
          ],
          "contourcarpet": [
           {
            "colorbar": {
             "outlinewidth": 0,
             "ticks": ""
            },
            "type": "contourcarpet"
           }
          ],
          "heatmap": [
           {
            "colorbar": {
             "outlinewidth": 0,
             "ticks": ""
            },
            "colorscale": [
             [
              0,
              "#0d0887"
             ],
             [
              0.1111111111111111,
              "#46039f"
             ],
             [
              0.2222222222222222,
              "#7201a8"
             ],
             [
              0.3333333333333333,
              "#9c179e"
             ],
             [
              0.4444444444444444,
              "#bd3786"
             ],
             [
              0.5555555555555556,
              "#d8576b"
             ],
             [
              0.6666666666666666,
              "#ed7953"
             ],
             [
              0.7777777777777778,
              "#fb9f3a"
             ],
             [
              0.8888888888888888,
              "#fdca26"
             ],
             [
              1,
              "#f0f921"
             ]
            ],
            "type": "heatmap"
           }
          ],
          "heatmapgl": [
           {
            "colorbar": {
             "outlinewidth": 0,
             "ticks": ""
            },
            "colorscale": [
             [
              0,
              "#0d0887"
             ],
             [
              0.1111111111111111,
              "#46039f"
             ],
             [
              0.2222222222222222,
              "#7201a8"
             ],
             [
              0.3333333333333333,
              "#9c179e"
             ],
             [
              0.4444444444444444,
              "#bd3786"
             ],
             [
              0.5555555555555556,
              "#d8576b"
             ],
             [
              0.6666666666666666,
              "#ed7953"
             ],
             [
              0.7777777777777778,
              "#fb9f3a"
             ],
             [
              0.8888888888888888,
              "#fdca26"
             ],
             [
              1,
              "#f0f921"
             ]
            ],
            "type": "heatmapgl"
           }
          ],
          "histogram": [
           {
            "marker": {
             "pattern": {
              "fillmode": "overlay",
              "size": 10,
              "solidity": 0.2
             }
            },
            "type": "histogram"
           }
          ],
          "histogram2d": [
           {
            "colorbar": {
             "outlinewidth": 0,
             "ticks": ""
            },
            "colorscale": [
             [
              0,
              "#0d0887"
             ],
             [
              0.1111111111111111,
              "#46039f"
             ],
             [
              0.2222222222222222,
              "#7201a8"
             ],
             [
              0.3333333333333333,
              "#9c179e"
             ],
             [
              0.4444444444444444,
              "#bd3786"
             ],
             [
              0.5555555555555556,
              "#d8576b"
             ],
             [
              0.6666666666666666,
              "#ed7953"
             ],
             [
              0.7777777777777778,
              "#fb9f3a"
             ],
             [
              0.8888888888888888,
              "#fdca26"
             ],
             [
              1,
              "#f0f921"
             ]
            ],
            "type": "histogram2d"
           }
          ],
          "histogram2dcontour": [
           {
            "colorbar": {
             "outlinewidth": 0,
             "ticks": ""
            },
            "colorscale": [
             [
              0,
              "#0d0887"
             ],
             [
              0.1111111111111111,
              "#46039f"
             ],
             [
              0.2222222222222222,
              "#7201a8"
             ],
             [
              0.3333333333333333,
              "#9c179e"
             ],
             [
              0.4444444444444444,
              "#bd3786"
             ],
             [
              0.5555555555555556,
              "#d8576b"
             ],
             [
              0.6666666666666666,
              "#ed7953"
             ],
             [
              0.7777777777777778,
              "#fb9f3a"
             ],
             [
              0.8888888888888888,
              "#fdca26"
             ],
             [
              1,
              "#f0f921"
             ]
            ],
            "type": "histogram2dcontour"
           }
          ],
          "mesh3d": [
           {
            "colorbar": {
             "outlinewidth": 0,
             "ticks": ""
            },
            "type": "mesh3d"
           }
          ],
          "parcoords": [
           {
            "line": {
             "colorbar": {
              "outlinewidth": 0,
              "ticks": ""
             }
            },
            "type": "parcoords"
           }
          ],
          "pie": [
           {
            "automargin": true,
            "type": "pie"
           }
          ],
          "scatter": [
           {
            "fillpattern": {
             "fillmode": "overlay",
             "size": 10,
             "solidity": 0.2
            },
            "type": "scatter"
           }
          ],
          "scatter3d": [
           {
            "line": {
             "colorbar": {
              "outlinewidth": 0,
              "ticks": ""
             }
            },
            "marker": {
             "colorbar": {
              "outlinewidth": 0,
              "ticks": ""
             }
            },
            "type": "scatter3d"
           }
          ],
          "scattercarpet": [
           {
            "marker": {
             "colorbar": {
              "outlinewidth": 0,
              "ticks": ""
             }
            },
            "type": "scattercarpet"
           }
          ],
          "scattergeo": [
           {
            "marker": {
             "colorbar": {
              "outlinewidth": 0,
              "ticks": ""
             }
            },
            "type": "scattergeo"
           }
          ],
          "scattergl": [
           {
            "marker": {
             "colorbar": {
              "outlinewidth": 0,
              "ticks": ""
             }
            },
            "type": "scattergl"
           }
          ],
          "scattermapbox": [
           {
            "marker": {
             "colorbar": {
              "outlinewidth": 0,
              "ticks": ""
             }
            },
            "type": "scattermapbox"
           }
          ],
          "scatterpolar": [
           {
            "marker": {
             "colorbar": {
              "outlinewidth": 0,
              "ticks": ""
             }
            },
            "type": "scatterpolar"
           }
          ],
          "scatterpolargl": [
           {
            "marker": {
             "colorbar": {
              "outlinewidth": 0,
              "ticks": ""
             }
            },
            "type": "scatterpolargl"
           }
          ],
          "scatterternary": [
           {
            "marker": {
             "colorbar": {
              "outlinewidth": 0,
              "ticks": ""
             }
            },
            "type": "scatterternary"
           }
          ],
          "surface": [
           {
            "colorbar": {
             "outlinewidth": 0,
             "ticks": ""
            },
            "colorscale": [
             [
              0,
              "#0d0887"
             ],
             [
              0.1111111111111111,
              "#46039f"
             ],
             [
              0.2222222222222222,
              "#7201a8"
             ],
             [
              0.3333333333333333,
              "#9c179e"
             ],
             [
              0.4444444444444444,
              "#bd3786"
             ],
             [
              0.5555555555555556,
              "#d8576b"
             ],
             [
              0.6666666666666666,
              "#ed7953"
             ],
             [
              0.7777777777777778,
              "#fb9f3a"
             ],
             [
              0.8888888888888888,
              "#fdca26"
             ],
             [
              1,
              "#f0f921"
             ]
            ],
            "type": "surface"
           }
          ],
          "table": [
           {
            "cells": {
             "fill": {
              "color": "#EBF0F8"
             },
             "line": {
              "color": "white"
             }
            },
            "header": {
             "fill": {
              "color": "#C8D4E3"
             },
             "line": {
              "color": "white"
             }
            },
            "type": "table"
           }
          ]
         },
         "layout": {
          "annotationdefaults": {
           "arrowcolor": "#2a3f5f",
           "arrowhead": 0,
           "arrowwidth": 1
          },
          "autotypenumbers": "strict",
          "coloraxis": {
           "colorbar": {
            "outlinewidth": 0,
            "ticks": ""
           }
          },
          "colorscale": {
           "diverging": [
            [
             0,
             "#8e0152"
            ],
            [
             0.1,
             "#c51b7d"
            ],
            [
             0.2,
             "#de77ae"
            ],
            [
             0.3,
             "#f1b6da"
            ],
            [
             0.4,
             "#fde0ef"
            ],
            [
             0.5,
             "#f7f7f7"
            ],
            [
             0.6,
             "#e6f5d0"
            ],
            [
             0.7,
             "#b8e186"
            ],
            [
             0.8,
             "#7fbc41"
            ],
            [
             0.9,
             "#4d9221"
            ],
            [
             1,
             "#276419"
            ]
           ],
           "sequential": [
            [
             0,
             "#0d0887"
            ],
            [
             0.1111111111111111,
             "#46039f"
            ],
            [
             0.2222222222222222,
             "#7201a8"
            ],
            [
             0.3333333333333333,
             "#9c179e"
            ],
            [
             0.4444444444444444,
             "#bd3786"
            ],
            [
             0.5555555555555556,
             "#d8576b"
            ],
            [
             0.6666666666666666,
             "#ed7953"
            ],
            [
             0.7777777777777778,
             "#fb9f3a"
            ],
            [
             0.8888888888888888,
             "#fdca26"
            ],
            [
             1,
             "#f0f921"
            ]
           ],
           "sequentialminus": [
            [
             0,
             "#0d0887"
            ],
            [
             0.1111111111111111,
             "#46039f"
            ],
            [
             0.2222222222222222,
             "#7201a8"
            ],
            [
             0.3333333333333333,
             "#9c179e"
            ],
            [
             0.4444444444444444,
             "#bd3786"
            ],
            [
             0.5555555555555556,
             "#d8576b"
            ],
            [
             0.6666666666666666,
             "#ed7953"
            ],
            [
             0.7777777777777778,
             "#fb9f3a"
            ],
            [
             0.8888888888888888,
             "#fdca26"
            ],
            [
             1,
             "#f0f921"
            ]
           ]
          },
          "colorway": [
           "#636efa",
           "#EF553B",
           "#00cc96",
           "#ab63fa",
           "#FFA15A",
           "#19d3f3",
           "#FF6692",
           "#B6E880",
           "#FF97FF",
           "#FECB52"
          ],
          "font": {
           "color": "#2a3f5f"
          },
          "geo": {
           "bgcolor": "white",
           "lakecolor": "white",
           "landcolor": "#E5ECF6",
           "showlakes": true,
           "showland": true,
           "subunitcolor": "white"
          },
          "hoverlabel": {
           "align": "left"
          },
          "hovermode": "closest",
          "mapbox": {
           "style": "light"
          },
          "paper_bgcolor": "white",
          "plot_bgcolor": "#E5ECF6",
          "polar": {
           "angularaxis": {
            "gridcolor": "white",
            "linecolor": "white",
            "ticks": ""
           },
           "bgcolor": "#E5ECF6",
           "radialaxis": {
            "gridcolor": "white",
            "linecolor": "white",
            "ticks": ""
           }
          },
          "scene": {
           "xaxis": {
            "backgroundcolor": "#E5ECF6",
            "gridcolor": "white",
            "gridwidth": 2,
            "linecolor": "white",
            "showbackground": true,
            "ticks": "",
            "zerolinecolor": "white"
           },
           "yaxis": {
            "backgroundcolor": "#E5ECF6",
            "gridcolor": "white",
            "gridwidth": 2,
            "linecolor": "white",
            "showbackground": true,
            "ticks": "",
            "zerolinecolor": "white"
           },
           "zaxis": {
            "backgroundcolor": "#E5ECF6",
            "gridcolor": "white",
            "gridwidth": 2,
            "linecolor": "white",
            "showbackground": true,
            "ticks": "",
            "zerolinecolor": "white"
           }
          },
          "shapedefaults": {
           "line": {
            "color": "#2a3f5f"
           }
          },
          "ternary": {
           "aaxis": {
            "gridcolor": "white",
            "linecolor": "white",
            "ticks": ""
           },
           "baxis": {
            "gridcolor": "white",
            "linecolor": "white",
            "ticks": ""
           },
           "bgcolor": "#E5ECF6",
           "caxis": {
            "gridcolor": "white",
            "linecolor": "white",
            "ticks": ""
           }
          },
          "title": {
           "x": 0.05
          },
          "xaxis": {
           "automargin": true,
           "gridcolor": "white",
           "linecolor": "white",
           "ticks": "",
           "title": {
            "standoff": 15
           },
           "zerolinecolor": "white",
           "zerolinewidth": 2
          },
          "yaxis": {
           "automargin": true,
           "gridcolor": "white",
           "linecolor": "white",
           "ticks": "",
           "title": {
            "standoff": 15
           },
           "zerolinecolor": "white",
           "zerolinewidth": 2
          }
         }
        },
        "title": {
         "text": "VORP Difference vs Season for Teams"
        },
        "xaxis": {
         "anchor": "y",
         "domain": [
          0,
          1
         ],
         "title": {
          "text": "Season"
         }
        },
        "yaxis": {
         "anchor": "x",
         "domain": [
          0,
          1
         ],
         "title": {
          "text": "VORP Difference"
         }
        }
       }
      }
     },
     "metadata": {},
     "output_type": "display_data"
    }
   ],
   "source": [
    "# create a scatter plot with the average of each team for each season. The seasons should be the x axis and the selected relevant stat differences should be the y axis\n",
    "def create_team_scatter(selected_stat, selected_team):\n",
    "    fig = px.scatter(df_team_avg, x='Season', y=f'{selected_stat}_diff', hover_name='Tm',\n",
    "                     hover_data={'Tm': True, selected_stat: True, f'{selected_stat}_diff': True})\n",
    "    \n",
    "    # add a red dot for all stats of the selected team\n",
    "    fig.add_trace(px.scatter(df_team_avg[df_team_avg['Tm'] == selected_team], x='Season', y=f'{selected_stat}_diff', hover_name='Tm',\n",
    "                                hover_data={'Tm': True, selected_stat: True, f'{selected_stat}_diff': True},\n",
    "                                color_discrete_sequence=['red']).data[0])\n",
    "    fig.update_traces(marker=dict(size=12), showlegend=False)\n",
    "    fig.update_layout(title=f'{selected_stat} Difference vs Season for Teams',\n",
    "                      xaxis_title='Season', yaxis_title=f'{selected_stat} Difference')\n",
    "    fig.show()\n",
    "\n",
    "# create a dropdown widget with all relevant stats\n",
    "stat_dropdown_team_scatter = widgets.Dropdown(\n",
    "    options=relevant_stats,\n",
    "    description='Select Stat:',\n",
    "    disabled=False,\n",
    ")\n",
    "\n",
    "# create a dropdown widget with all teams\n",
    "team_dropdown_team_scatter = widgets.Dropdown(\n",
    "    options=df_team_avg['Tm'].unique().tolist(),\n",
    "    description='Select Team:',\n",
    "    disabled=False,\n",
    ")\n",
    "\n",
    "# Define the output area to display the scatter plot\n",
    "output_team_scatter = widgets.Output()\n",
    "\n",
    "# Observe changes in the value of the dropdown and call the function\n",
    "def on_value_change_team_scatter(change):\n",
    "    clear_output()\n",
    "    output_team_scatter.clear_output()\n",
    "    selected_stat = stat_dropdown_team_scatter.value\n",
    "    selected_team = team_dropdown_team_scatter.value\n",
    "\n",
    "    display(stat_dropdown_team_scatter)\n",
    "    display(team_dropdown_team_scatter)\n",
    "    with output_team_scatter:\n",
    "        create_team_scatter(selected_stat, selected_team)\n",
    "\n",
    "stat_dropdown_team_scatter.observe(on_value_change_team_scatter, names='value')\n",
    "team_dropdown_team_scatter.observe(on_value_change_team_scatter, names='value')\n",
    "\n",
    "# Display the dropdown and the output area\n",
    "display(stat_dropdown_team_scatter)\n",
    "display(team_dropdown_team_scatter)\n",
    "display(output_team_scatter)\n",
    "\n"
   ]
  }
 ],
 "metadata": {
  "kernelspec": {
   "display_name": ".nbavenv",
   "language": "python",
   "name": "python3"
  },
  "language_info": {
   "codemirror_mode": {
    "name": "ipython",
    "version": 3
   },
   "file_extension": ".py",
   "mimetype": "text/x-python",
   "name": "python",
   "nbconvert_exporter": "python",
   "pygments_lexer": "ipython3",
   "version": "3.11.5"
  },
  "orig_nbformat": 4
 },
 "nbformat": 4,
 "nbformat_minor": 2
}
