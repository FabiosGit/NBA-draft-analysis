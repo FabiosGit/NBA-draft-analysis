{
 "cells": [
  {
   "cell_type": "markdown",
   "metadata": {},
   "source": [
    "# NBA Draft Analysis - Which NBA team selects the best players relative to the average player at their respective draft position?\n",
    "\n",
    "## index\n",
    "1. [introduction](#introduction)\n",
    "2. [data](#data)\n",
    "3. [results](#results)\n",
    "4. [conclusions](#conclusions)"
   ]
  },
  {
   "cell_type": "markdown",
   "metadata": {},
   "source": [
    "## introduction\n",
    "The NBA Draft is an annual event in the National Basketball Association (NBA) where teams select eligible players to join their rosters. It typically consists of two rounds, with teams choosing players based on a predetermined order, primarily determined by the previous season's standings. The draft serves as a way for teams to acquire new talent, including young prospects from college or international leagues, and provides an opportunity for emerging basketball stars to realize their dreams of playing in the NBA.\n",
    "\n",
    "For example, in 2003, the famous basketball player LeBron James was the first overall pick by the Cleveland Cavaliers. His selection was the culmination of immense hype and anticipation, as he was considered a generational talent straight out of high school. The NBA Draft is a pivotal moment for the league's future, as it shapes the composition of teams and can have a significant impact on the sport's landscape.\n",
    "\n",
    "A team’s choice during the draft can make or break its season, making it crucial to have effective tools for selecting the best players from the available pool. With this analysis, we aim to understand which team selects the best players relative to the average player at their respective draft position. To do so, we will get the historical data of the drafts for the NBA seasons from 1996 until 2023. This project focuses on NBA player and team statistics analysis and visualization, offering interactive tools to explore and compare player and team data, and ultimately aiding in the assessment of draft choices, individual player achievements, and team success over different seasons."
   ]
  },
  {
   "cell_type": "markdown",
   "metadata": {},
   "source": [
    "## data\n",
    "The [raw data](../data/raw/nba_stats_1996-2022_raw.csv) is taken using the [NBA API](https://github.com/swar/nba_api/blob/master/docs/nba_api/stats/examples.md) and it comprehends the statistics of all the official NBA players from year 1996 until 2023. The statistics include the player ID, his name, how many years he played, points scored and many more. The raw data contains 265 variables, but we will use only 22 and filter four of them, adding up to 22 variables. For brevity's sake, in the data there are many abbreviations. A [reference table](../references/abbreviation_reference_table.md) comes in handy."
   ]
  },
  {
   "cell_type": "markdown",
   "metadata": {},
   "source": [
    "We need to import the following libraries to manage the data handling."
   ]
  },
  {
   "cell_type": "code",
   "execution_count": 23,
   "metadata": {},
   "outputs": [],
   "source": [
    "# Import libraries\n",
    "import pandas as pd\n",
    "import numpy as np\n",
    "import ipywidgets as widgets\n",
    "import plotly.express as px\n",
    "from IPython.display import display, HTML, clear_output\n",
    "from tabulate import tabulate"
   ]
  },
  {
   "cell_type": "markdown",
   "metadata": {},
   "source": [
    "In a Data Frame called df, we load the [player career average](../data/interim/player_career_avg.csv) data."
   ]
  },
  {
   "cell_type": "code",
   "execution_count": 24,
   "metadata": {},
   "outputs": [],
   "source": [
    "# load in the data\n",
    "df = pd.read_csv('../data/processed/player_career_avg.csv', index_col=0)"
   ]
  },
  {
   "cell_type": "markdown",
   "metadata": {},
   "source": [
    "We make a copy of the Data Frame to filter for seasons to analyze. With the following slider you can filter through the seasons."
   ]
  },
  {
   "cell_type": "code",
   "execution_count": 25,
   "metadata": {},
   "outputs": [],
   "source": [
    "# widget styling\n",
    "slider_style = {'description_width': 'initial'}\n",
    "slider_css = \"\"\"\n",
    ".widget-label { \n",
    "    min-width: fit-content !important; \n",
    "} \n",
    "\"\"\"\n",
    "\n",
    "# Creating a widget box for applying the CSS\n",
    "slider_style_widget = widgets.HTML(\n",
    "    value=\"<style>\" + slider_css + \"</style>\"\n",
    ")"
   ]
  },
  {
   "cell_type": "code",
   "execution_count": 26,
   "metadata": {},
   "outputs": [
    {
     "data": {
      "application/vnd.jupyter.widget-view+json": {
       "model_id": "6cf17ecee474492baadc81560fa14496",
       "version_major": 2,
       "version_minor": 0
      },
      "text/plain": [
       "HTML(value='<style>\\n.widget-label { \\n    min-width: fit-content !important; \\n} \\n</style>')"
      ]
     },
     "metadata": {},
     "output_type": "display_data"
    },
    {
     "data": {
      "application/vnd.jupyter.widget-view+json": {
       "model_id": "4c9c1b1b87f94c87b6cdf2d5016aa7ad",
       "version_major": 2,
       "version_minor": 0
      },
      "text/plain": [
       "SelectionRangeSlider(continuous_update=False, description='Select Seasons to Analyze', index=(0, 26), layout=L…"
      ]
     },
     "metadata": {},
     "output_type": "display_data"
    }
   ],
   "source": [
    "# copy the dataframe\n",
    "df_seasons_filtered = df.copy()\n",
    "\n",
    "# create list with all seasons between 1996 and 2023\n",
    "seasons = range(1996, 2023)\n",
    "\n",
    "# create a slider widget to select the seasons\n",
    "season_slider = widgets.SelectionRangeSlider(\n",
    "    options=seasons,\n",
    "    index=(0, len(seasons)-1),\n",
    "    description='Select Seasons to Analyze',\n",
    "    disabled=False,\n",
    "    continuous_update=False,\n",
    "    orientation='horizontal',\n",
    "    readout=True,\n",
    "    layout=widgets.Layout(width='100%'),\n",
    ")\n",
    "\n",
    "# get the subset of the dataframe that matches the selected seasons\n",
    "def get_seasons(season_slider):\n",
    "    # declare global variable\n",
    "    global df_seasons_filtered\n",
    "    # get values from slider\n",
    "    start_season = int(season_slider['new'][0])\n",
    "    end_season = int(season_slider['new'][1])\n",
    "    df_seasons_filtered = df[(df['Season'] >= start_season) & (df['Season'] <= end_season)]\n",
    "\n",
    "# observe the slider widget to get the selected seasons\n",
    "season_slider.observe(get_seasons, names='value')\n",
    "\n",
    "# display the slider widget\n",
    "display(slider_style_widget, season_slider)"
   ]
  },
  {
   "cell_type": "markdown",
   "metadata": {},
   "source": [
    "**Select a penalty for unbounded stats**\n",
    "\n",
    "Drafted players who never played a game in the NBA are perceived as bad draft picks but never accumulated any stats. Since excluding them from the analysis would worsen the relative performance of other players selected at that respective draft position, the empty stats should be replaced by a \"bad stat\", as never playing a game in the NBA objectively makes that player a bad selection. For total points, assists and rebounds, 0 is the absolute minimum and therefore suitable as a replacement stat. However, all other stats are unbounded and don't have a definite minimum value. Using the minimum value in our data would be greatly affected by outliers which is why we opted for a percentile that can be dynamically chosen. We recommend using a percentile between 1% and 5%."
   ]
  },
  {
   "cell_type": "code",
   "execution_count": 27,
   "metadata": {},
   "outputs": [
    {
     "data": {
      "application/vnd.jupyter.widget-view+json": {
       "model_id": "6cf17ecee474492baadc81560fa14496",
       "version_major": 2,
       "version_minor": 0
      },
      "text/plain": [
       "HTML(value='<style>\\n.widget-label { \\n    min-width: fit-content !important; \\n} \\n</style>')"
      ]
     },
     "metadata": {},
     "output_type": "display_data"
    },
    {
     "data": {
      "application/vnd.jupyter.widget-view+json": {
       "model_id": "a9d5fb60e9054316b22363014199b062",
       "version_major": 2,
       "version_minor": 0
      },
      "text/plain": [
       "FloatSlider(value=0.02, continuous_update=False, description='Penalty Percentile:', layout=Layout(width='100%'…"
      ]
     },
     "metadata": {},
     "output_type": "display_data"
    }
   ],
   "source": [
    "# set standard penalty percentile\n",
    "penalty_percentile = 0.02\n",
    "\n",
    "# create a float slider widget to select the penalty percentile\n",
    "penalty_percentile_slider = widgets.FloatSlider(\n",
    "    value=0.02,\n",
    "    min=0,\n",
    "    max=1.0,\n",
    "    step=0.01,\n",
    "    description='Penalty Percentile:',\n",
    "    disabled=False,\n",
    "    continuous_update=False,\n",
    "    orientation='horizontal',\n",
    "    readout=True,\n",
    "    readout_format='.2f',\n",
    "    layout=widgets.Layout(width='100%')\n",
    ")\n",
    "\n",
    "# set the penalty percentile\n",
    "def set_penalty_percentile(penalty_percentile_slider):\n",
    "    # declare global variable\n",
    "    global penalty_percentile\n",
    "    # get value from slider\n",
    "    penalty_percentile = penalty_percentile_slider['new']\n",
    "\n",
    "# observe the slider widget to get the penalty percentile\n",
    "penalty_percentile_slider.observe(set_penalty_percentile, names='value')\n",
    "\n",
    "# display the slider widget\n",
    "display(slider_style_widget, penalty_percentile_slider)"
   ]
  },
  {
   "cell_type": "markdown",
   "metadata": {},
   "source": [
    "> ### **IMPORTANT**\n",
    "> Re-run all cells from here after changing the penalty percentile and/or the season range"
   ]
  },
  {
   "cell_type": "code",
   "execution_count": 28,
   "metadata": {},
   "outputs": [
    {
     "name": "stdout",
     "output_type": "stream",
     "text": [
      "Your selected penalty percentile for unbounded stats is 0.02\n",
      "Your selected seasons are 1996 to 2022\n"
     ]
    }
   ],
   "source": [
    "# get min and max seasons from df_seasons_filtered\n",
    "start_season = df_seasons_filtered['Season'].min()\n",
    "end_season = df_seasons_filtered['Season'].max()\n",
    "\n",
    "print(\"Your selected penalty percentile for unbounded stats is\", penalty_percentile)\n",
    "print(\"Your selected seasons are\", start_season , \"to\", end_season)\n",
    "\n",
    "relevant_stats = ['PTS', 'TRB', 'AST', 'WS', 'WS/48', 'BPM', 'VORP', 'PIE', 'OFF_RATING', 'DEF_RATING', 'NET_RATING']\n",
    "na_fill_values = {'PTS': 0, 'TRB': 0, 'AST': 0, 'WS': df_seasons_filtered['WS'].quantile(penalty_percentile), 'WS/48': df_seasons_filtered['WS/48'].quantile(penalty_percentile), 'BPM': df_seasons_filtered['BPM'].quantile(penalty_percentile), 'VORP': df_seasons_filtered['VORP'].quantile(penalty_percentile), 'PIE': df_seasons_filtered['PIE'].quantile(penalty_percentile), 'OFF_RATING': df_seasons_filtered['OFF_RATING'].quantile(penalty_percentile), 'DEF_RATING': df_seasons_filtered['DEF_RATING'].quantile(1-penalty_percentile), 'NET_RATING': df_seasons_filtered['NET_RATING'].quantile(penalty_percentile)}\n",
    "\n",
    "# fill the NaNs with the respective entry in the na_fill_values dict for each column\n",
    "df_career_na_filled = df_seasons_filtered.fillna(value=na_fill_values)"
   ]
  },
  {
   "cell_type": "code",
   "execution_count": 29,
   "metadata": {},
   "outputs": [],
   "source": [
    "# TODO: Maybe add toggle button that allows comparing only to players of same position\n",
    "\n",
    "# group the df_career dataframe by 'Pk' and calculate the average for each relevant stat\n",
    "df_avg = df_career_na_filled.groupby('Pk')[relevant_stats].mean(numeric_only=True)\n",
    "df_avg = df_avg.reset_index()\n",
    "\n",
    "# add 1 to every index\n",
    "df_avg.index += 1"
   ]
  },
  {
   "cell_type": "code",
   "execution_count": 30,
   "metadata": {},
   "outputs": [],
   "source": [
    "# for each relevant stat, create a new column in the df_career_na_filled dataframe with the difference between the player's stat and the average for that stat for their draft position\n",
    "for stat in relevant_stats:\n",
    "    df_career_na_filled[stat + '_diff'] = df_career_na_filled[stat] - df_career_na_filled['Pk'].map(df_avg[stat])"
   ]
  },
  {
   "cell_type": "markdown",
   "metadata": {},
   "source": [
    "**Calculate ranks for all players above a minimum amount of games played**\n",
    "\n",
    "This section calculates the ranking of the performance above/below the average player at that draft position for each stat. Some of the stats that are normalized per 48 minutes can be affected by players that only played very little but performed well in this limited time (e.g., a player only ever played two minutes at the end of a blowout but scored four points). To avoid such players being ranked very highly, a minimum amount of games can be set here and all players that do not meet this requirement are excluded from the ranking."
   ]
  },
  {
   "cell_type": "code",
   "execution_count": 31,
   "metadata": {},
   "outputs": [
    {
     "data": {
      "application/vnd.jupyter.widget-view+json": {
       "model_id": "c733293a9c45417cbadc293caa048597",
       "version_major": 2,
       "version_minor": 0
      },
      "text/plain": [
       "IntSlider(value=82, continuous_update=False, description='Minimum Games Played:', layout=Layout(width='100%'),…"
      ]
     },
     "metadata": {},
     "output_type": "display_data"
    }
   ],
   "source": [
    "# set standard minimum number of games played\n",
    "min_games = 82\n",
    "\n",
    "# create an int slides widget to select the minimum number of games played\n",
    "min_games_slider = widgets.IntSlider(\n",
    "    value=82,\n",
    "    min=0,\n",
    "    max=500,\n",
    "    step=1,\n",
    "    description='Minimum Games Played:',\n",
    "    disabled=False,\n",
    "    continuous_update=False,\n",
    "    orientation='horizontal',\n",
    "    readout=True,\n",
    "    readout_format='d',\n",
    "    layout=widgets.Layout(width='100%')\n",
    ")\n",
    "\n",
    "# set the minimum number of games played\n",
    "def set_min_games(min_games_slider):\n",
    "    # declare global variable\n",
    "    global min_games\n",
    "    # get value from slider\n",
    "    min_games = min_games_slider['new']\n",
    "\n",
    "# observe the slider widget to get the minimum number of games played\n",
    "min_games_slider.observe(set_min_games, names='value')\n",
    "\n",
    "# display the slider widget\n",
    "display(min_games_slider)"
   ]
  },
  {
   "cell_type": "markdown",
   "metadata": {},
   "source": [
    "> ### **IMPORTANT**\n",
    "> Re-run all cells from here after changing the minimum games"
   ]
  },
  {
   "cell_type": "code",
   "execution_count": 32,
   "metadata": {},
   "outputs": [
    {
     "name": "stdout",
     "output_type": "stream",
     "text": [
      "You chose 82 as the minimum number of games played.\n"
     ]
    }
   ],
   "source": [
    "print(\"You chose\", min_games, \"as the minimum number of games played.\")\n",
    "\n",
    "# create a new column for each relevant stat with the rank of the player's stat for their draft position, only using player with min_games\n",
    "for stat in relevant_stats:\n",
    "    if stat == 'DEF_RATING': # lower DEF_RATING is better\n",
    "        df_career_na_filled[stat + '_rank'] = df_career_na_filled[df_career_na_filled['G'] >= min_games][stat + '_diff'].rank(ascending=True, method='min')\n",
    "    else:\n",
    "        df_career_na_filled[stat + '_rank'] = df_career_na_filled[df_career_na_filled['G'] >= min_games][stat + '_diff'].rank(ascending=False, method='min')"
   ]
  },
  {
   "cell_type": "markdown",
   "metadata": {},
   "source": [
    "**Show Performance of Selected Player**"
   ]
  },
  {
   "cell_type": "code",
   "execution_count": 33,
   "metadata": {},
   "outputs": [
    {
     "data": {
      "application/vnd.jupyter.widget-view+json": {
       "model_id": "df54296b0d884cb189293c7330eb302c",
       "version_major": 2,
       "version_minor": 0
      },
      "text/plain": [
       "Combobox(value='', description='Player:', ensure_option=True, layout=Layout(width='100%'), options=('Allen Ive…"
      ]
     },
     "metadata": {},
     "output_type": "display_data"
    },
    {
     "data": {
      "application/vnd.jupyter.widget-view+json": {
       "model_id": "6660fe4cbb434b0998089bb64e1b10c1",
       "version_major": 2,
       "version_minor": 0
      },
      "text/plain": [
       "Output()"
      ]
     },
     "metadata": {},
     "output_type": "display_data"
    }
   ],
   "source": [
    "# create a combobox widget with all 'Player' values\n",
    "player_widget = widgets.Combobox(\n",
    "    placeholder='Choose a Player',\n",
    "    options=df_career_na_filled['Player'].unique().tolist(),\n",
    "    description='Player:',\n",
    "    ensure_option=True,\n",
    "    disabled=False,\n",
    "    layout=widgets.Layout(width='100%')\n",
    ")\n",
    "\n",
    "# Define the output area to display additional information\n",
    "output_player_ranks = widgets.Output()\n",
    "\n",
    "# Function to update the output area based on the selected player\n",
    "def on_value_change_player_ranks(change):\n",
    "    output_player_ranks.clear_output()\n",
    "    selected_player = change['new']\n",
    "    with output_player_ranks:\n",
    "        # get player data\n",
    "        player_data = df_career_na_filled[df_career_na_filled['Player'] == selected_player]\n",
    "\n",
    "        # display player information\n",
    "        display(HTML(f\"<h3>Player: {player_data['Player'].values[0]}</h3>\"))\n",
    "        display(HTML(f\"<p>Year: {player_data['Season'].values[0]} Pick: {player_data['Pk'].values[0]} - Drafted by: {player_data['Tm'].values[0]}</p>\"))\n",
    "        display(HTML(f\"<p>Played {int(player_data['G'].values[0])} games in {int(player_data['Yrs'].values[0])} years</p>\"))\n",
    "        \n",
    "        # create a table with the player's ranks, total value and diff for each relevant stat\n",
    "        stats_table = [['Stat', 'Rank', 'Raw Stat', 'Difference to Average for Draft Position']]\n",
    "        for stat in relevant_stats:\n",
    "            stats_table.append([stat, int(player_data[stat + '_rank'].values[0]), round(player_data[stat].values[0], 2), round(player_data[stat + '_diff'].values[0], 2)])\n",
    "\n",
    "        # transpose the table\n",
    "        stats_table = list(map(list, zip(*stats_table)))\n",
    "            \n",
    "        display(HTML(tabulate(stats_table, tablefmt=\"html\")))\n",
    "\n",
    "# Observe changes in the value of the combobox and call the function\n",
    "player_widget.observe(on_value_change_player_ranks, names='value')\n",
    "\n",
    "# Display the widgets\n",
    "display(player_widget)\n",
    "display(output_player_ranks)"
   ]
  },
  {
   "cell_type": "code",
   "execution_count": 34,
   "metadata": {},
   "outputs": [
    {
     "data": {
      "application/vnd.jupyter.widget-view+json": {
       "model_id": "6598a89ced3b4c43bac845534641b7d1",
       "version_major": 2,
       "version_minor": 0
      },
      "text/plain": [
       "Combobox(value='', description='Player:', ensure_option=True, options=('Allen Iverson', 'Marcus Camby', 'Share…"
      ]
     },
     "metadata": {},
     "output_type": "display_data"
    },
    {
     "data": {
      "application/vnd.jupyter.widget-view+json": {
       "model_id": "836a8c465c854dcf9b455d585c2808f6",
       "version_major": 2,
       "version_minor": 0
      },
      "text/plain": [
       "Dropdown(description='Select Stat:', options=('PTS', 'TRB', 'AST', 'WS', 'WS/48', 'BPM', 'VORP', 'PIE', 'OFF_R…"
      ]
     },
     "metadata": {},
     "output_type": "display_data"
    },
    {
     "data": {
      "application/vnd.jupyter.widget-view+json": {
       "model_id": "46d6ecbd66a043f4b0d389aa7315434b",
       "version_major": 2,
       "version_minor": 0
      },
      "text/plain": [
       "Output()"
      ]
     },
     "metadata": {},
     "output_type": "display_data"
    }
   ],
   "source": [
    "from jinja2 import Template\n",
    "\n",
    "# Filter players based on the minimum games played\n",
    "filtered_df = df_career_na_filled[df_career_na_filled['G'] >= min_games]\n",
    "\n",
    "# create a combobox widget with all 'Player' values\n",
    "player_widget_diff_scatter = widgets.Combobox(\n",
    "    placeholder='Choose a Player',\n",
    "    options=filtered_df['Player'].unique().tolist(),\n",
    "    description='Player:',\n",
    "    ensure_option=True,\n",
    "    disabled=False\n",
    ")\n",
    "\n",
    "# create a dropdown widget with all relevant stats\n",
    "stat_dropdown_diff_scatter = widgets.Dropdown(\n",
    "    options=relevant_stats,\n",
    "    description='Select Stat:',\n",
    "    disabled=False,\n",
    ")\n",
    "\n",
    "hover_template_player = Template('<b>{{player_name}}</b><br><br>'\n",
    "                          'Pick: {{pick}} ({{season}}) <br>' +\n",
    "                          '{{selected_stat}} Rank: {{rank}} <br>' +\n",
    "                          '{{selected_stat}} diff. to avg player at pick {{pick}}: {{diff}}<br>' +\n",
    "                          'Career {{selected_stat}}: {{raw_stat}}<br><extra></extra>')\n",
    "\n",
    "# Define the output area to display the scatter plot\n",
    "output_diff_scatter = widgets.Output()\n",
    "\n",
    "# Function to update the output area based on the selected stat\n",
    "def on_value_change_diff_scatter(change):\n",
    "    clear_output()\n",
    "    output_diff_scatter.clear_output()\n",
    "    selected_stat = stat_dropdown_diff_scatter.value\n",
    "    selected_player = player_widget_diff_scatter.value\n",
    "\n",
    "    display(player_widget_diff_scatter)\n",
    "    display(stat_dropdown_diff_scatter)\n",
    "    with output_diff_scatter:\n",
    "        # scatter plot for all players\n",
    "        fig = px.scatter(filtered_df, x='Pk', y=f'{selected_stat}_diff', hover_name='Player',\n",
    "                         hover_data={'Pk': True, f'{selected_stat}_diff': ':.1f', 'Player': False, selected_stat: ':.1f', f'{selected_stat}_rank': True, 'Season': True})\n",
    "        \n",
    "        # red dot for selected player\n",
    "        if selected_player in filtered_df['Player'].values:\n",
    "            highlighted_player = filtered_df[filtered_df['Player'] == selected_player]\n",
    "            fig.add_trace(px.scatter(highlighted_player, x='Pk', y=f'{selected_stat}_diff', hover_name='Player',\n",
    "                                     hover_data={'Pk': True, f'{selected_stat}_diff': ':.1f', 'Player': False, selected_stat: ':.1f', f'{selected_stat}_rank': True, 'Season': True},\n",
    "                                     color_discrete_sequence=['red']).data[0])\n",
    "        \n",
    "        # styling the figure\n",
    "        fig.update_traces(hovertemplate=hover_template_player.render(player_name='%{hovertext}',\n",
    "            pick='%{x}',\n",
    "            season='%{customdata[3]}',\n",
    "            selected_stat=selected_stat,\n",
    "            diff='%{y:.2f}',\n",
    "            rank='%{customdata[2]}',\n",
    "            raw_stat='%{customdata[1]:.2f}'))\n",
    "        fig.update_traces(marker=dict(size=12), showlegend=False)\n",
    "        fig.update_layout(title=f'{selected_stat} Difference vs Draft Pick for Players with at least {min_games} Games Played',\n",
    "                          xaxis_title='Draft Pick', yaxis_title=f'{selected_stat} Difference')\n",
    "        fig.show()\n",
    "    \n",
    "# Observe changes in the value of the dropdown and call the function\n",
    "stat_dropdown_diff_scatter.observe(on_value_change_diff_scatter, names='value')\n",
    "player_widget_diff_scatter.observe(on_value_change_diff_scatter, names='value')\n",
    "\n",
    "# Display the dropdown and the output area\n",
    "display(player_widget_diff_scatter)\n",
    "display(stat_dropdown_diff_scatter)\n",
    "display(output_diff_scatter)"
   ]
  },
  {
   "cell_type": "code",
   "execution_count": 35,
   "metadata": {},
   "outputs": [
    {
     "data": {
      "application/vnd.jupyter.widget-view+json": {
       "model_id": "72d34a90b3854dc2b0b70e6315c03df8",
       "version_major": 2,
       "version_minor": 0
      },
      "text/plain": [
       "Combobox(value='', description='Player:', ensure_option=True, options=('Allen Iverson', 'Marcus Camby', 'Share…"
      ]
     },
     "metadata": {},
     "output_type": "display_data"
    },
    {
     "data": {
      "application/vnd.jupyter.widget-view+json": {
       "model_id": "a5a0d622ac574885a4fdf2ddbe6a94da",
       "version_major": 2,
       "version_minor": 0
      },
      "text/plain": [
       "Dropdown(description='Select Stat:', options=('PTS', 'TRB', 'AST', 'WS', 'WS/48', 'BPM', 'VORP', 'PIE', 'OFF_R…"
      ]
     },
     "metadata": {},
     "output_type": "display_data"
    },
    {
     "data": {
      "application/vnd.jupyter.widget-view+json": {
       "model_id": "38042bb005cc424f87e4d9dda8a58c39",
       "version_major": 2,
       "version_minor": 0
      },
      "text/plain": [
       "Output()"
      ]
     },
     "metadata": {},
     "output_type": "display_data"
    }
   ],
   "source": [
    "# create a combobox widget with all 'Player' values\n",
    "player_widget_total_scatter = widgets.Combobox(\n",
    "    placeholder='Choose a Player',\n",
    "    options=filtered_df['Player'].unique().tolist(),\n",
    "    description='Player:',\n",
    "    ensure_option=True,\n",
    "    disabled=False\n",
    ")\n",
    "\n",
    "# create a dropdown widget with all relevant stats\n",
    "stat_dropdown_total_scatter = widgets.Dropdown(\n",
    "    options=relevant_stats,\n",
    "    description='Select Stat:',\n",
    "    disabled=False,\n",
    ")\n",
    "\n",
    "# Define the output area to display the scatter plot\n",
    "output_total_scatter = widgets.Output()\n",
    "\n",
    "# Function to update the output area based on the selected stat\n",
    "def on_value_change_total_scatter(change):\n",
    "    clear_output()\n",
    "    output_total_scatter.clear_output()\n",
    "    selected_stat = stat_dropdown_total_scatter.value\n",
    "    selected_player = player_widget_total_scatter.value\n",
    "\n",
    "    display(player_widget_total_scatter)\n",
    "    display(stat_dropdown_total_scatter)\n",
    "    with output_total_scatter:\n",
    "        fig = px.scatter(filtered_df, x='Pk', y=selected_stat, hover_name='Player',\n",
    "                         hover_data={'Pk': True, selected_stat: True, 'Player': False, f'{selected_stat}_diff': True, f'{selected_stat}_rank': True, 'Season': True})\n",
    "        \n",
    "        if selected_player in filtered_df['Player'].values:\n",
    "            highlighted_player = filtered_df[filtered_df['Player'] == selected_player]\n",
    "            fig.add_trace(px.scatter(highlighted_player, x='Pk', y=selected_stat, hover_name='Player',\n",
    "                                    hover_data={'Pk': True, selected_stat: True, 'Player': False, f'{selected_stat}_diff': True, f'{selected_stat}_rank': True, 'Season': True},\n",
    "                                    color_discrete_sequence=['red']).data[0])\n",
    "        \n",
    "        # styling the figure\n",
    "        fig.update_traces(hovertemplate=hover_template_player.render(player_name='%{hovertext}',\n",
    "            pick='%{x}',\n",
    "            season='%{customdata[3]}',\n",
    "            selected_stat=selected_stat,\n",
    "            diff='%{customdata[1]:.2f}',\n",
    "            rank='%{customdata[2]}',\n",
    "            raw_stat='%{y:.2f}'))\n",
    "        \n",
    "        # TODO: style this differently\n",
    "        # add a yellow dot for each average in the df_avg dataframe\n",
    "        fig.add_trace(px.scatter(df_avg, x='Pk', y=selected_stat, hover_name='Pk',\n",
    "                                 hover_data={'Pk': True, selected_stat: True}, \n",
    "                                 color_discrete_sequence=['yellow']).data[0])\n",
    "        \n",
    "        fig.update_traces(marker=dict(size=12), showlegend=False)\n",
    "        fig.update_layout(title=f'{selected_stat} vs Draft Pick for Players with at least {min_games} Games Played',\n",
    "                          xaxis_title='Draft Pick', yaxis_title=selected_stat)\n",
    "        fig.show()\n",
    "    \n",
    "# Observe changes in the value of the dropdown and call the function\n",
    "stat_dropdown_total_scatter.observe(on_value_change_total_scatter, names='value')\n",
    "player_widget_total_scatter.observe(on_value_change_total_scatter, names='value')\n",
    "\n",
    "# Display the dropdown and the output area\n",
    "display(player_widget_total_scatter)\n",
    "display(stat_dropdown_total_scatter)\n",
    "display(output_total_scatter)"
   ]
  },
  {
   "cell_type": "markdown",
   "metadata": {},
   "source": [
    "# Analysis by Team over Seasons"
   ]
  },
  {
   "cell_type": "code",
   "execution_count": 36,
   "metadata": {},
   "outputs": [],
   "source": [
    "# function to replace outdated abbreviations with the current ones\n",
    "def clean_team_names(df):\n",
    "    team_dict = {'CHH': 'CHO', 'CHA': 'CHO', 'NJN': 'BRK', 'NOH': 'NOP', 'NOK': 'NOP', 'SEA': 'OKC', 'VAN': 'MEM', 'WSB': 'WAS'}\n",
    "    df['Tm'] = df['Tm'].replace(team_dict)\n",
    "    return df"
   ]
  },
  {
   "cell_type": "code",
   "execution_count": 37,
   "metadata": {},
   "outputs": [],
   "source": [
    "# TODO: give option to weight by minutes played\n",
    "\n",
    "# group the df_career_na_filled by team and season and calculate the average\n",
    "df_team_avg_by_season = clean_team_names(df_career_na_filled).groupby(['Tm', 'Season']).mean(numeric_only=True)\n",
    "df_team_avg_by_season = df_team_avg_by_season.reset_index()"
   ]
  },
  {
   "cell_type": "code",
   "execution_count": 38,
   "metadata": {},
   "outputs": [
    {
     "data": {
      "application/vnd.jupyter.widget-view+json": {
       "model_id": "e42ff6ddab56412f966c834d9943c8c0",
       "version_major": 2,
       "version_minor": 0
      },
      "text/plain": [
       "Dropdown(description='Select Stat:', options=('PTS', 'TRB', 'AST', 'WS', 'WS/48', 'BPM', 'VORP', 'PIE', 'OFF_R…"
      ]
     },
     "metadata": {},
     "output_type": "display_data"
    },
    {
     "data": {
      "application/vnd.jupyter.widget-view+json": {
       "model_id": "eac7330dae204fb6b5df2bfb6c2cce8b",
       "version_major": 2,
       "version_minor": 0
      },
      "text/plain": [
       "Dropdown(description='Select Team:', options=('ATL', 'BOS', 'BRK', 'CHI', 'CHO', 'CLE', 'DAL', 'DEN', 'DET', '…"
      ]
     },
     "metadata": {},
     "output_type": "display_data"
    },
    {
     "data": {
      "application/vnd.jupyter.widget-view+json": {
       "model_id": "6b5373dbff3c41e58454419bc5d937f8",
       "version_major": 2,
       "version_minor": 0
      },
      "text/plain": [
       "Checkbox(value=True, description='Show Players selected by Team', indent=False)"
      ]
     },
     "metadata": {},
     "output_type": "display_data"
    },
    {
     "data": {
      "application/vnd.jupyter.widget-view+json": {
       "model_id": "a367e0d088104395ac07af3e69cd57a8",
       "version_major": 2,
       "version_minor": 0
      },
      "text/plain": [
       "Output()"
      ]
     },
     "metadata": {},
     "output_type": "display_data"
    }
   ],
   "source": [
    "hover_template_team_season = Template('<b>{{team_name}}</b><br><br>'\n",
    "                          'Season: {{season}} <br>' +\n",
    "                          '{{selected_stat}} diff to avg players: {{diff}}<br>' +\n",
    "                          '{{selected_stat}}: {{stat}} <br><extra></extra>')\n",
    "\n",
    "# change all relevant_stat ranks to 'Not Ranked' if the value is NaN in the df_career_na_filled dataframe\n",
    "for stat in relevant_stats:\n",
    "    df_career_na_filled.loc[df_career_na_filled[stat + '_rank'].isna(), stat + '_rank'] = 'Not Ranked'\n",
    "\n",
    "# create a scatter plot with the average of each team for each season. The seasons should be the x axis and the selected relevant stat differences should be the y axis\n",
    "def create_team_scatter(selected_stat, selected_team, show_players):\n",
    "    fig = px.scatter(df_team_avg_by_season, x='Season', y=f'{selected_stat}_diff', hover_name='Tm',\n",
    "                     hover_data={'Tm': True, selected_stat: True, f'{selected_stat}_diff': True})\n",
    "    \n",
    "    # add a red dot for all stats of the selected team\n",
    "    fig.add_trace(px.scatter(df_team_avg_by_season[df_team_avg_by_season['Tm'] == selected_team], x='Season', y=f'{selected_stat}_diff', hover_name='Tm',\n",
    "                                hover_data={'Tm': True, selected_stat: True, f'{selected_stat}_diff': True},\n",
    "                                color_discrete_sequence=['red']).data[0])\n",
    "    \n",
    "    # styling the figure\n",
    "    fig.update_traces(hovertemplate=hover_template_team_season.render(team_name='%{hovertext}',\n",
    "        season='%{x}',\n",
    "        diff='%{y:.2f}',\n",
    "        stat='%{customdata[1]:.2f}',\n",
    "        selected_stat=selected_stat))\n",
    "    \n",
    "    if show_players:\n",
    "        # add a yellow dot for each player of the selected team\n",
    "        fig.add_trace(px.scatter(df_career_na_filled[df_career_na_filled['Tm'] == selected_team], x='Season', y=f'{selected_stat}_diff', hover_name='Player',\n",
    "                                    hover_data={'Player': True, selected_stat: True, f'{selected_stat}_diff': True, f'{selected_stat}_rank': True, 'Pk': True},\n",
    "                                    color_discrete_sequence=['yellow']).data[0])\n",
    "        # make yellow dots semi-transparent\n",
    "        fig.update_traces(marker=dict(size=12, opacity=0.7), showlegend=False, selector=dict(marker_color='yellow'))\n",
    "    \n",
    "    # add hover info for the yellow dots\n",
    "    fig.update_traces(hovertemplate=hover_template_player.render(player_name='%{hovertext}',\n",
    "        pick='%{customdata[3]}',\n",
    "        season='%{x}',\n",
    "        selected_stat=selected_stat,\n",
    "        diff='%{y:.2f}',\n",
    "        rank='%{customdata[2]}',\n",
    "        raw_stat='%{customdata[1]:.2f}'),\n",
    "        selector=dict(marker_color='yellow'))\n",
    "\n",
    "    \n",
    "    fig.update_traces(marker=dict(size=12), showlegend=False)\n",
    "    fig.update_layout(title=f'{selected_stat} Difference vs Season for Teams',\n",
    "                      xaxis_title='Season', yaxis_title=f'{selected_stat} Difference')\n",
    "    fig.show()\n",
    "\n",
    "# create a dropdown widget with all relevant stats\n",
    "stat_dropdown_team_scatter = widgets.Dropdown(\n",
    "    options=relevant_stats,\n",
    "    description='Select Stat:',\n",
    "    disabled=False,\n",
    ")\n",
    "\n",
    "# create a dropdown widget with all teams\n",
    "team_dropdown_team_scatter = widgets.Dropdown(\n",
    "    options=df_team_avg_by_season['Tm'].unique().tolist(),\n",
    "    description='Select Team:',\n",
    "    disabled=False,\n",
    ")\n",
    "\n",
    "# create a checkbox widget to toggle between showing players or not\n",
    "player_checkbox_team_scatter = widgets.Checkbox(\n",
    "    value=True,\n",
    "    description='Show Players selected by Team',\n",
    "    disabled=False,\n",
    "    indent=False\n",
    ")\n",
    "\n",
    "# Define the output area to display the scatter plot\n",
    "output_team_scatter = widgets.Output()\n",
    "\n",
    "# Observe changes in the value of the dropdown and call the function\n",
    "def on_value_change_team_scatter(change):\n",
    "    clear_output()\n",
    "    output_team_scatter.clear_output()\n",
    "    selected_stat = stat_dropdown_team_scatter.value\n",
    "    selected_team = team_dropdown_team_scatter.value\n",
    "    show_players = player_checkbox_team_scatter.value\n",
    "\n",
    "    display(stat_dropdown_team_scatter)\n",
    "    display(team_dropdown_team_scatter)\n",
    "    display(player_checkbox_team_scatter)\n",
    "    with output_team_scatter:\n",
    "        create_team_scatter(selected_stat, selected_team, show_players)\n",
    "\n",
    "stat_dropdown_team_scatter.observe(on_value_change_team_scatter, names='value')\n",
    "team_dropdown_team_scatter.observe(on_value_change_team_scatter, names='value')\n",
    "player_checkbox_team_scatter.observe(on_value_change_team_scatter, names='value')\n",
    "\n",
    "# Display the dropdown and the output area\n",
    "display(stat_dropdown_team_scatter)\n",
    "display(team_dropdown_team_scatter)\n",
    "display(player_checkbox_team_scatter)\n",
    "display(output_team_scatter)"
   ]
  },
  {
   "cell_type": "markdown",
   "metadata": {},
   "source": [
    "# Analysis by Team"
   ]
  },
  {
   "cell_type": "markdown",
   "metadata": {},
   "source": [
    "Be aware that the minimum games restriction does not apply to this section."
   ]
  },
  {
   "cell_type": "code",
   "execution_count": 39,
   "metadata": {},
   "outputs": [],
   "source": [
    "df_team_avg = clean_team_names(df_career_na_filled).groupby('Tm').mean(numeric_only=True)\n",
    "df_team_avg = df_team_avg.reset_index()"
   ]
  },
  {
   "cell_type": "code",
   "execution_count": 40,
   "metadata": {},
   "outputs": [
    {
     "data": {
      "application/vnd.jupyter.widget-view+json": {
       "model_id": "c71a67b2beec4c67a43f0bfefaab8b6f",
       "version_major": 2,
       "version_minor": 0
      },
      "text/plain": [
       "Dropdown(description='Select Stat:', options=('PTS', 'TRB', 'AST', 'WS', 'WS/48', 'BPM', 'VORP', 'PIE', 'OFF_R…"
      ]
     },
     "metadata": {},
     "output_type": "display_data"
    },
    {
     "data": {
      "application/vnd.jupyter.widget-view+json": {
       "model_id": "4c212aa8cfbb48f3a42e043f75d09fbf",
       "version_major": 2,
       "version_minor": 0
      },
      "text/plain": [
       "Output()"
      ]
     },
     "metadata": {},
     "output_type": "display_data"
    }
   ],
   "source": [
    "# define hover template for team vs avg pick scatter plot\n",
    "hover_template_team = Template('<b>{{team_name}}</b><br><br>' +\n",
    "                            'Average Pick: {{pick}} <br>' +\n",
    "                            '{{selected_stat}} diff to avg players: {{diff}}<br>' +\n",
    "                            '{{selected_stat}}: {{stat}} <br><extra></extra>')\n",
    "\n",
    "# create a scatter plot with the difference of the selected stat for each team. The y axis should be the selected stat and the x axis should be the average Pk\n",
    "def teams_vs_avg_pick_scatter(selected_stat):\n",
    "    fig = px.scatter(df_team_avg, x='Pk', y=f'{selected_stat}_diff', hover_name='Tm',\n",
    "                     hover_data={'Tm': True, selected_stat: True, f'{selected_stat}_diff': True, 'Pk': True})\n",
    "    \n",
    "    # styling the figure\n",
    "    fig.update_traces(hovertemplate=hover_template_team.render(team_name='%{hovertext}',\n",
    "        pick='%{x}',\n",
    "        diff='%{y:.2f}',\n",
    "        stat='%{customdata[1]:.2f}',\n",
    "        selected_stat=selected_stat))\n",
    "    \n",
    "    fig.update_traces(marker=dict(size=12), showlegend=False)\n",
    "    fig.update_layout(title=f'{selected_stat} Difference vs Average Draft Position for Teams',\n",
    "                      xaxis_title='Average Draft Position', yaxis_title=f'{selected_stat} Difference')\n",
    "    fig.show()\n",
    "\n",
    "# create a dropdown widget with all relevant stats\n",
    "stat_dropdown_avg_position_scatter = widgets.Dropdown(\n",
    "    options=relevant_stats,\n",
    "    description='Select Stat:',\n",
    "    disabled=False,\n",
    ")\n",
    "\n",
    "# Define the output area to display the scatter plot\n",
    "output_avg_position_scatter = widgets.Output()\n",
    "\n",
    "# Observe changes in the value of the dropdown and call the function\n",
    "def on_value_change_avg_position_scatter(change):\n",
    "    clear_output()\n",
    "    output_avg_position_scatter.clear_output()\n",
    "    selected_stat = stat_dropdown_avg_position_scatter.value\n",
    "\n",
    "    display(stat_dropdown_avg_position_scatter)\n",
    "    with output_avg_position_scatter:\n",
    "        teams_vs_avg_pick_scatter(selected_stat)\n",
    "\n",
    "stat_dropdown_avg_position_scatter.observe(on_value_change_avg_position_scatter, names='value')\n",
    "\n",
    "# Display the dropdown and the output area\n",
    "display(stat_dropdown_avg_position_scatter)\n",
    "display(output_avg_position_scatter)"
   ]
  },
  {
   "cell_type": "code",
   "execution_count": 41,
   "metadata": {},
   "outputs": [
    {
     "data": {
      "text/html": [
       "<h3>Best Team by Stat</h3>"
      ],
      "text/plain": [
       "<IPython.core.display.HTML object>"
      ]
     },
     "metadata": {},
     "output_type": "display_data"
    },
    {
     "data": {
      "text/html": [
       "<table>\n",
       "<tbody>\n",
       "<tr><td>PTS       </td><td>SAS</td></tr>\n",
       "<tr><td>TRB       </td><td>TOR</td></tr>\n",
       "<tr><td>AST       </td><td>SAS</td></tr>\n",
       "<tr><td>WS        </td><td>SAS</td></tr>\n",
       "<tr><td>WS/48     </td><td>DEN</td></tr>\n",
       "<tr><td>BPM       </td><td>DEN</td></tr>\n",
       "<tr><td>VORP      </td><td>SAS</td></tr>\n",
       "<tr><td>PIE       </td><td>DEN</td></tr>\n",
       "<tr><td>OFF_RATING</td><td>DEN</td></tr>\n",
       "<tr><td>DEF_RATING</td><td>SAS</td></tr>\n",
       "<tr><td>NET_RATING</td><td>DEN</td></tr>\n",
       "</tbody>\n",
       "</table>"
      ],
      "text/plain": [
       "<IPython.core.display.HTML object>"
      ]
     },
     "metadata": {},
     "output_type": "display_data"
    }
   ],
   "source": [
    "# create a best_team_by_stat dict with all stats as keys and the best team for that stat as value\n",
    "best_team_by_stat = {}\n",
    "for stat in relevant_stats:\n",
    "    best_team_by_stat[stat] = df_team_avg[df_team_avg[f'{stat}_diff'] == df_team_avg[f'{stat}_diff'].max()][['Tm', f'{stat}_diff']].values[0][0]\n",
    "\n",
    "# transform the dict into a dataframe\n",
    "df_best_team_by_stat = pd.DataFrame.from_dict(best_team_by_stat, orient='index', columns=['Team'])\n",
    "\n",
    "# display a title for the table\n",
    "display(HTML(\"<h3>Best Team by Stat</h3>\"))\n",
    "# display the dataframe as a table\n",
    "display(HTML(tabulate(df_best_team_by_stat, tablefmt=\"html\")))"
   ]
  },
  {
   "cell_type": "markdown",
   "metadata": {},
   "source": [
    "# Aggregated Team Analysis"
   ]
  },
  {
   "cell_type": "code",
   "execution_count": 42,
   "metadata": {},
   "outputs": [
    {
     "data": {
      "application/vnd.jupyter.widget-view+json": {
       "model_id": "68cac4f10178499c94a872275357a0f4",
       "version_major": 2,
       "version_minor": 0
      },
      "text/plain": [
       "FloatSlider(value=1.0, continuous_update=False, description='PTS Weight:', layout=Layout(width='600px'), max=1…"
      ]
     },
     "metadata": {},
     "output_type": "display_data"
    },
    {
     "data": {
      "application/vnd.jupyter.widget-view+json": {
       "model_id": "ccd973b506ec46a9b508aeb2595fd4f1",
       "version_major": 2,
       "version_minor": 0
      },
      "text/plain": [
       "FloatSlider(value=1.0, continuous_update=False, description='TRB Weight:', layout=Layout(width='600px'), max=1…"
      ]
     },
     "metadata": {},
     "output_type": "display_data"
    },
    {
     "data": {
      "application/vnd.jupyter.widget-view+json": {
       "model_id": "5bb76391a1ec4dd881a56df6073aa5c1",
       "version_major": 2,
       "version_minor": 0
      },
      "text/plain": [
       "FloatSlider(value=1.0, continuous_update=False, description='AST Weight:', layout=Layout(width='600px'), max=1…"
      ]
     },
     "metadata": {},
     "output_type": "display_data"
    },
    {
     "data": {
      "application/vnd.jupyter.widget-view+json": {
       "model_id": "ff0c7f04a4fa4a5fa492a4bcd31d4175",
       "version_major": 2,
       "version_minor": 0
      },
      "text/plain": [
       "FloatSlider(value=1.0, continuous_update=False, description='WS Weight:', layout=Layout(width='600px'), max=1.…"
      ]
     },
     "metadata": {},
     "output_type": "display_data"
    },
    {
     "data": {
      "application/vnd.jupyter.widget-view+json": {
       "model_id": "484e1793433e4bd9880d2af51b9ed03f",
       "version_major": 2,
       "version_minor": 0
      },
      "text/plain": [
       "FloatSlider(value=1.0, continuous_update=False, description='WS/48 Weight:', layout=Layout(width='600px'), max…"
      ]
     },
     "metadata": {},
     "output_type": "display_data"
    },
    {
     "data": {
      "application/vnd.jupyter.widget-view+json": {
       "model_id": "8bd29fd359d34c858aab6a0de0aa6651",
       "version_major": 2,
       "version_minor": 0
      },
      "text/plain": [
       "FloatSlider(value=1.0, continuous_update=False, description='BPM Weight:', layout=Layout(width='600px'), max=1…"
      ]
     },
     "metadata": {},
     "output_type": "display_data"
    },
    {
     "data": {
      "application/vnd.jupyter.widget-view+json": {
       "model_id": "d02ddb9154924b1e8e9eb41c99be98cf",
       "version_major": 2,
       "version_minor": 0
      },
      "text/plain": [
       "FloatSlider(value=1.0, continuous_update=False, description='VORP Weight:', layout=Layout(width='600px'), max=…"
      ]
     },
     "metadata": {},
     "output_type": "display_data"
    },
    {
     "data": {
      "application/vnd.jupyter.widget-view+json": {
       "model_id": "cc9c65a723574a12b4054b5fd5b5a0c0",
       "version_major": 2,
       "version_minor": 0
      },
      "text/plain": [
       "FloatSlider(value=1.0, continuous_update=False, description='PIE Weight:', layout=Layout(width='600px'), max=1…"
      ]
     },
     "metadata": {},
     "output_type": "display_data"
    },
    {
     "data": {
      "application/vnd.jupyter.widget-view+json": {
       "model_id": "5224731f60fe47c0a9ccd9ab8e857fb9",
       "version_major": 2,
       "version_minor": 0
      },
      "text/plain": [
       "FloatSlider(value=1.0, continuous_update=False, description='OFF_RATING Weight:', layout=Layout(width='600px')…"
      ]
     },
     "metadata": {},
     "output_type": "display_data"
    },
    {
     "data": {
      "application/vnd.jupyter.widget-view+json": {
       "model_id": "66dfe53428814481aeef1f7045bbaa5e",
       "version_major": 2,
       "version_minor": 0
      },
      "text/plain": [
       "FloatSlider(value=1.0, continuous_update=False, description='DEF_RATING Weight:', layout=Layout(width='600px')…"
      ]
     },
     "metadata": {},
     "output_type": "display_data"
    },
    {
     "data": {
      "application/vnd.jupyter.widget-view+json": {
       "model_id": "d9b072b1616c4319a58d30664fa6e886",
       "version_major": 2,
       "version_minor": 0
      },
      "text/plain": [
       "FloatSlider(value=1.0, continuous_update=False, description='NET_RATING Weight:', layout=Layout(width='600px')…"
      ]
     },
     "metadata": {},
     "output_type": "display_data"
    }
   ],
   "source": [
    "# create a dict to assign a weight to each stat\n",
    "stat_weights = {'PTS': 1, 'TRB': 1, 'AST': 1, 'WS': 1, 'WS/48': 1, 'BPM': 1, 'VORP': 1, 'PIE': 1, 'OFF_RATING': 1, 'DEF_RATING': 1, 'NET_RATING': 1}\n",
    "\n",
    "# for each stat, create a slider widget to select the weight\n",
    "stat_weight_sliders = {}\n",
    "for stat in stat_weights:\n",
    "    stat_weight_sliders[stat] = widgets.FloatSlider(\n",
    "        value=1,\n",
    "        min=0,\n",
    "        max=1.0,\n",
    "        step=0.1,\n",
    "        description=f'{stat} Weight:',\n",
    "        disabled=False,\n",
    "        continuous_update=False,\n",
    "        orientation='horizontal',\n",
    "        readout=True,\n",
    "        readout_format='.2f',\n",
    "        style=slider_style,\n",
    "        layout=widgets.Layout(width='600px')\n",
    "    )\n",
    "\n",
    "# set the weight for each stat\n",
    "def set_stat_weight(stat_weight_slider):\n",
    "    # get value from slider\n",
    "    stat_weights[stat_weight_slider['owner'].description.split()[0]] = stat_weight_slider['new']\n",
    "\n",
    "# observe the slider widget to get the weight for each stat\n",
    "for stat in stat_weight_sliders:\n",
    "    stat_weight_sliders[stat].observe(set_stat_weight, names='value')\n",
    "\n",
    "# display the slider widget\n",
    "for stat in stat_weight_sliders:\n",
    "    display(stat_weight_sliders[stat])"
   ]
  },
  {
   "cell_type": "code",
   "execution_count": 43,
   "metadata": {},
   "outputs": [
    {
     "data": {
      "text/html": [
       "<div>\n",
       "<style scoped>\n",
       "    .dataframe tbody tr th:only-of-type {\n",
       "        vertical-align: middle;\n",
       "    }\n",
       "\n",
       "    .dataframe tbody tr th {\n",
       "        vertical-align: top;\n",
       "    }\n",
       "\n",
       "    .dataframe thead th {\n",
       "        text-align: right;\n",
       "    }\n",
       "</style>\n",
       "<table border=\"1\" class=\"dataframe\">\n",
       "  <thead>\n",
       "    <tr style=\"text-align: right;\">\n",
       "      <th></th>\n",
       "      <th>Team</th>\n",
       "      <th>Weighted Average Rank</th>\n",
       "    </tr>\n",
       "    <tr>\n",
       "      <th>Rank</th>\n",
       "      <th></th>\n",
       "      <th></th>\n",
       "    </tr>\n",
       "  </thead>\n",
       "  <tbody>\n",
       "    <tr>\n",
       "      <th>1</th>\n",
       "      <td>CLE</td>\n",
       "      <td>6.00</td>\n",
       "    </tr>\n",
       "    <tr>\n",
       "      <th>2</th>\n",
       "      <td>UTA</td>\n",
       "      <td>8.45</td>\n",
       "    </tr>\n",
       "    <tr>\n",
       "      <th>3</th>\n",
       "      <td>DEN</td>\n",
       "      <td>8.55</td>\n",
       "    </tr>\n",
       "    <tr>\n",
       "      <th>4</th>\n",
       "      <td>MIL</td>\n",
       "      <td>8.55</td>\n",
       "    </tr>\n",
       "    <tr>\n",
       "      <th>5</th>\n",
       "      <td>TOR</td>\n",
       "      <td>9.09</td>\n",
       "    </tr>\n",
       "    <tr>\n",
       "      <th>6</th>\n",
       "      <td>PHI</td>\n",
       "      <td>9.18</td>\n",
       "    </tr>\n",
       "    <tr>\n",
       "      <th>7</th>\n",
       "      <td>LAL</td>\n",
       "      <td>10.00</td>\n",
       "    </tr>\n",
       "    <tr>\n",
       "      <th>8</th>\n",
       "      <td>BOS</td>\n",
       "      <td>10.36</td>\n",
       "    </tr>\n",
       "    <tr>\n",
       "      <th>9</th>\n",
       "      <td>SAS</td>\n",
       "      <td>10.55</td>\n",
       "    </tr>\n",
       "    <tr>\n",
       "      <th>10</th>\n",
       "      <td>IND</td>\n",
       "      <td>11.45</td>\n",
       "    </tr>\n",
       "    <tr>\n",
       "      <th>11</th>\n",
       "      <td>DET</td>\n",
       "      <td>13.09</td>\n",
       "    </tr>\n",
       "    <tr>\n",
       "      <th>12</th>\n",
       "      <td>POR</td>\n",
       "      <td>13.82</td>\n",
       "    </tr>\n",
       "    <tr>\n",
       "      <th>13</th>\n",
       "      <td>MIA</td>\n",
       "      <td>14.45</td>\n",
       "    </tr>\n",
       "    <tr>\n",
       "      <th>14</th>\n",
       "      <td>MEM</td>\n",
       "      <td>14.55</td>\n",
       "    </tr>\n",
       "    <tr>\n",
       "      <th>15</th>\n",
       "      <td>CHI</td>\n",
       "      <td>14.55</td>\n",
       "    </tr>\n",
       "    <tr>\n",
       "      <th>16</th>\n",
       "      <td>HOU</td>\n",
       "      <td>14.55</td>\n",
       "    </tr>\n",
       "    <tr>\n",
       "      <th>17</th>\n",
       "      <td>ATL</td>\n",
       "      <td>15.00</td>\n",
       "    </tr>\n",
       "    <tr>\n",
       "      <th>18</th>\n",
       "      <td>NOP</td>\n",
       "      <td>15.36</td>\n",
       "    </tr>\n",
       "    <tr>\n",
       "      <th>19</th>\n",
       "      <td>GSW</td>\n",
       "      <td>15.91</td>\n",
       "    </tr>\n",
       "    <tr>\n",
       "      <th>20</th>\n",
       "      <td>OKC</td>\n",
       "      <td>17.55</td>\n",
       "    </tr>\n",
       "    <tr>\n",
       "      <th>21</th>\n",
       "      <td>SAC</td>\n",
       "      <td>18.27</td>\n",
       "    </tr>\n",
       "    <tr>\n",
       "      <th>22</th>\n",
       "      <td>NYK</td>\n",
       "      <td>18.45</td>\n",
       "    </tr>\n",
       "    <tr>\n",
       "      <th>23</th>\n",
       "      <td>LAC</td>\n",
       "      <td>18.73</td>\n",
       "    </tr>\n",
       "    <tr>\n",
       "      <th>24</th>\n",
       "      <td>DAL</td>\n",
       "      <td>21.36</td>\n",
       "    </tr>\n",
       "    <tr>\n",
       "      <th>25</th>\n",
       "      <td>CHO</td>\n",
       "      <td>21.36</td>\n",
       "    </tr>\n",
       "    <tr>\n",
       "      <th>26</th>\n",
       "      <td>ORL</td>\n",
       "      <td>22.91</td>\n",
       "    </tr>\n",
       "    <tr>\n",
       "      <th>27</th>\n",
       "      <td>BRK</td>\n",
       "      <td>23.36</td>\n",
       "    </tr>\n",
       "    <tr>\n",
       "      <th>28</th>\n",
       "      <td>MIN</td>\n",
       "      <td>24.73</td>\n",
       "    </tr>\n",
       "    <tr>\n",
       "      <th>29</th>\n",
       "      <td>WAS</td>\n",
       "      <td>25.64</td>\n",
       "    </tr>\n",
       "    <tr>\n",
       "      <th>30</th>\n",
       "      <td>PHO</td>\n",
       "      <td>29.18</td>\n",
       "    </tr>\n",
       "  </tbody>\n",
       "</table>\n",
       "</div>"
      ],
      "text/plain": [
       "     Team  Weighted Average Rank\n",
       "Rank                            \n",
       "1     CLE                   6.00\n",
       "2     UTA                   8.45\n",
       "3     DEN                   8.55\n",
       "4     MIL                   8.55\n",
       "5     TOR                   9.09\n",
       "6     PHI                   9.18\n",
       "7     LAL                  10.00\n",
       "8     BOS                  10.36\n",
       "9     SAS                  10.55\n",
       "10    IND                  11.45\n",
       "11    DET                  13.09\n",
       "12    POR                  13.82\n",
       "13    MIA                  14.45\n",
       "14    MEM                  14.55\n",
       "15    CHI                  14.55\n",
       "16    HOU                  14.55\n",
       "17    ATL                  15.00\n",
       "18    NOP                  15.36\n",
       "19    GSW                  15.91\n",
       "20    OKC                  17.55\n",
       "21    SAC                  18.27\n",
       "22    NYK                  18.45\n",
       "23    LAC                  18.73\n",
       "24    DAL                  21.36\n",
       "25    CHO                  21.36\n",
       "26    ORL                  22.91\n",
       "27    BRK                  23.36\n",
       "28    MIN                  24.73\n",
       "29    WAS                  25.64\n",
       "30    PHO                  29.18"
      ]
     },
     "execution_count": 43,
     "metadata": {},
     "output_type": "execute_result"
    }
   ],
   "source": [
    "# calculate the team rank for each stat from the df_team_avg dataframe\n",
    "for stat in relevant_stats:\n",
    "    if stat == 'DEF_RATING': # lower DEF_RATING is better\n",
    "        df_team_avg[stat + '_rank'] = df_team_avg[stat + '_diff'].rank(ascending=True, method='min')\n",
    "    else:\n",
    "        df_team_avg[stat + '_rank'] = df_team_avg[stat + '_diff'].rank(ascending=False, method='min')\n",
    "\n",
    "# calculate the average rank for each team by weighting each stat rank with the respective weight\n",
    "df_team_avg['Weighted Average Rank'] = 0\n",
    "for stat in relevant_stats:\n",
    "    df_team_avg['Weighted Average Rank'] += df_team_avg[stat + '_rank'] * stat_weights[stat]\n",
    "\n",
    "df_team_avg['Weighted Average Rank'] /= len(relevant_stats)\n",
    "\n",
    "# sort the df_team_avg dataframe by the weighted average rank\n",
    "df_team_avg = df_team_avg.sort_values('Weighted Average Rank', ascending=True)\n",
    "# reset the index\n",
    "df_team_avg = df_team_avg.reset_index(drop=True)\n",
    "# add 1 to every index\n",
    "df_team_avg.index += 1\n",
    "# rename the index column to 'Rank'\n",
    "df_team_avg.index.names = ['Rank']\n",
    "# rename the 'Tm' column to 'Team'\n",
    "df_team_avg = df_team_avg.rename(columns={'Tm': 'Team'})\n",
    "\n",
    "# round the weighted average rank to 2 decimals\n",
    "df_team_avg['Weighted Average Rank'] = df_team_avg['Weighted Average Rank'].round(2)\n",
    "\n",
    "# print the df_team_avg dataframe 'Tm' and 'weighted_avg_rank' columns\n",
    "df_team_avg[['Team', 'Weighted Average Rank']]"
   ]
  },
  {
   "cell_type": "markdown",
   "metadata": {},
   "source": [
    "# conclusions"
   ]
  }
 ],
 "metadata": {
  "kernelspec": {
   "display_name": ".nbavenv",
   "language": "python",
   "name": "python3"
  },
  "language_info": {
   "codemirror_mode": {
    "name": "ipython",
    "version": 3
   },
   "file_extension": ".py",
   "mimetype": "text/x-python",
   "name": "python",
   "nbconvert_exporter": "python",
   "pygments_lexer": "ipython3",
   "version": "3.8.0"
  },
  "orig_nbformat": 4
 },
 "nbformat": 4,
 "nbformat_minor": 2
}
