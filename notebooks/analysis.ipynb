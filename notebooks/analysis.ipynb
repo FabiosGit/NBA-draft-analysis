{
 "cells": [
  {
   "cell_type": "markdown",
   "metadata": {},
   "source": [
    "# NBA Draft Analysis - Which NBA team selects the best players relative to the average player at their respective draft position?\n",
    "\n",
    "## Index\n",
    "1. [Introduction](#Introduction)\n",
    "2. [Data](#Data)\n",
    "3. [Player Analysis](#player_analysis)\n",
    "4. [Team Analysis by Season](#team_season_analysis)\n",
    "5. [Team Analysis](#team_analysis)\n",
    "6. [Aggregated Team Analysis](#aggr_team_analysis)\n",
    "4. [Conclusions, Limitations, and Further Research Ideas](#conclusions)"
   ]
  },
  {
   "cell_type": "markdown",
   "metadata": {},
   "source": [
    "## Introduction\n",
    "The NBA Draft is an annual event in the National Basketball Association (NBA) where teams select eligible players to join their rosters. It consists of two rounds since 1989, with teams choosing players based on a predetermined order, primarily determined by the previous season's standings. The draft serves as a way for teams to acquire new talent, including young prospects from college or international leagues, and provides an opportunity for emerging basketball stars to realize their dreams of playing in the NBA.\n",
    "\n",
    "For example, in 2003, the famous basketball player LeBron James was the first overall pick by the Cleveland Cavaliers. His selection was the culmination of immense hype and anticipation, as he was considered a generational talent straight out of high school. The NBA Draft is a pivotal moment for the league's future, as it shapes the composition of teams and can have a significant impact on the sport's landscape.\n",
    "\n",
    "A team’s choice during the draft can make or break its season, making it crucial to have effective tools for selecting the best players from the available pool. With this analysis, we aim to understand which team selects the best players relative to the average player at their respective draft position. To do so, we will get the historical data of the drafts for the NBA seasons from 1996 until 2023. This project focuses on NBA player and team statistics analysis and visualizations, offering interactive tools to explore and compare player and team data, and ultimately aiding in the assessment of draft choices, individual player achievements, and team success over different seasons."
   ]
  },
  {
   "cell_type": "markdown",
   "metadata": {},
   "source": [
    "## Data\n",
    "Information about the [draft selections](../data/raw/nba_draft_data_bbref_raw.csv) was manually exported from the draft section of [Basketball Reference](https://www.basketball-reference.com/draft/). This data also contains advanced statistics for each player, aggregated to their careers. After combining the exported data for all draft years into one file, we ended up with 22 variables for each player drafted between 1996 and 2022. The draft year 2023 was excluded for this analysis because at the time this research was conducted, the 2023-24 NBA season had not started.\n",
    "\n",
    "The [raw data](../data/raw/nba_stats_1996-2022_raw.csv) about further player performance metrics is accessed using the [NBA API](https://github.com/swar/nba_api/blob/master/docs/nba_api/stats/examples.md) and it contains a variety of advanced statistics of all official NBA players from year 1996 until 2023. The statistics include the player ID, his name, how many years he played, points scored and many more. The NBA API offers 265 variables, but we will use only 13 of them. For brevity's sake, in the data there are many abbreviations. A [reference table](../references/abbreviation_reference_table.md) comes in handy."
   ]
  },
  {
   "cell_type": "markdown",
   "metadata": {},
   "source": [
    "We need to import the following libraries to manage the data handling and visualizations."
   ]
  },
  {
   "cell_type": "code",
   "execution_count": 1,
   "metadata": {},
   "outputs": [],
   "source": [
    "# Import libraries\n",
    "import pandas as pd\n",
    "import numpy as np\n",
    "import ipywidgets as widgets\n",
    "import plotly.express as px\n",
    "from IPython.display import display, HTML, clear_output\n",
    "from tabulate import tabulate\n",
    "from jinja2 import Template"
   ]
  },
  {
   "cell_type": "markdown",
   "metadata": {},
   "source": [
    "In a Data Frame called df, we load the [player career average](../data/interim/player_career_avg.csv) data. This data was obtained by combining the statistics from Basketball Reference which was already aggregated to career-level with the weighted average of the season-level statistics for each player. For more details, see the [season2career_stats.ipynb notebook](../src/data_processing/season2career_stats.ipynb)."
   ]
  },
  {
   "cell_type": "code",
   "execution_count": 2,
   "metadata": {},
   "outputs": [],
   "source": [
    "# load in the data\n",
    "df = pd.read_csv('../data/processed/player_career_avg.csv', index_col=0)"
   ]
  },
  {
   "cell_type": "markdown",
   "metadata": {},
   "source": [
    "We make a copy of the Data Frame to filter for seasons to analyze. With the slider below you can adjust the range of draft years you want to take into account in the analysis."
   ]
  },
  {
   "cell_type": "code",
   "execution_count": 3,
   "metadata": {},
   "outputs": [],
   "source": [
    "# widget styling\n",
    "slider_style = {'description_width': 'initial'}\n",
    "slider_css = \"\"\"\n",
    ".widget-label { \n",
    "    min-width: fit-content !important; \n",
    "} \n",
    "\"\"\"\n",
    "\n",
    "# Creating a widget box for applying the CSS\n",
    "slider_style_widget = widgets.HTML(\n",
    "    value=\"<style>\" + slider_css + \"</style>\"\n",
    ")"
   ]
  },
  {
   "cell_type": "code",
   "execution_count": 4,
   "metadata": {},
   "outputs": [
    {
     "data": {
      "application/vnd.jupyter.widget-view+json": {
       "model_id": "570148ee24b848e9ac4f70a603f611dd",
       "version_major": 2,
       "version_minor": 0
      },
      "text/plain": [
       "HTML(value='<style>\\n.widget-label { \\n    min-width: fit-content !important; \\n} \\n</style>')"
      ]
     },
     "metadata": {},
     "output_type": "display_data"
    },
    {
     "data": {
      "application/vnd.jupyter.widget-view+json": {
       "model_id": "ed1aaa6bc0e747d6914d6a81a82cc75d",
       "version_major": 2,
       "version_minor": 0
      },
      "text/plain": [
       "SelectionRangeSlider(continuous_update=False, description='Select Seasons to Analyze', index=(0, 26), layout=L…"
      ]
     },
     "metadata": {},
     "output_type": "display_data"
    }
   ],
   "source": [
    "# copy the dataframe\n",
    "df_seasons_filtered = df.copy()\n",
    "\n",
    "# create list with all seasons between 1996 and 2023\n",
    "seasons = range(1996, 2023)\n",
    "\n",
    "# create a slider widget to select the seasons\n",
    "season_slider = widgets.SelectionRangeSlider(\n",
    "    options=seasons,\n",
    "    index=(0, len(seasons)-1),\n",
    "    description='Select Seasons to Analyze',\n",
    "    disabled=False,\n",
    "    continuous_update=False,\n",
    "    orientation='horizontal',\n",
    "    readout=True,\n",
    "    layout=widgets.Layout(width='100%'),\n",
    ")\n",
    "\n",
    "# get the subset of the dataframe that matches the selected seasons\n",
    "def get_seasons(season_slider):\n",
    "    # declare global variable\n",
    "    global df_seasons_filtered\n",
    "    # get values from slider\n",
    "    start_season = int(season_slider['new'][0])\n",
    "    end_season = int(season_slider['new'][1])\n",
    "    df_seasons_filtered = df[(df['Season'] >= start_season) & (df['Season'] <= end_season)]\n",
    "\n",
    "# observe the slider widget to get the selected seasons\n",
    "season_slider.observe(get_seasons, names='value')\n",
    "\n",
    "# display the slider widget\n",
    "display(slider_style_widget, season_slider)"
   ]
  },
  {
   "cell_type": "markdown",
   "metadata": {},
   "source": [
    "**Select a penalty for unbounded stats**\n",
    "\n",
    "Drafted players who never played a game in the NBA are perceived as bad draft picks but never accumulated any stats. Since excluding them from the analysis would worsen the relative performance of other players (who did play in the NBA) selected at that respective draft position, the empty stats should be replaced by a \"bad stat\", as never playing a game in the NBA objectively makes that player a bad selection. For total points, assists and rebounds, 0 is the absolute minimum and therefore suitable as a replacement stat. However, all other stats are unbounded and don't have a definite minimum value. Using the minimum value in our data would be greatly affected by outliers which is why we opted for a percentile that can be dynamically chosen using the slider below. We recommend using a percentile between 1% and 5%."
   ]
  },
  {
   "cell_type": "code",
   "execution_count": 5,
   "metadata": {},
   "outputs": [
    {
     "data": {
      "application/vnd.jupyter.widget-view+json": {
       "model_id": "570148ee24b848e9ac4f70a603f611dd",
       "version_major": 2,
       "version_minor": 0
      },
      "text/plain": [
       "HTML(value='<style>\\n.widget-label { \\n    min-width: fit-content !important; \\n} \\n</style>')"
      ]
     },
     "metadata": {},
     "output_type": "display_data"
    },
    {
     "data": {
      "application/vnd.jupyter.widget-view+json": {
       "model_id": "5479bbcafba2473c8deaf5d808d44aab",
       "version_major": 2,
       "version_minor": 0
      },
      "text/plain": [
       "FloatSlider(value=0.02, continuous_update=False, description='Penalty Percentile:', layout=Layout(width='100%'…"
      ]
     },
     "metadata": {},
     "output_type": "display_data"
    }
   ],
   "source": [
    "# set standard penalty percentile\n",
    "penalty_percentile = 0.02\n",
    "\n",
    "# create a float slider widget to select the penalty percentile\n",
    "penalty_percentile_slider = widgets.FloatSlider(\n",
    "    value=0.02,\n",
    "    min=0,\n",
    "    max=1.0,\n",
    "    step=0.01,\n",
    "    description='Penalty Percentile:',\n",
    "    disabled=False,\n",
    "    continuous_update=False,\n",
    "    orientation='horizontal',\n",
    "    readout=True,\n",
    "    readout_format='.2f',\n",
    "    layout=widgets.Layout(width='100%')\n",
    ")\n",
    "\n",
    "# set the penalty percentile\n",
    "def set_penalty_percentile(penalty_percentile_slider):\n",
    "    # declare global variable\n",
    "    global penalty_percentile\n",
    "    # get value from slider\n",
    "    penalty_percentile = penalty_percentile_slider['new']\n",
    "\n",
    "# observe the slider widget to get the penalty percentile\n",
    "penalty_percentile_slider.observe(set_penalty_percentile, names='value')\n",
    "\n",
    "# display the slider widget\n",
    "display(slider_style_widget, penalty_percentile_slider)"
   ]
  },
  {
   "cell_type": "markdown",
   "metadata": {},
   "source": [
    "> ### **IMPORTANT**\n",
    "> Re-run all cells after this one if you changed the penalty percentile and/or the season range"
   ]
  },
  {
   "cell_type": "markdown",
   "metadata": {},
   "source": [
    "In the next cell, your active selections for the season range and penalty percentile are shown. Additionally, a list called relevant_stats is created which are the player performance metrics that we base our analysis on. Finally, the stats of the above-mentioned drafted players who did not play in the NBA are replaced with the chosen penalty values."
   ]
  },
  {
   "cell_type": "code",
   "execution_count": 6,
   "metadata": {},
   "outputs": [
    {
     "name": "stdout",
     "output_type": "stream",
     "text": [
      "Your selected penalty percentile for unbounded stats is 0.02\n",
      "Your selected seasons are 1996 to 2022\n"
     ]
    }
   ],
   "source": [
    "# get min and max seasons from df_seasons_filtered\n",
    "start_season = df_seasons_filtered['Season'].min()\n",
    "end_season = df_seasons_filtered['Season'].max()\n",
    "\n",
    "print(\"Your selected penalty percentile for unbounded stats is\", penalty_percentile)\n",
    "print(\"Your selected seasons are\", start_season , \"to\", end_season)\n",
    "\n",
    "relevant_stats = ['PTS', 'TRB', 'AST', 'WS', 'WS/48', 'BPM', 'VORP', 'PIE', 'OFF_RATING', 'DEF_RATING', 'NET_RATING']\n",
    "na_fill_values = {'PTS': 0, 'TRB': 0, 'AST': 0, 'WS': df_seasons_filtered['WS'].quantile(penalty_percentile), 'WS/48': df_seasons_filtered['WS/48'].quantile(penalty_percentile), 'BPM': df_seasons_filtered['BPM'].quantile(penalty_percentile), 'VORP': df_seasons_filtered['VORP'].quantile(penalty_percentile), 'PIE': df_seasons_filtered['PIE'].quantile(penalty_percentile), 'OFF_RATING': df_seasons_filtered['OFF_RATING'].quantile(penalty_percentile), 'DEF_RATING': df_seasons_filtered['DEF_RATING'].quantile(1-penalty_percentile), 'NET_RATING': df_seasons_filtered['NET_RATING'].quantile(penalty_percentile)}\n",
    "\n",
    "# fill the NaNs with the respective entry in the na_fill_values dict for each column\n",
    "df_career_na_filled = df_seasons_filtered.fillna(value=na_fill_values)"
   ]
  },
  {
   "cell_type": "markdown",
   "metadata": {},
   "source": [
    "Next, the average value for each player statistic is calculated per draft position. The averages are stored in the df_avg dataframe which is indexed by the draft position (1-60)."
   ]
  },
  {
   "cell_type": "code",
   "execution_count": 7,
   "metadata": {},
   "outputs": [],
   "source": [
    "# group the df_career dataframe by 'Pk' and calculate the average for each relevant stat\n",
    "df_avg = df_career_na_filled.groupby('Pk')[relevant_stats].mean(numeric_only=True)\n",
    "df_avg = df_avg.reset_index()\n",
    "\n",
    "# add 1 to every index\n",
    "df_avg.index += 1"
   ]
  },
  {
   "cell_type": "markdown",
   "metadata": {},
   "source": [
    "To compare the performance of a player to the average player at their draft position, we calculate the difference between the player's statistics to the previously calculated average values. For most statistics, a positive difference signifies that this player performed better than the average selection at their pick. An exception is DEF_RATING, for which lower values are better, meaning that a negative difference is desirable."
   ]
  },
  {
   "cell_type": "code",
   "execution_count": 8,
   "metadata": {},
   "outputs": [],
   "source": [
    "# for each relevant stat, create a new column in the df_career_na_filled dataframe with the difference between the player's stat and the average for that stat for their draft position\n",
    "for stat in relevant_stats:\n",
    "    df_career_na_filled[stat + '_diff'] = df_career_na_filled[stat] - df_career_na_filled['Pk'].map(df_avg[stat])"
   ]
  },
  {
   "cell_type": "markdown",
   "metadata": {},
   "source": [
    "## Player Analysis\n",
    "<a id='player_analysis'></a>\n",
    "**Calculate ranks for all players above a minimum amount of games played**\n",
    "\n",
    "This section calculates the ranking of the performance above/below the average player at that draft position for each statistic. Some of the statistics that are normalized per 48 minutes can be affected by players that only played very little but performed well in this limited time (e.g., a player only ever played two minutes at the end of a blowout game but scored four points). To avoid such players being ranked very highly, a minimum amount of games can be set using the slider below and all players that do not meet this requirement are excluded from the ranking. Be aware that these players are only excluded from the individual player analysis but not from the team analysis further below."
   ]
  },
  {
   "cell_type": "code",
   "execution_count": 9,
   "metadata": {},
   "outputs": [
    {
     "data": {
      "application/vnd.jupyter.widget-view+json": {
       "model_id": "88413016e2024ff087e7bae53948c4c2",
       "version_major": 2,
       "version_minor": 0
      },
      "text/plain": [
       "IntSlider(value=82, continuous_update=False, description='Minimum Games Played:', layout=Layout(width='100%'),…"
      ]
     },
     "metadata": {},
     "output_type": "display_data"
    }
   ],
   "source": [
    "# set standard minimum number of games played\n",
    "min_games = 82\n",
    "\n",
    "# create an int slides widget to select the minimum number of games played\n",
    "min_games_slider = widgets.IntSlider(\n",
    "    value=82,\n",
    "    min=0,\n",
    "    max=500,\n",
    "    step=1,\n",
    "    description='Minimum Games Played:',\n",
    "    disabled=False,\n",
    "    continuous_update=False,\n",
    "    orientation='horizontal',\n",
    "    readout=True,\n",
    "    readout_format='d',\n",
    "    layout=widgets.Layout(width='100%')\n",
    ")\n",
    "\n",
    "# set the minimum number of games played\n",
    "def set_min_games(min_games_slider):\n",
    "    # declare global variable\n",
    "    global min_games\n",
    "    # get value from slider\n",
    "    min_games = min_games_slider['new']\n",
    "\n",
    "# observe the slider widget to get the minimum number of games played\n",
    "min_games_slider.observe(set_min_games, names='value')\n",
    "\n",
    "# display the slider widget\n",
    "display(min_games_slider)"
   ]
  },
  {
   "cell_type": "markdown",
   "metadata": {},
   "source": [
    "> ### **IMPORTANT**\n",
    "> Re-run all cells from here after changing the minimum games"
   ]
  },
  {
   "cell_type": "markdown",
   "metadata": {},
   "source": [
    "Below, you can see the active minimum games requirement and the player ranks are calculated for each performance metric."
   ]
  },
  {
   "cell_type": "code",
   "execution_count": 10,
   "metadata": {},
   "outputs": [
    {
     "name": "stdout",
     "output_type": "stream",
     "text": [
      "You chose 82 as the minimum number of games played.\n"
     ]
    }
   ],
   "source": [
    "print(\"You chose\", min_games, \"as the minimum number of games played.\")\n",
    "\n",
    "# create a new column for each relevant stat with the rank of the player's stat for their draft position, only using player with min_games\n",
    "for stat in relevant_stats:\n",
    "    if stat == 'DEF_RATING': # lower DEF_RATING is better\n",
    "        df_career_na_filled[stat + '_rank'] = df_career_na_filled[df_career_na_filled['G'] >= min_games][stat + '_diff'].rank(ascending=True, method='min')\n",
    "    else:\n",
    "        df_career_na_filled[stat + '_rank'] = df_career_na_filled[df_career_na_filled['G'] >= min_games][stat + '_diff'].rank(ascending=False, method='min')"
   ]
  },
  {
   "cell_type": "markdown",
   "metadata": {},
   "source": [
    "**Show Performance of Selected Player**\n",
    "\n",
    "The visualization below allows interactively selecting a player. Basic information about the chosen player as well as each performance metric, the corresponding difference to the average selection at their draft pick and the player's rank are displayed."
   ]
  },
  {
   "cell_type": "code",
   "execution_count": 11,
   "metadata": {},
   "outputs": [
    {
     "data": {
      "application/vnd.jupyter.widget-view+json": {
       "model_id": "41ceaea07f94421b9e8a543c2cfbb22c",
       "version_major": 2,
       "version_minor": 0
      },
      "text/plain": [
       "Combobox(value='', description='Player:', ensure_option=True, layout=Layout(width='100%'), options=('Allen Ive…"
      ]
     },
     "metadata": {},
     "output_type": "display_data"
    },
    {
     "data": {
      "application/vnd.jupyter.widget-view+json": {
       "model_id": "2f7b33188e62464c809bb9e43e7678be",
       "version_major": 2,
       "version_minor": 0
      },
      "text/plain": [
       "Output()"
      ]
     },
     "metadata": {},
     "output_type": "display_data"
    }
   ],
   "source": [
    "# create a combobox widget with all 'Player' values\n",
    "player_widget = widgets.Combobox(\n",
    "    placeholder='Choose a Player',\n",
    "    options=df_career_na_filled['Player'].unique().tolist(),\n",
    "    description='Player:',\n",
    "    ensure_option=True,\n",
    "    disabled=False,\n",
    "    layout=widgets.Layout(width='100%')\n",
    ")\n",
    "\n",
    "# Define the output area to display additional information\n",
    "output_player_ranks = widgets.Output()\n",
    "\n",
    "# Function to update the output area based on the selected player\n",
    "def on_value_change_player_ranks(change):\n",
    "    output_player_ranks.clear_output()\n",
    "    selected_player = change['new']\n",
    "    with output_player_ranks:\n",
    "        # get player data\n",
    "        player_data = df_career_na_filled[df_career_na_filled['Player'] == selected_player]\n",
    "\n",
    "        # display player information\n",
    "        display(HTML(f\"<h3>Player: {player_data['Player'].values[0]}</h3>\"))\n",
    "        display(HTML(f\"<p>Year: {player_data['Season'].values[0]} Pick: {player_data['Pk'].values[0]} - Drafted by: {player_data['Tm'].values[0]}</p>\"))\n",
    "        display(HTML(f\"<p>Played {int(player_data['G'].values[0])} games in {int(player_data['Yrs'].values[0])} years</p>\"))\n",
    "        \n",
    "        # create a table with the player's ranks, total value and diff for each relevant stat\n",
    "        stats_table = [['Stat', 'Rank', 'Raw Stat', 'Difference to Average for Draft Position']]\n",
    "        for stat in relevant_stats:\n",
    "            stats_table.append([stat, int(player_data[stat + '_rank'].values[0]), round(player_data[stat].values[0], 2), round(player_data[stat + '_diff'].values[0], 2)])\n",
    "\n",
    "        # transpose the table\n",
    "        stats_table = list(map(list, zip(*stats_table)))\n",
    "            \n",
    "        display(HTML(tabulate(stats_table, tablefmt=\"html\")))\n",
    "\n",
    "# Observe changes in the value of the combobox and call the function\n",
    "player_widget.observe(on_value_change_player_ranks, names='value')\n",
    "\n",
    "# Display the widgets\n",
    "display(player_widget)\n",
    "display(output_player_ranks)"
   ]
  },
  {
   "cell_type": "markdown",
   "metadata": {},
   "source": [
    "**Player Analysis: Performance Metric Differences vs Draft Pick**\n",
    "\n",
    "In this scatter plot, the difference to the average selection at a given draft pick for a selected performance metric is plotted against the draft picks. If desired, a player can be searched for and is then highlighted in the visualization. Hovering over a dot shows additional information."
   ]
  },
  {
   "cell_type": "code",
   "execution_count": 12,
   "metadata": {},
   "outputs": [
    {
     "data": {
      "application/vnd.jupyter.widget-view+json": {
       "model_id": "fdab3c00fe824428b28fd6c30987ece5",
       "version_major": 2,
       "version_minor": 0
      },
      "text/plain": [
       "Combobox(value='', description='Player:', ensure_option=True, options=('Allen Iverson', 'Marcus Camby', 'Share…"
      ]
     },
     "metadata": {},
     "output_type": "display_data"
    },
    {
     "data": {
      "application/vnd.jupyter.widget-view+json": {
       "model_id": "e0c22c89f9c845c794afdbd9c894bffb",
       "version_major": 2,
       "version_minor": 0
      },
      "text/plain": [
       "Dropdown(description='Select Stat:', options=('PTS', 'TRB', 'AST', 'WS', 'WS/48', 'BPM', 'VORP', 'PIE', 'OFF_R…"
      ]
     },
     "metadata": {},
     "output_type": "display_data"
    },
    {
     "data": {
      "application/vnd.jupyter.widget-view+json": {
       "model_id": "d3d79080e79f437a82f7fc9c82352c0e",
       "version_major": 2,
       "version_minor": 0
      },
      "text/plain": [
       "Output()"
      ]
     },
     "metadata": {},
     "output_type": "display_data"
    }
   ],
   "source": [
    "# Filter players based on the minimum games played\n",
    "filtered_df = df_career_na_filled[df_career_na_filled['G'] >= min_games]\n",
    "\n",
    "# create a combobox widget with all 'Player' values\n",
    "player_widget_diff_scatter = widgets.Combobox(\n",
    "    placeholder='Choose a Player',\n",
    "    options=filtered_df['Player'].unique().tolist(),\n",
    "    description='Player:',\n",
    "    ensure_option=True,\n",
    "    disabled=False\n",
    ")\n",
    "\n",
    "# create a dropdown widget with all relevant stats\n",
    "stat_dropdown_diff_scatter = widgets.Dropdown(\n",
    "    options=relevant_stats,\n",
    "    description='Select Stat:',\n",
    "    disabled=False,\n",
    ")\n",
    "\n",
    "hover_template_player = Template('<b>{{player_name}}</b><br><br>'\n",
    "                          'Pick: {{pick}} ({{season}}) <br>' +\n",
    "                          '{{selected_stat}} Rank: {{rank}} <br>' +\n",
    "                          '{{selected_stat}} diff. to avg player at pick {{pick}}: {{diff}}<br>' +\n",
    "                          'Career {{selected_stat}}: {{raw_stat}}<br><extra></extra>')\n",
    "\n",
    "# Define the output area to display the scatter plot\n",
    "output_diff_scatter = widgets.Output()\n",
    "\n",
    "# Function to update the output area based on the selected stat\n",
    "def on_value_change_diff_scatter(change):\n",
    "    clear_output()\n",
    "    output_diff_scatter.clear_output()\n",
    "    selected_stat = stat_dropdown_diff_scatter.value\n",
    "    selected_player = player_widget_diff_scatter.value\n",
    "\n",
    "    display(player_widget_diff_scatter)\n",
    "    display(stat_dropdown_diff_scatter)\n",
    "    with output_diff_scatter:\n",
    "        # scatter plot for all players\n",
    "        fig = px.scatter(filtered_df, x='Pk', y=f'{selected_stat}_diff', hover_name='Player',\n",
    "                         hover_data={'Pk': True, f'{selected_stat}_diff': ':.1f', 'Player': False, selected_stat: ':.1f', f'{selected_stat}_rank': True, 'Season': True})\n",
    "        \n",
    "        # red dot for selected player\n",
    "        if selected_player in filtered_df['Player'].values:\n",
    "            highlighted_player = filtered_df[filtered_df['Player'] == selected_player]\n",
    "            fig.add_trace(px.scatter(highlighted_player, x='Pk', y=f'{selected_stat}_diff', hover_name='Player',\n",
    "                                     hover_data={'Pk': True, f'{selected_stat}_diff': ':.1f', 'Player': False, selected_stat: ':.1f', f'{selected_stat}_rank': True, 'Season': True},\n",
    "                                     color_discrete_sequence=['red']).data[0])\n",
    "        \n",
    "        # styling the figure\n",
    "        fig.update_traces(hovertemplate=hover_template_player.render(player_name='%{hovertext}',\n",
    "            pick='%{x}',\n",
    "            season='%{customdata[3]}',\n",
    "            selected_stat=selected_stat,\n",
    "            diff='%{y:.2f}',\n",
    "            rank='%{customdata[2]}',\n",
    "            raw_stat='%{customdata[1]:.2f}'))\n",
    "        \n",
    "        fig.update_traces(marker=dict(size=12), showlegend=False)\n",
    "        fig.update_layout(title=f'{selected_stat} Difference vs Draft Pick for Players with at least {min_games} Games Played',\n",
    "                          xaxis_title='Draft Pick', yaxis_title=f'{selected_stat} Difference')\n",
    "        fig.show()\n",
    "    \n",
    "# Observe changes in the value of the dropdown and call the function\n",
    "stat_dropdown_diff_scatter.observe(on_value_change_diff_scatter, names='value')\n",
    "player_widget_diff_scatter.observe(on_value_change_diff_scatter, names='value')\n",
    "\n",
    "# Display the dropdown and the output area\n",
    "display(player_widget_diff_scatter)\n",
    "display(stat_dropdown_diff_scatter)\n",
    "display(output_diff_scatter)"
   ]
  },
  {
   "cell_type": "markdown",
   "metadata": {},
   "source": [
    "**Player Analysis: Performance Metric vs Draft Pick**\n",
    "\n",
    "Similarly to the visualization above, the chosen statistics of individual players are plotted against their draft position. However, instead of showing the differences, this plot uses the raw statistics. The yellow dots represent the average statistic for that draft pick."
   ]
  },
  {
   "cell_type": "code",
   "execution_count": 13,
   "metadata": {},
   "outputs": [
    {
     "data": {
      "application/vnd.jupyter.widget-view+json": {
       "model_id": "9aeb2ab98f7b41f3b8d77d813cdcbae8",
       "version_major": 2,
       "version_minor": 0
      },
      "text/plain": [
       "Combobox(value='', description='Player:', ensure_option=True, options=('Allen Iverson', 'Marcus Camby', 'Share…"
      ]
     },
     "metadata": {},
     "output_type": "display_data"
    },
    {
     "data": {
      "application/vnd.jupyter.widget-view+json": {
       "model_id": "e5f25fa4739a46a4a5456a64f73d7a09",
       "version_major": 2,
       "version_minor": 0
      },
      "text/plain": [
       "Dropdown(description='Select Stat:', options=('PTS', 'TRB', 'AST', 'WS', 'WS/48', 'BPM', 'VORP', 'PIE', 'OFF_R…"
      ]
     },
     "metadata": {},
     "output_type": "display_data"
    },
    {
     "data": {
      "application/vnd.jupyter.widget-view+json": {
       "model_id": "93e65f157fa44aea8ab5a3816f6b4224",
       "version_major": 2,
       "version_minor": 0
      },
      "text/plain": [
       "Output()"
      ]
     },
     "metadata": {},
     "output_type": "display_data"
    }
   ],
   "source": [
    "# create a combobox widget with all 'Player' values\n",
    "player_widget_total_scatter = widgets.Combobox(\n",
    "    placeholder='Choose a Player',\n",
    "    options=filtered_df['Player'].unique().tolist(),\n",
    "    description='Player:',\n",
    "    ensure_option=True,\n",
    "    disabled=False\n",
    ")\n",
    "\n",
    "# create a dropdown widget with all relevant stats\n",
    "stat_dropdown_total_scatter = widgets.Dropdown(\n",
    "    options=relevant_stats,\n",
    "    description='Select Stat:',\n",
    "    disabled=False,\n",
    ")\n",
    "\n",
    "hover_template_avg_player = Template('<b>Pick: {{pick}}</b><br><br>'\n",
    "                          'Average {{selected_stat}}: {{raw_stat}} <br><extra></extra>')\n",
    "\n",
    "# Define the output area to display the scatter plot\n",
    "output_total_scatter = widgets.Output()\n",
    "\n",
    "# Function to update the output area based on the selected stat\n",
    "def on_value_change_total_scatter(change):\n",
    "    clear_output()\n",
    "    output_total_scatter.clear_output()\n",
    "    selected_stat = stat_dropdown_total_scatter.value\n",
    "    selected_player = player_widget_total_scatter.value\n",
    "\n",
    "    display(player_widget_total_scatter)\n",
    "    display(stat_dropdown_total_scatter)\n",
    "    with output_total_scatter:\n",
    "        fig = px.scatter(filtered_df, x='Pk', y=selected_stat, hover_name='Player',\n",
    "                         hover_data={'Pk': True, selected_stat: True, 'Player': False, f'{selected_stat}_diff': True, f'{selected_stat}_rank': True, 'Season': True})\n",
    "        \n",
    "        if selected_player in filtered_df['Player'].values:\n",
    "            highlighted_player = filtered_df[filtered_df['Player'] == selected_player]\n",
    "            fig.add_trace(px.scatter(highlighted_player, x='Pk', y=selected_stat, hover_name='Player',\n",
    "                                    hover_data={'Pk': True, selected_stat: True, 'Player': False, f'{selected_stat}_diff': True, f'{selected_stat}_rank': True, 'Season': True},\n",
    "                                    color_discrete_sequence=['red']).data[0])\n",
    "        \n",
    "        # styling the figure\n",
    "        fig.update_traces(hovertemplate=hover_template_player.render(player_name='%{hovertext}',\n",
    "            pick='%{x}',\n",
    "            season='%{customdata[3]}',\n",
    "            selected_stat=selected_stat,\n",
    "            diff='%{customdata[1]:.2f}',\n",
    "            rank='%{customdata[2]}',\n",
    "            raw_stat='%{y:.2f}'))\n",
    "        \n",
    "        # TODO: style this differently\n",
    "        # add a yellow dot for each average in the df_avg dataframe\n",
    "        fig.add_trace(px.scatter(df_avg, x='Pk', y=selected_stat, hover_name='Pk',\n",
    "                                 hover_data={selected_stat: True, 'Pk': True}, \n",
    "                                 color_discrete_sequence=['yellow']).data[0])\n",
    "        \n",
    "        # styling the figure only for the yellow dots\n",
    "        fig.update_traces(hovertemplate=hover_template_avg_player.render(pick='%{hovertext}',\n",
    "            selected_stat=selected_stat,\n",
    "            raw_stat='%{y:.2f}'),\n",
    "            selector=dict(marker_color='yellow'))\n",
    "        \n",
    "        fig.update_traces(marker=dict(size=12), showlegend=False)\n",
    "        fig.update_layout(title=f'{selected_stat} vs Draft Pick for Players with at least {min_games} Games Played',\n",
    "                          xaxis_title='Draft Pick', yaxis_title=selected_stat)\n",
    "        fig.show()\n",
    "    \n",
    "# Observe changes in the value of the dropdown and call the function\n",
    "stat_dropdown_total_scatter.observe(on_value_change_total_scatter, names='value')\n",
    "player_widget_total_scatter.observe(on_value_change_total_scatter, names='value')\n",
    "\n",
    "# Display the dropdown and the output area\n",
    "display(player_widget_total_scatter)\n",
    "display(stat_dropdown_total_scatter)\n",
    "display(output_total_scatter)"
   ]
  },
  {
   "cell_type": "markdown",
   "metadata": {},
   "source": [
    "# Team Analysis by Season\n",
    "<a id='team_season_analysis'></a>\n",
    "\n",
    "In this section, the analysis is aggregated to a team level in order to answer the initial research question, which NBA team is best at drafting."
   ]
  },
  {
   "cell_type": "markdown",
   "metadata": {},
   "source": [
    "Since some teams have relocated and/or rebranded since 1996 they may have different abbreviation over time in the data. However, we want to conduct our analysis on a franchise level and therefore replace all outdated abbreviations with the most current one for each franchise."
   ]
  },
  {
   "cell_type": "code",
   "execution_count": 14,
   "metadata": {},
   "outputs": [],
   "source": [
    "# function to replace outdated abbreviations with the current ones\n",
    "def clean_team_names(df):\n",
    "    team_dict = {'CHH': 'CHO', 'CHA': 'CHO', 'NJN': 'BRK', 'NOH': 'NOP', 'NOK': 'NOP', 'SEA': 'OKC', 'VAN': 'MEM', 'WSB': 'WAS'}\n",
    "    df['Tm'] = df['Tm'].replace(team_dict)\n",
    "    return df"
   ]
  },
  {
   "cell_type": "markdown",
   "metadata": {},
   "source": [
    "In this cell, we calculate the average performance metrics of all player selected by a team in the same draft year. This allows us to visualize the draft performance of each team over time. The grey dots in the scatter plot below represent the draft performance of a team in the respective season. Using the dropdown widget, a team can be selected and it's performance is shown in red. Optionally, the individual players that were picked by the selected team can also be visualized (blue dots). \n",
    "\n",
    "A purple dot means that the blue and red dot are exactly overlapping. In other words, the chosen team only selected one player in the respective draft year, resulting in the player's values and team average being equal."
   ]
  },
  {
   "cell_type": "code",
   "execution_count": 15,
   "metadata": {},
   "outputs": [],
   "source": [
    "# group the df_career_na_filled by team and season and calculate the average\n",
    "df_team_avg_by_season = clean_team_names(df_career_na_filled).groupby(['Tm', 'Season']).mean(numeric_only=True)\n",
    "df_team_avg_by_season = df_team_avg_by_season.reset_index()"
   ]
  },
  {
   "cell_type": "code",
   "execution_count": 16,
   "metadata": {},
   "outputs": [
    {
     "data": {
      "application/vnd.jupyter.widget-view+json": {
       "model_id": "c52229230d4b41b99a29953d454d4182",
       "version_major": 2,
       "version_minor": 0
      },
      "text/plain": [
       "Dropdown(description='Select Stat:', options=('PTS', 'TRB', 'AST', 'WS', 'WS/48', 'BPM', 'VORP', 'PIE', 'OFF_R…"
      ]
     },
     "metadata": {},
     "output_type": "display_data"
    },
    {
     "data": {
      "application/vnd.jupyter.widget-view+json": {
       "model_id": "34b6fb4ef6d0404e8eaf60fd28c1049f",
       "version_major": 2,
       "version_minor": 0
      },
      "text/plain": [
       "Dropdown(description='Select Team:', index=5, options=('ATL', 'BOS', 'BRK', 'CHI', 'CHO', 'CLE', 'DAL', 'DEN',…"
      ]
     },
     "metadata": {},
     "output_type": "display_data"
    },
    {
     "data": {
      "application/vnd.jupyter.widget-view+json": {
       "model_id": "302f8c93e0fd4a4792f74a1fe5cba029",
       "version_major": 2,
       "version_minor": 0
      },
      "text/plain": [
       "Checkbox(value=True, description='Show Players selected by Team', indent=False)"
      ]
     },
     "metadata": {},
     "output_type": "display_data"
    },
    {
     "data": {
      "application/vnd.plotly.v1+json": {
       "config": {
        "plotlyServerURL": "https://plot.ly"
       },
       "data": [
        {
         "customdata": [
          [
           "ATL",
           194.5
          ],
          [
           "ATL",
           675.6666666666666
          ],
          [
           "ATL",
           1354.5
          ],
          [
           "ATL",
           5436.25
          ],
          [
           "ATL",
           945.3333333333334
          ],
          [
           "ATL",
           20407
          ],
          [
           "ATL",
           1745
          ],
          [
           "ATL",
           4631
          ],
          [
           "ATL",
           3670
          ],
          [
           "ATL",
           3067.5
          ],
          [
           "ATL",
           1228.5
          ],
          [
           "ATL",
           7165
          ],
          [
           "ATL",
           5030.5
          ],
          [
           "ATL",
           7
          ],
          [
           "ATL",
           2295.5
          ],
          [
           "ATL",
           5699.666666666667
          ],
          [
           "ATL",
           63
          ],
          [
           "ATL",
           0
          ],
          [
           "ATL",
           2047.3333333333333
          ],
          [
           "ATL",
           2159.3333333333335
          ],
          [
           "ATL",
           4632.333333333333
          ],
          [
           "ATL",
           1726
          ],
          [
           "ATL",
           853.5
          ],
          [
           "ATL",
           227
          ],
          [
           "ATL",
           330
          ],
          [
           "BOS",
           5255.666666666667
          ],
          [
           "BOS",
           3611
          ],
          [
           "BOS",
           26397
          ],
          [
           "BOS",
           0
          ],
          [
           "BOS",
           386
          ],
          [
           "BOS",
           269.5
          ],
          [
           "BOS",
           2165
          ],
          [
           "BOS",
           6416.75
          ],
          [
           "BOS",
           3888
          ],
          [
           "BOS",
           5410.5
          ],
          [
           "BOS",
           2118
          ],
          [
           "BOS",
           576
          ],
          [
           "BOS",
           7279
          ],
          [
           "BOS",
           2428.5
          ],
          [
           "BOS",
           969.6666666666666
          ],
          [
           "BOS",
           6993
          ],
          [
           "BOS",
           3180
          ],
          [
           "BOS",
           1913.25
          ],
          [
           "BOS",
           1915
          ],
          [
           "BOS",
           2784.25
          ],
          [
           "BOS",
           1534
          ],
          [
           "BOS",
           710
          ],
          [
           "BOS",
           791.3333333333334
          ],
          [
           "BOS",
           0
          ],
          [
           "BOS",
           19
          ],
          [
           "BRK",
           7165
          ],
          [
           "BRK",
           11091
          ],
          [
           "BRK",
           421
          ],
          [
           "BRK",
           4696.5
          ],
          [
           "BRK",
           4839.5
          ],
          [
           "BRK",
           2191.5
          ],
          [
           "BRK",
           282.5
          ],
          [
           "BRK",
           0
          ],
          [
           "BRK",
           807
          ],
          [
           "BRK",
           884.3333333333334
          ],
          [
           "BRK",
           581
          ],
          [
           "BRK",
           8352.666666666666
          ],
          [
           "BRK",
           1085
          ],
          [
           "BRK",
           150
          ],
          [
           "BRK",
           894.5
          ],
          [
           "BRK",
           0
          ],
          [
           "BRK",
           0
          ],
          [
           "BRK",
           211
          ],
          [
           "BRK",
           1649
          ],
          [
           "BRK",
           396.6666666666667
          ],
          [
           "CHI",
           65
          ],
          [
           "CHI",
           503
          ],
          [
           "CHI",
           10200.333333333334
          ],
          [
           "CHI",
           4170.333333333333
          ],
          [
           "CHI",
           6690
          ],
          [
           "CHI",
           1160.5
          ],
          [
           "CHI",
           3198
          ],
          [
           "CHI",
           9463.666666666666
          ],
          [
           "CHI",
           4043.5
          ],
          [
           "CHI",
           2323
          ],
          [
           "CHI",
           7430.5
          ],
          [
           "CHI",
           7035
          ],
          [
           "CHI",
           8799
          ],
          [
           "CHI",
           138
          ],
          [
           "CHI",
           1839
          ],
          [
           "CHI",
           2772
          ],
          [
           "CHI",
           6008
          ],
          [
           "CHI",
           1083.6666666666667
          ],
          [
           "CHI",
           6030
          ],
          [
           "CHI",
           1951
          ],
          [
           "CHI",
           2684.5
          ],
          [
           "CHI",
           832
          ],
          [
           "CHI",
           1366
          ],
          [
           "CHI",
           85
          ],
          [
           "CHO",
           4980
          ],
          [
           "CHO",
           4956
          ],
          [
           "CHO",
           8034.5
          ],
          [
           "CHO",
           4917
          ],
          [
           "CHO",
           32
          ],
          [
           "CHO",
           3973
          ],
          [
           "CHO",
           5837
          ],
          [
           "CHO",
           1556.5
          ],
          [
           "CHO",
           3397.5
          ],
          [
           "CHO",
           3634
          ],
          [
           "CHO",
           2294
          ],
          [
           "CHO",
           9281.5
          ],
          [
           "CHO",
           2278.5
          ],
          [
           "CHO",
           4300
          ],
          [
           "CHO",
           1174.5
          ],
          [
           "CHO",
           1815
          ],
          [
           "CHO",
           12
          ],
          [
           "CHO",
           2860
          ],
          [
           "CHO",
           2504
          ],
          [
           "CHO",
           1966.6666666666667
          ],
          [
           "CHO",
           984
          ],
          [
           "CHO",
           168.4
          ],
          [
           "CHO",
           316.5
          ],
          [
           "CLE",
           5060
          ],
          [
           "CLE",
           4861.333333333333
          ],
          [
           "CLE",
           99
          ],
          [
           "CLE",
           4241.75
          ],
          [
           "CLE",
           3262
          ],
          [
           "CLE",
           636.5
          ],
          [
           "CLE",
           7470
          ],
          [
           "CLE",
           21025
          ],
          [
           "CLE",
           2413
          ],
          [
           "CLE",
           0
          ],
          [
           "CLE",
           2077.6666666666665
          ],
          [
           "CLE",
           1418.5
          ],
          [
           "CLE",
           3762
          ],
          [
           "CLE",
           253
          ],
          [
           "CLE",
           7434.666666666667
          ],
          [
           "CLE",
           4189
          ],
          [
           "CLE",
           321.3333333333333
          ],
          [
           "CLE",
           2996
          ],
          [
           "CLE",
           1969
          ],
          [
           "CLE",
           1034.3333333333333
          ],
          [
           "CLE",
           2514
          ],
          [
           "CLE",
           5041
          ],
          [
           "CLE",
           2638.6666666666665
          ],
          [
           "CLE",
           1724
          ],
          [
           "CLE",
           2311
          ],
          [
           "CLE",
           10.333333333333334
          ],
          [
           "DAL",
           3363.6666666666665
          ],
          [
           "DAL",
           470.5
          ],
          [
           "DAL",
           11537
          ],
          [
           "DAL",
           604
          ],
          [
           "DAL",
           1400.6666666666667
          ],
          [
           "DAL",
           0
          ],
          [
           "DAL",
           0
          ],
          [
           "DAL",
           3635
          ],
          [
           "DAL",
           5300.5
          ],
          [
           "DAL",
           84.5
          ],
          [
           "DAL",
           0
          ],
          [
           "DAL",
           0
          ],
          [
           "DAL",
           643
          ],
          [
           "DAL",
           246
          ],
          [
           "DAL",
           0
          ],
          [
           "DAL",
           2526.6666666666665
          ],
          [
           "DAL",
           514.3333333333334
          ],
          [
           "DAL",
           4432
          ],
          [
           "DAL",
           642
          ],
          [
           "DAL",
           24
          ],
          [
           "DAL",
           2791
          ],
          [
           "DAL",
           3510.25
          ],
          [
           "DAL",
           332.3333333333333
          ],
          [
           "DAL",
           420
          ],
          [
           "DEN",
           5396
          ],
          [
           "DEN",
           4189.25
          ],
          [
           "DEN",
           2473.75
          ],
          [
           "DEN",
           3123
          ],
          [
           "DEN",
           18
          ],
          [
           "DEN",
           160.5
          ],
          [
           "DEN",
           3940.6666666666665
          ],
          [
           "DEN",
           14144.5
          ],
          [
           "DEN",
           35
          ],
          [
           "DEN",
           1196.3333333333333
          ],
          [
           "DEN",
           27
          ],
          [
           "DEN",
           1189
          ],
          [
           "DEN",
           3488.5
          ],
          [
           "DEN",
           3160
          ],
          [
           "DEN",
           3227.3333333333335
          ],
          [
           "DEN",
           659
          ],
          [
           "DEN",
           7895.333333333333
          ],
          [
           "DEN",
           1649.5
          ],
          [
           "DEN",
           3293.75
          ],
          [
           "DEN",
           1355.6666666666667
          ],
          [
           "DEN",
           1093
          ],
          [
           "DEN",
           776
          ],
          [
           "DEN",
           683
          ],
          [
           "DEN",
           1357
          ],
          [
           "DEN",
           217.5
          ],
          [
           "DET",
           3865
          ],
          [
           "DET",
           1171
          ],
          [
           "DET",
           13
          ],
          [
           "DET",
           0
          ],
          [
           "DET",
           1358.5
          ],
          [
           "DET",
           5050.5
          ],
          [
           "DET",
           11272
          ],
          [
           "DET",
           3464
          ],
          [
           "DET",
           0
          ],
          [
           "DET",
           3221.3333333333335
          ],
          [
           "DET",
           23.5
          ],
          [
           "DET",
           5461
          ],
          [
           "DET",
           4
          ],
          [
           "DET",
           1906.3333333333333
          ],
          [
           "DET",
           4201
          ],
          [
           "DET",
           2891
          ],
          [
           "DET",
           7363
          ],
          [
           "DET",
           2936.3333333333335
          ],
          [
           "DET",
           6411
          ],
          [
           "DET",
           1550.5
          ],
          [
           "DET",
           173
          ],
          [
           "DET",
           3512
          ],
          [
           "DET",
           1604
          ],
          [
           "DET",
           218
          ],
          [
           "DET",
           1743.5
          ],
          [
           "DET",
           729
          ],
          [
           "DET",
           605.3333333333334
          ],
          [
           "GSW",
           417.5
          ],
          [
           "GSW",
           3113.5
          ],
          [
           "GSW",
           20042
          ],
          [
           "GSW",
           717.5
          ],
          [
           "GSW",
           440
          ],
          [
           "GSW",
           11302
          ],
          [
           "GSW",
           4189
          ],
          [
           "GSW",
           2634.5
          ],
          [
           "GSW",
           3247
          ],
          [
           "GSW",
           5417.666666666667
          ],
          [
           "GSW",
           98
          ],
          [
           "GSW",
           5673
          ],
          [
           "GSW",
           894.5
          ],
          [
           "GSW",
           21712
          ],
          [
           "GSW",
           1353
          ],
          [
           "GSW",
           3734.25
          ],
          [
           "GSW",
           4780
          ],
          [
           "GSW",
           26
          ],
          [
           "GSW",
           2299
          ],
          [
           "GSW",
           1011
          ],
          [
           "GSW",
           593
          ],
          [
           "GSW",
           168
          ],
          [
           "GSW",
           1944.6666666666667
          ],
          [
           "GSW",
           340.3333333333333
          ],
          [
           "GSW",
           924
          ],
          [
           "GSW",
           48.333333333333336
          ],
          [
           "HOU",
           1995
          ],
          [
           "HOU",
           190
          ],
          [
           "HOU",
           5434
          ],
          [
           "HOU",
           4080.5
          ],
          [
           "HOU",
           617
          ],
          [
           "HOU",
           943
          ],
          [
           "HOU",
           4178.6
          ],
          [
           "HOU",
           0
          ],
          [
           "HOU",
           85
          ],
          [
           "HOU",
           2842
          ],
          [
           "HOU",
           2177
          ],
          [
           "HOU",
           3933.3333333333335
          ],
          [
           "HOU",
           4304
          ],
          [
           "HOU",
           2962.5
          ],
          [
           "HOU",
           4782
          ],
          [
           "HOU",
           5684
          ],
          [
           "HOU",
           1402.6666666666667
          ],
          [
           "HOU",
           1913
          ],
          [
           "HOU",
           2017.5
          ],
          [
           "HOU",
           3657
          ],
          [
           "HOU",
           21
          ],
          [
           "HOU",
           1365
          ],
          [
           "HOU",
           30.5
          ],
          [
           "HOU",
           2154
          ],
          [
           "HOU",
           1468.25
          ],
          [
           "HOU",
           638.3333333333334
          ],
          [
           "IND",
           3797
          ],
          [
           "IND",
           4475
          ],
          [
           "IND",
           13237
          ],
          [
           "IND",
           2600
          ],
          [
           "IND",
           1226
          ],
          [
           "IND",
           2370.5
          ],
          [
           "IND",
           3206
          ],
          [
           "IND",
           3717
          ],
          [
           "IND",
           474.5
          ],
          [
           "IND",
           4927.5
          ],
          [
           "IND",
           1769
          ],
          [
           "IND",
           4930.5
          ],
          [
           "IND",
           2202
          ],
          [
           "IND",
           10549.5
          ],
          [
           "IND",
           1013
          ],
          [
           "IND",
           1226.5
          ],
          [
           "IND",
           2728
          ],
          [
           "IND",
           2363.3333333333335
          ],
          [
           "IND",
           4020
          ],
          [
           "IND",
           465
          ],
          [
           "IND",
           1116
          ],
          [
           "IND",
           919
          ],
          [
           "IND",
           626.5
          ],
          [
           "IND",
           917
          ],
          [
           "IND",
           505
          ],
          [
           "LAC",
           3095.5
          ],
          [
           "LAC",
           2225.6666666666665
          ],
          [
           "LAC",
           2437.3333333333335
          ],
          [
           "LAC",
           6390.5
          ],
          [
           "LAC",
           5199.75
          ],
          [
           "LAC",
           4910.333333333333
          ],
          [
           "LAC",
           4104
          ],
          [
           "LAC",
           2671
          ],
          [
           "LAC",
           235
          ],
          [
           "LAC",
           111
          ],
          [
           "LAC",
           729.6
          ],
          [
           "LAC",
           7513.333333333333
          ],
          [
           "LAC",
           14513
          ],
          [
           "LAC",
           5245
          ],
          [
           "LAC",
           35.5
          ],
          [
           "LAC",
           3943
          ],
          [
           "LAC",
           132
          ],
          [
           "LAC",
           5
          ],
          [
           "LAC",
           207.66666666666666
          ],
          [
           "LAC",
           319
          ],
          [
           "LAC",
           3256.6666666666665
          ],
          [
           "LAC",
           766.3333333333334
          ],
          [
           "LAC",
           80
          ],
          [
           "LAC",
           263.5
          ],
          [
           "LAC",
           59
          ],
          [
           "LAL",
           15210.666666666666
          ],
          [
           "LAL",
           0
          ],
          [
           "LAL",
           3046.75
          ],
          [
           "LAL",
           1786.5
          ],
          [
           "LAL",
           975
          ],
          [
           "LAL",
           2213
          ],
          [
           "LAL",
           2480.5
          ],
          [
           "LAL",
           1547
          ],
          [
           "LAL",
           2695
          ],
          [
           "LAL",
           3888
          ],
          [
           "LAL",
           6
          ],
          [
           "LAL",
           0
          ],
          [
           "LAL",
           152.5
          ],
          [
           "LAL",
           156.75
          ],
          [
           "LAL",
           529.6666666666666
          ],
          [
           "LAL",
           981
          ],
          [
           "LAL",
           10807
          ],
          [
           "LAL",
           4193
          ],
          [
           "LAL",
           5871.5
          ],
          [
           "LAL",
           3915.25
          ],
          [
           "LAL",
           1256.5
          ],
          [
           "LAL",
           1914
          ],
          [
           "LAL",
           128
          ],
          [
           "MEM",
           4575.5
          ],
          [
           "MEM",
           3311.5
          ],
          [
           "MEM",
           5414.333333333333
          ],
          [
           "MEM",
           255
          ],
          [
           "MEM",
           3039.5
          ],
          [
           "MEM",
           7498.5
          ],
          [
           "MEM",
           287
          ],
          [
           "MEM",
           1682
          ],
          [
           "MEM",
           68.66666666666667
          ],
          [
           "MEM",
           2640.5
          ],
          [
           "MEM",
           11270.666666666666
          ],
          [
           "MEM",
           9376
          ],
          [
           "MEM",
           5428
          ],
          [
           "MEM",
           1585.4
          ],
          [
           "MEM",
           2320.5
          ],
          [
           "MEM",
           83
          ],
          [
           "MEM",
           1604
          ],
          [
           "MEM",
           21
          ],
          [
           "MEM",
           73.66666666666667
          ],
          [
           "MEM",
           1005
          ],
          [
           "MEM",
           209.33333333333334
          ],
          [
           "MEM",
           2921
          ],
          [
           "MEM",
           2924.6666666666665
          ],
          [
           "MEM",
           4045.5
          ],
          [
           "MEM",
           2163.5
          ],
          [
           "MEM",
           769.5
          ],
          [
           "MEM",
           169.75
          ],
          [
           "MIA",
           0
          ],
          [
           "MIA",
           0
          ],
          [
           "MIA",
           6413.333333333333
          ],
          [
           "MIA",
           2679.5
          ],
          [
           "MIA",
           117.5
          ],
          [
           "MIA",
           9261
          ],
          [
           "MIA",
           11583.5
          ],
          [
           "MIA",
           4597
          ],
          [
           "MIA",
           169
          ],
          [
           "MIA",
           732.3333333333334
          ],
          [
           "MIA",
           6655.5
          ],
          [
           "MIA",
           0
          ],
          [
           "MIA",
           55.75
          ],
          [
           "MIA",
           2506
          ],
          [
           "MIA",
           687
          ],
          [
           "MIA",
           2629
          ],
          [
           "MIA",
           2433
          ],
          [
           "MIA",
           4376.5
          ],
          [
           "MIA",
           6146
          ],
          [
           "MIA",
           2247
          ],
          [
           "MIA",
           1476
          ],
          [
           "MIA",
           82
          ],
          [
           "MIL",
           12261.5
          ],
          [
           "MIL",
           152
          ],
          [
           "MIL",
           2972.3333333333335
          ],
          [
           "MIL",
           0
          ],
          [
           "MIL",
           5296
          ],
          [
           "MIL",
           0
          ],
          [
           "MIL",
           972.6666666666666
          ],
          [
           "MIL",
           2398.5
          ],
          [
           "MIL",
           7586
          ],
          [
           "MIL",
           117.5
          ],
          [
           "MIL",
           4644.5
          ],
          [
           "MIL",
           2331
          ],
          [
           "MIL",
           7801
          ],
          [
           "MIL",
           508
          ],
          [
           "MIL",
           7896.5
          ],
          [
           "MIL",
           3383
          ],
          [
           "MIL",
           8370.5
          ],
          [
           "MIL",
           1426
          ],
          [
           "MIL",
           423
          ],
          [
           "MIL",
           3687.5
          ],
          [
           "MIL",
           1039
          ],
          [
           "MIL",
           1633.5
          ],
          [
           "MIL",
           669.5
          ],
          [
           "MIL",
           417
          ],
          [
           "MIL",
           266
          ],
          [
           "MIN",
           16297
          ],
          [
           "MIN",
           132.5
          ],
          [
           "MIN",
           2819.5
          ],
          [
           "MIN",
           3191.3333333333335
          ],
          [
           "MIN",
           78
          ],
          [
           "MIN",
           555
          ],
          [
           "MIN",
           0
          ],
          [
           "MIN",
           20
          ],
          [
           "MIN",
           0
          ],
          [
           "MIN",
           1304
          ],
          [
           "MIN",
           3603
          ],
          [
           "MIN",
           2481
          ],
          [
           "MIN",
           9109.5
          ],
          [
           "MIN",
           3816
          ],
          [
           "MIN",
           1963.5
          ],
          [
           "MIN",
           1974.5
          ],
          [
           "MIN",
           379
          ],
          [
           "MIN",
           2365
          ],
          [
           "MIN",
           5990
          ],
          [
           "MIN",
           7701
          ],
          [
           "MIN",
           2285
          ],
          [
           "MIN",
           86
          ],
          [
           "MIN",
           1790.5
          ],
          [
           "MIN",
           1716.6666666666667
          ],
          [
           "MIN",
           2318
          ],
          [
           "MIN",
           29.333333333333332
          ],
          [
           "NOP",
           757.5
          ],
          [
           "NOP",
           7124.5
          ],
          [
           "NOP",
           3141.5
          ],
          [
           "NOP",
           14165
          ],
          [
           "NOP",
           364.3333333333333
          ],
          [
           "NOP",
           453.5
          ],
          [
           "NOP",
           4155.5
          ],
          [
           "NOP",
           7305.5
          ],
          [
           "NOP",
           1609
          ],
          [
           "NOP",
           7811.333333333333
          ],
          [
           "NOP",
           666
          ],
          [
           "NOP",
           479
          ],
          [
           "NOP",
           1816
          ],
          [
           "NOP",
           0
          ],
          [
           "NOP",
           1655.5
          ],
          [
           "NOP",
           598
          ],
          [
           "NOP",
           1436.5
          ],
          [
           "NOP",
           75.66666666666667
          ],
          [
           "NYK",
           2003.6666666666667
          ],
          [
           "NYK",
           6
          ],
          [
           "NYK",
           0
          ],
          [
           "NYK",
           195
          ],
          [
           "NYK",
           0
          ],
          [
           "NYK",
           5415.666666666667
          ],
          [
           "NYK",
           1516
          ],
          [
           "NYK",
           11593
          ],
          [
           "NYK",
           8608.333333333334
          ],
          [
           "NYK",
           818
          ],
          [
           "NYK",
           8463
          ],
          [
           "NYK",
           5668
          ],
          [
           "NYK",
           3009
          ],
          [
           "NYK",
           639.6666666666666
          ],
          [
           "NYK",
           1792.5
          ],
          [
           "NYK",
           9168
          ],
          [
           "NYK",
           345
          ],
          [
           "NYK",
           4030.6666666666665
          ],
          [
           "NYK",
           1041.3333333333333
          ],
          [
           "NYK",
           2214.5
          ],
          [
           "NYK",
           2609
          ],
          [
           "NYK",
           2110
          ],
          [
           "NYK",
           551
          ],
          [
           "NYK",
           3
          ],
          [
           "OKC",
           0
          ],
          [
           "OKC",
           745.3333333333334
          ],
          [
           "OKC",
           4574.5
          ],
          [
           "OKC",
           2631.3333333333335
          ],
          [
           "OKC",
           5736
          ],
          [
           "OKC",
           2408.5
          ],
          [
           "OKC",
           4372
          ],
          [
           "OKC",
           208
          ],
          [
           "OKC",
           1436
          ],
          [
           "OKC",
           34.333333333333336
          ],
          [
           "OKC",
           20312
          ],
          [
           "OKC",
           6109.666666666667
          ],
          [
           "OKC",
           9077.333333333334
          ],
          [
           "OKC",
           352.6666666666667
          ],
          [
           "OKC",
           9876
          ],
          [
           "OKC",
           3146.5
          ],
          [
           "OKC",
           2466
          ],
          [
           "OKC",
           199
          ],
          [
           "OKC",
           1340
          ],
          [
           "OKC",
           3770
          ],
          [
           "OKC",
           924
          ],
          [
           "OKC",
           769
          ],
          [
           "OKC",
           1442.6666666666667
          ],
          [
           "OKC",
           881.3333333333334
          ],
          [
           "OKC",
           785.8333333333334
          ],
          [
           "OKC",
           384.25
          ],
          [
           "ORL",
           289.5
          ],
          [
           "ORL",
           141
          ],
          [
           "ORL",
           3636.5
          ],
          [
           "ORL",
           8434
          ],
          [
           "ORL",
           10973
          ],
          [
           "ORL",
           1010.5
          ],
          [
           "ORL",
           4425.5
          ],
          [
           "ORL",
           3931.3333333333335
          ],
          [
           "ORL",
           14712.5
          ],
          [
           "ORL",
           2935
          ],
          [
           "ORL",
           4023.3333333333335
          ],
          [
           "ORL",
           0
          ],
          [
           "ORL",
           7765
          ],
          [
           "ORL",
           1138
          ],
          [
           "ORL",
           71.5
          ],
          [
           "ORL",
           195.5
          ],
          [
           "ORL",
           2218
          ],
          [
           "ORL",
           4251.5
          ],
          [
           "ORL",
           4376.333333333333
          ],
          [
           "ORL",
           1142
          ],
          [
           "ORL",
           23
          ],
          [
           "ORL",
           1156.5
          ],
          [
           "ORL",
           1078.5
          ],
          [
           "ORL",
           1082
          ],
          [
           "ORL",
           1796.5
          ],
          [
           "ORL",
           1885
          ],
          [
           "ORL",
           815
          ],
          [
           "PHI",
           6200.25
          ],
          [
           "PHI",
           3520
          ],
          [
           "PHI",
           5357
          ],
          [
           "PHI",
           2347
          ],
          [
           "PHI",
           1548
          ],
          [
           "PHI",
           2316
          ],
          [
           "PHI",
           4146
          ],
          [
           "PHI",
           6004
          ],
          [
           "PHI",
           13968
          ],
          [
           "PHI",
           15593
          ],
          [
           "PHI",
           1033
          ],
          [
           "PHI",
           5955
          ],
          [
           "PHI",
           5592
          ],
          [
           "PHI",
           9932
          ],
          [
           "PHI",
           3427
          ],
          [
           "PHI",
           7923.5
          ],
          [
           "PHI",
           151.5
          ],
          [
           "PHI",
           2557
          ],
          [
           "PHI",
           4113.833333333333
          ],
          [
           "PHI",
           1260.2
          ],
          [
           "PHI",
           2922
          ],
          [
           "PHI",
           825.6666666666666
          ],
          [
           "PHI",
           2523.3333333333335
          ],
          [
           "PHI",
           621.5
          ],
          [
           "PHI",
           1516.6666666666667
          ],
          [
           "PHI",
           104
          ],
          [
           "PHO",
           0
          ],
          [
           "PHO",
           73
          ],
          [
           "PHO",
           5
          ],
          [
           "PHO",
           0
          ],
          [
           "PHO",
           0
          ],
          [
           "PHO",
           0
          ],
          [
           "PHO",
           12688
          ],
          [
           "PHO",
           82
          ],
          [
           "PHO",
           2784.5
          ],
          [
           "PHO",
           425
          ],
          [
           "POR",
           6700.5
          ],
          [
           "POR",
           2960
          ],
          [
           "POR",
           7147
          ],
          [
           "POR",
           0
          ],
          [
           "POR",
           49.5
          ],
          [
           "POR",
           6219.333333333333
          ],
          [
           "POR",
           230.33333333333334
          ],
          [
           "POR",
           1757.6666666666667
          ],
          [
           "POR",
           1632
          ],
          [
           "POR",
           4801.666666666667
          ],
          [
           "POR",
           7229.5
          ],
          [
           "POR",
           1809
          ],
          [
           "POR",
           7768
          ],
          [
           "POR",
           3211.75
          ],
          [
           "POR",
           837.3333333333334
          ],
          [
           "POR",
           138.5
          ],
          [
           "POR",
           7430
          ],
          [
           "POR",
           5675.75
          ],
          [
           "POR",
           2935
          ],
          [
           "POR",
           1175
          ],
          [
           "POR",
           999.5
          ],
          [
           "POR",
           3675
          ],
          [
           "POR",
           1161
          ],
          [
           "POR",
           288.5
          ],
          [
           "POR",
           354.5
          ],
          [
           "POR",
           335
          ],
          [
           "SAC",
           13647
          ],
          [
           "SAC",
           3131
          ],
          [
           "SAC",
           4903
          ],
          [
           "SAC",
           5
          ],
          [
           "SAC",
           5675.5
          ],
          [
           "SAC",
           4966.5
          ],
          [
           "SAC",
           3415
          ],
          [
           "SAC",
           4157.666666666667
          ],
          [
           "SAC",
           4323
          ],
          [
           "SAC",
           588
          ],
          [
           "SAC",
           5932
          ],
          [
           "SAC",
           3375.5
          ],
          [
           "SAC",
           4769.666666666667
          ],
          [
           "SAC",
           9626
          ],
          [
           "SAC",
           3727
          ],
          [
           "SAC",
           0
          ],
          [
           "SAC",
           2967.5
          ],
          [
           "SAC",
           3773.5
          ],
          [
           "SAC",
           3675
          ],
          [
           "SAC",
           2046.8
          ],
          [
           "SAC",
           2794.25
          ],
          [
           "SAC",
           2760
          ],
          [
           "SAC",
           131
          ],
          [
           "SAC",
           1073.6666666666667
          ],
          [
           "SAC",
           584
          ],
          [
           "SAC",
           976
          ],
          [
           "SAS",
           911
          ],
          [
           "SAS",
           26496
          ],
          [
           "SAS",
           253
          ],
          [
           "SAS",
           14043
          ],
          [
           "SAS",
           0
          ],
          [
           "SAS",
           6491
          ],
          [
           "SAS",
           2317.3333333333335
          ],
          [
           "SAS",
           3209
          ],
          [
           "SAS",
           182
          ],
          [
           "SAS",
           942
          ],
          [
           "SAS",
           3231.3333333333335
          ],
          [
           "SAS",
           1106
          ],
          [
           "SAS",
           711
          ],
          [
           "SAS",
           5320.75
          ],
          [
           "SAS",
           0
          ],
          [
           "SAS",
           0
          ],
          [
           "SAS",
           2109
          ],
          [
           "SAS",
           0
          ],
          [
           "SAS",
           5508
          ],
          [
           "SAS",
           4044
          ],
          [
           "SAS",
           1898
          ],
          [
           "SAS",
           1331
          ],
          [
           "SAS",
           1649
          ],
          [
           "SAS",
           193
          ],
          [
           "SAS",
           490.3333333333333
          ],
          [
           "TOR",
           9262
          ],
          [
           "TOR",
           9726
          ],
          [
           "TOR",
           8884
          ],
          [
           "TOR",
           26
          ],
          [
           "TOR",
           2630
          ],
          [
           "TOR",
           483
          ],
          [
           "TOR",
           281
          ],
          [
           "TOR",
           7714
          ],
          [
           "TOR",
           202.66666666666666
          ],
          [
           "TOR",
           2356.5
          ],
          [
           "TOR",
           4558.333333333333
          ],
          [
           "TOR",
           126
          ],
          [
           "TOR",
           21685
          ],
          [
           "TOR",
           2165
          ],
          [
           "TOR",
           10434
          ],
          [
           "TOR",
           3229.6666666666665
          ],
          [
           "TOR",
           446
          ],
          [
           "TOR",
           147.33333333333334
          ],
          [
           "TOR",
           3958.6666666666665
          ],
          [
           "TOR",
           5971
          ],
          [
           "TOR",
           4268
          ],
          [
           "TOR",
           14
          ],
          [
           "TOR",
           442
          ],
          [
           "TOR",
           886.6666666666666
          ],
          [
           "TOR",
           182
          ],
          [
           "UTA",
           5327
          ],
          [
           "UTA",
           1731.5
          ],
          [
           "UTA",
           2968
          ],
          [
           "UTA",
           5930
          ],
          [
           "UTA",
           1414
          ],
          [
           "UTA",
           258
          ],
          [
           "UTA",
           6773
          ],
          [
           "UTA",
           3341.5
          ],
          [
           "UTA",
           7320.333333333333
          ],
          [
           "UTA",
           6205.333333333333
          ],
          [
           "UTA",
           141.33333333333334
          ],
          [
           "UTA",
           1304.3333333333333
          ],
          [
           "UTA",
           0
          ],
          [
           "UTA",
           5361
          ],
          [
           "UTA",
           7825
          ],
          [
           "UTA",
           15
          ],
          [
           "UTA",
           3952.25
          ],
          [
           "UTA",
           3022.5
          ],
          [
           "UTA",
           1355
          ],
          [
           "UTA",
           337
          ],
          [
           "UTA",
           3654
          ],
          [
           "UTA",
           2556
          ],
          [
           "UTA",
           91.33333333333333
          ],
          [
           "UTA",
           189
          ],
          [
           "UTA",
           198
          ],
          [
           "UTA",
           573
          ],
          [
           "WAS",
           0
          ],
          [
           "WAS",
           61
          ],
          [
           "WAS",
           1000
          ],
          [
           "WAS",
           5779.666666666667
          ],
          [
           "WAS",
           1360.6666666666667
          ],
          [
           "WAS",
           4587.333333333333
          ],
          [
           "WAS",
           2227
          ],
          [
           "WAS",
           3075.3333333333335
          ],
          [
           "WAS",
           11
          ],
          [
           "WAS",
           5706
          ],
          [
           "WAS",
           219
          ],
          [
           "WAS",
           4566.5
          ],
          [
           "WAS",
           6722
          ],
          [
           "WAS",
           4347
          ],
          [
           "WAS",
           4493.8
          ],
          [
           "WAS",
           9033.5
          ],
          [
           "WAS",
           1807.6666666666667
          ],
          [
           "WAS",
           2311.6666666666665
          ],
          [
           "WAS",
           156
          ],
          [
           "WAS",
           974.5
          ],
          [
           "WAS",
           1510
          ],
          [
           "WAS",
           889.5
          ],
          [
           "WAS",
           741.5
          ],
          [
           "WAS",
           81.5
          ]
         ],
         "hovertemplate": "<b>%{hovertext}</b><br><br>Season: %{x} <br>PTS diff to avg players: %{y:.2f}<br>PTS: %{customdata[1]:.2f} <br><extra></extra>",
         "hovertext": [
          "ATL",
          "ATL",
          "ATL",
          "ATL",
          "ATL",
          "ATL",
          "ATL",
          "ATL",
          "ATL",
          "ATL",
          "ATL",
          "ATL",
          "ATL",
          "ATL",
          "ATL",
          "ATL",
          "ATL",
          "ATL",
          "ATL",
          "ATL",
          "ATL",
          "ATL",
          "ATL",
          "ATL",
          "ATL",
          "BOS",
          "BOS",
          "BOS",
          "BOS",
          "BOS",
          "BOS",
          "BOS",
          "BOS",
          "BOS",
          "BOS",
          "BOS",
          "BOS",
          "BOS",
          "BOS",
          "BOS",
          "BOS",
          "BOS",
          "BOS",
          "BOS",
          "BOS",
          "BOS",
          "BOS",
          "BOS",
          "BOS",
          "BOS",
          "BRK",
          "BRK",
          "BRK",
          "BRK",
          "BRK",
          "BRK",
          "BRK",
          "BRK",
          "BRK",
          "BRK",
          "BRK",
          "BRK",
          "BRK",
          "BRK",
          "BRK",
          "BRK",
          "BRK",
          "BRK",
          "BRK",
          "BRK",
          "CHI",
          "CHI",
          "CHI",
          "CHI",
          "CHI",
          "CHI",
          "CHI",
          "CHI",
          "CHI",
          "CHI",
          "CHI",
          "CHI",
          "CHI",
          "CHI",
          "CHI",
          "CHI",
          "CHI",
          "CHI",
          "CHI",
          "CHI",
          "CHI",
          "CHI",
          "CHI",
          "CHI",
          "CHO",
          "CHO",
          "CHO",
          "CHO",
          "CHO",
          "CHO",
          "CHO",
          "CHO",
          "CHO",
          "CHO",
          "CHO",
          "CHO",
          "CHO",
          "CHO",
          "CHO",
          "CHO",
          "CHO",
          "CHO",
          "CHO",
          "CHO",
          "CHO",
          "CHO",
          "CHO",
          "CLE",
          "CLE",
          "CLE",
          "CLE",
          "CLE",
          "CLE",
          "CLE",
          "CLE",
          "CLE",
          "CLE",
          "CLE",
          "CLE",
          "CLE",
          "CLE",
          "CLE",
          "CLE",
          "CLE",
          "CLE",
          "CLE",
          "CLE",
          "CLE",
          "CLE",
          "CLE",
          "CLE",
          "CLE",
          "CLE",
          "DAL",
          "DAL",
          "DAL",
          "DAL",
          "DAL",
          "DAL",
          "DAL",
          "DAL",
          "DAL",
          "DAL",
          "DAL",
          "DAL",
          "DAL",
          "DAL",
          "DAL",
          "DAL",
          "DAL",
          "DAL",
          "DAL",
          "DAL",
          "DAL",
          "DAL",
          "DAL",
          "DAL",
          "DEN",
          "DEN",
          "DEN",
          "DEN",
          "DEN",
          "DEN",
          "DEN",
          "DEN",
          "DEN",
          "DEN",
          "DEN",
          "DEN",
          "DEN",
          "DEN",
          "DEN",
          "DEN",
          "DEN",
          "DEN",
          "DEN",
          "DEN",
          "DEN",
          "DEN",
          "DEN",
          "DEN",
          "DEN",
          "DET",
          "DET",
          "DET",
          "DET",
          "DET",
          "DET",
          "DET",
          "DET",
          "DET",
          "DET",
          "DET",
          "DET",
          "DET",
          "DET",
          "DET",
          "DET",
          "DET",
          "DET",
          "DET",
          "DET",
          "DET",
          "DET",
          "DET",
          "DET",
          "DET",
          "DET",
          "DET",
          "GSW",
          "GSW",
          "GSW",
          "GSW",
          "GSW",
          "GSW",
          "GSW",
          "GSW",
          "GSW",
          "GSW",
          "GSW",
          "GSW",
          "GSW",
          "GSW",
          "GSW",
          "GSW",
          "GSW",
          "GSW",
          "GSW",
          "GSW",
          "GSW",
          "GSW",
          "GSW",
          "GSW",
          "GSW",
          "GSW",
          "HOU",
          "HOU",
          "HOU",
          "HOU",
          "HOU",
          "HOU",
          "HOU",
          "HOU",
          "HOU",
          "HOU",
          "HOU",
          "HOU",
          "HOU",
          "HOU",
          "HOU",
          "HOU",
          "HOU",
          "HOU",
          "HOU",
          "HOU",
          "HOU",
          "HOU",
          "HOU",
          "HOU",
          "HOU",
          "HOU",
          "IND",
          "IND",
          "IND",
          "IND",
          "IND",
          "IND",
          "IND",
          "IND",
          "IND",
          "IND",
          "IND",
          "IND",
          "IND",
          "IND",
          "IND",
          "IND",
          "IND",
          "IND",
          "IND",
          "IND",
          "IND",
          "IND",
          "IND",
          "IND",
          "IND",
          "LAC",
          "LAC",
          "LAC",
          "LAC",
          "LAC",
          "LAC",
          "LAC",
          "LAC",
          "LAC",
          "LAC",
          "LAC",
          "LAC",
          "LAC",
          "LAC",
          "LAC",
          "LAC",
          "LAC",
          "LAC",
          "LAC",
          "LAC",
          "LAC",
          "LAC",
          "LAC",
          "LAC",
          "LAC",
          "LAL",
          "LAL",
          "LAL",
          "LAL",
          "LAL",
          "LAL",
          "LAL",
          "LAL",
          "LAL",
          "LAL",
          "LAL",
          "LAL",
          "LAL",
          "LAL",
          "LAL",
          "LAL",
          "LAL",
          "LAL",
          "LAL",
          "LAL",
          "LAL",
          "LAL",
          "LAL",
          "MEM",
          "MEM",
          "MEM",
          "MEM",
          "MEM",
          "MEM",
          "MEM",
          "MEM",
          "MEM",
          "MEM",
          "MEM",
          "MEM",
          "MEM",
          "MEM",
          "MEM",
          "MEM",
          "MEM",
          "MEM",
          "MEM",
          "MEM",
          "MEM",
          "MEM",
          "MEM",
          "MEM",
          "MEM",
          "MEM",
          "MEM",
          "MIA",
          "MIA",
          "MIA",
          "MIA",
          "MIA",
          "MIA",
          "MIA",
          "MIA",
          "MIA",
          "MIA",
          "MIA",
          "MIA",
          "MIA",
          "MIA",
          "MIA",
          "MIA",
          "MIA",
          "MIA",
          "MIA",
          "MIA",
          "MIA",
          "MIA",
          "MIL",
          "MIL",
          "MIL",
          "MIL",
          "MIL",
          "MIL",
          "MIL",
          "MIL",
          "MIL",
          "MIL",
          "MIL",
          "MIL",
          "MIL",
          "MIL",
          "MIL",
          "MIL",
          "MIL",
          "MIL",
          "MIL",
          "MIL",
          "MIL",
          "MIL",
          "MIL",
          "MIL",
          "MIL",
          "MIN",
          "MIN",
          "MIN",
          "MIN",
          "MIN",
          "MIN",
          "MIN",
          "MIN",
          "MIN",
          "MIN",
          "MIN",
          "MIN",
          "MIN",
          "MIN",
          "MIN",
          "MIN",
          "MIN",
          "MIN",
          "MIN",
          "MIN",
          "MIN",
          "MIN",
          "MIN",
          "MIN",
          "MIN",
          "MIN",
          "NOP",
          "NOP",
          "NOP",
          "NOP",
          "NOP",
          "NOP",
          "NOP",
          "NOP",
          "NOP",
          "NOP",
          "NOP",
          "NOP",
          "NOP",
          "NOP",
          "NOP",
          "NOP",
          "NOP",
          "NOP",
          "NYK",
          "NYK",
          "NYK",
          "NYK",
          "NYK",
          "NYK",
          "NYK",
          "NYK",
          "NYK",
          "NYK",
          "NYK",
          "NYK",
          "NYK",
          "NYK",
          "NYK",
          "NYK",
          "NYK",
          "NYK",
          "NYK",
          "NYK",
          "NYK",
          "NYK",
          "NYK",
          "NYK",
          "OKC",
          "OKC",
          "OKC",
          "OKC",
          "OKC",
          "OKC",
          "OKC",
          "OKC",
          "OKC",
          "OKC",
          "OKC",
          "OKC",
          "OKC",
          "OKC",
          "OKC",
          "OKC",
          "OKC",
          "OKC",
          "OKC",
          "OKC",
          "OKC",
          "OKC",
          "OKC",
          "OKC",
          "OKC",
          "OKC",
          "ORL",
          "ORL",
          "ORL",
          "ORL",
          "ORL",
          "ORL",
          "ORL",
          "ORL",
          "ORL",
          "ORL",
          "ORL",
          "ORL",
          "ORL",
          "ORL",
          "ORL",
          "ORL",
          "ORL",
          "ORL",
          "ORL",
          "ORL",
          "ORL",
          "ORL",
          "ORL",
          "ORL",
          "ORL",
          "ORL",
          "ORL",
          "PHI",
          "PHI",
          "PHI",
          "PHI",
          "PHI",
          "PHI",
          "PHI",
          "PHI",
          "PHI",
          "PHI",
          "PHI",
          "PHI",
          "PHI",
          "PHI",
          "PHI",
          "PHI",
          "PHI",
          "PHI",
          "PHI",
          "PHI",
          "PHI",
          "PHI",
          "PHI",
          "PHI",
          "PHI",
          "PHI",
          "PHO",
          "PHO",
          "PHO",
          "PHO",
          "PHO",
          "PHO",
          "PHO",
          "PHO",
          "PHO",
          "PHO",
          "POR",
          "POR",
          "POR",
          "POR",
          "POR",
          "POR",
          "POR",
          "POR",
          "POR",
          "POR",
          "POR",
          "POR",
          "POR",
          "POR",
          "POR",
          "POR",
          "POR",
          "POR",
          "POR",
          "POR",
          "POR",
          "POR",
          "POR",
          "POR",
          "POR",
          "POR",
          "SAC",
          "SAC",
          "SAC",
          "SAC",
          "SAC",
          "SAC",
          "SAC",
          "SAC",
          "SAC",
          "SAC",
          "SAC",
          "SAC",
          "SAC",
          "SAC",
          "SAC",
          "SAC",
          "SAC",
          "SAC",
          "SAC",
          "SAC",
          "SAC",
          "SAC",
          "SAC",
          "SAC",
          "SAC",
          "SAC",
          "SAS",
          "SAS",
          "SAS",
          "SAS",
          "SAS",
          "SAS",
          "SAS",
          "SAS",
          "SAS",
          "SAS",
          "SAS",
          "SAS",
          "SAS",
          "SAS",
          "SAS",
          "SAS",
          "SAS",
          "SAS",
          "SAS",
          "SAS",
          "SAS",
          "SAS",
          "SAS",
          "SAS",
          "SAS",
          "TOR",
          "TOR",
          "TOR",
          "TOR",
          "TOR",
          "TOR",
          "TOR",
          "TOR",
          "TOR",
          "TOR",
          "TOR",
          "TOR",
          "TOR",
          "TOR",
          "TOR",
          "TOR",
          "TOR",
          "TOR",
          "TOR",
          "TOR",
          "TOR",
          "TOR",
          "TOR",
          "TOR",
          "TOR",
          "UTA",
          "UTA",
          "UTA",
          "UTA",
          "UTA",
          "UTA",
          "UTA",
          "UTA",
          "UTA",
          "UTA",
          "UTA",
          "UTA",
          "UTA",
          "UTA",
          "UTA",
          "UTA",
          "UTA",
          "UTA",
          "UTA",
          "UTA",
          "UTA",
          "UTA",
          "UTA",
          "UTA",
          "UTA",
          "UTA",
          "WAS",
          "WAS",
          "WAS",
          "WAS",
          "WAS",
          "WAS",
          "WAS",
          "WAS",
          "WAS",
          "WAS",
          "WAS",
          "WAS",
          "WAS",
          "WAS",
          "WAS",
          "WAS",
          "WAS",
          "WAS",
          "WAS",
          "WAS",
          "WAS",
          "WAS",
          "WAS",
          "WAS"
         ],
         "legendgroup": "",
         "marker": {
          "color": "#7F7F7F",
          "size": 12,
          "symbol": "circle"
         },
         "mode": "markers",
         "name": "",
         "orientation": "v",
         "showlegend": false,
         "type": "scatter",
         "x": [
          1996,
          1997,
          1998,
          1999,
          2000,
          2001,
          2002,
          2003,
          2004,
          2005,
          2006,
          2007,
          2009,
          2010,
          2012,
          2013,
          2014,
          2015,
          2016,
          2017,
          2018,
          2019,
          2020,
          2021,
          2022,
          1996,
          1997,
          1998,
          1999,
          2000,
          2001,
          2003,
          2004,
          2005,
          2006,
          2007,
          2008,
          2010,
          2011,
          2012,
          2013,
          2014,
          2015,
          2016,
          2017,
          2018,
          2019,
          2020,
          2021,
          2022,
          1996,
          1997,
          1999,
          2000,
          2001,
          2002,
          2003,
          2004,
          2005,
          2006,
          2007,
          2008,
          2009,
          2010,
          2011,
          2012,
          2017,
          2018,
          2019,
          2021,
          1997,
          1998,
          1999,
          2000,
          2001,
          2002,
          2003,
          2004,
          2006,
          2007,
          2008,
          2009,
          2011,
          2012,
          2013,
          2014,
          2015,
          2016,
          2017,
          2018,
          2019,
          2020,
          2021,
          2022,
          1996,
          1998,
          1999,
          2000,
          2001,
          2004,
          2005,
          2006,
          2007,
          2008,
          2009,
          2011,
          2012,
          2013,
          2014,
          2015,
          2016,
          2017,
          2018,
          2019,
          2020,
          2021,
          2022,
          1996,
          1997,
          1998,
          1999,
          2000,
          2001,
          2002,
          2003,
          2004,
          2005,
          2006,
          2008,
          2009,
          2010,
          2011,
          2012,
          2013,
          2014,
          2015,
          2016,
          2017,
          2018,
          2019,
          2020,
          2021,
          2022,
          1996,
          1997,
          1998,
          1999,
          2000,
          2001,
          2002,
          2003,
          2004,
          2006,
          2007,
          2008,
          2009,
          2010,
          2011,
          2012,
          2013,
          2014,
          2015,
          2016,
          2017,
          2018,
          2020,
          2022,
          1996,
          1997,
          1998,
          1999,
          2000,
          2001,
          2002,
          2003,
          2004,
          2005,
          2007,
          2008,
          2009,
          2011,
          2012,
          2013,
          2014,
          2015,
          2016,
          2017,
          2018,
          2019,
          2020,
          2021,
          2022,
          1996,
          1997,
          1998,
          1999,
          2000,
          2001,
          2002,
          2003,
          2004,
          2005,
          2006,
          2007,
          2008,
          2009,
          2010,
          2011,
          2012,
          2013,
          2014,
          2015,
          2016,
          2017,
          2018,
          2019,
          2020,
          2021,
          2022,
          1996,
          1997,
          1998,
          1999,
          2000,
          2001,
          2002,
          2003,
          2004,
          2005,
          2006,
          2007,
          2008,
          2009,
          2010,
          2011,
          2012,
          2013,
          2015,
          2016,
          2017,
          2018,
          2019,
          2020,
          2021,
          2022,
          1996,
          1997,
          1998,
          1999,
          2000,
          2001,
          2002,
          2003,
          2004,
          2005,
          2006,
          2007,
          2008,
          2009,
          2010,
          2011,
          2012,
          2013,
          2014,
          2015,
          2016,
          2017,
          2018,
          2020,
          2021,
          2022,
          1996,
          1997,
          1998,
          1999,
          2000,
          2001,
          2002,
          2003,
          2004,
          2005,
          2006,
          2008,
          2009,
          2010,
          2012,
          2013,
          2014,
          2015,
          2016,
          2017,
          2018,
          2019,
          2020,
          2021,
          2022,
          1996,
          1997,
          1998,
          1999,
          2000,
          2002,
          2003,
          2004,
          2005,
          2006,
          2007,
          2008,
          2009,
          2010,
          2011,
          2013,
          2014,
          2015,
          2016,
          2017,
          2018,
          2019,
          2020,
          2021,
          2022,
          1996,
          1997,
          1998,
          1999,
          2000,
          2002,
          2003,
          2004,
          2005,
          2006,
          2007,
          2009,
          2010,
          2011,
          2012,
          2013,
          2014,
          2015,
          2016,
          2017,
          2018,
          2019,
          2022,
          1996,
          1997,
          1998,
          1999,
          2000,
          2001,
          2002,
          2003,
          2004,
          2005,
          2006,
          2007,
          2008,
          2009,
          2010,
          2011,
          2012,
          2013,
          2014,
          2015,
          2016,
          2017,
          2018,
          2019,
          2020,
          2021,
          2022,
          1997,
          1998,
          1999,
          2000,
          2001,
          2002,
          2003,
          2004,
          2005,
          2007,
          2008,
          2009,
          2010,
          2011,
          2012,
          2013,
          2014,
          2015,
          2017,
          2019,
          2020,
          2022,
          1996,
          1997,
          1998,
          1999,
          2000,
          2001,
          2002,
          2003,
          2005,
          2006,
          2007,
          2008,
          2009,
          2010,
          2011,
          2012,
          2013,
          2014,
          2015,
          2016,
          2017,
          2018,
          2020,
          2021,
          2022,
          1996,
          1997,
          1998,
          1999,
          2000,
          2001,
          2002,
          2003,
          2004,
          2005,
          2006,
          2007,
          2008,
          2009,
          2010,
          2011,
          2012,
          2013,
          2014,
          2015,
          2016,
          2017,
          2018,
          2019,
          2020,
          2022,
          2002,
          2003,
          2004,
          2005,
          2006,
          2007,
          2008,
          2009,
          2010,
          2012,
          2013,
          2016,
          2017,
          2018,
          2019,
          2020,
          2021,
          2022,
          1996,
          1998,
          1999,
          2000,
          2001,
          2002,
          2003,
          2004,
          2005,
          2006,
          2007,
          2008,
          2009,
          2010,
          2011,
          2013,
          2014,
          2015,
          2017,
          2018,
          2019,
          2020,
          2021,
          2022,
          1996,
          1997,
          1998,
          2000,
          2001,
          2002,
          2003,
          2004,
          2005,
          2006,
          2007,
          2008,
          2009,
          2010,
          2011,
          2012,
          2013,
          2014,
          2015,
          2016,
          2017,
          2018,
          2019,
          2020,
          2021,
          2022,
          1996,
          1997,
          1998,
          1999,
          2000,
          2001,
          2002,
          2003,
          2004,
          2005,
          2006,
          2007,
          2008,
          2009,
          2010,
          2011,
          2012,
          2013,
          2014,
          2015,
          2016,
          2017,
          2018,
          2019,
          2020,
          2021,
          2022,
          1996,
          1997,
          1998,
          1999,
          2000,
          2001,
          2002,
          2003,
          2004,
          2005,
          2006,
          2007,
          2008,
          2009,
          2010,
          2011,
          2012,
          2013,
          2014,
          2015,
          2016,
          2017,
          2018,
          2019,
          2020,
          2021,
          1996,
          2007,
          2009,
          2010,
          2013,
          2014,
          2015,
          2017,
          2018,
          2021,
          1996,
          1997,
          1998,
          1999,
          2000,
          2001,
          2002,
          2003,
          2004,
          2005,
          2006,
          2007,
          2008,
          2009,
          2010,
          2011,
          2012,
          2013,
          2015,
          2016,
          2017,
          2018,
          2019,
          2020,
          2021,
          2022,
          1996,
          1997,
          1998,
          1999,
          2000,
          2001,
          2002,
          2004,
          2005,
          2006,
          2007,
          2008,
          2009,
          2010,
          2011,
          2012,
          2013,
          2014,
          2015,
          2016,
          2017,
          2018,
          2019,
          2020,
          2021,
          2022,
          1996,
          1997,
          1998,
          1999,
          2000,
          2001,
          2004,
          2005,
          2006,
          2007,
          2008,
          2009,
          2010,
          2011,
          2012,
          2013,
          2014,
          2015,
          2016,
          2017,
          2018,
          2019,
          2020,
          2021,
          2022,
          1996,
          1997,
          1998,
          1999,
          2000,
          2001,
          2002,
          2003,
          2004,
          2005,
          2006,
          2008,
          2009,
          2010,
          2011,
          2012,
          2013,
          2014,
          2015,
          2016,
          2017,
          2019,
          2020,
          2021,
          2022,
          1996,
          1997,
          1999,
          2000,
          2001,
          2002,
          2003,
          2004,
          2005,
          2006,
          2007,
          2008,
          2009,
          2010,
          2011,
          2012,
          2013,
          2014,
          2015,
          2016,
          2017,
          2018,
          2019,
          2020,
          2021,
          2022,
          1996,
          1997,
          1998,
          1999,
          2000,
          2001,
          2002,
          2003,
          2004,
          2005,
          2006,
          2007,
          2008,
          2010,
          2011,
          2012,
          2013,
          2015,
          2017,
          2018,
          2019,
          2020,
          2021,
          2022
         ],
         "xaxis": "x",
         "y": [
          -1513.8148148148148,
          -607.4814814814814,
          -834.9814814814815,
          1529.7372685185185,
          -1718.79012345679,
          13420,
          -831.5925925925926,
          2245.222222222222,
          1040.4888888888888,
          611.9120370370371,
          -3702.444444444445,
          233.7037037037037,
          2576.666666666667,
          -533.9629629629629,
          -457.12962962962956,
          1354.4444444444441,
          -1493.2777777777776,
          -343.6203703703704,
          -593.246913580247,
          -17.62164124909221,
          -304.7530864197532,
          -3852.0246913580245,
          -1970.611111111111,
          -1676.5925925925926,
          -1814.8888888888887,
          1902.1234567901236,
          1378.2345679012349,
          19410,
          -861.8888888888889,
          -3247.4814814814813,
          -3245.240740740741,
          -1065.0740740740741,
          3126.425925925926,
          2246.1234567901233,
          3309.8888888888887,
          400.53703703703707,
          -1253.6666666666665,
          3176.5555555555557,
          442.66666666666674,
          -1223.1604938271605,
          1267.7037037037035,
          -1278,
          -483.5555555555555,
          -1650.1925925925927,
          -465.9444444444445,
          -1575.7777777777778,
          -1410.3796296296296,
          -1901.2592592592594,
          -1932.2222222222222,
          -521.9629629629629,
          1685.333333333333,
          6397.611111111111,
          -1064.4444444444443,
          -1154.6111111111115,
          1167.7962962962965,
          137.72222222222226,
          -2042.6296296296296,
          -703.2962962962963,
          -2493.9259259259256,
          -1163.1604938271605,
          -3353.740740740741,
          4167.975308641976,
          -2548.4814814814813,
          -3600.6296296296296,
          -1082.5185185185185,
          -840.0370370370371,
          -840.0370370370371,
          -1599.7916666666667,
          -608.2592592592591,
          -915.0925925925926,
          -1293.6481481481483,
          -1187.9074074074074,
          4977.407407407407,
          509.2037037037035,
          760.5432098765433,
          -1593.537037037037,
          147.46913580246903,
          2995.0987654320984,
          -2949.962962962963,
          -667.0740740740742,
          1579.3888888888885,
          3766.666666666667,
          5976.388888888889,
          -945.8587962962963,
          -10.370370370370438,
          552.6481481481483,
          3528.814814814815,
          -985.074074074074,
          -1463.2222222222226,
          -3035.203703703704,
          -1903.7962962962965,
          -3664.296296296296,
          -317.37037037037044,
          -3632.703703703704,
          2821.2777777777783,
          2924.5185185185187,
          1820.5,
          814.5555555555557,
          -3554.4814814814813,
          -587.0555555555554,
          -1210.62962962963,
          -3891.5370370370374,
          1599.2037037037037,
          -328.7037037037039,
          186.40740740740748,
          1722.87037037037,
          -2444.074074074074,
          -3961.6296296296296,
          -4112.611111111111,
          -2675.203703703704,
          -849.8888888888889,
          -42.2777777777776,
          456.6296296296296,
          225.8395061728395,
          -2504.0740740740744,
          -1992.9333333333332,
          -2970.5185185185182,
          2545.5185185185187,
          1113.3333333333333,
          -814.6666666666666,
          1423.0648148148146,
          -4231.222222222223,
          -2662.0370370370374,
          4010.648148148148,
          14603.962962962962,
          -2249.925925925926,
          -730.9629629629629,
          387.9753086419753,
          -73.28104575163397,
          1832.5000000000002,
          -57.296296296296305,
          1033.543209876543,
          -1909.1851851851852,
          -5071.728395061728,
          2179.685185185185,
          569.8888888888889,
          -2013.3209876543212,
          1264.2685185185185,
          -438.66666666666697,
          -1914.3333333333333,
          -6645.9629629629635,
          -7918.111111111111,
          -995.246913580247,
          327.1728395061727,
          -2357.074074074074,
          8169.518518518518,
          -513.4074074074074,
          -33.75308641975312,
          -730.9629629629629,
          -861.8888888888889,
          2309.585648148148,
          -582.4814814814818,
          -1274.1481481481483,
          -683.099128540305,
          -703.2962962962963,
          -1202.888888888889,
          -2590.6296296296296,
          -840.0370370370371,
          284,
          -1914.716049382716,
          2499.777777777778,
          -1211.1481481481483,
          -1087.7222222222222,
          -4833.037037037037,
          400.1124727668844,
          -2031.79012345679,
          -955.5555555555557,
          4020.4444444444443,
          -806.7037037037039,
          -2060.4444444444443,
          810.0617283950618,
          -522.9629629629629,
          -678.2037037037037,
          -1844.3703703703707,
          8269.87037037037,
          -826.8888888888889,
          -908.1975308641977,
          -283.2962962962963,
          -167.37037037037044,
          886.9259259259259,
          445.3148148148148,
          1479.382716049383,
          -532.0185185185185,
          4755.962962962963,
          -2517.12962962963,
          -841.1481481481482,
          -397.38271604938274,
          -875.9722222222222,
          45.03703703703707,
          -1796.1851851851852,
          -1593.1851851851852,
          -2649.925925925926,
          914.8148148148148,
          -1628.962962962963,
          -2158.074074074074,
          -356.9259259259259,
          -910.5370370370372,
          396.7962962962961,
          7965.62962962963,
          -1548.2592592592591,
          -356.9259259259259,
          1719.81045751634,
          -677.7657952069717,
          2676.740740740741,
          -754.8796296296297,
          -659.2592592592591,
          -104.31481481481501,
          463.70370370370364,
          4125.876543209876,
          366.2098765432097,
          4727.62962962963,
          -2031.0185185185187,
          -2088.462962962963,
          -282.7777777777778,
          145.86419753086412,
          -1988.1851851851852,
          -2472.8796296296296,
          -3359.555555555556,
          -4599.802469135803,
          -2484.7777777777774,
          -468.0185185185187,
          11780.37037037037,
          -1185.1666666666667,
          -421.8888888888889,
          6490.555555555555,
          -1195.8148148148148,
          -1149.611111111111,
          -386.4814814814813,
          1695.777777777778,
          -4555.703703703704,
          1074.3148148148143,
          -1411.6666666666667,
          14218.777777777777,
          -3628.259259259259,
          2075.6296296296296,
          1760.046296296296,
          -2312.8518518518517,
          -39.851851851851734,
          -3083.6172839506175,
          -1090.3703703703704,
          -2408.5925925925926,
          57.283950617283914,
          -2594.617283950617,
          -4726.166666666667,
          -1341.4814814814815,
          536.2098765432098,
          -2854.740740740741,
          2393.0740740740735,
          1314.25,
          -2713.111111111111,
          -2284.320987654321,
          398.2296296296296,
          -730.9629629629629,
          -581.9629629629629,
          -908.6296296296296,
          679.5185185185185,
          2078.543209876543,
          3043.6419753086425,
          692.8333333333331,
          974.8888888888887,
          2889.3333333333335,
          -2931.1111111111113,
          427.55555555555566,
          408.5925925925926,
          1049.4074074074072,
          -1766.2222222222222,
          -833.8888888888887,
          -552.2222222222222,
          1843.7037037037037,
          -2989.5925925925926,
          -4686.547839506173,
          148.35185185185185,
          680.2222222222222,
          10400.37037037037,
          -3282.9814814814818,
          -756.462962962963,
          -48.981481481481524,
          -601.1111111111113,
          2911.777777777778,
          -441.0347222222223,
          2200.0555555555557,
          -2165.740740740741,
          100.4814814814813,
          -815.7962962962964,
          5970.4629629629635,
          -1020.7962962962963,
          -697.1666666666667,
          404.4259259259258,
          46.740740740740875,
          2239.759259259259,
          -1246.4907407407409,
          -870.6666666666667,
          -2798.703703703704,
          -3045.462962962963,
          -3185.240740740741,
          -1568.2222222222222,
          -1209.814814814815,
          -485.28395061728406,
          -2036.308641975309,
          1131.0555555555557,
          -618.4166666666669,
          1312.1358024691358,
          870.6481481481483,
          -2205.777777777778,
          -2411.1296296296296,
          -786.8703703703703,
          -1154.4,
          4082.4814814814813,
          3928.1851851851843,
          2060.234567901234,
          -1312.5185185185187,
          1106.3703703703704,
          -2444.5925925925926,
          -850.1481481481482,
          -1694.6463326071168,
          -816.0185185185185,
          -846.320987654321,
          -859.8641975308642,
          -1096.9074074074074,
          -834.1111111111111,
          -2139.8888888888887,
          11448.427469135802,
          -356.9259259259259,
          435.24074074074076,
          -1036.111111111111,
          -835.7916666666667,
          -680.5185185185187,
          -143.55555555555554,
          -435.462962962963,
          -544.641975308642,
          937.8148148148148,
          -2165.074074074074,
          -20.27777777777778,
          -1017.2962962962962,
          -904.5462962962963,
          -1899.140159767611,
          67.33333333333337,
          6300.314814814815,
          265.29629629629636,
          1528.8148148148148,
          413.4814814814815,
          -840,
          393.85185185185196,
          -1809.4444444444443,
          849.6203703703703,
          -1089.7962962962963,
          1483.1111111111113,
          -784.425925925926,
          -1972.7592592592591,
          3094.509259259259,
          -1884.1666666666665,
          -1558,
          -1218.0246913580247,
          158.33333333333337,
          7549.827160493827,
          4950.086419753086,
          -1241.4444444444446,
          -1112.2,
          -865.1851851851852,
          -722.2222222222222,
          -1232.6296296296296,
          -1193.210239651416,
          -1838.7037037037037,
          -778.7962962962963,
          -2134.679012345679,
          -1122.7654320987654,
          -835.0864197530864,
          -1246.4444444444443,
          25.35185185185196,
          -3893.425925925926,
          -2433.4166666666665,
          -2257.259259259259,
          -703.2962962962963,
          2746.1234567901233,
          1836.574074074074,
          -1251.2222222222222,
          5497.018518518518,
          6652.555555555556,
          494.55555555555566,
          -1641.7916666666667,
          -1358.506172839506,
          2318.8333333333335,
          -699.2352941176471,
          -1321.9722222222222,
          -70.59259259259261,
          -1245.2222222222222,
          1962.037037037037,
          -1317.6296296296296,
          -202.53703703703695,
          2338.8888888888887,
          -1364.3888888888891,
          -1417.5185185185187,
          -3027.777777777778,
          7806.0370370370365,
          -1972.9444444444446,
          -379.4444444444446,
          -913.6666666666666,
          1753.283950617284,
          -310.2962962962963,
          -1871.0740740740741,
          -1310.0555555555557,
          1734.8888888888887,
          -570.8240740740741,
          1726.2962962962965,
          -1096.6111111111113,
          814,
          -1858.3333333333333,
          4759.740740740741,
          -424.1111111111113,
          5327.333333333333,
          -2144.064814814815,
          -3511.740740740741,
          -364.70370370370347,
          -1688.4444444444443,
          -1419.4074074074074,
          -646.2287581699346,
          60.074074074074076,
          -3484.6296296296296,
          8035.37037037037,
          -388.1296296296296,
          92.05555555555554,
          -194.97530864197537,
          -625.2962962962963,
          -965.148148148148,
          -310.2962962962963,
          -1886.037037037037,
          -140.7037037037037,
          -1259.7962962962965,
          452.77777777777766,
          -1196.7330246913582,
          3795.8888888888887,
          -496.0740740740742,
          -1654.037037037037,
          -2718.8888888888887,
          238.2962962962963,
          -42.79629629629636,
          676.4907407407405,
          533.2777777777774,
          -6084.9629629629635,
          -3500.4814814814813,
          -113.09259259259267,
          -1887.8765432098764,
          -3171.2592592592596,
          -1820.4567901234568,
          -552.4444444444445,
          4096.222222222222,
          1329.7777777777776,
          9288.222222222223,
          -3101.2098765432092,
          -3508.5925925925926,
          854.5740740740744,
          4508.055555555556,
          -1341.1851851851852,
          1447.3456790123455,
          -690.3703703703704,
          -945.1481481481482,
          -441.2592592592591,
          -703.2962962962963,
          -3828.666666666667,
          -5127.2962962962965,
          -1499.5925925925926,
          -2430.7160493827164,
          -1336.0123456790122,
          -1677.3703703703704,
          -2961.555555555555,
          -1161.3703703703704,
          -1777.6296296296296,
          1556.308641975309,
          -6108.037037037037,
          9394.111111111111,
          4870.16049382716,
          -1534.1550925925926,
          5156.62962962963,
          3107.0185185185187,
          1198.2083333333333,
          -617.2345679012346,
          -1140.9814814814815,
          5417.37037037037,
          -749.3703703703703,
          -736.5061728395061,
          -1075.7777777777778,
          -2156.2222222222226,
          -3165.7962962962965,
          -2048.1481481481483,
          -813.9135802469136,
          -1367.5555555555557,
          -1730.0493827160492,
          -596.7777777777777,
          2464.990740740741,
          422.74074074074065,
          2753.074074074074,
          1320.611111111111,
          1791.1358024691356,
          -2553.9814814814818,
          -439.1481481481481,
          -3198.679012345679,
          12533.074074074073,
          3160.744598765432,
          3452.9135802469136,
          -1372.9382716049383,
          6125.37037037037,
          -39.18518518518522,
          -47.30902777777783,
          -1823.8935185185185,
          -1020.3888888888889,
          1525.6851851851852,
          -2472,
          -335.4074074074074,
          -1553.7407407407409,
          -1383.9135802469136,
          -1421.3355119825708,
          -3641.148148148148,
          -1668,
          -2511.6481481481483,
          218.8148148148149,
          4485.814814814815,
          2603.0370370370365,
          -2430.574074074074,
          -569.9074074074074,
          1273.8641975308644,
          7973.333333333333,
          882.7037037037038,
          1992.1234567901236,
          -730.9629629629629,
          5285.814814814815,
          -2669.1111111111113,
          -844.0347222222223,
          -823.7222222222222,
          -452.2962962962962,
          305.9074074074075,
          -991.5925925925926,
          -3394.62962962963,
          -1706.1851851851852,
          -2080.0925925925926,
          -2380.8518518518517,
          -2504.4814814814813,
          -2280.296296296296,
          -5039.814814814816,
          -5226.148148148149,
          1788.7685185185182,
          146.9814814814814,
          2468.3287037037035,
          131.87037037037032,
          -355.59259259259267,
          594.074074074074,
          1704.7962962962963,
          4970.851851851852,
          6343.962962962963,
          13660.777777777777,
          -1448.0185185185185,
          2945.9506172839506,
          2005.5185185185187,
          7100.0370370370365,
          -1864.9444444444443,
          5796.777777777777,
          -1673.8703703703704,
          -418.01234567901224,
          1077.4074074074074,
          -1492.8174291939,
          -2839.876543209877,
          -3297.3950617283954,
          -1120.1358024691356,
          -1003.7222222222223,
          69.35802469135804,
          -1157.506172839506,
          -1356.3703703703704,
          52.72222222222222,
          -871.8518518518518,
          -1109.6917211328976,
          -840.0370370370371,
          -666.9629629629629,
          6962.7037037037035,
          -274.9259259259259,
          -3636.5370370370374,
          -1385.7916666666667,
          3973.0555555555557,
          -1442.9629629629626,
          3513.5185185185187,
          -310.2962962962963,
          -1572.2777777777778,
          4130.3703703703695,
          -1869.0617283950617,
          84.4444444444444,
          -1609.5432098765432,
          1669.0370370370372,
          2825.0555555555557,
          -3428,
          4532.944444444444,
          1439.1851851851852,
          -1679.7037037037037,
          -1911.1481481481483,
          4301.25,
          2261.8333333333335,
          1205.8148148148148,
          -145.48148148148152,
          -3969.0925925925926,
          1111.9074074074074,
          -1675.6296296296296,
          -891.5925925925926,
          -2442.9444444444443,
          -2815.2222222222226,
          9839.888888888889,
          228.7222222222224,
          597.685185185185,
          -1927.2222222222222,
          2916.148148148148,
          3117.240740740741,
          2748.037037037037,
          1767.5925925925922,
          1016.6296296296296,
          -3514.4444444444443,
          -1055,
          189.81481481481478,
          352.5432098765432,
          4695.055555555555,
          519.1067538126363,
          -3586.4814814814813,
          -1337.814814814815,
          -521.2222222222224,
          -1306.2592592592591,
          -1109.7222222222222,
          -1493.7222222222222,
          -4427.888888888889,
          -1113.0660856935367,
          -1647.9135802469136,
          -2653.1234567901233,
          -7285.62962962963,
          -2.6666666666666288,
          15911.185185185184,
          -57.296296296296305,
          13202.962962962964,
          -1043.0555555555557,
          5300.185185185185,
          1075.0246913580245,
          632.4074074074074,
          -2075.259259259259,
          -420.6172839506173,
          1663.3703703703704,
          232.72839506172838,
          -1138.3703703703704,
          3419.603009259259,
          -20.27777777777778,
          -1358.6481481481483,
          589.9564270152506,
          -1906.037037037037,
          3697.208333333333,
          2233.208333333333,
          -363.46296296296305,
          -908.486111111111,
          -1032.3333333333333,
          -2568.9814814814818,
          -3961.061728395062,
          2074.1111111111113,
          4325.138888888889,
          5803.456790123456,
          -3768.777777777778,
          7.888888888888914,
          -3451.740740740741,
          -2828.777777777778,
          4443.814814814815,
          -2516.172839506173,
          -880.8981481481483,
          99.19753086419728,
          -1603.1851851851852,
          14060.962962962964,
          -1031.1296296296298,
          2064.0370370370365,
          659.5432098765431,
          -3140.4814814814813,
          -1282.4506172839508,
          1385.3209876543212,
          604.0925925925926,
          961.6296296296296,
          -6.277777777777779,
          -473.5347222222223,
          -2814.0864197530864,
          -1309.9259259259259,
          4970.074074074074,
          -243.40740740740745,
          325.40740740740745,
          2623.6296296296296,
          -731.7962962962963,
          -3459.703703703704,
          4061.537037037037,
          -355.2962962962963,
          3181.0493827160494,
          3989.41975308642,
          -1652.6296296296296,
          -221.76543209876544,
          -666.9629629629629,
          117.92592592592581,
          813.0555555555554,
          -1305.4814814814815,
          395.90740740740745,
          -2815.666666666667,
          -485.7530864197531,
          -503.425925925926,
          599.4074074074073,
          -840,
          -358.2098765432099,
          -2044.0740740740741,
          -1973.074074074074,
          -2570.1481481481483,
          -861.8888888888889,
          -1459.148148148148,
          -519.4629629629628,
          2074.9876543209875,
          -2458.5061728395062,
          -362.2962962962967,
          -747.8641975308642,
          -119.34567901234568,
          -1486.4814814814815,
          4900.777777777777,
          -2096.685185185185,
          2113.0185185185182,
          3004.296296296296,
          -11.170370370370597,
          860.4074074074075,
          3170.2037037037035,
          -2366.8271604938273,
          -27.992283950617168,
          -2680.6296296296296,
          -1592.4629629629628,
          -2987.2962962962965,
          -3193,
          -2588.611111111111,
          -3590.462962962963
         ],
         "yaxis": "y"
        },
        {
         "customdata": [
          [
           "CLE",
           5060
          ],
          [
           "CLE",
           4861.333333333333
          ],
          [
           "CLE",
           99
          ],
          [
           "CLE",
           4241.75
          ],
          [
           "CLE",
           3262
          ],
          [
           "CLE",
           636.5
          ],
          [
           "CLE",
           7470
          ],
          [
           "CLE",
           21025
          ],
          [
           "CLE",
           2413
          ],
          [
           "CLE",
           0
          ],
          [
           "CLE",
           2077.6666666666665
          ],
          [
           "CLE",
           1418.5
          ],
          [
           "CLE",
           3762
          ],
          [
           "CLE",
           253
          ],
          [
           "CLE",
           7434.666666666667
          ],
          [
           "CLE",
           4189
          ],
          [
           "CLE",
           321.3333333333333
          ],
          [
           "CLE",
           2996
          ],
          [
           "CLE",
           1969
          ],
          [
           "CLE",
           1034.3333333333333
          ],
          [
           "CLE",
           2514
          ],
          [
           "CLE",
           5041
          ],
          [
           "CLE",
           2638.6666666666665
          ],
          [
           "CLE",
           1724
          ],
          [
           "CLE",
           2311
          ],
          [
           "CLE",
           10.333333333333334
          ]
         ],
         "hovertemplate": "<b>%{hovertext}</b><br><br>Season: %{x} <br>PTS diff to avg players: %{y:.2f}<br>PTS: %{customdata[1]:.2f} <br><extra></extra>",
         "hovertext": [
          "CLE",
          "CLE",
          "CLE",
          "CLE",
          "CLE",
          "CLE",
          "CLE",
          "CLE",
          "CLE",
          "CLE",
          "CLE",
          "CLE",
          "CLE",
          "CLE",
          "CLE",
          "CLE",
          "CLE",
          "CLE",
          "CLE",
          "CLE",
          "CLE",
          "CLE",
          "CLE",
          "CLE",
          "CLE",
          "CLE"
         ],
         "legendgroup": "",
         "marker": {
          "color": "red",
          "size": 12,
          "symbol": "circle"
         },
         "mode": "markers",
         "name": "",
         "orientation": "v",
         "showlegend": false,
         "type": "scatter",
         "x": [
          1996,
          1997,
          1998,
          1999,
          2000,
          2001,
          2002,
          2003,
          2004,
          2005,
          2006,
          2008,
          2009,
          2010,
          2011,
          2012,
          2013,
          2014,
          2015,
          2016,
          2017,
          2018,
          2019,
          2020,
          2021,
          2022
         ],
         "xaxis": "x",
         "y": [
          2545.5185185185187,
          1113.3333333333333,
          -814.6666666666666,
          1423.0648148148146,
          -4231.222222222223,
          -2662.0370370370374,
          4010.648148148148,
          14603.962962962962,
          -2249.925925925926,
          -730.9629629629629,
          387.9753086419753,
          -73.28104575163397,
          1832.5000000000002,
          -57.296296296296305,
          1033.543209876543,
          -1909.1851851851852,
          -5071.728395061728,
          2179.685185185185,
          569.8888888888889,
          -2013.3209876543212,
          1264.2685185185185,
          -438.66666666666697,
          -1914.3333333333333,
          -6645.9629629629635,
          -7918.111111111111,
          -995.246913580247
         ],
         "yaxis": "y"
        },
        {
         "customdata": [
          [
           "Vitaly Potapenko",
           3995,
           466,
           12
          ],
          [
           "Zydrunas Ilgauskas",
           10976,
           77,
           20
          ],
          [
           "Reggie Geary",
           209,
           575,
           56
          ],
          [
           "Derek Anderson",
           7357,
           314,
           13
          ],
          [
           "Brevin Knight",
           5342,
           306,
           16
          ],
          [
           "Cedric Henderson",
           1885,
           492,
           45
          ],
          [
           "Ryan Stack",
           99,
           "Not Ranked",
           48
          ],
          [
           "Andre Miller",
           16278,
           39,
           8
          ],
          [
           "Trajan Langdon",
           647,
           859,
           11
          ],
          [
           "A.J. Bramlett",
           8,
           "Not Ranked",
           39
          ],
          [
           "Lari Ketner",
           34,
           "Not Ranked",
           49
          ],
          [
           "Chris Mihm",
           3262,
           929,
           7
          ],
          [
           "DeSagana Diop",
           1185,
           930,
           8
          ],
          [
           "Jeff Trepagnier",
           88,
           "Not Ranked",
           36
          ],
          [
           "Dajuan Wagner",
           964,
           919,
           6
          ],
          [
           "Carlos Boozer",
           13976,
           30,
           35
          ],
          [
           "LeBron James",
           38652,
           1,
           1
          ],
          [
           "Jason Kapono",
           3398,
           364,
           31
          ],
          [
           "Luke Jackson",
           252,
           "Not Ranked",
           10
          ],
          [
           "Anderson Varejão",
           4574,
           273,
           30
          ],
          [
           "Martynas Andriuškevičius",
           0,
           "Not Ranked",
           44
          ],
          [
           "Shannon Brown",
           3118,
           452,
           25
          ],
          [
           "Daniel Gibson",
           3115,
           307,
           42
          ],
          [
           "Ejike Ugboaja",
           0,
           "Not Ranked",
           55
          ],
          [
           "J.J. Hickson",
           5081,
           374,
           19
          ],
          [
           "Darnell Jackson",
           308,
           484,
           52
          ],
          [
           "Sasha Kaun",
           23,
           "Not Ranked",
           56
          ],
          [
           "Semih Erden",
           262,
           "Not Ranked",
           60
          ],
          [
           "Christian Eyenga",
           320,
           "Not Ranked",
           30
          ],
          [
           "Danny Green",
           7204,
           125,
           46
          ],
          [
           "Luke Harangody",
           253,
           "Not Ranked",
           52
          ],
          [
           "Kyrie Irving",
           15712,
           146,
           1
          ],
          [
           "Tristan Thompson",
           6592,
           731,
           4
          ],
          [
           "Milan Mačvan",
           0,
           "Not Ranked",
           54
          ],
          [
           "Dion Waiters",
           5505,
           837,
           4
          ],
          [
           "Tyler Zeller",
           2873,
           640,
           17
          ],
          [
           "Anthony Bennett",
           658,
           998,
           1
          ],
          [
           "Sergey Karasev",
           287,
           910,
           19
          ],
          [
           "Carrick Felix",
           19,
           "Not Ranked",
           33
          ],
          [
           "Joe Harris",
           5146,
           206,
           33
          ],
          [
           "Jordan McRae",
           846,
           404,
           58
          ],
          [
           "Cedi Osman",
           3938,
           309,
           31
          ],
          [
           "Sir'Dominic Pointer",
           0,
           "Not Ranked",
           53
          ],
          [
           "Marquese Chriss",
           2206,
           875,
           8
          ],
          [
           "Ante Žižić",
           674,
           823,
           23
          ],
          [
           "Kay Felder",
           223,
           "Not Ranked",
           54
          ],
          [
           "Jarrett Allen",
           4914,
           262,
           22
          ],
          [
           "Jaron Blossomgame",
           114,
           "Not Ranked",
           59
          ],
          [
           "Collin Sexton",
           5041,
           545,
           8
          ],
          [
           "Darius Garland",
           4632,
           908,
           5
          ],
          [
           "Dylan Windler",
           276,
           829,
           26
          ],
          [
           "Kevin Porter Jr.",
           3008,
           409,
           30
          ],
          [
           "Isaac Okoro",
           1724,
           981,
           5
          ],
          [
           "Evan Mobley",
           2311,
           994,
           3
          ],
          [
           "Khalifa Diop",
           0,
           "Not Ranked",
           39
          ],
          [
           "Isaiah Mobley",
           31,
           "Not Ranked",
           49
          ],
          [
           "Luke Travers",
           0,
           "Not Ranked",
           56
          ]
         ],
         "hovertemplate": "<b>%{hovertext}</b><br><br>Pick: %{customdata[3]} (%{x}) <br>PTS Rank: %{customdata[2]} <br>PTS diff. to avg player at pick %{customdata[3]}: %{y:.2f}<br>Career PTS: %{customdata[1]:.2f}<br><extra></extra>",
         "hovertext": [
          "Vitaly Potapenko",
          "Zydrunas Ilgauskas",
          "Reggie Geary",
          "Derek Anderson",
          "Brevin Knight",
          "Cedric Henderson",
          "Ryan Stack",
          "Andre Miller",
          "Trajan Langdon",
          "A.J. Bramlett",
          "Lari Ketner",
          "Chris Mihm",
          "DeSagana Diop",
          "Jeff Trepagnier",
          "Dajuan Wagner",
          "Carlos Boozer",
          "LeBron James",
          "Jason Kapono",
          "Luke Jackson",
          "Anderson Varejão",
          "Martynas Andriuškevičius",
          "Shannon Brown",
          "Daniel Gibson",
          "Ejike Ugboaja",
          "J.J. Hickson",
          "Darnell Jackson",
          "Sasha Kaun",
          "Semih Erden",
          "Christian Eyenga",
          "Danny Green",
          "Luke Harangody",
          "Kyrie Irving",
          "Tristan Thompson",
          "Milan Mačvan",
          "Dion Waiters",
          "Tyler Zeller",
          "Anthony Bennett",
          "Sergey Karasev",
          "Carrick Felix",
          "Joe Harris",
          "Jordan McRae",
          "Cedi Osman",
          "Sir'Dominic Pointer",
          "Marquese Chriss",
          "Ante Žižić",
          "Kay Felder",
          "Jarrett Allen",
          "Jaron Blossomgame",
          "Collin Sexton",
          "Darius Garland",
          "Dylan Windler",
          "Kevin Porter Jr.",
          "Isaac Okoro",
          "Evan Mobley",
          "Khalifa Diop",
          "Isaiah Mobley",
          "Luke Travers"
         ],
         "legendgroup": "",
         "marker": {
          "color": "#636EFA",
          "opacity": 0.7,
          "size": 12,
          "symbol": "circle"
         },
         "mode": "markers",
         "name": "",
         "orientation": "v",
         "showlegend": false,
         "type": "scatter",
         "x": [
          1996,
          1996,
          1996,
          1997,
          1997,
          1997,
          1998,
          1999,
          1999,
          1999,
          1999,
          2000,
          2001,
          2001,
          2002,
          2002,
          2003,
          2003,
          2004,
          2004,
          2005,
          2006,
          2006,
          2006,
          2008,
          2008,
          2008,
          2008,
          2009,
          2009,
          2010,
          2011,
          2011,
          2011,
          2012,
          2012,
          2013,
          2013,
          2013,
          2014,
          2014,
          2015,
          2015,
          2016,
          2016,
          2016,
          2017,
          2017,
          2018,
          2019,
          2019,
          2019,
          2020,
          2021,
          2022,
          2022,
          2022
         ],
         "xaxis": "x",
         "y": [
          200.22222222222217,
          8082.481481481482,
          -646.1481481481482,
          1631.7037037037035,
          1755.5185185185187,
          -47.22222222222217,
          -814.6666666666666,
          10798.333333333332,
          -2986.4814814814813,
          -1348.3703703703704,
          -771.2222222222222,
          -4231.222222222223,
          -4294.666666666667,
          -1029.4074074074074,
          -4017.259259259259,
          12038.555555555555,
          28067.185185185182,
          1140.7407407407409,
          -6735,
          2235.1481481481483,
          -730.9629629629629,
          281.37037037037044,
          1744.4444444444443,
          -861.8888888888889,
          978.5555555555557,
          -2.2962962962963047,
          -832.1481481481482,
          -437.2352941176471,
          -2018.8518518518517,
          5683.851851851852,
          -57.296296296296305,
          5127.185185185184,
          -1669.6296296296296,
          -356.9259259259259,
          -2756.6296296296296,
          -1061.7407407407409,
          -9926.814814814816,
          -3815.4444444444443,
          -1472.9259259259259,
          3654.074074074074,
          705.2962962962963,
          1680.7407407407409,
          -540.9629629629629,
          -3273.666666666667,
          -2632.3703703703704,
          -133.92592592592592,
          2434.814814814815,
          93.72222222222223,
          -438.66666666666697,
          -3737.9629629629635,
          -2674.185185185185,
          669.1481481481483,
          -6645.9629629629635,
          -7918.111111111111,
          -1356.3703703703704,
          -774.2222222222222,
          -855.1481481481482
         ],
         "yaxis": "y"
        }
       ],
       "layout": {
        "legend": {
         "tracegroupgap": 0
        },
        "margin": {
         "t": 60
        },
        "template": {
         "data": {
          "bar": [
           {
            "error_x": {
             "color": "#2a3f5f"
            },
            "error_y": {
             "color": "#2a3f5f"
            },
            "marker": {
             "line": {
              "color": "#E5ECF6",
              "width": 0.5
             },
             "pattern": {
              "fillmode": "overlay",
              "size": 10,
              "solidity": 0.2
             }
            },
            "type": "bar"
           }
          ],
          "barpolar": [
           {
            "marker": {
             "line": {
              "color": "#E5ECF6",
              "width": 0.5
             },
             "pattern": {
              "fillmode": "overlay",
              "size": 10,
              "solidity": 0.2
             }
            },
            "type": "barpolar"
           }
          ],
          "carpet": [
           {
            "aaxis": {
             "endlinecolor": "#2a3f5f",
             "gridcolor": "white",
             "linecolor": "white",
             "minorgridcolor": "white",
             "startlinecolor": "#2a3f5f"
            },
            "baxis": {
             "endlinecolor": "#2a3f5f",
             "gridcolor": "white",
             "linecolor": "white",
             "minorgridcolor": "white",
             "startlinecolor": "#2a3f5f"
            },
            "type": "carpet"
           }
          ],
          "choropleth": [
           {
            "colorbar": {
             "outlinewidth": 0,
             "ticks": ""
            },
            "type": "choropleth"
           }
          ],
          "contour": [
           {
            "colorbar": {
             "outlinewidth": 0,
             "ticks": ""
            },
            "colorscale": [
             [
              0,
              "#0d0887"
             ],
             [
              0.1111111111111111,
              "#46039f"
             ],
             [
              0.2222222222222222,
              "#7201a8"
             ],
             [
              0.3333333333333333,
              "#9c179e"
             ],
             [
              0.4444444444444444,
              "#bd3786"
             ],
             [
              0.5555555555555556,
              "#d8576b"
             ],
             [
              0.6666666666666666,
              "#ed7953"
             ],
             [
              0.7777777777777778,
              "#fb9f3a"
             ],
             [
              0.8888888888888888,
              "#fdca26"
             ],
             [
              1,
              "#f0f921"
             ]
            ],
            "type": "contour"
           }
          ],
          "contourcarpet": [
           {
            "colorbar": {
             "outlinewidth": 0,
             "ticks": ""
            },
            "type": "contourcarpet"
           }
          ],
          "heatmap": [
           {
            "colorbar": {
             "outlinewidth": 0,
             "ticks": ""
            },
            "colorscale": [
             [
              0,
              "#0d0887"
             ],
             [
              0.1111111111111111,
              "#46039f"
             ],
             [
              0.2222222222222222,
              "#7201a8"
             ],
             [
              0.3333333333333333,
              "#9c179e"
             ],
             [
              0.4444444444444444,
              "#bd3786"
             ],
             [
              0.5555555555555556,
              "#d8576b"
             ],
             [
              0.6666666666666666,
              "#ed7953"
             ],
             [
              0.7777777777777778,
              "#fb9f3a"
             ],
             [
              0.8888888888888888,
              "#fdca26"
             ],
             [
              1,
              "#f0f921"
             ]
            ],
            "type": "heatmap"
           }
          ],
          "heatmapgl": [
           {
            "colorbar": {
             "outlinewidth": 0,
             "ticks": ""
            },
            "colorscale": [
             [
              0,
              "#0d0887"
             ],
             [
              0.1111111111111111,
              "#46039f"
             ],
             [
              0.2222222222222222,
              "#7201a8"
             ],
             [
              0.3333333333333333,
              "#9c179e"
             ],
             [
              0.4444444444444444,
              "#bd3786"
             ],
             [
              0.5555555555555556,
              "#d8576b"
             ],
             [
              0.6666666666666666,
              "#ed7953"
             ],
             [
              0.7777777777777778,
              "#fb9f3a"
             ],
             [
              0.8888888888888888,
              "#fdca26"
             ],
             [
              1,
              "#f0f921"
             ]
            ],
            "type": "heatmapgl"
           }
          ],
          "histogram": [
           {
            "marker": {
             "pattern": {
              "fillmode": "overlay",
              "size": 10,
              "solidity": 0.2
             }
            },
            "type": "histogram"
           }
          ],
          "histogram2d": [
           {
            "colorbar": {
             "outlinewidth": 0,
             "ticks": ""
            },
            "colorscale": [
             [
              0,
              "#0d0887"
             ],
             [
              0.1111111111111111,
              "#46039f"
             ],
             [
              0.2222222222222222,
              "#7201a8"
             ],
             [
              0.3333333333333333,
              "#9c179e"
             ],
             [
              0.4444444444444444,
              "#bd3786"
             ],
             [
              0.5555555555555556,
              "#d8576b"
             ],
             [
              0.6666666666666666,
              "#ed7953"
             ],
             [
              0.7777777777777778,
              "#fb9f3a"
             ],
             [
              0.8888888888888888,
              "#fdca26"
             ],
             [
              1,
              "#f0f921"
             ]
            ],
            "type": "histogram2d"
           }
          ],
          "histogram2dcontour": [
           {
            "colorbar": {
             "outlinewidth": 0,
             "ticks": ""
            },
            "colorscale": [
             [
              0,
              "#0d0887"
             ],
             [
              0.1111111111111111,
              "#46039f"
             ],
             [
              0.2222222222222222,
              "#7201a8"
             ],
             [
              0.3333333333333333,
              "#9c179e"
             ],
             [
              0.4444444444444444,
              "#bd3786"
             ],
             [
              0.5555555555555556,
              "#d8576b"
             ],
             [
              0.6666666666666666,
              "#ed7953"
             ],
             [
              0.7777777777777778,
              "#fb9f3a"
             ],
             [
              0.8888888888888888,
              "#fdca26"
             ],
             [
              1,
              "#f0f921"
             ]
            ],
            "type": "histogram2dcontour"
           }
          ],
          "mesh3d": [
           {
            "colorbar": {
             "outlinewidth": 0,
             "ticks": ""
            },
            "type": "mesh3d"
           }
          ],
          "parcoords": [
           {
            "line": {
             "colorbar": {
              "outlinewidth": 0,
              "ticks": ""
             }
            },
            "type": "parcoords"
           }
          ],
          "pie": [
           {
            "automargin": true,
            "type": "pie"
           }
          ],
          "scatter": [
           {
            "fillpattern": {
             "fillmode": "overlay",
             "size": 10,
             "solidity": 0.2
            },
            "type": "scatter"
           }
          ],
          "scatter3d": [
           {
            "line": {
             "colorbar": {
              "outlinewidth": 0,
              "ticks": ""
             }
            },
            "marker": {
             "colorbar": {
              "outlinewidth": 0,
              "ticks": ""
             }
            },
            "type": "scatter3d"
           }
          ],
          "scattercarpet": [
           {
            "marker": {
             "colorbar": {
              "outlinewidth": 0,
              "ticks": ""
             }
            },
            "type": "scattercarpet"
           }
          ],
          "scattergeo": [
           {
            "marker": {
             "colorbar": {
              "outlinewidth": 0,
              "ticks": ""
             }
            },
            "type": "scattergeo"
           }
          ],
          "scattergl": [
           {
            "marker": {
             "colorbar": {
              "outlinewidth": 0,
              "ticks": ""
             }
            },
            "type": "scattergl"
           }
          ],
          "scattermapbox": [
           {
            "marker": {
             "colorbar": {
              "outlinewidth": 0,
              "ticks": ""
             }
            },
            "type": "scattermapbox"
           }
          ],
          "scatterpolar": [
           {
            "marker": {
             "colorbar": {
              "outlinewidth": 0,
              "ticks": ""
             }
            },
            "type": "scatterpolar"
           }
          ],
          "scatterpolargl": [
           {
            "marker": {
             "colorbar": {
              "outlinewidth": 0,
              "ticks": ""
             }
            },
            "type": "scatterpolargl"
           }
          ],
          "scatterternary": [
           {
            "marker": {
             "colorbar": {
              "outlinewidth": 0,
              "ticks": ""
             }
            },
            "type": "scatterternary"
           }
          ],
          "surface": [
           {
            "colorbar": {
             "outlinewidth": 0,
             "ticks": ""
            },
            "colorscale": [
             [
              0,
              "#0d0887"
             ],
             [
              0.1111111111111111,
              "#46039f"
             ],
             [
              0.2222222222222222,
              "#7201a8"
             ],
             [
              0.3333333333333333,
              "#9c179e"
             ],
             [
              0.4444444444444444,
              "#bd3786"
             ],
             [
              0.5555555555555556,
              "#d8576b"
             ],
             [
              0.6666666666666666,
              "#ed7953"
             ],
             [
              0.7777777777777778,
              "#fb9f3a"
             ],
             [
              0.8888888888888888,
              "#fdca26"
             ],
             [
              1,
              "#f0f921"
             ]
            ],
            "type": "surface"
           }
          ],
          "table": [
           {
            "cells": {
             "fill": {
              "color": "#EBF0F8"
             },
             "line": {
              "color": "white"
             }
            },
            "header": {
             "fill": {
              "color": "#C8D4E3"
             },
             "line": {
              "color": "white"
             }
            },
            "type": "table"
           }
          ]
         },
         "layout": {
          "annotationdefaults": {
           "arrowcolor": "#2a3f5f",
           "arrowhead": 0,
           "arrowwidth": 1
          },
          "autotypenumbers": "strict",
          "coloraxis": {
           "colorbar": {
            "outlinewidth": 0,
            "ticks": ""
           }
          },
          "colorscale": {
           "diverging": [
            [
             0,
             "#8e0152"
            ],
            [
             0.1,
             "#c51b7d"
            ],
            [
             0.2,
             "#de77ae"
            ],
            [
             0.3,
             "#f1b6da"
            ],
            [
             0.4,
             "#fde0ef"
            ],
            [
             0.5,
             "#f7f7f7"
            ],
            [
             0.6,
             "#e6f5d0"
            ],
            [
             0.7,
             "#b8e186"
            ],
            [
             0.8,
             "#7fbc41"
            ],
            [
             0.9,
             "#4d9221"
            ],
            [
             1,
             "#276419"
            ]
           ],
           "sequential": [
            [
             0,
             "#0d0887"
            ],
            [
             0.1111111111111111,
             "#46039f"
            ],
            [
             0.2222222222222222,
             "#7201a8"
            ],
            [
             0.3333333333333333,
             "#9c179e"
            ],
            [
             0.4444444444444444,
             "#bd3786"
            ],
            [
             0.5555555555555556,
             "#d8576b"
            ],
            [
             0.6666666666666666,
             "#ed7953"
            ],
            [
             0.7777777777777778,
             "#fb9f3a"
            ],
            [
             0.8888888888888888,
             "#fdca26"
            ],
            [
             1,
             "#f0f921"
            ]
           ],
           "sequentialminus": [
            [
             0,
             "#0d0887"
            ],
            [
             0.1111111111111111,
             "#46039f"
            ],
            [
             0.2222222222222222,
             "#7201a8"
            ],
            [
             0.3333333333333333,
             "#9c179e"
            ],
            [
             0.4444444444444444,
             "#bd3786"
            ],
            [
             0.5555555555555556,
             "#d8576b"
            ],
            [
             0.6666666666666666,
             "#ed7953"
            ],
            [
             0.7777777777777778,
             "#fb9f3a"
            ],
            [
             0.8888888888888888,
             "#fdca26"
            ],
            [
             1,
             "#f0f921"
            ]
           ]
          },
          "colorway": [
           "#636efa",
           "#EF553B",
           "#00cc96",
           "#ab63fa",
           "#FFA15A",
           "#19d3f3",
           "#FF6692",
           "#B6E880",
           "#FF97FF",
           "#FECB52"
          ],
          "font": {
           "color": "#2a3f5f"
          },
          "geo": {
           "bgcolor": "white",
           "lakecolor": "white",
           "landcolor": "#E5ECF6",
           "showlakes": true,
           "showland": true,
           "subunitcolor": "white"
          },
          "hoverlabel": {
           "align": "left"
          },
          "hovermode": "closest",
          "mapbox": {
           "style": "light"
          },
          "paper_bgcolor": "white",
          "plot_bgcolor": "#E5ECF6",
          "polar": {
           "angularaxis": {
            "gridcolor": "white",
            "linecolor": "white",
            "ticks": ""
           },
           "bgcolor": "#E5ECF6",
           "radialaxis": {
            "gridcolor": "white",
            "linecolor": "white",
            "ticks": ""
           }
          },
          "scene": {
           "xaxis": {
            "backgroundcolor": "#E5ECF6",
            "gridcolor": "white",
            "gridwidth": 2,
            "linecolor": "white",
            "showbackground": true,
            "ticks": "",
            "zerolinecolor": "white"
           },
           "yaxis": {
            "backgroundcolor": "#E5ECF6",
            "gridcolor": "white",
            "gridwidth": 2,
            "linecolor": "white",
            "showbackground": true,
            "ticks": "",
            "zerolinecolor": "white"
           },
           "zaxis": {
            "backgroundcolor": "#E5ECF6",
            "gridcolor": "white",
            "gridwidth": 2,
            "linecolor": "white",
            "showbackground": true,
            "ticks": "",
            "zerolinecolor": "white"
           }
          },
          "shapedefaults": {
           "line": {
            "color": "#2a3f5f"
           }
          },
          "ternary": {
           "aaxis": {
            "gridcolor": "white",
            "linecolor": "white",
            "ticks": ""
           },
           "baxis": {
            "gridcolor": "white",
            "linecolor": "white",
            "ticks": ""
           },
           "bgcolor": "#E5ECF6",
           "caxis": {
            "gridcolor": "white",
            "linecolor": "white",
            "ticks": ""
           }
          },
          "title": {
           "x": 0.05
          },
          "xaxis": {
           "automargin": true,
           "gridcolor": "white",
           "linecolor": "white",
           "ticks": "",
           "title": {
            "standoff": 15
           },
           "zerolinecolor": "white",
           "zerolinewidth": 2
          },
          "yaxis": {
           "automargin": true,
           "gridcolor": "white",
           "linecolor": "white",
           "ticks": "",
           "title": {
            "standoff": 15
           },
           "zerolinecolor": "white",
           "zerolinewidth": 2
          }
         }
        },
        "title": {
         "text": "PTS Difference vs Season for Teams"
        },
        "xaxis": {
         "anchor": "y",
         "domain": [
          0,
          1
         ],
         "title": {
          "text": "Season"
         }
        },
        "yaxis": {
         "anchor": "x",
         "domain": [
          0,
          1
         ],
         "title": {
          "text": "PTS Difference"
         }
        }
       }
      }
     },
     "metadata": {},
     "output_type": "display_data"
    }
   ],
   "source": [
    "hover_template_team_season = Template('<b>{{team_name}}</b><br><br>'\n",
    "                          'Season: {{season}} <br>' +\n",
    "                          '{{selected_stat}} diff to avg players: {{diff}}<br>' +\n",
    "                          '{{selected_stat}}: {{stat}} <br><extra></extra>')\n",
    "\n",
    "# change all relevant_stat ranks to 'Not Ranked' if the value is NaN in the df_career_na_filled dataframe\n",
    "for stat in relevant_stats:\n",
    "    df_career_na_filled.loc[df_career_na_filled[stat + '_rank'].isna(), stat + '_rank'] = 'Not Ranked'\n",
    "\n",
    "# create a scatter plot with the average of each team for each season. The seasons should be the x axis and the selected relevant stat differences should be the y axis\n",
    "def create_team_scatter(selected_stat, selected_team, show_players):\n",
    "    # add grey dots for all teams\n",
    "    fig = px.scatter(df_team_avg_by_season, x='Season', y=f'{selected_stat}_diff', hover_name='Tm',\n",
    "                        hover_data={'Tm': True, selected_stat: True, f'{selected_stat}_diff': True},\n",
    "                        color_discrete_sequence=['#7F7F7F'])\n",
    "    \n",
    "    # add a red dot for all stats of the selected team\n",
    "    fig.add_trace(px.scatter(df_team_avg_by_season[df_team_avg_by_season['Tm'] == selected_team], x='Season', y=f'{selected_stat}_diff', hover_name='Tm',\n",
    "                                hover_data={'Tm': True, selected_stat: True, f'{selected_stat}_diff': True},\n",
    "                                color_discrete_sequence=['red']).data[0])\n",
    "    \n",
    "    # styling the figure\n",
    "    fig.update_traces(hovertemplate=hover_template_team_season.render(team_name='%{hovertext}',\n",
    "        season='%{x}',\n",
    "        diff='%{y:.2f}',\n",
    "        stat='%{customdata[1]:.2f}',\n",
    "        selected_stat=selected_stat))\n",
    "    \n",
    "    if show_players:\n",
    "        # add a blue dot for each player of the selected team\n",
    "        fig.add_trace(px.scatter(df_career_na_filled[df_career_na_filled['Tm'] == selected_team], x='Season', y=f'{selected_stat}_diff', hover_name='Player',\n",
    "                                    hover_data={'Player': True, selected_stat: True, f'{selected_stat}_diff': True, f'{selected_stat}_rank': True, 'Pk': True},\n",
    "                                    color_discrete_sequence=['#636EFA']).data[0])\n",
    "        # make blue dots semi-transparent\n",
    "        fig.update_traces(marker=dict(size=12, opacity=0.7), showlegend=False, selector=dict(marker_color='#636EFA'))\n",
    "    \n",
    "    # add hover info for the blue dots\n",
    "    fig.update_traces(hovertemplate=hover_template_player.render(player_name='%{hovertext}',\n",
    "        pick='%{customdata[3]}',\n",
    "        season='%{x}',\n",
    "        selected_stat=selected_stat,\n",
    "        diff='%{y:.2f}',\n",
    "        rank='%{customdata[2]}',\n",
    "        raw_stat='%{customdata[1]:.2f}'),\n",
    "        selector=dict(marker_color='#636EFA'))\n",
    "\n",
    "    \n",
    "    fig.update_traces(marker=dict(size=12), showlegend=False)\n",
    "    fig.update_layout(title=f'{selected_stat} Difference vs Season for Teams',\n",
    "                      xaxis_title='Season', yaxis_title=f'{selected_stat} Difference')\n",
    "    fig.show()\n",
    "\n",
    "# create a dropdown widget with all relevant stats\n",
    "stat_dropdown_team_scatter = widgets.Dropdown(\n",
    "    options=relevant_stats,\n",
    "    description='Select Stat:',\n",
    "    disabled=False,\n",
    ")\n",
    "\n",
    "# create a dropdown widget with all teams\n",
    "team_dropdown_team_scatter = widgets.Dropdown(\n",
    "    options=df_team_avg_by_season['Tm'].unique().tolist(),\n",
    "    description='Select Team:',\n",
    "    disabled=False,\n",
    ")\n",
    "\n",
    "# create a checkbox widget to toggle between showing players or not\n",
    "player_checkbox_team_scatter = widgets.Checkbox(\n",
    "    value=True,\n",
    "    description='Show Players selected by Team',\n",
    "    disabled=False,\n",
    "    indent=False\n",
    ")\n",
    "\n",
    "# Define the output area to display the scatter plot\n",
    "output_team_scatter = widgets.Output()\n",
    "\n",
    "# Observe changes in the value of the dropdown and call the function\n",
    "def on_value_change_team_scatter(change):\n",
    "    clear_output()\n",
    "    output_team_scatter.clear_output()\n",
    "    selected_stat = stat_dropdown_team_scatter.value\n",
    "    selected_team = team_dropdown_team_scatter.value\n",
    "    show_players = player_checkbox_team_scatter.value\n",
    "\n",
    "    display(stat_dropdown_team_scatter)\n",
    "    display(team_dropdown_team_scatter)\n",
    "    display(player_checkbox_team_scatter)\n",
    "    with output_team_scatter:\n",
    "        create_team_scatter(selected_stat, selected_team, show_players)\n",
    "\n",
    "stat_dropdown_team_scatter.observe(on_value_change_team_scatter, names='value')\n",
    "team_dropdown_team_scatter.observe(on_value_change_team_scatter, names='value')\n",
    "player_checkbox_team_scatter.observe(on_value_change_team_scatter, names='value')\n",
    "\n",
    "# Display the dropdown and the output area\n",
    "display(stat_dropdown_team_scatter)\n",
    "display(team_dropdown_team_scatter)\n",
    "display(player_checkbox_team_scatter)\n",
    "display(output_team_scatter)"
   ]
  },
  {
   "cell_type": "markdown",
   "metadata": {},
   "source": [
    "# Team Analysis\n",
    "<a id='team_analysis'></a>"
   ]
  },
  {
   "cell_type": "markdown",
   "metadata": {},
   "source": [
    "In this section, each team's draft performance is aggregated over the entire selected time period. In the scatter plot below, the average differences for the selected statistic are plotted against the average draft position of each team.\n",
    "\n",
    "Be aware that the minimum games restriction does not apply to this section."
   ]
  },
  {
   "cell_type": "code",
   "execution_count": 17,
   "metadata": {},
   "outputs": [],
   "source": [
    "df_team_avg = clean_team_names(df_career_na_filled).groupby('Tm').mean(numeric_only=True)\n",
    "df_team_avg = df_team_avg.reset_index()"
   ]
  },
  {
   "cell_type": "code",
   "execution_count": 18,
   "metadata": {},
   "outputs": [
    {
     "data": {
      "application/vnd.jupyter.widget-view+json": {
       "model_id": "b386cb2419b64ad4b9434624640a5943",
       "version_major": 2,
       "version_minor": 0
      },
      "text/plain": [
       "Dropdown(description='Select Stat:', options=('PTS', 'TRB', 'AST', 'WS', 'WS/48', 'BPM', 'VORP', 'PIE', 'OFF_R…"
      ]
     },
     "metadata": {},
     "output_type": "display_data"
    },
    {
     "data": {
      "application/vnd.plotly.v1+json": {
       "config": {
        "plotlyServerURL": "https://plot.ly"
       },
       "data": [
        {
         "customdata": [
          [
           "CLE",
           3501.6666666666665
          ],
          [
           "UTA",
           3000.637931034483
          ],
          [
           "DEN",
           2908.1071428571427
          ],
          [
           "MIL",
           3118.6938775510203
          ],
          [
           "TOR",
           4095.1132075471696
          ],
          [
           "PHI",
           3678.842857142857
          ],
          [
           "LAL",
           3282.2978723404253
          ],
          [
           "BOS",
           3008.2542372881358
          ],
          [
           "SAS",
           2735.52
          ],
          [
           "IND",
           2606.9795918367345
          ],
          [
           "DET",
           2488.898305084746
          ],
          [
           "POR",
           3264.2096774193546
          ],
          [
           "MIA",
           3228.5
          ],
          [
           "MEM",
           2955.9859154929577
          ],
          [
           "CHI",
           3896.6785714285716
          ],
          [
           "HOU",
           2545.3968253968255
          ],
          [
           "ATL",
           2867.655737704918
          ],
          [
           "NOP",
           3168.0263157894738
          ],
          [
           "GSW",
           3437.796296296296
          ],
          [
           "OKC",
           2934.68
          ],
          [
           "SAC",
           3337.698113207547
          ],
          [
           "NYK",
           2807.191489361702
          ],
          [
           "LAC",
           2713.7241379310344
          ],
          [
           "DAL",
           2264.96
          ],
          [
           "CHO",
           2865.8039215686276
          ],
          [
           "ORL",
           3089.410714285714
          ],
          [
           "BRK",
           2841.342857142857
          ],
          [
           "MIN",
           2869.719298245614
          ],
          [
           "WAS",
           2878.909090909091
          ],
          [
           "PHO",
           1449.7692307692307
          ]
         ],
         "hovertemplate": "<b>%{hovertext}</b><br><br>Average Pick: %{x} <br>PTS diff to avg players: %{y:.2f}<br>PTS: %{customdata[1]:.2f} <br><extra></extra>",
         "hovertext": [
          "CLE",
          "UTA",
          "DEN",
          "MIL",
          "TOR",
          "PHI",
          "LAL",
          "BOS",
          "SAS",
          "IND",
          "DET",
          "POR",
          "MIA",
          "MEM",
          "CHI",
          "HOU",
          "ATL",
          "NOP",
          "GSW",
          "OKC",
          "SAC",
          "NYK",
          "LAC",
          "DAL",
          "CHO",
          "ORL",
          "BRK",
          "MIN",
          "WAS",
          "PHO"
         ],
         "legendgroup": "",
         "marker": {
          "color": "#7F7F7F",
          "size": 12,
          "symbol": "circle"
         },
         "mode": "markers",
         "name": "",
         "orientation": "v",
         "showlegend": false,
         "type": "scatter",
         "x": [
          29.07017543859649,
          32.706896551724135,
          31.982142857142858,
          29.551020408163264,
          29.358490566037737,
          31.014285714285716,
          33.42553191489362,
          30.779661016949152,
          38.04,
          30.6734693877551,
          31.847457627118644,
          29.451612903225808,
          32.47222222222222,
          29.323943661971832,
          25.642857142857142,
          30.952380952380953,
          29.737704918032787,
          27.94736842105263,
          26.61111111111111,
          30.866666666666667,
          26.245283018867923,
          29.680851063829788,
          29.689655172413794,
          36.04,
          26.980392156862745,
          26.160714285714285,
          30.114285714285714,
          28.29824561403509,
          28.145454545454545,
          41.84615384615385
         ],
         "xaxis": "x",
         "y": [
          89.45753545082736,
          156.5785440613026,
          -23.668650793650833,
          23.60857676403886,
          694.9197239692523,
          745.3599323062558,
          677.2532679738562,
          191.41494036409287,
          770.0289978213508,
          -181.50859788359796,
          -363.7075994239504,
          412.305256869773,
          507.3274403897362,
          -244.90107091349842,
          183.0321593915343,
          -158.59692827748384,
          -145.87658041358623,
          -159.7397660818714,
          24.52263374485594,
          244.9281590413943,
          -180.6640152916513,
          -180.0131993695824,
          -368.81631733153034,
          -94.47450435729854,
          -784.3718228031954,
          -431.3187003968255,
          -85.99246031746029,
          -644.229938271605,
          -525.9989057239058,
          -672.6787120831239
         ],
         "yaxis": "y"
        }
       ],
       "layout": {
        "legend": {
         "tracegroupgap": 0
        },
        "margin": {
         "t": 60
        },
        "template": {
         "data": {
          "bar": [
           {
            "error_x": {
             "color": "#2a3f5f"
            },
            "error_y": {
             "color": "#2a3f5f"
            },
            "marker": {
             "line": {
              "color": "#E5ECF6",
              "width": 0.5
             },
             "pattern": {
              "fillmode": "overlay",
              "size": 10,
              "solidity": 0.2
             }
            },
            "type": "bar"
           }
          ],
          "barpolar": [
           {
            "marker": {
             "line": {
              "color": "#E5ECF6",
              "width": 0.5
             },
             "pattern": {
              "fillmode": "overlay",
              "size": 10,
              "solidity": 0.2
             }
            },
            "type": "barpolar"
           }
          ],
          "carpet": [
           {
            "aaxis": {
             "endlinecolor": "#2a3f5f",
             "gridcolor": "white",
             "linecolor": "white",
             "minorgridcolor": "white",
             "startlinecolor": "#2a3f5f"
            },
            "baxis": {
             "endlinecolor": "#2a3f5f",
             "gridcolor": "white",
             "linecolor": "white",
             "minorgridcolor": "white",
             "startlinecolor": "#2a3f5f"
            },
            "type": "carpet"
           }
          ],
          "choropleth": [
           {
            "colorbar": {
             "outlinewidth": 0,
             "ticks": ""
            },
            "type": "choropleth"
           }
          ],
          "contour": [
           {
            "colorbar": {
             "outlinewidth": 0,
             "ticks": ""
            },
            "colorscale": [
             [
              0,
              "#0d0887"
             ],
             [
              0.1111111111111111,
              "#46039f"
             ],
             [
              0.2222222222222222,
              "#7201a8"
             ],
             [
              0.3333333333333333,
              "#9c179e"
             ],
             [
              0.4444444444444444,
              "#bd3786"
             ],
             [
              0.5555555555555556,
              "#d8576b"
             ],
             [
              0.6666666666666666,
              "#ed7953"
             ],
             [
              0.7777777777777778,
              "#fb9f3a"
             ],
             [
              0.8888888888888888,
              "#fdca26"
             ],
             [
              1,
              "#f0f921"
             ]
            ],
            "type": "contour"
           }
          ],
          "contourcarpet": [
           {
            "colorbar": {
             "outlinewidth": 0,
             "ticks": ""
            },
            "type": "contourcarpet"
           }
          ],
          "heatmap": [
           {
            "colorbar": {
             "outlinewidth": 0,
             "ticks": ""
            },
            "colorscale": [
             [
              0,
              "#0d0887"
             ],
             [
              0.1111111111111111,
              "#46039f"
             ],
             [
              0.2222222222222222,
              "#7201a8"
             ],
             [
              0.3333333333333333,
              "#9c179e"
             ],
             [
              0.4444444444444444,
              "#bd3786"
             ],
             [
              0.5555555555555556,
              "#d8576b"
             ],
             [
              0.6666666666666666,
              "#ed7953"
             ],
             [
              0.7777777777777778,
              "#fb9f3a"
             ],
             [
              0.8888888888888888,
              "#fdca26"
             ],
             [
              1,
              "#f0f921"
             ]
            ],
            "type": "heatmap"
           }
          ],
          "heatmapgl": [
           {
            "colorbar": {
             "outlinewidth": 0,
             "ticks": ""
            },
            "colorscale": [
             [
              0,
              "#0d0887"
             ],
             [
              0.1111111111111111,
              "#46039f"
             ],
             [
              0.2222222222222222,
              "#7201a8"
             ],
             [
              0.3333333333333333,
              "#9c179e"
             ],
             [
              0.4444444444444444,
              "#bd3786"
             ],
             [
              0.5555555555555556,
              "#d8576b"
             ],
             [
              0.6666666666666666,
              "#ed7953"
             ],
             [
              0.7777777777777778,
              "#fb9f3a"
             ],
             [
              0.8888888888888888,
              "#fdca26"
             ],
             [
              1,
              "#f0f921"
             ]
            ],
            "type": "heatmapgl"
           }
          ],
          "histogram": [
           {
            "marker": {
             "pattern": {
              "fillmode": "overlay",
              "size": 10,
              "solidity": 0.2
             }
            },
            "type": "histogram"
           }
          ],
          "histogram2d": [
           {
            "colorbar": {
             "outlinewidth": 0,
             "ticks": ""
            },
            "colorscale": [
             [
              0,
              "#0d0887"
             ],
             [
              0.1111111111111111,
              "#46039f"
             ],
             [
              0.2222222222222222,
              "#7201a8"
             ],
             [
              0.3333333333333333,
              "#9c179e"
             ],
             [
              0.4444444444444444,
              "#bd3786"
             ],
             [
              0.5555555555555556,
              "#d8576b"
             ],
             [
              0.6666666666666666,
              "#ed7953"
             ],
             [
              0.7777777777777778,
              "#fb9f3a"
             ],
             [
              0.8888888888888888,
              "#fdca26"
             ],
             [
              1,
              "#f0f921"
             ]
            ],
            "type": "histogram2d"
           }
          ],
          "histogram2dcontour": [
           {
            "colorbar": {
             "outlinewidth": 0,
             "ticks": ""
            },
            "colorscale": [
             [
              0,
              "#0d0887"
             ],
             [
              0.1111111111111111,
              "#46039f"
             ],
             [
              0.2222222222222222,
              "#7201a8"
             ],
             [
              0.3333333333333333,
              "#9c179e"
             ],
             [
              0.4444444444444444,
              "#bd3786"
             ],
             [
              0.5555555555555556,
              "#d8576b"
             ],
             [
              0.6666666666666666,
              "#ed7953"
             ],
             [
              0.7777777777777778,
              "#fb9f3a"
             ],
             [
              0.8888888888888888,
              "#fdca26"
             ],
             [
              1,
              "#f0f921"
             ]
            ],
            "type": "histogram2dcontour"
           }
          ],
          "mesh3d": [
           {
            "colorbar": {
             "outlinewidth": 0,
             "ticks": ""
            },
            "type": "mesh3d"
           }
          ],
          "parcoords": [
           {
            "line": {
             "colorbar": {
              "outlinewidth": 0,
              "ticks": ""
             }
            },
            "type": "parcoords"
           }
          ],
          "pie": [
           {
            "automargin": true,
            "type": "pie"
           }
          ],
          "scatter": [
           {
            "fillpattern": {
             "fillmode": "overlay",
             "size": 10,
             "solidity": 0.2
            },
            "type": "scatter"
           }
          ],
          "scatter3d": [
           {
            "line": {
             "colorbar": {
              "outlinewidth": 0,
              "ticks": ""
             }
            },
            "marker": {
             "colorbar": {
              "outlinewidth": 0,
              "ticks": ""
             }
            },
            "type": "scatter3d"
           }
          ],
          "scattercarpet": [
           {
            "marker": {
             "colorbar": {
              "outlinewidth": 0,
              "ticks": ""
             }
            },
            "type": "scattercarpet"
           }
          ],
          "scattergeo": [
           {
            "marker": {
             "colorbar": {
              "outlinewidth": 0,
              "ticks": ""
             }
            },
            "type": "scattergeo"
           }
          ],
          "scattergl": [
           {
            "marker": {
             "colorbar": {
              "outlinewidth": 0,
              "ticks": ""
             }
            },
            "type": "scattergl"
           }
          ],
          "scattermapbox": [
           {
            "marker": {
             "colorbar": {
              "outlinewidth": 0,
              "ticks": ""
             }
            },
            "type": "scattermapbox"
           }
          ],
          "scatterpolar": [
           {
            "marker": {
             "colorbar": {
              "outlinewidth": 0,
              "ticks": ""
             }
            },
            "type": "scatterpolar"
           }
          ],
          "scatterpolargl": [
           {
            "marker": {
             "colorbar": {
              "outlinewidth": 0,
              "ticks": ""
             }
            },
            "type": "scatterpolargl"
           }
          ],
          "scatterternary": [
           {
            "marker": {
             "colorbar": {
              "outlinewidth": 0,
              "ticks": ""
             }
            },
            "type": "scatterternary"
           }
          ],
          "surface": [
           {
            "colorbar": {
             "outlinewidth": 0,
             "ticks": ""
            },
            "colorscale": [
             [
              0,
              "#0d0887"
             ],
             [
              0.1111111111111111,
              "#46039f"
             ],
             [
              0.2222222222222222,
              "#7201a8"
             ],
             [
              0.3333333333333333,
              "#9c179e"
             ],
             [
              0.4444444444444444,
              "#bd3786"
             ],
             [
              0.5555555555555556,
              "#d8576b"
             ],
             [
              0.6666666666666666,
              "#ed7953"
             ],
             [
              0.7777777777777778,
              "#fb9f3a"
             ],
             [
              0.8888888888888888,
              "#fdca26"
             ],
             [
              1,
              "#f0f921"
             ]
            ],
            "type": "surface"
           }
          ],
          "table": [
           {
            "cells": {
             "fill": {
              "color": "#EBF0F8"
             },
             "line": {
              "color": "white"
             }
            },
            "header": {
             "fill": {
              "color": "#C8D4E3"
             },
             "line": {
              "color": "white"
             }
            },
            "type": "table"
           }
          ]
         },
         "layout": {
          "annotationdefaults": {
           "arrowcolor": "#2a3f5f",
           "arrowhead": 0,
           "arrowwidth": 1
          },
          "autotypenumbers": "strict",
          "coloraxis": {
           "colorbar": {
            "outlinewidth": 0,
            "ticks": ""
           }
          },
          "colorscale": {
           "diverging": [
            [
             0,
             "#8e0152"
            ],
            [
             0.1,
             "#c51b7d"
            ],
            [
             0.2,
             "#de77ae"
            ],
            [
             0.3,
             "#f1b6da"
            ],
            [
             0.4,
             "#fde0ef"
            ],
            [
             0.5,
             "#f7f7f7"
            ],
            [
             0.6,
             "#e6f5d0"
            ],
            [
             0.7,
             "#b8e186"
            ],
            [
             0.8,
             "#7fbc41"
            ],
            [
             0.9,
             "#4d9221"
            ],
            [
             1,
             "#276419"
            ]
           ],
           "sequential": [
            [
             0,
             "#0d0887"
            ],
            [
             0.1111111111111111,
             "#46039f"
            ],
            [
             0.2222222222222222,
             "#7201a8"
            ],
            [
             0.3333333333333333,
             "#9c179e"
            ],
            [
             0.4444444444444444,
             "#bd3786"
            ],
            [
             0.5555555555555556,
             "#d8576b"
            ],
            [
             0.6666666666666666,
             "#ed7953"
            ],
            [
             0.7777777777777778,
             "#fb9f3a"
            ],
            [
             0.8888888888888888,
             "#fdca26"
            ],
            [
             1,
             "#f0f921"
            ]
           ],
           "sequentialminus": [
            [
             0,
             "#0d0887"
            ],
            [
             0.1111111111111111,
             "#46039f"
            ],
            [
             0.2222222222222222,
             "#7201a8"
            ],
            [
             0.3333333333333333,
             "#9c179e"
            ],
            [
             0.4444444444444444,
             "#bd3786"
            ],
            [
             0.5555555555555556,
             "#d8576b"
            ],
            [
             0.6666666666666666,
             "#ed7953"
            ],
            [
             0.7777777777777778,
             "#fb9f3a"
            ],
            [
             0.8888888888888888,
             "#fdca26"
            ],
            [
             1,
             "#f0f921"
            ]
           ]
          },
          "colorway": [
           "#636efa",
           "#EF553B",
           "#00cc96",
           "#ab63fa",
           "#FFA15A",
           "#19d3f3",
           "#FF6692",
           "#B6E880",
           "#FF97FF",
           "#FECB52"
          ],
          "font": {
           "color": "#2a3f5f"
          },
          "geo": {
           "bgcolor": "white",
           "lakecolor": "white",
           "landcolor": "#E5ECF6",
           "showlakes": true,
           "showland": true,
           "subunitcolor": "white"
          },
          "hoverlabel": {
           "align": "left"
          },
          "hovermode": "closest",
          "mapbox": {
           "style": "light"
          },
          "paper_bgcolor": "white",
          "plot_bgcolor": "#E5ECF6",
          "polar": {
           "angularaxis": {
            "gridcolor": "white",
            "linecolor": "white",
            "ticks": ""
           },
           "bgcolor": "#E5ECF6",
           "radialaxis": {
            "gridcolor": "white",
            "linecolor": "white",
            "ticks": ""
           }
          },
          "scene": {
           "xaxis": {
            "backgroundcolor": "#E5ECF6",
            "gridcolor": "white",
            "gridwidth": 2,
            "linecolor": "white",
            "showbackground": true,
            "ticks": "",
            "zerolinecolor": "white"
           },
           "yaxis": {
            "backgroundcolor": "#E5ECF6",
            "gridcolor": "white",
            "gridwidth": 2,
            "linecolor": "white",
            "showbackground": true,
            "ticks": "",
            "zerolinecolor": "white"
           },
           "zaxis": {
            "backgroundcolor": "#E5ECF6",
            "gridcolor": "white",
            "gridwidth": 2,
            "linecolor": "white",
            "showbackground": true,
            "ticks": "",
            "zerolinecolor": "white"
           }
          },
          "shapedefaults": {
           "line": {
            "color": "#2a3f5f"
           }
          },
          "ternary": {
           "aaxis": {
            "gridcolor": "white",
            "linecolor": "white",
            "ticks": ""
           },
           "baxis": {
            "gridcolor": "white",
            "linecolor": "white",
            "ticks": ""
           },
           "bgcolor": "#E5ECF6",
           "caxis": {
            "gridcolor": "white",
            "linecolor": "white",
            "ticks": ""
           }
          },
          "title": {
           "x": 0.05
          },
          "xaxis": {
           "automargin": true,
           "gridcolor": "white",
           "linecolor": "white",
           "ticks": "",
           "title": {
            "standoff": 15
           },
           "zerolinecolor": "white",
           "zerolinewidth": 2
          },
          "yaxis": {
           "automargin": true,
           "gridcolor": "white",
           "linecolor": "white",
           "ticks": "",
           "title": {
            "standoff": 15
           },
           "zerolinecolor": "white",
           "zerolinewidth": 2
          }
         }
        },
        "title": {
         "text": "PTS Difference vs Average Draft Position for Teams"
        },
        "xaxis": {
         "anchor": "y",
         "domain": [
          0,
          1
         ],
         "title": {
          "text": "Average Draft Position"
         }
        },
        "yaxis": {
         "anchor": "x",
         "domain": [
          0,
          1
         ],
         "title": {
          "text": "PTS Difference"
         }
        }
       }
      }
     },
     "metadata": {},
     "output_type": "display_data"
    }
   ],
   "source": [
    "# define hover template for team vs avg pick scatter plot\n",
    "hover_template_team = Template('<b>{{team_name}}</b><br><br>' +\n",
    "                            'Average Pick: {{pick}} <br>' +\n",
    "                            '{{selected_stat}} diff to avg players: {{diff}}<br>' +\n",
    "                            '{{selected_stat}}: {{stat}} <br><extra></extra>')\n",
    "\n",
    "# create a scatter plot with the difference of the selected stat for each team. The y axis should be the selected stat and the x axis should be the average Pk\n",
    "def teams_vs_avg_pick_scatter(selected_stat):\n",
    "    fig = px.scatter(df_team_avg, x='Pk', y=f'{selected_stat}_diff', hover_name='Team',\n",
    "                     hover_data={'Team': True, selected_stat: True, f'{selected_stat}_diff': True, 'Pk': True},\n",
    "                        color_discrete_sequence=['#7F7F7F'])\n",
    "    \n",
    "    # styling the figure\n",
    "    fig.update_traces(hovertemplate=hover_template_team.render(team_name='%{hovertext}',\n",
    "        pick='%{x}',\n",
    "        diff='%{y:.2f}',\n",
    "        stat='%{customdata[1]:.2f}',\n",
    "        selected_stat=selected_stat))\n",
    "    \n",
    "    fig.update_traces(marker=dict(size=12), showlegend=False)\n",
    "    fig.update_layout(title=f'{selected_stat} Difference vs Average Draft Position for Teams',\n",
    "                      xaxis_title='Average Draft Position', yaxis_title=f'{selected_stat} Difference')\n",
    "    fig.show()\n",
    "\n",
    "# create a dropdown widget with all relevant stats\n",
    "stat_dropdown_avg_position_scatter = widgets.Dropdown(\n",
    "    options=relevant_stats,\n",
    "    description='Select Stat:',\n",
    "    disabled=False,\n",
    ")\n",
    "\n",
    "# Define the output area to display the scatter plot\n",
    "output_avg_position_scatter = widgets.Output()\n",
    "\n",
    "# Observe changes in the value of the dropdown and call the function\n",
    "def on_value_change_avg_position_scatter(change):\n",
    "    clear_output()\n",
    "    output_avg_position_scatter.clear_output()\n",
    "    selected_stat = stat_dropdown_avg_position_scatter.value\n",
    "\n",
    "    display(stat_dropdown_avg_position_scatter)\n",
    "    with output_avg_position_scatter:\n",
    "        teams_vs_avg_pick_scatter(selected_stat)\n",
    "\n",
    "stat_dropdown_avg_position_scatter.observe(on_value_change_avg_position_scatter, names='value')\n",
    "\n",
    "# Display the dropdown and the output area\n",
    "display(stat_dropdown_avg_position_scatter)\n",
    "display(output_avg_position_scatter)"
   ]
  },
  {
   "cell_type": "markdown",
   "metadata": {},
   "source": [
    "The table below shows the team with the highest difference for each statistic."
   ]
  },
  {
   "cell_type": "code",
   "execution_count": 19,
   "metadata": {},
   "outputs": [
    {
     "data": {
      "text/html": [
       "<h3>Best Team by Stat</h3>"
      ],
      "text/plain": [
       "<IPython.core.display.HTML object>"
      ]
     },
     "metadata": {},
     "output_type": "display_data"
    },
    {
     "data": {
      "text/html": [
       "<table>\n",
       "<tbody>\n",
       "<tr><td>PTS       </td><td>SAS</td></tr>\n",
       "<tr><td>TRB       </td><td>TOR</td></tr>\n",
       "<tr><td>AST       </td><td>SAS</td></tr>\n",
       "<tr><td>WS        </td><td>SAS</td></tr>\n",
       "<tr><td>WS/48     </td><td>DEN</td></tr>\n",
       "<tr><td>BPM       </td><td>DEN</td></tr>\n",
       "<tr><td>VORP      </td><td>SAS</td></tr>\n",
       "<tr><td>PIE       </td><td>DEN</td></tr>\n",
       "<tr><td>OFF_RATING</td><td>DEN</td></tr>\n",
       "<tr><td>DEF_RATING</td><td>SAS</td></tr>\n",
       "<tr><td>NET_RATING</td><td>DEN</td></tr>\n",
       "</tbody>\n",
       "</table>"
      ],
      "text/plain": [
       "<IPython.core.display.HTML object>"
      ]
     },
     "metadata": {},
     "output_type": "display_data"
    }
   ],
   "source": [
    "# create a best_team_by_stat dict with all stats as keys and the best team for that stat as value\n",
    "best_team_by_stat = {}\n",
    "for stat in relevant_stats:\n",
    "    best_team_by_stat[stat] = df_team_avg[df_team_avg[f'{stat}_diff'] == df_team_avg[f'{stat}_diff'].max()][['Tm', f'{stat}_diff']].values[0][0]\n",
    "\n",
    "# transform the dict into a dataframe\n",
    "df_best_team_by_stat = pd.DataFrame.from_dict(best_team_by_stat, orient='index', columns=['Team'])\n",
    "\n",
    "# display a title for the table\n",
    "display(HTML(\"<h3>Best Team by Stat</h3>\"))\n",
    "# display the dataframe as a table\n",
    "display(HTML(tabulate(df_best_team_by_stat, tablefmt=\"html\")))"
   ]
  },
  {
   "cell_type": "markdown",
   "metadata": {},
   "source": [
    "# Aggregated Team Analysis\n",
    "<a id='aggr_team_analysis'></a>"
   ]
  },
  {
   "cell_type": "markdown",
   "metadata": {},
   "source": [
    "In this section, we attempt to aggregate all statistics by creating a weighted average rank for each team. The weights for each statistic can be set using the sliders below."
   ]
  },
  {
   "cell_type": "code",
   "execution_count": 20,
   "metadata": {},
   "outputs": [
    {
     "data": {
      "application/vnd.jupyter.widget-view+json": {
       "model_id": "a4bf45355bb4438ea5beea16915aacd8",
       "version_major": 2,
       "version_minor": 0
      },
      "text/plain": [
       "FloatSlider(value=1.0, continuous_update=False, description='PTS Weight:', layout=Layout(width='600px'), max=1…"
      ]
     },
     "metadata": {},
     "output_type": "display_data"
    },
    {
     "data": {
      "application/vnd.jupyter.widget-view+json": {
       "model_id": "3810d23f808c4b908c749c9faeb2ab37",
       "version_major": 2,
       "version_minor": 0
      },
      "text/plain": [
       "FloatSlider(value=1.0, continuous_update=False, description='TRB Weight:', layout=Layout(width='600px'), max=1…"
      ]
     },
     "metadata": {},
     "output_type": "display_data"
    },
    {
     "data": {
      "application/vnd.jupyter.widget-view+json": {
       "model_id": "1b4c0b0e3ada4ed0a2acfaa0dd2f8dd9",
       "version_major": 2,
       "version_minor": 0
      },
      "text/plain": [
       "FloatSlider(value=1.0, continuous_update=False, description='AST Weight:', layout=Layout(width='600px'), max=1…"
      ]
     },
     "metadata": {},
     "output_type": "display_data"
    },
    {
     "data": {
      "application/vnd.jupyter.widget-view+json": {
       "model_id": "0d01ee2f81b441309cd0ace08b1774b8",
       "version_major": 2,
       "version_minor": 0
      },
      "text/plain": [
       "FloatSlider(value=1.0, continuous_update=False, description='WS Weight:', layout=Layout(width='600px'), max=1.…"
      ]
     },
     "metadata": {},
     "output_type": "display_data"
    },
    {
     "data": {
      "application/vnd.jupyter.widget-view+json": {
       "model_id": "761c07b8854e4586908b59ada0db17f7",
       "version_major": 2,
       "version_minor": 0
      },
      "text/plain": [
       "FloatSlider(value=1.0, continuous_update=False, description='WS/48 Weight:', layout=Layout(width='600px'), max…"
      ]
     },
     "metadata": {},
     "output_type": "display_data"
    },
    {
     "data": {
      "application/vnd.jupyter.widget-view+json": {
       "model_id": "2374820388ce48fb9d8ec4a345666197",
       "version_major": 2,
       "version_minor": 0
      },
      "text/plain": [
       "FloatSlider(value=1.0, continuous_update=False, description='BPM Weight:', layout=Layout(width='600px'), max=1…"
      ]
     },
     "metadata": {},
     "output_type": "display_data"
    },
    {
     "data": {
      "application/vnd.jupyter.widget-view+json": {
       "model_id": "c6503dd6f4c34dce8a8393ce1e08661e",
       "version_major": 2,
       "version_minor": 0
      },
      "text/plain": [
       "FloatSlider(value=1.0, continuous_update=False, description='VORP Weight:', layout=Layout(width='600px'), max=…"
      ]
     },
     "metadata": {},
     "output_type": "display_data"
    },
    {
     "data": {
      "application/vnd.jupyter.widget-view+json": {
       "model_id": "dcb33c24288e441d835dc9b8ca98f149",
       "version_major": 2,
       "version_minor": 0
      },
      "text/plain": [
       "FloatSlider(value=1.0, continuous_update=False, description='PIE Weight:', layout=Layout(width='600px'), max=1…"
      ]
     },
     "metadata": {},
     "output_type": "display_data"
    },
    {
     "data": {
      "application/vnd.jupyter.widget-view+json": {
       "model_id": "2c8eeeba06a34e57995667140f3101b7",
       "version_major": 2,
       "version_minor": 0
      },
      "text/plain": [
       "FloatSlider(value=1.0, continuous_update=False, description='OFF_RATING Weight:', layout=Layout(width='600px')…"
      ]
     },
     "metadata": {},
     "output_type": "display_data"
    },
    {
     "data": {
      "application/vnd.jupyter.widget-view+json": {
       "model_id": "6203c23e584c4753bc19f7632f5b1ea6",
       "version_major": 2,
       "version_minor": 0
      },
      "text/plain": [
       "FloatSlider(value=1.0, continuous_update=False, description='DEF_RATING Weight:', layout=Layout(width='600px')…"
      ]
     },
     "metadata": {},
     "output_type": "display_data"
    },
    {
     "data": {
      "application/vnd.jupyter.widget-view+json": {
       "model_id": "6eb7627dbbdb45779634869c7f9da739",
       "version_major": 2,
       "version_minor": 0
      },
      "text/plain": [
       "FloatSlider(value=1.0, continuous_update=False, description='NET_RATING Weight:', layout=Layout(width='600px')…"
      ]
     },
     "metadata": {},
     "output_type": "display_data"
    }
   ],
   "source": [
    "# create a dict to assign a weight to each stat\n",
    "stat_weights = {'PTS': 1, 'TRB': 1, 'AST': 1, 'WS': 1, 'WS/48': 1, 'BPM': 1, 'VORP': 1, 'PIE': 1, 'OFF_RATING': 1, 'DEF_RATING': 1, 'NET_RATING': 1}\n",
    "\n",
    "# for each stat, create a slider widget to select the weight\n",
    "stat_weight_sliders = {}\n",
    "for stat in stat_weights:\n",
    "    stat_weight_sliders[stat] = widgets.FloatSlider(\n",
    "        value=1,\n",
    "        min=0,\n",
    "        max=1.0,\n",
    "        step=0.1,\n",
    "        description=f'{stat} Weight:',\n",
    "        disabled=False,\n",
    "        continuous_update=False,\n",
    "        orientation='horizontal',\n",
    "        readout=True,\n",
    "        readout_format='.2f',\n",
    "        style=slider_style,\n",
    "        layout=widgets.Layout(width='600px')\n",
    "    )\n",
    "\n",
    "# set the weight for each stat\n",
    "def set_stat_weight(stat_weight_slider):\n",
    "    # get value from slider\n",
    "    stat_weights[stat_weight_slider['owner'].description.split()[0]] = stat_weight_slider['new']\n",
    "\n",
    "# observe the slider widget to get the weight for each stat\n",
    "for stat in stat_weight_sliders:\n",
    "    stat_weight_sliders[stat].observe(set_stat_weight, names='value')\n",
    "\n",
    "# display the slider widget\n",
    "for stat in stat_weight_sliders:\n",
    "    display(stat_weight_sliders[stat])"
   ]
  },
  {
   "cell_type": "code",
   "execution_count": 21,
   "metadata": {},
   "outputs": [
    {
     "data": {
      "text/html": [
       "<div>\n",
       "<style scoped>\n",
       "    .dataframe tbody tr th:only-of-type {\n",
       "        vertical-align: middle;\n",
       "    }\n",
       "\n",
       "    .dataframe tbody tr th {\n",
       "        vertical-align: top;\n",
       "    }\n",
       "\n",
       "    .dataframe thead th {\n",
       "        text-align: right;\n",
       "    }\n",
       "</style>\n",
       "<table border=\"1\" class=\"dataframe\">\n",
       "  <thead>\n",
       "    <tr style=\"text-align: right;\">\n",
       "      <th></th>\n",
       "      <th>Team</th>\n",
       "      <th>Weighted Average Rank</th>\n",
       "    </tr>\n",
       "    <tr>\n",
       "      <th>Rank</th>\n",
       "      <th></th>\n",
       "      <th></th>\n",
       "    </tr>\n",
       "  </thead>\n",
       "  <tbody>\n",
       "    <tr>\n",
       "      <th>1</th>\n",
       "      <td>CLE</td>\n",
       "      <td>6.00</td>\n",
       "    </tr>\n",
       "    <tr>\n",
       "      <th>2</th>\n",
       "      <td>UTA</td>\n",
       "      <td>8.45</td>\n",
       "    </tr>\n",
       "    <tr>\n",
       "      <th>3</th>\n",
       "      <td>DEN</td>\n",
       "      <td>8.55</td>\n",
       "    </tr>\n",
       "    <tr>\n",
       "      <th>4</th>\n",
       "      <td>MIL</td>\n",
       "      <td>8.55</td>\n",
       "    </tr>\n",
       "    <tr>\n",
       "      <th>5</th>\n",
       "      <td>TOR</td>\n",
       "      <td>9.09</td>\n",
       "    </tr>\n",
       "    <tr>\n",
       "      <th>6</th>\n",
       "      <td>PHI</td>\n",
       "      <td>9.18</td>\n",
       "    </tr>\n",
       "    <tr>\n",
       "      <th>7</th>\n",
       "      <td>LAL</td>\n",
       "      <td>10.00</td>\n",
       "    </tr>\n",
       "    <tr>\n",
       "      <th>8</th>\n",
       "      <td>BOS</td>\n",
       "      <td>10.36</td>\n",
       "    </tr>\n",
       "    <tr>\n",
       "      <th>9</th>\n",
       "      <td>SAS</td>\n",
       "      <td>10.55</td>\n",
       "    </tr>\n",
       "    <tr>\n",
       "      <th>10</th>\n",
       "      <td>IND</td>\n",
       "      <td>11.45</td>\n",
       "    </tr>\n",
       "    <tr>\n",
       "      <th>11</th>\n",
       "      <td>DET</td>\n",
       "      <td>13.09</td>\n",
       "    </tr>\n",
       "    <tr>\n",
       "      <th>12</th>\n",
       "      <td>POR</td>\n",
       "      <td>13.82</td>\n",
       "    </tr>\n",
       "    <tr>\n",
       "      <th>13</th>\n",
       "      <td>MIA</td>\n",
       "      <td>14.45</td>\n",
       "    </tr>\n",
       "    <tr>\n",
       "      <th>14</th>\n",
       "      <td>MEM</td>\n",
       "      <td>14.55</td>\n",
       "    </tr>\n",
       "    <tr>\n",
       "      <th>15</th>\n",
       "      <td>CHI</td>\n",
       "      <td>14.55</td>\n",
       "    </tr>\n",
       "    <tr>\n",
       "      <th>16</th>\n",
       "      <td>HOU</td>\n",
       "      <td>14.55</td>\n",
       "    </tr>\n",
       "    <tr>\n",
       "      <th>17</th>\n",
       "      <td>ATL</td>\n",
       "      <td>15.00</td>\n",
       "    </tr>\n",
       "    <tr>\n",
       "      <th>18</th>\n",
       "      <td>NOP</td>\n",
       "      <td>15.36</td>\n",
       "    </tr>\n",
       "    <tr>\n",
       "      <th>19</th>\n",
       "      <td>GSW</td>\n",
       "      <td>15.91</td>\n",
       "    </tr>\n",
       "    <tr>\n",
       "      <th>20</th>\n",
       "      <td>OKC</td>\n",
       "      <td>17.55</td>\n",
       "    </tr>\n",
       "    <tr>\n",
       "      <th>21</th>\n",
       "      <td>SAC</td>\n",
       "      <td>18.27</td>\n",
       "    </tr>\n",
       "    <tr>\n",
       "      <th>22</th>\n",
       "      <td>NYK</td>\n",
       "      <td>18.45</td>\n",
       "    </tr>\n",
       "    <tr>\n",
       "      <th>23</th>\n",
       "      <td>LAC</td>\n",
       "      <td>18.73</td>\n",
       "    </tr>\n",
       "    <tr>\n",
       "      <th>24</th>\n",
       "      <td>DAL</td>\n",
       "      <td>21.36</td>\n",
       "    </tr>\n",
       "    <tr>\n",
       "      <th>25</th>\n",
       "      <td>CHO</td>\n",
       "      <td>21.36</td>\n",
       "    </tr>\n",
       "    <tr>\n",
       "      <th>26</th>\n",
       "      <td>ORL</td>\n",
       "      <td>22.91</td>\n",
       "    </tr>\n",
       "    <tr>\n",
       "      <th>27</th>\n",
       "      <td>BRK</td>\n",
       "      <td>23.36</td>\n",
       "    </tr>\n",
       "    <tr>\n",
       "      <th>28</th>\n",
       "      <td>MIN</td>\n",
       "      <td>24.73</td>\n",
       "    </tr>\n",
       "    <tr>\n",
       "      <th>29</th>\n",
       "      <td>WAS</td>\n",
       "      <td>25.64</td>\n",
       "    </tr>\n",
       "    <tr>\n",
       "      <th>30</th>\n",
       "      <td>PHO</td>\n",
       "      <td>29.18</td>\n",
       "    </tr>\n",
       "  </tbody>\n",
       "</table>\n",
       "</div>"
      ],
      "text/plain": [
       "     Team  Weighted Average Rank\n",
       "Rank                            \n",
       "1     CLE                   6.00\n",
       "2     UTA                   8.45\n",
       "3     DEN                   8.55\n",
       "4     MIL                   8.55\n",
       "5     TOR                   9.09\n",
       "6     PHI                   9.18\n",
       "7     LAL                  10.00\n",
       "8     BOS                  10.36\n",
       "9     SAS                  10.55\n",
       "10    IND                  11.45\n",
       "11    DET                  13.09\n",
       "12    POR                  13.82\n",
       "13    MIA                  14.45\n",
       "14    MEM                  14.55\n",
       "15    CHI                  14.55\n",
       "16    HOU                  14.55\n",
       "17    ATL                  15.00\n",
       "18    NOP                  15.36\n",
       "19    GSW                  15.91\n",
       "20    OKC                  17.55\n",
       "21    SAC                  18.27\n",
       "22    NYK                  18.45\n",
       "23    LAC                  18.73\n",
       "24    DAL                  21.36\n",
       "25    CHO                  21.36\n",
       "26    ORL                  22.91\n",
       "27    BRK                  23.36\n",
       "28    MIN                  24.73\n",
       "29    WAS                  25.64\n",
       "30    PHO                  29.18"
      ]
     },
     "execution_count": 21,
     "metadata": {},
     "output_type": "execute_result"
    }
   ],
   "source": [
    "# calculate the team rank for each stat from the df_team_avg dataframe\n",
    "for stat in relevant_stats:\n",
    "    if stat == 'DEF_RATING': # lower DEF_RATING is better\n",
    "        df_team_avg[stat + '_rank'] = df_team_avg[stat + '_diff'].rank(ascending=True, method='min')\n",
    "    else:\n",
    "        df_team_avg[stat + '_rank'] = df_team_avg[stat + '_diff'].rank(ascending=False, method='min')\n",
    "\n",
    "# calculate the average rank for each team by weighting each stat rank with the respective weight\n",
    "df_team_avg['Weighted Average Rank'] = 0\n",
    "for stat in relevant_stats:\n",
    "    df_team_avg['Weighted Average Rank'] += df_team_avg[stat + '_rank'] * stat_weights[stat]\n",
    "\n",
    "df_team_avg['Weighted Average Rank'] /= len(relevant_stats)\n",
    "\n",
    "# sort the df_team_avg dataframe by the weighted average rank\n",
    "df_team_avg = df_team_avg.sort_values('Weighted Average Rank', ascending=True)\n",
    "# reset the index\n",
    "df_team_avg = df_team_avg.reset_index(drop=True)\n",
    "# add 1 to every index\n",
    "df_team_avg.index += 1\n",
    "# rename the index column to 'Rank'\n",
    "df_team_avg.index.names = ['Rank']\n",
    "# rename the 'Tm' column to 'Team'\n",
    "df_team_avg = df_team_avg.rename(columns={'Tm': 'Team'})\n",
    "\n",
    "# round the weighted average rank to 2 decimals\n",
    "df_team_avg['Weighted Average Rank'] = df_team_avg['Weighted Average Rank'].round(2)\n",
    "\n",
    "# print the df_team_avg dataframe 'Tm' and 'weighted_avg_rank' columns\n",
    "df_team_avg[['Team', 'Weighted Average Rank']]"
   ]
  },
  {
   "cell_type": "markdown",
   "metadata": {},
   "source": [
    "# Conclusion, Limitations, and Further Research Ideas\n",
    "<a id='conclusions'></a>"
   ]
  },
  {
   "cell_type": "markdown",
   "metadata": {},
   "source": [
    "Using the standard parameters (time range: 1996-2022, penalty percentile: 0.02, equal-weighted statistics for aggregation), the best NBA team at drafting are the **Cleveland Cavaliers**!\n",
    "\n",
    "Even when changing the weights for the aggregation drastically, the top teams remain relatively constant. A savy basketball fan can quickly discover that the high ranking of some teams can be linked to individual player selections that greatly outperformed their peers at their respective draft positions (e.g., CLE: LeBron James, DEN: Nikola Jokic). We attribute this to the comparatively short time period available for analysis which leads us to our first possible avenue for further research. By finding the used statistics for a longer time period than available through the NBA API or using a different set of statistics that are available for extended time periods, the analysis could be more robust and less sensitive to individual players.\n",
    "\n",
    "A limitation of many performance metrics we used is that they tend to increase the longer a player's career is. For example, points, rebounds, and assists are strictly increasing over time and a hypothetical mediocre player who has already finished his 10-year career will likely have better statistics than a recently drafted superstar who has only been in the NBA for a couple of seasons but would be perceived as the better draft selection by most people. We thought of several options to address this limitation but eventually decided that each option also introduces new drawbacks. Normalizing all stats to a per-game basis might disadvantage players who had long careers and would be negatively affected by lower statistics in their mid-/late-thirties (e.g.,, Dirk Nowitzki). Alternatively, one could decide to only use a subset of the available statistics in order to exclude strictly increasing metrics such as the ones mentioned above. However, this increases the reliance on individual advanced statistics. Since there is no one true measure of player performance, the combination of multiple statistics is a crucial part of the analysis which would suffer if certain metrics were to be excluded. Future researchers could attempt to find other solutions to this issue.\n",
    "\n",
    "Further research ideas:\n",
    "- Investigate relationship between team success and draft performance\n",
    "- Conduct ablation studies to investigate the impact of different weighting and/or fully excluding certain metrics\n",
    "- Break down the analysis on a positional basis (e.g., \"Which team is best at drafting guards?\")\n",
    "- Extend the time period\n",
    "- Add and/or change the performance metrics"
   ]
  }
 ],
 "metadata": {
  "kernelspec": {
   "display_name": ".nbavenv",
   "language": "python",
   "name": "python3"
  },
  "language_info": {
   "codemirror_mode": {
    "name": "ipython",
    "version": 3
   },
   "file_extension": ".py",
   "mimetype": "text/x-python",
   "name": "python",
   "nbconvert_exporter": "python",
   "pygments_lexer": "ipython3",
   "version": "3.8.0"
  },
  "orig_nbformat": 4
 },
 "nbformat": 4,
 "nbformat_minor": 2
}
