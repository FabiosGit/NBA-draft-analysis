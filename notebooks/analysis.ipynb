{
 "cells": [
  {
   "cell_type": "markdown",
   "metadata": {},
   "source": [
    "# NBA Draft Analysis - Which NBA team selects the best players relative to the average player at their respective draft position?\n",
    "\n",
    "## Index\n",
    "1. [Introduction](#Introduction)\n",
    "2. [Data](#Data)\n",
    "3. [Player Analysis](#player_analysis)\n",
    "4. [Team Analysis by Season](#team_season_analysis)\n",
    "5. [Team Analysis](#team_analysis)\n",
    "6. [Aggregated Team Analysis](#aggr_team_analysis)\n",
    "4. [Conclusions, Limitations, and Further Research Ideas](#conclusions)"
   ]
  },
  {
   "cell_type": "markdown",
   "metadata": {},
   "source": [
    "## Introduction\n",
    "The NBA Draft is an annual event in the National Basketball Association (NBA) where teams select eligible players to join their rosters. It consists of two rounds since 1989, with teams choosing players based on a predetermined order, primarily determined by the previous season's standings. The draft serves as a way for teams to acquire new talent, including young prospects from college or international leagues, and provides an opportunity for emerging basketball stars to realize their dreams of playing in the NBA.\n",
    "\n",
    "For example, in 2003, the famous basketball player LeBron James was the first overall pick by the Cleveland Cavaliers. His selection was the culmination of immense hype and anticipation, as he was considered a generational talent straight out of high school. The NBA Draft is a pivotal moment for the league's future, as it shapes the composition of teams and can have a significant impact on the sport's landscape.\n",
    "\n",
    "A team’s choice during the draft can make or break its season, making it crucial to have effective tools for selecting the best players from the available pool. With this analysis, we aim to understand which team selects the best players relative to the average player at their respective draft position. To do so, we will get the historical data of the drafts for the NBA seasons from 1996 until 2023. This project focuses on NBA player and team statistics analysis and visualizations, offering interactive tools to explore and compare player and team data, and ultimately aiding in the assessment of draft choices, individual player achievements, and team success over different seasons."
   ]
  },
  {
   "cell_type": "markdown",
   "metadata": {},
   "source": [
    "## Data\n",
    "Information about the [draft selections](../data/raw/nba_draft_data_bbref_raw.csv) was manually exported from the draft section of [Basketball Reference](https://www.basketball-reference.com/draft/). This data also contains advanced statistics for each player, aggregated to their careers. After combining the exported data for all draft years into one file, we ended up with 22 variables for each player drafted between 1996 and 2022. The draft year 2023 was excluded for this analysis because at the time this research was conducted, the 2023-24 NBA season had not started.\n",
    "\n",
    "The [raw data](../data/raw/nba_stats_1996-2022_raw.csv) about further player performance metrics is accessed using the [NBA API](https://github.com/swar/nba_api/blob/master/docs/nba_api/stats/examples.md) and it contains a variety of advanced statistics of all official NBA players from year 1996 until 2023. The statistics include the player ID, his name, how many years he played, points scored and many more. The NBA API offers 265 variables, but we will use only 13 of them. For brevity's sake, in the data there are many abbreviations. A [reference table](../references/abbreviation_reference_table.md) comes in handy."
   ]
  },
  {
   "cell_type": "markdown",
   "metadata": {},
   "source": [
    "We need to import the following libraries to manage the data handling and visualizations."
   ]
  },
  {
   "cell_type": "code",
   "execution_count": 1,
   "metadata": {},
   "outputs": [],
   "source": [
    "# Import libraries\n",
    "import pandas as pd\n",
    "import numpy as np\n",
    "import ipywidgets as widgets\n",
    "import plotly.express as px\n",
    "from IPython.display import display, HTML, clear_output\n",
    "from tabulate import tabulate\n",
    "from jinja2 import Template"
   ]
  },
  {
   "cell_type": "markdown",
   "metadata": {},
   "source": [
    "In a Data Frame called df, we load the [player career average](../data/interim/player_career_avg.csv) data. This data was obtained by combining the statistics from Basketball Reference which was already aggregated to career-level with the weighted average of the season-level statistics for each player. For more details, see the [season2career_stats.ipynb notebook](../src/data_processing/season2career_stats.ipynb)."
   ]
  },
  {
   "cell_type": "code",
   "execution_count": 2,
   "metadata": {},
   "outputs": [],
   "source": [
    "# load in the data\n",
    "df = pd.read_csv('../data/processed/player_career_avg.csv', index_col=0)"
   ]
  },
  {
   "cell_type": "markdown",
   "metadata": {},
   "source": [
    "We make a copy of the Data Frame to filter for seasons to analyze. With the slider below you can adjust the range of draft years you want to take into account in the analysis."
   ]
  },
  {
   "cell_type": "code",
   "execution_count": 3,
   "metadata": {},
   "outputs": [],
   "source": [
    "# widget styling\n",
    "slider_style = {'description_width': 'initial'}\n",
    "slider_css = \"\"\"\n",
    ".widget-label { \n",
    "    min-width: fit-content !important; \n",
    "} \n",
    "\"\"\"\n",
    "\n",
    "# Creating a widget box for applying the CSS\n",
    "slider_style_widget = widgets.HTML(\n",
    "    value=\"<style>\" + slider_css + \"</style>\"\n",
    ")"
   ]
  },
  {
   "cell_type": "code",
   "execution_count": 4,
   "metadata": {},
   "outputs": [
    {
     "data": {
      "application/vnd.jupyter.widget-view+json": {
       "model_id": "baa891045ee24c388aba06a2906ca97c",
       "version_major": 2,
       "version_minor": 0
      },
      "text/plain": [
       "HTML(value='<style>\\n.widget-label { \\n    min-width: fit-content !important; \\n} \\n</style>')"
      ]
     },
     "metadata": {},
     "output_type": "display_data"
    },
    {
     "data": {
      "application/vnd.jupyter.widget-view+json": {
       "model_id": "5f248b4460214f5a9a6f5fe3b1f1af26",
       "version_major": 2,
       "version_minor": 0
      },
      "text/plain": [
       "SelectionRangeSlider(continuous_update=False, description='Select Seasons to Analyze', index=(0, 26), layout=L…"
      ]
     },
     "metadata": {},
     "output_type": "display_data"
    }
   ],
   "source": [
    "# copy the dataframe\n",
    "df_seasons_filtered = df.copy()\n",
    "\n",
    "# create list with all seasons between 1996 and 2023\n",
    "seasons = range(1996, 2023)\n",
    "\n",
    "# create a slider widget to select the seasons\n",
    "season_slider = widgets.SelectionRangeSlider(\n",
    "    options=seasons,\n",
    "    index=(0, len(seasons)-1),\n",
    "    description='Select Seasons to Analyze',\n",
    "    disabled=False,\n",
    "    continuous_update=False,\n",
    "    orientation='horizontal',\n",
    "    readout=True,\n",
    "    layout=widgets.Layout(width='100%'),\n",
    ")\n",
    "\n",
    "# get the subset of the dataframe that matches the selected seasons\n",
    "def get_seasons(season_slider):\n",
    "    # declare global variable\n",
    "    global df_seasons_filtered\n",
    "    # get values from slider\n",
    "    start_season = int(season_slider['new'][0])\n",
    "    end_season = int(season_slider['new'][1])\n",
    "    df_seasons_filtered = df[(df['Season'] >= start_season) & (df['Season'] <= end_season)]\n",
    "\n",
    "# observe the slider widget to get the selected seasons\n",
    "season_slider.observe(get_seasons, names='value')\n",
    "\n",
    "# display the slider widget\n",
    "display(slider_style_widget, season_slider)"
   ]
  },
  {
   "cell_type": "markdown",
   "metadata": {},
   "source": [
    "**Select a penalty for unbounded stats**\n",
    "\n",
    "Drafted players who never played a game in the NBA are perceived as bad draft picks but never accumulated any stats. Since excluding them from the analysis would worsen the relative performance of other players (who did play in the NBA) selected at that respective draft position, the empty stats should be replaced by a \"bad stat\", as never playing a game in the NBA objectively makes that player a bad selection. For total points, assists and rebounds, 0 is the absolute minimum and therefore suitable as a replacement stat. However, all other stats are unbounded and don't have a definite minimum value. Using the minimum value in our data would be greatly affected by outliers which is why we opted for a percentile that can be dynamically chosen using the slider below. We recommend using a percentile between 1% and 5%."
   ]
  },
  {
   "cell_type": "code",
   "execution_count": 5,
   "metadata": {},
   "outputs": [
    {
     "data": {
      "application/vnd.jupyter.widget-view+json": {
       "model_id": "baa891045ee24c388aba06a2906ca97c",
       "version_major": 2,
       "version_minor": 0
      },
      "text/plain": [
       "HTML(value='<style>\\n.widget-label { \\n    min-width: fit-content !important; \\n} \\n</style>')"
      ]
     },
     "metadata": {},
     "output_type": "display_data"
    },
    {
     "data": {
      "application/vnd.jupyter.widget-view+json": {
       "model_id": "638f036b72bc4de3bbc4f43518ccd122",
       "version_major": 2,
       "version_minor": 0
      },
      "text/plain": [
       "FloatSlider(value=0.02, continuous_update=False, description='Penalty Percentile:', layout=Layout(width='100%'…"
      ]
     },
     "metadata": {},
     "output_type": "display_data"
    }
   ],
   "source": [
    "# set standard penalty percentile\n",
    "penalty_percentile = 0.02\n",
    "\n",
    "# create a float slider widget to select the penalty percentile\n",
    "penalty_percentile_slider = widgets.FloatSlider(\n",
    "    value=0.02,\n",
    "    min=0,\n",
    "    max=1.0,\n",
    "    step=0.01,\n",
    "    description='Penalty Percentile:',\n",
    "    disabled=False,\n",
    "    continuous_update=False,\n",
    "    orientation='horizontal',\n",
    "    readout=True,\n",
    "    readout_format='.2f',\n",
    "    layout=widgets.Layout(width='100%')\n",
    ")\n",
    "\n",
    "# set the penalty percentile\n",
    "def set_penalty_percentile(penalty_percentile_slider):\n",
    "    # declare global variable\n",
    "    global penalty_percentile\n",
    "    # get value from slider\n",
    "    penalty_percentile = penalty_percentile_slider['new']\n",
    "\n",
    "# observe the slider widget to get the penalty percentile\n",
    "penalty_percentile_slider.observe(set_penalty_percentile, names='value')\n",
    "\n",
    "# display the slider widget\n",
    "display(slider_style_widget, penalty_percentile_slider)"
   ]
  },
  {
   "cell_type": "markdown",
   "metadata": {},
   "source": [
    "> ### **IMPORTANT**\n",
    "> Re-run all cells after this one if you changed the penalty percentile and/or the season range"
   ]
  },
  {
   "cell_type": "markdown",
   "metadata": {},
   "source": [
    "In the next cell, your active selections for the season range and penalty percentile are shown. Additionally, a list called relevant_stats is created which are the player performance metrics that we base our analysis on. Finally, the stats of the above-mentioned drafted players who did not play in the NBA are replaced with the chosen penalty values."
   ]
  },
  {
   "cell_type": "code",
   "execution_count": 6,
   "metadata": {},
   "outputs": [
    {
     "name": "stdout",
     "output_type": "stream",
     "text": [
      "Your selected penalty percentile for unbounded stats is 0.02\n",
      "Your selected seasons are 1996 to 2022\n"
     ]
    }
   ],
   "source": [
    "# get min and max seasons from df_seasons_filtered\n",
    "start_season = df_seasons_filtered['Season'].min()\n",
    "end_season = df_seasons_filtered['Season'].max()\n",
    "\n",
    "print(\"Your selected penalty percentile for unbounded stats is\", penalty_percentile)\n",
    "print(\"Your selected seasons are\", start_season , \"to\", end_season)\n",
    "\n",
    "relevant_stats = ['PTS', 'TRB', 'AST', 'WS', 'WS/48', 'BPM', 'VORP', 'PIE', 'OFF_RATING', 'DEF_RATING', 'NET_RATING']\n",
    "na_fill_values = {'PTS': 0, 'TRB': 0, 'AST': 0, 'WS': df_seasons_filtered['WS'].quantile(penalty_percentile), 'WS/48': df_seasons_filtered['WS/48'].quantile(penalty_percentile), 'BPM': df_seasons_filtered['BPM'].quantile(penalty_percentile), 'VORP': df_seasons_filtered['VORP'].quantile(penalty_percentile), 'PIE': df_seasons_filtered['PIE'].quantile(penalty_percentile), 'OFF_RATING': df_seasons_filtered['OFF_RATING'].quantile(penalty_percentile), 'DEF_RATING': df_seasons_filtered['DEF_RATING'].quantile(1-penalty_percentile), 'NET_RATING': df_seasons_filtered['NET_RATING'].quantile(penalty_percentile)}\n",
    "\n",
    "# fill the NaNs with the respective entry in the na_fill_values dict for each column\n",
    "df_career_na_filled = df_seasons_filtered.fillna(value=na_fill_values)"
   ]
  },
  {
   "cell_type": "markdown",
   "metadata": {},
   "source": [
    "Next, the average value for each player statistic is calculated per draft position. The averages are stored in the df_avg dataframe which is indexed by the draft position (1-60)."
   ]
  },
  {
   "cell_type": "code",
   "execution_count": 7,
   "metadata": {},
   "outputs": [],
   "source": [
    "# group the df_career dataframe by 'Pk' and calculate the average for each relevant stat\n",
    "df_avg = df_career_na_filled.groupby('Pk')[relevant_stats].mean(numeric_only=True)\n",
    "df_avg = df_avg.reset_index()\n",
    "\n",
    "# add 1 to every index\n",
    "df_avg.index += 1"
   ]
  },
  {
   "cell_type": "markdown",
   "metadata": {},
   "source": [
    "To compare the performance of a player to the average player at their draft position, we calculate the difference between the player's statistics to the previously calculated average values. For most statistics, a positive difference signifies that this player performed better than the average selection at their pick. An exception is DEF_RATING, for which lower values are better, meaning that a negative difference is desirable."
   ]
  },
  {
   "cell_type": "code",
   "execution_count": 8,
   "metadata": {},
   "outputs": [],
   "source": [
    "# for each relevant stat, create a new column in the df_career_na_filled dataframe with the difference between the player's stat and the average for that stat for their draft position\n",
    "for stat in relevant_stats:\n",
    "    df_career_na_filled[stat + '_diff'] = df_career_na_filled[stat] - df_career_na_filled['Pk'].map(df_avg[stat])"
   ]
  },
  {
   "cell_type": "markdown",
   "metadata": {},
   "source": [
    "## Player Analysis\n",
    "<a id='player_analysis'></a>\n",
    "**Calculate ranks for all players above a minimum amount of games played**\n",
    "\n",
    "This section calculates the ranking of the performance above/below the average player at that draft position for each statistic. Some of the statistics that are normalized per 48 minutes can be affected by players that only played very little but performed well in this limited time (e.g., a player only ever played two minutes at the end of a blowout game but scored four points). To avoid such players being ranked very highly, a minimum amount of games can be set using the slider below and all players that do not meet this requirement are excluded from the ranking. Be aware that these players are only excluded from the individual player analysis but not from the team analysis further below."
   ]
  },
  {
   "cell_type": "code",
   "execution_count": 9,
   "metadata": {},
   "outputs": [
    {
     "data": {
      "application/vnd.jupyter.widget-view+json": {
       "model_id": "137df8fac87b40a68a5b8c12255c19b5",
       "version_major": 2,
       "version_minor": 0
      },
      "text/plain": [
       "IntSlider(value=82, continuous_update=False, description='Minimum Games Played:', layout=Layout(width='100%'),…"
      ]
     },
     "metadata": {},
     "output_type": "display_data"
    }
   ],
   "source": [
    "# set standard minimum number of games played\n",
    "min_games = 82\n",
    "\n",
    "# create an int slides widget to select the minimum number of games played\n",
    "min_games_slider = widgets.IntSlider(\n",
    "    value=82,\n",
    "    min=0,\n",
    "    max=500,\n",
    "    step=1,\n",
    "    description='Minimum Games Played:',\n",
    "    disabled=False,\n",
    "    continuous_update=False,\n",
    "    orientation='horizontal',\n",
    "    readout=True,\n",
    "    readout_format='d',\n",
    "    layout=widgets.Layout(width='100%')\n",
    ")\n",
    "\n",
    "# set the minimum number of games played\n",
    "def set_min_games(min_games_slider):\n",
    "    # declare global variable\n",
    "    global min_games\n",
    "    # get value from slider\n",
    "    min_games = min_games_slider['new']\n",
    "\n",
    "# observe the slider widget to get the minimum number of games played\n",
    "min_games_slider.observe(set_min_games, names='value')\n",
    "\n",
    "# display the slider widget\n",
    "display(min_games_slider)"
   ]
  },
  {
   "cell_type": "markdown",
   "metadata": {},
   "source": [
    "> ### **IMPORTANT**\n",
    "> Re-run all cells from here after changing the minimum games"
   ]
  },
  {
   "cell_type": "markdown",
   "metadata": {},
   "source": [
    "Below, you can see the active minimum games requirement and the player ranks are calculated for each performance metric."
   ]
  },
  {
   "cell_type": "code",
   "execution_count": 10,
   "metadata": {},
   "outputs": [
    {
     "name": "stdout",
     "output_type": "stream",
     "text": [
      "You chose 82 as the minimum number of games played.\n"
     ]
    }
   ],
   "source": [
    "print(\"You chose\", min_games, \"as the minimum number of games played.\")\n",
    "\n",
    "# create a new column for each relevant stat with the rank of the player's stat for their draft position, only using player with min_games\n",
    "for stat in relevant_stats:\n",
    "    if stat == 'DEF_RATING': # lower DEF_RATING is better\n",
    "        df_career_na_filled[stat + '_rank'] = df_career_na_filled[df_career_na_filled['G'] >= min_games][stat + '_diff'].rank(ascending=True, method='min')\n",
    "    else:\n",
    "        df_career_na_filled[stat + '_rank'] = df_career_na_filled[df_career_na_filled['G'] >= min_games][stat + '_diff'].rank(ascending=False, method='min')"
   ]
  },
  {
   "cell_type": "markdown",
   "metadata": {},
   "source": [
    "**Show Performance of Selected Player**\n",
    "\n",
    "The visualization below allows interactively selecting a player. Basic information about the chosen player as well as each performance metric, the corresponding difference to the average selection at their draft pick and the player's rank are displayed."
   ]
  },
  {
   "cell_type": "code",
   "execution_count": 11,
   "metadata": {},
   "outputs": [
    {
     "data": {
      "application/vnd.jupyter.widget-view+json": {
       "model_id": "30b7b8bf596c4b6591adb594391f6dd4",
       "version_major": 2,
       "version_minor": 0
      },
      "text/plain": [
       "Combobox(value='', description='Player:', ensure_option=True, layout=Layout(width='100%'), options=('Allen Ive…"
      ]
     },
     "metadata": {},
     "output_type": "display_data"
    },
    {
     "data": {
      "application/vnd.jupyter.widget-view+json": {
       "model_id": "64f95094bf944157a919a0c1950d2781",
       "version_major": 2,
       "version_minor": 0
      },
      "text/plain": [
       "Output()"
      ]
     },
     "metadata": {},
     "output_type": "display_data"
    }
   ],
   "source": [
    "# create a combobox widget with all 'Player' values\n",
    "player_widget = widgets.Combobox(\n",
    "    placeholder='Choose a Player',\n",
    "    options=df_career_na_filled['Player'].unique().tolist(),\n",
    "    description='Player:',\n",
    "    ensure_option=True,\n",
    "    disabled=False,\n",
    "    layout=widgets.Layout(width='100%')\n",
    ")\n",
    "\n",
    "# Define the output area to display additional information\n",
    "output_player_ranks = widgets.Output()\n",
    "\n",
    "# Function to update the output area based on the selected player\n",
    "def on_value_change_player_ranks(change):\n",
    "    output_player_ranks.clear_output()\n",
    "    selected_player = change['new']\n",
    "    with output_player_ranks:\n",
    "        # get player data\n",
    "        player_data = df_career_na_filled[df_career_na_filled['Player'] == selected_player]\n",
    "\n",
    "        # display player information\n",
    "        display(HTML(f\"<h3>Player: {player_data['Player'].values[0]}</h3>\"))\n",
    "        display(HTML(f\"<p>Year: {player_data['Season'].values[0]} Pick: {player_data['Pk'].values[0]} - Drafted by: {player_data['Tm'].values[0]}</p>\"))\n",
    "        display(HTML(f\"<p>Played {int(player_data['G'].values[0])} games in {int(player_data['Yrs'].values[0])} years</p>\"))\n",
    "        \n",
    "        # create a table with the player's ranks, total value and diff for each relevant stat\n",
    "        stats_table = [['Stat', 'Rank', 'Raw Stat', 'Difference to Average for Draft Position']]\n",
    "        for stat in relevant_stats:\n",
    "            stats_table.append([stat, int(player_data[stat + '_rank'].values[0]), round(player_data[stat].values[0], 2), round(player_data[stat + '_diff'].values[0], 2)])\n",
    "\n",
    "        # transpose the table\n",
    "        stats_table = list(map(list, zip(*stats_table)))\n",
    "            \n",
    "        display(HTML(tabulate(stats_table, tablefmt=\"html\")))\n",
    "\n",
    "# Observe changes in the value of the combobox and call the function\n",
    "player_widget.observe(on_value_change_player_ranks, names='value')\n",
    "\n",
    "# Display the widgets\n",
    "display(player_widget)\n",
    "display(output_player_ranks)"
   ]
  },
  {
   "cell_type": "markdown",
   "metadata": {},
   "source": [
    "**Player Analysis: Performance Metric Differences vs Draft Pick**\n",
    "\n",
    "In this scatter plot, the difference to the average selection at a given draft pick for a selected performance metric is plotted against the draft picks. If desired, a player can be searched for and is then highlighted in the visualization. Hovering over a dot shows additional information."
   ]
  },
  {
   "cell_type": "code",
   "execution_count": 29,
   "metadata": {},
   "outputs": [
    {
     "data": {
      "application/vnd.jupyter.widget-view+json": {
       "model_id": "d33676fa71084fbdb0bc62e2cbac26a3",
       "version_major": 2,
       "version_minor": 0
      },
      "text/plain": [
       "Combobox(value='', description='Player:', ensure_option=True, options=('Allen Iverson', 'Marcus Camby', 'Share…"
      ]
     },
     "metadata": {},
     "output_type": "display_data"
    },
    {
     "data": {
      "application/vnd.jupyter.widget-view+json": {
       "model_id": "028d792f7a894731b8dff1875f27032c",
       "version_major": 2,
       "version_minor": 0
      },
      "text/plain": [
       "Dropdown(description='Select Stat:', index=5, options=('PTS', 'TRB', 'AST', 'WS', 'WS/48', 'BPM', 'VORP', 'PIE…"
      ]
     },
     "metadata": {},
     "output_type": "display_data"
    },
    {
     "data": {
      "application/vnd.plotly.v1+json": {
       "config": {
        "plotlyServerURL": "https://plot.ly"
       },
       "data": [
        {
         "customdata": [
          [
           "Allen Iverson",
           3.2,
           413,
           1996
          ],
          [
           "Marcus Camby",
           2.3,
           264,
           1996
          ],
          [
           "Shareef Abdur-Rahim",
           1,
           731,
           1996
          ],
          [
           "Stephon Marbury",
           1.8,
           323,
           1996
          ],
          [
           "Ray Allen",
           2.9,
           214,
           1996
          ],
          [
           "Antoine Walker",
           0.3,
           544,
           1996
          ],
          [
           "Lorenzen Wright",
           -2.6,
           863,
           1996
          ],
          [
           "Kerry Kittles",
           2.2,
           174,
           1996
          ],
          [
           "Samaki Walker",
           -2.6,
           914,
           1996
          ],
          [
           "Erick Dampier",
           -1.3,
           710,
           1996
          ],
          [
           "Todd Fuller",
           -5.7,
           975,
           1996
          ],
          [
           "Vitaly Potapenko",
           -4,
           905,
           1996
          ],
          [
           "Kobe Bryant",
           4.6,
           65,
           1996
          ],
          [
           "Peja Stojaković",
           1.9,
           178,
           1996
          ],
          [
           "Steve Nash",
           3,
           114,
           1996
          ],
          [
           "Tony Delk",
           -0.4,
           334,
           1996
          ],
          [
           "Jermaine O'Neal",
           0.3,
           347,
           1996
          ],
          [
           "John Wallace",
           -2.7,
           697,
           1996
          ],
          [
           "Walter McCarty",
           -1.7,
           624,
           1996
          ],
          [
           "Zydrunas Ilgauskas",
           -0.2,
           397,
           1996
          ],
          [
           "Roy Rogers",
           -3.7,
           882,
           1996
          ],
          [
           "Derek Fisher",
           -0.9,
           535,
           1996
          ],
          [
           "Martin Müürsepp",
           -1.6,
           607,
           1996
          ],
          [
           "Jerome Williams",
           0.3,
           335,
           1996
          ],
          [
           "Brian Evans",
           -0.8,
           471,
           1996
          ],
          [
           "Travis Knight",
           -3,
           721,
           1996
          ],
          [
           "Othella Harrington",
           -3.4,
           728,
           1996
          ],
          [
           "Mark Hendrickson",
           -3.8,
           709,
           1996
          ],
          [
           "Moochie Norris",
           -1.4,
           436,
           1996
          ],
          [
           "Jeff McInnis",
           -2.1,
           270,
           1996
          ],
          [
           "Randy Livingston",
           -2.5,
           368,
           1996
          ],
          [
           "Malik Rose",
           -2.1,
           130,
           1996
          ],
          [
           "Jamie Feick",
           -2.7,
           307,
           1996
          ],
          [
           "Amal McCaskill",
           -4.7,
           445,
           1996
          ],
          [
           "Mark Pope",
           -4.3,
           350,
           1996
          ],
          [
           "Shandon Anderson",
           -1.3,
           33,
           1996
          ],
          [
           "Reggie Geary",
           -2.5,
           197,
           1996
          ],
          [
           "Tim Duncan",
           5.6,
           152,
           1997
          ],
          [
           "Keith Van Horn",
           0.1,
           571,
           1997
          ],
          [
           "Chauncey Billups",
           3.2,
           395,
           1997
          ],
          [
           "Antonio Daniels",
           -11.86,
           998,
           1997
          ],
          [
           "Tony Battie",
           -1.8,
           850,
           1997
          ],
          [
           "Ron Mercer",
           -2.7,
           910,
           1997
          ],
          [
           "Tim Thomas",
           -0.8,
           626,
           1997
          ],
          [
           "Adonal Foyle",
           -1.7,
           695,
           1997
          ],
          [
           "Tracy McGrady",
           5.2,
           61,
           1997
          ],
          [
           "Danny Fortson",
           -3.2,
           908,
           1997
          ],
          [
           "Tariq Abdul-Wahad",
           -3,
           856,
           1997
          ],
          [
           "Austin Croshere",
           -0.1,
           401,
           1997
          ],
          [
           "Derek Anderson",
           1,
           373,
           1997
          ],
          [
           "Maurice Taylor",
           -3.6,
           881,
           1997
          ],
          [
           "Kelvin Cato",
           -0.3,
           461,
           1997
          ],
          [
           "Brevin Knight",
           0.3,
           253,
           1997
          ],
          [
           "Chris Anstey",
           -2.9,
           729,
           1997
          ],
          [
           "Scot Pollard",
           -0.6,
           457,
           1997
          ],
          [
           "Anthony Parker",
           -0.2,
           327,
           1997
          ],
          [
           "Bobby Jackson",
           0.4,
           324,
           1997
          ],
          [
           "John Thomas",
           -4.4,
           927,
           1997
          ],
          [
           "Charles Smith",
           -1.1,
           549,
           1997
          ],
          [
           "Jacque Vaughn",
           -3.4,
           836,
           1997
          ],
          [
           "Marc Jackson",
           -2.7,
           676,
           1997
          ],
          [
           "Anthony Johnson",
           -1.5,
           221,
           1997
          ],
          [
           "Stephen Jackson",
           -0.4,
           60,
           1997
          ],
          [
           "Cedric Henderson",
           -2.8,
           444,
           1997
          ],
          [
           "Eric Washington",
           -3.5,
           561,
           1997
          ],
          [
           "Alvin Williams",
           -0.4,
           111,
           1997
          ],
          [
           "Predrag Drobnjak",
           -3,
           223,
           1997
          ],
          [
           "Chris Crawford",
           -2.6,
           45,
           1997
          ],
          [
           "Mark Blount",
           -2.7,
           74,
           1997
          ],
          [
           "Michael Olowokandi",
           -4.6,
           987,
           1998
          ],
          [
           "Mike Bibby",
           0.8,
           462,
           1998
          ],
          [
           "Raef LaFrentz",
           0.7,
           768,
           1998
          ],
          [
           "Antawn Jamison",
           0.6,
           510,
           1998
          ],
          [
           "Vince Carter",
           3,
           205,
           1998
          ],
          [
           "Robert Traylor",
           -1.6,
           810,
           1998
          ],
          [
           "Jason Williams",
           0.2,
           474,
           1998
          ],
          [
           "Larry Hughes",
           -0.1,
           450,
           1998
          ],
          [
           "Dirk Nowitzki",
           4.5,
           104,
           1998
          ],
          [
           "Paul Pierce",
           3.7,
           109,
           1998
          ],
          [
           "Bonzi Wells",
           0.2,
           403,
           1998
          ],
          [
           "Michael Doleac",
           -3.7,
           882,
           1998
          ],
          [
           "Keon Clark",
           -0.7,
           629,
           1998
          ],
          [
           "Michael Dickerson",
           -1.3,
           600,
           1998
          ],
          [
           "Matt Harpring",
           -0.6,
           514,
           1998
          ],
          [
           "Bryce Drew",
           -3.1,
           746,
           1998
          ],
          [
           "Rasho Nesterović",
           -0.9,
           531,
           1998
          ],
          [
           "Pat Garrity",
           -1.8,
           634,
           1998
          ],
          [
           "Roshown McLeod",
           -4.4,
           929,
           1998
          ],
          [
           "Ricky Davis",
           -0.8,
           407,
           1998
          ],
          [
           "Brian Skinner",
           -2.5,
           761,
           1998
          ],
          [
           "Tyronn Lue",
           -1.8,
           657,
           1998
          ],
          [
           "Felipe López",
           -2.5,
           769,
           1998
          ],
          [
           "Al Harrington",
           -1.5,
           590,
           1998
          ],
          [
           "Vladimir Stepania",
           -3.3,
           822,
           1998
          ],
          [
           "Corey Benjamin",
           -4.8,
           893,
           1998
          ],
          [
           "Nazr Mohammed",
           -2.6,
           663,
           1998
          ],
          [
           "Ansu Sesay",
           -3.3,
           714,
           1998
          ],
          [
           "Ruben Patterson",
           0.7,
           135,
           1998
          ],
          [
           "Rashard Lewis",
           1.9,
           76,
           1998
          ],
          [
           "Jelani McCoy",
           -2.9,
           672,
           1998
          ],
          [
           "Shammond Williams",
           -0.7,
           235,
           1998
          ],
          [
           "Bruno Šundov",
           -8.9,
           981,
           1998
          ],
          [
           "Jerome James",
           -4.9,
           763,
           1998
          ],
          [
           "Rafer Alston",
           -11.86,
           979,
           1998
          ],
          [
           "Cuttino Mobley",
           -0.1,
           141,
           1998
          ],
          [
           "Jahidi White",
           -3.2,
           269,
           1998
          ],
          [
           "Sean Marks",
           -5,
           458,
           1998
          ],
          [
           "Derrick Dial",
           -2.2,
           137,
           1998
          ],
          [
           "Greg Buckner",
           -0.9,
           77,
           1998
          ],
          [
           "Tremaine Fowlkes",
           -2,
           56,
           1998
          ],
          [
           "Ryan Bowen",
           -0.8,
           19,
           1998
          ],
          [
           "Maceo Baston",
           -1.2,
           39,
           1998
          ],
          [
           "Elton Brand",
           2.2,
           576,
           1999
          ],
          [
           "Steve Francis",
           2.2,
           275,
           1999
          ],
          [
           "Baron Davis",
           2.6,
           492,
           1999
          ],
          [
           "Lamar Odom",
           1.9,
           309,
           1999
          ],
          [
           "Jonathan Bender",
           -2.6,
           919,
           1999
          ],
          [
           "Wally Szczerbiak",
           0.7,
           484,
           1999
          ],
          [
           "Richard Hamilton",
           -0.2,
           539,
           1999
          ],
          [
           "Andre Miller",
           1.3,
           267,
           1999
          ],
          [
           "Shawn Marion",
           2.7,
           228,
           1999
          ],
          [
           "Jason Terry",
           1.5,
           289,
           1999
          ],
          [
           "Trajan Langdon",
           -1.1,
           605,
           1999
          ],
          [
           "Corey Maggette",
           0.3,
           486,
           1999
          ],
          [
           "William Avery",
           -5.6,
           968,
           1999
          ],
          [
           "Metta World Peace",
           1.2,
           166,
           1999
          ],
          [
           "Cal Bowdler",
           -3.2,
           846,
           1999
          ],
          [
           "James Posey",
           0.3,
           271,
           1999
          ],
          [
           "Quincy Lewis",
           -4.9,
           944,
           1999
          ],
          [
           "Dion Glover",
           -1.8,
           636,
           1999
          ],
          [
           "Jeff Foster",
           -0.4,
           356,
           1999
          ],
          [
           "Kenny Thomas",
           -1.3,
           586,
           1999
          ],
          [
           "Devean George",
           -1.5,
           618,
           1999
          ],
          [
           "Andrei Kirilenko",
           4.9,
           27,
           1999
          ],
          [
           "Vonteego Cummings",
           -2.4,
           747,
           1999
          ],
          [
           "Jumaine Jones",
           -1.2,
           533,
           1999
          ],
          [
           "Scott Padgett",
           -0.4,
           303,
           1999
          ],
          [
           "Michael Ruffin",
           -3.3,
           647,
           1999
          ],
          [
           "Evan Eschmeyer",
           -3,
           562,
           1999
          ],
          [
           "Calvin Booth",
           -1.8,
           336,
           1999
          ],
          [
           "Wang Zhizhi",
           -1.6,
           283,
           1999
          ],
          [
           "Obinna Ekezie",
           -5.4,
           743,
           1999
          ],
          [
           "Laron Profit",
           -2.1,
           585,
           1999
          ],
          [
           "Gordan Giriček",
           -2.5,
           340,
           1999
          ],
          [
           "Francisco Elson",
           -2.7,
           425,
           1999
          ],
          [
           "Lee Nailon",
           -2,
           154,
           1999
          ],
          [
           "Todd MacCulloch",
           0.3,
           121,
           1999
          ],
          [
           "Rodney Buford",
           -3.8,
           306,
           1999
          ],
          [
           "Manu Ginóbili",
           5,
           2,
           1999
          ],
          [
           "Kenyon Martin",
           0.1,
           857,
           2000
          ],
          [
           "Stromile Swift",
           -1.6,
           804,
           2000
          ],
          [
           "Darius Miles",
           -1,
           928,
           2000
          ],
          [
           "Marcus Fizer",
           -3.7,
           955,
           2000
          ],
          [
           "Mike Miller",
           0.8,
           494,
           2000
          ],
          [
           "DerMarr Johnson",
           -1.6,
           810,
           2000
          ],
          [
           "Chris Mihm",
           -3.9,
           941,
           2000
          ],
          [
           "Jamal Crawford",
           -0.1,
           450,
           2000
          ],
          [
           "Joel Przybilla",
           -1.7,
           837,
           2000
          ],
          [
           "Keyon Dooling",
           -2,
           796,
           2000
          ],
          [
           "Jérôme Moïso",
           -2.9,
           843,
           2000
          ],
          [
           "Etan Thomas",
           -2.1,
           707,
           2000
          ],
          [
           "Courtney Alexander",
           -3.7,
           940,
           2000
          ],
          [
           "Mateen Cleaves",
           -5.6,
           968,
           2000
          ],
          [
           "Jason Collier",
           -5.4,
           962,
           2000
          ],
          [
           "Hedo Türkoğlu",
           0.9,
           190,
           2000
          ],
          [
           "Desmond Mason",
           -2.4,
           756,
           2000
          ],
          [
           "Quentin Richardson",
           -0.4,
           351,
           2000
          ],
          [
           "Jamaal Magloire",
           -2.9,
           791,
           2000
          ],
          [
           "Speedy Claxton",
           -0.3,
           406,
           2000
          ],
          [
           "Morris Peterson",
           -0.4,
           356,
           2000
          ],
          [
           "Donnell Harvey",
           -2.6,
           775,
           2000
          ],
          [
           "DeShawn Stevenson",
           -2.7,
           783,
           2000
          ],
          [
           "Dalibor Bagarić",
           -7.9,
           985,
           2000
          ],
          [
           "Jake Tsakalidis",
           -3.1,
           809,
           2000
          ],
          [
           "Primož Brezec",
           -3.1,
           798,
           2000
          ],
          [
           "Mark Madsen",
           -4.1,
           853,
           2000
          ],
          [
           "Marko Jarić",
           -0.7,
           320,
           2000
          ],
          [
           "Dan Langhi",
           -4.6,
           806,
           2000
          ],
          [
           "Jake Voskuhl",
           -3.8,
           795,
           2000
          ],
          [
           "Eddie House",
           -11.86,
           991,
           2000
          ],
          [
           "Eduardo Nájera",
           -0.9,
           400,
           2000
          ],
          [
           "Hanno Möttölä",
           -5.9,
           827,
           2000
          ],
          [
           "Olumide Oyedeji",
           -4.3,
           641,
           2000
          ],
          [
           "Michael Redd",
           2.2,
           9,
           2000
          ],
          [
           "Brian Cardinal",
           -0.1,
           35,
           2000
          ],
          [
           "Jabari Smith",
           -4.3,
           679,
           2000
          ],
          [
           "Jason Hart",
           -1.2,
           99,
           2000
          ],
          [
           "Kwame Brown",
           -2.4,
           972,
           2001
          ],
          [
           "Tyson Chandler",
           0.1,
           571,
           2001
          ],
          [
           "Pau Gasol",
           3.6,
           339,
           2001
          ],
          [
           "Eddy Curry",
           -2.4,
           889,
           2001
          ],
          [
           "Jason Richardson",
           1.2,
           422,
           2001
          ],
          [
           "Shane Battier",
           1.7,
           333,
           2001
          ],
          [
           "Eddie Griffin",
           -0.4,
           570,
           2001
          ],
          [
           "DeSagana Diop",
           -1.9,
           726,
           2001
          ],
          [
           "Rodney White",
           -2.2,
           880,
           2001
          ],
          [
           "Joe Johnson",
           0.4,
           448,
           2001
          ],
          [
           "Kedrick Brown",
           -1.1,
           605,
           2001
          ],
          [
           "Vladimir Radmanović",
           -0.1,
           401,
           2001
          ],
          [
           "Richard Jefferson",
           0.2,
           503,
           2001
          ],
          [
           "Troy Murphy",
           0.1,
           383,
           2001
          ],
          [
           "Steven Hunter",
           -2.3,
           760,
           2001
          ],
          [
           "Michael Bradley",
           -4,
           911,
           2001
          ],
          [
           "Jason Collins",
           -3.7,
           822,
           2001
          ],
          [
           "Zach Randolph",
           0.2,
           337,
           2001
          ],
          [
           "Brendan Haywood",
           -1.4,
           579,
           2001
          ],
          [
           "Jeryl Sasser",
           -2.5,
           761,
           2001
          ],
          [
           "Brandon Armstrong",
           -8,
           986,
           2001
          ],
          [
           "Raül López",
           -2.4,
           758,
           2001
          ],
          [
           "Gerald Wallace",
           1.8,
           164,
           2001
          ],
          [
           "Samuel Dalembert",
           -1.1,
           549,
           2001
          ],
          [
           "Jamaal Tinsley",
           -11.86,
           993,
           2001
          ],
          [
           "Tony Parker",
           1.1,
           158,
           2001
          ],
          [
           "Trenton Hassell",
           -2.9,
           650,
           2001
          ],
          [
           "Gilbert Arenas",
           2.6,
           43,
           2001
          ],
          [
           "Will Solomon",
           -3.3,
           734,
           2001
          ],
          [
           "Terence Morris",
           -2.8,
           532,
           2001
          ],
          [
           "Brian Scalabrine",
           -2.7,
           470,
           2001
          ],
          [
           "Mehmet Okur",
           1.1,
           168,
           2001
          ],
          [
           "Earl Watson",
           -1.4,
           213,
           2001
          ],
          [
           "Bobby Simmons",
           -0.7,
           167,
           2001
          ],
          [
           "Loren Woods",
           -2.5,
           280,
           2001
          ],
          [
           "Jarron Collins",
           -3.1,
           227,
           2001
          ],
          [
           "Yao Ming",
           3.2,
           413,
           2002
          ],
          [
           "Mike Dunleavy",
           0.3,
           814,
           2002
          ],
          [
           "Drew Gooden",
           -1.2,
           772,
           2002
          ],
          [
           "Nikoloz Tskitishvili",
           -6.1,
           983,
           2002
          ],
          [
           "Dajuan Wagner",
           -4.9,
           978,
           2002
          ],
          [
           "Nenê",
           1,
           355,
           2002
          ],
          [
           "Chris Wilcox",
           -1.6,
           683,
           2002
          ],
          [
           "Amar'e Stoudemire",
           1.3,
           405,
           2002
          ],
          [
           "Caron Butler",
           -0.2,
           543,
           2002
          ],
          [
           "Jared Jeffries",
           -2.4,
           787,
           2002
          ],
          [
           "Melvin Ely",
           -4,
           905,
           2002
          ],
          [
           "Marcus Haislip",
           -4.7,
           964,
           2002
          ],
          [
           "Fred Jones",
           -1,
           554,
           2002
          ],
          [
           "Boštjan Nachbar",
           -1.6,
           658,
           2002
          ],
          [
           "Jiří Welsch",
           -1.9,
           563,
           2002
          ],
          [
           "Juan Dixon",
           -2.1,
           713,
           2002
          ],
          [
           "Curtis Borchardt",
           -3.8,
           835,
           2002
          ],
          [
           "Ryan Humphrey",
           -8.1,
           984,
           2002
          ],
          [
           "Kareem Rush",
           -3.2,
           825,
           2002
          ],
          [
           "Qyntel Woods",
           -2.7,
           704,
           2002
          ],
          [
           "Casey Jacobsen",
           -2.2,
           720,
           2002
          ],
          [
           "Tayshaun Prince",
           0.3,
           341,
           2002
          ],
          [
           "Nenad Krstić",
           -2.6,
           782,
           2002
          ],
          [
           "Frank Williams",
           -3.2,
           820,
           2002
          ],
          [
           "John Salmons",
           -0.9,
           519,
           2002
          ],
          [
           "Dan Dickau",
           -1.5,
           465,
           2002
          ],
          [
           "Roger Mason",
           -1.4,
           344,
           2002
          ],
          [
           "Dan Gadzuric",
           -2.3,
           453,
           2002
          ],
          [
           "Carlos Boozer",
           1.4,
           69,
           2002
          ],
          [
           "David Andersen",
           -2.9,
           364,
           2002
          ],
          [
           "Juan Carlos Navarro",
           -2.3,
           311,
           2002
          ],
          [
           "Ronald Murray",
           -2.2,
           326,
           2002
          ],
          [
           "Lonny Baxter",
           -4.6,
           396,
           2002
          ],
          [
           "Matt Barnes",
           -0.1,
           93,
           2002
          ],
          [
           "Darius Songaila",
           -2.1,
           62,
           2002
          ],
          [
           "Rasual Butler",
           -1.4,
           105,
           2002
          ],
          [
           "Luis Scola",
           -0.7,
           82,
           2002
          ],
          [
           "LeBron James",
           8.8,
           20,
           2003
          ],
          [
           "Darko Miličić",
           -2.4,
           884,
           2003
          ],
          [
           "Carmelo Anthony",
           1.3,
           686,
           2003
          ],
          [
           "Chris Bosh",
           1.9,
           309,
           2003
          ],
          [
           "Dwyane Wade",
           5,
           70,
           2003
          ],
          [
           "Chris Kaman",
           -1.9,
           845,
           2003
          ],
          [
           "Kirk Hinrich",
           -11.86,
           997,
           2003
          ],
          [
           "T.J. Ford",
           -0.4,
           500,
           2003
          ],
          [
           "Mike Sweetney",
           -2.7,
           924,
           2003
          ],
          [
           "Jarvis Hayes",
           -2.5,
           854,
           2003
          ],
          [
           "Mickaël Piétrus",
           -0.9,
           575,
           2003
          ],
          [
           "Nick Collison",
           -1.3,
           586,
           2003
          ],
          [
           "Marcus Banks",
           -2,
           812,
           2003
          ],
          [
           "Luke Ridnour",
           -0.6,
           497,
           2003
          ],
          [
           "Žarko Čabarkapa",
           -3.9,
           902,
           2003
          ],
          [
           "David West",
           1.7,
           138,
           2003
          ],
          [
           "Sasha Pavlović",
           -3.4,
           848,
           2003
          ],
          [
           "Dahntay Jones",
           -3.7,
           875,
           2003
          ],
          [
           "Boris Diaw",
           0.1,
           287,
           2003
          ],
          [
           "Zoran Planinić",
           -3.5,
           871,
           2003
          ],
          [
           "Travis Outlaw",
           -1.4,
           598,
           2003
          ],
          [
           "Brian Cook",
           -1.6,
           636,
           2003
          ],
          [
           "Carlos Delfino",
           0.5,
           292,
           2003
          ],
          [
           "Kendrick Perkins",
           -1.9,
           632,
           2003
          ],
          [
           "Leandro Barbosa",
           -0.2,
           284,
           2003
          ],
          [
           "Josh Howard",
           0.6,
           216,
           2003
          ],
          [
           "Jason Kapono",
           -2.6,
           526,
           2003
          ],
          [
           "Luke Walton",
           -1,
           302,
           2003
          ],
          [
           "Steve Blake",
           -1.2,
           439,
           2003
          ],
          [
           "Willie Green",
           -2.7,
           425,
           2003
          ],
          [
           "Zaza Pachulia",
           -1.5,
           245,
           2003
          ],
          [
           "Keith Bogans",
           -1.5,
           120,
           2003
          ],
          [
           "Matt Bonner",
           1,
           84,
           2003
          ],
          [
           "Mo Williams",
           -0.3,
           160,
           2003
          ],
          [
           "James Jones",
           -0.1,
           48,
           2003
          ],
          [
           "Kyle Korver",
           0.6,
           4,
           2003
          ],
          [
           "Dwight Howard",
           1.9,
           622,
           2004
          ],
          [
           "Emeka Okafor",
           -0.6,
           678,
           2004
          ],
          [
           "Ben Gordon",
           -0.3,
           874,
           2004
          ],
          [
           "Shaun Livingston",
           -1,
           750,
           2004
          ],
          [
           "Devin Harris",
           0.6,
           522,
           2004
          ],
          [
           "Josh Childress",
           0.8,
           464,
           2004
          ],
          [
           "Luol Deng",
           0.9,
           366,
           2004
          ],
          [
           "Rafael Araújo",
           -7.2,
           982,
           2004
          ],
          [
           "Andre Iguodala",
           2.1,
           294,
           2004
          ],
          [
           "Andris Biedriņš",
           -0.4,
           498,
           2004
          ],
          [
           "Robert Swift",
           -3.8,
           890,
           2004
          ],
          [
           "Sebastian Telfair",
           -3.4,
           931,
           2004
          ],
          [
           "Kris Humphries",
           -1.7,
           659,
           2004
          ],
          [
           "Al Jefferson",
           1.2,
           261,
           2004
          ],
          [
           "Kirk Snyder",
           -1.2,
           454,
           2004
          ],
          [
           "Josh Smith",
           1.7,
           189,
           2004
          ],
          [
           "J.R. Smith",
           0.2,
           277,
           2004
          ],
          [
           "Dorell Wright",
           0.9,
           256,
           2004
          ],
          [
           "Jameer Nelson",
           -0.1,
           379,
           2004
          ],
          [
           "Viktor Khryapa",
           -3.5,
           871,
           2004
          ],
          [
           "Delonte West",
           0.9,
           278,
           2004
          ],
          [
           "Tony Allen",
           0.3,
           318,
           2004
          ],
          [
           "Kevin Martin",
           1,
           254,
           2004
          ],
          [
           "Sasha Vujačić",
           -1,
           508,
           2004
          ],
          [
           "Beno Udrih",
           -0.9,
           372,
           2004
          ],
          [
           "David Harrison",
           -4.4,
           877,
           2004
          ],
          [
           "Anderson Varejão",
           0.3,
           209,
           2004
          ],
          [
           "Jackson Vroman",
           -5.1,
           866,
           2004
          ],
          [
           "Royal Ivey",
           -3.8,
           504,
           2004
          ],
          [
           "Chris Duhon",
           -1.2,
           439,
           2004
          ],
          [
           "Justin Reed",
           -5.9,
           827,
           2004
          ],
          [
           "Trevor Ariza",
           0.6,
           28,
           2004
          ],
          [
           "Bernard Robinson",
           -2,
           330,
           2004
          ],
          [
           "Andrew Bogut",
           1.2,
           725,
           2005
          ],
          [
           "Marvin Williams",
           -0.4,
           645,
           2005
          ],
          [
           "Deron Williams",
           1.9,
           597,
           2005
          ],
          [
           "Chris Paul",
           7.1,
           17,
           2005
          ],
          [
           "Raymond Felton",
           -0.6,
           700,
           2005
          ],
          [
           "Martell Webster",
           -0.8,
           712,
           2005
          ],
          [
           "Charlie Villanueva",
           -0.6,
           599,
           2005
          ],
          [
           "Channing Frye",
           -0.4,
           500,
           2005
          ],
          [
           "Ike Diogu",
           -3,
           936,
           2005
          ],
          [
           "Andrew Bynum",
           1.4,
           300,
           2005
          ],
          [
           "Sean May",
           -1.7,
           778,
           2005
          ],
          [
           "Rashad McCants",
           -1.7,
           659,
           2005
          ],
          [
           "Antoine Wright",
           -3.7,
           896,
           2005
          ],
          [
           "Joey Graham",
           -3.6,
           797,
           2005
          ],
          [
           "Danny Granger",
           1.8,
           181,
           2005
          ],
          [
           "Gerald Green",
           -1.3,
           488,
           2005
          ],
          [
           "Hakim Warrick",
           -1.9,
           656,
           2005
          ],
          [
           "Nate Robinson",
           0.5,
           247,
           2005
          ],
          [
           "Jarrett Jack",
           -0.9,
           524,
           2005
          ],
          [
           "Francisco García",
           -0.1,
           399,
           2005
          ],
          [
           "Luther Head",
           0.1,
           379,
           2005
          ],
          [
           "Johan Petro",
           -4.6,
           934,
           2005
          ],
          [
           "Jason Maxiell",
           -2.5,
           757,
           2005
          ],
          [
           "Linas Kleiza",
           -2.3,
           697,
           2005
          ],
          [
           "Ian Mahinmi",
           -2,
           547,
           2005
          ],
          [
           "David Lee",
           1.1,
           144,
           2005
          ],
          [
           "Salim Stoudamire",
           -2.9,
           573,
           2005
          ],
          [
           "Daniel Ewing",
           -3,
           604,
           2005
          ],
          [
           "Brandon Bass",
           -0.8,
           353,
           2005
          ],
          [
           "C.J. Miles",
           -0.4,
           210,
           2005
          ],
          [
           "Ersan İlyasova",
           -0.1,
           140,
           2005
          ],
          [
           "Ronny Turiaf",
           0.3,
           85,
           2005
          ],
          [
           "Travis Diener",
           -0.4,
           328,
           2005
          ],
          [
           "Von Wafer",
           -1.8,
           72,
           2005
          ],
          [
           "Monta Ellis",
           -0.3,
           125,
           2005
          ],
          [
           "Roko Ukić",
           -4.3,
           680,
           2005
          ],
          [
           "Lou Williams",
           1.4,
           59,
           2005
          ],
          [
           "Mickaël Gelabale",
           -2.1,
           243,
           2005
          ],
          [
           "Andray Blatche",
           -0.8,
           75,
           2005
          ],
          [
           "Ryan Gomes",
           -1.6,
           47,
           2005
          ],
          [
           "Orien Greene",
           -4.6,
           417,
           2005
          ],
          [
           "Lawrence Roberts",
           -1.9,
           41,
           2005
          ],
          [
           "Amir Johnson",
           0.3,
           36,
           2005
          ],
          [
           "Marcin Gortat",
           0.4,
           7,
           2005
          ],
          [
           "Andrea Bargnani",
           -1.6,
           954,
           2006
          ],
          [
           "LaMarcus Aldridge",
           1.7,
           329,
           2006
          ],
          [
           "Adam Morrison",
           -5,
           989,
           2006
          ],
          [
           "Tyrus Thomas",
           -1.2,
           772,
           2006
          ],
          [
           "Shelden Williams",
           -3,
           937,
           2006
          ],
          [
           "Brandon Roy",
           3.6,
           143,
           2006
          ],
          [
           "Randy Foye",
           -1.2,
           690,
           2006
          ],
          [
           "Rudy Gay",
           0.6,
           346,
           2006
          ],
          [
           "Patrick O'Bryant",
           -4.6,
           976,
           2006
          ],
          [
           "J.J. Redick",
           0.6,
           345,
           2006
          ],
          [
           "Hilton Armstrong",
           -4.1,
           921,
           2006
          ],
          [
           "Thabo Sefolosha",
           0.6,
           429,
           2006
          ],
          [
           "Ronnie Brewer",
           1.6,
           206,
           2006
          ],
          [
           "Rodney Carney",
           -1.6,
           518,
           2006
          ],
          [
           "Shawne Williams",
           -2.2,
           727,
           2006
          ],
          [
           "Oleksiy Pecherov",
           -4.8,
           923,
           2006
          ],
          [
           "Quincy Douby",
           -3.5,
           860,
           2006
          ],
          [
           "Renaldo Balkman",
           0.1,
           352,
           2006
          ],
          [
           "Rajon Rondo",
           1.2,
           177,
           2006
          ],
          [
           "Marcus Williams",
           -3.3,
           852,
           2006
          ],
          [
           "Josh Boone",
           -2,
           689,
           2006
          ],
          [
           "Kyle Lowry",
           2.9,
           111,
           2006
          ],
          [
           "Shannon Brown",
           -1.5,
           590,
           2006
          ],
          [
           "Jordan Farmar",
           -0.5,
           455,
           2006
          ],
          [
           "Sergio Rodríguez",
           -2,
           655,
           2006
          ],
          [
           "Maurice Ager",
           -9.4,
           990,
           2006
          ],
          [
           "Mardy Collins",
           -4.4,
           877,
           2006
          ],
          [
           "Joel Freeland",
           -3.3,
           714,
           2006
          ],
          [
           "Steve Novak",
           0.8,
           136,
           2006
          ],
          [
           "Solomon Jones",
           -4,
           817,
           2006
          ],
          [
           "Paul Davis",
           -4.2,
           744,
           2006
          ],
          [
           "P.J. Tucker",
           -0.9,
           226,
           2006
          ],
          [
           "Craig Smith",
           -1.2,
           232,
           2006
          ],
          [
           "Bobby Jones",
           -4.1,
           548,
           2006
          ],
          [
           "Daniel Gibson",
           -1,
           195,
           2006
          ],
          [
           "Alexander Johnson",
           -4.6,
           723,
           2006
          ],
          [
           "Paul Millsap",
           1.9,
           44,
           2006
          ],
          [
           "Leon Powe",
           -1.6,
           118,
           2006
          ],
          [
           "Ryan Hollins",
           -4.1,
           183,
           2006
          ],
          [
           "Greg Oden",
           -0.4,
           892,
           2007
          ],
          [
           "Kevin Durant",
           6.8,
           18,
           2007
          ],
          [
           "Al Horford",
           2.9,
           433,
           2007
          ],
          [
           "Mike Conley",
           2.4,
           259,
           2007
          ],
          [
           "Jeff Green",
           -1.4,
           800,
           2007
          ],
          [
           "Yi Jianlian",
           -4.3,
           963,
           2007
          ],
          [
           "Corey Brewer",
           -1.6,
           751,
           2007
          ],
          [
           "Brandan Wright",
           2.3,
           165,
           2007
          ],
          [
           "Joakim Noah",
           2.5,
           256,
           2007
          ],
          [
           "Spencer Hawes",
           -1.1,
           681,
           2007
          ],
          [
           "Acie Law",
           -3.9,
           926,
           2007
          ],
          [
           "Thaddeus Young",
           0.5,
           313,
           2007
          ],
          [
           "Julian Wright",
           -0.5,
           610,
           2007
          ],
          [
           "Al Thornton",
           -3.5,
           876,
           2007
          ],
          [
           "Rodney Stuckey",
           -0.9,
           552,
           2007
          ],
          [
           "Nick Young",
           -2.2,
           612,
           2007
          ],
          [
           "Sean Williams",
           -3.1,
           834,
           2007
          ],
          [
           "Marco Belinelli",
           -1.3,
           488,
           2007
          ],
          [
           "Javaris Crittenton",
           -4.2,
           914,
           2007
          ],
          [
           "Jason Smith",
           -2.9,
           793,
           2007
          ],
          [
           "Daequan Cook",
           -2.7,
           704,
           2007
          ],
          [
           "Jared Dudley",
           0.2,
           360,
           2007
          ],
          [
           "Wilson Chandler",
           -1.3,
           580,
           2007
          ],
          [
           "Rudy Fernández",
           1.7,
           192,
           2007
          ],
          [
           "Aaron Brooks",
           -1.2,
           564,
           2007
          ],
          [
           "Arron Afflalo",
           -1.5,
           578,
           2007
          ],
          [
           "Tiago Splitter",
           1.1,
           158,
           2007
          ],
          [
           "Carl Landry",
           -0.3,
           217,
           2007
          ],
          [
           "Glen Davis",
           -2.6,
           456,
           2007
          ],
          [
           "Josh McRoberts",
           0.3,
           85,
           2007
          ],
          [
           "Kyrylo Fesenko",
           -5.7,
           949,
           2007
          ],
          [
           "Dominic McGuire",
           -2.1,
           348,
           2007
          ],
          [
           "Marc Gasol",
           3.1,
           10,
           2007
          ],
          [
           "Aaron Gray",
           -3.6,
           288,
           2007
          ],
          [
           "Ramon Sessions",
           -0.7,
           82,
           2007
          ],
          [
           "Derrick Rose",
           1.3,
           711,
           2008
          ],
          [
           "Michael Beasley",
           -1.7,
           819,
           2008
          ],
          [
           "O.J. Mayo",
           -0.9,
           925,
           2008
          ],
          [
           "Russell Westbrook",
           4,
           122,
           2008
          ],
          [
           "Kevin Love",
           3.2,
           186,
           2008
          ],
          [
           "Danilo Gallinari",
           1.8,
           319,
           2008
          ],
          [
           "Eric Gordon",
           -0.7,
           620,
           2008
          ],
          [
           "D.J. Augustin",
           -0.7,
           717,
           2008
          ],
          [
           "Brook Lopez",
           1.4,
           300,
           2008
          ],
          [
           "Jerryd Bayless",
           -1.6,
           682,
           2008
          ],
          [
           "Jason Thompson",
           -2.6,
           775,
           2008
          ],
          [
           "Brandon Rush",
           -1.4,
           740,
           2008
          ],
          [
           "Anthony Randolph",
           -1.6,
           644,
           2008
          ],
          [
           "Robin Lopez",
           -1.1,
           583,
           2008
          ],
          [
           "Marreese Speights",
           -2.2,
           612,
           2008
          ],
          [
           "Roy Hibbert",
           -1.1,
           560,
           2008
          ],
          [
           "JaVale McGee",
           -11.86,
           992,
           2008
          ],
          [
           "J.J. Hickson",
           -1.8,
           634,
           2008
          ],
          [
           "Alexis Ajinça",
           -2.8,
           780,
           2008
          ],
          [
           "Ryan Anderson",
           1,
           196,
           2008
          ],
          [
           "Courtney Lee",
           -0.6,
           478,
           2008
          ],
          [
           "Kosta Koufos",
           -1.3,
           580,
           2008
          ],
          [
           "Serge Ibaka",
           0.5,
           322,
           2008
          ],
          [
           "Nicolas Batum",
           1.6,
           180,
           2008
          ],
          [
           "George Hill",
           1.1,
           240,
           2008
          ],
          [
           "Darrell Arthur",
           -2.2,
           685,
           2008
          ],
          [
           "Donté Greene",
           -2.8,
           666,
           2008
          ],
          [
           "D.J. White",
           -2.1,
           588,
           2008
          ],
          [
           "Nikola Peković",
           -0.7,
           265,
           2008
          ],
          [
           "Joey Dorsey",
           -2.7,
           640,
           2008
          ],
          [
           "Mario Chalmers",
           -0.6,
           225,
           2008
          ],
          [
           "DeAndre Jordan",
           1.2,
           88,
           2008
          ],
          [
           "Ömer Aşık",
           -1.9,
           312,
           2008
          ],
          [
           "Luc Mbah a Moute",
           -1.5,
           200,
           2008
          ],
          [
           "Sonny Weems",
           -4.2,
           245,
           2008
          ],
          [
           "Chris Douglas-Roberts",
           -2.2,
           297,
           2008
          ],
          [
           "Goran Dragić",
           0.5,
           108,
           2008
          ],
          [
           "Henry Walker",
           -1.8,
           305,
           2008
          ],
          [
           "Darnell Jackson",
           -5.2,
           487,
           2008
          ],
          [
           "Blake Griffin",
           3.3,
           404,
           2009
          ],
          [
           "Hasheem Thabeet",
           -2.7,
           907,
           2009
          ],
          [
           "James Harden",
           6.7,
           79,
           2009
          ],
          [
           "Tyreke Evans",
           0.8,
           473,
           2009
          ],
          [
           "Ricky Rubio",
           0.5,
           537,
           2009
          ],
          [
           "Jonny Flynn",
           -4,
           959,
           2009
          ],
          [
           "Stephen Curry",
           6.6,
           15,
           2009
          ],
          [
           "Jordan Hill",
           -2,
           739,
           2009
          ],
          [
           "DeMar DeRozan",
           0.8,
           490,
           2009
          ],
          [
           "Brandon Jennings",
           0.8,
           386,
           2009
          ],
          [
           "Terrence Williams",
           -2.8,
           832,
           2009
          ],
          [
           "Gerald Henderson",
           -1.8,
           662,
           2009
          ],
          [
           "Tyler Hansbrough",
           -2,
           812,
           2009
          ],
          [
           "Earl Clark",
           -2.8,
           803,
           2009
          ],
          [
           "Austin Daye",
           -2,
           719,
           2009
          ],
          [
           "James Johnson",
           0.4,
           236,
           2009
          ],
          [
           "Jrue Holiday",
           1.6,
           198,
           2009
          ],
          [
           "Ty Lawson",
           1.4,
           162,
           2009
          ],
          [
           "Jeff Teague",
           0.6,
           285,
           2009
          ],
          [
           "Eric Maynor",
           -2.9,
           793,
           2009
          ],
          [
           "Darren Collison",
           0.5,
           247,
           2009
          ],
          [
           "Omri Casspi",
           -0.8,
           512,
           2009
          ],
          [
           "Byron Mullens",
           -4,
           917,
           2009
          ],
          [
           "Rodrigue Beaubois",
           -0.1,
           371,
           2009
          ],
          [
           "Taj Gibson",
           -0.8,
           506,
           2009
          ],
          [
           "DeMarre Carroll",
           -11.86,
           993,
           2009
          ],
          [
           "Wayne Ellington",
           -1.5,
           465,
           2009
          ],
          [
           "Toney Douglas",
           -0.8,
           385,
           2009
          ],
          [
           "Jeff Ayres",
           -2.3,
           482,
           2009
          ],
          [
           "Dante Cunningham",
           -1.7,
           495,
           2009
          ],
          [
           "DaJuan Summers",
           -5.8,
           879,
           2009
          ],
          [
           "Sam Young",
           -2.1,
           342,
           2009
          ],
          [
           "DeJuan Blair",
           -1.2,
           175,
           2009
          ],
          [
           "Jon Brockman",
           -3.9,
           829,
           2009
          ],
          [
           "Jonas Jerebko",
           -1,
           40,
           2009
          ],
          [
           "Derrick Brown",
           -1.3,
           203,
           2009
          ],
          [
           "Jodie Meeks",
           -0.6,
           179,
           2009
          ],
          [
           "Patrick Beverley",
           0.9,
           72,
           2009
          ],
          [
           "Marcus Thornton",
           0.2,
           37,
           2009
          ],
          [
           "Chase Budinger",
           -0.5,
           52,
           2009
          ],
          [
           "Nick Calathes",
           -0.5,
           172,
           2009
          ],
          [
           "Danny Green",
           1.9,
           21,
           2009
          ],
          [
           "A.J. Price",
           -1.3,
           90,
           2009
          ],
          [
           "Nando De Colo",
           -0.7,
           66,
           2009
          ],
          [
           "Patty Mills",
           -11.86,
           966,
           2009
          ],
          [
           "John Wall",
           2.2,
           576,
           2010
          ],
          [
           "Evan Turner",
           -1.9,
           841,
           2010
          ],
          [
           "Derrick Favors",
           0.9,
           748,
           2010
          ],
          [
           "Wesley Johnson",
           -1.6,
           816,
           2010
          ],
          [
           "DeMarcus Cousins",
           2.4,
           272,
           2010
          ],
          [
           "Ekpe Udoh",
           -1.4,
           788,
           2010
          ],
          [
           "Greg Monroe",
           1.4,
           298,
           2010
          ],
          [
           "Al-Farouq Aminu",
           -0.6,
           530,
           2010
          ],
          [
           "Gordon Hayward",
           1.8,
           337,
           2010
          ],
          [
           "Paul George",
           4,
           96,
           2010
          ],
          [
           "Cole Aldrich",
           0.1,
           412,
           2010
          ],
          [
           "Xavier Henry",
           -4.4,
           933,
           2010
          ],
          [
           "Ed Davis",
           -0.2,
           558,
           2010
          ],
          [
           "Patrick Patterson",
           -11.86,
           995,
           2010
          ],
          [
           "Larry Sanders",
           -1.1,
           583,
           2010
          ],
          [
           "Luke Babbitt",
           -2.1,
           596,
           2010
          ],
          [
           "Kevin Séraphin",
           -4.3,
           931,
           2010
          ],
          [
           "Eric Bledsoe",
           1.6,
           146,
           2010
          ],
          [
           "Avery Bradley",
           -2.4,
           730,
           2010
          ],
          [
           "James Anderson",
           -2.7,
           770,
           2010
          ],
          [
           "Elliot Williams",
           -4.9,
           950,
           2010
          ],
          [
           "Trevor Booker",
           -0.5,
           460,
           2010
          ],
          [
           "Quincy Pondexter",
           -1.8,
           652,
           2010
          ],
          [
           "Jordan Crawford",
           -1.3,
           551,
           2010
          ],
          [
           "Greivis Vásquez",
           -1.2,
           415,
           2010
          ],
          [
           "Hassan Whiteside",
           2.5,
           71,
           2010
          ],
          [
           "Nemanja Bjelica",
           0.3,
           129,
           2010
          ],
          [
           "Landry Fields",
           -0.3,
           25,
           2010
          ],
          [
           "Lance Stephenson",
           -1.3,
           203,
           2010
          ],
          [
           "Jeremy Evans",
           0.9,
           6,
           2010
          ],
          [
           "Kyrie Irving",
           4.5,
           250,
           2011
          ],
          [
           "Derrick Williams",
           -1.6,
           804,
           2011
          ],
          [
           "Enes Freedom",
           -0.1,
           861,
           2011
          ],
          [
           "Tristan Thompson",
           -1.7,
           826,
           2011
          ],
          [
           "Jonas Valančiūnas",
           1,
           459,
           2011
          ],
          [
           "Jan Veselý",
           -2.6,
           901,
           2011
          ],
          [
           "Bismack Biyombo",
           -2.5,
           851,
           2011
          ],
          [
           "Brandon Knight",
           -1.6,
           683,
           2011
          ],
          [
           "Kemba Walker",
           2.8,
           220,
           2011
          ],
          [
           "Jimmer Fredette",
           -2.5,
           854,
           2011
          ],
          [
           "Klay Thompson",
           0.7,
           332,
           2011
          ],
          [
           "Alec Burks",
           -0.4,
           441,
           2011
          ],
          [
           "Markieff Morris",
           -1.4,
           740,
           2011
          ],
          [
           "Marcus Morris",
           -0.7,
           515,
           2011
          ],
          [
           "Kawhi Leonard",
           6.8,
           8,
           2011
          ],
          [
           "Nikola Vučević",
           2.3,
           101,
           2011
          ],
          [
           "Iman Shumpert",
           -1.7,
           648,
           2011
          ],
          [
           "Chris Singleton",
           -3.2,
           767,
           2011
          ],
          [
           "Tobias Harris",
           1,
           242,
           2011
          ],
          [
           "Donatas Motiejūnas",
           -2.5,
           749,
           2011
          ],
          [
           "Nolan Smith",
           -6,
           960,
           2011
          ],
          [
           "Kenneth Faried",
           0.5,
           313,
           2011
          ],
          [
           "Nikola Mirotić",
           1.6,
           194,
           2011
          ],
          [
           "Reggie Jackson",
           -0.3,
           434,
           2011
          ],
          [
           "MarShon Brooks",
           -1.6,
           607,
           2011
          ],
          [
           "Jordan Hamilton",
           -0.1,
           394,
           2011
          ],
          [
           "Norris Cole",
           -4.1,
           833,
           2011
          ],
          [
           "Cory Joseph",
           -1.1,
           424,
           2011
          ],
          [
           "Jimmy Butler",
           5,
           11,
           2011
          ],
          [
           "Bojan Bogdanović",
           -0.7,
           265,
           2011
          ],
          [
           "Kyle Singler",
           -2.5,
           618,
           2011
          ],
          [
           "Shelvin Mack",
           -1.9,
           392,
           2011
          ],
          [
           "Chandler Parsons",
           1.1,
           168,
           2011
          ],
          [
           "Jeremy Tyler",
           -7,
           641,
           2011
          ],
          [
           "Jon Leuer",
           -0.7,
           157,
           2011
          ],
          [
           "Darius Morris",
           -5.1,
           786,
           2011
          ],
          [
           "Dāvis Bertāns",
           0.3,
           107,
           2011
          ],
          [
           "Charles Jenkins",
           -4.5,
           378,
           2011
          ],
          [
           "Lavoy Allen",
           -2.1,
           62,
           2011
          ],
          [
           "DeAndre Liggins",
           -2.2,
           156,
           2011
          ],
          [
           "E'Twaun Moore",
           -1.9,
           41,
           2011
          ],
          [
           "Isaiah Thomas",
           2.1,
           3,
           2011
          ],
          [
           "Anthony Davis",
           6.1,
           119,
           2012
          ],
          [
           "Michael Kidd-Gilchrist",
           -1.8,
           830,
           2012
          ],
          [
           "Bradley Beal",
           1.7,
           625,
           2012
          ],
          [
           "Dion Waiters",
           -2.1,
           869,
           2012
          ],
          [
           "Thomas Robinson",
           -3.5,
           952,
           2012
          ],
          [
           "Damian Lillard",
           4.9,
           68,
           2012
          ],
          [
           "Harrison Barnes",
           -0.8,
           626,
           2012
          ],
          [
           "Terrence Ross",
           -1,
           594,
           2012
          ],
          [
           "Andre Drummond",
           1.2,
           419,
           2012
          ],
          [
           "Austin Rivers",
           -3.1,
           900,
           2012
          ],
          [
           "Meyers Leonard",
           -1.5,
           664,
           2012
          ],
          [
           "Jeremy Lamb",
           0.6,
           299,
           2012
          ],
          [
           "Kendall Marshall",
           -3.5,
           935,
           2012
          ],
          [
           "John Henson",
           -0.5,
           475,
           2012
          ],
          [
           "Maurice Harkless",
           -0.8,
           539,
           2012
          ],
          [
           "Tyler Zeller",
           -2,
           696,
           2012
          ],
          [
           "Terrence Jones",
           0.5,
           241,
           2012
          ],
          [
           "Andrew Nicholson",
           -3.6,
           868,
           2012
          ],
          [
           "Evan Fournier",
           -1,
           521,
           2012
          ],
          [
           "Jared Sullinger",
           -0.4,
           356,
           2012
          ],
          [
           "John Jenkins",
           -1.9,
           672,
           2012
          ],
          [
           "Jared Cunningham",
           -5.7,
           971,
           2012
          ],
          [
           "Tony Wroten",
           -3.4,
           844,
           2012
          ],
          [
           "Miles Plumlee",
           -1.9,
           667,
           2012
          ],
          [
           "Perry Jones",
           -3.5,
           766,
           2012
          ],
          [
           "Marquis Teague",
           -6.5,
           970,
           2012
          ],
          [
           "Festus Ezeli",
           -2,
           517,
           2012
          ],
          [
           "Jeff Taylor",
           -4.2,
           764,
           2012
          ],
          [
           "Tomáš Satoranský",
           -0.9,
           290,
           2012
          ],
          [
           "Bernard James",
           -1.8,
           512,
           2012
          ],
          [
           "Jae Crowder",
           0.3,
           155,
           2012
          ],
          [
           "Draymond Green",
           2.5,
           31,
           2012
          ],
          [
           "Orlando Johnson",
           -2.4,
           384,
           2012
          ],
          [
           "Quincy Acy",
           -2,
           252,
           2012
          ],
          [
           "Khris Middleton",
           0.7,
           13,
           2012
          ],
          [
           "Will Barton",
           -0.4,
           132,
           2012
          ],
          [
           "Doron Lamb",
           -5.8,
           840,
           2012
          ],
          [
           "Mike Scott",
           -1.7,
           127,
           2012
          ],
          [
           "Justin Hamilton",
           -0.9,
           208,
           2012
          ],
          [
           "Darius Miller",
           -2.3,
           260,
           2012
          ],
          [
           "Kyle O'Quinn",
           0.9,
           22,
           2012
          ],
          [
           "Robbie Hummel",
           -3.1,
           133,
           2012
          ],
          [
           "Robert Sacre",
           -4,
           212,
           2012
          ],
          [
           "Anthony Bennett",
           -4.8,
           988,
           2013
          ],
          [
           "Victor Oladipo",
           0.7,
           480,
           2013
          ],
          [
           "Otto Porter Jr.",
           1.8,
           617,
           2013
          ],
          [
           "Cody Zeller",
           -0.6,
           688,
           2013
          ],
          [
           "Alex Len",
           -1.9,
           862,
           2013
          ],
          [
           "Nerlens Noel",
           0.9,
           449,
           2013
          ],
          [
           "Ben McLemore",
           -3.1,
           896,
           2013
          ],
          [
           "Kentavious Caldwell-Pope",
           -0.8,
           557,
           2013
          ],
          [
           "Trey Burke",
           -1.3,
           792,
           2013
          ],
          [
           "CJ McCollum",
           1.3,
           316,
           2013
          ],
          [
           "Michael Carter-Williams",
           -1.2,
           621,
           2013
          ],
          [
           "Steven Adams",
           0.5,
           313,
           2013
          ],
          [
           "Kelly Olynyk",
           0.9,
           389,
           2013
          ],
          [
           "Shabazz Muhammad",
           -2,
           706,
           2013
          ],
          [
           "Giannis Antetokounmpo",
           6.2,
           12,
           2013
          ],
          [
           "Lucas Nogueira",
           2.3,
           101,
           2013
          ],
          [
           "Dennis Schröder",
           -1.4,
           610,
           2013
          ],
          [
           "Shane Larkin",
           -2.4,
           654,
           2013
          ],
          [
           "Sergey Karasev",
           -3.4,
           848,
           2013
          ],
          [
           "Tony Snell",
           -2,
           669,
           2013
          ],
          [
           "Gorgui Dieng",
           0.2,
           282,
           2013
          ],
          [
           "Mason Plumlee",
           1.4,
           215,
           2013
          ],
          [
           "Solomon Hill",
           -2.1,
           701,
           2013
          ],
          [
           "Tim Hardaway Jr.",
           -0.9,
           535,
           2013
          ],
          [
           "Reggie Bullock",
           -1.1,
           527,
           2013
          ],
          [
           "Andre Roberson",
           -0.6,
           468,
           2013
          ],
          [
           "Rudy Gobert",
           3.6,
           57,
           2013
          ],
          [
           "Archie Goodwin",
           -3,
           721,
           2013
          ],
          [
           "Allen Crabbe",
           -1.6,
           370,
           2013
          ],
          [
           "Álex Abrines",
           -1.9,
           427,
           2013
          ],
          [
           "Isaiah Canaan",
           -2.4,
           467,
           2013
          ],
          [
           "Ray McCallum",
           -2.6,
           408,
           2013
          ],
          [
           "Nate Wolters",
           -2.6,
           661,
           2013
          ],
          [
           "Jeff Withey",
           0.5,
           16,
           2013
          ],
          [
           "Mike Muscala",
           0.2,
           29,
           2013
          ],
          [
           "Raul Neto",
           -1.5,
           276,
           2013
          ],
          [
           "Ryan Kelly",
           -2.6,
           296,
           2013
          ],
          [
           "James Ennis III",
           -1.5,
           38,
           2013
          ],
          [
           "Lorenzo Brown",
           -3.5,
           255,
           2013
          ],
          [
           "Joffrey Lauvergne",
           -2.1,
           50,
           2013
          ],
          [
           "Andrew Wiggins",
           -1.5,
           951,
           2014
          ],
          [
           "Jabari Parker",
           -0.8,
           708,
           2014
          ],
          [
           "Joel Embiid",
           6.5,
           91,
           2014
          ],
          [
           "Aaron Gordon",
           0.2,
           567,
           2014
          ],
          [
           "Dante Exum",
           -3.3,
           946,
           2014
          ],
          [
           "Marcus Smart",
           -0.2,
           623,
           2014
          ],
          [
           "Julius Randle",
           0.9,
           366,
           2014
          ],
          [
           "Nik Stauskas",
           -3,
           859,
           2014
          ],
          [
           "Noah Vonleh",
           -2.5,
           903,
           2014
          ],
          [
           "Elfrid Payton",
           -0.9,
           646,
           2014
          ],
          [
           "Doug McDermott",
           -2,
           736,
           2014
          ],
          [
           "Dario Šarić",
           -0.9,
           524,
           2014
          ],
          [
           "Zach LaVine",
           0.7,
           416,
           2014
          ],
          [
           "T.J. Warren",
           -0.3,
           438,
           2014
          ],
          [
           "Adreian Payne",
           -5.9,
           977,
           2014
          ],
          [
           "Jusuf Nurkić",
           0.4,
           236,
           2014
          ],
          [
           "James Young",
           -3.4,
           867,
           2014
          ],
          [
           "Tyler Ennis",
           -3.4,
           790,
           2014
          ],
          [
           "Gary Harris",
           -1.3,
           566,
           2014
          ],
          [
           "Bruno Caboclo",
           -2.7,
           770,
           2014
          ],
          [
           "Rodney Hood",
           -1.2,
           568,
           2014
          ],
          [
           "Shabazz Napier",
           -0.7,
           509,
           2014
          ],
          [
           "Clint Capela",
           2.1,
           142,
           2014
          ],
          [
           "P.J. Hairston",
           -3.9,
           894,
           2014
          ],
          [
           "Bogdan Bogdanović",
           0.4,
           293,
           2014
          ],
          [
           "Kyle Anderson",
           1.9,
           100,
           2014
          ],
          [
           "K.J. McDaniels",
           -2.8,
           574,
           2014
          ],
          [
           "Joe Harris",
           -0.6,
           324,
           2014
          ],
          [
           "Johnny O'Bryant",
           -6.2,
           891,
           2014
          ],
          [
           "Spencer Dinwiddie",
           0.4,
           231,
           2014
          ],
          [
           "Jerami Grant",
           -0.4,
           26,
           2014
          ],
          [
           "Glenn Robinson III",
           -1.7,
           244,
           2014
          ],
          [
           "Nikola Jokić",
           9.4,
           1,
           2014
          ],
          [
           "Markel Brown",
           -2.9,
           191,
           2014
          ],
          [
           "Dwight Powell",
           0.9,
           89,
           2014
          ],
          [
           "Jordan Clarkson",
           -0.6,
           117,
           2014
          ],
          [
           "Thanasis Antetokounmpo",
           -4.1,
           116,
           2014
          ],
          [
           "Jordan McRae",
           -2.1,
           80,
           2014
          ],
          [
           "Karl-Anthony Towns",
           4.7,
           224,
           2015
          ],
          [
           "D'Angelo Russell",
           0.7,
           480,
           2015
          ],
          [
           "Jahlil Okafor",
           -2,
           957,
           2015
          ],
          [
           "Kristaps Porziņģis",
           2.1,
           286,
           2015
          ],
          [
           "Mario Hezonja",
           -2.8,
           930,
           2015
          ],
          [
           "Willie Cauley-Stein",
           -0.1,
           609,
           2015
          ],
          [
           "Emmanuel Mudiay",
           -3.2,
           904,
           2015
          ],
          [
           "Stanley Johnson",
           -2.7,
           821,
           2015
          ],
          [
           "Frank Kaminsky",
           -0.2,
           633,
           2015
          ],
          [
           "Justise Winslow",
           -2.1,
           807,
           2015
          ],
          [
           "Myles Turner",
           0.8,
           317,
           2015
          ],
          [
           "Trey Lyles",
           -1,
           541,
           2015
          ],
          [
           "Devin Booker",
           0.9,
           389,
           2015
          ],
          [
           "Cameron Payne",
           -0.5,
           475,
           2015
          ],
          [
           "Kelly Oubre Jr.",
           -1.7,
           674,
           2015
          ],
          [
           "Terry Rozier",
           0.4,
           236,
           2015
          ],
          [
           "Rashad Vaughn",
           -4.7,
           943,
           2015
          ],
          [
           "Sam Dekker",
           -1.4,
           507,
           2015
          ],
          [
           "Jerian Grant",
           -1.6,
           616,
           2015
          ],
          [
           "Delon Wright",
           2.3,
           131,
           2015
          ],
          [
           "Justin Anderson",
           -1.5,
           523,
           2015
          ],
          [
           "Bobby Portis",
           -0.4,
           441,
           2015
          ],
          [
           "Rondae Hollis-Jefferson",
           -0.7,
           495,
           2015
          ],
          [
           "Tyus Jones",
           0.6,
           307,
           2015
          ],
          [
           "Jarell Martin",
           -4.3,
           922,
           2015
          ],
          [
           "Larry Nance Jr.",
           1.1,
           219,
           2015
          ],
          [
           "Kevon Looney",
           0.4,
           199,
           2015
          ],
          [
           "Cedi Osman",
           -2.1,
           445,
           2015
          ],
          [
           "Montrezl Harrell",
           2.6,
           49,
           2015
          ],
          [
           "Willy Hernangómez",
           0.1,
           145,
           2015
          ],
          [
           "Richaun Holmes",
           0.3,
           85,
           2015
          ],
          [
           "Darrun Hilliard",
           -4.7,
           898,
           2015
          ],
          [
           "Josh Richardson",
           -0.5,
           139,
           2015
          ],
          [
           "Pat Connaughton",
           -0.2,
           150,
           2015
          ],
          [
           "Joe Young",
           -4.1,
           375,
           2015
          ],
          [
           "Andrew Harrison",
           -2.8,
           184,
           2015
          ],
          [
           "Norman Powell",
           -0.1,
           93,
           2015
          ],
          [
           "Ben Simmons",
           3.4,
           388,
           2016
          ],
          [
           "Brandon Ingram",
           -0.1,
           602,
           2016
          ],
          [
           "Jaylen Brown",
           0.3,
           814,
           2016
          ],
          [
           "Dragan Bender",
           -3.9,
           958,
           2016
          ],
          [
           "Kris Dunn",
           -1.7,
           839,
           2016
          ],
          [
           "Buddy Hield",
           0.4,
           528,
           2016
          ],
          [
           "Jamal Murray",
           0.5,
           423,
           2016
          ],
          [
           "Marquese Chriss",
           -2.4,
           789,
           2016
          ],
          [
           "Jakob Poeltl",
           1.2,
           419,
           2016
          ],
          [
           "Thon Maker",
           -2.1,
           807,
           2016
          ],
          [
           "Domantas Sabonis",
           2.5,
           151,
           2016
          ],
          [
           "Taurean Prince",
           -1.9,
           677,
           2016
          ],
          [
           "Denzel Valentine",
           -1.9,
           692,
           2016
          ],
          [
           "Juancho Hernangómez",
           -1.9,
           702,
           2016
          ],
          [
           "Henry Ellenson",
           -3.7,
           822,
           2016
          ],
          [
           "Malik Beasley",
           -1.1,
           534,
           2016
          ],
          [
           "Caris LeVert",
           -0.5,
           434,
           2016
          ],
          [
           "DeAndre' Bembry",
           -2.3,
           643,
           2016
          ],
          [
           "Ante Žižić",
           -2.6,
           774,
           2016
          ],
          [
           "Timothé Luwawu-Cabarrot",
           -4,
           917,
           2016
          ],
          [
           "Furkan Korkmaz",
           -1.9,
           667,
           2016
          ],
          [
           "Pascal Siakam",
           2,
           146,
           2016
          ],
          [
           "Skal Labissière",
           -2.3,
           592,
           2016
          ],
          [
           "Dejounte Murray",
           1.6,
           134,
           2016
          ],
          [
           "Damian Jones",
           -1,
           363,
           2016
          ],
          [
           "Deyonta Davis",
           -2.1,
           445,
           2016
          ],
          [
           "Ivica Zubac",
           0.3,
           173,
           2016
          ],
          [
           "Cheick Diallo",
           -1.4,
           436,
           2016
          ],
          [
           "Tyler Ulis",
           -3.6,
           651,
           2016
          ],
          [
           "Malcolm Brogdon",
           1.4,
           58,
           2016
          ],
          [
           "Patrick McCaw",
           -2.8,
           693,
           2016
          ],
          [
           "Isaiah Whitehead",
           -5,
           753,
           2016
          ],
          [
           "Jake Layman",
           -2.3,
           376,
           2016
          ],
          [
           "Paul Zipser",
           -5.2,
           687,
           2016
          ],
          [
           "Georges Niang",
           -1.2,
           32,
           2016
          ],
          [
           "Abdel Nader",
           -2.6,
           106,
           2016
          ],
          [
           "Tyrone Wallace",
           -5.2,
           349,
           2016
          ],
          [
           "Markelle Fultz",
           -1.1,
           938,
           2017
          ],
          [
           "Lonzo Ball",
           1.1,
           411,
           2017
          ],
          [
           "Jayson Tatum",
           3.3,
           377,
           2017
          ],
          [
           "Josh Jackson",
           -3.8,
           956,
           2017
          ],
          [
           "De'Aaron Fox",
           0.5,
           537,
           2017
          ],
          [
           "Jonathan Isaac",
           0.3,
           544,
           2017
          ],
          [
           "Lauri Markkanen",
           0.8,
           382,
           2017
          ],
          [
           "Frank Ntilikina",
           -4.4,
           942,
           2017
          ],
          [
           "Dennis Smith Jr.",
           -2.3,
           886,
           2017
          ],
          [
           "Zach Collins",
           -1.6,
           755,
           2017
          ],
          [
           "Malik Monk",
           -1.5,
           664,
           2017
          ],
          [
           "Luke Kennard",
           -0.2,
           408,
           2017
          ],
          [
           "Donovan Mitchell",
           3.1,
           153,
           2017
          ],
          [
           "Bam Adebayo",
           2.7,
           123,
           2017
          ],
          [
           "Justin Jackson",
           -2.8,
           818,
           2017
          ],
          [
           "D.J. Wilson",
           -2.6,
           779,
           2017
          ],
          [
           "T.J. Leaf",
           -1.8,
           565,
           2017
          ],
          [
           "John Collins",
           0.9,
           256,
           2017
          ],
          [
           "Harry Giles",
           -2.4,
           732,
           2017
          ],
          [
           "Terrance Ferguson",
           -4,
           864,
           2017
          ],
          [
           "Jarrett Allen",
           1.9,
           171,
           2017
          ],
          [
           "OG Anunoby",
           0.2,
           353,
           2017
          ],
          [
           "Kyle Kuzma",
           -1.1,
           520,
           2017
          ],
          [
           "Tony Bradley",
           0.2,
           234,
           2017
          ],
          [
           "Derrick White",
           1.4,
           148,
           2017
          ],
          [
           "Josh Hart",
           -0.1,
           251,
           2017
          ],
          [
           "Frank Jackson",
           -3.9,
           724,
           2017
          ],
          [
           "Davon Reed",
           -2.9,
           589,
           2017
          ],
          [
           "Wes Iwundu",
           -3.9,
           801,
           2017
          ],
          [
           "Frank Mason III",
           -2.6,
           505,
           2017
          ],
          [
           "Ivan Rabb",
           -1.7,
           321,
           2017
          ],
          [
           "Semi Ojeleye",
           -3.4,
           431,
           2017
          ],
          [
           "Jordan Bell",
           0.2,
           262,
           2017
          ],
          [
           "Dwayne Bacon",
           -5.1,
           733,
           2017
          ],
          [
           "Tyler Dorsey",
           -3,
           483,
           2017
          ],
          [
           "Thomas Bryant",
           1.3,
           55,
           2017
          ],
          [
           "Isaiah Hartenstein",
           1,
           23,
           2017
          ],
          [
           "Damyean Dotson",
           -2.8,
           184,
           2017
          ],
          [
           "Dillon Brooks",
           -3.8,
           603,
           2017
          ],
          [
           "Sterling Brown",
           -2.1,
           229,
           2017
          ],
          [
           "Sindarius Thornwell",
           -3.1,
           365,
           2017
          ],
          [
           "Vlatko Čančar",
           -2.1,
           149,
           2017
          ],
          [
           "Monte Morris",
           0.4,
           5,
           2017
          ],
          [
           "Edmond Sumner",
           -3,
           201,
           2017
          ],
          [
           "Deandre Ayton",
           1.1,
           737,
           2018
          ],
          [
           "Marvin Bagley III",
           -1.9,
           841,
           2018
          ],
          [
           "Luka Dončić",
           7.2,
           54,
           2018
          ],
          [
           "Jaren Jackson Jr.",
           0.7,
           493,
           2018
          ],
          [
           "Trae Young",
           3.1,
           193,
           2018
          ],
          [
           "Mo Bamba",
           0.2,
           556,
           2018
          ],
          [
           "Wendell Carter Jr.",
           -0.3,
           553,
           2018
          ],
          [
           "Collin Sexton",
           -2.3,
           777,
           2018
          ],
          [
           "Kevin Knox",
           -4.4,
           974,
           2018
          ],
          [
           "Mikal Bridges",
           1.2,
           331,
           2018
          ],
          [
           "Shai Gilgeous-Alexander",
           3.2,
           110,
           2018
          ],
          [
           "Miles Bridges",
           -0.2,
           408,
           2018
          ],
          [
           "Jerome Robinson",
           -4.7,
           964,
           2018
          ],
          [
           "Michael Porter Jr.",
           1.4,
           222,
           2018
          ],
          [
           "Troy Brown Jr.",
           -1.7,
           674,
           2018
          ],
          [
           "Donte DiVincenzo",
           0.1,
           374,
           2018
          ],
          [
           "Lonnie Walker IV",
           -2.8,
           716,
           2018
          ],
          [
           "Kevin Huerter",
           -0.8,
           491,
           2018
          ],
          [
           "Josh Okogie",
           -2.3,
           718,
           2018
          ],
          [
           "Grayson Allen",
           -0.4,
           356,
           2018
          ],
          [
           "Chandler Hutchison",
           -3.9,
           899,
           2018
          ],
          [
           "Aaron Holiday",
           -2.3,
           734,
           2018
          ],
          [
           "Anfernee Simons",
           -1.8,
           669,
           2018
          ],
          [
           "Moritz Wagner",
           -0.9,
           499,
           2018
          ],
          [
           "Landry Shamet",
           -1.8,
           652,
           2018
          ],
          [
           "Robert Williams",
           4.9,
           24,
           2018
          ],
          [
           "Omari Spellman",
           -1.5,
           430,
           2018
          ],
          [
           "Elie Okobo",
           -4.1,
           754,
           2018
          ],
          [
           "Jevon Carter",
           -0.9,
           290,
           2018
          ],
          [
           "Jalen Brunson",
           1,
           163,
           2018
          ],
          [
           "Devonte' Graham",
           -0.4,
           210,
           2018
          ],
          [
           "Mitchell Robinson",
           2.3,
           30,
           2018
          ],
          [
           "Gary Trent Jr.",
           -0.6,
           128,
           2018
          ],
          [
           "Isaac Bonga",
           -3.6,
           187,
           2018
          ],
          [
           "Rodions Kurucs",
           -2.8,
           381,
           2018
          ],
          [
           "Jarred Vanderbilt",
           0.4,
           115,
           2018
          ],
          [
           "Bruce Brown",
           -0.8,
           176,
           2018
          ],
          [
           "Hamidou Diallo",
           -2.1,
           343,
           2018
          ],
          [
           "De'Anthony Melton",
           0.7,
           53,
           2018
          ],
          [
           "Svi Mykhailiuk",
           -2.4,
           391,
           2018
          ],
          [
           "Keita Bates-Diop",
           -1.7,
           202,
           2018
          ],
          [
           "Chimezie Metu",
           -1.8,
           126,
           2018
          ],
          [
           "Shake Milton",
           -1.8,
           51,
           2018
          ],
          [
           "Zion Williamson",
           5.1,
           188,
           2019
          ],
          [
           "Ja Morant",
           2.8,
           207,
           2019
          ],
          [
           "RJ Barrett",
           -2.4,
           967,
           2019
          ],
          [
           "De'Andre Hunter",
           -3.4,
           945,
           2019
          ],
          [
           "Darius Garland",
           -0.2,
           639,
           2019
          ],
          [
           "Jarrett Culver",
           -4.5,
           973,
           2019
          ],
          [
           "Coby White",
           -2.1,
           802,
           2019
          ],
          [
           "Jaxson Hayes",
           -11.86,
           996,
           2019
          ],
          [
           "Rui Hachimura",
           -2.6,
           914,
           2019
          ],
          [
           "Cam Reddish",
           -3.2,
           908,
           2019
          ],
          [
           "Cameron Johnson",
           1.4,
           249,
           2019
          ],
          [
           "P.J. Washington",
           -1,
           541,
           2019
          ],
          [
           "Tyler Herro",
           -0.2,
           558,
           2019
          ],
          [
           "Romeo Langford",
           -3.4,
           870,
           2019
          ],
          [
           "Sekou Doumbouya",
           -6.5,
           980,
           2019
          ],
          [
           "Chuma Okeke",
           -0.8,
           393,
           2019
          ],
          [
           "Nickeil Alexander-Walker",
           -2.3,
           740,
           2019
          ],
          [
           "Goga Bitadze",
           -0.9,
           418,
           2019
          ],
          [
           "Matisse Thybulle",
           0.7,
           279,
           2019
          ],
          [
           "Brandon Clarke",
           2.8,
           81,
           2019
          ],
          [
           "Grant Williams",
           -1.6,
           628,
           2019
          ],
          [
           "Darius Bazley",
           -2.5,
           759,
           2019
          ],
          [
           "Ty Jerome",
           -1.6,
           636,
           2019
          ],
          [
           "Nassir Little",
           -2.5,
           737,
           2019
          ],
          [
           "Dylan Windler",
           -1.7,
           631,
           2019
          ],
          [
           "Jordan Poole",
           -1.6,
           485,
           2019
          ],
          [
           "Keldon Johnson",
           -1.2,
           443,
           2019
          ],
          [
           "Kevin Porter Jr.",
           -1.6,
           452,
           2019
          ],
          [
           "Nic Claxton",
           1.9,
           67,
           2019
          ],
          [
           "KZ Okpala",
           -4.7,
           831,
           2019
          ],
          [
           "Bruno Fernando",
           -3.5,
           630,
           2019
          ],
          [
           "Cody Martin",
           -1.4,
           263,
           2019
          ],
          [
           "Daniel Gafford",
           1.1,
           168,
           2019
          ],
          [
           "Eric Paschall",
           -2.2,
           361,
           2019
          ],
          [
           "Admiral Schofield",
           -4.6,
           691,
           2019
          ],
          [
           "Jaylen Nowell",
           -1.6,
           124,
           2019
          ],
          [
           "Bol Bol",
           -1.3,
           92,
           2019
          ],
          [
           "Isaiah Roby",
           -2.3,
           369,
           2019
          ],
          [
           "Talen Horton-Tucker",
           -2.1,
           229,
           2019
          ],
          [
           "Terance Mann",
           -0.4,
           111,
           2019
          ],
          [
           "Jalen McDaniels",
           -2.5,
           161,
           2019
          ],
          [
           "Anthony Edwards",
           0.1,
           857,
           2020
          ],
          [
           "James Wiseman",
           -4.2,
           961,
           2020
          ],
          [
           "LaMelo Ball",
           2.7,
           472,
           2020
          ],
          [
           "Patrick Williams",
           -1.8,
           838,
           2020
          ],
          [
           "Isaac Okoro",
           -2.6,
           919,
           2020
          ],
          [
           "Onyeka Okongwu",
           0.4,
           528,
           2020
          ],
          [
           "Killian Hayes",
           -4.2,
           953,
           2020
          ],
          [
           "Obi Toppin",
           0.5,
           362,
           2020
          ],
          [
           "Deni Avdija",
           -2.3,
           886,
           2020
          ],
          [
           "Jalen Smith",
           -1.7,
           765,
           2020
          ],
          [
           "Devin Vassell",
           -0.5,
           516,
           2020
          ],
          [
           "Tyrese Haliburton",
           3.7,
           64,
           2020
          ],
          [
           "Kira Lewis Jr.",
           -3.1,
           911,
           2020
          ],
          [
           "Aaron Nesmith",
           -3.3,
           865,
           2020
          ],
          [
           "Cole Anthony",
           -1,
           569,
           2020
          ],
          [
           "Isaiah Stewart",
           -2.2,
           612,
           2020
          ],
          [
           "Aleksej Pokusevski",
           -3.2,
           846,
           2020
          ],
          [
           "Josh Green",
           -2.1,
           615,
           2020
          ],
          [
           "Saddiq Bey",
           -0.4,
           419,
           2020
          ],
          [
           "Precious Achiuwa",
           -2.8,
           780,
           2020
          ],
          [
           "Tyrese Maxey",
           0.3,
           274,
           2020
          ],
          [
           "Zeke Nnaji",
           -2.7,
           785,
           2020
          ],
          [
           "R.J. Hampton",
           -3.7,
           888,
           2020
          ],
          [
           "Immanuel Quickley",
           1,
           233,
           2020
          ],
          [
           "Payton Pritchard",
           -0.4,
           432,
           2020
          ],
          [
           "Jaden McDaniels",
           -2.3,
           592,
           2020
          ],
          [
           "Malachi Flynn",
           -2.8,
           694,
           2020
          ],
          [
           "Desmond Bane",
           2,
           97,
           2020
          ],
          [
           "Théo Maledon",
           -4.2,
           744,
           2020
          ],
          [
           "Xavier Tillman Sr.",
           0.9,
           103,
           2020
          ],
          [
           "Saben Lee",
           -1.4,
           477,
           2020
          ],
          [
           "Tre Jones",
           -1,
           218,
           2020
          ],
          [
           "Nick Richards",
           -1.8,
           281,
           2020
          ],
          [
           "Jordan Nwora",
           -2.9,
           463,
           2020
          ],
          [
           "CJ Elleby",
           -5.2,
           671,
           2020
          ],
          [
           "Isaiah Joe",
           -1.1,
           95,
           2020
          ],
          [
           "Kenyon Martin Jr.",
           -1.1,
           78,
           2020
          ],
          [
           "Paul Reed",
           0.3,
           14,
           2020
          ],
          [
           "Jalen Green",
           -2.4,
           884,
           2021
          ],
          [
           "Evan Mobley",
           1.2,
           699,
           2021
          ],
          [
           "Scottie Barnes",
           0.6,
           510,
           2021
          ],
          [
           "Jalen Suggs",
           -3.3,
           946,
           2021
          ],
          [
           "Josh Giddey",
           0.3,
           544,
           2021
          ],
          [
           "Jonathan Kuminga",
           -1.6,
           751,
           2021
          ],
          [
           "Franz Wagner",
           -0.4,
           500,
           2021
          ],
          [
           "Davion Mitchell",
           -3.4,
           948,
           2021
          ],
          [
           "Ziaire Williams",
           -3.8,
           939,
           2021
          ],
          [
           "Chris Duarte",
           -3.1,
           911,
           2021
          ],
          [
           "Moses Moody",
           -2.6,
           784,
           2021
          ],
          [
           "Corey Kispert",
           -1.9,
           702,
           2021
          ],
          [
           "Alperen Şengün",
           0.4,
           236,
           2021
          ],
          [
           "Trey Murphy III",
           1,
           268,
           2021
          ],
          [
           "Tre Mann",
           -4.2,
           873,
           2021
          ],
          [
           "Jalen Johnson",
           -0.2,
           397,
           2021
          ],
          [
           "Isaiah Jackson",
           -1.1,
           555,
           2021
          ],
          [
           "Usman Garuba",
           -1.3,
           580,
           2021
          ],
          [
           "Josh Christopher",
           -3.8,
           895,
           2021
          ],
          [
           "Quentin Grimes",
           -0.2,
           387,
           2021
          ],
          [
           "Bones Hyland",
           -0.6,
           468,
           2021
          ],
          [
           "Cam Thomas",
           -3.1,
           798,
           2021
          ],
          [
           "Santi Aldama",
           -0.6,
           304,
           2021
          ],
          [
           "Jeremiah Robinson-Earl",
           -1.9,
           427,
           2021
          ],
          [
           "Herbert Jones",
           -0.4,
           182,
           2021
          ],
          [
           "Miles McBride",
           -3,
           478,
           2021
          ],
          [
           "JT Thor",
           -4.4,
           595,
           2021
          ],
          [
           "Ayo Dosunmu",
           -2.2,
           601,
           2021
          ],
          [
           "Kessler Edwards",
           -3.9,
           295,
           2021
          ],
          [
           "Dalano Banton",
           -2.4,
           273,
           2021
          ],
          [
           "Sandro Mamukelashvili",
           -1.6,
           45,
           2021
          ],
          [
           "Aaron Wiggins",
           -3.1,
           98,
           2021
          ],
          [
           "Jericho Sims",
           -1,
           34,
           2021
          ],
          [
           "Tari Eason",
           -1.7,
           648,
           2022
          ]
         ],
         "hovertemplate": "<b>%{hovertext}</b><br><br>Pick: %{x} (%{customdata[3]}) <br>BPM Rank: %{customdata[2]} <br>BPM diff. to avg player at pick %{x}: %{y:.2f}<br>Career BPM: %{customdata[1]:.2f}<br><extra></extra>",
         "hovertext": [
          "Allen Iverson",
          "Marcus Camby",
          "Shareef Abdur-Rahim",
          "Stephon Marbury",
          "Ray Allen",
          "Antoine Walker",
          "Lorenzen Wright",
          "Kerry Kittles",
          "Samaki Walker",
          "Erick Dampier",
          "Todd Fuller",
          "Vitaly Potapenko",
          "Kobe Bryant",
          "Peja Stojaković",
          "Steve Nash",
          "Tony Delk",
          "Jermaine O'Neal",
          "John Wallace",
          "Walter McCarty",
          "Zydrunas Ilgauskas",
          "Roy Rogers",
          "Derek Fisher",
          "Martin Müürsepp",
          "Jerome Williams",
          "Brian Evans",
          "Travis Knight",
          "Othella Harrington",
          "Mark Hendrickson",
          "Moochie Norris",
          "Jeff McInnis",
          "Randy Livingston",
          "Malik Rose",
          "Jamie Feick",
          "Amal McCaskill",
          "Mark Pope",
          "Shandon Anderson",
          "Reggie Geary",
          "Tim Duncan",
          "Keith Van Horn",
          "Chauncey Billups",
          "Antonio Daniels",
          "Tony Battie",
          "Ron Mercer",
          "Tim Thomas",
          "Adonal Foyle",
          "Tracy McGrady",
          "Danny Fortson",
          "Tariq Abdul-Wahad",
          "Austin Croshere",
          "Derek Anderson",
          "Maurice Taylor",
          "Kelvin Cato",
          "Brevin Knight",
          "Chris Anstey",
          "Scot Pollard",
          "Anthony Parker",
          "Bobby Jackson",
          "John Thomas",
          "Charles Smith",
          "Jacque Vaughn",
          "Marc Jackson",
          "Anthony Johnson",
          "Stephen Jackson",
          "Cedric Henderson",
          "Eric Washington",
          "Alvin Williams",
          "Predrag Drobnjak",
          "Chris Crawford",
          "Mark Blount",
          "Michael Olowokandi",
          "Mike Bibby",
          "Raef LaFrentz",
          "Antawn Jamison",
          "Vince Carter",
          "Robert Traylor",
          "Jason Williams",
          "Larry Hughes",
          "Dirk Nowitzki",
          "Paul Pierce",
          "Bonzi Wells",
          "Michael Doleac",
          "Keon Clark",
          "Michael Dickerson",
          "Matt Harpring",
          "Bryce Drew",
          "Rasho Nesterović",
          "Pat Garrity",
          "Roshown McLeod",
          "Ricky Davis",
          "Brian Skinner",
          "Tyronn Lue",
          "Felipe López",
          "Al Harrington",
          "Vladimir Stepania",
          "Corey Benjamin",
          "Nazr Mohammed",
          "Ansu Sesay",
          "Ruben Patterson",
          "Rashard Lewis",
          "Jelani McCoy",
          "Shammond Williams",
          "Bruno Šundov",
          "Jerome James",
          "Rafer Alston",
          "Cuttino Mobley",
          "Jahidi White",
          "Sean Marks",
          "Derrick Dial",
          "Greg Buckner",
          "Tremaine Fowlkes",
          "Ryan Bowen",
          "Maceo Baston",
          "Elton Brand",
          "Steve Francis",
          "Baron Davis",
          "Lamar Odom",
          "Jonathan Bender",
          "Wally Szczerbiak",
          "Richard Hamilton",
          "Andre Miller",
          "Shawn Marion",
          "Jason Terry",
          "Trajan Langdon",
          "Corey Maggette",
          "William Avery",
          "Metta World Peace",
          "Cal Bowdler",
          "James Posey",
          "Quincy Lewis",
          "Dion Glover",
          "Jeff Foster",
          "Kenny Thomas",
          "Devean George",
          "Andrei Kirilenko",
          "Vonteego Cummings",
          "Jumaine Jones",
          "Scott Padgett",
          "Michael Ruffin",
          "Evan Eschmeyer",
          "Calvin Booth",
          "Wang Zhizhi",
          "Obinna Ekezie",
          "Laron Profit",
          "Gordan Giriček",
          "Francisco Elson",
          "Lee Nailon",
          "Todd MacCulloch",
          "Rodney Buford",
          "Manu Ginóbili",
          "Kenyon Martin",
          "Stromile Swift",
          "Darius Miles",
          "Marcus Fizer",
          "Mike Miller",
          "DerMarr Johnson",
          "Chris Mihm",
          "Jamal Crawford",
          "Joel Przybilla",
          "Keyon Dooling",
          "Jérôme Moïso",
          "Etan Thomas",
          "Courtney Alexander",
          "Mateen Cleaves",
          "Jason Collier",
          "Hedo Türkoğlu",
          "Desmond Mason",
          "Quentin Richardson",
          "Jamaal Magloire",
          "Speedy Claxton",
          "Morris Peterson",
          "Donnell Harvey",
          "DeShawn Stevenson",
          "Dalibor Bagarić",
          "Jake Tsakalidis",
          "Primož Brezec",
          "Mark Madsen",
          "Marko Jarić",
          "Dan Langhi",
          "Jake Voskuhl",
          "Eddie House",
          "Eduardo Nájera",
          "Hanno Möttölä",
          "Olumide Oyedeji",
          "Michael Redd",
          "Brian Cardinal",
          "Jabari Smith",
          "Jason Hart",
          "Kwame Brown",
          "Tyson Chandler",
          "Pau Gasol",
          "Eddy Curry",
          "Jason Richardson",
          "Shane Battier",
          "Eddie Griffin",
          "DeSagana Diop",
          "Rodney White",
          "Joe Johnson",
          "Kedrick Brown",
          "Vladimir Radmanović",
          "Richard Jefferson",
          "Troy Murphy",
          "Steven Hunter",
          "Michael Bradley",
          "Jason Collins",
          "Zach Randolph",
          "Brendan Haywood",
          "Jeryl Sasser",
          "Brandon Armstrong",
          "Raül López",
          "Gerald Wallace",
          "Samuel Dalembert",
          "Jamaal Tinsley",
          "Tony Parker",
          "Trenton Hassell",
          "Gilbert Arenas",
          "Will Solomon",
          "Terence Morris",
          "Brian Scalabrine",
          "Mehmet Okur",
          "Earl Watson",
          "Bobby Simmons",
          "Loren Woods",
          "Jarron Collins",
          "Yao Ming",
          "Mike Dunleavy",
          "Drew Gooden",
          "Nikoloz Tskitishvili",
          "Dajuan Wagner",
          "Nenê",
          "Chris Wilcox",
          "Amar'e Stoudemire",
          "Caron Butler",
          "Jared Jeffries",
          "Melvin Ely",
          "Marcus Haislip",
          "Fred Jones",
          "Boštjan Nachbar",
          "Jiří Welsch",
          "Juan Dixon",
          "Curtis Borchardt",
          "Ryan Humphrey",
          "Kareem Rush",
          "Qyntel Woods",
          "Casey Jacobsen",
          "Tayshaun Prince",
          "Nenad Krstić",
          "Frank Williams",
          "John Salmons",
          "Dan Dickau",
          "Roger Mason",
          "Dan Gadzuric",
          "Carlos Boozer",
          "David Andersen",
          "Juan Carlos Navarro",
          "Ronald Murray",
          "Lonny Baxter",
          "Matt Barnes",
          "Darius Songaila",
          "Rasual Butler",
          "Luis Scola",
          "LeBron James",
          "Darko Miličić",
          "Carmelo Anthony",
          "Chris Bosh",
          "Dwyane Wade",
          "Chris Kaman",
          "Kirk Hinrich",
          "T.J. Ford",
          "Mike Sweetney",
          "Jarvis Hayes",
          "Mickaël Piétrus",
          "Nick Collison",
          "Marcus Banks",
          "Luke Ridnour",
          "Žarko Čabarkapa",
          "David West",
          "Sasha Pavlović",
          "Dahntay Jones",
          "Boris Diaw",
          "Zoran Planinić",
          "Travis Outlaw",
          "Brian Cook",
          "Carlos Delfino",
          "Kendrick Perkins",
          "Leandro Barbosa",
          "Josh Howard",
          "Jason Kapono",
          "Luke Walton",
          "Steve Blake",
          "Willie Green",
          "Zaza Pachulia",
          "Keith Bogans",
          "Matt Bonner",
          "Mo Williams",
          "James Jones",
          "Kyle Korver",
          "Dwight Howard",
          "Emeka Okafor",
          "Ben Gordon",
          "Shaun Livingston",
          "Devin Harris",
          "Josh Childress",
          "Luol Deng",
          "Rafael Araújo",
          "Andre Iguodala",
          "Andris Biedriņš",
          "Robert Swift",
          "Sebastian Telfair",
          "Kris Humphries",
          "Al Jefferson",
          "Kirk Snyder",
          "Josh Smith",
          "J.R. Smith",
          "Dorell Wright",
          "Jameer Nelson",
          "Viktor Khryapa",
          "Delonte West",
          "Tony Allen",
          "Kevin Martin",
          "Sasha Vujačić",
          "Beno Udrih",
          "David Harrison",
          "Anderson Varejão",
          "Jackson Vroman",
          "Royal Ivey",
          "Chris Duhon",
          "Justin Reed",
          "Trevor Ariza",
          "Bernard Robinson",
          "Andrew Bogut",
          "Marvin Williams",
          "Deron Williams",
          "Chris Paul",
          "Raymond Felton",
          "Martell Webster",
          "Charlie Villanueva",
          "Channing Frye",
          "Ike Diogu",
          "Andrew Bynum",
          "Sean May",
          "Rashad McCants",
          "Antoine Wright",
          "Joey Graham",
          "Danny Granger",
          "Gerald Green",
          "Hakim Warrick",
          "Nate Robinson",
          "Jarrett Jack",
          "Francisco García",
          "Luther Head",
          "Johan Petro",
          "Jason Maxiell",
          "Linas Kleiza",
          "Ian Mahinmi",
          "David Lee",
          "Salim Stoudamire",
          "Daniel Ewing",
          "Brandon Bass",
          "C.J. Miles",
          "Ersan İlyasova",
          "Ronny Turiaf",
          "Travis Diener",
          "Von Wafer",
          "Monta Ellis",
          "Roko Ukić",
          "Lou Williams",
          "Mickaël Gelabale",
          "Andray Blatche",
          "Ryan Gomes",
          "Orien Greene",
          "Lawrence Roberts",
          "Amir Johnson",
          "Marcin Gortat",
          "Andrea Bargnani",
          "LaMarcus Aldridge",
          "Adam Morrison",
          "Tyrus Thomas",
          "Shelden Williams",
          "Brandon Roy",
          "Randy Foye",
          "Rudy Gay",
          "Patrick O'Bryant",
          "J.J. Redick",
          "Hilton Armstrong",
          "Thabo Sefolosha",
          "Ronnie Brewer",
          "Rodney Carney",
          "Shawne Williams",
          "Oleksiy Pecherov",
          "Quincy Douby",
          "Renaldo Balkman",
          "Rajon Rondo",
          "Marcus Williams",
          "Josh Boone",
          "Kyle Lowry",
          "Shannon Brown",
          "Jordan Farmar",
          "Sergio Rodríguez",
          "Maurice Ager",
          "Mardy Collins",
          "Joel Freeland",
          "Steve Novak",
          "Solomon Jones",
          "Paul Davis",
          "P.J. Tucker",
          "Craig Smith",
          "Bobby Jones",
          "Daniel Gibson",
          "Alexander Johnson",
          "Paul Millsap",
          "Leon Powe",
          "Ryan Hollins",
          "Greg Oden",
          "Kevin Durant",
          "Al Horford",
          "Mike Conley",
          "Jeff Green",
          "Yi Jianlian",
          "Corey Brewer",
          "Brandan Wright",
          "Joakim Noah",
          "Spencer Hawes",
          "Acie Law",
          "Thaddeus Young",
          "Julian Wright",
          "Al Thornton",
          "Rodney Stuckey",
          "Nick Young",
          "Sean Williams",
          "Marco Belinelli",
          "Javaris Crittenton",
          "Jason Smith",
          "Daequan Cook",
          "Jared Dudley",
          "Wilson Chandler",
          "Rudy Fernández",
          "Aaron Brooks",
          "Arron Afflalo",
          "Tiago Splitter",
          "Carl Landry",
          "Glen Davis",
          "Josh McRoberts",
          "Kyrylo Fesenko",
          "Dominic McGuire",
          "Marc Gasol",
          "Aaron Gray",
          "Ramon Sessions",
          "Derrick Rose",
          "Michael Beasley",
          "O.J. Mayo",
          "Russell Westbrook",
          "Kevin Love",
          "Danilo Gallinari",
          "Eric Gordon",
          "D.J. Augustin",
          "Brook Lopez",
          "Jerryd Bayless",
          "Jason Thompson",
          "Brandon Rush",
          "Anthony Randolph",
          "Robin Lopez",
          "Marreese Speights",
          "Roy Hibbert",
          "JaVale McGee",
          "J.J. Hickson",
          "Alexis Ajinça",
          "Ryan Anderson",
          "Courtney Lee",
          "Kosta Koufos",
          "Serge Ibaka",
          "Nicolas Batum",
          "George Hill",
          "Darrell Arthur",
          "Donté Greene",
          "D.J. White",
          "Nikola Peković",
          "Joey Dorsey",
          "Mario Chalmers",
          "DeAndre Jordan",
          "Ömer Aşık",
          "Luc Mbah a Moute",
          "Sonny Weems",
          "Chris Douglas-Roberts",
          "Goran Dragić",
          "Henry Walker",
          "Darnell Jackson",
          "Blake Griffin",
          "Hasheem Thabeet",
          "James Harden",
          "Tyreke Evans",
          "Ricky Rubio",
          "Jonny Flynn",
          "Stephen Curry",
          "Jordan Hill",
          "DeMar DeRozan",
          "Brandon Jennings",
          "Terrence Williams",
          "Gerald Henderson",
          "Tyler Hansbrough",
          "Earl Clark",
          "Austin Daye",
          "James Johnson",
          "Jrue Holiday",
          "Ty Lawson",
          "Jeff Teague",
          "Eric Maynor",
          "Darren Collison",
          "Omri Casspi",
          "Byron Mullens",
          "Rodrigue Beaubois",
          "Taj Gibson",
          "DeMarre Carroll",
          "Wayne Ellington",
          "Toney Douglas",
          "Jeff Ayres",
          "Dante Cunningham",
          "DaJuan Summers",
          "Sam Young",
          "DeJuan Blair",
          "Jon Brockman",
          "Jonas Jerebko",
          "Derrick Brown",
          "Jodie Meeks",
          "Patrick Beverley",
          "Marcus Thornton",
          "Chase Budinger",
          "Nick Calathes",
          "Danny Green",
          "A.J. Price",
          "Nando De Colo",
          "Patty Mills",
          "John Wall",
          "Evan Turner",
          "Derrick Favors",
          "Wesley Johnson",
          "DeMarcus Cousins",
          "Ekpe Udoh",
          "Greg Monroe",
          "Al-Farouq Aminu",
          "Gordon Hayward",
          "Paul George",
          "Cole Aldrich",
          "Xavier Henry",
          "Ed Davis",
          "Patrick Patterson",
          "Larry Sanders",
          "Luke Babbitt",
          "Kevin Séraphin",
          "Eric Bledsoe",
          "Avery Bradley",
          "James Anderson",
          "Elliot Williams",
          "Trevor Booker",
          "Quincy Pondexter",
          "Jordan Crawford",
          "Greivis Vásquez",
          "Hassan Whiteside",
          "Nemanja Bjelica",
          "Landry Fields",
          "Lance Stephenson",
          "Jeremy Evans",
          "Kyrie Irving",
          "Derrick Williams",
          "Enes Freedom",
          "Tristan Thompson",
          "Jonas Valančiūnas",
          "Jan Veselý",
          "Bismack Biyombo",
          "Brandon Knight",
          "Kemba Walker",
          "Jimmer Fredette",
          "Klay Thompson",
          "Alec Burks",
          "Markieff Morris",
          "Marcus Morris",
          "Kawhi Leonard",
          "Nikola Vučević",
          "Iman Shumpert",
          "Chris Singleton",
          "Tobias Harris",
          "Donatas Motiejūnas",
          "Nolan Smith",
          "Kenneth Faried",
          "Nikola Mirotić",
          "Reggie Jackson",
          "MarShon Brooks",
          "Jordan Hamilton",
          "Norris Cole",
          "Cory Joseph",
          "Jimmy Butler",
          "Bojan Bogdanović",
          "Kyle Singler",
          "Shelvin Mack",
          "Chandler Parsons",
          "Jeremy Tyler",
          "Jon Leuer",
          "Darius Morris",
          "Dāvis Bertāns",
          "Charles Jenkins",
          "Lavoy Allen",
          "DeAndre Liggins",
          "E'Twaun Moore",
          "Isaiah Thomas",
          "Anthony Davis",
          "Michael Kidd-Gilchrist",
          "Bradley Beal",
          "Dion Waiters",
          "Thomas Robinson",
          "Damian Lillard",
          "Harrison Barnes",
          "Terrence Ross",
          "Andre Drummond",
          "Austin Rivers",
          "Meyers Leonard",
          "Jeremy Lamb",
          "Kendall Marshall",
          "John Henson",
          "Maurice Harkless",
          "Tyler Zeller",
          "Terrence Jones",
          "Andrew Nicholson",
          "Evan Fournier",
          "Jared Sullinger",
          "John Jenkins",
          "Jared Cunningham",
          "Tony Wroten",
          "Miles Plumlee",
          "Perry Jones",
          "Marquis Teague",
          "Festus Ezeli",
          "Jeff Taylor",
          "Tomáš Satoranský",
          "Bernard James",
          "Jae Crowder",
          "Draymond Green",
          "Orlando Johnson",
          "Quincy Acy",
          "Khris Middleton",
          "Will Barton",
          "Doron Lamb",
          "Mike Scott",
          "Justin Hamilton",
          "Darius Miller",
          "Kyle O'Quinn",
          "Robbie Hummel",
          "Robert Sacre",
          "Anthony Bennett",
          "Victor Oladipo",
          "Otto Porter Jr.",
          "Cody Zeller",
          "Alex Len",
          "Nerlens Noel",
          "Ben McLemore",
          "Kentavious Caldwell-Pope",
          "Trey Burke",
          "CJ McCollum",
          "Michael Carter-Williams",
          "Steven Adams",
          "Kelly Olynyk",
          "Shabazz Muhammad",
          "Giannis Antetokounmpo",
          "Lucas Nogueira",
          "Dennis Schröder",
          "Shane Larkin",
          "Sergey Karasev",
          "Tony Snell",
          "Gorgui Dieng",
          "Mason Plumlee",
          "Solomon Hill",
          "Tim Hardaway Jr.",
          "Reggie Bullock",
          "Andre Roberson",
          "Rudy Gobert",
          "Archie Goodwin",
          "Allen Crabbe",
          "Álex Abrines",
          "Isaiah Canaan",
          "Ray McCallum",
          "Nate Wolters",
          "Jeff Withey",
          "Mike Muscala",
          "Raul Neto",
          "Ryan Kelly",
          "James Ennis III",
          "Lorenzo Brown",
          "Joffrey Lauvergne",
          "Andrew Wiggins",
          "Jabari Parker",
          "Joel Embiid",
          "Aaron Gordon",
          "Dante Exum",
          "Marcus Smart",
          "Julius Randle",
          "Nik Stauskas",
          "Noah Vonleh",
          "Elfrid Payton",
          "Doug McDermott",
          "Dario Šarić",
          "Zach LaVine",
          "T.J. Warren",
          "Adreian Payne",
          "Jusuf Nurkić",
          "James Young",
          "Tyler Ennis",
          "Gary Harris",
          "Bruno Caboclo",
          "Rodney Hood",
          "Shabazz Napier",
          "Clint Capela",
          "P.J. Hairston",
          "Bogdan Bogdanović",
          "Kyle Anderson",
          "K.J. McDaniels",
          "Joe Harris",
          "Johnny O'Bryant",
          "Spencer Dinwiddie",
          "Jerami Grant",
          "Glenn Robinson III",
          "Nikola Jokić",
          "Markel Brown",
          "Dwight Powell",
          "Jordan Clarkson",
          "Thanasis Antetokounmpo",
          "Jordan McRae",
          "Karl-Anthony Towns",
          "D'Angelo Russell",
          "Jahlil Okafor",
          "Kristaps Porziņģis",
          "Mario Hezonja",
          "Willie Cauley-Stein",
          "Emmanuel Mudiay",
          "Stanley Johnson",
          "Frank Kaminsky",
          "Justise Winslow",
          "Myles Turner",
          "Trey Lyles",
          "Devin Booker",
          "Cameron Payne",
          "Kelly Oubre Jr.",
          "Terry Rozier",
          "Rashad Vaughn",
          "Sam Dekker",
          "Jerian Grant",
          "Delon Wright",
          "Justin Anderson",
          "Bobby Portis",
          "Rondae Hollis-Jefferson",
          "Tyus Jones",
          "Jarell Martin",
          "Larry Nance Jr.",
          "Kevon Looney",
          "Cedi Osman",
          "Montrezl Harrell",
          "Willy Hernangómez",
          "Richaun Holmes",
          "Darrun Hilliard",
          "Josh Richardson",
          "Pat Connaughton",
          "Joe Young",
          "Andrew Harrison",
          "Norman Powell",
          "Ben Simmons",
          "Brandon Ingram",
          "Jaylen Brown",
          "Dragan Bender",
          "Kris Dunn",
          "Buddy Hield",
          "Jamal Murray",
          "Marquese Chriss",
          "Jakob Poeltl",
          "Thon Maker",
          "Domantas Sabonis",
          "Taurean Prince",
          "Denzel Valentine",
          "Juancho Hernangómez",
          "Henry Ellenson",
          "Malik Beasley",
          "Caris LeVert",
          "DeAndre' Bembry",
          "Ante Žižić",
          "Timothé Luwawu-Cabarrot",
          "Furkan Korkmaz",
          "Pascal Siakam",
          "Skal Labissière",
          "Dejounte Murray",
          "Damian Jones",
          "Deyonta Davis",
          "Ivica Zubac",
          "Cheick Diallo",
          "Tyler Ulis",
          "Malcolm Brogdon",
          "Patrick McCaw",
          "Isaiah Whitehead",
          "Jake Layman",
          "Paul Zipser",
          "Georges Niang",
          "Abdel Nader",
          "Tyrone Wallace",
          "Markelle Fultz",
          "Lonzo Ball",
          "Jayson Tatum",
          "Josh Jackson",
          "De'Aaron Fox",
          "Jonathan Isaac",
          "Lauri Markkanen",
          "Frank Ntilikina",
          "Dennis Smith Jr.",
          "Zach Collins",
          "Malik Monk",
          "Luke Kennard",
          "Donovan Mitchell",
          "Bam Adebayo",
          "Justin Jackson",
          "D.J. Wilson",
          "T.J. Leaf",
          "John Collins",
          "Harry Giles",
          "Terrance Ferguson",
          "Jarrett Allen",
          "OG Anunoby",
          "Kyle Kuzma",
          "Tony Bradley",
          "Derrick White",
          "Josh Hart",
          "Frank Jackson",
          "Davon Reed",
          "Wes Iwundu",
          "Frank Mason III",
          "Ivan Rabb",
          "Semi Ojeleye",
          "Jordan Bell",
          "Dwayne Bacon",
          "Tyler Dorsey",
          "Thomas Bryant",
          "Isaiah Hartenstein",
          "Damyean Dotson",
          "Dillon Brooks",
          "Sterling Brown",
          "Sindarius Thornwell",
          "Vlatko Čančar",
          "Monte Morris",
          "Edmond Sumner",
          "Deandre Ayton",
          "Marvin Bagley III",
          "Luka Dončić",
          "Jaren Jackson Jr.",
          "Trae Young",
          "Mo Bamba",
          "Wendell Carter Jr.",
          "Collin Sexton",
          "Kevin Knox",
          "Mikal Bridges",
          "Shai Gilgeous-Alexander",
          "Miles Bridges",
          "Jerome Robinson",
          "Michael Porter Jr.",
          "Troy Brown Jr.",
          "Donte DiVincenzo",
          "Lonnie Walker IV",
          "Kevin Huerter",
          "Josh Okogie",
          "Grayson Allen",
          "Chandler Hutchison",
          "Aaron Holiday",
          "Anfernee Simons",
          "Moritz Wagner",
          "Landry Shamet",
          "Robert Williams",
          "Omari Spellman",
          "Elie Okobo",
          "Jevon Carter",
          "Jalen Brunson",
          "Devonte' Graham",
          "Mitchell Robinson",
          "Gary Trent Jr.",
          "Isaac Bonga",
          "Rodions Kurucs",
          "Jarred Vanderbilt",
          "Bruce Brown",
          "Hamidou Diallo",
          "De'Anthony Melton",
          "Svi Mykhailiuk",
          "Keita Bates-Diop",
          "Chimezie Metu",
          "Shake Milton",
          "Zion Williamson",
          "Ja Morant",
          "RJ Barrett",
          "De'Andre Hunter",
          "Darius Garland",
          "Jarrett Culver",
          "Coby White",
          "Jaxson Hayes",
          "Rui Hachimura",
          "Cam Reddish",
          "Cameron Johnson",
          "P.J. Washington",
          "Tyler Herro",
          "Romeo Langford",
          "Sekou Doumbouya",
          "Chuma Okeke",
          "Nickeil Alexander-Walker",
          "Goga Bitadze",
          "Matisse Thybulle",
          "Brandon Clarke",
          "Grant Williams",
          "Darius Bazley",
          "Ty Jerome",
          "Nassir Little",
          "Dylan Windler",
          "Jordan Poole",
          "Keldon Johnson",
          "Kevin Porter Jr.",
          "Nic Claxton",
          "KZ Okpala",
          "Bruno Fernando",
          "Cody Martin",
          "Daniel Gafford",
          "Eric Paschall",
          "Admiral Schofield",
          "Jaylen Nowell",
          "Bol Bol",
          "Isaiah Roby",
          "Talen Horton-Tucker",
          "Terance Mann",
          "Jalen McDaniels",
          "Anthony Edwards",
          "James Wiseman",
          "LaMelo Ball",
          "Patrick Williams",
          "Isaac Okoro",
          "Onyeka Okongwu",
          "Killian Hayes",
          "Obi Toppin",
          "Deni Avdija",
          "Jalen Smith",
          "Devin Vassell",
          "Tyrese Haliburton",
          "Kira Lewis Jr.",
          "Aaron Nesmith",
          "Cole Anthony",
          "Isaiah Stewart",
          "Aleksej Pokusevski",
          "Josh Green",
          "Saddiq Bey",
          "Precious Achiuwa",
          "Tyrese Maxey",
          "Zeke Nnaji",
          "R.J. Hampton",
          "Immanuel Quickley",
          "Payton Pritchard",
          "Jaden McDaniels",
          "Malachi Flynn",
          "Desmond Bane",
          "Théo Maledon",
          "Xavier Tillman Sr.",
          "Saben Lee",
          "Tre Jones",
          "Nick Richards",
          "Jordan Nwora",
          "CJ Elleby",
          "Isaiah Joe",
          "Kenyon Martin Jr.",
          "Paul Reed",
          "Jalen Green",
          "Evan Mobley",
          "Scottie Barnes",
          "Jalen Suggs",
          "Josh Giddey",
          "Jonathan Kuminga",
          "Franz Wagner",
          "Davion Mitchell",
          "Ziaire Williams",
          "Chris Duarte",
          "Moses Moody",
          "Corey Kispert",
          "Alperen Şengün",
          "Trey Murphy III",
          "Tre Mann",
          "Jalen Johnson",
          "Isaiah Jackson",
          "Usman Garuba",
          "Josh Christopher",
          "Quentin Grimes",
          "Bones Hyland",
          "Cam Thomas",
          "Santi Aldama",
          "Jeremiah Robinson-Earl",
          "Herbert Jones",
          "Miles McBride",
          "JT Thor",
          "Ayo Dosunmu",
          "Kessler Edwards",
          "Dalano Banton",
          "Sandro Mamukelashvili",
          "Aaron Wiggins",
          "Jericho Sims",
          "Tari Eason"
         ],
         "legendgroup": "",
         "marker": {
          "color": "#636efa",
          "size": 12,
          "symbol": "circle"
         },
         "mode": "markers",
         "name": "",
         "orientation": "v",
         "showlegend": false,
         "type": "scatter",
         "x": [
          1,
          2,
          3,
          4,
          5,
          6,
          7,
          8,
          9,
          10,
          11,
          12,
          13,
          14,
          15,
          16,
          17,
          18,
          19,
          20,
          22,
          24,
          25,
          26,
          27,
          29,
          30,
          31,
          33,
          37,
          42,
          44,
          48,
          49,
          52,
          54,
          56,
          1,
          2,
          3,
          4,
          5,
          6,
          7,
          8,
          9,
          10,
          11,
          12,
          13,
          14,
          15,
          16,
          18,
          19,
          21,
          23,
          25,
          26,
          27,
          38,
          40,
          43,
          45,
          47,
          48,
          49,
          51,
          55,
          1,
          2,
          3,
          4,
          5,
          6,
          7,
          8,
          9,
          10,
          11,
          12,
          13,
          14,
          15,
          16,
          17,
          19,
          20,
          21,
          22,
          23,
          24,
          25,
          27,
          28,
          29,
          30,
          31,
          32,
          33,
          34,
          35,
          36,
          39,
          41,
          43,
          44,
          52,
          53,
          54,
          55,
          58,
          1,
          2,
          3,
          4,
          5,
          6,
          7,
          8,
          9,
          10,
          11,
          13,
          14,
          16,
          17,
          18,
          19,
          20,
          21,
          22,
          23,
          24,
          26,
          27,
          28,
          32,
          34,
          35,
          36,
          37,
          38,
          40,
          41,
          43,
          47,
          53,
          57,
          1,
          2,
          3,
          4,
          5,
          6,
          7,
          8,
          9,
          10,
          11,
          12,
          13,
          14,
          15,
          16,
          17,
          18,
          19,
          20,
          21,
          22,
          23,
          24,
          25,
          27,
          29,
          30,
          31,
          33,
          37,
          38,
          40,
          42,
          43,
          44,
          45,
          49,
          1,
          2,
          3,
          4,
          5,
          6,
          7,
          8,
          9,
          10,
          11,
          12,
          13,
          14,
          15,
          17,
          18,
          19,
          20,
          22,
          23,
          24,
          25,
          26,
          27,
          28,
          30,
          31,
          33,
          34,
          35,
          38,
          40,
          42,
          46,
          53,
          1,
          3,
          4,
          5,
          6,
          7,
          8,
          9,
          10,
          11,
          12,
          13,
          14,
          15,
          16,
          17,
          18,
          19,
          20,
          21,
          22,
          23,
          24,
          25,
          26,
          28,
          31,
          34,
          35,
          37,
          40,
          42,
          44,
          46,
          50,
          53,
          56,
          1,
          2,
          3,
          4,
          5,
          6,
          7,
          8,
          9,
          10,
          11,
          12,
          13,
          14,
          17,
          18,
          19,
          20,
          21,
          22,
          23,
          24,
          25,
          27,
          28,
          29,
          31,
          32,
          38,
          41,
          42,
          43,
          45,
          47,
          49,
          51,
          1,
          2,
          3,
          4,
          5,
          6,
          7,
          8,
          9,
          11,
          12,
          13,
          14,
          15,
          16,
          17,
          18,
          19,
          20,
          22,
          24,
          25,
          26,
          27,
          28,
          29,
          30,
          31,
          37,
          38,
          40,
          43,
          45,
          1,
          2,
          3,
          4,
          5,
          6,
          7,
          8,
          9,
          10,
          13,
          14,
          15,
          16,
          17,
          18,
          19,
          21,
          22,
          23,
          24,
          25,
          26,
          27,
          28,
          30,
          31,
          32,
          33,
          34,
          36,
          37,
          38,
          39,
          40,
          41,
          45,
          48,
          49,
          50,
          53,
          55,
          56,
          57,
          1,
          2,
          3,
          4,
          5,
          6,
          7,
          8,
          9,
          11,
          12,
          13,
          14,
          16,
          17,
          18,
          19,
          20,
          21,
          22,
          23,
          24,
          25,
          26,
          27,
          28,
          29,
          30,
          32,
          33,
          34,
          35,
          36,
          37,
          42,
          45,
          47,
          49,
          50,
          1,
          2,
          3,
          4,
          5,
          6,
          7,
          8,
          9,
          10,
          11,
          12,
          13,
          14,
          15,
          16,
          17,
          18,
          19,
          20,
          21,
          22,
          23,
          24,
          26,
          27,
          28,
          31,
          35,
          37,
          38,
          47,
          48,
          49,
          56,
          1,
          2,
          3,
          4,
          5,
          6,
          7,
          9,
          10,
          11,
          12,
          13,
          14,
          15,
          16,
          17,
          18,
          19,
          20,
          21,
          22,
          23,
          24,
          25,
          26,
          27,
          28,
          29,
          31,
          33,
          34,
          35,
          36,
          37,
          39,
          40,
          45,
          47,
          52,
          1,
          2,
          3,
          4,
          5,
          6,
          7,
          8,
          9,
          10,
          11,
          12,
          13,
          14,
          15,
          16,
          17,
          18,
          19,
          20,
          21,
          23,
          24,
          25,
          26,
          27,
          28,
          29,
          31,
          33,
          35,
          36,
          37,
          38,
          39,
          40,
          41,
          42,
          43,
          44,
          45,
          46,
          52,
          53,
          55,
          1,
          2,
          3,
          4,
          5,
          6,
          7,
          8,
          9,
          10,
          11,
          12,
          13,
          14,
          15,
          16,
          17,
          18,
          19,
          20,
          22,
          23,
          26,
          27,
          28,
          33,
          35,
          39,
          40,
          55,
          1,
          2,
          3,
          4,
          5,
          6,
          7,
          8,
          9,
          10,
          11,
          12,
          13,
          14,
          15,
          16,
          17,
          18,
          19,
          20,
          21,
          22,
          23,
          24,
          25,
          26,
          28,
          29,
          30,
          31,
          33,
          34,
          38,
          39,
          40,
          41,
          42,
          44,
          50,
          53,
          55,
          60,
          1,
          2,
          3,
          4,
          5,
          6,
          7,
          8,
          9,
          10,
          11,
          12,
          13,
          14,
          15,
          17,
          18,
          19,
          20,
          21,
          23,
          24,
          25,
          26,
          28,
          29,
          30,
          31,
          32,
          33,
          34,
          35,
          36,
          37,
          39,
          40,
          42,
          43,
          45,
          46,
          49,
          58,
          60,
          1,
          2,
          3,
          4,
          5,
          6,
          7,
          8,
          9,
          10,
          11,
          12,
          13,
          14,
          15,
          16,
          17,
          18,
          19,
          20,
          21,
          22,
          23,
          24,
          25,
          26,
          27,
          29,
          31,
          32,
          34,
          36,
          38,
          39,
          44,
          47,
          48,
          50,
          52,
          55,
          1,
          2,
          3,
          4,
          5,
          6,
          7,
          8,
          9,
          10,
          11,
          12,
          13,
          14,
          15,
          16,
          17,
          18,
          19,
          20,
          23,
          24,
          25,
          26,
          27,
          30,
          32,
          33,
          36,
          38,
          39,
          40,
          41,
          44,
          45,
          46,
          51,
          58,
          1,
          2,
          3,
          4,
          5,
          6,
          7,
          8,
          9,
          10,
          11,
          12,
          13,
          14,
          15,
          16,
          17,
          18,
          19,
          20,
          21,
          22,
          23,
          24,
          25,
          27,
          30,
          31,
          32,
          35,
          37,
          38,
          40,
          41,
          43,
          44,
          46,
          1,
          2,
          3,
          4,
          5,
          6,
          7,
          8,
          9,
          10,
          11,
          12,
          14,
          15,
          18,
          19,
          20,
          21,
          23,
          24,
          26,
          27,
          28,
          29,
          30,
          31,
          32,
          33,
          34,
          36,
          38,
          42,
          47,
          48,
          50,
          58,
          60,
          1,
          2,
          3,
          4,
          5,
          6,
          7,
          8,
          9,
          10,
          11,
          12,
          13,
          14,
          15,
          17,
          18,
          19,
          20,
          21,
          22,
          23,
          27,
          28,
          29,
          30,
          31,
          32,
          33,
          34,
          35,
          37,
          38,
          40,
          41,
          42,
          43,
          44,
          45,
          46,
          48,
          49,
          51,
          52,
          1,
          2,
          3,
          4,
          5,
          6,
          7,
          8,
          9,
          10,
          11,
          12,
          13,
          14,
          15,
          17,
          18,
          19,
          20,
          21,
          22,
          23,
          24,
          25,
          26,
          27,
          30,
          31,
          32,
          33,
          34,
          36,
          37,
          39,
          40,
          41,
          42,
          45,
          46,
          47,
          48,
          49,
          54,
          1,
          2,
          3,
          4,
          5,
          6,
          7,
          8,
          9,
          10,
          11,
          12,
          13,
          14,
          15,
          16,
          17,
          18,
          20,
          21,
          22,
          23,
          24,
          25,
          26,
          28,
          29,
          30,
          31,
          32,
          34,
          36,
          38,
          41,
          42,
          43,
          44,
          45,
          46,
          48,
          52,
          1,
          2,
          3,
          4,
          5,
          6,
          7,
          8,
          9,
          10,
          11,
          12,
          13,
          14,
          15,
          16,
          17,
          18,
          19,
          20,
          21,
          22,
          24,
          25,
          26,
          28,
          29,
          30,
          34,
          35,
          38,
          41,
          42,
          45,
          46,
          49,
          52,
          58,
          2,
          3,
          4,
          5,
          6,
          7,
          8,
          9,
          10,
          13,
          14,
          15,
          16,
          17,
          18,
          20,
          22,
          23,
          24,
          25,
          26,
          27,
          30,
          32,
          35,
          36,
          37,
          38,
          44,
          46,
          54,
          55,
          58,
          17
         ],
         "xaxis": "x",
         "y": [
          1.7703703703703706,
          2.991111111111111,
          -0.2740740740740739,
          2.4207407407407406,
          3.4148148148148145,
          0.9666666666666666,
          -1.3903703703703705,
          3.8651851851851857,
          -2.066666666666667,
          -0.12222222222222223,
          -4.0274074074074075,
          -2.003703703703704,
          5.662962962962963,
          3.8022222222222224,
          4.8096296296296295,
          2.344444444444444,
          2.262962962962963,
          -0.06592592592592572,
          0.43333333333333335,
          1.9222222222222223,
          -1.703703703703704,
          1.0222222222222221,
          0.5703703703703704,
          2.3429629629629627,
          1.434074074074074,
          -0.20416666666666705,
          -0.23777777777777764,
          -0.114074074074074,
          1.6111111111111112,
          2.9600000000000004,
          2.105185185185185,
          4.425925925925926,
          2.522222222222222,
          1.5859259259259257,
          2.234814814814815,
          6.536296296296296,
          3.6037037037037027,
          4.17037037037037,
          0.7911111111111111,
          1.9259259259259263,
          -11.239259259259258,
          -1.2851851851851852,
          -2.0333333333333337,
          0.40962962962962957,
          -0.03481481481481463,
          5.733333333333333,
          -2.022222222222222,
          -1.3274074074074074,
          1.8962962962962961,
          2.0629629629629633,
          -1.6977777777777778,
          1.5096296296296297,
          3.044444444444444,
          -0.26592592592592545,
          1.5333333333333332,
          2.4037037037037035,
          2.411111111111111,
          -2.22962962962963,
          0.9429629629629628,
          -1.1659259259259258,
          0.09999999999999964,
          3.319259259259259,
          5.760740740740741,
          1.5896296296296297,
          0.8562962962962963,
          4.822222222222222,
          3.285925925925926,
          6.236296296296295,
          5.496296296296296,
          -6.029629629629629,
          1.491111111111111,
          -0.574074074074074,
          1.2207407407407407,
          3.5148148148148146,
          -0.9333333333333335,
          1.4096296296296296,
          1.5651851851851852,
          5.033333333333333,
          4.877777777777778,
          1.8725925925925926,
          -1.703703703703704,
          0.36296296296296315,
          0.6022222222222222,
          1.2096296296296298,
          -0.35555555555555607,
          1.0629629629629629,
          0.33333333333333326,
          -2.277777777777778,
          1.8037037037037036,
          -0.5037037037037038,
          0.21111111111111103,
          -0.5777777777777777,
          0.6703703703703705,
          -1.0659259259259257,
          -1.8348148148148145,
          0.19583333333333286,
          -0.13777777777777755,
          4.385925925925926,
          5.476296296296296,
          0.11111111111111116,
          3.1533333333333333,
          -4.757777777777778,
          -0.503703703703704,
          -4.554814814814814,
          4.282962962962963,
          2.960740740740741,
          1.5259259259259252,
          4.3348148148148145,
          5.441481481481481,
          5.836296296296296,
          7.396296296296296,
          6.314074074074074,
          0.7703703703703706,
          2.8911111111111114,
          1.3259259259259262,
          2.5207407407407407,
          -2.0851851851851855,
          1.3666666666666667,
          1.0096296296296297,
          2.9651851851851854,
          3.2333333333333334,
          2.677777777777778,
          0.5725925925925925,
          1.3629629629629632,
          -3.6977777777777776,
          3.9444444444444438,
          -1.2370370370370372,
          2.9340740740740743,
          -2.766666666666667,
          0.3222222222222222,
          2.2037037037037037,
          0.6962962962962962,
          0.5111111111111111,
          6.822222222222223,
          -0.35703703703703704,
          1.0340740740740741,
          2.5651851851851855,
          0.2762962962962967,
          0.853333333333333,
          2.3422222222222224,
          2.7962962962962963,
          -0.33999999999999986,
          0.6999999999999997,
          2.319259259259259,
          1.6829629629629625,
          4.160740740740741,
          4.656296296296296,
          2.5414814814814815,
          13.435555555555554,
          -1.3296296296296295,
          -0.908888888888889,
          -2.2740740740740737,
          -3.0792592592592594,
          1.3148148148148149,
          -0.9333333333333335,
          -2.6903703703703705,
          1.5651851851851852,
          -1.1666666666666665,
          -0.8222222222222222,
          -1.2274074074074073,
          -0.10370370370370385,
          -2.637037037037037,
          -3.6977777777777776,
          -3.590370370370371,
          3.644444444444444,
          -0.4370370370370369,
          2.2340740740740745,
          -0.7666666666666666,
          1.8222222222222222,
          2.2037037037037037,
          -0.6037037037037039,
          -0.6888888888888891,
          -5.977777777777778,
          -0.9296296296296296,
          -0.865925925925926,
          -1.3041666666666667,
          2.4622222222222225,
          -0.9140740740740738,
          -0.7888888888888888,
          -6.799999999999999,
          1.9,
          -1.0807407407407412,
          0.3051851851851852,
          8.360740740740741,
          6.425925925925926,
          0.08962962962962973,
          5.085925925925926,
          -3.8296296296296295,
          0.7911111111111111,
          2.325925925925926,
          -1.779259259259259,
          1.7148148148148148,
          2.3666666666666667,
          0.8096296296296296,
          -0.2348148148148146,
          -1.666666666666667,
          1.577777777777778,
          0.5725925925925925,
          1.8962962962962961,
          1.262962962962963,
          2.002222222222222,
          -0.4903703703703701,
          -2.037037037037037,
          -1.0659259259259257,
          2.3333333333333335,
          0.7222222222222223,
          -0.5037037037037038,
          -5.988888888888889,
          -0.47777777777777763,
          3.9703703703703708,
          0.9429629629629628,
          -9.625925925925925,
          4.065185185185186,
          0.26222222222222236,
          6.285925925925926,
          -0.28888888888888875,
          1.0533333333333332,
          1.442222222222222,
          3.9,
          3.419259259259259,
          3.905185185185185,
          2.8133333333333335,
          3.241481481481481,
          1.7703703703703706,
          -0.9740740740740739,
          -0.5792592592592593,
          -5.585185185185185,
          -4.233333333333333,
          2.20962962962963,
          0.06518518518518523,
          1.8333333333333335,
          0.9777777777777779,
          -0.7274074074074073,
          -2.003703703703704,
          -3.637037037037037,
          0.9022222222222223,
          0.2096296296296296,
          0.8444444444444441,
          -0.13703703703703707,
          -1.1659259259259254,
          -5.966666666666667,
          -1.077777777777778,
          -0.09629629629629655,
          -0.20370370370370394,
          2.311111111111111,
          -0.6777777777777778,
          -1.0296296296296297,
          1.142962962962963,
          1.4651851851851854,
          2.285925925925926,
          1.5533333333333332,
          5.542222222222222,
          2.1600000000000006,
          2.5192592592592593,
          2.405185185185185,
          1.9259259259259256,
          5.213333333333334,
          5.7333333333333325,
          4.941481481481482,
          5.403703703703703,
          7.370370370370371,
          -1.7088888888888887,
          0.02592592592592613,
          2.5207407407407407,
          5.514814814814815,
          -1.2333333333333334,
          -10.65037037037037,
          1.2651851851851852,
          -2.166666666666667,
          -1.3222222222222222,
          0.7725925925925926,
          0.6962962962962962,
          -0.9370370370370369,
          1.3022222222222224,
          -1.937037037037037,
          4.334074074074074,
          -1.2666666666666666,
          -1.577777777777778,
          2.7037037037037037,
          -1.5037037037037038,
          0.6111111111111112,
          0.3222222222222222,
          2.6703703703703705,
          0.3340740740740742,
          2.765185185185185,
          3.395833333333333,
          1.0859259259259257,
          2.5762962962962965,
          1.5999999999999999,
          1.6829629629629625,
          3.105185185185185,
          4.660740740740741,
          5.3896296296296295,
          4.0562962962962965,
          6.185925925925926,
          9.436296296296295,
          0.4703703703703703,
          0.09111111111111114,
          -1.574074074074074,
          -0.3792592592592593,
          1.1148148148148147,
          1.4666666666666668,
          2.1096296296296297,
          -5.534814814814815,
          2.6333333333333333,
          1.2725925925925927,
          -1.8037037037037036,
          -2.337037037037037,
          0.2022222222222223,
          3.0096296296296297,
          1.544444444444444,
          3.662962962962963,
          2.8340740740740746,
          3.033333333333333,
          2.022222222222222,
          -1.5037037037037038,
          2.8222222222222224,
          2.4703703703703703,
          3.042962962962963,
          1.234074074074074,
          2.0651851851851855,
          -1.6041666666666674,
          3.462222222222222,
          -1.4140740740740738,
          1.2600000000000007,
          1.5999999999999999,
          -1.0807407407407412,
          6.760740740740741,
          2.3896296296296295,
          -0.22962962962962963,
          0.2911111111111111,
          0.625925925925926,
          7.72074074074074,
          -0.08518518518518525,
          -0.13333333333333341,
          0.6096296296296296,
          1.2651851851851852,
          -2.466666666666667,
          2.5777777777777775,
          -0.6370370370370368,
          0.2022222222222223,
          -1.8903703703703705,
          -0.8555555555555561,
          3.762962962962963,
          1.3340740740740744,
          0.2333333333333334,
          3.1037037037037036,
          1.096296296296296,
          1.911111111111111,
          2.022222222222222,
          -2.429629629629629,
          -0.45703703703703713,
          -0.06592592592592572,
          0.9651851851851854,
          4.262222222222222,
          0.7859259259259259,
          0.5762962962962965,
          2.2111111111111112,
          3.453333333333333,
          4.296296296296297,
          5.36,
          2.4,
          5.505185185185185,
          4.519259259259259,
          0.0829629629629629,
          5.78962962962963,
          3.1222222222222222,
          5.485925925925926,
          6.2333333333333325,
          1.7414814814814816,
          6.296296296296296,
          6.403703703703703,
          8.835555555555555,
          -3.0296296296296297,
          2.391111111111111,
          -6.274074074074074,
          -0.5792592592592593,
          -2.4851851851851854,
          4.266666666666667,
          0.009629629629629655,
          2.265185185185185,
          -4.066666666666666,
          2.2725925925925927,
          -2.1037037037037036,
          1.662962962962963,
          3.5022222222222226,
          1.144444444444444,
          -0.23703703703703716,
          -2.1659259259259254,
          -1.3666666666666667,
          2.2222222222222223,
          3.803703703703704,
          -1.3037037037037036,
          0.011111111111111072,
          4.822222222222222,
          0.6703703703703705,
          1.5429629629629629,
          0.2340740740740741,
          -6.434814814814815,
          -1.6041666666666674,
          -0.13777777777777755,
          4.376296296296297,
          -0.9888888888888889,
          -0.3466666666666671,
          3.2422222222222223,
          3.196296296296296,
          0.9600000000000009,
          3.605185185185185,
          -0.2103703703703701,
          6.256296296296297,
          4.685925925925925,
          3.7333333333333334,
          -1.8296296296296295,
          7.491111111111111,
          1.625925925925926,
          3.0207407407407407,
          -0.8851851851851852,
          -3.6333333333333333,
          -0.3903703703703705,
          3.9651851851851854,
          3.033333333333333,
          0.07777777777777772,
          -2.2274074074074073,
          2.496296296296296,
          0.5629629629629631,
          -1.5977777777777777,
          0.9096296296296297,
          0.5444444444444438,
          -1.137037037037037,
          1.3340740740740744,
          -2.066666666666667,
          -0.7777777777777777,
          -0.09629629629629655,
          2.196296296296296,
          0.711111111111111,
          3.6222222222222222,
          0.8429629629629629,
          0.7340740740740741,
          4.065185185185186,
          3.385925925925926,
          1.5422222222222222,
          5.36,
          -2.9000000000000004,
          2.2562962962962962,
          8.322222222222223,
          2.685925925925926,
          5.403703703703703,
          -0.12962962962962954,
          -1.008888888888889,
          -2.174074074074074,
          4.62074074074074,
          3.714814814814815,
          2.466666666666667,
          0.5096296296296297,
          -0.16666666666666663,
          2.5777777777777775,
          0.07259259259259254,
          -0.6037037037037039,
          -0.3370370370370368,
          0.30222222222222217,
          0.7096296296296296,
          0.5444444444444438,
          0.8629629629629629,
          -9.225925925925925,
          0.33333333333333326,
          -0.6777777777777776,
          3.6037037037037036,
          1.3962962962962964,
          0.711111111111111,
          2.4222222222222225,
          3.7703703703703706,
          3.142962962962963,
          0.03407407407407392,
          0.16518518518518555,
          0.6958333333333329,
          2.985925925925926,
          0.3111111111111109,
          3.253333333333333,
          5.342222222222222,
          2.4962962962962965,
          3.5600000000000005,
          3.105185185185185,
          2.619259259259259,
          4.8896296296296295,
          2.5562962962962965,
          1.3348148148148145,
          1.8703703703703702,
          -2.008888888888889,
          5.4259259259259265,
          1.4207407407407406,
          1.0148148148148146,
          -3.3333333333333335,
          7.8096296296296295,
          -0.3348148148148147,
          1.3333333333333335,
          1.9777777777777779,
          -1.1274074074074072,
          0.1962962962962962,
          -0.9370370370370369,
          -0.8977777777777776,
          -0.1903703703703703,
          3.144444444444444,
          3.5629629629629633,
          4.034074074074074,
          2.7333333333333334,
          -0.7777777777777777,
          3.1037037037037036,
          1.211111111111111,
          -2.0777777777777775,
          2.0703703703703704,
          1.2429629629629628,
          -9.625925925925925,
          1.4651851851851854,
          1.995833333333333,
          1.385925925925926,
          1.3111111111111111,
          -1.6577777777777776,
          2.2962962962962963,
          3.8600000000000003,
          -1.1,
          6.305185185185185,
          3.5192592592592593,
          3.7829629629629626,
          5.505185185185185,
          6.3607407407407415,
          6.025925925925925,
          3.8896296296296295,
          7.213333333333333,
          5.234814814814815,
          5.641481481481481,
          -3.6637037037037032,
          0.7703703703703706,
          -1.2088888888888887,
          -0.3740740740740739,
          -0.9792592592592594,
          2.9148148148148145,
          -0.7333333333333333,
          2.6096296296296293,
          1.0651851851851855,
          2.3333333333333335,
          5.177777777777778,
          1.7725925925925927,
          -2.4037037037037043,
          0.8629629629629632,
          -9.957777777777777,
          0.7096296296296296,
          0.6444444444444439,
          -2.337037037037037,
          4.2340740740740745,
          -0.2666666666666666,
          -0.577777777777778,
          -2.9037037037037043,
          1.511111111111111,
          0.24296296296296283,
          0.9340740740740741,
          1.7651851851851854,
          5.511111111111111,
          4.442222222222222,
          7.005185185185185,
          3.5192592592592593,
          9.096296296296297,
          3.0703703703703704,
          -0.908888888888889,
          -1.374074074074074,
          -1.0792592592592594,
          1.5148148148148146,
          -1.9333333333333336,
          -1.2903703703703704,
          0.06518518518518523,
          3.333333333333333,
          -1.3222222222222222,
          2.372592592592593,
          1.596296296296296,
          -0.3370370370370368,
          1.2022222222222223,
          8.60962962962963,
          5.044444444444444,
          0.26296296296296306,
          -0.5659259259259257,
          3.1333333333333333,
          -0.37777777777777777,
          -3.3962962962962964,
          2.496296296296296,
          3.611111111111111,
          1.6222222222222222,
          0.5703703703703704,
          1.9429629629629628,
          -1.1348148148148143,
          1.6958333333333329,
          8.162222222222223,
          2.985925925925926,
          0.5111111111111111,
          1.9533333333333331,
          3.9,
          0.3051851851851852,
          4.119259259259259,
          -0.7170370370370369,
          4.905185185185185,
          2.0259259259259252,
          5.7333333333333325,
          4.141481481481481,
          6.296296296296296,
          9.536470588235293,
          4.67037037037037,
          -1.108888888888889,
          0.42592592592592604,
          -1.4792592592592593,
          -2.9851851851851854,
          5.566666666666667,
          0.40962962962962957,
          0.6651851851851853,
          1.7333333333333334,
          -1.9222222222222223,
          0.17259259259259263,
          2.596296296296296,
          -2.4370370370370367,
          1.4022222222222223,
          1.0096296296296297,
          -0.03703703703703698,
          3.1340740740740745,
          -1.4666666666666668,
          1.1222222222222222,
          2.2037037037037037,
          0.11111111111111116,
          -3.7777777777777777,
          -1.2296296296296294,
          0.14296296296296296,
          -0.5348148148148146,
          -3.704166666666667,
          1.1622222222222223,
          -0.5140740740740743,
          2.6762962962962966,
          1.211111111111111,
          4.153333333333333,
          6.642222222222222,
          1.9962962962962965,
          3.0600000000000005,
          8.005185185185185,
          4.419259259259259,
          -1.1948148148148148,
          4.460740740740741,
          3.4896296296296296,
          3.0133333333333336,
          7.185925925925926,
          4.414074074074074,
          3.4364705882352933,
          -6.229629629629629,
          1.391111111111111,
          0.5259259259259261,
          0.020740740740740726,
          -1.3851851851851853,
          1.5666666666666667,
          -1.8903703703703705,
          0.8651851851851853,
          -0.7666666666666667,
          2.477777777777778,
          0.4725925925925927,
          2.496296296296296,
          1.9629629629629632,
          -0.09777777777777774,
          8.00962962962963,
          5.044444444444444,
          0.5629629629629631,
          0.23407407407407455,
          -1.2666666666666666,
          0.12222222222222223,
          2.803703703703704,
          3.3962962962962964,
          -0.08888888888888902,
          1.0222222222222221,
          1.0703703703703704,
          1.4429629629629628,
          5.834074074074074,
          -0.20416666666666705,
          2.0859259259259257,
          1.6762962962962966,
          1.4533333333333331,
          1.7962962962962963,
          0.19999999999999973,
          7.805185185185185,
          6.725925925925925,
          2.8562962962962963,
          2.6222222222222222,
          6.333333333333333,
          3.0348148148148146,
          6.0962962962962965,
          -2.9296296296296296,
          -0.10888888888888892,
          5.225925925925926,
          0.8207407407407408,
          -2.785185185185185,
          0.4666666666666666,
          2.1096296296296297,
          -1.3348148148148147,
          -1.9666666666666668,
          0.2777777777777778,
          -0.32740740740740737,
          1.096296296296296,
          1.762962962962963,
          1.6022222222222222,
          -4.090370370370371,
          3.144444444444444,
          -1.437037037037037,
          -0.7659259259259255,
          0.8333333333333333,
          -0.577777777777778,
          0.8111111111111111,
          1.2222222222222223,
          4.270370370370371,
          -1.857037037037037,
          2.634074074074074,
          5.062222222222222,
          0.7762962962962967,
          2.411111111111111,
          -1.8037037037037038,
          3.1999999999999997,
          6.905185185185185,
          3.119259259259259,
          13.782962962962962,
          3.6259259259259253,
          5.28962962962963,
          4.713333333333334,
          4.736296296296295,
          5.414074074074074,
          3.2703703703703706,
          1.391111111111111,
          -3.2740740740740737,
          2.720740740740741,
          -2.285185185185185,
          0.5666666666666667,
          -1.9903703703703706,
          -1.0348148148148149,
          0.3333333333333333,
          -0.9222222222222223,
          2.4725925925925925,
          0.9962962962962962,
          1.9629629629629632,
          1.4022222222222223,
          0.10962962962962974,
          3.144444444444444,
          -2.7370370370370374,
          1.2340740740740745,
          0.5333333333333332,
          4.4222222222222225,
          1.1037037037037036,
          1.596296296296296,
          1.3111111111111111,
          2.522222222222222,
          -2.1296296296296293,
          3.334074074074074,
          3.562222222222222,
          1.5859259259259257,
          6.176296296296297,
          4.242222222222222,
          5.36,
          -1.9000000000000004,
          4.319259259259259,
          4.1829629629629625,
          2.0607407407407416,
          3.7259259259259254,
          5.213333333333334,
          1.9703703703703703,
          0.5911111111111111,
          -0.9740740740740739,
          -3.279259259259259,
          -1.1851851851851851,
          1.0666666666666667,
          1.7096296296296296,
          -0.7348148148148146,
          1.7333333333333334,
          -0.9222222222222223,
          4.172592592592593,
          0.09629629629629632,
          0.0022222222222223476,
          -0.09037037037037021,
          -1.0659259259259257,
          1.0333333333333332,
          1.6222222222222222,
          0.3037037037037038,
          -0.588888888888889,
          -2.0777777777777775,
          0.14296296296296296,
          4.2340740740740745,
          0.6651851851851855,
          4.395833333333333,
          2.1622222222222223,
          1.5859259259259257,
          3.8762962962962964,
          1.6111111111111112,
          0.25333333333333297,
          5.796296296296296,
          0,
          -0.39481481481481495,
          2.0562962962962965,
          0.022222222222222143,
          6.633333333333333,
          4.914074074074074,
          2.236470588235293,
          -2.5296296296296297,
          1.7911111111111113,
          2.025925925925926,
          -3.179259259259259,
          1.0148148148148146,
          0.9666666666666666,
          2.0096296296296297,
          -2.734814814814815,
          -1.7666666666666666,
          -0.4222222222222223,
          0.17259259259259263,
          1.7962962962962963,
          4.162962962962963,
          4.602222222222222,
          -0.9903703703703701,
          -0.6370370370370371,
          0.8340740740740744,
          3.033333333333333,
          -0.2777777777777777,
          -1.3962962962962964,
          3.8962962962962964,
          2.2111111111111112,
          1.134074074074074,
          3.1651851851851855,
          4.195833333333333,
          3.062222222222222,
          -0.21407407407407408,
          0.6762962962962966,
          -0.8888888888888888,
          1.253333333333333,
          2.442222222222222,
          1.6600000000000006,
          3,
          -0.2807407407407405,
          1.3829629629629627,
          5.905185185185185,
          7.160740740740741,
          3.7259259259259254,
          0.5896296296296297,
          3.2133333333333334,
          2.1222222222222222,
          4.185925925925925,
          9.236296296296295,
          3.5348148148148146,
          -0.3296296296296295,
          -1.2088888888888887,
          5.9259259259259265,
          1.3207407407407405,
          3.6148148148148147,
          0.8666666666666667,
          0.9096296296296296,
          -0.6348148148148145,
          -3.866666666666667,
          2.3777777777777778,
          4.872592592592593,
          1.7962962962962963,
          -3.637037037037037,
          3.3022222222222224,
          0.10962962962962974,
          2.062962962962963,
          -0.16592592592592537,
          1.3333333333333333,
          -0.1777777777777776,
          2.2037037037037037,
          -1.9037037037037037,
          -0.28888888888888875,
          0.12222222222222223,
          1.2703703703703706,
          0.24296296296296283,
          7.134074074074075,
          1.6622222222222223,
          -0.4140740740740738,
          2.6762962962962966,
          4.011111111111111,
          3.453333333333333,
          6.696296296296296,
          4.460000000000001,
          3.705185185185185,
          2.0192592592592593,
          4.782962962962963,
          3.8051851851851852,
          2.2896296296296295,
          6.013333333333334,
          1.9562962962962964,
          3.522222222222222,
          4.485925925925926,
          6.036296296296296,
          3.67037037037037,
          3.491111111111111,
          -3.674074074074074,
          -2.779259259259259,
          0.3148148148148147,
          -3.8333333333333335,
          -0.8903703703703705,
          -10.194814814814814,
          -2.066666666666667,
          -2.022222222222222,
          3.0725925925925925,
          0.9962962962962962,
          0.8629629629629632,
          -1.4977777777777777,
          -4.6903703703703705,
          1.944444444444444,
          -0.3370370370370368,
          1.7340740740740745,
          2.822222222222222,
          5.4037037037037035,
          0.39629629629629615,
          -0.48888888888888893,
          0.3222222222222222,
          -0.3296296296296295,
          0.3429629629629629,
          1.3651851851851853,
          1.595833333333333,
          1.5622222222222222,
          5.585925925925926,
          -1.1237037037037036,
          0.35333333333333306,
          2.9962962962962965,
          3.9,
          2.1829629629629625,
          0.005185185185185404,
          4.560740740740741,
          5.225925925925925,
          2.0896296296296297,
          3.2133333333333334,
          4.822222222222222,
          4.034814814814815,
          -1.3296296296296295,
          -3.508888888888889,
          1.4259259259259263,
          -1.1792592592592595,
          -2.0851851851851855,
          1.0666666666666667,
          -2.9903703703703703,
          2.1651851851851855,
          -1.7666666666666666,
          -0.5222222222222221,
          1.1725925925925926,
          5.696296296296296,
          -2.037037037037037,
          -1.3977777777777776,
          0.8096296296296297,
          0.5444444444444438,
          -1.2370370370370372,
          0.5340740740740744,
          1.7333333333333334,
          -0.6777777777777776,
          2.9037037037037035,
          -0.7037037037037039,
          -1.777777777777778,
          3.1703703703703705,
          1.642962962962963,
          0.6651851851851855,
          -0.004166666666666874,
          5.162222222222223,
          -0.3466666666666671,
          5.042222222222223,
          1.4,
          3.3829629629629627,
          2.8051851851851852,
          1.4896296296296296,
          0.11333333333333329,
          5.185925925925925,
          5.434814814814814,
          7.814074074074074,
          -1.7088888888888887,
          -0.07407407407407396,
          1.2207407407407407,
          -2.785185185185185,
          0.9666666666666666,
          -0.3903703703703705,
          1.2651851851851852,
          -2.8666666666666667,
          -2.622222222222222,
          -2.037037037037037,
          -0.6977777777777778,
          -0.09037037037037021,
          3.144444444444444,
          2.962962962962963,
          -1.5659259259259257,
          1.9222222222222223,
          0.8962962962962961,
          0.711111111111111,
          -1.8777777777777775,
          1.9703703703703705,
          1.4429629629629628,
          -0.865925925925926,
          2.562222222222222,
          1.6762962962962966,
          3.7422222222222223,
          1.3962962962962964,
          0.6600000000000001,
          0.5999999999999996,
          2.6259259259259253,
          2.9133333333333336,
          6.236296296296295,
          5.0962962962962965,
          6.514074074074074,
          0.26296296296296306
         ],
         "yaxis": "y"
        }
       ],
       "layout": {
        "legend": {
         "tracegroupgap": 0
        },
        "margin": {
         "t": 60
        },
        "template": {
         "data": {
          "bar": [
           {
            "error_x": {
             "color": "#2a3f5f"
            },
            "error_y": {
             "color": "#2a3f5f"
            },
            "marker": {
             "line": {
              "color": "#E5ECF6",
              "width": 0.5
             },
             "pattern": {
              "fillmode": "overlay",
              "size": 10,
              "solidity": 0.2
             }
            },
            "type": "bar"
           }
          ],
          "barpolar": [
           {
            "marker": {
             "line": {
              "color": "#E5ECF6",
              "width": 0.5
             },
             "pattern": {
              "fillmode": "overlay",
              "size": 10,
              "solidity": 0.2
             }
            },
            "type": "barpolar"
           }
          ],
          "carpet": [
           {
            "aaxis": {
             "endlinecolor": "#2a3f5f",
             "gridcolor": "white",
             "linecolor": "white",
             "minorgridcolor": "white",
             "startlinecolor": "#2a3f5f"
            },
            "baxis": {
             "endlinecolor": "#2a3f5f",
             "gridcolor": "white",
             "linecolor": "white",
             "minorgridcolor": "white",
             "startlinecolor": "#2a3f5f"
            },
            "type": "carpet"
           }
          ],
          "choropleth": [
           {
            "colorbar": {
             "outlinewidth": 0,
             "ticks": ""
            },
            "type": "choropleth"
           }
          ],
          "contour": [
           {
            "colorbar": {
             "outlinewidth": 0,
             "ticks": ""
            },
            "colorscale": [
             [
              0,
              "#0d0887"
             ],
             [
              0.1111111111111111,
              "#46039f"
             ],
             [
              0.2222222222222222,
              "#7201a8"
             ],
             [
              0.3333333333333333,
              "#9c179e"
             ],
             [
              0.4444444444444444,
              "#bd3786"
             ],
             [
              0.5555555555555556,
              "#d8576b"
             ],
             [
              0.6666666666666666,
              "#ed7953"
             ],
             [
              0.7777777777777778,
              "#fb9f3a"
             ],
             [
              0.8888888888888888,
              "#fdca26"
             ],
             [
              1,
              "#f0f921"
             ]
            ],
            "type": "contour"
           }
          ],
          "contourcarpet": [
           {
            "colorbar": {
             "outlinewidth": 0,
             "ticks": ""
            },
            "type": "contourcarpet"
           }
          ],
          "heatmap": [
           {
            "colorbar": {
             "outlinewidth": 0,
             "ticks": ""
            },
            "colorscale": [
             [
              0,
              "#0d0887"
             ],
             [
              0.1111111111111111,
              "#46039f"
             ],
             [
              0.2222222222222222,
              "#7201a8"
             ],
             [
              0.3333333333333333,
              "#9c179e"
             ],
             [
              0.4444444444444444,
              "#bd3786"
             ],
             [
              0.5555555555555556,
              "#d8576b"
             ],
             [
              0.6666666666666666,
              "#ed7953"
             ],
             [
              0.7777777777777778,
              "#fb9f3a"
             ],
             [
              0.8888888888888888,
              "#fdca26"
             ],
             [
              1,
              "#f0f921"
             ]
            ],
            "type": "heatmap"
           }
          ],
          "heatmapgl": [
           {
            "colorbar": {
             "outlinewidth": 0,
             "ticks": ""
            },
            "colorscale": [
             [
              0,
              "#0d0887"
             ],
             [
              0.1111111111111111,
              "#46039f"
             ],
             [
              0.2222222222222222,
              "#7201a8"
             ],
             [
              0.3333333333333333,
              "#9c179e"
             ],
             [
              0.4444444444444444,
              "#bd3786"
             ],
             [
              0.5555555555555556,
              "#d8576b"
             ],
             [
              0.6666666666666666,
              "#ed7953"
             ],
             [
              0.7777777777777778,
              "#fb9f3a"
             ],
             [
              0.8888888888888888,
              "#fdca26"
             ],
             [
              1,
              "#f0f921"
             ]
            ],
            "type": "heatmapgl"
           }
          ],
          "histogram": [
           {
            "marker": {
             "pattern": {
              "fillmode": "overlay",
              "size": 10,
              "solidity": 0.2
             }
            },
            "type": "histogram"
           }
          ],
          "histogram2d": [
           {
            "colorbar": {
             "outlinewidth": 0,
             "ticks": ""
            },
            "colorscale": [
             [
              0,
              "#0d0887"
             ],
             [
              0.1111111111111111,
              "#46039f"
             ],
             [
              0.2222222222222222,
              "#7201a8"
             ],
             [
              0.3333333333333333,
              "#9c179e"
             ],
             [
              0.4444444444444444,
              "#bd3786"
             ],
             [
              0.5555555555555556,
              "#d8576b"
             ],
             [
              0.6666666666666666,
              "#ed7953"
             ],
             [
              0.7777777777777778,
              "#fb9f3a"
             ],
             [
              0.8888888888888888,
              "#fdca26"
             ],
             [
              1,
              "#f0f921"
             ]
            ],
            "type": "histogram2d"
           }
          ],
          "histogram2dcontour": [
           {
            "colorbar": {
             "outlinewidth": 0,
             "ticks": ""
            },
            "colorscale": [
             [
              0,
              "#0d0887"
             ],
             [
              0.1111111111111111,
              "#46039f"
             ],
             [
              0.2222222222222222,
              "#7201a8"
             ],
             [
              0.3333333333333333,
              "#9c179e"
             ],
             [
              0.4444444444444444,
              "#bd3786"
             ],
             [
              0.5555555555555556,
              "#d8576b"
             ],
             [
              0.6666666666666666,
              "#ed7953"
             ],
             [
              0.7777777777777778,
              "#fb9f3a"
             ],
             [
              0.8888888888888888,
              "#fdca26"
             ],
             [
              1,
              "#f0f921"
             ]
            ],
            "type": "histogram2dcontour"
           }
          ],
          "mesh3d": [
           {
            "colorbar": {
             "outlinewidth": 0,
             "ticks": ""
            },
            "type": "mesh3d"
           }
          ],
          "parcoords": [
           {
            "line": {
             "colorbar": {
              "outlinewidth": 0,
              "ticks": ""
             }
            },
            "type": "parcoords"
           }
          ],
          "pie": [
           {
            "automargin": true,
            "type": "pie"
           }
          ],
          "scatter": [
           {
            "fillpattern": {
             "fillmode": "overlay",
             "size": 10,
             "solidity": 0.2
            },
            "type": "scatter"
           }
          ],
          "scatter3d": [
           {
            "line": {
             "colorbar": {
              "outlinewidth": 0,
              "ticks": ""
             }
            },
            "marker": {
             "colorbar": {
              "outlinewidth": 0,
              "ticks": ""
             }
            },
            "type": "scatter3d"
           }
          ],
          "scattercarpet": [
           {
            "marker": {
             "colorbar": {
              "outlinewidth": 0,
              "ticks": ""
             }
            },
            "type": "scattercarpet"
           }
          ],
          "scattergeo": [
           {
            "marker": {
             "colorbar": {
              "outlinewidth": 0,
              "ticks": ""
             }
            },
            "type": "scattergeo"
           }
          ],
          "scattergl": [
           {
            "marker": {
             "colorbar": {
              "outlinewidth": 0,
              "ticks": ""
             }
            },
            "type": "scattergl"
           }
          ],
          "scattermapbox": [
           {
            "marker": {
             "colorbar": {
              "outlinewidth": 0,
              "ticks": ""
             }
            },
            "type": "scattermapbox"
           }
          ],
          "scatterpolar": [
           {
            "marker": {
             "colorbar": {
              "outlinewidth": 0,
              "ticks": ""
             }
            },
            "type": "scatterpolar"
           }
          ],
          "scatterpolargl": [
           {
            "marker": {
             "colorbar": {
              "outlinewidth": 0,
              "ticks": ""
             }
            },
            "type": "scatterpolargl"
           }
          ],
          "scatterternary": [
           {
            "marker": {
             "colorbar": {
              "outlinewidth": 0,
              "ticks": ""
             }
            },
            "type": "scatterternary"
           }
          ],
          "surface": [
           {
            "colorbar": {
             "outlinewidth": 0,
             "ticks": ""
            },
            "colorscale": [
             [
              0,
              "#0d0887"
             ],
             [
              0.1111111111111111,
              "#46039f"
             ],
             [
              0.2222222222222222,
              "#7201a8"
             ],
             [
              0.3333333333333333,
              "#9c179e"
             ],
             [
              0.4444444444444444,
              "#bd3786"
             ],
             [
              0.5555555555555556,
              "#d8576b"
             ],
             [
              0.6666666666666666,
              "#ed7953"
             ],
             [
              0.7777777777777778,
              "#fb9f3a"
             ],
             [
              0.8888888888888888,
              "#fdca26"
             ],
             [
              1,
              "#f0f921"
             ]
            ],
            "type": "surface"
           }
          ],
          "table": [
           {
            "cells": {
             "fill": {
              "color": "#EBF0F8"
             },
             "line": {
              "color": "white"
             }
            },
            "header": {
             "fill": {
              "color": "#C8D4E3"
             },
             "line": {
              "color": "white"
             }
            },
            "type": "table"
           }
          ]
         },
         "layout": {
          "annotationdefaults": {
           "arrowcolor": "#2a3f5f",
           "arrowhead": 0,
           "arrowwidth": 1
          },
          "autotypenumbers": "strict",
          "coloraxis": {
           "colorbar": {
            "outlinewidth": 0,
            "ticks": ""
           }
          },
          "colorscale": {
           "diverging": [
            [
             0,
             "#8e0152"
            ],
            [
             0.1,
             "#c51b7d"
            ],
            [
             0.2,
             "#de77ae"
            ],
            [
             0.3,
             "#f1b6da"
            ],
            [
             0.4,
             "#fde0ef"
            ],
            [
             0.5,
             "#f7f7f7"
            ],
            [
             0.6,
             "#e6f5d0"
            ],
            [
             0.7,
             "#b8e186"
            ],
            [
             0.8,
             "#7fbc41"
            ],
            [
             0.9,
             "#4d9221"
            ],
            [
             1,
             "#276419"
            ]
           ],
           "sequential": [
            [
             0,
             "#0d0887"
            ],
            [
             0.1111111111111111,
             "#46039f"
            ],
            [
             0.2222222222222222,
             "#7201a8"
            ],
            [
             0.3333333333333333,
             "#9c179e"
            ],
            [
             0.4444444444444444,
             "#bd3786"
            ],
            [
             0.5555555555555556,
             "#d8576b"
            ],
            [
             0.6666666666666666,
             "#ed7953"
            ],
            [
             0.7777777777777778,
             "#fb9f3a"
            ],
            [
             0.8888888888888888,
             "#fdca26"
            ],
            [
             1,
             "#f0f921"
            ]
           ],
           "sequentialminus": [
            [
             0,
             "#0d0887"
            ],
            [
             0.1111111111111111,
             "#46039f"
            ],
            [
             0.2222222222222222,
             "#7201a8"
            ],
            [
             0.3333333333333333,
             "#9c179e"
            ],
            [
             0.4444444444444444,
             "#bd3786"
            ],
            [
             0.5555555555555556,
             "#d8576b"
            ],
            [
             0.6666666666666666,
             "#ed7953"
            ],
            [
             0.7777777777777778,
             "#fb9f3a"
            ],
            [
             0.8888888888888888,
             "#fdca26"
            ],
            [
             1,
             "#f0f921"
            ]
           ]
          },
          "colorway": [
           "#636efa",
           "#EF553B",
           "#00cc96",
           "#ab63fa",
           "#FFA15A",
           "#19d3f3",
           "#FF6692",
           "#B6E880",
           "#FF97FF",
           "#FECB52"
          ],
          "font": {
           "color": "#2a3f5f"
          },
          "geo": {
           "bgcolor": "white",
           "lakecolor": "white",
           "landcolor": "#E5ECF6",
           "showlakes": true,
           "showland": true,
           "subunitcolor": "white"
          },
          "hoverlabel": {
           "align": "left"
          },
          "hovermode": "closest",
          "mapbox": {
           "style": "light"
          },
          "paper_bgcolor": "white",
          "plot_bgcolor": "#E5ECF6",
          "polar": {
           "angularaxis": {
            "gridcolor": "white",
            "linecolor": "white",
            "ticks": ""
           },
           "bgcolor": "#E5ECF6",
           "radialaxis": {
            "gridcolor": "white",
            "linecolor": "white",
            "ticks": ""
           }
          },
          "scene": {
           "xaxis": {
            "backgroundcolor": "#E5ECF6",
            "gridcolor": "white",
            "gridwidth": 2,
            "linecolor": "white",
            "showbackground": true,
            "ticks": "",
            "zerolinecolor": "white"
           },
           "yaxis": {
            "backgroundcolor": "#E5ECF6",
            "gridcolor": "white",
            "gridwidth": 2,
            "linecolor": "white",
            "showbackground": true,
            "ticks": "",
            "zerolinecolor": "white"
           },
           "zaxis": {
            "backgroundcolor": "#E5ECF6",
            "gridcolor": "white",
            "gridwidth": 2,
            "linecolor": "white",
            "showbackground": true,
            "ticks": "",
            "zerolinecolor": "white"
           }
          },
          "shapedefaults": {
           "line": {
            "color": "#2a3f5f"
           }
          },
          "ternary": {
           "aaxis": {
            "gridcolor": "white",
            "linecolor": "white",
            "ticks": ""
           },
           "baxis": {
            "gridcolor": "white",
            "linecolor": "white",
            "ticks": ""
           },
           "bgcolor": "#E5ECF6",
           "caxis": {
            "gridcolor": "white",
            "linecolor": "white",
            "ticks": ""
           }
          },
          "title": {
           "x": 0.05
          },
          "xaxis": {
           "automargin": true,
           "gridcolor": "white",
           "linecolor": "white",
           "ticks": "",
           "title": {
            "standoff": 15
           },
           "zerolinecolor": "white",
           "zerolinewidth": 2
          },
          "yaxis": {
           "automargin": true,
           "gridcolor": "white",
           "linecolor": "white",
           "ticks": "",
           "title": {
            "standoff": 15
           },
           "zerolinecolor": "white",
           "zerolinewidth": 2
          }
         }
        },
        "title": {
         "text": "BPM Difference vs Draft Pick for Players with at least 82 Games Played"
        },
        "xaxis": {
         "anchor": "y",
         "domain": [
          0,
          1
         ],
         "title": {
          "text": "Draft Pick"
         }
        },
        "yaxis": {
         "anchor": "x",
         "domain": [
          0,
          1
         ],
         "title": {
          "text": "BPM Difference"
         }
        }
       }
      }
     },
     "metadata": {},
     "output_type": "display_data"
    }
   ],
   "source": [
    "# Filter players based on the minimum games played\n",
    "filtered_df = df_career_na_filled[df_career_na_filled['G'] >= min_games]\n",
    "\n",
    "# create a combobox widget with all 'Player' values\n",
    "player_widget_diff_scatter = widgets.Combobox(\n",
    "    placeholder='Choose a Player',\n",
    "    options=filtered_df['Player'].unique().tolist(),\n",
    "    description='Player:',\n",
    "    ensure_option=True,\n",
    "    disabled=False\n",
    ")\n",
    "\n",
    "# create a dropdown widget with all relevant stats\n",
    "stat_dropdown_diff_scatter = widgets.Dropdown(\n",
    "    options=relevant_stats,\n",
    "    description='Select Stat:',\n",
    "    disabled=False,\n",
    ")\n",
    "\n",
    "hover_template_player = Template('<b>{{player_name}}</b><br><br>'\n",
    "                          'Pick: {{pick}} ({{season}}) <br>' +\n",
    "                          '{{selected_stat}} Rank: {{rank}} <br>' +\n",
    "                          '{{selected_stat}} diff. to avg player at pick {{pick}}: {{diff}}<br>' +\n",
    "                          'Career {{selected_stat}}: {{raw_stat}}<br><extra></extra>')\n",
    "\n",
    "# Define the output area to display the scatter plot\n",
    "output_diff_scatter = widgets.Output()\n",
    "\n",
    "# Function to update the output area based on the selected stat\n",
    "def on_value_change_diff_scatter(change):\n",
    "    clear_output()\n",
    "    output_diff_scatter.clear_output()\n",
    "    selected_stat = stat_dropdown_diff_scatter.value\n",
    "    selected_player = player_widget_diff_scatter.value\n",
    "\n",
    "    display(player_widget_diff_scatter)\n",
    "    display(stat_dropdown_diff_scatter)\n",
    "    with output_diff_scatter:\n",
    "        # scatter plot for all players\n",
    "        fig = px.scatter(filtered_df, x='Pk', y=f'{selected_stat}_diff', hover_name='Player',\n",
    "                         hover_data={'Pk': True, f'{selected_stat}_diff': ':.1f', 'Player': False, selected_stat: ':.1f', f'{selected_stat}_rank': True, 'Season': True})\n",
    "        \n",
    "        # red dot for selected player\n",
    "        if selected_player in filtered_df['Player'].values:\n",
    "            highlighted_player = filtered_df[filtered_df['Player'] == selected_player]\n",
    "            fig.add_trace(px.scatter(highlighted_player, x='Pk', y=f'{selected_stat}_diff', hover_name='Player',\n",
    "                                     hover_data={'Pk': True, f'{selected_stat}_diff': ':.1f', 'Player': False, selected_stat: ':.1f', f'{selected_stat}_rank': True, 'Season': True},\n",
    "                                     color_discrete_sequence=['red']).data[0])\n",
    "        \n",
    "        # styling the figure\n",
    "        fig.update_traces(hovertemplate=hover_template_player.render(player_name='%{hovertext}',\n",
    "            pick='%{x}',\n",
    "            season='%{customdata[3]}',\n",
    "            selected_stat=selected_stat,\n",
    "            diff='%{y:.2f}',\n",
    "            rank='%{customdata[2]}',\n",
    "            raw_stat='%{customdata[1]:.2f}'))\n",
    "        \n",
    "        fig.update_traces(marker=dict(size=12), showlegend=False)\n",
    "        fig.update_layout(title=f'{selected_stat} Difference vs Draft Pick for Players with at least {min_games} Games Played',\n",
    "                          xaxis_title='Draft Pick', yaxis_title=f'{selected_stat} Difference')\n",
    "        fig.show()\n",
    "    \n",
    "# Observe changes in the value of the dropdown and call the function\n",
    "stat_dropdown_diff_scatter.observe(on_value_change_diff_scatter, names='value')\n",
    "player_widget_diff_scatter.observe(on_value_change_diff_scatter, names='value')\n",
    "\n",
    "# Display the dropdown and the output area\n",
    "display(player_widget_diff_scatter)\n",
    "display(stat_dropdown_diff_scatter)\n",
    "display(output_diff_scatter)"
   ]
  },
  {
   "cell_type": "markdown",
   "metadata": {},
   "source": [
    "**Player Analysis: Performance Metric vs Draft Pick**\n",
    "\n",
    "Similarly to the visualization above, the chosen statistics of individual players are plotted against their draft position. However, instead of showing the differences, this plot uses the raw statistics. The yellow dots represent the average statistic for that draft pick."
   ]
  },
  {
   "cell_type": "code",
   "execution_count": 13,
   "metadata": {},
   "outputs": [
    {
     "data": {
      "application/vnd.jupyter.widget-view+json": {
       "model_id": "b4f40dbc1dc54267b15b06957fce1cf1",
       "version_major": 2,
       "version_minor": 0
      },
      "text/plain": [
       "Combobox(value='', description='Player:', ensure_option=True, options=('Allen Iverson', 'Marcus Camby', 'Share…"
      ]
     },
     "metadata": {},
     "output_type": "display_data"
    },
    {
     "data": {
      "application/vnd.jupyter.widget-view+json": {
       "model_id": "bb630e1f83924c25a5b71c09f16d042a",
       "version_major": 2,
       "version_minor": 0
      },
      "text/plain": [
       "Dropdown(description='Select Stat:', options=('PTS', 'TRB', 'AST', 'WS', 'WS/48', 'BPM', 'VORP', 'PIE', 'OFF_R…"
      ]
     },
     "metadata": {},
     "output_type": "display_data"
    },
    {
     "data": {
      "application/vnd.jupyter.widget-view+json": {
       "model_id": "faead0abf0624ef68f3c2d474b8f8a1b",
       "version_major": 2,
       "version_minor": 0
      },
      "text/plain": [
       "Output()"
      ]
     },
     "metadata": {},
     "output_type": "display_data"
    }
   ],
   "source": [
    "# create a combobox widget with all 'Player' values\n",
    "player_widget_total_scatter = widgets.Combobox(\n",
    "    placeholder='Choose a Player',\n",
    "    options=filtered_df['Player'].unique().tolist(),\n",
    "    description='Player:',\n",
    "    ensure_option=True,\n",
    "    disabled=False\n",
    ")\n",
    "\n",
    "# create a dropdown widget with all relevant stats\n",
    "stat_dropdown_total_scatter = widgets.Dropdown(\n",
    "    options=relevant_stats,\n",
    "    description='Select Stat:',\n",
    "    disabled=False,\n",
    ")\n",
    "\n",
    "hover_template_avg_player = Template('<b>Pick: {{pick}}</b><br><br>'\n",
    "                          'Average {{selected_stat}}: {{raw_stat}} <br><extra></extra>')\n",
    "\n",
    "# Define the output area to display the scatter plot\n",
    "output_total_scatter = widgets.Output()\n",
    "\n",
    "# Function to update the output area based on the selected stat\n",
    "def on_value_change_total_scatter(change):\n",
    "    clear_output()\n",
    "    output_total_scatter.clear_output()\n",
    "    selected_stat = stat_dropdown_total_scatter.value\n",
    "    selected_player = player_widget_total_scatter.value\n",
    "\n",
    "    display(player_widget_total_scatter)\n",
    "    display(stat_dropdown_total_scatter)\n",
    "    with output_total_scatter:\n",
    "        fig = px.scatter(filtered_df, x='Pk', y=selected_stat, hover_name='Player',\n",
    "                         hover_data={'Pk': True, selected_stat: True, 'Player': False, f'{selected_stat}_diff': True, f'{selected_stat}_rank': True, 'Season': True})\n",
    "        \n",
    "        if selected_player in filtered_df['Player'].values:\n",
    "            highlighted_player = filtered_df[filtered_df['Player'] == selected_player]\n",
    "            fig.add_trace(px.scatter(highlighted_player, x='Pk', y=selected_stat, hover_name='Player',\n",
    "                                    hover_data={'Pk': True, selected_stat: True, 'Player': False, f'{selected_stat}_diff': True, f'{selected_stat}_rank': True, 'Season': True},\n",
    "                                    color_discrete_sequence=['red']).data[0])\n",
    "        \n",
    "        # styling the figure\n",
    "        fig.update_traces(hovertemplate=hover_template_player.render(player_name='%{hovertext}',\n",
    "            pick='%{x}',\n",
    "            season='%{customdata[3]}',\n",
    "            selected_stat=selected_stat,\n",
    "            diff='%{customdata[1]:.2f}',\n",
    "            rank='%{customdata[2]}',\n",
    "            raw_stat='%{y:.2f}'))\n",
    "        \n",
    "        # TODO: style this differently\n",
    "        # add a yellow dot for each average in the df_avg dataframe\n",
    "        fig.add_trace(px.scatter(df_avg, x='Pk', y=selected_stat, hover_name='Pk',\n",
    "                                 hover_data={selected_stat: True, 'Pk': True}, \n",
    "                                 color_discrete_sequence=['yellow']).data[0])\n",
    "        \n",
    "        # styling the figure only for the yellow dots\n",
    "        fig.update_traces(hovertemplate=hover_template_avg_player.render(pick='%{hovertext}',\n",
    "            selected_stat=selected_stat,\n",
    "            raw_stat='%{y:.2f}'),\n",
    "            selector=dict(marker_color='yellow'))\n",
    "        \n",
    "        fig.update_traces(marker=dict(size=12), showlegend=False)\n",
    "        fig.update_layout(title=f'{selected_stat} vs Draft Pick for Players with at least {min_games} Games Played',\n",
    "                          xaxis_title='Draft Pick', yaxis_title=selected_stat)\n",
    "        fig.show()\n",
    "    \n",
    "# Observe changes in the value of the dropdown and call the function\n",
    "stat_dropdown_total_scatter.observe(on_value_change_total_scatter, names='value')\n",
    "player_widget_total_scatter.observe(on_value_change_total_scatter, names='value')\n",
    "\n",
    "# Display the dropdown and the output area\n",
    "display(player_widget_total_scatter)\n",
    "display(stat_dropdown_total_scatter)\n",
    "display(output_total_scatter)"
   ]
  },
  {
   "cell_type": "markdown",
   "metadata": {},
   "source": [
    "# Team Analysis by Season\n",
    "<a id='team_season_analysis'></a>\n",
    "\n",
    "In this section, the analysis is aggregated to a team level in order to answer the initial research question, which NBA team is best at drafting."
   ]
  },
  {
   "cell_type": "markdown",
   "metadata": {},
   "source": [
    "Since some teams have relocated and/or rebranded since 1996 they may have different abbreviation over time in the data. However, we want to conduct our analysis on a franchise level and therefore replace all outdated abbreviations with the most current one for each franchise."
   ]
  },
  {
   "cell_type": "code",
   "execution_count": 14,
   "metadata": {},
   "outputs": [],
   "source": [
    "# function to replace outdated abbreviations with the current ones\n",
    "def clean_team_names(df):\n",
    "    team_dict = {'CHH': 'CHO', 'CHA': 'CHO', 'NJN': 'BRK', 'NOH': 'NOP', 'NOK': 'NOP', 'SEA': 'OKC', 'VAN': 'MEM', 'WSB': 'WAS'}\n",
    "    df['Tm'] = df['Tm'].replace(team_dict)\n",
    "    return df"
   ]
  },
  {
   "cell_type": "markdown",
   "metadata": {},
   "source": [
    "In this cell, we calculate the average performance metrics of all player selected by a team in the same draft year. This allows us to visualize the draft performance of each team over time. The grey dots in the scatter plot below represent the draft performance of a team in the respective season. Using the dropdown widget, a team can be selected and it's performance is shown in red. Optionally, the individual players that were picked by the selected team can also be visualized (blue dots). \n",
    "\n",
    "A purple dot means that the blue and red dot are exactly overlapping. In other words, the chosen team only selected one player in the respecitve draft year, resulting in the player's values and team average being equal."
   ]
  },
  {
   "cell_type": "code",
   "execution_count": 15,
   "metadata": {},
   "outputs": [],
   "source": [
    "# group the df_career_na_filled by team and season and calculate the average\n",
    "df_team_avg_by_season = clean_team_names(df_career_na_filled).groupby(['Tm', 'Season']).mean(numeric_only=True)\n",
    "df_team_avg_by_season = df_team_avg_by_season.reset_index()"
   ]
  },
  {
   "cell_type": "code",
   "execution_count": 39,
   "metadata": {},
   "outputs": [
    {
     "data": {
      "application/vnd.jupyter.widget-view+json": {
       "model_id": "f2e58965527a40c4b448f996f47c40c5",
       "version_major": 2,
       "version_minor": 0
      },
      "text/plain": [
       "Dropdown(description='Select Stat:', options=('PTS', 'TRB', 'AST', 'WS', 'WS/48', 'BPM', 'VORP', 'PIE', 'OFF_R…"
      ]
     },
     "metadata": {},
     "output_type": "display_data"
    },
    {
     "data": {
      "application/vnd.jupyter.widget-view+json": {
       "model_id": "aade072d16164ab8ab79c7b3469564be",
       "version_major": 2,
       "version_minor": 0
      },
      "text/plain": [
       "Dropdown(description='Select Team:', index=1, options=('ATL', 'BOS', 'BRK', 'CHI', 'CHO', 'CLE', 'DAL', 'DEN',…"
      ]
     },
     "metadata": {},
     "output_type": "display_data"
    },
    {
     "data": {
      "application/vnd.jupyter.widget-view+json": {
       "model_id": "ea283a4c9a284e6a93b184ce0bd52d93",
       "version_major": 2,
       "version_minor": 0
      },
      "text/plain": [
       "Checkbox(value=True, description='Show Players selected by Team', indent=False)"
      ]
     },
     "metadata": {},
     "output_type": "display_data"
    },
    {
     "data": {
      "application/vnd.plotly.v1+json": {
       "config": {
        "plotlyServerURL": "https://plot.ly"
       },
       "data": [
        {
         "customdata": [
          [
           "ATL",
           194.5
          ],
          [
           "ATL",
           675.6666666666666
          ],
          [
           "ATL",
           1354.5
          ],
          [
           "ATL",
           5436.25
          ],
          [
           "ATL",
           945.3333333333334
          ],
          [
           "ATL",
           20407
          ],
          [
           "ATL",
           1745
          ],
          [
           "ATL",
           4631
          ],
          [
           "ATL",
           3670
          ],
          [
           "ATL",
           3067.5
          ],
          [
           "ATL",
           1228.5
          ],
          [
           "ATL",
           7165
          ],
          [
           "ATL",
           5030.5
          ],
          [
           "ATL",
           7
          ],
          [
           "ATL",
           2295.5
          ],
          [
           "ATL",
           5699.666666666667
          ],
          [
           "ATL",
           63
          ],
          [
           "ATL",
           0
          ],
          [
           "ATL",
           2047.3333333333333
          ],
          [
           "ATL",
           2159.3333333333335
          ],
          [
           "ATL",
           4632.333333333333
          ],
          [
           "ATL",
           1726
          ],
          [
           "ATL",
           853.5
          ],
          [
           "ATL",
           227
          ],
          [
           "ATL",
           330
          ],
          [
           "BOS",
           5255.666666666667
          ],
          [
           "BOS",
           3611
          ],
          [
           "BOS",
           26397
          ],
          [
           "BOS",
           0
          ],
          [
           "BOS",
           386
          ],
          [
           "BOS",
           269.5
          ],
          [
           "BOS",
           2165
          ],
          [
           "BOS",
           6416.75
          ],
          [
           "BOS",
           3888
          ],
          [
           "BOS",
           5410.5
          ],
          [
           "BOS",
           2118
          ],
          [
           "BOS",
           576
          ],
          [
           "BOS",
           7279
          ],
          [
           "BOS",
           2428.5
          ],
          [
           "BOS",
           969.6666666666666
          ],
          [
           "BOS",
           6993
          ],
          [
           "BOS",
           3180
          ],
          [
           "BOS",
           1913.25
          ],
          [
           "BOS",
           1915
          ],
          [
           "BOS",
           2784.25
          ],
          [
           "BOS",
           1534
          ],
          [
           "BOS",
           710
          ],
          [
           "BOS",
           791.3333333333334
          ],
          [
           "BOS",
           0
          ],
          [
           "BOS",
           19
          ],
          [
           "BRK",
           7165
          ],
          [
           "BRK",
           11091
          ],
          [
           "BRK",
           421
          ],
          [
           "BRK",
           4696.5
          ],
          [
           "BRK",
           4839.5
          ],
          [
           "BRK",
           2191.5
          ],
          [
           "BRK",
           282.5
          ],
          [
           "BRK",
           0
          ],
          [
           "BRK",
           807
          ],
          [
           "BRK",
           884.3333333333334
          ],
          [
           "BRK",
           581
          ],
          [
           "BRK",
           8352.666666666666
          ],
          [
           "BRK",
           1085
          ],
          [
           "BRK",
           150
          ],
          [
           "BRK",
           894.5
          ],
          [
           "BRK",
           0
          ],
          [
           "BRK",
           0
          ],
          [
           "BRK",
           211
          ],
          [
           "BRK",
           1649
          ],
          [
           "BRK",
           396.6666666666667
          ],
          [
           "CHI",
           65
          ],
          [
           "CHI",
           503
          ],
          [
           "CHI",
           10200.333333333334
          ],
          [
           "CHI",
           4170.333333333333
          ],
          [
           "CHI",
           6690
          ],
          [
           "CHI",
           1160.5
          ],
          [
           "CHI",
           3198
          ],
          [
           "CHI",
           9463.666666666666
          ],
          [
           "CHI",
           4043.5
          ],
          [
           "CHI",
           2323
          ],
          [
           "CHI",
           7430.5
          ],
          [
           "CHI",
           7035
          ],
          [
           "CHI",
           8799
          ],
          [
           "CHI",
           138
          ],
          [
           "CHI",
           1839
          ],
          [
           "CHI",
           2772
          ],
          [
           "CHI",
           6008
          ],
          [
           "CHI",
           1083.6666666666667
          ],
          [
           "CHI",
           6030
          ],
          [
           "CHI",
           1951
          ],
          [
           "CHI",
           2684.5
          ],
          [
           "CHI",
           832
          ],
          [
           "CHI",
           1366
          ],
          [
           "CHI",
           85
          ],
          [
           "CHO",
           4980
          ],
          [
           "CHO",
           4956
          ],
          [
           "CHO",
           8034.5
          ],
          [
           "CHO",
           4917
          ],
          [
           "CHO",
           32
          ],
          [
           "CHO",
           3973
          ],
          [
           "CHO",
           5837
          ],
          [
           "CHO",
           1556.5
          ],
          [
           "CHO",
           3397.5
          ],
          [
           "CHO",
           3634
          ],
          [
           "CHO",
           2294
          ],
          [
           "CHO",
           9281.5
          ],
          [
           "CHO",
           2278.5
          ],
          [
           "CHO",
           4300
          ],
          [
           "CHO",
           1174.5
          ],
          [
           "CHO",
           1815
          ],
          [
           "CHO",
           12
          ],
          [
           "CHO",
           2860
          ],
          [
           "CHO",
           2504
          ],
          [
           "CHO",
           1966.6666666666667
          ],
          [
           "CHO",
           984
          ],
          [
           "CHO",
           168.4
          ],
          [
           "CHO",
           316.5
          ],
          [
           "CLE",
           5060
          ],
          [
           "CLE",
           4861.333333333333
          ],
          [
           "CLE",
           99
          ],
          [
           "CLE",
           4241.75
          ],
          [
           "CLE",
           3262
          ],
          [
           "CLE",
           636.5
          ],
          [
           "CLE",
           7470
          ],
          [
           "CLE",
           21025
          ],
          [
           "CLE",
           2413
          ],
          [
           "CLE",
           0
          ],
          [
           "CLE",
           2077.6666666666665
          ],
          [
           "CLE",
           1418.5
          ],
          [
           "CLE",
           3762
          ],
          [
           "CLE",
           253
          ],
          [
           "CLE",
           7434.666666666667
          ],
          [
           "CLE",
           4189
          ],
          [
           "CLE",
           321.3333333333333
          ],
          [
           "CLE",
           2996
          ],
          [
           "CLE",
           1969
          ],
          [
           "CLE",
           1034.3333333333333
          ],
          [
           "CLE",
           2514
          ],
          [
           "CLE",
           5041
          ],
          [
           "CLE",
           2638.6666666666665
          ],
          [
           "CLE",
           1724
          ],
          [
           "CLE",
           2311
          ],
          [
           "CLE",
           10.333333333333334
          ],
          [
           "DAL",
           3363.6666666666665
          ],
          [
           "DAL",
           470.5
          ],
          [
           "DAL",
           11537
          ],
          [
           "DAL",
           604
          ],
          [
           "DAL",
           1400.6666666666667
          ],
          [
           "DAL",
           0
          ],
          [
           "DAL",
           0
          ],
          [
           "DAL",
           3635
          ],
          [
           "DAL",
           5300.5
          ],
          [
           "DAL",
           84.5
          ],
          [
           "DAL",
           0
          ],
          [
           "DAL",
           0
          ],
          [
           "DAL",
           643
          ],
          [
           "DAL",
           246
          ],
          [
           "DAL",
           0
          ],
          [
           "DAL",
           2526.6666666666665
          ],
          [
           "DAL",
           514.3333333333334
          ],
          [
           "DAL",
           4432
          ],
          [
           "DAL",
           642
          ],
          [
           "DAL",
           24
          ],
          [
           "DAL",
           2791
          ],
          [
           "DAL",
           3510.25
          ],
          [
           "DAL",
           332.3333333333333
          ],
          [
           "DAL",
           420
          ],
          [
           "DEN",
           5396
          ],
          [
           "DEN",
           4189.25
          ],
          [
           "DEN",
           2473.75
          ],
          [
           "DEN",
           3123
          ],
          [
           "DEN",
           18
          ],
          [
           "DEN",
           160.5
          ],
          [
           "DEN",
           3940.6666666666665
          ],
          [
           "DEN",
           14144.5
          ],
          [
           "DEN",
           35
          ],
          [
           "DEN",
           1196.3333333333333
          ],
          [
           "DEN",
           27
          ],
          [
           "DEN",
           1189
          ],
          [
           "DEN",
           3488.5
          ],
          [
           "DEN",
           3160
          ],
          [
           "DEN",
           3227.3333333333335
          ],
          [
           "DEN",
           659
          ],
          [
           "DEN",
           7895.333333333333
          ],
          [
           "DEN",
           1649.5
          ],
          [
           "DEN",
           3293.75
          ],
          [
           "DEN",
           1355.6666666666667
          ],
          [
           "DEN",
           1093
          ],
          [
           "DEN",
           776
          ],
          [
           "DEN",
           683
          ],
          [
           "DEN",
           1357
          ],
          [
           "DEN",
           217.5
          ],
          [
           "DET",
           3865
          ],
          [
           "DET",
           1171
          ],
          [
           "DET",
           13
          ],
          [
           "DET",
           0
          ],
          [
           "DET",
           1358.5
          ],
          [
           "DET",
           5050.5
          ],
          [
           "DET",
           11272
          ],
          [
           "DET",
           3464
          ],
          [
           "DET",
           0
          ],
          [
           "DET",
           3221.3333333333335
          ],
          [
           "DET",
           23.5
          ],
          [
           "DET",
           5461
          ],
          [
           "DET",
           4
          ],
          [
           "DET",
           1906.3333333333333
          ],
          [
           "DET",
           4201
          ],
          [
           "DET",
           2891
          ],
          [
           "DET",
           7363
          ],
          [
           "DET",
           2936.3333333333335
          ],
          [
           "DET",
           6411
          ],
          [
           "DET",
           1550.5
          ],
          [
           "DET",
           173
          ],
          [
           "DET",
           3512
          ],
          [
           "DET",
           1604
          ],
          [
           "DET",
           218
          ],
          [
           "DET",
           1743.5
          ],
          [
           "DET",
           729
          ],
          [
           "DET",
           605.3333333333334
          ],
          [
           "GSW",
           417.5
          ],
          [
           "GSW",
           3113.5
          ],
          [
           "GSW",
           20042
          ],
          [
           "GSW",
           717.5
          ],
          [
           "GSW",
           440
          ],
          [
           "GSW",
           11302
          ],
          [
           "GSW",
           4189
          ],
          [
           "GSW",
           2634.5
          ],
          [
           "GSW",
           3247
          ],
          [
           "GSW",
           5417.666666666667
          ],
          [
           "GSW",
           98
          ],
          [
           "GSW",
           5673
          ],
          [
           "GSW",
           894.5
          ],
          [
           "GSW",
           21712
          ],
          [
           "GSW",
           1353
          ],
          [
           "GSW",
           3734.25
          ],
          [
           "GSW",
           4780
          ],
          [
           "GSW",
           26
          ],
          [
           "GSW",
           2299
          ],
          [
           "GSW",
           1011
          ],
          [
           "GSW",
           593
          ],
          [
           "GSW",
           168
          ],
          [
           "GSW",
           1944.6666666666667
          ],
          [
           "GSW",
           340.3333333333333
          ],
          [
           "GSW",
           924
          ],
          [
           "GSW",
           48.333333333333336
          ],
          [
           "HOU",
           1995
          ],
          [
           "HOU",
           190
          ],
          [
           "HOU",
           5434
          ],
          [
           "HOU",
           4080.5
          ],
          [
           "HOU",
           617
          ],
          [
           "HOU",
           943
          ],
          [
           "HOU",
           4178.6
          ],
          [
           "HOU",
           0
          ],
          [
           "HOU",
           85
          ],
          [
           "HOU",
           2842
          ],
          [
           "HOU",
           2177
          ],
          [
           "HOU",
           3933.3333333333335
          ],
          [
           "HOU",
           4304
          ],
          [
           "HOU",
           2962.5
          ],
          [
           "HOU",
           4782
          ],
          [
           "HOU",
           5684
          ],
          [
           "HOU",
           1402.6666666666667
          ],
          [
           "HOU",
           1913
          ],
          [
           "HOU",
           2017.5
          ],
          [
           "HOU",
           3657
          ],
          [
           "HOU",
           21
          ],
          [
           "HOU",
           1365
          ],
          [
           "HOU",
           30.5
          ],
          [
           "HOU",
           2154
          ],
          [
           "HOU",
           1468.25
          ],
          [
           "HOU",
           638.3333333333334
          ],
          [
           "IND",
           3797
          ],
          [
           "IND",
           4475
          ],
          [
           "IND",
           13237
          ],
          [
           "IND",
           2600
          ],
          [
           "IND",
           1226
          ],
          [
           "IND",
           2370.5
          ],
          [
           "IND",
           3206
          ],
          [
           "IND",
           3717
          ],
          [
           "IND",
           474.5
          ],
          [
           "IND",
           4927.5
          ],
          [
           "IND",
           1769
          ],
          [
           "IND",
           4930.5
          ],
          [
           "IND",
           2202
          ],
          [
           "IND",
           10549.5
          ],
          [
           "IND",
           1013
          ],
          [
           "IND",
           1226.5
          ],
          [
           "IND",
           2728
          ],
          [
           "IND",
           2363.3333333333335
          ],
          [
           "IND",
           4020
          ],
          [
           "IND",
           465
          ],
          [
           "IND",
           1116
          ],
          [
           "IND",
           919
          ],
          [
           "IND",
           626.5
          ],
          [
           "IND",
           917
          ],
          [
           "IND",
           505
          ],
          [
           "LAC",
           3095.5
          ],
          [
           "LAC",
           2225.6666666666665
          ],
          [
           "LAC",
           2437.3333333333335
          ],
          [
           "LAC",
           6390.5
          ],
          [
           "LAC",
           5199.75
          ],
          [
           "LAC",
           4910.333333333333
          ],
          [
           "LAC",
           4104
          ],
          [
           "LAC",
           2671
          ],
          [
           "LAC",
           235
          ],
          [
           "LAC",
           111
          ],
          [
           "LAC",
           729.6
          ],
          [
           "LAC",
           7513.333333333333
          ],
          [
           "LAC",
           14513
          ],
          [
           "LAC",
           5245
          ],
          [
           "LAC",
           35.5
          ],
          [
           "LAC",
           3943
          ],
          [
           "LAC",
           132
          ],
          [
           "LAC",
           5
          ],
          [
           "LAC",
           207.66666666666666
          ],
          [
           "LAC",
           319
          ],
          [
           "LAC",
           3256.6666666666665
          ],
          [
           "LAC",
           766.3333333333334
          ],
          [
           "LAC",
           80
          ],
          [
           "LAC",
           263.5
          ],
          [
           "LAC",
           59
          ],
          [
           "LAL",
           15210.666666666666
          ],
          [
           "LAL",
           0
          ],
          [
           "LAL",
           3046.75
          ],
          [
           "LAL",
           1786.5
          ],
          [
           "LAL",
           975
          ],
          [
           "LAL",
           2213
          ],
          [
           "LAL",
           2480.5
          ],
          [
           "LAL",
           1547
          ],
          [
           "LAL",
           2695
          ],
          [
           "LAL",
           3888
          ],
          [
           "LAL",
           6
          ],
          [
           "LAL",
           0
          ],
          [
           "LAL",
           152.5
          ],
          [
           "LAL",
           156.75
          ],
          [
           "LAL",
           529.6666666666666
          ],
          [
           "LAL",
           981
          ],
          [
           "LAL",
           10807
          ],
          [
           "LAL",
           4193
          ],
          [
           "LAL",
           5871.5
          ],
          [
           "LAL",
           3915.25
          ],
          [
           "LAL",
           1256.5
          ],
          [
           "LAL",
           1914
          ],
          [
           "LAL",
           128
          ],
          [
           "MEM",
           4575.5
          ],
          [
           "MEM",
           3311.5
          ],
          [
           "MEM",
           5414.333333333333
          ],
          [
           "MEM",
           255
          ],
          [
           "MEM",
           3039.5
          ],
          [
           "MEM",
           7498.5
          ],
          [
           "MEM",
           287
          ],
          [
           "MEM",
           1682
          ],
          [
           "MEM",
           68.66666666666667
          ],
          [
           "MEM",
           2640.5
          ],
          [
           "MEM",
           11270.666666666666
          ],
          [
           "MEM",
           9376
          ],
          [
           "MEM",
           5428
          ],
          [
           "MEM",
           1585.4
          ],
          [
           "MEM",
           2320.5
          ],
          [
           "MEM",
           83
          ],
          [
           "MEM",
           1604
          ],
          [
           "MEM",
           21
          ],
          [
           "MEM",
           73.66666666666667
          ],
          [
           "MEM",
           1005
          ],
          [
           "MEM",
           209.33333333333334
          ],
          [
           "MEM",
           2921
          ],
          [
           "MEM",
           2924.6666666666665
          ],
          [
           "MEM",
           4045.5
          ],
          [
           "MEM",
           2163.5
          ],
          [
           "MEM",
           769.5
          ],
          [
           "MEM",
           169.75
          ],
          [
           "MIA",
           0
          ],
          [
           "MIA",
           0
          ],
          [
           "MIA",
           6413.333333333333
          ],
          [
           "MIA",
           2679.5
          ],
          [
           "MIA",
           117.5
          ],
          [
           "MIA",
           9261
          ],
          [
           "MIA",
           11583.5
          ],
          [
           "MIA",
           4597
          ],
          [
           "MIA",
           169
          ],
          [
           "MIA",
           732.3333333333334
          ],
          [
           "MIA",
           6655.5
          ],
          [
           "MIA",
           0
          ],
          [
           "MIA",
           55.75
          ],
          [
           "MIA",
           2506
          ],
          [
           "MIA",
           687
          ],
          [
           "MIA",
           2629
          ],
          [
           "MIA",
           2433
          ],
          [
           "MIA",
           4376.5
          ],
          [
           "MIA",
           6146
          ],
          [
           "MIA",
           2247
          ],
          [
           "MIA",
           1476
          ],
          [
           "MIA",
           82
          ],
          [
           "MIL",
           12261.5
          ],
          [
           "MIL",
           152
          ],
          [
           "MIL",
           2972.3333333333335
          ],
          [
           "MIL",
           0
          ],
          [
           "MIL",
           5296
          ],
          [
           "MIL",
           0
          ],
          [
           "MIL",
           972.6666666666666
          ],
          [
           "MIL",
           2398.5
          ],
          [
           "MIL",
           7586
          ],
          [
           "MIL",
           117.5
          ],
          [
           "MIL",
           4644.5
          ],
          [
           "MIL",
           2331
          ],
          [
           "MIL",
           7801
          ],
          [
           "MIL",
           508
          ],
          [
           "MIL",
           7896.5
          ],
          [
           "MIL",
           3383
          ],
          [
           "MIL",
           8370.5
          ],
          [
           "MIL",
           1426
          ],
          [
           "MIL",
           423
          ],
          [
           "MIL",
           3687.5
          ],
          [
           "MIL",
           1039
          ],
          [
           "MIL",
           1633.5
          ],
          [
           "MIL",
           669.5
          ],
          [
           "MIL",
           417
          ],
          [
           "MIL",
           266
          ],
          [
           "MIN",
           16297
          ],
          [
           "MIN",
           132.5
          ],
          [
           "MIN",
           2819.5
          ],
          [
           "MIN",
           3191.3333333333335
          ],
          [
           "MIN",
           78
          ],
          [
           "MIN",
           555
          ],
          [
           "MIN",
           0
          ],
          [
           "MIN",
           20
          ],
          [
           "MIN",
           0
          ],
          [
           "MIN",
           1304
          ],
          [
           "MIN",
           3603
          ],
          [
           "MIN",
           2481
          ],
          [
           "MIN",
           9109.5
          ],
          [
           "MIN",
           3816
          ],
          [
           "MIN",
           1963.5
          ],
          [
           "MIN",
           1974.5
          ],
          [
           "MIN",
           379
          ],
          [
           "MIN",
           2365
          ],
          [
           "MIN",
           5990
          ],
          [
           "MIN",
           7701
          ],
          [
           "MIN",
           2285
          ],
          [
           "MIN",
           86
          ],
          [
           "MIN",
           1790.5
          ],
          [
           "MIN",
           1716.6666666666667
          ],
          [
           "MIN",
           2318
          ],
          [
           "MIN",
           29.333333333333332
          ],
          [
           "NOP",
           757.5
          ],
          [
           "NOP",
           7124.5
          ],
          [
           "NOP",
           3141.5
          ],
          [
           "NOP",
           14165
          ],
          [
           "NOP",
           364.3333333333333
          ],
          [
           "NOP",
           453.5
          ],
          [
           "NOP",
           4155.5
          ],
          [
           "NOP",
           7305.5
          ],
          [
           "NOP",
           1609
          ],
          [
           "NOP",
           7811.333333333333
          ],
          [
           "NOP",
           666
          ],
          [
           "NOP",
           479
          ],
          [
           "NOP",
           1816
          ],
          [
           "NOP",
           0
          ],
          [
           "NOP",
           1655.5
          ],
          [
           "NOP",
           598
          ],
          [
           "NOP",
           1436.5
          ],
          [
           "NOP",
           75.66666666666667
          ],
          [
           "NYK",
           2003.6666666666667
          ],
          [
           "NYK",
           6
          ],
          [
           "NYK",
           0
          ],
          [
           "NYK",
           195
          ],
          [
           "NYK",
           0
          ],
          [
           "NYK",
           5415.666666666667
          ],
          [
           "NYK",
           1516
          ],
          [
           "NYK",
           11593
          ],
          [
           "NYK",
           8608.333333333334
          ],
          [
           "NYK",
           818
          ],
          [
           "NYK",
           8463
          ],
          [
           "NYK",
           5668
          ],
          [
           "NYK",
           3009
          ],
          [
           "NYK",
           639.6666666666666
          ],
          [
           "NYK",
           1792.5
          ],
          [
           "NYK",
           9168
          ],
          [
           "NYK",
           345
          ],
          [
           "NYK",
           4030.6666666666665
          ],
          [
           "NYK",
           1041.3333333333333
          ],
          [
           "NYK",
           2214.5
          ],
          [
           "NYK",
           2609
          ],
          [
           "NYK",
           2110
          ],
          [
           "NYK",
           551
          ],
          [
           "NYK",
           3
          ],
          [
           "OKC",
           0
          ],
          [
           "OKC",
           745.3333333333334
          ],
          [
           "OKC",
           4574.5
          ],
          [
           "OKC",
           2631.3333333333335
          ],
          [
           "OKC",
           5736
          ],
          [
           "OKC",
           2408.5
          ],
          [
           "OKC",
           4372
          ],
          [
           "OKC",
           208
          ],
          [
           "OKC",
           1436
          ],
          [
           "OKC",
           34.333333333333336
          ],
          [
           "OKC",
           20312
          ],
          [
           "OKC",
           6109.666666666667
          ],
          [
           "OKC",
           9077.333333333334
          ],
          [
           "OKC",
           352.6666666666667
          ],
          [
           "OKC",
           9876
          ],
          [
           "OKC",
           3146.5
          ],
          [
           "OKC",
           2466
          ],
          [
           "OKC",
           199
          ],
          [
           "OKC",
           1340
          ],
          [
           "OKC",
           3770
          ],
          [
           "OKC",
           924
          ],
          [
           "OKC",
           769
          ],
          [
           "OKC",
           1442.6666666666667
          ],
          [
           "OKC",
           881.3333333333334
          ],
          [
           "OKC",
           785.8333333333334
          ],
          [
           "OKC",
           384.25
          ],
          [
           "ORL",
           289.5
          ],
          [
           "ORL",
           141
          ],
          [
           "ORL",
           3636.5
          ],
          [
           "ORL",
           8434
          ],
          [
           "ORL",
           10973
          ],
          [
           "ORL",
           1010.5
          ],
          [
           "ORL",
           4425.5
          ],
          [
           "ORL",
           3931.3333333333335
          ],
          [
           "ORL",
           14712.5
          ],
          [
           "ORL",
           2935
          ],
          [
           "ORL",
           4023.3333333333335
          ],
          [
           "ORL",
           0
          ],
          [
           "ORL",
           7765
          ],
          [
           "ORL",
           1138
          ],
          [
           "ORL",
           71.5
          ],
          [
           "ORL",
           195.5
          ],
          [
           "ORL",
           2218
          ],
          [
           "ORL",
           4251.5
          ],
          [
           "ORL",
           4376.333333333333
          ],
          [
           "ORL",
           1142
          ],
          [
           "ORL",
           23
          ],
          [
           "ORL",
           1156.5
          ],
          [
           "ORL",
           1078.5
          ],
          [
           "ORL",
           1082
          ],
          [
           "ORL",
           1796.5
          ],
          [
           "ORL",
           1885
          ],
          [
           "ORL",
           815
          ],
          [
           "PHI",
           6200.25
          ],
          [
           "PHI",
           3520
          ],
          [
           "PHI",
           5357
          ],
          [
           "PHI",
           2347
          ],
          [
           "PHI",
           1548
          ],
          [
           "PHI",
           2316
          ],
          [
           "PHI",
           4146
          ],
          [
           "PHI",
           6004
          ],
          [
           "PHI",
           13968
          ],
          [
           "PHI",
           15593
          ],
          [
           "PHI",
           1033
          ],
          [
           "PHI",
           5955
          ],
          [
           "PHI",
           5592
          ],
          [
           "PHI",
           9932
          ],
          [
           "PHI",
           3427
          ],
          [
           "PHI",
           7923.5
          ],
          [
           "PHI",
           151.5
          ],
          [
           "PHI",
           2557
          ],
          [
           "PHI",
           4113.833333333333
          ],
          [
           "PHI",
           1260.2
          ],
          [
           "PHI",
           2922
          ],
          [
           "PHI",
           825.6666666666666
          ],
          [
           "PHI",
           2523.3333333333335
          ],
          [
           "PHI",
           621.5
          ],
          [
           "PHI",
           1516.6666666666667
          ],
          [
           "PHI",
           104
          ],
          [
           "PHO",
           0
          ],
          [
           "PHO",
           73
          ],
          [
           "PHO",
           5
          ],
          [
           "PHO",
           0
          ],
          [
           "PHO",
           0
          ],
          [
           "PHO",
           0
          ],
          [
           "PHO",
           12688
          ],
          [
           "PHO",
           82
          ],
          [
           "PHO",
           2784.5
          ],
          [
           "PHO",
           425
          ],
          [
           "POR",
           6700.5
          ],
          [
           "POR",
           2960
          ],
          [
           "POR",
           7147
          ],
          [
           "POR",
           0
          ],
          [
           "POR",
           49.5
          ],
          [
           "POR",
           6219.333333333333
          ],
          [
           "POR",
           230.33333333333334
          ],
          [
           "POR",
           1757.6666666666667
          ],
          [
           "POR",
           1632
          ],
          [
           "POR",
           4801.666666666667
          ],
          [
           "POR",
           7229.5
          ],
          [
           "POR",
           1809
          ],
          [
           "POR",
           7768
          ],
          [
           "POR",
           3211.75
          ],
          [
           "POR",
           837.3333333333334
          ],
          [
           "POR",
           138.5
          ],
          [
           "POR",
           7430
          ],
          [
           "POR",
           5675.75
          ],
          [
           "POR",
           2935
          ],
          [
           "POR",
           1175
          ],
          [
           "POR",
           999.5
          ],
          [
           "POR",
           3675
          ],
          [
           "POR",
           1161
          ],
          [
           "POR",
           288.5
          ],
          [
           "POR",
           354.5
          ],
          [
           "POR",
           335
          ],
          [
           "SAC",
           13647
          ],
          [
           "SAC",
           3131
          ],
          [
           "SAC",
           4903
          ],
          [
           "SAC",
           5
          ],
          [
           "SAC",
           5675.5
          ],
          [
           "SAC",
           4966.5
          ],
          [
           "SAC",
           3415
          ],
          [
           "SAC",
           4157.666666666667
          ],
          [
           "SAC",
           4323
          ],
          [
           "SAC",
           588
          ],
          [
           "SAC",
           5932
          ],
          [
           "SAC",
           3375.5
          ],
          [
           "SAC",
           4769.666666666667
          ],
          [
           "SAC",
           9626
          ],
          [
           "SAC",
           3727
          ],
          [
           "SAC",
           0
          ],
          [
           "SAC",
           2967.5
          ],
          [
           "SAC",
           3773.5
          ],
          [
           "SAC",
           3675
          ],
          [
           "SAC",
           2046.8
          ],
          [
           "SAC",
           2794.25
          ],
          [
           "SAC",
           2760
          ],
          [
           "SAC",
           131
          ],
          [
           "SAC",
           1073.6666666666667
          ],
          [
           "SAC",
           584
          ],
          [
           "SAC",
           976
          ],
          [
           "SAS",
           911
          ],
          [
           "SAS",
           26496
          ],
          [
           "SAS",
           253
          ],
          [
           "SAS",
           14043
          ],
          [
           "SAS",
           0
          ],
          [
           "SAS",
           6491
          ],
          [
           "SAS",
           2317.3333333333335
          ],
          [
           "SAS",
           3209
          ],
          [
           "SAS",
           182
          ],
          [
           "SAS",
           942
          ],
          [
           "SAS",
           3231.3333333333335
          ],
          [
           "SAS",
           1106
          ],
          [
           "SAS",
           711
          ],
          [
           "SAS",
           5320.75
          ],
          [
           "SAS",
           0
          ],
          [
           "SAS",
           0
          ],
          [
           "SAS",
           2109
          ],
          [
           "SAS",
           0
          ],
          [
           "SAS",
           5508
          ],
          [
           "SAS",
           4044
          ],
          [
           "SAS",
           1898
          ],
          [
           "SAS",
           1331
          ],
          [
           "SAS",
           1649
          ],
          [
           "SAS",
           193
          ],
          [
           "SAS",
           490.3333333333333
          ],
          [
           "TOR",
           9262
          ],
          [
           "TOR",
           9726
          ],
          [
           "TOR",
           8884
          ],
          [
           "TOR",
           26
          ],
          [
           "TOR",
           2630
          ],
          [
           "TOR",
           483
          ],
          [
           "TOR",
           281
          ],
          [
           "TOR",
           7714
          ],
          [
           "TOR",
           202.66666666666666
          ],
          [
           "TOR",
           2356.5
          ],
          [
           "TOR",
           4558.333333333333
          ],
          [
           "TOR",
           126
          ],
          [
           "TOR",
           21685
          ],
          [
           "TOR",
           2165
          ],
          [
           "TOR",
           10434
          ],
          [
           "TOR",
           3229.6666666666665
          ],
          [
           "TOR",
           446
          ],
          [
           "TOR",
           147.33333333333334
          ],
          [
           "TOR",
           3958.6666666666665
          ],
          [
           "TOR",
           5971
          ],
          [
           "TOR",
           4268
          ],
          [
           "TOR",
           14
          ],
          [
           "TOR",
           442
          ],
          [
           "TOR",
           886.6666666666666
          ],
          [
           "TOR",
           182
          ],
          [
           "UTA",
           5327
          ],
          [
           "UTA",
           1731.5
          ],
          [
           "UTA",
           2968
          ],
          [
           "UTA",
           5930
          ],
          [
           "UTA",
           1414
          ],
          [
           "UTA",
           258
          ],
          [
           "UTA",
           6773
          ],
          [
           "UTA",
           3341.5
          ],
          [
           "UTA",
           7320.333333333333
          ],
          [
           "UTA",
           6205.333333333333
          ],
          [
           "UTA",
           141.33333333333334
          ],
          [
           "UTA",
           1304.3333333333333
          ],
          [
           "UTA",
           0
          ],
          [
           "UTA",
           5361
          ],
          [
           "UTA",
           7825
          ],
          [
           "UTA",
           15
          ],
          [
           "UTA",
           3952.25
          ],
          [
           "UTA",
           3022.5
          ],
          [
           "UTA",
           1355
          ],
          [
           "UTA",
           337
          ],
          [
           "UTA",
           3654
          ],
          [
           "UTA",
           2556
          ],
          [
           "UTA",
           91.33333333333333
          ],
          [
           "UTA",
           189
          ],
          [
           "UTA",
           198
          ],
          [
           "UTA",
           573
          ],
          [
           "WAS",
           0
          ],
          [
           "WAS",
           61
          ],
          [
           "WAS",
           1000
          ],
          [
           "WAS",
           5779.666666666667
          ],
          [
           "WAS",
           1360.6666666666667
          ],
          [
           "WAS",
           4587.333333333333
          ],
          [
           "WAS",
           2227
          ],
          [
           "WAS",
           3075.3333333333335
          ],
          [
           "WAS",
           11
          ],
          [
           "WAS",
           5706
          ],
          [
           "WAS",
           219
          ],
          [
           "WAS",
           4566.5
          ],
          [
           "WAS",
           6722
          ],
          [
           "WAS",
           4347
          ],
          [
           "WAS",
           4493.8
          ],
          [
           "WAS",
           9033.5
          ],
          [
           "WAS",
           1807.6666666666667
          ],
          [
           "WAS",
           2311.6666666666665
          ],
          [
           "WAS",
           156
          ],
          [
           "WAS",
           974.5
          ],
          [
           "WAS",
           1510
          ],
          [
           "WAS",
           889.5
          ],
          [
           "WAS",
           741.5
          ],
          [
           "WAS",
           81.5
          ]
         ],
         "hovertemplate": "<b>%{hovertext}</b><br><br>Season: %{x} <br>PTS diff to avg players: %{y:.2f}<br>PTS: %{customdata[1]:.2f} <br><extra></extra>",
         "hovertext": [
          "ATL",
          "ATL",
          "ATL",
          "ATL",
          "ATL",
          "ATL",
          "ATL",
          "ATL",
          "ATL",
          "ATL",
          "ATL",
          "ATL",
          "ATL",
          "ATL",
          "ATL",
          "ATL",
          "ATL",
          "ATL",
          "ATL",
          "ATL",
          "ATL",
          "ATL",
          "ATL",
          "ATL",
          "ATL",
          "BOS",
          "BOS",
          "BOS",
          "BOS",
          "BOS",
          "BOS",
          "BOS",
          "BOS",
          "BOS",
          "BOS",
          "BOS",
          "BOS",
          "BOS",
          "BOS",
          "BOS",
          "BOS",
          "BOS",
          "BOS",
          "BOS",
          "BOS",
          "BOS",
          "BOS",
          "BOS",
          "BOS",
          "BOS",
          "BRK",
          "BRK",
          "BRK",
          "BRK",
          "BRK",
          "BRK",
          "BRK",
          "BRK",
          "BRK",
          "BRK",
          "BRK",
          "BRK",
          "BRK",
          "BRK",
          "BRK",
          "BRK",
          "BRK",
          "BRK",
          "BRK",
          "BRK",
          "CHI",
          "CHI",
          "CHI",
          "CHI",
          "CHI",
          "CHI",
          "CHI",
          "CHI",
          "CHI",
          "CHI",
          "CHI",
          "CHI",
          "CHI",
          "CHI",
          "CHI",
          "CHI",
          "CHI",
          "CHI",
          "CHI",
          "CHI",
          "CHI",
          "CHI",
          "CHI",
          "CHI",
          "CHO",
          "CHO",
          "CHO",
          "CHO",
          "CHO",
          "CHO",
          "CHO",
          "CHO",
          "CHO",
          "CHO",
          "CHO",
          "CHO",
          "CHO",
          "CHO",
          "CHO",
          "CHO",
          "CHO",
          "CHO",
          "CHO",
          "CHO",
          "CHO",
          "CHO",
          "CHO",
          "CLE",
          "CLE",
          "CLE",
          "CLE",
          "CLE",
          "CLE",
          "CLE",
          "CLE",
          "CLE",
          "CLE",
          "CLE",
          "CLE",
          "CLE",
          "CLE",
          "CLE",
          "CLE",
          "CLE",
          "CLE",
          "CLE",
          "CLE",
          "CLE",
          "CLE",
          "CLE",
          "CLE",
          "CLE",
          "CLE",
          "DAL",
          "DAL",
          "DAL",
          "DAL",
          "DAL",
          "DAL",
          "DAL",
          "DAL",
          "DAL",
          "DAL",
          "DAL",
          "DAL",
          "DAL",
          "DAL",
          "DAL",
          "DAL",
          "DAL",
          "DAL",
          "DAL",
          "DAL",
          "DAL",
          "DAL",
          "DAL",
          "DAL",
          "DEN",
          "DEN",
          "DEN",
          "DEN",
          "DEN",
          "DEN",
          "DEN",
          "DEN",
          "DEN",
          "DEN",
          "DEN",
          "DEN",
          "DEN",
          "DEN",
          "DEN",
          "DEN",
          "DEN",
          "DEN",
          "DEN",
          "DEN",
          "DEN",
          "DEN",
          "DEN",
          "DEN",
          "DEN",
          "DET",
          "DET",
          "DET",
          "DET",
          "DET",
          "DET",
          "DET",
          "DET",
          "DET",
          "DET",
          "DET",
          "DET",
          "DET",
          "DET",
          "DET",
          "DET",
          "DET",
          "DET",
          "DET",
          "DET",
          "DET",
          "DET",
          "DET",
          "DET",
          "DET",
          "DET",
          "DET",
          "GSW",
          "GSW",
          "GSW",
          "GSW",
          "GSW",
          "GSW",
          "GSW",
          "GSW",
          "GSW",
          "GSW",
          "GSW",
          "GSW",
          "GSW",
          "GSW",
          "GSW",
          "GSW",
          "GSW",
          "GSW",
          "GSW",
          "GSW",
          "GSW",
          "GSW",
          "GSW",
          "GSW",
          "GSW",
          "GSW",
          "HOU",
          "HOU",
          "HOU",
          "HOU",
          "HOU",
          "HOU",
          "HOU",
          "HOU",
          "HOU",
          "HOU",
          "HOU",
          "HOU",
          "HOU",
          "HOU",
          "HOU",
          "HOU",
          "HOU",
          "HOU",
          "HOU",
          "HOU",
          "HOU",
          "HOU",
          "HOU",
          "HOU",
          "HOU",
          "HOU",
          "IND",
          "IND",
          "IND",
          "IND",
          "IND",
          "IND",
          "IND",
          "IND",
          "IND",
          "IND",
          "IND",
          "IND",
          "IND",
          "IND",
          "IND",
          "IND",
          "IND",
          "IND",
          "IND",
          "IND",
          "IND",
          "IND",
          "IND",
          "IND",
          "IND",
          "LAC",
          "LAC",
          "LAC",
          "LAC",
          "LAC",
          "LAC",
          "LAC",
          "LAC",
          "LAC",
          "LAC",
          "LAC",
          "LAC",
          "LAC",
          "LAC",
          "LAC",
          "LAC",
          "LAC",
          "LAC",
          "LAC",
          "LAC",
          "LAC",
          "LAC",
          "LAC",
          "LAC",
          "LAC",
          "LAL",
          "LAL",
          "LAL",
          "LAL",
          "LAL",
          "LAL",
          "LAL",
          "LAL",
          "LAL",
          "LAL",
          "LAL",
          "LAL",
          "LAL",
          "LAL",
          "LAL",
          "LAL",
          "LAL",
          "LAL",
          "LAL",
          "LAL",
          "LAL",
          "LAL",
          "LAL",
          "MEM",
          "MEM",
          "MEM",
          "MEM",
          "MEM",
          "MEM",
          "MEM",
          "MEM",
          "MEM",
          "MEM",
          "MEM",
          "MEM",
          "MEM",
          "MEM",
          "MEM",
          "MEM",
          "MEM",
          "MEM",
          "MEM",
          "MEM",
          "MEM",
          "MEM",
          "MEM",
          "MEM",
          "MEM",
          "MEM",
          "MEM",
          "MIA",
          "MIA",
          "MIA",
          "MIA",
          "MIA",
          "MIA",
          "MIA",
          "MIA",
          "MIA",
          "MIA",
          "MIA",
          "MIA",
          "MIA",
          "MIA",
          "MIA",
          "MIA",
          "MIA",
          "MIA",
          "MIA",
          "MIA",
          "MIA",
          "MIA",
          "MIL",
          "MIL",
          "MIL",
          "MIL",
          "MIL",
          "MIL",
          "MIL",
          "MIL",
          "MIL",
          "MIL",
          "MIL",
          "MIL",
          "MIL",
          "MIL",
          "MIL",
          "MIL",
          "MIL",
          "MIL",
          "MIL",
          "MIL",
          "MIL",
          "MIL",
          "MIL",
          "MIL",
          "MIL",
          "MIN",
          "MIN",
          "MIN",
          "MIN",
          "MIN",
          "MIN",
          "MIN",
          "MIN",
          "MIN",
          "MIN",
          "MIN",
          "MIN",
          "MIN",
          "MIN",
          "MIN",
          "MIN",
          "MIN",
          "MIN",
          "MIN",
          "MIN",
          "MIN",
          "MIN",
          "MIN",
          "MIN",
          "MIN",
          "MIN",
          "NOP",
          "NOP",
          "NOP",
          "NOP",
          "NOP",
          "NOP",
          "NOP",
          "NOP",
          "NOP",
          "NOP",
          "NOP",
          "NOP",
          "NOP",
          "NOP",
          "NOP",
          "NOP",
          "NOP",
          "NOP",
          "NYK",
          "NYK",
          "NYK",
          "NYK",
          "NYK",
          "NYK",
          "NYK",
          "NYK",
          "NYK",
          "NYK",
          "NYK",
          "NYK",
          "NYK",
          "NYK",
          "NYK",
          "NYK",
          "NYK",
          "NYK",
          "NYK",
          "NYK",
          "NYK",
          "NYK",
          "NYK",
          "NYK",
          "OKC",
          "OKC",
          "OKC",
          "OKC",
          "OKC",
          "OKC",
          "OKC",
          "OKC",
          "OKC",
          "OKC",
          "OKC",
          "OKC",
          "OKC",
          "OKC",
          "OKC",
          "OKC",
          "OKC",
          "OKC",
          "OKC",
          "OKC",
          "OKC",
          "OKC",
          "OKC",
          "OKC",
          "OKC",
          "OKC",
          "ORL",
          "ORL",
          "ORL",
          "ORL",
          "ORL",
          "ORL",
          "ORL",
          "ORL",
          "ORL",
          "ORL",
          "ORL",
          "ORL",
          "ORL",
          "ORL",
          "ORL",
          "ORL",
          "ORL",
          "ORL",
          "ORL",
          "ORL",
          "ORL",
          "ORL",
          "ORL",
          "ORL",
          "ORL",
          "ORL",
          "ORL",
          "PHI",
          "PHI",
          "PHI",
          "PHI",
          "PHI",
          "PHI",
          "PHI",
          "PHI",
          "PHI",
          "PHI",
          "PHI",
          "PHI",
          "PHI",
          "PHI",
          "PHI",
          "PHI",
          "PHI",
          "PHI",
          "PHI",
          "PHI",
          "PHI",
          "PHI",
          "PHI",
          "PHI",
          "PHI",
          "PHI",
          "PHO",
          "PHO",
          "PHO",
          "PHO",
          "PHO",
          "PHO",
          "PHO",
          "PHO",
          "PHO",
          "PHO",
          "POR",
          "POR",
          "POR",
          "POR",
          "POR",
          "POR",
          "POR",
          "POR",
          "POR",
          "POR",
          "POR",
          "POR",
          "POR",
          "POR",
          "POR",
          "POR",
          "POR",
          "POR",
          "POR",
          "POR",
          "POR",
          "POR",
          "POR",
          "POR",
          "POR",
          "POR",
          "SAC",
          "SAC",
          "SAC",
          "SAC",
          "SAC",
          "SAC",
          "SAC",
          "SAC",
          "SAC",
          "SAC",
          "SAC",
          "SAC",
          "SAC",
          "SAC",
          "SAC",
          "SAC",
          "SAC",
          "SAC",
          "SAC",
          "SAC",
          "SAC",
          "SAC",
          "SAC",
          "SAC",
          "SAC",
          "SAC",
          "SAS",
          "SAS",
          "SAS",
          "SAS",
          "SAS",
          "SAS",
          "SAS",
          "SAS",
          "SAS",
          "SAS",
          "SAS",
          "SAS",
          "SAS",
          "SAS",
          "SAS",
          "SAS",
          "SAS",
          "SAS",
          "SAS",
          "SAS",
          "SAS",
          "SAS",
          "SAS",
          "SAS",
          "SAS",
          "TOR",
          "TOR",
          "TOR",
          "TOR",
          "TOR",
          "TOR",
          "TOR",
          "TOR",
          "TOR",
          "TOR",
          "TOR",
          "TOR",
          "TOR",
          "TOR",
          "TOR",
          "TOR",
          "TOR",
          "TOR",
          "TOR",
          "TOR",
          "TOR",
          "TOR",
          "TOR",
          "TOR",
          "TOR",
          "UTA",
          "UTA",
          "UTA",
          "UTA",
          "UTA",
          "UTA",
          "UTA",
          "UTA",
          "UTA",
          "UTA",
          "UTA",
          "UTA",
          "UTA",
          "UTA",
          "UTA",
          "UTA",
          "UTA",
          "UTA",
          "UTA",
          "UTA",
          "UTA",
          "UTA",
          "UTA",
          "UTA",
          "UTA",
          "UTA",
          "WAS",
          "WAS",
          "WAS",
          "WAS",
          "WAS",
          "WAS",
          "WAS",
          "WAS",
          "WAS",
          "WAS",
          "WAS",
          "WAS",
          "WAS",
          "WAS",
          "WAS",
          "WAS",
          "WAS",
          "WAS",
          "WAS",
          "WAS",
          "WAS",
          "WAS",
          "WAS",
          "WAS"
         ],
         "legendgroup": "",
         "marker": {
          "color": "#7F7F7F",
          "size": 12,
          "symbol": "circle"
         },
         "mode": "markers",
         "name": "",
         "orientation": "v",
         "showlegend": false,
         "type": "scatter",
         "x": [
          1996,
          1997,
          1998,
          1999,
          2000,
          2001,
          2002,
          2003,
          2004,
          2005,
          2006,
          2007,
          2009,
          2010,
          2012,
          2013,
          2014,
          2015,
          2016,
          2017,
          2018,
          2019,
          2020,
          2021,
          2022,
          1996,
          1997,
          1998,
          1999,
          2000,
          2001,
          2003,
          2004,
          2005,
          2006,
          2007,
          2008,
          2010,
          2011,
          2012,
          2013,
          2014,
          2015,
          2016,
          2017,
          2018,
          2019,
          2020,
          2021,
          2022,
          1996,
          1997,
          1999,
          2000,
          2001,
          2002,
          2003,
          2004,
          2005,
          2006,
          2007,
          2008,
          2009,
          2010,
          2011,
          2012,
          2017,
          2018,
          2019,
          2021,
          1997,
          1998,
          1999,
          2000,
          2001,
          2002,
          2003,
          2004,
          2006,
          2007,
          2008,
          2009,
          2011,
          2012,
          2013,
          2014,
          2015,
          2016,
          2017,
          2018,
          2019,
          2020,
          2021,
          2022,
          1996,
          1998,
          1999,
          2000,
          2001,
          2004,
          2005,
          2006,
          2007,
          2008,
          2009,
          2011,
          2012,
          2013,
          2014,
          2015,
          2016,
          2017,
          2018,
          2019,
          2020,
          2021,
          2022,
          1996,
          1997,
          1998,
          1999,
          2000,
          2001,
          2002,
          2003,
          2004,
          2005,
          2006,
          2008,
          2009,
          2010,
          2011,
          2012,
          2013,
          2014,
          2015,
          2016,
          2017,
          2018,
          2019,
          2020,
          2021,
          2022,
          1996,
          1997,
          1998,
          1999,
          2000,
          2001,
          2002,
          2003,
          2004,
          2006,
          2007,
          2008,
          2009,
          2010,
          2011,
          2012,
          2013,
          2014,
          2015,
          2016,
          2017,
          2018,
          2020,
          2022,
          1996,
          1997,
          1998,
          1999,
          2000,
          2001,
          2002,
          2003,
          2004,
          2005,
          2007,
          2008,
          2009,
          2011,
          2012,
          2013,
          2014,
          2015,
          2016,
          2017,
          2018,
          2019,
          2020,
          2021,
          2022,
          1996,
          1997,
          1998,
          1999,
          2000,
          2001,
          2002,
          2003,
          2004,
          2005,
          2006,
          2007,
          2008,
          2009,
          2010,
          2011,
          2012,
          2013,
          2014,
          2015,
          2016,
          2017,
          2018,
          2019,
          2020,
          2021,
          2022,
          1996,
          1997,
          1998,
          1999,
          2000,
          2001,
          2002,
          2003,
          2004,
          2005,
          2006,
          2007,
          2008,
          2009,
          2010,
          2011,
          2012,
          2013,
          2015,
          2016,
          2017,
          2018,
          2019,
          2020,
          2021,
          2022,
          1996,
          1997,
          1998,
          1999,
          2000,
          2001,
          2002,
          2003,
          2004,
          2005,
          2006,
          2007,
          2008,
          2009,
          2010,
          2011,
          2012,
          2013,
          2014,
          2015,
          2016,
          2017,
          2018,
          2020,
          2021,
          2022,
          1996,
          1997,
          1998,
          1999,
          2000,
          2001,
          2002,
          2003,
          2004,
          2005,
          2006,
          2008,
          2009,
          2010,
          2012,
          2013,
          2014,
          2015,
          2016,
          2017,
          2018,
          2019,
          2020,
          2021,
          2022,
          1996,
          1997,
          1998,
          1999,
          2000,
          2002,
          2003,
          2004,
          2005,
          2006,
          2007,
          2008,
          2009,
          2010,
          2011,
          2013,
          2014,
          2015,
          2016,
          2017,
          2018,
          2019,
          2020,
          2021,
          2022,
          1996,
          1997,
          1998,
          1999,
          2000,
          2002,
          2003,
          2004,
          2005,
          2006,
          2007,
          2009,
          2010,
          2011,
          2012,
          2013,
          2014,
          2015,
          2016,
          2017,
          2018,
          2019,
          2022,
          1996,
          1997,
          1998,
          1999,
          2000,
          2001,
          2002,
          2003,
          2004,
          2005,
          2006,
          2007,
          2008,
          2009,
          2010,
          2011,
          2012,
          2013,
          2014,
          2015,
          2016,
          2017,
          2018,
          2019,
          2020,
          2021,
          2022,
          1997,
          1998,
          1999,
          2000,
          2001,
          2002,
          2003,
          2004,
          2005,
          2007,
          2008,
          2009,
          2010,
          2011,
          2012,
          2013,
          2014,
          2015,
          2017,
          2019,
          2020,
          2022,
          1996,
          1997,
          1998,
          1999,
          2000,
          2001,
          2002,
          2003,
          2005,
          2006,
          2007,
          2008,
          2009,
          2010,
          2011,
          2012,
          2013,
          2014,
          2015,
          2016,
          2017,
          2018,
          2020,
          2021,
          2022,
          1996,
          1997,
          1998,
          1999,
          2000,
          2001,
          2002,
          2003,
          2004,
          2005,
          2006,
          2007,
          2008,
          2009,
          2010,
          2011,
          2012,
          2013,
          2014,
          2015,
          2016,
          2017,
          2018,
          2019,
          2020,
          2022,
          2002,
          2003,
          2004,
          2005,
          2006,
          2007,
          2008,
          2009,
          2010,
          2012,
          2013,
          2016,
          2017,
          2018,
          2019,
          2020,
          2021,
          2022,
          1996,
          1998,
          1999,
          2000,
          2001,
          2002,
          2003,
          2004,
          2005,
          2006,
          2007,
          2008,
          2009,
          2010,
          2011,
          2013,
          2014,
          2015,
          2017,
          2018,
          2019,
          2020,
          2021,
          2022,
          1996,
          1997,
          1998,
          2000,
          2001,
          2002,
          2003,
          2004,
          2005,
          2006,
          2007,
          2008,
          2009,
          2010,
          2011,
          2012,
          2013,
          2014,
          2015,
          2016,
          2017,
          2018,
          2019,
          2020,
          2021,
          2022,
          1996,
          1997,
          1998,
          1999,
          2000,
          2001,
          2002,
          2003,
          2004,
          2005,
          2006,
          2007,
          2008,
          2009,
          2010,
          2011,
          2012,
          2013,
          2014,
          2015,
          2016,
          2017,
          2018,
          2019,
          2020,
          2021,
          2022,
          1996,
          1997,
          1998,
          1999,
          2000,
          2001,
          2002,
          2003,
          2004,
          2005,
          2006,
          2007,
          2008,
          2009,
          2010,
          2011,
          2012,
          2013,
          2014,
          2015,
          2016,
          2017,
          2018,
          2019,
          2020,
          2021,
          1996,
          2007,
          2009,
          2010,
          2013,
          2014,
          2015,
          2017,
          2018,
          2021,
          1996,
          1997,
          1998,
          1999,
          2000,
          2001,
          2002,
          2003,
          2004,
          2005,
          2006,
          2007,
          2008,
          2009,
          2010,
          2011,
          2012,
          2013,
          2015,
          2016,
          2017,
          2018,
          2019,
          2020,
          2021,
          2022,
          1996,
          1997,
          1998,
          1999,
          2000,
          2001,
          2002,
          2004,
          2005,
          2006,
          2007,
          2008,
          2009,
          2010,
          2011,
          2012,
          2013,
          2014,
          2015,
          2016,
          2017,
          2018,
          2019,
          2020,
          2021,
          2022,
          1996,
          1997,
          1998,
          1999,
          2000,
          2001,
          2004,
          2005,
          2006,
          2007,
          2008,
          2009,
          2010,
          2011,
          2012,
          2013,
          2014,
          2015,
          2016,
          2017,
          2018,
          2019,
          2020,
          2021,
          2022,
          1996,
          1997,
          1998,
          1999,
          2000,
          2001,
          2002,
          2003,
          2004,
          2005,
          2006,
          2008,
          2009,
          2010,
          2011,
          2012,
          2013,
          2014,
          2015,
          2016,
          2017,
          2019,
          2020,
          2021,
          2022,
          1996,
          1997,
          1999,
          2000,
          2001,
          2002,
          2003,
          2004,
          2005,
          2006,
          2007,
          2008,
          2009,
          2010,
          2011,
          2012,
          2013,
          2014,
          2015,
          2016,
          2017,
          2018,
          2019,
          2020,
          2021,
          2022,
          1996,
          1997,
          1998,
          1999,
          2000,
          2001,
          2002,
          2003,
          2004,
          2005,
          2006,
          2007,
          2008,
          2010,
          2011,
          2012,
          2013,
          2015,
          2017,
          2018,
          2019,
          2020,
          2021,
          2022
         ],
         "xaxis": "x",
         "y": [
          -1513.8148148148148,
          -607.4814814814814,
          -834.9814814814815,
          1529.7372685185185,
          -1718.79012345679,
          13420,
          -831.5925925925926,
          2245.222222222222,
          1040.4888888888888,
          611.9120370370371,
          -3702.444444444445,
          233.7037037037037,
          2576.666666666667,
          -533.9629629629629,
          -457.12962962962956,
          1354.4444444444441,
          -1493.2777777777776,
          -343.6203703703704,
          -593.246913580247,
          -17.62164124909221,
          -304.7530864197532,
          -3852.0246913580245,
          -1970.611111111111,
          -1676.5925925925926,
          -1814.8888888888887,
          1902.1234567901236,
          1378.2345679012349,
          19410,
          -861.8888888888889,
          -3247.4814814814813,
          -3245.240740740741,
          -1065.0740740740741,
          3126.425925925926,
          2246.1234567901233,
          3309.8888888888887,
          400.53703703703707,
          -1253.6666666666665,
          3176.5555555555557,
          442.66666666666674,
          -1223.1604938271605,
          1267.7037037037035,
          -1278,
          -483.5555555555555,
          -1650.1925925925927,
          -465.9444444444445,
          -1575.7777777777778,
          -1410.3796296296296,
          -1901.2592592592594,
          -1932.2222222222222,
          -521.9629629629629,
          1685.333333333333,
          6397.611111111111,
          -1064.4444444444443,
          -1154.6111111111115,
          1167.7962962962965,
          137.72222222222226,
          -2042.6296296296296,
          -703.2962962962963,
          -2493.9259259259256,
          -1163.1604938271605,
          -3353.740740740741,
          4167.975308641976,
          -2548.4814814814813,
          -3600.6296296296296,
          -1082.5185185185185,
          -840.0370370370371,
          -840.0370370370371,
          -1599.7916666666667,
          -608.2592592592591,
          -915.0925925925926,
          -1293.6481481481483,
          -1187.9074074074074,
          4977.407407407407,
          509.2037037037035,
          760.5432098765433,
          -1593.537037037037,
          147.46913580246903,
          2995.0987654320984,
          -2949.962962962963,
          -667.0740740740742,
          1579.3888888888885,
          3766.666666666667,
          5976.388888888889,
          -945.8587962962963,
          -10.370370370370438,
          552.6481481481483,
          3528.814814814815,
          -985.074074074074,
          -1463.2222222222226,
          -3035.203703703704,
          -1903.7962962962965,
          -3664.296296296296,
          -317.37037037037044,
          -3632.703703703704,
          2821.2777777777783,
          2924.5185185185187,
          1820.5,
          814.5555555555557,
          -3554.4814814814813,
          -587.0555555555554,
          -1210.62962962963,
          -3891.5370370370374,
          1599.2037037037037,
          -328.7037037037039,
          186.40740740740748,
          1722.87037037037,
          -2444.074074074074,
          -3961.6296296296296,
          -4112.611111111111,
          -2675.203703703704,
          -849.8888888888889,
          -42.2777777777776,
          456.6296296296296,
          225.8395061728395,
          -2504.0740740740744,
          -1992.9333333333332,
          -2970.5185185185182,
          2545.5185185185187,
          1113.3333333333333,
          -814.6666666666666,
          1423.0648148148146,
          -4231.222222222223,
          -2662.0370370370374,
          4010.648148148148,
          14603.962962962962,
          -2249.925925925926,
          -730.9629629629629,
          387.9753086419753,
          -73.28104575163397,
          1832.5000000000002,
          -57.296296296296305,
          1033.543209876543,
          -1909.1851851851852,
          -5071.728395061728,
          2179.685185185185,
          569.8888888888889,
          -2013.3209876543212,
          1264.2685185185185,
          -438.66666666666697,
          -1914.3333333333333,
          -6645.9629629629635,
          -7918.111111111111,
          -995.246913580247,
          327.1728395061727,
          -2357.074074074074,
          8169.518518518518,
          -513.4074074074074,
          -33.75308641975312,
          -730.9629629629629,
          -861.8888888888889,
          2309.585648148148,
          -582.4814814814818,
          -1274.1481481481483,
          -683.099128540305,
          -703.2962962962963,
          -1202.888888888889,
          -2590.6296296296296,
          -840.0370370370371,
          284,
          -1914.716049382716,
          2499.777777777778,
          -1211.1481481481483,
          -1087.7222222222222,
          -4833.037037037037,
          400.1124727668844,
          -2031.79012345679,
          -955.5555555555557,
          4020.4444444444443,
          -806.7037037037039,
          -2060.4444444444443,
          810.0617283950618,
          -522.9629629629629,
          -678.2037037037037,
          -1844.3703703703707,
          8269.87037037037,
          -826.8888888888889,
          -908.1975308641977,
          -283.2962962962963,
          -167.37037037037044,
          886.9259259259259,
          445.3148148148148,
          1479.382716049383,
          -532.0185185185185,
          4755.962962962963,
          -2517.12962962963,
          -841.1481481481482,
          -397.38271604938274,
          -875.9722222222222,
          45.03703703703707,
          -1796.1851851851852,
          -1593.1851851851852,
          -2649.925925925926,
          914.8148148148148,
          -1628.962962962963,
          -2158.074074074074,
          -356.9259259259259,
          -910.5370370370372,
          396.7962962962961,
          7965.62962962963,
          -1548.2592592592591,
          -356.9259259259259,
          1719.81045751634,
          -677.7657952069717,
          2676.740740740741,
          -754.8796296296297,
          -659.2592592592591,
          -104.31481481481501,
          463.70370370370364,
          4125.876543209876,
          366.2098765432097,
          4727.62962962963,
          -2031.0185185185187,
          -2088.462962962963,
          -282.7777777777778,
          145.86419753086412,
          -1988.1851851851852,
          -2472.8796296296296,
          -3359.555555555556,
          -4599.802469135803,
          -2484.7777777777774,
          -468.0185185185187,
          11780.37037037037,
          -1185.1666666666667,
          -421.8888888888889,
          6490.555555555555,
          -1195.8148148148148,
          -1149.611111111111,
          -386.4814814814813,
          1695.777777777778,
          -4555.703703703704,
          1074.3148148148143,
          -1411.6666666666667,
          14218.777777777777,
          -3628.259259259259,
          2075.6296296296296,
          1760.046296296296,
          -2312.8518518518517,
          -39.851851851851734,
          -3083.6172839506175,
          -1090.3703703703704,
          -2408.5925925925926,
          57.283950617283914,
          -2594.617283950617,
          -4726.166666666667,
          -1341.4814814814815,
          536.2098765432098,
          -2854.740740740741,
          2393.0740740740735,
          1314.25,
          -2713.111111111111,
          -2284.320987654321,
          398.2296296296296,
          -730.9629629629629,
          -581.9629629629629,
          -908.6296296296296,
          679.5185185185185,
          2078.543209876543,
          3043.6419753086425,
          692.8333333333331,
          974.8888888888887,
          2889.3333333333335,
          -2931.1111111111113,
          427.55555555555566,
          408.5925925925926,
          1049.4074074074072,
          -1766.2222222222222,
          -833.8888888888887,
          -552.2222222222222,
          1843.7037037037037,
          -2989.5925925925926,
          -4686.547839506173,
          148.35185185185185,
          680.2222222222222,
          10400.37037037037,
          -3282.9814814814818,
          -756.462962962963,
          -48.981481481481524,
          -601.1111111111113,
          2911.777777777778,
          -441.0347222222223,
          2200.0555555555557,
          -2165.740740740741,
          100.4814814814813,
          -815.7962962962964,
          5970.4629629629635,
          -1020.7962962962963,
          -697.1666666666667,
          404.4259259259258,
          46.740740740740875,
          2239.759259259259,
          -1246.4907407407409,
          -870.6666666666667,
          -2798.703703703704,
          -3045.462962962963,
          -3185.240740740741,
          -1568.2222222222222,
          -1209.814814814815,
          -485.28395061728406,
          -2036.308641975309,
          1131.0555555555557,
          -618.4166666666669,
          1312.1358024691358,
          870.6481481481483,
          -2205.777777777778,
          -2411.1296296296296,
          -786.8703703703703,
          -1154.4,
          4082.4814814814813,
          3928.1851851851843,
          2060.234567901234,
          -1312.5185185185187,
          1106.3703703703704,
          -2444.5925925925926,
          -850.1481481481482,
          -1694.6463326071168,
          -816.0185185185185,
          -846.320987654321,
          -859.8641975308642,
          -1096.9074074074074,
          -834.1111111111111,
          -2139.8888888888887,
          11448.427469135802,
          -356.9259259259259,
          435.24074074074076,
          -1036.111111111111,
          -835.7916666666667,
          -680.5185185185187,
          -143.55555555555554,
          -435.462962962963,
          -544.641975308642,
          937.8148148148148,
          -2165.074074074074,
          -20.27777777777778,
          -1017.2962962962962,
          -904.5462962962963,
          -1899.140159767611,
          67.33333333333337,
          6300.314814814815,
          265.29629629629636,
          1528.8148148148148,
          413.4814814814815,
          -840,
          393.85185185185196,
          -1809.4444444444443,
          849.6203703703703,
          -1089.7962962962963,
          1483.1111111111113,
          -784.425925925926,
          -1972.7592592592591,
          3094.509259259259,
          -1884.1666666666665,
          -1558,
          -1218.0246913580247,
          158.33333333333337,
          7549.827160493827,
          4950.086419753086,
          -1241.4444444444446,
          -1112.2,
          -865.1851851851852,
          -722.2222222222222,
          -1232.6296296296296,
          -1193.210239651416,
          -1838.7037037037037,
          -778.7962962962963,
          -2134.679012345679,
          -1122.7654320987654,
          -835.0864197530864,
          -1246.4444444444443,
          25.35185185185196,
          -3893.425925925926,
          -2433.4166666666665,
          -2257.259259259259,
          -703.2962962962963,
          2746.1234567901233,
          1836.574074074074,
          -1251.2222222222222,
          5497.018518518518,
          6652.555555555556,
          494.55555555555566,
          -1641.7916666666667,
          -1358.506172839506,
          2318.8333333333335,
          -699.2352941176471,
          -1321.9722222222222,
          -70.59259259259261,
          -1245.2222222222222,
          1962.037037037037,
          -1317.6296296296296,
          -202.53703703703695,
          2338.8888888888887,
          -1364.3888888888891,
          -1417.5185185185187,
          -3027.777777777778,
          7806.0370370370365,
          -1972.9444444444446,
          -379.4444444444446,
          -913.6666666666666,
          1753.283950617284,
          -310.2962962962963,
          -1871.0740740740741,
          -1310.0555555555557,
          1734.8888888888887,
          -570.8240740740741,
          1726.2962962962965,
          -1096.6111111111113,
          814,
          -1858.3333333333333,
          4759.740740740741,
          -424.1111111111113,
          5327.333333333333,
          -2144.064814814815,
          -3511.740740740741,
          -364.70370370370347,
          -1688.4444444444443,
          -1419.4074074074074,
          -646.2287581699346,
          60.074074074074076,
          -3484.6296296296296,
          8035.37037037037,
          -388.1296296296296,
          92.05555555555554,
          -194.97530864197537,
          -625.2962962962963,
          -965.148148148148,
          -310.2962962962963,
          -1886.037037037037,
          -140.7037037037037,
          -1259.7962962962965,
          452.77777777777766,
          -1196.7330246913582,
          3795.8888888888887,
          -496.0740740740742,
          -1654.037037037037,
          -2718.8888888888887,
          238.2962962962963,
          -42.79629629629636,
          676.4907407407405,
          533.2777777777774,
          -6084.9629629629635,
          -3500.4814814814813,
          -113.09259259259267,
          -1887.8765432098764,
          -3171.2592592592596,
          -1820.4567901234568,
          -552.4444444444445,
          4096.222222222222,
          1329.7777777777776,
          9288.222222222223,
          -3101.2098765432092,
          -3508.5925925925926,
          854.5740740740744,
          4508.055555555556,
          -1341.1851851851852,
          1447.3456790123455,
          -690.3703703703704,
          -945.1481481481482,
          -441.2592592592591,
          -703.2962962962963,
          -3828.666666666667,
          -5127.2962962962965,
          -1499.5925925925926,
          -2430.7160493827164,
          -1336.0123456790122,
          -1677.3703703703704,
          -2961.555555555555,
          -1161.3703703703704,
          -1777.6296296296296,
          1556.308641975309,
          -6108.037037037037,
          9394.111111111111,
          4870.16049382716,
          -1534.1550925925926,
          5156.62962962963,
          3107.0185185185187,
          1198.2083333333333,
          -617.2345679012346,
          -1140.9814814814815,
          5417.37037037037,
          -749.3703703703703,
          -736.5061728395061,
          -1075.7777777777778,
          -2156.2222222222226,
          -3165.7962962962965,
          -2048.1481481481483,
          -813.9135802469136,
          -1367.5555555555557,
          -1730.0493827160492,
          -596.7777777777777,
          2464.990740740741,
          422.74074074074065,
          2753.074074074074,
          1320.611111111111,
          1791.1358024691356,
          -2553.9814814814818,
          -439.1481481481481,
          -3198.679012345679,
          12533.074074074073,
          3160.744598765432,
          3452.9135802469136,
          -1372.9382716049383,
          6125.37037037037,
          -39.18518518518522,
          -47.30902777777783,
          -1823.8935185185185,
          -1020.3888888888889,
          1525.6851851851852,
          -2472,
          -335.4074074074074,
          -1553.7407407407409,
          -1383.9135802469136,
          -1421.3355119825708,
          -3641.148148148148,
          -1668,
          -2511.6481481481483,
          218.8148148148149,
          4485.814814814815,
          2603.0370370370365,
          -2430.574074074074,
          -569.9074074074074,
          1273.8641975308644,
          7973.333333333333,
          882.7037037037038,
          1992.1234567901236,
          -730.9629629629629,
          5285.814814814815,
          -2669.1111111111113,
          -844.0347222222223,
          -823.7222222222222,
          -452.2962962962962,
          305.9074074074075,
          -991.5925925925926,
          -3394.62962962963,
          -1706.1851851851852,
          -2080.0925925925926,
          -2380.8518518518517,
          -2504.4814814814813,
          -2280.296296296296,
          -5039.814814814816,
          -5226.148148148149,
          1788.7685185185182,
          146.9814814814814,
          2468.3287037037035,
          131.87037037037032,
          -355.59259259259267,
          594.074074074074,
          1704.7962962962963,
          4970.851851851852,
          6343.962962962963,
          13660.777777777777,
          -1448.0185185185185,
          2945.9506172839506,
          2005.5185185185187,
          7100.0370370370365,
          -1864.9444444444443,
          5796.777777777777,
          -1673.8703703703704,
          -418.01234567901224,
          1077.4074074074074,
          -1492.8174291939,
          -2839.876543209877,
          -3297.3950617283954,
          -1120.1358024691356,
          -1003.7222222222223,
          69.35802469135804,
          -1157.506172839506,
          -1356.3703703703704,
          52.72222222222222,
          -871.8518518518518,
          -1109.6917211328976,
          -840.0370370370371,
          -666.9629629629629,
          6962.7037037037035,
          -274.9259259259259,
          -3636.5370370370374,
          -1385.7916666666667,
          3973.0555555555557,
          -1442.9629629629626,
          3513.5185185185187,
          -310.2962962962963,
          -1572.2777777777778,
          4130.3703703703695,
          -1869.0617283950617,
          84.4444444444444,
          -1609.5432098765432,
          1669.0370370370372,
          2825.0555555555557,
          -3428,
          4532.944444444444,
          1439.1851851851852,
          -1679.7037037037037,
          -1911.1481481481483,
          4301.25,
          2261.8333333333335,
          1205.8148148148148,
          -145.48148148148152,
          -3969.0925925925926,
          1111.9074074074074,
          -1675.6296296296296,
          -891.5925925925926,
          -2442.9444444444443,
          -2815.2222222222226,
          9839.888888888889,
          228.7222222222224,
          597.685185185185,
          -1927.2222222222222,
          2916.148148148148,
          3117.240740740741,
          2748.037037037037,
          1767.5925925925922,
          1016.6296296296296,
          -3514.4444444444443,
          -1055,
          189.81481481481478,
          352.5432098765432,
          4695.055555555555,
          519.1067538126363,
          -3586.4814814814813,
          -1337.814814814815,
          -521.2222222222224,
          -1306.2592592592591,
          -1109.7222222222222,
          -1493.7222222222222,
          -4427.888888888889,
          -1113.0660856935367,
          -1647.9135802469136,
          -2653.1234567901233,
          -7285.62962962963,
          -2.6666666666666288,
          15911.185185185184,
          -57.296296296296305,
          13202.962962962964,
          -1043.0555555555557,
          5300.185185185185,
          1075.0246913580245,
          632.4074074074074,
          -2075.259259259259,
          -420.6172839506173,
          1663.3703703703704,
          232.72839506172838,
          -1138.3703703703704,
          3419.603009259259,
          -20.27777777777778,
          -1358.6481481481483,
          589.9564270152506,
          -1906.037037037037,
          3697.208333333333,
          2233.208333333333,
          -363.46296296296305,
          -908.486111111111,
          -1032.3333333333333,
          -2568.9814814814818,
          -3961.061728395062,
          2074.1111111111113,
          4325.138888888889,
          5803.456790123456,
          -3768.777777777778,
          7.888888888888914,
          -3451.740740740741,
          -2828.777777777778,
          4443.814814814815,
          -2516.172839506173,
          -880.8981481481483,
          99.19753086419728,
          -1603.1851851851852,
          14060.962962962964,
          -1031.1296296296298,
          2064.0370370370365,
          659.5432098765431,
          -3140.4814814814813,
          -1282.4506172839508,
          1385.3209876543212,
          604.0925925925926,
          961.6296296296296,
          -6.277777777777779,
          -473.5347222222223,
          -2814.0864197530864,
          -1309.9259259259259,
          4970.074074074074,
          -243.40740740740745,
          325.40740740740745,
          2623.6296296296296,
          -731.7962962962963,
          -3459.703703703704,
          4061.537037037037,
          -355.2962962962963,
          3181.0493827160494,
          3989.41975308642,
          -1652.6296296296296,
          -221.76543209876544,
          -666.9629629629629,
          117.92592592592581,
          813.0555555555554,
          -1305.4814814814815,
          395.90740740740745,
          -2815.666666666667,
          -485.7530864197531,
          -503.425925925926,
          599.4074074074073,
          -840,
          -358.2098765432099,
          -2044.0740740740741,
          -1973.074074074074,
          -2570.1481481481483,
          -861.8888888888889,
          -1459.148148148148,
          -519.4629629629628,
          2074.9876543209875,
          -2458.5061728395062,
          -362.2962962962967,
          -747.8641975308642,
          -119.34567901234568,
          -1486.4814814814815,
          4900.777777777777,
          -2096.685185185185,
          2113.0185185185182,
          3004.296296296296,
          -11.170370370370597,
          860.4074074074075,
          3170.2037037037035,
          -2366.8271604938273,
          -27.992283950617168,
          -2680.6296296296296,
          -1592.4629629629628,
          -2987.2962962962965,
          -3193,
          -2588.611111111111,
          -3590.462962962963
         ],
         "yaxis": "y"
        },
        {
         "customdata": [
          [
           "BOS",
           5255.666666666667
          ],
          [
           "BOS",
           3611
          ],
          [
           "BOS",
           26397
          ],
          [
           "BOS",
           0
          ],
          [
           "BOS",
           386
          ],
          [
           "BOS",
           269.5
          ],
          [
           "BOS",
           2165
          ],
          [
           "BOS",
           6416.75
          ],
          [
           "BOS",
           3888
          ],
          [
           "BOS",
           5410.5
          ],
          [
           "BOS",
           2118
          ],
          [
           "BOS",
           576
          ],
          [
           "BOS",
           7279
          ],
          [
           "BOS",
           2428.5
          ],
          [
           "BOS",
           969.6666666666666
          ],
          [
           "BOS",
           6993
          ],
          [
           "BOS",
           3180
          ],
          [
           "BOS",
           1913.25
          ],
          [
           "BOS",
           1915
          ],
          [
           "BOS",
           2784.25
          ],
          [
           "BOS",
           1534
          ],
          [
           "BOS",
           710
          ],
          [
           "BOS",
           791.3333333333334
          ],
          [
           "BOS",
           0
          ],
          [
           "BOS",
           19
          ]
         ],
         "hovertemplate": "<b>%{hovertext}</b><br><br>Season: %{x} <br>PTS diff to avg players: %{y:.2f}<br>PTS: %{customdata[1]:.2f} <br><extra></extra>",
         "hovertext": [
          "BOS",
          "BOS",
          "BOS",
          "BOS",
          "BOS",
          "BOS",
          "BOS",
          "BOS",
          "BOS",
          "BOS",
          "BOS",
          "BOS",
          "BOS",
          "BOS",
          "BOS",
          "BOS",
          "BOS",
          "BOS",
          "BOS",
          "BOS",
          "BOS",
          "BOS",
          "BOS",
          "BOS",
          "BOS"
         ],
         "legendgroup": "",
         "marker": {
          "color": "red",
          "size": 12,
          "symbol": "circle"
         },
         "mode": "markers",
         "name": "",
         "orientation": "v",
         "showlegend": false,
         "type": "scatter",
         "x": [
          1996,
          1997,
          1998,
          1999,
          2000,
          2001,
          2003,
          2004,
          2005,
          2006,
          2007,
          2008,
          2010,
          2011,
          2012,
          2013,
          2014,
          2015,
          2016,
          2017,
          2018,
          2019,
          2020,
          2021,
          2022
         ],
         "xaxis": "x",
         "y": [
          1902.1234567901236,
          1378.2345679012349,
          19410,
          -861.8888888888889,
          -3247.4814814814813,
          -3245.240740740741,
          -1065.0740740740741,
          3126.425925925926,
          2246.1234567901233,
          3309.8888888888887,
          400.53703703703707,
          -1253.6666666666665,
          3176.5555555555557,
          442.66666666666674,
          -1223.1604938271605,
          1267.7037037037035,
          -1278,
          -483.5555555555555,
          -1650.1925925925927,
          -465.9444444444445,
          -1575.7777777777778,
          -1410.3796296296296,
          -1901.2592592592594,
          -1932.2222222222222,
          -521.9629629629629
         ],
         "yaxis": "y"
        },
        {
         "customdata": [
          [
           "Antoine Walker",
           15647,
           42,
           6
          ],
          [
           "Dontae' Jones",
           44,
           "Not Ranked",
           21
          ],
          [
           "Steve Hamer",
           76,
           "Not Ranked",
           38
          ],
          [
           "Ron Mercer",
           5892,
           384,
           6
          ],
          [
           "Mark Blount",
           4941,
           178,
           55
          ],
          [
           "Ben Pepper",
           0,
           "Not Ranked",
           56
          ],
          [
           "Paul Pierce",
           26397,
           5,
           10
          ],
          [
           "Kris Clack",
           0,
           "Not Ranked",
           55
          ],
          [
           "Jérôme Moïso",
           386,
           874,
           11
          ],
          [
           "Kedrick Brown",
           509,
           867,
           11
          ],
          [
           "Joseph Forte",
           30,
           "Not Ranked",
           21
          ],
          [
           "Marcus Banks",
           2061,
           904,
           13
          ],
          [
           "Kendrick Perkins",
           4214,
           366,
           27
          ],
          [
           "Brandon Hunter",
           220,
           "Not Ranked",
           56
          ],
          [
           "Al Jefferson",
           14343,
           54,
           15
          ],
          [
           "Delonte West",
           4198,
           426,
           24
          ],
          [
           "Tony Allen",
           6654,
           196,
           25
          ],
          [
           "Justin Reed",
           472,
           734,
           40
          ],
          [
           "Gerald Green",
           6412,
           248,
           18
          ],
          [
           "Ryan Gomes",
           4926,
           173,
           50
          ],
          [
           "Orien Greene",
           326,
           513,
           53
          ],
          [
           "Rajon Rondo",
           9337,
           117,
           21
          ],
          [
           "Leon Powe",
           1484,
           408,
           49
          ],
          [
           "Gabe Pruitt",
           125,
           "Not Ranked",
           32
          ],
          [
           "Glen Davis",
           4111,
           279,
           35
          ],
          [
           "J.R. Giddens",
           73,
           "Not Ranked",
           30
          ],
          [
           "Henry Walker",
           1079,
           515,
           47
          ],
          [
           "Avery Bradley",
           7279,
           233,
           19
          ],
          [
           "JaJuan Johnson",
           114,
           "Not Ranked",
           27
          ],
          [
           "E'Twaun Moore",
           4743,
           189,
           55
          ],
          [
           "Jared Sullinger",
           2893,
           552,
           21
          ],
          [
           "Fab Melo",
           7,
           "Not Ranked",
           22
          ],
          [
           "Kris Joseph",
           9,
           "Not Ranked",
           51
          ],
          [
           "Kelly Olynyk",
           6993,
           345,
           13
          ],
          [
           "Marcus Smart",
           6141,
           359,
           6
          ],
          [
           "James Young",
           219,
           907,
           17
          ],
          [
           "Terry Rozier",
           7368,
           199,
           16
          ],
          [
           "R.J. Hunter",
           133,
           "Not Ranked",
           28
          ],
          [
           "Jordan Mickey",
           152,
           "Not Ranked",
           33
          ],
          [
           "Marcus Thornton",
           0,
           "Not Ranked",
           45
          ],
          [
           "Jaylen Brown",
           8428,
           749,
           3
          ],
          [
           "Guerschon Yabusele",
           173,
           "Not Ranked",
           16
          ],
          [
           "Rade Zagorac",
           0,
           "Not Ranked",
           35
          ],
          [
           "Demetrius Jackson",
           48,
           "Not Ranked",
           45
          ],
          [
           "Abdel Nader",
           926,
           398,
           58
          ],
          [
           "Jayson Tatum",
           9865,
           535,
           3
          ],
          [
           "Semi Ojeleye",
           975,
           543,
           37
          ],
          [
           "Kadeem Allen",
           258,
           "Not Ranked",
           53
          ],
          [
           "Jabari Bird",
           39,
           "Not Ranked",
           56
          ],
          [
           "Robert Williams",
           1534,
           720,
           27
          ],
          [
           "Romeo Langford",
           650,
           869,
           14
          ],
          [
           "Grant Williams",
           1774,
           586,
           22
          ],
          [
           "Carsen Edwards",
           267,
           "Not Ranked",
           33
          ],
          [
           "Tremont Waters",
           149,
           "Not Ranked",
           51
          ],
          [
           "Aaron Nesmith",
           1152,
           825,
           14
          ],
          [
           "Payton Pritchard",
           1222,
           737,
           26
          ],
          [
           "Yam Madar",
           0,
           "Not Ranked",
           47
          ],
          [
           "Juhann Begarin",
           0,
           "Not Ranked",
           45
          ],
          [
           "JD Davison",
           19,
           "Not Ranked",
           53
          ]
         ],
         "hovertemplate": "<b>%{hovertext}</b><br><br>Pick: %{customdata[3]} (%{x}) <br>PTS Rank: %{customdata[2]} <br>PTS diff. to avg player at pick %{customdata[3]}: %{y:.2f}<br>Career PTS: %{customdata[1]:.2f}<br><extra></extra>",
         "hovertext": [
          "Antoine Walker",
          "Dontae' Jones",
          "Steve Hamer",
          "Ron Mercer",
          "Mark Blount",
          "Ben Pepper",
          "Paul Pierce",
          "Kris Clack",
          "Jérôme Moïso",
          "Kedrick Brown",
          "Joseph Forte",
          "Marcus Banks",
          "Kendrick Perkins",
          "Brandon Hunter",
          "Al Jefferson",
          "Delonte West",
          "Tony Allen",
          "Justin Reed",
          "Gerald Green",
          "Ryan Gomes",
          "Orien Greene",
          "Rajon Rondo",
          "Leon Powe",
          "Gabe Pruitt",
          "Glen Davis",
          "J.R. Giddens",
          "Henry Walker",
          "Avery Bradley",
          "JaJuan Johnson",
          "E'Twaun Moore",
          "Jared Sullinger",
          "Fab Melo",
          "Kris Joseph",
          "Kelly Olynyk",
          "Marcus Smart",
          "James Young",
          "Terry Rozier",
          "R.J. Hunter",
          "Jordan Mickey",
          "Marcus Thornton",
          "Jaylen Brown",
          "Guerschon Yabusele",
          "Rade Zagorac",
          "Demetrius Jackson",
          "Abdel Nader",
          "Jayson Tatum",
          "Semi Ojeleye",
          "Kadeem Allen",
          "Jabari Bird",
          "Robert Williams",
          "Romeo Langford",
          "Grant Williams",
          "Carsen Edwards",
          "Tremont Waters",
          "Aaron Nesmith",
          "Payton Pritchard",
          "Yam Madar",
          "Juhann Begarin",
          "JD Davison"
         ],
         "legendgroup": "",
         "marker": {
          "color": "#636EFA",
          "opacity": 0.7,
          "size": 12,
          "symbol": "circle"
         },
         "mode": "markers",
         "name": "",
         "orientation": "v",
         "showlegend": false,
         "type": "scatter",
         "x": [
          1996,
          1996,
          1996,
          1997,
          1997,
          1997,
          1998,
          1999,
          2000,
          2001,
          2001,
          2003,
          2003,
          2003,
          2004,
          2004,
          2004,
          2004,
          2005,
          2005,
          2005,
          2006,
          2006,
          2007,
          2007,
          2008,
          2008,
          2010,
          2011,
          2011,
          2012,
          2012,
          2012,
          2013,
          2014,
          2014,
          2015,
          2015,
          2015,
          2015,
          2016,
          2016,
          2016,
          2016,
          2016,
          2017,
          2017,
          2017,
          2017,
          2018,
          2019,
          2019,
          2019,
          2019,
          2020,
          2020,
          2020,
          2021,
          2022
         ],
         "xaxis": "x",
         "y": [
          10665.74074074074,
          -3352,
          -1607.3703703703704,
          910.7407407407409,
          4079.1111111111113,
          -855.1481481481482,
          19410,
          -861.8888888888889,
          -3247.4814814814813,
          -3124.4814814814813,
          -3366,
          -3664.2962962962965,
          1104.2222222222222,
          -635.1481481481482,
          9940.037037037036,
          447.37037037037044,
          3817.3703703703704,
          -1699.074074074074,
          2694.296296296296,
          4259.037037037037,
          -214.96296296296293,
          5941,
          678.7777777777778,
          -1372.4814814814815,
          2173.5555555555557,
          -2265.8518518518517,
          -241.48148148148152,
          3176.5555555555557,
          -2995.777777777778,
          3881.1111111111113,
          -503,
          -2472.185185185185,
          -694.2962962962963,
          1267.7037037037035,
          1159.7407407407409,
          -3715.740740740741,
          3781.5185185185187,
          -2443.5925925925926,
          -1339.9259259259259,
          -1932.2222222222222,
          -1801.1111111111113,
          -3413.4814814814813,
          -1937.4444444444443,
          -1884.2222222222222,
          785.2962962962963,
          -364.1111111111113,
          -400.55555555555566,
          -282.96296296296293,
          -816.1481481481482,
          -1575.7777777777778,
          -3157.1111111111113,
          -705.1851851851852,
          -1224.9259259259259,
          -554.2962962962963,
          -2655.1111111111113,
          -1728.1851851851852,
          -1320.4814814814815,
          -1932.2222222222222,
          -521.9629629629629
         ],
         "yaxis": "y"
        }
       ],
       "layout": {
        "legend": {
         "tracegroupgap": 0
        },
        "margin": {
         "t": 60
        },
        "template": {
         "data": {
          "bar": [
           {
            "error_x": {
             "color": "#2a3f5f"
            },
            "error_y": {
             "color": "#2a3f5f"
            },
            "marker": {
             "line": {
              "color": "#E5ECF6",
              "width": 0.5
             },
             "pattern": {
              "fillmode": "overlay",
              "size": 10,
              "solidity": 0.2
             }
            },
            "type": "bar"
           }
          ],
          "barpolar": [
           {
            "marker": {
             "line": {
              "color": "#E5ECF6",
              "width": 0.5
             },
             "pattern": {
              "fillmode": "overlay",
              "size": 10,
              "solidity": 0.2
             }
            },
            "type": "barpolar"
           }
          ],
          "carpet": [
           {
            "aaxis": {
             "endlinecolor": "#2a3f5f",
             "gridcolor": "white",
             "linecolor": "white",
             "minorgridcolor": "white",
             "startlinecolor": "#2a3f5f"
            },
            "baxis": {
             "endlinecolor": "#2a3f5f",
             "gridcolor": "white",
             "linecolor": "white",
             "minorgridcolor": "white",
             "startlinecolor": "#2a3f5f"
            },
            "type": "carpet"
           }
          ],
          "choropleth": [
           {
            "colorbar": {
             "outlinewidth": 0,
             "ticks": ""
            },
            "type": "choropleth"
           }
          ],
          "contour": [
           {
            "colorbar": {
             "outlinewidth": 0,
             "ticks": ""
            },
            "colorscale": [
             [
              0,
              "#0d0887"
             ],
             [
              0.1111111111111111,
              "#46039f"
             ],
             [
              0.2222222222222222,
              "#7201a8"
             ],
             [
              0.3333333333333333,
              "#9c179e"
             ],
             [
              0.4444444444444444,
              "#bd3786"
             ],
             [
              0.5555555555555556,
              "#d8576b"
             ],
             [
              0.6666666666666666,
              "#ed7953"
             ],
             [
              0.7777777777777778,
              "#fb9f3a"
             ],
             [
              0.8888888888888888,
              "#fdca26"
             ],
             [
              1,
              "#f0f921"
             ]
            ],
            "type": "contour"
           }
          ],
          "contourcarpet": [
           {
            "colorbar": {
             "outlinewidth": 0,
             "ticks": ""
            },
            "type": "contourcarpet"
           }
          ],
          "heatmap": [
           {
            "colorbar": {
             "outlinewidth": 0,
             "ticks": ""
            },
            "colorscale": [
             [
              0,
              "#0d0887"
             ],
             [
              0.1111111111111111,
              "#46039f"
             ],
             [
              0.2222222222222222,
              "#7201a8"
             ],
             [
              0.3333333333333333,
              "#9c179e"
             ],
             [
              0.4444444444444444,
              "#bd3786"
             ],
             [
              0.5555555555555556,
              "#d8576b"
             ],
             [
              0.6666666666666666,
              "#ed7953"
             ],
             [
              0.7777777777777778,
              "#fb9f3a"
             ],
             [
              0.8888888888888888,
              "#fdca26"
             ],
             [
              1,
              "#f0f921"
             ]
            ],
            "type": "heatmap"
           }
          ],
          "heatmapgl": [
           {
            "colorbar": {
             "outlinewidth": 0,
             "ticks": ""
            },
            "colorscale": [
             [
              0,
              "#0d0887"
             ],
             [
              0.1111111111111111,
              "#46039f"
             ],
             [
              0.2222222222222222,
              "#7201a8"
             ],
             [
              0.3333333333333333,
              "#9c179e"
             ],
             [
              0.4444444444444444,
              "#bd3786"
             ],
             [
              0.5555555555555556,
              "#d8576b"
             ],
             [
              0.6666666666666666,
              "#ed7953"
             ],
             [
              0.7777777777777778,
              "#fb9f3a"
             ],
             [
              0.8888888888888888,
              "#fdca26"
             ],
             [
              1,
              "#f0f921"
             ]
            ],
            "type": "heatmapgl"
           }
          ],
          "histogram": [
           {
            "marker": {
             "pattern": {
              "fillmode": "overlay",
              "size": 10,
              "solidity": 0.2
             }
            },
            "type": "histogram"
           }
          ],
          "histogram2d": [
           {
            "colorbar": {
             "outlinewidth": 0,
             "ticks": ""
            },
            "colorscale": [
             [
              0,
              "#0d0887"
             ],
             [
              0.1111111111111111,
              "#46039f"
             ],
             [
              0.2222222222222222,
              "#7201a8"
             ],
             [
              0.3333333333333333,
              "#9c179e"
             ],
             [
              0.4444444444444444,
              "#bd3786"
             ],
             [
              0.5555555555555556,
              "#d8576b"
             ],
             [
              0.6666666666666666,
              "#ed7953"
             ],
             [
              0.7777777777777778,
              "#fb9f3a"
             ],
             [
              0.8888888888888888,
              "#fdca26"
             ],
             [
              1,
              "#f0f921"
             ]
            ],
            "type": "histogram2d"
           }
          ],
          "histogram2dcontour": [
           {
            "colorbar": {
             "outlinewidth": 0,
             "ticks": ""
            },
            "colorscale": [
             [
              0,
              "#0d0887"
             ],
             [
              0.1111111111111111,
              "#46039f"
             ],
             [
              0.2222222222222222,
              "#7201a8"
             ],
             [
              0.3333333333333333,
              "#9c179e"
             ],
             [
              0.4444444444444444,
              "#bd3786"
             ],
             [
              0.5555555555555556,
              "#d8576b"
             ],
             [
              0.6666666666666666,
              "#ed7953"
             ],
             [
              0.7777777777777778,
              "#fb9f3a"
             ],
             [
              0.8888888888888888,
              "#fdca26"
             ],
             [
              1,
              "#f0f921"
             ]
            ],
            "type": "histogram2dcontour"
           }
          ],
          "mesh3d": [
           {
            "colorbar": {
             "outlinewidth": 0,
             "ticks": ""
            },
            "type": "mesh3d"
           }
          ],
          "parcoords": [
           {
            "line": {
             "colorbar": {
              "outlinewidth": 0,
              "ticks": ""
             }
            },
            "type": "parcoords"
           }
          ],
          "pie": [
           {
            "automargin": true,
            "type": "pie"
           }
          ],
          "scatter": [
           {
            "fillpattern": {
             "fillmode": "overlay",
             "size": 10,
             "solidity": 0.2
            },
            "type": "scatter"
           }
          ],
          "scatter3d": [
           {
            "line": {
             "colorbar": {
              "outlinewidth": 0,
              "ticks": ""
             }
            },
            "marker": {
             "colorbar": {
              "outlinewidth": 0,
              "ticks": ""
             }
            },
            "type": "scatter3d"
           }
          ],
          "scattercarpet": [
           {
            "marker": {
             "colorbar": {
              "outlinewidth": 0,
              "ticks": ""
             }
            },
            "type": "scattercarpet"
           }
          ],
          "scattergeo": [
           {
            "marker": {
             "colorbar": {
              "outlinewidth": 0,
              "ticks": ""
             }
            },
            "type": "scattergeo"
           }
          ],
          "scattergl": [
           {
            "marker": {
             "colorbar": {
              "outlinewidth": 0,
              "ticks": ""
             }
            },
            "type": "scattergl"
           }
          ],
          "scattermapbox": [
           {
            "marker": {
             "colorbar": {
              "outlinewidth": 0,
              "ticks": ""
             }
            },
            "type": "scattermapbox"
           }
          ],
          "scatterpolar": [
           {
            "marker": {
             "colorbar": {
              "outlinewidth": 0,
              "ticks": ""
             }
            },
            "type": "scatterpolar"
           }
          ],
          "scatterpolargl": [
           {
            "marker": {
             "colorbar": {
              "outlinewidth": 0,
              "ticks": ""
             }
            },
            "type": "scatterpolargl"
           }
          ],
          "scatterternary": [
           {
            "marker": {
             "colorbar": {
              "outlinewidth": 0,
              "ticks": ""
             }
            },
            "type": "scatterternary"
           }
          ],
          "surface": [
           {
            "colorbar": {
             "outlinewidth": 0,
             "ticks": ""
            },
            "colorscale": [
             [
              0,
              "#0d0887"
             ],
             [
              0.1111111111111111,
              "#46039f"
             ],
             [
              0.2222222222222222,
              "#7201a8"
             ],
             [
              0.3333333333333333,
              "#9c179e"
             ],
             [
              0.4444444444444444,
              "#bd3786"
             ],
             [
              0.5555555555555556,
              "#d8576b"
             ],
             [
              0.6666666666666666,
              "#ed7953"
             ],
             [
              0.7777777777777778,
              "#fb9f3a"
             ],
             [
              0.8888888888888888,
              "#fdca26"
             ],
             [
              1,
              "#f0f921"
             ]
            ],
            "type": "surface"
           }
          ],
          "table": [
           {
            "cells": {
             "fill": {
              "color": "#EBF0F8"
             },
             "line": {
              "color": "white"
             }
            },
            "header": {
             "fill": {
              "color": "#C8D4E3"
             },
             "line": {
              "color": "white"
             }
            },
            "type": "table"
           }
          ]
         },
         "layout": {
          "annotationdefaults": {
           "arrowcolor": "#2a3f5f",
           "arrowhead": 0,
           "arrowwidth": 1
          },
          "autotypenumbers": "strict",
          "coloraxis": {
           "colorbar": {
            "outlinewidth": 0,
            "ticks": ""
           }
          },
          "colorscale": {
           "diverging": [
            [
             0,
             "#8e0152"
            ],
            [
             0.1,
             "#c51b7d"
            ],
            [
             0.2,
             "#de77ae"
            ],
            [
             0.3,
             "#f1b6da"
            ],
            [
             0.4,
             "#fde0ef"
            ],
            [
             0.5,
             "#f7f7f7"
            ],
            [
             0.6,
             "#e6f5d0"
            ],
            [
             0.7,
             "#b8e186"
            ],
            [
             0.8,
             "#7fbc41"
            ],
            [
             0.9,
             "#4d9221"
            ],
            [
             1,
             "#276419"
            ]
           ],
           "sequential": [
            [
             0,
             "#0d0887"
            ],
            [
             0.1111111111111111,
             "#46039f"
            ],
            [
             0.2222222222222222,
             "#7201a8"
            ],
            [
             0.3333333333333333,
             "#9c179e"
            ],
            [
             0.4444444444444444,
             "#bd3786"
            ],
            [
             0.5555555555555556,
             "#d8576b"
            ],
            [
             0.6666666666666666,
             "#ed7953"
            ],
            [
             0.7777777777777778,
             "#fb9f3a"
            ],
            [
             0.8888888888888888,
             "#fdca26"
            ],
            [
             1,
             "#f0f921"
            ]
           ],
           "sequentialminus": [
            [
             0,
             "#0d0887"
            ],
            [
             0.1111111111111111,
             "#46039f"
            ],
            [
             0.2222222222222222,
             "#7201a8"
            ],
            [
             0.3333333333333333,
             "#9c179e"
            ],
            [
             0.4444444444444444,
             "#bd3786"
            ],
            [
             0.5555555555555556,
             "#d8576b"
            ],
            [
             0.6666666666666666,
             "#ed7953"
            ],
            [
             0.7777777777777778,
             "#fb9f3a"
            ],
            [
             0.8888888888888888,
             "#fdca26"
            ],
            [
             1,
             "#f0f921"
            ]
           ]
          },
          "colorway": [
           "#636efa",
           "#EF553B",
           "#00cc96",
           "#ab63fa",
           "#FFA15A",
           "#19d3f3",
           "#FF6692",
           "#B6E880",
           "#FF97FF",
           "#FECB52"
          ],
          "font": {
           "color": "#2a3f5f"
          },
          "geo": {
           "bgcolor": "white",
           "lakecolor": "white",
           "landcolor": "#E5ECF6",
           "showlakes": true,
           "showland": true,
           "subunitcolor": "white"
          },
          "hoverlabel": {
           "align": "left"
          },
          "hovermode": "closest",
          "mapbox": {
           "style": "light"
          },
          "paper_bgcolor": "white",
          "plot_bgcolor": "#E5ECF6",
          "polar": {
           "angularaxis": {
            "gridcolor": "white",
            "linecolor": "white",
            "ticks": ""
           },
           "bgcolor": "#E5ECF6",
           "radialaxis": {
            "gridcolor": "white",
            "linecolor": "white",
            "ticks": ""
           }
          },
          "scene": {
           "xaxis": {
            "backgroundcolor": "#E5ECF6",
            "gridcolor": "white",
            "gridwidth": 2,
            "linecolor": "white",
            "showbackground": true,
            "ticks": "",
            "zerolinecolor": "white"
           },
           "yaxis": {
            "backgroundcolor": "#E5ECF6",
            "gridcolor": "white",
            "gridwidth": 2,
            "linecolor": "white",
            "showbackground": true,
            "ticks": "",
            "zerolinecolor": "white"
           },
           "zaxis": {
            "backgroundcolor": "#E5ECF6",
            "gridcolor": "white",
            "gridwidth": 2,
            "linecolor": "white",
            "showbackground": true,
            "ticks": "",
            "zerolinecolor": "white"
           }
          },
          "shapedefaults": {
           "line": {
            "color": "#2a3f5f"
           }
          },
          "ternary": {
           "aaxis": {
            "gridcolor": "white",
            "linecolor": "white",
            "ticks": ""
           },
           "baxis": {
            "gridcolor": "white",
            "linecolor": "white",
            "ticks": ""
           },
           "bgcolor": "#E5ECF6",
           "caxis": {
            "gridcolor": "white",
            "linecolor": "white",
            "ticks": ""
           }
          },
          "title": {
           "x": 0.05
          },
          "xaxis": {
           "automargin": true,
           "gridcolor": "white",
           "linecolor": "white",
           "ticks": "",
           "title": {
            "standoff": 15
           },
           "zerolinecolor": "white",
           "zerolinewidth": 2
          },
          "yaxis": {
           "automargin": true,
           "gridcolor": "white",
           "linecolor": "white",
           "ticks": "",
           "title": {
            "standoff": 15
           },
           "zerolinecolor": "white",
           "zerolinewidth": 2
          }
         }
        },
        "title": {
         "text": "PTS Difference vs Season for Teams"
        },
        "xaxis": {
         "anchor": "y",
         "domain": [
          0,
          1
         ],
         "title": {
          "text": "Season"
         }
        },
        "yaxis": {
         "anchor": "x",
         "domain": [
          0,
          1
         ],
         "title": {
          "text": "PTS Difference"
         }
        }
       }
      }
     },
     "metadata": {},
     "output_type": "display_data"
    }
   ],
   "source": [
    "hover_template_team_season = Template('<b>{{team_name}}</b><br><br>'\n",
    "                          'Season: {{season}} <br>' +\n",
    "                          '{{selected_stat}} diff to avg players: {{diff}}<br>' +\n",
    "                          '{{selected_stat}}: {{stat}} <br><extra></extra>')\n",
    "\n",
    "# change all relevant_stat ranks to 'Not Ranked' if the value is NaN in the df_career_na_filled dataframe\n",
    "for stat in relevant_stats:\n",
    "    df_career_na_filled.loc[df_career_na_filled[stat + '_rank'].isna(), stat + '_rank'] = 'Not Ranked'\n",
    "\n",
    "# create a scatter plot with the average of each team for each season. The seasons should be the x axis and the selected relevant stat differences should be the y axis\n",
    "def create_team_scatter(selected_stat, selected_team, show_players):\n",
    "    # add grey dots for all teams\n",
    "    fig = px.scatter(df_team_avg_by_season, x='Season', y=f'{selected_stat}_diff', hover_name='Tm',\n",
    "                        hover_data={'Tm': True, selected_stat: True, f'{selected_stat}_diff': True},\n",
    "                        color_discrete_sequence=['#7F7F7F'])\n",
    "    \n",
    "    # add a red dot for all stats of the selected team\n",
    "    fig.add_trace(px.scatter(df_team_avg_by_season[df_team_avg_by_season['Tm'] == selected_team], x='Season', y=f'{selected_stat}_diff', hover_name='Tm',\n",
    "                                hover_data={'Tm': True, selected_stat: True, f'{selected_stat}_diff': True},\n",
    "                                color_discrete_sequence=['red']).data[0])\n",
    "    \n",
    "    # styling the figure\n",
    "    fig.update_traces(hovertemplate=hover_template_team_season.render(team_name='%{hovertext}',\n",
    "        season='%{x}',\n",
    "        diff='%{y:.2f}',\n",
    "        stat='%{customdata[1]:.2f}',\n",
    "        selected_stat=selected_stat))\n",
    "    \n",
    "    if show_players:\n",
    "        # add a blue dot for each player of the selected team\n",
    "        fig.add_trace(px.scatter(df_career_na_filled[df_career_na_filled['Tm'] == selected_team], x='Season', y=f'{selected_stat}_diff', hover_name='Player',\n",
    "                                    hover_data={'Player': True, selected_stat: True, f'{selected_stat}_diff': True, f'{selected_stat}_rank': True, 'Pk': True},\n",
    "                                    color_discrete_sequence=['#636EFA']).data[0])\n",
    "        # make blue dots semi-transparent\n",
    "        fig.update_traces(marker=dict(size=12, opacity=0.7), showlegend=False, selector=dict(marker_color='#636EFA'))\n",
    "    \n",
    "    # add hover info for the blue dots\n",
    "    fig.update_traces(hovertemplate=hover_template_player.render(player_name='%{hovertext}',\n",
    "        pick='%{customdata[3]}',\n",
    "        season='%{x}',\n",
    "        selected_stat=selected_stat,\n",
    "        diff='%{y:.2f}',\n",
    "        rank='%{customdata[2]}',\n",
    "        raw_stat='%{customdata[1]:.2f}'),\n",
    "        selector=dict(marker_color='#636EFA'))\n",
    "\n",
    "    \n",
    "    fig.update_traces(marker=dict(size=12), showlegend=False)\n",
    "    fig.update_layout(title=f'{selected_stat} Difference vs Season for Teams',\n",
    "                      xaxis_title='Season', yaxis_title=f'{selected_stat} Difference')\n",
    "    fig.show()\n",
    "\n",
    "# create a dropdown widget with all relevant stats\n",
    "stat_dropdown_team_scatter = widgets.Dropdown(\n",
    "    options=relevant_stats,\n",
    "    description='Select Stat:',\n",
    "    disabled=False,\n",
    ")\n",
    "\n",
    "# create a dropdown widget with all teams\n",
    "team_dropdown_team_scatter = widgets.Dropdown(\n",
    "    options=df_team_avg_by_season['Tm'].unique().tolist(),\n",
    "    description='Select Team:',\n",
    "    disabled=False,\n",
    ")\n",
    "\n",
    "# create a checkbox widget to toggle between showing players or not\n",
    "player_checkbox_team_scatter = widgets.Checkbox(\n",
    "    value=True,\n",
    "    description='Show Players selected by Team',\n",
    "    disabled=False,\n",
    "    indent=False\n",
    ")\n",
    "\n",
    "# Define the output area to display the scatter plot\n",
    "output_team_scatter = widgets.Output()\n",
    "\n",
    "# Observe changes in the value of the dropdown and call the function\n",
    "def on_value_change_team_scatter(change):\n",
    "    clear_output()\n",
    "    output_team_scatter.clear_output()\n",
    "    selected_stat = stat_dropdown_team_scatter.value\n",
    "    selected_team = team_dropdown_team_scatter.value\n",
    "    show_players = player_checkbox_team_scatter.value\n",
    "\n",
    "    display(stat_dropdown_team_scatter)\n",
    "    display(team_dropdown_team_scatter)\n",
    "    display(player_checkbox_team_scatter)\n",
    "    with output_team_scatter:\n",
    "        create_team_scatter(selected_stat, selected_team, show_players)\n",
    "\n",
    "stat_dropdown_team_scatter.observe(on_value_change_team_scatter, names='value')\n",
    "team_dropdown_team_scatter.observe(on_value_change_team_scatter, names='value')\n",
    "player_checkbox_team_scatter.observe(on_value_change_team_scatter, names='value')\n",
    "\n",
    "# Display the dropdown and the output area\n",
    "display(stat_dropdown_team_scatter)\n",
    "display(team_dropdown_team_scatter)\n",
    "display(player_checkbox_team_scatter)\n",
    "display(output_team_scatter)"
   ]
  },
  {
   "cell_type": "markdown",
   "metadata": {},
   "source": [
    "# Team Analysis\n",
    "<a id='team_analysis'></a>"
   ]
  },
  {
   "cell_type": "markdown",
   "metadata": {},
   "source": [
    "In this section, each team's draft performance is aggregated over the entire selected time period. In the scatter plot below, the average differences for the selected statistic are plotted against the average draft position of each team.\n",
    "\n",
    "Be aware that the minimum games restriction does not apply to this section."
   ]
  },
  {
   "cell_type": "code",
   "execution_count": 17,
   "metadata": {},
   "outputs": [],
   "source": [
    "df_team_avg = clean_team_names(df_career_na_filled).groupby('Tm').mean(numeric_only=True)\n",
    "df_team_avg = df_team_avg.reset_index()"
   ]
  },
  {
   "cell_type": "code",
   "execution_count": 38,
   "metadata": {},
   "outputs": [
    {
     "data": {
      "application/vnd.jupyter.widget-view+json": {
       "model_id": "bfecb5de33af43c9af912555b3e67ab8",
       "version_major": 2,
       "version_minor": 0
      },
      "text/plain": [
       "Dropdown(description='Select Stat:', index=3, options=('PTS', 'TRB', 'AST', 'WS', 'WS/48', 'BPM', 'VORP', 'PIE…"
      ]
     },
     "metadata": {},
     "output_type": "display_data"
    },
    {
     "data": {
      "application/vnd.plotly.v1+json": {
       "config": {
        "plotlyServerURL": "https://plot.ly"
       },
       "data": [
        {
         "customdata": [
          [
           "CLE",
           18.814631578947367
          ],
          [
           "UTA",
           16.08641379310345
          ],
          [
           "DEN",
           14.443071428571429
          ],
          [
           "MIL",
           16.01134693877551
          ],
          [
           "TOR",
           22.41622641509434
          ],
          [
           "PHI",
           17.469114285714284
          ],
          [
           "LAL",
           14.677787234042553
          ],
          [
           "BOS",
           13.577661016949152
          ],
          [
           "SAS",
           16.96032
          ],
          [
           "IND",
           12.484367346938777
          ],
          [
           "DET",
           12.382745762711865
          ],
          [
           "POR",
           15.465064516129031
          ],
          [
           "MIA",
           15.039833333333332
          ],
          [
           "MEM",
           14.848366197183097
          ],
          [
           "CHI",
           20.2885
          ],
          [
           "HOU",
           12.644984126984127
          ],
          [
           "ATL",
           13.170262295081967
          ],
          [
           "NOP",
           18.591631578947368
          ],
          [
           "GSW",
           16.433
          ],
          [
           "OKC",
           14.401546666666666
          ],
          [
           "SAC",
           14.378905660377358
          ],
          [
           "NYK",
           13.29804255319149
          ],
          [
           "LAC",
           12.22344827586207
          ],
          [
           "DAL",
           13.16936
          ],
          [
           "CHO",
           12.53792156862745
          ],
          [
           "ORL",
           15.474678571428571
          ],
          [
           "BRK",
           13.45737142857143
          ],
          [
           "MIN",
           12.28221052631579
          ],
          [
           "WAS",
           11.662436363636363
          ],
          [
           "PHO",
           5.037076923076923
          ]
         ],
         "hovertemplate": "<b>%{hovertext}</b><br><br>Average Pick: %{x} <br>WS diff to avg players: %{y:.2f}<br>WS: %{customdata[1]:.2f} <br><extra></extra>",
         "hovertext": [
          "CLE",
          "UTA",
          "DEN",
          "MIL",
          "TOR",
          "PHI",
          "LAL",
          "BOS",
          "SAS",
          "IND",
          "DET",
          "POR",
          "MIA",
          "MEM",
          "CHI",
          "HOU",
          "ATL",
          "NOP",
          "GSW",
          "OKC",
          "SAC",
          "NYK",
          "LAC",
          "DAL",
          "CHO",
          "ORL",
          "BRK",
          "MIN",
          "WAS",
          "PHO"
         ],
         "legendgroup": "",
         "marker": {
          "color": "#7F7F7F",
          "size": 12,
          "symbol": "circle"
         },
         "mode": "markers",
         "name": "",
         "orientation": "v",
         "showlegend": false,
         "type": "scatter",
         "x": [
          29.07017543859649,
          32.706896551724135,
          31.982142857142858,
          29.551020408163264,
          29.358490566037737,
          31.014285714285716,
          33.42553191489362,
          30.779661016949152,
          38.04,
          30.6734693877551,
          31.847457627118644,
          29.451612903225808,
          32.47222222222222,
          29.323943661971832,
          25.642857142857142,
          30.952380952380953,
          29.737704918032787,
          27.94736842105263,
          26.61111111111111,
          30.866666666666667,
          26.245283018867923,
          29.680851063829788,
          29.689655172413794,
          36.04,
          26.980392156862745,
          26.160714285714285,
          30.114285714285714,
          28.29824561403509,
          28.145454545454545,
          41.84615384615385
         ],
         "xaxis": "x",
         "y": [
          2.15640973894431,
          2.2943384418901664,
          0.3172433862433862,
          1.286679205015339,
          5.647014500349406,
          2.957249914410209,
          1.9998487692949516,
          -0.35117011927181446,
          7.148845620915032,
          -0.5563841647770221,
          -1.7084826261954877,
          1.5086093189964154,
          1.9296834755507142,
          -1.2590148209518548,
          1.8680090939153435,
          -0.6917073780129337,
          -1.0715699221400767,
          2.177571150097465,
          -0.2750096021947875,
          1.271580167029775,
          -2.311090722242776,
          -1.4052974783293934,
          -2.89214777251897,
          1.0435666122004355,
          -5.512479302832244,
          -2.048211805555556,
          -0.7377187830687827,
          -4.973247725795972,
          -5.405882996632997,
          -5.518232654600302
         ],
         "yaxis": "y"
        }
       ],
       "layout": {
        "legend": {
         "tracegroupgap": 0
        },
        "margin": {
         "t": 60
        },
        "template": {
         "data": {
          "bar": [
           {
            "error_x": {
             "color": "#2a3f5f"
            },
            "error_y": {
             "color": "#2a3f5f"
            },
            "marker": {
             "line": {
              "color": "#E5ECF6",
              "width": 0.5
             },
             "pattern": {
              "fillmode": "overlay",
              "size": 10,
              "solidity": 0.2
             }
            },
            "type": "bar"
           }
          ],
          "barpolar": [
           {
            "marker": {
             "line": {
              "color": "#E5ECF6",
              "width": 0.5
             },
             "pattern": {
              "fillmode": "overlay",
              "size": 10,
              "solidity": 0.2
             }
            },
            "type": "barpolar"
           }
          ],
          "carpet": [
           {
            "aaxis": {
             "endlinecolor": "#2a3f5f",
             "gridcolor": "white",
             "linecolor": "white",
             "minorgridcolor": "white",
             "startlinecolor": "#2a3f5f"
            },
            "baxis": {
             "endlinecolor": "#2a3f5f",
             "gridcolor": "white",
             "linecolor": "white",
             "minorgridcolor": "white",
             "startlinecolor": "#2a3f5f"
            },
            "type": "carpet"
           }
          ],
          "choropleth": [
           {
            "colorbar": {
             "outlinewidth": 0,
             "ticks": ""
            },
            "type": "choropleth"
           }
          ],
          "contour": [
           {
            "colorbar": {
             "outlinewidth": 0,
             "ticks": ""
            },
            "colorscale": [
             [
              0,
              "#0d0887"
             ],
             [
              0.1111111111111111,
              "#46039f"
             ],
             [
              0.2222222222222222,
              "#7201a8"
             ],
             [
              0.3333333333333333,
              "#9c179e"
             ],
             [
              0.4444444444444444,
              "#bd3786"
             ],
             [
              0.5555555555555556,
              "#d8576b"
             ],
             [
              0.6666666666666666,
              "#ed7953"
             ],
             [
              0.7777777777777778,
              "#fb9f3a"
             ],
             [
              0.8888888888888888,
              "#fdca26"
             ],
             [
              1,
              "#f0f921"
             ]
            ],
            "type": "contour"
           }
          ],
          "contourcarpet": [
           {
            "colorbar": {
             "outlinewidth": 0,
             "ticks": ""
            },
            "type": "contourcarpet"
           }
          ],
          "heatmap": [
           {
            "colorbar": {
             "outlinewidth": 0,
             "ticks": ""
            },
            "colorscale": [
             [
              0,
              "#0d0887"
             ],
             [
              0.1111111111111111,
              "#46039f"
             ],
             [
              0.2222222222222222,
              "#7201a8"
             ],
             [
              0.3333333333333333,
              "#9c179e"
             ],
             [
              0.4444444444444444,
              "#bd3786"
             ],
             [
              0.5555555555555556,
              "#d8576b"
             ],
             [
              0.6666666666666666,
              "#ed7953"
             ],
             [
              0.7777777777777778,
              "#fb9f3a"
             ],
             [
              0.8888888888888888,
              "#fdca26"
             ],
             [
              1,
              "#f0f921"
             ]
            ],
            "type": "heatmap"
           }
          ],
          "heatmapgl": [
           {
            "colorbar": {
             "outlinewidth": 0,
             "ticks": ""
            },
            "colorscale": [
             [
              0,
              "#0d0887"
             ],
             [
              0.1111111111111111,
              "#46039f"
             ],
             [
              0.2222222222222222,
              "#7201a8"
             ],
             [
              0.3333333333333333,
              "#9c179e"
             ],
             [
              0.4444444444444444,
              "#bd3786"
             ],
             [
              0.5555555555555556,
              "#d8576b"
             ],
             [
              0.6666666666666666,
              "#ed7953"
             ],
             [
              0.7777777777777778,
              "#fb9f3a"
             ],
             [
              0.8888888888888888,
              "#fdca26"
             ],
             [
              1,
              "#f0f921"
             ]
            ],
            "type": "heatmapgl"
           }
          ],
          "histogram": [
           {
            "marker": {
             "pattern": {
              "fillmode": "overlay",
              "size": 10,
              "solidity": 0.2
             }
            },
            "type": "histogram"
           }
          ],
          "histogram2d": [
           {
            "colorbar": {
             "outlinewidth": 0,
             "ticks": ""
            },
            "colorscale": [
             [
              0,
              "#0d0887"
             ],
             [
              0.1111111111111111,
              "#46039f"
             ],
             [
              0.2222222222222222,
              "#7201a8"
             ],
             [
              0.3333333333333333,
              "#9c179e"
             ],
             [
              0.4444444444444444,
              "#bd3786"
             ],
             [
              0.5555555555555556,
              "#d8576b"
             ],
             [
              0.6666666666666666,
              "#ed7953"
             ],
             [
              0.7777777777777778,
              "#fb9f3a"
             ],
             [
              0.8888888888888888,
              "#fdca26"
             ],
             [
              1,
              "#f0f921"
             ]
            ],
            "type": "histogram2d"
           }
          ],
          "histogram2dcontour": [
           {
            "colorbar": {
             "outlinewidth": 0,
             "ticks": ""
            },
            "colorscale": [
             [
              0,
              "#0d0887"
             ],
             [
              0.1111111111111111,
              "#46039f"
             ],
             [
              0.2222222222222222,
              "#7201a8"
             ],
             [
              0.3333333333333333,
              "#9c179e"
             ],
             [
              0.4444444444444444,
              "#bd3786"
             ],
             [
              0.5555555555555556,
              "#d8576b"
             ],
             [
              0.6666666666666666,
              "#ed7953"
             ],
             [
              0.7777777777777778,
              "#fb9f3a"
             ],
             [
              0.8888888888888888,
              "#fdca26"
             ],
             [
              1,
              "#f0f921"
             ]
            ],
            "type": "histogram2dcontour"
           }
          ],
          "mesh3d": [
           {
            "colorbar": {
             "outlinewidth": 0,
             "ticks": ""
            },
            "type": "mesh3d"
           }
          ],
          "parcoords": [
           {
            "line": {
             "colorbar": {
              "outlinewidth": 0,
              "ticks": ""
             }
            },
            "type": "parcoords"
           }
          ],
          "pie": [
           {
            "automargin": true,
            "type": "pie"
           }
          ],
          "scatter": [
           {
            "fillpattern": {
             "fillmode": "overlay",
             "size": 10,
             "solidity": 0.2
            },
            "type": "scatter"
           }
          ],
          "scatter3d": [
           {
            "line": {
             "colorbar": {
              "outlinewidth": 0,
              "ticks": ""
             }
            },
            "marker": {
             "colorbar": {
              "outlinewidth": 0,
              "ticks": ""
             }
            },
            "type": "scatter3d"
           }
          ],
          "scattercarpet": [
           {
            "marker": {
             "colorbar": {
              "outlinewidth": 0,
              "ticks": ""
             }
            },
            "type": "scattercarpet"
           }
          ],
          "scattergeo": [
           {
            "marker": {
             "colorbar": {
              "outlinewidth": 0,
              "ticks": ""
             }
            },
            "type": "scattergeo"
           }
          ],
          "scattergl": [
           {
            "marker": {
             "colorbar": {
              "outlinewidth": 0,
              "ticks": ""
             }
            },
            "type": "scattergl"
           }
          ],
          "scattermapbox": [
           {
            "marker": {
             "colorbar": {
              "outlinewidth": 0,
              "ticks": ""
             }
            },
            "type": "scattermapbox"
           }
          ],
          "scatterpolar": [
           {
            "marker": {
             "colorbar": {
              "outlinewidth": 0,
              "ticks": ""
             }
            },
            "type": "scatterpolar"
           }
          ],
          "scatterpolargl": [
           {
            "marker": {
             "colorbar": {
              "outlinewidth": 0,
              "ticks": ""
             }
            },
            "type": "scatterpolargl"
           }
          ],
          "scatterternary": [
           {
            "marker": {
             "colorbar": {
              "outlinewidth": 0,
              "ticks": ""
             }
            },
            "type": "scatterternary"
           }
          ],
          "surface": [
           {
            "colorbar": {
             "outlinewidth": 0,
             "ticks": ""
            },
            "colorscale": [
             [
              0,
              "#0d0887"
             ],
             [
              0.1111111111111111,
              "#46039f"
             ],
             [
              0.2222222222222222,
              "#7201a8"
             ],
             [
              0.3333333333333333,
              "#9c179e"
             ],
             [
              0.4444444444444444,
              "#bd3786"
             ],
             [
              0.5555555555555556,
              "#d8576b"
             ],
             [
              0.6666666666666666,
              "#ed7953"
             ],
             [
              0.7777777777777778,
              "#fb9f3a"
             ],
             [
              0.8888888888888888,
              "#fdca26"
             ],
             [
              1,
              "#f0f921"
             ]
            ],
            "type": "surface"
           }
          ],
          "table": [
           {
            "cells": {
             "fill": {
              "color": "#EBF0F8"
             },
             "line": {
              "color": "white"
             }
            },
            "header": {
             "fill": {
              "color": "#C8D4E3"
             },
             "line": {
              "color": "white"
             }
            },
            "type": "table"
           }
          ]
         },
         "layout": {
          "annotationdefaults": {
           "arrowcolor": "#2a3f5f",
           "arrowhead": 0,
           "arrowwidth": 1
          },
          "autotypenumbers": "strict",
          "coloraxis": {
           "colorbar": {
            "outlinewidth": 0,
            "ticks": ""
           }
          },
          "colorscale": {
           "diverging": [
            [
             0,
             "#8e0152"
            ],
            [
             0.1,
             "#c51b7d"
            ],
            [
             0.2,
             "#de77ae"
            ],
            [
             0.3,
             "#f1b6da"
            ],
            [
             0.4,
             "#fde0ef"
            ],
            [
             0.5,
             "#f7f7f7"
            ],
            [
             0.6,
             "#e6f5d0"
            ],
            [
             0.7,
             "#b8e186"
            ],
            [
             0.8,
             "#7fbc41"
            ],
            [
             0.9,
             "#4d9221"
            ],
            [
             1,
             "#276419"
            ]
           ],
           "sequential": [
            [
             0,
             "#0d0887"
            ],
            [
             0.1111111111111111,
             "#46039f"
            ],
            [
             0.2222222222222222,
             "#7201a8"
            ],
            [
             0.3333333333333333,
             "#9c179e"
            ],
            [
             0.4444444444444444,
             "#bd3786"
            ],
            [
             0.5555555555555556,
             "#d8576b"
            ],
            [
             0.6666666666666666,
             "#ed7953"
            ],
            [
             0.7777777777777778,
             "#fb9f3a"
            ],
            [
             0.8888888888888888,
             "#fdca26"
            ],
            [
             1,
             "#f0f921"
            ]
           ],
           "sequentialminus": [
            [
             0,
             "#0d0887"
            ],
            [
             0.1111111111111111,
             "#46039f"
            ],
            [
             0.2222222222222222,
             "#7201a8"
            ],
            [
             0.3333333333333333,
             "#9c179e"
            ],
            [
             0.4444444444444444,
             "#bd3786"
            ],
            [
             0.5555555555555556,
             "#d8576b"
            ],
            [
             0.6666666666666666,
             "#ed7953"
            ],
            [
             0.7777777777777778,
             "#fb9f3a"
            ],
            [
             0.8888888888888888,
             "#fdca26"
            ],
            [
             1,
             "#f0f921"
            ]
           ]
          },
          "colorway": [
           "#636efa",
           "#EF553B",
           "#00cc96",
           "#ab63fa",
           "#FFA15A",
           "#19d3f3",
           "#FF6692",
           "#B6E880",
           "#FF97FF",
           "#FECB52"
          ],
          "font": {
           "color": "#2a3f5f"
          },
          "geo": {
           "bgcolor": "white",
           "lakecolor": "white",
           "landcolor": "#E5ECF6",
           "showlakes": true,
           "showland": true,
           "subunitcolor": "white"
          },
          "hoverlabel": {
           "align": "left"
          },
          "hovermode": "closest",
          "mapbox": {
           "style": "light"
          },
          "paper_bgcolor": "white",
          "plot_bgcolor": "#E5ECF6",
          "polar": {
           "angularaxis": {
            "gridcolor": "white",
            "linecolor": "white",
            "ticks": ""
           },
           "bgcolor": "#E5ECF6",
           "radialaxis": {
            "gridcolor": "white",
            "linecolor": "white",
            "ticks": ""
           }
          },
          "scene": {
           "xaxis": {
            "backgroundcolor": "#E5ECF6",
            "gridcolor": "white",
            "gridwidth": 2,
            "linecolor": "white",
            "showbackground": true,
            "ticks": "",
            "zerolinecolor": "white"
           },
           "yaxis": {
            "backgroundcolor": "#E5ECF6",
            "gridcolor": "white",
            "gridwidth": 2,
            "linecolor": "white",
            "showbackground": true,
            "ticks": "",
            "zerolinecolor": "white"
           },
           "zaxis": {
            "backgroundcolor": "#E5ECF6",
            "gridcolor": "white",
            "gridwidth": 2,
            "linecolor": "white",
            "showbackground": true,
            "ticks": "",
            "zerolinecolor": "white"
           }
          },
          "shapedefaults": {
           "line": {
            "color": "#2a3f5f"
           }
          },
          "ternary": {
           "aaxis": {
            "gridcolor": "white",
            "linecolor": "white",
            "ticks": ""
           },
           "baxis": {
            "gridcolor": "white",
            "linecolor": "white",
            "ticks": ""
           },
           "bgcolor": "#E5ECF6",
           "caxis": {
            "gridcolor": "white",
            "linecolor": "white",
            "ticks": ""
           }
          },
          "title": {
           "x": 0.05
          },
          "xaxis": {
           "automargin": true,
           "gridcolor": "white",
           "linecolor": "white",
           "ticks": "",
           "title": {
            "standoff": 15
           },
           "zerolinecolor": "white",
           "zerolinewidth": 2
          },
          "yaxis": {
           "automargin": true,
           "gridcolor": "white",
           "linecolor": "white",
           "ticks": "",
           "title": {
            "standoff": 15
           },
           "zerolinecolor": "white",
           "zerolinewidth": 2
          }
         }
        },
        "title": {
         "text": "WS Difference vs Average Draft Position for Teams"
        },
        "xaxis": {
         "anchor": "y",
         "domain": [
          0,
          1
         ],
         "title": {
          "text": "Average Draft Position"
         }
        },
        "yaxis": {
         "anchor": "x",
         "domain": [
          0,
          1
         ],
         "title": {
          "text": "WS Difference"
         }
        }
       }
      }
     },
     "metadata": {},
     "output_type": "display_data"
    }
   ],
   "source": [
    "# define hover template for team vs avg pick scatter plot\n",
    "hover_template_team = Template('<b>{{team_name}}</b><br><br>' +\n",
    "                            'Average Pick: {{pick}} <br>' +\n",
    "                            '{{selected_stat}} diff to avg players: {{diff}}<br>' +\n",
    "                            '{{selected_stat}}: {{stat}} <br><extra></extra>')\n",
    "\n",
    "# create a scatter plot with the difference of the selected stat for each team. The y axis should be the selected stat and the x axis should be the average Pk\n",
    "def teams_vs_avg_pick_scatter(selected_stat):\n",
    "    fig = px.scatter(df_team_avg, x='Pk', y=f'{selected_stat}_diff', hover_name='Team',\n",
    "                     hover_data={'Team': True, selected_stat: True, f'{selected_stat}_diff': True, 'Pk': True},\n",
    "                        color_discrete_sequence=['#7F7F7F'])\n",
    "    \n",
    "    # styling the figure\n",
    "    fig.update_traces(hovertemplate=hover_template_team.render(team_name='%{hovertext}',\n",
    "        pick='%{x}',\n",
    "        diff='%{y:.2f}',\n",
    "        stat='%{customdata[1]:.2f}',\n",
    "        selected_stat=selected_stat))\n",
    "    \n",
    "    fig.update_traces(marker=dict(size=12), showlegend=False)\n",
    "    fig.update_layout(title=f'{selected_stat} Difference vs Average Draft Position for Teams',\n",
    "                      xaxis_title='Average Draft Position', yaxis_title=f'{selected_stat} Difference')\n",
    "    fig.show()\n",
    "\n",
    "# create a dropdown widget with all relevant stats\n",
    "stat_dropdown_avg_position_scatter = widgets.Dropdown(\n",
    "    options=relevant_stats,\n",
    "    description='Select Stat:',\n",
    "    disabled=False,\n",
    ")\n",
    "\n",
    "# Define the output area to display the scatter plot\n",
    "output_avg_position_scatter = widgets.Output()\n",
    "\n",
    "# Observe changes in the value of the dropdown and call the function\n",
    "def on_value_change_avg_position_scatter(change):\n",
    "    clear_output()\n",
    "    output_avg_position_scatter.clear_output()\n",
    "    selected_stat = stat_dropdown_avg_position_scatter.value\n",
    "\n",
    "    display(stat_dropdown_avg_position_scatter)\n",
    "    with output_avg_position_scatter:\n",
    "        teams_vs_avg_pick_scatter(selected_stat)\n",
    "\n",
    "stat_dropdown_avg_position_scatter.observe(on_value_change_avg_position_scatter, names='value')\n",
    "\n",
    "# Display the dropdown and the output area\n",
    "display(stat_dropdown_avg_position_scatter)\n",
    "display(output_avg_position_scatter)"
   ]
  },
  {
   "cell_type": "markdown",
   "metadata": {},
   "source": [
    "The table below shows the team with the highest difference for each statistic."
   ]
  },
  {
   "cell_type": "code",
   "execution_count": 19,
   "metadata": {},
   "outputs": [
    {
     "data": {
      "text/html": [
       "<h3>Best Team by Stat</h3>"
      ],
      "text/plain": [
       "<IPython.core.display.HTML object>"
      ]
     },
     "metadata": {},
     "output_type": "display_data"
    },
    {
     "data": {
      "text/html": [
       "<table>\n",
       "<tbody>\n",
       "<tr><td>PTS       </td><td>SAS</td></tr>\n",
       "<tr><td>TRB       </td><td>TOR</td></tr>\n",
       "<tr><td>AST       </td><td>SAS</td></tr>\n",
       "<tr><td>WS        </td><td>SAS</td></tr>\n",
       "<tr><td>WS/48     </td><td>DEN</td></tr>\n",
       "<tr><td>BPM       </td><td>DEN</td></tr>\n",
       "<tr><td>VORP      </td><td>SAS</td></tr>\n",
       "<tr><td>PIE       </td><td>DEN</td></tr>\n",
       "<tr><td>OFF_RATING</td><td>DEN</td></tr>\n",
       "<tr><td>DEF_RATING</td><td>SAS</td></tr>\n",
       "<tr><td>NET_RATING</td><td>DEN</td></tr>\n",
       "</tbody>\n",
       "</table>"
      ],
      "text/plain": [
       "<IPython.core.display.HTML object>"
      ]
     },
     "metadata": {},
     "output_type": "display_data"
    }
   ],
   "source": [
    "# create a best_team_by_stat dict with all stats as keys and the best team for that stat as value\n",
    "best_team_by_stat = {}\n",
    "for stat in relevant_stats:\n",
    "    best_team_by_stat[stat] = df_team_avg[df_team_avg[f'{stat}_diff'] == df_team_avg[f'{stat}_diff'].max()][['Tm', f'{stat}_diff']].values[0][0]\n",
    "\n",
    "# transform the dict into a dataframe\n",
    "df_best_team_by_stat = pd.DataFrame.from_dict(best_team_by_stat, orient='index', columns=['Team'])\n",
    "\n",
    "# display a title for the table\n",
    "display(HTML(\"<h3>Best Team by Stat</h3>\"))\n",
    "# display the dataframe as a table\n",
    "display(HTML(tabulate(df_best_team_by_stat, tablefmt=\"html\")))"
   ]
  },
  {
   "cell_type": "markdown",
   "metadata": {},
   "source": [
    "# Aggregated Team Analysis\n",
    "<a id='aggr_team_analysis'></a>"
   ]
  },
  {
   "cell_type": "markdown",
   "metadata": {},
   "source": [
    "In this section, we attempt to aggregate all statistics by creating a weighted average rank for each team. The weights for each statistic can be set using the sliders below."
   ]
  },
  {
   "cell_type": "code",
   "execution_count": 20,
   "metadata": {},
   "outputs": [
    {
     "data": {
      "application/vnd.jupyter.widget-view+json": {
       "model_id": "3ee8a8837de04600840fbf47f0c24f2d",
       "version_major": 2,
       "version_minor": 0
      },
      "text/plain": [
       "FloatSlider(value=1.0, continuous_update=False, description='PTS Weight:', layout=Layout(width='600px'), max=1…"
      ]
     },
     "metadata": {},
     "output_type": "display_data"
    },
    {
     "data": {
      "application/vnd.jupyter.widget-view+json": {
       "model_id": "b9a19e17e2434bcaaec05afc3388b54a",
       "version_major": 2,
       "version_minor": 0
      },
      "text/plain": [
       "FloatSlider(value=1.0, continuous_update=False, description='TRB Weight:', layout=Layout(width='600px'), max=1…"
      ]
     },
     "metadata": {},
     "output_type": "display_data"
    },
    {
     "data": {
      "application/vnd.jupyter.widget-view+json": {
       "model_id": "6a34801da36d41ed9e9082c44bef1696",
       "version_major": 2,
       "version_minor": 0
      },
      "text/plain": [
       "FloatSlider(value=1.0, continuous_update=False, description='AST Weight:', layout=Layout(width='600px'), max=1…"
      ]
     },
     "metadata": {},
     "output_type": "display_data"
    },
    {
     "data": {
      "application/vnd.jupyter.widget-view+json": {
       "model_id": "ed710a0744504199b04326a4ce38d0e1",
       "version_major": 2,
       "version_minor": 0
      },
      "text/plain": [
       "FloatSlider(value=1.0, continuous_update=False, description='WS Weight:', layout=Layout(width='600px'), max=1.…"
      ]
     },
     "metadata": {},
     "output_type": "display_data"
    },
    {
     "data": {
      "application/vnd.jupyter.widget-view+json": {
       "model_id": "907953802af74056be733c8ff4a8737e",
       "version_major": 2,
       "version_minor": 0
      },
      "text/plain": [
       "FloatSlider(value=1.0, continuous_update=False, description='WS/48 Weight:', layout=Layout(width='600px'), max…"
      ]
     },
     "metadata": {},
     "output_type": "display_data"
    },
    {
     "data": {
      "application/vnd.jupyter.widget-view+json": {
       "model_id": "72521ba4fe604a97b3f7d7881c97235e",
       "version_major": 2,
       "version_minor": 0
      },
      "text/plain": [
       "FloatSlider(value=1.0, continuous_update=False, description='BPM Weight:', layout=Layout(width='600px'), max=1…"
      ]
     },
     "metadata": {},
     "output_type": "display_data"
    },
    {
     "data": {
      "application/vnd.jupyter.widget-view+json": {
       "model_id": "22285f0827ac435482938aa88b1c7220",
       "version_major": 2,
       "version_minor": 0
      },
      "text/plain": [
       "FloatSlider(value=1.0, continuous_update=False, description='VORP Weight:', layout=Layout(width='600px'), max=…"
      ]
     },
     "metadata": {},
     "output_type": "display_data"
    },
    {
     "data": {
      "application/vnd.jupyter.widget-view+json": {
       "model_id": "b0b58d4f5af74159ab5fc2862cf52859",
       "version_major": 2,
       "version_minor": 0
      },
      "text/plain": [
       "FloatSlider(value=1.0, continuous_update=False, description='PIE Weight:', layout=Layout(width='600px'), max=1…"
      ]
     },
     "metadata": {},
     "output_type": "display_data"
    },
    {
     "data": {
      "application/vnd.jupyter.widget-view+json": {
       "model_id": "66029cc548314a549b85c4764b9de3e0",
       "version_major": 2,
       "version_minor": 0
      },
      "text/plain": [
       "FloatSlider(value=1.0, continuous_update=False, description='OFF_RATING Weight:', layout=Layout(width='600px')…"
      ]
     },
     "metadata": {},
     "output_type": "display_data"
    },
    {
     "data": {
      "application/vnd.jupyter.widget-view+json": {
       "model_id": "ff2120aec5c44c1ca6c844bec6939520",
       "version_major": 2,
       "version_minor": 0
      },
      "text/plain": [
       "FloatSlider(value=1.0, continuous_update=False, description='DEF_RATING Weight:', layout=Layout(width='600px')…"
      ]
     },
     "metadata": {},
     "output_type": "display_data"
    },
    {
     "data": {
      "application/vnd.jupyter.widget-view+json": {
       "model_id": "6219397661724413abcd8e41d539239c",
       "version_major": 2,
       "version_minor": 0
      },
      "text/plain": [
       "FloatSlider(value=1.0, continuous_update=False, description='NET_RATING Weight:', layout=Layout(width='600px')…"
      ]
     },
     "metadata": {},
     "output_type": "display_data"
    }
   ],
   "source": [
    "# create a dict to assign a weight to each stat\n",
    "stat_weights = {'PTS': 1, 'TRB': 1, 'AST': 1, 'WS': 1, 'WS/48': 1, 'BPM': 1, 'VORP': 1, 'PIE': 1, 'OFF_RATING': 1, 'DEF_RATING': 1, 'NET_RATING': 1}\n",
    "\n",
    "# for each stat, create a slider widget to select the weight\n",
    "stat_weight_sliders = {}\n",
    "for stat in stat_weights:\n",
    "    stat_weight_sliders[stat] = widgets.FloatSlider(\n",
    "        value=1,\n",
    "        min=0,\n",
    "        max=1.0,\n",
    "        step=0.1,\n",
    "        description=f'{stat} Weight:',\n",
    "        disabled=False,\n",
    "        continuous_update=False,\n",
    "        orientation='horizontal',\n",
    "        readout=True,\n",
    "        readout_format='.2f',\n",
    "        style=slider_style,\n",
    "        layout=widgets.Layout(width='600px')\n",
    "    )\n",
    "\n",
    "# set the weight for each stat\n",
    "def set_stat_weight(stat_weight_slider):\n",
    "    # get value from slider\n",
    "    stat_weights[stat_weight_slider['owner'].description.split()[0]] = stat_weight_slider['new']\n",
    "\n",
    "# observe the slider widget to get the weight for each stat\n",
    "for stat in stat_weight_sliders:\n",
    "    stat_weight_sliders[stat].observe(set_stat_weight, names='value')\n",
    "\n",
    "# display the slider widget\n",
    "for stat in stat_weight_sliders:\n",
    "    display(stat_weight_sliders[stat])"
   ]
  },
  {
   "cell_type": "code",
   "execution_count": 21,
   "metadata": {},
   "outputs": [
    {
     "data": {
      "text/html": [
       "<div>\n",
       "<style scoped>\n",
       "    .dataframe tbody tr th:only-of-type {\n",
       "        vertical-align: middle;\n",
       "    }\n",
       "\n",
       "    .dataframe tbody tr th {\n",
       "        vertical-align: top;\n",
       "    }\n",
       "\n",
       "    .dataframe thead th {\n",
       "        text-align: right;\n",
       "    }\n",
       "</style>\n",
       "<table border=\"1\" class=\"dataframe\">\n",
       "  <thead>\n",
       "    <tr style=\"text-align: right;\">\n",
       "      <th></th>\n",
       "      <th>Team</th>\n",
       "      <th>Weighted Average Rank</th>\n",
       "    </tr>\n",
       "    <tr>\n",
       "      <th>Rank</th>\n",
       "      <th></th>\n",
       "      <th></th>\n",
       "    </tr>\n",
       "  </thead>\n",
       "  <tbody>\n",
       "    <tr>\n",
       "      <th>1</th>\n",
       "      <td>CLE</td>\n",
       "      <td>6.00</td>\n",
       "    </tr>\n",
       "    <tr>\n",
       "      <th>2</th>\n",
       "      <td>UTA</td>\n",
       "      <td>8.45</td>\n",
       "    </tr>\n",
       "    <tr>\n",
       "      <th>3</th>\n",
       "      <td>DEN</td>\n",
       "      <td>8.55</td>\n",
       "    </tr>\n",
       "    <tr>\n",
       "      <th>4</th>\n",
       "      <td>MIL</td>\n",
       "      <td>8.55</td>\n",
       "    </tr>\n",
       "    <tr>\n",
       "      <th>5</th>\n",
       "      <td>TOR</td>\n",
       "      <td>9.09</td>\n",
       "    </tr>\n",
       "    <tr>\n",
       "      <th>6</th>\n",
       "      <td>PHI</td>\n",
       "      <td>9.18</td>\n",
       "    </tr>\n",
       "    <tr>\n",
       "      <th>7</th>\n",
       "      <td>LAL</td>\n",
       "      <td>10.00</td>\n",
       "    </tr>\n",
       "    <tr>\n",
       "      <th>8</th>\n",
       "      <td>BOS</td>\n",
       "      <td>10.36</td>\n",
       "    </tr>\n",
       "    <tr>\n",
       "      <th>9</th>\n",
       "      <td>SAS</td>\n",
       "      <td>10.55</td>\n",
       "    </tr>\n",
       "    <tr>\n",
       "      <th>10</th>\n",
       "      <td>IND</td>\n",
       "      <td>11.45</td>\n",
       "    </tr>\n",
       "    <tr>\n",
       "      <th>11</th>\n",
       "      <td>DET</td>\n",
       "      <td>13.09</td>\n",
       "    </tr>\n",
       "    <tr>\n",
       "      <th>12</th>\n",
       "      <td>POR</td>\n",
       "      <td>13.82</td>\n",
       "    </tr>\n",
       "    <tr>\n",
       "      <th>13</th>\n",
       "      <td>MIA</td>\n",
       "      <td>14.45</td>\n",
       "    </tr>\n",
       "    <tr>\n",
       "      <th>14</th>\n",
       "      <td>MEM</td>\n",
       "      <td>14.55</td>\n",
       "    </tr>\n",
       "    <tr>\n",
       "      <th>15</th>\n",
       "      <td>CHI</td>\n",
       "      <td>14.55</td>\n",
       "    </tr>\n",
       "    <tr>\n",
       "      <th>16</th>\n",
       "      <td>HOU</td>\n",
       "      <td>14.55</td>\n",
       "    </tr>\n",
       "    <tr>\n",
       "      <th>17</th>\n",
       "      <td>ATL</td>\n",
       "      <td>15.00</td>\n",
       "    </tr>\n",
       "    <tr>\n",
       "      <th>18</th>\n",
       "      <td>NOP</td>\n",
       "      <td>15.36</td>\n",
       "    </tr>\n",
       "    <tr>\n",
       "      <th>19</th>\n",
       "      <td>GSW</td>\n",
       "      <td>15.91</td>\n",
       "    </tr>\n",
       "    <tr>\n",
       "      <th>20</th>\n",
       "      <td>OKC</td>\n",
       "      <td>17.55</td>\n",
       "    </tr>\n",
       "    <tr>\n",
       "      <th>21</th>\n",
       "      <td>SAC</td>\n",
       "      <td>18.27</td>\n",
       "    </tr>\n",
       "    <tr>\n",
       "      <th>22</th>\n",
       "      <td>NYK</td>\n",
       "      <td>18.45</td>\n",
       "    </tr>\n",
       "    <tr>\n",
       "      <th>23</th>\n",
       "      <td>LAC</td>\n",
       "      <td>18.73</td>\n",
       "    </tr>\n",
       "    <tr>\n",
       "      <th>24</th>\n",
       "      <td>DAL</td>\n",
       "      <td>21.36</td>\n",
       "    </tr>\n",
       "    <tr>\n",
       "      <th>25</th>\n",
       "      <td>CHO</td>\n",
       "      <td>21.36</td>\n",
       "    </tr>\n",
       "    <tr>\n",
       "      <th>26</th>\n",
       "      <td>ORL</td>\n",
       "      <td>22.91</td>\n",
       "    </tr>\n",
       "    <tr>\n",
       "      <th>27</th>\n",
       "      <td>BRK</td>\n",
       "      <td>23.36</td>\n",
       "    </tr>\n",
       "    <tr>\n",
       "      <th>28</th>\n",
       "      <td>MIN</td>\n",
       "      <td>24.73</td>\n",
       "    </tr>\n",
       "    <tr>\n",
       "      <th>29</th>\n",
       "      <td>WAS</td>\n",
       "      <td>25.64</td>\n",
       "    </tr>\n",
       "    <tr>\n",
       "      <th>30</th>\n",
       "      <td>PHO</td>\n",
       "      <td>29.18</td>\n",
       "    </tr>\n",
       "  </tbody>\n",
       "</table>\n",
       "</div>"
      ],
      "text/plain": [
       "     Team  Weighted Average Rank\n",
       "Rank                            \n",
       "1     CLE                   6.00\n",
       "2     UTA                   8.45\n",
       "3     DEN                   8.55\n",
       "4     MIL                   8.55\n",
       "5     TOR                   9.09\n",
       "6     PHI                   9.18\n",
       "7     LAL                  10.00\n",
       "8     BOS                  10.36\n",
       "9     SAS                  10.55\n",
       "10    IND                  11.45\n",
       "11    DET                  13.09\n",
       "12    POR                  13.82\n",
       "13    MIA                  14.45\n",
       "14    MEM                  14.55\n",
       "15    CHI                  14.55\n",
       "16    HOU                  14.55\n",
       "17    ATL                  15.00\n",
       "18    NOP                  15.36\n",
       "19    GSW                  15.91\n",
       "20    OKC                  17.55\n",
       "21    SAC                  18.27\n",
       "22    NYK                  18.45\n",
       "23    LAC                  18.73\n",
       "24    DAL                  21.36\n",
       "25    CHO                  21.36\n",
       "26    ORL                  22.91\n",
       "27    BRK                  23.36\n",
       "28    MIN                  24.73\n",
       "29    WAS                  25.64\n",
       "30    PHO                  29.18"
      ]
     },
     "execution_count": 21,
     "metadata": {},
     "output_type": "execute_result"
    }
   ],
   "source": [
    "# calculate the team rank for each stat from the df_team_avg dataframe\n",
    "for stat in relevant_stats:\n",
    "    if stat == 'DEF_RATING': # lower DEF_RATING is better\n",
    "        df_team_avg[stat + '_rank'] = df_team_avg[stat + '_diff'].rank(ascending=True, method='min')\n",
    "    else:\n",
    "        df_team_avg[stat + '_rank'] = df_team_avg[stat + '_diff'].rank(ascending=False, method='min')\n",
    "\n",
    "# calculate the average rank for each team by weighting each stat rank with the respective weight\n",
    "df_team_avg['Weighted Average Rank'] = 0\n",
    "for stat in relevant_stats:\n",
    "    df_team_avg['Weighted Average Rank'] += df_team_avg[stat + '_rank'] * stat_weights[stat]\n",
    "\n",
    "df_team_avg['Weighted Average Rank'] /= len(relevant_stats)\n",
    "\n",
    "# sort the df_team_avg dataframe by the weighted average rank\n",
    "df_team_avg = df_team_avg.sort_values('Weighted Average Rank', ascending=True)\n",
    "# reset the index\n",
    "df_team_avg = df_team_avg.reset_index(drop=True)\n",
    "# add 1 to every index\n",
    "df_team_avg.index += 1\n",
    "# rename the index column to 'Rank'\n",
    "df_team_avg.index.names = ['Rank']\n",
    "# rename the 'Tm' column to 'Team'\n",
    "df_team_avg = df_team_avg.rename(columns={'Tm': 'Team'})\n",
    "\n",
    "# round the weighted average rank to 2 decimals\n",
    "df_team_avg['Weighted Average Rank'] = df_team_avg['Weighted Average Rank'].round(2)\n",
    "\n",
    "# print the df_team_avg dataframe 'Tm' and 'weighted_avg_rank' columns\n",
    "df_team_avg[['Team', 'Weighted Average Rank']]"
   ]
  },
  {
   "cell_type": "markdown",
   "metadata": {},
   "source": [
    "# Conclusion, Limitations, and Further Research Ideas\n",
    "<a id='conclusions'></a>"
   ]
  },
  {
   "cell_type": "markdown",
   "metadata": {},
   "source": [
    "Using the standard parameters (time range: 1996-2022, penalty percentile: 0.02, equal-weighted statistics for aggregation), the best NBA team at drafting are the **Cleveland Cavaliers**!\n",
    "\n",
    "Even when changing the weights for the aggregation drastically, the top teams remain relatively constant. A savy basketball fan can quickly discover that the high ranking of some teams can be linked to individual player selections that greatly outperformed their peers at their respective draft positions (e.g., CLE: LeBron James, DEN: Nikola Jokic). We attribute this to the comparatively short time period available for analysis which leads us to our first possible avenue for further research. By finding the used statistics for a longer time period than available through the NBA API or using a different set of statistics that are available for extended time periods, the analysis could be more robust and less sensitive to individual players.\n",
    "\n",
    "A limitation of many performance metrics we used is that they tend to increase the longer a player's career is. For example, points, rebounds, and assists are strictly increasing over time and a hypothetical mediocre player who has already finished his 10-year career will likely have better statistics than a recently drafted superstar who has only been in the NBA for a couple of seasons but would be perceived as the better draft selection by most people. We thought of several options to address this limitation but eventually decided that each option also introduces new drawbacks. Normalizing all stats to a per-game basis might disadvantage players who had long careers and would be negatively affected by lower statistics in their mid-/late-thirties (e.g.,, Dirk Nowitzki). Alternatively, one could decide to only use a subset of the available statistics in order to exclude strictly increasing metrics such as the ones mentioned above. However, this increases the reliance on individual advanced statistics. Since there is no one true measure of player performance, the combination of multiple statistics is a crucial part of the analysis which would suffer if certain metrics were to be excluded. Future researchers could attempt to find other solutions to this issue.\n",
    "\n",
    "Further research ideas:\n",
    "- Investigate relationship between team success and draft performance\n",
    "- Conduct ablation studies to investigate the impact of different weighting and/or fully excluding certain metrics\n",
    "- Break down the analysis on a positional basis (e.g., \"Which team is best at drafting guards?\")\n",
    "- Extend the time period\n",
    "- Add and/or change the performance metrics"
   ]
  }
 ],
 "metadata": {
  "kernelspec": {
   "display_name": ".nbavenv",
   "language": "python",
   "name": "python3"
  },
  "language_info": {
   "codemirror_mode": {
    "name": "ipython",
    "version": 3
   },
   "file_extension": ".py",
   "mimetype": "text/x-python",
   "name": "python",
   "nbconvert_exporter": "python",
   "pygments_lexer": "ipython3",
   "version": "3.8.0"
  },
  "orig_nbformat": 4
 },
 "nbformat": 4,
 "nbformat_minor": 2
}
