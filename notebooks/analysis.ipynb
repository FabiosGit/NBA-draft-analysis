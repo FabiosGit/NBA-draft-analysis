{
 "cells": [
  {
   "cell_type": "markdown",
   "metadata": {},
   "source": [
    "# NBA Draft Analysis - Which NBA team selects the best players relative to the average player at their respective draft position?\n",
    "\n",
    "## index\n",
    "1. [introduction](analysis.ipynb/#introduction)\n",
    "2. [data](analysis.ipynb/#data)\n",
    "3. [results](analysis.ipynb/#results)\n",
    "4. [conclusions](analysis.ipynb/#conclusions)"
   ]
  },
  {
   "cell_type": "markdown",
   "metadata": {},
   "source": [
    "## introduction\n",
    "The NBA Draft is an annual event in the National Basketball Association (NBA) where teams select eligible players to join their rosters. It typically consists of two rounds, with teams choosing players based on a predetermined order, primarily determined by the previous season's standings. The draft serves as a way for teams to acquire new talent, including young prospects from college or international leagues, and provides an opportunity for emerging basketball stars to realize their dreams of playing in the NBA.\n",
    "\n",
    "For example, in 2003, the famous basketball player LeBron James was the first overall pick by the Cleveland Cavaliers. His selection was the culmination of immense hype and anticipation, as he was considered a generational talent straight out of high school. The NBA Draft is a pivotal moment for the league's future, as it shapes the composition of teams and can have a significant impact on the sport's landscape.\n",
    "\n",
    "A team’s choice during the draft can make or break its season, making it crucial to have effective tools for selecting the best players from the available pool. With this analysis, we aim to understand which team selects the best players relative to the average player at their respective draft position. To do so, we will get the historical data of the drafts for the NBA seasons from 1996 until 2023. This project focuses on NBA player and team statistics analysis and visualization, offering interactive tools to explore and compare player and team data, and ultimately aiding in the assessment of draft choices, individual player achievements, and team success over different seasons."
   ]
  },
  {
   "cell_type": "markdown",
   "metadata": {},
   "source": [
    "## data\n",
    "The [raw data](../data/raw/nba_stats_1996-2022_raw.csv) is taken using the [NBA API](https://github.com/swar/nba_api/blob/master/docs/nba_api/stats/examples.md) and it comprehends the statistics of all the official NBA players from year 1996 until 2023. The statistics include the player ID, his name, how many years he played, points scored and many more. The raw data contains 265 variables, but we will use only 22 and filter four of them, adding up to 22 variables. For brevity's sake, in the data there are many abbreviations. A [reference table](../references/abbreviation_reference_table.md) comes in handy."
   ]
  },
  {
   "cell_type": "markdown",
   "metadata": {},
   "source": [
    "We need to import the following libraries to manage the data handling."
   ]
  },
  {
   "cell_type": "code",
   "execution_count": 19,
   "metadata": {},
   "outputs": [],
   "source": [
    "# Import libraries\n",
    "import pandas as pd\n",
    "import numpy as np\n",
    "import ipywidgets as widgets\n",
    "import plotly.express as px\n",
    "from IPython.display import display, HTML, clear_output\n",
    "from tabulate import tabulate"
   ]
  },
  {
   "cell_type": "markdown",
   "metadata": {},
   "source": [
    "In a Data Frame called df, we load the [player career average](../data/interim/player_career_avg.csv) data."
   ]
  },
  {
   "cell_type": "code",
   "execution_count": 2,
   "metadata": {},
   "outputs": [],
   "source": [
    "# load in the data\n",
    "df = pd.read_csv('../data/interim/player_career_avg.csv', index_col=0)"
   ]
  },
  {
   "cell_type": "markdown",
   "metadata": {},
   "source": [
    "We make a copy of the Data Frame to filter for seasons to analyze. With the following slider you can filter through the seasons."
   ]
  },
  {
   "cell_type": "code",
   "execution_count": 3,
   "metadata": {},
   "outputs": [
    {
     "data": {
      "application/vnd.jupyter.widget-view+json": {
       "model_id": "c92c0fcc58d347a4b652337f547174bf",
       "version_major": 2,
       "version_minor": 0
      },
      "text/plain": [
       "SelectionRangeSlider(continuous_update=False, description='Select Seasons to Analyze', index=(0, 26), options=…"
      ]
     },
     "metadata": {},
     "output_type": "display_data"
    }
   ],
   "source": [
    "# copy the dataframe\n",
    "df_seasons_filtered = df.copy()\n",
    "\n",
    "# create list with all seasons between 1996 and 2023\n",
    "seasons = range(1996, 2023)\n",
    "\n",
    "# create a slider widget to select the seasons\n",
    "season_slider = widgets.SelectionRangeSlider(\n",
    "    options=seasons,\n",
    "    index=(0, len(seasons)-1),\n",
    "    description='Select Seasons to Analyze',\n",
    "    disabled=False,\n",
    "    continuous_update=False,\n",
    "    orientation='horizontal',\n",
    "    readout=True\n",
    ")\n",
    "\n",
    "# get the subset of the dataframe that matches the selected seasons\n",
    "def get_seasons(season_slider):\n",
    "    # declare global variable\n",
    "    global df_seasons_filtered\n",
    "    # get values from slider\n",
    "    start_season = int(season_slider['new'][0])\n",
    "    end_season = int(season_slider['new'][1])\n",
    "    df_seasons_filtered = df[(df['Season'] >= start_season) & (df['Season'] <= end_season)]\n",
    "\n",
    "# observe the slider widget to get the selected seasons\n",
    "season_slider.observe(get_seasons, names='value')\n",
    "\n",
    "# display the slider widget\n",
    "display(season_slider)"
   ]
  },
  {
   "cell_type": "markdown",
   "metadata": {},
   "source": [
    "**Select a penalty for unbounded stats**\n",
    "\n",
    "Drafted players who never played a game in the NBA are perceived as bad draft picks but never accumulated any stats. Since excluding them from the analysis would worsen the relative performance of other players selected at that respective draft position, the empty stats should be replaced by a \"bad stat\", as never playing a game in the NBA objectively makes that player a bad selection. For total points, assists and rebounds, 0 is the absolute minimum and therefore suitable as a replacement stat. However, all other stats are unbounded and don't have a definite minimum value. Using the minimum value in our data would be greatly affected by outliers which is why we opted for a percentile that can be dynamically chosen. We recommend using a percentile between 1% and 5%."
   ]
  },
  {
   "cell_type": "code",
   "execution_count": 4,
   "metadata": {},
   "outputs": [
    {
     "data": {
      "application/vnd.jupyter.widget-view+json": {
       "model_id": "fd4ecfb421c34077b92e01132b7c6f1e",
       "version_major": 2,
       "version_minor": 0
      },
      "text/plain": [
       "FloatSlider(value=0.02, continuous_update=False, description='Penalty Percentile:', max=1.0, step=0.01)"
      ]
     },
     "metadata": {},
     "output_type": "display_data"
    }
   ],
   "source": [
    "# set standard penalty percentile\n",
    "penalty_percentile = 0.02\n",
    "\n",
    "# create a float slider widget to select the penalty percentile\n",
    "penalty_percentile_slider = widgets.FloatSlider(\n",
    "    value=0.02,\n",
    "    min=0,\n",
    "    max=1.0,\n",
    "    step=0.01,\n",
    "    description='Penalty Percentile:',\n",
    "    disabled=False,\n",
    "    continuous_update=False,\n",
    "    orientation='horizontal',\n",
    "    readout=True,\n",
    "    readout_format='.2f',\n",
    ")\n",
    "\n",
    "# set the penalty percentile\n",
    "def set_penalty_percentile(penalty_percentile_slider):\n",
    "    # declare global variable\n",
    "    global penalty_percentile\n",
    "    # get value from slider\n",
    "    penalty_percentile = penalty_percentile_slider['new']\n",
    "\n",
    "# observe the slider widget to get the penalty percentile\n",
    "penalty_percentile_slider.observe(set_penalty_percentile, names='value')\n",
    "\n",
    "# display the slider widget\n",
    "display(penalty_percentile_slider)"
   ]
  },
  {
   "cell_type": "markdown",
   "metadata": {},
   "source": [
    "> [!IMPORTANT]  \n",
    "> Re-run all cells from here after changing the penalty percentile and/or the season range"
   ]
  },
  {
   "cell_type": "code",
   "execution_count": 5,
   "metadata": {},
   "outputs": [
    {
     "name": "stdout",
     "output_type": "stream",
     "text": [
      "Your selected penalty percentile for unbounded stats is 0.02\n",
      "Your selected seasons are 1996 to 2022\n"
     ]
    }
   ],
   "source": [
    "# get min and max seasons from df_seasons_filtered\n",
    "start_season = df_seasons_filtered['Season'].min()\n",
    "end_season = df_seasons_filtered['Season'].max()\n",
    "\n",
    "print(\"Your selected penalty percentile for unbounded stats is\", penalty_percentile)\n",
    "print(\"Your selected seasons are\", start_season , \"to\", end_season)\n",
    "\n",
    "relevant_stats = ['PTS', 'TRB', 'AST', 'WS', 'WS/48', 'BPM', 'VORP', 'PIE', 'OFF_RATING', 'DEF_RATING', 'NET_RATING']\n",
    "na_fill_values = {'PTS': 0, 'TRB': 0, 'AST': 0, 'WS': df_seasons_filtered['WS'].quantile(penalty_percentile), 'WS/48': df_seasons_filtered['WS/48'].quantile(penalty_percentile), 'BPM': df_seasons_filtered['BPM'].quantile(penalty_percentile), 'VORP': df_seasons_filtered['VORP'].quantile(penalty_percentile), 'PIE': df_seasons_filtered['PIE'].quantile(penalty_percentile), 'OFF_RATING': df_seasons_filtered['OFF_RATING'].quantile(penalty_percentile), 'DEF_RATING': df_seasons_filtered['DEF_RATING'].quantile(1-penalty_percentile), 'NET_RATING': df_seasons_filtered['NET_RATING'].quantile(penalty_percentile)}\n",
    "\n",
    "# fill the NaNs with the respective entry in the na_fill_values dict for each column\n",
    "df_career_na_filled = df_seasons_filtered.fillna(value=na_fill_values)"
   ]
  },
  {
   "cell_type": "code",
   "execution_count": 6,
   "metadata": {},
   "outputs": [],
   "source": [
    "# TODO: Maybe add toggle button that allows comparing only to players of same position\n",
    "\n",
    "# group the df_career dataframe by 'Pk' and calculate the average for each relevant stat\n",
    "df_avg = df_career_na_filled.groupby('Pk')[relevant_stats].mean(numeric_only=True)\n",
    "df_avg = df_avg.reset_index()\n",
    "\n",
    "# add 1 to every index\n",
    "df_avg.index += 1"
   ]
  },
  {
   "cell_type": "code",
   "execution_count": 7,
   "metadata": {},
   "outputs": [],
   "source": [
    "# for each relevant stat, create a new column in the df_career_na_filled dataframe with the difference between the player's stat and the average for that stat for their draft position\n",
    "for stat in relevant_stats:\n",
    "    df_career_na_filled[stat + '_diff'] = df_career_na_filled[stat] - df_career_na_filled['Pk'].map(df_avg[stat])"
   ]
  },
  {
   "cell_type": "markdown",
   "metadata": {},
   "source": [
    "**Calculate ranks for all players above a minimum amount of games played**\n",
    "\n",
    "This section calculates the ranking of the performance above/below the average player at that draft position for each stat. Some of the stats that are normalized per 48 minutes can be affected by players that only played very little but performed well in this limited time (e.g., a player only ever played two minutes at the end of a blowout but scored four points). To avoid such players being ranked very highly, a minimum amount of games can be set here and all players that do not meet this requirement are excluded from the ranking."
   ]
  },
  {
   "cell_type": "code",
   "execution_count": 8,
   "metadata": {},
   "outputs": [
    {
     "data": {
      "application/vnd.jupyter.widget-view+json": {
       "model_id": "2e1db63464fc472bbf56ea78b67f5eba",
       "version_major": 2,
       "version_minor": 0
      },
      "text/plain": [
       "IntSlider(value=82, continuous_update=False, description='Minimum Games Played:', max=500)"
      ]
     },
     "metadata": {},
     "output_type": "display_data"
    }
   ],
   "source": [
    "# set standard minimum number of games played\n",
    "min_games = 82\n",
    "\n",
    "# create an int slides widget to select the minimum number of games played\n",
    "min_games_slider = widgets.IntSlider(\n",
    "    value=82,\n",
    "    min=0,\n",
    "    max=500,\n",
    "    step=1,\n",
    "    description='Minimum Games Played:',\n",
    "    disabled=False,\n",
    "    continuous_update=False,\n",
    "    orientation='horizontal',\n",
    "    readout=True,\n",
    "    readout_format='d'\n",
    ")\n",
    "\n",
    "# set the minimum number of games played\n",
    "def set_min_games(min_games_slider):\n",
    "    # declare global variable\n",
    "    global min_games\n",
    "    # get value from slider\n",
    "    min_games = min_games_slider['new']\n",
    "\n",
    "# observe the slider widget to get the minimum number of games played\n",
    "min_games_slider.observe(set_min_games, names='value')\n",
    "\n",
    "# display the slider widget\n",
    "display(min_games_slider)"
   ]
  },
  {
   "cell_type": "markdown",
   "metadata": {},
   "source": [
    "> [!IMPORTANT]  \n",
    "> Re-run all cells from here after changing the minimum games"
   ]
  },
  {
   "cell_type": "code",
   "execution_count": 9,
   "metadata": {},
   "outputs": [
    {
     "name": "stdout",
     "output_type": "stream",
     "text": [
      "You chose 82 as the minimum number of games played.\n"
     ]
    }
   ],
   "source": [
    "print(\"You chose\", min_games, \"as the minimum number of games played.\")\n",
    "\n",
    "# create a new column for each relevant stat with the rank of the player's stat for their draft position, only using player with min_games\n",
    "for stat in relevant_stats:\n",
    "    if stat == 'DEF_RATING': # lower DEF_RATING is better\n",
    "        df_career_na_filled[stat + '_rank'] = df_career_na_filled[df_career_na_filled['G'] >= min_games][stat + '_diff'].rank(ascending=True, method='min')\n",
    "    else:\n",
    "        df_career_na_filled[stat + '_rank'] = df_career_na_filled[df_career_na_filled['G'] >= min_games][stat + '_diff'].rank(ascending=False, method='min')"
   ]
  },
  {
   "cell_type": "markdown",
   "metadata": {},
   "source": [
    "**Show Performance of Selected Player**"
   ]
  },
  {
   "cell_type": "code",
   "execution_count": 10,
   "metadata": {},
   "outputs": [
    {
     "data": {
      "application/vnd.jupyter.widget-view+json": {
       "model_id": "b11d90f51ef543a8ad331298f5c8439a",
       "version_major": 2,
       "version_minor": 0
      },
      "text/plain": [
       "Combobox(value='', description='Player:', ensure_option=True, options=('Allen Iverson', 'Marcus Camby', 'Share…"
      ]
     },
     "metadata": {},
     "output_type": "display_data"
    },
    {
     "data": {
      "application/vnd.jupyter.widget-view+json": {
       "model_id": "94acced9f13c44ea9d661e77695018a3",
       "version_major": 2,
       "version_minor": 0
      },
      "text/plain": [
       "Output()"
      ]
     },
     "metadata": {},
     "output_type": "display_data"
    }
   ],
   "source": [
    "# create a combobox widget with all 'Player' values\n",
    "player_widget = widgets.Combobox(\n",
    "    placeholder='Choose a Player',\n",
    "    options=df_career_na_filled['Player'].unique().tolist(),\n",
    "    description='Player:',\n",
    "    ensure_option=True,\n",
    "    disabled=False\n",
    ")\n",
    "\n",
    "# Define the output area to display additional information\n",
    "output_player_ranks = widgets.Output()\n",
    "\n",
    "# Function to update the output area based on the selected player\n",
    "def on_value_change_player_ranks(change):\n",
    "    output_player_ranks.clear_output()\n",
    "    selected_player = change['new']\n",
    "    with output_player_ranks:\n",
    "        # get player data\n",
    "        player_data = df_career_na_filled[df_career_na_filled['Player'] == selected_player]\n",
    "\n",
    "        # display player information\n",
    "        display(HTML(f\"<h3>Player: {player_data['Player'].values[0]}</h3>\"))\n",
    "        display(HTML(f\"<p>Year: {player_data['Season'].values[0]} Pick: {player_data['Pk'].values[0]} - Drafted by: {player_data['Tm'].values[0]}</p>\"))\n",
    "        display(HTML(f\"<p>Played {int(player_data['G'].values[0])} games in {int(player_data['Yrs'].values[0])} years</p>\"))\n",
    "        \n",
    "        # create a table with the player's ranks, total value and diff for each relevant stat\n",
    "        stats_table = [['Stat', 'Rank', 'Raw Stat', 'Difference to Average for Draft Position']]\n",
    "        for stat in relevant_stats:\n",
    "            stats_table.append([stat, int(player_data[stat + '_rank'].values[0]), round(player_data[stat].values[0], 2), round(player_data[stat + '_diff'].values[0], 2)])\n",
    "\n",
    "        # transpose the table\n",
    "        stats_table = list(map(list, zip(*stats_table)))\n",
    "            \n",
    "        display(HTML(tabulate(stats_table, tablefmt=\"html\")))\n",
    "\n",
    "# Observe changes in the value of the combobox and call the function\n",
    "player_widget.observe(on_value_change_player_ranks, names='value')\n",
    "\n",
    "# Display the widgets\n",
    "display(player_widget)\n",
    "display(output_player_ranks)"
   ]
  },
  {
   "cell_type": "code",
   "execution_count": 11,
   "metadata": {},
   "outputs": [
    {
     "data": {
      "application/vnd.jupyter.widget-view+json": {
       "model_id": "b77308e777aa4a94b68bae341126f8e9",
       "version_major": 2,
       "version_minor": 0
      },
      "text/plain": [
       "Combobox(value='', description='Player:', ensure_option=True, options=('Allen Iverson', 'Marcus Camby', 'Share…"
      ]
     },
     "metadata": {},
     "output_type": "display_data"
    },
    {
     "data": {
      "application/vnd.jupyter.widget-view+json": {
       "model_id": "484c84a217e04ef7be5384b303fca6e7",
       "version_major": 2,
       "version_minor": 0
      },
      "text/plain": [
       "Dropdown(description='Select Stat:', options=('PTS', 'TRB', 'AST', 'WS', 'WS/48', 'BPM', 'VORP', 'PIE', 'OFF_R…"
      ]
     },
     "metadata": {},
     "output_type": "display_data"
    },
    {
     "data": {
      "application/vnd.jupyter.widget-view+json": {
       "model_id": "a1eb9bed44b04c0c8b85de1140ac15a0",
       "version_major": 2,
       "version_minor": 0
      },
      "text/plain": [
       "Output()"
      ]
     },
     "metadata": {},
     "output_type": "display_data"
    }
   ],
   "source": [
    "# Filter players based on the minimum games played\n",
    "filtered_df = df_career_na_filled[df_career_na_filled['G'] >= min_games]\n",
    "\n",
    "# create a combobox widget with all 'Player' values\n",
    "player_widget_diff_scatter = widgets.Combobox(\n",
    "    placeholder='Choose a Player',\n",
    "    options=filtered_df['Player'].unique().tolist(),\n",
    "    description='Player:',\n",
    "    ensure_option=True,\n",
    "    disabled=False\n",
    ")\n",
    "\n",
    "# create a dropdown widget with all relevant stats\n",
    "stat_dropdown_diff_scatter = widgets.Dropdown(\n",
    "    options=relevant_stats,\n",
    "    description='Select Stat:',\n",
    "    disabled=False,\n",
    ")\n",
    "\n",
    "# Define the output area to display the scatter plot\n",
    "output_diff_scatter = widgets.Output()\n",
    "\n",
    "# Function to update the output area based on the selected stat\n",
    "def on_value_change_diff_scatter(change):\n",
    "    clear_output()\n",
    "    output_diff_scatter.clear_output()\n",
    "    selected_stat = stat_dropdown_diff_scatter.value\n",
    "    selected_player = player_widget_diff_scatter.value\n",
    "\n",
    "    display(player_widget_diff_scatter)\n",
    "    display(stat_dropdown_diff_scatter)\n",
    "    with output_diff_scatter:\n",
    "        fig = px.scatter(filtered_df, x='Pk', y=f'{selected_stat}_diff', hover_name='Player',\n",
    "                         hover_data={'Pk': True, f'{selected_stat}_diff': True, 'Player': False, selected_stat: True, f'{selected_stat}_rank': True})\n",
    "        if selected_player in filtered_df['Player'].values:\n",
    "            highlighted_player = filtered_df[filtered_df['Player'] == selected_player]\n",
    "            fig.add_trace(px.scatter(highlighted_player, x='Pk', y=f'{selected_stat}_diff', hover_name='Player',\n",
    "                                     hover_data={'Pk': True, f'{selected_stat}_diff': True, 'Player': False, selected_stat: True, f'{selected_stat}_rank': True},\n",
    "                                     color_discrete_sequence=['red']).data[0])\n",
    "        fig.update_traces(marker=dict(size=12), showlegend=False)\n",
    "        fig.update_layout(title=f'{selected_stat} Difference vs Draft Pick for Players with at least {min_games} Games Played',\n",
    "                          xaxis_title='Draft Pick', yaxis_title=f'{selected_stat} Difference')\n",
    "        fig.show()\n",
    "    \n",
    "# Observe changes in the value of the dropdown and call the function\n",
    "stat_dropdown_diff_scatter.observe(on_value_change_diff_scatter, names='value')\n",
    "player_widget_diff_scatter.observe(on_value_change_diff_scatter, names='value')\n",
    "\n",
    "# Display the dropdown and the output area\n",
    "display(player_widget_diff_scatter)\n",
    "display(stat_dropdown_diff_scatter)\n",
    "display(output_diff_scatter)"
   ]
  },
  {
   "cell_type": "code",
   "execution_count": 12,
   "metadata": {},
   "outputs": [
    {
     "data": {
      "application/vnd.jupyter.widget-view+json": {
       "model_id": "19a181c9d6ee407d9ba7f5681d6c4fdd",
       "version_major": 2,
       "version_minor": 0
      },
      "text/plain": [
       "Combobox(value='', description='Player:', ensure_option=True, options=('Allen Iverson', 'Marcus Camby', 'Share…"
      ]
     },
     "metadata": {},
     "output_type": "display_data"
    },
    {
     "data": {
      "application/vnd.jupyter.widget-view+json": {
       "model_id": "f9027ad5b9c24eb184b5dd02131ac6ed",
       "version_major": 2,
       "version_minor": 0
      },
      "text/plain": [
       "Dropdown(description='Select Stat:', options=('PTS', 'TRB', 'AST', 'WS', 'WS/48', 'BPM', 'VORP', 'PIE', 'OFF_R…"
      ]
     },
     "metadata": {},
     "output_type": "display_data"
    },
    {
     "data": {
      "application/vnd.jupyter.widget-view+json": {
       "model_id": "defe1f80295e47158f92a4a2090b65db",
       "version_major": 2,
       "version_minor": 0
      },
      "text/plain": [
       "Output()"
      ]
     },
     "metadata": {},
     "output_type": "display_data"
    }
   ],
   "source": [
    "# create a combobox widget with all 'Player' values\n",
    "player_widget_total_scatter = widgets.Combobox(\n",
    "    placeholder='Choose a Player',\n",
    "    options=filtered_df['Player'].unique().tolist(),\n",
    "    description='Player:',\n",
    "    ensure_option=True,\n",
    "    disabled=False\n",
    ")\n",
    "\n",
    "# create a dropdown widget with all relevant stats\n",
    "stat_dropdown_total_scatter = widgets.Dropdown(\n",
    "    options=relevant_stats,\n",
    "    description='Select Stat:',\n",
    "    disabled=False,\n",
    ")\n",
    "\n",
    "# Define the output area to display the scatter plot\n",
    "output_total_scatter = widgets.Output()\n",
    "\n",
    "# Function to update the output area based on the selected stat\n",
    "def on_value_change_total_scatter(change):\n",
    "    clear_output()\n",
    "    output_total_scatter.clear_output()\n",
    "    selected_stat = stat_dropdown_total_scatter.value\n",
    "    selected_player = player_widget_total_scatter.value\n",
    "\n",
    "    display(player_widget_total_scatter)\n",
    "    display(stat_dropdown_total_scatter)\n",
    "    with output_total_scatter:\n",
    "        fig = px.scatter(filtered_df, x='Pk', y=selected_stat, hover_name='Player',\n",
    "                         hover_data={'Pk': True, selected_stat: True, 'Player': False, f'{selected_stat}_diff': True, f'{selected_stat}_rank': True})\n",
    "        \n",
    "        # add a yellow dot for each average in the df_avg dataframe\n",
    "        fig.add_trace(px.scatter(df_avg, x='Pk', y=selected_stat, hover_name='Pk',\n",
    "                                 hover_data={'Pk': True, selected_stat: True}, \n",
    "                                 color_discrete_sequence=['yellow']).data[0])\n",
    "        \n",
    "        if selected_player in filtered_df['Player'].values:\n",
    "            highlighted_player = filtered_df[filtered_df['Player'] == selected_player]\n",
    "            fig.add_trace(px.scatter(highlighted_player, x='Pk', y=selected_stat, hover_name='Player',\n",
    "                                    hover_data={'Pk': True, selected_stat: True, 'Player': False, f'{selected_stat}_diff': True, f'{selected_stat}_rank': True},\n",
    "                                    color_discrete_sequence=['red']).data[0])\n",
    "        fig.update_traces(marker=dict(size=12), showlegend=False)\n",
    "        fig.update_layout(title=f'{selected_stat} vs Draft Pick for Players with at least {min_games} Games Played',\n",
    "                          xaxis_title='Draft Pick', yaxis_title=selected_stat)\n",
    "        fig.show()\n",
    "    \n",
    "# Observe changes in the value of the dropdown and call the function\n",
    "stat_dropdown_total_scatter.observe(on_value_change_total_scatter, names='value')\n",
    "player_widget_total_scatter.observe(on_value_change_total_scatter, names='value')\n",
    "\n",
    "# Display the dropdown and the output area\n",
    "display(player_widget_total_scatter)\n",
    "display(stat_dropdown_total_scatter)\n",
    "display(output_total_scatter)"
   ]
  },
  {
   "cell_type": "markdown",
   "metadata": {},
   "source": [
    "# Analysis by Team over Seasons"
   ]
  },
  {
   "cell_type": "code",
   "execution_count": 13,
   "metadata": {},
   "outputs": [],
   "source": [
    "# function to replace outdated abbreviations with the current ones\n",
    "def clean_team_names(df):\n",
    "    team_dict = {'CHH': 'CHO', 'CHA': 'CHO', 'NJN': 'BRK', 'NOH': 'NOP', 'NOK': 'NOP', 'SEA': 'OKC', 'VAN': 'MEM', 'WSB': 'WAS'}\n",
    "    df['Tm'] = df['Tm'].replace(team_dict)\n",
    "    return df"
   ]
  },
  {
   "cell_type": "code",
   "execution_count": 14,
   "metadata": {},
   "outputs": [],
   "source": [
    "# TODO: give option to weight by minutes played\n",
    "\n",
    "# group the df_career_na_filled by team and season and calculate the average\n",
    "df_team_avg_by_season = clean_team_names(df_career_na_filled).groupby(['Tm', 'Season']).mean(numeric_only=True)\n",
    "df_team_avg_by_season = df_team_avg_by_season.reset_index()"
   ]
  },
  {
   "cell_type": "code",
   "execution_count": 15,
   "metadata": {},
   "outputs": [
    {
     "data": {
      "application/vnd.jupyter.widget-view+json": {
       "model_id": "75d8717a784041f6b6acfe2f4ee3e9d3",
       "version_major": 2,
       "version_minor": 0
      },
      "text/plain": [
       "Dropdown(description='Select Stat:', options=('PTS', 'TRB', 'AST', 'WS', 'WS/48', 'BPM', 'VORP', 'PIE', 'OFF_R…"
      ]
     },
     "metadata": {},
     "output_type": "display_data"
    },
    {
     "data": {
      "application/vnd.jupyter.widget-view+json": {
       "model_id": "f9558e72bdc74e949360e683b427fc90",
       "version_major": 2,
       "version_minor": 0
      },
      "text/plain": [
       "Dropdown(description='Select Team:', index=1, options=('ATL', 'BOS', 'BRK', 'CHI', 'CHO', 'CLE', 'DAL', 'DEN',…"
      ]
     },
     "metadata": {},
     "output_type": "display_data"
    },
    {
     "data": {
      "application/vnd.jupyter.widget-view+json": {
       "model_id": "403f4758df6b469a86c9038f46537a2f",
       "version_major": 2,
       "version_minor": 0
      },
      "text/plain": [
       "Checkbox(value=True, description='Show Players selected by Team', indent=False)"
      ]
     },
     "metadata": {},
     "output_type": "display_data"
    }
   ],
   "source": [
    "# create a scatter plot with the average of each team for each season. The seasons should be the x axis and the selected relevant stat differences should be the y axis\n",
    "def create_team_scatter(selected_stat, selected_team, show_players):\n",
    "    fig = px.scatter(df_team_avg_by_season, x='Season', y=f'{selected_stat}_diff', hover_name='Tm',\n",
    "                     hover_data={'Tm': True, selected_stat: True, f'{selected_stat}_diff': True})\n",
    "    \n",
    "    # add a red dot for all stats of the selected team\n",
    "    fig.add_trace(px.scatter(df_team_avg_by_season[df_team_avg_by_season['Tm'] == selected_team], x='Season', y=f'{selected_stat}_diff', hover_name='Tm',\n",
    "                                hover_data={'Tm': True, selected_stat: True, f'{selected_stat}_diff': True},\n",
    "                                color_discrete_sequence=['red']).data[0])\n",
    "    \n",
    "    if show_players:\n",
    "        # add a yellow dot for each player of the selected team\n",
    "        fig.add_trace(px.scatter(df_career_na_filled[df_career_na_filled['Tm'] == selected_team], x='Season', y=f'{selected_stat}_diff', hover_name='Player',\n",
    "                                    hover_data={'Player': True, selected_stat: True, f'{selected_stat}_diff': True},\n",
    "                                    color_discrete_sequence=['yellow']).data[0])\n",
    "\n",
    "    fig.update_traces(marker=dict(size=12), showlegend=False)\n",
    "    fig.update_layout(title=f'{selected_stat} Difference vs Season for Teams',\n",
    "                      xaxis_title='Season', yaxis_title=f'{selected_stat} Difference')\n",
    "    fig.show()\n",
    "\n",
    "# create a dropdown widget with all relevant stats\n",
    "stat_dropdown_team_scatter = widgets.Dropdown(\n",
    "    options=relevant_stats,\n",
    "    description='Select Stat:',\n",
    "    disabled=False,\n",
    ")\n",
    "\n",
    "# create a dropdown widget with all teams\n",
    "team_dropdown_team_scatter = widgets.Dropdown(\n",
    "    options=df_team_avg_by_season['Tm'].unique().tolist(),\n",
    "    description='Select Team:',\n",
    "    disabled=False,\n",
    ")\n",
    "\n",
    "# create a checkbox widget to toggle between showing players or not\n",
    "player_checkbox_team_scatter = widgets.Checkbox(\n",
    "    value=True,\n",
    "    description='Show Players selected by Team',\n",
    "    disabled=False,\n",
    "    indent=False\n",
    ")\n",
    "\n",
    "# Define the output area to display the scatter plot\n",
    "output_team_scatter = widgets.Output()\n",
    "\n",
    "# Observe changes in the value of the dropdown and call the function\n",
    "def on_value_change_team_scatter(change):\n",
    "    clear_output()\n",
    "    output_team_scatter.clear_output()\n",
    "    selected_stat = stat_dropdown_team_scatter.value\n",
    "    selected_team = team_dropdown_team_scatter.value\n",
    "    show_players = player_checkbox_team_scatter.value\n",
    "\n",
    "    display(stat_dropdown_team_scatter)\n",
    "    display(team_dropdown_team_scatter)\n",
    "    display(player_checkbox_team_scatter)\n",
    "    with output_team_scatter:\n",
    "        create_team_scatter(selected_stat, selected_team, show_players)\n",
    "\n",
    "stat_dropdown_team_scatter.observe(on_value_change_team_scatter, names='value')\n",
    "team_dropdown_team_scatter.observe(on_value_change_team_scatter, names='value')\n",
    "player_checkbox_team_scatter.observe(on_value_change_team_scatter, names='value')\n",
    "\n",
    "# Display the dropdown and the output area\n",
    "display(stat_dropdown_team_scatter)\n",
    "display(team_dropdown_team_scatter)\n",
    "display(player_checkbox_team_scatter)\n",
    "display(output_team_scatter)"
   ]
  },
  {
   "cell_type": "markdown",
   "metadata": {},
   "source": [
    "# Analysis by Team"
   ]
  },
  {
   "cell_type": "markdown",
   "metadata": {},
   "source": [
    "Be aware that the minimum games restriction does not apply to this section."
   ]
  },
  {
   "cell_type": "code",
   "execution_count": 30,
   "metadata": {},
   "outputs": [
    {
     "data": {
      "text/html": [
       "<div>\n",
       "<style scoped>\n",
       "    .dataframe tbody tr th:only-of-type {\n",
       "        vertical-align: middle;\n",
       "    }\n",
       "\n",
       "    .dataframe tbody tr th {\n",
       "        vertical-align: top;\n",
       "    }\n",
       "\n",
       "    .dataframe thead th {\n",
       "        text-align: right;\n",
       "    }\n",
       "</style>\n",
       "<table border=\"1\" class=\"dataframe\">\n",
       "  <thead>\n",
       "    <tr style=\"text-align: right;\">\n",
       "      <th></th>\n",
       "      <th>Tm</th>\n",
       "      <th>Season</th>\n",
       "      <th>Pk</th>\n",
       "      <th>Yrs</th>\n",
       "      <th>G</th>\n",
       "      <th>MP</th>\n",
       "      <th>PTS</th>\n",
       "      <th>TRB</th>\n",
       "      <th>AST</th>\n",
       "      <th>FG%</th>\n",
       "      <th>...</th>\n",
       "      <th>TRB_rank</th>\n",
       "      <th>AST_rank</th>\n",
       "      <th>WS_rank</th>\n",
       "      <th>WS/48_rank</th>\n",
       "      <th>BPM_rank</th>\n",
       "      <th>VORP_rank</th>\n",
       "      <th>PIE_rank</th>\n",
       "      <th>OFF_RATING_rank</th>\n",
       "      <th>DEF_RATING_rank</th>\n",
       "      <th>NET_RATING_rank</th>\n",
       "    </tr>\n",
       "  </thead>\n",
       "  <tbody>\n",
       "    <tr>\n",
       "      <th>0</th>\n",
       "      <td>ATL</td>\n",
       "      <td>2009.261538</td>\n",
       "      <td>29.907692</td>\n",
       "      <td>5.625000</td>\n",
       "      <td>314.803571</td>\n",
       "      <td>7577.267857</td>\n",
       "      <td>2774.107692</td>\n",
       "      <td>1146.446154</td>\n",
       "      <td>656.692308</td>\n",
       "      <td>0.436982</td>\n",
       "      <td>...</td>\n",
       "      <td>548.536585</td>\n",
       "      <td>519.512195</td>\n",
       "      <td>537.829268</td>\n",
       "      <td>531.634146</td>\n",
       "      <td>527.658537</td>\n",
       "      <td>503.121951</td>\n",
       "      <td>505.219512</td>\n",
       "      <td>516.390244</td>\n",
       "      <td>539.731707</td>\n",
       "      <td>561.317073</td>\n",
       "    </tr>\n",
       "    <tr>\n",
       "      <th>1</th>\n",
       "      <td>BOS</td>\n",
       "      <td>2010.184615</td>\n",
       "      <td>30.030769</td>\n",
       "      <td>5.864407</td>\n",
       "      <td>318.033898</td>\n",
       "      <td>8091.542373</td>\n",
       "      <td>3318.892308</td>\n",
       "      <td>1130.384615</td>\n",
       "      <td>661.446154</td>\n",
       "      <td>0.439897</td>\n",
       "      <td>...</td>\n",
       "      <td>531.076923</td>\n",
       "      <td>487.333333</td>\n",
       "      <td>495.666667</td>\n",
       "      <td>491.051282</td>\n",
       "      <td>477.435897</td>\n",
       "      <td>484.487179</td>\n",
       "      <td>525.000000</td>\n",
       "      <td>487.743590</td>\n",
       "      <td>431.871795</td>\n",
       "      <td>427.692308</td>\n",
       "    </tr>\n",
       "    <tr>\n",
       "      <th>2</th>\n",
       "      <td>BRK</td>\n",
       "      <td>2009.918367</td>\n",
       "      <td>30.714286</td>\n",
       "      <td>5.466667</td>\n",
       "      <td>292.444444</td>\n",
       "      <td>6881.377778</td>\n",
       "      <td>2616.551020</td>\n",
       "      <td>1224.040816</td>\n",
       "      <td>406.346939</td>\n",
       "      <td>0.450523</td>\n",
       "      <td>...</td>\n",
       "      <td>499.781250</td>\n",
       "      <td>584.187500</td>\n",
       "      <td>523.843750</td>\n",
       "      <td>524.125000</td>\n",
       "      <td>512.750000</td>\n",
       "      <td>523.125000</td>\n",
       "      <td>520.687500</td>\n",
       "      <td>494.531250</td>\n",
       "      <td>512.187500</td>\n",
       "      <td>497.156250</td>\n",
       "    </tr>\n",
       "    <tr>\n",
       "      <th>3</th>\n",
       "      <td>CHI</td>\n",
       "      <td>2007.229508</td>\n",
       "      <td>27.229508</td>\n",
       "      <td>6.568966</td>\n",
       "      <td>354.275862</td>\n",
       "      <td>8547.473684</td>\n",
       "      <td>3303.852459</td>\n",
       "      <td>1465.967213</td>\n",
       "      <td>676.442623</td>\n",
       "      <td>0.438982</td>\n",
       "      <td>...</td>\n",
       "      <td>490.800000</td>\n",
       "      <td>496.688889</td>\n",
       "      <td>519.088889</td>\n",
       "      <td>545.755556</td>\n",
       "      <td>572.000000</td>\n",
       "      <td>533.066667</td>\n",
       "      <td>580.777778</td>\n",
       "      <td>571.111111</td>\n",
       "      <td>454.133333</td>\n",
       "      <td>566.711111</td>\n",
       "    </tr>\n",
       "    <tr>\n",
       "      <th>4</th>\n",
       "      <td>CHO</td>\n",
       "      <td>2010.823529</td>\n",
       "      <td>25.372549</td>\n",
       "      <td>6.702128</td>\n",
       "      <td>376.021277</td>\n",
       "      <td>9200.000000</td>\n",
       "      <td>3873.156863</td>\n",
       "      <td>1410.666667</td>\n",
       "      <td>879.666667</td>\n",
       "      <td>0.463911</td>\n",
       "      <td>...</td>\n",
       "      <td>527.722222</td>\n",
       "      <td>492.416667</td>\n",
       "      <td>503.416667</td>\n",
       "      <td>491.777778</td>\n",
       "      <td>482.555556</td>\n",
       "      <td>548.833333</td>\n",
       "      <td>461.527778</td>\n",
       "      <td>534.972222</td>\n",
       "      <td>472.611111</td>\n",
       "      <td>515.611111</td>\n",
       "    </tr>\n",
       "    <tr>\n",
       "      <th>5</th>\n",
       "      <td>CLE</td>\n",
       "      <td>2008.440000</td>\n",
       "      <td>24.520000</td>\n",
       "      <td>7.266667</td>\n",
       "      <td>415.244444</td>\n",
       "      <td>10926.222222</td>\n",
       "      <td>4487.340000</td>\n",
       "      <td>1615.640000</td>\n",
       "      <td>1076.140000</td>\n",
       "      <td>0.428556</td>\n",
       "      <td>...</td>\n",
       "      <td>534.027778</td>\n",
       "      <td>506.638889</td>\n",
       "      <td>507.166667</td>\n",
       "      <td>543.444444</td>\n",
       "      <td>535.138889</td>\n",
       "      <td>530.250000</td>\n",
       "      <td>583.194444</td>\n",
       "      <td>556.888889</td>\n",
       "      <td>452.305556</td>\n",
       "      <td>508.833333</td>\n",
       "    </tr>\n",
       "    <tr>\n",
       "      <th>6</th>\n",
       "      <td>DAL</td>\n",
       "      <td>2007.065217</td>\n",
       "      <td>36.869565</td>\n",
       "      <td>5.121212</td>\n",
       "      <td>234.030303</td>\n",
       "      <td>4523.242424</td>\n",
       "      <td>1362.347826</td>\n",
       "      <td>611.891304</td>\n",
       "      <td>285.326087</td>\n",
       "      <td>0.425812</td>\n",
       "      <td>...</td>\n",
       "      <td>579.217391</td>\n",
       "      <td>587.434783</td>\n",
       "      <td>582.478261</td>\n",
       "      <td>501.652174</td>\n",
       "      <td>528.478261</td>\n",
       "      <td>566.217391</td>\n",
       "      <td>523.043478</td>\n",
       "      <td>554.869565</td>\n",
       "      <td>421.434783</td>\n",
       "      <td>495.652174</td>\n",
       "    </tr>\n",
       "    <tr>\n",
       "      <th>7</th>\n",
       "      <td>DEN</td>\n",
       "      <td>2007.980000</td>\n",
       "      <td>31.560000</td>\n",
       "      <td>6.069767</td>\n",
       "      <td>333.325581</td>\n",
       "      <td>8211.139535</td>\n",
       "      <td>3196.560000</td>\n",
       "      <td>1251.020000</td>\n",
       "      <td>705.200000</td>\n",
       "      <td>0.443884</td>\n",
       "      <td>...</td>\n",
       "      <td>469.241379</td>\n",
       "      <td>440.172414</td>\n",
       "      <td>433.482759</td>\n",
       "      <td>437.137931</td>\n",
       "      <td>441.344828</td>\n",
       "      <td>464.275862</td>\n",
       "      <td>444.793103</td>\n",
       "      <td>410.241379</td>\n",
       "      <td>556.206897</td>\n",
       "      <td>437.689655</td>\n",
       "    </tr>\n",
       "    <tr>\n",
       "      <th>8</th>\n",
       "      <td>DET</td>\n",
       "      <td>2009.472727</td>\n",
       "      <td>31.909091</td>\n",
       "      <td>6.020408</td>\n",
       "      <td>328.714286</td>\n",
       "      <td>7692.306122</td>\n",
       "      <td>2751.981818</td>\n",
       "      <td>1297.963636</td>\n",
       "      <td>537.981818</td>\n",
       "      <td>0.429041</td>\n",
       "      <td>...</td>\n",
       "      <td>472.971429</td>\n",
       "      <td>491.914286</td>\n",
       "      <td>470.342857</td>\n",
       "      <td>529.314286</td>\n",
       "      <td>508.714286</td>\n",
       "      <td>479.114286</td>\n",
       "      <td>506.742857</td>\n",
       "      <td>529.628571</td>\n",
       "      <td>479.628571</td>\n",
       "      <td>527.485714</td>\n",
       "    </tr>\n",
       "    <tr>\n",
       "      <th>9</th>\n",
       "      <td>GSW</td>\n",
       "      <td>2008.875000</td>\n",
       "      <td>27.979167</td>\n",
       "      <td>6.395349</td>\n",
       "      <td>368.093023</td>\n",
       "      <td>9373.372093</td>\n",
       "      <td>3877.020833</td>\n",
       "      <td>1466.062500</td>\n",
       "      <td>777.916667</td>\n",
       "      <td>0.460093</td>\n",
       "      <td>...</td>\n",
       "      <td>447.733333</td>\n",
       "      <td>512.533333</td>\n",
       "      <td>450.300000</td>\n",
       "      <td>461.433333</td>\n",
       "      <td>513.400000</td>\n",
       "      <td>490.966667</td>\n",
       "      <td>522.466667</td>\n",
       "      <td>515.566667</td>\n",
       "      <td>475.833333</td>\n",
       "      <td>501.433333</td>\n",
       "    </tr>\n",
       "    <tr>\n",
       "      <th>10</th>\n",
       "      <td>HOU</td>\n",
       "      <td>2007.352941</td>\n",
       "      <td>27.980392</td>\n",
       "      <td>6.909091</td>\n",
       "      <td>375.613636</td>\n",
       "      <td>9111.863636</td>\n",
       "      <td>3252.058824</td>\n",
       "      <td>1431.313725</td>\n",
       "      <td>544.235294</td>\n",
       "      <td>0.441372</td>\n",
       "      <td>...</td>\n",
       "      <td>445.257143</td>\n",
       "      <td>491.314286</td>\n",
       "      <td>450.371429</td>\n",
       "      <td>488.314286</td>\n",
       "      <td>475.885714</td>\n",
       "      <td>466.628571</td>\n",
       "      <td>489.742857</td>\n",
       "      <td>472.028571</td>\n",
       "      <td>510.600000</td>\n",
       "      <td>463.085714</td>\n",
       "    </tr>\n",
       "    <tr>\n",
       "      <th>11</th>\n",
       "      <td>IND</td>\n",
       "      <td>2010.413043</td>\n",
       "      <td>34.152174</td>\n",
       "      <td>6.250000</td>\n",
       "      <td>319.550000</td>\n",
       "      <td>7034.200000</td>\n",
       "      <td>2653.391304</td>\n",
       "      <td>1121.652174</td>\n",
       "      <td>457.869565</td>\n",
       "      <td>0.447025</td>\n",
       "      <td>...</td>\n",
       "      <td>465.533333</td>\n",
       "      <td>477.766667</td>\n",
       "      <td>460.933333</td>\n",
       "      <td>441.133333</td>\n",
       "      <td>463.433333</td>\n",
       "      <td>473.000000</td>\n",
       "      <td>496.866667</td>\n",
       "      <td>473.800000</td>\n",
       "      <td>451.600000</td>\n",
       "      <td>453.466667</td>\n",
       "    </tr>\n",
       "    <tr>\n",
       "      <th>12</th>\n",
       "      <td>LAC</td>\n",
       "      <td>2007.325581</td>\n",
       "      <td>25.627907</td>\n",
       "      <td>6.894737</td>\n",
       "      <td>381.052632</td>\n",
       "      <td>9491.368421</td>\n",
       "      <td>3197.279070</td>\n",
       "      <td>1891.186047</td>\n",
       "      <td>564.767442</td>\n",
       "      <td>0.447079</td>\n",
       "      <td>...</td>\n",
       "      <td>444.769231</td>\n",
       "      <td>527.730769</td>\n",
       "      <td>508.807692</td>\n",
       "      <td>621.730769</td>\n",
       "      <td>609.730769</td>\n",
       "      <td>557.923077</td>\n",
       "      <td>615.038462</td>\n",
       "      <td>622.692308</td>\n",
       "      <td>469.807692</td>\n",
       "      <td>598.807692</td>\n",
       "    </tr>\n",
       "    <tr>\n",
       "      <th>13</th>\n",
       "      <td>LAL</td>\n",
       "      <td>2008.604167</td>\n",
       "      <td>34.229167</td>\n",
       "      <td>5.837209</td>\n",
       "      <td>304.325581</td>\n",
       "      <td>6699.093023</td>\n",
       "      <td>2416.375000</td>\n",
       "      <td>1080.333333</td>\n",
       "      <td>597.666667</td>\n",
       "      <td>0.433814</td>\n",
       "      <td>...</td>\n",
       "      <td>480.066667</td>\n",
       "      <td>438.666667</td>\n",
       "      <td>493.166667</td>\n",
       "      <td>461.000000</td>\n",
       "      <td>421.366667</td>\n",
       "      <td>458.166667</td>\n",
       "      <td>462.933333</td>\n",
       "      <td>398.400000</td>\n",
       "      <td>544.500000</td>\n",
       "      <td>424.233333</td>\n",
       "    </tr>\n",
       "    <tr>\n",
       "      <th>14</th>\n",
       "      <td>MEM</td>\n",
       "      <td>2007.840000</td>\n",
       "      <td>27.460000</td>\n",
       "      <td>6.333333</td>\n",
       "      <td>358.044444</td>\n",
       "      <td>9112.800000</td>\n",
       "      <td>3438.140000</td>\n",
       "      <td>1394.940000</td>\n",
       "      <td>923.400000</td>\n",
       "      <td>0.425889</td>\n",
       "      <td>...</td>\n",
       "      <td>529.129032</td>\n",
       "      <td>464.903226</td>\n",
       "      <td>492.483871</td>\n",
       "      <td>541.161290</td>\n",
       "      <td>574.387097</td>\n",
       "      <td>484.516129</td>\n",
       "      <td>554.387097</td>\n",
       "      <td>588.645161</td>\n",
       "      <td>470.935484</td>\n",
       "      <td>538.709677</td>\n",
       "    </tr>\n",
       "    <tr>\n",
       "      <th>15</th>\n",
       "      <td>MIA</td>\n",
       "      <td>2007.675676</td>\n",
       "      <td>34.027027</td>\n",
       "      <td>5.645161</td>\n",
       "      <td>299.290323</td>\n",
       "      <td>7216.516129</td>\n",
       "      <td>2837.054054</td>\n",
       "      <td>945.351351</td>\n",
       "      <td>506.189189</td>\n",
       "      <td>0.424613</td>\n",
       "      <td>...</td>\n",
       "      <td>423.578947</td>\n",
       "      <td>432.842105</td>\n",
       "      <td>456.789474</td>\n",
       "      <td>451.947368</td>\n",
       "      <td>453.368421</td>\n",
       "      <td>421.052632</td>\n",
       "      <td>400.578947</td>\n",
       "      <td>454.578947</td>\n",
       "      <td>495.105263</td>\n",
       "      <td>452.105263</td>\n",
       "    </tr>\n",
       "    <tr>\n",
       "      <th>16</th>\n",
       "      <td>MIL</td>\n",
       "      <td>2008.160714</td>\n",
       "      <td>29.946429</td>\n",
       "      <td>6.480769</td>\n",
       "      <td>339.576923</td>\n",
       "      <td>8172.403846</td>\n",
       "      <td>3432.928571</td>\n",
       "      <td>1321.892857</td>\n",
       "      <td>770.250000</td>\n",
       "      <td>0.421885</td>\n",
       "      <td>...</td>\n",
       "      <td>506.525000</td>\n",
       "      <td>480.550000</td>\n",
       "      <td>507.950000</td>\n",
       "      <td>483.725000</td>\n",
       "      <td>498.175000</td>\n",
       "      <td>497.525000</td>\n",
       "      <td>474.900000</td>\n",
       "      <td>507.700000</td>\n",
       "      <td>464.350000</td>\n",
       "      <td>483.925000</td>\n",
       "    </tr>\n",
       "    <tr>\n",
       "      <th>17</th>\n",
       "      <td>MIN</td>\n",
       "      <td>2009.746032</td>\n",
       "      <td>29.746032</td>\n",
       "      <td>5.634615</td>\n",
       "      <td>311.634615</td>\n",
       "      <td>7615.730769</td>\n",
       "      <td>2755.698413</td>\n",
       "      <td>954.968254</td>\n",
       "      <td>606.793651</td>\n",
       "      <td>0.441904</td>\n",
       "      <td>...</td>\n",
       "      <td>565.125000</td>\n",
       "      <td>530.975000</td>\n",
       "      <td>548.650000</td>\n",
       "      <td>516.250000</td>\n",
       "      <td>483.250000</td>\n",
       "      <td>506.800000</td>\n",
       "      <td>520.275000</td>\n",
       "      <td>474.225000</td>\n",
       "      <td>536.700000</td>\n",
       "      <td>500.050000</td>\n",
       "    </tr>\n",
       "    <tr>\n",
       "      <th>18</th>\n",
       "      <td>NOP</td>\n",
       "      <td>2013.625000</td>\n",
       "      <td>30.550000</td>\n",
       "      <td>5.588235</td>\n",
       "      <td>299.764706</td>\n",
       "      <td>7329.823529</td>\n",
       "      <td>2888.550000</td>\n",
       "      <td>1065.775000</td>\n",
       "      <td>703.000000</td>\n",
       "      <td>0.450294</td>\n",
       "      <td>...</td>\n",
       "      <td>516.428571</td>\n",
       "      <td>534.238095</td>\n",
       "      <td>510.285714</td>\n",
       "      <td>445.904762</td>\n",
       "      <td>445.285714</td>\n",
       "      <td>493.904762</td>\n",
       "      <td>472.666667</td>\n",
       "      <td>426.190476</td>\n",
       "      <td>602.857143</td>\n",
       "      <td>481.047619</td>\n",
       "    </tr>\n",
       "    <tr>\n",
       "      <th>19</th>\n",
       "      <td>NYK</td>\n",
       "      <td>2009.000000</td>\n",
       "      <td>28.428571</td>\n",
       "      <td>5.604651</td>\n",
       "      <td>282.418605</td>\n",
       "      <td>6475.279070</td>\n",
       "      <td>2354.591837</td>\n",
       "      <td>1113.979592</td>\n",
       "      <td>363.000000</td>\n",
       "      <td>0.437429</td>\n",
       "      <td>...</td>\n",
       "      <td>495.392857</td>\n",
       "      <td>563.571429</td>\n",
       "      <td>527.607143</td>\n",
       "      <td>472.857143</td>\n",
       "      <td>493.892857</td>\n",
       "      <td>511.750000</td>\n",
       "      <td>496.928571</td>\n",
       "      <td>476.357143</td>\n",
       "      <td>515.571429</td>\n",
       "      <td>481.428571</td>\n",
       "    </tr>\n",
       "    <tr>\n",
       "      <th>20</th>\n",
       "      <td>OKC</td>\n",
       "      <td>2008.571429</td>\n",
       "      <td>31.100000</td>\n",
       "      <td>6.285714</td>\n",
       "      <td>362.142857</td>\n",
       "      <td>8958.982143</td>\n",
       "      <td>3368.742857</td>\n",
       "      <td>1269.528571</td>\n",
       "      <td>775.800000</td>\n",
       "      <td>0.445946</td>\n",
       "      <td>...</td>\n",
       "      <td>427.634146</td>\n",
       "      <td>411.804878</td>\n",
       "      <td>422.121951</td>\n",
       "      <td>436.048780</td>\n",
       "      <td>418.878049</td>\n",
       "      <td>439.073171</td>\n",
       "      <td>429.609756</td>\n",
       "      <td>436.609756</td>\n",
       "      <td>495.097561</td>\n",
       "      <td>410.829268</td>\n",
       "    </tr>\n",
       "    <tr>\n",
       "      <th>21</th>\n",
       "      <td>ORL</td>\n",
       "      <td>2009.000000</td>\n",
       "      <td>26.275862</td>\n",
       "      <td>5.519231</td>\n",
       "      <td>293.615385</td>\n",
       "      <td>6648.846154</td>\n",
       "      <td>2451.344828</td>\n",
       "      <td>1248.620690</td>\n",
       "      <td>449.931034</td>\n",
       "      <td>0.435078</td>\n",
       "      <td>...</td>\n",
       "      <td>559.684211</td>\n",
       "      <td>571.473684</td>\n",
       "      <td>574.526316</td>\n",
       "      <td>539.657895</td>\n",
       "      <td>524.947368</td>\n",
       "      <td>555.842105</td>\n",
       "      <td>529.184211</td>\n",
       "      <td>565.526316</td>\n",
       "      <td>494.000000</td>\n",
       "      <td>570.131579</td>\n",
       "    </tr>\n",
       "    <tr>\n",
       "      <th>22</th>\n",
       "      <td>PHI</td>\n",
       "      <td>2010.935897</td>\n",
       "      <td>32.705128</td>\n",
       "      <td>5.712121</td>\n",
       "      <td>308.484848</td>\n",
       "      <td>7651.863636</td>\n",
       "      <td>2884.910256</td>\n",
       "      <td>1172.384615</td>\n",
       "      <td>669.064103</td>\n",
       "      <td>0.437833</td>\n",
       "      <td>...</td>\n",
       "      <td>479.244444</td>\n",
       "      <td>476.422222</td>\n",
       "      <td>487.822222</td>\n",
       "      <td>453.022222</td>\n",
       "      <td>443.022222</td>\n",
       "      <td>473.555556</td>\n",
       "      <td>421.088889</td>\n",
       "      <td>445.022222</td>\n",
       "      <td>520.333333</td>\n",
       "      <td>450.600000</td>\n",
       "    </tr>\n",
       "    <tr>\n",
       "      <th>23</th>\n",
       "      <td>PHO</td>\n",
       "      <td>2010.117647</td>\n",
       "      <td>28.294118</td>\n",
       "      <td>6.043478</td>\n",
       "      <td>330.391304</td>\n",
       "      <td>8421.304348</td>\n",
       "      <td>3392.000000</td>\n",
       "      <td>1398.431373</td>\n",
       "      <td>823.098039</td>\n",
       "      <td>0.440273</td>\n",
       "      <td>...</td>\n",
       "      <td>539.787879</td>\n",
       "      <td>533.727273</td>\n",
       "      <td>545.090909</td>\n",
       "      <td>564.121212</td>\n",
       "      <td>566.818182</td>\n",
       "      <td>534.878788</td>\n",
       "      <td>540.151515</td>\n",
       "      <td>503.000000</td>\n",
       "      <td>575.757576</td>\n",
       "      <td>560.818182</td>\n",
       "    </tr>\n",
       "    <tr>\n",
       "      <th>24</th>\n",
       "      <td>POR</td>\n",
       "      <td>2008.586207</td>\n",
       "      <td>31.206897</td>\n",
       "      <td>5.500000</td>\n",
       "      <td>283.000000</td>\n",
       "      <td>6335.480000</td>\n",
       "      <td>2400.724138</td>\n",
       "      <td>1006.810345</td>\n",
       "      <td>455.931034</td>\n",
       "      <td>0.428460</td>\n",
       "      <td>...</td>\n",
       "      <td>526.939394</td>\n",
       "      <td>545.454545</td>\n",
       "      <td>544.242424</td>\n",
       "      <td>507.484848</td>\n",
       "      <td>589.424242</td>\n",
       "      <td>543.787879</td>\n",
       "      <td>518.060606</td>\n",
       "      <td>530.090909</td>\n",
       "      <td>527.909091</td>\n",
       "      <td>583.333333</td>\n",
       "    </tr>\n",
       "    <tr>\n",
       "      <th>25</th>\n",
       "      <td>SAC</td>\n",
       "      <td>2010.150943</td>\n",
       "      <td>27.792453</td>\n",
       "      <td>6.102041</td>\n",
       "      <td>333.979592</td>\n",
       "      <td>7976.326531</td>\n",
       "      <td>3244.339623</td>\n",
       "      <td>1320.528302</td>\n",
       "      <td>685.716981</td>\n",
       "      <td>0.442708</td>\n",
       "      <td>...</td>\n",
       "      <td>526.810811</td>\n",
       "      <td>495.594595</td>\n",
       "      <td>536.837838</td>\n",
       "      <td>521.351351</td>\n",
       "      <td>499.432432</td>\n",
       "      <td>511.027027</td>\n",
       "      <td>488.135135</td>\n",
       "      <td>527.837838</td>\n",
       "      <td>582.108108</td>\n",
       "      <td>583.027027</td>\n",
       "    </tr>\n",
       "    <tr>\n",
       "      <th>26</th>\n",
       "      <td>SAS</td>\n",
       "      <td>2010.053571</td>\n",
       "      <td>39.071429</td>\n",
       "      <td>6.350000</td>\n",
       "      <td>369.125000</td>\n",
       "      <td>8957.050000</td>\n",
       "      <td>2878.428571</td>\n",
       "      <td>1070.428571</td>\n",
       "      <td>759.232143</td>\n",
       "      <td>0.454375</td>\n",
       "      <td>...</td>\n",
       "      <td>337.384615</td>\n",
       "      <td>309.192308</td>\n",
       "      <td>321.000000</td>\n",
       "      <td>330.269231</td>\n",
       "      <td>286.307692</td>\n",
       "      <td>318.230769</td>\n",
       "      <td>282.461538</td>\n",
       "      <td>293.269231</td>\n",
       "      <td>472.500000</td>\n",
       "      <td>317.269231</td>\n",
       "    </tr>\n",
       "    <tr>\n",
       "      <th>27</th>\n",
       "      <td>TOR</td>\n",
       "      <td>2008.714286</td>\n",
       "      <td>26.595238</td>\n",
       "      <td>7.142857</td>\n",
       "      <td>419.857143</td>\n",
       "      <td>11075.342857</td>\n",
       "      <td>4204.619048</td>\n",
       "      <td>1949.071429</td>\n",
       "      <td>651.357143</td>\n",
       "      <td>0.468971</td>\n",
       "      <td>...</td>\n",
       "      <td>452.428571</td>\n",
       "      <td>597.071429</td>\n",
       "      <td>463.750000</td>\n",
       "      <td>523.285714</td>\n",
       "      <td>521.500000</td>\n",
       "      <td>474.964286</td>\n",
       "      <td>520.428571</td>\n",
       "      <td>534.678571</td>\n",
       "      <td>533.250000</td>\n",
       "      <td>528.642857</td>\n",
       "    </tr>\n",
       "    <tr>\n",
       "      <th>28</th>\n",
       "      <td>UTA</td>\n",
       "      <td>2008.539683</td>\n",
       "      <td>33.571429</td>\n",
       "      <td>6.472727</td>\n",
       "      <td>348.563636</td>\n",
       "      <td>7443.581818</td>\n",
       "      <td>2637.269841</td>\n",
       "      <td>1157.539683</td>\n",
       "      <td>585.539683</td>\n",
       "      <td>0.442870</td>\n",
       "      <td>...</td>\n",
       "      <td>487.410256</td>\n",
       "      <td>474.410256</td>\n",
       "      <td>471.692308</td>\n",
       "      <td>483.333333</td>\n",
       "      <td>497.051282</td>\n",
       "      <td>500.666667</td>\n",
       "      <td>480.641026</td>\n",
       "      <td>511.410256</td>\n",
       "      <td>434.076923</td>\n",
       "      <td>475.435897</td>\n",
       "    </tr>\n",
       "    <tr>\n",
       "      <th>29</th>\n",
       "      <td>WAS</td>\n",
       "      <td>2008.586957</td>\n",
       "      <td>28.239130</td>\n",
       "      <td>6.461538</td>\n",
       "      <td>367.538462</td>\n",
       "      <td>8462.846154</td>\n",
       "      <td>3046.543478</td>\n",
       "      <td>1088.717391</td>\n",
       "      <td>738.500000</td>\n",
       "      <td>0.435256</td>\n",
       "      <td>...</td>\n",
       "      <td>594.312500</td>\n",
       "      <td>517.250000</td>\n",
       "      <td>584.718750</td>\n",
       "      <td>578.093750</td>\n",
       "      <td>565.218750</td>\n",
       "      <td>581.218750</td>\n",
       "      <td>558.781250</td>\n",
       "      <td>497.031250</td>\n",
       "      <td>525.562500</td>\n",
       "      <td>527.218750</td>\n",
       "    </tr>\n",
       "  </tbody>\n",
       "</table>\n",
       "<p>30 rows × 46 columns</p>\n",
       "</div>"
      ],
      "text/plain": [
       "     Tm       Season         Pk       Yrs           G            MP  \\\n",
       "0   ATL  2009.261538  29.907692  5.625000  314.803571   7577.267857   \n",
       "1   BOS  2010.184615  30.030769  5.864407  318.033898   8091.542373   \n",
       "2   BRK  2009.918367  30.714286  5.466667  292.444444   6881.377778   \n",
       "3   CHI  2007.229508  27.229508  6.568966  354.275862   8547.473684   \n",
       "4   CHO  2010.823529  25.372549  6.702128  376.021277   9200.000000   \n",
       "5   CLE  2008.440000  24.520000  7.266667  415.244444  10926.222222   \n",
       "6   DAL  2007.065217  36.869565  5.121212  234.030303   4523.242424   \n",
       "7   DEN  2007.980000  31.560000  6.069767  333.325581   8211.139535   \n",
       "8   DET  2009.472727  31.909091  6.020408  328.714286   7692.306122   \n",
       "9   GSW  2008.875000  27.979167  6.395349  368.093023   9373.372093   \n",
       "10  HOU  2007.352941  27.980392  6.909091  375.613636   9111.863636   \n",
       "11  IND  2010.413043  34.152174  6.250000  319.550000   7034.200000   \n",
       "12  LAC  2007.325581  25.627907  6.894737  381.052632   9491.368421   \n",
       "13  LAL  2008.604167  34.229167  5.837209  304.325581   6699.093023   \n",
       "14  MEM  2007.840000  27.460000  6.333333  358.044444   9112.800000   \n",
       "15  MIA  2007.675676  34.027027  5.645161  299.290323   7216.516129   \n",
       "16  MIL  2008.160714  29.946429  6.480769  339.576923   8172.403846   \n",
       "17  MIN  2009.746032  29.746032  5.634615  311.634615   7615.730769   \n",
       "18  NOP  2013.625000  30.550000  5.588235  299.764706   7329.823529   \n",
       "19  NYK  2009.000000  28.428571  5.604651  282.418605   6475.279070   \n",
       "20  OKC  2008.571429  31.100000  6.285714  362.142857   8958.982143   \n",
       "21  ORL  2009.000000  26.275862  5.519231  293.615385   6648.846154   \n",
       "22  PHI  2010.935897  32.705128  5.712121  308.484848   7651.863636   \n",
       "23  PHO  2010.117647  28.294118  6.043478  330.391304   8421.304348   \n",
       "24  POR  2008.586207  31.206897  5.500000  283.000000   6335.480000   \n",
       "25  SAC  2010.150943  27.792453  6.102041  333.979592   7976.326531   \n",
       "26  SAS  2010.053571  39.071429  6.350000  369.125000   8957.050000   \n",
       "27  TOR  2008.714286  26.595238  7.142857  419.857143  11075.342857   \n",
       "28  UTA  2008.539683  33.571429  6.472727  348.563636   7443.581818   \n",
       "29  WAS  2008.586957  28.239130  6.461538  367.538462   8462.846154   \n",
       "\n",
       "            PTS          TRB          AST       FG%  ...    TRB_rank  \\\n",
       "0   2774.107692  1146.446154   656.692308  0.436982  ...  548.536585   \n",
       "1   3318.892308  1130.384615   661.446154  0.439897  ...  531.076923   \n",
       "2   2616.551020  1224.040816   406.346939  0.450523  ...  499.781250   \n",
       "3   3303.852459  1465.967213   676.442623  0.438982  ...  490.800000   \n",
       "4   3873.156863  1410.666667   879.666667  0.463911  ...  527.722222   \n",
       "5   4487.340000  1615.640000  1076.140000  0.428556  ...  534.027778   \n",
       "6   1362.347826   611.891304   285.326087  0.425812  ...  579.217391   \n",
       "7   3196.560000  1251.020000   705.200000  0.443884  ...  469.241379   \n",
       "8   2751.981818  1297.963636   537.981818  0.429041  ...  472.971429   \n",
       "9   3877.020833  1466.062500   777.916667  0.460093  ...  447.733333   \n",
       "10  3252.058824  1431.313725   544.235294  0.441372  ...  445.257143   \n",
       "11  2653.391304  1121.652174   457.869565  0.447025  ...  465.533333   \n",
       "12  3197.279070  1891.186047   564.767442  0.447079  ...  444.769231   \n",
       "13  2416.375000  1080.333333   597.666667  0.433814  ...  480.066667   \n",
       "14  3438.140000  1394.940000   923.400000  0.425889  ...  529.129032   \n",
       "15  2837.054054   945.351351   506.189189  0.424613  ...  423.578947   \n",
       "16  3432.928571  1321.892857   770.250000  0.421885  ...  506.525000   \n",
       "17  2755.698413   954.968254   606.793651  0.441904  ...  565.125000   \n",
       "18  2888.550000  1065.775000   703.000000  0.450294  ...  516.428571   \n",
       "19  2354.591837  1113.979592   363.000000  0.437429  ...  495.392857   \n",
       "20  3368.742857  1269.528571   775.800000  0.445946  ...  427.634146   \n",
       "21  2451.344828  1248.620690   449.931034  0.435078  ...  559.684211   \n",
       "22  2884.910256  1172.384615   669.064103  0.437833  ...  479.244444   \n",
       "23  3392.000000  1398.431373   823.098039  0.440273  ...  539.787879   \n",
       "24  2400.724138  1006.810345   455.931034  0.428460  ...  526.939394   \n",
       "25  3244.339623  1320.528302   685.716981  0.442708  ...  526.810811   \n",
       "26  2878.428571  1070.428571   759.232143  0.454375  ...  337.384615   \n",
       "27  4204.619048  1949.071429   651.357143  0.468971  ...  452.428571   \n",
       "28  2637.269841  1157.539683   585.539683  0.442870  ...  487.410256   \n",
       "29  3046.543478  1088.717391   738.500000  0.435256  ...  594.312500   \n",
       "\n",
       "      AST_rank     WS_rank  WS/48_rank    BPM_rank   VORP_rank    PIE_rank  \\\n",
       "0   519.512195  537.829268  531.634146  527.658537  503.121951  505.219512   \n",
       "1   487.333333  495.666667  491.051282  477.435897  484.487179  525.000000   \n",
       "2   584.187500  523.843750  524.125000  512.750000  523.125000  520.687500   \n",
       "3   496.688889  519.088889  545.755556  572.000000  533.066667  580.777778   \n",
       "4   492.416667  503.416667  491.777778  482.555556  548.833333  461.527778   \n",
       "5   506.638889  507.166667  543.444444  535.138889  530.250000  583.194444   \n",
       "6   587.434783  582.478261  501.652174  528.478261  566.217391  523.043478   \n",
       "7   440.172414  433.482759  437.137931  441.344828  464.275862  444.793103   \n",
       "8   491.914286  470.342857  529.314286  508.714286  479.114286  506.742857   \n",
       "9   512.533333  450.300000  461.433333  513.400000  490.966667  522.466667   \n",
       "10  491.314286  450.371429  488.314286  475.885714  466.628571  489.742857   \n",
       "11  477.766667  460.933333  441.133333  463.433333  473.000000  496.866667   \n",
       "12  527.730769  508.807692  621.730769  609.730769  557.923077  615.038462   \n",
       "13  438.666667  493.166667  461.000000  421.366667  458.166667  462.933333   \n",
       "14  464.903226  492.483871  541.161290  574.387097  484.516129  554.387097   \n",
       "15  432.842105  456.789474  451.947368  453.368421  421.052632  400.578947   \n",
       "16  480.550000  507.950000  483.725000  498.175000  497.525000  474.900000   \n",
       "17  530.975000  548.650000  516.250000  483.250000  506.800000  520.275000   \n",
       "18  534.238095  510.285714  445.904762  445.285714  493.904762  472.666667   \n",
       "19  563.571429  527.607143  472.857143  493.892857  511.750000  496.928571   \n",
       "20  411.804878  422.121951  436.048780  418.878049  439.073171  429.609756   \n",
       "21  571.473684  574.526316  539.657895  524.947368  555.842105  529.184211   \n",
       "22  476.422222  487.822222  453.022222  443.022222  473.555556  421.088889   \n",
       "23  533.727273  545.090909  564.121212  566.818182  534.878788  540.151515   \n",
       "24  545.454545  544.242424  507.484848  589.424242  543.787879  518.060606   \n",
       "25  495.594595  536.837838  521.351351  499.432432  511.027027  488.135135   \n",
       "26  309.192308  321.000000  330.269231  286.307692  318.230769  282.461538   \n",
       "27  597.071429  463.750000  523.285714  521.500000  474.964286  520.428571   \n",
       "28  474.410256  471.692308  483.333333  497.051282  500.666667  480.641026   \n",
       "29  517.250000  584.718750  578.093750  565.218750  581.218750  558.781250   \n",
       "\n",
       "    OFF_RATING_rank  DEF_RATING_rank  NET_RATING_rank  \n",
       "0        516.390244       539.731707       561.317073  \n",
       "1        487.743590       431.871795       427.692308  \n",
       "2        494.531250       512.187500       497.156250  \n",
       "3        571.111111       454.133333       566.711111  \n",
       "4        534.972222       472.611111       515.611111  \n",
       "5        556.888889       452.305556       508.833333  \n",
       "6        554.869565       421.434783       495.652174  \n",
       "7        410.241379       556.206897       437.689655  \n",
       "8        529.628571       479.628571       527.485714  \n",
       "9        515.566667       475.833333       501.433333  \n",
       "10       472.028571       510.600000       463.085714  \n",
       "11       473.800000       451.600000       453.466667  \n",
       "12       622.692308       469.807692       598.807692  \n",
       "13       398.400000       544.500000       424.233333  \n",
       "14       588.645161       470.935484       538.709677  \n",
       "15       454.578947       495.105263       452.105263  \n",
       "16       507.700000       464.350000       483.925000  \n",
       "17       474.225000       536.700000       500.050000  \n",
       "18       426.190476       602.857143       481.047619  \n",
       "19       476.357143       515.571429       481.428571  \n",
       "20       436.609756       495.097561       410.829268  \n",
       "21       565.526316       494.000000       570.131579  \n",
       "22       445.022222       520.333333       450.600000  \n",
       "23       503.000000       575.757576       560.818182  \n",
       "24       530.090909       527.909091       583.333333  \n",
       "25       527.837838       582.108108       583.027027  \n",
       "26       293.269231       472.500000       317.269231  \n",
       "27       534.678571       533.250000       528.642857  \n",
       "28       511.410256       434.076923       475.435897  \n",
       "29       497.031250       525.562500       527.218750  \n",
       "\n",
       "[30 rows x 46 columns]"
      ]
     },
     "execution_count": 30,
     "metadata": {},
     "output_type": "execute_result"
    }
   ],
   "source": [
    "df_team_avg = clean_team_names(df_career_na_filled).groupby('Tm').mean(numeric_only=True)\n",
    "df_team_avg = df_team_avg.reset_index()\n",
    "\n",
    "df_team_avg"
   ]
  },
  {
   "cell_type": "code",
   "execution_count": 31,
   "metadata": {},
   "outputs": [
    {
     "data": {
      "application/vnd.jupyter.widget-view+json": {
       "model_id": "d5c487375a344acca57640b8037df081",
       "version_major": 2,
       "version_minor": 0
      },
      "text/plain": [
       "Dropdown(description='Select Stat:', index=3, options=('PTS', 'TRB', 'AST', 'WS', 'WS/48', 'BPM', 'VORP', 'PIE…"
      ]
     },
     "metadata": {},
     "output_type": "display_data"
    },
    {
     "data": {
      "application/vnd.plotly.v1+json": {
       "config": {
        "plotlyServerURL": "https://plot.ly"
       },
       "data": [
        {
         "customdata": [
          [
           "ATL",
           13.680184615384615
          ],
          [
           "BOS",
           14.793569230769231
          ],
          [
           "BRK",
           13.38942857142857
          ],
          [
           "CHI",
           16.67104918032787
          ],
          [
           "CHO",
           18.150117647058824
          ],
          [
           "CLE",
           22.72164
          ],
          [
           "DAL",
           6.259043478260869
          ],
          [
           "DEN",
           16.15824
          ],
          [
           "DET",
           13.64149090909091
          ],
          [
           "GSW",
           19.321541666666665
          ],
          [
           "HOU",
           16.248745098039215
          ],
          [
           "IND",
           12.885521739130436
          ],
          [
           "LAC",
           16.04841860465116
          ],
          [
           "LAL",
           11.837125
          ],
          [
           "MEM",
           18.31816
          ],
          [
           "MIA",
           11.479297297297297
          ],
          [
           "MIL",
           16.974214285714286
          ],
          [
           "MIN",
           12.389079365079365
          ],
          [
           "NOP",
           16.69455
          ],
          [
           "NYK",
           11.140979591836736
          ],
          [
           "OKC",
           17.05377142857143
          ],
          [
           "ORL",
           12.757034482758622
          ],
          [
           "PHI",
           13.561410256410255
          ],
          [
           "PHO",
           17.039372549019607
          ],
          [
           "POR",
           10.477724137931034
          ],
          [
           "SAC",
           14.73977358490566
          ],
          [
           "SAS",
           16.218607142857145
          ],
          [
           "TOR",
           21.953190476190475
          ],
          [
           "UTA",
           13.25457142857143
          ],
          [
           "WAS",
           12.071913043478261
          ]
         ],
         "hovertemplate": "<b>%{hovertext}</b><br><br>Pk=%{x}<br>WS_diff=%{y}<br>Tm=%{customdata[0]}<br>WS=%{customdata[1]}<extra></extra>",
         "hovertext": [
          "ATL",
          "BOS",
          "BRK",
          "CHI",
          "CHO",
          "CLE",
          "DAL",
          "DEN",
          "DET",
          "GSW",
          "HOU",
          "IND",
          "LAC",
          "LAL",
          "MEM",
          "MIA",
          "MIL",
          "MIN",
          "NOP",
          "NYK",
          "OKC",
          "ORL",
          "PHI",
          "PHO",
          "POR",
          "SAC",
          "SAS",
          "TOR",
          "UTA",
          "WAS"
         ],
         "legendgroup": "",
         "marker": {
          "color": "#636efa",
          "size": 12,
          "symbol": "circle"
         },
         "mode": "markers",
         "name": "",
         "orientation": "v",
         "showlegend": false,
         "type": "scatter",
         "x": [
          29.907692307692308,
          30.03076923076923,
          30.714285714285715,
          27.229508196721312,
          25.372549019607842,
          24.52,
          36.869565217391305,
          31.56,
          31.90909090909091,
          27.979166666666668,
          27.980392156862745,
          34.15217391304348,
          25.627906976744185,
          34.229166666666664,
          27.46,
          34.027027027027025,
          29.946428571428573,
          29.746031746031747,
          30.55,
          28.428571428571427,
          31.1,
          26.275862068965516,
          32.705128205128204,
          28.294117647058822,
          31.20689655172414,
          27.79245283018868,
          39.07142857142857,
          26.595238095238095,
          33.57142857142857,
          28.23913043478261
         ],
         "xaxis": "x",
         "y": [
          -0.609175733199263,
          0.24038893916541004,
          -0.6095967498110352,
          -0.018482392228293853,
          -0.8356412490922289,
          3.2017807407407406,
          -4.627822594013451,
          2.249940740740741,
          -0.26363708655179247,
          3.2223703703703706,
          1.0295279593318805,
          1.477455988917306,
          -1.8600292850990536,
          -0.5247360430283227,
          1.205733583877996,
          -0.2781197815462524,
          2.020099206349206,
          -3.2318636096413877,
          1.1660246187363823,
          -3.656952569916856,
          3.7968367724867726,
          -4.00011254789272,
          -0.3863099826825317,
          0.16918524926310335,
          -2.764325670498085,
          -1.6922717145558435,
          6.854731043806411,
          3.287438932980599,
          0.6127068419960578,
          -5.811813204508857
         ],
         "yaxis": "y"
        }
       ],
       "layout": {
        "legend": {
         "tracegroupgap": 0
        },
        "margin": {
         "t": 60
        },
        "template": {
         "data": {
          "bar": [
           {
            "error_x": {
             "color": "#2a3f5f"
            },
            "error_y": {
             "color": "#2a3f5f"
            },
            "marker": {
             "line": {
              "color": "#E5ECF6",
              "width": 0.5
             },
             "pattern": {
              "fillmode": "overlay",
              "size": 10,
              "solidity": 0.2
             }
            },
            "type": "bar"
           }
          ],
          "barpolar": [
           {
            "marker": {
             "line": {
              "color": "#E5ECF6",
              "width": 0.5
             },
             "pattern": {
              "fillmode": "overlay",
              "size": 10,
              "solidity": 0.2
             }
            },
            "type": "barpolar"
           }
          ],
          "carpet": [
           {
            "aaxis": {
             "endlinecolor": "#2a3f5f",
             "gridcolor": "white",
             "linecolor": "white",
             "minorgridcolor": "white",
             "startlinecolor": "#2a3f5f"
            },
            "baxis": {
             "endlinecolor": "#2a3f5f",
             "gridcolor": "white",
             "linecolor": "white",
             "minorgridcolor": "white",
             "startlinecolor": "#2a3f5f"
            },
            "type": "carpet"
           }
          ],
          "choropleth": [
           {
            "colorbar": {
             "outlinewidth": 0,
             "ticks": ""
            },
            "type": "choropleth"
           }
          ],
          "contour": [
           {
            "colorbar": {
             "outlinewidth": 0,
             "ticks": ""
            },
            "colorscale": [
             [
              0,
              "#0d0887"
             ],
             [
              0.1111111111111111,
              "#46039f"
             ],
             [
              0.2222222222222222,
              "#7201a8"
             ],
             [
              0.3333333333333333,
              "#9c179e"
             ],
             [
              0.4444444444444444,
              "#bd3786"
             ],
             [
              0.5555555555555556,
              "#d8576b"
             ],
             [
              0.6666666666666666,
              "#ed7953"
             ],
             [
              0.7777777777777778,
              "#fb9f3a"
             ],
             [
              0.8888888888888888,
              "#fdca26"
             ],
             [
              1,
              "#f0f921"
             ]
            ],
            "type": "contour"
           }
          ],
          "contourcarpet": [
           {
            "colorbar": {
             "outlinewidth": 0,
             "ticks": ""
            },
            "type": "contourcarpet"
           }
          ],
          "heatmap": [
           {
            "colorbar": {
             "outlinewidth": 0,
             "ticks": ""
            },
            "colorscale": [
             [
              0,
              "#0d0887"
             ],
             [
              0.1111111111111111,
              "#46039f"
             ],
             [
              0.2222222222222222,
              "#7201a8"
             ],
             [
              0.3333333333333333,
              "#9c179e"
             ],
             [
              0.4444444444444444,
              "#bd3786"
             ],
             [
              0.5555555555555556,
              "#d8576b"
             ],
             [
              0.6666666666666666,
              "#ed7953"
             ],
             [
              0.7777777777777778,
              "#fb9f3a"
             ],
             [
              0.8888888888888888,
              "#fdca26"
             ],
             [
              1,
              "#f0f921"
             ]
            ],
            "type": "heatmap"
           }
          ],
          "heatmapgl": [
           {
            "colorbar": {
             "outlinewidth": 0,
             "ticks": ""
            },
            "colorscale": [
             [
              0,
              "#0d0887"
             ],
             [
              0.1111111111111111,
              "#46039f"
             ],
             [
              0.2222222222222222,
              "#7201a8"
             ],
             [
              0.3333333333333333,
              "#9c179e"
             ],
             [
              0.4444444444444444,
              "#bd3786"
             ],
             [
              0.5555555555555556,
              "#d8576b"
             ],
             [
              0.6666666666666666,
              "#ed7953"
             ],
             [
              0.7777777777777778,
              "#fb9f3a"
             ],
             [
              0.8888888888888888,
              "#fdca26"
             ],
             [
              1,
              "#f0f921"
             ]
            ],
            "type": "heatmapgl"
           }
          ],
          "histogram": [
           {
            "marker": {
             "pattern": {
              "fillmode": "overlay",
              "size": 10,
              "solidity": 0.2
             }
            },
            "type": "histogram"
           }
          ],
          "histogram2d": [
           {
            "colorbar": {
             "outlinewidth": 0,
             "ticks": ""
            },
            "colorscale": [
             [
              0,
              "#0d0887"
             ],
             [
              0.1111111111111111,
              "#46039f"
             ],
             [
              0.2222222222222222,
              "#7201a8"
             ],
             [
              0.3333333333333333,
              "#9c179e"
             ],
             [
              0.4444444444444444,
              "#bd3786"
             ],
             [
              0.5555555555555556,
              "#d8576b"
             ],
             [
              0.6666666666666666,
              "#ed7953"
             ],
             [
              0.7777777777777778,
              "#fb9f3a"
             ],
             [
              0.8888888888888888,
              "#fdca26"
             ],
             [
              1,
              "#f0f921"
             ]
            ],
            "type": "histogram2d"
           }
          ],
          "histogram2dcontour": [
           {
            "colorbar": {
             "outlinewidth": 0,
             "ticks": ""
            },
            "colorscale": [
             [
              0,
              "#0d0887"
             ],
             [
              0.1111111111111111,
              "#46039f"
             ],
             [
              0.2222222222222222,
              "#7201a8"
             ],
             [
              0.3333333333333333,
              "#9c179e"
             ],
             [
              0.4444444444444444,
              "#bd3786"
             ],
             [
              0.5555555555555556,
              "#d8576b"
             ],
             [
              0.6666666666666666,
              "#ed7953"
             ],
             [
              0.7777777777777778,
              "#fb9f3a"
             ],
             [
              0.8888888888888888,
              "#fdca26"
             ],
             [
              1,
              "#f0f921"
             ]
            ],
            "type": "histogram2dcontour"
           }
          ],
          "mesh3d": [
           {
            "colorbar": {
             "outlinewidth": 0,
             "ticks": ""
            },
            "type": "mesh3d"
           }
          ],
          "parcoords": [
           {
            "line": {
             "colorbar": {
              "outlinewidth": 0,
              "ticks": ""
             }
            },
            "type": "parcoords"
           }
          ],
          "pie": [
           {
            "automargin": true,
            "type": "pie"
           }
          ],
          "scatter": [
           {
            "fillpattern": {
             "fillmode": "overlay",
             "size": 10,
             "solidity": 0.2
            },
            "type": "scatter"
           }
          ],
          "scatter3d": [
           {
            "line": {
             "colorbar": {
              "outlinewidth": 0,
              "ticks": ""
             }
            },
            "marker": {
             "colorbar": {
              "outlinewidth": 0,
              "ticks": ""
             }
            },
            "type": "scatter3d"
           }
          ],
          "scattercarpet": [
           {
            "marker": {
             "colorbar": {
              "outlinewidth": 0,
              "ticks": ""
             }
            },
            "type": "scattercarpet"
           }
          ],
          "scattergeo": [
           {
            "marker": {
             "colorbar": {
              "outlinewidth": 0,
              "ticks": ""
             }
            },
            "type": "scattergeo"
           }
          ],
          "scattergl": [
           {
            "marker": {
             "colorbar": {
              "outlinewidth": 0,
              "ticks": ""
             }
            },
            "type": "scattergl"
           }
          ],
          "scattermapbox": [
           {
            "marker": {
             "colorbar": {
              "outlinewidth": 0,
              "ticks": ""
             }
            },
            "type": "scattermapbox"
           }
          ],
          "scatterpolar": [
           {
            "marker": {
             "colorbar": {
              "outlinewidth": 0,
              "ticks": ""
             }
            },
            "type": "scatterpolar"
           }
          ],
          "scatterpolargl": [
           {
            "marker": {
             "colorbar": {
              "outlinewidth": 0,
              "ticks": ""
             }
            },
            "type": "scatterpolargl"
           }
          ],
          "scatterternary": [
           {
            "marker": {
             "colorbar": {
              "outlinewidth": 0,
              "ticks": ""
             }
            },
            "type": "scatterternary"
           }
          ],
          "surface": [
           {
            "colorbar": {
             "outlinewidth": 0,
             "ticks": ""
            },
            "colorscale": [
             [
              0,
              "#0d0887"
             ],
             [
              0.1111111111111111,
              "#46039f"
             ],
             [
              0.2222222222222222,
              "#7201a8"
             ],
             [
              0.3333333333333333,
              "#9c179e"
             ],
             [
              0.4444444444444444,
              "#bd3786"
             ],
             [
              0.5555555555555556,
              "#d8576b"
             ],
             [
              0.6666666666666666,
              "#ed7953"
             ],
             [
              0.7777777777777778,
              "#fb9f3a"
             ],
             [
              0.8888888888888888,
              "#fdca26"
             ],
             [
              1,
              "#f0f921"
             ]
            ],
            "type": "surface"
           }
          ],
          "table": [
           {
            "cells": {
             "fill": {
              "color": "#EBF0F8"
             },
             "line": {
              "color": "white"
             }
            },
            "header": {
             "fill": {
              "color": "#C8D4E3"
             },
             "line": {
              "color": "white"
             }
            },
            "type": "table"
           }
          ]
         },
         "layout": {
          "annotationdefaults": {
           "arrowcolor": "#2a3f5f",
           "arrowhead": 0,
           "arrowwidth": 1
          },
          "autotypenumbers": "strict",
          "coloraxis": {
           "colorbar": {
            "outlinewidth": 0,
            "ticks": ""
           }
          },
          "colorscale": {
           "diverging": [
            [
             0,
             "#8e0152"
            ],
            [
             0.1,
             "#c51b7d"
            ],
            [
             0.2,
             "#de77ae"
            ],
            [
             0.3,
             "#f1b6da"
            ],
            [
             0.4,
             "#fde0ef"
            ],
            [
             0.5,
             "#f7f7f7"
            ],
            [
             0.6,
             "#e6f5d0"
            ],
            [
             0.7,
             "#b8e186"
            ],
            [
             0.8,
             "#7fbc41"
            ],
            [
             0.9,
             "#4d9221"
            ],
            [
             1,
             "#276419"
            ]
           ],
           "sequential": [
            [
             0,
             "#0d0887"
            ],
            [
             0.1111111111111111,
             "#46039f"
            ],
            [
             0.2222222222222222,
             "#7201a8"
            ],
            [
             0.3333333333333333,
             "#9c179e"
            ],
            [
             0.4444444444444444,
             "#bd3786"
            ],
            [
             0.5555555555555556,
             "#d8576b"
            ],
            [
             0.6666666666666666,
             "#ed7953"
            ],
            [
             0.7777777777777778,
             "#fb9f3a"
            ],
            [
             0.8888888888888888,
             "#fdca26"
            ],
            [
             1,
             "#f0f921"
            ]
           ],
           "sequentialminus": [
            [
             0,
             "#0d0887"
            ],
            [
             0.1111111111111111,
             "#46039f"
            ],
            [
             0.2222222222222222,
             "#7201a8"
            ],
            [
             0.3333333333333333,
             "#9c179e"
            ],
            [
             0.4444444444444444,
             "#bd3786"
            ],
            [
             0.5555555555555556,
             "#d8576b"
            ],
            [
             0.6666666666666666,
             "#ed7953"
            ],
            [
             0.7777777777777778,
             "#fb9f3a"
            ],
            [
             0.8888888888888888,
             "#fdca26"
            ],
            [
             1,
             "#f0f921"
            ]
           ]
          },
          "colorway": [
           "#636efa",
           "#EF553B",
           "#00cc96",
           "#ab63fa",
           "#FFA15A",
           "#19d3f3",
           "#FF6692",
           "#B6E880",
           "#FF97FF",
           "#FECB52"
          ],
          "font": {
           "color": "#2a3f5f"
          },
          "geo": {
           "bgcolor": "white",
           "lakecolor": "white",
           "landcolor": "#E5ECF6",
           "showlakes": true,
           "showland": true,
           "subunitcolor": "white"
          },
          "hoverlabel": {
           "align": "left"
          },
          "hovermode": "closest",
          "mapbox": {
           "style": "light"
          },
          "paper_bgcolor": "white",
          "plot_bgcolor": "#E5ECF6",
          "polar": {
           "angularaxis": {
            "gridcolor": "white",
            "linecolor": "white",
            "ticks": ""
           },
           "bgcolor": "#E5ECF6",
           "radialaxis": {
            "gridcolor": "white",
            "linecolor": "white",
            "ticks": ""
           }
          },
          "scene": {
           "xaxis": {
            "backgroundcolor": "#E5ECF6",
            "gridcolor": "white",
            "gridwidth": 2,
            "linecolor": "white",
            "showbackground": true,
            "ticks": "",
            "zerolinecolor": "white"
           },
           "yaxis": {
            "backgroundcolor": "#E5ECF6",
            "gridcolor": "white",
            "gridwidth": 2,
            "linecolor": "white",
            "showbackground": true,
            "ticks": "",
            "zerolinecolor": "white"
           },
           "zaxis": {
            "backgroundcolor": "#E5ECF6",
            "gridcolor": "white",
            "gridwidth": 2,
            "linecolor": "white",
            "showbackground": true,
            "ticks": "",
            "zerolinecolor": "white"
           }
          },
          "shapedefaults": {
           "line": {
            "color": "#2a3f5f"
           }
          },
          "ternary": {
           "aaxis": {
            "gridcolor": "white",
            "linecolor": "white",
            "ticks": ""
           },
           "baxis": {
            "gridcolor": "white",
            "linecolor": "white",
            "ticks": ""
           },
           "bgcolor": "#E5ECF6",
           "caxis": {
            "gridcolor": "white",
            "linecolor": "white",
            "ticks": ""
           }
          },
          "title": {
           "x": 0.05
          },
          "xaxis": {
           "automargin": true,
           "gridcolor": "white",
           "linecolor": "white",
           "ticks": "",
           "title": {
            "standoff": 15
           },
           "zerolinecolor": "white",
           "zerolinewidth": 2
          },
          "yaxis": {
           "automargin": true,
           "gridcolor": "white",
           "linecolor": "white",
           "ticks": "",
           "title": {
            "standoff": 15
           },
           "zerolinecolor": "white",
           "zerolinewidth": 2
          }
         }
        },
        "title": {
         "text": "WS Difference vs Average Draft Position for Teams"
        },
        "xaxis": {
         "anchor": "y",
         "domain": [
          0,
          1
         ],
         "title": {
          "text": "Average Draft Position"
         }
        },
        "yaxis": {
         "anchor": "x",
         "domain": [
          0,
          1
         ],
         "title": {
          "text": "WS Difference"
         }
        }
       }
      }
     },
     "metadata": {},
     "output_type": "display_data"
    }
   ],
   "source": [
    "# create a scatter plot with the difference of the selected stat for each team. The y axis should be the selected stat and the x axis should be the average Pk\n",
    "def teams_vs_avg_pick_scatter(selected_stat):\n",
    "    fig = px.scatter(df_team_avg, x='Pk', y=f'{selected_stat}_diff', hover_name='Tm',\n",
    "                     hover_data={'Tm': True, selected_stat: True, f'{selected_stat}_diff': True, 'Pk': True})\n",
    "    fig.update_traces(marker=dict(size=12), showlegend=False)\n",
    "    fig.update_layout(title=f'{selected_stat} Difference vs Average Draft Position for Teams',\n",
    "                      xaxis_title='Average Draft Position', yaxis_title=f'{selected_stat} Difference')\n",
    "    fig.show()\n",
    "\n",
    "# create a dropdown widget with all relevant stats\n",
    "stat_dropdown_avg_position_scatter = widgets.Dropdown(\n",
    "    options=relevant_stats,\n",
    "    description='Select Stat:',\n",
    "    disabled=False,\n",
    ")\n",
    "\n",
    "# Define the output area to display the scatter plot\n",
    "output_avg_position_scatter = widgets.Output()\n",
    "\n",
    "# Observe changes in the value of the dropdown and call the function\n",
    "def on_value_change_avg_position_scatter(change):\n",
    "    clear_output()\n",
    "    output_avg_position_scatter.clear_output()\n",
    "    selected_stat = stat_dropdown_avg_position_scatter.value\n",
    "\n",
    "    display(stat_dropdown_avg_position_scatter)\n",
    "    with output_avg_position_scatter:\n",
    "        teams_vs_avg_pick_scatter(selected_stat)\n",
    "\n",
    "stat_dropdown_avg_position_scatter.observe(on_value_change_avg_position_scatter, names='value')\n",
    "\n",
    "# Display the dropdown and the output area\n",
    "display(stat_dropdown_avg_position_scatter)\n",
    "display(output_avg_position_scatter)"
   ]
  },
  {
   "cell_type": "code",
   "execution_count": 33,
   "metadata": {},
   "outputs": [
    {
     "name": "stdout",
     "output_type": "stream",
     "text": [
      "Best team by PTS: SAS\n",
      "Best team by TRB: TOR\n",
      "Best team by AST: SAS\n",
      "Best team by WS: SAS\n",
      "Best team by WS/48: IND\n",
      "Best team by BPM: IND\n",
      "Best team by VORP: SAS\n",
      "Best team by PIE: IND\n",
      "Best team by OFF_RATING: IND\n",
      "Best team by DEF_RATING: NOP\n",
      "Best team by NET_RATING: MIL\n"
     ]
    }
   ],
   "source": [
    "# for each stat, print the team with the highest average difference for that stat\n",
    "for stat in relevant_stats:\n",
    "    print(f'Best team by {stat}: {df_team_avg[df_team_avg[f\"{stat}_diff\"] == df_team_avg[f\"{stat}_diff\"].max()][[\"Tm\", f\"{stat}_diff\"]].values[0][0]}')"
   ]
  },
  {
   "cell_type": "markdown",
   "metadata": {},
   "source": [
    "# Aggregated Team Analysis"
   ]
  },
  {
   "cell_type": "code",
   "execution_count": 34,
   "metadata": {},
   "outputs": [
    {
     "data": {
      "application/vnd.jupyter.widget-view+json": {
       "model_id": "3fe6a504530c40f8b5b106e337a30c8b",
       "version_major": 2,
       "version_minor": 0
      },
      "text/plain": [
       "FloatSlider(value=1.0, continuous_update=False, description='PTS Weight:', max=1.0)"
      ]
     },
     "metadata": {},
     "output_type": "display_data"
    },
    {
     "data": {
      "application/vnd.jupyter.widget-view+json": {
       "model_id": "b078668cafa54ddfa7d79d0fb2f8a71b",
       "version_major": 2,
       "version_minor": 0
      },
      "text/plain": [
       "FloatSlider(value=1.0, continuous_update=False, description='TRB Weight:', max=1.0)"
      ]
     },
     "metadata": {},
     "output_type": "display_data"
    },
    {
     "data": {
      "application/vnd.jupyter.widget-view+json": {
       "model_id": "329e1d8996764e77926249195b3aacd5",
       "version_major": 2,
       "version_minor": 0
      },
      "text/plain": [
       "FloatSlider(value=1.0, continuous_update=False, description='AST Weight:', max=1.0)"
      ]
     },
     "metadata": {},
     "output_type": "display_data"
    },
    {
     "data": {
      "application/vnd.jupyter.widget-view+json": {
       "model_id": "ccb672edecd34d269d7ba95b5d1960f9",
       "version_major": 2,
       "version_minor": 0
      },
      "text/plain": [
       "FloatSlider(value=1.0, continuous_update=False, description='WS Weight:', max=1.0)"
      ]
     },
     "metadata": {},
     "output_type": "display_data"
    },
    {
     "data": {
      "application/vnd.jupyter.widget-view+json": {
       "model_id": "4523d10238364ad4a0b353c25a5842bd",
       "version_major": 2,
       "version_minor": 0
      },
      "text/plain": [
       "FloatSlider(value=1.0, continuous_update=False, description='WS/48 Weight:', max=1.0)"
      ]
     },
     "metadata": {},
     "output_type": "display_data"
    },
    {
     "data": {
      "application/vnd.jupyter.widget-view+json": {
       "model_id": "2bece9d1832a4aa3b47c3e9ad1603246",
       "version_major": 2,
       "version_minor": 0
      },
      "text/plain": [
       "FloatSlider(value=1.0, continuous_update=False, description='BPM Weight:', max=1.0)"
      ]
     },
     "metadata": {},
     "output_type": "display_data"
    },
    {
     "data": {
      "application/vnd.jupyter.widget-view+json": {
       "model_id": "ac2a68ba31074da9967434d938f0a439",
       "version_major": 2,
       "version_minor": 0
      },
      "text/plain": [
       "FloatSlider(value=1.0, continuous_update=False, description='VORP Weight:', max=1.0)"
      ]
     },
     "metadata": {},
     "output_type": "display_data"
    },
    {
     "data": {
      "application/vnd.jupyter.widget-view+json": {
       "model_id": "114c3d900c73429ebef39b1d45a3fdda",
       "version_major": 2,
       "version_minor": 0
      },
      "text/plain": [
       "FloatSlider(value=1.0, continuous_update=False, description='PIE Weight:', max=1.0)"
      ]
     },
     "metadata": {},
     "output_type": "display_data"
    },
    {
     "data": {
      "application/vnd.jupyter.widget-view+json": {
       "model_id": "21b843c19c3047d78c916c3b9c9f8356",
       "version_major": 2,
       "version_minor": 0
      },
      "text/plain": [
       "FloatSlider(value=1.0, continuous_update=False, description='OFF_RATING Weight:', max=1.0)"
      ]
     },
     "metadata": {},
     "output_type": "display_data"
    },
    {
     "data": {
      "application/vnd.jupyter.widget-view+json": {
       "model_id": "0e1d4007329a4749bb8a2267be15dd7f",
       "version_major": 2,
       "version_minor": 0
      },
      "text/plain": [
       "FloatSlider(value=1.0, continuous_update=False, description='DEF_RATING Weight:', max=1.0)"
      ]
     },
     "metadata": {},
     "output_type": "display_data"
    },
    {
     "data": {
      "application/vnd.jupyter.widget-view+json": {
       "model_id": "f7c64cf5c5154d76a7cbea9d9f484017",
       "version_major": 2,
       "version_minor": 0
      },
      "text/plain": [
       "FloatSlider(value=1.0, continuous_update=False, description='NET_RATING Weight:', max=1.0)"
      ]
     },
     "metadata": {},
     "output_type": "display_data"
    }
   ],
   "source": [
    "# create a dict to assign a weight to each stat\n",
    "stat_weights = {'PTS': 1, 'TRB': 1, 'AST': 1, 'WS': 1, 'WS/48': 1, 'BPM': 1, 'VORP': 1, 'PIE': 1, 'OFF_RATING': 1, 'DEF_RATING': 1, 'NET_RATING': 1}\n",
    "\n",
    "# for each stat, create a slider widget to select the weight\n",
    "stat_weight_sliders = {}\n",
    "for stat in stat_weights:\n",
    "    stat_weight_sliders[stat] = widgets.FloatSlider(\n",
    "        value=1,\n",
    "        min=0,\n",
    "        max=1.0,\n",
    "        step=0.1,\n",
    "        description=f'{stat} Weight:',\n",
    "        disabled=False,\n",
    "        continuous_update=False,\n",
    "        orientation='horizontal',\n",
    "        readout=True,\n",
    "        readout_format='.2f',\n",
    "    )\n",
    "\n",
    "# set the weight for each stat\n",
    "def set_stat_weight(stat_weight_slider):\n",
    "    # get value from slider\n",
    "    stat_weights[stat_weight_slider['owner'].description.split()[0]] = stat_weight_slider['new']\n",
    "\n",
    "# observe the slider widget to get the weight for each stat\n",
    "for stat in stat_weight_sliders:\n",
    "    stat_weight_sliders[stat].observe(set_stat_weight, names='value')\n",
    "\n",
    "# display the slider widget\n",
    "for stat in stat_weight_sliders:\n",
    "    display(stat_weight_sliders[stat])"
   ]
  },
  {
   "cell_type": "code",
   "execution_count": 41,
   "metadata": {},
   "outputs": [
    {
     "data": {
      "text/html": [
       "<div>\n",
       "<style scoped>\n",
       "    .dataframe tbody tr th:only-of-type {\n",
       "        vertical-align: middle;\n",
       "    }\n",
       "\n",
       "    .dataframe tbody tr th {\n",
       "        vertical-align: top;\n",
       "    }\n",
       "\n",
       "    .dataframe thead th {\n",
       "        text-align: right;\n",
       "    }\n",
       "</style>\n",
       "<table border=\"1\" class=\"dataframe\">\n",
       "  <thead>\n",
       "    <tr style=\"text-align: right;\">\n",
       "      <th></th>\n",
       "      <th>Tm</th>\n",
       "      <th>weighted_avg_rank</th>\n",
       "    </tr>\n",
       "    <tr>\n",
       "      <th>Rank</th>\n",
       "      <th></th>\n",
       "      <th></th>\n",
       "    </tr>\n",
       "  </thead>\n",
       "  <tbody>\n",
       "    <tr>\n",
       "      <th>1</th>\n",
       "      <td>MIL</td>\n",
       "      <td>5.909091</td>\n",
       "    </tr>\n",
       "    <tr>\n",
       "      <th>2</th>\n",
       "      <td>IND</td>\n",
       "      <td>6.636364</td>\n",
       "    </tr>\n",
       "    <tr>\n",
       "      <th>3</th>\n",
       "      <td>GSW</td>\n",
       "      <td>7.272727</td>\n",
       "    </tr>\n",
       "    <tr>\n",
       "      <th>4</th>\n",
       "      <td>DEN</td>\n",
       "      <td>7.818182</td>\n",
       "    </tr>\n",
       "    <tr>\n",
       "      <th>5</th>\n",
       "      <td>SAS</td>\n",
       "      <td>8.454545</td>\n",
       "    </tr>\n",
       "    <tr>\n",
       "      <th>6</th>\n",
       "      <td>TOR</td>\n",
       "      <td>9.363636</td>\n",
       "    </tr>\n",
       "    <tr>\n",
       "      <th>7</th>\n",
       "      <td>DET</td>\n",
       "      <td>9.818182</td>\n",
       "    </tr>\n",
       "    <tr>\n",
       "      <th>8</th>\n",
       "      <td>UTA</td>\n",
       "      <td>11.272727</td>\n",
       "    </tr>\n",
       "    <tr>\n",
       "      <th>9</th>\n",
       "      <td>LAL</td>\n",
       "      <td>11.545455</td>\n",
       "    </tr>\n",
       "    <tr>\n",
       "      <th>10</th>\n",
       "      <td>BOS</td>\n",
       "      <td>11.909091</td>\n",
       "    </tr>\n",
       "    <tr>\n",
       "      <th>11</th>\n",
       "      <td>CLE</td>\n",
       "      <td>11.909091</td>\n",
       "    </tr>\n",
       "    <tr>\n",
       "      <th>12</th>\n",
       "      <td>PHI</td>\n",
       "      <td>12.454545</td>\n",
       "    </tr>\n",
       "    <tr>\n",
       "      <th>13</th>\n",
       "      <td>OKC</td>\n",
       "      <td>12.727273</td>\n",
       "    </tr>\n",
       "    <tr>\n",
       "      <th>14</th>\n",
       "      <td>MEM</td>\n",
       "      <td>13.454545</td>\n",
       "    </tr>\n",
       "    <tr>\n",
       "      <th>15</th>\n",
       "      <td>CHO</td>\n",
       "      <td>14.636364</td>\n",
       "    </tr>\n",
       "    <tr>\n",
       "      <th>16</th>\n",
       "      <td>SAC</td>\n",
       "      <td>15.909091</td>\n",
       "    </tr>\n",
       "    <tr>\n",
       "      <th>17</th>\n",
       "      <td>CHI</td>\n",
       "      <td>16.000000</td>\n",
       "    </tr>\n",
       "    <tr>\n",
       "      <th>18</th>\n",
       "      <td>NOP</td>\n",
       "      <td>16.363636</td>\n",
       "    </tr>\n",
       "    <tr>\n",
       "      <th>19</th>\n",
       "      <td>PHO</td>\n",
       "      <td>16.909091</td>\n",
       "    </tr>\n",
       "    <tr>\n",
       "      <th>20</th>\n",
       "      <td>ATL</td>\n",
       "      <td>18.272727</td>\n",
       "    </tr>\n",
       "    <tr>\n",
       "      <th>21</th>\n",
       "      <td>MIA</td>\n",
       "      <td>18.636364</td>\n",
       "    </tr>\n",
       "    <tr>\n",
       "      <th>22</th>\n",
       "      <td>HOU</td>\n",
       "      <td>19.090909</td>\n",
       "    </tr>\n",
       "    <tr>\n",
       "      <th>23</th>\n",
       "      <td>BRK</td>\n",
       "      <td>19.636364</td>\n",
       "    </tr>\n",
       "    <tr>\n",
       "      <th>24</th>\n",
       "      <td>LAC</td>\n",
       "      <td>21.181818</td>\n",
       "    </tr>\n",
       "    <tr>\n",
       "      <th>25</th>\n",
       "      <td>MIN</td>\n",
       "      <td>21.454545</td>\n",
       "    </tr>\n",
       "    <tr>\n",
       "      <th>26</th>\n",
       "      <td>ORL</td>\n",
       "      <td>23.000000</td>\n",
       "    </tr>\n",
       "    <tr>\n",
       "      <th>27</th>\n",
       "      <td>POR</td>\n",
       "      <td>23.909091</td>\n",
       "    </tr>\n",
       "    <tr>\n",
       "      <th>28</th>\n",
       "      <td>WAS</td>\n",
       "      <td>25.545455</td>\n",
       "    </tr>\n",
       "    <tr>\n",
       "      <th>29</th>\n",
       "      <td>DAL</td>\n",
       "      <td>26.909091</td>\n",
       "    </tr>\n",
       "    <tr>\n",
       "      <th>30</th>\n",
       "      <td>NYK</td>\n",
       "      <td>27.000000</td>\n",
       "    </tr>\n",
       "  </tbody>\n",
       "</table>\n",
       "</div>"
      ],
      "text/plain": [
       "       Tm  weighted_avg_rank\n",
       "Rank                        \n",
       "1     MIL           5.909091\n",
       "2     IND           6.636364\n",
       "3     GSW           7.272727\n",
       "4     DEN           7.818182\n",
       "5     SAS           8.454545\n",
       "6     TOR           9.363636\n",
       "7     DET           9.818182\n",
       "8     UTA          11.272727\n",
       "9     LAL          11.545455\n",
       "10    BOS          11.909091\n",
       "11    CLE          11.909091\n",
       "12    PHI          12.454545\n",
       "13    OKC          12.727273\n",
       "14    MEM          13.454545\n",
       "15    CHO          14.636364\n",
       "16    SAC          15.909091\n",
       "17    CHI          16.000000\n",
       "18    NOP          16.363636\n",
       "19    PHO          16.909091\n",
       "20    ATL          18.272727\n",
       "21    MIA          18.636364\n",
       "22    HOU          19.090909\n",
       "23    BRK          19.636364\n",
       "24    LAC          21.181818\n",
       "25    MIN          21.454545\n",
       "26    ORL          23.000000\n",
       "27    POR          23.909091\n",
       "28    WAS          25.545455\n",
       "29    DAL          26.909091\n",
       "30    NYK          27.000000"
      ]
     },
     "execution_count": 41,
     "metadata": {},
     "output_type": "execute_result"
    }
   ],
   "source": [
    "# calculate the team rank for each stat from the df_team_avg dataframe\n",
    "for stat in relevant_stats:\n",
    "    if stat == 'DEF_RATING': # lower DEF_RATING is better\n",
    "        df_team_avg[stat + '_rank'] = df_team_avg[stat + '_diff'].rank(ascending=True, method='min')\n",
    "    else:\n",
    "        df_team_avg[stat + '_rank'] = df_team_avg[stat + '_diff'].rank(ascending=False, method='min')\n",
    "\n",
    "# calculate the average rank for each team by weighting each stat rank with the respective weight\n",
    "df_team_avg['weighted_avg_rank'] = 0\n",
    "for stat in relevant_stats:\n",
    "    df_team_avg['weighted_avg_rank'] += df_team_avg[stat + '_rank'] * stat_weights[stat]\n",
    "\n",
    "df_team_avg['weighted_avg_rank'] /= len(relevant_stats)\n",
    "\n",
    "# sort the df_team_avg dataframe by the weighted average rank\n",
    "df_team_avg = df_team_avg.sort_values('weighted_avg_rank', ascending=True)\n",
    "# reset the index\n",
    "df_team_avg = df_team_avg.reset_index(drop=True)\n",
    "# add 1 to every index\n",
    "df_team_avg.index += 1\n",
    "# rename the index column to 'Rank'\n",
    "df_team_avg.index.names = ['Rank']\n",
    "\n",
    "# print the df_team_avg dataframe 'Tm' and 'weighted_avg_rank' columns\n",
    "df_team_avg[['Tm', 'weighted_avg_rank']]"
   ]
  },
  {
   "cell_type": "markdown",
   "metadata": {},
   "source": [
    "# conclusions"
   ]
  }
 ],
 "metadata": {
  "kernelspec": {
   "display_name": ".nbavenv",
   "language": "python",
   "name": "python3"
  },
  "language_info": {
   "codemirror_mode": {
    "name": "ipython",
    "version": 3
   },
   "file_extension": ".py",
   "mimetype": "text/x-python",
   "name": "python",
   "nbconvert_exporter": "python",
   "pygments_lexer": "ipython3",
   "version": "3.8.0"
  },
  "orig_nbformat": 4
 },
 "nbformat": 4,
 "nbformat_minor": 2
}
