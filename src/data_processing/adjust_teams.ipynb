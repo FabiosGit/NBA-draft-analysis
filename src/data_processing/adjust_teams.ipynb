{
 "cells": [
  {
   "cell_type": "markdown",
   "metadata": {},
   "source": [
    "### **Draft Day Trade Adjustments**\n",
    "\n",
    "Often players and/or picks are traded during an NBA draft. Due to NBA regulations, trades on draft day for picks are typically only officially processed after the draft. Because of this, there may be situations in which team A wants to trade for a pick of team B. Instead of processing this trade immediately, team A tells team B which player to select with the pick in question and that player is then offically traded to team A after the draft. However, in official statistics, that player was selected by team B. An example for such a case would be Kobe Bryant who was offically selected by the Charlotte Hornets but the pick was made on behalf of the Los Angeles Lakers.\n",
    "\n",
    "Since our analysis should not attribute such a player selection to team B, we replace the team in the basketball-reference draft data by the team the player played for during their first season according to the NBA stats API. Thanks to this, players are actually attributed to the team that decided to select them (in the case of Kobe Bryant, the Los Angeles Lakers instead of the Charlotte Hornets)."
   ]
  },
  {
   "cell_type": "code",
   "execution_count": 1,
   "metadata": {},
   "outputs": [],
   "source": [
    "import pandas as pd"
   ]
  },
  {
   "cell_type": "code",
   "execution_count": 9,
   "metadata": {},
   "outputs": [],
   "source": [
    "# load nba_draft_data_combined.csv to df\n",
    "df = pd.read_csv('../../data/interim/nba_draft_data_combined.csv', header=[0,1], index_col=0)\n",
    "\n",
    "# create a list of valid teams by getting all unique values from the ['Career', 'Tm'] column\n",
    "valid_teams = df['Career', 'Tm'].unique()\n",
    "\n",
    "# for each player, find the first 'TEAM_ABBREVIATION' column that is not null\n",
    "# and set that value to the ['Career', 'Tm'] column\n",
    "for i in range(len(df)):\n",
    "    for j in range(len(df.columns)):\n",
    "        if df.columns[j][1] == 'TEAM_ABBREVIATION':\n",
    "            if df.iloc[i, j] in valid_teams:\n",
    "                df.iloc[i, df.columns.get_loc(('Career', 'Tm'))] = df.iloc[i, j]\n",
    "                break\n"
   ]
  },
  {
   "cell_type": "code",
   "execution_count": 8,
   "metadata": {},
   "outputs": [],
   "source": [
    "# save the dataframe to nba_draft_data_combined_teams_cleaned.csv\n",
    "df.to_csv('../../data/interim/nba_draft_data_combined_teams_cleaned.csv')"
   ]
  }
 ],
 "metadata": {
  "kernelspec": {
   "display_name": ".nbavenv",
   "language": "python",
   "name": "python3"
  },
  "language_info": {
   "codemirror_mode": {
    "name": "ipython",
    "version": 3
   },
   "file_extension": ".py",
   "mimetype": "text/x-python",
   "name": "python",
   "nbconvert_exporter": "python",
   "pygments_lexer": "ipython3",
   "version": "3.8.0"
  }
 },
 "nbformat": 4,
 "nbformat_minor": 2
}
